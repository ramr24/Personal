{
 "cells": [
  {
   "cell_type": "code",
   "execution_count": 1,
   "metadata": {},
   "outputs": [],
   "source": [
    "\"\"\"\n",
    "silly little test module that is designed to trigger Exceptions when\n",
    "run from the except_exercise.py file\n",
    "\"\"\"\n",
    "\n",
    "import time\n",
    "\n",
    "conclude = \"And what leads you to that conclusion?\"\n",
    "district = \"Finest in the district, sir.\"\n",
    "cheese = \"It's certainly uncontaminated by cheese.\"\n",
    "clean = \"Well, it's so clean.\"\n",
    "shop = \"Not much of a cheese shop really, is it?\"\n",
    "cust = \"Customer: \"\n",
    "clerk = \"Shopkeeper: \"\n",
    "\n",
    "\n",
    "def fun(reaper):\n",
    "    if reaper == 'spam':\n",
    "        print(s)\n",
    "    elif reaper == 'cheese':\n",
    "        print()\n",
    "        print('Spam, Spam, Spam, Spam, Beautiful Spam')\n",
    "    elif reaper == 'mr death':\n",
    "        print()\n",
    "        return('{}{}\\n{}{}'.format(cust, shop, clerk, district))\n",
    "\n",
    "\n",
    "def more_fun(language):\n",
    "    if language == 'java':\n",
    "        test = [1, 2, 3]\n",
    "        test[5] = language\n",
    "    elif language == 'c':\n",
    "        print('{}{}\\n{}{}'.format(cust, conclude, clerk, clean))\n",
    "\n",
    "\n",
    "def last_fun():\n",
    "    print(cust, cheese)\n",
    "    time.sleep(1)\n",
    "    import antigravity"
   ]
  },
  {
   "cell_type": "code",
   "execution_count": 2,
   "metadata": {},
   "outputs": [
    {
     "ename": "ModuleNotFoundError",
     "evalue": "No module named 'except_test'",
     "output_type": "error",
     "traceback": [
      "\u001b[1;31m---------------------------------------------------------------------------\u001b[0m",
      "\u001b[1;31mModuleNotFoundError\u001b[0m                       Traceback (most recent call last)",
      "\u001b[1;32m<ipython-input-2-9818462576fa>\u001b[0m in \u001b[0;36m<module>\u001b[1;34m()\u001b[0m\n\u001b[0;32m      8\u001b[0m \"\"\"\n\u001b[0;32m      9\u001b[0m \u001b[1;33m\u001b[0m\u001b[0m\n\u001b[1;32m---> 10\u001b[1;33m \u001b[1;32mfrom\u001b[0m \u001b[0mexcept_test\u001b[0m \u001b[1;32mimport\u001b[0m \u001b[0mfun\u001b[0m\u001b[1;33m,\u001b[0m \u001b[0mmore_fun\u001b[0m\u001b[1;33m,\u001b[0m \u001b[0mlast_fun\u001b[0m\u001b[1;33m\u001b[0m\u001b[0m\n\u001b[0m\u001b[0;32m     11\u001b[0m \u001b[1;33m\u001b[0m\u001b[0m\n\u001b[0;32m     12\u001b[0m \u001b[1;33m\u001b[0m\u001b[0m\n",
      "\u001b[1;31mModuleNotFoundError\u001b[0m: No module named 'except_test'"
     ]
    }
   ],
   "source": [
    "#!/usr/bin/python\n",
    "\n",
    "\"\"\"\n",
    "An exercise in playing with Exceptions.\n",
    "Make lots of try/except blocks for fun and profit.\n",
    "\n",
    "Make sure to catch specifically the error you find, rather than all errors.\n",
    "\"\"\"\n",
    "\n",
    "from except_test import fun, more_fun, last_fun\n",
    "\n",
    "\n",
    "# Figure out what the exception is, catch it and while still\n",
    "# in that catch block, try again with the second item in the list\n",
    "first_try = ['spam', 'cheese', 'mr death']\n",
    "\n",
    "joke = fun(first_try[0])\n",
    "\n",
    "# Here is a try/except block. Add an else that prints not_joke\n",
    "try:\n",
    "    not_joke = fun(first_try[2])\n",
    "except SyntaxError:\n",
    "    print('Run Away!')\n",
    "\n",
    "# What did that do? You can think of else in this context, as well as in\n",
    "# loops as meaning: \"else if nothing went wrong\"\n",
    "# (no breaks in  loops, no exceptions in try blocks)\n",
    "\n",
    "# Figure out what the exception is, catch it and in that same block\n",
    "#\n",
    "# try calling the more_fun function with the 2nd language in the list,\n",
    "# again assigning it to more_joke.\n",
    "#\n",
    "# If there are no exceptions, call the more_fun function with the last\n",
    "# language in the list\n",
    "\n",
    "# Finally, while still in the try/except block and regardless of whether\n",
    "# there were any exceptions, call the function last_fun with no\n",
    "# parameters. (pun intended)\n",
    "\n",
    "langs = ['java', 'c', 'python']\n",
    "\n",
    "more_joke = more_fun(langs[0])\n"
   ]
  },
  {
   "cell_type": "code",
   "execution_count": null,
   "metadata": {},
   "outputs": [],
   "source": []
  }
 ],
 "metadata": {
  "kernelspec": {
   "display_name": "Python 3",
   "language": "python",
   "name": "python3"
  },
  "language_info": {
   "codemirror_mode": {
    "name": "ipython",
    "version": 3
   },
   "file_extension": ".py",
   "mimetype": "text/x-python",
   "name": "python",
   "nbconvert_exporter": "python",
   "pygments_lexer": "ipython3",
   "version": "3.6.5"
  }
 },
 "nbformat": 4,
 "nbformat_minor": 2
}
