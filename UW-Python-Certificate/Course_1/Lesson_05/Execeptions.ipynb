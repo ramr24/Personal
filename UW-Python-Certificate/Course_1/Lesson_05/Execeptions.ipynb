{
 "cells": [
  {
   "cell_type": "markdown",
   "metadata": {},
   "source": [
    "### Solution"
   ]
  },
  {
   "cell_type": "code",
   "execution_count": null,
   "metadata": {},
   "outputs": [],
   "source": [
    "#Exceptions\n",
    "\n",
    "\"\"\"\n",
    "An exercise in playing with Exceptions.\n",
    "Make lots of try/except blocks for fun and profit.\n",
    "\n",
    "Make sure to catch specifically the error you find, rather than all errors.\n",
    "\"\"\"\n",
    "\n",
    "from except_test import fun, more_fun, last_fun\n",
    "\n",
    "# Figure out what the exception is, catch it and while still\n",
    "# in that catch block, try again with the second item in the list\n",
    "\n",
    "first_try = ['spam', 'cheese', 'mr death']\n",
    "\n",
    "try:\n",
    "    joke = fun(first_try[0])\n",
    "except NameError:\n",
    "    joke = fun(first_try[1])\n",
    "\n",
    "# Here is a try/except block. Add an else that prints not_joke\n",
    "try:\n",
    "    not_joke = fun(first_try[2])\n",
    "except SyntaxError:\n",
    "    print('Run Away!')\n",
    "else: #If no exceptions, use else block\n",
    "    print(not_joke)\n",
    "\n",
    "# What did that do? You can think of else in this context, as well as in\n",
    "# loops as meaning: \"else if nothing went wrong\"\n",
    "# (no breaks in  loops, no exceptions in try blocks)\n",
    "\n",
    "# Figure out what the exception is, catch it and in that same block\n",
    "#\n",
    "# try calling the more_fun function with the 2nd language in the list,\n",
    "# again assigning it to more_joke.\n",
    "#\n",
    "# If there are no exceptions, call the more_fun function with the last\n",
    "# language in the list\n",
    "\n",
    "# Finally, while still in the try/except block and regardless of whether\n",
    "# there were any exceptions, call the function last_fun with no\n",
    "# parameters. (pun intended)\n",
    "\n",
    "langs = ['java', 'c', 'python']\n",
    "\n",
    "try:\n",
    "    more_joke = more_fun(langs[0])\n",
    "except IndexError:\n",
    "    more_joke = more_fun(langs[1]) #2nd language\n",
    "else: #If no exceptions, use else block\n",
    "    another_joke = more_fun(langs[2])\n",
    "finally:\n",
    "    last_fun()"
   ]
  }
 ],
 "metadata": {
  "kernelspec": {
   "display_name": "Python 3",
   "language": "python",
   "name": "python3"
  },
  "language_info": {
   "codemirror_mode": {
    "name": "ipython",
    "version": 3
   },
   "file_extension": ".py",
   "mimetype": "text/x-python",
   "name": "python",
   "nbconvert_exporter": "python",
   "pygments_lexer": "ipython3",
   "version": "3.6.5"
  }
 },
 "nbformat": 4,
 "nbformat_minor": 2
}
