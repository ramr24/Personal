{
 "cells": [
  {
   "cell_type": "code",
   "execution_count": 1,
   "metadata": {},
   "outputs": [
    {
     "data": {
      "text/plain": [
       "'\\nGoal:\\nThe goal is to create a class that represents a simple circle.\\n\\nA Circle can be defined by either specifying the radius or the diameter, and the user can query the circle for either its radius or diameter.\\n\\nOther abilities of a Circle instance:\\n\\nCompute the circle’s area.\\nPrint the circle and get something nice.\\nBe able to add two circles together.\\nBe able to compare two circles to see which is bigger.\\nBe able to compare to see if they are are equal.\\n(follows from above) be able to put them in a list and sort them.\\nYou will use:\\n\\nproperties.\\na bunch of “magic methods”.\\na classmethod (after you’ve learned about them…).\\nGeneral Instructions:\\nFor each step, write a couple of unit tests that test the new features.\\nRun these tests (and they will fail the first time)\\nAdd the code required for your tests to pass.\\n'"
      ]
     },
     "execution_count": 1,
     "metadata": {},
     "output_type": "execute_result"
    }
   ],
   "source": [
    "\"\"\"\n",
    "Goal:\n",
    "The goal is to create a class that represents a simple circle.\n",
    "\n",
    "A Circle can be defined by either specifying the radius or the diameter, and the user can query the circle for either its radius or diameter.\n",
    "\n",
    "Other abilities of a Circle instance:\n",
    "\n",
    "Compute the circle’s area.\n",
    "-Print the circle and get something nice.\n",
    "-Be able to add two circles together.\n",
    "-Be able to compare two circles to see which is bigger.\n",
    "-Be able to compare to see if they are are equal.\n",
    "-(follows from above) be able to put them in a list and sort them.\n",
    "-You will use:\n",
    "\n",
    "properties.\n",
    "a bunch of “magic methods”.\n",
    "a classmethod (after you’ve learned about them…).\n",
    "General Instructions:\n",
    "For each step, write a couple of unit tests that test the new features.\n",
    "Run these tests (and they will fail the first time)\n",
    "Add the code required for your tests to pass.\n",
    "\"\"\""
   ]
  },
  {
   "cell_type": "markdown",
   "metadata": {},
   "source": [
    "### Solution"
   ]
  },
  {
   "cell_type": "code",
   "execution_count": 120,
   "metadata": {},
   "outputs": [],
   "source": [
    "from math import pi\n",
    "\n",
    "class Circle():\n",
    "    \"\"\"Generate a circle, radius, diameter and area.\"\"\"\n",
    "    \n",
    "    def __init__(self, radius):\n",
    "        \"\"\"Create a circle using set radius value\"\"\"\n",
    "        \n",
    "        self.radius = radius\n",
    "        \n",
    "    @property #You can call it as a attribute rather than method\n",
    "    def diameter(self): #diameter property\n",
    "        \"\"\"Gets the diameter of the circle.\"\"\"\n",
    "        \n",
    "        return self.radius * 2\n",
    "    \n",
    "    @diameter.setter\n",
    "    def diameter(self, value):\n",
    "        \"\"\"Sets the diameter of the circle.\"\"\"\n",
    "        \n",
    "        self.radius = value / 2\n",
    "    \n",
    "    @property\n",
    "    def area(self):\n",
    "        \"\"\"Calculates area of the circle.\"\"\"\n",
    "        \n",
    "        return pi * self.radius ** 2\n",
    "    \n",
    "    def __str__(self):\n",
    "        \"\"\"Shows string representation.\"\"\"\n",
    "        \n",
    "        return f\"Circle with radius: {self.radius}\"\n",
    "    \n",
    "    def __repr__(self):\n",
    "        \"\"\"Shows class representation.\"\"\"\n",
    "        \n",
    "        return f\"Circle({self.radius})\"\n",
    "        \n",
    "    def __add__(self, other):\n",
    "        \"\"\"Adds two circles together.\"\"\"\n",
    "        \n",
    "        return Circle(self.radius + other.radius)\n",
    "    \n",
    "    def __mul__(self, other):\n",
    "        \"\"\"Multiples radius of a circle.\"\"\"\n",
    "        \n",
    "        return Circle(self.radius * other)\n",
    "        \n",
    "class Sphere(Circle):\n",
    "    \n",
    "    def __str__(self):\n",
    "        \"\"\"Shows string representation.\"\"\"\n",
    "        \n",
    "        return f\"Sphere with radius: {self.radius}\"\n",
    "    \n",
    "    def __repr__(self):\n",
    "        \"\"\"Shows class representation.\"\"\"\n",
    "        \n",
    "        return f\"Sphere({self.radius})\"\n",
    "    \n",
    "        \n",
    "c = Circle(4)\n",
    "s = Sphere(4)"
   ]
  },
  {
   "cell_type": "code",
   "execution_count": 114,
   "metadata": {},
   "outputs": [
    {
     "data": {
      "text/plain": [
       "__main__.Circle"
      ]
     },
     "execution_count": 114,
     "metadata": {},
     "output_type": "execute_result"
    }
   ],
   "source": [
    "type(c)"
   ]
  },
  {
   "cell_type": "code",
   "execution_count": 115,
   "metadata": {},
   "outputs": [
    {
     "data": {
      "text/plain": [
       "['__add__',\n",
       " '__class__',\n",
       " '__delattr__',\n",
       " '__dict__',\n",
       " '__dir__',\n",
       " '__doc__',\n",
       " '__eq__',\n",
       " '__format__',\n",
       " '__ge__',\n",
       " '__getattribute__',\n",
       " '__gt__',\n",
       " '__hash__',\n",
       " '__init__',\n",
       " '__init_subclass__',\n",
       " '__le__',\n",
       " '__lt__',\n",
       " '__module__',\n",
       " '__mul__',\n",
       " '__ne__',\n",
       " '__new__',\n",
       " '__reduce__',\n",
       " '__reduce_ex__',\n",
       " '__repr__',\n",
       " '__setattr__',\n",
       " '__sizeof__',\n",
       " '__str__',\n",
       " '__subclasshook__',\n",
       " '__weakref__',\n",
       " 'area',\n",
       " 'diameter',\n",
       " 'radius']"
      ]
     },
     "execution_count": 115,
     "metadata": {},
     "output_type": "execute_result"
    }
   ],
   "source": [
    "dir(c)"
   ]
  },
  {
   "cell_type": "code",
   "execution_count": 116,
   "metadata": {},
   "outputs": [
    {
     "name": "stdout",
     "output_type": "stream",
     "text": [
      "Step 1: Radius = 4\n",
      "Step 2: Diameter = 8\n"
     ]
    }
   ],
   "source": [
    "print(\"Step 1: Radius =\", c.radius)\n",
    "print(\"Step 2: Diameter =\", c.diameter)"
   ]
  },
  {
   "cell_type": "code",
   "execution_count": 117,
   "metadata": {},
   "outputs": [
    {
     "name": "stdout",
     "output_type": "stream",
     "text": [
      "Step 3:\n",
      "Diameter = 2.0\n",
      "Radius = 1.0\n"
     ]
    }
   ],
   "source": [
    "print(\"Step 3:\")\n",
    "c = Circle(4)\n",
    "c.diameter = 2\n",
    "print(\"Diameter =\", c.diameter)\n",
    "print(\"Radius =\", c.radius)"
   ]
  },
  {
   "cell_type": "code",
   "execution_count": 118,
   "metadata": {},
   "outputs": [
    {
     "name": "stdout",
     "output_type": "stream",
     "text": [
      "Step 4: \n",
      "Area = 12.566370614359172\n"
     ]
    }
   ],
   "source": [
    "\n",
    "print(\"Step 4: \")\n",
    "c = Circle(2)\n",
    "print(\"Area =\", c.area)\n",
    "#c.area = 42 #User can't set area"
   ]
  },
  {
   "cell_type": "code",
   "execution_count": 107,
   "metadata": {},
   "outputs": [
    {
     "ename": "AttributeError",
     "evalue": "type object 'Circle' has no attribute 'from_diameter'",
     "output_type": "error",
     "traceback": [
      "\u001b[1;31m---------------------------------------------------------------------------\u001b[0m",
      "\u001b[1;31mAttributeError\u001b[0m                            Traceback (most recent call last)",
      "\u001b[1;32m<ipython-input-107-d328043c43fd>\u001b[0m in \u001b[0;36m<module>\u001b[1;34m()\u001b[0m\n\u001b[0;32m      1\u001b[0m \u001b[1;31m#Step 5:\u001b[0m\u001b[1;33m\u001b[0m\u001b[1;33m\u001b[0m\u001b[0m\n\u001b[1;32m----> 2\u001b[1;33m \u001b[0mc\u001b[0m \u001b[1;33m=\u001b[0m \u001b[0mCircle\u001b[0m\u001b[1;33m.\u001b[0m\u001b[0mfrom_diameter\u001b[0m\u001b[1;33m(\u001b[0m\u001b[1;36m8\u001b[0m\u001b[1;33m)\u001b[0m\u001b[1;33m\u001b[0m\u001b[0m\n\u001b[0m\u001b[0;32m      3\u001b[0m \u001b[0mprint\u001b[0m\u001b[1;33m(\u001b[0m\u001b[1;34m\"Diameter =\"\u001b[0m\u001b[1;33m,\u001b[0m \u001b[0mc\u001b[0m\u001b[1;33m.\u001b[0m\u001b[0mdiameter\u001b[0m\u001b[1;33m)\u001b[0m \u001b[1;31m#8\u001b[0m\u001b[1;33m\u001b[0m\u001b[0m\n\u001b[0;32m      4\u001b[0m \u001b[0mprint\u001b[0m\u001b[1;33m(\u001b[0m\u001b[1;34m\"Radius =\"\u001b[0m\u001b[1;33m,\u001b[0m \u001b[0mc\u001b[0m\u001b[1;33m.\u001b[0m\u001b[0mradius\u001b[0m\u001b[1;33m)\u001b[0m \u001b[1;31m#4\u001b[0m\u001b[1;33m\u001b[0m\u001b[0m\n",
      "\u001b[1;31mAttributeError\u001b[0m: type object 'Circle' has no attribute 'from_diameter'"
     ]
    }
   ],
   "source": [
    "#Step 5:\n",
    "c = Circle.from_diameter(8)\n",
    "print(\"Diameter =\", c.diameter) #8\n",
    "print(\"Radius =\", c.radius) #4"
   ]
  },
  {
   "cell_type": "code",
   "execution_count": 108,
   "metadata": {},
   "outputs": [
    {
     "name": "stdout",
     "output_type": "stream",
     "text": [
      "Step 6:\n",
      "Circle with radius: 4\n",
      "Circle(4)\n"
     ]
    },
    {
     "data": {
      "text/plain": [
       "Circle(4)"
      ]
     },
     "execution_count": 108,
     "metadata": {},
     "output_type": "execute_result"
    }
   ],
   "source": [
    "print(\"Step 6:\")\n",
    "c = Circle(4)\n",
    "print(c)\n",
    "print(repr(c))\n",
    "d = eval(repr(c))\n",
    "d"
   ]
  },
  {
   "cell_type": "code",
   "execution_count": 109,
   "metadata": {},
   "outputs": [
    {
     "name": "stdout",
     "output_type": "stream",
     "text": [
      "Step 7 Addition: \n"
     ]
    },
    {
     "data": {
      "text/plain": [
       "Circle(6)"
      ]
     },
     "execution_count": 109,
     "metadata": {},
     "output_type": "execute_result"
    }
   ],
   "source": [
    "c1 = Circle(2)\n",
    "c2 = Circle(4)\n",
    "print(\"Step 7 Addition: \")\n",
    "c1 + c2"
   ]
  },
  {
   "cell_type": "code",
   "execution_count": 112,
   "metadata": {},
   "outputs": [
    {
     "name": "stdout",
     "output_type": "stream",
     "text": [
      "Step 7 Multiplication: \n"
     ]
    },
    {
     "ename": "TypeError",
     "evalue": "unsupported operand type(s) for *: 'int' and 'Circle'",
     "output_type": "error",
     "traceback": [
      "\u001b[1;31m---------------------------------------------------------------------------\u001b[0m",
      "\u001b[1;31mTypeError\u001b[0m                                 Traceback (most recent call last)",
      "\u001b[1;32m<ipython-input-112-5bdadf55cee0>\u001b[0m in \u001b[0;36m<module>\u001b[1;34m()\u001b[0m\n\u001b[0;32m      1\u001b[0m \u001b[0mprint\u001b[0m\u001b[1;33m(\u001b[0m\u001b[1;34m\"Step 7 Multiplication: \"\u001b[0m\u001b[1;33m)\u001b[0m\u001b[1;33m\u001b[0m\u001b[0m\n\u001b[1;32m----> 2\u001b[1;33m \u001b[1;36m3\u001b[0m \u001b[1;33m*\u001b[0m \u001b[0mc2\u001b[0m\u001b[1;33m\u001b[0m\u001b[0m\n\u001b[0m",
      "\u001b[1;31mTypeError\u001b[0m: unsupported operand type(s) for *: 'int' and 'Circle'"
     ]
    }
   ],
   "source": [
    "print(\"Step 7 Multiplication: \")\n",
    "3 * c2"
   ]
  },
  {
   "cell_type": "code",
   "execution_count": null,
   "metadata": {},
   "outputs": [],
   "source": [
    "print(\"Step 8: \")"
   ]
  },
  {
   "cell_type": "code",
   "execution_count": null,
   "metadata": {},
   "outputs": [],
   "source": []
  },
  {
   "cell_type": "code",
   "execution_count": null,
   "metadata": {},
   "outputs": [],
   "source": []
  },
  {
   "cell_type": "code",
   "execution_count": null,
   "metadata": {},
   "outputs": [],
   "source": []
  },
  {
   "cell_type": "code",
   "execution_count": 123,
   "metadata": {},
   "outputs": [
    {
     "name": "stdout",
     "output_type": "stream",
     "text": [
      "Step 9: Sphere Class\n",
      "Sphere with radius: 4\n",
      "Circle(4)\n"
     ]
    }
   ],
   "source": [
    "print(\"Step 9: Sphere Class\")\n",
    "print(s)\n",
    "print(repr(c))"
   ]
  },
  {
   "cell_type": "code",
   "execution_count": null,
   "metadata": {},
   "outputs": [],
   "source": []
  }
 ],
 "metadata": {
  "kernelspec": {
   "display_name": "Python 3",
   "language": "python",
   "name": "python3"
  },
  "language_info": {
   "codemirror_mode": {
    "name": "ipython",
    "version": 3
   },
   "file_extension": ".py",
   "mimetype": "text/x-python",
   "name": "python",
   "nbconvert_exporter": "python",
   "pygments_lexer": "ipython3",
   "version": "3.6.5"
  }
 },
 "nbformat": 4,
 "nbformat_minor": 2
}
