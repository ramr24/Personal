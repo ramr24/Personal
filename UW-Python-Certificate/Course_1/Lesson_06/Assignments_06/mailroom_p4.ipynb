{
 "cells": [
  {
   "cell_type": "markdown",
   "metadata": {},
   "source": [
    "### Solution: Unit Testing"
   ]
  },
  {
   "cell_type": "code",
   "execution_count": 1,
   "metadata": {},
   "outputs": [
    {
     "name": "stdout",
     "output_type": "stream",
     "text": [
      "Menu: \n",
      "Please choose from below options:\n",
      "1 - Send a Thank You to a single donor\n",
      "2 - Create a Report\n",
      "3 - Send Letters to all donors\n",
      "4 - Quit\n",
      ">>> 2\n",
      "\n",
      "Donor Name                | Total Given | Num Gifts | Average Gift\n",
      "-------------------------------------------------------------------\n",
      "William Gates, III         $  653784.49           2  $   326892.24\n",
      "Mark Zuckerberg            $   16396.10           3  $     5465.37\n",
      "Jeff Bezos                 $     877.33           1  $      877.33\n",
      "Paul Allen                 $     708.42           3  $      236.14\n",
      "Ramkumar Rajanbabu         $     255.65           3  $       85.22\n",
      "Menu: \n",
      "Please choose from below options:\n",
      "1 - Send a Thank You to a single donor\n",
      "2 - Create a Report\n",
      "3 - Send Letters to all donors\n",
      "4 - Quit\n",
      ">>> 3\n",
      "\n",
      "A thank you letter to each donor is saved as a text file.\n",
      "Menu: \n",
      "Please choose from below options:\n",
      "1 - Send a Thank You to a single donor\n",
      "2 - Create a Report\n",
      "3 - Send Letters to all donors\n",
      "4 - Quit\n",
      ">>> 4\n",
      "\n",
      "You chose to quit the program, good-bye!\n"
     ]
    },
    {
     "ename": "SystemExit",
     "evalue": "",
     "output_type": "error",
     "traceback": [
      "An exception has occurred, use %tb to see the full traceback.\n",
      "\u001b[1;31mSystemExit\u001b[0m\n"
     ]
    },
    {
     "name": "stderr",
     "output_type": "stream",
     "text": [
      "C:\\Users\\kumar\\AppData\\Local\\Continuum\\anaconda3\\lib\\site-packages\\IPython\\core\\interactiveshell.py:2971: UserWarning: To exit: use 'exit', 'quit', or Ctrl-D.\n",
      "  warn(\"To exit: use 'exit', 'quit', or Ctrl-D.\", stacklevel=1)\n"
     ]
    }
   ],
   "source": [
    "#Mailroom Part 4\n",
    "\n",
    "import sys\n",
    "\n",
    "donors_db = {\"William Gates, III\": [653772.32, 12.17],\n",
    "             \"Mark Zuckerberg\": [1663.23, 4300.87, 10432.0],\n",
    "             \"Jeff Bezos\": [877.33],\n",
    "             \"Paul Allen\": [663.23, 43.87, 1.32],\n",
    "             \"Ramkumar Rajanbabu\": [200.30, 50.10, 5.25]}\n",
    "\n",
    "def main():\n",
    "    \"\"\"Display menu with options to user.\"\"\"\n",
    "    \n",
    "    prompt = \"\\n\".join((\"Menu: \",\n",
    "                        \"Please choose from below options:\",\n",
    "                        \"1 - Send a Thank You to a single donor\",\n",
    "                        \"2 - Create a Report\",\n",
    "                        \"3 - Send Letters to all donors\",\n",
    "                        \"4 - Quit\",\n",
    "                        \">>> \"))\n",
    "    \n",
    "    while True:\n",
    "        #Exception Handling\n",
    "        try:\n",
    "            user_response = int(input(prompt))\n",
    "        except ValueError: #ValueError if not integer/float\n",
    "            print(\"Please enter a number (not a string)!\")\n",
    "        else:\n",
    "            if user_response == 1:\n",
    "                send_thanks()\n",
    "            elif user_response == 2:\n",
    "                display_report()\n",
    "            elif user_response == 3:\n",
    "                send_letters_all()\n",
    "            elif user_response == 4:\n",
    "                exit_program()\n",
    "            elif user_response not in range(1,4):\n",
    "                print(\"Please enter a valid number within 1-4!\\n\")\n",
    "            \n",
    "def exit_program():\n",
    "    \"\"\"Exit program.\"\"\"\n",
    "    \n",
    "    print(\"\\nYou chose to quit the program, good-bye!\")\n",
    "    sys.exit() #Exit script\n",
    "            \n",
    "def send_thanks():\n",
    "    \"\"\"Show a list of donors and add a new donor based on user response.\"\"\"\n",
    "\n",
    "    name = str(input(\"Type in the full donor name (or 'list' to view a list of donor names): \"))\n",
    "    if name == \"list\":\n",
    "        view_list()\n",
    "        send_thanks() #Reprompt to main menu\n",
    "    else:\n",
    "        add_donation(name)\n",
    "\n",
    "def view_list():\n",
    "    \"\"\"To view donor names in a vertical list.\"\"\"\n",
    "    \n",
    "    print(\"\\nList of Donor Names:\")\n",
    "    for donor_name in donors_db.keys():\n",
    "        print(donor_name) #Prints each name (key)\n",
    "        \n",
    "def add_donation(name):\n",
    "    \"\"\"Add new donation amount to donor list based on user response.\n",
    "    \n",
    "    Args:\n",
    "        name: donor name\n",
    "    \"\"\"\n",
    "    \n",
    "    if name not in donors_db:\n",
    "        donors_db[name] = [] #donors_db[key] = [value]\n",
    "\n",
    "    #Exception handling\n",
    "    try:\n",
    "        donation_amount = float(input(\"Type in the donation amount: $\"))\n",
    "    except ValueError: #ValueError if not integer/float\n",
    "        print(\"Please enter an integer.\")\n",
    "    else:\n",
    "        donors_db[name].append(donation_amount) #donor_db[key].append()\n",
    "        print(write_letter(name, donation_amount))            \n",
    "\n",
    "def write_letter(name, donation_amount):\n",
    "    \"\"\"Generates letter based on donor name and donation amount.\n",
    "    \n",
    "    Args:\n",
    "        name: donor name\n",
    "        donation_amount (float): donation amount  \n",
    "    Returns:\n",
    "        letter (string): a letter in string format\n",
    "    \"\"\"\n",
    "    \n",
    "    letter = \"\\n\\tDear {:s}, \\n\\n\\tThank you for choosing to donate to this group. A special thank you for your generous donation of ${:0.2f}. \\n\\n\\tSincerely, \\n\\tDonation Society\".format(name, donation_amount)\n",
    "    return letter\n",
    "\n",
    "def display_report():\n",
    "    \"\"\"Display the report (table with values).\"\"\"\n",
    "    \n",
    "    report = create_table()\n",
    "    print(report)\n",
    "\n",
    "def create_table():\n",
    "    \"\"\"Create a table with values.\n",
    "    \n",
    "    Returns: \n",
    "        table (string): format string with table values\n",
    "    \"\"\"\n",
    "    \n",
    "    table = create_title()\n",
    "    summary = calc_donor()\n",
    "    for donor_tuple in summary:\n",
    "        row = \"\\n{:<25s}  ${:>11.2f}  {:>10d}  ${:>12.2f}\".format(*donor_tuple) #f_string\n",
    "        table += row\n",
    "    return table\n",
    "\n",
    "def create_title():\n",
    "    \"\"\"Create a title for report.\n",
    "    \n",
    "    Returns:\n",
    "        title (string): format string with title header for table\n",
    "    \"\"\"\n",
    "    \n",
    "    title = \"\\n{:<25s} | {:s} | {:s} | {:s}\\n\".format(\"Donor Name\", \"Total Given\", \"Num Gifts\", \"Average Gift\")\n",
    "    title += ((len(title) - 1) * \"-\")\n",
    "    return title\n",
    "\n",
    "def calc_donor():\n",
    "    \"\"\"Calculate table values for the report.\n",
    "    \n",
    "    Returns:\n",
    "        summary (list): a list of table values\n",
    "    \"\"\"\n",
    "    \n",
    "    #List comprehension\n",
    "    summary = [(donor_name, sum(amount), len(amount), sum(amount) / len(amount)) for donor_name, amount in donors_db.items()]\n",
    "    summary = sorted(summary, key=sort_key, reverse=True)\n",
    "    return summary\n",
    "\n",
    "def sort_key(summary):\n",
    "    \"\"\"Creates sort key for sorted function.\n",
    "    \n",
    "    Args:\n",
    "        summary: list with donor summary\n",
    "    Returns:\n",
    "        summary[1]: sorts by total_given values\n",
    "    \"\"\"\n",
    "    return summary[1]      \n",
    "        \n",
    "def send_letters_all():\n",
    "    \"\"\"Generates a thank you letter for each donor and writes each letter as a text file.\"\"\"\n",
    "    \n",
    "    for donor_name, amount in donors_db.items():\n",
    "        file_name = donor_name + \".txt\"\n",
    "        with open(file_name, 'w') as f:\n",
    "            f.write(write_letter(donor_name, sum(amount)))\n",
    "    print(\"\\nA thank you letter to each donor is saved as a text file.\")\n",
    "    \n",
    "if __name__ == \"__main__\":\n",
    "    main()"
   ]
  },
  {
   "cell_type": "markdown",
   "metadata": {},
   "source": [
    "### Assertions"
   ]
  },
  {
   "cell_type": "code",
   "execution_count": 2,
   "metadata": {},
   "outputs": [],
   "source": [
    "import os"
   ]
  },
  {
   "cell_type": "code",
   "execution_count": 3,
   "metadata": {},
   "outputs": [],
   "source": [
    "#test_donor_names\n",
    "assert list(donors_db) == [\"William Gates, III\", \"Mark Zuckerberg\", \"Jeff Bezos\", \"Paul Allen\",\"Ramkumar Rajanbabu\"]"
   ]
  },
  {
   "cell_type": "code",
   "execution_count": 4,
   "metadata": {},
   "outputs": [],
   "source": [
    "#test_letter\n",
    "assert write_letter(\"Ram\", 25) == \"\\n\\tDear Ram, \\n\\n\\tThank you for choosing to donate to this group. A special thank you for your generous donation of $25.00. \\n\\n\\tSincerely, \\n\\tDonation Society\""
   ]
  },
  {
   "cell_type": "code",
   "execution_count": 5,
   "metadata": {},
   "outputs": [],
   "source": [
    "#test_file_names\n",
    "assert os.path.isfile(\"William Gates, III.txt\")\n",
    "assert os.path.isfile(\"Mark Zuckerberg.txt\")\n",
    "assert os.path.isfile(\"Jeff Bezos.txt\")\n",
    "assert os.path.isfile(\"Paul Allen.txt\")\n",
    "assert os.path.isfile(\"Ramkumar Rajanbabu.txt\")"
   ]
  },
  {
   "cell_type": "code",
   "execution_count": null,
   "metadata": {},
   "outputs": [],
   "source": []
  },
  {
   "cell_type": "code",
   "execution_count": null,
   "metadata": {},
   "outputs": [],
   "source": []
  },
  {
   "cell_type": "code",
   "execution_count": null,
   "metadata": {},
   "outputs": [],
   "source": []
  },
  {
   "cell_type": "code",
   "execution_count": 6,
   "metadata": {},
   "outputs": [
    {
     "name": "stdout",
     "output_type": "stream",
     "text": [
      "\n",
      "Donor Name                | Total Given | Num Gifts | Average Gift\n"
     ]
    },
    {
     "data": {
      "text/plain": [
       "'\\nDonor Name                | Total Given | Num Gifts | Average Gift'"
      ]
     },
     "execution_count": 6,
     "metadata": {},
     "output_type": "execute_result"
    }
   ],
   "source": [
    "print(\"\\nDonor Name                | Total Given | Num Gifts | Average Gift\")\n",
    "\"\\nDonor Name\" + \" \" * 16 + \"| Total Given | Num Gifts | Average Gift\""
   ]
  },
  {
   "cell_type": "code",
   "execution_count": 7,
   "metadata": {},
   "outputs": [
    {
     "ename": "AssertionError",
     "evalue": "",
     "output_type": "error",
     "traceback": [
      "\u001b[1;31m---------------------------------------------------------------------------\u001b[0m",
      "\u001b[1;31mAssertionError\u001b[0m                            Traceback (most recent call last)",
      "\u001b[1;32m<ipython-input-7-2459a343953f>\u001b[0m in \u001b[0;36m<module>\u001b[1;34m()\u001b[0m\n\u001b[0;32m      1\u001b[0m \u001b[0mtitle\u001b[0m \u001b[1;33m=\u001b[0m \u001b[1;34m\"\\n{:<25s} | {:s} | {:s} | {:s}\\n\"\u001b[0m\u001b[1;33m.\u001b[0m\u001b[0mformat\u001b[0m\u001b[1;33m(\u001b[0m\u001b[1;34m\"Donor Name\"\u001b[0m\u001b[1;33m,\u001b[0m \u001b[1;34m\"Total Given\"\u001b[0m\u001b[1;33m,\u001b[0m \u001b[1;34m\"Num Gifts\"\u001b[0m\u001b[1;33m,\u001b[0m \u001b[1;34m\"Average Gift\"\u001b[0m\u001b[1;33m)\u001b[0m\u001b[1;33m\u001b[0m\u001b[0m\n\u001b[1;32m----> 2\u001b[1;33m \u001b[1;32massert\u001b[0m \u001b[0mtitle\u001b[0m \u001b[1;33m==\u001b[0m \u001b[1;34m\"\\nDonor Name\"\u001b[0m \u001b[1;33m+\u001b[0m \u001b[1;34m\" \"\u001b[0m \u001b[1;33m*\u001b[0m \u001b[1;36m16\u001b[0m \u001b[1;33m+\u001b[0m \u001b[1;34m\"| Total Given | Num Gifts | Average Gift\"\u001b[0m\u001b[1;33m\u001b[0m\u001b[0m\n\u001b[0m",
      "\u001b[1;31mAssertionError\u001b[0m: "
     ]
    }
   ],
   "source": [
    "title = \"\\n{:<25s} | {:s} | {:s} | {:s}\\n\".format(\"Donor Name\", \"Total Given\", \"Num Gifts\", \"Average Gift\")\n",
    "assert title == \"\\nDonor Name\" + \" \" * 16 + \"| Total Given | Num Gifts | Average Gift\""
   ]
  },
  {
   "cell_type": "code",
   "execution_count": 13,
   "metadata": {},
   "outputs": [],
   "source": [
    "act = calc_donor()"
   ]
  },
  {
   "cell_type": "code",
   "execution_count": 14,
   "metadata": {},
   "outputs": [],
   "source": [
    "exp = [('William Gates, III', 653784.49, 2, 326892.245), ('Mark Zuckerberg', 16396.1, 3, 5465.366666666666), ('Jeff Bezos', 877.33, 1, 877.33), ('Paul Allen', 708.4200000000001, 3, 236.14000000000001), ('Ramkumar Rajanbabu', 255.65, 3, 85.21666666666667)]"
   ]
  },
  {
   "cell_type": "code",
   "execution_count": 15,
   "metadata": {},
   "outputs": [
    {
     "data": {
      "text/plain": [
       "[('William Gates, III', 653784.49, 2, 326892.245),\n",
       " ('Mark Zuckerberg', 16396.1, 3, 5465.366666666666),\n",
       " ('Jeff Bezos', 877.33, 1, 877.33),\n",
       " ('Paul Allen', 708.4200000000001, 3, 236.14000000000001),\n",
       " ('Ramkumar Rajanbabu', 255.65, 3, 85.21666666666667)]"
      ]
     },
     "execution_count": 15,
     "metadata": {},
     "output_type": "execute_result"
    }
   ],
   "source": [
    "exp"
   ]
  },
  {
   "cell_type": "code",
   "execution_count": 16,
   "metadata": {},
   "outputs": [],
   "source": [
    "assert act == exp"
   ]
  },
  {
   "cell_type": "code",
   "execution_count": null,
   "metadata": {},
   "outputs": [],
   "source": []
  }
 ],
 "metadata": {
  "kernelspec": {
   "display_name": "Python 3",
   "language": "python",
   "name": "python3"
  },
  "language_info": {
   "codemirror_mode": {
    "name": "ipython",
    "version": 3
   },
   "file_extension": ".py",
   "mimetype": "text/x-python",
   "name": "python",
   "nbconvert_exporter": "python",
   "pygments_lexer": "ipython3",
   "version": "3.6.5"
  }
 },
 "nbformat": 4,
 "nbformat_minor": 2
}
