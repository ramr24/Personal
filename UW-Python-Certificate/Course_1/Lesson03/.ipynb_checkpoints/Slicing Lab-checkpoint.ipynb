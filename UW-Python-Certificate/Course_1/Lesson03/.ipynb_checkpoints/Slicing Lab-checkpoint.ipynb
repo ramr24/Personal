{
 "cells": [
  {
   "cell_type": "code",
   "execution_count": null,
   "metadata": {},
   "outputs": [],
   "source": [
    "\"\"\"Goal\n",
    "Get the basics of sequence slicing down.\n",
    "\n",
    "Tasks\n",
    "Write some functions that take a sequence as an argument, and return a copy of that sequence:\n",
    "\n",
    "-with the first and last items exchanged.\n",
    "DONE-with every other item removed.\n",
    "DONE-with the first 4 and the last 4 items removed, and then every other item in between.\n",
    "DONE-with the elements reversed (just with slicing).\n",
    "-with the middle third, then last third, then the first third in the new order.\n",
    "NOTE: These should work with ANY sequence – but you can use strings to test, if you like.\n",
    "\n",
    "Your functions should look like:\n",
    "\n",
    "def exchange_first_last(seq):\n",
    "    return a_new_sequence\n",
    "Tests:\n",
    "a_string = \"this is a string\"\n",
    "a_tuple = (2, 54, 13, 12, 5, 32)\n",
    "\n",
    "assert exchange_first_last(a_string) == \"ghis is a strint\"\n",
    "assert exchange_first_last(a_tuple) == (32, 54, 13, 12, 5, 2)\n",
    "assert mid_last_first(a_string) == \"is a stringthis \"\n",
    "assert mid_last_first(a_tuple) == (13, 12, 5, 32, 2, 54)\n",
    "Write a test or two like that for each of the above functions.\n",
    "\"\"\""
   ]
  },
  {
   "cell_type": "code",
   "execution_count": null,
   "metadata": {},
   "outputs": [],
   "source": [
    "seq = 'this is a string'\n",
    "tup = (2, 54, 13, 12, 5, 32)"
   ]
  },
  {
   "cell_type": "code",
   "execution_count": null,
   "metadata": {},
   "outputs": [],
   "source": [
    "tup = [tup]"
   ]
  },
  {
   "cell_type": "code",
   "execution_count": null,
   "metadata": {},
   "outputs": [],
   "source": [
    "tup"
   ]
  },
  {
   "cell_type": "code",
   "execution_count": null,
   "metadata": {},
   "outputs": [],
   "source": [
    "tup[0]"
   ]
  },
  {
   "cell_type": "code",
   "execution_count": null,
   "metadata": {},
   "outputs": [],
   "source": [
    "new_tup = tup[-1], tup[0]"
   ]
  },
  {
   "cell_type": "code",
   "execution_count": null,
   "metadata": {},
   "outputs": [],
   "source": [
    "new_tup"
   ]
  },
  {
   "cell_type": "code",
   "execution_count": null,
   "metadata": {},
   "outputs": [],
   "source": []
  },
  {
   "cell_type": "code",
   "execution_count": null,
   "metadata": {},
   "outputs": [],
   "source": []
  },
  {
   "cell_type": "code",
   "execution_count": 2,
   "metadata": {},
   "outputs": [
    {
     "ename": "NameError",
     "evalue": "name 'seq' is not defined",
     "output_type": "error",
     "traceback": [
      "\u001b[1;31m---------------------------------------------------------------------------\u001b[0m",
      "\u001b[1;31mNameError\u001b[0m                                 Traceback (most recent call last)",
      "\u001b[1;32m<ipython-input-2-10da725ad5f5>\u001b[0m in \u001b[0;36m<module>\u001b[1;34m()\u001b[0m\n\u001b[0;32m     23\u001b[0m \u001b[1;32mif\u001b[0m \u001b[0m__name__\u001b[0m \u001b[1;33m==\u001b[0m \u001b[1;34m\"__main__\"\u001b[0m\u001b[1;33m:\u001b[0m\u001b[1;33m\u001b[0m\u001b[0m\n\u001b[0;32m     24\u001b[0m    \u001b[1;31m#Run some tests\u001b[0m\u001b[1;33m\u001b[0m\u001b[1;33m\u001b[0m\u001b[0m\n\u001b[1;32m---> 25\u001b[1;33m    \u001b[1;32massert\u001b[0m \u001b[0mexchange_first_last\u001b[0m\u001b[1;33m(\u001b[0m\u001b[0mseq\u001b[0m\u001b[1;33m)\u001b[0m \u001b[1;33m==\u001b[0m \u001b[1;34m\"ghis is a strint\"\u001b[0m\u001b[1;33m\u001b[0m\u001b[0m\n\u001b[0m\u001b[0;32m     26\u001b[0m    \u001b[1;32massert\u001b[0m \u001b[0mother_remove\u001b[0m\u001b[1;33m(\u001b[0m\u001b[0mseq\u001b[0m\u001b[1;33m)\u001b[0m \u001b[1;33m==\u001b[0m \u001b[1;34m\"ti sasrn\"\u001b[0m\u001b[1;33m\u001b[0m\u001b[0m\n\u001b[0;32m     27\u001b[0m    \u001b[1;32massert\u001b[0m \u001b[0mfirst_last_other_remove\u001b[0m\u001b[1;33m(\u001b[0m\u001b[0mseq\u001b[0m\u001b[1;33m)\u001b[0m \u001b[1;33m==\u001b[0m \u001b[1;34m\" sas\"\u001b[0m\u001b[1;33m\u001b[0m\u001b[0m\n",
      "\u001b[1;31mNameError\u001b[0m: name 'seq' is not defined"
     ]
    }
   ],
   "source": [
    "def exchange_first_last(seq):\n",
    "    first = seq[-1] \n",
    "    mid = seq[1:-1]\n",
    "    last = seq[0]\n",
    "    new_seq = first + mid + last \n",
    "    return new_seq\n",
    "\n",
    "def other_remove(seq):\n",
    "    new_seq = seq[::2]\n",
    "    return new_seq\n",
    "\n",
    "def first_last_other_remove(seq):\n",
    "    new_seq = seq[4:-4:2]\n",
    "    return new_seq\n",
    "\n",
    "def reverse(seq):\n",
    "    a_new_seq = seq[::-1]\n",
    "    return a_new_seq\n",
    "\n",
    "def mid_last_first(seq):\n",
    "    pass\n",
    "\n",
    "if __name__ == \"__main__\":\n",
    "   #Run some tests\n",
    "   assert exchange_first_last(seq) == \"ghis is a strint\"\n",
    "   assert other_remove(seq) == \"ti sasrn\"\n",
    "   assert first_last_other_remove(seq) == \" sas\"\n",
    "   assert reverse(seq) == \"gnirts a si siht\"\n",
    "   #assert mid_last_first(seq) == \"is a stringthis \"\n",
    "   \n",
    "   #assert exchange_first_last(tup) == (32, 54, 13, 12, 5, 2)\n",
    "   assert other_remove(tup) == (2, 13, 5)\n",
    "   assert first_last_other_remove(tup) == ()\n",
    "   assert reverse(tup) == (32, 5, 12, 13, 54, 2)\n",
    "   #assert mid_last_first(tup) == (13, 12, 5, 32, 2, 54)\n",
    "   \n",
    "   print(\"Tests passed!\")"
   ]
  },
  {
   "cell_type": "code",
   "execution_count": null,
   "metadata": {},
   "outputs": [],
   "source": [
    "exchange_first_last(seq)"
   ]
  },
  {
   "cell_type": "code",
   "execution_count": null,
   "metadata": {},
   "outputs": [],
   "source": [
    "exchange_first_last(tup)"
   ]
  },
  {
   "cell_type": "code",
   "execution_count": null,
   "metadata": {},
   "outputs": [],
   "source": [
    "other_remove(seq)"
   ]
  },
  {
   "cell_type": "code",
   "execution_count": null,
   "metadata": {},
   "outputs": [],
   "source": [
    "other_remove(tup)"
   ]
  },
  {
   "cell_type": "code",
   "execution_count": null,
   "metadata": {},
   "outputs": [],
   "source": [
    "first_last_other_remove(seq)"
   ]
  },
  {
   "cell_type": "code",
   "execution_count": null,
   "metadata": {},
   "outputs": [],
   "source": [
    "first_last_other_remove(tup)"
   ]
  },
  {
   "cell_type": "code",
   "execution_count": null,
   "metadata": {},
   "outputs": [],
   "source": [
    "reverse(seq)"
   ]
  },
  {
   "cell_type": "code",
   "execution_count": null,
   "metadata": {},
   "outputs": [],
   "source": [
    "reverse(tup)"
   ]
  },
  {
   "cell_type": "code",
   "execution_count": null,
   "metadata": {},
   "outputs": [],
   "source": [
    "\n"
   ]
  }
 ],
 "metadata": {
  "kernelspec": {
   "display_name": "Python 2",
   "language": "python",
   "name": "python2"
  },
  "language_info": {
   "codemirror_mode": {
    "name": "ipython",
    "version": 2
   },
   "file_extension": ".py",
   "mimetype": "text/x-python",
   "name": "python",
   "nbconvert_exporter": "python",
   "pygments_lexer": "ipython2",
   "version": "2.7.15"
  }
 },
 "nbformat": 4,
 "nbformat_minor": 2
}
