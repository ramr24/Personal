{
 "cells": [
  {
   "cell_type": "code",
   "execution_count": 1,
   "metadata": {},
   "outputs": [],
   "source": [
    "\"\"\"\n",
    "Goal: Learn the basic ins and outs of Python lists.\n",
    "\n",
    "Series 1: DONE\n",
    "DONE-Create a list that contains “Apples”, “Pears”, “Oranges” and “Peaches”.\n",
    "DONE-Display the list (plain old print() is fine…).\n",
    "DONE-Ask the user for another fruit and add it to the end of the list.\n",
    "DONE-Display the list.\n",
    "DONE-Ask the user for a number and display the number back to the user and the fruit corresponding to that number (on a 1-is-first basis). \n",
    "Remember that Python uses zero-based indexing, so you will need to correct.\n",
    "DONE-Add another fruit to the beginning of the list using “+” and display the list.\n",
    "DONE-Add another fruit to the beginning of the list using insert() and display the list.\n",
    "DONE-Display all the fruits that begin with “P”, using a for loop.\n",
    "\n",
    "Series 2: DONE\n",
    "Using the list created in series 1 above:\n",
    "\n",
    "DONE-Display the list.\n",
    "DONE-Remove the last fruit from the list.\n",
    "DONE-Display the list.\n",
    "DONE-Ask the user for a fruit to delete, find it and delete it.\n",
    "INCOMPLETE-(Bonus: Multiply the list times two. Keep asking until a match is found. Once found, delete all occurrences.)\n",
    "\n",
    "Series 3:\n",
    "Again, using the list from series 1:\n",
    "\n",
    "-Ask the user for input displaying a line like “Do you like apples?” for each fruit in the list (making the fruit all lowercase).\n",
    "DONE-For each “no”, delete that fruit from the list.\n",
    "-For any answer that is not “yes” or “no”, prompt the user to answer with one of those two values (a while loop is good here)\n",
    "DONE-Display the list.\n",
    "\n",
    "Series 4: DONE\n",
    "Once more, using the list from series 1:\n",
    "\n",
    "DONE--Make a new list with the contents of the original, but with all the letters in each item reversed.\n",
    "DONE--Delete the last item of the original list. Display the original list and the copy.\n",
    "\"\"\""
   ]
  },
  {
   "cell_type": "markdown",
   "metadata": {},
   "source": [
    "### Functions"
   ]
  },
  {
   "cell_type": "code",
   "execution_count": 2,
   "metadata": {},
   "outputs": [],
   "source": [
    "#All functions for Series 1-4\n",
    "def current_list():\n",
    "    list1 = [\"Apples\", \"Pears\", \"Oranges\", \"Peaches\"] #Create a list\n",
    "    print(\"Current List:\", list1, \"\\n\") #Display list and then a new line\n",
    "\n",
    "def add_fruit():\n",
    "    fruit = str(input(\"Enter the fruit to add to the list: \")) #Ask user to add fruit to list\n",
    "    list1.append(fruit) #Add fruit to end of list\n",
    "    print(\"New List:\", list1, \"\\n\") #Display list and then a new line\n",
    "\n",
    "def choose_fruit():\n",
    "    num = int(input(\"Enter the number to choose the fruit from the list: \")) #Ask user to choose number for fruit\n",
    "    num -= 1 #Using -1 since items in list is chosen from index of 0\n",
    "    if num < 0 : \n",
    "        print(\"Please enter a number of 1 or above.\\n\", ) #User can't choose 0 as an option\n",
    "    else:\n",
    "        print(\"Chosen Fruit:\", list1[num], \"\\n\") #Display list and then a new line\n",
    "        #print(list1[num]) #Display list\n",
    "\n",
    "def add_fruit_plus(list1):\n",
    "    list2 = [\"Pineapple\"] #Creating a new list to add item to existing list\n",
    "    list1 = list2 + list1 #Adding item to the beginning of the list\n",
    "    print(\"New List with Plus Method:\", list1, \"\\n\") #Display list and then a new line\n",
    "    \n",
    "def add_fruit_insert():\n",
    "    list1.insert(0, \"Watermelon\") #Using insert to add item to beginning of list\n",
    "    print(\"New List with Insert Method:\", list1, \"\\n\") #Display list and then a new line\n",
    "    \n",
    "def p_fruit():\n",
    "    print(\"Fruits that start with P:\")\n",
    "    for fruit in list1: #For every fruit in the list\n",
    "        if fruit.startswith(\"P\"): #If statement looks for fruits that start with P\n",
    "            print(fruit, end=\"\\n\") #Prints the fruit from the list\n",
    "    print()\n",
    "\n",
    "def remove_last_fruit():\n",
    "    list1.pop() #removes last item in list\n",
    "    print(\"New List:\", list1, \"\\n\") #Display list and then a new line\n",
    "\n",
    "def del_fruit():\n",
    "    answer = str(input(\"Enter the name of the fruit to delete: \"))\n",
    "    if answer == \"Apples\":\n",
    "        list1.remove(\"Apples\")\n",
    "    elif answer == \"Pears\":\n",
    "        list1.remove(\"Pears\")\n",
    "    elif answer == \"Oranges\":\n",
    "        list1.remove(\"Oranges\")\n",
    "    elif answer == \"Peaches\":\n",
    "        list1.remove(\"Peaches\")\n",
    "    else:\n",
    "        print(\"Please choose a fruit to delete that is within the list.\\n\")\n",
    "    print(\"New List:\", list1, \"\\n\") #Display list and then a new line"
   ]
  },
  {
   "cell_type": "markdown",
   "metadata": {},
   "source": [
    "### Series 3"
   ]
  },
  {
   "cell_type": "code",
   "execution_count": 3,
   "metadata": {},
   "outputs": [
    {
     "data": {
      "text/plain": [
       "'\\n-Ask the user for input displaying a line like “Do you like apples?” for each fruit in the list \\n(making the fruit all lowercase).\\nDONE-For each “no”, delete that fruit from the list.\\n-For any answer that is not “yes” or “no”, prompt the user to answer with one of those two values \\n(a while loop is good here)\\nDONE-Display the list.\\n\\n'"
      ]
     },
     "execution_count": 3,
     "metadata": {},
     "output_type": "execute_result"
    }
   ],
   "source": [
    "\"\"\"\n",
    "-Ask the user for input displaying a line like “Do you like apples?” for each fruit in the list \n",
    "(making the fruit all lowercase).\n",
    "DONE-For each “no”, delete that fruit from the list.\n",
    "-For any answer that is not “yes” or “no”, prompt the user to answer with one of those two values \n",
    "(a while loop is good here)\n",
    "DONE-Display the list.\n",
    "\n",
    "\"\"\""
   ]
  },
  {
   "cell_type": "code",
   "execution_count": 4,
   "metadata": {},
   "outputs": [
    {
     "data": {
      "text/plain": [
       "['Apples', 'Pears', 'Oranges', 'Peaches']"
      ]
     },
     "execution_count": 4,
     "metadata": {},
     "output_type": "execute_result"
    }
   ],
   "source": [
    "list1 = [\"Apples\", \"Pears\", \"Oranges\", \"Peaches\"]\n",
    "list1"
   ]
  },
  {
   "cell_type": "code",
   "execution_count": 16,
   "metadata": {},
   "outputs": [
    {
     "name": "stdout",
     "output_type": "stream",
     "text": [
      "Do you like watermelon?\n",
      "sad\n",
      "Please answer between yes or no.\n",
      "\n",
      "Do you like watermelon?\n",
      "s\n",
      "Please answer between yes or no.\n",
      "\n",
      "Do you like pears?\n",
      "s\n",
      "Please answer between yes or no.\n",
      "\n",
      "New List: [] \n",
      "\n"
     ]
    }
   ],
   "source": [
    "fruits = [item.lower() for item in list1]\n",
    "\n",
    "new_fruits = fruits[:]\n",
    "empty = []\n",
    "\n",
    "#while:\n",
    "for fruit in new_fruits:\n",
    "    print(\"Do you like\", fruit + \"?\")\n",
    "    answer = input(\"\")\n",
    "    if answer == \"no\":\n",
    "        new_fruits.remove(fruit)\n",
    "    elif answer == \"yes\":\n",
    "        empty.append(fruit)\n",
    "    else:\n",
    "        print(\"Please answer between yes or no.\\n\")\n",
    "\n",
    "print(\"New List:\", empty, \"\\n\") #Display list and then a new line"
   ]
  },
  {
   "cell_type": "code",
   "execution_count": 6,
   "metadata": {},
   "outputs": [
    {
     "data": {
      "text/plain": [
       "['apples', 'pears', 'oranges', 'peaches']"
      ]
     },
     "execution_count": 6,
     "metadata": {},
     "output_type": "execute_result"
    }
   ],
   "source": [
    "fruits"
   ]
  },
  {
   "cell_type": "code",
   "execution_count": 7,
   "metadata": {},
   "outputs": [
    {
     "data": {
      "text/plain": [
       "['pears', 'peaches']"
      ]
     },
     "execution_count": 7,
     "metadata": {},
     "output_type": "execute_result"
    }
   ],
   "source": [
    "new_fruits"
   ]
  },
  {
   "cell_type": "code",
   "execution_count": 8,
   "metadata": {},
   "outputs": [
    {
     "data": {
      "text/plain": [
       "[]"
      ]
     },
     "execution_count": 8,
     "metadata": {},
     "output_type": "execute_result"
    }
   ],
   "source": [
    "empty"
   ]
  },
  {
   "cell_type": "code",
   "execution_count": null,
   "metadata": {},
   "outputs": [],
   "source": []
  },
  {
   "cell_type": "markdown",
   "metadata": {},
   "source": [
    "### Series 4"
   ]
  },
  {
   "cell_type": "code",
   "execution_count": 9,
   "metadata": {},
   "outputs": [],
   "source": [
    "#Alt method \n",
    "#fruits = []     \n",
    "#for item in list1:\n",
    "#    fruits.append(item[::-1])"
   ]
  },
  {
   "cell_type": "markdown",
   "metadata": {},
   "source": [
    "### Series"
   ]
  },
  {
   "cell_type": "code",
   "execution_count": 10,
   "metadata": {},
   "outputs": [],
   "source": [
    "#Series 1-4\n",
    "def series_1(list1):\n",
    "    current_list()\n",
    "    add_fruit()\n",
    "    choose_fruit()\n",
    "    add_fruit_plus(list1)\n",
    "    add_fruit_insert()\n",
    "    p_fruit()\n",
    "\n",
    "def series_2():\n",
    "    current_list()\n",
    "    remove_last_fruit()\n",
    "    del_fruit()\n",
    "    \n",
    "def series_4():\n",
    "    current_list()\n",
    "    fruits = [item[::-1] for item in list1] #Reverse each item in the list but order stays the same\n",
    "    list1.pop()\n",
    "    print(\"New List in Reverse:\", fruits, \"\\n\") #Display list and then a new line\n",
    "    print(\"Original List:\", list1, \"\\n\") #Display list and then a new line"
   ]
  },
  {
   "cell_type": "markdown",
   "metadata": {},
   "source": [
    "### Main()"
   ]
  },
  {
   "cell_type": "code",
   "execution_count": 15,
   "metadata": {},
   "outputs": [
    {
     "name": "stdout",
     "output_type": "stream",
     "text": [
      "***************************************************************************\n",
      "Current List: ['Apples', 'Pears', 'Oranges', 'Peaches'] \n",
      "\n",
      "Enter the fruit to add to the list: Bananas\n",
      "New List: ['Watermelon', 'Pears', 'Oranges', 'Bananas'] \n",
      "\n",
      "Enter the number to choose the fruit from the list: 3\n",
      "Chosen Fruit: Oranges \n",
      "\n",
      "New List with Plus Method: ['Pineapple', 'Watermelon', 'Pears', 'Oranges', 'Bananas'] \n",
      "\n",
      "New List with Insert Method: ['Watermelon', 'Watermelon', 'Pears', 'Oranges', 'Bananas'] \n",
      "\n",
      "Fruits that start with P:\n",
      "Pears\n",
      "\n",
      "***************************************************************************\n",
      "Current List: ['Apples', 'Pears', 'Oranges', 'Peaches'] \n",
      "\n",
      "New List: ['Watermelon', 'Watermelon', 'Pears', 'Oranges'] \n",
      "\n",
      "Enter the name of the fruit to delete: Watermelon\n",
      "Please choose a fruit to delete that is within the list.\n",
      "\n",
      "New List: ['Watermelon', 'Watermelon', 'Pears', 'Oranges'] \n",
      "\n",
      "***************************************************************************\n",
      "Current List: ['Apples', 'Pears', 'Oranges', 'Peaches'] \n",
      "\n",
      "New List in Reverse: ['nolemretaW', 'nolemretaW', 'sraeP', 'segnarO'] \n",
      "\n",
      "Original List: ['Watermelon', 'Watermelon', 'Pears'] \n",
      "\n",
      "***************************************************************************\n"
     ]
    }
   ],
   "source": [
    "if __name__ == \"__main__\":\n",
    "    #Perform series 1-4\n",
    "    print(\"***************************************************************************\")\n",
    "    print(\"Series 1: \")\n",
    "    series_1(list1)\n",
    "    print(\"***************************************************************************\")\n",
    "    print(\"Series 2: \")\n",
    "    series_2()\n",
    "    print(\"***************************************************************************\")\n",
    "    print(\"Series 4: \")\n",
    "    series_4()\n",
    "    print(\"***************************************************************************\")"
   ]
  },
  {
   "cell_type": "code",
   "execution_count": null,
   "metadata": {},
   "outputs": [],
   "source": []
  }
 ],
 "metadata": {
  "kernelspec": {
   "display_name": "Python 3",
   "language": "python",
   "name": "python3"
  },
  "language_info": {
   "codemirror_mode": {
    "name": "ipython",
    "version": 3
   },
   "file_extension": ".py",
   "mimetype": "text/x-python",
   "name": "python",
   "nbconvert_exporter": "python",
   "pygments_lexer": "ipython3",
   "version": "3.6.5"
  }
 },
 "nbformat": 4,
 "nbformat_minor": 2
}
