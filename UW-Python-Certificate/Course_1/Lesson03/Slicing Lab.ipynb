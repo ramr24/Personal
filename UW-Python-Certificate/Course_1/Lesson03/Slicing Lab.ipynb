{
 "cells": [
  {
   "cell_type": "code",
   "execution_count": null,
   "metadata": {},
   "outputs": [],
   "source": [
    "\"\"\"Goal\n",
    "Get the basics of sequence slicing down.\n",
    "\n",
    "Tasks\n",
    "Write some functions that take a sequence as an argument, and return a copy of that sequence:\n",
    "\n",
    "-with the first and last items exchanged.\n",
    "DONE-with every other item removed.\n",
    "DONE-with the first 4 and the last 4 items removed, and then every other item in between.\n",
    "DONE-with the elements reversed (just with slicing).\n",
    "-with the middle third, then last third, then the first third in the new order.\n",
    "NOTE: These should work with ANY sequence – but you can use strings to test, if you like.\n",
    "\n",
    "Your functions should look like:\n",
    "\n",
    "def exchange_first_last(seq):\n",
    "    return a_new_sequence\n",
    "Tests:\n",
    "a_string = \"this is a string\"\n",
    "a_tuple = (2, 54, 13, 12, 5, 32)\n",
    "\n",
    "assert exchange_first_last(a_string) == \"ghis is a strint\"\n",
    "assert exchange_first_last(a_tuple) == (32, 54, 13, 12, 5, 2)\n",
    "assert mid_last_first(a_string) == \"is a stringthis \"\n",
    "assert mid_last_first(a_tuple) == (13, 12, 5, 32, 2, 54)\n",
    "Write a test or two like that for each of the above functions.\n",
    "\"\"\""
   ]
  },
  {
   "cell_type": "code",
   "execution_count": 25,
   "metadata": {},
   "outputs": [],
   "source": [
    "seq = 'this is a string'\n",
    "tup = (2, 54, 13, 12, 5, 32)"
   ]
  },
  {
   "cell_type": "code",
   "execution_count": 31,
   "metadata": {},
   "outputs": [
    {
     "data": {
      "text/plain": [
       "(2, 54, 13, 12, 5, 32)"
      ]
     },
     "execution_count": 31,
     "metadata": {},
     "output_type": "execute_result"
    }
   ],
   "source": [
    "tup"
   ]
  },
  {
   "cell_type": "code",
   "execution_count": 34,
   "metadata": {},
   "outputs": [],
   "source": [
    "last = tup[-1]\n",
    "first = tup[0]\n",
    "mid = tup[1:-1]"
   ]
  },
  {
   "cell_type": "code",
   "execution_count": 35,
   "metadata": {},
   "outputs": [
    {
     "data": {
      "text/plain": [
       "(32, (54, 13, 12, 5), 2)"
      ]
     },
     "execution_count": 35,
     "metadata": {},
     "output_type": "execute_result"
    }
   ],
   "source": [
    "new_tup = last, mid, first\n",
    "new_tup"
   ]
  },
  {
   "cell_type": "code",
   "execution_count": null,
   "metadata": {},
   "outputs": [],
   "source": []
  },
  {
   "cell_type": "code",
   "execution_count": null,
   "metadata": {},
   "outputs": [],
   "source": []
  },
  {
   "cell_type": "code",
   "execution_count": 6,
   "metadata": {},
   "outputs": [
    {
     "name": "stdout",
     "output_type": "stream",
     "text": [
      "Tests passed!\n"
     ]
    }
   ],
   "source": [
    "def exchange_first_last(seq):\n",
    "    first = seq[-1] \n",
    "    mid = seq[1:-1]\n",
    "    last = seq[0]\n",
    "    new_seq = first + mid + last \n",
    "    return new_seq\n",
    "\n",
    "def other_remove(seq):\n",
    "    new_seq = seq[::2]\n",
    "    return new_seq\n",
    "\n",
    "def first_last_other_remove(seq):\n",
    "    new_seq = seq[4:-4:2]\n",
    "    return new_seq\n",
    "\n",
    "def reverse(seq):\n",
    "    a_new_seq = seq[::-1]\n",
    "    return a_new_seq\n",
    "\n",
    "def mid_last_first(seq):\n",
    "    pass\n",
    "\n",
    "if __name__ == \"__main__\":\n",
    "    #Run some tests\n",
    "    #assert exchange_first_last(seq) == \"ghis is a strint\"\n",
    "    assert other_remove(seq) == \"ti sasrn\"\n",
    "    assert first_last_other_remove(seq) == \" sas\"\n",
    "    assert reverse(seq) == \"gnirts a si siht\"\n",
    "    #assert mid_last_first(seq) == \"is a stringthis \"\n",
    "\n",
    "    #assert exchange_first_last(tup) == (32, 54, 13, 12, 5, 2)\n",
    "    assert other_remove(tup) == (2, 13, 5)\n",
    "    assert first_last_other_remove(tup) == ()\n",
    "    assert reverse(tup) == (32, 5, 12, 13, 54, 2)\n",
    "    #assert mid_last_first(tup) == (13, 12, 5, 32, 2, 54)\n",
    "\n",
    "    print(\"Tests passed!\")"
   ]
  },
  {
   "cell_type": "code",
   "execution_count": 15,
   "metadata": {},
   "outputs": [
    {
     "name": "stdout",
     "output_type": "stream",
     "text": [
      "ghis is a strint\n",
      "ti sasrn\n",
      " sas\n",
      "gnirts a si siht\n"
     ]
    }
   ],
   "source": [
    "print(exchange_first_last(seq))\n",
    "print(other_remove(seq))\n",
    "print(first_last_other_remove(seq))\n",
    "print(reverse(seq))"
   ]
  },
  {
   "cell_type": "code",
   "execution_count": 18,
   "metadata": {},
   "outputs": [
    {
     "name": "stdout",
     "output_type": "stream",
     "text": [
      "(2, 13, 5)\n",
      "()\n",
      "(32, 5, 12, 13, 54, 2)\n"
     ]
    }
   ],
   "source": [
    "#print(exchange_first_last(tup))\n",
    "print(other_remove(tup))\n",
    "print(first_last_other_remove(tup))\n",
    "print(reverse(tup))"
   ]
  },
  {
   "cell_type": "code",
   "execution_count": null,
   "metadata": {},
   "outputs": [],
   "source": [
    "\n"
   ]
  }
 ],
 "metadata": {
  "kernelspec": {
   "display_name": "Python 2",
   "language": "python",
   "name": "python2"
  },
  "language_info": {
   "codemirror_mode": {
    "name": "ipython",
    "version": 2
   },
   "file_extension": ".py",
   "mimetype": "text/x-python",
   "name": "python",
   "nbconvert_exporter": "python",
   "pygments_lexer": "ipython2",
   "version": "2.7.15"
  }
 },
 "nbformat": 4,
 "nbformat_minor": 2
}
