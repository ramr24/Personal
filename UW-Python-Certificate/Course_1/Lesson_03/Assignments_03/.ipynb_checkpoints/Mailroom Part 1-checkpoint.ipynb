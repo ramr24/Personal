{
 "cells": [
  {
   "cell_type": "markdown",
   "metadata": {},
   "source": [
    "### Mailroom Part 1"
   ]
  },
  {
   "cell_type": "code",
   "execution_count": 1,
   "metadata": {},
   "outputs": [
    {
     "data": {
      "text/plain": [
       "'You work in the mail room at a local charity. \\nPart of your job is to write incredibly boring, \\nrepetitive emails thanking your donors for their \\ngenerous gifts. You are tired of doing this over \\nand over again, so you’ve decided to let Python \\nhelp you out of a jam and do your work for you.'"
      ]
     },
     "execution_count": 1,
     "metadata": {},
     "output_type": "execute_result"
    }
   ],
   "source": [
    "\"\"\"You work in the mail room at a local charity. \n",
    "Part of your job is to write incredibly boring, \n",
    "repetitive emails thanking your donors for their \n",
    "generous gifts. You are tired of doing this over \n",
    "and over again, so you’ve decided to let Python \n",
    "help you out of a jam and do your work for you.\"\"\""
   ]
  },
  {
   "cell_type": "code",
   "execution_count": 2,
   "metadata": {},
   "outputs": [
    {
     "data": {
      "text/plain": [
       "'\\nProgram Part 1:\\nWrite a small command-line script called mailroom.py. \\nThis script should be executable. The script should \\naccomplish the following goals:\\n\\nIt should have a data structure that holds a list of \\nyour donors and a history of the amounts they have donated. \\nThis structure should be populated at first with at least five \\ndonors, with between 1 and 3 donations each. \\nYou can store that data structure in the global namespace.\\nThe script should prompt the user (you) to choose from a \\nmenu of 3 actions: “Send a Thank You”, “Create a Report” or “quit”.\\n'"
      ]
     },
     "execution_count": 2,
     "metadata": {},
     "output_type": "execute_result"
    }
   ],
   "source": [
    "\"\"\"\n",
    "Program Part 1:\n",
    "Write a small command-line script called mailroom.py. \n",
    "This script should be executable. The script should \n",
    "accomplish the following goals:\n",
    "\n",
    "It should have a data structure that holds a list of \n",
    "your donors and a history of the amounts they have donated. \n",
    "This structure should be populated at first with at least five \n",
    "donors, with between 1 and 3 donations each. \n",
    "You can store that data structure in the global namespace.\n",
    "The script should prompt the user (you) to choose from a \n",
    "menu of 3 actions: “Send a Thank You”, “Create a Report” or “quit”.\n",
    "\"\"\""
   ]
  },
  {
   "cell_type": "code",
   "execution_count": 3,
   "metadata": {},
   "outputs": [
    {
     "data": {
      "text/plain": [
       "'\\nSend a Thank You:\\n\\n-If the user (you) selects “Send a Thank You” option, prompt for a Full Name.\\n-If the user types list show them a list of the donor names and re-prompt.\\n-If the user types a name not in the list, add that name to the data structure and use it.\\n-If the user types a name in the list, use it.\\n-Once a name has been selected, prompt for a donation amount.\\n-Convert the amount into a number; it is OK at this point for the program to crash if someone types a bogus amount.\\n-Add that amount to the donation history of the selected user.\\n-Finally, use string formatting to compose an email thanking the donor for their generous donation. Print the email to the terminal and return to the original prompt.\\n-It is fine (for now) for the program not to store the names of the new donors that had been added, in other words, to forget new donors once the script quits running.\\n\\n'"
      ]
     },
     "execution_count": 3,
     "metadata": {},
     "output_type": "execute_result"
    }
   ],
   "source": [
    "\"\"\"\n",
    "Send a Thank You:\n",
    "\n",
    "-If the user (you) selects “Send a Thank You” option, prompt for a Full Name.\n",
    "-If the user types list show them a list of the donor names and re-prompt.\n",
    "-If the user types a name not in the list, add that name to the data structure and use it.\n",
    "-If the user types a name in the list, use it.\n",
    "-Once a name has been selected, prompt for a donation amount.\n",
    "-Convert the amount into a number; it is OK at this point for the program to crash if someone types a bogus amount.\n",
    "-Add that amount to the donation history of the selected user.\n",
    "-Finally, use string formatting to compose an email thanking the donor for their generous donation. Print the email to the terminal and return to the original prompt.\n",
    "-It is fine (for now) for the program not to store the names of the new donors that had been added, in other words, to forget new donors once the script quits running.\n",
    "\n",
    "\"\"\""
   ]
  },
  {
   "cell_type": "code",
   "execution_count": 4,
   "metadata": {},
   "outputs": [
    {
     "data": {
      "text/plain": [
       "'\\nCreate a Report:\\n\\nIf the user (you) selected “Create a Report,” print a list of your donors, sorted by total historical donation amount.\\nInclude Donor Name, total donated, number of donations, and average donation amount as values in each row. You do not need to print out all of each donor’s donations, just the summary info.\\nUsing string formatting, format the output rows as nicely as possible. The end result should be tabular (values in each column should align with those above and below).\\nAfter printing this report, return to the original prompt.\\nAt any point, the user should be able to quit their current task and return to the original prompt.\\nFrom the original prompt, the user should be able to quit the script cleanly.\\n\\n'"
      ]
     },
     "execution_count": 4,
     "metadata": {},
     "output_type": "execute_result"
    }
   ],
   "source": [
    "\"\"\"\n",
    "Create a Report:\n",
    "\n",
    "If the user (you) selected “Create a Report,” print a list of your donors, sorted by total historical donation amount.\n",
    "Include Donor Name, total donated, number of donations, and average donation amount as values in each row. You do not need to print out all of each donor’s donations, just the summary info.\n",
    "Using string formatting, format the output rows as nicely as possible. The end result should be tabular (values in each column should align with those above and below).\n",
    "After printing this report, return to the original prompt.\n",
    "At any point, the user should be able to quit their current task and return to the original prompt.\n",
    "From the original prompt, the user should be able to quit the script cleanly.\n",
    "\n",
    "\"\"\""
   ]
  },
  {
   "cell_type": "code",
   "execution_count": 5,
   "metadata": {},
   "outputs": [
    {
     "data": {
      "text/plain": [
       "\"\\nGuidelines:\\n\\nFirst, factor your script into separate functions. Each of the above tasks can be accomplished by a series of steps. \\nWrite discreet functions that accomplish individual steps and call them.\\nSecond, use loops to control the logical flow of your program. Interactive programs are a classic use case for the while loop.\\nOf course, input() will be useful here.\\nPut the functions you write into the script at the top.\\nPut your main interaction into an if __name__ == '__main__' block.\\nFinally, for Part 1 use only functions and the basic Python data types you’ve learned about so far in Lessons 1-3. \\nThere is no need to go any farther than that for this assignment.\\n\""
      ]
     },
     "execution_count": 5,
     "metadata": {},
     "output_type": "execute_result"
    }
   ],
   "source": [
    "\"\"\"\n",
    "Guidelines:\n",
    "\n",
    "First, factor your script into separate functions. Each of the above tasks can be accomplished by a series of steps. \n",
    "Write discreet functions that accomplish individual steps and call them.\n",
    "Second, use loops to control the logical flow of your program. Interactive programs are a classic use case for the while loop.\n",
    "Of course, input() will be useful here.\n",
    "Put the functions you write into the script at the top.\n",
    "Put your main interaction into an if __name__ == '__main__' block.\n",
    "Finally, for Part 1 use only functions and the basic Python data types you’ve learned about so far in Lessons 1-3. \n",
    "There is no need to go any farther than that for this assignment.\n",
    "\"\"\""
   ]
  },
  {
   "cell_type": "code",
   "execution_count": 6,
   "metadata": {},
   "outputs": [
    {
     "data": {
      "text/plain": [
       "'\\nEnd Result:\\n\\nDonor Name                | Total Given | Num Gifts | Average Gift\\n------------------------------------------------------------------\\nWilliam Gates, III         $  653784.49           2  $   326892.24\\nMark Zuckerberg            $   16396.10           3  $     5465.37\\nJeff Bezos                 $     877.33           1  $      877.33\\nPaul Allen                 $     708.42           3  $      236.14\\n\\n'"
      ]
     },
     "execution_count": 6,
     "metadata": {},
     "output_type": "execute_result"
    }
   ],
   "source": [
    "\"\"\"\n",
    "End Result:\n",
    "\n",
    "Donor Name                | Total Given | Num Gifts | Average Gift\n",
    "------------------------------------------------------------------\n",
    "William Gates, III         $  653784.49           2  $   326892.24\n",
    "Mark Zuckerberg            $   16396.10           3  $     5465.37\n",
    "Jeff Bezos                 $     877.33           1  $      877.33\n",
    "Paul Allen                 $     708.42           3  $      236.14\n",
    "\n",
    "\"\"\""
   ]
  },
  {
   "cell_type": "code",
   "execution_count": 7,
   "metadata": {},
   "outputs": [],
   "source": [
    "#def sort_key(donor_db):\n",
    "    #return donor_db[0] #0 sort by name, 1 sort by num values\n",
    "#sorted(donor_db, key=sort_key)"
   ]
  },
  {
   "cell_type": "markdown",
   "metadata": {},
   "source": [
    "### Solution: Mailroom Part 1"
   ]
  },
  {
   "cell_type": "code",
   "execution_count": 9,
   "metadata": {},
   "outputs": [
    {
     "name": "stdout",
     "output_type": "stream",
     "text": [
      "Menu: \n",
      "Please choose from below options:\n",
      "1 - Send a Thank You\n",
      "2 - Create a Report\n",
      "3 - Quit\n",
      ">>> 1\n",
      "\n",
      "Type in the full donor name (or 'list' to view a list of donor names): list\n",
      "\n",
      "List of Donor Names:\n",
      "William Gates, III\n",
      "Mark Zuckerberg\n",
      "Jeff Bezos\n",
      "Paul Allen\n",
      "Ramkumar Rajanbabu\n",
      "\n",
      "Type in the full donor name (or 'list' to view a list of donor names): Ram\n",
      "\n",
      "Type in the donation amount: $23\n",
      "\n",
      "    Dear Ram,\n",
      "    \n",
      "    Thank you for choosing to donate to this group. A special thank you for your generous donation of $23.00.\n",
      "    \n",
      "    Sincerely, \n",
      "    Donation Society\n",
      "\n",
      "Menu: \n",
      "Please choose from below options:\n",
      "1 - Send a Thank You\n",
      "2 - Create a Report\n",
      "3 - Quit\n",
      ">>> 2\n",
      "\n",
      "Donor Name                | Total Given | Num Gifts | Average Gift\n",
      "------------------------------------------------------------------\n",
      "William Gates, III         $  653784.49           2  $   326892.24\n",
      "Mark Zuckerberg            $   16396.10           3  $     5465.37\n",
      "Jeff Bezos                 $     877.33           1  $      877.33\n",
      "Paul Allen                 $     708.42           3  $      236.14\n",
      "Ramkumar Rajanbabu         $     255.65           3  $       85.22\n",
      "Ram                        $      23.00           1  $       23.00\n",
      "\n",
      "Menu: \n",
      "Please choose from below options:\n",
      "1 - Send a Thank You\n",
      "2 - Create a Report\n",
      "3 - Quit\n",
      ">>> 3\n",
      "\n",
      "You chose to quit the program, good-bye!\n"
     ]
    },
    {
     "ename": "SystemExit",
     "evalue": "",
     "output_type": "error",
     "traceback": [
      "An exception has occurred, use %tb to see the full traceback.\n",
      "\u001b[1;31mSystemExit\u001b[0m\n"
     ]
    },
    {
     "name": "stderr",
     "output_type": "stream",
     "text": [
      "C:\\Users\\kumar\\AppData\\Local\\Continuum\\anaconda3\\lib\\site-packages\\IPython\\core\\interactiveshell.py:2971: UserWarning: To exit: use 'exit', 'quit', or Ctrl-D.\n",
      "  warn(\"To exit: use 'exit', 'quit', or Ctrl-D.\", stacklevel=1)\n"
     ]
    }
   ],
   "source": [
    "#Mailroom Part 1\n",
    "\n",
    "import sys\n",
    "\n",
    "donors_db = [[\"William Gates, III\", 653772.32, 12.17],\n",
    "            [\"Mark Zuckerberg\", 1663.23, 4300.87, 10432.0],\n",
    "            [\"Jeff Bezos\", 877.33],\n",
    "            [\"Paul Allen\", 663.23, 43.87, 1.32],\n",
    "            [\"Ramkumar Rajanbabu\", 200.30, 50.10, 5.25]]\n",
    "\n",
    "donors = [name[0] for name in donors_db] #List as donor names\n",
    "\n",
    "prompt = \"\\n\".join((\"Menu: \",\n",
    "                    \"Please choose from below options:\",\n",
    "                    \"1 - Send a Thank You\",\n",
    "                    \"2 - Create a Report\",\n",
    "                    \"3 - Quit\",\n",
    "                    \">>> \"))\n",
    "def main():\n",
    "    \"\"\"Purpose.\n",
    "    \n",
    "    Args:\n",
    "        None\n",
    "    Returns:\n",
    "        None\n",
    "    \n",
    "    \"\"\"\n",
    "    \n",
    "    while True:\n",
    "        response = input(prompt)  #continuously collect user selection\n",
    "        if response == \"1\": #Send a Thank You\n",
    "            send_a_thank_you()\n",
    "        elif response == \"2\": #Create a Report\n",
    "            create_report()\n",
    "        elif response == \"3\": #Quit\n",
    "            exit_program()\n",
    "        else:\n",
    "            print(\"Please enter a valid option! (1-3)\\n\")\n",
    "\n",
    "def send_a_thank_you():\n",
    "    \"\"\"Purpose.\n",
    "    \n",
    "    Args:\n",
    "        None\n",
    "    Returns:\n",
    "        None\n",
    "\n",
    "    \"\"\"\n",
    "\n",
    "    response = str(input(\"Type in the full donor name (or 'list' to view a list of donor names): \"))\n",
    "    if response == \"list\": #Maybe #response.lower()\n",
    "        view_donor_list()\n",
    "        send_a_thank_you() # Reprompt to main menu\n",
    "    elif response in donors:\n",
    "        donation_amount(response)\n",
    "    else:\n",
    "        donors.append(response)\n",
    "        donors_db.append([response]) #response in list because it's a new donor entry\n",
    "        donation_amount(response)\n",
    "\n",
    "def create_report():\n",
    "    \"\"\"Create a report (table with values).\n",
    "    \n",
    "    Args:\n",
    "        donor_name:\n",
    "        total_given:\n",
    "        num_gifts:\n",
    "        average_gift:\n",
    "    Returns:\n",
    "        None\n",
    "\n",
    "    \"\"\"\n",
    "    title_string = \"{:<25s} | {:s} | {:s} | {:s}\".format(\"Donor Name\", \"Total Given\", \"Num Gifts\", \"Average Gift\")\n",
    "    title_bar = len(title_string) * \"-\"    \n",
    "    \n",
    "    donor_name = []\n",
    "    total_given = []\n",
    "    num_gifts = []\n",
    "    avg_gift = []\n",
    "\n",
    "    for donor in donors_db:\n",
    "        name = donor[0]\n",
    "        donor_name.append(name)\n",
    "\n",
    "        amount = donor[1:]\n",
    "        total = sum(amount)\n",
    "        total_given.append(total)\n",
    "\n",
    "        gifts = len(amount)\n",
    "        num_gifts.append(gifts)\n",
    "\n",
    "        avg = total / gifts\n",
    "        avg_gift.append(avg)\n",
    "    \n",
    "    print()\n",
    "    print(title_string)\n",
    "    print(title_bar)\n",
    "    for index in range(len(donor_name)):\n",
    "        f_string = \"{:<25s}  ${:>11.2f}  {:>10d}  ${:>12.2f}\".format(donor_name[index], total_given[index], num_gifts[index], avg_gift[index])\n",
    "        print(f_string)\n",
    "\n",
    "def exit_program():\n",
    "    \"\"\"Exit program.\n",
    "    \n",
    "    Args:\n",
    "        None\n",
    "    Returns:\n",
    "        None\n",
    "        \n",
    "    \"\"\"\n",
    "    \n",
    "    print(\"\\nYou chose to quit the program, good-bye!\")\n",
    "    sys.exit() #Exit script\n",
    "             \n",
    "def view_donor_list():\n",
    "    \"\"\"To view donor names in a vertical list.\n",
    "    \n",
    "    Args:\n",
    "        None\n",
    "    Returns:\n",
    "        None\n",
    "\n",
    "    \"\"\"\n",
    "    \n",
    "    print(\"\\nList of Donor Names:\")\n",
    "    for donor_name in donors_db:\n",
    "        print(donor_name[0]) #zeroth index has donor names because of double list\n",
    "    \n",
    "def print_email(response, donors_amount):\n",
    "    \"\"\"Purpose.\n",
    "    \n",
    "    Args:\n",
    "        None\n",
    "    Returns:\n",
    "        None\n",
    "\n",
    "    \"\"\"\n",
    "    \n",
    "    email = \"\"\"\n",
    "    Dear {:s},\n",
    "    \n",
    "    Thank you for choosing to donate to this group. A special thank you for your generous donation of ${:0.2f}.\n",
    "    \n",
    "    Sincerely, \n",
    "    Donation Society\"\"\".format(response, donors_amount)\n",
    "    print(email)\n",
    "    \n",
    "def donation_amount(response):\n",
    "    \"\"\"Purpose.\n",
    "    \n",
    "    Args:\n",
    "        None\n",
    "    Returns:\n",
    "        None\n",
    "\n",
    "    \"\"\"\n",
    "    \n",
    "    donors_amount = float(input(\"Type in the donation amount: $\"))\n",
    "    donors_index = (donors.index(response)) #Returns the index value of donor name\n",
    "    donors_db[donors_index].append(donors_amount)\n",
    "    print_email(response, donors_amount)\n",
    "    \n",
    "if __name__ == \"__main__\":\n",
    "    # don't forget this block to guard against your code running automatically if this module is imported\n",
    "    main()"
   ]
  },
  {
   "cell_type": "code",
   "execution_count": null,
   "metadata": {},
   "outputs": [],
   "source": []
  }
 ],
 "metadata": {
  "kernelspec": {
   "display_name": "Python 3",
   "language": "python",
   "name": "python3"
  },
  "language_info": {
   "codemirror_mode": {
    "name": "ipython",
    "version": 3
   },
   "file_extension": ".py",
   "mimetype": "text/x-python",
   "name": "python",
   "nbconvert_exporter": "python",
   "pygments_lexer": "ipython3",
   "version": "3.6.5"
  }
 },
 "nbformat": 4,
 "nbformat_minor": 2
}
