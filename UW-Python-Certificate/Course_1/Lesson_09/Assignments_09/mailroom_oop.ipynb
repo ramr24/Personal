{
 "cells": [
  {
   "cell_type": "markdown",
   "metadata": {},
   "source": [
    "### Base Script"
   ]
  },
  {
   "cell_type": "code",
   "execution_count": null,
   "metadata": {},
   "outputs": [],
   "source": [
    "#Mailroom OOP\n",
    "\n",
    "import sys\n",
    "\n",
    "donors_db = {\"William Gates, III\": [653772.32, 12.17],\n",
    "             \"Mark Zuckerberg\": [1663.23, 4300.87, 10432.0],\n",
    "             \"Jeff Bezos\": [877.33],\n",
    "             \"Paul Allen\": [663.23, 43.87, 1.32],\n",
    "             \"Ramkumar Rajanbabu\": [200.30, 50.10, 5.25]}\n",
    "\n",
    "def main():\n",
    "    \"\"\"Display menu with options to user.\"\"\"\n",
    "    \n",
    "    prompt = \"\\n\".join((\"Menu: \",\n",
    "                        \"Please choose from below options:\",\n",
    "                        \"1 - Send a Thank You to a single donor\",\n",
    "                        \"2 - Create a Report\",\n",
    "                        \"3 - Send Letters to all donors\",\n",
    "                        \"4 - Quit\",\n",
    "                        \">>> \"))\n",
    "    \n",
    "    while True:\n",
    "        #Exception Handling\n",
    "        try:\n",
    "            user_response = int(input(prompt))\n",
    "        except ValueError: #ValueError if not integer/float\n",
    "            print(\"Please enter a number (not a string)!\")\n",
    "        else:\n",
    "            if user_response == 1:\n",
    "                send_thanks()\n",
    "            elif user_response == 2:\n",
    "                display_report()\n",
    "            elif user_response == 3:\n",
    "                send_letters_all()\n",
    "            elif user_response == 4:\n",
    "                exit_program()\n",
    "            elif user_response not in range(1,4):\n",
    "                print(\"Please enter a valid number within 1-4!\\n\")\n",
    "            \n",
    "def exit_program():\n",
    "    \"\"\"Exit program.\"\"\"\n",
    "    \n",
    "    print(\"\\nYou chose to quit the program, good-bye!\")\n",
    "    sys.exit() #Exit script\n",
    "            \n",
    "def send_thanks():\n",
    "    \"\"\"Show a list of donors and add a new donor based on user response.\"\"\"\n",
    "\n",
    "    name = str(input(\"Type in the full donor name (or 'list' to view a list of donor names): \"))\n",
    "    if name == \"list\":\n",
    "        view_list()\n",
    "        send_thanks() #Reprompt to main menu\n",
    "    else:\n",
    "        add_donation(name)\n",
    "\n",
    "def view_list():\n",
    "    \"\"\"To view donor names in a vertical list.\"\"\"\n",
    "    \n",
    "    print(\"\\nList of Donor Names:\")\n",
    "    for donor_name in donors_db.keys():\n",
    "        print(donor_name) #Prints each name (key)\n",
    "        \n",
    "def add_donation(name):\n",
    "    \"\"\"Add new donation amount to donor list based on user response.\n",
    "    \n",
    "    Args:\n",
    "        name: donor name\n",
    "    \"\"\"\n",
    "    \n",
    "    if name not in donors_db:\n",
    "        donors_db[name] = [] #donors_db[key] = [value]\n",
    "\n",
    "    #Exception handling\n",
    "    try:\n",
    "        donation_amount = float(input(\"Type in the donation amount: $\"))\n",
    "    except ValueError: #ValueError if not integer/float\n",
    "        print(\"Please enter an integer.\")\n",
    "    else:\n",
    "        donors_db[name].append(donation_amount) #donor_db[key].append()\n",
    "        print(write_letter(name, donation_amount))            \n",
    "\n",
    "def write_letter(name, donation_amount):\n",
    "    \"\"\"Generates letter based on donor name and donation amount.\n",
    "    \n",
    "    Args:\n",
    "        name: donor name\n",
    "        donation_amount (float): donation amount  \n",
    "    Returns:\n",
    "        letter (string): a letter in string format\n",
    "    \"\"\"\n",
    "    \n",
    "    letter = \"\\n\\tDear {:s}, \\n\\n\\tThank you for choosing to donate to this group. A special thank you for your generous donation of ${:0.2f}. \\n\\n\\tSincerely, \\n\\tDonation Society\".format(name, donation_amount)\n",
    "    return letter\n",
    "\n",
    "def display_report():\n",
    "    \"\"\"Display the report (table with values).\"\"\"\n",
    "    \n",
    "    report = create_table()\n",
    "    print(report)\n",
    "\n",
    "def create_table():\n",
    "    \"\"\"Create a table with values.\n",
    "    \n",
    "    Returns: \n",
    "        table (string): format string with table values\n",
    "    \"\"\"\n",
    "    \n",
    "    table = create_title()\n",
    "    summary = calc_donor()\n",
    "    for donor_tuple in summary:\n",
    "        row = \"\\n{:<25s}  ${:>11.2f}  {:>10d}  ${:>12.2f}\".format(*donor_tuple) #f_string\n",
    "        table += row\n",
    "    return table\n",
    "\n",
    "def create_title():\n",
    "    \"\"\"Create a title for report.\n",
    "    \n",
    "    Returns:\n",
    "        title (string): format string with title header for table\n",
    "    \"\"\"\n",
    "    \n",
    "    title = \"\\n{:<25s} | {:s} | {:s} | {:s}\\n\".format(\"Donor Name\", \"Total Given\", \"Num Gifts\", \"Average Gift\")\n",
    "    title += ((len(title) - 1) * \"-\")\n",
    "    return title\n",
    "\n",
    "def calc_donor():\n",
    "    \"\"\"Calculate table values for the report.\n",
    "    \n",
    "    Returns:\n",
    "        summary (list): a list of table values\n",
    "    \"\"\"\n",
    "    \n",
    "    #List comprehension\n",
    "    summary = [(donor_name, sum(amount), len(amount), sum(amount) / len(amount)) for donor_name, amount in donors_db.items()]\n",
    "    summary = sorted(summary, key=sort_key, reverse=True)\n",
    "    return summary\n",
    "\n",
    "def sort_key(summary):\n",
    "    \"\"\"Creates sort key for sorted function.\n",
    "    \n",
    "    Args:\n",
    "        summary: list with donor summary\n",
    "    Returns:\n",
    "        summary[1]: sorts by total_given values\n",
    "    \"\"\"\n",
    "    return summary[1]      \n",
    "        \n",
    "def send_letters_all():\n",
    "    \"\"\"Generates a thank you letter for each donor and writes each letter as a text file.\"\"\"\n",
    "    \n",
    "    for donor_name, amount in donors_db.items():\n",
    "        file_name = donor_name + \".txt\"\n",
    "        with open(file_name, 'w') as f:\n",
    "            f.write(write_letter(donor_name, sum(amount)))\n",
    "    print(\"\\nA thank you letter to each donor is saved as a text file.\")\n",
    "    \n",
    "if __name__ == \"__main__\":\n",
    "    main()"
   ]
  },
  {
   "cell_type": "code",
   "execution_count": null,
   "metadata": {},
   "outputs": [],
   "source": []
  },
  {
   "cell_type": "markdown",
   "metadata": {},
   "source": [
    "### Classes"
   ]
  },
  {
   "cell_type": "code",
   "execution_count": 39,
   "metadata": {},
   "outputs": [],
   "source": [
    "class Donor():\n",
    "    \"\"\"Donor's name and donation amount for single donor\"\"\"\n",
    "    \n",
    "    def __init__(self, name, donations = None):\n",
    "        self._name = name\n",
    "        if donations is not None:\n",
    "            self._donations = donations\n",
    "        else: \n",
    "            self._donations = []\n",
    "    \n",
    "    def __repr__(self):\n",
    "        return f\"Donor {self.name} : donation = {self.donations}\"\n",
    "    \n",
    "        \n",
    "    @property\n",
    "    def name(self):\n",
    "        return self._name\n",
    "    \n",
    "    @name.setter\n",
    "    def name(self, name):\n",
    "        self._name = name\n",
    "\n",
    "    @property\n",
    "    def donations(self):\n",
    "        return self._donations\n",
    "    \n",
    "    def add_donations(self, amount):\n",
    "        self.donations.append(amount)\n",
    "    \n",
    "    def number_donations(self):\n",
    "        return len(self._donations)\n",
    "    \n",
    "    def total_donations(self):\n",
    "        return sum(self._donations)\n",
    "    \n",
    "    def average_donations(self):\n",
    "        return int(self.total_donations()/self.number_donations())\n",
    "    \n",
    "    def letter(name, donation_amount):\n",
    "        return f\"\\n\\tDear {name}, \\n\\n\\tThank you for choosing to donate to this group. A special thank you for your generous donation of ${donation_amount:0.2f}. \\n\\n\\tSincerely, \\n\\tDonation Society\"\n",
    "    \n",
    "def input_name():\n",
    "    return input(\"Type in the donor's full name: \")\n",
    "    \n",
    "def input_donation():\n",
    "    return float(input(\"Please enter the donation amount: \"))\n",
    "    \n",
    "\n",
    "    \n",
    "d1 = Donor(\"William Gates, III\", [653772.32, 12.17])\n",
    "d2 = Donor(\"Mark Zuckerberg\", [1663.23, 4300.87, 10432.0])\n",
    "d3 = Donor(\"Jeff Bezos\", [877.33])\n",
    "d4 = Donor(\"Paul Allen\", [663.23, 43.87, 1.32])\n",
    "d5 = Donor(\"Ramkumar Rajanbabu\", [200.30, 50.10, 5.25])"
   ]
  },
  {
   "cell_type": "code",
   "execution_count": 40,
   "metadata": {},
   "outputs": [
    {
     "data": {
      "text/plain": [
       "'William Gates, III'"
      ]
     },
     "execution_count": 40,
     "metadata": {},
     "output_type": "execute_result"
    }
   ],
   "source": [
    "d1.name"
   ]
  },
  {
   "cell_type": "code",
   "execution_count": 41,
   "metadata": {},
   "outputs": [
    {
     "data": {
      "text/plain": [
       "[653772.32, 12.17]"
      ]
     },
     "execution_count": 41,
     "metadata": {},
     "output_type": "execute_result"
    }
   ],
   "source": [
    "d1.donations"
   ]
  },
  {
   "cell_type": "code",
   "execution_count": 42,
   "metadata": {},
   "outputs": [
    {
     "data": {
      "text/plain": [
       "326892"
      ]
     },
     "execution_count": 42,
     "metadata": {},
     "output_type": "execute_result"
    }
   ],
   "source": [
    "d1.average_donations()"
   ]
  },
  {
   "cell_type": "code",
   "execution_count": 43,
   "metadata": {},
   "outputs": [],
   "source": [
    "d1.add_donations(6.00)"
   ]
  },
  {
   "cell_type": "code",
   "execution_count": 44,
   "metadata": {},
   "outputs": [
    {
     "data": {
      "text/plain": [
       "3"
      ]
     },
     "execution_count": 44,
     "metadata": {},
     "output_type": "execute_result"
    }
   ],
   "source": [
    "d1.number_donations()"
   ]
  },
  {
   "cell_type": "code",
   "execution_count": 45,
   "metadata": {},
   "outputs": [
    {
     "data": {
      "text/plain": [
       "653790.49"
      ]
     },
     "execution_count": 45,
     "metadata": {},
     "output_type": "execute_result"
    }
   ],
   "source": [
    "d1.total_donations()"
   ]
  },
  {
   "cell_type": "code",
   "execution_count": 46,
   "metadata": {},
   "outputs": [
    {
     "data": {
      "text/plain": [
       "'\\n\\tDear Donor William Gates, III : donation = [653772.32, 12.17, 6.0], \\n\\n\\tThank you for choosing to donate to this group. A special thank you for your generous donation of $23.00. \\n\\n\\tSincerely, \\n\\tDonation Society'"
      ]
     },
     "execution_count": 46,
     "metadata": {},
     "output_type": "execute_result"
    }
   ],
   "source": [
    "d1.letter(23)"
   ]
  },
  {
   "cell_type": "code",
   "execution_count": null,
   "metadata": {},
   "outputs": [],
   "source": []
  },
  {
   "cell_type": "code",
   "execution_count": 49,
   "metadata": {},
   "outputs": [],
   "source": [
    "class DonorCollection():\n",
    "    \n",
    "    def __init__(self, donors=None):\n",
    "        if donors:\n",
    "            self._donors = donors\n",
    "        else:\n",
    "            self._donors = []\n",
    "    \n",
    "    def __repr__(self):\n",
    "        return f\"Donors database: {self.donors}\"\n",
    "    \n",
    "    @property\n",
    "    def donors(self):\n",
    "        return self._donors\n",
    "    \n",
    "    def add_new_donor(self, donor):\n",
    "        self.donors.append(donor)\n",
    "    \n",
    "    def list_donor(self):\n",
    "        return [donor.name for donor in self.donors]\n",
    "    \n",
    "    def list_donations(self):\n",
    "        return [donor.donations for donor in self.donors]\n",
    "    \n",
    "    \n",
    "    \n",
    "    def send_thanks(self):\n",
    "    \"\"\"Show a list of donors and add a new donor based on user response.\"\"\"\n",
    "\n",
    "        donor_name = input_name()\n",
    "        if donor_name.lower() == \"list\":\n",
    "            print(self.list_donor())\n",
    "            send_thanks() #Reprompt to main menu\n",
    "        else:\n",
    "            add_donation(name)\n",
    "    \n",
    "    \n",
    "    \n",
    "    def add_donation(name):\n",
    "    \"\"\"Add new donation amount to donor list based on user response.\n",
    "    \n",
    "    Args:\n",
    "        name: donor name\n",
    "    \"\"\"\n",
    "    \n",
    "        if name not in donors_db:\n",
    "            donors_db[name] = [] #donors_db[key] = [value]\n",
    "\n",
    "        #Exception handling\n",
    "        try:\n",
    "            donation_amount = input_donation()\n",
    "        except ValueError: #ValueError if not integer/float\n",
    "            print(\"Please enter an integer.\")\n",
    "        else:\n",
    "            donor.add_donation(donation_amount)\n",
    "            print(letter(name, donation_amount))          \n",
    "    \n",
    "    \n",
    "    \n",
    "    \n",
    "    def send_letters_all():\n",
    "    \"\"\"Generates a thank you letter for each donor and writes each letter as a text file.\"\"\"\n",
    "    \n",
    "        for donor_name, amount in donors_db.items():\n",
    "            file_name = donor_name + \".txt\"\n",
    "            with open(file_name, 'w') as f:\n",
    "                f.write(write_letter(donor_name, sum(amount)))\n",
    "        print(\"\\nA thank you letter to each donor is saved as a text file.\")\n",
    "    \n",
    "    \n",
    "    \n",
    "    \n",
    "    \n",
    "    \n",
    "    \n",
    "donors_db = DonorCollection([Donor(\"William Gates, III\", [653772.32, 12.17]),\n",
    "                                 Donor(\"Mark Zuckerberg\", [1663.23, 4300.87, 10432.0]),\n",
    "                                 Donor(\"Jeff Bezos\", [877.33]),\n",
    "                                 Donor(\"Paul Allen\", [663.23, 43.87, 1.32]),\n",
    "                                 Donor(\"Ramkumar Rajanbabu\", [200.30, 50.10, 5.25])])"
   ]
  },
  {
   "cell_type": "code",
   "execution_count": 52,
   "metadata": {},
   "outputs": [
    {
     "data": {
      "text/plain": [
       "Donors database: [Donor William Gates, III : donation = [653772.32, 12.17], Donor Mark Zuckerberg : donation = [1663.23, 4300.87, 10432.0], Donor Jeff Bezos : donation = [877.33], Donor Paul Allen : donation = [663.23, 43.87, 1.32], Donor Ramkumar Rajanbabu : donation = [200.3, 50.1, 5.25]]"
      ]
     },
     "execution_count": 52,
     "metadata": {},
     "output_type": "execute_result"
    }
   ],
   "source": [
    "donors_db"
   ]
  },
  {
   "cell_type": "code",
   "execution_count": null,
   "metadata": {},
   "outputs": [],
   "source": []
  },
  {
   "cell_type": "code",
   "execution_count": null,
   "metadata": {},
   "outputs": [],
   "source": []
  },
  {
   "cell_type": "code",
   "execution_count": null,
   "metadata": {},
   "outputs": [],
   "source": []
  },
  {
   "cell_type": "code",
   "execution_count": null,
   "metadata": {},
   "outputs": [],
   "source": []
  },
  {
   "cell_type": "code",
   "execution_count": null,
   "metadata": {},
   "outputs": [],
   "source": []
  },
  {
   "cell_type": "code",
   "execution_count": 2,
   "metadata": {},
   "outputs": [],
   "source": [
    "class DonorCollection():\n",
    "    \"\"\"Hold all donor objects\"\"\"\n",
    "    \n",
    "    def main():\n",
    "    \"\"\"Display menu with options to user.\"\"\"\n",
    "    \n",
    "    prompt = \"\\n\".join((\"Menu: \",\n",
    "                        \"Please choose from below options:\",\n",
    "                        \"1 - Send a Thank You to a single donor\",\n",
    "                        \"2 - Create a Report\",\n",
    "                        \"3 - Send Letters to all donors\",\n",
    "                        \"4 - Quit\",\n",
    "                        \">>> \"))\n",
    "    \n",
    "    while True:\n",
    "        #Exception Handling\n",
    "        try:\n",
    "            user_response = int(input(prompt))\n",
    "        except ValueError: #ValueError if not integer/float\n",
    "            print(\"Please enter a number (not a string)!\")\n",
    "        else:\n",
    "            if user_response == 1:\n",
    "                send_thanks()\n",
    "            elif user_response == 2:\n",
    "                display_report()\n",
    "            elif user_response == 3:\n",
    "                send_letters_all()\n",
    "            elif user_response == 4:\n",
    "                exit_program()\n",
    "            elif user_response not in range(1,4):\n",
    "                print(\"Please enter a valid number within 1-4!\\n\")\n",
    "    \n",
    "    def send_letters_all():\n",
    "    \"\"\"Generates a thank you letter for each donor and writes each letter as a text file.\"\"\"\n",
    "    \n",
    "    for donor_name, amount in donors_db.items():\n",
    "        file_name = donor_name + \".txt\"\n",
    "        with open(file_name, 'w') as f:\n",
    "            f.write(write_letter(donor_name, sum(amount)))\n",
    "    print(\"\\nA thank you letter to each donor is saved as a text file.\")"
   ]
  },
  {
   "cell_type": "code",
   "execution_count": null,
   "metadata": {},
   "outputs": [],
   "source": []
  }
 ],
 "metadata": {
  "kernelspec": {
   "display_name": "Python 3",
   "language": "python",
   "name": "python3"
  },
  "language_info": {
   "codemirror_mode": {
    "name": "ipython",
    "version": 3
   },
   "file_extension": ".py",
   "mimetype": "text/x-python",
   "name": "python",
   "nbconvert_exporter": "python",
   "pygments_lexer": "ipython3",
   "version": "3.6.5"
  }
 },
 "nbformat": 4,
 "nbformat_minor": 2
}
