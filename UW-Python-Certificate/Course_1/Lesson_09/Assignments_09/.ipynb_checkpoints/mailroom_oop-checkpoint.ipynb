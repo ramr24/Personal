{
 "cells": [
  {
   "cell_type": "markdown",
   "metadata": {},
   "source": [
    "### Classes"
   ]
  },
  {
   "cell_type": "code",
   "execution_count": 1,
   "metadata": {},
   "outputs": [],
   "source": [
    "import sys\n",
    "\n",
    "class Donor():\n",
    "    \"\"\"Single donor information\"\"\"\n",
    "    \n",
    "    def __init__(self, name, donations = None):\n",
    "        self._name = name\n",
    "        if donations is not None:\n",
    "            self._donations = donations\n",
    "        else: \n",
    "            self._donations = []\n",
    "    \n",
    "    def __repr__(self):\n",
    "        return f\"Donor: {self.name}, Donations: {self.donations}\"\n",
    "    \n",
    "    def add_donations(self, amount):\n",
    "        self.donations.append(amount)\n",
    "    \n",
    "    @property\n",
    "    def name(self):\n",
    "        return self._name\n",
    "\n",
    "    @property\n",
    "    def donations(self):\n",
    "        return self._donations\n",
    "    \n",
    "    @property\n",
    "    def total_donations(self):\n",
    "        return sum(self._donations)\n",
    "    \n",
    "    @property\n",
    "    def number_donations(self):\n",
    "        return len(self._donations)\n",
    "    \n",
    "    @property\n",
    "    def average_donations(self):\n",
    "        return int(self.total_donations/self.number_donations)"
   ]
  },
  {
   "cell_type": "code",
   "execution_count": 2,
   "metadata": {},
   "outputs": [
    {
     "name": "stdout",
     "output_type": "stream",
     "text": [
      "Menu: \n",
      "Please choose from below options:\n",
      "1 - Send a Thank You to a single donor\n",
      "2 - Create a Report\n",
      "3 - Send Letters to all donors\n",
      "4 - Quit\n",
      ">>> 1\n",
      "Type in the full donor name (or 'list' to view a list of donor names): list\n",
      "['William Gates, III', 'Mark Zuckerberg', 'Jeff Bezos', 'Paul Allen', 'Ramkumar Rajanbabu']\n",
      "Type in the full donor name (or 'list' to view a list of donor names): Ram\n",
      "Please enter the donation amount: 455\n",
      "\n",
      "\tDear Ram, \n",
      "\n",
      "\tThank you for choosing to donate to this group. A special thank you for your generous donation of $455.00. \n",
      "\n",
      "\tSincerely, \n",
      "\tDonation Society\n",
      "Menu: \n",
      "Please choose from below options:\n",
      "1 - Send a Thank You to a single donor\n",
      "2 - Create a Report\n",
      "3 - Send Letters to all donors\n",
      "4 - Quit\n",
      ">>> 2\n",
      "\n",
      "Donor Name                | Total Given | Num Gifts | Average Gift\n",
      "-------------------------------------------------------------------\n",
      "William Gates, III         $  653784.49           2  $   326892.00\n",
      "Mark Zuckerberg            $   16396.10           3  $     5465.00\n",
      "Jeff Bezos                 $     877.33           1  $      877.00\n",
      "Paul Allen                 $     708.42           3  $      236.00\n",
      "Ram                        $     455.00           1  $      455.00\n",
      "Ramkumar Rajanbabu         $     255.65           3  $       85.00\n",
      "Menu: \n",
      "Please choose from below options:\n",
      "1 - Send a Thank You to a single donor\n",
      "2 - Create a Report\n",
      "3 - Send Letters to all donors\n",
      "4 - Quit\n",
      ">>> 3\n",
      "\n",
      "A thank you letter to each donor is saved as a text file.\n",
      "Menu: \n",
      "Please choose from below options:\n",
      "1 - Send a Thank You to a single donor\n",
      "2 - Create a Report\n",
      "3 - Send Letters to all donors\n",
      "4 - Quit\n",
      ">>> 4\n",
      "\n",
      "You chose to quit the program, good-bye!\n"
     ]
    },
    {
     "ename": "SystemExit",
     "evalue": "",
     "output_type": "error",
     "traceback": [
      "An exception has occurred, use %tb to see the full traceback.\n",
      "\u001b[1;31mSystemExit\u001b[0m\n"
     ]
    },
    {
     "name": "stderr",
     "output_type": "stream",
     "text": [
      "C:\\Users\\kumar\\AppData\\Local\\Continuum\\anaconda3\\lib\\site-packages\\IPython\\core\\interactiveshell.py:2971: UserWarning: To exit: use 'exit', 'quit', or Ctrl-D.\n",
      "  warn(\"To exit: use 'exit', 'quit', or Ctrl-D.\", stacklevel=1)\n"
     ]
    }
   ],
   "source": [
    "class DonorCollection():\n",
    "    \"\"\"All donor information\"\"\"\n",
    "    \n",
    "    def __init__(self, donors=None):\n",
    "        if donors is not None:\n",
    "            self.donors = donors\n",
    "        else:\n",
    "            self.donors = []\n",
    "    \n",
    "    def add_new_donor(self, donor):\n",
    "        self.donors.append(donor)\n",
    "    \n",
    "    def list_donor(self):\n",
    "        return [donor.name for donor in self.donors]\n",
    "    \n",
    "    def list_donations(self):\n",
    "        return [donor.donations for donor in self.donors]\n",
    "    \n",
    "    def send_thanks(self):\n",
    "        name = None\n",
    "        while not name:\n",
    "            name = input_name()\n",
    "            if name == \"list\":\n",
    "                print(self.list_donor())\n",
    "                name = None\n",
    "        \n",
    "        donation_amount = None\n",
    "        while not donation_amount:\n",
    "            #Exception handling\n",
    "            try:\n",
    "                donation_amount = input_donation()\n",
    "            except ValueError: #ValueError if not integer/float\n",
    "                print(\"Please enter an integer.\")\n",
    "    \n",
    "        if name not in self.list_donor():\n",
    "            self.add_new_donor(Donor(name, [donation_amount]))\n",
    "        else:\n",
    "            for donor in self.donors:\n",
    "                if donor.name == name:\n",
    "                    donor.add_donations(donation_amount)\n",
    "        print(f\"\\n\\tDear {name}, \\n\\n\\tThank you for choosing to donate to this group. A special thank you for your generous donation of ${donation_amount:0.2f}. \\n\\n\\tSincerely, \\n\\tDonation Society\")\n",
    "    \n",
    "    def display_report(self):\n",
    "        table = self.create_title()\n",
    "        for donor_report in self.get_donor_report():\n",
    "            row = \"\\n{:<25s}  ${:>11.2f}  {:>10d}  ${:>12.2f}\".format(*donor_report) #f_string\n",
    "            table += row\n",
    "        print(table)\n",
    "    \n",
    "    def create_title(self):\n",
    "        title = \"\\n{:<25s} | {:s} | {:s} | {:s}\\n\".format(\"Donor Name\", \"Total Given\", \"Num Gifts\", \"Average Gift\")\n",
    "        title += ((len(title) - 1) * \"-\")\n",
    "        return title\n",
    "    \n",
    "    def get_donor_report(self):\n",
    "        reports = []\n",
    "        for donor in self.donors:\n",
    "            reports.append([donor.name, donor.total_donations, donor.number_donations, donor.average_donations])\n",
    "        reports = sorted(reports, key=self.sort_key, reverse=True)\n",
    "        return reports\n",
    "    \n",
    "    def sort_key(self, reports):\n",
    "        return reports[1]\n",
    "    \n",
    "    def send_letters_all(self):\n",
    "        for donor in self.donors:\n",
    "            file_name = donor.name + \".txt\"\n",
    "            with open(file_name, 'w') as f:\n",
    "                f.write(f\"\\n\\tDear {donor.name}, \\n\\n\\tThank you for choosing to donate to this group. A special thank you for your generous donation of ${donor.total_donations:0.2f}. \\n\\n\\tSincerely, \\n\\tDonation Society\")\n",
    "        print(\"\\nA thank you letter to each donor is saved as a text file.\")\n",
    "\n",
    "def input_name():\n",
    "    return input(\"Type in the full donor name (or 'list' to view a list of donor names): \")\n",
    "    \n",
    "def input_donation():\n",
    "    return float(input(\"Please enter the donation amount: \"))\n",
    "        \n",
    "def exit_program():\n",
    "    \"\"\"Exit program.\"\"\"\n",
    "    \n",
    "    print(\"\\nYou chose to quit the program, good-bye!\")\n",
    "    sys.exit() #Exit script\n",
    "\n",
    "def main():\n",
    "    \"\"\"Display menu with options to user.\"\"\"\n",
    "    \n",
    "    prompt = \"\\n\".join((\"Menu: \",\n",
    "                        \"Please choose from below options:\",\n",
    "                        \"1 - Send a Thank You to a single donor\",\n",
    "                        \"2 - Create a Report\",\n",
    "                        \"3 - Send Letters to all donors\",\n",
    "                        \"4 - Quit\",\n",
    "                        \">>> \"))\n",
    "    \n",
    "    while True:\n",
    "        #Exception Handling\n",
    "        try:\n",
    "            user_response = int(input(prompt))\n",
    "        except ValueError: #ValueError if not integer/float\n",
    "            print(\"Please enter a number (not a string)!\")\n",
    "        else:\n",
    "            if user_response == 1:\n",
    "                donors_db.send_thanks()\n",
    "            elif user_response == 2:\n",
    "                donors_db.display_report()\n",
    "            elif user_response == 3:\n",
    "                donors_db.send_letters_all()\n",
    "            elif user_response == 4:\n",
    "                exit_program()\n",
    "            elif user_response not in range(1,4):\n",
    "                print(\"Please enter a valid number within 1-4!\\n\")\n",
    "\n",
    "if __name__ == \"__main__\":\n",
    "    d1 = Donor(\"William Gates, III\", [653772.32, 12.17])\n",
    "    d2 = Donor(\"Mark Zuckerberg\", [1663.23, 4300.87, 10432.0])\n",
    "    d3 = Donor(\"Jeff Bezos\", [877.33])\n",
    "    d4 = Donor(\"Paul Allen\", [663.23, 43.87, 1.32])\n",
    "    d5 = Donor(\"Ramkumar Rajanbabu\", [200.30, 50.10, 5.25])\n",
    "    donors_db = DonorCollection([d1, d2, d3, d4, d5])\n",
    "    main()"
   ]
  },
  {
   "cell_type": "code",
   "execution_count": null,
   "metadata": {},
   "outputs": [],
   "source": []
  },
  {
   "cell_type": "code",
   "execution_count": null,
   "metadata": {},
   "outputs": [],
   "source": []
  },
  {
   "cell_type": "code",
   "execution_count": null,
   "metadata": {},
   "outputs": [],
   "source": [
    "donors_db"
   ]
  },
  {
   "cell_type": "code",
   "execution_count": null,
   "metadata": {},
   "outputs": [],
   "source": [
    "donors_db.donors"
   ]
  },
  {
   "cell_type": "code",
   "execution_count": null,
   "metadata": {},
   "outputs": [],
   "source": [
    "donors_db.list_donations()"
   ]
  },
  {
   "cell_type": "code",
   "execution_count": null,
   "metadata": {},
   "outputs": [],
   "source": [
    "print(donors_db.list_donor())"
   ]
  },
  {
   "cell_type": "code",
   "execution_count": null,
   "metadata": {},
   "outputs": [],
   "source": [
    "#donors_db.send_thanks()"
   ]
  },
  {
   "cell_type": "code",
   "execution_count": null,
   "metadata": {},
   "outputs": [],
   "source": [
    "donors_db.donors"
   ]
  },
  {
   "cell_type": "code",
   "execution_count": null,
   "metadata": {},
   "outputs": [],
   "source": [
    "#donors_db.send_thanks()"
   ]
  },
  {
   "cell_type": "code",
   "execution_count": null,
   "metadata": {},
   "outputs": [],
   "source": [
    "donors_db.donors"
   ]
  },
  {
   "cell_type": "code",
   "execution_count": null,
   "metadata": {},
   "outputs": [],
   "source": [
    "donors_db.get_donor_report()"
   ]
  },
  {
   "cell_type": "code",
   "execution_count": null,
   "metadata": {},
   "outputs": [],
   "source": [
    "donors_db.create_table()"
   ]
  },
  {
   "cell_type": "code",
   "execution_count": null,
   "metadata": {},
   "outputs": [],
   "source": []
  },
  {
   "cell_type": "code",
   "execution_count": null,
   "metadata": {},
   "outputs": [],
   "source": []
  },
  {
   "cell_type": "code",
   "execution_count": null,
   "metadata": {},
   "outputs": [],
   "source": []
  },
  {
   "cell_type": "code",
   "execution_count": null,
   "metadata": {},
   "outputs": [],
   "source": []
  },
  {
   "cell_type": "code",
   "execution_count": null,
   "metadata": {},
   "outputs": [],
   "source": []
  },
  {
   "cell_type": "code",
   "execution_count": null,
   "metadata": {},
   "outputs": [],
   "source": []
  },
  {
   "cell_type": "markdown",
   "metadata": {},
   "source": [
    "### CLI.py"
   ]
  },
  {
   "cell_type": "code",
   "execution_count": null,
   "metadata": {},
   "outputs": [],
   "source": [
    "def main():\n",
    "\"\"\"Display menu with options to user.\"\"\"\n",
    "\n",
    "prompt = \"\\n\".join((\"Menu: \",\n",
    "                    \"Please choose from below options:\",\n",
    "                    \"1 - Send a Thank You to a single donor\",\n",
    "                    \"2 - Create a Report\",\n",
    "                    \"3 - Send Letters to all donors\",\n",
    "                    \"4 - Quit\",\n",
    "                    \">>> \"))\n",
    "\n",
    "while True:\n",
    "    #Exception Handling\n",
    "    try:\n",
    "        user_response = int(input(prompt))\n",
    "    except ValueError: #ValueError if not integer/float\n",
    "        print(\"Please enter a number (not a string)!\")\n",
    "    else:\n",
    "        if user_response == 1:\n",
    "            send_thanks()\n",
    "        elif user_response == 2:\n",
    "            display_report()\n",
    "        elif user_response == 3:\n",
    "            send_letters_all()\n",
    "        elif user_response == 4:\n",
    "            exit_program()\n",
    "        elif user_response not in range(1,4):\n",
    "            print(\"Please enter a valid number within 1-4!\\n\")\n",
    "\n",
    "def exit_program():\n",
    "    \"\"\"Exit program.\"\"\"\n",
    "    \n",
    "    print(\"\\nYou chose to quit the program, good-bye!\")\n",
    "    sys.exit() #Exit script            \n",
    "            \n",
    "\n",
    "def send_letters_all():\n",
    "\"\"\"Generates a thank you letter for each donor and writes each letter as a text file.\"\"\"\n",
    "\n",
    "for donor_name, amount in donors_db.items():\n",
    "    file_name = donor_name + \".txt\"\n",
    "    with open(file_name, 'w') as f:\n",
    "        f.write(write_letter(donor_name, sum(amount)))\n",
    "print(\"\\nA thank you letter to each donor is saved as a text file.\")"
   ]
  },
  {
   "cell_type": "code",
   "execution_count": null,
   "metadata": {},
   "outputs": [],
   "source": []
  }
 ],
 "metadata": {
  "kernelspec": {
   "display_name": "Python 3",
   "language": "python",
   "name": "python3"
  },
  "language_info": {
   "codemirror_mode": {
    "name": "ipython",
    "version": 3
   },
   "file_extension": ".py",
   "mimetype": "text/x-python",
   "name": "python",
   "nbconvert_exporter": "python",
   "pygments_lexer": "ipython3",
   "version": "3.6.5"
  }
 },
 "nbformat": 4,
 "nbformat_minor": 2
}
