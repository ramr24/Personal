{
 "cells": [
  {
   "cell_type": "code",
   "execution_count": 3,
   "metadata": {},
   "outputs": [
    {
     "data": {
      "text/plain": [
       "'\\nUse dicts where appropriate.\\nPart 1 of this assignment used these basic data types: numbers, strings, lists and tuples.\\n\\nHowever, using dictionaries, covered in Lesson 4, will let you re-write your program a bit more simply and efficiently.\\n\\nUpdate your mailroom program to:\\n\\nUse dicts where appropriate.\\nSee if you can use a dict to switch between the user’s selections.\\nSee if you can use a dict to switch between the users selections. see Using a Dictionary to switch for what this means.\\nConvert your main donor data structure to be a dict.\\nTry to use a dict and the .format() method to produce the letter as one big template, rather than building up a big string that produces the letter in parts.\\nExample:\\n\\nIn [3]: d\\nOut[3]: {\\'first_name\\': \\'Chris\\', \\'last_name\\': \\'Barker\\'}\\n\\n\\nIn [5]: \"My name is {first_name} {last_name}\".format(**d)\\nOut[5]: \\'My name is Chris Barker\\'\\nDon’t worry too much about the **. We’ll get into the details later, but for now it means, more or less, “pass this whole dict in as a bunch of keyword arguments.”\\n'"
      ]
     },
     "execution_count": 3,
     "metadata": {},
     "output_type": "execute_result"
    }
   ],
   "source": [
    "\"\"\"\n",
    "Use dicts where appropriate.\n",
    "Part 1 of this assignment used these basic data types: numbers, strings, lists and tuples.\n",
    "\n",
    "However, using dictionaries, covered in Lesson 4, will let you re-write your program a bit more simply and efficiently.\n",
    "\n",
    "Update your mailroom program to:\n",
    "\n",
    "Use dicts where appropriate.\n",
    "See if you can use a dict to switch between the user’s selections.\n",
    "See if you can use a dict to switch between the users selections. see Using a Dictionary to switch for what this means.\n",
    "Convert your main donor data structure to be a dict.\n",
    "Try to use a dict and the .format() method to produce the letter as one big template, rather than building up a big string that produces the letter in parts.\n",
    "Example:\n",
    "\n",
    "In [3]: d\n",
    "Out[3]: {'first_name': 'Chris', 'last_name': 'Barker'}\n",
    "\n",
    "\n",
    "In [5]: \"My name is {first_name} {last_name}\".format(**d)\n",
    "Out[5]: 'My name is Chris Barker'\n",
    "Don’t worry too much about the **. We’ll get into the details later, but for now it means, more or less, “pass this whole dict in as a bunch of keyword arguments.”\n",
    "\"\"\""
   ]
  },
  {
   "cell_type": "code",
   "execution_count": 2,
   "metadata": {},
   "outputs": [
    {
     "data": {
      "text/plain": [
       "'\\nUpdate mailroom with file writing.\\nGoal: Write a full set of letters to all donors to individual files on disk.\\n\\nIn the first version of mailroom, you generated a letter to a donor who had just made a new donation, and printed it to the screen.\\n\\nIn this version of your program, add a function (and a menu item to invoke it), that goes through all the donors in your donor data structure, generates a thank you letter for each donor, and writes each letter to disk as a text file.\\n\\nYour main menu may look something like:\\n\\nChoose an action:\\n\\n1 - Send a Thank You to a single donor.\\n2 - Create a Report.\\n3 - Send letters to all donors.\\n4 - Quit\\nThe letters should each get a unique file name – you can keep it really simple and just use the donor’s name or add a date timestamp for additional uniqueness.\\n\\nYou want to avoid specifying a hardcoded file path when creating the files, for example don’t to this:\\n\\nopen(\"/home/users/bob/dev/mailroom/thank_you.txt\", \"w\")\\nDoing so will prevent other users from running the program as it will fail to find your path. Instead, you can create files in the current working directory or you can use a temporary directory. To identify a temporary directory you can use a handy function like tempfile.gettempdir() which is also OS agnostic (meaning it can handle temp directory differences between different operating systems).\\n\\nAfter running the “send letters to everyone” option, you should see some new files in the directory. There should be a file for each donor in the database, in this case 4.\\n\\nAfter choosing action (3) above, using my example database, I get these files:\\n\\nJeff_Bezos.txt\\nMark_Zuckerberg.txt\\nPaul_Allen.txt\\nWilliam_Gates_III.txt\\n(If you want to get really fancy, ask the user for a directory name to write to!)\\n\\nAn example file content looks like this:\\n\\nDear Jeff Bezos,\\n\\n        Thank you for your very kind donation of $877.33.\\n\\n        It will be put to very good use.\\n\\n                       Sincerely,\\n                          -The Team\\nFeel free to enhance your letter template with some more information about past generosity, etc….\\n\\nThe idea is to require you to structure your code so that you can write the same letter to the screen or to disk (and thus anywhere else) and also exercise a bit of file writing. Remember to review the with statement as it is the preferred method when working with files.\\n'"
      ]
     },
     "execution_count": 2,
     "metadata": {},
     "output_type": "execute_result"
    }
   ],
   "source": [
    "\"\"\"\n",
    "Update mailroom with file writing.\n",
    "Goal: Write a full set of letters to all donors to individual files on disk.\n",
    "\n",
    "In the first version of mailroom, you generated a letter to a donor who had just made a new donation, and printed it to the screen.\n",
    "\n",
    "In this version of your program, add a function (and a menu item to invoke it), that goes through all the donors in your donor data structure, generates a thank you letter for each donor, and writes each letter to disk as a text file.\n",
    "\n",
    "Your main menu may look something like:\n",
    "\n",
    "Choose an action:\n",
    "\n",
    "1 - Send a Thank You to a single donor.\n",
    "2 - Create a Report.\n",
    "3 - Send letters to all donors.\n",
    "4 - Quit\n",
    "The letters should each get a unique file name – you can keep it really simple and just use the donor’s name or add a date timestamp for additional uniqueness.\n",
    "\n",
    "You want to avoid specifying a hardcoded file path when creating the files, for example don’t to this:\n",
    "\n",
    "open(\"/home/users/bob/dev/mailroom/thank_you.txt\", \"w\")\n",
    "Doing so will prevent other users from running the program as it will fail to find your path. Instead, you can create files in the current working directory or you can use a temporary directory. To identify a temporary directory you can use a handy function like tempfile.gettempdir() which is also OS agnostic (meaning it can handle temp directory differences between different operating systems).\n",
    "\n",
    "After running the “send letters to everyone” option, you should see some new files in the directory. There should be a file for each donor in the database, in this case 4.\n",
    "\n",
    "After choosing action (3) above, using my example database, I get these files:\n",
    "\n",
    "Jeff_Bezos.txt\n",
    "Mark_Zuckerberg.txt\n",
    "Paul_Allen.txt\n",
    "William_Gates_III.txt\n",
    "(If you want to get really fancy, ask the user for a directory name to write to!)\n",
    "\n",
    "An example file content looks like this:\n",
    "\n",
    "Dear Jeff Bezos,\n",
    "\n",
    "        Thank you for your very kind donation of $877.33.\n",
    "\n",
    "        It will be put to very good use.\n",
    "\n",
    "                       Sincerely,\n",
    "                          -The Team\n",
    "Feel free to enhance your letter template with some more information about past generosity, etc….\n",
    "\n",
    "The idea is to require you to structure your code so that you can write the same letter to the screen or to disk (and thus anywhere else) and also exercise a bit of file writing. Remember to review the with statement as it is the preferred method when working with files.\n",
    "\"\"\""
   ]
  },
  {
   "cell_type": "markdown",
   "metadata": {},
   "source": [
    "### Solution"
   ]
  },
  {
   "cell_type": "code",
   "execution_count": null,
   "metadata": {},
   "outputs": [],
   "source": []
  }
 ],
 "metadata": {
  "kernelspec": {
   "display_name": "Python 3",
   "language": "python",
   "name": "python3"
  },
  "language_info": {
   "codemirror_mode": {
    "name": "ipython",
    "version": 3
   },
   "file_extension": ".py",
   "mimetype": "text/x-python",
   "name": "python",
   "nbconvert_exporter": "python",
   "pygments_lexer": "ipython3",
   "version": "3.6.5"
  }
 },
 "nbformat": 4,
 "nbformat_minor": 2
}
