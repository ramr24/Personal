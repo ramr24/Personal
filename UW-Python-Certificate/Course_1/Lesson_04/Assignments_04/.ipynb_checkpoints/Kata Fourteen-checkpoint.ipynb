{
 "cells": [
  {
   "cell_type": "code",
   "execution_count": null,
   "metadata": {},
   "outputs": [],
   "source": [
    "\"\"\"\n",
    "Developing Your Solution\n",
    "This assignment has two parts: the key one is the trigrams exercise itself, \n",
    "but you also need to do some text processing to get a full book in \n",
    "shape for processing.\n",
    "\n",
    "Now you have a choice of data structures: string or tuple.\n",
    "\n",
    "String: The keys are a pair of words and can be represented as a string of two words with a space like so:\n",
    "Tuple: But strings are not the only type that you can use as keys in a dict; you can use any immutable type. Recall that tuples are immutable (they can’t be changed once they have been created). Since each pair of words is, well, a pair, it makes sense to store each pair in a tuple, keeping the individual words separate:\n",
    "\"\"\""
   ]
  },
  {
   "cell_type": "markdown",
   "metadata": {},
   "source": [
    "### Example File Writing "
   ]
  },
  {
   "cell_type": "code",
   "execution_count": 2,
   "metadata": {},
   "outputs": [],
   "source": [
    "f = open('sherlock_small.txt')\n",
    "sherlock_data = f.read()\n",
    "f.close()"
   ]
  },
  {
   "cell_type": "code",
   "execution_count": 4,
   "metadata": {},
   "outputs": [
    {
     "data": {
      "text/plain": [
       "\"\\nf = open('sherlock_small.txt', [mode])\\n'r', 'w', 'a'\\n'rb', 'wb', 'ab'\\n'r+', 'w+', 'a+'\\n'r+b', 'w+b', 'a+b'\\n\""
      ]
     },
     "execution_count": 4,
     "metadata": {},
     "output_type": "execute_result"
    }
   ],
   "source": [
    "\"\"\"\n",
    "f = open('sherlock_small.txt', [mode])\n",
    "'r', 'w', 'a'\n",
    "'rb', 'wb', 'ab'\n",
    "'r+', 'w+', 'a+'\n",
    "'r+b', 'w+b', 'a+b'\n",
    "\"\"\""
   ]
  },
  {
   "cell_type": "code",
   "execution_count": 5,
   "metadata": {},
   "outputs": [],
   "source": [
    "header_size = 4096\n",
    "f = open('sherlock_small.txt')\n",
    "sherlock_header = f.read(header_size)\n",
    "sherlock_rest = f.read()\n",
    "f.close()"
   ]
  },
  {
   "cell_type": "code",
   "execution_count": 7,
   "metadata": {},
   "outputs": [
    {
     "name": "stdout",
     "output_type": "stream",
     "text": [
      "One night--it was on the twentieth of March, 1888--I was\n",
      "\n",
      "returning from a journey to a patient (for I had now returned to\n",
      "\n",
      "civil practice), when my way led me through Baker Street. As I\n",
      "\n",
      "passed the well-remembered door, which must always be associated\n",
      "\n",
      "in my mind with my wooing, and with the dark incidents of the\n",
      "\n",
      "Study in Scarlet, I was seized with a keen desire to see Holmes\n",
      "\n",
      "again, and to know how he was employing his extraordinary powers.\n",
      "\n",
      "His rooms were brilliantly lit, and, even as I looked up, I saw\n",
      "\n",
      "his tall, spare figure pass twice in a dark silhouette against\n",
      "\n",
      "the blind. He was pacing the room swiftly, eagerly, with his head\n",
      "\n",
      "sunk upon his chest and his hands clasped behind him. To me, who\n",
      "\n",
      "knew his every mood and habit, his attitude and manner told their\n",
      "\n",
      "own story. He was at work again. He had risen out of his\n",
      "\n",
      "drug-created dreams and was hot upon the scent of some new\n",
      "\n",
      "problem. I rang the bell and was shown up to the chamber which\n",
      "\n",
      "had formerly been in part my own.\n",
      "\n",
      "\n",
      "\n"
     ]
    }
   ],
   "source": [
    "for line in open('sherlock_small.txt'):\n",
    "    print(line)"
   ]
  },
  {
   "cell_type": "markdown",
   "metadata": {},
   "source": [
    "### Solution"
   ]
  },
  {
   "cell_type": "code",
   "execution_count": 11,
   "metadata": {},
   "outputs": [],
   "source": [
    "def read_book():\n",
    "    with open(\"sherlock_small.txt\", \"r\") as f:\n",
    "        s = f.read()\n",
    "    f.close()"
   ]
  },
  {
   "cell_type": "code",
   "execution_count": 12,
   "metadata": {},
   "outputs": [],
   "source": [
    "read_book()"
   ]
  },
  {
   "cell_type": "code",
   "execution_count": null,
   "metadata": {},
   "outputs": [],
   "source": [
    "words = \"I wish I may I wish I might\".split()\n",
    "\n",
    "\n",
    "def build_trigrams(words):\n",
    "    \"\"\"\n",
    "    build up the trigrams dict from the list of words\n",
    "\n",
    "    returns a dict with:\n",
    "       keys: word pairs\n",
    "       values: list of followers\n",
    "    \"\"\"\n",
    "    trigrams = {}\n",
    "\n",
    "    for i in range(len(words)-2): # why -2 ?\n",
    "        pair = tuple(words[i:i + 2])\n",
    "        follower = words[i + 2]\n",
    "\n",
    "    return trigrams\n",
    "\n",
    "\n",
    "if __name__ == \"__main__\":\n",
    "    trigrams = build_trigrams(words)\n",
    "    print(trigrams)"
   ]
  },
  {
   "cell_type": "code",
   "execution_count": null,
   "metadata": {},
   "outputs": [],
   "source": []
  },
  {
   "cell_type": "code",
   "execution_count": null,
   "metadata": {},
   "outputs": [],
   "source": []
  },
  {
   "cell_type": "markdown",
   "metadata": {},
   "source": [
    "### Trial Solution"
   ]
  },
  {
   "cell_type": "code",
   "execution_count": 5,
   "metadata": {},
   "outputs": [],
   "source": [
    "#String\n",
    "trigrams = {\"I wish\": [\"I\", \"I\"],\n",
    "            \"wish I\": [\"may\", \"might\"],\n",
    "            \"may I\": [\"wish\"],\n",
    "            \"I may\": [\"I\"],\n",
    "            }"
   ]
  },
  {
   "cell_type": "code",
   "execution_count": 6,
   "metadata": {},
   "outputs": [],
   "source": [
    "#Tuple, better to use\n",
    "trigrams = {(\"I\", \"wish\"): [\"I\", \"I\"],\n",
    "            (\"wish\", \"I\"): [\"may\", \"might\"],\n",
    "            (\"may\", \"I\"): [\"wish\"],\n",
    "            (\"I\", \"may\"): [\"I\"],\n",
    "            }"
   ]
  },
  {
   "cell_type": "code",
   "execution_count": 7,
   "metadata": {},
   "outputs": [
    {
     "data": {
      "text/plain": [
       "{('I', 'wish'): ['I', 'I'],\n",
       " ('wish', 'I'): ['may', 'might'],\n",
       " ('may', 'I'): ['wish'],\n",
       " ('I', 'may'): ['I']}"
      ]
     },
     "execution_count": 7,
     "metadata": {},
     "output_type": "execute_result"
    }
   ],
   "source": [
    "trigrams"
   ]
  },
  {
   "cell_type": "code",
   "execution_count": 14,
   "metadata": {},
   "outputs": [
    {
     "name": "stdout",
     "output_type": "stream",
     "text": [
      "{}\n"
     ]
    }
   ],
   "source": [
    "words = \"I wish I may I wish I might\".split()\n",
    "\n",
    "\n",
    "def build_trigrams(words):\n",
    "    \"\"\"\n",
    "    build up the trigrams dict from the list of words\n",
    "\n",
    "    returns a dict with:\n",
    "       keys: word pairs\n",
    "       values: list of followers\n",
    "    \"\"\"\n",
    "    trigrams = {}\n",
    "\n",
    "    # build up the dict here!\n",
    "\n",
    "    return trigrams\n",
    "\n",
    "\n",
    "if __name__ == \"__main__\":\n",
    "    trigrams = build_trigrams(words)\n",
    "    print(trigrams)"
   ]
  },
  {
   "cell_type": "code",
   "execution_count": 44,
   "metadata": {},
   "outputs": [],
   "source": [
    "dict_1 = {}\n",
    "for i in range(len(words)-2): # why -2 ?\n",
    "    pair = tuple(words[i:i + 2])\n",
    "    follower = [words[i + 2]]\n",
    "    #dict_1.setdefault(pair, []).append(follower)\n",
    "    dict_1[pair] = follower"
   ]
  },
  {
   "cell_type": "code",
   "execution_count": 45,
   "metadata": {},
   "outputs": [
    {
     "data": {
      "text/plain": [
       "('wish', 'I')"
      ]
     },
     "execution_count": 45,
     "metadata": {},
     "output_type": "execute_result"
    }
   ],
   "source": [
    "pair"
   ]
  },
  {
   "cell_type": "code",
   "execution_count": 46,
   "metadata": {},
   "outputs": [],
   "source": [
    "follower"
   ]
  },
  {
   "cell_type": "code",
   "execution_count": 47,
   "metadata": {},
   "outputs": [
    {
     "data": {
      "text/plain": [
       "dict_keys([('I', 'wish'), ('wish', 'I'), ('I', 'may'), ('may', 'I')])"
      ]
     },
     "execution_count": 47,
     "metadata": {},
     "output_type": "execute_result"
    }
   ],
   "source": [
    "dict_1.keys()"
   ]
  },
  {
   "cell_type": "code",
   "execution_count": 48,
   "metadata": {},
   "outputs": [
    {
     "data": {
      "text/plain": [
       "dict_values([None, None, None, None])"
      ]
     },
     "execution_count": 48,
     "metadata": {},
     "output_type": "execute_result"
    }
   ],
   "source": [
    "dict_1.values()"
   ]
  },
  {
   "cell_type": "code",
   "execution_count": 49,
   "metadata": {},
   "outputs": [
    {
     "data": {
      "text/plain": [
       "{('I', 'wish'): None,\n",
       " ('wish', 'I'): None,\n",
       " ('I', 'may'): None,\n",
       " ('may', 'I'): None}"
      ]
     },
     "execution_count": 49,
     "metadata": {},
     "output_type": "execute_result"
    }
   ],
   "source": [
    "dict_1"
   ]
  },
  {
   "cell_type": "code",
   "execution_count": 30,
   "metadata": {},
   "outputs": [],
   "source": [
    "list_1 = [1,2,3,4,5]\n",
    "list_2 = [6,7,8,9,10]\n",
    "dict_3 = dict(zip(pair, follower))"
   ]
  },
  {
   "cell_type": "code",
   "execution_count": 31,
   "metadata": {},
   "outputs": [
    {
     "data": {
      "text/plain": [
       "{'wish': 'm', 'I': 'i'}"
      ]
     },
     "execution_count": 31,
     "metadata": {},
     "output_type": "execute_result"
    }
   ],
   "source": [
    "dict_3"
   ]
  },
  {
   "cell_type": "code",
   "execution_count": null,
   "metadata": {},
   "outputs": [],
   "source": []
  },
  {
   "cell_type": "code",
   "execution_count": null,
   "metadata": {},
   "outputs": [],
   "source": []
  },
  {
   "cell_type": "code",
   "execution_count": null,
   "metadata": {},
   "outputs": [],
   "source": []
  }
 ],
 "metadata": {
  "kernelspec": {
   "display_name": "Python 3",
   "language": "python",
   "name": "python3"
  },
  "language_info": {
   "codemirror_mode": {
    "name": "ipython",
    "version": 3
   },
   "file_extension": ".py",
   "mimetype": "text/x-python",
   "name": "python",
   "nbconvert_exporter": "python",
   "pygments_lexer": "ipython3",
   "version": "3.6.5"
  }
 },
 "nbformat": 4,
 "nbformat_minor": 2
}
