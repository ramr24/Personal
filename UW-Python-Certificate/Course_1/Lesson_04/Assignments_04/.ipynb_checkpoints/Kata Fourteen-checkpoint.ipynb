{
 "cells": [
  {
   "cell_type": "code",
   "execution_count": null,
   "metadata": {},
   "outputs": [],
   "source": [
    "\"\"\"\n",
    "Developing Your Solution\n",
    "This assignment has two parts: the key one is the trigrams exercise itself, \n",
    "but you also need to do some text processing to get a full book in \n",
    "shape for processing.\n",
    "\n",
    "Now you have a choice of data structures: string or tuple.\n",
    "\n",
    "String: The keys are a pair of words and can be represented as a string of two words with a space like so:\n",
    "Tuple: But strings are not the only type that you can use as keys in a dict; you can use any immutable type. Recall that tuples are immutable (they can’t be changed once they have been created). Since each pair of words is, well, a pair, it makes sense to store each pair in a tuple, keeping the individual words separate:\n",
    "\"\"\""
   ]
  },
  {
   "cell_type": "code",
   "execution_count": 5,
   "metadata": {},
   "outputs": [],
   "source": [
    "#String\n",
    "trigrams = {\"I wish\": [\"I\", \"I\"],\n",
    "            \"wish I\": [\"may\", \"might\"],\n",
    "            \"may I\": [\"wish\"],\n",
    "            \"I may\": [\"I\"],\n",
    "            }"
   ]
  },
  {
   "cell_type": "code",
   "execution_count": 6,
   "metadata": {},
   "outputs": [],
   "source": [
    "#Tuple, better to use\n",
    "trigrams = {(\"I\", \"wish\"): [\"I\", \"I\"],\n",
    "            (\"wish\", \"I\"): [\"may\", \"might\"],\n",
    "            (\"may\", \"I\"): [\"wish\"],\n",
    "            (\"I\", \"may\"): [\"I\"],\n",
    "            }"
   ]
  },
  {
   "cell_type": "code",
   "execution_count": 7,
   "metadata": {},
   "outputs": [
    {
     "data": {
      "text/plain": [
       "{('I', 'wish'): ['I', 'I'],\n",
       " ('wish', 'I'): ['may', 'might'],\n",
       " ('may', 'I'): ['wish'],\n",
       " ('I', 'may'): ['I']}"
      ]
     },
     "execution_count": 7,
     "metadata": {},
     "output_type": "execute_result"
    }
   ],
   "source": [
    "trigrams"
   ]
  },
  {
   "cell_type": "code",
   "execution_count": 8,
   "metadata": {},
   "outputs": [
    {
     "name": "stdout",
     "output_type": "stream",
     "text": [
      "{}\n"
     ]
    }
   ],
   "source": [
    "words = \"I wish I may I wish I might\".split()\n",
    "\n",
    "\n",
    "def build_trigrams(words):\n",
    "    \"\"\"\n",
    "    build up the trigrams dict from the list of words\n",
    "\n",
    "    returns a dict with:\n",
    "       keys: word pairs\n",
    "       values: list of followers\n",
    "    \"\"\"\n",
    "    trigrams = {}\n",
    "\n",
    "    # build up the dict here!\n",
    "\n",
    "    return trigrams\n",
    "\n",
    "\n",
    "if __name__ == \"__main__\":\n",
    "    trigrams = build_trigrams(words)\n",
    "    print(trigrams)"
   ]
  },
  {
   "cell_type": "code",
   "execution_count": null,
   "metadata": {},
   "outputs": [],
   "source": []
  }
 ],
 "metadata": {
  "kernelspec": {
   "display_name": "Python 3",
   "language": "python",
   "name": "python3"
  },
  "language_info": {
   "codemirror_mode": {
    "name": "ipython",
    "version": 3
   },
   "file_extension": ".py",
   "mimetype": "text/x-python",
   "name": "python",
   "nbconvert_exporter": "python",
   "pygments_lexer": "ipython3",
   "version": "3.6.5"
  }
 },
 "nbformat": 4,
 "nbformat_minor": 2
}
