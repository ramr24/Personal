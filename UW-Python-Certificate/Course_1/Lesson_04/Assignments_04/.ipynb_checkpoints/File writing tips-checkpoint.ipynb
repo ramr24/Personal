{
 "cells": [
  {
   "cell_type": "markdown",
   "metadata": {},
   "source": [
    "### Example File Writing "
   ]
  },
  {
   "cell_type": "code",
   "execution_count": 1,
   "metadata": {},
   "outputs": [],
   "source": [
    "f = open('sherlock_small.txt')\n",
    "sherlock_data = f.read()\n",
    "f.close()"
   ]
  },
  {
   "cell_type": "code",
   "execution_count": 2,
   "metadata": {},
   "outputs": [
    {
     "data": {
      "text/plain": [
       "\"\\nf = open('sherlock_small.txt', [mode])\\n'r', 'w', 'a'\\n'rb', 'wb', 'ab'\\n'r+', 'w+', 'a+'\\n'r+b', 'w+b', 'a+b'\\n\""
      ]
     },
     "execution_count": 2,
     "metadata": {},
     "output_type": "execute_result"
    }
   ],
   "source": [
    "\"\"\"\n",
    "f = open('sherlock_small.txt', [mode])\n",
    "'r', 'w', 'a'\n",
    "'rb', 'wb', 'ab'\n",
    "'r+', 'w+', 'a+'\n",
    "'r+b', 'w+b', 'a+b'\n",
    "\"\"\""
   ]
  },
  {
   "cell_type": "code",
   "execution_count": 3,
   "metadata": {},
   "outputs": [],
   "source": [
    "header_size = 4096\n",
    "f = open('sherlock_small.txt')\n",
    "sherlock_header = f.read(header_size)\n",
    "sherlock_rest = f.read()\n",
    "f.close()"
   ]
  },
  {
   "cell_type": "code",
   "execution_count": 4,
   "metadata": {},
   "outputs": [
    {
     "name": "stdout",
     "output_type": "stream",
     "text": [
      "One night--it was on the twentieth of March, 1888--I was\n",
      "\n",
      "returning from a journey to a patient (for I had now returned to\n",
      "\n",
      "civil practice), when my way led me through Baker Street. As I\n",
      "\n",
      "passed the well-remembered door, which must always be associated\n",
      "\n",
      "in my mind with my wooing, and with the dark incidents of the\n",
      "\n",
      "Study in Scarlet, I was seized with a keen desire to see Holmes\n",
      "\n",
      "again, and to know how he was employing his extraordinary powers.\n",
      "\n",
      "His rooms were brilliantly lit, and, even as I looked up, I saw\n",
      "\n",
      "his tall, spare figure pass twice in a dark silhouette against\n",
      "\n",
      "the blind. He was pacing the room swiftly, eagerly, with his head\n",
      "\n",
      "sunk upon his chest and his hands clasped behind him. To me, who\n",
      "\n",
      "knew his every mood and habit, his attitude and manner told their\n",
      "\n",
      "own story. He was at work again. He had risen out of his\n",
      "\n",
      "drug-created dreams and was hot upon the scent of some new\n",
      "\n",
      "problem. I rang the bell and was shown up to the chamber which\n",
      "\n",
      "had formerly been in part my own.\n",
      "\n",
      "\n",
      "\n"
     ]
    }
   ],
   "source": [
    "for line in open('sherlock_small.txt'):\n",
    "    print(line)"
   ]
  },
  {
   "cell_type": "code",
   "execution_count": 5,
   "metadata": {},
   "outputs": [],
   "source": [
    "with open(\"sherlock_small.txt\", \"r\") as f:\n",
    "    book = f.read().replace(\"\\n\", \" \").lower() #Replace new line with space and all in lowercase"
   ]
  }
 ],
 "metadata": {
  "kernelspec": {
   "display_name": "Python 3",
   "language": "python",
   "name": "python3"
  },
  "language_info": {
   "codemirror_mode": {
    "name": "ipython",
    "version": 3
   },
   "file_extension": ".py",
   "mimetype": "text/x-python",
   "name": "python",
   "nbconvert_exporter": "python",
   "pygments_lexer": "ipython3",
   "version": "3.6.5"
  }
 },
 "nbformat": 4,
 "nbformat_minor": 2
}
