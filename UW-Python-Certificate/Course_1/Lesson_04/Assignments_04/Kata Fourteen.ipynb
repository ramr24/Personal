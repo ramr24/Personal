{
 "cells": [
  {
   "cell_type": "code",
   "execution_count": 1,
   "metadata": {},
   "outputs": [
    {
     "data": {
      "text/plain": [
       "'\\nDeveloping Your Solution\\nThis assignment has two parts: the key one is the trigrams exercise itself, \\nbut you also need to do some text processing to get a full book in \\nshape for processing.\\n\\nNow you have a choice of data structures: string or tuple.\\n\\nString: The keys are a pair of words and can be represented as a string of two words with a space like so:\\nTuple: But strings are not the only type that you can use as keys in a dict; you can use any immutable type. Recall that tuples are immutable (they can’t be changed once they have been created). Since each pair of words is, well, a pair, it makes sense to store each pair in a tuple, keeping the individual words separate:\\n'"
      ]
     },
     "execution_count": 1,
     "metadata": {},
     "output_type": "execute_result"
    }
   ],
   "source": [
    "\"\"\"\n",
    "Developing Your Solution\n",
    "This assignment has two parts: the key one is the trigrams exercise itself, \n",
    "but you also need to do some text processing to get a full book in \n",
    "shape for processing.\n",
    "\n",
    "Now you have a choice of data structures: string or tuple.\n",
    "\n",
    "String: The keys are a pair of words and can be represented as a string of two words with a space like so:\n",
    "Tuple: But strings are not the only type that you can use as keys in a dict; you can use any immutable type. Recall that tuples are immutable (they can’t be changed once they have been created). Since each pair of words is, well, a pair, it makes sense to store each pair in a tuple, keeping the individual words separate:\n",
    "\"\"\""
   ]
  },
  {
   "cell_type": "markdown",
   "metadata": {},
   "source": [
    "### Example File Writing "
   ]
  },
  {
   "cell_type": "code",
   "execution_count": 2,
   "metadata": {},
   "outputs": [],
   "source": [
    "f = open('sherlock_small.txt')\n",
    "sherlock_data = f.read()\n",
    "f.close()"
   ]
  },
  {
   "cell_type": "code",
   "execution_count": 3,
   "metadata": {},
   "outputs": [
    {
     "data": {
      "text/plain": [
       "\"\\nf = open('sherlock_small.txt', [mode])\\n'r', 'w', 'a'\\n'rb', 'wb', 'ab'\\n'r+', 'w+', 'a+'\\n'r+b', 'w+b', 'a+b'\\n\""
      ]
     },
     "execution_count": 3,
     "metadata": {},
     "output_type": "execute_result"
    }
   ],
   "source": [
    "\"\"\"\n",
    "f = open('sherlock_small.txt', [mode])\n",
    "'r', 'w', 'a'\n",
    "'rb', 'wb', 'ab'\n",
    "'r+', 'w+', 'a+'\n",
    "'r+b', 'w+b', 'a+b'\n",
    "\"\"\""
   ]
  },
  {
   "cell_type": "code",
   "execution_count": 4,
   "metadata": {},
   "outputs": [],
   "source": [
    "header_size = 4096\n",
    "f = open('sherlock_small.txt')\n",
    "sherlock_header = f.read(header_size)\n",
    "sherlock_rest = f.read()\n",
    "f.close()"
   ]
  },
  {
   "cell_type": "code",
   "execution_count": 5,
   "metadata": {},
   "outputs": [
    {
     "name": "stdout",
     "output_type": "stream",
     "text": [
      "One night--it was on the twentieth of March, 1888--I was\n",
      "\n",
      "returning from a journey to a patient (for I had now returned to\n",
      "\n",
      "civil practice), when my way led me through Baker Street. As I\n",
      "\n",
      "passed the well-remembered door, which must always be associated\n",
      "\n",
      "in my mind with my wooing, and with the dark incidents of the\n",
      "\n",
      "Study in Scarlet, I was seized with a keen desire to see Holmes\n",
      "\n",
      "again, and to know how he was employing his extraordinary powers.\n",
      "\n",
      "His rooms were brilliantly lit, and, even as I looked up, I saw\n",
      "\n",
      "his tall, spare figure pass twice in a dark silhouette against\n",
      "\n",
      "the blind. He was pacing the room swiftly, eagerly, with his head\n",
      "\n",
      "sunk upon his chest and his hands clasped behind him. To me, who\n",
      "\n",
      "knew his every mood and habit, his attitude and manner told their\n",
      "\n",
      "own story. He was at work again. He had risen out of his\n",
      "\n",
      "drug-created dreams and was hot upon the scent of some new\n",
      "\n",
      "problem. I rang the bell and was shown up to the chamber which\n",
      "\n",
      "had formerly been in part my own.\n",
      "\n",
      "\n",
      "\n"
     ]
    }
   ],
   "source": [
    "for line in open('sherlock_small.txt'):\n",
    "    print(line)"
   ]
  },
  {
   "cell_type": "code",
   "execution_count": 46,
   "metadata": {},
   "outputs": [],
   "source": [
    "with open(\"sherlock_small.txt\", \"r\") as f:\n",
    "    book = f.read().replace(\"\\n\", \" \").lower() #Replace new line with space and all in lowercase"
   ]
  },
  {
   "cell_type": "code",
   "execution_count": null,
   "metadata": {},
   "outputs": [],
   "source": []
  },
  {
   "cell_type": "code",
   "execution_count": null,
   "metadata": {},
   "outputs": [],
   "source": []
  },
  {
   "cell_type": "code",
   "execution_count": null,
   "metadata": {},
   "outputs": [],
   "source": []
  },
  {
   "cell_type": "markdown",
   "metadata": {},
   "source": [
    "### Solution"
   ]
  },
  {
   "cell_type": "code",
   "execution_count": 57,
   "metadata": {},
   "outputs": [
    {
     "name": "stdout",
     "output_type": "stream",
     "text": [
      "{('one', 'night--it'): ['was'], ('night--it', 'was'): ['on'], ('was', 'on'): ['the'], ('on', 'the'): ['twentieth'], ('the', 'twentieth'): ['of'], ('twentieth', 'of'): ['march,'], ('of', 'march,'): ['1888--i'], ('march,', '1888--i'): ['was'], ('1888--i', 'was'): ['returning'], ('was', 'returning'): ['from'], ('returning', 'from'): ['a'], ('from', 'a'): ['journey'], ('a', 'journey'): ['to'], ('journey', 'to'): ['a'], ('to', 'a'): ['patient'], ('a', 'patient'): ['(for'], ('patient', '(for'): ['i'], ('(for', 'i'): ['had'], ('i', 'had'): ['now'], ('had', 'now'): ['returned'], ('now', 'returned'): ['to'], ('returned', 'to'): ['civil'], ('to', 'civil'): ['practice),'], ('civil', 'practice),'): ['when'], ('practice),', 'when'): ['my'], ('when', 'my'): ['way'], ('my', 'way'): ['led'], ('way', 'led'): ['me'], ('led', 'me'): ['through'], ('me', 'through'): ['baker'], ('through', 'baker'): ['street.'], ('baker', 'street.'): ['as'], ('street.', 'as'): ['i'], ('as', 'i'): ['passed', 'looked'], ('i', 'passed'): ['the'], ('passed', 'the'): ['well-remembered'], ('the', 'well-remembered'): ['door,'], ('well-remembered', 'door,'): ['which'], ('door,', 'which'): ['must'], ('which', 'must'): ['always'], ('must', 'always'): ['be'], ('always', 'be'): ['associated'], ('be', 'associated'): ['in'], ('associated', 'in'): ['my'], ('in', 'my'): ['mind'], ('my', 'mind'): ['with'], ('mind', 'with'): ['my'], ('with', 'my'): ['wooing,'], ('my', 'wooing,'): ['and'], ('wooing,', 'and'): ['with'], ('and', 'with'): ['the'], ('with', 'the'): ['dark'], ('the', 'dark'): ['incidents'], ('dark', 'incidents'): ['of'], ('incidents', 'of'): ['the'], ('of', 'the'): ['study'], ('the', 'study'): ['in'], ('study', 'in'): ['scarlet,'], ('in', 'scarlet,'): ['i'], ('scarlet,', 'i'): ['was'], ('i', 'was'): ['seized'], ('was', 'seized'): ['with'], ('seized', 'with'): ['a'], ('with', 'a'): ['keen'], ('a', 'keen'): ['desire'], ('keen', 'desire'): ['to'], ('desire', 'to'): ['see'], ('to', 'see'): ['holmes'], ('see', 'holmes'): ['again,'], ('holmes', 'again,'): ['and'], ('again,', 'and'): ['to'], ('and', 'to'): ['know'], ('to', 'know'): ['how'], ('know', 'how'): ['he'], ('how', 'he'): ['was'], ('he', 'was'): ['employing', 'pacing', 'at'], ('was', 'employing'): ['his'], ('employing', 'his'): ['extraordinary'], ('his', 'extraordinary'): ['powers.'], ('extraordinary', 'powers.'): ['his'], ('powers.', 'his'): ['rooms'], ('his', 'rooms'): ['were'], ('rooms', 'were'): ['brilliantly'], ('were', 'brilliantly'): ['lit,'], ('brilliantly', 'lit,'): ['and,'], ('lit,', 'and,'): ['even'], ('and,', 'even'): ['as'], ('even', 'as'): ['i'], ('i', 'looked'): ['up,'], ('looked', 'up,'): ['i'], ('up,', 'i'): ['saw'], ('i', 'saw'): ['his'], ('saw', 'his'): ['tall,'], ('his', 'tall,'): ['spare'], ('tall,', 'spare'): ['figure'], ('spare', 'figure'): ['pass'], ('figure', 'pass'): ['twice'], ('pass', 'twice'): ['in'], ('twice', 'in'): ['a'], ('in', 'a'): ['dark'], ('a', 'dark'): ['silhouette'], ('dark', 'silhouette'): ['against'], ('silhouette', 'against'): ['the'], ('against', 'the'): ['blind.'], ('the', 'blind.'): ['he'], ('blind.', 'he'): ['was'], ('was', 'pacing'): ['the'], ('pacing', 'the'): ['room'], ('the', 'room'): ['swiftly,'], ('room', 'swiftly,'): ['eagerly,'], ('swiftly,', 'eagerly,'): ['with'], ('eagerly,', 'with'): ['his'], ('with', 'his'): ['head'], ('his', 'head'): ['sunk'], ('head', 'sunk'): ['upon'], ('sunk', 'upon'): ['his'], ('upon', 'his'): ['chest'], ('his', 'chest'): ['and'], ('chest', 'and'): ['his'], ('and', 'his'): ['hands'], ('his', 'hands'): ['clasped'], ('hands', 'clasped'): ['behind'], ('clasped', 'behind'): ['him.'], ('behind', 'him.'): ['to'], ('him.', 'to'): ['me,'], ('to', 'me,'): ['who'], ('me,', 'who'): ['knew'], ('who', 'knew'): ['his'], ('knew', 'his'): ['every'], ('his', 'every'): ['mood'], ('every', 'mood'): ['and'], ('mood', 'and'): ['habit,'], ('and', 'habit,'): ['his'], ('habit,', 'his'): ['attitude'], ('his', 'attitude'): ['and'], ('attitude', 'and'): ['manner'], ('and', 'manner'): ['told'], ('manner', 'told'): ['their'], ('told', 'their'): ['own'], ('their', 'own'): ['story.'], ('own', 'story.'): ['he'], ('story.', 'he'): ['was'], ('was', 'at'): ['work'], ('at', 'work'): ['again.'], ('work', 'again.'): ['he'], ('again.', 'he'): ['had'], ('he', 'had'): ['risen'], ('had', 'risen'): ['out'], ('risen', 'out'): ['of'], ('out', 'of'): ['his'], ('of', 'his'): ['drug-created'], ('his', 'drug-created'): ['dreams'], ('drug-created', 'dreams'): ['and'], ('dreams', 'and'): ['was'], ('and', 'was'): ['hot', 'shown'], ('was', 'hot'): ['upon'], ('hot', 'upon'): ['the'], ('upon', 'the'): ['scent'], ('the', 'scent'): ['of'], ('scent', 'of'): ['some'], ('of', 'some'): ['new'], ('some', 'new'): ['problem.'], ('new', 'problem.'): ['i'], ('problem.', 'i'): ['rang'], ('i', 'rang'): ['the'], ('rang', 'the'): ['bell'], ('the', 'bell'): ['and'], ('bell', 'and'): ['was'], ('was', 'shown'): ['up'], ('shown', 'up'): ['to'], ('up', 'to'): ['the'], ('to', 'the'): ['chamber'], ('the', 'chamber'): ['which'], ('chamber', 'which'): ['had'], ('which', 'had'): ['formerly'], ('had', 'formerly'): ['been'], ('formerly', 'been'): ['in'], ('been', 'in'): ['part'], ('in', 'part'): ['my'], ('part', 'my'): ['own.']}\n"
     ]
    }
   ],
   "source": [
    "import string\n",
    "\n",
    "def read_book():\n",
    "    \"\"\"Opens and reads text file.\"\"\"\n",
    "    \n",
    "    with open(\"sherlock_small.txt\", \"r\") as f:\n",
    "        book = f.read().replace(\"\\n\", \" \").lower() #Replace new line with space and all in lowercase\n",
    "    return book\n",
    "\n",
    "def build_trigrams(book, words):\n",
    "    \"\"\"Build up the trigrams dict from the list of words.\n",
    "\n",
    "    Args:\n",
    "    Returns:\n",
    "       keys: word pairs\n",
    "       values: list of followers\n",
    "    \"\"\"\n",
    "\n",
    "    trigrams_dict = {}\n",
    "    punc_dict = {punc: \"\" for punc in string.punctuation}\n",
    "    words = book.translate(punc_dict).split() # split by spaces\n",
    "    \n",
    "    for i in range(len(words)-2): # why -2 ?\n",
    "        pair = tuple(words[i:i + 2])\n",
    "        follower = words[i + 2]\n",
    "        trigrams_dict.setdefault(pair, []).append(follower)\n",
    "    return trigrams_dict\n",
    "\n",
    "if __name__ == \"__main__\":\n",
    "    trigrams_dict = build_trigrams(book, words)\n",
    "    print(trigrams_dict)"
   ]
  },
  {
   "cell_type": "code",
   "execution_count": 70,
   "metadata": {},
   "outputs": [],
   "source": [
    "import random\n",
    "\n",
    "def show_trigram(trigrams_dict):\n",
    "    \"\"\"Show trigrams output.\"\"\"\n",
    "    \n",
    "    print(trigrams_dict)\n",
    "    trigrams_key = random.choice(list(trigrams_dict))\n",
    "    trigrams_val = trigrams_dict.get(trigrams_key)[0]\n",
    "    print(trigrams_key)"
   ]
  },
  {
   "cell_type": "code",
   "execution_count": 71,
   "metadata": {},
   "outputs": [
    {
     "name": "stdout",
     "output_type": "stream",
     "text": [
      "{('one', 'night--it'): ['was'], ('night--it', 'was'): ['on'], ('was', 'on'): ['the'], ('on', 'the'): ['twentieth'], ('the', 'twentieth'): ['of'], ('twentieth', 'of'): ['march,'], ('of', 'march,'): ['1888--i'], ('march,', '1888--i'): ['was'], ('1888--i', 'was'): ['returning'], ('was', 'returning'): ['from'], ('returning', 'from'): ['a'], ('from', 'a'): ['journey'], ('a', 'journey'): ['to'], ('journey', 'to'): ['a'], ('to', 'a'): ['patient'], ('a', 'patient'): ['(for'], ('patient', '(for'): ['i'], ('(for', 'i'): ['had'], ('i', 'had'): ['now'], ('had', 'now'): ['returned'], ('now', 'returned'): ['to'], ('returned', 'to'): ['civil'], ('to', 'civil'): ['practice),'], ('civil', 'practice),'): ['when'], ('practice),', 'when'): ['my'], ('when', 'my'): ['way'], ('my', 'way'): ['led'], ('way', 'led'): ['me'], ('led', 'me'): ['through'], ('me', 'through'): ['baker'], ('through', 'baker'): ['street.'], ('baker', 'street.'): ['as'], ('street.', 'as'): ['i'], ('as', 'i'): ['passed', 'looked'], ('i', 'passed'): ['the'], ('passed', 'the'): ['well-remembered'], ('the', 'well-remembered'): ['door,'], ('well-remembered', 'door,'): ['which'], ('door,', 'which'): ['must'], ('which', 'must'): ['always'], ('must', 'always'): ['be'], ('always', 'be'): ['associated'], ('be', 'associated'): ['in'], ('associated', 'in'): ['my'], ('in', 'my'): ['mind'], ('my', 'mind'): ['with'], ('mind', 'with'): ['my'], ('with', 'my'): ['wooing,'], ('my', 'wooing,'): ['and'], ('wooing,', 'and'): ['with'], ('and', 'with'): ['the'], ('with', 'the'): ['dark'], ('the', 'dark'): ['incidents'], ('dark', 'incidents'): ['of'], ('incidents', 'of'): ['the'], ('of', 'the'): ['study'], ('the', 'study'): ['in'], ('study', 'in'): ['scarlet,'], ('in', 'scarlet,'): ['i'], ('scarlet,', 'i'): ['was'], ('i', 'was'): ['seized'], ('was', 'seized'): ['with'], ('seized', 'with'): ['a'], ('with', 'a'): ['keen'], ('a', 'keen'): ['desire'], ('keen', 'desire'): ['to'], ('desire', 'to'): ['see'], ('to', 'see'): ['holmes'], ('see', 'holmes'): ['again,'], ('holmes', 'again,'): ['and'], ('again,', 'and'): ['to'], ('and', 'to'): ['know'], ('to', 'know'): ['how'], ('know', 'how'): ['he'], ('how', 'he'): ['was'], ('he', 'was'): ['employing', 'pacing', 'at'], ('was', 'employing'): ['his'], ('employing', 'his'): ['extraordinary'], ('his', 'extraordinary'): ['powers.'], ('extraordinary', 'powers.'): ['his'], ('powers.', 'his'): ['rooms'], ('his', 'rooms'): ['were'], ('rooms', 'were'): ['brilliantly'], ('were', 'brilliantly'): ['lit,'], ('brilliantly', 'lit,'): ['and,'], ('lit,', 'and,'): ['even'], ('and,', 'even'): ['as'], ('even', 'as'): ['i'], ('i', 'looked'): ['up,'], ('looked', 'up,'): ['i'], ('up,', 'i'): ['saw'], ('i', 'saw'): ['his'], ('saw', 'his'): ['tall,'], ('his', 'tall,'): ['spare'], ('tall,', 'spare'): ['figure'], ('spare', 'figure'): ['pass'], ('figure', 'pass'): ['twice'], ('pass', 'twice'): ['in'], ('twice', 'in'): ['a'], ('in', 'a'): ['dark'], ('a', 'dark'): ['silhouette'], ('dark', 'silhouette'): ['against'], ('silhouette', 'against'): ['the'], ('against', 'the'): ['blind.'], ('the', 'blind.'): ['he'], ('blind.', 'he'): ['was'], ('was', 'pacing'): ['the'], ('pacing', 'the'): ['room'], ('the', 'room'): ['swiftly,'], ('room', 'swiftly,'): ['eagerly,'], ('swiftly,', 'eagerly,'): ['with'], ('eagerly,', 'with'): ['his'], ('with', 'his'): ['head'], ('his', 'head'): ['sunk'], ('head', 'sunk'): ['upon'], ('sunk', 'upon'): ['his'], ('upon', 'his'): ['chest'], ('his', 'chest'): ['and'], ('chest', 'and'): ['his'], ('and', 'his'): ['hands'], ('his', 'hands'): ['clasped'], ('hands', 'clasped'): ['behind'], ('clasped', 'behind'): ['him.'], ('behind', 'him.'): ['to'], ('him.', 'to'): ['me,'], ('to', 'me,'): ['who'], ('me,', 'who'): ['knew'], ('who', 'knew'): ['his'], ('knew', 'his'): ['every'], ('his', 'every'): ['mood'], ('every', 'mood'): ['and'], ('mood', 'and'): ['habit,'], ('and', 'habit,'): ['his'], ('habit,', 'his'): ['attitude'], ('his', 'attitude'): ['and'], ('attitude', 'and'): ['manner'], ('and', 'manner'): ['told'], ('manner', 'told'): ['their'], ('told', 'their'): ['own'], ('their', 'own'): ['story.'], ('own', 'story.'): ['he'], ('story.', 'he'): ['was'], ('was', 'at'): ['work'], ('at', 'work'): ['again.'], ('work', 'again.'): ['he'], ('again.', 'he'): ['had'], ('he', 'had'): ['risen'], ('had', 'risen'): ['out'], ('risen', 'out'): ['of'], ('out', 'of'): ['his'], ('of', 'his'): ['drug-created'], ('his', 'drug-created'): ['dreams'], ('drug-created', 'dreams'): ['and'], ('dreams', 'and'): ['was'], ('and', 'was'): ['hot', 'shown'], ('was', 'hot'): ['upon'], ('hot', 'upon'): ['the'], ('upon', 'the'): ['scent'], ('the', 'scent'): ['of'], ('scent', 'of'): ['some'], ('of', 'some'): ['new'], ('some', 'new'): ['problem.'], ('new', 'problem.'): ['i'], ('problem.', 'i'): ['rang'], ('i', 'rang'): ['the'], ('rang', 'the'): ['bell'], ('the', 'bell'): ['and'], ('bell', 'and'): ['was'], ('was', 'shown'): ['up'], ('shown', 'up'): ['to'], ('up', 'to'): ['the'], ('to', 'the'): ['chamber'], ('the', 'chamber'): ['which'], ('chamber', 'which'): ['had'], ('which', 'had'): ['formerly'], ('had', 'formerly'): ['been'], ('formerly', 'been'): ['in'], ('been', 'in'): ['part'], ('in', 'part'): ['my'], ('part', 'my'): ['own.']}\n",
      "('door,', 'which')\n"
     ]
    }
   ],
   "source": [
    "show_trigram(trigrams_dict)"
   ]
  },
  {
   "cell_type": "code",
   "execution_count": 72,
   "metadata": {},
   "outputs": [
    {
     "ename": "KeyError",
     "evalue": "165",
     "output_type": "error",
     "traceback": [
      "\u001b[1;31m---------------------------------------------------------------------------\u001b[0m",
      "\u001b[1;31mKeyError\u001b[0m                                  Traceback (most recent call last)",
      "\u001b[1;32m<ipython-input-72-fa7f0d282b86>\u001b[0m in \u001b[0;36m<module>\u001b[1;34m()\u001b[0m\n\u001b[1;32m----> 1\u001b[1;33m \u001b[0mrandom\u001b[0m\u001b[1;33m.\u001b[0m\u001b[0mchoice\u001b[0m\u001b[1;33m(\u001b[0m\u001b[0mtrigrams_dict\u001b[0m\u001b[1;33m)\u001b[0m\u001b[1;33m\u001b[0m\u001b[0m\n\u001b[0m",
      "\u001b[1;32m~\\AppData\\Local\\Continuum\\anaconda3\\lib\\random.py\u001b[0m in \u001b[0;36mchoice\u001b[1;34m(self, seq)\u001b[0m\n\u001b[0;32m    257\u001b[0m         \u001b[1;32mexcept\u001b[0m \u001b[0mValueError\u001b[0m\u001b[1;33m:\u001b[0m\u001b[1;33m\u001b[0m\u001b[0m\n\u001b[0;32m    258\u001b[0m             \u001b[1;32mraise\u001b[0m \u001b[0mIndexError\u001b[0m\u001b[1;33m(\u001b[0m\u001b[1;34m'Cannot choose from an empty sequence'\u001b[0m\u001b[1;33m)\u001b[0m \u001b[1;32mfrom\u001b[0m \u001b[1;32mNone\u001b[0m\u001b[1;33m\u001b[0m\u001b[0m\n\u001b[1;32m--> 259\u001b[1;33m         \u001b[1;32mreturn\u001b[0m \u001b[0mseq\u001b[0m\u001b[1;33m[\u001b[0m\u001b[0mi\u001b[0m\u001b[1;33m]\u001b[0m\u001b[1;33m\u001b[0m\u001b[0m\n\u001b[0m\u001b[0;32m    260\u001b[0m \u001b[1;33m\u001b[0m\u001b[0m\n\u001b[0;32m    261\u001b[0m     \u001b[1;32mdef\u001b[0m \u001b[0mshuffle\u001b[0m\u001b[1;33m(\u001b[0m\u001b[0mself\u001b[0m\u001b[1;33m,\u001b[0m \u001b[0mx\u001b[0m\u001b[1;33m,\u001b[0m \u001b[0mrandom\u001b[0m\u001b[1;33m=\u001b[0m\u001b[1;32mNone\u001b[0m\u001b[1;33m)\u001b[0m\u001b[1;33m:\u001b[0m\u001b[1;33m\u001b[0m\u001b[0m\n",
      "\u001b[1;31mKeyError\u001b[0m: 165"
     ]
    }
   ],
   "source": [
    "random.choice(trigrams_dict)"
   ]
  },
  {
   "cell_type": "code",
   "execution_count": null,
   "metadata": {},
   "outputs": [],
   "source": []
  }
 ],
 "metadata": {
  "kernelspec": {
   "display_name": "Python 3",
   "language": "python",
   "name": "python3"
  },
  "language_info": {
   "codemirror_mode": {
    "name": "ipython",
    "version": 3
   },
   "file_extension": ".py",
   "mimetype": "text/x-python",
   "name": "python",
   "nbconvert_exporter": "python",
   "pygments_lexer": "ipython3",
   "version": "3.6.5"
  }
 },
 "nbformat": 4,
 "nbformat_minor": 2
}
