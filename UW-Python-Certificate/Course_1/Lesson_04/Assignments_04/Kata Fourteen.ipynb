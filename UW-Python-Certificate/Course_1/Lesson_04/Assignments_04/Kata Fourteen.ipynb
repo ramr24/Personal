{
 "cells": [
  {
   "cell_type": "markdown",
   "metadata": {},
   "source": [
    "### Solution"
   ]
  },
  {
   "cell_type": "code",
   "execution_count": 1,
   "metadata": {},
   "outputs": [
    {
     "name": "stdout",
     "output_type": "stream",
     "text": [
      "with my wooing and with the dark incidents of the study in scarlet i was seized with a keen desire to see holmes again and to know how he was employing his extraordinary powers his rooms were brilliantly lit and even as i passed the wellremembered door which must always be associated in my mind with my wooing and with the dark incidents of the study in scarlet i was seized with a keen desire to see holmes again and to know how he\n"
     ]
    }
   ],
   "source": [
    "#Trigrams\n",
    "\n",
    "import random\n",
    "import string\n",
    "\n",
    "def main():\n",
    "    \"\"\"Runs main functions.\"\"\"\n",
    "    \n",
    "    raw_words = read_book()\n",
    "    trigrams_dict = build_dictionary(raw_words)\n",
    "    show_trigrams(trigrams_dict)\n",
    "\n",
    "def read_book():\n",
    "    \"\"\"Opens and reads text file.\"\"\"\n",
    "    \n",
    "    with open(\"sherlock_small.txt\", \"r\") as f:\n",
    "        raw_book = f.read().replace(\"\\n\", \" \").lower() #Replace new line with space and all in lowercase\n",
    "        punc_dict = {punc: \"\" for punc in string.punctuation}\n",
    "        punc_swap = str.maketrans(punc_dict)\n",
    "        raw_book = raw_book.translate(punc_swap) # split by spaces\n",
    "        raw_words = raw_book.split()\n",
    "    return raw_words\n",
    "\n",
    "def build_dictionary(raw_words):\n",
    "    \"\"\"Build trigrams dictionary\"\"\"\n",
    "    \n",
    "    trigrams_dict = {}\n",
    "    for i in range(len(raw_words)-2):\n",
    "        trigrams_dict.setdefault(raw_words[i] + \" \" + raw_words[i+1], []).append(raw_words[i+2])\n",
    "    return trigrams_dict\n",
    "\n",
    "def show_trigrams(trigrams_dict):\n",
    "    \"\"\"Show trigrams output.\"\"\"\n",
    "    \n",
    "    text = list()\n",
    "    trigram_key = random.choice(list(trigrams_dict))\n",
    "    trigram_val = trigrams_dict.get(trigram_key)[0]\n",
    "    trigram_key_split = trigram_key.split() #Splits items within key into 2 items\n",
    "\n",
    "    for each_text in trigram_key_split:\n",
    "        text.append(each_text) #Append 1st and 2nd item\n",
    "    text.append(trigram_val) #Append 3rd item\n",
    "\n",
    "    trigram_key = text[1] + \" \" + text[-1]\n",
    "    trigram_val = trigrams_dict.get(trigram_key)[0]\n",
    "\n",
    "    for index in range(random.randint(0,100)):\n",
    "        trigram_key = text[-2] + \" \" + text[-1]\n",
    "        if trigram_key in trigrams_dict:\n",
    "            trigram_val = trigrams_dict.get(trigram_key)[0]\n",
    "            text.append(trigram_val)\n",
    "        else:\n",
    "            break\n",
    "    paragraph = \" \".join(text)\n",
    "    print(paragraph)\n",
    "\n",
    "if __name__ == \"__main__\":\n",
    "    main()"
   ]
  },
  {
   "cell_type": "code",
   "execution_count": null,
   "metadata": {},
   "outputs": [],
   "source": []
  },
  {
   "cell_type": "code",
   "execution_count": null,
   "metadata": {},
   "outputs": [],
   "source": []
  },
  {
   "cell_type": "code",
   "execution_count": null,
   "metadata": {},
   "outputs": [],
   "source": []
  }
 ],
 "metadata": {
  "kernelspec": {
   "display_name": "Python 3",
   "language": "python",
   "name": "python3"
  },
  "language_info": {
   "codemirror_mode": {
    "name": "ipython",
    "version": 3
   },
   "file_extension": ".py",
   "mimetype": "text/x-python",
   "name": "python",
   "nbconvert_exporter": "python",
   "pygments_lexer": "ipython3",
   "version": "3.6.5"
  }
 },
 "nbformat": 4,
 "nbformat_minor": 2
}
