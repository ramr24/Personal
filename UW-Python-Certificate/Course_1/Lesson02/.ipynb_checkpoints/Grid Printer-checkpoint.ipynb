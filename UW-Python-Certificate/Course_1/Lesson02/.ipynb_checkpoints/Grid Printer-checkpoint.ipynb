{
 "cells": [
  {
   "cell_type": "markdown",
   "metadata": {},
   "source": [
    "# Grid Printer"
   ]
  },
  {
   "cell_type": "markdown",
   "metadata": {},
   "source": [
    "### Printing"
   ]
  },
  {
   "cell_type": "code",
   "execution_count": 1,
   "metadata": {},
   "outputs": [
    {
     "name": "stdout",
     "output_type": "stream",
     "text": [
      "+ -\n"
     ]
    }
   ],
   "source": [
    "print('+', '-')"
   ]
  },
  {
   "cell_type": "code",
   "execution_count": 2,
   "metadata": {},
   "outputs": [
    {
     "name": "stdout",
     "output_type": "stream",
     "text": [
      "+ -\n"
     ]
    }
   ],
   "source": [
    "print('+', end=' ')\n",
    "print('-')\n",
    "#print(): prints new line"
   ]
  },
  {
   "cell_type": "markdown",
   "metadata": {},
   "source": [
    "### Simple String Manipulation"
   ]
  },
  {
   "cell_type": "code",
   "execution_count": 3,
   "metadata": {},
   "outputs": [
    {
     "data": {
      "text/plain": [
       "'thisthat'"
      ]
     },
     "execution_count": 3,
     "metadata": {},
     "output_type": "execute_result"
    }
   ],
   "source": [
    "\"this\" + \"that\" #Concatenation"
   ]
  },
  {
   "cell_type": "code",
   "execution_count": 4,
   "metadata": {},
   "outputs": [],
   "source": [
    "plus = '+'\n",
    "minus = '-'"
   ]
  },
  {
   "cell_type": "code",
   "execution_count": 5,
   "metadata": {},
   "outputs": [
    {
     "data": {
      "text/plain": [
       "'+-+'"
      ]
     },
     "execution_count": 5,
     "metadata": {},
     "output_type": "execute_result"
    }
   ],
   "source": [
    "plus + minus + plus"
   ]
  },
  {
   "cell_type": "markdown",
   "metadata": {},
   "source": [
    "### Multiplication of Strings"
   ]
  },
  {
   "cell_type": "code",
   "execution_count": 6,
   "metadata": {},
   "outputs": [
    {
     "data": {
      "text/plain": [
       "'++++++++++'"
      ]
     },
     "execution_count": 6,
     "metadata": {},
     "output_type": "execute_result"
    }
   ],
   "source": [
    "'+' * 10"
   ]
  },
  {
   "cell_type": "code",
   "execution_count": 7,
   "metadata": {},
   "outputs": [],
   "source": [
    "first_name = 'Chris'\n",
    "last_name = 'Barker'"
   ]
  },
  {
   "cell_type": "code",
   "execution_count": 8,
   "metadata": {},
   "outputs": [
    {
     "data": {
      "text/plain": [
       "'*****Chris Barker*****'"
      ]
     },
     "execution_count": 8,
     "metadata": {},
     "output_type": "execute_result"
    }
   ],
   "source": [
    "5 * '*' + first_name + ' ' + last_name + 5 * '*' #Complex expression"
   ]
  },
  {
   "cell_type": "markdown",
   "metadata": {},
   "source": [
    "### Problem"
   ]
  },
  {
   "cell_type": "code",
   "execution_count": 9,
   "metadata": {},
   "outputs": [
    {
     "data": {
      "text/plain": [
       "'\\nGoal: Write a function that draws a grid like the following:\\n\\nEx. print_grid(8) \\n+ - - - - + - - - - +\\n|         |         |\\n|         |         |\\n|         |         |\\n|         |         |\\n+ - - - - + - - - - +\\n|         |         |\\n|         |         |\\n|         |         |\\n|         |         |\\n+ - - - - + - - - - +\\n'"
      ]
     },
     "execution_count": 9,
     "metadata": {},
     "output_type": "execute_result"
    }
   ],
   "source": [
    "\"\"\"\n",
    "Goal: Write a function that draws a grid like the following:\n",
    "\n",
    "Ex. print_grid(8) \n",
    "+ - - - - + - - - - +\n",
    "|         |         |\n",
    "|         |         |\n",
    "|         |         |\n",
    "|         |         |\n",
    "+ - - - - + - - - - +\n",
    "|         |         |\n",
    "|         |         |\n",
    "|         |         |\n",
    "|         |         |\n",
    "+ - - - - + - - - - +\n",
    "\"\"\""
   ]
  },
  {
   "cell_type": "markdown",
   "metadata": {},
   "source": [
    "### Solution"
   ]
  },
  {
   "cell_type": "code",
   "execution_count": 172,
   "metadata": {},
   "outputs": [
    {
     "name": "stdout",
     "output_type": "stream",
     "text": [
      "2 x 2 Grid, Size 4 Box:\n",
      "+ - - - - + - - - - + \n",
      "|         |         | \n",
      "|         |         | \n",
      "|         |         | \n",
      "|         |         | \n",
      "+ - - - - + - - - - + \n",
      "|         |         | \n",
      "|         |         | \n",
      "|         |         | \n",
      "|         |         | \n",
      "+ - - - - + - - - - + \n",
      "\n",
      "3 x 3 Grid, Size 4 Box:\n",
      "+ - - - - + - - - - + - - - - + \n",
      "|         |         |         | \n",
      "|         |         |         | \n",
      "|         |         |         | \n",
      "|         |         |         | \n",
      "+ - - - - + - - - - + - - - - + \n",
      "|         |         |         | \n",
      "|         |         |         | \n",
      "|         |         |         | \n",
      "|         |         |         | \n",
      "+ - - - - + - - - - + - - - - + \n",
      "|         |         |         | \n",
      "|         |         |         | \n",
      "|         |         |         | \n",
      "|         |         |         | \n",
      "+ - - - - + - - - - + - - - - + \n",
      "\n",
      "5 x 5 Grid, Size 3 Box:\n",
      "+ - - - + - - - + - - - + - - - + - - - + \n",
      "|       |       |       |       |       | \n",
      "|       |       |       |       |       | \n",
      "|       |       |       |       |       | \n",
      "+ - - - + - - - + - - - + - - - + - - - + \n",
      "|       |       |       |       |       | \n",
      "|       |       |       |       |       | \n",
      "|       |       |       |       |       | \n",
      "+ - - - + - - - + - - - + - - - + - - - + \n",
      "|       |       |       |       |       | \n",
      "|       |       |       |       |       | \n",
      "|       |       |       |       |       | \n",
      "+ - - - + - - - + - - - + - - - + - - - + \n",
      "|       |       |       |       |       | \n",
      "|       |       |       |       |       | \n",
      "|       |       |       |       |       | \n",
      "+ - - - + - - - + - - - + - - - + - - - + \n",
      "|       |       |       |       |       | \n",
      "|       |       |       |       |       | \n",
      "|       |       |       |       |       | \n",
      "+ - - - + - - - + - - - + - - - + - - - + \n"
     ]
    }
   ],
   "source": [
    "def print_beam(col, size):\n",
    "    plus = \"+ \"\n",
    "    minus = \"- \"\n",
    "\n",
    "    print(plus, end=\"\")\n",
    "    for line in range(col-1):\n",
    "        print(minus * size +  plus, end=\"\")\n",
    "    print(minus * size +  plus)\n",
    "\n",
    "def print_post(col, size):\n",
    "    post = \"| \"\n",
    "    space = \"  \"\n",
    "\n",
    "    print(post, end=\"\")\n",
    "    for line in range(col-1):\n",
    "        print(space * size +  post, end=\"\")\n",
    "    print(space * size +  post)\n",
    "    \n",
    "def print_grid(col, size):\n",
    "    \"\"\"\n",
    "    col: columns/rows\n",
    "    size: size of each box\n",
    "    \"\"\"\n",
    "    print_beam(col, size) #Print initial beam\n",
    "    for line in range(col): \n",
    "        for line in range(size):\n",
    "            print_post(col, size) #Prints posts in for loop based on number of col/rows\n",
    "        print_beam(col,size) \n",
    "\n",
    "def main():\n",
    "    print(\"2 x 2 Grid, Size 4 Box:\")\n",
    "    print_grid(2,4)\n",
    "    print()\n",
    "    print(\"3 x 3 Grid, Size 4 Box:\")\n",
    "    print_grid(3,4)\n",
    "    print()\n",
    "    print(\"5 x 5 Grid, Size 3 Box:\")\n",
    "    print_grid(5,3)\n",
    "        \n",
    "if __name__ == \"__main__\":\n",
    "    main()"
   ]
  }
 ],
 "metadata": {
  "kernelspec": {
   "display_name": "Python 3",
   "language": "python",
   "name": "python3"
  },
  "language_info": {
   "codemirror_mode": {
    "name": "ipython",
    "version": 3
   },
   "file_extension": ".py",
   "mimetype": "text/x-python",
   "name": "python",
   "nbconvert_exporter": "python",
   "pygments_lexer": "ipython3",
   "version": "3.6.5"
  }
 },
 "nbformat": 4,
 "nbformat_minor": 2
}
