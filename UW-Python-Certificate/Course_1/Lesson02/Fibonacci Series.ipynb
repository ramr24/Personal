{
 "cells": [
  {
   "cell_type": "markdown",
   "metadata": {},
   "source": [
    "# Fibonacci Series"
   ]
  },
  {
   "cell_type": "markdown",
   "metadata": {},
   "source": [
    "### Problem"
   ]
  },
  {
   "cell_type": "code",
   "execution_count": 1,
   "metadata": {},
   "outputs": [
    {
     "data": {
      "text/plain": [
       "'The Fibonacci Series is a numeric series starting with the integers 0 and 1.\\n\\nIn this series, the next integer is determined by summing the previous two.\\n\\nThis gives us:\\n\\n0, 1, 1, 2, 3, 5, 8, 13, ...\\nWe will write a function that computes this series – then generalize it.\\n'"
      ]
     },
     "execution_count": 1,
     "metadata": {},
     "output_type": "execute_result"
    }
   ],
   "source": [
    "\"\"\"\n",
    "The Fibonacci Series is a numeric series starting with the integers 0 and 1.\n",
    "In this series, the next integer is determined by summing the previous two.\n",
    "This gives us:\n",
    "0, 1, 1, 2, 3, 5, 8, 13, ...\n",
    "We will write a function that computes this series – then generalize it.\n",
    "\"\"\""
   ]
  },
  {
   "cell_type": "code",
   "execution_count": null,
   "metadata": {},
   "outputs": [],
   "source": [
    "\"\"\"\n",
    "-Create a new module series.py in the session02 folder in your student folder.\n",
    "-In it, add a function called fibonacci.\n",
    "-The function should have one parameter n.\n",
    "-The function should return the nth value in the fibonacci series (starting with zero index).\n",
    "-Ensure that your function has a well-formed docstring\n",
    "-Note that the fibinacci series is naturally recursive – the value is defined by previous values:\n",
    "\n",
    "fib(n) = fib(n-2) + fib(n-1)\n",
    "\"\"\""
   ]
  },
  {
   "cell_type": "code",
   "execution_count": null,
   "metadata": {},
   "outputs": [],
   "source": [
    "\"\"\"\n",
    "The Lucas Numbers are a related series of integers that start with the values 2 and 1 rather than 0 and 1. The resulting series looks like this:\n",
    "\n",
    "2, 1, 3, 4, 7, 11, 18, 29, ...\n",
    "In your series.py module, add a new function lucas that returns the nth value in the lucas numbers series (starting with zero index).\n",
    "\n",
    "Ensure that your function has a well-formed docstring\n",
    "\"\"\""
   ]
  },
  {
   "cell_type": "code",
   "execution_count": null,
   "metadata": {},
   "outputs": [],
   "source": [
    "\"\"\"\n",
    "Both the fibonacci series and the lucas numbers are based on an identical formula.\n",
    "Add a third function called sum_series with one required parameter and two optional parameters. \n",
    "The required parameter will determine which element in the series to print. \n",
    "The two optional parameters will have default values of 0 and 1 and will determine the first two values for \n",
    "the series to be produced.\n",
    "Calling this function with no optional parameters will produce numbers from the fibonacci series. \n",
    "Calling it with the optional arguments 2 and 1 will produce values from the lucas numbers. \n",
    "Other values for the optional parameters will produce other series.\n",
    "Note: While you could check the input arguments, and then call one of the functions you wrote, \n",
    "the idea of this exercise is to make a general function, rather than one specialized. \n",
    "So you should reimplement the code in this function.\n",
    "In fact, you could go back and reimplement your fibonacci and lucas functions to call this one with particular arguments.\n",
    "Ensure that your function has a well-formed docstring\n",
    "\n",
    "\"\"\""
   ]
  },
  {
   "cell_type": "markdown",
   "metadata": {},
   "source": [
    "### Solution"
   ]
  },
  {
   "cell_type": "code",
   "execution_count": 72,
   "metadata": {},
   "outputs": [],
   "source": [
    "def fibonacci(n):\n",
    "    \"\"\"\n",
    "    To print the nth value in fibonacci series based on n value.\n",
    "    \n",
    "    Arguements:\n",
    "        n: number of terms(integer)\n",
    "    \n",
    "    Returns:\n",
    "        nth: nth value in fibonacci series\n",
    "    \"\"\"\n",
    "    \n",
    "    if (n < 0):\n",
    "        print(\"Please enter a postive integer for n.\")\n",
    "    elif (n == 0):\n",
    "        return 0\n",
    "    elif (n == 1):\n",
    "        return 1\n",
    "    else:\n",
    "        nth = fibonacci(n-1) + fibonacci(n-2)\n",
    "        return nth"
   ]
  },
  {
   "cell_type": "code",
   "execution_count": 85,
   "metadata": {},
   "outputs": [
    {
     "data": {
      "text/plain": [
       "13"
      ]
     },
     "execution_count": 85,
     "metadata": {},
     "output_type": "execute_result"
    }
   ],
   "source": [
    "fibonacci(7)"
   ]
  },
  {
   "cell_type": "code",
   "execution_count": 74,
   "metadata": {},
   "outputs": [],
   "source": [
    "def lucas(n):\n",
    "    \"\"\"\n",
    "    To print the nth value in lucas series based on n value.\n",
    "    \n",
    "    Arguements:\n",
    "        n: number of terms(integer)\n",
    "    \n",
    "    Returns:\n",
    "        nth: nth value in lucas series\n",
    "    \"\"\"\n",
    "    \n",
    "    if (n < 0):\n",
    "        print(\"Please enter a postive integer for n.\")\n",
    "    elif (n == 0):\n",
    "        return 2\n",
    "    elif (n == 1):\n",
    "        return 1\n",
    "    else:\n",
    "        nth = lucas(n-1) + lucas(n-2)\n",
    "        return nth"
   ]
  },
  {
   "cell_type": "code",
   "execution_count": 84,
   "metadata": {},
   "outputs": [
    {
     "data": {
      "text/plain": [
       "29"
      ]
     },
     "execution_count": 84,
     "metadata": {},
     "output_type": "execute_result"
    }
   ],
   "source": [
    "lucas(7)"
   ]
  },
  {
   "cell_type": "code",
   "execution_count": 67,
   "metadata": {},
   "outputs": [],
   "source": [
    "def sum_series(n, n1, n2):\n",
    "    \"\"\"\n",
    "    To print the fibonacci or lucas series based on parameters.\n",
    "    \n",
    "    Arguements:\n",
    "        n: number of terms(integer)\n",
    "    \n",
    "    Returns:\n",
    "        nth: nth value\n",
    "    \"\"\"\n",
    "    \n",
    "    if (n < 0):\n",
    "        print(\"Please enter a postive integer for n.\")\n",
    "    elif (n == 0):\n",
    "        return n1\n",
    "    elif (n == 1):\n",
    "        return n2\n",
    "    else:\n",
    "        nth = sum_series(n-1) + sum_series(n-2)\n",
    "        return nth"
   ]
  },
  {
   "cell_type": "code",
   "execution_count": 68,
   "metadata": {},
   "outputs": [
    {
     "data": {
      "text/plain": [
       "0"
      ]
     },
     "execution_count": 68,
     "metadata": {},
     "output_type": "execute_result"
    }
   ],
   "source": [
    "sum_series(0, 0, 1)"
   ]
  },
  {
   "cell_type": "code",
   "execution_count": 69,
   "metadata": {},
   "outputs": [
    {
     "data": {
      "text/plain": [
       "1"
      ]
     },
     "execution_count": 69,
     "metadata": {},
     "output_type": "execute_result"
    }
   ],
   "source": [
    "sum_series(1, 0, 1)"
   ]
  },
  {
   "cell_type": "code",
   "execution_count": 70,
   "metadata": {},
   "outputs": [
    {
     "ename": "TypeError",
     "evalue": "sum_series() missing 2 required positional arguments: 'n1' and 'n2'",
     "output_type": "error",
     "traceback": [
      "\u001b[1;31m---------------------------------------------------------------------------\u001b[0m",
      "\u001b[1;31mTypeError\u001b[0m                                 Traceback (most recent call last)",
      "\u001b[1;32m<ipython-input-70-97958c3977f2>\u001b[0m in \u001b[0;36m<module>\u001b[1;34m()\u001b[0m\n\u001b[1;32m----> 1\u001b[1;33m \u001b[0msum_series\u001b[0m\u001b[1;33m(\u001b[0m\u001b[1;36m2\u001b[0m\u001b[1;33m,\u001b[0m \u001b[1;36m0\u001b[0m\u001b[1;33m,\u001b[0m \u001b[1;36m1\u001b[0m\u001b[1;33m)\u001b[0m\u001b[1;33m\u001b[0m\u001b[0m\n\u001b[0m",
      "\u001b[1;32m<ipython-input-67-fe1322c4fcb7>\u001b[0m in \u001b[0;36msum_series\u001b[1;34m(n, n1, n2)\u001b[0m\n\u001b[0;32m     17\u001b[0m         \u001b[1;32mreturn\u001b[0m \u001b[0mn2\u001b[0m\u001b[1;33m\u001b[0m\u001b[0m\n\u001b[0;32m     18\u001b[0m     \u001b[1;32melse\u001b[0m\u001b[1;33m:\u001b[0m\u001b[1;33m\u001b[0m\u001b[0m\n\u001b[1;32m---> 19\u001b[1;33m         \u001b[0mnth\u001b[0m \u001b[1;33m=\u001b[0m \u001b[0msum_series\u001b[0m\u001b[1;33m(\u001b[0m\u001b[0mn\u001b[0m\u001b[1;33m-\u001b[0m\u001b[1;36m1\u001b[0m\u001b[1;33m)\u001b[0m \u001b[1;33m+\u001b[0m \u001b[0msum_series\u001b[0m\u001b[1;33m(\u001b[0m\u001b[0mn\u001b[0m\u001b[1;33m-\u001b[0m\u001b[1;36m2\u001b[0m\u001b[1;33m)\u001b[0m\u001b[1;33m\u001b[0m\u001b[0m\n\u001b[0m\u001b[0;32m     20\u001b[0m         \u001b[1;32mreturn\u001b[0m \u001b[0mnth\u001b[0m\u001b[1;33m\u001b[0m\u001b[0m\n",
      "\u001b[1;31mTypeError\u001b[0m: sum_series() missing 2 required positional arguments: 'n1' and 'n2'"
     ]
    }
   ],
   "source": [
    "sum_series(2, 0, 1)"
   ]
  },
  {
   "cell_type": "code",
   "execution_count": 35,
   "metadata": {},
   "outputs": [
    {
     "data": {
      "text/plain": [
       "2"
      ]
     },
     "execution_count": 35,
     "metadata": {},
     "output_type": "execute_result"
    }
   ],
   "source": [
    "sum_series(1, 1, 1)"
   ]
  },
  {
   "cell_type": "code",
   "execution_count": 37,
   "metadata": {},
   "outputs": [
    {
     "data": {
      "text/plain": [
       "13"
      ]
     },
     "execution_count": 37,
     "metadata": {},
     "output_type": "execute_result"
    }
   ],
   "source": [
    "sum_series(1, 1, 1)"
   ]
  },
  {
   "cell_type": "code",
   "execution_count": null,
   "metadata": {},
   "outputs": [],
   "source": []
  }
 ],
 "metadata": {
  "kernelspec": {
   "display_name": "Python 3",
   "language": "python",
   "name": "python3"
  },
  "language_info": {
   "codemirror_mode": {
    "name": "ipython",
    "version": 3
   },
   "file_extension": ".py",
   "mimetype": "text/x-python",
   "name": "python",
   "nbconvert_exporter": "python",
   "pygments_lexer": "ipython3",
   "version": "3.6.5"
  }
 },
 "nbformat": 4,
 "nbformat_minor": 2
}
