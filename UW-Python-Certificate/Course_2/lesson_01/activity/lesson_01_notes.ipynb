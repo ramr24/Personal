{
 "cells": [
  {
   "cell_type": "markdown",
   "metadata": {},
   "source": [
    "#### Part 1: Introduction"
   ]
  },
  {
   "cell_type": "code",
   "execution_count": null,
   "metadata": {},
   "outputs": [],
   "source": [
    "#Testing: define expected behavior of code with automated tests\n",
    "#Coverage: measure percentage of code invoked by automated tests\n",
    "#Linting: a report card on how well code conforms to style and syntax so\n",
    "#that someone else can read your code (less complex code is easier to read)"
   ]
  },
  {
   "cell_type": "code",
   "execution_count": null,
   "metadata": {},
   "outputs": [],
   "source": [
    "#Dependency injection: strategies for making code more testable to make it easier to maintain\n",
    "#Unit testing: testing each piece individually so you can easily find which ones have failures"
   ]
  },
  {
   "cell_type": "markdown",
   "metadata": {},
   "source": [
    "#### Part 2: Why test?"
   ]
  },
  {
   "cell_type": "code",
   "execution_count": 7,
   "metadata": {},
   "outputs": [],
   "source": [
    "# squarer.py\n",
    "class Squarer(object):\n",
    "\n",
    "    @staticmethod\n",
    "    def calc(operand):\n",
    "        # return operand*operand   # OLD\n",
    "        return operand**operand  # WRONG\n",
    "        # return operand*operand   # OLD\n",
    "        # return operand**2"
   ]
  },
  {
   "cell_type": "markdown",
   "metadata": {},
   "source": [
    "#### Part 3: Automated Test Script"
   ]
  },
  {
   "cell_type": "code",
   "execution_count": 6,
   "metadata": {},
   "outputs": [
    {
     "name": "stdout",
     "output_type": "stream",
     "text": [
      "Squared 3 and got 27 but expected 9\n",
      "Squared 12 and got 8916100448256 but expected 144\n",
      "Squared 100 and got 100000000000000000000000000000000000000000000000000000000000000000000000000000000000000000000000000000000000000000000000000000000000000000000000000000000000000000000000000000000000000000000000000000000 but expected 10000\n",
      "Squared -100 and got 1e-200 but expected 10000\n",
      "Squared -12 and got 1.12156654785e-13 but expected 144\n",
      "Squared -2 and got 0.25 but expected 4\n",
      "Squared -1 and got -1.0 but expected 1\n",
      "Squared -3 and got -0.037037037037 but expected 9\n"
     ]
    }
   ],
   "source": [
    "# test.py\n",
    "#from squarer import Squarer\n",
    "\n",
    "class SquarerTest(object):\n",
    "\n",
    "    @staticmethod\n",
    "    def test_positive_numbers():\n",
    "\n",
    "        squares = {\n",
    "            1: 1,\n",
    "            2: 4,\n",
    "            3: 9,\n",
    "            12: 144,\n",
    "            100: 10000,\n",
    "        }\n",
    "\n",
    "        for num, square in squares.items():\n",
    "            result = Squarer.calc(num)\n",
    "\n",
    "            if result != square:\n",
    "                print(\"Squared {} and got {} but expected {}\".format(num, result, square))\n",
    "    @staticmethod\n",
    "    def test_negative_numbers():\n",
    "\n",
    "        squares = {\n",
    "            -1: 1,\n",
    "            -2: 4,\n",
    "            -3: 9,\n",
    "            -12: 144,\n",
    "            -100: 10000,\n",
    "        }\n",
    "\n",
    "        for num, square in squares.items():\n",
    "            result = Squarer.calc(num)\n",
    "\n",
    "            if result != square:\n",
    "                print(\"Squared {} and got {} but expected {}\".format(num, result, square))\n",
    "\n",
    "if __name__ == \"__main__\":\n",
    "    SquarerTest.test_positive_numbers()\n",
    "    SquarerTest.test_negative_numbers()"
   ]
  },
  {
   "cell_type": "markdown",
   "metadata": {},
   "source": [
    "#### Part 4: Running the Script"
   ]
  },
  {
   "cell_type": "code",
   "execution_count": 12,
   "metadata": {},
   "outputs": [],
   "source": [
    "# squarer.py\n",
    "class Squarer(object):\n",
    "\n",
    "    @staticmethod\n",
    "    def calc(operand):\n",
    "        # return operand*operand   # OLD\n",
    "        # return operand**operand  # WRONG\n",
    "        return operand*operand   # OLD\n",
    "        # return operand**2\n",
    "\n",
    "#Ran the test.py with python test.py and had no errors."
   ]
  },
  {
   "cell_type": "code",
   "execution_count": 13,
   "metadata": {},
   "outputs": [],
   "source": [
    "# squarer.py\n",
    "class Squarer(object):\n",
    "\n",
    "    @staticmethod\n",
    "    def calc(operand):\n",
    "        # return operand*operand   # OLD\n",
    "        # return operand**operand  # WRONG\n",
    "        # return operand*operand   # OLD\n",
    "        return operand**2\n",
    "    \n",
    "#Ran the test.py with python test.py and had no errors."
   ]
  },
  {
   "cell_type": "markdown",
   "metadata": {},
   "source": [
    "#### Part 5: Using Unittest"
   ]
  },
  {
   "cell_type": "code",
   "execution_count": null,
   "metadata": {},
   "outputs": [],
   "source": [
    "#Also, and this is very important, it is a unittest requirement \n",
    "#that all of our test methods begin with the word “test”, \n",
    "#as in test _positive_numbers."
   ]
  },
  {
   "cell_type": "markdown",
   "metadata": {},
   "source": [
    "#### Part 6: Developing the test further"
   ]
  },
  {
   "cell_type": "code",
   "execution_count": null,
   "metadata": {},
   "outputs": [],
   "source": [
    "#Run multiple tests: python -m unittest test2.SquarerTest\n",
    "#Run a single test: python -m unittest test2.SquarerTest.test_positive_numbers"
   ]
  },
  {
   "cell_type": "markdown",
   "metadata": {},
   "source": [
    "#### Activty 1"
   ]
  },
  {
   "cell_type": "code",
   "execution_count": null,
   "metadata": {},
   "outputs": [],
   "source": [
    "\"\"\"\n",
    "Your assignment is to complete testing and linting on the calculator from the lesson content. \n",
    "As a first step, review the videos and writing on that page. Then find the calculator project \n",
    "directory in the course repository.\n",
    "\n",
    "Your goals:\n",
    "\n",
    "Note that all of the command examples below should be run from the activity directory, \n",
    "which contains the test_unit.py and test_integration.py files.\n",
    "\n",
    "1) Provide a MultiplierTests and DividerTests test classes in the test_unit.py file.\n",
    "2) python -m unittest test_unit.py  and python -m unittest test_integration.py should have no failures.\n",
    "3) Running the following shows 90%+ coverage.\n",
    "\n",
    "#coverage run --source=calculator/ -m unittest test_unit.py;\n",
    "\n",
    "1) Satisfy the linter such that pylint calculator gives no errors and flake8 calculator gives no errors. \n",
    "You can achieve this by some combination of editing your code and editing the .pylintrc file to \n",
    "ignore certain violations\n",
    "\n",
    "Prepare the results, and prepare to demo them!\n",
    "\"\"\""
   ]
  },
  {
   "cell_type": "markdown",
   "metadata": {},
   "source": [
    "### Quiz 1"
   ]
  },
  {
   "cell_type": "markdown",
   "metadata": {},
   "source": [
    "#### Problem 1: The primary purpose of test driven development is to?"
   ]
  },
  {
   "cell_type": "code",
   "execution_count": null,
   "metadata": {},
   "outputs": [],
   "source": [
    "#Define the expected behavior of code, and express that behavior in a software script."
   ]
  },
  {
   "cell_type": "markdown",
   "metadata": {},
   "source": [
    "#### Problem 2: Automated test are most effective when built?"
   ]
  },
  {
   "cell_type": "code",
   "execution_count": 1,
   "metadata": {},
   "outputs": [],
   "source": [
    "#Prior to building any scoftware"
   ]
  },
  {
   "cell_type": "markdown",
   "metadata": {},
   "source": [
    "#### Problem 3: Steps in order of Test Driven Development (TDD)?"
   ]
  },
  {
   "cell_type": "code",
   "execution_count": 2,
   "metadata": {},
   "outputs": [],
   "source": [
    "#1) Decide what feature or code you want to implement.\n",
    "#2) Write code to test whether or not the feature is working.\n",
    "#3) Run the test and see it fail.\n",
    "#4) Implement the feature or code.\n",
    "#5) Run the test and see it pass--hopefully!"
   ]
  },
  {
   "cell_type": "markdown",
   "metadata": {},
   "source": [
    "#### Problem 4: Select correct purpose, use or goal?"
   ]
  },
  {
   "cell_type": "code",
   "execution_count": 3,
   "metadata": {},
   "outputs": [],
   "source": [
    "#Linting: Define a code style and automatically identify style violations.\n",
    "#Dependency injection: Write code with no fixed dependencies.\n",
    "#Mock: Test a single region of code by providing dummies for any required classes or instances.\n",
    "#Coverage: Determine how much of your code is subjected to automated tests."
   ]
  },
  {
   "cell_type": "code",
   "execution_count": null,
   "metadata": {},
   "outputs": [],
   "source": []
  }
 ],
 "metadata": {
  "kernelspec": {
   "display_name": "Python 2",
   "language": "python",
   "name": "python2"
  },
  "language_info": {
   "codemirror_mode": {
    "name": "ipython",
    "version": 2
   },
   "file_extension": ".py",
   "mimetype": "text/x-python",
   "name": "python",
   "nbconvert_exporter": "python",
   "pygments_lexer": "ipython2",
   "version": "2.7.15"
  }
 },
 "nbformat": 4,
 "nbformat_minor": 2
}
