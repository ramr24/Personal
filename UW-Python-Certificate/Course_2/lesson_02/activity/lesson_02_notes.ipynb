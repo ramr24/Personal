{
 "cells": [
  {
   "cell_type": "markdown",
   "metadata": {},
   "source": [
    "#### Part 1: Logging"
   ]
  },
  {
   "cell_type": "code",
   "execution_count": 2,
   "metadata": {
    "collapsed": true
   },
   "outputs": [
    {
     "name": "stdout",
     "output_type": "stream",
     "text": [
      "0\n",
      "1\n",
      "2\n",
      "3\n",
      "4\n",
      "5\n",
      "6\n",
      "7\n",
      "8\n",
      "9\n",
      "10\n",
      "11\n",
      "12\n",
      "13\n",
      "14\n",
      "15\n",
      "16\n",
      "17\n",
      "18\n",
      "19\n",
      "20\n",
      "21\n",
      "22\n",
      "23\n",
      "24\n",
      "25\n",
      "26\n",
      "27\n",
      "28\n",
      "29\n",
      "30\n",
      "31\n",
      "32\n",
      "33\n",
      "34\n",
      "35\n",
      "36\n",
      "37\n",
      "38\n",
      "39\n",
      "40\n",
      "41\n",
      "42\n",
      "43\n",
      "44\n",
      "45\n",
      "46\n",
      "47\n",
      "48\n",
      "49\n",
      "50\n"
     ]
    },
    {
     "ename": "ZeroDivisionError",
     "evalue": "integer division or modulo by zero",
     "output_type": "error",
     "traceback": [
      "\u001b[1;31m---------------------------------------------------------------------------\u001b[0m",
      "\u001b[1;31mZeroDivisionError\u001b[0m                         Traceback (most recent call last)",
      "\u001b[1;32m<ipython-input-2-fe8037afea10>\u001b[0m in \u001b[0;36m<module>\u001b[1;34m()\u001b[0m\n\u001b[0;32m      6\u001b[0m \u001b[1;33m\u001b[0m\u001b[0m\n\u001b[0;32m      7\u001b[0m \u001b[1;32mif\u001b[0m \u001b[0m__name__\u001b[0m \u001b[1;33m==\u001b[0m \u001b[1;34m\"__main__\"\u001b[0m\u001b[1;33m:\u001b[0m\u001b[1;33m\u001b[0m\u001b[0m\n\u001b[1;32m----> 8\u001b[1;33m     \u001b[0mmy_fun\u001b[0m\u001b[1;33m(\u001b[0m\u001b[1;36m100\u001b[0m\u001b[1;33m)\u001b[0m\u001b[1;33m\u001b[0m\u001b[0m\n\u001b[0m",
      "\u001b[1;32m<ipython-input-2-fe8037afea10>\u001b[0m in \u001b[0;36mmy_fun\u001b[1;34m(n)\u001b[0m\n\u001b[0;32m      3\u001b[0m     \u001b[1;32mfor\u001b[0m \u001b[0mi\u001b[0m \u001b[1;32min\u001b[0m \u001b[0mrange\u001b[0m\u001b[1;33m(\u001b[0m\u001b[1;36m0\u001b[0m\u001b[1;33m,\u001b[0m \u001b[0mn\u001b[0m\u001b[1;33m)\u001b[0m\u001b[1;33m:\u001b[0m\u001b[1;33m\u001b[0m\u001b[0m\n\u001b[0;32m      4\u001b[0m         \u001b[1;32mprint\u001b[0m\u001b[1;33m(\u001b[0m\u001b[0mi\u001b[0m\u001b[1;33m)\u001b[0m\u001b[1;33m\u001b[0m\u001b[0m\n\u001b[1;32m----> 5\u001b[1;33m         \u001b[1;36m100\u001b[0m \u001b[1;33m/\u001b[0m \u001b[1;33m(\u001b[0m\u001b[1;36m50\u001b[0m \u001b[1;33m-\u001b[0m \u001b[0mi\u001b[0m\u001b[1;33m)\u001b[0m\u001b[1;33m\u001b[0m\u001b[0m\n\u001b[0m\u001b[0;32m      6\u001b[0m \u001b[1;33m\u001b[0m\u001b[0m\n\u001b[0;32m      7\u001b[0m \u001b[1;32mif\u001b[0m \u001b[0m__name__\u001b[0m \u001b[1;33m==\u001b[0m \u001b[1;34m\"__main__\"\u001b[0m\u001b[1;33m:\u001b[0m\u001b[1;33m\u001b[0m\u001b[0m\n",
      "\u001b[1;31mZeroDivisionError\u001b[0m: integer division or modulo by zero"
     ]
    }
   ],
   "source": [
    "# simple.py\n",
    "def my_fun(n):\n",
    "    for i in range(0, n):\n",
    "        print(i)\n",
    "        100 / (50 - i)\n",
    "\n",
    "if __name__ == \"__main__\":\n",
    "    my_fun(100)"
   ]
  },
  {
   "cell_type": "code",
   "execution_count": null,
   "metadata": {},
   "outputs": [],
   "source": [
    "#print statement debugging issues:\n",
    "#-Prints out distracting ouput which you have to go back in to take out\n",
    "#-More than one is hard to keep track of\n",
    "#-Doesn't help with production code"
   ]
  },
  {
   "cell_type": "code",
   "execution_count": 3,
   "metadata": {},
   "outputs": [],
   "source": [
    "#Logging\n",
    "#-Better than print statement debugging, more efficient\n",
    "#-Choose to hide/show you code\n",
    "#-Add extra information\n",
    "#-Can monitor code as it works in production"
   ]
  },
  {
   "cell_type": "markdown",
   "metadata": {},
   "source": [
    "#### Part 2: The Print Statement You Can Hide"
   ]
  },
  {
   "cell_type": "code",
   "execution_count": 13,
   "metadata": {
    "scrolled": true
   },
   "outputs": [
    {
     "name": "stderr",
     "output_type": "stream",
     "text": [
      "DEBUG:root:0\n",
      "DEBUG:root:1\n",
      "DEBUG:root:2\n",
      "DEBUG:root:3\n",
      "DEBUG:root:4\n",
      "DEBUG:root:5\n",
      "DEBUG:root:6\n",
      "DEBUG:root:7\n",
      "DEBUG:root:8\n",
      "DEBUG:root:9\n",
      "DEBUG:root:10\n",
      "DEBUG:root:11\n",
      "DEBUG:root:12\n",
      "DEBUG:root:13\n",
      "DEBUG:root:14\n",
      "DEBUG:root:15\n",
      "DEBUG:root:16\n",
      "DEBUG:root:17\n",
      "DEBUG:root:18\n",
      "DEBUG:root:19\n",
      "DEBUG:root:20\n",
      "DEBUG:root:21\n",
      "DEBUG:root:22\n",
      "DEBUG:root:23\n",
      "DEBUG:root:24\n",
      "DEBUG:root:25\n",
      "DEBUG:root:26\n",
      "DEBUG:root:27\n",
      "DEBUG:root:28\n",
      "DEBUG:root:29\n",
      "DEBUG:root:30\n",
      "DEBUG:root:31\n",
      "DEBUG:root:32\n",
      "DEBUG:root:33\n",
      "DEBUG:root:34\n",
      "DEBUG:root:35\n",
      "DEBUG:root:36\n",
      "DEBUG:root:37\n",
      "DEBUG:root:38\n",
      "DEBUG:root:39\n",
      "DEBUG:root:40\n",
      "DEBUG:root:41\n",
      "DEBUG:root:42\n",
      "DEBUG:root:43\n",
      "DEBUG:root:44\n",
      "DEBUG:root:45\n",
      "DEBUG:root:46\n",
      "DEBUG:root:47\n",
      "DEBUG:root:48\n",
      "DEBUG:root:49\n",
      "DEBUG:root:50\n",
      "WARNING:root:The value of i is 50.\n"
     ]
    },
    {
     "ename": "ZeroDivisionError",
     "evalue": "integer division or modulo by zero",
     "output_type": "error",
     "traceback": [
      "\u001b[1;31m---------------------------------------------------------------------------\u001b[0m",
      "\u001b[1;31mZeroDivisionError\u001b[0m                         Traceback (most recent call last)",
      "\u001b[1;32m<ipython-input-13-dd7af74b5d17>\u001b[0m in \u001b[0;36m<module>\u001b[1;34m()\u001b[0m\n\u001b[0;32m     10\u001b[0m \u001b[1;33m\u001b[0m\u001b[0m\n\u001b[0;32m     11\u001b[0m \u001b[1;32mif\u001b[0m \u001b[0m__name__\u001b[0m \u001b[1;33m==\u001b[0m \u001b[1;34m\"__main__\"\u001b[0m\u001b[1;33m:\u001b[0m\u001b[1;33m\u001b[0m\u001b[0m\n\u001b[1;32m---> 12\u001b[1;33m     \u001b[0mmy_fun\u001b[0m\u001b[1;33m(\u001b[0m\u001b[1;36m100\u001b[0m\u001b[1;33m)\u001b[0m\u001b[1;33m\u001b[0m\u001b[0m\n\u001b[0m",
      "\u001b[1;32m<ipython-input-13-dd7af74b5d17>\u001b[0m in \u001b[0;36mmy_fun\u001b[1;34m(n)\u001b[0m\n\u001b[0;32m      7\u001b[0m         \u001b[1;32mif\u001b[0m \u001b[0mi\u001b[0m \u001b[1;33m==\u001b[0m \u001b[1;36m50\u001b[0m\u001b[1;33m:\u001b[0m                                   \u001b[1;31m# Add this line\u001b[0m\u001b[1;33m\u001b[0m\u001b[0m\n\u001b[0;32m      8\u001b[0m             \u001b[0mlogging\u001b[0m\u001b[1;33m.\u001b[0m\u001b[0mwarning\u001b[0m\u001b[1;33m(\u001b[0m\u001b[1;34m\"The value of i is 50.\"\u001b[0m\u001b[1;33m)\u001b[0m  \u001b[1;31m# Add this line\u001b[0m\u001b[1;33m\u001b[0m\u001b[0m\n\u001b[1;32m----> 9\u001b[1;33m         \u001b[1;36m100\u001b[0m \u001b[1;33m/\u001b[0m \u001b[1;33m(\u001b[0m\u001b[1;36m50\u001b[0m \u001b[1;33m-\u001b[0m \u001b[0mi\u001b[0m\u001b[1;33m)\u001b[0m\u001b[1;33m\u001b[0m\u001b[0m\n\u001b[0m\u001b[0;32m     10\u001b[0m \u001b[1;33m\u001b[0m\u001b[0m\n\u001b[0;32m     11\u001b[0m \u001b[1;32mif\u001b[0m \u001b[0m__name__\u001b[0m \u001b[1;33m==\u001b[0m \u001b[1;34m\"__main__\"\u001b[0m\u001b[1;33m:\u001b[0m\u001b[1;33m\u001b[0m\u001b[0m\n",
      "\u001b[1;31mZeroDivisionError\u001b[0m: integer division or modulo by zero"
     ]
    }
   ],
   "source": [
    "import logging\n",
    "\n",
    "logging.basicConfig(level=logging.WARNING)\n",
    "def my_fun(n):\n",
    "    for i in range(0, n):\n",
    "        logging.debug(i)\n",
    "        if i == 50:                                   # Add this line\n",
    "            logging.warning(\"The value of i is 50.\")  # Add this line\n",
    "        100 / (50 - i)\n",
    "\n",
    "if __name__ == \"__main__\":\n",
    "    my_fun(100)"
   ]
  },
  {
   "cell_type": "code",
   "execution_count": 14,
   "metadata": {
    "scrolled": true
   },
   "outputs": [
    {
     "name": "stderr",
     "output_type": "stream",
     "text": [
      "DEBUG:root:0\n",
      "DEBUG:root:1\n",
      "DEBUG:root:2\n",
      "DEBUG:root:3\n",
      "DEBUG:root:4\n",
      "DEBUG:root:5\n",
      "DEBUG:root:6\n",
      "DEBUG:root:7\n",
      "DEBUG:root:8\n",
      "DEBUG:root:9\n",
      "DEBUG:root:10\n",
      "DEBUG:root:11\n",
      "DEBUG:root:12\n",
      "DEBUG:root:13\n",
      "DEBUG:root:14\n",
      "DEBUG:root:15\n",
      "DEBUG:root:16\n",
      "DEBUG:root:17\n",
      "DEBUG:root:18\n",
      "DEBUG:root:19\n",
      "DEBUG:root:20\n",
      "DEBUG:root:21\n",
      "DEBUG:root:22\n",
      "DEBUG:root:23\n",
      "DEBUG:root:24\n",
      "DEBUG:root:25\n",
      "DEBUG:root:26\n",
      "DEBUG:root:27\n",
      "DEBUG:root:28\n",
      "DEBUG:root:29\n",
      "DEBUG:root:30\n",
      "DEBUG:root:31\n",
      "DEBUG:root:32\n",
      "DEBUG:root:33\n",
      "DEBUG:root:34\n",
      "DEBUG:root:35\n",
      "DEBUG:root:36\n",
      "DEBUG:root:37\n",
      "DEBUG:root:38\n",
      "DEBUG:root:39\n",
      "DEBUG:root:40\n",
      "DEBUG:root:41\n",
      "DEBUG:root:42\n",
      "DEBUG:root:43\n",
      "DEBUG:root:44\n",
      "DEBUG:root:45\n",
      "DEBUG:root:46\n",
      "DEBUG:root:47\n",
      "DEBUG:root:48\n",
      "DEBUG:root:49\n",
      "DEBUG:root:50\n",
      "WARNING:root:The value of i is 50.\n",
      "ERROR:root:Tried to divide by zero. Var i was 50. Recovered gracefully.\n",
      "DEBUG:root:51\n",
      "DEBUG:root:52\n",
      "DEBUG:root:53\n",
      "DEBUG:root:54\n",
      "DEBUG:root:55\n",
      "DEBUG:root:56\n",
      "DEBUG:root:57\n",
      "DEBUG:root:58\n",
      "DEBUG:root:59\n",
      "DEBUG:root:60\n",
      "DEBUG:root:61\n",
      "DEBUG:root:62\n",
      "DEBUG:root:63\n",
      "DEBUG:root:64\n",
      "DEBUG:root:65\n",
      "DEBUG:root:66\n",
      "DEBUG:root:67\n",
      "DEBUG:root:68\n",
      "DEBUG:root:69\n",
      "DEBUG:root:70\n",
      "DEBUG:root:71\n",
      "DEBUG:root:72\n",
      "DEBUG:root:73\n",
      "DEBUG:root:74\n",
      "DEBUG:root:75\n",
      "DEBUG:root:76\n",
      "DEBUG:root:77\n",
      "DEBUG:root:78\n",
      "DEBUG:root:79\n",
      "DEBUG:root:80\n",
      "DEBUG:root:81\n",
      "DEBUG:root:82\n",
      "DEBUG:root:83\n",
      "DEBUG:root:84\n",
      "DEBUG:root:85\n",
      "DEBUG:root:86\n",
      "DEBUG:root:87\n",
      "DEBUG:root:88\n",
      "DEBUG:root:89\n",
      "DEBUG:root:90\n",
      "DEBUG:root:91\n",
      "DEBUG:root:92\n",
      "DEBUG:root:93\n",
      "DEBUG:root:94\n",
      "DEBUG:root:95\n",
      "DEBUG:root:96\n",
      "DEBUG:root:97\n",
      "DEBUG:root:98\n",
      "DEBUG:root:99\n"
     ]
    }
   ],
   "source": [
    "import logging\n",
    "\n",
    "logging.basicConfig(level=logging.WARNING)\n",
    "\n",
    "def my_fun(n):\n",
    "    for i in range(0, n):\n",
    "        logging.debug(i)\n",
    "        if i == 50:\n",
    "            logging.warning(\"The value of i is 50.\")\n",
    "        try:\n",
    "            100 / (50 - i)\n",
    "        except ZeroDivisionError:\n",
    "            logging.error(\"Tried to divide by zero. Var i was {}. Recovered gracefully.\".format(i))\n",
    "\n",
    "if __name__ == \"__main__\":\n",
    "    my_fun(100)"
   ]
  },
  {
   "cell_type": "code",
   "execution_count": 15,
   "metadata": {},
   "outputs": [],
   "source": [
    "#Logging Levels\n",
    "#-50 > 40 > 30 > 20 > 10 >0\n",
    "#-CRITICAL > ERROR > WARNING > INFO > DEBUG > NOTSET"
   ]
  },
  {
   "cell_type": "code",
   "execution_count": null,
   "metadata": {},
   "outputs": [],
   "source": []
  },
  {
   "cell_type": "code",
   "execution_count": null,
   "metadata": {},
   "outputs": [],
   "source": []
  },
  {
   "cell_type": "markdown",
   "metadata": {},
   "source": [
    "### Quiz 2"
   ]
  },
  {
   "cell_type": "markdown",
   "metadata": {},
   "source": [
    "#### Problem 1: In Python development, a log file is a file that records?"
   ]
  },
  {
   "cell_type": "code",
   "execution_count": 17,
   "metadata": {},
   "outputs": [],
   "source": [
    "#A record of activity deemed important, produced when a program is running."
   ]
  },
  {
   "cell_type": "markdown",
   "metadata": {},
   "source": [
    "#### Problem 2: The main use of logging is to?"
   ]
  },
  {
   "cell_type": "code",
   "execution_count": 18,
   "metadata": {},
   "outputs": [],
   "source": [
    "#Help track down issues and diagnose problems when a program is running."
   ]
  },
  {
   "cell_type": "markdown",
   "metadata": {},
   "source": [
    "#### Problem 3: Put log levels from most critical to least critical (50 = most & 10 = least)?"
   ]
  },
  {
   "cell_type": "code",
   "execution_count": 19,
   "metadata": {},
   "outputs": [],
   "source": [
    "#CRITICAL > ERROR > WARNING > INFO > DEBUG"
   ]
  },
  {
   "cell_type": "markdown",
   "metadata": {},
   "source": [
    "#### Problem 4: What debugger command would bring the debugger arrow up to the definition of my_function?"
   ]
  },
  {
   "cell_type": "code",
   "execution_count": 20,
   "metadata": {},
   "outputs": [],
   "source": [
    "#s"
   ]
  },
  {
   "cell_type": "markdown",
   "metadata": {},
   "source": [
    "#### Problem 5: What debugger command would bring the debugger arrow down to line 6?"
   ]
  },
  {
   "cell_type": "code",
   "execution_count": 21,
   "metadata": {},
   "outputs": [],
   "source": [
    "#n"
   ]
  },
  {
   "cell_type": "markdown",
   "metadata": {},
   "source": [
    "#### Problem 6: You've found that some_function will encounter an exception when i is equal to 387. What debugger command could help you speed through execution and bring the debugger arrow immediately to line 5 when i is equal to 387, rather than stepping through every single iteration of the for loop?"
   ]
  },
  {
   "cell_type": "code",
   "execution_count": 22,
   "metadata": {},
   "outputs": [],
   "source": [
    "#b"
   ]
  }
 ],
 "metadata": {
  "kernelspec": {
   "display_name": "Python 2",
   "language": "python",
   "name": "python2"
  },
  "language_info": {
   "codemirror_mode": {
    "name": "ipython",
    "version": 2
   },
   "file_extension": ".py",
   "mimetype": "text/x-python",
   "name": "python",
   "nbconvert_exporter": "python",
   "pygments_lexer": "ipython2",
   "version": "2.7.15"
  }
 },
 "nbformat": 4,
 "nbformat_minor": 2
}
