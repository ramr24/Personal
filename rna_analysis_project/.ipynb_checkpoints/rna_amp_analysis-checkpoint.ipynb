{
 "cells": [
  {
   "cell_type": "markdown",
   "metadata": {},
   "source": [
    "##### Imports"
   ]
  },
  {
   "cell_type": "code",
   "execution_count": 1,
   "metadata": {},
   "outputs": [
    {
     "ename": "ModuleNotFoundError",
     "evalue": "No module named 'functions'",
     "output_type": "error",
     "traceback": [
      "\u001b[1;31m---------------------------------------------------------------------------\u001b[0m",
      "\u001b[1;31mModuleNotFoundError\u001b[0m                       Traceback (most recent call last)",
      "\u001b[1;32m<ipython-input-1-1d2ddce9d3d1>\u001b[0m in \u001b[0;36m<module>\u001b[1;34m\u001b[0m\n\u001b[0;32m      5\u001b[0m \u001b[1;32mimport\u001b[0m \u001b[0mos\u001b[0m\u001b[1;33m\u001b[0m\u001b[1;33m\u001b[0m\u001b[0m\n\u001b[0;32m      6\u001b[0m \u001b[1;33m\u001b[0m\u001b[0m\n\u001b[1;32m----> 7\u001b[1;33m \u001b[1;32mfrom\u001b[0m \u001b[0mfunctions\u001b[0m\u001b[1;33m.\u001b[0m\u001b[0mtemp_funcs\u001b[0m \u001b[1;32mimport\u001b[0m \u001b[0mread_file\u001b[0m\u001b[1;33m,\u001b[0m \u001b[0mmerge_dataframes\u001b[0m\u001b[1;33m,\u001b[0m \u001b[0mdrop_cols\u001b[0m\u001b[1;33m,\u001b[0m \u001b[0mdrop_nans\u001b[0m\u001b[1;33m,\u001b[0m \u001b[0mfilter_date_range\u001b[0m\u001b[1;33m,\u001b[0m\u001b[0;31m \u001b[0m\u001b[0;31m\\\u001b[0m\u001b[1;33m\u001b[0m\u001b[1;33m\u001b[0m\u001b[0m\n\u001b[0m\u001b[0;32m      8\u001b[0m \u001b[0mfilter_df\u001b[0m\u001b[1;33m,\u001b[0m \u001b[0mcreate_container_col\u001b[0m\u001b[1;33m,\u001b[0m \u001b[0mcreate_cond_df\u001b[0m\u001b[1;33m,\u001b[0m \u001b[0mcreate_container_df\u001b[0m\u001b[1;33m\u001b[0m\u001b[1;33m\u001b[0m\u001b[0m\n\u001b[0;32m      9\u001b[0m \u001b[1;33m\u001b[0m\u001b[0m\n",
      "\u001b[1;31mModuleNotFoundError\u001b[0m: No module named 'functions'"
     ]
    }
   ],
   "source": [
    "import pandas as pd\n",
    "import numpy as np\n",
    "import csv\n",
    "import logging\n",
    "import os\n",
    "\n",
    "from functions.temp_funcs import read_file, merge_dataframes, drop_cols, drop_nans, filter_date_range, \\\n",
    "filter_df, create_container_col, create_cond_df, create_container_df\n",
    "\n",
    "import seaborn as sns\n",
    "import matplotlib.pyplot as plt\n",
    "\n",
    "sns.set(context = \"notebook\", style = \"ticks\", font=\"verdana\") # font_scale = 1.35)\n",
    "pd.set_option(\"display.max_colwidth\",150) #Expands the number of characters shown in the columns\n",
    "pd.set_option('display.max_columns', None)"
   ]
  },
  {
   "cell_type": "markdown",
   "metadata": {},
   "source": [
    "##### Paths"
   ]
  },
  {
   "cell_type": "code",
   "execution_count": null,
   "metadata": {},
   "outputs": [],
   "source": [
    "path = os.path.dirname(os.getcwd())\n",
    "csv_path = os.path.join(path, \"csv/\")\n",
    "excel_path = os.path.join(path, \"excel/\")\n",
    "plot_path = os.path.join(path, \"plot/\")\n",
    "\n",
    "path_shiny_mouse = os.path.join(csv_path, \"current_shiny_mouse.csv\")\n",
    "path_shiny_human = os.path.join(csv_path, \"current_shiny_human.csv\")"
   ]
  },
  {
   "cell_type": "markdown",
   "metadata": {},
   "source": [
    "##### Start Code"
   ]
  },
  {
   "cell_type": "code",
   "execution_count": null,
   "metadata": {},
   "outputs": [],
   "source": [
    "fields_shiny = [\"cell_name\", \"cell_specimen_project\", \"Norm_Marker_Sum.0.4_label\",\n",
    "                \"marker_sum_norm_label\", \"rna_amplification_pass_fail\",\n",
    "                \"percent_cdna_longer_than_400bp\", \"amplified_quantity_ng\", \"sample_id\", \n",
    "                \"Tree_call\", \"seurat_prediction_score_label\"]\n",
    "\n",
    "shiny_dict = {\"Norm_Marker_Sum.0.4_label\" : \"NMS Pass/Fail\",\n",
    "              \"rna_amplification_pass_fail\" : \"RNA amp Pass/Fail\",\n",
    "              \"marker_sum_norm_label\": \"NMS score\",\n",
    "              \"percent_cdna_longer_than_400bp\" : \"cDNA quality (%>400 bp)\",\n",
    "              \"amplified_quantity_ng\" : \"Amplified content (ng)\"}"
   ]
  },
  {
   "cell_type": "code",
   "execution_count": null,
   "metadata": {},
   "outputs": [],
   "source": [
    "shiny_mouse = read_file(path_shiny_mouse, fields_shiny) #10839 rows\n",
    "shiny_mouse.rename(columns=shiny_dict, inplace=True)\n",
    "shiny_mouse.dropna(subset=[\"cell_specimen_project\"],inplace=True) #10834 rows"
   ]
  },
  {
   "cell_type": "code",
   "execution_count": null,
   "metadata": {},
   "outputs": [],
   "source": [
    "shiny_human = read_file(path_shiny_human, fields_shiny) #3592 rows\n",
    "shiny_human.rename(columns=shiny_dict, inplace=True)\n",
    "shiny_human.dropna(subset=[\"cell_specimen_project\"],inplace=True) #3578 rows"
   ]
  },
  {
   "cell_type": "markdown",
   "metadata": {},
   "source": [
    "##### Filter project code"
   ]
  },
  {
   "cell_type": "code",
   "execution_count": null,
   "metadata": {},
   "outputs": [],
   "source": [
    "shinym = filter_df(shiny_mouse, \"cell_specimen_project\", \"mIVSCC-MET\") \n",
    "shinym = create_container_df(shinym, \"sample_id\")\n",
    "shinym.dropna(subset=[\"cDNA quality (%>400 bp)\", \"NMS score\", \"Amplified content (ng)\"], inplace=True)\n",
    "shinym = shinym[shinym[\"cDNA quality (%>400 bp)\"] <=1]\n",
    "shinym = shinym[shinym[\"Amplified content (ng)\"] <=50]\n",
    "shinym = filter_df(shinym, \"NMS Pass/Fail\", True)\n",
    "#shinym_rpass = filter_df(shinym, \"RNA amp Pass/Fail\", \"Pass\")\n",
    "shinym = filter_df(shinym, \"RNA amp Pass/Fail\", \"Fail\")"
   ]
  },
  {
   "cell_type": "code",
   "execution_count": null,
   "metadata": {},
   "outputs": [],
   "source": [
    "shinyh = filter_df(shiny_human, \"cell_specimen_project\", \"hIVSCC-MET\")\n",
    "shinyh = create_container_df(shinyh, \"sample_id\")\n",
    "shinyh.dropna(subset=[\"cDNA quality (%>400 bp)\", \"NMS score\", \"Amplified content (ng)\"], inplace=True)\n",
    "shinyh = shinyh[shinyh[\"cDNA quality (%>400 bp)\"] <=1]\n",
    "shinyh = shinyh[shinyh[\"Amplified content (ng)\"] <=50]\n",
    "shinyh = filter_df(shinyh, \"NMS Pass/Fail\", True)\n",
    "shinyh = filter_df(shinyh, \"RNA amp Pass/Fail\", \"Fail\")\n",
    "\n",
    "collaborator_dict = {\"PG\" : \"Gabor\", \"PH\" : \"Mansvelder\"}\n",
    "for collab in [\"P1\", \"P2\", \"P6\", \"P7\", \"P8\", \"P9\", \"PA\", \"PB\", \"PE\", \"PX\"]:\n",
    "    collaborator_dict[collab] = \"AIBS\"\n",
    "\n",
    "shinyh[\"collaborator_label\"] = shinyh[\"collaborator_label\"].replace(collaborator_dict)"
   ]
  },
  {
   "cell_type": "markdown",
   "metadata": {},
   "source": [
    "##### Merging mouse and human shiny df"
   ]
  },
  {
   "cell_type": "code",
   "execution_count": null,
   "metadata": {},
   "outputs": [],
   "source": [
    "shiny = pd.concat([shinym, shinyh], ignore_index=True, sort =False) #8593\n",
    "shiny = shiny[shiny[\"cDNA quality (%>400 bp)\"] <=1] #1577\n",
    "shiny = shiny[shiny[\"Amplified content (ng)\"] <=50] #1550"
   ]
  },
  {
   "cell_type": "markdown",
   "metadata": {},
   "source": [
    "##### Counts"
   ]
  },
  {
   "cell_type": "code",
   "execution_count": null,
   "metadata": {},
   "outputs": [],
   "source": [
    "aibs = filter_df(shinyh, \"collaborator_label\", \"AIBS\")\n",
    "pg = filter_df(shinyh, \"collaborator_label\", \"Gabor\")\n",
    "ph = filter_df(shinyh, \"collaborator_label\", \"Mansvelder\")\n",
    "print(f\"Mouse Human total count: {shiny.sample_id.count()}\")\n",
    "print(f\"Mouse total count: {shinym.sample_id.count()}\")\n",
    "print(f\"Human total count: {shinyh.sample_id.count()}\")\n",
    "print(f\"AIBS count: {aibs.sample_id.count()}\")\n",
    "print(f\"Gabor count: {pg.sample_id.count()}\")\n",
    "print(f\"Mansvelder count: {ph.sample_id.count()}\")"
   ]
  },
  {
   "cell_type": "markdown",
   "metadata": {},
   "source": [
    "##### Plots"
   ]
  },
  {
   "cell_type": "code",
   "execution_count": null,
   "metadata": {},
   "outputs": [],
   "source": [
    "spec_colors= {\"mIVSCC-MET\" : \"#ef3b2c\", \"hIVSCC-MET\" : \"#4292c6\"}\n",
    "#human_colors = {\"AIBS\":\"#c6dbef\", \"Gabor\":\"#6baed6\", \"Mansvelder\":\"#2171b5\"}\n",
    "human_colors = {\"AIBS\":\"#6baed6\", \"Gabor\":\"#2171b5\", \"Mansvelder\":\"#08306b\"}"
   ]
  },
  {
   "cell_type": "code",
   "execution_count": null,
   "metadata": {},
   "outputs": [],
   "source": [
    "ax = sns.pairplot(data=shinym, vars=[\"cDNA quality (%>400 bp)\", \"NMS score\", \"Amplified content (ng)\"],\n",
    "                  height=3, aspect=1, diag_kind=\"kde\", hue=\"cell_specimen_project\", palette=spec_colors, kind=\"reg\")\n",
    "ax._legend.remove()\n",
    "ax.axes[0,0].set_xlim((0,1))\n",
    "ax.axes[0,1].set_xlim((0,1.5))\n",
    "ax.axes[0,2].set_xlim((0,50))\n",
    "ax.axes[0,2].set_ylim((0,1))\n",
    "ax.axes[1,2].set_ylim((0,1.5))\n",
    "ax.axes[2,2].set_ylim((0,50))\n",
    "\n",
    "plt.savefig(plot_path + \"mouse_pairplot_nms_pass_rna_fail.jpeg\", bbox_inches=\"tight\")"
   ]
  },
  {
   "cell_type": "code",
   "execution_count": null,
   "metadata": {},
   "outputs": [],
   "source": [
    "ax = sns.pairplot(data=shinyh, vars=[\"cDNA quality (%>400 bp)\", \"NMS score\", \"Amplified content (ng)\"],\n",
    "                  height=3, diag_kind=\"kde\", hue=\"collaborator_label\", palette=human_colors, kind=\"reg\")\n",
    "\n",
    "ax.axes[0,0].set_xlim((0,1))\n",
    "ax.axes[0,1].set_xlim((0,1.5))\n",
    "ax.axes[0,2].set_xlim((0,50))\n",
    "ax.axes[0,2].set_ylim((0,1))\n",
    "ax.axes[1,2].set_ylim((0,1.5))\n",
    "ax.axes[2,2].set_ylim((0,50))\n",
    "\n",
    "plt.savefig(plot_path + \"human_pairplot_nms_pass_rna_fail.jpeg\", bbox_inches=\"tight\")"
   ]
  },
  {
   "cell_type": "code",
   "execution_count": null,
   "metadata": {},
   "outputs": [],
   "source": [
    "human_colors = {\"AIBS\":\"#41ab5d\", \"Gabor\":\"#4292c6\", \"Mansvelder\":\"#ef3b2c\"}\n",
    "ax = sns.pairplot(data=shinyh, vars=[\"cDNA quality (%>400 bp)\", \"NMS score\", \"Amplified content (ng)\"],\n",
    "                  height=3, diag_kind=\"kde\", hue=\"collaborator_label\", palette=human_colors, kind=\"reg\")\n",
    "\n",
    "ax.axes[0,0].set_xlim((0,1))\n",
    "ax.axes[0,1].set_xlim((0,1.5))\n",
    "ax.axes[0,2].set_xlim((0,50))\n",
    "ax.axes[0,2].set_ylim((0,1))\n",
    "ax.axes[1,2].set_ylim((0,1.5))\n",
    "ax.axes[2,2].set_ylim((0,50))\n",
    "\n",
    "plt.savefig(plot_path + \"human_pairplot_nms_pass_rna_fail.jpeg\", bbox_inches=\"tight\")"
   ]
  },
  {
   "cell_type": "code",
   "execution_count": null,
   "metadata": {},
   "outputs": [],
   "source": [
    "ax = sns.pairplot(data=shiny, vars=[\"cDNA quality (%>400 bp)\", \"NMS score\", \"Amplified content (ng)\"],\n",
    "                  height=3, diag_kind=\"kde\", hue=\"cell_specimen_project\", palette=spec_colors, kind=\"reg\")\n",
    "\n",
    "ax.axes[0,0].set_xlim((0,1))\n",
    "ax.axes[0,1].set_xlim((0,1.5))\n",
    "ax.axes[0,2].set_xlim((0,50))\n",
    "ax.axes[0,2].set_ylim((0,1))\n",
    "ax.axes[1,2].set_ylim((0,1.5))\n",
    "ax.axes[2,2].set_ylim((0,50))\n",
    "\n",
    "plt.savefig(plot_path + \"mouse_human_pairplot_nms_pass_rna_fail.jpeg\", bbox_inches=\"tight\")"
   ]
  },
  {
   "cell_type": "code",
   "execution_count": null,
   "metadata": {},
   "outputs": [],
   "source": [
    "fig_dims = (3, 13)\n",
    "f, axes = plt.subplots(nrows=3, ncols=1, figsize=fig_dims)\n",
    "\n",
    "ax = sns.violinplot(x=\"cell_specimen_project\", y=\"cDNA quality (%>400 bp)\", data=shiny[shiny[\"cDNA quality (%>400 bp)\"] <=1], \n",
    "                    order=[\"mIVSCC-MET\", \"hIVSCC-MET\"], inner=\"box\", scale=\"area\",\n",
    "                    palette=spec_colors, saturation=1, ax=axes[0])\n",
    "ax1 = sns.violinplot(x=\"cell_specimen_project\", y=\"NMS score\", data=shiny[shiny[\"NMS score\"] <=1.5],\n",
    "                     order=[\"mIVSCC-MET\", \"hIVSCC-MET\"], inner=\"box\", scale=\"area\",\n",
    "                     palette=spec_colors, saturation=1, ax=axes[1])\n",
    "ax2 = sns.violinplot(x=\"cell_specimen_project\", y=\"Amplified content (ng)\",\n",
    "                     data=shiny[shiny[\"Amplified content (ng)\"] <=50],\n",
    "                     order=[\"mIVSCC-MET\", \"hIVSCC-MET\"], inner=\"box\", scale=\"area\",\n",
    "                     palette=spec_colors, saturation=1, ax=axes[2])\n",
    "\n",
    "ax.set(xticklabels=[])\n",
    "ax1.set(xticklabels=[])\n",
    "\n",
    "ax.set_xlabel(\"\")\n",
    "ax1.set_xlabel(\"\")\n",
    "ax2.set_xlabel(\"Specimen Project Label\")\n",
    "\n",
    "nobs = shiny[\"cell_specimen_project\"].value_counts().values\n",
    "nobs = [str(x) for x in nobs.tolist()]\n",
    "nobs = [\"n: \" + i for i in nobs]\n",
    "\n",
    "pos = range(len(nobs))\n",
    "for tick,label in zip(pos,ax.get_xticklabels()):\n",
    "    ax.text(pos[tick], 1, nobs[tick], horizontalalignment='center', size=\"large\", color='black', weight='bold')\n",
    "    \n",
    "plt.savefig(plot_path + \"violinplot_nms_pass_rna_fail.jpeg\", bbox_inches=\"tight\")"
   ]
  },
  {
   "cell_type": "code",
   "execution_count": null,
   "metadata": {},
   "outputs": [],
   "source": [
    "def single_vio_plt(col_y, lim_y, plot_name):\n",
    "    fig_dims = (3, 4)\n",
    "    f, axes = plt.subplots(figsize=fig_dims)\n",
    "\n",
    "    ax = sns.violinplot(x=\"cell_specimen_project\", y=col_y, data=shiny[shiny[col_y] <= lim_y], \n",
    "                        order=[\"mIVSCC-MET\", \"hIVSCC-MET\"], inner=\"box\", scale=\"area\",\n",
    "                        palette=spec_colors, saturation=1)\n",
    "    plt.savefig(plot_path + \"violinplot_nms_pass_rna_fail_\" + plot_name + \".jpeg\", bbox_inches=\"tight\")"
   ]
  },
  {
   "cell_type": "code",
   "execution_count": null,
   "metadata": {},
   "outputs": [],
   "source": [
    "single_vio_plt(\"cDNA quality (%>400 bp)\", 1, \"cdna\")\n",
    "single_vio_plt(\"NMS score\", 1.5, \"nms\")\n",
    "single_vio_plt(\"Amplified content (ng)\", 50, \"amp\")"
   ]
  },
  {
   "cell_type": "code",
   "execution_count": null,
   "metadata": {},
   "outputs": [],
   "source": []
  }
 ],
 "metadata": {
  "kernelspec": {
   "display_name": "Python 3",
   "language": "python",
   "name": "python3"
  },
  "language_info": {
   "codemirror_mode": {
    "name": "ipython",
    "version": 3
   },
   "file_extension": ".py",
   "mimetype": "text/x-python",
   "name": "python",
   "nbconvert_exporter": "python",
   "pygments_lexer": "ipython3",
   "version": "3.7.4"
  }
 },
 "nbformat": 4,
 "nbformat_minor": 2
}
