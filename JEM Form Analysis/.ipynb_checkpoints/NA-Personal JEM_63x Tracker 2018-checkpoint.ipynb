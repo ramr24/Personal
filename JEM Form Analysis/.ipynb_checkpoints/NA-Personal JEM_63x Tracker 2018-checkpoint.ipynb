{
 "cells": [
  {
   "cell_type": "markdown",
   "metadata": {},
   "source": [
    "# Personal JEM/63x Tracker 2018"
   ]
  },
  {
   "cell_type": "code",
   "execution_count": 1,
   "metadata": {},
   "outputs": [],
   "source": [
    "import csv\n",
    "import pandas as pd\n",
    "import numpy as np\n",
    "import seaborn as sns\n",
    "import matplotlib.pyplot as plt\n",
    "import post_patch as pp #post patch script\n",
    "\n",
    "sns.set(style = \"whitegrid\")\n",
    "sns.set_context('notebook')"
   ]
  },
  {
   "cell_type": "markdown",
   "metadata": {},
   "source": [
    "### Creating Dataframes: json_df, morph_df, merged_df"
   ]
  },
  {
   "cell_type": "code",
   "execution_count": 2,
   "metadata": {},
   "outputs": [],
   "source": [
    "def get_json_df():\n",
    "    \"\"\"To create json_df(dates:2017-10-02 to 2019-01-15).\n",
    "    \n",
    "    Arguements: None\n",
    "    \n",
    "    Returns: json_df\n",
    "    \"\"\"\n",
    "        \n",
    "    json_df = pd.read_csv(\"C:/users/ramr/documents/github/personal-projects/csv/jem_metadata.csv\")\n",
    "    json_df = json_df[json_df['status'] == 'SUCCESS']\n",
    "    \n",
    "    json_df.dropna(subset = ['container', 'cell_depth'], inplace = True)\n",
    "    json_df = json_df[json_df['container'].str.match('PA')]\n",
    "\n",
    "    #Creates patch_duration column and outputs in minutes\n",
    "    json_df['patch_duration'] = pd.to_datetime(json_df['extraction.timeRetractionEnd']) - pd.to_datetime(json_df['recording.timeWholeCellStart'])\n",
    "    json_df['patch_duration'] = (json_df['patch_duration'].astype('timedelta64[s]'))/60\n",
    "\n",
    "    json_df = pp.postpatch_reclass(json_df) #Makes post patch column with the script\n",
    "\n",
    "    json_df = json_df[['date', \n",
    "                       'container', \n",
    "                       'patch_duration',\n",
    "                       'cell_depth',\n",
    "                       'extraction.endPipetteR',\n",
    "                       'post_patch']]\n",
    "                       #'extraction.extractionNotes']]\n",
    "    \n",
    "    json_df['date'] = json_df['date'].str[:10] #Strip away the time\n",
    "    json_df['date'] = pd.to_datetime(json_df['date']) #Converting to YYYY-MM-DD\n",
    "    json_df.sort_values(by = ['date'], inplace = True) #Sorts date column\n",
    "    return json_df"
   ]
  },
  {
   "cell_type": "code",
   "execution_count": 3,
   "metadata": {},
   "outputs": [],
   "source": [
    "def get_morph_df():\n",
    "    \"\"\"To create morph_df with 63x images information.\n",
    "    \n",
    "    Arguements: None\n",
    "    \n",
    "    Returns: morph_df\n",
    "    \"\"\"\n",
    "    \n",
    "    morph_df = pd.read_csv(\"C:/users/ramr/documents/github/personal-projects/csv/63x.csv\")\n",
    "    morph_df = morph_df.loc[:,['patched_cell_container', \n",
    "                               'ims63x_go_no_go', \n",
    "                               'ims63x_imaging_started', \n",
    "                               'image_series_63x_qc',\n",
    "                               'link_ims_20x',\n",
    "                               'link_ims_63x']]\n",
    "    morph_df.sort_values(by = ['patched_cell_container'], inplace=True) #Sorts date column\n",
    "    return morph_df"
   ]
  },
  {
   "cell_type": "code",
   "execution_count": 4,
   "metadata": {},
   "outputs": [],
   "source": [
    "def merge_dfs(df1, df2):\n",
    "    \"\"\"To create merged_df(dates:???) by merging two dataframes on patch container.\n",
    "    \n",
    "    Arguements: \n",
    "        df1: pandas dataframe on left merge\n",
    "        df2: pandas dataframe on right merge\n",
    "        \n",
    "    Returns: merged_df\n",
    "    \"\"\"\n",
    "    \n",
    "    merged_df = pd.merge(left = df1, \n",
    "                         right = df2, \n",
    "                         left_on = 'container',\n",
    "                         right_on = 'patched_cell_container',\n",
    "                         how = 'inner')\n",
    "    merged_df.dropna(subset=['ims63x_go_no_go'], inplace = True)\n",
    "    merged_df.drop(columns=['patched_cell_container'], inplace=True)\n",
    "    merged_df.sort_values(by = ['date'], inplace=True) #Sorts date column\n",
    "    return merged_df"
   ]
  },
  {
   "cell_type": "markdown",
   "metadata": {},
   "source": [
    "##### Sorting df to display only 2018 data: final_all_df"
   ]
  },
  {
   "cell_type": "code",
   "execution_count": 5,
   "metadata": {},
   "outputs": [],
   "source": [
    "def sort_df(df):\n",
    "    \"\"\"To sort dataframe to only show 2018 data.\n",
    "    \n",
    "    Arguements: \n",
    "        df: pandas dataframe\n",
    "        \n",
    "    Returns: df\n",
    "    \"\"\"\n",
    "    \n",
    "    df = df.set_index('date') #Set date column as index column \n",
    "    start_date = '2018-01-01'\n",
    "    end_date = '2018-12-31'\n",
    "    df = df[start_date:end_date] #Choosing start & end date\n",
    "    df.sort_index(inplace=True)\n",
    "    df.reset_index(inplace=True)\n",
    "    return df"
   ]
  },
  {
   "cell_type": "markdown",
   "metadata": {},
   "source": [
    "##### Making global variables"
   ]
  },
  {
   "cell_type": "code",
   "execution_count": 6,
   "metadata": {},
   "outputs": [
    {
     "name": "stderr",
     "output_type": "stream",
     "text": [
      "C:\\Users\\ramr\\AppData\\Local\\Continuum\\anaconda2\\lib\\site-packages\\IPython\\core\\interactiveshell.py:2818: DtypeWarning: Columns (5,6,7,9,11,12,13,16,17,18,19,20,22,23,24,25,28,29,30,31,32,33,37,38,40,43,45,46,47,48,50,54,55,56,57,58,59,60,61,62,63,64,65,66,67) have mixed types. Specify dtype option on import or set low_memory=False.\n",
      "  if self.run_code(code, result):\n"
     ]
    },
    {
     "ename": "KeyError",
     "evalue": "['patch_container']",
     "output_type": "error",
     "traceback": [
      "\u001b[1;31m---------------------------------------------------------------------------\u001b[0m",
      "\u001b[1;31mKeyError\u001b[0m                                  Traceback (most recent call last)",
      "\u001b[1;32m<ipython-input-6-cd3887b258d5>\u001b[0m in \u001b[0;36m<module>\u001b[1;34m()\u001b[0m\n\u001b[1;32m----> 1\u001b[1;33m \u001b[0mjson_df\u001b[0m \u001b[1;33m=\u001b[0m \u001b[0mget_json_df\u001b[0m\u001b[1;33m(\u001b[0m\u001b[1;33m)\u001b[0m\u001b[1;33m\u001b[0m\u001b[0m\n\u001b[0m\u001b[0;32m      2\u001b[0m \u001b[0mmorph_df\u001b[0m \u001b[1;33m=\u001b[0m \u001b[0mget_morph_df\u001b[0m\u001b[1;33m(\u001b[0m\u001b[1;33m)\u001b[0m\u001b[1;33m\u001b[0m\u001b[0m\n\u001b[0;32m      3\u001b[0m \u001b[0mmerged_df\u001b[0m \u001b[1;33m=\u001b[0m \u001b[0mmerge_dfs\u001b[0m\u001b[1;33m(\u001b[0m\u001b[0mjson_df\u001b[0m\u001b[1;33m,\u001b[0m \u001b[0mmorph_df\u001b[0m\u001b[1;33m)\u001b[0m\u001b[1;33m\u001b[0m\u001b[0m\n\u001b[0;32m      4\u001b[0m \u001b[0mfinal_all_df\u001b[0m \u001b[1;33m=\u001b[0m \u001b[0msort_df\u001b[0m\u001b[1;33m(\u001b[0m\u001b[0mmerged_df\u001b[0m\u001b[1;33m)\u001b[0m \u001b[1;31m#final_all_df Dates: 2018-01-03 to 2018-11-20\u001b[0m\u001b[1;33m\u001b[0m\u001b[0m\n",
      "\u001b[1;32m<ipython-input-2-987a9041af99>\u001b[0m in \u001b[0;36mget_json_df\u001b[1;34m()\u001b[0m\n\u001b[0;32m     10\u001b[0m     \u001b[0mjson_df\u001b[0m \u001b[1;33m=\u001b[0m \u001b[0mjson_df\u001b[0m\u001b[1;33m[\u001b[0m\u001b[0mjson_df\u001b[0m\u001b[1;33m[\u001b[0m\u001b[1;34m'status'\u001b[0m\u001b[1;33m]\u001b[0m \u001b[1;33m==\u001b[0m \u001b[1;34m'SUCCESS'\u001b[0m\u001b[1;33m]\u001b[0m\u001b[1;33m\u001b[0m\u001b[0m\n\u001b[0;32m     11\u001b[0m \u001b[1;33m\u001b[0m\u001b[0m\n\u001b[1;32m---> 12\u001b[1;33m     \u001b[0mjson_df\u001b[0m\u001b[1;33m.\u001b[0m\u001b[0mdropna\u001b[0m\u001b[1;33m(\u001b[0m\u001b[0msubset\u001b[0m \u001b[1;33m=\u001b[0m \u001b[1;33m[\u001b[0m\u001b[1;34m'patch_container'\u001b[0m\u001b[1;33m,\u001b[0m \u001b[1;34m'cell_depth'\u001b[0m\u001b[1;33m]\u001b[0m\u001b[1;33m,\u001b[0m \u001b[0minplace\u001b[0m \u001b[1;33m=\u001b[0m \u001b[0mTrue\u001b[0m\u001b[1;33m)\u001b[0m\u001b[1;33m\u001b[0m\u001b[0m\n\u001b[0m\u001b[0;32m     13\u001b[0m     \u001b[0mjson_df\u001b[0m \u001b[1;33m=\u001b[0m \u001b[0mjson_df\u001b[0m\u001b[1;33m[\u001b[0m\u001b[0mjson_df\u001b[0m\u001b[1;33m[\u001b[0m\u001b[1;34m'patch_container'\u001b[0m\u001b[1;33m]\u001b[0m\u001b[1;33m.\u001b[0m\u001b[0mstr\u001b[0m\u001b[1;33m.\u001b[0m\u001b[0mmatch\u001b[0m\u001b[1;33m(\u001b[0m\u001b[1;34m'PA'\u001b[0m\u001b[1;33m)\u001b[0m\u001b[1;33m]\u001b[0m\u001b[1;33m\u001b[0m\u001b[0m\n\u001b[0;32m     14\u001b[0m \u001b[1;33m\u001b[0m\u001b[0m\n",
      "\u001b[1;32mC:\\Users\\ramr\\AppData\\Local\\Continuum\\anaconda2\\lib\\site-packages\\pandas\\core\\frame.pyc\u001b[0m in \u001b[0;36mdropna\u001b[1;34m(self, axis, how, thresh, subset, inplace)\u001b[0m\n\u001b[0;32m   3487\u001b[0m                 \u001b[0mcheck\u001b[0m \u001b[1;33m=\u001b[0m \u001b[0mindices\u001b[0m \u001b[1;33m==\u001b[0m \u001b[1;33m-\u001b[0m\u001b[1;36m1\u001b[0m\u001b[1;33m\u001b[0m\u001b[0m\n\u001b[0;32m   3488\u001b[0m                 \u001b[1;32mif\u001b[0m \u001b[0mcheck\u001b[0m\u001b[1;33m.\u001b[0m\u001b[0many\u001b[0m\u001b[1;33m(\u001b[0m\u001b[1;33m)\u001b[0m\u001b[1;33m:\u001b[0m\u001b[1;33m\u001b[0m\u001b[0m\n\u001b[1;32m-> 3489\u001b[1;33m                     \u001b[1;32mraise\u001b[0m \u001b[0mKeyError\u001b[0m\u001b[1;33m(\u001b[0m\u001b[0mlist\u001b[0m\u001b[1;33m(\u001b[0m\u001b[0mnp\u001b[0m\u001b[1;33m.\u001b[0m\u001b[0mcompress\u001b[0m\u001b[1;33m(\u001b[0m\u001b[0mcheck\u001b[0m\u001b[1;33m,\u001b[0m \u001b[0msubset\u001b[0m\u001b[1;33m)\u001b[0m\u001b[1;33m)\u001b[0m\u001b[1;33m)\u001b[0m\u001b[1;33m\u001b[0m\u001b[0m\n\u001b[0m\u001b[0;32m   3490\u001b[0m                 \u001b[0magg_obj\u001b[0m \u001b[1;33m=\u001b[0m \u001b[0mself\u001b[0m\u001b[1;33m.\u001b[0m\u001b[0mtake\u001b[0m\u001b[1;33m(\u001b[0m\u001b[0mindices\u001b[0m\u001b[1;33m,\u001b[0m \u001b[0maxis\u001b[0m\u001b[1;33m=\u001b[0m\u001b[0magg_axis\u001b[0m\u001b[1;33m)\u001b[0m\u001b[1;33m\u001b[0m\u001b[0m\n\u001b[0;32m   3491\u001b[0m \u001b[1;33m\u001b[0m\u001b[0m\n",
      "\u001b[1;31mKeyError\u001b[0m: ['patch_container']"
     ]
    }
   ],
   "source": [
    "json_df = get_json_df()\n",
    "morph_df = get_morph_df()\n",
    "merged_df = merge_dfs(json_df, morph_df)\n",
    "final_all_df = sort_df(merged_df) #final_all_df Dates: 2018-01-03 to 2018-11-20"
   ]
  },
  {
   "cell_type": "markdown",
   "metadata": {},
   "source": [
    "### Display df"
   ]
  },
  {
   "cell_type": "code",
   "execution_count": null,
   "metadata": {},
   "outputs": [],
   "source": [
    "json_df.head(1)"
   ]
  },
  {
   "cell_type": "code",
   "execution_count": null,
   "metadata": {},
   "outputs": [],
   "source": [
    "json_df.tail(1)"
   ]
  },
  {
   "cell_type": "code",
   "execution_count": null,
   "metadata": {},
   "outputs": [],
   "source": [
    "final_all_df.head(1)"
   ]
  },
  {
   "cell_type": "code",
   "execution_count": null,
   "metadata": {},
   "outputs": [],
   "source": [
    "final_all_df.tail(1)"
   ]
  },
  {
   "cell_type": "markdown",
   "metadata": {},
   "source": [
    "### Dataframe into Excel sheet"
   ]
  },
  {
   "cell_type": "code",
   "execution_count": null,
   "metadata": {},
   "outputs": [],
   "source": [
    "#Outputing dataframe as excel sheet\n",
    "#writer = pd.ExcelWriter('TITLE.xlsx')\n",
    "#dataframe.to_excel(writer, 'Sheet#)\n",
    "\n",
    "#If error message is 'Permission denied' then you have the excel sheet open"
   ]
  },
  {
   "cell_type": "code",
   "execution_count": null,
   "metadata": {},
   "outputs": [],
   "source": [
    "#Dataframe with only nuc-high seal\n",
    "final_nuc_df = final_all_df[final_all_df['post_patch']=='Nuc-high seal']\n",
    "\n",
    "#Making df into excel sheets\n",
    "writer = pd.ExcelWriter('C:/users/kumar/documents/github/personal-projects/Excel/Morphology.xlsx')\n",
    "final_all_df.to_excel(writer, 'All_63x', freeze_panes=(1,0))\n",
    "final_nuc_df.to_excel(writer, 'Only_Nuc-high_63x', freeze_panes=(1,0))\n",
    "writer.save()"
   ]
  },
  {
   "cell_type": "markdown",
   "metadata": {},
   "source": [
    "# Plots"
   ]
  },
  {
   "cell_type": "code",
   "execution_count": null,
   "metadata": {},
   "outputs": [],
   "source": [
    "#Constant and reused variables \n",
    "colors = ['#31a354', '#a1d99b', '#fc9272', '#de2d26', '#f7fcb9'] #For seaborn plots\n",
    "x_order = ['Nuc-high seal', 'Nuc-low seal', 'No-high seal', 'No-low seal', 'Entire cell']"
   ]
  },
  {
   "cell_type": "markdown",
   "metadata": {},
   "source": [
    "### Bar, Pie & Boxplot"
   ]
  },
  {
   "cell_type": "code",
   "execution_count": null,
   "metadata": {},
   "outputs": [],
   "source": [
    "def bar_plot(df): \n",
    "    \"\"\"To create a horizontal bar graph using df converted to pivot table.\n",
    "    \n",
    "    Arguements:\n",
    "        df: pandas dataframe\n",
    "    \n",
    "    Returns: None\n",
    "    \"\"\"\n",
    "    \n",
    "    df1 = df.groupby(['post_patch']).size().reset_index(name = 'count')\n",
    "    \n",
    "    plt.subplots(figsize=(8,5)) #Has to be before the plot to work\n",
    "    \n",
    "    ax = sns.barplot(x = 'count', y = 'post_patch', order = x_order, palette = colors, saturation = 1, data = df1)\n",
    "    ax.set(xlabel = 'Count', ylabel = 'Post Patch Outcomes')\n",
    "    ax.set_title(\"Counts of Post Patch Outcomes for User\")\n",
    "    \n",
    "    for p in ax.patches: #Figure out how this loop works\n",
    "        value = p.get_width()\n",
    "        ax.text(value, p.get_y() + p.get_height()/2 + 0.1, '{:1.0f}'.format(value), ha = \"left\", fontsize = 12)\n",
    "        \n",
    "# + 0.1 = chooses location of the value vertically"
   ]
  },
  {
   "cell_type": "code",
   "execution_count": null,
   "metadata": {},
   "outputs": [],
   "source": [
    "def pie_plot(df):\n",
    "    \"\"\"To create a pie chart using df converted to pivot table.\n",
    "    \n",
    "    Arguements:\n",
    "        df: pandas dataframe\n",
    "    \n",
    "    Returns: None\n",
    "    \"\"\"\n",
    "    \n",
    "    df1 = df.groupby(['post_patch']).size().reset_index(name = 'count')\n",
    "    df1.set_index('post_patch', inplace = True)\n",
    "    \n",
    "    explode = (0.05, 0.05, 0.05, 0.05, 0.05) #splits the categories\n",
    "    colors = ['#f7fcb9','#fc9272', '#de2d26', '#31a354', '#a1d99b']\n",
    "    #Entire, No-high, No-low, Nuc-high, Nuc-low\n",
    "    #Yellow, Light Red, Red, Green, Light Green\n",
    "    \n",
    "    df1.plot.pie(y = 'count', autopct='%1.1f%%', figsize = (8,8), shadow = True, legend = False, \n",
    "                 explode = explode, colors = colors)\n",
    "    plt.title('Post Patch Percentage', loc = 'center', fontsize = 14)\n",
    "    plt.axes().set_ylabel('')"
   ]
  },
  {
   "cell_type": "code",
   "execution_count": null,
   "metadata": {},
   "outputs": [],
   "source": [
    "def box_plot(df):\n",
    "    \"\"\"To create a box plot using df.\n",
    "    \n",
    "    Arguements:\n",
    "        df: pandas dataframe\n",
    "    \n",
    "    Returns: None\n",
    "    \"\"\"\n",
    "    \n",
    "    bp = sns.boxplot(x = 'post_patch', y = 'patch_duration', data = df, order = x_order, palette = colors)\n",
    "    bp.set(ylim=(0, 20)) #To cutoff outliers"
   ]
  },
  {
   "cell_type": "code",
   "execution_count": null,
   "metadata": {},
   "outputs": [],
   "source": [
    "bar_plot(final_all_df)"
   ]
  },
  {
   "cell_type": "code",
   "execution_count": null,
   "metadata": {},
   "outputs": [],
   "source": [
    "pie_plot(final_all_df)"
   ]
  },
  {
   "cell_type": "code",
   "execution_count": null,
   "metadata": {},
   "outputs": [],
   "source": [
    "box_plot(final_all_df)"
   ]
  },
  {
   "cell_type": "markdown",
   "metadata": {},
   "source": [
    "### Histogram plot of depth vs post_patch "
   ]
  },
  {
   "cell_type": "code",
   "execution_count": null,
   "metadata": {},
   "outputs": [],
   "source": [
    "#Histogram plot dfs\n",
    "nuh_df = final_all_df[final_all_df['post_patch'] == 'Nuc-high seal']\n",
    "nul_df = final_all_df[final_all_df['post_patch'] == 'Nuc-low seal']\n",
    "noh_df = final_all_df[final_all_df['post_patch'] == 'No-high seal']\n",
    "nol_df = final_all_df[final_all_df['post_patch'] == 'No-low seal']\n",
    "ent_df = final_all_df[final_all_df['post_patch'] == 'Entire cell']\n",
    "\n",
    "def hist(df, colors):\n",
    "    \"\"\"To create a histogram plot using df.\n",
    "    \n",
    "    Arguements:\n",
    "        df: pandas dataframe\n",
    "        colors: color\n",
    "    \n",
    "    Returns: None\n",
    "    \"\"\"\n",
    "    \n",
    "    bins = np.arange(0, 100, 5) #Displays cell depth 0 to 100 um, split by 5 \n",
    "    ax = sns.distplot(df[\"cell_depth\"], bins=bins, kde=False, color=colors)\n",
    "    #kde = kernal density estimate line\n",
    "    ax.set(xlabel = 'Cell Depth(um)', ylabel = 'Count of nucleated patch')\n",
    "    ax.set_title(\"Counts of nucleated patches at cell depth\")\n",
    "    \n",
    "#colors = ['#31a354', '#a1d99b', '#fc9272', '#de2d26', '#f7fcb9']"
   ]
  },
  {
   "cell_type": "code",
   "execution_count": null,
   "metadata": {},
   "outputs": [],
   "source": [
    "hist(nuh_df, '#31a354')\n",
    "hist(nul_df, '#f7fcb9')\n",
    "hist(noh_df, '#de2d26')\n",
    "hist(nol_df, '#fc9272')\n",
    "hist(ent_df, '#a1d99b')\n",
    "#You can display these separately also"
   ]
  },
  {
   "cell_type": "markdown",
   "metadata": {},
   "source": [
    "### Boxplot of patch duration vs morph calls by post patch outcomes"
   ]
  },
  {
   "cell_type": "code",
   "execution_count": null,
   "metadata": {},
   "outputs": [],
   "source": [
    "plt.subplots(figsize=(10,8)) #Has to be before the plot to work\n",
    "\n",
    "bp = sns.boxplot(x = 'post_patch', y = 'patch_duration', hue = 'ims63x_go_no_go', order = x_order, \n",
    "                 hue_order = ['63x go','63x no go'], data = final_all_df, palette = ['#74c476', '#de2d26'],\n",
    "                 saturation = 1, fliersize = 4)\n",
    "bp.legend(loc = 0, \n",
    "          #bbox_to_anchor = (0.95, 1), \n",
    "          frameon = True, \n",
    "          shadow = True,\n",
    "          fontsize = 13)\n",
    "bp.set(ylim=(0, 20)) #To cutoff outliers\n",
    "\n",
    "bp.set_title('Patch Duration vs. Morph Calls by Post Patch Outcomes')\n",
    "bp.set(xlabel = 'Post Patch Outcomes', ylabel = 'Patch Duration (min)')"
   ]
  },
  {
   "cell_type": "markdown",
   "metadata": {},
   "source": [
    "### Dataframe Info"
   ]
  },
  {
   "cell_type": "code",
   "execution_count": null,
   "metadata": {},
   "outputs": [],
   "source": [
    "def df_info():\n",
    "    \"\"\"To view information about the multiple dataframes.\n",
    "    \n",
    "    Arguements: None\n",
    "    \n",
    "    Returns: None\n",
    "    \"\"\"\n",
    "    print(\"json_df\")\n",
    "    json_df.info()\n",
    "    print()\n",
    "    print(\"merged_df\")\n",
    "    merged_df.info()\n",
    "    print()\n",
    "    print(\"final_all_df\")\n",
    "    final_all_df.info()\n",
    "    print()\n",
    "    print(\"final_nuc_df\")\n",
    "    final_nuc_df.info()"
   ]
  },
  {
   "cell_type": "code",
   "execution_count": null,
   "metadata": {},
   "outputs": [],
   "source": [
    "df_info()"
   ]
  },
  {
   "cell_type": "code",
   "execution_count": null,
   "metadata": {
    "scrolled": true
   },
   "outputs": [],
   "source": [
    "final_all_df['post_patch'].value_counts()"
   ]
  },
  {
   "cell_type": "code",
   "execution_count": null,
   "metadata": {},
   "outputs": [],
   "source": [
    "final_all_df['ims63x_go_no_go'].value_counts()"
   ]
  },
  {
   "cell_type": "code",
   "execution_count": null,
   "metadata": {},
   "outputs": [],
   "source": []
  },
  {
   "cell_type": "code",
   "execution_count": null,
   "metadata": {},
   "outputs": [],
   "source": []
  }
 ],
 "metadata": {
  "kernelspec": {
   "display_name": "Python 2",
   "language": "python",
   "name": "python2"
  },
  "language_info": {
   "codemirror_mode": {
    "name": "ipython",
    "version": 2
   },
   "file_extension": ".py",
   "mimetype": "text/x-python",
   "name": "python",
   "nbconvert_exporter": "python",
   "pygments_lexer": "ipython2",
   "version": "2.7.15"
  }
 },
 "nbformat": 4,
 "nbformat_minor": 2
}
