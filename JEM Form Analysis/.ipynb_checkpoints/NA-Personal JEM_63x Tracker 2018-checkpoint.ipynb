{
 "cells": [
  {
   "cell_type": "markdown",
   "metadata": {},
   "source": [
    "# Personal JEM/63x Tracker 2018"
   ]
  },
  {
   "cell_type": "code",
   "execution_count": 1,
   "metadata": {},
   "outputs": [],
   "source": [
    "import csv\n",
    "import pandas as pd\n",
    "import numpy as np\n",
    "import seaborn as sns\n",
    "import matplotlib.pyplot as plt\n",
    "import post_patch as pp #post patch script\n",
    "\n",
    "sns.set(style = \"whitegrid\")\n",
    "sns.set_context('notebook')"
   ]
  },
  {
   "cell_type": "markdown",
   "metadata": {},
   "source": [
    "### Plot Colors"
   ]
  },
  {
   "cell_type": "code",
   "execution_count": 2,
   "metadata": {},
   "outputs": [],
   "source": [
    "#Constant and reused variables \n",
    "colors = ['#31a354', '#a1d99b', '#fc9272', '#de2d26', '#f7fcb9'] #For seaborn plots\n",
    "x_order = ['Nuc-high seal', 'Nuc-low seal', 'No-high seal', 'No-low seal', 'Entire cell']"
   ]
  },
  {
   "cell_type": "markdown",
   "metadata": {},
   "source": [
    "### Creating Dataframes: json_df, morph_df, merged_df"
   ]
  },
  {
   "cell_type": "code",
   "execution_count": 3,
   "metadata": {},
   "outputs": [],
   "source": [
    "def get_json_df():\n",
    "    \"\"\"To create json_df(dates:2017-10-02 to 2019-01-15).\n",
    "    \n",
    "    Arguements: None\n",
    "    \n",
    "    Returns: json_df\n",
    "    \"\"\"\n",
    "        \n",
    "    json_df = pd.read_csv('C:/users/ramr/documents/github/personal-projects/csv/json_metadata.csv')\n",
    "    json_df = json_df[json_df['status'] == 'SUCCESS']\n",
    "    \n",
    "    json_df.dropna(subset = ['patch_container', 'cell_depth'], inplace = True)\n",
    "    json_df = json_df[json_df['patch_container'].str.match('PA')]\n",
    "\n",
    "    #Creates patch_duration column and outputs in minutes\n",
    "    json_df['patch_duration'] = pd.to_datetime(json_df['extraction.timeRetractionEnd']) - pd.to_datetime(json_df['recording.timeWholeCellStart'])\n",
    "    json_df['patch_duration'] = (json_df['patch_duration'].astype('timedelta64[s]'))/60\n",
    "\n",
    "    json_df = pp.postpatch_reclass(json_df) #Makes post patch column with the script\n",
    "\n",
    "    json_df = json_df[['date', \n",
    "                       'patch_container', \n",
    "                       'patch_duration',\n",
    "                       'cell_depth',\n",
    "                       'extraction.endPipetteR',\n",
    "                       'post_patch']]\n",
    "                       #'extraction.extractionNotes']]\n",
    "    \n",
    "    json_df['date'] = json_df['date'].str[:10] #Strip away the time\n",
    "    json_df['date'] = pd.to_datetime(json_df['date']) #Converting to YYYY-MM-DD\n",
    "    json_df.sort_values(by = ['date'], inplace = True) #Sorts date column\n",
    "    return json_df"
   ]
  },
  {
   "cell_type": "code",
   "execution_count": 4,
   "metadata": {},
   "outputs": [],
   "source": [
    "def get_morph_df():\n",
    "    \"\"\"To create morph_df with 63x images information.\n",
    "    \n",
    "    Arguements: None\n",
    "    \n",
    "    Returns: morph_df\n",
    "    \"\"\"\n",
    "    \n",
    "    morph_df = pd.read_csv(\"C:/users/ramr/documents/github/personal-projects/csv/63x.csv\")\n",
    "    morph_df = morph_df.loc[:,['patched_cell_container', \n",
    "                               'ims63x_go_no_go', \n",
    "                               'ims63x_imaging_started', \n",
    "                               'image_series_63x_qc',\n",
    "                               'link_ims_20x',\n",
    "                               'link_ims_63x']]\n",
    "    morph_df.sort_values(by = ['patched_cell_container'], inplace=True) #Sorts date column\n",
    "    return morph_df"
   ]
  },
  {
   "cell_type": "code",
   "execution_count": 5,
   "metadata": {},
   "outputs": [],
   "source": [
    "def merge_dfs(df1, df2):\n",
    "    \"\"\"To create merged_df(dates:???) by merging two dataframes on patch container.\n",
    "    \n",
    "    Arguements: \n",
    "        df1: pandas dataframe on left merge\n",
    "        df2: pandas dataframe on right merge\n",
    "        \n",
    "    Returns: merged_df\n",
    "    \"\"\"\n",
    "    \n",
    "    merged_df = pd.merge(left = df1, \n",
    "                         right = df2, \n",
    "                         left_on = 'patch_container',\n",
    "                         right_on = 'patched_cell_container',\n",
    "                         how = 'inner')\n",
    "    merged_df.dropna(subset=['ims63x_go_no_go'], inplace = True)\n",
    "    merged_df.drop(columns=['patched_cell_container'], inplace=True)\n",
    "    merged_df.sort_values(by = ['date'], inplace=True) #Sorts date column\n",
    "    return merged_df"
   ]
  },
  {
   "cell_type": "markdown",
   "metadata": {},
   "source": [
    "##### Sorting df to display only 2018 data: final_all_df"
   ]
  },
  {
   "cell_type": "code",
   "execution_count": 6,
   "metadata": {},
   "outputs": [],
   "source": [
    "def sort_df(df):\n",
    "    \"\"\"To sort dataframe to only show 2018 data.\n",
    "    \n",
    "    Arguements: \n",
    "        df: pandas dataframe\n",
    "        \n",
    "    Returns: df\n",
    "    \"\"\"\n",
    "    \n",
    "    df = df.set_index('date') #Set date column as index column \n",
    "    start_date = '2018-01-01'\n",
    "    end_date = '2018-12-31'\n",
    "    df = df[start_date:end_date] #Choosing start & end date\n",
    "    df.sort_index(inplace=True)\n",
    "    df.reset_index(inplace=True)\n",
    "    return df"
   ]
  },
  {
   "cell_type": "markdown",
   "metadata": {},
   "source": [
    "##### Making global variables"
   ]
  },
  {
   "cell_type": "code",
   "execution_count": 7,
   "metadata": {},
   "outputs": [
    {
     "name": "stderr",
     "output_type": "stream",
     "text": [
      "C:\\Users\\ramr\\AppData\\Local\\Continuum\\anaconda2\\lib\\site-packages\\pandas\\core\\indexing.py:357: SettingWithCopyWarning: \n",
      "A value is trying to be set on a copy of a slice from a DataFrame.\n",
      "Try using .loc[row_indexer,col_indexer] = value instead\n",
      "\n",
      "See the caveats in the documentation: http://pandas.pydata.org/pandas-docs/stable/indexing.html#indexing-view-versus-copy\n",
      "  self.obj[key] = _infer_fill_value(value)\n",
      "C:\\Users\\ramr\\AppData\\Local\\Continuum\\anaconda2\\lib\\site-packages\\pandas\\core\\indexing.py:537: SettingWithCopyWarning: \n",
      "A value is trying to be set on a copy of a slice from a DataFrame.\n",
      "Try using .loc[row_indexer,col_indexer] = value instead\n",
      "\n",
      "See the caveats in the documentation: http://pandas.pydata.org/pandas-docs/stable/indexing.html#indexing-view-versus-copy\n",
      "  self.obj[item] = s\n"
     ]
    }
   ],
   "source": [
    "json_df = get_json_df()\n",
    "morph_df = get_morph_df()\n",
    "merged_df = merge_dfs(json_df, morph_df)\n",
    "final_all_df = sort_df(merged_df) #final_all_df Dates: 2018-01-03 to 2018-11-20"
   ]
  },
  {
   "cell_type": "markdown",
   "metadata": {},
   "source": [
    "### Display df"
   ]
  },
  {
   "cell_type": "code",
   "execution_count": 8,
   "metadata": {},
   "outputs": [
    {
     "data": {
      "text/html": [
       "<div>\n",
       "<style scoped>\n",
       "    .dataframe tbody tr th:only-of-type {\n",
       "        vertical-align: middle;\n",
       "    }\n",
       "\n",
       "    .dataframe tbody tr th {\n",
       "        vertical-align: top;\n",
       "    }\n",
       "\n",
       "    .dataframe thead th {\n",
       "        text-align: right;\n",
       "    }\n",
       "</style>\n",
       "<table border=\"1\" class=\"dataframe\">\n",
       "  <thead>\n",
       "    <tr style=\"text-align: right;\">\n",
       "      <th></th>\n",
       "      <th>date</th>\n",
       "      <th>patch_container</th>\n",
       "      <th>patch_duration</th>\n",
       "      <th>cell_depth</th>\n",
       "      <th>extraction.endPipetteR</th>\n",
       "      <th>post_patch</th>\n",
       "    </tr>\n",
       "  </thead>\n",
       "  <tbody>\n",
       "    <tr>\n",
       "      <th>223</th>\n",
       "      <td>2017-10-02</td>\n",
       "      <td>PAS4_171002_451_A01</td>\n",
       "      <td>11.866667</td>\n",
       "      <td>47.4</td>\n",
       "      <td>10.2</td>\n",
       "      <td>No-low seal</td>\n",
       "    </tr>\n",
       "  </tbody>\n",
       "</table>\n",
       "</div>"
      ],
      "text/plain": [
       "          date      patch_container  patch_duration  cell_depth  \\\n",
       "223 2017-10-02  PAS4_171002_451_A01       11.866667        47.4   \n",
       "\n",
       "     extraction.endPipetteR   post_patch  \n",
       "223                    10.2  No-low seal  "
      ]
     },
     "execution_count": 8,
     "metadata": {},
     "output_type": "execute_result"
    }
   ],
   "source": [
    "json_df.head(1)"
   ]
  },
  {
   "cell_type": "code",
   "execution_count": 9,
   "metadata": {},
   "outputs": [
    {
     "data": {
      "text/html": [
       "<div>\n",
       "<style scoped>\n",
       "    .dataframe tbody tr th:only-of-type {\n",
       "        vertical-align: middle;\n",
       "    }\n",
       "\n",
       "    .dataframe tbody tr th {\n",
       "        vertical-align: top;\n",
       "    }\n",
       "\n",
       "    .dataframe thead th {\n",
       "        text-align: right;\n",
       "    }\n",
       "</style>\n",
       "<table border=\"1\" class=\"dataframe\">\n",
       "  <thead>\n",
       "    <tr style=\"text-align: right;\">\n",
       "      <th></th>\n",
       "      <th>date</th>\n",
       "      <th>patch_container</th>\n",
       "      <th>patch_duration</th>\n",
       "      <th>cell_depth</th>\n",
       "      <th>extraction.endPipetteR</th>\n",
       "      <th>post_patch</th>\n",
       "    </tr>\n",
       "  </thead>\n",
       "  <tbody>\n",
       "    <tr>\n",
       "      <th>6463</th>\n",
       "      <td>2019-01-15</td>\n",
       "      <td>PAS4_190115_451_A01</td>\n",
       "      <td>9.6</td>\n",
       "      <td>38.4</td>\n",
       "      <td>2000.0</td>\n",
       "      <td>Nuc-high seal</td>\n",
       "    </tr>\n",
       "  </tbody>\n",
       "</table>\n",
       "</div>"
      ],
      "text/plain": [
       "           date      patch_container  patch_duration  cell_depth  \\\n",
       "6463 2019-01-15  PAS4_190115_451_A01             9.6        38.4   \n",
       "\n",
       "      extraction.endPipetteR     post_patch  \n",
       "6463                  2000.0  Nuc-high seal  "
      ]
     },
     "execution_count": 9,
     "metadata": {},
     "output_type": "execute_result"
    }
   ],
   "source": [
    "json_df.tail(1)"
   ]
  },
  {
   "cell_type": "code",
   "execution_count": 10,
   "metadata": {},
   "outputs": [
    {
     "data": {
      "text/html": [
       "<div>\n",
       "<style scoped>\n",
       "    .dataframe tbody tr th:only-of-type {\n",
       "        vertical-align: middle;\n",
       "    }\n",
       "\n",
       "    .dataframe tbody tr th {\n",
       "        vertical-align: top;\n",
       "    }\n",
       "\n",
       "    .dataframe thead th {\n",
       "        text-align: right;\n",
       "    }\n",
       "</style>\n",
       "<table border=\"1\" class=\"dataframe\">\n",
       "  <thead>\n",
       "    <tr style=\"text-align: right;\">\n",
       "      <th></th>\n",
       "      <th>date</th>\n",
       "      <th>patch_container</th>\n",
       "      <th>patch_duration</th>\n",
       "      <th>cell_depth</th>\n",
       "      <th>extraction.endPipetteR</th>\n",
       "      <th>post_patch</th>\n",
       "      <th>ims63x_go_no_go</th>\n",
       "      <th>ims63x_imaging_started</th>\n",
       "      <th>image_series_63x_qc</th>\n",
       "      <th>link_ims_20x</th>\n",
       "      <th>link_ims_63x</th>\n",
       "    </tr>\n",
       "  </thead>\n",
       "  <tbody>\n",
       "    <tr>\n",
       "      <th>0</th>\n",
       "      <td>2018-01-03</td>\n",
       "      <td>PAS4_180103_452_A01</td>\n",
       "      <td>9.083333</td>\n",
       "      <td>33.8</td>\n",
       "      <td>1500.0</td>\n",
       "      <td>Nuc-high seal</td>\n",
       "      <td>63x go</td>\n",
       "      <td>63x imaging started</td>\n",
       "      <td>deferred</td>\n",
       "      <td>http://lims2/focal_plane_image_series?id=65748...</td>\n",
       "      <td>http://lims2/focal_plane_image_series?id=66389...</td>\n",
       "    </tr>\n",
       "  </tbody>\n",
       "</table>\n",
       "</div>"
      ],
      "text/plain": [
       "        date      patch_container  patch_duration  cell_depth  \\\n",
       "0 2018-01-03  PAS4_180103_452_A01        9.083333        33.8   \n",
       "\n",
       "   extraction.endPipetteR     post_patch ims63x_go_no_go  \\\n",
       "0                  1500.0  Nuc-high seal          63x go   \n",
       "\n",
       "  ims63x_imaging_started image_series_63x_qc  \\\n",
       "0    63x imaging started            deferred   \n",
       "\n",
       "                                        link_ims_20x  \\\n",
       "0  http://lims2/focal_plane_image_series?id=65748...   \n",
       "\n",
       "                                        link_ims_63x  \n",
       "0  http://lims2/focal_plane_image_series?id=66389...  "
      ]
     },
     "execution_count": 10,
     "metadata": {},
     "output_type": "execute_result"
    }
   ],
   "source": [
    "final_all_df.head(1)"
   ]
  },
  {
   "cell_type": "code",
   "execution_count": 11,
   "metadata": {},
   "outputs": [
    {
     "data": {
      "text/html": [
       "<div>\n",
       "<style scoped>\n",
       "    .dataframe tbody tr th:only-of-type {\n",
       "        vertical-align: middle;\n",
       "    }\n",
       "\n",
       "    .dataframe tbody tr th {\n",
       "        vertical-align: top;\n",
       "    }\n",
       "\n",
       "    .dataframe thead th {\n",
       "        text-align: right;\n",
       "    }\n",
       "</style>\n",
       "<table border=\"1\" class=\"dataframe\">\n",
       "  <thead>\n",
       "    <tr style=\"text-align: right;\">\n",
       "      <th></th>\n",
       "      <th>date</th>\n",
       "      <th>patch_container</th>\n",
       "      <th>patch_duration</th>\n",
       "      <th>cell_depth</th>\n",
       "      <th>extraction.endPipetteR</th>\n",
       "      <th>post_patch</th>\n",
       "      <th>ims63x_go_no_go</th>\n",
       "      <th>ims63x_imaging_started</th>\n",
       "      <th>image_series_63x_qc</th>\n",
       "      <th>link_ims_20x</th>\n",
       "      <th>link_ims_63x</th>\n",
       "    </tr>\n",
       "  </thead>\n",
       "  <tbody>\n",
       "    <tr>\n",
       "      <th>360</th>\n",
       "      <td>2018-11-20</td>\n",
       "      <td>PAS4_181120_451_A01</td>\n",
       "      <td>10.016667</td>\n",
       "      <td>68.5</td>\n",
       "      <td>60.0</td>\n",
       "      <td>Nuc-high seal</td>\n",
       "      <td>63x no go</td>\n",
       "      <td>NaN</td>\n",
       "      <td>NaN</td>\n",
       "      <td>http://lims2/focal_plane_image_series?id=79000...</td>\n",
       "      <td>NaN</td>\n",
       "    </tr>\n",
       "  </tbody>\n",
       "</table>\n",
       "</div>"
      ],
      "text/plain": [
       "          date      patch_container  patch_duration  cell_depth  \\\n",
       "360 2018-11-20  PAS4_181120_451_A01       10.016667        68.5   \n",
       "\n",
       "     extraction.endPipetteR     post_patch ims63x_go_no_go  \\\n",
       "360                    60.0  Nuc-high seal       63x no go   \n",
       "\n",
       "    ims63x_imaging_started image_series_63x_qc  \\\n",
       "360                    NaN                 NaN   \n",
       "\n",
       "                                          link_ims_20x link_ims_63x  \n",
       "360  http://lims2/focal_plane_image_series?id=79000...          NaN  "
      ]
     },
     "execution_count": 11,
     "metadata": {},
     "output_type": "execute_result"
    }
   ],
   "source": [
    "final_all_df.tail(1)"
   ]
  },
  {
   "cell_type": "markdown",
   "metadata": {},
   "source": [
    "### Dataframe into Excel sheet"
   ]
  },
  {
   "cell_type": "code",
   "execution_count": 12,
   "metadata": {},
   "outputs": [],
   "source": [
    "#Outputing dataframe as excel sheet\n",
    "#writer = pd.ExcelWriter('TITLE.xlsx')\n",
    "#dataframe.to_excel(writer, 'Sheet#)\n",
    "\n",
    "#If error message is 'Permission denied' then you have the excel sheet open"
   ]
  },
  {
   "cell_type": "code",
   "execution_count": 13,
   "metadata": {},
   "outputs": [],
   "source": [
    "#Dataframe with only nuc-high seal\n",
    "final_nuc_df = final_all_df[final_all_df['post_patch']=='Nuc-high seal']\n",
    "\n",
    "#Making df into excel sheets\n",
    "writer = pd.ExcelWriter('C:/users/ramr/documents/github/personal-projects/Excel/Morphology.xlsx')\n",
    "final_all_df.to_excel(writer, 'All_63x', freeze_panes=(1,0))\n",
    "final_nuc_df.to_excel(writer, 'Only_Nuc-high_63x', freeze_panes=(1,0))\n",
    "writer.save()"
   ]
  },
  {
   "cell_type": "markdown",
   "metadata": {},
   "source": [
    "# Plots"
   ]
  },
  {
   "cell_type": "markdown",
   "metadata": {},
   "source": [
    "### Bar, Pie & Boxplot"
   ]
  },
  {
   "cell_type": "code",
   "execution_count": 14,
   "metadata": {},
   "outputs": [],
   "source": [
    "def bar_plot(df): \n",
    "    \"\"\"To create a horizontal bar graph using df converted to pivot table.\n",
    "    \n",
    "    Arguements:\n",
    "        df: pandas dataframe converted to pivot table\n",
    "    \n",
    "    Returns: None\n",
    "    \"\"\"\n",
    "    \n",
    "    df1 = df.groupby(['post_patch']).size().reset_index(name = 'count')\n",
    "    \n",
    "    plt.subplots(figsize=(8,5)) #Has to be before the plot to work\n",
    "    \n",
    "    ax = sns.barplot(x = 'count', y = 'post_patch', order = x_order, palette = colors, saturation = 1, data = df1)\n",
    "    ax.set(xlabel = 'Count', ylabel = 'Post Patch Outcomes')\n",
    "    ax.set_title(\"Counts of Post Patch Outcomes for User\")\n",
    "    \n",
    "    for p in ax.patches: #Figure out how this loop works\n",
    "        value = p.get_width()\n",
    "        ax.text(value, p.get_y() + p.get_height()/2 + 0.1, '{:1.0f}'.format(value), ha = \"left\", fontsize = 12)\n",
    "        \n",
    "# + 0.1 = chooses location of the value vertically"
   ]
  },
  {
   "cell_type": "code",
   "execution_count": 15,
   "metadata": {},
   "outputs": [],
   "source": [
    "def pie_plot(df):\n",
    "    \"\"\"To create a pie chart using df converted to pivot table.\n",
    "    \n",
    "    Arguements:\n",
    "        df: pandas dataframe converted to pivot table\n",
    "    \n",
    "    Returns: None\n",
    "    \"\"\"\n",
    "    \n",
    "    df1 = df.groupby(['post_patch']).size().reset_index(name = 'count')\n",
    "    df1.set_index('post_patch', inplace = True)\n",
    "    \n",
    "    explode = (0.05, 0.05, 0.05, 0.05, 0.05) #splits the categories\n",
    "    colors = ['#f7fcb9','#fc9272', '#de2d26', '#31a354', '#a1d99b']\n",
    "    #Entire, No-high, No-low, Nuc-high, Nuc-low\n",
    "    #Yellow, Light Red, Red, Green, Light Green\n",
    "    \n",
    "    df1.plot.pie(y = 'count', autopct='%1.1f%%', figsize = (8,8), shadow = True, legend = False, \n",
    "                 explode = explode, colors = colors)\n",
    "    plt.title('Post Patch Percentage', loc = 'center', fontsize = 14)\n",
    "    plt.axes().set_ylabel('')"
   ]
  },
  {
   "cell_type": "code",
   "execution_count": 16,
   "metadata": {},
   "outputs": [],
   "source": [
    "def box_plot(df):\n",
    "    \"\"\"To create a box plot using df.\n",
    "    \n",
    "    Arguements:\n",
    "        df: pandas dataframe\n",
    "    \n",
    "    Returns: None\n",
    "    \"\"\"\n",
    "    \n",
    "    bp = sns.boxplot(x = 'post_patch', y = 'patch_duration', data = df, order = x_order, palette = colors)\n",
    "    bp.set(ylim=(0, 20)) #To cutoff outliers"
   ]
  },
  {
   "cell_type": "code",
   "execution_count": 17,
   "metadata": {},
   "outputs": [
    {
     "data": {
      "image/png": "[encoded data removed]",
      "text/plain": [
       "<matplotlib.figure.Figure at 0xaccbd30>"
      ]
     },
     "metadata": {},
     "output_type": "display_data"
    }
   ],
   "source": [
    "bar_plot(final_all_df)"
   ]
  },
  {
   "cell_type": "code",
   "execution_count": 18,
   "metadata": {},
   "outputs": [
    {
     "data": {
      "image/png": "[encoded data removed]",
      "text/plain": [
       "<matplotlib.figure.Figure at 0xb973ba8>"
      ]
     },
     "metadata": {},
     "output_type": "display_data"
    }
   ],
   "source": [
    "pie_plot(final_all_df)"
   ]
  },
  {
   "cell_type": "code",
   "execution_count": 19,
   "metadata": {},
   "outputs": [
    {
     "data": {
      "image/png": "[encoded data removed]",
      "text/plain": [
       "<matplotlib.figure.Figure at 0xb979668>"
      ]
     },
     "metadata": {},
     "output_type": "display_data"
    }
   ],
   "source": [
    "box_plot(final_all_df)"
   ]
  },
  {
   "cell_type": "markdown",
   "metadata": {},
   "source": [
    "### Histogram plot of depth vs post_patch "
   ]
  },
  {
   "cell_type": "code",
   "execution_count": 20,
   "metadata": {},
   "outputs": [],
   "source": [
    "#Histogram plot dfs\n",
    "nuh_df = final_all_df[final_all_df['post_patch'] == 'Nuc-high seal']\n",
    "nul_df = final_all_df[final_all_df['post_patch'] == 'Nuc-low seal']\n",
    "noh_df = final_all_df[final_all_df['post_patch'] == 'No-high seal']\n",
    "nol_df = final_all_df[final_all_df['post_patch'] == 'No-low seal']\n",
    "ent_df = final_all_df[final_all_df['post_patch'] == 'Entire cell']\n",
    "\n",
    "def hist(df, colors):\n",
    "    \"\"\"To create a histogram plot using df.\n",
    "    \n",
    "    Arguements:\n",
    "        df: pandas dataframe\n",
    "        colors: color for chosen df\n",
    "    \n",
    "    Returns: None\n",
    "    \"\"\"\n",
    "    \n",
    "    bins = np.arange(30, 75, 5) #Displays cell depth 30 to 70 um, split by 5 \n",
    "    ax = sns.distplot(df[\"cell_depth\"], bins=bins, kde=False, color=colors)\n",
    "    #kde = kernal density estimate line\n",
    "    ax.set(xlabel = 'Cell Depth(um)', ylabel = 'Count of nucleated patch')\n",
    "    ax.set_title(\"Counts of nucleated patches at cell depth\")\n",
    "    \n",
    "#colors = ['#31a354', '#a1d99b', '#fc9272', '#de2d26', '#f7fcb9']"
   ]
  },
  {
   "cell_type": "code",
   "execution_count": 21,
   "metadata": {},
   "outputs": [
    {
     "data": {
      "image/png": "[encoded data removed]",
      "text/plain": [
       "<matplotlib.figure.Figure at 0xb981b38>"
      ]
     },
     "metadata": {},
     "output_type": "display_data"
    }
   ],
   "source": [
    "hist(nuh_df, '#31a354')\n",
    "hist(nul_df, '#f7fcb9')\n",
    "hist(noh_df, '#de2d26')\n",
    "hist(nol_df, '#fc9272')\n",
    "hist(ent_df, '#a1d99b')\n",
    "#You can display these separately also"
   ]
  },
  {
   "cell_type": "markdown",
   "metadata": {},
   "source": [
    "### Boxplot of patch duration vs morph calls by post patch outcomes"
   ]
  },
  {
   "cell_type": "code",
   "execution_count": 22,
   "metadata": {},
   "outputs": [
    {
     "data": {
      "text/plain": [
       "[<matplotlib.text.Text at 0xd814e80>, <matplotlib.text.Text at 0xbfe50b8>]"
      ]
     },
     "execution_count": 22,
     "metadata": {},
     "output_type": "execute_result"
    },
    {
     "data": {
      "image/png": "[encoded data removed]",
      "text/plain": [
       "<matplotlib.figure.Figure at 0xd5d9908>"
      ]
     },
     "metadata": {},
     "output_type": "display_data"
    }
   ],
   "source": [
    "plt.subplots(figsize=(10,8)) #Has to be before the plot to work\n",
    "\n",
    "bp = sns.boxplot(x = 'post_patch', y = 'patch_duration', hue = 'ims63x_go_no_go',\n",
    "                 order = ['Nuc-high seal', 'Nuc-low seal', 'No-high seal', 'No-low seal','Entire cell'],\n",
    "                 hue_order = ['63x go','63x no go'], data = final_all_df, palette = ['#74c476', '#de2d26'],\n",
    "                 saturation = 1, fliersize = 4)\n",
    "bp.legend(loc = 0, \n",
    "          #bbox_to_anchor = (0.95, 1), \n",
    "          frameon = True, \n",
    "          shadow = True,\n",
    "          fontsize = 13)\n",
    "bp.set(ylim=(0, 20)) #To cutoff outliers\n",
    "\n",
    "bp.set_title('Patch Duration vs. Morph Calls by Post Patch Outcomes')\n",
    "bp.set(xlabel = 'Post Patch Outcomes', ylabel = 'Patch Duration (min)')\n",
    "#plt.savefig('Boxplot_PD_vs_M_by_PP')"
   ]
  },
  {
   "cell_type": "markdown",
   "metadata": {},
   "source": [
    "### Dataframe Info"
   ]
  },
  {
   "cell_type": "code",
   "execution_count": 23,
   "metadata": {},
   "outputs": [],
   "source": [
    "def df_info():\n",
    "    \"\"\"To view information about the multiple dataframes.\n",
    "    \n",
    "    Arguements: None\n",
    "    \n",
    "    Returns: None\n",
    "    \"\"\"\n",
    "    json_df.info()\n",
    "    merged_df.info()\n",
    "    final_all_df.info()\n",
    "    final_nuc_df.info()"
   ]
  },
  {
   "cell_type": "code",
   "execution_count": 24,
   "metadata": {},
   "outputs": [
    {
     "name": "stdout",
     "output_type": "stream",
     "text": [
      "<class 'pandas.core.frame.DataFrame'>\n",
      "Int64Index: 785 entries, 223 to 6463\n",
      "Data columns (total 6 columns):\n",
      "date                      785 non-null datetime64[ns]\n",
      "patch_container           785 non-null object\n",
      "patch_duration            785 non-null float64\n",
      "cell_depth                785 non-null float64\n",
      "extraction.endPipetteR    785 non-null float64\n",
      "post_patch                785 non-null object\n",
      "dtypes: datetime64[ns](1), float64(3), object(2)\n",
      "memory usage: 42.9+ KB\n",
      "<class 'pandas.core.frame.DataFrame'>\n",
      "Int64Index: 428 entries, 0 to 703\n",
      "Data columns (total 11 columns):\n",
      "date                      428 non-null datetime64[ns]\n",
      "patch_container           428 non-null object\n",
      "patch_duration            428 non-null float64\n",
      "cell_depth                428 non-null float64\n",
      "extraction.endPipetteR    428 non-null float64\n",
      "post_patch                428 non-null object\n",
      "ims63x_go_no_go           428 non-null object\n",
      "ims63x_imaging_started    214 non-null object\n",
      "image_series_63x_qc       212 non-null object\n",
      "link_ims_20x              428 non-null object\n",
      "link_ims_63x              212 non-null object\n",
      "dtypes: datetime64[ns](1), float64(3), object(7)\n",
      "memory usage: 40.1+ KB\n",
      "<class 'pandas.core.frame.DataFrame'>\n",
      "RangeIndex: 361 entries, 0 to 360\n",
      "Data columns (total 11 columns):\n",
      "date                      361 non-null datetime64[ns]\n",
      "patch_container           361 non-null object\n",
      "patch_duration            361 non-null float64\n",
      "cell_depth                361 non-null float64\n",
      "extraction.endPipetteR    361 non-null float64\n",
      "post_patch                361 non-null object\n",
      "ims63x_go_no_go           361 non-null object\n",
      "ims63x_imaging_started    180 non-null object\n",
      "image_series_63x_qc       178 non-null object\n",
      "link_ims_20x              361 non-null object\n",
      "link_ims_63x              178 non-null object\n",
      "dtypes: datetime64[ns](1), float64(3), object(7)\n",
      "memory usage: 31.1+ KB\n",
      "<class 'pandas.core.frame.DataFrame'>\n",
      "Int64Index: 323 entries, 0 to 360\n",
      "Data columns (total 11 columns):\n",
      "date                      323 non-null datetime64[ns]\n",
      "patch_container           323 non-null object\n",
      "patch_duration            323 non-null float64\n",
      "cell_depth                323 non-null float64\n",
      "extraction.endPipetteR    323 non-null float64\n",
      "post_patch                323 non-null object\n",
      "ims63x_go_no_go           323 non-null object\n",
      "ims63x_imaging_started    176 non-null object\n",
      "image_series_63x_qc       174 non-null object\n",
      "link_ims_20x              323 non-null object\n",
      "link_ims_63x              174 non-null object\n",
      "dtypes: datetime64[ns](1), float64(3), object(7)\n",
      "memory usage: 30.3+ KB\n"
     ]
    }
   ],
   "source": [
    "df_info()"
   ]
  },
  {
   "cell_type": "code",
   "execution_count": 25,
   "metadata": {},
   "outputs": [
    {
     "data": {
      "text/plain": [
       "Nuc-high seal    323\n",
       "Nuc-low seal      21\n",
       "No-low seal        9\n",
       "No-high seal       5\n",
       "Entire cell        3\n",
       "Name: post_patch, dtype: int64"
      ]
     },
     "execution_count": 25,
     "metadata": {},
     "output_type": "execute_result"
    }
   ],
   "source": [
    "final_all_df['post_patch'].value_counts()"
   ]
  },
  {
   "cell_type": "code",
   "execution_count": 26,
   "metadata": {},
   "outputs": [
    {
     "data": {
      "text/plain": [
       "63x go       182\n",
       "63x no go    179\n",
       "Name: ims63x_go_no_go, dtype: int64"
      ]
     },
     "execution_count": 26,
     "metadata": {},
     "output_type": "execute_result"
    }
   ],
   "source": [
    "final_all_df['ims63x_go_no_go'].value_counts()"
   ]
  },
  {
   "cell_type": "markdown",
   "metadata": {},
   "source": [
    "# Extra methods to refer back"
   ]
  },
  {
   "cell_type": "markdown",
   "metadata": {},
   "source": [
    "def sort_df(final_df):\n",
    "    final_df = final_df.set_index('date') #Set date column as index column\n",
    "\n",
    "    #Production Date Start = '2017-10-01' \n",
    "    start_date = '2017-10-01'\n",
    "    final_df = final_df[start_date:] #Choosing start & end date    \n",
    "\n",
    "    final_df.rename(columns = {'ims63x_go_no_go' : 'morph'}, inplace = True)\n",
    "    final_df.drop(['extraction.tubeID', 'patched_cell_container'], axis=1, inplace=True)\n",
    "    final_df.dropna(subset = ['morph'], inplace = True)\n",
    "\n",
    "    #Categorical\n",
    "    final_df['morph'] = final_df['morph'].astype('category')\n",
    "\n",
    "    final_df.sort_index(inplace = True)     \n",
    "    return final_df"
   ]
  },
  {
   "cell_type": "code",
   "execution_count": 27,
   "metadata": {},
   "outputs": [],
   "source": [
    "#multi_df = merged_df.set_index(['ims63x_go_no_go', 'post_patch']) #Multi level index"
   ]
  },
  {
   "cell_type": "markdown",
   "metadata": {},
   "source": [
    "def violin_plot(df):\n",
    "    ax = sns.violinplot(x = 'post_patch', y = 'Resolution index', order = x_order, palette = colors, \n",
    "                        saturation = 1, data = df[df[\"Resolution index\"] <= 1])\n",
    "    ax.set(xlabel = 'Post Patch Outcomes', ylabel = 'Resolution Index')\n",
    "    ax.set_title(\"Resolution Index vs. Post Patch Outcomes\")"
   ]
  },
  {
   "cell_type": "markdown",
   "metadata": {},
   "source": [
    "plt.plot_date(x = 'Date', y = 'Resolution index', data = ps_df[ps_df['Resolution index'] >= 0.75])"
   ]
  },
  {
   "cell_type": "markdown",
   "metadata": {},
   "source": [
    "def main():\n",
    "    \"\"\"Prints out graphs and charts\n",
    "    \n",
    "    Arguements: none\n",
    "    \n",
    "    Returns: none\n",
    "    \"\"\"\n",
    "    \n",
    "    #Prints plots\n",
    "    print(ps_df['post_patch'].value_counts())\n",
    "    print(ps_df['post_patch'].value_counts().sum())\n",
    "    pie_plot(ps_df)\n",
    "    bar_plot(ps_df)"
   ]
  },
  {
   "cell_type": "markdown",
   "metadata": {},
   "source": [
    "def sort_date(df):\n",
    "    \"\"\"To sort the date column in ps_df.\n",
    "    \n",
    "    Arguements:\n",
    "        df: pandas dataframe\n",
    "        \n",
    "    Returns:\n",
    "        df: pandas dataframe with sorted date column\n",
    "    \"\"\"\n",
    "        \n",
    "    #Changing to string to add 20 in front of strings within date column\n",
    "    df['Date'] = df['Date'].astype('str')\n",
    "    df['Date'] = '20' + df['Date']\n",
    "    df['Date'] = pd.to_datetime(df['Date']) #Converting date to YYYY-MM-DD\n",
    "    df = df.set_index('Date') #Set date column as index column\n",
    "\n",
    "    #Production Date Start = '2017-10-01' \n",
    "    start_date = '2017-10-01'\n",
    "    #start_date = \"\".join(input(\"Enter the start date: \"))\n",
    "    #end_date = \"\".join(input(\"Enter the start date: \"))\n",
    "    df = df[start_date:] #Choosing start & end date  \n",
    "    df.reset_index(inplace = True)\n",
    "    df.sort_values(by = ['Date'], inplace = True)\n",
    "    return df "
   ]
  },
  {
   "cell_type": "markdown",
   "metadata": {},
   "source": [
    "def get_ps_df():\n",
    "    \"\"\"To read the Patchseq Google Doc as a pandas dataframe.\n",
    "    \n",
    "    Arguements: none\n",
    "    \n",
    "    Returns:\n",
    "        ps_df: pandas dataframe\n",
    "    \"\"\"\n",
    "    \n",
    "    #ps_df = pd.read_csv(\"C:/users/kumar/documents/github/personal-projects/csv/ps_mouse.csv\")\n",
    "    ps_df = pd.read_csv(\"C:/users/ramr/documents/github/coding/personal-projects/csv/ps_mouse.csv\")\n",
    "    \n",
    "    ps_df.dropna(subset = [\"Lims tube id\"], inplace = True)\n",
    "    ps_df = ps_df[ps_df[\"Lims tube id\"].str.match('PA')]\n",
    "    ps_df = pp.postpatch_reclass(ps_df)\n",
    "    \n",
    "    ps_df = ps_df.loc[:, [\"Date\", \n",
    "                          \"User\", \n",
    "                          \"Region\", \n",
    "                          \"Layer\", \n",
    "                          \"Depth (um)\", \n",
    "                          \"patch duration\",\n",
    "                          \"extraction pressure applied (mbar)\", \n",
    "                          \"post_patch\", \n",
    "                          \"Resolution index\", \n",
    "                          \"SM_QC_PF\", \n",
    "                          \"Lims tube id\"]]\n",
    "    #Optional columns     \n",
    "    #\"Post patch?\", \"Post patch pipette R\", \n",
    "    #\"Pipette size (MOhms)\", \"Nucleus sucked in?\", \"SM_QC_PF\", \"Time to Entire-Cell\", \"File\", \"63x go no go\"\n",
    "    return ps_df"
   ]
  },
  {
   "cell_type": "markdown",
   "metadata": {},
   "source": [
    "def get_shiny_df():\n",
    "    shiny_human_df = pd.read_csv(\"C:/users/ramr/documents/github/coding/personal-projects/csv/shiny_human.csv\")\n",
    "    shiny_mouse_df = pd.read_csv(\"C:/users/ramr/documents/github/coding/personal-projects/csv/shiny_mouse.csv\")\n",
    "    \n",
    "    frames = (shiny_human_df, shiny_mouse_df)\n",
    "    shiny_df = pd.concat(frames)\n",
    "    shiny_df = shiny_df.loc[:,['sample_id', 'res_index_label', 'cluster_label']]\n",
    "    return shiny_df"
   ]
  },
  {
   "cell_type": "code",
   "execution_count": null,
   "metadata": {},
   "outputs": [],
   "source": []
  },
  {
   "cell_type": "code",
   "execution_count": null,
   "metadata": {},
   "outputs": [],
   "source": []
  },
  {
   "cell_type": "code",
   "execution_count": null,
   "metadata": {},
   "outputs": [],
   "source": []
  }
 ],
 "metadata": {
  "kernelspec": {
   "display_name": "Python 2",
   "language": "python",
   "name": "python2"
  },
  "language_info": {
   "codemirror_mode": {
    "name": "ipython",
    "version": 2
   },
   "file_extension": ".py",
   "mimetype": "text/x-python",
   "name": "python",
   "nbconvert_exporter": "python",
   "pygments_lexer": "ipython2",
   "version": "2.7.15"
  }
 },
 "nbformat": 4,
 "nbformat_minor": 2
}
