{
 "cells": [
  {
   "cell_type": "markdown",
   "metadata": {},
   "source": [
    "# Personal Tracker 2020"
   ]
  },
  {
   "cell_type": "code",
   "execution_count": 2,
   "metadata": {},
   "outputs": [
    {
     "data": {
      "text/plain": [
       "'\\nHow to keep track in notebook:\\n-Last two digits on ID specifies hemisphere (01 = left, 02 = right)\\n\\n***Mouse Example***\\nID: 123456.01.02\\nHW: EPhys_200101_01_A01_M\\nRecordings: 3\\n\\n***Human Example***\\nHuman Case: Acute or Culture\\nID:___________      Start:_____\\nHW:___________      End:_______\\nRegion:_______      Hours:_____\\n\\nSlice Diagram:\\n-Draw diagram of slice and place recording locations on diagram\\n\\nRecordings: #\\n1) NA\\n2) 451\\n3) 452\\n#) Fail recording\\n\\n***End of the Week(Every Friday)***\\nResults = # of total recordings for that week\\n'"
      ]
     },
     "execution_count": 2,
     "metadata": {},
     "output_type": "execute_result"
    }
   ],
   "source": [
    "\"\"\"\n",
    "How to keep track in notebook:\n",
    "-Last two digits on ID specifies hemisphere (01 = left, 02 = right)\n",
    "\n",
    "***Mouse Example***\n",
    "ID: 123456.01.02\n",
    "HW: EPhys_200101_01_A01_M\n",
    "Recordings: 3\n",
    "\n",
    "***Human Example***\n",
    "Case: Acute or Culture\n",
    "ID:___________      Start:_____\n",
    "HW:___________      End:_______\n",
    "Region:_______      Hours:_____\n",
    "\n",
    "Slice Diagram:\n",
    "-Draw diagram of slice and place recording locations on diagram\n",
    "\n",
    "Recordings: #\n",
    "1) NA\n",
    "2) 451\n",
    "3) 452\n",
    "#) Fail recording\n",
    "\n",
    "***End of the Week(Every Friday)***\n",
    "Results = # of total recordings for that week\n",
    "\"\"\""
   ]
  },
  {
   "cell_type": "code",
   "execution_count": 3,
   "metadata": {},
   "outputs": [
    {
     "data": {
      "text/plain": [
       "'\\nComments to write for extraction.extractionNotes:\\n\\n#fill_quality_3: high visibility of the fill (no or very little truncations with intact dendrites) \\n#fill_quality_2: medium visibility of the fill (some truncations with some intact dendrites)\\n#fill_quality_1: low visibility of the fill (heavily truncated or fill leaking)\\n#fill_quality_0: No fill or plume\\n'"
      ]
     },
     "execution_count": 3,
     "metadata": {},
     "output_type": "execute_result"
    }
   ],
   "source": [
    "\"\"\"\n",
    "Comments to write for extraction.extractionNotes:\n",
    "\n",
    "#fill_quality_3: high visibility of the fill (no or very little truncations with intact dendrites) \n",
    "#fill_quality_2: medium visibility of the fill (some truncations with some intact dendrites)\n",
    "#fill_quality_1: low visibility of the fill (heavily truncated or fill leaking)\n",
    "#fill_quality_0: No fill or plume\n",
    "\"\"\""
   ]
  },
  {
   "cell_type": "markdown",
   "metadata": {},
   "source": [
    "##### Additional Scripts"
   ]
  },
  {
   "cell_type": "code",
   "execution_count": 1,
   "metadata": {},
   "outputs": [
    {
     "data": {
      "text/plain": [
       "'\\ntracker_2020_counts: shows the counts for 2020\\n    - mouse, human acute, human culture \\ntracker_2020_morph: shows the morphology results for 2020\\n    - 63x go vs no go\\n    - possible reconstructions vs reconstructed cells\\ntracker_2020_trans: shows the transcriptomic results for 2020\\n    - heatmap with ephys results vs regions\\n    - subclass countplot\\n    - seurat cluster countplot\\n'"
      ]
     },
     "execution_count": 1,
     "metadata": {},
     "output_type": "execute_result"
    }
   ],
   "source": [
    "\"\"\"\n",
    "tracker_2020_counts: shows the counts for 2020\n",
    "    - mouse, human acute, human culture \n",
    "    - nucleus present vs absent\n",
    "tracker_2020_morph: shows the morphology results for 2020\n",
    "    - 63x go vs no go\n",
    "    - possible reconstructions vs reconstructed cells\n",
    "tracker_2020_trans: shows the transcriptomic results for 2020\n",
    "    - heatmap with ephys results vs regions\n",
    "    - subclass countplot\n",
    "    - seurat cluster countplot\n",
    "\"\"\""
   ]
  },
  {
   "cell_type": "code",
   "execution_count": null,
   "metadata": {},
   "outputs": [],
   "source": []
  },
  {
   "cell_type": "code",
   "execution_count": null,
   "metadata": {},
   "outputs": [],
   "source": []
  }
 ],
 "metadata": {
  "kernelspec": {
   "display_name": "Python 3",
   "language": "python",
   "name": "python3"
  },
  "language_info": {
   "codemirror_mode": {
    "name": "ipython",
    "version": 3
   },
   "file_extension": ".py",
   "mimetype": "text/x-python",
   "name": "python",
   "nbconvert_exporter": "python",
   "pygments_lexer": "ipython3",
   "version": "3.7.4"
  }
 },
 "nbformat": 4,
 "nbformat_minor": 2
}
