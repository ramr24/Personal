{
 "cells": [
  {
   "cell_type": "markdown",
   "metadata": {},
   "source": [
    "# Counts"
   ]
  },
  {
   "cell_type": "markdown",
   "metadata": {},
   "source": [
    "##### Imports"
   ]
  },
  {
   "cell_type": "code",
   "execution_count": 1,
   "metadata": {},
   "outputs": [],
   "source": [
    "import os\n",
    "import pandas as pd\n",
    "import csv\n",
    "\n",
    "from temp_funcs import read_file, merge_dataframes, drop_cols, drop_nans, filter_date_range, \\\n",
    "filter_df, create_container_col, create_cond_df, create_container_df"
   ]
  },
  {
   "cell_type": "markdown",
   "metadata": {},
   "source": [
    "##### Paths/Fields"
   ]
  },
  {
   "cell_type": "code",
   "execution_count": 2,
   "metadata": {},
   "outputs": [],
   "source": [
    "path = \"C:/Users/kumar/Documents/Github/analysis_projects/\"\n",
    "csv_path = os.path.join(path, \"csv/\")\n",
    "path_jem = os.path.join(csv_path, \"jem_metadata.csv\")"
   ]
  },
  {
   "cell_type": "code",
   "execution_count": 3,
   "metadata": {},
   "outputs": [],
   "source": [
    "fields_jem = [\"approach.creCell\", \"container\", \"date\", \"extraction.extractionNotes\",\n",
    "              \"name\", \"organism_name\", \"rigOperator\", \"roi_major\", \"roi_minor\", \"status\"]"
   ]
  },
  {
   "cell_type": "markdown",
   "metadata": {},
   "source": [
    "##### Main"
   ]
  },
  {
   "cell_type": "code",
   "execution_count": 10,
   "metadata": {},
   "outputs": [],
   "source": [
    "def display_all_counts():\n",
    "    \"\"\"\n",
    "    View counts for all Patchseq results for 2020\n",
    "    \"\"\"\n",
    "    #overall variables\n",
    "    overall = len(jem.organism_name)\n",
    "    mouse = len(jem[jem.organism_name == \"Mouse\"])\n",
    "    human = len(jem[jem.organism_name == \"Human\"])\n",
    "    #mouse variables\n",
    "    mouse = len(jem[jem.organism_name == \"Mouse\"])\n",
    "    mouse_ctxsp = len(jem[jem.roi_major == \"CTXsp\"])\n",
    "    mouse_hip = len(jem[jem.roi_major == \"HIP\"])\n",
    "    mouse_mop = len(jem[jem.roi_major == \"MOp\"])\n",
    "    mouse_mos = len(jem[jem.roi_major == \"MOs\"])\n",
    "    mouse_orb = len(jem[jem.roi_major == \"ORB\"])\n",
    "    mouse_rspd = len(jem[jem.roi_major == \"RSPd\"])\n",
    "    mouse_rspv = len(jem[jem.roi_major == \"RSPv\"])\n",
    "    mouse_ssp = len(jem[jem.roi_major == \"SSp\"])\n",
    "    mouse_visp = len(jem[jem.roi_major == \"VISp\"])\n",
    "    #human (acute) variables\n",
    "    human_acute = len(jem[(jem.organism_name == \"Human\") & (jem.new_container == \"PA\")])\n",
    "    human_acute_pcx = len(jem[(jem.roi_major == \"PCx\") & (jem.new_container == \"PA\")])\n",
    "    human_acute_tcx = len(jem[(jem.roi_major == \"TCx\") & (jem.new_container == \"PA\")])\n",
    "    #human (culture variables)\n",
    "    human_culture = len(jem[(jem.organism_name == \"Human\") & (jem.new_container == \"PC\")])\n",
    "    human_culture_pcx = len(jem[(jem.roi_major == \"PCx\") & (jem.new_container == \"PC\")])\n",
    "    human_culture_tcx = len(jem[(jem.roi_major == \"TCx\") & (jem.new_container == \"PC\")])\n",
    "    \n",
    "    print(\"---------------------------------\")\n",
    "    print(\"***Overall Totals***\")\n",
    "    print(\"---------------------------------\")\n",
    "    print(f\"Overall total: {overall}\")\n",
    "    print(f\"Mouse samples: {mouse}\")\n",
    "    print(f\"Human samples: {human}\")\n",
    "    print(\"---------------------------------\")\n",
    "    print(\"***Mouse Region Totals***\")\n",
    "    print(\"---------------------------------\")\n",
    "    print(f\"1) CTXsp samples: {mouse_ctxsp}\")\n",
    "    print(f\"2) HIP samples: {mouse_hip}\")\n",
    "    print(f\"3) MOp samples: {mouse_mop}\")\n",
    "    print(f\"4) MOs samples: {mouse_mos}\")\n",
    "    print(f\"5) ORB samples: {mouse_orb}\")\n",
    "    print(f\"6) RSPd samples: {mouse_rspd}\")\n",
    "    print(f\"7) RSPv samples: {mouse_rspv}\")\n",
    "    print(f\"8) SSp samples: {mouse_ssp}\")\n",
    "    print(f\"9) VISp samples: {mouse_visp}\")\n",
    "    print(\"---------------------------------\")\n",
    "    print(\"***Human Acute Region Totals***\")\n",
    "    print(\"---------------------------------\")\n",
    "    print(f\"Acute samples: {human_acute}\")\n",
    "    print(f\"1) PCx samples: {human_acute_pcx}\")\n",
    "    print(f\"2) TCx samples: {human_acute_tcx}\")\n",
    "    print(\"---------------------------------\")\n",
    "    print(\"***Human Culture Region Totals***\")\n",
    "    print(\"---------------------------------\")\n",
    "    print(f\"Culture samples: {human_culture}\")\n",
    "    print(f\"1) PCx samples: {human_culture_pcx}\")\n",
    "    print(f\"2) TCx samples: {human_culture_tcx}\")\n",
    "    print(\"---------------------------------\")"
   ]
  },
  {
   "cell_type": "code",
   "execution_count": 11,
   "metadata": {},
   "outputs": [],
   "source": [
    "def main():\n",
    "    \"\"\"\n",
    "    Prints the main menu \n",
    "    \n",
    "    global variables:\n",
    "        jem: jem dataframe\n",
    "    \"\"\"\n",
    "    global jem\n",
    "    \n",
    "    jem = read_file(path_jem, fields_jem)\n",
    "    jem = filter_df(jem, \"rigOperator\", \"ramr\")\n",
    "    jem = filter_date_range(jem, \"date\")\n",
    "    jem[\"new_container\"] = jem[\"container\"].str[:2]\n",
    "    display_all_counts()"
   ]
  },
  {
   "cell_type": "code",
   "execution_count": 12,
   "metadata": {},
   "outputs": [
    {
     "name": "stderr",
     "output_type": "stream",
     "text": [
      "INFO:temp_funcs:Read file in as a pandas dataframe\n",
      "INFO:temp_funcs:Filtered dataframe based on rigOperator == ramr\n",
      "INFO:temp_funcs:Filtered dataframe: 2020-01-01 - 2020-12-31\n"
     ]
    },
    {
     "name": "stdout",
     "output_type": "stream",
     "text": [
      "---------------------------------\n",
      "***Overall Totals***\n",
      "---------------------------------\n",
      "Overall total: 152\n",
      "Mouse samples: 120\n",
      "Human samples: 32\n",
      "---------------------------------\n",
      "***Mouse Region Totals***\n",
      "---------------------------------\n",
      "1) CTXsp samples: 11\n",
      "2) HIP samples: 3\n",
      "3) MOp samples: 4\n",
      "4) MOs samples: 3\n",
      "5) ORB samples: 32\n",
      "6) RSPd samples: 28\n",
      "7) RSPv samples: 21\n",
      "8) SSp samples: 3\n",
      "9) VISp samples: 15\n",
      "---------------------------------\n",
      "***Human Acute Region Totals***\n",
      "---------------------------------\n",
      "Acute samples: 17\n",
      "1) PCx samples: 2\n",
      "2) TCx samples: 15\n",
      "---------------------------------\n",
      "***Human Culture Region Totals***\n",
      "---------------------------------\n",
      "Culture samples: 15\n",
      "1) PCx samples: 0\n",
      "2) TCx samples: 15\n",
      "---------------------------------\n"
     ]
    }
   ],
   "source": [
    "if __name__ == \"__main__\":\n",
    "    main()"
   ]
  },
  {
   "cell_type": "code",
   "execution_count": null,
   "metadata": {},
   "outputs": [],
   "source": []
  }
 ],
 "metadata": {
  "kernelspec": {
   "display_name": "Python 3",
   "language": "python",
   "name": "python3"
  },
  "language_info": {
   "codemirror_mode": {
    "name": "ipython",
    "version": 3
   },
   "file_extension": ".py",
   "mimetype": "text/x-python",
   "name": "python",
   "nbconvert_exporter": "python",
   "pygments_lexer": "ipython3",
   "version": "3.7.4"
  }
 },
 "nbformat": 4,
 "nbformat_minor": 2
}
