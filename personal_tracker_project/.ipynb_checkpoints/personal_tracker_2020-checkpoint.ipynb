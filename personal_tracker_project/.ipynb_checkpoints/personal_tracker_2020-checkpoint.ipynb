{
 "cells": [
  {
   "cell_type": "markdown",
   "metadata": {},
   "source": [
    "##### Imports"
   ]
  },
  {
   "cell_type": "code",
   "execution_count": 1,
   "metadata": {},
   "outputs": [],
   "source": [
    "import pandas as pd\n",
    "import csv\n",
    "import logging\n",
    "from functions_py.mephys_funcs import read_file, merge_dataframes, filter_date, drop_cols, drop_nans, \\\n",
    "create_cond_df, create_container_df\n",
    "\n",
    "import seaborn as sns"
   ]
  },
  {
   "cell_type": "markdown",
   "metadata": {},
   "source": [
    "##### File Paths"
   ]
  },
  {
   "cell_type": "code",
   "execution_count": 2,
   "metadata": {},
   "outputs": [],
   "source": [
    "csv_path = \"C:/Users/ramr/Documents/Github/analysis_projects/csv/\"\n",
    "excel_path = \"C:/Users/ramr/Documents/Github/analysis_projects/excel/\""
   ]
  },
  {
   "cell_type": "markdown",
   "metadata": {},
   "source": [
    "##### Logging Set-up"
   ]
  },
  {
   "cell_type": "code",
   "execution_count": 3,
   "metadata": {},
   "outputs": [],
   "source": [
    "logging.basicConfig(level=logging.INFO)\n",
    "LOGGER = logging.getLogger(__name__)"
   ]
  },
  {
   "cell_type": "markdown",
   "metadata": {},
   "source": [
    "##### Miscellaneous Settings"
   ]
  },
  {
   "cell_type": "code",
   "execution_count": 4,
   "metadata": {},
   "outputs": [],
   "source": [
    "sns.set(context = \"notebook\", style = \"ticks\", font=\"verdana\", font_scale = 1.35)\n",
    "pd.set_option(\"display.max_colwidth\",150) #Expands the number of characters shown in the columns\n",
    "pd.set_option('display.max_columns', None)"
   ]
  },
  {
   "cell_type": "markdown",
   "metadata": {},
   "source": [
    "##### Logging Comments about this project"
   ]
  },
  {
   "cell_type": "code",
   "execution_count": 5,
   "metadata": {},
   "outputs": [
    {
     "name": "stderr",
     "output_type": "stream",
     "text": [
      "INFO:__main__:Purpose: Personal Tracker for 2020\n"
     ]
    }
   ],
   "source": [
    "LOGGER.info(\"\"\"Purpose: Personal Tracker for 2020\"\"\")"
   ]
  },
  {
   "cell_type": "code",
   "execution_count": 6,
   "metadata": {},
   "outputs": [],
   "source": [
    "fields_jem = [\"date\", \"organism_name\", \"name\", \"container\", \"rigOperator\",\n",
    "              \"status\", \"roi_major\", \"roi_minor\",\n",
    "              \"extraction.postPatch\", \"extraction.endPipetteR\"]\n",
    "fields_ephys = [\"b'name'\", \"b'patched_cell_container'\", \"b'vrest'\", \"b'sag'\", \n",
    "                \"b'tau'\", \"b'upstroke_downstroke_ratio_long_square'\", \n",
    "                \"b'latency'\", \"b'f_i_curve_slope'\"]\n",
    "fields_shiny = [\"cell_name\", \"sample_id\", \"cluster_label\", \"broad_class_label\",\n",
    "                \"subclass_label\", \"cell_specimen_project\"]\n",
    "\n",
    "\n",
    "path_jem = \"Z:/Patch-Seq/compiled-jem-data/jem_metadata.csv\"\n",
    "path_ephys = \"C:/Users/ramr/Documents/Github/analysis_projects/csv/mephys_features.csv\"\n",
    "path_shiny = \"//allen/programs/celltypes/workgroups/rnaseqanalysis/shiny/patch_seq/star/mouse_patchseq_VISp_current/mapping.df.with.bp.40.lastmap.csv\"\n",
    "\n",
    "\n",
    "drop_cols_list = [\"b'name'\", \"b'patched_cell_container'\", \"cell_name\", \"sample_id\"]\n",
    "drop_nans_list = [\"date\", \"name\", \"rigOperator\"]\n",
    "\n",
    "r_users = [\"kristenh\", \"lindsayn\", \"ramr\", \"katherineb\", \"jessicat\"]"
   ]
  },
  {
   "cell_type": "markdown",
   "metadata": {},
   "source": [
    "##### Main"
   ]
  },
  {
   "cell_type": "code",
   "execution_count": 7,
   "metadata": {},
   "outputs": [],
   "source": [
    "def csv_first_line():\n",
    "    \"\"\"\"\"\"\n",
    "    with open(\"counts.csv\", mode=\"w\", newline=\"\") as csv_file: #Automatically closes file\n",
    "        writer = csv.writer(csv_file)\n",
    "        writer.writerow([\"User\", \"Start Date\", \"End Date\", \"Overall Total\",\n",
    "                         \"Mouse Total\", \"RSPd\", \"RSPv\", \"SSp\",\n",
    "                         \"ORB\", \"CTXsp\", \"MOp\", \"MOs\", \"HY\", \"HIP\", \"VISP\",\n",
    "                         \"Human Total\", \"Human Acute\", \"Human Culture\"])"
   ]
  },
  {
   "cell_type": "code",
   "execution_count": 8,
   "metadata": {},
   "outputs": [],
   "source": [
    "def csv_counts():\n",
    "    with open(\"counts.csv\", mode=\"w\", newline=\"\") as csv_file: #Automatically closes file\n",
    "        writer = csv.writer(csv_file)\n",
    "        writer.writerow([\"User\", \"Start Date\", \"End Date\", \"Overall Total\",\n",
    "                         \"Mouse Total\", \"RSPd\", \"RSPv\", \"SSp\",\n",
    "                         \"ORB\", \"CTXsp\", \"MOp\", \"MOs\", \"HY\", \"HIP\", \"VISP\",\n",
    "                         \"Human Total\", \"Human Acute\", \"Human Culture\"])\n",
    "        \n",
    "        with open(\"counts.csv\", mode=\"w\", newline=\"\") as csv_file: #Automatically closes file\n",
    "            writer = csv.writer(csv_file)\n",
    "            user = \"User name\"\n",
    "            start = start_date\n",
    "            end = end_date\n",
    "            overall = jem_2020.container.count()\n",
    "            m_total = mjem_2020.organism_name.count()\n",
    "            rd = rspd.organism_name.count()\n",
    "            rv = rspv.organism_name.count()\n",
    "            sp = ssp.organism_name.count()\n",
    "            ob = orb.organism_name.count()\n",
    "            cp = ctxsp.organism_name.count()\n",
    "            mp = mop.organism_name.count()\n",
    "            ms = mos.organism_name.count()\n",
    "            h = hy.organism_name.count()\n",
    "            hp = hip.organism_name.count()\n",
    "            v = visp.organism_name.count()\n",
    "            h_total = hjem_2020.organism_name.count()\n",
    "            h_acute = hajem_2020.organism_name.count()\n",
    "            h_culture = hcjem_2020.organism_name.count()\n",
    "\n",
    "            writer.writerow([user, start, end, overall,\n",
    "                             m_total, rd, rv, sp,\n",
    "                             ob, cp, mp, ms,\n",
    "                             h, hp, v,\n",
    "                             h_total, h_culture, h_acute])"
   ]
  },
  {
   "cell_type": "code",
   "execution_count": 25,
   "metadata": {},
   "outputs": [],
   "source": [
    "count_dict = {\"Overall total\": jem.name.count(),\n",
    "              \"Mouse total\": mjem.name.count(),\n",
    "              \"RSPd\": rspd.name.count(),\n",
    "              \"RSPv\": rspv.name.count(),\n",
    "              \"SSp\": ssp.name.count(),\n",
    "              \"ORB\": orb.name.count(),\n",
    "              \"CTXsp\": ctxsp.name.count(),\n",
    "              \"MOp\": mop.name.count(),\n",
    "              \"MOs\": mos.name.count(),\n",
    "              \"HY\": hy.name.count(),\n",
    "              \"HIP\": hip.name.count(),\n",
    "              \"VISp\": visp.name.count(),\n",
    "              \"Human total\": hjem.name.count(),\n",
    "              \"Human acute\": hajem.name.count(),\n",
    "              \"Human culture\": hcjem.name.count()}"
   ]
  },
  {
   "cell_type": "code",
   "execution_count": 36,
   "metadata": {},
   "outputs": [],
   "source": [
    "def display_dict(dictionary):\n",
    "    for k,v in dictionary.items():\n",
    "        print(f\"{k}: {v}\")"
   ]
  },
  {
   "cell_type": "code",
   "execution_count": 47,
   "metadata": {},
   "outputs": [
    {
     "name": "stdout",
     "output_type": "stream",
     "text": [
      "Date range: 2020-01-03 to 2020-02-25\n",
      "Overall total: 656\n",
      "Mouse total: 504\n",
      "RSPd: 121\n",
      "RSPv: 113\n",
      "SSp: 26\n",
      "ORB: 119\n",
      "CTXsp: 40\n",
      "MOp: 12\n",
      "MOs: 15\n",
      "HY: 3\n",
      "HIP: 21\n",
      "VISp: 34\n",
      "Human total: 149\n",
      "Human acute: 72\n",
      "Human culture: 77\n"
     ]
    }
   ],
   "source": [
    "print(f\"Date range: {start_date} to {end_date}\")\n",
    "display_dict(count_dict)"
   ]
  },
  {
   "cell_type": "code",
   "execution_count": 10,
   "metadata": {},
   "outputs": [
    {
     "name": "stderr",
     "output_type": "stream",
     "text": [
      "INFO:functions_py.mephys_funcs:Read file in as a pandas dataframe\n",
      "INFO:functions_py.mephys_funcs:Sorted date to only display 2020 data\n",
      "INFO:functions_py.mephys_funcs:Dropped NaNs from these columns: ['date', 'name', 'rigOperator']\n",
      "C:\\Users\\ramr\\Documents\\Github\\analysis_projects\\analysis_scripts\\functions_py\\mephys_funcs.py:86: SettingWithCopyWarning: \n",
      "A value is trying to be set on a copy of a slice from a DataFrame\n",
      "\n",
      "See the caveats in the documentation: http://pandas.pydata.org/pandas-docs/stable/user_guide/indexing.html#returning-a-view-versus-a-copy\n",
      "  df.dropna(subset=drop_na_col, inplace=True)\n",
      "INFO:functions_py.mephys_funcs:Created a conditional dataframe based on a list of values\n",
      "INFO:functions_py.mephys_funcs:Created a container_label column to show(ex.'PA')\n"
     ]
    }
   ],
   "source": [
    "jem = read_file(path_jem, fields_jem)\n",
    "jem = filter_date(jem, \"date\")\n",
    "jem = drop_nans(jem, drop_nans_list)\n",
    "jem = create_cond_df(jem, \"rigOperator\", r_users)\n",
    "jem = create_container_df(jem, \"container\")"
   ]
  },
  {
   "cell_type": "code",
   "execution_count": 12,
   "metadata": {},
   "outputs": [
    {
     "name": "stdout",
     "output_type": "stream",
     "text": [
      "2020-01-03\n",
      "2020-02-25\n"
     ]
    }
   ],
   "source": [
    "start_date = jem[\"date\"].iloc[0][0:10]\n",
    "end_date = jem[\"date\"].iloc[-1][0:10]\n",
    "print(start_date)\n",
    "print(end_date)"
   ]
  },
  {
   "cell_type": "code",
   "execution_count": 13,
   "metadata": {},
   "outputs": [
    {
     "name": "stderr",
     "output_type": "stream",
     "text": [
      "INFO:functions_py.mephys_funcs:Created a conditional dataframe based on a list of values\n",
      "INFO:functions_py.mephys_funcs:Created a conditional dataframe based on a list of values\n",
      "INFO:functions_py.mephys_funcs:Created a conditional dataframe based on a list of values\n",
      "INFO:functions_py.mephys_funcs:Created a conditional dataframe based on a list of values\n",
      "INFO:functions_py.mephys_funcs:Created a conditional dataframe based on a list of values\n",
      "INFO:functions_py.mephys_funcs:Created a conditional dataframe based on a list of values\n",
      "INFO:functions_py.mephys_funcs:Created a conditional dataframe based on a list of values\n",
      "INFO:functions_py.mephys_funcs:Created a conditional dataframe based on a list of values\n",
      "INFO:functions_py.mephys_funcs:Created a conditional dataframe based on a list of values\n",
      "INFO:functions_py.mephys_funcs:Created a conditional dataframe based on a list of values\n",
      "INFO:functions_py.mephys_funcs:Created a conditional dataframe based on a list of values\n",
      "INFO:functions_py.mephys_funcs:Created a conditional dataframe based on a list of values\n",
      "INFO:functions_py.mephys_funcs:Created a conditional dataframe based on a list of values\n"
     ]
    }
   ],
   "source": [
    "mjem = create_cond_df(jem, \"organism_name\", [\"Mouse\"])\n",
    "hjem = create_cond_df(jem, \"organism_name\", [\"Human\"])\n",
    "hajem = hjem[hjem[\"container_label\"] != \"PC\"]\n",
    "hcjem = create_cond_df(hjem, \"container_label\", [\"PC\"])\n",
    "\n",
    "rspd = create_cond_df(mjem, \"roi_major\", [\"RSPd\"])\n",
    "rspv = create_cond_df(mjem, \"roi_major\", [\"RSPv\"])\n",
    "ssp = create_cond_df(mjem, \"roi_major\", [\"SSp\"])\n",
    "orb = create_cond_df(mjem, \"roi_major\", [\"ORB\"])\n",
    "ctxsp = create_cond_df(mjem, \"roi_major\", [\"CTXsp\"])\n",
    "mop = create_cond_df(mjem, \"roi_major\", [\"MOp\"])\n",
    "mos = create_cond_df(mjem, \"roi_major\", [\"MOs\"])\n",
    "hy = create_cond_df(mjem, \"roi_major\", [\"HY\"])\n",
    "hip = create_cond_df(mjem, \"roi_major\", [\"HIP\"])\n",
    "visp = create_cond_df(mjem, \"roi_major\", [\"VISp\"])"
   ]
  },
  {
   "cell_type": "markdown",
   "metadata": {},
   "source": [
    "##### Writing to csv_file"
   ]
  },
  {
   "cell_type": "code",
   "execution_count": 16,
   "metadata": {},
   "outputs": [],
   "source": [
    "shiny.to_csv(csv_path + \"shiny.csv\")"
   ]
  },
  {
   "cell_type": "markdown",
   "metadata": {},
   "source": [
    "##### Writing to excel_file"
   ]
  },
  {
   "cell_type": "code",
   "execution_count": 17,
   "metadata": {},
   "outputs": [],
   "source": [
    "writer = pd.ExcelWriter(excel_path + \"personal_tracker.xlsx\")\n",
    "mjem.to_excel(writer, \"mouse_2020\", freeze_panes=(1,0))\n",
    "hjem.to_excel(writer, \"human_2020\", freeze_panes=(1,0))\n",
    "writer.save()"
   ]
  },
  {
   "cell_type": "markdown",
   "metadata": {},
   "source": [
    "##### Additional Fields"
   ]
  },
  {
   "cell_type": "code",
   "execution_count": null,
   "metadata": {},
   "outputs": [],
   "source": [
    "#If you want to filter on the columns immediately\n",
    "all_jem_fields=[\"date\", \"organism_name\", \"name\", \"container\", \"rigOperator\",\n",
    "                \"status\", \"roi_major\", \"roi_minor\",\n",
    "                \"extraction.postPatch\", \"extraction.endPipetteR\",\n",
    "                \"extraction.pressureApplied\", \"extraction.retractionPressureApplied\",\n",
    "                \"recording.timeStart\", \"recording.timeWholeCellStart\",\n",
    "                \"extraction.timeExtractionStart\", \"extraction.timeExtractionEnd\", \"extraction.timeRetractionEnd\",\n",
    "                \"cell_depth\",\n",
    "                \"approach.creCell\",\n",
    "                \"approach.sliceHealth\"]\n",
    "\n",
    "#If you want to filter on the columns immediately\n",
    "#jem.tail(1490) # first recording 2020-01-03 10:40:30 -0800 and last recording of 2019: 2019-12-23 15:51:07"
   ]
  }
 ],
 "metadata": {
  "kernelspec": {
   "display_name": "Python 3",
   "language": "python",
   "name": "python3"
  },
  "language_info": {
   "codemirror_mode": {
    "name": "ipython",
    "version": 3
   },
   "file_extension": ".py",
   "mimetype": "text/x-python",
   "name": "python",
   "nbconvert_exporter": "python",
   "pygments_lexer": "ipython3",
   "version": "3.6.5"
  }
 },
 "nbformat": 4,
 "nbformat_minor": 2
}
