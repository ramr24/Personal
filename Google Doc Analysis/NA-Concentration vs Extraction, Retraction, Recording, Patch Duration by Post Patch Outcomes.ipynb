{
 "cells": [
  {
   "cell_type": "markdown",
   "metadata": {},
   "source": [
    "# Concentration vs Extraction, Retraction, Recording, Patch Duration"
   ]
  },
  {
   "cell_type": "code",
   "execution_count": 1,
   "metadata": {},
   "outputs": [],
   "source": [
    "import csv\n",
    "import pandas as pd\n",
    "import numpy as np\n",
    "import seaborn as sns\n",
    "import matplotlib.pyplot as plt\n",
    "from datetime import datetime\n",
    "%matplotlib inline\n",
    "\n",
    "from IPython.display import display #Found this to display all columns in a table\n",
    "\n",
    "sns.set_style('whitegrid') #Makes a white backround with gray horizontal gridmarks at y-values\n",
    "sns.set_context('notebook') #Formats style of plots"
   ]
  },
  {
   "cell_type": "markdown",
   "metadata": {},
   "source": [
    "##### postpatch_func.py by Rusty from Stash "
   ]
  },
  {
   "cell_type": "code",
   "execution_count": 2,
   "metadata": {},
   "outputs": [],
   "source": [
    "def nucleated(x):\n",
    "    nuc_high_seal = x[(x['Post patch?'] == 'Nucleated') | \n",
    "                      (((x['Post patch?'] == 'nucleus_visible') | \n",
    "                      (x['Post patch?'] == 'nucleus_present')) & \n",
    "                      (x['Post patch pipette R'] >= 500))]\n",
    "    return nuc_high_seal\n",
    "\n",
    "def partial_nucleated(y):\n",
    "    nuc_low_seal = y[(y['Post patch?'] == 'Partial-Nucleus') | \n",
    "                     (((y['Post patch?'] == 'nucleus_present') | \n",
    "                     (y['Post patch?'] == 'nucleus_visible')) & \n",
    "                     (y['Post patch pipette R'] <= 499))]\n",
    "    return nuc_low_seal\n",
    "\n",
    "def outside_out(z):\n",
    "    no_high_seal = z[(z['Post patch?'] == 'Outside-Out') | \n",
    "                     (((z['Post patch?'] == 'nucleus_absent') | \n",
    "                     (z['Post patch?'] == 'no_nucleus_visible')) & \n",
    "                     (z['Post patch pipette R'] >= 500))]\n",
    "    return no_high_seal\n",
    "\n",
    "def no_seal(w): \n",
    "    no_low_seal = w[(w['Post patch?'] == 'No-Seal') | \n",
    "                    (((w['Post patch?'] == 'nucleus_absent') | \n",
    "                    (w['Post patch?'] == 'no_nucleus_visible')) & \n",
    "                    (w['Post patch pipette R'] <= 499))]\n",
    "    return no_low_seal\n",
    "    \n",
    "def entire_cell(v):\n",
    "    entire = v[(v['Post patch?'] == 'Entire-Cell') | \n",
    "               (v['Post patch?'] == 'entire_cell')]\n",
    "    return entire\n",
    "\n",
    "#variable['post_patch'] = 'Term'\n",
    "#Term is an output displayed in the Post_Patch column\n",
    "\n",
    "def reclassify(df):\n",
    "    nu = nucleated(df)\n",
    "    nu['post_patch'] = 'Nuc-high seal' \n",
    "    oo = outside_out(df)\n",
    "    oo['post_patch'] = 'No-high seal'\n",
    "    pn = partial_nucleated(df)\n",
    "    pn['post_patch'] = 'Nuc-low seal'\n",
    "    ns = no_seal(df)\n",
    "    ns['post_patch'] = 'No-low seal'\n",
    "    ec = entire_cell(df)\n",
    "    ec['post_patch'] = 'Entire cell'\n",
    "    return  nu, oo, pn, ns, ec\n",
    "\n",
    "def concat_df(a, b, c, d, e):\n",
    "    frames = (a, b, c, d, e)\n",
    "    df = pd.concat(frames)\n",
    "    return df\n",
    "\n",
    "def postpatch_reclass(df):\n",
    "    return concat_df(*reclassify(df))\n",
    "\n",
    "#ps_df = postpatch_reclass(ps_df)"
   ]
  },
  {
   "cell_type": "markdown",
   "metadata": {},
   "source": [
    "##### Importing csv"
   ]
  },
  {
   "cell_type": "code",
   "execution_count": 3,
   "metadata": {},
   "outputs": [
    {
     "ename": "IOError",
     "evalue": "File patch_seq_log_mouse.csv does not exist",
     "output_type": "error",
     "traceback": [
      "\u001b[1;31m---------------------------------------------------------------------------\u001b[0m",
      "\u001b[1;31mIOError\u001b[0m                                   Traceback (most recent call last)",
      "\u001b[1;32m<ipython-input-3-ddc2aa6ed073>\u001b[0m in \u001b[0;36m<module>\u001b[1;34m()\u001b[0m\n\u001b[1;32m----> 1\u001b[1;33m \u001b[0mps_df\u001b[0m \u001b[1;33m=\u001b[0m \u001b[0mpd\u001b[0m\u001b[1;33m.\u001b[0m\u001b[0mread_csv\u001b[0m\u001b[1;33m(\u001b[0m\u001b[1;34m\"patch_seq_log_mouse.csv\"\u001b[0m\u001b[1;33m)\u001b[0m\u001b[1;33m\u001b[0m\u001b[0m\n\u001b[0m",
      "\u001b[1;32mC:\\Users\\ramr\\AppData\\Local\\Continuum\\anaconda2\\lib\\site-packages\\pandas\\io\\parsers.pyc\u001b[0m in \u001b[0;36mparser_f\u001b[1;34m(filepath_or_buffer, sep, delimiter, header, names, index_col, usecols, squeeze, prefix, mangle_dupe_cols, dtype, engine, converters, true_values, false_values, skipinitialspace, skiprows, nrows, na_values, keep_default_na, na_filter, verbose, skip_blank_lines, parse_dates, infer_datetime_format, keep_date_col, date_parser, dayfirst, iterator, chunksize, compression, thousands, decimal, lineterminator, quotechar, quoting, escapechar, comment, encoding, dialect, tupleize_cols, error_bad_lines, warn_bad_lines, skipfooter, skip_footer, doublequote, delim_whitespace, as_recarray, compact_ints, use_unsigned, low_memory, buffer_lines, memory_map, float_precision)\u001b[0m\n\u001b[0;32m    707\u001b[0m                     skip_blank_lines=skip_blank_lines)\n\u001b[0;32m    708\u001b[0m \u001b[1;33m\u001b[0m\u001b[0m\n\u001b[1;32m--> 709\u001b[1;33m         \u001b[1;32mreturn\u001b[0m \u001b[0m_read\u001b[0m\u001b[1;33m(\u001b[0m\u001b[0mfilepath_or_buffer\u001b[0m\u001b[1;33m,\u001b[0m \u001b[0mkwds\u001b[0m\u001b[1;33m)\u001b[0m\u001b[1;33m\u001b[0m\u001b[0m\n\u001b[0m\u001b[0;32m    710\u001b[0m \u001b[1;33m\u001b[0m\u001b[0m\n\u001b[0;32m    711\u001b[0m     \u001b[0mparser_f\u001b[0m\u001b[1;33m.\u001b[0m\u001b[0m__name__\u001b[0m \u001b[1;33m=\u001b[0m \u001b[0mname\u001b[0m\u001b[1;33m\u001b[0m\u001b[0m\n",
      "\u001b[1;32mC:\\Users\\ramr\\AppData\\Local\\Continuum\\anaconda2\\lib\\site-packages\\pandas\\io\\parsers.pyc\u001b[0m in \u001b[0;36m_read\u001b[1;34m(filepath_or_buffer, kwds)\u001b[0m\n\u001b[0;32m    447\u001b[0m \u001b[1;33m\u001b[0m\u001b[0m\n\u001b[0;32m    448\u001b[0m     \u001b[1;31m# Create the parser.\u001b[0m\u001b[1;33m\u001b[0m\u001b[1;33m\u001b[0m\u001b[0m\n\u001b[1;32m--> 449\u001b[1;33m     \u001b[0mparser\u001b[0m \u001b[1;33m=\u001b[0m \u001b[0mTextFileReader\u001b[0m\u001b[1;33m(\u001b[0m\u001b[0mfilepath_or_buffer\u001b[0m\u001b[1;33m,\u001b[0m \u001b[1;33m**\u001b[0m\u001b[0mkwds\u001b[0m\u001b[1;33m)\u001b[0m\u001b[1;33m\u001b[0m\u001b[0m\n\u001b[0m\u001b[0;32m    450\u001b[0m \u001b[1;33m\u001b[0m\u001b[0m\n\u001b[0;32m    451\u001b[0m     \u001b[1;32mif\u001b[0m \u001b[0mchunksize\u001b[0m \u001b[1;32mor\u001b[0m \u001b[0miterator\u001b[0m\u001b[1;33m:\u001b[0m\u001b[1;33m\u001b[0m\u001b[0m\n",
      "\u001b[1;32mC:\\Users\\ramr\\AppData\\Local\\Continuum\\anaconda2\\lib\\site-packages\\pandas\\io\\parsers.pyc\u001b[0m in \u001b[0;36m__init__\u001b[1;34m(self, f, engine, **kwds)\u001b[0m\n\u001b[0;32m    816\u001b[0m             \u001b[0mself\u001b[0m\u001b[1;33m.\u001b[0m\u001b[0moptions\u001b[0m\u001b[1;33m[\u001b[0m\u001b[1;34m'has_index_names'\u001b[0m\u001b[1;33m]\u001b[0m \u001b[1;33m=\u001b[0m \u001b[0mkwds\u001b[0m\u001b[1;33m[\u001b[0m\u001b[1;34m'has_index_names'\u001b[0m\u001b[1;33m]\u001b[0m\u001b[1;33m\u001b[0m\u001b[0m\n\u001b[0;32m    817\u001b[0m \u001b[1;33m\u001b[0m\u001b[0m\n\u001b[1;32m--> 818\u001b[1;33m         \u001b[0mself\u001b[0m\u001b[1;33m.\u001b[0m\u001b[0m_make_engine\u001b[0m\u001b[1;33m(\u001b[0m\u001b[0mself\u001b[0m\u001b[1;33m.\u001b[0m\u001b[0mengine\u001b[0m\u001b[1;33m)\u001b[0m\u001b[1;33m\u001b[0m\u001b[0m\n\u001b[0m\u001b[0;32m    819\u001b[0m \u001b[1;33m\u001b[0m\u001b[0m\n\u001b[0;32m    820\u001b[0m     \u001b[1;32mdef\u001b[0m \u001b[0mclose\u001b[0m\u001b[1;33m(\u001b[0m\u001b[0mself\u001b[0m\u001b[1;33m)\u001b[0m\u001b[1;33m:\u001b[0m\u001b[1;33m\u001b[0m\u001b[0m\n",
      "\u001b[1;32mC:\\Users\\ramr\\AppData\\Local\\Continuum\\anaconda2\\lib\\site-packages\\pandas\\io\\parsers.pyc\u001b[0m in \u001b[0;36m_make_engine\u001b[1;34m(self, engine)\u001b[0m\n\u001b[0;32m   1047\u001b[0m     \u001b[1;32mdef\u001b[0m \u001b[0m_make_engine\u001b[0m\u001b[1;33m(\u001b[0m\u001b[0mself\u001b[0m\u001b[1;33m,\u001b[0m \u001b[0mengine\u001b[0m\u001b[1;33m=\u001b[0m\u001b[1;34m'c'\u001b[0m\u001b[1;33m)\u001b[0m\u001b[1;33m:\u001b[0m\u001b[1;33m\u001b[0m\u001b[0m\n\u001b[0;32m   1048\u001b[0m         \u001b[1;32mif\u001b[0m \u001b[0mengine\u001b[0m \u001b[1;33m==\u001b[0m \u001b[1;34m'c'\u001b[0m\u001b[1;33m:\u001b[0m\u001b[1;33m\u001b[0m\u001b[0m\n\u001b[1;32m-> 1049\u001b[1;33m             \u001b[0mself\u001b[0m\u001b[1;33m.\u001b[0m\u001b[0m_engine\u001b[0m \u001b[1;33m=\u001b[0m \u001b[0mCParserWrapper\u001b[0m\u001b[1;33m(\u001b[0m\u001b[0mself\u001b[0m\u001b[1;33m.\u001b[0m\u001b[0mf\u001b[0m\u001b[1;33m,\u001b[0m \u001b[1;33m**\u001b[0m\u001b[0mself\u001b[0m\u001b[1;33m.\u001b[0m\u001b[0moptions\u001b[0m\u001b[1;33m)\u001b[0m\u001b[1;33m\u001b[0m\u001b[0m\n\u001b[0m\u001b[0;32m   1050\u001b[0m         \u001b[1;32melse\u001b[0m\u001b[1;33m:\u001b[0m\u001b[1;33m\u001b[0m\u001b[0m\n\u001b[0;32m   1051\u001b[0m             \u001b[1;32mif\u001b[0m \u001b[0mengine\u001b[0m \u001b[1;33m==\u001b[0m \u001b[1;34m'python'\u001b[0m\u001b[1;33m:\u001b[0m\u001b[1;33m\u001b[0m\u001b[0m\n",
      "\u001b[1;32mC:\\Users\\ramr\\AppData\\Local\\Continuum\\anaconda2\\lib\\site-packages\\pandas\\io\\parsers.pyc\u001b[0m in \u001b[0;36m__init__\u001b[1;34m(self, src, **kwds)\u001b[0m\n\u001b[0;32m   1693\u001b[0m         \u001b[0mkwds\u001b[0m\u001b[1;33m[\u001b[0m\u001b[1;34m'allow_leading_cols'\u001b[0m\u001b[1;33m]\u001b[0m \u001b[1;33m=\u001b[0m \u001b[0mself\u001b[0m\u001b[1;33m.\u001b[0m\u001b[0mindex_col\u001b[0m \u001b[1;32mis\u001b[0m \u001b[1;32mnot\u001b[0m \u001b[0mFalse\u001b[0m\u001b[1;33m\u001b[0m\u001b[0m\n\u001b[0;32m   1694\u001b[0m \u001b[1;33m\u001b[0m\u001b[0m\n\u001b[1;32m-> 1695\u001b[1;33m         \u001b[0mself\u001b[0m\u001b[1;33m.\u001b[0m\u001b[0m_reader\u001b[0m \u001b[1;33m=\u001b[0m \u001b[0mparsers\u001b[0m\u001b[1;33m.\u001b[0m\u001b[0mTextReader\u001b[0m\u001b[1;33m(\u001b[0m\u001b[0msrc\u001b[0m\u001b[1;33m,\u001b[0m \u001b[1;33m**\u001b[0m\u001b[0mkwds\u001b[0m\u001b[1;33m)\u001b[0m\u001b[1;33m\u001b[0m\u001b[0m\n\u001b[0m\u001b[0;32m   1696\u001b[0m \u001b[1;33m\u001b[0m\u001b[0m\n\u001b[0;32m   1697\u001b[0m         \u001b[1;31m# XXX\u001b[0m\u001b[1;33m\u001b[0m\u001b[1;33m\u001b[0m\u001b[0m\n",
      "\u001b[1;32mpandas\\_libs\\parsers.pyx\u001b[0m in \u001b[0;36mpandas._libs.parsers.TextReader.__cinit__\u001b[1;34m()\u001b[0m\n",
      "\u001b[1;32mpandas\\_libs\\parsers.pyx\u001b[0m in \u001b[0;36mpandas._libs.parsers.TextReader._setup_parser_source\u001b[1;34m()\u001b[0m\n",
      "\u001b[1;31mIOError\u001b[0m: File patch_seq_log_mouse.csv does not exist"
     ]
    }
   ],
   "source": [
    "ps_df = pd.read_csv(\"patch_seq_log_mouse.csv\")"
   ]
  },
  {
   "cell_type": "code",
   "execution_count": null,
   "metadata": {},
   "outputs": [],
   "source": [
    "initial =[\"Lims tube id\", \n",
    "          \"Post patch?\", \n",
    "          \"Post patch pipette R\", \n",
    "          \"BA conc. >400 (pg/uL)\",\n",
    "          \"Time spent extracting cytosol\", \n",
    "          \"Time spent retracting pipette\",\n",
    "          \"patch duration\",\n",
    "          \"PCR cycles\", \n",
    "          \"SM_QC_PF\", \n",
    "          \"Bad dates\"]\n",
    "ps_df = ps_df[initial]"
   ]
  },
  {
   "cell_type": "markdown",
   "metadata": {},
   "source": [
    "##### Filtering & Sorting columns"
   ]
  },
  {
   "cell_type": "code",
   "execution_count": null,
   "metadata": {},
   "outputs": [],
   "source": [
    "#Changing String to Numerical\n",
    "ps_df[\"Time spent extracting cytosol\"] = pd.to_numeric(ps_df[\"Time spent extracting cytosol\"].str.replace(' ',''), errors ='coerce')\n",
    "ps_df[\"Time spent retracting pipette\"] = pd.to_numeric(ps_df[\"Time spent retracting pipette\"].str.replace(' ',''), errors ='coerce')\n",
    "ps_df[\"patch duration\"] = pd.to_numeric(ps_df[\"patch duration\"].str.replace(' ',''), errors ='coerce')\n",
    "ps_df[\"BA conc. >400 (pg/uL)\"] = pd.to_numeric(ps_df[\"BA conc. >400 (pg/uL)\"].str.replace(' ',''), errors ='coerce')\n",
    "\n",
    "#Categories\n",
    "ps_df[\"Post patch?\"] = ps_df[\"Post patch?\"].astype(\"category\")\n",
    "ps_df[\"PCR cycles\"] = ps_df[\"PCR cycles\"].astype(\"category\")\n",
    "ps_df[\"SM_QC_PF\"] = ps_df[\"SM_QC_PF\"].astype(\"category\")\n",
    "ps_df[\"Bad dates\"] = ps_df[\"Bad dates\"].astype(\"category\")\n",
    "\n",
    "#Filtering Columns\n",
    "ps_df = ps_df[ps_df[\"PCR cycles\"] == 21]      #Shows 21 pcr cycles\n",
    "ps_df = ps_df[ps_df[\"SM_QC_PF\"] != \"cnt\"]     #Shows everything except cnt\n",
    "ps_df = ps_df[ps_df[\"Bad dates\"] != \"x\"]      #Shows everthing except x\n",
    "ps_df = ps_df[ps_df[\"Time spent extracting cytosol\"] <= 10]\n",
    "ps_df = ps_df[ps_df[\"BA conc. >400 (pg/uL)\"] < 8000]"
   ]
  },
  {
   "cell_type": "code",
   "execution_count": null,
   "metadata": {},
   "outputs": [],
   "source": [
    "#Dropping blank columns\n",
    "ps_df.dropna(subset = [\"Post patch?\", \n",
    "                       \"Time spent extracting cytosol\", \n",
    "                       \"Time spent retracting pipette\",\n",
    "                       'patch duration',\n",
    "                       \"BA conc. >400 (pg/uL)\", \n",
    "                       \"SM_QC_PF\"], inplace = True)\n",
    "ps_df.head()"
   ]
  },
  {
   "cell_type": "markdown",
   "metadata": {},
   "source": [
    "##### Creating rec_dur column"
   ]
  },
  {
   "cell_type": "code",
   "execution_count": null,
   "metadata": {},
   "outputs": [],
   "source": [
    "ps_df['rec_dur'] = ps_df['patch duration'] - ps_df['Time spent extracting cytosol'] - ps_df['Time spent retracting pipette']\n",
    "ps_df = ps_df[ps_df['rec_dur'] > 0] #Only shows postive values"
   ]
  },
  {
   "cell_type": "markdown",
   "metadata": {},
   "source": [
    "##### Creating Date Column"
   ]
  },
  {
   "cell_type": "code",
   "execution_count": null,
   "metadata": {},
   "outputs": [],
   "source": [
    "ps_df['Date'] = ps_df['Lims tube id'].str[5:11]"
   ]
  },
  {
   "cell_type": "markdown",
   "metadata": {},
   "source": [
    "##### Set & Sort Date Index"
   ]
  },
  {
   "cell_type": "code",
   "execution_count": null,
   "metadata": {},
   "outputs": [],
   "source": [
    "ps_df = ps_df.set_index('Date')\n",
    "ps_df = ps_df.sort_index()"
   ]
  },
  {
   "cell_type": "markdown",
   "metadata": {},
   "source": [
    "##### Production Start Date"
   ]
  },
  {
   "cell_type": "code",
   "execution_count": null,
   "metadata": {},
   "outputs": [],
   "source": [
    "ps_df = ps_df['170901':]"
   ]
  },
  {
   "cell_type": "code",
   "execution_count": null,
   "metadata": {},
   "outputs": [],
   "source": [
    "ps_df.head()"
   ]
  },
  {
   "cell_type": "code",
   "execution_count": null,
   "metadata": {},
   "outputs": [],
   "source": [
    "ps_df.tail()"
   ]
  },
  {
   "cell_type": "markdown",
   "metadata": {},
   "source": [
    "##### Adding post_patch column"
   ]
  },
  {
   "cell_type": "code",
   "execution_count": null,
   "metadata": {},
   "outputs": [],
   "source": [
    "ps_df = postpatch_reclass(ps_df)"
   ]
  },
  {
   "cell_type": "code",
   "execution_count": null,
   "metadata": {},
   "outputs": [],
   "source": [
    "ps_df.head()"
   ]
  },
  {
   "cell_type": "code",
   "execution_count": null,
   "metadata": {},
   "outputs": [],
   "source": [
    "ps_df.tail()"
   ]
  },
  {
   "cell_type": "markdown",
   "metadata": {},
   "source": [
    "##### Dropping columns"
   ]
  },
  {
   "cell_type": "code",
   "execution_count": null,
   "metadata": {},
   "outputs": [],
   "source": [
    "ps_df.drop(['Lims tube id', 'Post patch?', 'Post patch pipette R', 'PCR cycles', 'SM_QC_PF', 'Bad dates'], \n",
    "            axis = 1, inplace = True)"
   ]
  },
  {
   "cell_type": "markdown",
   "metadata": {},
   "source": [
    "##### Renaming columns"
   ]
  },
  {
   "cell_type": "code",
   "execution_count": null,
   "metadata": {},
   "outputs": [],
   "source": [
    "ps_df.rename(columns = {'BA conc. >400 (pg/uL)' : 'BA_conc',\n",
    "                        'patch duration' : 'patch_dur', \n",
    "                        'Time spent extracting cytosol' : 'ext_dur',\n",
    "                        'Time spent retracting pipette' : 'ret_dur'}, inplace = True)"
   ]
  },
  {
   "cell_type": "code",
   "execution_count": null,
   "metadata": {},
   "outputs": [],
   "source": [
    "ps_df.head()"
   ]
  },
  {
   "cell_type": "code",
   "execution_count": null,
   "metadata": {},
   "outputs": [],
   "source": [
    "ps_df.tail()"
   ]
  },
  {
   "cell_type": "markdown",
   "metadata": {},
   "source": [
    "##### Info"
   ]
  },
  {
   "cell_type": "code",
   "execution_count": null,
   "metadata": {},
   "outputs": [],
   "source": [
    "ps_df.info()"
   ]
  },
  {
   "cell_type": "markdown",
   "metadata": {},
   "source": [
    "### Seaborn plot: Concentration vs Extraction Duration by Post Patch Outcomes"
   ]
  },
  {
   "cell_type": "code",
   "execution_count": null,
   "metadata": {},
   "outputs": [],
   "source": [
    "lm = sns.lmplot(x = 'ext_dur', \n",
    "                y = 'BA_conc', \n",
    "                data = ps_df, \n",
    "                hue = 'post_patch',\n",
    "                hue_order = ['Nuc-high seal', 'Nuc-low seal', 'No-high seal', 'No-low seal','Entire cell'],\n",
    "                palette = ['#31a354', '#bae4b3', '#fcae91', '#de2d26', '#6baed6'],\n",
    "                scatter = False,\n",
    "                legend = False)\n",
    "\n",
    "axes = lm.axes #Set array of axes\n",
    "axes[0,0].set_ylim(0,1500)\n",
    "axes[0,0].set_xlim(0, 7)\n",
    "\n",
    "lm.set(xlabel = \"Extraction Time (min)\", ylabel = \"BA Concentration >400 (pg/uL)\")\n",
    "lm.ax.legend(loc = 2) #Legend corresponds to quadrant\n",
    "\n",
    "plt.tight_layout() #Moves axes into place if out of frame"
   ]
  },
  {
   "cell_type": "markdown",
   "metadata": {},
   "source": [
    "### Seaborn plot: Concentration vs Retraction Duration by Post Patch Outcomes"
   ]
  },
  {
   "cell_type": "code",
   "execution_count": null,
   "metadata": {},
   "outputs": [],
   "source": [
    "lm = sns.lmplot(x = 'ret_dur', \n",
    "                y = 'BA_conc', \n",
    "                data = ps_df, \n",
    "                hue = 'post_patch',\n",
    "                hue_order = ['Nuc-high seal', 'Nuc-low seal', 'No-high seal', 'No-low seal','Entire cell'],\n",
    "                palette = ['#31a354', '#bae4b3', '#fcae91', '#de2d26', '#6baed6'],\n",
    "                scatter = False,\n",
    "                legend = False)\n",
    "\n",
    "axes = lm.axes #Set array of axes\n",
    "axes[0,0].set_ylim(0,1000)\n",
    "axes[0,0].set_xlim(0, 7)\n",
    "\n",
    "lm.set(xlabel = \"Retraction Time (min)\", ylabel = \"BA Concentration >400 (pg/uL)\")\n",
    "lm.ax.legend(loc = 2) #Legend corresponds to quadrant\n",
    "\n",
    "plt.tight_layout() #Moves axes into place if out of frame"
   ]
  },
  {
   "cell_type": "markdown",
   "metadata": {},
   "source": [
    "### Seaborn plot: Concentration vs Recording Duration by Post Patch Outcomes"
   ]
  },
  {
   "cell_type": "code",
   "execution_count": null,
   "metadata": {},
   "outputs": [],
   "source": [
    "lm = sns.lmplot(x = 'rec_dur', \n",
    "                y = 'BA_conc', \n",
    "                data = ps_df, \n",
    "                hue = 'post_patch',\n",
    "                hue_order = ['Nuc-high seal', 'Nuc-low seal', 'No-high seal', 'No-low seal','Entire cell'],\n",
    "                palette = ['#31a354', '#bae4b3', '#fcae91', '#de2d26', '#6baed6'],\n",
    "                scatter = False,\n",
    "                legend = False)\n",
    "\n",
    "axes = lm.axes #Set array of axes\n",
    "axes[0,0].set_ylim(0,1000)\n",
    "axes[0,0].set_xlim(0, 7)\n",
    "\n",
    "lm.set(xlabel = \"Recording Duration (min)\", ylabel = \"BA Concentration >400 (pg/uL)\")\n",
    "lm.ax.legend(loc = 2) #Legend corresponds to quadrant\n",
    "\n",
    "plt.tight_layout() #Moves axes into place if out of frame"
   ]
  },
  {
   "cell_type": "markdown",
   "metadata": {},
   "source": [
    "### Seaborn plot: Concentration vs Patch Duration by Post Patch Outcomes"
   ]
  },
  {
   "cell_type": "code",
   "execution_count": null,
   "metadata": {},
   "outputs": [],
   "source": [
    "lm = sns.lmplot(x = 'patch_dur', \n",
    "                y = 'BA_conc', \n",
    "                data = ps_df, \n",
    "                hue = 'post_patch',\n",
    "                hue_order = ['Nuc-high seal', 'Nuc-low seal', 'No-high seal', 'No-low seal','Entire cell'],\n",
    "                palette = ['#31a354', '#bae4b3', '#fcae91', '#de2d26', '#6baed6'],\n",
    "                scatter = False,\n",
    "                legend = False)\n",
    "\n",
    "axes = lm.axes #Set array of axes\n",
    "axes[0,0].set_ylim(0,1000) #Sets axes as center coordinate & y limits\n",
    "axes[0,0].set_xlim(0, 7)\n",
    "\n",
    "lm.set(xlabel = \"Patch Duration (min)\", ylabel = \"Concentration >400 (pg/uL)\") #Sets x and y axis labels \n",
    "lm.ax.legend(loc = 2) #Legend corresponds to quadrant\n",
    "\n",
    "plt.tight_layout() #Moves axes into place if out of frame\n",
    "#sns.despine() #Gets rid of the top and right spine on plot\n",
    "#plt.savefig(\"conc_vs_extraction_seaborn.png\",dpi=300) #Saves plot as .png"
   ]
  }
 ],
 "metadata": {
  "kernelspec": {
   "display_name": "Python 3",
   "language": "python",
   "name": "python3"
  },
  "language_info": {
   "codemirror_mode": {
    "name": "ipython",
    "version": 3
   },
   "file_extension": ".py",
   "mimetype": "text/x-python",
   "name": "python",
   "nbconvert_exporter": "python",
   "pygments_lexer": "ipython3",
   "version": "3.6.5"
  }
 },
 "nbformat": 4,
 "nbformat_minor": 2
}
