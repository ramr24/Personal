{
 "cells": [
  {
   "cell_type": "markdown",
   "metadata": {},
   "source": [
    "# Personal JEM/63x Tracker 2018"
   ]
  },
  {
   "cell_type": "code",
   "execution_count": 1,
   "metadata": {},
   "outputs": [],
   "source": [
    "import csv\n",
    "import pandas as pd\n",
    "import numpy as np\n",
    "import seaborn as sns\n",
    "import matplotlib.pyplot as plt\n",
    "\n",
    "import post_patch as pp #post patch script\n",
    "#post_patch_column = 'postPatch_label'\n",
    "#post_patch_pipette_column = 'endPipetteR_label'\n",
    "\n",
    "sns.set(style = \"whitegrid\")\n",
    "sns.set_context('notebook')"
   ]
  },
  {
   "cell_type": "markdown",
   "metadata": {},
   "source": [
    "### Creating Dataframes: json_df, morph_df, merged_df"
   ]
  },
  {
   "cell_type": "code",
   "execution_count": 2,
   "metadata": {},
   "outputs": [],
   "source": [
    "def get_json_df():\n",
    "    json_df = pd.read_csv('C:/users/kumar/documents/github/personal-projects/csv/json_metadata.csv')\n",
    "    json_df = json_df[json_df['status'] == 'SUCCESS']\n",
    "\n",
    "    #Creates patch_duration column and outputs in minutes\n",
    "    json_df['patch_duration'] = pd.to_datetime(json_df['extraction.timeRetractionEnd']) - pd.to_datetime(json_df['recording.timeWholeCellStart'])\n",
    "    json_df['patch_duration'] = (json_df['patch_duration'].astype('timedelta64[s]'))/60\n",
    "\n",
    "    json_df['date'] = json_df['date'].str[:10] #Strip away the time\n",
    "    json_df['date'] = pd.to_datetime(json_df['date']) #Converting to YYYY-MM-DD\n",
    "\n",
    "    json_df = pp.postpatch_reclass(json_df) #Makes post patch column with the script\n",
    "\n",
    "    json_df.dropna(subset = ['patch_container', 'cell_depth'], inplace = True)\n",
    "    json_df = json_df[json_df['patch_container'].str.match('PA')]\n",
    "\n",
    "    json_df = json_df[['date', \n",
    "                       'patch_container', \n",
    "                       'patch_duration',\n",
    "                       'cell_depth',\n",
    "                       'extraction.endPipetteR',\n",
    "                       'post_patch', \n",
    "                       'extraction.extractionNotes']]\n",
    "    json_df.sort_values(by = ['date'], inplace = True) #Sorts date column\n",
    "    return json_df"
   ]
  },
  {
   "cell_type": "code",
   "execution_count": 3,
   "metadata": {},
   "outputs": [],
   "source": [
    "def get_morph_df():\n",
    "    morph_df = pd.read_csv(\"C:/users/kumar/documents/github/personal-projects/csv/63x_mouse.csv\")\n",
    "    morph_df = morph_df.loc[:,['patched_cell_container', \n",
    "                               'ims63x_go_no_go', \n",
    "                               'ims63x_imaging_started', \n",
    "                               'image_series_63x_qc',\n",
    "                               'link_ims_20x',\n",
    "                               'link_ims_63x']]\n",
    "    return morph_df"
   ]
  },
  {
   "cell_type": "code",
   "execution_count": 4,
   "metadata": {},
   "outputs": [],
   "source": [
    "def merge_dfs(df1, df2):\n",
    "    merged_df = pd.merge(left = df1, \n",
    "                         right = df2, \n",
    "                         left_on = 'patch_container',\n",
    "                         right_on = 'patched_cell_container',\n",
    "                         how = 'inner')\n",
    "    merged_df.dropna(subset=['ims63x_go_no_go'], inplace = True)\n",
    "    merged_df.drop(columns=['patched_cell_container'], inplace=True)\n",
    "    merged_df.sort_values(by = ['date'], inplace=True) #Sorts date column\n",
    "    return merged_df"
   ]
  },
  {
   "cell_type": "code",
   "execution_count": 5,
   "metadata": {},
   "outputs": [],
   "source": [
    "def sort_df(final_all_df):\n",
    "    final_all_df = final_all_df.set_index('date') #Set date column as index column \n",
    "    start_date = '2018-01-01'\n",
    "    end_date = '2018-12-31'\n",
    "    final_all_df = final_all_df[start_date:end_date] #Choosing start & end date\n",
    "    final_all_df.sort_index(inplace=True)\n",
    "    final_all_df.reset_index(inplace=True)\n",
    "    return final_all_df"
   ]
  },
  {
   "cell_type": "code",
   "execution_count": 6,
   "metadata": {},
   "outputs": [
    {
     "name": "stderr",
     "output_type": "stream",
     "text": [
      "C:\\Users\\kumar\\AppData\\Local\\Continuum\\anaconda3\\lib\\site-packages\\pandas\\core\\indexing.py:362: SettingWithCopyWarning: \n",
      "A value is trying to be set on a copy of a slice from a DataFrame.\n",
      "Try using .loc[row_indexer,col_indexer] = value instead\n",
      "\n",
      "See the caveats in the documentation: http://pandas.pydata.org/pandas-docs/stable/indexing.html#indexing-view-versus-copy\n",
      "  self.obj[key] = _infer_fill_value(value)\n",
      "C:\\Users\\kumar\\AppData\\Local\\Continuum\\anaconda3\\lib\\site-packages\\pandas\\core\\indexing.py:543: SettingWithCopyWarning: \n",
      "A value is trying to be set on a copy of a slice from a DataFrame.\n",
      "Try using .loc[row_indexer,col_indexer] = value instead\n",
      "\n",
      "See the caveats in the documentation: http://pandas.pydata.org/pandas-docs/stable/indexing.html#indexing-view-versus-copy\n",
      "  self.obj[item] = s\n"
     ]
    }
   ],
   "source": [
    "#Making global variables\n",
    "json_df = get_json_df()\n",
    "morph_df = get_morph_df()\n",
    "merged_df = merge_dfs(json_df, morph_df)\n",
    "final_all_df = sort_df(merged_df)"
   ]
  },
  {
   "cell_type": "markdown",
   "metadata": {},
   "source": [
    "### Display df"
   ]
  },
  {
   "cell_type": "code",
   "execution_count": 7,
   "metadata": {},
   "outputs": [
    {
     "data": {
      "text/html": [
       "<div>\n",
       "<style scoped>\n",
       "    .dataframe tbody tr th:only-of-type {\n",
       "        vertical-align: middle;\n",
       "    }\n",
       "\n",
       "    .dataframe tbody tr th {\n",
       "        vertical-align: top;\n",
       "    }\n",
       "\n",
       "    .dataframe thead th {\n",
       "        text-align: right;\n",
       "    }\n",
       "</style>\n",
       "<table border=\"1\" class=\"dataframe\">\n",
       "  <thead>\n",
       "    <tr style=\"text-align: right;\">\n",
       "      <th></th>\n",
       "      <th>date</th>\n",
       "      <th>patch_container</th>\n",
       "      <th>patch_duration</th>\n",
       "      <th>cell_depth</th>\n",
       "      <th>extraction.endPipetteR</th>\n",
       "      <th>post_patch</th>\n",
       "      <th>extraction.extractionNotes</th>\n",
       "    </tr>\n",
       "  </thead>\n",
       "  <tbody>\n",
       "    <tr>\n",
       "      <th>223</th>\n",
       "      <td>2017-10-02</td>\n",
       "      <td>PAS4_171002_451_A01</td>\n",
       "      <td>11.866667</td>\n",
       "      <td>47.4</td>\n",
       "      <td>10.2</td>\n",
       "      <td>No-low seal</td>\n",
       "      <td>NaN</td>\n",
       "    </tr>\n",
       "  </tbody>\n",
       "</table>\n",
       "</div>"
      ],
      "text/plain": [
       "          date      patch_container  patch_duration  cell_depth  \\\n",
       "223 2017-10-02  PAS4_171002_451_A01       11.866667        47.4   \n",
       "\n",
       "     extraction.endPipetteR   post_patch extraction.extractionNotes  \n",
       "223                    10.2  No-low seal                        NaN  "
      ]
     },
     "execution_count": 7,
     "metadata": {},
     "output_type": "execute_result"
    }
   ],
   "source": [
    "json_df.head(1)"
   ]
  },
  {
   "cell_type": "code",
   "execution_count": 8,
   "metadata": {},
   "outputs": [
    {
     "data": {
      "text/html": [
       "<div>\n",
       "<style scoped>\n",
       "    .dataframe tbody tr th:only-of-type {\n",
       "        vertical-align: middle;\n",
       "    }\n",
       "\n",
       "    .dataframe tbody tr th {\n",
       "        vertical-align: top;\n",
       "    }\n",
       "\n",
       "    .dataframe thead th {\n",
       "        text-align: right;\n",
       "    }\n",
       "</style>\n",
       "<table border=\"1\" class=\"dataframe\">\n",
       "  <thead>\n",
       "    <tr style=\"text-align: right;\">\n",
       "      <th></th>\n",
       "      <th>date</th>\n",
       "      <th>patch_container</th>\n",
       "      <th>patch_duration</th>\n",
       "      <th>cell_depth</th>\n",
       "      <th>extraction.endPipetteR</th>\n",
       "      <th>post_patch</th>\n",
       "      <th>extraction.extractionNotes</th>\n",
       "    </tr>\n",
       "  </thead>\n",
       "  <tbody>\n",
       "    <tr>\n",
       "      <th>6463</th>\n",
       "      <td>2019-01-15</td>\n",
       "      <td>PAS4_190115_451_A01</td>\n",
       "      <td>9.6</td>\n",
       "      <td>38.4</td>\n",
       "      <td>2000.0</td>\n",
       "      <td>Nuc-high seal</td>\n",
       "      <td>#NL. Took pipette out of bath then brought bac...</td>\n",
       "    </tr>\n",
       "  </tbody>\n",
       "</table>\n",
       "</div>"
      ],
      "text/plain": [
       "           date      patch_container  patch_duration  cell_depth  \\\n",
       "6463 2019-01-15  PAS4_190115_451_A01             9.6        38.4   \n",
       "\n",
       "      extraction.endPipetteR     post_patch  \\\n",
       "6463                  2000.0  Nuc-high seal   \n",
       "\n",
       "                             extraction.extractionNotes  \n",
       "6463  #NL. Took pipette out of bath then brought bac...  "
      ]
     },
     "execution_count": 8,
     "metadata": {},
     "output_type": "execute_result"
    }
   ],
   "source": [
    "json_df.tail(1)"
   ]
  },
  {
   "cell_type": "code",
   "execution_count": 9,
   "metadata": {},
   "outputs": [
    {
     "data": {
      "text/html": [
       "<div>\n",
       "<style scoped>\n",
       "    .dataframe tbody tr th:only-of-type {\n",
       "        vertical-align: middle;\n",
       "    }\n",
       "\n",
       "    .dataframe tbody tr th {\n",
       "        vertical-align: top;\n",
       "    }\n",
       "\n",
       "    .dataframe thead th {\n",
       "        text-align: right;\n",
       "    }\n",
       "</style>\n",
       "<table border=\"1\" class=\"dataframe\">\n",
       "  <thead>\n",
       "    <tr style=\"text-align: right;\">\n",
       "      <th></th>\n",
       "      <th>date</th>\n",
       "      <th>patch_container</th>\n",
       "      <th>patch_duration</th>\n",
       "      <th>cell_depth</th>\n",
       "      <th>extraction.endPipetteR</th>\n",
       "      <th>post_patch</th>\n",
       "      <th>extraction.extractionNotes</th>\n",
       "      <th>ims63x_go_no_go</th>\n",
       "      <th>ims63x_imaging_started</th>\n",
       "      <th>image_series_63x_qc</th>\n",
       "      <th>link_ims_20x</th>\n",
       "      <th>link_ims_63x</th>\n",
       "    </tr>\n",
       "  </thead>\n",
       "  <tbody>\n",
       "    <tr>\n",
       "      <th>0</th>\n",
       "      <td>2018-01-03</td>\n",
       "      <td>PAS4_180103_452_A01</td>\n",
       "      <td>9.083333</td>\n",
       "      <td>33.8</td>\n",
       "      <td>1500.0</td>\n",
       "      <td>Nuc-high seal</td>\n",
       "      <td>Nucleus was visible during extraction and nucl...</td>\n",
       "      <td>63x go</td>\n",
       "      <td>63x imaging started</td>\n",
       "      <td>deferred</td>\n",
       "      <td>http://lims2/focal_plane_image_series?id=65748...</td>\n",
       "      <td>http://lims2/focal_plane_image_series?id=66389...</td>\n",
       "    </tr>\n",
       "  </tbody>\n",
       "</table>\n",
       "</div>"
      ],
      "text/plain": [
       "        date      patch_container  patch_duration  cell_depth  \\\n",
       "0 2018-01-03  PAS4_180103_452_A01        9.083333        33.8   \n",
       "\n",
       "   extraction.endPipetteR     post_patch  \\\n",
       "0                  1500.0  Nuc-high seal   \n",
       "\n",
       "                          extraction.extractionNotes ims63x_go_no_go  \\\n",
       "0  Nucleus was visible during extraction and nucl...          63x go   \n",
       "\n",
       "  ims63x_imaging_started image_series_63x_qc  \\\n",
       "0    63x imaging started            deferred   \n",
       "\n",
       "                                        link_ims_20x  \\\n",
       "0  http://lims2/focal_plane_image_series?id=65748...   \n",
       "\n",
       "                                        link_ims_63x  \n",
       "0  http://lims2/focal_plane_image_series?id=66389...  "
      ]
     },
     "execution_count": 9,
     "metadata": {},
     "output_type": "execute_result"
    }
   ],
   "source": [
    "final_all_df.head(1)"
   ]
  },
  {
   "cell_type": "code",
   "execution_count": 10,
   "metadata": {},
   "outputs": [
    {
     "data": {
      "text/html": [
       "<div>\n",
       "<style scoped>\n",
       "    .dataframe tbody tr th:only-of-type {\n",
       "        vertical-align: middle;\n",
       "    }\n",
       "\n",
       "    .dataframe tbody tr th {\n",
       "        vertical-align: top;\n",
       "    }\n",
       "\n",
       "    .dataframe thead th {\n",
       "        text-align: right;\n",
       "    }\n",
       "</style>\n",
       "<table border=\"1\" class=\"dataframe\">\n",
       "  <thead>\n",
       "    <tr style=\"text-align: right;\">\n",
       "      <th></th>\n",
       "      <th>date</th>\n",
       "      <th>patch_container</th>\n",
       "      <th>patch_duration</th>\n",
       "      <th>cell_depth</th>\n",
       "      <th>extraction.endPipetteR</th>\n",
       "      <th>post_patch</th>\n",
       "      <th>extraction.extractionNotes</th>\n",
       "      <th>ims63x_go_no_go</th>\n",
       "      <th>ims63x_imaging_started</th>\n",
       "      <th>image_series_63x_qc</th>\n",
       "      <th>link_ims_20x</th>\n",
       "      <th>link_ims_63x</th>\n",
       "    </tr>\n",
       "  </thead>\n",
       "  <tbody>\n",
       "    <tr>\n",
       "      <th>339</th>\n",
       "      <td>2018-11-16</td>\n",
       "      <td>PAS4_181116_451_A01</td>\n",
       "      <td>13.566667</td>\n",
       "      <td>61.5</td>\n",
       "      <td>2000.0</td>\n",
       "      <td>Nuc-high seal</td>\n",
       "      <td>#Nuc-visible</td>\n",
       "      <td>63x no go</td>\n",
       "      <td>NaN</td>\n",
       "      <td>NaN</td>\n",
       "      <td>http://lims2/focal_plane_image_series?id=78999...</td>\n",
       "      <td>NaN</td>\n",
       "    </tr>\n",
       "  </tbody>\n",
       "</table>\n",
       "</div>"
      ],
      "text/plain": [
       "          date      patch_container  patch_duration  cell_depth  \\\n",
       "339 2018-11-16  PAS4_181116_451_A01       13.566667        61.5   \n",
       "\n",
       "     extraction.endPipetteR     post_patch extraction.extractionNotes  \\\n",
       "339                  2000.0  Nuc-high seal               #Nuc-visible   \n",
       "\n",
       "    ims63x_go_no_go ims63x_imaging_started image_series_63x_qc  \\\n",
       "339       63x no go                    NaN                 NaN   \n",
       "\n",
       "                                          link_ims_20x link_ims_63x  \n",
       "339  http://lims2/focal_plane_image_series?id=78999...          NaN  "
      ]
     },
     "execution_count": 10,
     "metadata": {},
     "output_type": "execute_result"
    }
   ],
   "source": [
    "final_all_df.tail(1)"
   ]
  },
  {
   "cell_type": "markdown",
   "metadata": {},
   "source": [
    "### Dataframe into Excel sheet"
   ]
  },
  {
   "cell_type": "code",
   "execution_count": 11,
   "metadata": {},
   "outputs": [],
   "source": [
    "#If error message is 'Permission denied' then you have the excel sheet open"
   ]
  },
  {
   "cell_type": "code",
   "execution_count": 12,
   "metadata": {},
   "outputs": [],
   "source": [
    "#Outputing dataframe as excel sheet\n",
    "#writer = pd.ExcelWriter('TITLE.xlsx')\n",
    "#dataframe.to_excel(writer, 'Sheet#)"
   ]
  },
  {
   "cell_type": "code",
   "execution_count": 13,
   "metadata": {},
   "outputs": [],
   "source": [
    "#Dataframe with all post_patch\n",
    "writer = pd.ExcelWriter('All_63x_calls_df.xlsx')\n",
    "final_all_df.to_excel(writer, 'Sheet1')\n",
    "\n",
    "#Dataframe with only Nuc-high seal\n",
    "final_nuc_df = final_all_df[final_all_df['post_patch']=='Nuc-high seal']\n",
    "\n",
    "writer = pd.ExcelWriter('Only_Nuc-high_63x_calls_df.xlsx')\n",
    "final_nuc_df.to_excel(writer, 'Sheet1')\n",
    "writer.save()"
   ]
  },
  {
   "cell_type": "markdown",
   "metadata": {},
   "source": [
    "### Dataframe Info"
   ]
  },
  {
   "cell_type": "code",
   "execution_count": 14,
   "metadata": {},
   "outputs": [
    {
     "name": "stdout",
     "output_type": "stream",
     "text": [
      "<class 'pandas.core.frame.DataFrame'>\n",
      "Int64Index: 785 entries, 223 to 6463\n",
      "Data columns (total 7 columns):\n",
      "date                          785 non-null datetime64[ns]\n",
      "patch_container               785 non-null object\n",
      "patch_duration                785 non-null float64\n",
      "cell_depth                    785 non-null float64\n",
      "extraction.endPipetteR        785 non-null float64\n",
      "post_patch                    785 non-null object\n",
      "extraction.extractionNotes    720 non-null object\n",
      "dtypes: datetime64[ns](1), float64(3), object(3)\n",
      "memory usage: 49.1+ KB\n"
     ]
    }
   ],
   "source": [
    "json_df.info()"
   ]
  },
  {
   "cell_type": "code",
   "execution_count": 15,
   "metadata": {},
   "outputs": [
    {
     "name": "stdout",
     "output_type": "stream",
     "text": [
      "<class 'pandas.core.frame.DataFrame'>\n",
      "Int64Index: 406 entries, 0 to 657\n",
      "Data columns (total 12 columns):\n",
      "date                          406 non-null datetime64[ns]\n",
      "patch_container               406 non-null object\n",
      "patch_duration                406 non-null float64\n",
      "cell_depth                    406 non-null float64\n",
      "extraction.endPipetteR        406 non-null float64\n",
      "post_patch                    406 non-null object\n",
      "extraction.extractionNotes    363 non-null object\n",
      "ims63x_go_no_go               406 non-null object\n",
      "ims63x_imaging_started        207 non-null object\n",
      "image_series_63x_qc           198 non-null object\n",
      "link_ims_20x                  406 non-null object\n",
      "link_ims_63x                  198 non-null object\n",
      "dtypes: datetime64[ns](1), float64(3), object(8)\n",
      "memory usage: 41.2+ KB\n"
     ]
    }
   ],
   "source": [
    "merged_df.info()"
   ]
  },
  {
   "cell_type": "code",
   "execution_count": 16,
   "metadata": {},
   "outputs": [
    {
     "name": "stdout",
     "output_type": "stream",
     "text": [
      "<class 'pandas.core.frame.DataFrame'>\n",
      "RangeIndex: 340 entries, 0 to 339\n",
      "Data columns (total 12 columns):\n",
      "date                          340 non-null datetime64[ns]\n",
      "patch_container               340 non-null object\n",
      "patch_duration                340 non-null float64\n",
      "cell_depth                    340 non-null float64\n",
      "extraction.endPipetteR        340 non-null float64\n",
      "post_patch                    340 non-null object\n",
      "extraction.extractionNotes    306 non-null object\n",
      "ims63x_go_no_go               340 non-null object\n",
      "ims63x_imaging_started        173 non-null object\n",
      "image_series_63x_qc           164 non-null object\n",
      "link_ims_20x                  340 non-null object\n",
      "link_ims_63x                  164 non-null object\n",
      "dtypes: datetime64[ns](1), float64(3), object(8)\n",
      "memory usage: 32.0+ KB\n"
     ]
    }
   ],
   "source": [
    "final_all_df.info()"
   ]
  },
  {
   "cell_type": "code",
   "execution_count": 17,
   "metadata": {},
   "outputs": [
    {
     "name": "stdout",
     "output_type": "stream",
     "text": [
      "<class 'pandas.core.frame.DataFrame'>\n",
      "Int64Index: 307 entries, 0 to 339\n",
      "Data columns (total 12 columns):\n",
      "date                          307 non-null datetime64[ns]\n",
      "patch_container               307 non-null object\n",
      "patch_duration                307 non-null float64\n",
      "cell_depth                    307 non-null float64\n",
      "extraction.endPipetteR        307 non-null float64\n",
      "post_patch                    307 non-null object\n",
      "extraction.extractionNotes    277 non-null object\n",
      "ims63x_go_no_go               307 non-null object\n",
      "ims63x_imaging_started        169 non-null object\n",
      "image_series_63x_qc           160 non-null object\n",
      "link_ims_20x                  307 non-null object\n",
      "link_ims_63x                  160 non-null object\n",
      "dtypes: datetime64[ns](1), float64(3), object(8)\n",
      "memory usage: 31.2+ KB\n"
     ]
    }
   ],
   "source": [
    "final_nuc_df.info() "
   ]
  },
  {
   "cell_type": "code",
   "execution_count": 18,
   "metadata": {},
   "outputs": [
    {
     "data": {
      "text/plain": [
       "Nuc-high seal    307\n",
       "Nuc-low seal      19\n",
       "No-low seal        6\n",
       "No-high seal       5\n",
       "Entire cell        3\n",
       "Name: post_patch, dtype: int64"
      ]
     },
     "execution_count": 18,
     "metadata": {},
     "output_type": "execute_result"
    }
   ],
   "source": [
    "final_all_df['post_patch'].value_counts()"
   ]
  },
  {
   "cell_type": "code",
   "execution_count": 19,
   "metadata": {},
   "outputs": [
    {
     "data": {
      "text/plain": [
       "63x go       179\n",
       "63x no go    161\n",
       "Name: ims63x_go_no_go, dtype: int64"
      ]
     },
     "execution_count": 19,
     "metadata": {},
     "output_type": "execute_result"
    }
   ],
   "source": [
    "final_all_df['ims63x_go_no_go'].value_counts()"
   ]
  },
  {
   "cell_type": "markdown",
   "metadata": {},
   "source": [
    "# Plots"
   ]
  },
  {
   "cell_type": "code",
   "execution_count": 20,
   "metadata": {},
   "outputs": [],
   "source": [
    "#Constant and reused variables \n",
    "colors = ['#31a354', '#a1d99b', '#fc9272', '#de2d26', '#f7fcb9'] #For seaborn plots\n",
    "x_order = ['Nuc-high seal', 'Nuc-low seal', 'No-high seal', 'No-low seal', 'Entire cell']"
   ]
  },
  {
   "cell_type": "markdown",
   "metadata": {},
   "source": [
    "### Post_patch outcomes countplot"
   ]
  },
  {
   "cell_type": "code",
   "execution_count": 21,
   "metadata": {},
   "outputs": [
    {
     "data": {
      "image/png": "[encoded data removed]",
      "text/plain": [
       "<Figure size 720x504 with 1 Axes>"
      ]
     },
     "metadata": {},
     "output_type": "display_data"
    }
   ],
   "source": [
    "df1 = final_all_df.groupby(['post_patch']).size().reset_index(name = 'count')\n",
    "\n",
    "plt.subplots(figsize=(10,7)) #Has to be before the plot to work\n",
    "ax = sns.barplot(x = 'count', y = 'post_patch', order = x_order, palette = colors, saturation = 1, data = df1)\n",
    "ax.set(xlabel = 'Count', ylabel = 'Post Patch Outcomes')\n",
    "ax.set_title(\"Counts of Post Patch Outcomes\")\n",
    "\n",
    "for p in ax.patches: #Figure out how this loop works\n",
    "    value = p.get_width()\n",
    "    ax.text(value, p.get_y() + p.get_height()/2 + 0.1, '{:1.0f}'.format(value), ha = \"left\", fontsize = 12)\n",
    "\n",
    "# + 0.1 = chooses location of the value vertically"
   ]
  },
  {
   "cell_type": "code",
   "execution_count": 22,
   "metadata": {},
   "outputs": [
    {
     "data": {
      "text/html": [
       "<div>\n",
       "<style scoped>\n",
       "    .dataframe tbody tr th:only-of-type {\n",
       "        vertical-align: middle;\n",
       "    }\n",
       "\n",
       "    .dataframe tbody tr th {\n",
       "        vertical-align: top;\n",
       "    }\n",
       "\n",
       "    .dataframe thead th {\n",
       "        text-align: right;\n",
       "    }\n",
       "</style>\n",
       "<table border=\"1\" class=\"dataframe\">\n",
       "  <thead>\n",
       "    <tr style=\"text-align: right;\">\n",
       "      <th></th>\n",
       "      <th>post_patch</th>\n",
       "      <th>count</th>\n",
       "    </tr>\n",
       "  </thead>\n",
       "  <tbody>\n",
       "    <tr>\n",
       "      <th>0</th>\n",
       "      <td>Entire cell</td>\n",
       "      <td>3</td>\n",
       "    </tr>\n",
       "    <tr>\n",
       "      <th>1</th>\n",
       "      <td>No-high seal</td>\n",
       "      <td>5</td>\n",
       "    </tr>\n",
       "    <tr>\n",
       "      <th>2</th>\n",
       "      <td>No-low seal</td>\n",
       "      <td>6</td>\n",
       "    </tr>\n",
       "    <tr>\n",
       "      <th>3</th>\n",
       "      <td>Nuc-high seal</td>\n",
       "      <td>307</td>\n",
       "    </tr>\n",
       "    <tr>\n",
       "      <th>4</th>\n",
       "      <td>Nuc-low seal</td>\n",
       "      <td>19</td>\n",
       "    </tr>\n",
       "  </tbody>\n",
       "</table>\n",
       "</div>"
      ],
      "text/plain": [
       "      post_patch  count\n",
       "0    Entire cell      3\n",
       "1   No-high seal      5\n",
       "2    No-low seal      6\n",
       "3  Nuc-high seal    307\n",
       "4   Nuc-low seal     19"
      ]
     },
     "execution_count": 22,
     "metadata": {},
     "output_type": "execute_result"
    }
   ],
   "source": [
    "df1"
   ]
  },
  {
   "cell_type": "markdown",
   "metadata": {},
   "source": [
    "### Histogram plot of depth vs post_patch "
   ]
  },
  {
   "cell_type": "code",
   "execution_count": 23,
   "metadata": {},
   "outputs": [],
   "source": [
    "#Histogram plot dfs\n",
    "nuc_df = final_all_df[final_all_df['post_patch'] == 'Nuc-high seal']\n",
    "no_df = final_all_df[final_all_df['post_patch'] == 'No-low seal']\n",
    "ent_df = final_all_df[final_all_df['post_patch'] == 'Entire cell']\n",
    "\n",
    "def hist(df):\n",
    "    bins = np.arange(30, 75, 5) #Displays cell depth 30 to 70 um, split by 5 \n",
    "    ax = sns.distplot(df[\"cell_depth\"], bins=bins, kde=False, vertical=True, color='#31a354')\n",
    "    #kde = kernal density estimate line\n",
    "    ax.set(xlabel = 'Count of nucleated patch', ylabel = 'Cell Depth(um)')\n",
    "    ax.set_title(\"Counts of nucleated patches at cell depth\")"
   ]
  },
  {
   "cell_type": "code",
   "execution_count": 24,
   "metadata": {},
   "outputs": [
    {
     "name": "stderr",
     "output_type": "stream",
     "text": [
      "C:\\Users\\kumar\\AppData\\Local\\Continuum\\anaconda3\\lib\\site-packages\\matplotlib\\axes\\_axes.py:6462: UserWarning: The 'normed' kwarg is deprecated, and has been replaced by the 'density' kwarg.\n",
      "  warnings.warn(\"The 'normed' kwarg is deprecated, and has been \"\n"
     ]
    },
    {
     "data": {
      "image/png": "[encoded data removed]",
      "text/plain": [
       "<Figure size 432x288 with 1 Axes>"
      ]
     },
     "metadata": {},
     "output_type": "display_data"
    }
   ],
   "source": [
    "hist(nuc_df)"
   ]
  },
  {
   "cell_type": "code",
   "execution_count": 25,
   "metadata": {},
   "outputs": [
    {
     "name": "stderr",
     "output_type": "stream",
     "text": [
      "C:\\Users\\kumar\\AppData\\Local\\Continuum\\anaconda3\\lib\\site-packages\\matplotlib\\axes\\_axes.py:6462: UserWarning: The 'normed' kwarg is deprecated, and has been replaced by the 'density' kwarg.\n",
      "  warnings.warn(\"The 'normed' kwarg is deprecated, and has been \"\n"
     ]
    },
    {
     "data": {
      "image/png": "[encoded data removed]",
      "text/plain": [
       "<Figure size 432x288 with 1 Axes>"
      ]
     },
     "metadata": {},
     "output_type": "display_data"
    }
   ],
   "source": [
    "hist(no_df)"
   ]
  },
  {
   "cell_type": "code",
   "execution_count": 26,
   "metadata": {},
   "outputs": [
    {
     "name": "stderr",
     "output_type": "stream",
     "text": [
      "C:\\Users\\kumar\\AppData\\Local\\Continuum\\anaconda3\\lib\\site-packages\\matplotlib\\axes\\_axes.py:6462: UserWarning: The 'normed' kwarg is deprecated, and has been replaced by the 'density' kwarg.\n",
      "  warnings.warn(\"The 'normed' kwarg is deprecated, and has been \"\n"
     ]
    },
    {
     "data": {
      "image/png": "[encoded data removed]",
      "text/plain": [
       "<Figure size 432x288 with 1 Axes>"
      ]
     },
     "metadata": {},
     "output_type": "display_data"
    }
   ],
   "source": [
    "hist(ent_df)"
   ]
  },
  {
   "cell_type": "markdown",
   "metadata": {},
   "source": [
    "### Boxplot of patch duration vs morph calls by post patch outcomes"
   ]
  },
  {
   "cell_type": "code",
   "execution_count": 27,
   "metadata": {},
   "outputs": [
    {
     "data": {
      "text/plain": [
       "[Text(0,0.5,'Patch Duration (min)'), Text(0.5,0,'Post Patch Outcomes')]"
      ]
     },
     "execution_count": 27,
     "metadata": {},
     "output_type": "execute_result"
    },
    {
     "data": {
      "image/png": "[encoded data removed]",
      "text/plain": [
       "<Figure size 720x576 with 1 Axes>"
      ]
     },
     "metadata": {},
     "output_type": "display_data"
    }
   ],
   "source": [
    "plt.subplots(figsize=(10,8)) #Has to be before the plot to work\n",
    "\n",
    "bp = sns.boxplot(x = 'post_patch', y = 'patch_duration', hue = 'ims63x_go_no_go',\n",
    "                 order = ['Nuc-high seal', 'Nuc-low seal', 'No-high seal', 'No-low seal','Entire cell'],\n",
    "                 hue_order = ['63x go','63x no go'], data = final_all_df, palette = ['#74c476', '#de2d26'],\n",
    "                 saturation = 1, fliersize = 4)\n",
    "bp.legend(loc = 0, \n",
    "          #bbox_to_anchor = (0.95, 1), \n",
    "          frameon = True, \n",
    "          shadow = True,\n",
    "          fontsize = 13)\n",
    "bp.set(ylim=(1, 25))\n",
    "\n",
    "bp.set_title('Patch Duration vs. Morph Calls by Post Patch Outcomes')\n",
    "bp.set(xlabel = 'Post Patch Outcomes', ylabel = 'Patch Duration (min)')\n",
    "#plt.savefig('Boxplot_PD_vs_M_by_PP')"
   ]
  },
  {
   "cell_type": "markdown",
   "metadata": {},
   "source": [
    "# Extra methods to refer back"
   ]
  },
  {
   "cell_type": "markdown",
   "metadata": {},
   "source": [
    "def sort_df(final_df):\n",
    "    final_df = final_df.set_index('date') #Set date column as index column\n",
    "\n",
    "    #Production Date Start = '2017-10-01' \n",
    "    start_date = '2017-10-01'\n",
    "    final_df = final_df[start_date:] #Choosing start & end date    \n",
    "\n",
    "    final_df.rename(columns = {'ims63x_go_no_go' : 'morph'}, inplace = True)\n",
    "    final_df.drop(['extraction.tubeID', 'patched_cell_container'], axis=1, inplace=True)\n",
    "    final_df.dropna(subset = ['morph'], inplace = True)\n",
    "\n",
    "    #Categorical\n",
    "    final_df['morph'] = final_df['morph'].astype('category')\n",
    "\n",
    "    final_df.sort_index(inplace = True)     \n",
    "    return final_df"
   ]
  },
  {
   "cell_type": "code",
   "execution_count": 28,
   "metadata": {},
   "outputs": [],
   "source": [
    "#multi_df = merged_df.set_index(['ims63x_go_no_go', 'post_patch']) #Multi level index"
   ]
  },
  {
   "cell_type": "code",
   "execution_count": null,
   "metadata": {},
   "outputs": [],
   "source": []
  }
 ],
 "metadata": {
  "kernelspec": {
   "display_name": "Python 3",
   "language": "python",
   "name": "python3"
  },
  "language_info": {
   "codemirror_mode": {
    "name": "ipython",
    "version": 3
   },
   "file_extension": ".py",
   "mimetype": "text/x-python",
   "name": "python",
   "nbconvert_exporter": "python",
   "pygments_lexer": "ipython3",
   "version": "3.6.5"
  }
 },
 "nbformat": 4,
 "nbformat_minor": 2
}
