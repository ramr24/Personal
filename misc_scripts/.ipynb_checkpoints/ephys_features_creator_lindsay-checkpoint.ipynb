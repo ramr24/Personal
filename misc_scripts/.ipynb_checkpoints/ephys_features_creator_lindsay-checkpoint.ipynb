{
 "cells": [
  {
   "cell_type": "markdown",
   "metadata": {},
   "source": [
    "##### Imports"
   ]
  },
  {
   "cell_type": "code",
   "execution_count": 1,
   "metadata": {},
   "outputs": [],
   "source": [
    "import pandas as pd \n",
    "import pg8000\n",
    "from lims_funcs import get_lims_dataframe\n",
    "\n",
    "from allensdk.core.nwb_data_set import NwbDataSet\n",
    "import allensdk.ephys.ephys_features as aef\n",
    "import allensdk.ephys.extract_cell_features as ecf\n",
    "\n",
    "import warnings\n",
    "warnings.filterwarnings('ignore')"
   ]
  },
  {
   "cell_type": "markdown",
   "metadata": {},
   "source": [
    "##### SQL Query"
   ]
  },
  {
   "cell_type": "code",
   "execution_count": 2,
   "metadata": {},
   "outputs": [],
   "source": [
    "#c = raw_input('cell name 1: ')\n",
    "#d = raw_input('cell name 2: ')\n",
    "#AND cell.name = '{}'\n",
    "#AND cell.name = '{}' OR cell.name = '{}'\n",
    "#.format(c)"
   ]
  },
  {
   "cell_type": "code",
   "execution_count": 3,
   "metadata": {},
   "outputs": [
    {
     "data": {
      "text/plain": [
       "\"\\nSELECT cell.patched_cell_container, cell.name,\\ncell.id,\\nSUBSTRING(cell.patched_cell_container FROM 6 FOR 6) AS container_date,\\nef.*\\nFROM specimens cell \\nJOIN ephys_roi_results err ON cell.ephys_roi_result_id = err.id\\nJOIN projects proj ON cell.project_id = proj.id\\nLEFT JOIN ephys_features ef on ef.specimen_id = cell.id\\nWHERE SUBSTRING(cell.patched_cell_container FROM 6 FOR 6) BETWEEN '160101' AND '201231'\\nAND proj.code = 'hIVSCC-MET'\""
      ]
     },
     "execution_count": 3,
     "metadata": {},
     "output_type": "execute_result"
    }
   ],
   "source": [
    "q = \"\"\"\n",
    "SELECT cell.patched_cell_container, cell.name,\n",
    "cell.id,\n",
    "SUBSTRING(cell.patched_cell_container FROM 6 FOR 6) AS container_date,\n",
    "ef.*\n",
    "FROM specimens cell \n",
    "JOIN ephys_roi_results err ON cell.ephys_roi_result_id = err.id\n",
    "JOIN projects proj ON cell.project_id = proj.id\n",
    "LEFT JOIN ephys_features ef on ef.specimen_id = cell.id\n",
    "AND proj.code = 'mIVSCC-MET'\"\"\"\n",
    "\n",
    "df_2020 = get_lims_dataframe(q)\n",
    "\n",
    "\"\"\"\n",
    "SELECT cell.patched_cell_container, cell.name,\n",
    "cell.id,\n",
    "SUBSTRING(cell.patched_cell_container FROM 6 FOR 6) AS container_date,\n",
    "ef.*\n",
    "FROM specimens cell \n",
    "JOIN ephys_roi_results err ON cell.ephys_roi_result_id = err.id\n",
    "JOIN projects proj ON cell.project_id = proj.id\n",
    "LEFT JOIN ephys_features ef on ef.specimen_id = cell.id\n",
    "WHERE SUBSTRING(cell.patched_cell_container FROM 6 FOR 6) BETWEEN '160101' AND '201231'\n",
    "AND proj.code = 'hIVSCC-MET'\"\"\""
   ]
  },
  {
   "cell_type": "code",
   "execution_count": 6,
   "metadata": {},
   "outputs": [
    {
     "data": {
      "text/plain": [
       "b'patched_cell_container'                    15270\n",
       "b'name'                                      26913\n",
       "b'id'                                         8065\n",
       "b'container_date'                            15270\n",
       "b'specimen_id'                                8065\n",
       "b'rheobase_sweep_id'                          8065\n",
       "b'thumbnail_sweep_id'                         8065\n",
       "b'vrest'                                      8065\n",
       "b'ri'                                         8065\n",
       "b'sag'                                        8065\n",
       "b'vm_for_sag'                                 8065\n",
       "b'tau'                                        8061\n",
       "b'upstroke_downstroke_ratio_ramp'             7664\n",
       "b'upstroke_downstroke_ratio_short_square'     8064\n",
       "b'upstroke_downstroke_ratio_long_square'      8063\n",
       "b'peak_v_ramp'                                7664\n",
       "b'peak_t_ramp'                                7664\n",
       "b'peak_v_short_square'                        8065\n",
       "b'peak_t_short_square'                        8065\n",
       "b'peak_v_long_square'                         8065\n",
       "b'peak_t_long_square'                         8065\n",
       "b'trough_v_ramp'                              7664\n",
       "b'trough_t_ramp'                              7664\n",
       "b'trough_v_short_square'                      8064\n",
       "b'trough_t_short_square'                      8064\n",
       "b'trough_v_long_square'                       8063\n",
       "b'trough_t_long_square'                       8063\n",
       "b'fast_trough_v_ramp'                         7664\n",
       "b'fast_trough_t_ramp'                         7664\n",
       "b'fast_trough_v_short_square'                 8037\n",
       "b'fast_trough_t_short_square'                 8037\n",
       "b'fast_trough_v_long_square'                  8062\n",
       "b'fast_trough_t_long_square'                  8062\n",
       "b'slow_trough_v_ramp'                         4835\n",
       "b'slow_trough_t_ramp'                         4835\n",
       "b'slow_trough_v_short_square'                  295\n",
       "b'slow_trough_t_short_square'                  295\n",
       "b'slow_trough_v_long_square'                  1813\n",
       "b'slow_trough_t_long_square'                  1813\n",
       "b'threshold_v_ramp'                           7664\n",
       "b'threshold_v_short_square'                   8065\n",
       "b'threshold_v_long_square'                    8065\n",
       "b'threshold_i_ramp'                           7664\n",
       "b'threshold_i_short_square'                   8065\n",
       "b'threshold_i_long_square'                    8065\n",
       "b'threshold_t_ramp'                           7664\n",
       "b'threshold_t_short_square'                   8065\n",
       "b'threshold_t_long_square'                    8065\n",
       "b'adaptation'                                 7372\n",
       "b'latency'                                    8065\n",
       "b'avg_isi'                                    7785\n",
       "b'f_i_curve_slope'                            8065\n",
       "b'has_burst'                                    19\n",
       "b'has_pause'                                    19\n",
       "b'has_delay'                                    19\n",
       "b'created_at'                                 8065\n",
       "b'updated_at'                                 8065\n",
       "dtype: int64"
      ]
     },
     "execution_count": 6,
     "metadata": {},
     "output_type": "execute_result"
    }
   ],
   "source": [
    "df_2020.count()"
   ]
  },
  {
   "cell_type": "markdown",
   "metadata": {},
   "source": [
    "##### Writing to csv_file"
   ]
  },
  {
   "cell_type": "code",
   "execution_count": 7,
   "metadata": {},
   "outputs": [],
   "source": [
    "csv_path = \"C:/Users/ramr/Documents/Github/analysis_projects/csv/\"\n",
    "df_2020.to_csv(csv_path + \"hephys_features.csv\", index=False)"
   ]
  },
  {
   "cell_type": "markdown",
   "metadata": {},
   "source": [
    "##### Unnecessary imports"
   ]
  },
  {
   "cell_type": "code",
   "execution_count": 8,
   "metadata": {},
   "outputs": [
    {
     "data": {
      "text/plain": [
       "'\\n#import os, re\\n#import numpy as np\\n#import matplotlib.pyplot as plt\\n#from matplotlib import pyplot as plt\\n#import seaborn as sns\\n#from mpl_toolkits import mplot3d\\n#from research_ops_tools.lims2_funcs import get_lims_dataframe\\n#from allensdk.internal.core.lims_utilities import linux_to_windows\\n\\n#sns.set()\\n'"
      ]
     },
     "execution_count": 8,
     "metadata": {},
     "output_type": "execute_result"
    }
   ],
   "source": [
    "\"\"\"\n",
    "#import os, re\n",
    "#import numpy as np\n",
    "#import matplotlib.pyplot as plt\n",
    "#from matplotlib import pyplot as plt\n",
    "#import seaborn as sns\n",
    "#from mpl_toolkits import mplot3d\n",
    "#from research_ops_tools.lims2_funcs import get_lims_dataframe\n",
    "#from allensdk.internal.core.lims_utilities import linux_to_windows\n",
    "\n",
    "#sns.set()\n",
    "\"\"\""
   ]
  },
  {
   "cell_type": "code",
   "execution_count": null,
   "metadata": {},
   "outputs": [],
   "source": []
  },
  {
   "cell_type": "code",
   "execution_count": null,
   "metadata": {},
   "outputs": [],
   "source": []
  }
 ],
 "metadata": {
  "kernelspec": {
   "display_name": "Python 3",
   "language": "python",
   "name": "python3"
  },
  "language_info": {
   "codemirror_mode": {
    "name": "ipython",
    "version": 3
   },
   "file_extension": ".py",
   "mimetype": "text/x-python",
   "name": "python",
   "nbconvert_exporter": "python",
   "pygments_lexer": "ipython3",
   "version": "3.7.4"
  }
 },
 "nbformat": 4,
 "nbformat_minor": 2
}
