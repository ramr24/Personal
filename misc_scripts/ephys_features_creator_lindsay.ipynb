{
 "cells": [
  {
   "cell_type": "markdown",
   "metadata": {},
   "source": [
    "##### Imports"
   ]
  },
  {
   "cell_type": "code",
   "execution_count": 1,
   "metadata": {},
   "outputs": [
    {
     "ename": "ModuleNotFoundError",
     "evalue": "No module named 'pg8000'",
     "output_type": "error",
     "traceback": [
      "\u001b[1;31m---------------------------------------------------------------------------\u001b[0m",
      "\u001b[1;31mModuleNotFoundError\u001b[0m                       Traceback (most recent call last)",
      "\u001b[1;32m<ipython-input-1-25f570bd64cc>\u001b[0m in \u001b[0;36m<module>\u001b[1;34m()\u001b[0m\n\u001b[0;32m      1\u001b[0m \u001b[1;32mimport\u001b[0m \u001b[0mpandas\u001b[0m \u001b[1;32mas\u001b[0m \u001b[0mpd\u001b[0m\u001b[1;33m\u001b[0m\u001b[0m\n\u001b[1;32m----> 2\u001b[1;33m \u001b[1;32mimport\u001b[0m \u001b[0mpg8000\u001b[0m\u001b[1;33m\u001b[0m\u001b[0m\n\u001b[0m\u001b[0;32m      3\u001b[0m \u001b[1;32mfrom\u001b[0m \u001b[0mlims_funcs\u001b[0m \u001b[1;32mimport\u001b[0m \u001b[0mget_lims_dataframe\u001b[0m\u001b[1;33m\u001b[0m\u001b[0m\n\u001b[0;32m      4\u001b[0m \u001b[1;33m\u001b[0m\u001b[0m\n\u001b[0;32m      5\u001b[0m \u001b[1;32mfrom\u001b[0m \u001b[0mallensdk\u001b[0m\u001b[1;33m.\u001b[0m\u001b[0mcore\u001b[0m\u001b[1;33m.\u001b[0m\u001b[0mnwb_data_set\u001b[0m \u001b[1;32mimport\u001b[0m \u001b[0mNwbDataSet\u001b[0m\u001b[1;33m\u001b[0m\u001b[0m\n",
      "\u001b[1;31mModuleNotFoundError\u001b[0m: No module named 'pg8000'"
     ]
    }
   ],
   "source": [
    "import pandas as pd \n",
    "import pg8000\n",
    "from lims_funcs import get_lims_dataframe\n",
    "\n",
    "from allensdk.core.nwb_data_set import NwbDataSet\n",
    "import allensdk.ephys.ephys_features as aef\n",
    "import allensdk.ephys.extract_cell_features as ecf\n",
    "\n",
    "import warnings\n",
    "warnings.filterwarnings('ignore')"
   ]
  },
  {
   "cell_type": "markdown",
   "metadata": {},
   "source": [
    "##### SQL Query"
   ]
  },
  {
   "cell_type": "code",
   "execution_count": null,
   "metadata": {},
   "outputs": [],
   "source": [
    "#c = raw_input('cell name 1: ')\n",
    "#d = raw_input('cell name 2: ')\n",
    "#AND cell.name = '{}'\n",
    "#AND cell.name = '{}' OR cell.name = '{}'\n",
    "#.format(c)"
   ]
  },
  {
   "cell_type": "code",
   "execution_count": null,
   "metadata": {},
   "outputs": [],
   "source": [
    "q = \"\"\"\n",
    "SELECT cell.patched_cell_container, cell.name,\n",
    "cell.id,\n",
    "SUBSTRING(cell.patched_cell_container FROM 6 FOR 6) AS container_date,\n",
    "ef.*\n",
    "FROM specimens cell \n",
    "JOIN ephys_roi_results err ON cell.ephys_roi_result_id = err.id\n",
    "JOIN projects proj ON cell.project_id = proj.id\n",
    "LEFT JOIN ephys_features ef on ef.specimen_id = cell.id\n",
    "AND proj.code = 'mIVSCC-MET'\"\"\"\n",
    "\n",
    "df_2020 = get_lims_dataframe(q)\n",
    "\n",
    "\"\"\"\n",
    "SELECT cell.patched_cell_container, cell.name,\n",
    "cell.id,\n",
    "SUBSTRING(cell.patched_cell_container FROM 6 FOR 6) AS container_date,\n",
    "ef.*\n",
    "FROM specimens cell \n",
    "JOIN ephys_roi_results err ON cell.ephys_roi_result_id = err.id\n",
    "JOIN projects proj ON cell.project_id = proj.id\n",
    "LEFT JOIN ephys_features ef on ef.specimen_id = cell.id\n",
    "WHERE SUBSTRING(cell.patched_cell_container FROM 6 FOR 6) BETWEEN '160101' AND '201231'\n",
    "AND proj.code = 'mIVSCC-MET'\"\"\""
   ]
  },
  {
   "cell_type": "code",
   "execution_count": null,
   "metadata": {},
   "outputs": [],
   "source": [
    "df_2020.count()"
   ]
  },
  {
   "cell_type": "markdown",
   "metadata": {},
   "source": [
    "##### Writing to csv_file"
   ]
  },
  {
   "cell_type": "code",
   "execution_count": null,
   "metadata": {},
   "outputs": [],
   "source": [
    "csv_path = \"C:/Users/ramr/Documents/Github/analysis_projects/csv/\"\n",
    "df_2020.to_csv(csv_path + \"mephys_features.csv\", index=False)"
   ]
  },
  {
   "cell_type": "markdown",
   "metadata": {},
   "source": [
    "##### Unnecessary imports"
   ]
  },
  {
   "cell_type": "code",
   "execution_count": null,
   "metadata": {},
   "outputs": [],
   "source": [
    "\"\"\"\n",
    "#import os, re\n",
    "#import numpy as np\n",
    "#import matplotlib.pyplot as plt\n",
    "#from matplotlib import pyplot as plt\n",
    "#import seaborn as sns\n",
    "#from mpl_toolkits import mplot3d\n",
    "#from research_ops_tools.lims2_funcs import get_lims_dataframe\n",
    "#from allensdk.internal.core.lims_utilities import linux_to_windows\n",
    "\n",
    "#sns.set()\n",
    "\"\"\""
   ]
  },
  {
   "cell_type": "code",
   "execution_count": null,
   "metadata": {},
   "outputs": [],
   "source": []
  },
  {
   "cell_type": "code",
   "execution_count": null,
   "metadata": {},
   "outputs": [],
   "source": []
  }
 ],
 "metadata": {
  "kernelspec": {
   "display_name": "Python 3",
   "language": "python",
   "name": "python3"
  },
  "language_info": {
   "codemirror_mode": {
    "name": "ipython",
    "version": 3
   },
   "file_extension": ".py",
   "mimetype": "text/x-python",
   "name": "python",
   "nbconvert_exporter": "python",
   "pygments_lexer": "ipython3",
   "version": "3.6.5"
  }
 },
 "nbformat": 4,
 "nbformat_minor": 2
}
