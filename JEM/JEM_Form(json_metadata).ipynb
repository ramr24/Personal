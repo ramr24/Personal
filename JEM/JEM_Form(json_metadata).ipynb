{
 "cells": [
  {
   "cell_type": "markdown",
   "metadata": {},
   "source": [
    "# JEM Forms(json_metadata.csv: mouse & human data)"
   ]
  },
  {
   "cell_type": "markdown",
   "metadata": {},
   "source": [
    "### Data Output: Date, Layer, Cell Type Prediction (Human), Patch Duration(min), post_patch"
   ]
  },
  {
   "cell_type": "code",
   "execution_count": 1,
   "metadata": {},
   "outputs": [],
   "source": [
    "#json_metadata.csv created on 6/14/2018\n",
    "#shiny_mouse.csv created on 6/07/2018, updated on 6/06/2018\n",
    "#shiny_human.csv created on 6/07/2018, updated on 6/06/2018"
   ]
  },
  {
   "cell_type": "code",
   "execution_count": 2,
   "metadata": {},
   "outputs": [],
   "source": [
    "import csv\n",
    "import json\n",
    "import numpy as np\n",
    "import pandas as pd\n",
    "from datetime import datetime\n",
    "\n",
    "import seaborn as sns\n",
    "import matplotlib.pyplot as plt\n",
    "%matplotlib inline\n",
    "\n",
    "import JEM_post_patch as pp #post patch script\n",
    "#post_patch_column = 'extraction.postPatch'\n",
    "#post_patch_pipette_column = 'extraction.endPipetteR'"
   ]
  },
  {
   "cell_type": "code",
   "execution_count": 3,
   "metadata": {},
   "outputs": [],
   "source": [
    "pd.options.display.max_columns = None  #Displays all the columns"
   ]
  },
  {
   "cell_type": "code",
   "execution_count": 4,
   "metadata": {},
   "outputs": [],
   "source": [
    "def get_json_df():    \n",
    "    json_df = pd.read_csv('C:/users/ramr/documents/github/coding/personal-projects/csv/json_metadata.csv')\n",
    "    json_df = json_df[json_df['status'] == 'SUCCESS']\n",
    "\n",
    "    #Creates patch_duration column and outputs in minutes\n",
    "    json_df['patch_duration'] = pd.to_datetime(json_df['extraction.timeRetractionEnd']) - pd.to_datetime(json_df['recording.timeWholeCellStart'])\n",
    "    json_df['patch_duration'] = (json_df['patch_duration'].astype('timedelta64[s]'))/60\n",
    "\n",
    "    json_df['date'] = json_df['date'].str[:10] #Strip away the time\n",
    "    json_df['date'] = pd.to_datetime(json_df['date']) #Converting to YYYY-MM-DD\n",
    "    json_df.set_index('date', inplace = True)\n",
    "\n",
    "    json_df = pp.postpatch_reclass(json_df) #Makes post patch column with the script\n",
    "    json_df.sort_index(inplace = True) #Sort the date column just in case\n",
    "\n",
    "    #ROI major and minor better to use than approach.manualROI\n",
    "    json_df = json_df[[#'organism_name', #Optional\n",
    "                       #'name', #Optional\n",
    "                       #'approach.manualRoi',\n",
    "                       'roi_major',\n",
    "                       'roi_minor',\n",
    "                       'recording.humanCellTypePrediction',\n",
    "                       'patch_duration',\n",
    "                       'post_patch',\n",
    "                       'extraction.tubeID']]\n",
    "    #Human data starts around 12/05/17 but there should be some before it(Another problem?)\n",
    "    return json_df"
   ]
  },
  {
   "cell_type": "code",
   "execution_count": 5,
   "metadata": {},
   "outputs": [],
   "source": [
    "def get_shiny_df():\n",
    "    shiny_human_df = pd.read_csv(\"C:/users/ramr/documents/github/coding/personal-projects/csv/shiny_human.csv\")\n",
    "    shiny_mouse_df = pd.read_csv(\"C:/users/ramr/documents/github/coding/personal-projects/csv/shiny_mouse.csv\")\n",
    "    \n",
    "    frames = (shiny_human_df, shiny_mouse_df)\n",
    "    shiny_df = pd.concat(frames)\n",
    "    shiny_df = shiny_df.loc[:,['sample_id', 'res_index_label', 'cluster_label']]\n",
    "    return shiny_df"
   ]
  },
  {
   "cell_type": "code",
   "execution_count": 6,
   "metadata": {},
   "outputs": [],
   "source": [
    "def merge_dfs(df1, df2):\n",
    "    merged_df = pd.merge(left = df1, \n",
    "                         right = df2, \n",
    "                         left_on = 'extraction.tubeID', #json\n",
    "                         right_on = 'sample_id', #shiny\n",
    "                         how = 'inner')\n",
    "    merged_df.drop(['sample_id'], axis = 1, inplace = True)\n",
    "    return merged_df"
   ]
  },
  {
   "cell_type": "code",
   "execution_count": 7,
   "metadata": {},
   "outputs": [],
   "source": [
    "def pie_plot(df):\n",
    "    plt.figure(3)\n",
    "    df1 = df.loc[:,['post_patch', 'extraction.tubeID']]\n",
    "    df1 = df1.groupby('post_patch').count()\n",
    "    df1 = df1.rename(columns = {'extraction.tubeID' : 'count'})\n",
    "    df1 = df1.pivot_table(values=['count'], index=['post_patch'], aggfunc='sum')\n",
    "    df1.plot.pie(y= 'count', autopct='%1.1f%%', figsize = (9,8), \n",
    "                 colors = ['#f7fcb9', '#fc9272', '#de2d26', '#31a354', '#a1d99b']) \n",
    "    #Entire(Yellow), No_high(Light Red), No_low(Red), Nuc_high(Green), Nuc_low(Light Green)\n",
    "    \n",
    "    #df['post_patch'].value_counts().plot(kind = 'pie', autopct='%1.1f%%', figsize = (9,9))"
   ]
  },
  {
   "cell_type": "code",
   "execution_count": 8,
   "metadata": {},
   "outputs": [
    {
     "name": "stderr",
     "output_type": "stream",
     "text": [
      "C:\\Users\\ramr\\AppData\\Local\\Continuum\\anaconda2\\lib\\site-packages\\pandas\\core\\indexing.py:357: SettingWithCopyWarning: \n",
      "A value is trying to be set on a copy of a slice from a DataFrame.\n",
      "Try using .loc[row_indexer,col_indexer] = value instead\n",
      "\n",
      "See the caveats in the documentation: http://pandas.pydata.org/pandas-docs/stable/indexing.html#indexing-view-versus-copy\n",
      "  self.obj[key] = _infer_fill_value(value)\n",
      "C:\\Users\\ramr\\AppData\\Local\\Continuum\\anaconda2\\lib\\site-packages\\pandas\\core\\indexing.py:537: SettingWithCopyWarning: \n",
      "A value is trying to be set on a copy of a slice from a DataFrame.\n",
      "Try using .loc[row_indexer,col_indexer] = value instead\n",
      "\n",
      "See the caveats in the documentation: http://pandas.pydata.org/pandas-docs/stable/indexing.html#indexing-view-versus-copy\n",
      "  self.obj[item] = s\n",
      "C:\\Users\\ramr\\AppData\\Local\\Continuum\\anaconda2\\lib\\site-packages\\IPython\\core\\interactiveshell.py:2822: DtypeWarning: Columns (11) have mixed types. Specify dtype option on import or set low_memory=False.\n",
      "  if self.run_code(code, result):\n"
     ]
    }
   ],
   "source": [
    "#Making global variables\n",
    "json_df = get_json_df()\n",
    "shiny_df = get_shiny_df()\n",
    "merged_df = merge_dfs(json_df, shiny_df)"
   ]
  },
  {
   "cell_type": "code",
   "execution_count": 9,
   "metadata": {},
   "outputs": [
    {
     "data": {
      "text/html": [
       "<div>\n",
       "<style scoped>\n",
       "    .dataframe tbody tr th:only-of-type {\n",
       "        vertical-align: middle;\n",
       "    }\n",
       "\n",
       "    .dataframe tbody tr th {\n",
       "        vertical-align: top;\n",
       "    }\n",
       "\n",
       "    .dataframe thead th {\n",
       "        text-align: right;\n",
       "    }\n",
       "</style>\n",
       "<table border=\"1\" class=\"dataframe\">\n",
       "  <thead>\n",
       "    <tr style=\"text-align: right;\">\n",
       "      <th></th>\n",
       "      <th>roi_major</th>\n",
       "      <th>roi_minor</th>\n",
       "      <th>recording.humanCellTypePrediction</th>\n",
       "      <th>patch_duration</th>\n",
       "      <th>post_patch</th>\n",
       "      <th>extraction.tubeID</th>\n",
       "      <th>res_index_label</th>\n",
       "      <th>cluster_label</th>\n",
       "    </tr>\n",
       "  </thead>\n",
       "  <tbody>\n",
       "    <tr>\n",
       "      <th>0</th>\n",
       "      <td>VISp</td>\n",
       "      <td>layer 5</td>\n",
       "      <td>NaN</td>\n",
       "      <td>9.483333</td>\n",
       "      <td>Nuc-high seal</td>\n",
       "      <td>P8S4_171002_354_A01</td>\n",
       "      <td>1.000000</td>\n",
       "      <td>Vip Lmo1 Fam159b</td>\n",
       "    </tr>\n",
       "    <tr>\n",
       "      <th>1</th>\n",
       "      <td>VISp</td>\n",
       "      <td>layer 2/3</td>\n",
       "      <td>NaN</td>\n",
       "      <td>6.416667</td>\n",
       "      <td>No-high seal</td>\n",
       "      <td>P9S4_171002_403_A01</td>\n",
       "      <td>0.291080</td>\n",
       "      <td>n4</td>\n",
       "    </tr>\n",
       "    <tr>\n",
       "      <th>2</th>\n",
       "      <td>VISp</td>\n",
       "      <td>layer 2/3</td>\n",
       "      <td>NaN</td>\n",
       "      <td>5.416667</td>\n",
       "      <td>No-low seal</td>\n",
       "      <td>P9S4_171002_405_A01</td>\n",
       "      <td>0.000000</td>\n",
       "      <td>n3</td>\n",
       "    </tr>\n",
       "    <tr>\n",
       "      <th>3</th>\n",
       "      <td>VISp</td>\n",
       "      <td>layer 6a</td>\n",
       "      <td>NaN</td>\n",
       "      <td>7.616667</td>\n",
       "      <td>No-low seal</td>\n",
       "      <td>P9S4_171002_406_A01</td>\n",
       "      <td>0.291080</td>\n",
       "      <td>n4</td>\n",
       "    </tr>\n",
       "    <tr>\n",
       "      <th>4</th>\n",
       "      <td>VISp</td>\n",
       "      <td>layer 5</td>\n",
       "      <td>NaN</td>\n",
       "      <td>13.766667</td>\n",
       "      <td>No-low seal</td>\n",
       "      <td>P8S4_171002_357_A01</td>\n",
       "      <td>0.580975</td>\n",
       "      <td>n89</td>\n",
       "    </tr>\n",
       "  </tbody>\n",
       "</table>\n",
       "</div>"
      ],
      "text/plain": [
       "  roi_major  roi_minor recording.humanCellTypePrediction  patch_duration  \\\n",
       "0      VISp    layer 5                               NaN        9.483333   \n",
       "1      VISp  layer 2/3                               NaN        6.416667   \n",
       "2      VISp  layer 2/3                               NaN        5.416667   \n",
       "3      VISp   layer 6a                               NaN        7.616667   \n",
       "4      VISp    layer 5                               NaN       13.766667   \n",
       "\n",
       "      post_patch    extraction.tubeID  res_index_label     cluster_label  \n",
       "0  Nuc-high seal  P8S4_171002_354_A01         1.000000  Vip Lmo1 Fam159b  \n",
       "1   No-high seal  P9S4_171002_403_A01         0.291080                n4  \n",
       "2    No-low seal  P9S4_171002_405_A01         0.000000                n3  \n",
       "3    No-low seal  P9S4_171002_406_A01         0.291080                n4  \n",
       "4    No-low seal  P8S4_171002_357_A01         0.580975               n89  "
      ]
     },
     "execution_count": 9,
     "metadata": {},
     "output_type": "execute_result"
    }
   ],
   "source": [
    "merged_df.head()"
   ]
  },
  {
   "cell_type": "code",
   "execution_count": 10,
   "metadata": {},
   "outputs": [
    {
     "data": {
      "text/html": [
       "<div>\n",
       "<style scoped>\n",
       "    .dataframe tbody tr th:only-of-type {\n",
       "        vertical-align: middle;\n",
       "    }\n",
       "\n",
       "    .dataframe tbody tr th {\n",
       "        vertical-align: top;\n",
       "    }\n",
       "\n",
       "    .dataframe thead th {\n",
       "        text-align: right;\n",
       "    }\n",
       "</style>\n",
       "<table border=\"1\" class=\"dataframe\">\n",
       "  <thead>\n",
       "    <tr style=\"text-align: right;\">\n",
       "      <th></th>\n",
       "      <th>roi_major</th>\n",
       "      <th>roi_minor</th>\n",
       "      <th>recording.humanCellTypePrediction</th>\n",
       "      <th>patch_duration</th>\n",
       "      <th>post_patch</th>\n",
       "      <th>extraction.tubeID</th>\n",
       "      <th>res_index_label</th>\n",
       "      <th>cluster_label</th>\n",
       "    </tr>\n",
       "  </thead>\n",
       "  <tbody>\n",
       "    <tr>\n",
       "      <th>3040</th>\n",
       "      <td>VISp</td>\n",
       "      <td>layer 5</td>\n",
       "      <td>NaN</td>\n",
       "      <td>9.650000</td>\n",
       "      <td>Nuc-high seal</td>\n",
       "      <td>P8S4_180605_352_A01</td>\n",
       "      <td>1.0000</td>\n",
       "      <td>Sst Hpse Cbln4</td>\n",
       "    </tr>\n",
       "    <tr>\n",
       "      <th>3041</th>\n",
       "      <td>VISp</td>\n",
       "      <td>layer 2/3</td>\n",
       "      <td>NaN</td>\n",
       "      <td>10.650000</td>\n",
       "      <td>Nuc-high seal</td>\n",
       "      <td>P8S4_180605_353_A01</td>\n",
       "      <td>0.8441</td>\n",
       "      <td>n108</td>\n",
       "    </tr>\n",
       "    <tr>\n",
       "      <th>3042</th>\n",
       "      <td>VISp</td>\n",
       "      <td>layer 6a</td>\n",
       "      <td>NaN</td>\n",
       "      <td>7.000000</td>\n",
       "      <td>Nuc-high seal</td>\n",
       "      <td>P9S4_180605_404_A01</td>\n",
       "      <td>1.0000</td>\n",
       "      <td>Sst Rxfp1 Prdm8</td>\n",
       "    </tr>\n",
       "    <tr>\n",
       "      <th>3043</th>\n",
       "      <td>VISp</td>\n",
       "      <td>layer 5</td>\n",
       "      <td>NaN</td>\n",
       "      <td>9.816667</td>\n",
       "      <td>Nuc-high seal</td>\n",
       "      <td>P8S4_180605_354_A01</td>\n",
       "      <td>1.0000</td>\n",
       "      <td>Sst Nr2f2 Necab1</td>\n",
       "    </tr>\n",
       "    <tr>\n",
       "      <th>3044</th>\n",
       "      <td>VISp</td>\n",
       "      <td>layer 2/3</td>\n",
       "      <td>NaN</td>\n",
       "      <td>7.966667</td>\n",
       "      <td>Nuc-high seal</td>\n",
       "      <td>P8S4_180605_355_A01</td>\n",
       "      <td>1.0000</td>\n",
       "      <td>L2/3 IT VISp Agmat</td>\n",
       "    </tr>\n",
       "  </tbody>\n",
       "</table>\n",
       "</div>"
      ],
      "text/plain": [
       "     roi_major  roi_minor recording.humanCellTypePrediction  patch_duration  \\\n",
       "3040      VISp    layer 5                               NaN        9.650000   \n",
       "3041      VISp  layer 2/3                               NaN       10.650000   \n",
       "3042      VISp   layer 6a                               NaN        7.000000   \n",
       "3043      VISp    layer 5                               NaN        9.816667   \n",
       "3044      VISp  layer 2/3                               NaN        7.966667   \n",
       "\n",
       "         post_patch    extraction.tubeID  res_index_label       cluster_label  \n",
       "3040  Nuc-high seal  P8S4_180605_352_A01           1.0000      Sst Hpse Cbln4  \n",
       "3041  Nuc-high seal  P8S4_180605_353_A01           0.8441                n108  \n",
       "3042  Nuc-high seal  P9S4_180605_404_A01           1.0000     Sst Rxfp1 Prdm8  \n",
       "3043  Nuc-high seal  P8S4_180605_354_A01           1.0000    Sst Nr2f2 Necab1  \n",
       "3044  Nuc-high seal  P8S4_180605_355_A01           1.0000  L2/3 IT VISp Agmat  "
      ]
     },
     "execution_count": 10,
     "metadata": {},
     "output_type": "execute_result"
    }
   ],
   "source": [
    "merged_df.tail()"
   ]
  },
  {
   "cell_type": "code",
   "execution_count": 11,
   "metadata": {},
   "outputs": [
    {
     "data": {
      "text/plain": [
       "<matplotlib.figure.Figure at 0x1d9e8ac8>"
      ]
     },
     "metadata": {},
     "output_type": "display_data"
    },
    {
     "data": {
      "image/png": "[encoded data removed]",
      "text/plain": [
       "<matplotlib.figure.Figure at 0x1d9e82e8>"
      ]
     },
     "metadata": {},
     "output_type": "display_data"
    }
   ],
   "source": [
    "pie_plot(merged_df)"
   ]
  },
  {
   "cell_type": "code",
   "execution_count": null,
   "metadata": {},
   "outputs": [],
   "source": []
  },
  {
   "cell_type": "code",
   "execution_count": null,
   "metadata": {},
   "outputs": [],
   "source": []
  }
 ],
 "metadata": {
  "kernelspec": {
   "display_name": "Python 2",
   "language": "python",
   "name": "python2"
  },
  "language_info": {
   "codemirror_mode": {
    "name": "ipython",
    "version": 2
   },
   "file_extension": ".py",
   "mimetype": "text/x-python",
   "name": "python",
   "nbconvert_exporter": "python",
   "pygments_lexer": "ipython2",
   "version": "2.7.14"
  }
 },
 "nbformat": 4,
 "nbformat_minor": 2
}
