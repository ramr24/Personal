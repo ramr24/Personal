{
 "cells": [
  {
   "cell_type": "markdown",
   "metadata": {},
   "source": [
    "# Analysis Project: Picogreen Ratio >400/Total vs. User"
   ]
  },
  {
   "cell_type": "code",
   "execution_count": 1,
   "metadata": {
    "collapsed": true
   },
   "outputs": [],
   "source": [
    "#Import necessary functions\n",
    "import csv\n",
    "import pandas as pd\n",
    "import numpy as np\n",
    "import seaborn as sns\n",
    "import matplotlib.pyplot as plt\n",
    "from datetime import datetime\n",
    "%matplotlib inline"
   ]
  },
  {
   "cell_type": "code",
   "execution_count": 2,
   "metadata": {
    "collapsed": true
   },
   "outputs": [],
   "source": [
    "#ps = patch_seq csv file\n",
    "ps = pd.read_csv(\"patch_seq_log_mouse.csv\")"
   ]
  },
  {
   "cell_type": "code",
   "execution_count": 3,
   "metadata": {},
   "outputs": [
    {
     "data": {
      "text/html": [
       "<div>\n",
       "<style>\n",
       "    .dataframe thead tr:only-child th {\n",
       "        text-align: right;\n",
       "    }\n",
       "\n",
       "    .dataframe thead th {\n",
       "        text-align: left;\n",
       "    }\n",
       "\n",
       "    .dataframe tbody tr th {\n",
       "        vertical-align: top;\n",
       "    }\n",
       "</style>\n",
       "<table border=\"1\" class=\"dataframe\">\n",
       "  <thead>\n",
       "    <tr style=\"text-align: right;\">\n",
       "      <th></th>\n",
       "      <th>Date</th>\n",
       "      <th>User</th>\n",
       "      <th>Rig #</th>\n",
       "      <th>Ratio &gt;400/total</th>\n",
       "      <th>PCR cycles</th>\n",
       "      <th>SM_QC_PF</th>\n",
       "      <th>Bad dates</th>\n",
       "    </tr>\n",
       "  </thead>\n",
       "  <tbody>\n",
       "    <tr>\n",
       "      <th>0</th>\n",
       "      <td>170104</td>\n",
       "      <td>P1</td>\n",
       "      <td>5</td>\n",
       "      <td>0.45</td>\n",
       "      <td>18.0</td>\n",
       "      <td>pass</td>\n",
       "      <td>x</td>\n",
       "    </tr>\n",
       "    <tr>\n",
       "      <th>1</th>\n",
       "      <td>170104</td>\n",
       "      <td>P1</td>\n",
       "      <td>5</td>\n",
       "      <td>0.9</td>\n",
       "      <td>18.0</td>\n",
       "      <td>pass</td>\n",
       "      <td>x</td>\n",
       "    </tr>\n",
       "    <tr>\n",
       "      <th>2</th>\n",
       "      <td>170104</td>\n",
       "      <td>P1</td>\n",
       "      <td>5</td>\n",
       "      <td>0.78</td>\n",
       "      <td>18.0</td>\n",
       "      <td>pass</td>\n",
       "      <td>x</td>\n",
       "    </tr>\n",
       "    <tr>\n",
       "      <th>3</th>\n",
       "      <td>170104</td>\n",
       "      <td>P1</td>\n",
       "      <td>5</td>\n",
       "      <td>0.68</td>\n",
       "      <td>18.0</td>\n",
       "      <td>pass</td>\n",
       "      <td>x</td>\n",
       "    </tr>\n",
       "    <tr>\n",
       "      <th>4</th>\n",
       "      <td>170104</td>\n",
       "      <td>P1</td>\n",
       "      <td>5</td>\n",
       "      <td>0.7</td>\n",
       "      <td>18.0</td>\n",
       "      <td>pass</td>\n",
       "      <td>x</td>\n",
       "    </tr>\n",
       "  </tbody>\n",
       "</table>\n",
       "</div>"
      ],
      "text/plain": [
       "     Date User Rig # Ratio >400/total  PCR cycles SM_QC_PF Bad dates\n",
       "0  170104   P1     5             0.45        18.0     pass         x\n",
       "1  170104   P1     5              0.9        18.0     pass         x\n",
       "2  170104   P1     5             0.78        18.0     pass         x\n",
       "3  170104   P1     5             0.68        18.0     pass         x\n",
       "4  170104   P1     5              0.7        18.0     pass         x"
      ]
     },
     "execution_count": 3,
     "metadata": {},
     "output_type": "execute_result"
    }
   ],
   "source": [
    "#list_initial = list with specific columns used from csv file\n",
    "list_initial = [\"Date\", \"User\", \"Rig #\", \"Ratio >400/total\", \"PCR cycles\", \"SM_QC_PF\", \"Bad dates\"]\n",
    "ps = ps[list_initial]\n",
    "ps.head()"
   ]
  },
  {
   "cell_type": "markdown",
   "metadata": {},
   "source": [
    "### Categorizing & Filtering the columns"
   ]
  },
  {
   "cell_type": "code",
   "execution_count": 4,
   "metadata": {},
   "outputs": [
    {
     "data": {
      "text/html": [
       "<div>\n",
       "<style>\n",
       "    .dataframe thead tr:only-child th {\n",
       "        text-align: right;\n",
       "    }\n",
       "\n",
       "    .dataframe thead th {\n",
       "        text-align: left;\n",
       "    }\n",
       "\n",
       "    .dataframe tbody tr th {\n",
       "        vertical-align: top;\n",
       "    }\n",
       "</style>\n",
       "<table border=\"1\" class=\"dataframe\">\n",
       "  <thead>\n",
       "    <tr style=\"text-align: right;\">\n",
       "      <th></th>\n",
       "      <th>Date</th>\n",
       "      <th>User</th>\n",
       "      <th>Rig #</th>\n",
       "      <th>Ratio &gt;400/total</th>\n",
       "      <th>PCR cycles</th>\n",
       "      <th>SM_QC_PF</th>\n",
       "    </tr>\n",
       "  </thead>\n",
       "  <tbody>\n",
       "    <tr>\n",
       "      <th>1634</th>\n",
       "      <td>2017-04-19</td>\n",
       "      <td>P2</td>\n",
       "      <td>6</td>\n",
       "      <td>0.41</td>\n",
       "      <td>21.0</td>\n",
       "      <td>fail</td>\n",
       "    </tr>\n",
       "    <tr>\n",
       "      <th>1635</th>\n",
       "      <td>2017-04-19</td>\n",
       "      <td>P2</td>\n",
       "      <td>6</td>\n",
       "      <td>0.54</td>\n",
       "      <td>21.0</td>\n",
       "      <td>pass</td>\n",
       "    </tr>\n",
       "    <tr>\n",
       "      <th>1636</th>\n",
       "      <td>2017-04-19</td>\n",
       "      <td>P2</td>\n",
       "      <td>6</td>\n",
       "      <td>1.00</td>\n",
       "      <td>21.0</td>\n",
       "      <td>fail</td>\n",
       "    </tr>\n",
       "    <tr>\n",
       "      <th>1637</th>\n",
       "      <td>2017-04-19</td>\n",
       "      <td>P2</td>\n",
       "      <td>6</td>\n",
       "      <td>0.71</td>\n",
       "      <td>21.0</td>\n",
       "      <td>pass</td>\n",
       "    </tr>\n",
       "    <tr>\n",
       "      <th>1638</th>\n",
       "      <td>2017-04-19</td>\n",
       "      <td>P2</td>\n",
       "      <td>6</td>\n",
       "      <td>0.55</td>\n",
       "      <td>21.0</td>\n",
       "      <td>pass</td>\n",
       "    </tr>\n",
       "  </tbody>\n",
       "</table>\n",
       "</div>"
      ],
      "text/plain": [
       "           Date User Rig #  Ratio >400/total PCR cycles SM_QC_PF\n",
       "1634 2017-04-19   P2     6              0.41       21.0     fail\n",
       "1635 2017-04-19   P2     6              0.54       21.0     pass\n",
       "1636 2017-04-19   P2     6              1.00       21.0     fail\n",
       "1637 2017-04-19   P2     6              0.71       21.0     pass\n",
       "1638 2017-04-19   P2     6              0.55       21.0     pass"
      ]
     },
     "execution_count": 4,
     "metadata": {},
     "output_type": "execute_result"
    }
   ],
   "source": [
    "#Changing Date Format\n",
    "ps[\"Date\"] = pd.to_datetime(ps[\"Date\"], format = \"%y%m%d\", errors = \"coerce\")\n",
    "\n",
    "#Changing String to Numerical\n",
    "ps[\"Ratio >400/total\"] = pd.to_numeric(ps[\"Ratio >400/total\"].str.replace(' ',''), errors ='coerce')\n",
    "\n",
    "#Categories\n",
    "ps[\"User\"] = ps[\"User\"].astype(\"category\")\n",
    "ps[\"Rig #\"] = ps[\"Rig #\"].astype(\"category\")\n",
    "ps[\"PCR cycles\"] = ps[\"PCR cycles\"].astype(\"category\")\n",
    "ps[\"SM_QC_PF\"] = ps[\"SM_QC_PF\"].astype(\"category\")\n",
    "ps[\"Bad dates\"] = ps[\"Bad dates\"].astype(\"category\")\n",
    "\n",
    "#Filtering Columns\n",
    "ps = ps[ps[\"PCR cycles\"] == 21]      #Shows 21 pcr cycles\n",
    "ps = ps[ps[\"SM_QC_PF\"] != \"cnt\"]     #Shows everything except (cnt = control)\n",
    "ps = ps[ps[\"Bad dates\"] != \"x\"]      #Shows everthing except (x = contaminated)\n",
    "\n",
    "#Dropping blank columns\n",
    "ps = ps.drop(\"Bad dates\", 1)\n",
    "ps.dropna(subset = [\"User\", \"Ratio >400/total\", \"SM_QC_PF\"], inplace = True)\n",
    "ps.head()"
   ]
  },
  {
   "cell_type": "code",
   "execution_count": 5,
   "metadata": {},
   "outputs": [
    {
     "data": {
      "text/html": [
       "<div>\n",
       "<style>\n",
       "    .dataframe thead tr:only-child th {\n",
       "        text-align: right;\n",
       "    }\n",
       "\n",
       "    .dataframe thead th {\n",
       "        text-align: left;\n",
       "    }\n",
       "\n",
       "    .dataframe tbody tr th {\n",
       "        vertical-align: top;\n",
       "    }\n",
       "</style>\n",
       "<table border=\"1\" class=\"dataframe\">\n",
       "  <thead>\n",
       "    <tr style=\"text-align: right;\">\n",
       "      <th></th>\n",
       "      <th>Date</th>\n",
       "      <th>User</th>\n",
       "      <th>Rig #</th>\n",
       "      <th>Ratio &gt;400/total</th>\n",
       "      <th>PCR cycles</th>\n",
       "      <th>SM_QC_PF</th>\n",
       "    </tr>\n",
       "  </thead>\n",
       "  <tbody>\n",
       "    <tr>\n",
       "      <th>3798</th>\n",
       "      <td>2017-09-01</td>\n",
       "      <td>P8</td>\n",
       "      <td>6</td>\n",
       "      <td>0.28</td>\n",
       "      <td>21.0</td>\n",
       "      <td>pass</td>\n",
       "    </tr>\n",
       "    <tr>\n",
       "      <th>3799</th>\n",
       "      <td>2017-09-01</td>\n",
       "      <td>P8</td>\n",
       "      <td>6</td>\n",
       "      <td>0.71</td>\n",
       "      <td>21.0</td>\n",
       "      <td>pass</td>\n",
       "    </tr>\n",
       "    <tr>\n",
       "      <th>3800</th>\n",
       "      <td>2017-09-01</td>\n",
       "      <td>P8</td>\n",
       "      <td>6</td>\n",
       "      <td>0.34</td>\n",
       "      <td>21.0</td>\n",
       "      <td>pass</td>\n",
       "    </tr>\n",
       "    <tr>\n",
       "      <th>3801</th>\n",
       "      <td>2017-09-01</td>\n",
       "      <td>P8</td>\n",
       "      <td>6</td>\n",
       "      <td>0.37</td>\n",
       "      <td>21.0</td>\n",
       "      <td>pass</td>\n",
       "    </tr>\n",
       "    <tr>\n",
       "      <th>3802</th>\n",
       "      <td>2017-09-01</td>\n",
       "      <td>P8</td>\n",
       "      <td>6</td>\n",
       "      <td>0.44</td>\n",
       "      <td>21.0</td>\n",
       "      <td>pass</td>\n",
       "    </tr>\n",
       "  </tbody>\n",
       "</table>\n",
       "</div>"
      ],
      "text/plain": [
       "           Date User Rig #  Ratio >400/total PCR cycles SM_QC_PF\n",
       "3798 2017-09-01   P8     6              0.28       21.0     pass\n",
       "3799 2017-09-01   P8     6              0.71       21.0     pass\n",
       "3800 2017-09-01   P8     6              0.34       21.0     pass\n",
       "3801 2017-09-01   P8     6              0.37       21.0     pass\n",
       "3802 2017-09-01   P8     6              0.44       21.0     pass"
      ]
     },
     "execution_count": 5,
     "metadata": {},
     "output_type": "execute_result"
    }
   ],
   "source": [
    "ps.tail()"
   ]
  },
  {
   "cell_type": "markdown",
   "metadata": {},
   "source": [
    "## Info"
   ]
  },
  {
   "cell_type": "code",
   "execution_count": 6,
   "metadata": {},
   "outputs": [
    {
     "name": "stdout",
     "output_type": "stream",
     "text": [
      "<class 'pandas.core.frame.DataFrame'>\n",
      "Int64Index: 1412 entries, 1634 to 3802\n",
      "Data columns (total 6 columns):\n",
      "Date                1412 non-null datetime64[ns]\n",
      "User                1412 non-null category\n",
      "Rig #               1412 non-null category\n",
      "Ratio >400/total    1412 non-null float64\n",
      "PCR cycles          1412 non-null category\n",
      "SM_QC_PF            1412 non-null category\n",
      "dtypes: category(4), datetime64[ns](1), float64(1)\n",
      "memory usage: 39.7 KB\n"
     ]
    }
   ],
   "source": [
    "ps.info()"
   ]
  },
  {
   "cell_type": "code",
   "execution_count": 7,
   "metadata": {},
   "outputs": [
    {
     "data": {
      "text/plain": [
       "P1     546\n",
       "P2     465\n",
       "P8     310\n",
       "P6      78\n",
       "P5      13\n",
       "PB       0\n",
       "PA       0\n",
       "P9       0\n",
       "P6       0\n",
       "P3       0\n",
       "P0       0\n",
       "Name: User, dtype: int64"
      ]
     },
     "execution_count": 7,
     "metadata": {},
     "output_type": "execute_result"
    }
   ],
   "source": [
    "ps.User.value_counts()"
   ]
  },
  {
   "cell_type": "markdown",
   "metadata": {},
   "source": [
    "## Swarmplot, Violinplot & Boxplot of Picogreen Ratio >400/Total vs User"
   ]
  },
  {
   "cell_type": "markdown",
   "metadata": {},
   "source": [
    "Users = P1(Kristen), P2(Rusty), P8(Lindsay), P9(Lisa), PA(Ram), PB(Dijon)"
   ]
  },
  {
   "cell_type": "markdown",
   "metadata": {},
   "source": [
    "Data: 4/19/17-Present(2018)"
   ]
  },
  {
   "cell_type": "markdown",
   "metadata": {
    "collapsed": true
   },
   "source": [
    "Issue for plotting, values for ratio are displayed differently such as 33% or 0.33. From date 9/06/17 and later they were displayed as percentage and not ratios. P1,P2,P8 have data from 4/19 to 9/06/17 in ratios then everyone's results are in percentages"
   ]
  },
  {
   "cell_type": "code",
   "execution_count": 8,
   "metadata": {},
   "outputs": [
    {
     "data": {
      "image/png": "[encoded data removed]",
      "text/plain": [
       "<matplotlib.figure.Figure at 0x23f53c219e8>"
      ]
     },
     "metadata": {},
     "output_type": "display_data"
    }
   ],
   "source": [
    "sp = sns.swarmplot(x = \"User\", y = \"Ratio >400/total\", data = ps[ps[\"Ratio >400/total\"] < 1], \n",
    "                    order = [\"P1\", \"P2\", \"P8\", \"P9\", \"PA\", \"PB\"], palette = \"Spectral\")"
   ]
  },
  {
   "cell_type": "code",
   "execution_count": 9,
   "metadata": {},
   "outputs": [
    {
     "data": {
      "image/png": "[encoded data removed]",
      "text/plain": [
       "<matplotlib.figure.Figure at 0x23f4f8e3080>"
      ]
     },
     "metadata": {},
     "output_type": "display_data"
    }
   ],
   "source": [
    "vp = sns.violinplot(x = \"User\", y = \"Ratio >400/total\", data = ps[ps[\"Ratio >400/total\"] < 1], \n",
    "                    order = [\"P1\", \"P2\", \"P8\", \"P9\", \"PA\", \"PB\"], palette = \"Spectral\")"
   ]
  },
  {
   "cell_type": "code",
   "execution_count": 10,
   "metadata": {},
   "outputs": [
    {
     "data": {
      "image/png": "[encoded data removed]",
      "text/plain": [
       "<matplotlib.figure.Figure at 0x23f53bed9e8>"
      ]
     },
     "metadata": {},
     "output_type": "display_data"
    }
   ],
   "source": [
    "np = sns.boxplot(x = \"User\", y = \"Ratio >400/total\", data = ps[ps[\"Ratio >400/total\"] < 1], \n",
    "                    order = [\"P1\", \"P2\", \"P8\", \"P9\", \"PA\", \"PB\"], palette = \"Spectral\")"
   ]
  },
  {
   "cell_type": "code",
   "execution_count": null,
   "metadata": {
    "collapsed": true
   },
   "outputs": [],
   "source": []
  }
 ],
 "metadata": {
  "kernelspec": {
   "display_name": "Python 3",
   "language": "python",
   "name": "python3"
  },
  "language_info": {
   "codemirror_mode": {
    "name": "ipython",
    "version": 3
   },
   "file_extension": ".py",
   "mimetype": "text/x-python",
   "name": "python",
   "nbconvert_exporter": "python",
   "pygments_lexer": "ipython3",
   "version": "3.6.3"
  }
 },
 "nbformat": 4,
 "nbformat_minor": 2
}
