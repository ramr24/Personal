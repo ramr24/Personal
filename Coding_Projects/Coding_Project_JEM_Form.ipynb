{
 "cells": [
  {
   "cell_type": "markdown",
   "metadata": {},
   "source": [
    "# Coding Project Analysis JEM Forms\n"
   ]
  },
  {
   "cell_type": "markdown",
   "metadata": {},
   "source": [
    "### Data Output: Date, Specimen ID, Rig Opertator, Layer, Cell Type Prediction (Human), Patch Duration"
   ]
  },
  {
   "cell_type": "code",
   "execution_count": null,
   "metadata": {},
   "outputs": [],
   "source": [
    "import os\n",
    "import csv\n",
    "import json\n",
    "import fnmatch\n",
    "import numpy as np\n",
    "import pandas as pd\n",
    "\n",
    "import JEM_post_patch as pp #post patch script\n",
    "#post_patch_column = 'extraction.postPatch'\n",
    "#post_patch_pipette_column = 'extraction.endPipetteR'\n",
    "\n",
    "import seaborn as sns\n",
    "import matplotlib.pyplot as plt\n",
    "%matplotlib inline\n",
    "\n",
    "from pandas.io.json import json_normalize\n",
    "from datetime import datetime\n",
    "import warnings\n",
    "warnings.filterwarnings('ignore')\n",
    "#from single_cell_ephys.lims_funcs import limsquery\n",
    "#from single_cell_ephys.file_funcs import validated_input"
   ]
  },
  {
   "cell_type": "code",
   "execution_count": null,
   "metadata": {},
   "outputs": [],
   "source": [
    "pd.options.display.max_columns = None  #Displays all the columns "
   ]
  },
  {
   "cell_type": "code",
   "execution_count": null,
   "metadata": {},
   "outputs": [],
   "source": [
    "#Used csv from 5/25/2018\n",
    "shiny_human_df = pd.read_csv('C:/users/ramr/documents/github/personal-projects/csv/shiny_human.csv')\n",
    "shiny_mouse_df = pd.read_csv('C:/users/ramr/documents/github/personal-projects/csv/shiny_mouse.csv')"
   ]
  },
  {
   "cell_type": "code",
   "execution_count": null,
   "metadata": {},
   "outputs": [],
   "source": [
    "#List of common functions(In progress)\n",
    "\n",
    "def gen_fil(df, col, cond):\n",
    "    '''\n",
    "    Filters the column with a certain condition\n",
    "    df: dataframe\n",
    "    col: column\n",
    "    cond: condition\n",
    "    '''\n",
    "    filtered = df[df[col] == cond]\n",
    "    return filtered\n",
    "\n",
    "def gen_cat(df, col):\n",
    "    '''\n",
    "    Assigns astype to the column\n",
    "    df: dataframe\n",
    "    col: column\n",
    "    '''    \n",
    "    category = df[col].astype('category')\n",
    "    return category\n",
    "\n",
    "def cell_count(P_num):\n",
    "    '''\n",
    "    Counts number of Lims tube id based on P# as number of cells\n",
    "    df = dataframe\n",
    "    count() = counts number\n",
    "    '''\n",
    "    user = df1[df1['Lims tube id'].str.contains(P_num)]\n",
    "    return user['Lims tube id'].count()\n",
    "\n",
    "def P_user(P_num):\n",
    "    '''\n",
    "    Prints cell_count \n",
    "    '''\n",
    "    print(\"Total cells:\", cell_count(P_num))"
   ]
  },
  {
   "cell_type": "code",
   "execution_count": null,
   "metadata": {},
   "outputs": [],
   "source": [
    "def get_jsons(dirname, expt):\n",
    "    json_paths = []\n",
    "    for jfile in os.listdir(dirname):\n",
    "        if fnmatch.fnmatch(jfile, '*.%s.json' %expt):\n",
    "            jpath = os.path.join(dirname, jfile)\n",
    "            json_paths.append(jpath)\n",
    "    return json_paths"
   ]
  },
  {
   "cell_type": "code",
   "execution_count": null,
   "metadata": {},
   "outputs": [],
   "source": [
    "#make list of json paths for every json file in MIES Experiments directory on 279\n",
    "json_list = get_jsons(\"//allen/programs/celltypes/workgroups/279/Patch-Seq/all-metadata-files/\", \"PS\")\n",
    "#json_list"
   ]
  },
  {
   "cell_type": "code",
   "execution_count": null,
   "metadata": {},
   "outputs": [],
   "source": [
    "def flatten_attempts(slice_info, form_version):\n",
    "    \"\"\"Return flattened slice metadata dataframe.\n",
    "    \n",
    "    Parameters\n",
    "    ----------\n",
    "    slice_info : dict\n",
    "        A dictionary of slices with nested pipette attempts.\n",
    "    \n",
    "    form_version : string\n",
    "        A string containing the JEM form version.\n",
    "        (Pre-version 2 contains IVSCC, PatchSeq and Electroporation arrays)\n",
    "    Returns\n",
    "    -------\n",
    "    attempts_slice_df : pandas dataframe\n",
    "        A dataframe of all pipette attempts along with all slice metadata.\n",
    "    \"\"\"\n",
    "    \n",
    "    df = json_normalize(slice_info)\n",
    "    if form_version >= \"2\":\n",
    "        ps_array_name = \"pipettes\"\n",
    "    else:\n",
    "        ps_array_name = \"pipettesPatchSeqPilot\"\n",
    "    try:\n",
    "        attempts_df = json_normalize(slice_info[ps_array_name])\n",
    "        attempts_df[\"limsSpecName\"] = df[\"limsSpecName\"].values[0]\n",
    "        attempts_df[\"attempt\"] = [p+1 for p in attempts_df.index.values]\n",
    "        attempts_slice_df = pd.merge(df, attempts_df, how=\"outer\", on=\"limsSpecName\")\n",
    "        attempts_slice_df.drop(ps_array_name, axis=1, inplace=True)\n",
    "        return attempts_slice_df\n",
    "    except IndexError:\n",
    "        pass\n",
    "\n",
    "def is_field(df, colname):\n",
    "    \"\"\"Determine whether a column name exists in a dataframe.\n",
    "    \n",
    "    Parameters\n",
    "    ----------\n",
    "    df : a Pandas dataframe\n",
    "    colname : string\n",
    "        \n",
    "    Returns\n",
    "    -------\n",
    "    Boolean\n",
    "        Boolean value indicating if the colname exists in the dataframe.\n",
    "    \"\"\"\n",
    "    \n",
    "    try:\n",
    "        df[colname]\n",
    "        return True\n",
    "    except KeyError:\n",
    "        return False"
   ]
  },
  {
   "cell_type": "markdown",
   "metadata": {},
   "source": [
    "### json_df"
   ]
  },
  {
   "cell_type": "code",
   "execution_count": null,
   "metadata": {},
   "outputs": [],
   "source": [
    "json_df = pd.DataFrame()\n",
    "\n",
    "for json_path in json_list:\n",
    "    with open(json_path) as data_file:\n",
    "        slice_info = json.load(data_file)\n",
    "        if is_field(slice_info, \"formVersion\"):\n",
    "            jem_version = slice_info[\"formVersion\"]\n",
    "        else:\n",
    "            jem_version = \"1.0.0\"\n",
    "        flat_df = flatten_attempts(slice_info, jem_version)\n",
    "        json_df = pd.concat([json_df, flat_df], axis=0)\n",
    "        \n",
    "json_df.head()"
   ]
  },
  {
   "cell_type": "code",
   "execution_count": null,
   "metadata": {},
   "outputs": [],
   "source": [
    "json_df['extraction.timeRetractionEnd'] = json_df['extraction.timeRetractionEnd'].str[:8]\n",
    "json_df['recording.timeWholeCellStart'] = json_df['recording.timeWholeCellStart'].str[:8]"
   ]
  },
  {
   "cell_type": "code",
   "execution_count": null,
   "metadata": {},
   "outputs": [],
   "source": [
    "json_df['patch_duration'] = pd.to_datetime(json_df['extraction.timeRetractionEnd']) - pd.to_datetime(json_df['recording.timeWholeCellStart'])"
   ]
  },
  {
   "cell_type": "code",
   "execution_count": null,
   "metadata": {},
   "outputs": [],
   "source": [
    "json_df['patch_duration'] = json_df['patch_duration']/60"
   ]
  },
  {
   "cell_type": "code",
   "execution_count": null,
   "metadata": {},
   "outputs": [],
   "source": [
    "json_df['patch_duration'] = json_df['patch_duration'].astype('str')"
   ]
  },
  {
   "cell_type": "code",
   "execution_count": null,
   "metadata": {},
   "outputs": [],
   "source": [
    "#json_df1['patch_duration'] = json_df1['patch_duration'].str[6:]"
   ]
  },
  {
   "cell_type": "code",
   "execution_count": null,
   "metadata": {},
   "outputs": [],
   "source": [
    "json_df.info()"
   ]
  },
  {
   "cell_type": "markdown",
   "metadata": {},
   "source": [
    "### Fixing up date column & adding post patch column"
   ]
  },
  {
   "cell_type": "code",
   "execution_count": null,
   "metadata": {},
   "outputs": [],
   "source": [
    "json_df['date'] = json_df['date'].str[:10] #Strip away the time\n",
    "json_df['date'] = pd.to_datetime(json_df['date']) #Converting to YYYY-MM-DD\n",
    "json_df.set_index('date', inplace = True)\n",
    "json_df = pp.postpatch_reclass(json_df) #Makes post patch column with the script\n",
    "json_df.sort_index(inplace = True) #Sort the date column just in case\n",
    "\n",
    "#start_date = input('Enter the start date for your dataframe (YYYY-MM-DD): ')\n",
    "start_date = '2017-10-01'\n",
    "json_df1 = json_df[start_date:]\n",
    "json_df1 = gen_fil(json_df1, 'status', 'SUCCESS') \n",
    "json_df1.sort_index(inplace = True) #Sort the date column just in case"
   ]
  },
  {
   "cell_type": "code",
   "execution_count": null,
   "metadata": {},
   "outputs": [],
   "source": [
    "json_df1.head()"
   ]
  },
  {
   "cell_type": "code",
   "execution_count": null,
   "metadata": {},
   "outputs": [],
   "source": [
    "json_df1.tail()"
   ]
  },
  {
   "cell_type": "markdown",
   "metadata": {},
   "source": [
    "### Filter for Human & Mouse dataframe"
   ]
  },
  {
   "cell_type": "code",
   "execution_count": null,
   "metadata": {},
   "outputs": [],
   "source": [
    "json_df1['human?'] = json_df1['limsSpecName'].str.match(r\"H\\d\\d\") #Creates new boolean column\n",
    "\n",
    "json_df2 = gen_fil(json_df1, 'human?', True) #HUMAN\n",
    "json_df3 = gen_fil(json_df1, 'human?', False) #MOUSE\n",
    "json_df1.head()"
   ]
  },
  {
   "cell_type": "markdown",
   "metadata": {},
   "source": [
    "## HUMAN dataframe"
   ]
  },
  {
   "cell_type": "code",
   "execution_count": null,
   "metadata": {},
   "outputs": [],
   "source": [
    "json_df2 = json_df2.reset_index()\n",
    "human_df = json_df2[['date',\n",
    "                     'limsSpecName',\n",
    "                     'rigOperator',\n",
    "                     'approach.manualRoi',\n",
    "                     'manualRoi', \n",
    "                     'recording.humanCellTypePrediction',\n",
    "                     'post_patch',\n",
    "                     'extraction.tubeID']]\n",
    "\n",
    "human_df.sort_index(inplace = True)\n",
    "#approach.manualRoi available data at 2017-10-10 to 2017-11-27\n",
    "#manualRoi avaible data at 2017-11-27 to Present\n",
    "#extraction.tubeID changes from ### to User_Date_###_A01 at 2017-11-27\n",
    "\n",
    "shiny_human_df = shiny_human_df.loc[:,['sample_id',\n",
    "                                    'cell_name_label',\n",
    "                                    'res_index_label']]\n",
    "\n",
    "final_H_df = pd.merge(left = human_df, \n",
    "                      right = shiny_human_df, \n",
    "                      left_on = 'extraction.tubeID', \n",
    "                      right_on = 'sample_id', \n",
    "                      how = 'inner')"
   ]
  },
  {
   "cell_type": "code",
   "execution_count": null,
   "metadata": {
    "scrolled": true
   },
   "outputs": [],
   "source": [
    "final_H_df.head()"
   ]
  },
  {
   "cell_type": "code",
   "execution_count": null,
   "metadata": {},
   "outputs": [],
   "source": [
    "final_H_df.tail()"
   ]
  },
  {
   "cell_type": "code",
   "execution_count": null,
   "metadata": {},
   "outputs": [],
   "source": [
    "human_df['post_patch'].value_counts()"
   ]
  },
  {
   "cell_type": "code",
   "execution_count": null,
   "metadata": {},
   "outputs": [],
   "source": [
    "final_H_df['post_patch'].value_counts()"
   ]
  },
  {
   "cell_type": "markdown",
   "metadata": {},
   "source": [
    "## MOUSE dataframe"
   ]
  },
  {
   "cell_type": "code",
   "execution_count": null,
   "metadata": {},
   "outputs": [],
   "source": [
    "json_df3 = json_df3.reset_index()\n",
    "mouse_df = json_df3[['date',\n",
    "                     'limsSpecName',\n",
    "                     'rigOperator',\n",
    "                     'approach.manualRoi',\n",
    "                     'manualRoi', \n",
    "                     'post_patch',\n",
    "                     'extraction.tubeID']]\n",
    "\n",
    "mouse_df.sort_index(inplace = True)\n",
    "#approach.manualRoi available data at 2017-10-02 to 2017-11-10\n",
    "#manualRoi avaible data at 2017-11-10 to Present\n",
    "#extraction.tubeID changes from ### to User_Date_###_A01 at 2017-11-10\n",
    "\n",
    "shiny_mouse_df = shiny_mouse_df.loc[:,['sample_id',\n",
    "                                       'cell_name_label',\n",
    "                                       'res_index_label']]\n",
    "\n",
    "final_M_df = pd.merge(left = mouse_df, \n",
    "                      right = shiny_mouse_df, \n",
    "                      left_on = 'extraction.tubeID', \n",
    "                      right_on = 'sample_id', \n",
    "                      how = 'inner')"
   ]
  },
  {
   "cell_type": "code",
   "execution_count": null,
   "metadata": {},
   "outputs": [],
   "source": [
    "final_M_df.head()"
   ]
  },
  {
   "cell_type": "code",
   "execution_count": null,
   "metadata": {},
   "outputs": [],
   "source": [
    "final_M_df.tail()"
   ]
  },
  {
   "cell_type": "code",
   "execution_count": null,
   "metadata": {},
   "outputs": [],
   "source": [
    "mouse_df['post_patch'].value_counts()"
   ]
  },
  {
   "cell_type": "code",
   "execution_count": null,
   "metadata": {},
   "outputs": [],
   "source": [
    "final_M_df['post_patch'].value_counts()"
   ]
  },
  {
   "cell_type": "markdown",
   "metadata": {},
   "source": [
    "## Extra"
   ]
  },
  {
   "cell_type": "code",
   "execution_count": null,
   "metadata": {},
   "outputs": [],
   "source": [
    "def nuc_count(df):\n",
    "    #user = str(input('Enter the user number (P#): '))\n",
    "    user = 'PA'\n",
    "    \n",
    "    nh = df[df['post_patch'].str.contains('Nuc-high seal') & \n",
    "            df['extraction.tubeID'].str.contains(user)]\n",
    "    nh = nh['post_patch'].count()\n",
    "\n",
    "    nl = df[df['post_patch'].str.contains('Nuc-low seal') & \n",
    "            df['extraction.tubeID'].str.contains(user)]\n",
    "    nl = nl['post_patch'].count()\n",
    "\n",
    "    noh = df[df['post_patch'].str.contains('No-high seal') & \n",
    "             df['extraction.tubeID'].str.contains(user)]\n",
    "    noh = noh['post_patch'].count()\n",
    "\n",
    "    nol = df[df['post_patch'].str.contains('No-low seal') & \n",
    "             df['extraction.tubeID'].str.contains(user)]\n",
    "    nol = nol['post_patch'].count()\n",
    "\n",
    "    en = df[df['post_patch'].str.contains('Entire cell') & \n",
    "            df['extraction.tubeID'].str.contains(user)]\n",
    "    en = en['post_patch'].count()\n",
    "    \n",
    "\n",
    "    print 'Nucleated:', nh\n",
    "    print 'Partial nucleated', nl\n",
    "    print 'Outside-out:', noh\n",
    "    print 'No seal:', nol\n",
    "    print 'Entire cell:', en   "
   ]
  },
  {
   "cell_type": "code",
   "execution_count": null,
   "metadata": {},
   "outputs": [],
   "source": [
    "nuc_count(mouse_df)"
   ]
  },
  {
   "cell_type": "code",
   "execution_count": null,
   "metadata": {},
   "outputs": [],
   "source": [
    "nuc_count(final_M_df)"
   ]
  },
  {
   "cell_type": "code",
   "execution_count": null,
   "metadata": {},
   "outputs": [],
   "source": [
    "nuc_count(human_df)"
   ]
  },
  {
   "cell_type": "code",
   "execution_count": null,
   "metadata": {},
   "outputs": [],
   "source": [
    "nuc_count(final_H_df)"
   ]
  },
  {
   "cell_type": "code",
   "execution_count": null,
   "metadata": {},
   "outputs": [],
   "source": [
    "#Problem: index date column doesn't show dates after forming new combined df with shiny"
   ]
  },
  {
   "cell_type": "code",
   "execution_count": null,
   "metadata": {},
   "outputs": [],
   "source": []
  },
  {
   "cell_type": "code",
   "execution_count": null,
   "metadata": {},
   "outputs": [],
   "source": []
  },
  {
   "cell_type": "code",
   "execution_count": null,
   "metadata": {},
   "outputs": [],
   "source": []
  }
 ],
 "metadata": {
  "kernelspec": {
   "display_name": "Python 2",
   "language": "python",
   "name": "python2"
  },
  "language_info": {
   "codemirror_mode": {
    "name": "ipython",
    "version": 2
   },
   "file_extension": ".py",
   "mimetype": "text/x-python",
   "name": "python",
   "nbconvert_exporter": "python",
   "pygments_lexer": "ipython2",
   "version": "2.7.14"
  }
 },
 "nbformat": 4,
 "nbformat_minor": 2
}
