{
 "cells": [
  {
   "cell_type": "markdown",
   "metadata": {},
   "source": [
    "# Coding Project Analysis: Nucleated patches per user"
   ]
  },
  {
   "cell_type": "code",
   "execution_count": null,
   "metadata": {},
   "outputs": [],
   "source": [
    "import os\n",
    "import csv\n",
    "import json\n",
    "import fnmatch\n",
    "import numpy as np\n",
    "import pandas as pd\n",
    "from pandas.io.json import json_normalize\n",
    "from datetime import datetime\n",
    "import warnings\n",
    "warnings.filterwarnings('ignore')"
   ]
  },
  {
   "cell_type": "code",
   "execution_count": null,
   "metadata": {},
   "outputs": [],
   "source": [
    "def get_jsons(dirname, expt):\n",
    "    json_paths = []\n",
    "    for jfile in os.listdir(dirname):\n",
    "        if fnmatch.fnmatch(jfile, '*.%s.json' %expt):\n",
    "            jpath = os.path.join(dirname, jfile)\n",
    "            json_paths.append(jpath)\n",
    "    return json_paths"
   ]
  },
  {
   "cell_type": "code",
   "execution_count": null,
   "metadata": {},
   "outputs": [],
   "source": [
    "#make list of json paths for every json file in MIES Experiments directory on 279\n",
    "json_list = get_jsons(\"//allen/programs/celltypes/workgroups/279/Patch-Seq/all-metadata-files/\", \"PS\")\n",
    "json_list"
   ]
  },
  {
   "cell_type": "code",
   "execution_count": null,
   "metadata": {},
   "outputs": [],
   "source": [
    "from pandas.io.json import json_normalize\n",
    "\n",
    "def flatten_attempts(slice_info, form_version):\n",
    "    \"\"\"Return flattened slice metadata dataframe.\n",
    "    \n",
    "    Parameters\n",
    "    ----------\n",
    "    slice_info : dict\n",
    "        A dictionary of slices with nested pipette attempts.\n",
    "    \n",
    "    form_version : string\n",
    "        A string containing the JEM form version.\n",
    "        (Pre-version 2 contains IVSCC, PatchSeq and Electroporation arrays)\n",
    "    Returns\n",
    "    -------\n",
    "    attempts_slice_df : pandas dataframe\n",
    "        A dataframe of all pipette attempts along with all slice metadata.\n",
    "    \"\"\"\n",
    "    \n",
    "    df = json_normalize(slice_info)\n",
    "    if form_version >= \"2\":\n",
    "        ps_array_name = \"pipettes\"\n",
    "    else:\n",
    "        ps_array_name = \"pipettesPatchSeqPilot\"\n",
    "    try:\n",
    "        attempts_df = json_normalize(slice_info[ps_array_name])\n",
    "        attempts_df[\"limsSpecName\"] = df[\"limsSpecName\"].values[0]\n",
    "        attempts_df[\"attempt\"] = [p+1 for p in attempts_df.index.values]\n",
    "        attempts_slice_df = pd.merge(df, attempts_df, how=\"outer\", on=\"limsSpecName\")\n",
    "        attempts_slice_df.drop(ps_array_name, axis=1, inplace=True)\n",
    "        return attempts_slice_df\n",
    "    except IndexError:\n",
    "        pass\n",
    "\n",
    "def is_field(df, colname):\n",
    "    \"\"\"Determine whether a column name exists in a dataframe.\n",
    "    \n",
    "    Parameters\n",
    "    ----------\n",
    "    df : a Pandas dataframe\n",
    "    colname : string\n",
    "        \n",
    "    Returns\n",
    "    -------\n",
    "    Boolean\n",
    "        Boolean value indicating if the colname exists in the dataframe.\n",
    "    \"\"\"\n",
    "    \n",
    "    try:\n",
    "        df[colname]\n",
    "        return True\n",
    "    except KeyError:\n",
    "        return False"
   ]
  },
  {
   "cell_type": "markdown",
   "metadata": {},
   "source": [
    "### Output Starts"
   ]
  },
  {
   "cell_type": "code",
   "execution_count": null,
   "metadata": {},
   "outputs": [],
   "source": [
    "json_df = pd.DataFrame()\n",
    "\n",
    "for json_path in json_list:\n",
    "    with open(json_path) as data_file:\n",
    "        slice_info = json.load(data_file)\n",
    "        if is_field(slice_info, \"formVersion\"):\n",
    "            jem_version = slice_info[\"formVersion\"]\n",
    "        else:\n",
    "            jem_version = \"1.0.0\"\n",
    "        flat_df = flatten_attempts(slice_info, jem_version)\n",
    "        json_df = pd.concat([json_df, flat_df], axis=0)\n",
    "        \n",
    "pd.options.display.max_columns = None  #Displays all the columns \n",
    "json_df.head()"
   ]
  },
  {
   "cell_type": "markdown",
   "metadata": {},
   "source": [
    "### Trying to only have date as YYYY-MM-DD"
   ]
  },
  {
   "cell_type": "code",
   "execution_count": null,
   "metadata": {},
   "outputs": [],
   "source": [
    "json_df.info()"
   ]
  },
  {
   "cell_type": "code",
   "execution_count": null,
   "metadata": {},
   "outputs": [],
   "source": [
    "json_df['date'] = json_df['date'].str[:11]"
   ]
  },
  {
   "cell_type": "code",
   "execution_count": null,
   "metadata": {},
   "outputs": [],
   "source": [
    "json_df['date'] = datetime.strptime(json_df['date'],format = '%Y%m%d', errors = 'coerce')\n",
    "#date = datetime.strptime(\"1/4/2014\", \"%m/%d/%Y\")"
   ]
  },
  {
   "cell_type": "code",
   "execution_count": null,
   "metadata": {},
   "outputs": [],
   "source": [
    "#json_df['date'] = pd.to_datetime(json_df['date'], format = '%Y%m%d', errors = 'coerce')"
   ]
  },
  {
   "cell_type": "markdown",
   "metadata": {},
   "source": [
    "### Sets the Date column as the index"
   ]
  },
  {
   "cell_type": "code",
   "execution_count": null,
   "metadata": {},
   "outputs": [],
   "source": [
    "json_df.set_index('date', inplace = True)"
   ]
  },
  {
   "cell_type": "markdown",
   "metadata": {},
   "source": [
    "### Sorts the Date column"
   ]
  },
  {
   "cell_type": "code",
   "execution_count": null,
   "metadata": {},
   "outputs": [],
   "source": [
    "json_df.sort_index(inplace = True)"
   ]
  },
  {
   "cell_type": "code",
   "execution_count": null,
   "metadata": {},
   "outputs": [],
   "source": [
    "json_df1 = json_df['2017-10-02':]\n",
    "#['Start date' : 'End date']\n",
    "#Problem: The old versions have different date displayed"
   ]
  },
  {
   "cell_type": "code",
   "execution_count": null,
   "metadata": {},
   "outputs": [],
   "source": [
    "json_df1.head()"
   ]
  },
  {
   "cell_type": "code",
   "execution_count": null,
   "metadata": {},
   "outputs": [],
   "source": [
    "json_df1.tail()"
   ]
  },
  {
   "cell_type": "code",
   "execution_count": null,
   "metadata": {},
   "outputs": [],
   "source": [
    "#Mouse \n",
    "json_df1 = json_df1[json_df1['status'] == 'SUCCESS']  \n",
    "json_df1 = json_df1[json_df1['approach.creCell'] == 'Cre+'] #Optional \n",
    "#There's also SUCCESS(low confidence), SUCCESS(high confidence) from old jem forms"
   ]
  },
  {
   "cell_type": "code",
   "execution_count": null,
   "metadata": {},
   "outputs": [],
   "source": [
    "#Number of Successful attempts by Rig operator \n",
    "json_df1['rigOperator'].value_counts()"
   ]
  },
  {
   "cell_type": "code",
   "execution_count": null,
   "metadata": {},
   "outputs": [],
   "source": [
    "#Nucleus present vs absent \n",
    "json_df1['extraction.postPatch'].value_counts()"
   ]
  },
  {
   "cell_type": "code",
   "execution_count": null,
   "metadata": {},
   "outputs": [],
   "source": []
  },
  {
   "cell_type": "code",
   "execution_count": null,
   "metadata": {},
   "outputs": [],
   "source": []
  }
 ],
 "metadata": {
  "kernelspec": {
   "display_name": "Python 2",
   "language": "python",
   "name": "python2"
  },
  "language_info": {
   "codemirror_mode": {
    "name": "ipython",
    "version": 2
   },
   "file_extension": ".py",
   "mimetype": "text/x-python",
   "name": "python",
   "nbconvert_exporter": "python",
   "pygments_lexer": "ipython2",
   "version": "2.7.14"
  }
 },
 "nbformat": 4,
 "nbformat_minor": 2
}
