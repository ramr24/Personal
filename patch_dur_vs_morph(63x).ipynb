{
 "cells": [
  {
   "cell_type": "markdown",
   "metadata": {},
   "source": [
    "# Analysis Project: Patch Duration vs. Morphological Calls(63x) per User"
   ]
  },
  {
   "cell_type": "code",
   "execution_count": 1,
   "metadata": {},
   "outputs": [],
   "source": [
    "#Import necessary functions\n",
    "import csv\n",
    "import pandas as pd\n",
    "import numpy as np\n",
    "import seaborn as sns\n",
    "import matplotlib.pyplot as plt\n",
    "from datetime import datetime\n",
    "%matplotlib inline\n",
    "\n",
    "#Makes a white backround with gray horizontal gridmarks at y-values\n",
    "sns.set_style(\"whitegrid\")"
   ]
  },
  {
   "cell_type": "code",
   "execution_count": 2,
   "metadata": {},
   "outputs": [],
   "source": [
    "#ps = patch_seq csv file\n",
    "ps = pd.read_csv(\"patch_seq_log_mouse.csv\")"
   ]
  },
  {
   "cell_type": "code",
   "execution_count": 3,
   "metadata": {},
   "outputs": [
    {
     "data": {
      "text/html": [
       "<div>\n",
       "<style scoped>\n",
       "    .dataframe tbody tr th:only-of-type {\n",
       "        vertical-align: middle;\n",
       "    }\n",
       "\n",
       "    .dataframe tbody tr th {\n",
       "        vertical-align: top;\n",
       "    }\n",
       "\n",
       "    .dataframe thead th {\n",
       "        text-align: right;\n",
       "    }\n",
       "</style>\n",
       "<table border=\"1\" class=\"dataframe\">\n",
       "  <thead>\n",
       "    <tr style=\"text-align: right;\">\n",
       "      <th></th>\n",
       "      <th>Date</th>\n",
       "      <th>User</th>\n",
       "      <th>Rig #</th>\n",
       "      <th>63x go no go</th>\n",
       "      <th>Time spent extracting cytosol</th>\n",
       "      <th>Time spent retracting pipette</th>\n",
       "      <th>patch duration</th>\n",
       "      <th>PCR cycles</th>\n",
       "      <th>SM_QC_PF</th>\n",
       "      <th>Bad dates</th>\n",
       "    </tr>\n",
       "  </thead>\n",
       "  <tbody>\n",
       "    <tr>\n",
       "      <th>0</th>\n",
       "      <td>170104</td>\n",
       "      <td>P1</td>\n",
       "      <td>5</td>\n",
       "      <td>qc</td>\n",
       "      <td>2.3</td>\n",
       "      <td>NaN</td>\n",
       "      <td>11.78333333</td>\n",
       "      <td>18.0</td>\n",
       "      <td>pass</td>\n",
       "      <td>x</td>\n",
       "    </tr>\n",
       "    <tr>\n",
       "      <th>1</th>\n",
       "      <td>170104</td>\n",
       "      <td>P1</td>\n",
       "      <td>5</td>\n",
       "      <td>qc</td>\n",
       "      <td>2.316666667</td>\n",
       "      <td>NaN</td>\n",
       "      <td>12.21666667</td>\n",
       "      <td>18.0</td>\n",
       "      <td>pass</td>\n",
       "      <td>x</td>\n",
       "    </tr>\n",
       "    <tr>\n",
       "      <th>2</th>\n",
       "      <td>170104</td>\n",
       "      <td>P1</td>\n",
       "      <td>5</td>\n",
       "      <td>qc</td>\n",
       "      <td>2.45</td>\n",
       "      <td>NaN</td>\n",
       "      <td>11.78333333</td>\n",
       "      <td>18.0</td>\n",
       "      <td>pass</td>\n",
       "      <td>x</td>\n",
       "    </tr>\n",
       "    <tr>\n",
       "      <th>3</th>\n",
       "      <td>170104</td>\n",
       "      <td>P1</td>\n",
       "      <td>5</td>\n",
       "      <td>qc</td>\n",
       "      <td>2.316666667</td>\n",
       "      <td>NaN</td>\n",
       "      <td>12.45</td>\n",
       "      <td>18.0</td>\n",
       "      <td>pass</td>\n",
       "      <td>x</td>\n",
       "    </tr>\n",
       "    <tr>\n",
       "      <th>4</th>\n",
       "      <td>170104</td>\n",
       "      <td>P1</td>\n",
       "      <td>5</td>\n",
       "      <td>qc</td>\n",
       "      <td>2.35</td>\n",
       "      <td>NaN</td>\n",
       "      <td>12.36666667</td>\n",
       "      <td>18.0</td>\n",
       "      <td>pass</td>\n",
       "      <td>x</td>\n",
       "    </tr>\n",
       "  </tbody>\n",
       "</table>\n",
       "</div>"
      ],
      "text/plain": [
       "     Date User Rig # 63x go no go Time spent extracting cytosol  \\\n",
       "0  170104   P1     5           qc                           2.3   \n",
       "1  170104   P1     5           qc                   2.316666667   \n",
       "2  170104   P1     5           qc                          2.45   \n",
       "3  170104   P1     5           qc                   2.316666667   \n",
       "4  170104   P1     5           qc                          2.35   \n",
       "\n",
       "  Time spent retracting pipette patch duration  PCR cycles SM_QC_PF Bad dates  \n",
       "0                           NaN    11.78333333        18.0     pass         x  \n",
       "1                           NaN    12.21666667        18.0     pass         x  \n",
       "2                           NaN    11.78333333        18.0     pass         x  \n",
       "3                           NaN          12.45        18.0     pass         x  \n",
       "4                           NaN    12.36666667        18.0     pass         x  "
      ]
     },
     "execution_count": 3,
     "metadata": {},
     "output_type": "execute_result"
    }
   ],
   "source": [
    "#list_initial = list with specific columns used from csv file\n",
    "list_initial = [\"Date\", \"User\", \"Rig #\", \"63x go no go\", \"Time spent extracting cytosol\", \"Time spent retracting pipette\", \n",
    "                \"patch duration\", \"PCR cycles\", \"SM_QC_PF\", \"Bad dates\"]\n",
    "ps = ps[list_initial]\n",
    "ps.head()"
   ]
  },
  {
   "cell_type": "markdown",
   "metadata": {},
   "source": [
    "### Categorizing & Filtering the columns"
   ]
  },
  {
   "cell_type": "code",
   "execution_count": 4,
   "metadata": {},
   "outputs": [
    {
     "data": {
      "text/html": [
       "<div>\n",
       "<style scoped>\n",
       "    .dataframe tbody tr th:only-of-type {\n",
       "        vertical-align: middle;\n",
       "    }\n",
       "\n",
       "    .dataframe tbody tr th {\n",
       "        vertical-align: top;\n",
       "    }\n",
       "\n",
       "    .dataframe thead th {\n",
       "        text-align: right;\n",
       "    }\n",
       "</style>\n",
       "<table border=\"1\" class=\"dataframe\">\n",
       "  <thead>\n",
       "    <tr style=\"text-align: right;\">\n",
       "      <th></th>\n",
       "      <th>Date</th>\n",
       "      <th>User</th>\n",
       "      <th>Rig #</th>\n",
       "      <th>63x go no go</th>\n",
       "      <th>Time spent extracting cytosol</th>\n",
       "      <th>Time spent retracting pipette</th>\n",
       "      <th>patch duration</th>\n",
       "      <th>PCR cycles</th>\n",
       "      <th>SM_QC_PF</th>\n",
       "    </tr>\n",
       "  </thead>\n",
       "  <tbody>\n",
       "    <tr>\n",
       "      <th>1634</th>\n",
       "      <td>2017-04-19</td>\n",
       "      <td>P2</td>\n",
       "      <td>6</td>\n",
       "      <td>qc</td>\n",
       "      <td>1.800000</td>\n",
       "      <td>0.0</td>\n",
       "      <td>4.333333</td>\n",
       "      <td>21.0</td>\n",
       "      <td>fail</td>\n",
       "    </tr>\n",
       "    <tr>\n",
       "      <th>1635</th>\n",
       "      <td>2017-04-19</td>\n",
       "      <td>P2</td>\n",
       "      <td>6</td>\n",
       "      <td>qc</td>\n",
       "      <td>1.666667</td>\n",
       "      <td>0.0</td>\n",
       "      <td>6.566667</td>\n",
       "      <td>21.0</td>\n",
       "      <td>pass</td>\n",
       "    </tr>\n",
       "    <tr>\n",
       "      <th>1636</th>\n",
       "      <td>2017-04-19</td>\n",
       "      <td>P2</td>\n",
       "      <td>6</td>\n",
       "      <td>qc</td>\n",
       "      <td>1.433333</td>\n",
       "      <td>0.0</td>\n",
       "      <td>8.033333</td>\n",
       "      <td>21.0</td>\n",
       "      <td>fail</td>\n",
       "    </tr>\n",
       "    <tr>\n",
       "      <th>1637</th>\n",
       "      <td>2017-04-19</td>\n",
       "      <td>P2</td>\n",
       "      <td>6</td>\n",
       "      <td>qc</td>\n",
       "      <td>2.350000</td>\n",
       "      <td>0.0</td>\n",
       "      <td>7.416667</td>\n",
       "      <td>21.0</td>\n",
       "      <td>pass</td>\n",
       "    </tr>\n",
       "    <tr>\n",
       "      <th>1638</th>\n",
       "      <td>2017-04-19</td>\n",
       "      <td>P2</td>\n",
       "      <td>6</td>\n",
       "      <td>qc</td>\n",
       "      <td>2.216667</td>\n",
       "      <td>0.0</td>\n",
       "      <td>4.166667</td>\n",
       "      <td>21.0</td>\n",
       "      <td>pass</td>\n",
       "    </tr>\n",
       "  </tbody>\n",
       "</table>\n",
       "</div>"
      ],
      "text/plain": [
       "           Date User Rig # 63x go no go  Time spent extracting cytosol  \\\n",
       "1634 2017-04-19   P2     6           qc                       1.800000   \n",
       "1635 2017-04-19   P2     6           qc                       1.666667   \n",
       "1636 2017-04-19   P2     6           qc                       1.433333   \n",
       "1637 2017-04-19   P2     6           qc                       2.350000   \n",
       "1638 2017-04-19   P2     6           qc                       2.216667   \n",
       "\n",
       "      Time spent retracting pipette  patch duration PCR cycles SM_QC_PF  \n",
       "1634                            0.0        4.333333       21.0     fail  \n",
       "1635                            0.0        6.566667       21.0     pass  \n",
       "1636                            0.0        8.033333       21.0     fail  \n",
       "1637                            0.0        7.416667       21.0     pass  \n",
       "1638                            0.0        4.166667       21.0     pass  "
      ]
     },
     "execution_count": 4,
     "metadata": {},
     "output_type": "execute_result"
    }
   ],
   "source": [
    "#Changing Date Format\n",
    "ps[\"Date\"] = pd.to_datetime(ps[\"Date\"], format = \"%y%m%d\", errors = \"coerce\")\n",
    "\n",
    "#Changing String to Numerical\n",
    "ps[\"Time spent extracting cytosol\"] = pd.to_numeric(ps[\"Time spent extracting cytosol\"].str.replace(' ',''), errors ='coerce')\n",
    "ps[\"patch duration\"] = pd.to_numeric(ps[\"patch duration\"].str.replace(' ',''), errors ='coerce')\n",
    "ps[\"Time spent retracting pipette\"] = pd.to_numeric(ps[\"Time spent retracting pipette\"].str.replace(' ',''), errors ='coerce')\n",
    "\n",
    "#Categories\n",
    "ps[\"User\"] = ps[\"User\"].astype(\"category\")\n",
    "ps[\"Rig #\"] = ps[\"Rig #\"].astype(\"category\")\n",
    "ps[\"63x go no go\"] = ps[\"63x go no go\"].astype(\"category\")\n",
    "ps[\"PCR cycles\"] = ps[\"PCR cycles\"].astype(\"category\")\n",
    "ps[\"SM_QC_PF\"] = ps[\"SM_QC_PF\"].astype(\"category\")\n",
    "ps[\"Bad dates\"] = ps[\"Bad dates\"].astype(\"category\")\n",
    "\n",
    "#Filtering Columns\n",
    "ps = ps[ps[\"PCR cycles\"] == 21]      #Shows 21 pcr cycles\n",
    "ps = ps[ps[\"SM_QC_PF\"] != \"cnt\"]     #Shows everything except (cnt = control)\n",
    "ps = ps[ps[\"Bad dates\"] != \"x\"]      #Shows everthing except (x = contaminated)\n",
    "ps = ps[ps[\"Time spent extracting cytosol\"] <= 10]\n",
    "\n",
    "#Dropping blank columns\n",
    "ps = ps.drop(\"Bad dates\", 1)\n",
    "ps[\"Time spent retracting pipette\"] = ps[\"Time spent retracting pipette\"].fillna(0)\n",
    "ps.dropna(subset = [\"User\", \"63x go no go\", \"Time spent extracting cytosol\", \"Time spent retracting pipette\", \"patch duration\", \n",
    "                    \"SM_QC_PF\"], inplace = True)\n",
    "ps.head()"
   ]
  },
  {
   "cell_type": "markdown",
   "metadata": {},
   "source": [
    "### Creating Recording Duration Column"
   ]
  },
  {
   "cell_type": "code",
   "execution_count": 5,
   "metadata": {},
   "outputs": [],
   "source": [
    "ps[\"Recording Duration\"] = ps[\"patch duration\"] - ps[\"Time spent extracting cytosol\"] - ps[\"Time spent retracting pipette\"]\n",
    "ps = ps[ps[\"Recording Duration\"] > 0] #Only shows postive values"
   ]
  },
  {
   "cell_type": "markdown",
   "metadata": {},
   "source": [
    "### Renaming columns"
   ]
  },
  {
   "cell_type": "code",
   "execution_count": 6,
   "metadata": {},
   "outputs": [],
   "source": [
    "ps.rename(columns = {\"63x go no go\" : \"Morphology\",\n",
    "                     \"Time spent extracting cytosol\" : \"Extraction Duration\", \n",
    "                     \"Time spent retracting pipette\" : \"Retraction Duration\",\n",
    "                     \"patch duration\" : \"Patch Duration\"}, inplace = True)"
   ]
  },
  {
   "cell_type": "markdown",
   "metadata": {},
   "source": [
    "### Renaming Morphological Calls"
   ]
  },
  {
   "cell_type": "code",
   "execution_count": 7,
   "metadata": {},
   "outputs": [
    {
     "data": {
      "text/plain": [
       "qc                  945\n",
       "63x go              315\n",
       "63x no go           297\n",
       "passed              220\n",
       "pending_ephys_qc      3\n",
       "Name: Morphology, dtype: int64"
      ]
     },
     "execution_count": 7,
     "metadata": {},
     "output_type": "execute_result"
    }
   ],
   "source": [
    "ps.Morphology.value_counts()"
   ]
  },
  {
   "cell_type": "code",
   "execution_count": 8,
   "metadata": {},
   "outputs": [],
   "source": [
    "#Check in with Rusty and Lisa about the 5 categories\n",
    "ps.Morphology.cat.rename_categories({\"qc\" : \"QC\", \n",
    "                                     \"63x go\" : \"Go\",\n",
    "                                     \"63x no go\" : \"No Go\", \n",
    "                                     \"passed\" : \"Pass\", \n",
    "                                     \"pending_ephys_qc\" : \"Pending QC\"}, inplace = True)"
   ]
  },
  {
   "cell_type": "markdown",
   "metadata": {},
   "source": [
    "### Info"
   ]
  },
  {
   "cell_type": "code",
   "execution_count": 9,
   "metadata": {},
   "outputs": [
    {
     "name": "stdout",
     "output_type": "stream",
     "text": [
      "<class 'pandas.core.frame.DataFrame'>\n",
      "Int64Index: 1780 entries, 1634 to 4992\n",
      "Data columns (total 10 columns):\n",
      "Date                   1780 non-null datetime64[ns]\n",
      "User                   1780 non-null category\n",
      "Rig #                  1768 non-null category\n",
      "Morphology             1780 non-null category\n",
      "Extraction Duration    1780 non-null float64\n",
      "Retraction Duration    1780 non-null float64\n",
      "Patch Duration         1780 non-null float64\n",
      "PCR cycles             1780 non-null category\n",
      "SM_QC_PF               1780 non-null category\n",
      "Recording Duration     1780 non-null float64\n",
      "dtypes: category(5), datetime64[ns](1), float64(4)\n",
      "memory usage: 93.4 KB\n"
     ]
    }
   ],
   "source": [
    "ps.info()"
   ]
  },
  {
   "cell_type": "code",
   "execution_count": 10,
   "metadata": {},
   "outputs": [
    {
     "data": {
      "text/plain": [
       "QC            945\n",
       "Go            315\n",
       "No Go         297\n",
       "Pass          220\n",
       "Pending QC      3\n",
       "Name: Morphology, dtype: int64"
      ]
     },
     "execution_count": 10,
     "metadata": {},
     "output_type": "execute_result"
    }
   ],
   "source": [
    "ps.Morphology.value_counts()"
   ]
  },
  {
   "cell_type": "code",
   "execution_count": 11,
   "metadata": {},
   "outputs": [
    {
     "data": {
      "text/plain": [
       "P2    531\n",
       "P1    475\n",
       "P8    447\n",
       "P9    113\n",
       "PB     79\n",
       "P6     73\n",
       "PA     62\n",
       "P5      0\n",
       "P3      0\n",
       "P0      0\n",
       "Name: User, dtype: int64"
      ]
     },
     "execution_count": 11,
     "metadata": {},
     "output_type": "execute_result"
    }
   ],
   "source": [
    "ps.User.value_counts()"
   ]
  },
  {
   "cell_type": "markdown",
   "metadata": {},
   "source": [
    "### Date for this Dataset"
   ]
  },
  {
   "cell_type": "code",
   "execution_count": 12,
   "metadata": {},
   "outputs": [
    {
     "data": {
      "text/html": [
       "<div>\n",
       "<style scoped>\n",
       "    .dataframe tbody tr th:only-of-type {\n",
       "        vertical-align: middle;\n",
       "    }\n",
       "\n",
       "    .dataframe tbody tr th {\n",
       "        vertical-align: top;\n",
       "    }\n",
       "\n",
       "    .dataframe thead th {\n",
       "        text-align: right;\n",
       "    }\n",
       "</style>\n",
       "<table border=\"1\" class=\"dataframe\">\n",
       "  <thead>\n",
       "    <tr style=\"text-align: right;\">\n",
       "      <th></th>\n",
       "      <th>Date</th>\n",
       "      <th>User</th>\n",
       "      <th>Rig #</th>\n",
       "      <th>Morphology</th>\n",
       "      <th>Extraction Duration</th>\n",
       "      <th>Retraction Duration</th>\n",
       "      <th>Patch Duration</th>\n",
       "      <th>PCR cycles</th>\n",
       "      <th>SM_QC_PF</th>\n",
       "      <th>Recording Duration</th>\n",
       "    </tr>\n",
       "  </thead>\n",
       "  <tbody>\n",
       "    <tr>\n",
       "      <th>1634</th>\n",
       "      <td>2017-04-19</td>\n",
       "      <td>P2</td>\n",
       "      <td>6</td>\n",
       "      <td>QC</td>\n",
       "      <td>1.800000</td>\n",
       "      <td>0.0</td>\n",
       "      <td>4.333333</td>\n",
       "      <td>21.0</td>\n",
       "      <td>fail</td>\n",
       "      <td>2.533333</td>\n",
       "    </tr>\n",
       "    <tr>\n",
       "      <th>1635</th>\n",
       "      <td>2017-04-19</td>\n",
       "      <td>P2</td>\n",
       "      <td>6</td>\n",
       "      <td>QC</td>\n",
       "      <td>1.666667</td>\n",
       "      <td>0.0</td>\n",
       "      <td>6.566667</td>\n",
       "      <td>21.0</td>\n",
       "      <td>pass</td>\n",
       "      <td>4.900000</td>\n",
       "    </tr>\n",
       "    <tr>\n",
       "      <th>1636</th>\n",
       "      <td>2017-04-19</td>\n",
       "      <td>P2</td>\n",
       "      <td>6</td>\n",
       "      <td>QC</td>\n",
       "      <td>1.433333</td>\n",
       "      <td>0.0</td>\n",
       "      <td>8.033333</td>\n",
       "      <td>21.0</td>\n",
       "      <td>fail</td>\n",
       "      <td>6.600000</td>\n",
       "    </tr>\n",
       "    <tr>\n",
       "      <th>1637</th>\n",
       "      <td>2017-04-19</td>\n",
       "      <td>P2</td>\n",
       "      <td>6</td>\n",
       "      <td>QC</td>\n",
       "      <td>2.350000</td>\n",
       "      <td>0.0</td>\n",
       "      <td>7.416667</td>\n",
       "      <td>21.0</td>\n",
       "      <td>pass</td>\n",
       "      <td>5.066667</td>\n",
       "    </tr>\n",
       "    <tr>\n",
       "      <th>1638</th>\n",
       "      <td>2017-04-19</td>\n",
       "      <td>P2</td>\n",
       "      <td>6</td>\n",
       "      <td>QC</td>\n",
       "      <td>2.216667</td>\n",
       "      <td>0.0</td>\n",
       "      <td>4.166667</td>\n",
       "      <td>21.0</td>\n",
       "      <td>pass</td>\n",
       "      <td>1.950000</td>\n",
       "    </tr>\n",
       "  </tbody>\n",
       "</table>\n",
       "</div>"
      ],
      "text/plain": [
       "           Date User Rig # Morphology  Extraction Duration  \\\n",
       "1634 2017-04-19   P2     6         QC             1.800000   \n",
       "1635 2017-04-19   P2     6         QC             1.666667   \n",
       "1636 2017-04-19   P2     6         QC             1.433333   \n",
       "1637 2017-04-19   P2     6         QC             2.350000   \n",
       "1638 2017-04-19   P2     6         QC             2.216667   \n",
       "\n",
       "      Retraction Duration  Patch Duration PCR cycles SM_QC_PF  \\\n",
       "1634                  0.0        4.333333       21.0     fail   \n",
       "1635                  0.0        6.566667       21.0     pass   \n",
       "1636                  0.0        8.033333       21.0     fail   \n",
       "1637                  0.0        7.416667       21.0     pass   \n",
       "1638                  0.0        4.166667       21.0     pass   \n",
       "\n",
       "      Recording Duration  \n",
       "1634            2.533333  \n",
       "1635            4.900000  \n",
       "1636            6.600000  \n",
       "1637            5.066667  \n",
       "1638            1.950000  "
      ]
     },
     "execution_count": 12,
     "metadata": {},
     "output_type": "execute_result"
    }
   ],
   "source": [
    "ps.head()"
   ]
  },
  {
   "cell_type": "code",
   "execution_count": 13,
   "metadata": {},
   "outputs": [
    {
     "data": {
      "text/html": [
       "<div>\n",
       "<style scoped>\n",
       "    .dataframe tbody tr th:only-of-type {\n",
       "        vertical-align: middle;\n",
       "    }\n",
       "\n",
       "    .dataframe tbody tr th {\n",
       "        vertical-align: top;\n",
       "    }\n",
       "\n",
       "    .dataframe thead th {\n",
       "        text-align: right;\n",
       "    }\n",
       "</style>\n",
       "<table border=\"1\" class=\"dataframe\">\n",
       "  <thead>\n",
       "    <tr style=\"text-align: right;\">\n",
       "      <th></th>\n",
       "      <th>Date</th>\n",
       "      <th>User</th>\n",
       "      <th>Rig #</th>\n",
       "      <th>Morphology</th>\n",
       "      <th>Extraction Duration</th>\n",
       "      <th>Retraction Duration</th>\n",
       "      <th>Patch Duration</th>\n",
       "      <th>PCR cycles</th>\n",
       "      <th>SM_QC_PF</th>\n",
       "      <th>Recording Duration</th>\n",
       "    </tr>\n",
       "  </thead>\n",
       "  <tbody>\n",
       "    <tr>\n",
       "      <th>4949</th>\n",
       "      <td>2018-01-08</td>\n",
       "      <td>PA</td>\n",
       "      <td>7</td>\n",
       "      <td>No Go</td>\n",
       "      <td>2.083333</td>\n",
       "      <td>2.466667</td>\n",
       "      <td>10.150000</td>\n",
       "      <td>21.0</td>\n",
       "      <td>pass</td>\n",
       "      <td>5.600000</td>\n",
       "    </tr>\n",
       "    <tr>\n",
       "      <th>4959</th>\n",
       "      <td>2018-01-09</td>\n",
       "      <td>P2</td>\n",
       "      <td>3</td>\n",
       "      <td>No Go</td>\n",
       "      <td>0.466667</td>\n",
       "      <td>1.616667</td>\n",
       "      <td>13.550000</td>\n",
       "      <td>21.0</td>\n",
       "      <td>pass</td>\n",
       "      <td>11.466667</td>\n",
       "    </tr>\n",
       "    <tr>\n",
       "      <th>4970</th>\n",
       "      <td>2018-01-09</td>\n",
       "      <td>PA</td>\n",
       "      <td>7</td>\n",
       "      <td>No Go</td>\n",
       "      <td>2.033333</td>\n",
       "      <td>2.183333</td>\n",
       "      <td>11.566667</td>\n",
       "      <td>21.0</td>\n",
       "      <td>pass</td>\n",
       "      <td>7.350000</td>\n",
       "    </tr>\n",
       "    <tr>\n",
       "      <th>4975</th>\n",
       "      <td>2018-01-10</td>\n",
       "      <td>P9</td>\n",
       "      <td>6</td>\n",
       "      <td>No Go</td>\n",
       "      <td>0.516667</td>\n",
       "      <td>2.300000</td>\n",
       "      <td>10.700000</td>\n",
       "      <td>21.0</td>\n",
       "      <td>pass</td>\n",
       "      <td>7.883333</td>\n",
       "    </tr>\n",
       "    <tr>\n",
       "      <th>4992</th>\n",
       "      <td>2018-01-10</td>\n",
       "      <td>P8</td>\n",
       "      <td>4</td>\n",
       "      <td>No Go</td>\n",
       "      <td>0.616667</td>\n",
       "      <td>2.433333</td>\n",
       "      <td>11.200000</td>\n",
       "      <td>21.0</td>\n",
       "      <td>pass</td>\n",
       "      <td>8.150000</td>\n",
       "    </tr>\n",
       "  </tbody>\n",
       "</table>\n",
       "</div>"
      ],
      "text/plain": [
       "           Date User Rig # Morphology  Extraction Duration  \\\n",
       "4949 2018-01-08   PA     7      No Go             2.083333   \n",
       "4959 2018-01-09   P2     3      No Go             0.466667   \n",
       "4970 2018-01-09   PA     7      No Go             2.033333   \n",
       "4975 2018-01-10   P9     6      No Go             0.516667   \n",
       "4992 2018-01-10   P8     4      No Go             0.616667   \n",
       "\n",
       "      Retraction Duration  Patch Duration PCR cycles SM_QC_PF  \\\n",
       "4949             2.466667       10.150000       21.0     pass   \n",
       "4959             1.616667       13.550000       21.0     pass   \n",
       "4970             2.183333       11.566667       21.0     pass   \n",
       "4975             2.300000       10.700000       21.0     pass   \n",
       "4992             2.433333       11.200000       21.0     pass   \n",
       "\n",
       "      Recording Duration  \n",
       "4949            5.600000  \n",
       "4959           11.466667  \n",
       "4970            7.350000  \n",
       "4975            7.883333  \n",
       "4992            8.150000  "
      ]
     },
     "execution_count": 13,
     "metadata": {},
     "output_type": "execute_result"
    }
   ],
   "source": [
    "ps.tail()"
   ]
  },
  {
   "cell_type": "markdown",
   "metadata": {},
   "source": [
    "### Swarmplot, Violinplot & Boxplot of Patch Duration vs. Morphological Calls"
   ]
  },
  {
   "cell_type": "code",
   "execution_count": 14,
   "metadata": {},
   "outputs": [],
   "source": [
    "#Data: 4/19/2017 - 1/10/2018\n",
    "#Updated CSV Date: 3/08/2018"
   ]
  },
  {
   "cell_type": "code",
   "execution_count": 15,
   "metadata": {},
   "outputs": [
    {
     "data": {
      "text/plain": [
       "Text(0,0.5,u'Patch Duration (min)')"
      ]
     },
     "execution_count": 15,
     "metadata": {},
     "output_type": "execute_result"
    },
    {
     "data": {
      "image/png": "[encoded data removed]",
      "text/plain": [
       "<matplotlib.figure.Figure at 0xb5695c0>"
      ]
     },
     "metadata": {},
     "output_type": "display_data"
    }
   ],
   "source": [
    "sp = sns.swarmplot(x = \"Morphology\", \n",
    "                   y = \"Patch Duration\", \n",
    "                   data = ps, \n",
    "                   order = [\"No Go\",\"Pass\",\"Go\", \"QC\", \"Pending QC\"],\n",
    "                   palette = \"Set1\").set_title(\"Patch Duration vs. Morphological Calls\")\n",
    "plt.xlabel(\"Morphological Calls\")\n",
    "plt.ylabel(\"Patch Duration (min)\")"
   ]
  },
  {
   "cell_type": "code",
   "execution_count": 16,
   "metadata": {},
   "outputs": [
    {
     "data": {
      "text/plain": [
       "Text(0,0.5,u'Patch Duration (min)')"
      ]
     },
     "execution_count": 16,
     "metadata": {},
     "output_type": "execute_result"
    },
    {
     "data": {
      "image/png": "[encoded data removed]",
      "text/plain": [
       "<matplotlib.figure.Figure at 0xbb73da0>"
      ]
     },
     "metadata": {},
     "output_type": "display_data"
    }
   ],
   "source": [
    "vp = sns.violinplot(x = \"Morphology\", \n",
    "                    y = \"Patch Duration\", \n",
    "                    data = ps, \n",
    "                    order = [\"No Go\",\"Pass\",\"Go\", \"QC\", \"Pending QC\"],\n",
    "                    palette = \"Set1\").set_title(\"Patch Duration vs. Morphological Calls\")\n",
    "plt.xlabel(\"Morphological Calls\")\n",
    "plt.ylabel(\"Patch Duration (min)\")"
   ]
  },
  {
   "cell_type": "code",
   "execution_count": 17,
   "metadata": {},
   "outputs": [
    {
     "data": {
      "text/plain": [
       "Text(0,0.5,u'Patch Duration (min)')"
      ]
     },
     "execution_count": 17,
     "metadata": {},
     "output_type": "execute_result"
    },
    {
     "data": {
      "image/png": "[encoded data removed]",
      "text/plain": [
       "<matplotlib.figure.Figure at 0xb7bca90>"
      ]
     },
     "metadata": {},
     "output_type": "display_data"
    }
   ],
   "source": [
    "bp = sns.boxplot(x = \"Morphology\", \n",
    "                 y = \"Patch Duration\", \n",
    "                 data = ps, \n",
    "                 order = [\"No Go\",\"Pass\",\"Go\", \"QC\", \"Pending QC\"],\n",
    "                 palette = \"Set1\").set_title(\"Patch Duration vs. Morphological Calls\")\n",
    "plt.xlabel(\"Morphological Calls\")\n",
    "plt.ylabel(\"Patch Duration (min)\")"
   ]
  },
  {
   "cell_type": "markdown",
   "metadata": {},
   "source": [
    "### Boxplot of Patch Duration vs. Morphological Calls per User"
   ]
  },
  {
   "cell_type": "code",
   "execution_count": 18,
   "metadata": {},
   "outputs": [],
   "source": [
    "#Data: 4/19/2017 - 1/10/2018\n",
    "#Updated CSV Date: 3/08/2018\n",
    "#There are 5 categories for Morphology: \"No Go\",\"Pass\",\"Go\", \"QC\", \"Pending QC\""
   ]
  },
  {
   "cell_type": "code",
   "execution_count": 19,
   "metadata": {},
   "outputs": [
    {
     "data": {
      "text/plain": [
       "Text(0,0.5,u'Patch Duration (min)')"
      ]
     },
     "execution_count": 19,
     "metadata": {},
     "output_type": "execute_result"
    },
    {
     "data": {
      "image/png": "[encoded data removed]",
      "text/plain": [
       "<matplotlib.figure.Figure at 0xbf32b00>"
      ]
     },
     "metadata": {},
     "output_type": "display_data"
    }
   ],
   "source": [
    "bp = sns.boxplot(x = \"User\", \n",
    "                 y = \"Patch Duration\", \n",
    "                 hue = \"Morphology\", \n",
    "                 data = ps, \n",
    "                 order = [\"P1\", \"P2\", \"P8\", \"P9\", \"PA\", \"PB\"], \n",
    "                 hue_order = [\"No Go\",\"Pass\",\"Go\"],\n",
    "                 palette = \"Set1\").set_title(\"Patch Duration vs. Morphological Calls per User\")\n",
    "plt.xlabel(\"Morphological Calls\")\n",
    "plt.ylabel(\"Patch Duration (min)\")\n",
    "#plt.legend(loc = \"upper right\")\n",
    "#plt.savefig(\"box_patch_duration_vs_morph_user\")"
   ]
  },
  {
   "cell_type": "markdown",
   "metadata": {},
   "source": [
    "### Extra Info: Countplot of Patch Duration vs. Morphological Calls per User"
   ]
  },
  {
   "cell_type": "code",
   "execution_count": 20,
   "metadata": {},
   "outputs": [],
   "source": [
    "#Lisa has better stacked plot of Morph vs User"
   ]
  },
  {
   "cell_type": "code",
   "execution_count": 21,
   "metadata": {},
   "outputs": [],
   "source": [
    "#Data: 4/19/2017 - 1/10/2018\n",
    "#Updated CSV Date: 3/08/2018\n",
    "#There are 5 categories for Morphology: \"No Go\",\"Pass\",\"Go\", \"QC\", \"Pending QC\""
   ]
  },
  {
   "cell_type": "code",
   "execution_count": 22,
   "metadata": {},
   "outputs": [
    {
     "data": {
      "text/plain": [
       "Text(0,0.5,u'Count of Morphological Calls')"
      ]
     },
     "execution_count": 22,
     "metadata": {},
     "output_type": "execute_result"
    },
    {
     "data": {
      "image/png": "[encoded data removed]",
      "text/plain": [
       "<matplotlib.figure.Figure at 0xbd27240>"
      ]
     },
     "metadata": {},
     "output_type": "display_data"
    }
   ],
   "source": [
    "cp = sns.countplot(x = \"User\", \n",
    "                   hue = \"Morphology\", \n",
    "                   data = ps, \n",
    "                   order = [\"P1\", \"P2\", \"P8\", \"P9\", \"PA\", \"PB\"], \n",
    "                   hue_order = [\"No Go\",\"Go\"], \n",
    "                   palette = \"Set1\").set_title(\"Morphological Calls vs. User\")\n",
    "plt.xlabel(\"PatchSeq Users\")\n",
    "plt.ylabel(\"Count of Morphological Calls\")"
   ]
  },
  {
   "cell_type": "markdown",
   "metadata": {},
   "source": [
    "### Extra: Trying to recreate Lisa's Stacked Percentage Plot of Morph vs User"
   ]
  },
  {
   "cell_type": "code",
   "execution_count": 23,
   "metadata": {},
   "outputs": [
    {
     "data": {
      "text/html": [
       "<div>\n",
       "<style scoped>\n",
       "    .dataframe tbody tr th:only-of-type {\n",
       "        vertical-align: middle;\n",
       "    }\n",
       "\n",
       "    .dataframe tbody tr th {\n",
       "        vertical-align: top;\n",
       "    }\n",
       "\n",
       "    .dataframe thead th {\n",
       "        text-align: right;\n",
       "    }\n",
       "</style>\n",
       "<table border=\"1\" class=\"dataframe\">\n",
       "  <thead>\n",
       "    <tr style=\"text-align: right;\">\n",
       "      <th></th>\n",
       "      <th>Date</th>\n",
       "      <th>User</th>\n",
       "      <th>Morphology</th>\n",
       "      <th>Rig #</th>\n",
       "    </tr>\n",
       "  </thead>\n",
       "  <tbody>\n",
       "    <tr>\n",
       "      <th>3659</th>\n",
       "      <td>2017-08-11</td>\n",
       "      <td>P1</td>\n",
       "      <td>No Go</td>\n",
       "      <td>7</td>\n",
       "    </tr>\n",
       "    <tr>\n",
       "      <th>3660</th>\n",
       "      <td>2017-08-11</td>\n",
       "      <td>P1</td>\n",
       "      <td>No Go</td>\n",
       "      <td>7</td>\n",
       "    </tr>\n",
       "    <tr>\n",
       "      <th>3667</th>\n",
       "      <td>2017-08-16</td>\n",
       "      <td>P8</td>\n",
       "      <td>Go</td>\n",
       "      <td>7</td>\n",
       "    </tr>\n",
       "    <tr>\n",
       "      <th>3668</th>\n",
       "      <td>2017-08-16</td>\n",
       "      <td>P8</td>\n",
       "      <td>No Go</td>\n",
       "      <td>7</td>\n",
       "    </tr>\n",
       "    <tr>\n",
       "      <th>3670</th>\n",
       "      <td>2017-08-16</td>\n",
       "      <td>P8</td>\n",
       "      <td>Go</td>\n",
       "      <td>7</td>\n",
       "    </tr>\n",
       "  </tbody>\n",
       "</table>\n",
       "</div>"
      ],
      "text/plain": [
       "           Date User Morphology Rig #\n",
       "3659 2017-08-11   P1      No Go     7\n",
       "3660 2017-08-11   P1      No Go     7\n",
       "3667 2017-08-16   P8         Go     7\n",
       "3668 2017-08-16   P8      No Go     7\n",
       "3670 2017-08-16   P8         Go     7"
      ]
     },
     "execution_count": 23,
     "metadata": {},
     "output_type": "execute_result"
    }
   ],
   "source": [
    "ps2 = ps[[\"Date\", \"User\", \"Morphology\", \"Rig #\"]]\n",
    "ps2 = ps2[(ps2[\"Morphology\"] == \"No Go\") | (ps2[\"Morphology\"] == \"Go\")] \n",
    "ps2.head()"
   ]
  },
  {
   "cell_type": "code",
   "execution_count": 24,
   "metadata": {},
   "outputs": [
    {
     "data": {
      "text/html": [
       "<div>\n",
       "<style scoped>\n",
       "    .dataframe tbody tr th:only-of-type {\n",
       "        vertical-align: middle;\n",
       "    }\n",
       "\n",
       "    .dataframe tbody tr th {\n",
       "        vertical-align: top;\n",
       "    }\n",
       "\n",
       "    .dataframe thead th {\n",
       "        text-align: right;\n",
       "    }\n",
       "</style>\n",
       "<table border=\"1\" class=\"dataframe\">\n",
       "  <thead>\n",
       "    <tr style=\"text-align: right;\">\n",
       "      <th></th>\n",
       "      <th>User</th>\n",
       "      <th>Morphology</th>\n",
       "      <th>Count</th>\n",
       "    </tr>\n",
       "  </thead>\n",
       "  <tbody>\n",
       "    <tr>\n",
       "      <th>3659</th>\n",
       "      <td>P1</td>\n",
       "      <td>No Go</td>\n",
       "      <td>7</td>\n",
       "    </tr>\n",
       "    <tr>\n",
       "      <th>3660</th>\n",
       "      <td>P1</td>\n",
       "      <td>No Go</td>\n",
       "      <td>7</td>\n",
       "    </tr>\n",
       "    <tr>\n",
       "      <th>3667</th>\n",
       "      <td>P8</td>\n",
       "      <td>Go</td>\n",
       "      <td>7</td>\n",
       "    </tr>\n",
       "    <tr>\n",
       "      <th>3668</th>\n",
       "      <td>P8</td>\n",
       "      <td>No Go</td>\n",
       "      <td>7</td>\n",
       "    </tr>\n",
       "    <tr>\n",
       "      <th>3670</th>\n",
       "      <td>P8</td>\n",
       "      <td>Go</td>\n",
       "      <td>7</td>\n",
       "    </tr>\n",
       "  </tbody>\n",
       "</table>\n",
       "</div>"
      ],
      "text/plain": [
       "     User Morphology Count\n",
       "3659   P1      No Go     7\n",
       "3660   P1      No Go     7\n",
       "3667   P8         Go     7\n",
       "3668   P8      No Go     7\n",
       "3670   P8         Go     7"
      ]
     },
     "execution_count": 24,
     "metadata": {},
     "output_type": "execute_result"
    }
   ],
   "source": [
    "ps3 = ps2[[\"User\", \"Morphology\", \"Rig #\"]]\n",
    "ps3 = ps3.rename(columns={\"Rig #\": \"Count\"})\n",
    "ps3.head()"
   ]
  },
  {
   "cell_type": "code",
   "execution_count": 25,
   "metadata": {},
   "outputs": [
    {
     "data": {
      "text/html": [
       "<div>\n",
       "<style scoped>\n",
       "    .dataframe tbody tr th:only-of-type {\n",
       "        vertical-align: middle;\n",
       "    }\n",
       "\n",
       "    .dataframe tbody tr th {\n",
       "        vertical-align: top;\n",
       "    }\n",
       "\n",
       "    .dataframe thead th {\n",
       "        text-align: right;\n",
       "    }\n",
       "</style>\n",
       "<table border=\"1\" class=\"dataframe\">\n",
       "  <thead>\n",
       "    <tr style=\"text-align: right;\">\n",
       "      <th></th>\n",
       "      <th></th>\n",
       "      <th>Count</th>\n",
       "    </tr>\n",
       "    <tr>\n",
       "      <th>User</th>\n",
       "      <th>Morphology</th>\n",
       "      <th></th>\n",
       "    </tr>\n",
       "  </thead>\n",
       "  <tbody>\n",
       "    <tr>\n",
       "      <th rowspan=\"5\" valign=\"top\">P0</th>\n",
       "      <th>Go</th>\n",
       "      <td>NaN</td>\n",
       "    </tr>\n",
       "    <tr>\n",
       "      <th>No Go</th>\n",
       "      <td>NaN</td>\n",
       "    </tr>\n",
       "    <tr>\n",
       "      <th>Pass</th>\n",
       "      <td>NaN</td>\n",
       "    </tr>\n",
       "    <tr>\n",
       "      <th>Pending QC</th>\n",
       "      <td>NaN</td>\n",
       "    </tr>\n",
       "    <tr>\n",
       "      <th>QC</th>\n",
       "      <td>NaN</td>\n",
       "    </tr>\n",
       "  </tbody>\n",
       "</table>\n",
       "</div>"
      ],
      "text/plain": [
       "                 Count\n",
       "User Morphology       \n",
       "P0   Go            NaN\n",
       "     No Go         NaN\n",
       "     Pass          NaN\n",
       "     Pending QC    NaN\n",
       "     QC            NaN"
      ]
     },
     "execution_count": 25,
     "metadata": {},
     "output_type": "execute_result"
    }
   ],
   "source": [
    "ps4 = ps3.groupby([\"User\", \"Morphology\"]).count()\n",
    "ps4.head()"
   ]
  },
  {
   "cell_type": "code",
   "execution_count": 26,
   "metadata": {},
   "outputs": [
    {
     "data": {
      "text/html": [
       "<div>\n",
       "<style scoped>\n",
       "    .dataframe tbody tr th:only-of-type {\n",
       "        vertical-align: middle;\n",
       "    }\n",
       "\n",
       "    .dataframe tbody tr th {\n",
       "        vertical-align: top;\n",
       "    }\n",
       "\n",
       "    .dataframe thead th {\n",
       "        text-align: right;\n",
       "    }\n",
       "</style>\n",
       "<table border=\"1\" class=\"dataframe\">\n",
       "  <thead>\n",
       "    <tr style=\"text-align: right;\">\n",
       "      <th></th>\n",
       "      <th>User</th>\n",
       "      <th>Morphology</th>\n",
       "      <th>Count</th>\n",
       "    </tr>\n",
       "  </thead>\n",
       "  <tbody>\n",
       "    <tr>\n",
       "      <th>0</th>\n",
       "      <td>P0</td>\n",
       "      <td>Go</td>\n",
       "      <td>NaN</td>\n",
       "    </tr>\n",
       "    <tr>\n",
       "      <th>1</th>\n",
       "      <td>P0</td>\n",
       "      <td>No Go</td>\n",
       "      <td>NaN</td>\n",
       "    </tr>\n",
       "    <tr>\n",
       "      <th>2</th>\n",
       "      <td>P0</td>\n",
       "      <td>Pass</td>\n",
       "      <td>NaN</td>\n",
       "    </tr>\n",
       "    <tr>\n",
       "      <th>3</th>\n",
       "      <td>P0</td>\n",
       "      <td>Pending QC</td>\n",
       "      <td>NaN</td>\n",
       "    </tr>\n",
       "    <tr>\n",
       "      <th>4</th>\n",
       "      <td>P0</td>\n",
       "      <td>QC</td>\n",
       "      <td>NaN</td>\n",
       "    </tr>\n",
       "  </tbody>\n",
       "</table>\n",
       "</div>"
      ],
      "text/plain": [
       "  User  Morphology  Count\n",
       "0   P0          Go    NaN\n",
       "1   P0       No Go    NaN\n",
       "2   P0        Pass    NaN\n",
       "3   P0  Pending QC    NaN\n",
       "4   P0          QC    NaN"
      ]
     },
     "execution_count": 26,
     "metadata": {},
     "output_type": "execute_result"
    }
   ],
   "source": [
    "ps4 = ps4.reset_index()\n",
    "ps4.head()"
   ]
  },
  {
   "cell_type": "code",
   "execution_count": 27,
   "metadata": {},
   "outputs": [
    {
     "data": {
      "text/html": [
       "<div>\n",
       "<style scoped>\n",
       "    .dataframe tbody tr th:only-of-type {\n",
       "        vertical-align: middle;\n",
       "    }\n",
       "\n",
       "    .dataframe tbody tr th {\n",
       "        vertical-align: top;\n",
       "    }\n",
       "\n",
       "    .dataframe thead th {\n",
       "        text-align: right;\n",
       "    }\n",
       "</style>\n",
       "<table border=\"1\" class=\"dataframe\">\n",
       "  <thead>\n",
       "    <tr style=\"text-align: right;\">\n",
       "      <th></th>\n",
       "      <th>User</th>\n",
       "      <th>Morphology</th>\n",
       "      <th>Count</th>\n",
       "    </tr>\n",
       "  </thead>\n",
       "  <tbody>\n",
       "    <tr>\n",
       "      <th>0</th>\n",
       "      <td>P0</td>\n",
       "      <td>Go</td>\n",
       "      <td>NaN</td>\n",
       "    </tr>\n",
       "    <tr>\n",
       "      <th>1</th>\n",
       "      <td>P0</td>\n",
       "      <td>No Go</td>\n",
       "      <td>NaN</td>\n",
       "    </tr>\n",
       "    <tr>\n",
       "      <th>2</th>\n",
       "      <td>P0</td>\n",
       "      <td>Pass</td>\n",
       "      <td>NaN</td>\n",
       "    </tr>\n",
       "    <tr>\n",
       "      <th>3</th>\n",
       "      <td>P0</td>\n",
       "      <td>Pending QC</td>\n",
       "      <td>NaN</td>\n",
       "    </tr>\n",
       "    <tr>\n",
       "      <th>4</th>\n",
       "      <td>P0</td>\n",
       "      <td>QC</td>\n",
       "      <td>NaN</td>\n",
       "    </tr>\n",
       "  </tbody>\n",
       "</table>\n",
       "</div>"
      ],
      "text/plain": [
       "  User  Morphology  Count\n",
       "0   P0          Go    NaN\n",
       "1   P0       No Go    NaN\n",
       "2   P0        Pass    NaN\n",
       "3   P0  Pending QC    NaN\n",
       "4   P0          QC    NaN"
      ]
     },
     "execution_count": 27,
     "metadata": {},
     "output_type": "execute_result"
    }
   ],
   "source": [
    "ps4a = ps4[[\"User\", \"Morphology\", \"Count\"]]\n",
    "ps4a.head()"
   ]
  },
  {
   "cell_type": "code",
   "execution_count": 28,
   "metadata": {},
   "outputs": [],
   "source": [
    "#ps5 = ps4a.rename(columns={\"Morph\": ' '})\n",
    "#ps6 = ps5.pivot_table(values=[' '], index=[\"User\"], columns=[\"\"], aggfunc=\"sum\")\n",
    "#ps6.fillna(0, inplace = True)\n",
    "#ps6"
   ]
  },
  {
   "cell_type": "code",
   "execution_count": null,
   "metadata": {},
   "outputs": [],
   "source": []
  }
 ],
 "metadata": {
  "kernelspec": {
   "display_name": "Python 2",
   "language": "python",
   "name": "python2"
  },
  "language_info": {
   "codemirror_mode": {
    "name": "ipython",
    "version": 2
   },
   "file_extension": ".py",
   "mimetype": "text/x-python",
   "name": "python",
   "nbconvert_exporter": "python",
   "pygments_lexer": "ipython2",
   "version": "2.7.14"
  }
 },
 "nbformat": 4,
 "nbformat_minor": 2
}
