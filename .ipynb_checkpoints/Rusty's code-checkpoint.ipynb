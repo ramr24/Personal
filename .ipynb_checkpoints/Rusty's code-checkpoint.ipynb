{
 "cells": [
  {
   "cell_type": "markdown",
   "metadata": {},
   "source": [
    "# Clean up Rusty's script"
   ]
  },
  {
   "cell_type": "markdown",
   "metadata": {},
   "source": [
    "#### Rusty's full script"
   ]
  },
  {
   "cell_type": "code",
   "execution_count": null,
   "metadata": {},
   "outputs": [],
   "source": [
    "# -*- coding: utf-8 -*-\n",
    "\"\"\"\n",
    "Created on Wed Feb 25 14:38:51 2015\n",
    "\n",
    "@author: jamesb\n",
    "\"\"\"\n",
    "\n",
    "from Tkinter import *\n",
    "import psycopg2\n",
    "import os\n",
    "import numpy as np\n",
    "import h5py\n",
    "from scipy import stats\n",
    "import shutil\n",
    "import argparse\n",
    "import csv"
   ]
  },
  {
   "cell_type": "code",
   "execution_count": null,
   "metadata": {},
   "outputs": [],
   "source": [
    "missing_in_LIMS = []\n",
    "In_LIMS = []\n",
    "\n",
    "def moveIgorspecimen(specimen,missing_in_LIMS,In_LIMS):\n",
    "    # Get the 1-sec sweeps for f-I curve et al.\n",
    "    conn = psycopg2.connect('host=limsdb2 dbname=lims2 user=limsreader password=limsro')\n",
    "    cur = conn.cursor()\n",
    "    \n",
    "    cur.execute(\"SELECT s.name, s.ephys_roi_result_id, s.id FROM specimens s WHERE s.name LIKE %s\", ('%' + specimen,))\n",
    "    result = cur.fetchone()\n",
    "    if result is None:\n",
    "        #print \"Could not find specimen result for \" + specimen + \". Skipping...\"\n",
    "        missing_in_LIMS.append(specimen)\n",
    "        return missing_in_LIMS  \n",
    "    #print \"Specimen: \" + result[0]\n",
    "    #print \"EphysRoiResult: \" + str(result[1])\n",
    "    global specimen_name\n",
    "    specimen_name = result[0]\n",
    "    ephys_roi_result_id = result[1]\n",
    "    specimen_id = result[2]\n",
    "    #specimen_hd5 = \n",
    "    \n",
    "    cur.execute(\"SELECT f.filename, f.storage_directory FROM well_known_files f \\\n",
    "                 WHERE f.attachable_type = 'EphysRoiResult' AND f.attachable_id = %s AND f.filename LIKE '%%pxp'\", \n",
    "                 (ephys_roi_result_id,))\n",
    "    result = cur.fetchone()\n",
    "    #print result\n",
    "    if result is None:\n",
    "        #print \"Could not find pxp file for \" + specimen + \". Skipping...\"\n",
    "        missing_in_LIMS.append(specimen)\n",
    "        return missing_in_LIMS\n",
    "    WinP = LinuxtoWindow(result[1])\n",
    "    pxp_path = WinP + result[0]\n",
    "    #hdf5_path =\n",
    "    #print \"Pxp file: \" + pxp_path\n",
    "    #pxp_dest = \"C:/Rusty_LIMS_check/IgorTemp/\" + specimen + \".pxp\"\n",
    "    In_LIMS.append(specimen)\n",
    "    return In_LIMS\n",
    "    # shutil.copyfile(pxp_path,pxp_dest)"
   ]
  },
  {
   "cell_type": "code",
   "execution_count": null,
   "metadata": {},
   "outputs": [],
   "source": [
    "def LinuxtoWindow(Linuxpath):\n",
    "    SplitLinux = Linuxpath.split('/')\n",
    "    #I should be able to link to \\\\titan, but I can't figure it out, so I mapped //titan/cns to y:    \n",
    "    #WindowsP = os.path.join('y:/','mousecelltypes',SplitLinux[4],SplitLinux[5],'')\n",
    "    WindowsP =\"//\" + os.path.join('titan','cns','mousecelltypes',SplitLinux[4],SplitLinux[5],'')    \n",
    "    return (WindowsP)"
   ]
  },
  {
   "cell_type": "code",
   "execution_count": null,
   "metadata": {},
   "outputs": [],
   "source": [
    "def get_filepaths(directory):\n",
    "    \"\"\"\n",
    "    This function will generate the file names in a directory\n",
    "    tree by walking the tree either top-down or bottom-up. For each\n",
    "    directory in the tree rooted at directory top (including top itself),\n",
    "    it yields a 3-tuple (dirpath, dirnames, filenames).\n",
    "    \"\"\"\n",
    "    file_paths = []  # List which will store all of the full filepaths.\n",
    " \n",
    "    # Walk the tree.\n",
    "    for root, directories, files in os.walk(directory):\n",
    "        for filename in files:\n",
    "            # Join the two strings in order to form the full filepath.\n",
    "            #filepath = os.path.join(root, filename)\n",
    "           \n",
    "            file_paths.append(filename)  # Add it to the list.\n",
    " \n",
    "    return file_paths  # Self-explanatory."
   ]
  },
  {
   "cell_type": "code",
   "execution_count": null,
   "metadata": {},
   "outputs": [],
   "source": [
    "# Run the above function and store its results in a variable. \n",
    "full_file_paths = get_filepaths(\"//allen/programs/celltypes/workgroups/279/Patch-Seq\")\n",
    "#full_file_paths = get_filepaths(\"Z:/Patch-Seq/\")\n",
    "#full_file_paths = get_filepaths(\"Z:/MIES experiments/\")\n",
    "#this needs to be (Netowrk:/AIBSDATA/279/MIES experiments) might have to connect similar to LinuxtoWindow function\n",
    "#Try (\\\\\\\\AIBSDATA\\\\279\\\\MIES experiments)\n",
    "#print 'all file paths',full_file_paths"
   ]
  },
  {
   "cell_type": "code",
   "execution_count": null,
   "metadata": {},
   "outputs": [],
   "source": [
    "#Finds all experiments with an associated 4x tif image file; only completed experiments have a 4x tif file so it leaves out incomplete experiments\n",
    "def find_exp_files(full_file_paths):\n",
    "    exp_files = []\n",
    "    for f in full_file_paths:\n",
    "        if f.endswith('.pxp'): \n",
    "            exp_files.append(f)\n",
    "    return exp_files\n",
    "\n",
    "all_exp_files = find_exp_files(full_file_paths)\n",
    "#print 'all exp files', all_exp_files\n",
    "'''\n",
    "with open('C:/Rusty_LIMS_check/all_exp_files.csv', 'wb') as csvfile:\n",
    "    spamwriter = csv.writer(csvfile, delimiter=' ',\n",
    "                            quotechar='|', quoting=csv.QUOTE_MINIMAL)\n",
    "    for i in all_exp_files:\n",
    "        spamwriter.writerow([i])\n",
    "'''"
   ]
  },
  {
   "cell_type": "code",
   "execution_count": null,
   "metadata": {},
   "outputs": [],
   "source": [
    "#Trims down all file names, human or mouse to just specimen name\n",
    "def trim_exp_files(all_exp_files):\n",
    "    exp_list_1 = []\n",
    "    for f in all_exp_files:\n",
    "        if f.startswith('H1'):\n",
    "            exp_list_1.append(f)\n",
    "        else:\n",
    "            exp_list_1.append(f[-19:])\n",
    "    return exp_list_1\n",
    "trimmed_files = trim_exp_files(all_exp_files)\n",
    "#print 'trimmed files', trimmed_files"
   ]
  },
  {
   "cell_type": "code",
   "execution_count": null,
   "metadata": {},
   "outputs": [],
   "source": [
    "#Yields list of all human and mouse specimen numbers for every successful experiment for conducting database comparison\n",
    "def exp_list(trimmed_files):\n",
    "    exp_list = []\n",
    "    for f in trimmed_files:\n",
    "        if f.startswith('H1'):\n",
    "            if len(f) == 26:\n",
    "                exp_list.append(f[:22])\n",
    "            else:\n",
    "                if len(f) == 23:\n",
    "                    exp_list.append(f[:19])\n",
    "        else:\n",
    "            exp_list.append(f[:15])\n",
    "    return exp_list\n",
    "experiment_list = exp_list(trimmed_files)\n",
    "#print 'experiment list', experiment_list \n",
    "\n",
    "for i in experiment_list:\n",
    "    moveIgorspecimen(row[0],missing_in_LIMS,In_LIMS)\n",
    "\n",
    "#csv writer: writes specimen names to csv file\n",
    "#with open('C:/Rusty_LIMS_check/igor.csv', 'wb') as csvfile:\n",
    "#    spamwriter = csv.writer(csvfile, delimiter=' ',\n",
    "#                            quotechar='|', quoting=csv.QUOTE_MINIMAL)\n",
    "#    for i in experiment_list:\n",
    "#        spamwriter.writerow([i])\n",
    "#csv reader: reads specimen names from csv file\n",
    "#with open(\"C:/Rusty_LIMS_check/igor.csv\", 'rb') as csvfile:\n",
    "#    igorreader = csv.reader(csvfile, delimiter=' ', quotechar='|')\n",
    "#    for row in igorreader:\n",
    "#        moveIgorspecimen(row[0],missing_in_LIMS,In_LIMS)\n",
    "    \n",
    "#Gives list of all experiments that were not found in LIMS\n",
    "print \"Missing in LIMS\", missing_in_LIMS\n",
    "#print \"In LIMS\", In_LIMS"
   ]
  },
  {
   "cell_type": "code",
   "execution_count": null,
   "metadata": {},
   "outputs": [],
   "source": [
    "# creates list of folders that have at least one specimen missing in LIMS(will contain repeats where a folder has more than one experiment that did not upload to LIMS)\n",
    "def folders_missing_in_LIMS(specimens):\n",
    "    missing_in_LIMS_folders = []\n",
    "    for specimen in missing_in_LIMS:\n",
    "        if specimen.startswith('H1'):\n",
    "            missing_in_LIMS_folders.append(specimen[:10])\n",
    "        else:\n",
    "            missing_in_LIMS_folders.append(specimen[:6])\n",
    "    return missing_in_LIMS_folders\n",
    "\n",
    "folders_notIn_LIMS = folders_missing_in_LIMS(missing_in_LIMS)\n",
    "#print \"folders not in LIMS\", folders_notIn_LIMS\n",
    "\n",
    "#Returns ordered list of folders that contain experiments that did not upload to LIMS without repeats\n",
    "folders_notIn_LIMS = list(set(folders_notIn_LIMS))\n",
    "folders_notIn_LIMS.sort()\n",
    "print \"folders not in LIMS\", folders_notIn_LIMS "
   ]
  },
  {
   "cell_type": "code",
   "execution_count": null,
   "metadata": {},
   "outputs": [],
   "source": [
    "#Returns list of folders already in destination directory\n",
    "def lst_dest_dir(directory):\n",
    "    dest_dir_lst = []\n",
    "    for root, directories, files in os.walk(directory):\n",
    "        for foldername in directories:\n",
    "            dest_dir_lst.append(foldername)\n",
    "    return dest_dir_lst\n",
    "dest_directory = lst_dest_dir('F:/EphysData/Patch-Seq/')\n",
    "#print 'destination directory', dest_directory"
   ]
  },
  {
   "cell_type": "code",
   "execution_count": null,
   "metadata": {},
   "outputs": [],
   "source": [
    "def folders_in_LIMS(specimens):\n",
    "    In_LIMS_folders = []\n",
    "    for specimen in In_LIMS:\n",
    "        if specimen.startswith(\"H1\"):\n",
    "            In_LIMS_folders.append(specimen[:10])\n",
    "        else:\n",
    "            In_LIMS_folders.append(specimen[:6])\n",
    "    return In_LIMS_folders\n",
    "\n",
    "folders_InLIMS = folders_in_LIMS(In_LIMS)\n",
    "#print 'folders in LIMS', folders_InLIMS\n",
    "\n",
    "#Returns ordered list of folders, without repeats, in which all experiments containted within were found in LIMS\n",
    "folders_InLIMS = list(set(folders_InLIMS))\n",
    "folders_InLIMS.sort()\n",
    "#print 'folders in LIMS', folders_InLIMS"
   ]
  },
  {
   "cell_type": "code",
   "execution_count": null,
   "metadata": {},
   "outputs": [],
   "source": [
    "#Defines folders to move - only the folders that are not also in the \"folders_notIn_LIMS\" list and \"dest_directory\" list\n",
    "def folders_to_move(folders_InLIMS):\n",
    "    In_LIMS_folders_toMove = []\n",
    "    for folder in folders_InLIMS:\n",
    "        if folder not in folders_notIn_LIMS and folder not in dest_directory:\n",
    "            In_LIMS_folders_toMove.append(folder)\n",
    "    return In_LIMS_folders_toMove\n",
    "    \n",
    "folders_that_move = folders_to_move(folders_InLIMS)\n",
    "print \"folders that move\", folders_that_move\n",
    "\n",
    "#Attaching pathway to folders that will move directories\n",
    "folders_that_move_dirs = [\"//allen/programs/celltypes/workgroups/279/Patch-Seq/\" + x for x in folders_that_move]\n",
    "#print \"folder that move directories\", folders_that_move_dirs\n",
    "\n",
    "dest_dir = \"F:/EphysData/Patch-Seq/\"\n",
    "\n",
    "#for directory in folders_that_move_dirs:\n",
    "#    try:\n",
    "#        shutil.move(directory, dest_dir)\n",
    "#    except (OSError, IOError), e:\n",
    "#        print >>sys.stderr, 'Error moving %s to %s: %s' % (directory, dest_dir, e)\n",
    "                       \n",
    "#print 'Moved_list', os.listdir(\"F:/EphysData/Patch-Seq/\")"
   ]
  },
  {
   "cell_type": "code",
   "execution_count": null,
   "metadata": {},
   "outputs": [],
   "source": [
    "#csv writer to write specimen names of files missing in LIMS to csv file\n",
    "with open('C:/Rusty_LIMS_check/not_in_LIMS_ps.csv', 'wb') as csvfile:\n",
    "    spamwriter = csv.writer(csvfile, delimiter=' ',\n",
    "                            quotechar='|', quoting=csv.QUOTE_MINIMAL)\n",
    "    for i in missing_in_LIMS:\n",
    "        spamwriter.writerow([i])"
   ]
  },
  {
   "cell_type": "code",
   "execution_count": null,
   "metadata": {},
   "outputs": [],
   "source": []
  },
  {
   "cell_type": "code",
   "execution_count": null,
   "metadata": {},
   "outputs": [],
   "source": []
  },
  {
   "cell_type": "code",
   "execution_count": null,
   "metadata": {},
   "outputs": [],
   "source": []
  }
 ],
 "metadata": {
  "kernelspec": {
   "display_name": "Python 3",
   "language": "python",
   "name": "python3"
  },
  "language_info": {
   "codemirror_mode": {
    "name": "ipython",
    "version": 3
   },
   "file_extension": ".py",
   "mimetype": "text/x-python",
   "name": "python",
   "nbconvert_exporter": "python",
   "pygments_lexer": "ipython3",
   "version": "3.6.5"
  }
 },
 "nbformat": 4,
 "nbformat_minor": 2
}
