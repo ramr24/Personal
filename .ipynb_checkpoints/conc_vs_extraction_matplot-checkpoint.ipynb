{
 "cells": [
  {
   "cell_type": "markdown",
   "metadata": {},
   "source": [
    "# Matplot: Concentration vs. Extraction Time"
   ]
  },
  {
   "cell_type": "code",
   "execution_count": 1,
   "metadata": {},
   "outputs": [],
   "source": [
    "import csv\n",
    "import pandas as pd\n",
    "import numpy as np\n",
    "import seaborn as sns\n",
    "import matplotlib.pyplot as plt\n",
    "from datetime import datetime\n",
    "%matplotlib inline\n",
    "sns.set_style('white')"
   ]
  },
  {
   "cell_type": "code",
   "execution_count": 2,
   "metadata": {
    "collapsed": true
   },
   "outputs": [],
   "source": [
    "ps = pd.read_csv(\"patch_seq_log_mouse.csv\")"
   ]
  },
  {
   "cell_type": "code",
   "execution_count": 3,
   "metadata": {},
   "outputs": [
    {
     "data": {
      "text/html": [
       "<div>\n",
       "<style>\n",
       "    .dataframe thead tr:only-child th {\n",
       "        text-align: right;\n",
       "    }\n",
       "\n",
       "    .dataframe thead th {\n",
       "        text-align: left;\n",
       "    }\n",
       "\n",
       "    .dataframe tbody tr th {\n",
       "        vertical-align: top;\n",
       "    }\n",
       "</style>\n",
       "<table border=\"1\" class=\"dataframe\">\n",
       "  <thead>\n",
       "    <tr style=\"text-align: right;\">\n",
       "      <th></th>\n",
       "      <th>Date</th>\n",
       "      <th>Post patch?</th>\n",
       "      <th>Post patch pipette R</th>\n",
       "      <th>PCR cycles</th>\n",
       "      <th>Time spent extracting cytosol</th>\n",
       "      <th>patch duration</th>\n",
       "      <th>BA conc. &gt;400 (pg/uL)</th>\n",
       "      <th>SM_QC_PF</th>\n",
       "    </tr>\n",
       "  </thead>\n",
       "  <tbody>\n",
       "    <tr>\n",
       "      <th>1634</th>\n",
       "      <td>2017-04-19</td>\n",
       "      <td>Outside-Out</td>\n",
       "      <td>NaN</td>\n",
       "      <td>21.0</td>\n",
       "      <td>1.800000</td>\n",
       "      <td>4.333333</td>\n",
       "      <td>8.0</td>\n",
       "      <td>fail</td>\n",
       "    </tr>\n",
       "    <tr>\n",
       "      <th>1635</th>\n",
       "      <td>2017-04-19</td>\n",
       "      <td>Outside-Out</td>\n",
       "      <td>NaN</td>\n",
       "      <td>21.0</td>\n",
       "      <td>1.666667</td>\n",
       "      <td>6.566667</td>\n",
       "      <td>461.0</td>\n",
       "      <td>pass</td>\n",
       "    </tr>\n",
       "    <tr>\n",
       "      <th>1636</th>\n",
       "      <td>2017-04-19</td>\n",
       "      <td>No-Seal</td>\n",
       "      <td>NaN</td>\n",
       "      <td>21.0</td>\n",
       "      <td>1.433333</td>\n",
       "      <td>8.033333</td>\n",
       "      <td>1.0</td>\n",
       "      <td>fail</td>\n",
       "    </tr>\n",
       "    <tr>\n",
       "      <th>1637</th>\n",
       "      <td>2017-04-19</td>\n",
       "      <td>Nucleated</td>\n",
       "      <td>NaN</td>\n",
       "      <td>21.0</td>\n",
       "      <td>2.350000</td>\n",
       "      <td>7.416667</td>\n",
       "      <td>979.0</td>\n",
       "      <td>pass</td>\n",
       "    </tr>\n",
       "    <tr>\n",
       "      <th>1638</th>\n",
       "      <td>2017-04-19</td>\n",
       "      <td>Outside-Out</td>\n",
       "      <td>NaN</td>\n",
       "      <td>21.0</td>\n",
       "      <td>2.216667</td>\n",
       "      <td>4.166667</td>\n",
       "      <td>456.0</td>\n",
       "      <td>pass</td>\n",
       "    </tr>\n",
       "  </tbody>\n",
       "</table>\n",
       "</div>"
      ],
      "text/plain": [
       "           Date  Post patch?  Post patch pipette R  PCR cycles  \\\n",
       "1634 2017-04-19  Outside-Out                   NaN        21.0   \n",
       "1635 2017-04-19  Outside-Out                   NaN        21.0   \n",
       "1636 2017-04-19      No-Seal                   NaN        21.0   \n",
       "1637 2017-04-19    Nucleated                   NaN        21.0   \n",
       "1638 2017-04-19  Outside-Out                   NaN        21.0   \n",
       "\n",
       "      Time spent extracting cytosol  patch duration  BA conc. >400 (pg/uL)  \\\n",
       "1634                       1.800000        4.333333                    8.0   \n",
       "1635                       1.666667        6.566667                  461.0   \n",
       "1636                       1.433333        8.033333                    1.0   \n",
       "1637                       2.350000        7.416667                  979.0   \n",
       "1638                       2.216667        4.166667                  456.0   \n",
       "\n",
       "     SM_QC_PF  \n",
       "1634     fail  \n",
       "1635     pass  \n",
       "1636     fail  \n",
       "1637     pass  \n",
       "1638     pass  "
      ]
     },
     "execution_count": 3,
     "metadata": {},
     "output_type": "execute_result"
    }
   ],
   "source": [
    "initial =[\"Date\", \"Post patch?\", \"Post patch pipette R\", \"PCR cycles\", \"Time spent extracting cytosol\", \n",
    "          \"patch duration\", \"BA conc. >400 (pg/uL)\", \"SM_QC_PF\", \"Bad dates\"]\n",
    "ps = ps[initial]\n",
    "\n",
    "##Changing Date Format\n",
    "ps[\"Date\"] = pd.to_datetime(ps[\"Date\"], format = \"%y%m%d\")\n",
    "\n",
    "#Changing String to Numerical\n",
    "ps[\"Time spent extracting cytosol\"] = pd.to_numeric(ps[\"Time spent extracting cytosol\"].str.replace(' ',''), errors ='coerce')\n",
    "ps[\"patch duration\"] = pd.to_numeric(ps[\"patch duration\"].str.replace(' ',''), errors ='force')\n",
    "ps[\"BA conc. >400 (pg/uL)\"] = pd.to_numeric(ps[\"BA conc. >400 (pg/uL)\"].str.replace(' ',''), errors ='force')\n",
    "\n",
    "#Categories\n",
    "ps[\"SM_QC_PF\"] = ps[\"SM_QC_PF\"].astype(\"category\")\n",
    "ps[\"Post patch?\"] = ps[\"Post patch?\"].astype(\"category\")\n",
    "\n",
    "#Filtering Columns\n",
    "ps = ps[ps[\"PCR cycles\"] == 21]      #shows 21 pcr cycles\n",
    "ps = ps[ps[\"SM_QC_PF\"] != \"cnt\"]     #shows everything except cnt\n",
    "ps = ps[ps[\"Bad dates\"] != \"x\"]      #shows everthing except x\n",
    "ps = ps[ps[\"BA conc. >400 (pg/uL)\"] < 8000]\n",
    "ps = ps[ps[\"Time spent extracting cytosol\"] <= 10]\n",
    "\n",
    "#Dropping blank columns\n",
    "ps = ps.drop(\"Bad dates\", 1)\n",
    "ps.dropna(subset = [\"Post patch?\", \"Time spent extracting cytosol\", \"patch duration\", \"SM_QC_PF\"], inplace = True)\n",
    "ps.head()"
   ]
  },
  {
   "cell_type": "markdown",
   "metadata": {},
   "source": [
    "## Definitions"
   ]
  },
  {
   "cell_type": "code",
   "execution_count": 4,
   "metadata": {
    "collapsed": true
   },
   "outputs": [],
   "source": [
    "def nucleated(x):\n",
    "    nucleus = x[(x[\"Post patch?\"] == \"Nucleated\") | (((x[\"Post patch?\"] == \"nucleus_visible\") | (x[\"Post patch?\"] == \"nucleus_present\")) & (x[\"Post patch pipette R\"] >= 500))]\n",
    "    return nucleus\n",
    "\n",
    "def partial_nucleated(y):\n",
    "    partial = y[(y[\"Post patch?\"] == 'Partial-Nucleus') | (((y['Post patch?'] == 'nucleus_present') | (y['Post patch?'] == 'nucleus_visible')) & (y[\"Post patch pipette R\"] <= 499))]\n",
    "    return partial\n",
    "\n",
    "def outside_out(z):\n",
    "    outside = z[(z[\"Post patch?\"] == 'Outside-Out') | (((z['Post patch?'] == 'nucleus_absent') | (z['Post patch?'] == 'no_nuclues_visible')) & (z['Post patch pipette R'] >= 500))]\n",
    "    return outside\n",
    "\n",
    "def no_seal(w): \n",
    "    no = w[(w[\"Post patch?\"] == 'No-Seal') | (((w['Post patch?'] == 'nucleus_absent') | (w['Post patch?'] == 'no_nucleus_visible')) & (w['Post patch pipette R'] <= 499))]\n",
    "    return no\n",
    "    \n",
    "def entire_cell(v):\n",
    "    entire = v[(v[\"Post patch?\"] == 'Entire-Cell') | (v['Post patch?'] == 'entire_cell')]\n",
    "    return entire"
   ]
  },
  {
   "cell_type": "markdown",
   "metadata": {},
   "source": [
    "## Setting Variables"
   ]
  },
  {
   "cell_type": "code",
   "execution_count": 5,
   "metadata": {},
   "outputs": [],
   "source": [
    "oo = outside_out(ps)\n",
    "nu = nucleated(ps)\n",
    "ns = no_seal(ps)\n",
    "pn = partial_nucleated(ps)\n",
    "ec = entire_cell(ps)\n",
    "\n",
    "x1 = oo[\"Time spent extracting cytosol\"]\n",
    "y1 = oo[\"BA conc. >400 (pg/uL)\"]\n",
    "x2 = nu[\"Time spent extracting cytosol\"]\n",
    "y2 = nu[\"BA conc. >400 (pg/uL)\"]\n",
    "x3 = ns[\"Time spent extracting cytosol\"]\n",
    "y3 = ns[\"BA conc. >400 (pg/uL)\"]\n",
    "x4 = pn[\"Time spent extracting cytosol\"]\n",
    "y4 = pn[\"BA conc. >400 (pg/uL)\"]"
   ]
  },
  {
   "cell_type": "markdown",
   "metadata": {},
   "source": [
    "## Plotting Trend Line: Concentration vs Extraction Time (Matplot)"
   ]
  },
  {
   "cell_type": "code",
   "execution_count": 6,
   "metadata": {},
   "outputs": [
    {
     "data": {
      "image/png": "[encoded data removed]",
      "text/plain": [
       "<matplotlib.figure.Figure at 0x1b654e7b8d0>"
      ]
     },
     "metadata": {},
     "output_type": "display_data"
    }
   ],
   "source": [
    "fig,ax = plt.subplots(1)\n",
    "axes = plt.gca()\n",
    "axes.set_ylim([0,1600])\n",
    "axes.set_xlim([0,8])\n",
    "ax.spines['top'].set_visible(False)\n",
    "ax.spines['right'].set_visible(False)\n",
    "\n",
    "plt.title('Concentration vs. Extraction Time')\n",
    "plt.xlabel('Extraction Time (min)')\n",
    "plt.ylabel('Concentration (>400 bp)')\n",
    "\n",
    "def make_scatter(x,y,c,m,l):\n",
    "    ax.scatter(x,y,s=30,c=c,marker=m, label=l)\n",
    "def make_fits(x,y,c,n):    \n",
    "    z = np.polyfit(x,y,1)\n",
    "    p = np.poly1d(z)\n",
    "    ax.plot(x,p(x),c=c,label=n, linewidth=3)\n",
    "\n",
    "make_fits(x1,y1,'r','outside out fit') #0\n",
    "make_fits(x2,y2,'g','nucleated fit')   #1\n",
    "make_fits(x3,y3,'b','no seal fit')     #2\n",
    "make_fits(x4,y4,'gold','partial nucleated fit') #3\n",
    "\n",
    "handles,labels = ax.get_legend_handles_labels()\n",
    "\n",
    "handles = [handles[1], handles[3], handles[2], handles[0]]\n",
    "labels = [labels[1], labels[3], labels[2], labels[0]]\n",
    "\n",
    "ax.legend(handles,labels,scatterpoints=1,loc='center right',ncol=1,fontsize=7,frameon=False)\n",
    "plt.tight_layout()\n",
    "plt.savefig('conc_vs_extraction.png',dpi=300)"
   ]
  },
  {
   "cell_type": "code",
   "execution_count": null,
   "metadata": {
    "collapsed": true
   },
   "outputs": [],
   "source": []
  }
 ],
 "metadata": {
  "kernelspec": {
   "display_name": "Python 3",
   "language": "python",
   "name": "python3"
  },
  "language_info": {
   "codemirror_mode": {
    "name": "ipython",
    "version": 3
   },
   "file_extension": ".py",
   "mimetype": "text/x-python",
   "name": "python",
   "nbconvert_exporter": "python",
   "pygments_lexer": "ipython3",
   "version": "3.6.3"
  }
 },
 "nbformat": 4,
 "nbformat_minor": 2
}
