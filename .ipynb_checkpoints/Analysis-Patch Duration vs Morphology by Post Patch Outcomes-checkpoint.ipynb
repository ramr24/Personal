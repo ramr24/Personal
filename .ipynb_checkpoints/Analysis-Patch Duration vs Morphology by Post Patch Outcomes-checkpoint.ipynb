{
 "cells": [
  {
   "cell_type": "markdown",
   "metadata": {},
   "source": [
    "# Patch Duration vs. Morphological Calls(63x) per Post Patch Outcomes"
   ]
  },
  {
   "cell_type": "markdown",
   "metadata": {},
   "source": [
    "##### Date: 4/03/18 Updated 63x.csv, shiny.csv & patch_seq_log_mouse.csv"
   ]
  },
  {
   "cell_type": "code",
   "execution_count": 1,
   "metadata": {},
   "outputs": [],
   "source": [
    "import csv\n",
    "import pandas as pd\n",
    "import numpy as np\n",
    "import seaborn as sns\n",
    "import matplotlib.pyplot as plt\n",
    "from datetime import datetime\n",
    "%matplotlib inline\n",
    "\n",
    "from IPython.display import display #Found this to display all columns in a table\n",
    "\n",
    "sns.set_style('whitegrid') #Makes a white backround with gray horizontal gridmarks at y-values\n",
    "sns.set_context('notebook')"
   ]
  },
  {
   "cell_type": "markdown",
   "metadata": {},
   "source": [
    "##### postpatch_func.py by Rusty from Stash "
   ]
  },
  {
   "cell_type": "code",
   "execution_count": 2,
   "metadata": {},
   "outputs": [],
   "source": [
    "def nucleated(x):\n",
    "    nuc_high_seal = x[(x['anno.postPatch_label'] == 'Nucleated') | \n",
    "                      (((x['anno.postPatch_label'] == 'nucleus_visible') | \n",
    "                      (x['anno.postPatch_label'] == 'nucleus_present')) & \n",
    "                      (x['anno.endPipetteR_label'] >= 500))]\n",
    "    return nuc_high_seal\n",
    "\n",
    "def partial_nucleated(y):\n",
    "    nuc_low_seal = y[(y['anno.postPatch_label'] == 'Partial-Nucleus') | \n",
    "                     (((y['anno.postPatch_label'] == 'nucleus_present') | \n",
    "                     (y['anno.postPatch_label'] == 'nucleus_visible')) & \n",
    "                     (y[\"anno.endPipetteR_label\"] <= 499))]\n",
    "    return nuc_low_seal\n",
    "\n",
    "def outside_out(z):\n",
    "    no_high_seal = z[(z['anno.postPatch_label'] == 'Outside-Out') | \n",
    "                     (((z['anno.postPatch_label'] == 'nucleus_absent') | \n",
    "                     (z['anno.postPatch_label'] == 'no_nucleus_visible')) & \n",
    "                     (z['anno.endPipetteR_label'] >= 500))]\n",
    "    return no_high_seal\n",
    "\n",
    "def no_seal(w): \n",
    "    no_low_seal = w[(w['anno.postPatch_label'] == 'No-Seal') | \n",
    "                    (((w['anno.postPatch_label'] == 'nucleus_absent') | \n",
    "                    (w['anno.postPatch_label'] == 'no_nucleus_visible')) & \n",
    "                    (w['anno.endPipetteR_label'] <= 499))]\n",
    "    return no_low_seal\n",
    "    \n",
    "def entire_cell(v):\n",
    "    entire = v[(v['anno.postPatch_label'] == 'Entire-Cell') | \n",
    "               (v['anno.postPatch_label'] == 'entire_cell')]\n",
    "    return entire\n",
    "\n",
    "#variable['post_patch'] = 'Term'\n",
    "#Term is an output displayed in the Post_Patch column\n",
    "\n",
    "def reclassify(df):\n",
    "    nu = nucleated(df)\n",
    "    nu['post_patch'] = 'Nuc-high seal' \n",
    "    oo = outside_out(df)\n",
    "    oo['post_patch'] = 'No-high seal'\n",
    "    pn = partial_nucleated(df)\n",
    "    pn['post_patch'] = 'Nuc-low seal'\n",
    "    ns = no_seal(df)\n",
    "    ns['post_patch'] = 'No-low seal'\n",
    "    ec = entire_cell(df)\n",
    "    ec['post_patch'] = 'Entire cell'\n",
    "    return  nu, oo, pn, ns, ec\n",
    "\n",
    "def concat_df(a, b, c, d, e):\n",
    "    frames = (a, b, c, d, e)\n",
    "    df = pd.concat(frames)\n",
    "    return df\n",
    "\n",
    "def postpatch_reclass(df):\n",
    "    return concat_df(*reclassify(df))\n",
    "\n",
    "#final_df = postpatch_reclass(final_df)"
   ]
  },
  {
   "cell_type": "markdown",
   "metadata": {},
   "source": [
    "##### Reads 63x.csv, shiny.csv & patch_seq_log_mouse.csv"
   ]
  },
  {
   "cell_type": "code",
   "execution_count": 3,
   "metadata": {},
   "outputs": [],
   "source": [
    "morph_df = pd.read_csv(\"63x.csv\")\n",
    "shiny_df = pd.read_csv(\"shiny.csv\")\n",
    "ps_df = pd.read_csv(\"patch_seq_log_mouse.csv\")"
   ]
  },
  {
   "cell_type": "markdown",
   "metadata": {},
   "source": [
    "##### Creating ps_df from patch_seq_log_mouse.csv"
   ]
  },
  {
   "cell_type": "code",
   "execution_count": 4,
   "metadata": {},
   "outputs": [
    {
     "data": {
      "text/html": [
       "<div>\n",
       "<style scoped>\n",
       "    .dataframe tbody tr th:only-of-type {\n",
       "        vertical-align: middle;\n",
       "    }\n",
       "\n",
       "    .dataframe tbody tr th {\n",
       "        vertical-align: top;\n",
       "    }\n",
       "\n",
       "    .dataframe thead th {\n",
       "        text-align: right;\n",
       "    }\n",
       "</style>\n",
       "<table border=\"1\" class=\"dataframe\">\n",
       "  <thead>\n",
       "    <tr style=\"text-align: right;\">\n",
       "      <th></th>\n",
       "      <th>Lims tube id</th>\n",
       "      <th>patch duration</th>\n",
       "      <th>Time spent extracting cytosol</th>\n",
       "      <th>Time spent retracting pipette</th>\n",
       "    </tr>\n",
       "  </thead>\n",
       "  <tbody>\n",
       "    <tr>\n",
       "      <th>0</th>\n",
       "      <td>P1S4_170104_001_A01</td>\n",
       "      <td>11.78333333</td>\n",
       "      <td>2.3</td>\n",
       "      <td>NaN</td>\n",
       "    </tr>\n",
       "    <tr>\n",
       "      <th>1</th>\n",
       "      <td>P1S4_170104_002_A01</td>\n",
       "      <td>12.21666667</td>\n",
       "      <td>2.316666667</td>\n",
       "      <td>NaN</td>\n",
       "    </tr>\n",
       "    <tr>\n",
       "      <th>2</th>\n",
       "      <td>P1S4_170104_003_A01</td>\n",
       "      <td>11.78333333</td>\n",
       "      <td>2.45</td>\n",
       "      <td>NaN</td>\n",
       "    </tr>\n",
       "    <tr>\n",
       "      <th>3</th>\n",
       "      <td>P1S4_170104_004_A01</td>\n",
       "      <td>12.45</td>\n",
       "      <td>2.316666667</td>\n",
       "      <td>NaN</td>\n",
       "    </tr>\n",
       "    <tr>\n",
       "      <th>4</th>\n",
       "      <td>P1S4_170104_005_A01</td>\n",
       "      <td>12.36666667</td>\n",
       "      <td>2.35</td>\n",
       "      <td>NaN</td>\n",
       "    </tr>\n",
       "  </tbody>\n",
       "</table>\n",
       "</div>"
      ],
      "text/plain": [
       "          Lims tube id patch duration Time spent extracting cytosol  \\\n",
       "0  P1S4_170104_001_A01    11.78333333                           2.3   \n",
       "1  P1S4_170104_002_A01    12.21666667                   2.316666667   \n",
       "2  P1S4_170104_003_A01    11.78333333                          2.45   \n",
       "3  P1S4_170104_004_A01          12.45                   2.316666667   \n",
       "4  P1S4_170104_005_A01    12.36666667                          2.35   \n",
       "\n",
       "  Time spent retracting pipette  \n",
       "0                           NaN  \n",
       "1                           NaN  \n",
       "2                           NaN  \n",
       "3                           NaN  \n",
       "4                           NaN  "
      ]
     },
     "execution_count": 4,
     "metadata": {},
     "output_type": "execute_result"
    }
   ],
   "source": [
    "ps_initial = ['Lims tube id',\n",
    "              'patch duration',\n",
    "              'Time spent extracting cytosol',\n",
    "              'Time spent retracting pipette']\n",
    "ps_df = ps_df[ps_initial]\n",
    "ps_df.head()"
   ]
  },
  {
   "cell_type": "markdown",
   "metadata": {},
   "source": [
    "##### Creating shiny_df from shiny.csv"
   ]
  },
  {
   "cell_type": "code",
   "execution_count": 5,
   "metadata": {},
   "outputs": [
    {
     "data": {
      "text/html": [
       "<div>\n",
       "<style scoped>\n",
       "    .dataframe tbody tr th:only-of-type {\n",
       "        vertical-align: middle;\n",
       "    }\n",
       "\n",
       "    .dataframe tbody tr th {\n",
       "        vertical-align: top;\n",
       "    }\n",
       "\n",
       "    .dataframe thead th {\n",
       "        text-align: right;\n",
       "    }\n",
       "</style>\n",
       "<table border=\"1\" class=\"dataframe\">\n",
       "  <thead>\n",
       "    <tr style=\"text-align: right;\">\n",
       "      <th></th>\n",
       "      <th>anno.sample_id</th>\n",
       "      <th>anno.postPatch_label</th>\n",
       "      <th>anno.endPipetteR_label</th>\n",
       "    </tr>\n",
       "  </thead>\n",
       "  <tbody>\n",
       "    <tr>\n",
       "      <th>0</th>\n",
       "      <td>P1S4_160318_069_A01</td>\n",
       "      <td>O/O</td>\n",
       "      <td>0.0</td>\n",
       "    </tr>\n",
       "    <tr>\n",
       "      <th>1</th>\n",
       "      <td>P1S4_160407_108_A01</td>\n",
       "      <td>nucleated patch</td>\n",
       "      <td>0.0</td>\n",
       "    </tr>\n",
       "    <tr>\n",
       "      <th>2</th>\n",
       "      <td>P1S4_160407_109_A01</td>\n",
       "      <td>partial nucleus</td>\n",
       "      <td>0.0</td>\n",
       "    </tr>\n",
       "    <tr>\n",
       "      <th>3</th>\n",
       "      <td>P1S4_160407_112_A01</td>\n",
       "      <td>o/o</td>\n",
       "      <td>0.0</td>\n",
       "    </tr>\n",
       "    <tr>\n",
       "      <th>4</th>\n",
       "      <td>P1S4_160407_113_A01</td>\n",
       "      <td>0</td>\n",
       "      <td>0.0</td>\n",
       "    </tr>\n",
       "  </tbody>\n",
       "</table>\n",
       "</div>"
      ],
      "text/plain": [
       "        anno.sample_id anno.postPatch_label  anno.endPipetteR_label\n",
       "0  P1S4_160318_069_A01                  O/O                     0.0\n",
       "1  P1S4_160407_108_A01      nucleated patch                     0.0\n",
       "2  P1S4_160407_109_A01      partial nucleus                     0.0\n",
       "3  P1S4_160407_112_A01                  o/o                     0.0\n",
       "4  P1S4_160407_113_A01                    0                     0.0"
      ]
     },
     "execution_count": 5,
     "metadata": {},
     "output_type": "execute_result"
    }
   ],
   "source": [
    "shiny_initial = ['anno.sample_id',\n",
    "                 'anno.postPatch_label',\n",
    "                 'anno.endPipetteR_label']\n",
    "shiny_df = shiny_df[shiny_initial]\n",
    "shiny_df.head()"
   ]
  },
  {
   "cell_type": "markdown",
   "metadata": {},
   "source": [
    "##### Merging shiny_df with ps_df to create shiny_ps_df"
   ]
  },
  {
   "cell_type": "code",
   "execution_count": 6,
   "metadata": {},
   "outputs": [],
   "source": [
    "#Left = shiny \n",
    "#Right = ps\n",
    "#Inner merge = contains matched info between shiny and ps\n",
    "\n",
    "shiny_ps_df = pd.merge(left = shiny_df, \n",
    "                         right = ps_df, \n",
    "                         left_on = 'anno.sample_id', \n",
    "                         right_on = 'Lims tube id', \n",
    "                         how = 'inner')"
   ]
  },
  {
   "cell_type": "code",
   "execution_count": 7,
   "metadata": {},
   "outputs": [
    {
     "data": {
      "text/html": [
       "<div>\n",
       "<style scoped>\n",
       "    .dataframe tbody tr th:only-of-type {\n",
       "        vertical-align: middle;\n",
       "    }\n",
       "\n",
       "    .dataframe tbody tr th {\n",
       "        vertical-align: top;\n",
       "    }\n",
       "\n",
       "    .dataframe thead th {\n",
       "        text-align: right;\n",
       "    }\n",
       "</style>\n",
       "<table border=\"1\" class=\"dataframe\">\n",
       "  <thead>\n",
       "    <tr style=\"text-align: right;\">\n",
       "      <th></th>\n",
       "      <th>anno.sample_id</th>\n",
       "      <th>anno.postPatch_label</th>\n",
       "      <th>anno.endPipetteR_label</th>\n",
       "      <th>Lims tube id</th>\n",
       "      <th>patch duration</th>\n",
       "      <th>Time spent extracting cytosol</th>\n",
       "      <th>Time spent retracting pipette</th>\n",
       "    </tr>\n",
       "  </thead>\n",
       "  <tbody>\n",
       "    <tr>\n",
       "      <th>0</th>\n",
       "      <td>P2S4_170301_056_A01</td>\n",
       "      <td>0</td>\n",
       "      <td>0.0</td>\n",
       "      <td>P2S4_170301_056_A01</td>\n",
       "      <td>2.55</td>\n",
       "      <td>0.86666667</td>\n",
       "      <td>NaN</td>\n",
       "    </tr>\n",
       "    <tr>\n",
       "      <th>1</th>\n",
       "      <td>P2S4_170301_057_A01</td>\n",
       "      <td>0</td>\n",
       "      <td>0.0</td>\n",
       "      <td>P2S4_170301_057_A01</td>\n",
       "      <td>1.93333333</td>\n",
       "      <td>0.23333333</td>\n",
       "      <td>NaN</td>\n",
       "    </tr>\n",
       "    <tr>\n",
       "      <th>2</th>\n",
       "      <td>P2S4_170301_058_A01</td>\n",
       "      <td>0</td>\n",
       "      <td>0.0</td>\n",
       "      <td>P2S4_170301_058_A01</td>\n",
       "      <td>2.48333333</td>\n",
       "      <td>0.41666667</td>\n",
       "      <td>NaN</td>\n",
       "    </tr>\n",
       "    <tr>\n",
       "      <th>3</th>\n",
       "      <td>P1S4_170302_001_A01</td>\n",
       "      <td>0</td>\n",
       "      <td>0.0</td>\n",
       "      <td>P1S4_170302_001_A01</td>\n",
       "      <td>3.616666667</td>\n",
       "      <td>2.05</td>\n",
       "      <td>NaN</td>\n",
       "    </tr>\n",
       "    <tr>\n",
       "      <th>4</th>\n",
       "      <td>P1S4_170302_002_A01</td>\n",
       "      <td>0</td>\n",
       "      <td>0.0</td>\n",
       "      <td>P1S4_170302_002_A01</td>\n",
       "      <td>3.683333333</td>\n",
       "      <td>2.283333333</td>\n",
       "      <td>NaN</td>\n",
       "    </tr>\n",
       "  </tbody>\n",
       "</table>\n",
       "</div>"
      ],
      "text/plain": [
       "        anno.sample_id anno.postPatch_label  anno.endPipetteR_label  \\\n",
       "0  P2S4_170301_056_A01                    0                     0.0   \n",
       "1  P2S4_170301_057_A01                    0                     0.0   \n",
       "2  P2S4_170301_058_A01                    0                     0.0   \n",
       "3  P1S4_170302_001_A01                    0                     0.0   \n",
       "4  P1S4_170302_002_A01                    0                     0.0   \n",
       "\n",
       "          Lims tube id patch duration Time spent extracting cytosol  \\\n",
       "0  P2S4_170301_056_A01           2.55                    0.86666667   \n",
       "1  P2S4_170301_057_A01     1.93333333                    0.23333333   \n",
       "2  P2S4_170301_058_A01     2.48333333                    0.41666667   \n",
       "3  P1S4_170302_001_A01    3.616666667                          2.05   \n",
       "4  P1S4_170302_002_A01    3.683333333                   2.283333333   \n",
       "\n",
       "  Time spent retracting pipette  \n",
       "0                           NaN  \n",
       "1                           NaN  \n",
       "2                           NaN  \n",
       "3                           NaN  \n",
       "4                           NaN  "
      ]
     },
     "execution_count": 7,
     "metadata": {},
     "output_type": "execute_result"
    }
   ],
   "source": [
    "shiny_ps_df.head()"
   ]
  },
  {
   "cell_type": "markdown",
   "metadata": {},
   "source": [
    "##### Creating morph_df from 63x.csv"
   ]
  },
  {
   "cell_type": "code",
   "execution_count": 8,
   "metadata": {},
   "outputs": [
    {
     "data": {
      "text/html": [
       "<div>\n",
       "<style scoped>\n",
       "    .dataframe tbody tr th:only-of-type {\n",
       "        vertical-align: middle;\n",
       "    }\n",
       "\n",
       "    .dataframe tbody tr th {\n",
       "        vertical-align: top;\n",
       "    }\n",
       "\n",
       "    .dataframe thead th {\n",
       "        text-align: right;\n",
       "    }\n",
       "</style>\n",
       "<table border=\"1\" class=\"dataframe\">\n",
       "  <thead>\n",
       "    <tr style=\"text-align: right;\">\n",
       "      <th></th>\n",
       "      <th>patched_cell_container</th>\n",
       "      <th>ims63x_go_no_go</th>\n",
       "      <th>project</th>\n",
       "    </tr>\n",
       "  </thead>\n",
       "  <tbody>\n",
       "    <tr>\n",
       "      <th>6120</th>\n",
       "      <td>P2S4_180109_052_A01</td>\n",
       "      <td>NaN</td>\n",
       "      <td>mIVSCC-MET</td>\n",
       "    </tr>\n",
       "    <tr>\n",
       "      <th>6121</th>\n",
       "      <td>PAS4_180109_452_A01</td>\n",
       "      <td>NaN</td>\n",
       "      <td>mIVSCC-MET</td>\n",
       "    </tr>\n",
       "    <tr>\n",
       "      <th>6122</th>\n",
       "      <td>P8S4_180110_353_A01</td>\n",
       "      <td>NaN</td>\n",
       "      <td>mIVSCC-MET</td>\n",
       "    </tr>\n",
       "    <tr>\n",
       "      <th>6123</th>\n",
       "      <td>P8S4_180110_354_A01</td>\n",
       "      <td>63x no go</td>\n",
       "      <td>mIVSCC-MET</td>\n",
       "    </tr>\n",
       "    <tr>\n",
       "      <th>6124</th>\n",
       "      <td>PAS4_180110_454_A01</td>\n",
       "      <td>NaN</td>\n",
       "      <td>mIVSCC-MET</td>\n",
       "    </tr>\n",
       "  </tbody>\n",
       "</table>\n",
       "</div>"
      ],
      "text/plain": [
       "     patched_cell_container ims63x_go_no_go     project\n",
       "6120    P2S4_180109_052_A01             NaN  mIVSCC-MET\n",
       "6121    PAS4_180109_452_A01             NaN  mIVSCC-MET\n",
       "6122    P8S4_180110_353_A01             NaN  mIVSCC-MET\n",
       "6123    P8S4_180110_354_A01       63x no go  mIVSCC-MET\n",
       "6124    PAS4_180110_454_A01             NaN  mIVSCC-MET"
      ]
     },
     "execution_count": 8,
     "metadata": {},
     "output_type": "execute_result"
    }
   ],
   "source": [
    "morph_initial = ['patched_cell_container',\n",
    "                 'ims63x_go_no_go',\n",
    "                 'project']\n",
    "morph_df = morph_df[morph_initial]\n",
    "morph_df.tail()"
   ]
  },
  {
   "cell_type": "markdown",
   "metadata": {},
   "source": [
    "##### Merging morph_df with shiny_lims_df to create final_df"
   ]
  },
  {
   "cell_type": "code",
   "execution_count": 9,
   "metadata": {},
   "outputs": [],
   "source": [
    "#Inner merge = contains only matching data of both morph_df and shiny_LIMS_df\n",
    "\n",
    "final_df = pd.merge(left = morph_df, \n",
    "                    right = shiny_ps_df, \n",
    "                    left_on = 'patched_cell_container', \n",
    "                    right_on = 'anno.sample_id', \n",
    "                    how = 'inner')"
   ]
  },
  {
   "cell_type": "code",
   "execution_count": 10,
   "metadata": {},
   "outputs": [
    {
     "data": {
      "text/html": [
       "<div>\n",
       "<style scoped>\n",
       "    .dataframe tbody tr th:only-of-type {\n",
       "        vertical-align: middle;\n",
       "    }\n",
       "\n",
       "    .dataframe tbody tr th {\n",
       "        vertical-align: top;\n",
       "    }\n",
       "\n",
       "    .dataframe thead th {\n",
       "        text-align: right;\n",
       "    }\n",
       "</style>\n",
       "<table border=\"1\" class=\"dataframe\">\n",
       "  <thead>\n",
       "    <tr style=\"text-align: right;\">\n",
       "      <th></th>\n",
       "      <th>patched_cell_container</th>\n",
       "      <th>ims63x_go_no_go</th>\n",
       "      <th>project</th>\n",
       "      <th>anno.sample_id</th>\n",
       "      <th>anno.postPatch_label</th>\n",
       "      <th>anno.endPipetteR_label</th>\n",
       "      <th>Lims tube id</th>\n",
       "      <th>patch duration</th>\n",
       "      <th>Time spent extracting cytosol</th>\n",
       "      <th>Time spent retracting pipette</th>\n",
       "    </tr>\n",
       "  </thead>\n",
       "  <tbody>\n",
       "    <tr>\n",
       "      <th>0</th>\n",
       "      <td>P8S4_180103_351_A01</td>\n",
       "      <td>NaN</td>\n",
       "      <td>mIVSCC-MET</td>\n",
       "      <td>P8S4_180103_351_A01</td>\n",
       "      <td>nucleus_absent</td>\n",
       "      <td>35.0</td>\n",
       "      <td>P8S4_180103_351_A01</td>\n",
       "      <td>11.46666667</td>\n",
       "      <td>0.916666667</td>\n",
       "      <td>3.2</td>\n",
       "    </tr>\n",
       "    <tr>\n",
       "      <th>1</th>\n",
       "      <td>P8S4_180103_352_A01</td>\n",
       "      <td>63x no go</td>\n",
       "      <td>mIVSCC-MET</td>\n",
       "      <td>P8S4_180103_352_A01</td>\n",
       "      <td>nucleus_present</td>\n",
       "      <td>8.5</td>\n",
       "      <td>P8S4_180103_352_A01</td>\n",
       "      <td>10.16666667</td>\n",
       "      <td>1.7</td>\n",
       "      <td>2.5</td>\n",
       "    </tr>\n",
       "    <tr>\n",
       "      <th>2</th>\n",
       "      <td>P6S4_170609_253_A01</td>\n",
       "      <td>63x no go</td>\n",
       "      <td>T301x</td>\n",
       "      <td>P6S4_170609_253_A01</td>\n",
       "      <td>Partial-Nucleus</td>\n",
       "      <td>0.0</td>\n",
       "      <td>P6S4_170609_253_A01</td>\n",
       "      <td>5.83333333</td>\n",
       "      <td>2.16666667</td>\n",
       "      <td>NaN</td>\n",
       "    </tr>\n",
       "    <tr>\n",
       "      <th>3</th>\n",
       "      <td>P6S4_170609_254_A01</td>\n",
       "      <td>63x no go</td>\n",
       "      <td>T301x</td>\n",
       "      <td>P6S4_170609_254_A01</td>\n",
       "      <td>No-Seal</td>\n",
       "      <td>0.0</td>\n",
       "      <td>P6S4_170609_254_A01</td>\n",
       "      <td>5.78333333</td>\n",
       "      <td>2.08333333</td>\n",
       "      <td>NaN</td>\n",
       "    </tr>\n",
       "    <tr>\n",
       "      <th>4</th>\n",
       "      <td>P1S4_170609_001_A01</td>\n",
       "      <td>NaN</td>\n",
       "      <td>T301x</td>\n",
       "      <td>P1S4_170609_001_A01</td>\n",
       "      <td>No-Seal</td>\n",
       "      <td>0.0</td>\n",
       "      <td>P1S4_170609_001_A01</td>\n",
       "      <td>4.416666667</td>\n",
       "      <td>2.75</td>\n",
       "      <td>NaN</td>\n",
       "    </tr>\n",
       "  </tbody>\n",
       "</table>\n",
       "</div>"
      ],
      "text/plain": [
       "  patched_cell_container ims63x_go_no_go     project       anno.sample_id  \\\n",
       "0    P8S4_180103_351_A01             NaN  mIVSCC-MET  P8S4_180103_351_A01   \n",
       "1    P8S4_180103_352_A01       63x no go  mIVSCC-MET  P8S4_180103_352_A01   \n",
       "2    P6S4_170609_253_A01       63x no go       T301x  P6S4_170609_253_A01   \n",
       "3    P6S4_170609_254_A01       63x no go       T301x  P6S4_170609_254_A01   \n",
       "4    P1S4_170609_001_A01             NaN       T301x  P1S4_170609_001_A01   \n",
       "\n",
       "  anno.postPatch_label  anno.endPipetteR_label         Lims tube id  \\\n",
       "0       nucleus_absent                    35.0  P8S4_180103_351_A01   \n",
       "1      nucleus_present                     8.5  P8S4_180103_352_A01   \n",
       "2      Partial-Nucleus                     0.0  P6S4_170609_253_A01   \n",
       "3              No-Seal                     0.0  P6S4_170609_254_A01   \n",
       "4              No-Seal                     0.0  P1S4_170609_001_A01   \n",
       "\n",
       "  patch duration Time spent extracting cytosol Time spent retracting pipette  \n",
       "0    11.46666667                   0.916666667                           3.2  \n",
       "1    10.16666667                           1.7                           2.5  \n",
       "2     5.83333333                    2.16666667                           NaN  \n",
       "3     5.78333333                    2.08333333                           NaN  \n",
       "4    4.416666667                          2.75                           NaN  "
      ]
     },
     "execution_count": 10,
     "metadata": {},
     "output_type": "execute_result"
    }
   ],
   "source": [
    "final_df.head()"
   ]
  },
  {
   "cell_type": "markdown",
   "metadata": {},
   "source": [
    "##### Creating Date column using patched_cell_container column"
   ]
  },
  {
   "cell_type": "code",
   "execution_count": 11,
   "metadata": {},
   "outputs": [],
   "source": [
    "final_df['Date'] = final_df['patched_cell_container'].str[5:11]"
   ]
  },
  {
   "cell_type": "markdown",
   "metadata": {},
   "source": [
    "##### Indexing Date column then sorting by date index"
   ]
  },
  {
   "cell_type": "code",
   "execution_count": 12,
   "metadata": {},
   "outputs": [],
   "source": [
    "final_df = final_df.set_index('Date')\n",
    "final_df = final_df.sort_index()"
   ]
  },
  {
   "cell_type": "markdown",
   "metadata": {},
   "source": [
    "##### final_df start at production date to present date"
   ]
  },
  {
   "cell_type": "code",
   "execution_count": 13,
   "metadata": {},
   "outputs": [],
   "source": [
    "final_df = final_df['170901':]"
   ]
  },
  {
   "cell_type": "code",
   "execution_count": 14,
   "metadata": {},
   "outputs": [
    {
     "data": {
      "text/html": [
       "<div>\n",
       "<style scoped>\n",
       "    .dataframe tbody tr th:only-of-type {\n",
       "        vertical-align: middle;\n",
       "    }\n",
       "\n",
       "    .dataframe tbody tr th {\n",
       "        vertical-align: top;\n",
       "    }\n",
       "\n",
       "    .dataframe thead th {\n",
       "        text-align: right;\n",
       "    }\n",
       "</style>\n",
       "<table border=\"1\" class=\"dataframe\">\n",
       "  <thead>\n",
       "    <tr style=\"text-align: right;\">\n",
       "      <th></th>\n",
       "      <th>patched_cell_container</th>\n",
       "      <th>ims63x_go_no_go</th>\n",
       "      <th>project</th>\n",
       "      <th>anno.sample_id</th>\n",
       "      <th>anno.postPatch_label</th>\n",
       "      <th>anno.endPipetteR_label</th>\n",
       "      <th>Lims tube id</th>\n",
       "      <th>patch duration</th>\n",
       "      <th>Time spent extracting cytosol</th>\n",
       "      <th>Time spent retracting pipette</th>\n",
       "    </tr>\n",
       "    <tr>\n",
       "      <th>Date</th>\n",
       "      <th></th>\n",
       "      <th></th>\n",
       "      <th></th>\n",
       "      <th></th>\n",
       "      <th></th>\n",
       "      <th></th>\n",
       "      <th></th>\n",
       "      <th></th>\n",
       "      <th></th>\n",
       "      <th></th>\n",
       "    </tr>\n",
       "  </thead>\n",
       "  <tbody>\n",
       "    <tr>\n",
       "      <th>170901</th>\n",
       "      <td>P8S4_170901_355_A01</td>\n",
       "      <td>63x go</td>\n",
       "      <td>T301x</td>\n",
       "      <td>P8S4_170901_355_A01</td>\n",
       "      <td>No-Seal</td>\n",
       "      <td>0.0</td>\n",
       "      <td>P8S4_170901_355_A01</td>\n",
       "      <td>9.86666667</td>\n",
       "      <td>0.68333333</td>\n",
       "      <td>NaN</td>\n",
       "    </tr>\n",
       "    <tr>\n",
       "      <th>170901</th>\n",
       "      <td>P2S4_170901_051_A01</td>\n",
       "      <td>63x go</td>\n",
       "      <td>T301x</td>\n",
       "      <td>P2S4_170901_051_A01</td>\n",
       "      <td>Nucleated</td>\n",
       "      <td>0.0</td>\n",
       "      <td>P2S4_170901_051_A01</td>\n",
       "      <td>9.96666667</td>\n",
       "      <td>0.85</td>\n",
       "      <td>NaN</td>\n",
       "    </tr>\n",
       "    <tr>\n",
       "      <th>170901</th>\n",
       "      <td>P2S4_170901_054_A01</td>\n",
       "      <td>63x go</td>\n",
       "      <td>T301x</td>\n",
       "      <td>P2S4_170901_054_A01</td>\n",
       "      <td>Partial-Nucleus</td>\n",
       "      <td>0.0</td>\n",
       "      <td>P2S4_170901_054_A01</td>\n",
       "      <td>12.2</td>\n",
       "      <td>1.03333333</td>\n",
       "      <td>NaN</td>\n",
       "    </tr>\n",
       "    <tr>\n",
       "      <th>170901</th>\n",
       "      <td>P8S4_170901_352_A01</td>\n",
       "      <td>63x no go</td>\n",
       "      <td>T301x</td>\n",
       "      <td>P8S4_170901_352_A01</td>\n",
       "      <td>Nucleated</td>\n",
       "      <td>0.0</td>\n",
       "      <td>P8S4_170901_352_A01</td>\n",
       "      <td>11.3166667</td>\n",
       "      <td>1.7</td>\n",
       "      <td>NaN</td>\n",
       "    </tr>\n",
       "    <tr>\n",
       "      <th>170901</th>\n",
       "      <td>P8S4_170901_351_A01</td>\n",
       "      <td>63x no go</td>\n",
       "      <td>T301x</td>\n",
       "      <td>P8S4_170901_351_A01</td>\n",
       "      <td>No-Seal</td>\n",
       "      <td>0.0</td>\n",
       "      <td>P8S4_170901_351_A01</td>\n",
       "      <td>11.6</td>\n",
       "      <td>0.98333333</td>\n",
       "      <td>NaN</td>\n",
       "    </tr>\n",
       "  </tbody>\n",
       "</table>\n",
       "</div>"
      ],
      "text/plain": [
       "       patched_cell_container ims63x_go_no_go project       anno.sample_id  \\\n",
       "Date                                                                         \n",
       "170901    P8S4_170901_355_A01          63x go   T301x  P8S4_170901_355_A01   \n",
       "170901    P2S4_170901_051_A01          63x go   T301x  P2S4_170901_051_A01   \n",
       "170901    P2S4_170901_054_A01          63x go   T301x  P2S4_170901_054_A01   \n",
       "170901    P8S4_170901_352_A01       63x no go   T301x  P8S4_170901_352_A01   \n",
       "170901    P8S4_170901_351_A01       63x no go   T301x  P8S4_170901_351_A01   \n",
       "\n",
       "       anno.postPatch_label  anno.endPipetteR_label         Lims tube id  \\\n",
       "Date                                                                       \n",
       "170901              No-Seal                     0.0  P8S4_170901_355_A01   \n",
       "170901            Nucleated                     0.0  P2S4_170901_051_A01   \n",
       "170901      Partial-Nucleus                     0.0  P2S4_170901_054_A01   \n",
       "170901            Nucleated                     0.0  P8S4_170901_352_A01   \n",
       "170901              No-Seal                     0.0  P8S4_170901_351_A01   \n",
       "\n",
       "       patch duration Time spent extracting cytosol  \\\n",
       "Date                                                  \n",
       "170901     9.86666667                    0.68333333   \n",
       "170901     9.96666667                          0.85   \n",
       "170901           12.2                    1.03333333   \n",
       "170901     11.3166667                           1.7   \n",
       "170901           11.6                    0.98333333   \n",
       "\n",
       "       Time spent retracting pipette  \n",
       "Date                                  \n",
       "170901                           NaN  \n",
       "170901                           NaN  \n",
       "170901                           NaN  \n",
       "170901                           NaN  \n",
       "170901                           NaN  "
      ]
     },
     "execution_count": 14,
     "metadata": {},
     "output_type": "execute_result"
    }
   ],
   "source": [
    "final_df.head()"
   ]
  },
  {
   "cell_type": "code",
   "execution_count": 15,
   "metadata": {},
   "outputs": [
    {
     "data": {
      "text/html": [
       "<div>\n",
       "<style scoped>\n",
       "    .dataframe tbody tr th:only-of-type {\n",
       "        vertical-align: middle;\n",
       "    }\n",
       "\n",
       "    .dataframe tbody tr th {\n",
       "        vertical-align: top;\n",
       "    }\n",
       "\n",
       "    .dataframe thead th {\n",
       "        text-align: right;\n",
       "    }\n",
       "</style>\n",
       "<table border=\"1\" class=\"dataframe\">\n",
       "  <thead>\n",
       "    <tr style=\"text-align: right;\">\n",
       "      <th></th>\n",
       "      <th>patched_cell_container</th>\n",
       "      <th>ims63x_go_no_go</th>\n",
       "      <th>project</th>\n",
       "      <th>anno.sample_id</th>\n",
       "      <th>anno.postPatch_label</th>\n",
       "      <th>anno.endPipetteR_label</th>\n",
       "      <th>Lims tube id</th>\n",
       "      <th>patch duration</th>\n",
       "      <th>Time spent extracting cytosol</th>\n",
       "      <th>Time spent retracting pipette</th>\n",
       "    </tr>\n",
       "    <tr>\n",
       "      <th>Date</th>\n",
       "      <th></th>\n",
       "      <th></th>\n",
       "      <th></th>\n",
       "      <th></th>\n",
       "      <th></th>\n",
       "      <th></th>\n",
       "      <th></th>\n",
       "      <th></th>\n",
       "      <th></th>\n",
       "      <th></th>\n",
       "    </tr>\n",
       "  </thead>\n",
       "  <tbody>\n",
       "    <tr>\n",
       "      <th>180221</th>\n",
       "      <td>P8S4_180221_354_A01</td>\n",
       "      <td>NaN</td>\n",
       "      <td>mIVSCC-MET</td>\n",
       "      <td>P8S4_180221_354_A01</td>\n",
       "      <td>nucleus_present</td>\n",
       "      <td>1500.0</td>\n",
       "      <td>P8S4_180221_354_A01</td>\n",
       "      <td>11.43333333</td>\n",
       "      <td>1.166666667</td>\n",
       "      <td>4.066666667</td>\n",
       "    </tr>\n",
       "    <tr>\n",
       "      <th>180221</th>\n",
       "      <td>P8S4_180221_353_A01</td>\n",
       "      <td>NaN</td>\n",
       "      <td>mIVSCC-MET</td>\n",
       "      <td>P8S4_180221_353_A01</td>\n",
       "      <td>nucleus_present</td>\n",
       "      <td>100.0</td>\n",
       "      <td>P8S4_180221_353_A01</td>\n",
       "      <td>7.983333333</td>\n",
       "      <td>0.583333333</td>\n",
       "      <td>1.75</td>\n",
       "    </tr>\n",
       "    <tr>\n",
       "      <th>180221</th>\n",
       "      <td>P8S4_180221_352_A01</td>\n",
       "      <td>NaN</td>\n",
       "      <td>mIVSCC-MET</td>\n",
       "      <td>P8S4_180221_352_A01</td>\n",
       "      <td>nucleus_present</td>\n",
       "      <td>400.0</td>\n",
       "      <td>P8S4_180221_352_A01</td>\n",
       "      <td>7.233333333</td>\n",
       "      <td>0.516666667</td>\n",
       "      <td>2.133333333</td>\n",
       "    </tr>\n",
       "    <tr>\n",
       "      <th>180221</th>\n",
       "      <td>P8S4_180221_355_A01</td>\n",
       "      <td>NaN</td>\n",
       "      <td>mIVSCC-MET</td>\n",
       "      <td>P8S4_180221_355_A01</td>\n",
       "      <td>nucleus_absent</td>\n",
       "      <td>1000.0</td>\n",
       "      <td>P8S4_180221_355_A01</td>\n",
       "      <td>14.58333333</td>\n",
       "      <td>1.783333333</td>\n",
       "      <td>4.2</td>\n",
       "    </tr>\n",
       "    <tr>\n",
       "      <th>180221</th>\n",
       "      <td>PBS4_180221_506_A01</td>\n",
       "      <td>NaN</td>\n",
       "      <td>mIVSCC-MET</td>\n",
       "      <td>PBS4_180221_506_A01</td>\n",
       "      <td>nucleus_present</td>\n",
       "      <td>1000.0</td>\n",
       "      <td>PBS4_180221_506_A01</td>\n",
       "      <td>16.28333333</td>\n",
       "      <td>0.45</td>\n",
       "      <td>0.666666667</td>\n",
       "    </tr>\n",
       "  </tbody>\n",
       "</table>\n",
       "</div>"
      ],
      "text/plain": [
       "       patched_cell_container ims63x_go_no_go     project  \\\n",
       "Date                                                        \n",
       "180221    P8S4_180221_354_A01             NaN  mIVSCC-MET   \n",
       "180221    P8S4_180221_353_A01             NaN  mIVSCC-MET   \n",
       "180221    P8S4_180221_352_A01             NaN  mIVSCC-MET   \n",
       "180221    P8S4_180221_355_A01             NaN  mIVSCC-MET   \n",
       "180221    PBS4_180221_506_A01             NaN  mIVSCC-MET   \n",
       "\n",
       "             anno.sample_id anno.postPatch_label  anno.endPipetteR_label  \\\n",
       "Date                                                                       \n",
       "180221  P8S4_180221_354_A01      nucleus_present                  1500.0   \n",
       "180221  P8S4_180221_353_A01      nucleus_present                   100.0   \n",
       "180221  P8S4_180221_352_A01      nucleus_present                   400.0   \n",
       "180221  P8S4_180221_355_A01       nucleus_absent                  1000.0   \n",
       "180221  PBS4_180221_506_A01      nucleus_present                  1000.0   \n",
       "\n",
       "               Lims tube id patch duration Time spent extracting cytosol  \\\n",
       "Date                                                                       \n",
       "180221  P8S4_180221_354_A01    11.43333333                   1.166666667   \n",
       "180221  P8S4_180221_353_A01    7.983333333                   0.583333333   \n",
       "180221  P8S4_180221_352_A01    7.233333333                   0.516666667   \n",
       "180221  P8S4_180221_355_A01    14.58333333                   1.783333333   \n",
       "180221  PBS4_180221_506_A01    16.28333333                          0.45   \n",
       "\n",
       "       Time spent retracting pipette  \n",
       "Date                                  \n",
       "180221                   4.066666667  \n",
       "180221                          1.75  \n",
       "180221                   2.133333333  \n",
       "180221                           4.2  \n",
       "180221                   0.666666667  "
      ]
     },
     "execution_count": 15,
     "metadata": {},
     "output_type": "execute_result"
    }
   ],
   "source": [
    "final_df.tail()"
   ]
  },
  {
   "cell_type": "markdown",
   "metadata": {},
   "source": [
    "##### Renaming Columns"
   ]
  },
  {
   "cell_type": "code",
   "execution_count": 16,
   "metadata": {},
   "outputs": [],
   "source": [
    "final_df.rename(columns = {'ims63x_go_no_go' : 'morphology',\n",
    "                           'patch duration' : 'patch_duration', \n",
    "                           'Time spent extracting cytosol' : 'extraction_duration',\n",
    "                           'Time spent retracting pipette' : 'retraction_duration'}, inplace = True)"
   ]
  },
  {
   "cell_type": "markdown",
   "metadata": {},
   "source": [
    "##### Adding post_patch column to the end of final_df"
   ]
  },
  {
   "cell_type": "code",
   "execution_count": 17,
   "metadata": {},
   "outputs": [
    {
     "name": "stderr",
     "output_type": "stream",
     "text": [
      "C:\\Users\\ramr\\AppData\\Local\\Continuum\\anaconda2\\lib\\site-packages\\ipykernel_launcher.py:39: SettingWithCopyWarning: \n",
      "A value is trying to be set on a copy of a slice from a DataFrame.\n",
      "Try using .loc[row_indexer,col_indexer] = value instead\n",
      "\n",
      "See the caveats in the documentation: http://pandas.pydata.org/pandas-docs/stable/indexing.html#indexing-view-versus-copy\n",
      "C:\\Users\\ramr\\AppData\\Local\\Continuum\\anaconda2\\lib\\site-packages\\ipykernel_launcher.py:41: SettingWithCopyWarning: \n",
      "A value is trying to be set on a copy of a slice from a DataFrame.\n",
      "Try using .loc[row_indexer,col_indexer] = value instead\n",
      "\n",
      "See the caveats in the documentation: http://pandas.pydata.org/pandas-docs/stable/indexing.html#indexing-view-versus-copy\n",
      "C:\\Users\\ramr\\AppData\\Local\\Continuum\\anaconda2\\lib\\site-packages\\ipykernel_launcher.py:43: SettingWithCopyWarning: \n",
      "A value is trying to be set on a copy of a slice from a DataFrame.\n",
      "Try using .loc[row_indexer,col_indexer] = value instead\n",
      "\n",
      "See the caveats in the documentation: http://pandas.pydata.org/pandas-docs/stable/indexing.html#indexing-view-versus-copy\n",
      "C:\\Users\\ramr\\AppData\\Local\\Continuum\\anaconda2\\lib\\site-packages\\ipykernel_launcher.py:45: SettingWithCopyWarning: \n",
      "A value is trying to be set on a copy of a slice from a DataFrame.\n",
      "Try using .loc[row_indexer,col_indexer] = value instead\n",
      "\n",
      "See the caveats in the documentation: http://pandas.pydata.org/pandas-docs/stable/indexing.html#indexing-view-versus-copy\n",
      "C:\\Users\\ramr\\AppData\\Local\\Continuum\\anaconda2\\lib\\site-packages\\ipykernel_launcher.py:47: SettingWithCopyWarning: \n",
      "A value is trying to be set on a copy of a slice from a DataFrame.\n",
      "Try using .loc[row_indexer,col_indexer] = value instead\n",
      "\n",
      "See the caveats in the documentation: http://pandas.pydata.org/pandas-docs/stable/indexing.html#indexing-view-versus-copy\n"
     ]
    },
    {
     "data": {
      "text/html": [
       "<div>\n",
       "<style scoped>\n",
       "    .dataframe tbody tr th:only-of-type {\n",
       "        vertical-align: middle;\n",
       "    }\n",
       "\n",
       "    .dataframe tbody tr th {\n",
       "        vertical-align: top;\n",
       "    }\n",
       "\n",
       "    .dataframe thead th {\n",
       "        text-align: right;\n",
       "    }\n",
       "</style>\n",
       "<table border=\"1\" class=\"dataframe\">\n",
       "  <thead>\n",
       "    <tr style=\"text-align: right;\">\n",
       "      <th></th>\n",
       "      <th>patched_cell_container</th>\n",
       "      <th>morphology</th>\n",
       "      <th>project</th>\n",
       "      <th>anno.sample_id</th>\n",
       "      <th>anno.postPatch_label</th>\n",
       "      <th>anno.endPipetteR_label</th>\n",
       "      <th>Lims tube id</th>\n",
       "      <th>patch_duration</th>\n",
       "      <th>extraction_duration</th>\n",
       "      <th>retraction_duration</th>\n",
       "      <th>post_patch</th>\n",
       "    </tr>\n",
       "    <tr>\n",
       "      <th>Date</th>\n",
       "      <th></th>\n",
       "      <th></th>\n",
       "      <th></th>\n",
       "      <th></th>\n",
       "      <th></th>\n",
       "      <th></th>\n",
       "      <th></th>\n",
       "      <th></th>\n",
       "      <th></th>\n",
       "      <th></th>\n",
       "      <th></th>\n",
       "    </tr>\n",
       "  </thead>\n",
       "  <tbody>\n",
       "    <tr>\n",
       "      <th>180124</th>\n",
       "      <td>P9S4_180124_405_A01</td>\n",
       "      <td>NaN</td>\n",
       "      <td>mIVSCC-MET</td>\n",
       "      <td>P9S4_180124_405_A01</td>\n",
       "      <td>entire_cell</td>\n",
       "      <td>4.0</td>\n",
       "      <td>P9S4_180124_405_A01</td>\n",
       "      <td>16.11666667</td>\n",
       "      <td>0.783333333</td>\n",
       "      <td>8.216666667</td>\n",
       "      <td>Entire cell</td>\n",
       "    </tr>\n",
       "    <tr>\n",
       "      <th>180126</th>\n",
       "      <td>P9S4_180126_404_A01</td>\n",
       "      <td>NaN</td>\n",
       "      <td>mIVSCC-MET</td>\n",
       "      <td>P9S4_180126_404_A01</td>\n",
       "      <td>entire_cell</td>\n",
       "      <td>11.5</td>\n",
       "      <td>P9S4_180126_404_A01</td>\n",
       "      <td>11.45</td>\n",
       "      <td>0.633333333</td>\n",
       "      <td>1.883333333</td>\n",
       "      <td>Entire cell</td>\n",
       "    </tr>\n",
       "    <tr>\n",
       "      <th>180205</th>\n",
       "      <td>P1S4_180205_003_A01</td>\n",
       "      <td>63x no go</td>\n",
       "      <td>mIVSCC-MET</td>\n",
       "      <td>P1S4_180205_003_A01</td>\n",
       "      <td>entire_cell</td>\n",
       "      <td>5.0</td>\n",
       "      <td>P1S4_180205_003_A01</td>\n",
       "      <td>5.983333333</td>\n",
       "      <td>0.566666667</td>\n",
       "      <td>1.216666667</td>\n",
       "      <td>Entire cell</td>\n",
       "    </tr>\n",
       "    <tr>\n",
       "      <th>180207</th>\n",
       "      <td>P1S4_180207_003_A01</td>\n",
       "      <td>NaN</td>\n",
       "      <td>mIVSCC-MET</td>\n",
       "      <td>P1S4_180207_003_A01</td>\n",
       "      <td>entire_cell</td>\n",
       "      <td>3.0</td>\n",
       "      <td>P1S4_180207_003_A01</td>\n",
       "      <td>4.816666667</td>\n",
       "      <td>0.433333333</td>\n",
       "      <td>0.933333333</td>\n",
       "      <td>Entire cell</td>\n",
       "    </tr>\n",
       "    <tr>\n",
       "      <th>180220</th>\n",
       "      <td>PAS4_180220_451_A01</td>\n",
       "      <td>NaN</td>\n",
       "      <td>mIVSCC-MET</td>\n",
       "      <td>PAS4_180220_451_A01</td>\n",
       "      <td>entire_cell</td>\n",
       "      <td>5.7</td>\n",
       "      <td>PAS4_180220_451_A01</td>\n",
       "      <td>8.633333333</td>\n",
       "      <td>1.6</td>\n",
       "      <td>0.533333333</td>\n",
       "      <td>Entire cell</td>\n",
       "    </tr>\n",
       "  </tbody>\n",
       "</table>\n",
       "</div>"
      ],
      "text/plain": [
       "       patched_cell_container morphology     project       anno.sample_id  \\\n",
       "Date                                                                        \n",
       "180124    P9S4_180124_405_A01        NaN  mIVSCC-MET  P9S4_180124_405_A01   \n",
       "180126    P9S4_180126_404_A01        NaN  mIVSCC-MET  P9S4_180126_404_A01   \n",
       "180205    P1S4_180205_003_A01  63x no go  mIVSCC-MET  P1S4_180205_003_A01   \n",
       "180207    P1S4_180207_003_A01        NaN  mIVSCC-MET  P1S4_180207_003_A01   \n",
       "180220    PAS4_180220_451_A01        NaN  mIVSCC-MET  PAS4_180220_451_A01   \n",
       "\n",
       "       anno.postPatch_label  anno.endPipetteR_label         Lims tube id  \\\n",
       "Date                                                                       \n",
       "180124          entire_cell                     4.0  P9S4_180124_405_A01   \n",
       "180126          entire_cell                    11.5  P9S4_180126_404_A01   \n",
       "180205          entire_cell                     5.0  P1S4_180205_003_A01   \n",
       "180207          entire_cell                     3.0  P1S4_180207_003_A01   \n",
       "180220          entire_cell                     5.7  PAS4_180220_451_A01   \n",
       "\n",
       "       patch_duration extraction_duration retraction_duration   post_patch  \n",
       "Date                                                                        \n",
       "180124    16.11666667         0.783333333         8.216666667  Entire cell  \n",
       "180126          11.45         0.633333333         1.883333333  Entire cell  \n",
       "180205    5.983333333         0.566666667         1.216666667  Entire cell  \n",
       "180207    4.816666667         0.433333333         0.933333333  Entire cell  \n",
       "180220    8.633333333                 1.6         0.533333333  Entire cell  "
      ]
     },
     "execution_count": 17,
     "metadata": {},
     "output_type": "execute_result"
    }
   ],
   "source": [
    "final_df = postpatch_reclass(final_df)\n",
    "final_df.tail()"
   ]
  },
  {
   "cell_type": "markdown",
   "metadata": {},
   "source": [
    "##### Dropping columns "
   ]
  },
  {
   "cell_type": "code",
   "execution_count": 18,
   "metadata": {},
   "outputs": [],
   "source": [
    "final_df.drop(['patched_cell_container', 'project', 'anno.sample_id', 'Lims tube id'], axis=1, inplace=True)"
   ]
  },
  {
   "cell_type": "markdown",
   "metadata": {},
   "source": [
    "##### Filters columns that have NaN"
   ]
  },
  {
   "cell_type": "code",
   "execution_count": 19,
   "metadata": {},
   "outputs": [],
   "source": [
    "final_df.dropna(subset = ['morphology', 'anno.endPipetteR_label', 'patch_duration'], inplace = True)"
   ]
  },
  {
   "cell_type": "code",
   "execution_count": 20,
   "metadata": {},
   "outputs": [],
   "source": [
    "#Categorical\n",
    "final_df['morphology'] = final_df['morphology'].astype('category')\n",
    "final_df['post_patch'] = final_df['post_patch'].astype('category')\n",
    "\n",
    "#Numerical\n",
    "#final_df['anno.endPipetteR_label'] = final_df['anno.endPipetteR_label'].astype('float')\n",
    "final_df['patch_duration'] = final_df['patch_duration'].astype('float')\n",
    "final_df['extraction_duration'] = final_df['extraction_duration'].astype('float')\n",
    "#final_df['retraction_duration'] = final_df['retraction_duration'].astype('float')"
   ]
  },
  {
   "cell_type": "code",
   "execution_count": 21,
   "metadata": {},
   "outputs": [
    {
     "data": {
      "text/html": [
       "<div>\n",
       "<style scoped>\n",
       "    .dataframe tbody tr th:only-of-type {\n",
       "        vertical-align: middle;\n",
       "    }\n",
       "\n",
       "    .dataframe tbody tr th {\n",
       "        vertical-align: top;\n",
       "    }\n",
       "\n",
       "    .dataframe thead th {\n",
       "        text-align: right;\n",
       "    }\n",
       "</style>\n",
       "<table border=\"1\" class=\"dataframe\">\n",
       "  <thead>\n",
       "    <tr style=\"text-align: right;\">\n",
       "      <th></th>\n",
       "      <th>morphology</th>\n",
       "      <th>anno.postPatch_label</th>\n",
       "      <th>anno.endPipetteR_label</th>\n",
       "      <th>patch_duration</th>\n",
       "      <th>extraction_duration</th>\n",
       "      <th>retraction_duration</th>\n",
       "      <th>post_patch</th>\n",
       "    </tr>\n",
       "    <tr>\n",
       "      <th>Date</th>\n",
       "      <th></th>\n",
       "      <th></th>\n",
       "      <th></th>\n",
       "      <th></th>\n",
       "      <th></th>\n",
       "      <th></th>\n",
       "      <th></th>\n",
       "    </tr>\n",
       "  </thead>\n",
       "  <tbody>\n",
       "    <tr>\n",
       "      <th>170901</th>\n",
       "      <td>63x go</td>\n",
       "      <td>Nucleated</td>\n",
       "      <td>0.0</td>\n",
       "      <td>9.966667</td>\n",
       "      <td>0.850000</td>\n",
       "      <td>NaN</td>\n",
       "      <td>Nuc-high seal</td>\n",
       "    </tr>\n",
       "    <tr>\n",
       "      <th>170901</th>\n",
       "      <td>63x no go</td>\n",
       "      <td>Nucleated</td>\n",
       "      <td>0.0</td>\n",
       "      <td>11.316667</td>\n",
       "      <td>1.700000</td>\n",
       "      <td>NaN</td>\n",
       "      <td>Nuc-high seal</td>\n",
       "    </tr>\n",
       "    <tr>\n",
       "      <th>170901</th>\n",
       "      <td>63x go</td>\n",
       "      <td>Nucleated</td>\n",
       "      <td>0.0</td>\n",
       "      <td>10.450000</td>\n",
       "      <td>1.300000</td>\n",
       "      <td>NaN</td>\n",
       "      <td>Nuc-high seal</td>\n",
       "    </tr>\n",
       "    <tr>\n",
       "      <th>170906</th>\n",
       "      <td>63x go</td>\n",
       "      <td>Nucleated</td>\n",
       "      <td>0.0</td>\n",
       "      <td>6.800000</td>\n",
       "      <td>2.116667</td>\n",
       "      <td>NaN</td>\n",
       "      <td>Nuc-high seal</td>\n",
       "    </tr>\n",
       "    <tr>\n",
       "      <th>170906</th>\n",
       "      <td>63x no go</td>\n",
       "      <td>Nucleated</td>\n",
       "      <td>0.0</td>\n",
       "      <td>6.200000</td>\n",
       "      <td>0.966667</td>\n",
       "      <td>NaN</td>\n",
       "      <td>Nuc-high seal</td>\n",
       "    </tr>\n",
       "  </tbody>\n",
       "</table>\n",
       "</div>"
      ],
      "text/plain": [
       "       morphology anno.postPatch_label  anno.endPipetteR_label  \\\n",
       "Date                                                             \n",
       "170901     63x go            Nucleated                     0.0   \n",
       "170901  63x no go            Nucleated                     0.0   \n",
       "170901     63x go            Nucleated                     0.0   \n",
       "170906     63x go            Nucleated                     0.0   \n",
       "170906  63x no go            Nucleated                     0.0   \n",
       "\n",
       "        patch_duration  extraction_duration retraction_duration     post_patch  \n",
       "Date                                                                            \n",
       "170901        9.966667             0.850000                 NaN  Nuc-high seal  \n",
       "170901       11.316667             1.700000                 NaN  Nuc-high seal  \n",
       "170901       10.450000             1.300000                 NaN  Nuc-high seal  \n",
       "170906        6.800000             2.116667                 NaN  Nuc-high seal  \n",
       "170906        6.200000             0.966667                 NaN  Nuc-high seal  "
      ]
     },
     "execution_count": 21,
     "metadata": {},
     "output_type": "execute_result"
    }
   ],
   "source": [
    "final_df.head()"
   ]
  },
  {
   "cell_type": "code",
   "execution_count": 22,
   "metadata": {},
   "outputs": [
    {
     "data": {
      "text/html": [
       "<div>\n",
       "<style scoped>\n",
       "    .dataframe tbody tr th:only-of-type {\n",
       "        vertical-align: middle;\n",
       "    }\n",
       "\n",
       "    .dataframe tbody tr th {\n",
       "        vertical-align: top;\n",
       "    }\n",
       "\n",
       "    .dataframe thead th {\n",
       "        text-align: right;\n",
       "    }\n",
       "</style>\n",
       "<table border=\"1\" class=\"dataframe\">\n",
       "  <thead>\n",
       "    <tr style=\"text-align: right;\">\n",
       "      <th></th>\n",
       "      <th>morphology</th>\n",
       "      <th>anno.postPatch_label</th>\n",
       "      <th>anno.endPipetteR_label</th>\n",
       "      <th>patch_duration</th>\n",
       "      <th>extraction_duration</th>\n",
       "      <th>retraction_duration</th>\n",
       "      <th>post_patch</th>\n",
       "    </tr>\n",
       "    <tr>\n",
       "      <th>Date</th>\n",
       "      <th></th>\n",
       "      <th></th>\n",
       "      <th></th>\n",
       "      <th></th>\n",
       "      <th></th>\n",
       "      <th></th>\n",
       "      <th></th>\n",
       "    </tr>\n",
       "  </thead>\n",
       "  <tbody>\n",
       "    <tr>\n",
       "      <th>171101</th>\n",
       "      <td>63x no go</td>\n",
       "      <td>entire_cell</td>\n",
       "      <td>3.5</td>\n",
       "      <td>8.233333</td>\n",
       "      <td>0.350000</td>\n",
       "      <td>1.35</td>\n",
       "      <td>Entire cell</td>\n",
       "    </tr>\n",
       "    <tr>\n",
       "      <th>171102</th>\n",
       "      <td>63x go</td>\n",
       "      <td>entire_cell</td>\n",
       "      <td>200.0</td>\n",
       "      <td>8.350000</td>\n",
       "      <td>1.616667</td>\n",
       "      <td>1.21666667</td>\n",
       "      <td>Entire cell</td>\n",
       "    </tr>\n",
       "    <tr>\n",
       "      <th>171116</th>\n",
       "      <td>63x go</td>\n",
       "      <td>entire_cell</td>\n",
       "      <td>1000.0</td>\n",
       "      <td>4.583333</td>\n",
       "      <td>0.466667</td>\n",
       "      <td>0</td>\n",
       "      <td>Entire cell</td>\n",
       "    </tr>\n",
       "    <tr>\n",
       "      <th>171211</th>\n",
       "      <td>63x no go</td>\n",
       "      <td>entire_cell</td>\n",
       "      <td>2000.0</td>\n",
       "      <td>12.300000</td>\n",
       "      <td>1.183333</td>\n",
       "      <td>2.2</td>\n",
       "      <td>Entire cell</td>\n",
       "    </tr>\n",
       "    <tr>\n",
       "      <th>180205</th>\n",
       "      <td>63x no go</td>\n",
       "      <td>entire_cell</td>\n",
       "      <td>5.0</td>\n",
       "      <td>5.983333</td>\n",
       "      <td>0.566667</td>\n",
       "      <td>1.216666667</td>\n",
       "      <td>Entire cell</td>\n",
       "    </tr>\n",
       "  </tbody>\n",
       "</table>\n",
       "</div>"
      ],
      "text/plain": [
       "       morphology anno.postPatch_label  anno.endPipetteR_label  \\\n",
       "Date                                                             \n",
       "171101  63x no go          entire_cell                     3.5   \n",
       "171102     63x go          entire_cell                   200.0   \n",
       "171116     63x go          entire_cell                  1000.0   \n",
       "171211  63x no go          entire_cell                  2000.0   \n",
       "180205  63x no go          entire_cell                     5.0   \n",
       "\n",
       "        patch_duration  extraction_duration retraction_duration   post_patch  \n",
       "Date                                                                          \n",
       "171101        8.233333             0.350000                1.35  Entire cell  \n",
       "171102        8.350000             1.616667          1.21666667  Entire cell  \n",
       "171116        4.583333             0.466667                   0  Entire cell  \n",
       "171211       12.300000             1.183333                 2.2  Entire cell  \n",
       "180205        5.983333             0.566667         1.216666667  Entire cell  "
      ]
     },
     "execution_count": 22,
     "metadata": {},
     "output_type": "execute_result"
    }
   ],
   "source": [
    "final_df.tail()"
   ]
  },
  {
   "cell_type": "markdown",
   "metadata": {},
   "source": [
    "##### Info"
   ]
  },
  {
   "cell_type": "code",
   "execution_count": 23,
   "metadata": {},
   "outputs": [
    {
     "name": "stdout",
     "output_type": "stream",
     "text": [
      "<class 'pandas.core.frame.DataFrame'>\n",
      "Index: 873 entries, 170901 to 180205\n",
      "Data columns (total 7 columns):\n",
      "morphology                873 non-null category\n",
      "anno.postPatch_label      873 non-null object\n",
      "anno.endPipetteR_label    873 non-null float64\n",
      "patch_duration            873 non-null float64\n",
      "extraction_duration       873 non-null float64\n",
      "retraction_duration       707 non-null object\n",
      "post_patch                873 non-null category\n",
      "dtypes: category(2), float64(3), object(2)\n",
      "memory usage: 42.9+ KB\n"
     ]
    }
   ],
   "source": [
    "final_df.info()"
   ]
  },
  {
   "cell_type": "markdown",
   "metadata": {},
   "source": [
    "##### Box Plot of Patch Duration vs Morphology(63x)"
   ]
  },
  {
   "cell_type": "code",
   "execution_count": 24,
   "metadata": {},
   "outputs": [
    {
     "data": {
      "text/plain": [
       "Text(0,0.5,u'Patch Duration (min)')"
      ]
     },
     "execution_count": 24,
     "metadata": {},
     "output_type": "execute_result"
    },
    {
     "data": {
      "image/png": "[encoded data removed]",
      "text/plain": [
       "<matplotlib.figure.Figure at 0x20529160>"
      ]
     },
     "metadata": {},
     "output_type": "display_data"
    }
   ],
   "source": [
    "sns.boxplot(x = 'morphology', \n",
    "            y = 'patch_duration', \n",
    "            data = final_df[final_df['patch_duration'] > 1],\n",
    "            order = ['63x no go','63x go'],\n",
    "            palette = ['#de2d26', '#74c476'],\n",
    "            width = 0.65,\n",
    "            saturation = 1,\n",
    "            fliersize = 3).set_title('Patch Duration vs. Morphological Calls(63x)')\n",
    "plt.xlabel('Morphological Calls(63x)')\n",
    "plt.ylabel('Patch Duration (min)')\n",
    "#plt.savefig('TEXT')"
   ]
  },
  {
   "cell_type": "markdown",
   "metadata": {},
   "source": [
    "### Box Plot of Patch Duration vs Post Patch Outcomes"
   ]
  },
  {
   "cell_type": "code",
   "execution_count": 25,
   "metadata": {},
   "outputs": [
    {
     "data": {
      "image/png": "[encoded data removed]",
      "text/plain": [
       "<matplotlib.figure.Figure at 0x205297f0>"
      ]
     },
     "metadata": {},
     "output_type": "display_data"
    }
   ],
   "source": [
    "plt.subplots(figsize=(10,8)) #Has to before the plot to work\n",
    "\n",
    "bp = sns.boxplot(x = 'post_patch', \n",
    "            y = 'patch_duration', \n",
    "            order = ['Nuc-high seal', 'Nuc-low seal', 'No-high seal', 'No-low seal','Entire cell'],\n",
    "            palette = ['#31a354', '#bae4b3', '#fcae91', '#de2d26', '#6baed6'],\n",
    "            data = final_df[final_df['patch_duration'] > 1],\n",
    "            saturation = 1,\n",
    "            fliersize = 3)\n",
    "\n",
    "bp.set_title('Patch Duration vs. Post Patch Outcomes')\n",
    "plt.xlabel('Post Patch Outcomes')\n",
    "plt.ylabel('Patch Duration (min)')\n",
    "plt.savefig('Boxplot_PD_vs_PP')"
   ]
  },
  {
   "cell_type": "markdown",
   "metadata": {},
   "source": [
    "### Box Plot of Patch Duration vs Morphological Calls per Post Post Outcomes"
   ]
  },
  {
   "cell_type": "code",
   "execution_count": 26,
   "metadata": {},
   "outputs": [
    {
     "data": {
      "image/png": "[encoded data removed]",
      "text/plain": [
       "<matplotlib.figure.Figure at 0x2021ddd8>"
      ]
     },
     "metadata": {},
     "output_type": "display_data"
    }
   ],
   "source": [
    "plt.subplots(figsize=(12,10)) #Has to before the plot to work\n",
    "\n",
    "bp = sns.boxplot(x = 'post_patch', \n",
    "            y = 'patch_duration', \n",
    "            hue = 'morphology',\n",
    "            order = ['Nuc-high seal', 'Nuc-low seal', 'No-high seal', 'No-low seal','Entire cell'],\n",
    "            hue_order = ['63x no go','63x go'],\n",
    "            data = final_df[final_df['patch_duration'] > 1],\n",
    "            palette = ['#de2d26', '#74c476'],\n",
    "            saturation = 1,\n",
    "            fliersize = 4)\n",
    "\n",
    "bp.legend(loc = 2, bbox_to_anchor = (1, 1))\n",
    "\n",
    "bp.set_title('Patch Duration vs. Morphological Calls by Post Patch Outcomes')\n",
    "plt.xlabel('Post Patch Outcomes')\n",
    "plt.ylabel('Patch Duration (min)')\n",
    "plt.savefig('Boxplot_PD_vs_M_by_PP')"
   ]
  },
  {
   "cell_type": "markdown",
   "metadata": {},
   "source": [
    "##### Info"
   ]
  },
  {
   "cell_type": "code",
   "execution_count": 27,
   "metadata": {},
   "outputs": [
    {
     "name": "stdout",
     "output_type": "stream",
     "text": [
      "<class 'pandas.core.frame.DataFrame'>\n",
      "Index: 873 entries, 170901 to 180205\n",
      "Data columns (total 7 columns):\n",
      "morphology                873 non-null category\n",
      "anno.postPatch_label      873 non-null object\n",
      "anno.endPipetteR_label    873 non-null float64\n",
      "patch_duration            873 non-null float64\n",
      "extraction_duration       873 non-null float64\n",
      "retraction_duration       707 non-null object\n",
      "post_patch                873 non-null category\n",
      "dtypes: category(2), float64(3), object(2)\n",
      "memory usage: 42.9+ KB\n"
     ]
    }
   ],
   "source": [
    "final_df.info()"
   ]
  },
  {
   "cell_type": "markdown",
   "metadata": {},
   "source": [
    "##### Factor Plot of Patch Duration vs Morphological Calls per Post Post Outcomes"
   ]
  },
  {
   "cell_type": "code",
   "execution_count": 28,
   "metadata": {},
   "outputs": [
    {
     "data": {
      "text/plain": [
       "Text(0.5,1,u'Patch Duration vs. Morphological Calls by Post Patch Outcomes')"
      ]
     },
     "execution_count": 28,
     "metadata": {},
     "output_type": "execute_result"
    },
    {
     "data": {
      "image/png": "[encoded data removed]",
      "text/plain": [
       "<matplotlib.figure.Figure at 0x1d3fba58>"
      ]
     },
     "metadata": {},
     "output_type": "display_data"
    }
   ],
   "source": [
    "fp = sns.factorplot(\n",
    "    kind = 'box',\n",
    "    x = 'post_patch', \n",
    "    y = 'patch_duration', \n",
    "    hue = 'morphology',\n",
    "    order = ['Nuc-high seal', 'Nuc-low seal', 'No-high seal', 'No-low seal','Entire cell'],\n",
    "    hue_order = ['63x no go','63x go'],\n",
    "    data = final_df[final_df['patch_duration'] > 1],\n",
    "    palette = ['#de2d26', '#74c476'],\n",
    "    saturation = 1,\n",
    "    fliersize = 4,\n",
    "    size = 8,\n",
    "    aspect = 1.2,\n",
    "    legend_out = True) \n",
    "\n",
    "fp.set(xlabel = 'Post Patch Outcomes', ylabel = 'Patch Duration (min)')\n",
    "plt.title('Patch Duration vs. Morphological Calls by Post Patch Outcomes')"
   ]
  },
  {
   "cell_type": "markdown",
   "metadata": {},
   "source": [
    "## Extra Plots"
   ]
  },
  {
   "cell_type": "code",
   "execution_count": 29,
   "metadata": {},
   "outputs": [],
   "source": [
    "final_df = final_df.reset_index()"
   ]
  },
  {
   "cell_type": "code",
   "execution_count": 30,
   "metadata": {},
   "outputs": [
    {
     "data": {
      "text/html": [
       "<div>\n",
       "<style scoped>\n",
       "    .dataframe tbody tr th:only-of-type {\n",
       "        vertical-align: middle;\n",
       "    }\n",
       "\n",
       "    .dataframe tbody tr th {\n",
       "        vertical-align: top;\n",
       "    }\n",
       "\n",
       "    .dataframe thead th {\n",
       "        text-align: right;\n",
       "    }\n",
       "</style>\n",
       "<table border=\"1\" class=\"dataframe\">\n",
       "  <thead>\n",
       "    <tr style=\"text-align: right;\">\n",
       "      <th></th>\n",
       "      <th>Date</th>\n",
       "      <th>morphology</th>\n",
       "      <th>anno.postPatch_label</th>\n",
       "      <th>anno.endPipetteR_label</th>\n",
       "      <th>patch_duration</th>\n",
       "      <th>extraction_duration</th>\n",
       "      <th>retraction_duration</th>\n",
       "      <th>post_patch</th>\n",
       "    </tr>\n",
       "  </thead>\n",
       "  <tbody>\n",
       "    <tr>\n",
       "      <th>0</th>\n",
       "      <td>170901</td>\n",
       "      <td>63x go</td>\n",
       "      <td>Nucleated</td>\n",
       "      <td>0.0</td>\n",
       "      <td>9.966667</td>\n",
       "      <td>0.850000</td>\n",
       "      <td>NaN</td>\n",
       "      <td>Nuc-high seal</td>\n",
       "    </tr>\n",
       "    <tr>\n",
       "      <th>1</th>\n",
       "      <td>170901</td>\n",
       "      <td>63x no go</td>\n",
       "      <td>Nucleated</td>\n",
       "      <td>0.0</td>\n",
       "      <td>11.316667</td>\n",
       "      <td>1.700000</td>\n",
       "      <td>NaN</td>\n",
       "      <td>Nuc-high seal</td>\n",
       "    </tr>\n",
       "    <tr>\n",
       "      <th>2</th>\n",
       "      <td>170901</td>\n",
       "      <td>63x go</td>\n",
       "      <td>Nucleated</td>\n",
       "      <td>0.0</td>\n",
       "      <td>10.450000</td>\n",
       "      <td>1.300000</td>\n",
       "      <td>NaN</td>\n",
       "      <td>Nuc-high seal</td>\n",
       "    </tr>\n",
       "    <tr>\n",
       "      <th>3</th>\n",
       "      <td>170906</td>\n",
       "      <td>63x go</td>\n",
       "      <td>Nucleated</td>\n",
       "      <td>0.0</td>\n",
       "      <td>6.800000</td>\n",
       "      <td>2.116667</td>\n",
       "      <td>NaN</td>\n",
       "      <td>Nuc-high seal</td>\n",
       "    </tr>\n",
       "    <tr>\n",
       "      <th>4</th>\n",
       "      <td>170906</td>\n",
       "      <td>63x no go</td>\n",
       "      <td>Nucleated</td>\n",
       "      <td>0.0</td>\n",
       "      <td>6.200000</td>\n",
       "      <td>0.966667</td>\n",
       "      <td>NaN</td>\n",
       "      <td>Nuc-high seal</td>\n",
       "    </tr>\n",
       "  </tbody>\n",
       "</table>\n",
       "</div>"
      ],
      "text/plain": [
       "     Date morphology anno.postPatch_label  anno.endPipetteR_label  \\\n",
       "0  170901     63x go            Nucleated                     0.0   \n",
       "1  170901  63x no go            Nucleated                     0.0   \n",
       "2  170901     63x go            Nucleated                     0.0   \n",
       "3  170906     63x go            Nucleated                     0.0   \n",
       "4  170906  63x no go            Nucleated                     0.0   \n",
       "\n",
       "   patch_duration  extraction_duration retraction_duration     post_patch  \n",
       "0        9.966667             0.850000                 NaN  Nuc-high seal  \n",
       "1       11.316667             1.700000                 NaN  Nuc-high seal  \n",
       "2       10.450000             1.300000                 NaN  Nuc-high seal  \n",
       "3        6.800000             2.116667                 NaN  Nuc-high seal  \n",
       "4        6.200000             0.966667                 NaN  Nuc-high seal  "
      ]
     },
     "execution_count": 30,
     "metadata": {},
     "output_type": "execute_result"
    }
   ],
   "source": [
    "final_df.head()"
   ]
  },
  {
   "cell_type": "code",
   "execution_count": 31,
   "metadata": {},
   "outputs": [
    {
     "data": {
      "text/plain": [
       "[<matplotlib.lines.Line2D at 0x20857668>]"
      ]
     },
     "execution_count": 31,
     "metadata": {},
     "output_type": "execute_result"
    },
    {
     "data": {
      "image/png": "[encoded data removed]",
      "text/plain": [
       "<matplotlib.figure.Figure at 0x1d41c780>"
      ]
     },
     "metadata": {},
     "output_type": "display_data"
    }
   ],
   "source": [
    "plt.plot_date(final_df['Date'], final_df['patch_duration'])"
   ]
  },
  {
   "cell_type": "code",
   "execution_count": 32,
   "metadata": {},
   "outputs": [],
   "source": [
    "#Changing Date Format\n",
    "final_df['Date'] = pd.to_datetime(final_df['Date'], format = \"%y%m%d\", errors = \"coerce\")"
   ]
  },
  {
   "cell_type": "code",
   "execution_count": 33,
   "metadata": {},
   "outputs": [
    {
     "data": {
      "text/html": [
       "<div>\n",
       "<style scoped>\n",
       "    .dataframe tbody tr th:only-of-type {\n",
       "        vertical-align: middle;\n",
       "    }\n",
       "\n",
       "    .dataframe tbody tr th {\n",
       "        vertical-align: top;\n",
       "    }\n",
       "\n",
       "    .dataframe thead th {\n",
       "        text-align: right;\n",
       "    }\n",
       "</style>\n",
       "<table border=\"1\" class=\"dataframe\">\n",
       "  <thead>\n",
       "    <tr style=\"text-align: right;\">\n",
       "      <th></th>\n",
       "      <th>Date</th>\n",
       "      <th>morphology</th>\n",
       "      <th>anno.postPatch_label</th>\n",
       "      <th>anno.endPipetteR_label</th>\n",
       "      <th>patch_duration</th>\n",
       "      <th>extraction_duration</th>\n",
       "      <th>retraction_duration</th>\n",
       "      <th>post_patch</th>\n",
       "    </tr>\n",
       "  </thead>\n",
       "  <tbody>\n",
       "    <tr>\n",
       "      <th>0</th>\n",
       "      <td>2017-09-01</td>\n",
       "      <td>63x go</td>\n",
       "      <td>Nucleated</td>\n",
       "      <td>0.0</td>\n",
       "      <td>9.966667</td>\n",
       "      <td>0.850000</td>\n",
       "      <td>NaN</td>\n",
       "      <td>Nuc-high seal</td>\n",
       "    </tr>\n",
       "    <tr>\n",
       "      <th>1</th>\n",
       "      <td>2017-09-01</td>\n",
       "      <td>63x no go</td>\n",
       "      <td>Nucleated</td>\n",
       "      <td>0.0</td>\n",
       "      <td>11.316667</td>\n",
       "      <td>1.700000</td>\n",
       "      <td>NaN</td>\n",
       "      <td>Nuc-high seal</td>\n",
       "    </tr>\n",
       "    <tr>\n",
       "      <th>2</th>\n",
       "      <td>2017-09-01</td>\n",
       "      <td>63x go</td>\n",
       "      <td>Nucleated</td>\n",
       "      <td>0.0</td>\n",
       "      <td>10.450000</td>\n",
       "      <td>1.300000</td>\n",
       "      <td>NaN</td>\n",
       "      <td>Nuc-high seal</td>\n",
       "    </tr>\n",
       "    <tr>\n",
       "      <th>3</th>\n",
       "      <td>2017-09-06</td>\n",
       "      <td>63x go</td>\n",
       "      <td>Nucleated</td>\n",
       "      <td>0.0</td>\n",
       "      <td>6.800000</td>\n",
       "      <td>2.116667</td>\n",
       "      <td>NaN</td>\n",
       "      <td>Nuc-high seal</td>\n",
       "    </tr>\n",
       "    <tr>\n",
       "      <th>4</th>\n",
       "      <td>2017-09-06</td>\n",
       "      <td>63x no go</td>\n",
       "      <td>Nucleated</td>\n",
       "      <td>0.0</td>\n",
       "      <td>6.200000</td>\n",
       "      <td>0.966667</td>\n",
       "      <td>NaN</td>\n",
       "      <td>Nuc-high seal</td>\n",
       "    </tr>\n",
       "  </tbody>\n",
       "</table>\n",
       "</div>"
      ],
      "text/plain": [
       "        Date morphology anno.postPatch_label  anno.endPipetteR_label  \\\n",
       "0 2017-09-01     63x go            Nucleated                     0.0   \n",
       "1 2017-09-01  63x no go            Nucleated                     0.0   \n",
       "2 2017-09-01     63x go            Nucleated                     0.0   \n",
       "3 2017-09-06     63x go            Nucleated                     0.0   \n",
       "4 2017-09-06  63x no go            Nucleated                     0.0   \n",
       "\n",
       "   patch_duration  extraction_duration retraction_duration     post_patch  \n",
       "0        9.966667             0.850000                 NaN  Nuc-high seal  \n",
       "1       11.316667             1.700000                 NaN  Nuc-high seal  \n",
       "2       10.450000             1.300000                 NaN  Nuc-high seal  \n",
       "3        6.800000             2.116667                 NaN  Nuc-high seal  \n",
       "4        6.200000             0.966667                 NaN  Nuc-high seal  "
      ]
     },
     "execution_count": 33,
     "metadata": {},
     "output_type": "execute_result"
    }
   ],
   "source": [
    "final_df.head()"
   ]
  },
  {
   "cell_type": "code",
   "execution_count": 34,
   "metadata": {},
   "outputs": [
    {
     "data": {
      "text/plain": [
       "[<matplotlib.lines.Line2D at 0x20e3df98>]"
      ]
     },
     "execution_count": 34,
     "metadata": {},
     "output_type": "execute_result"
    },
    {
     "data": {
      "image/png": "[encoded data removed]",
      "text/plain": [
       "<matplotlib.figure.Figure at 0x20c4e898>"
      ]
     },
     "metadata": {},
     "output_type": "display_data"
    }
   ],
   "source": [
    "plt.plot_date(x = final_df['Date'], \n",
    "              y = final_df['patch_duration'])"
   ]
  },
  {
   "cell_type": "code",
   "execution_count": 35,
   "metadata": {},
   "outputs": [
    {
     "data": {
      "text/plain": [
       "[<matplotlib.lines.Line2D at 0x20e826d8>]"
      ]
     },
     "execution_count": 35,
     "metadata": {},
     "output_type": "execute_result"
    },
    {
     "data": {
      "image/png": "[encoded data removed]",
      "text/plain": [
       "<matplotlib.figure.Figure at 0x1d08d668>"
      ]
     },
     "metadata": {},
     "output_type": "display_data"
    }
   ],
   "source": [
    "plt.plot_date(x = final_df['Date'], \n",
    "              y = final_df['patch_duration'])"
   ]
  },
  {
   "cell_type": "code",
   "execution_count": 36,
   "metadata": {},
   "outputs": [
    {
     "data": {
      "text/plain": [
       "<matplotlib.axes._subplots.AxesSubplot at 0x20ef9eb8>"
      ]
     },
     "execution_count": 36,
     "metadata": {},
     "output_type": "execute_result"
    },
    {
     "data": {
      "image/png": "[encoded data removed]",
      "text/plain": [
       "<matplotlib.figure.Figure at 0x20f11198>"
      ]
     },
     "metadata": {},
     "output_type": "display_data"
    }
   ],
   "source": [
    "sns.stripplot(x = 'Date',\n",
    "              y = 'patch_duration',\n",
    "              data = final_df)"
   ]
  },
  {
   "cell_type": "code",
   "execution_count": null,
   "metadata": {},
   "outputs": [],
   "source": []
  }
 ],
 "metadata": {
  "kernelspec": {
   "display_name": "Python 2",
   "language": "python",
   "name": "python2"
  },
  "language_info": {
   "codemirror_mode": {
    "name": "ipython",
    "version": 2
   },
   "file_extension": ".py",
   "mimetype": "text/x-python",
   "name": "python",
   "nbconvert_exporter": "python",
   "pygments_lexer": "ipython2",
   "version": "2.7.14"
  }
 },
 "nbformat": 4,
 "nbformat_minor": 2
}
