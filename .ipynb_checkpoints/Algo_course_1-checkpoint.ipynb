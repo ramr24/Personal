{
 "cells": [
  {
   "cell_type": "markdown",
   "metadata": {},
   "source": [
    "### Lab 1"
   ]
  },
  {
   "cell_type": "markdown",
   "metadata": {},
   "source": [
    "Write a function that takes an integer value and returns its binary representation as a string.\n",
    "So, something like:\n",
    "\n",
    "ConvertToBinary( 4 ) would return  “10”\n",
    "ConvertToBinary( 10 ) would return  “1010”\n",
    "ConvertToBinary( 15 ) would return  “1111\""
   ]
  },
  {
   "cell_type": "code",
   "execution_count": 21,
   "metadata": {},
   "outputs": [],
   "source": [
    "def ConvertToBinary(i):\n",
    "    \"\"\"\n",
    "    Convert an integer value into the binary code as a string (Base 2).\n",
    "    Parameters:\n",
    "    i: integer value\n",
    "    \n",
    "    Variables:\n",
    "    s: binary code as a string\n",
    "    \"\"\"\n",
    "    \n",
    "    if i == 0:\n",
    "        return \"0\"\n",
    "    s = \"\" #Provide an empty string \n",
    "    while i: #While loop until\n",
    "        if i & 1 == 1:\n",
    "            s = \"1\" + s #Compiles into a string\n",
    "        else: \n",
    "            s = \"0\" + s\n",
    "        i = i/2 #Another way to phrase i //= 2\n",
    "    return s"
   ]
  },
  {
   "cell_type": "code",
   "execution_count": 32,
   "metadata": {},
   "outputs": [
    {
     "data": {
      "text/plain": [
       "'100'"
      ]
     },
     "execution_count": 32,
     "metadata": {},
     "output_type": "execute_result"
    }
   ],
   "source": [
    "ConvertToBinary(4)"
   ]
  },
  {
   "cell_type": "code",
   "execution_count": 33,
   "metadata": {},
   "outputs": [
    {
     "data": {
      "text/plain": [
       "'1010'"
      ]
     },
     "execution_count": 33,
     "metadata": {},
     "output_type": "execute_result"
    }
   ],
   "source": [
    "ConvertToBinary(10)"
   ]
  },
  {
   "cell_type": "code",
   "execution_count": 34,
   "metadata": {},
   "outputs": [
    {
     "data": {
      "text/plain": [
       "'1111'"
      ]
     },
     "execution_count": 34,
     "metadata": {},
     "output_type": "execute_result"
    }
   ],
   "source": [
    "ConvertToBinary(15)"
   ]
  },
  {
   "cell_type": "markdown",
   "metadata": {},
   "source": [
    "Write a function Convert:\n",
    "takes an integer as 1st argument \n",
    "–this represents the value to be converted\n",
    "•takes an integer as 2nd argument \n",
    "–this represents the base to be used.\n",
    "Returns a string that has the converted value.\n",
    "\n",
    "Base 2 - Binary\n",
    "Base 10 - Decimal\n",
    "Base 16 - Hexadecimal\n",
    "\n",
    "Examples:\n",
    "(Decimal value, Base)\n",
    "\n",
    "Convert (3, 2) returns “11”\n",
    "Convert (7, 2) returns “111”\n",
    "Convert (32, 16) returns “20”"
   ]
  },
  {
   "cell_type": "code",
   "execution_count": null,
   "metadata": {},
   "outputs": [],
   "source": [
    "def Convert(num, base):\n",
    "    if((num < 0) | (base < 0) | (base > 16))\n",
    "        return \"\"\n",
    "    while (num > 0)\n",
    "        lsb = num % base\n",
    "        if lsb <= 9:\n",
    "    \n",
    "    \n",
    "    \n",
    "    pass"
   ]
  },
  {
   "cell_type": "code",
   "execution_count": 39,
   "metadata": {},
   "outputs": [
    {
     "data": {
      "text/plain": [
       "'100000'"
      ]
     },
     "execution_count": 39,
     "metadata": {},
     "output_type": "execute_result"
    }
   ],
   "source": [
    "ConvertToBinary(32)"
   ]
  },
  {
   "cell_type": "code",
   "execution_count": null,
   "metadata": {},
   "outputs": [],
   "source": []
  },
  {
   "cell_type": "code",
   "execution_count": null,
   "metadata": {},
   "outputs": [],
   "source": []
  },
  {
   "cell_type": "code",
   "execution_count": null,
   "metadata": {},
   "outputs": [],
   "source": []
  },
  {
   "cell_type": "code",
   "execution_count": null,
   "metadata": {},
   "outputs": [],
   "source": [
    "public class BaseToBaseConv {\n",
    "\n",
    "static String baseToBase(String num, int base1, int base2) {\n",
    "    int no = convFrmBaseToDeci(num, base1);\n",
    "    return convFrmDecToBase(no, base2);\n",
    "}\n",
    "\n",
    "static String convFrmDecToBase(int num, int base) {\n",
    "\n",
    "    String res = \"\";\n",
    "    int rem;\n",
    "    // Convert input number is given base by repeatedly\n",
    "    // dividing it by base and taking remainder\n",
    "    while (num > 0) {\n",
    "        rem = num % base;\n",
    "        if (base == 16) {\n",
    "            if (rem == 10)\n",
    "                res += 'A';\n",
    "            else if (rem == 11)\n",
    "                res += 'B';\n",
    "            else if (rem == 12)\n",
    "                res += 'C';\n",
    "            else if (rem == 13)\n",
    "                res += 'D';\n",
    "            else if (rem == 14)\n",
    "                res += 'E';\n",
    "            else if (rem == 15)\n",
    "                res += 'F';\n",
    "            else\n",
    "                res += rem;\n",
    "        } else\n",
    "            res += rem;\n",
    "\n",
    "        num /= base;\n",
    "    }\n",
    "    // Reverse the result\n",
    "    return new StringBuffer(res).reverse().toString();\n",
    "}\n",
    "\n",
    "static int convFrmBaseToDeci(String num, int base) {\n",
    "\n",
    "    if (base < 2 || (base > 10 && base != 16))\n",
    "        return -1;\n",
    "\n",
    "    int val = 0;\n",
    "    int power = 1;\n",
    "\n",
    "    for (int i = num.length() - 1; i >= 0; i--) {\n",
    "        int digit = digitToVal(num.charAt(i));\n",
    "\n",
    "        if (digit < 0 || digit >= base)\n",
    "            return -1;\n",
    "\n",
    "        // Decimal equivalent is str[len-1]*1 +\n",
    "        // str[len-1]*base + str[len-1]*(base^2) + ...\n",
    "        val += digit * power;\n",
    "        power = power * base;\n",
    "    }\n",
    "\n",
    "    return val;\n",
    "}\n",
    "\n",
    "static int digitToVal(char c) {\n",
    "    if (c >= '0' && c <= '9')\n",
    "        return (int) c - '0';\n",
    "    else\n",
    "        return (int) c - 'A' + 10;\n",
    "}\n",
    "\n",
    "public static void main(String [] args) {\n",
    "    System.out.println(baseToBase(\"12345\", 10, 2));\n",
    "    System.out.println(baseToBase(\"11000000111001\", 2, 10));\n",
    "    System.out.println(baseToBase(\"ABC11\", 16, 2));\n",
    "    System.out.println(baseToBase(\"10101011110000010001\", 2, 16));\n",
    "    System.out.println(baseToBase(\"12322\", 8, 16));\n",
    "}\n",
    "}"
   ]
  },
  {
   "cell_type": "code",
   "execution_count": null,
   "metadata": {},
   "outputs": [],
   "source": []
  },
  {
   "cell_type": "code",
   "execution_count": null,
   "metadata": {},
   "outputs": [],
   "source": []
  },
  {
   "cell_type": "markdown",
   "metadata": {},
   "source": [
    "### Assignment 1"
   ]
  },
  {
   "cell_type": "code",
   "execution_count": null,
   "metadata": {},
   "outputs": [],
   "source": [
    "base_62 = \"0123456789ABCDEFGHIJKLMNOPQRSTUVWXYZabcdefghijklmnopqrstuvwxyz\"\n",
    "\n",
    "# 1. For our first problem, write a function that converts a given base-62 string\n",
    "#    into an integer. Only a single string will be provided, and it will be up to\n",
    "#    11 characters in length.\n",
    "\n",
    "def to_base_10(videoId):\n",
    "    \n",
    "    pass\n",
    "\n",
    "# 2. Write a function that does the opposite of the previous one. That is, it\n",
    "#    encodes a integer video key as a base-62 string.\n",
    "\n",
    "def to_base_62(number):\n",
    "    pass"
   ]
  },
  {
   "cell_type": "code",
   "execution_count": null,
   "metadata": {},
   "outputs": [],
   "source": []
  },
  {
   "cell_type": "code",
   "execution_count": null,
   "metadata": {},
   "outputs": [],
   "source": [
    "base = len(base_62)"
   ]
  },
  {
   "cell_type": "code",
   "execution_count": null,
   "metadata": {},
   "outputs": [],
   "source": []
  },
  {
   "cell_type": "code",
   "execution_count": null,
   "metadata": {},
   "outputs": [],
   "source": [
    "from math import floor\n",
    "import string\n",
    "\n",
    "def toBase62(num, b = 62):\n",
    "    if b <= 0 or b > 62:\n",
    "        return 0\n",
    "    base = string.digits + string.lowercase + string.uppercase\n",
    "    r = num % b\n",
    "    res = base[r];\n",
    "    q = floor(num / b)\n",
    "    while q:\n",
    "        r = q % b\n",
    "        q = floor(q / b)\n",
    "        res = base[int(r)] + res\n",
    "    return res\n",
    "\n",
    "def toBase10(num, b = 62):\n",
    "    base = string.digits + string.lowercase + string.uppercase\n",
    "    limit = len(num)\n",
    "    res = 0\n",
    "    for i in xrange(limit):\n",
    "        res = b * res + base.find(num[i])\n",
    "    return res"
   ]
  },
  {
   "cell_type": "code",
   "execution_count": null,
   "metadata": {},
   "outputs": [],
   "source": []
  },
  {
   "cell_type": "code",
   "execution_count": null,
   "metadata": {},
   "outputs": [],
   "source": []
  },
  {
   "cell_type": "code",
   "execution_count": null,
   "metadata": {},
   "outputs": [],
   "source": []
  }
 ],
 "metadata": {
  "kernelspec": {
   "display_name": "Python 2",
   "language": "python",
   "name": "python2"
  },
  "language_info": {
   "codemirror_mode": {
    "name": "ipython",
    "version": 2
   },
   "file_extension": ".py",
   "mimetype": "text/x-python",
   "name": "python",
   "nbconvert_exporter": "python",
   "pygments_lexer": "ipython2",
   "version": "2.7.15"
  }
 },
 "nbformat": 4,
 "nbformat_minor": 2
}
