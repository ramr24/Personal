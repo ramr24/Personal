{
 "cells": [
  {
   "cell_type": "markdown",
   "metadata": {},
   "source": [
    "# Import Section"
   ]
  },
  {
   "cell_type": "code",
   "execution_count": 1,
   "metadata": {},
   "outputs": [],
   "source": [
    "import pg8000          #pg8000 access SQL databases\n",
    "import pandas as pd    #pandas will be needed to work in a dataframe"
   ]
  },
  {
   "cell_type": "code",
   "execution_count": 2,
   "metadata": {},
   "outputs": [],
   "source": [
    "#Import necessary functions\n",
    "import pandas as pd\n",
    "import numpy as np\n",
    "import seaborn as sns\n",
    "\n",
    "#Makes a white backround with gray horizontal gridmarks at y-values\n",
    "sns.set_style(\"whitegrid\")"
   ]
  },
  {
   "cell_type": "markdown",
   "metadata": {},
   "source": [
    "# Definitions created by Agata to access LIMS to pull database"
   ]
  },
  {
   "cell_type": "code",
   "execution_count": 3,
   "metadata": {},
   "outputs": [],
   "source": [
    "#code from Agata\n",
    "#these are nice functions to open LIMS, make a query and then close LIMS after\n",
    "\n",
    "def _connect(user=\"limsreader\", host=\"limsdb2\", database=\"lims2\", password=\"limsro\", port=5432):\n",
    "    conn = pg8000.connect(user=user, host=host, database=database, password=password, port=port)\n",
    "    return conn, conn.cursor()\n",
    "\n",
    "def _select(cursor, query):\n",
    "    cursor.execute(query)\n",
    "    columns = [ d[0] for d in cursor.description ]\n",
    "    return [ dict(zip(columns, c)) for c in cursor.fetchall() ]\n",
    "\n",
    "def limsquery(query, user=\"limsreader\", host=\"limsdb2\", database=\"lims2\", password=\"limsro\", port=5432):\n",
    "    \"\"\"A function that takes a string containing a SQL query, connects to the LIMS database and outputs the result.\"\"\"\n",
    "    conn, cursor = _connect(user, host, database, password, port)\n",
    "    try:\n",
    "        results = _select(cursor, query)\n",
    "    finally:\n",
    "        \n",
    "        #THESE ARE IMPORTANT!!!!!!\n",
    "        #Every query needs to be closed when done\n",
    "        cursor.close()             \n",
    "        conn.close()\n",
    "    return results\n",
    "\n",
    "\n",
    "#this last function will take our query results and put them in a dataframe so that they are easy to work with\n",
    "def get_lims_dataframe(query):\n",
    "    '''Return a dataframe with lims query'''\n",
    "    result = limsquery(query)\n",
    "    try:\n",
    "        data_df = pd.DataFrame(data=result, columns=result[0].keys())\n",
    "    except IndexError:\n",
    "        print \"Could not find results for your query.\"\n",
    "        data_df = pd.DataFrame()\n",
    "    return data_df"
   ]
  },
  {
   "cell_type": "markdown",
   "metadata": {},
   "source": [
    "# Rules in SQL"
   ]
  },
  {
   "cell_type": "markdown",
   "metadata": {},
   "source": [
    "### Practice "
   ]
  },
  {
   "cell_type": "code",
   "execution_count": 35,
   "metadata": {},
   "outputs": [
    {
     "name": "stdout",
     "output_type": "stream",
     "text": [
      "[{'cell_depth': None, 'ephys_roi_result_id': None, 'parent_y_coord': 0, 'reference_space_id': None, 'updated_at': datetime.datetime(2016, 12, 16, 4, 54, 44, 477335), 'cell_label': None, 'preparation_method_id': None, 'parent_x_coord': 2, 'location_id': None, 'id': 556516441, 'cortex_layer_id': None, 'plane_of_section_id': 11, 'frozen_at': None, 'flipped_specimen_id': 561557765, 'data': None, 'pinned_radius': None, 'rna_integrity_number': None, 'histology_well_name': None, 'created_by': None, 'priority': None, 'parent_id': 556516212, 'ephys_start_time_sec': None, 'project_id': 305094322, 'alignment3d_id': None, 'carousel_well_name': u'T301_122_161107_01_12', 'patched_cell_container': None, 'updated_by': None, 'cell_prep_id': None, 'biophysical_model_state': u'review_required', 'barcode': u'0556516441', 'storage_directory': None, 'x_coord': None, 'tissue_ph': None, 'specimen_preparation_method_id': None, 'donor_id': 555257198, 'operation_id': None, 'ephys_neural_tissue_plan_id': 555257244, 'structure_id': None, 'parent_z_coord': 0, 'facs_well_id': None, 'name': u'Ndnf-IRES2-dgCre;Ai14-280612.06.02', 'y_coord': None, 'normalization_group_id': None, 'postmortem_interval_id': None, 'specimen_set_id': None, 'created_at': datetime.datetime(2016, 11, 7, 16, 3, 11, 459275), 'tissue_processing_id': 555257241, 'ephys_cell_plan_id': None, 'hemisphere_id': None, 'ephys_qc_result': None, 'cell_reporter_id': None, 'task_flow_id': None, 'external_specimen_name': None}, {'cell_depth': None, 'ephys_roi_result_id': None, 'parent_y_coord': None, 'reference_space_id': None, 'updated_at': datetime.datetime(2017, 4, 19, 14, 52, 52, 593310), 'cell_label': None, 'preparation_method_id': None, 'parent_x_coord': None, 'location_id': None, 'id': 581535046, 'cortex_layer_id': None, 'plane_of_section_id': 5, 'frozen_at': None, 'flipped_specimen_id': 561557765, 'data': None, 'pinned_radius': None, 'rna_integrity_number': None, 'histology_well_name': None, 'created_by': None, 'priority': None, 'parent_id': None, 'ephys_start_time_sec': None, 'project_id': 305094322, 'alignment3d_id': None, 'carousel_well_name': None, 'patched_cell_container': None, 'updated_by': None, 'cell_prep_id': None, 'biophysical_model_state': u'review_required', 'barcode': u'0581535046', 'storage_directory': None, 'x_coord': None, 'tissue_ph': None, 'specimen_preparation_method_id': None, 'donor_id': 581535038, 'operation_id': None, 'ephys_neural_tissue_plan_id': 581535071, 'structure_id': None, 'parent_z_coord': None, 'facs_well_id': None, 'name': u'Chrna2-Cre_OE25;Ai14(IVSCC)-312984', 'y_coord': None, 'normalization_group_id': None, 'postmortem_interval_id': None, 'specimen_set_id': None, 'created_at': datetime.datetime(2017, 4, 14, 16, 19, 20, 11713), 'tissue_processing_id': 581535068, 'ephys_cell_plan_id': None, 'hemisphere_id': None, 'ephys_qc_result': None, 'cell_reporter_id': None, 'task_flow_id': None, 'external_specimen_name': None}, {'cell_depth': None, 'ephys_roi_result_id': None, 'parent_y_coord': None, 'reference_space_id': None, 'updated_at': datetime.datetime(2017, 3, 1, 16, 37, 56, 349162), 'cell_label': None, 'preparation_method_id': None, 'parent_x_coord': None, 'location_id': None, 'id': 571099320, 'cortex_layer_id': None, 'plane_of_section_id': 5, 'frozen_at': None, 'flipped_specimen_id': 561557765, 'data': None, 'pinned_radius': None, 'rna_integrity_number': None, 'histology_well_name': None, 'created_by': None, 'priority': None, 'parent_id': None, 'ephys_start_time_sec': None, 'project_id': 496936213, 'alignment3d_id': None, 'carousel_well_name': None, 'patched_cell_container': None, 'updated_by': None, 'cell_prep_id': None, 'biophysical_model_state': u'review_required', 'barcode': u'0571099320', 'storage_directory': None, 'x_coord': None, 'tissue_ph': None, 'specimen_preparation_method_id': None, 'donor_id': 571099305, 'operation_id': None, 'ephys_neural_tissue_plan_id': 571099385, 'structure_id': None, 'parent_z_coord': None, 'facs_well_id': None, 'name': u'Sst-IRES-Cre;Ai140;Pvalb-2A-FlpO;Ai65F-303812', 'y_coord': None, 'normalization_group_id': None, 'postmortem_interval_id': None, 'specimen_set_id': None, 'created_at': datetime.datetime(2017, 2, 24, 16, 19, 14, 340373), 'tissue_processing_id': 571099382, 'ephys_cell_plan_id': None, 'hemisphere_id': None, 'ephys_qc_result': None, 'cell_reporter_id': None, 'task_flow_id': None, 'external_specimen_name': None}, {'cell_depth': None, 'ephys_roi_result_id': None, 'parent_y_coord': None, 'reference_space_id': None, 'updated_at': datetime.datetime(2016, 12, 20, 15, 59, 41, 497432), 'cell_label': None, 'preparation_method_id': None, 'parent_x_coord': None, 'location_id': None, 'id': 561463630, 'cortex_layer_id': None, 'plane_of_section_id': 5, 'frozen_at': None, 'flipped_specimen_id': 561557765, 'data': None, 'pinned_radius': None, 'rna_integrity_number': None, 'histology_well_name': None, 'created_by': None, 'priority': None, 'parent_id': None, 'ephys_start_time_sec': None, 'project_id': 305094322, 'alignment3d_id': None, 'carousel_well_name': None, 'patched_cell_container': None, 'updated_by': None, 'cell_prep_id': None, 'biophysical_model_state': u'review_required', 'barcode': u'0561463630', 'storage_directory': None, 'x_coord': None, 'tissue_ph': None, 'specimen_preparation_method_id': None, 'donor_id': 561463628, 'operation_id': None, 'ephys_neural_tissue_plan_id': 561463643, 'structure_id': None, 'parent_z_coord': None, 'facs_well_id': None, 'name': u'Htr3a-Cre_NO152;Ai14-288785', 'y_coord': None, 'normalization_group_id': None, 'postmortem_interval_id': None, 'specimen_set_id': None, 'created_at': datetime.datetime(2016, 12, 14, 17, 16, 20, 787949), 'tissue_processing_id': 561463640, 'ephys_cell_plan_id': None, 'hemisphere_id': None, 'ephys_qc_result': None, 'cell_reporter_id': None, 'task_flow_id': None, 'external_specimen_name': None}, {'cell_depth': None, 'ephys_roi_result_id': None, 'parent_y_coord': None, 'reference_space_id': None, 'updated_at': datetime.datetime(2017, 4, 21, 14, 53, 40, 845724), 'cell_label': None, 'preparation_method_id': None, 'parent_x_coord': None, 'location_id': None, 'id': 581535066, 'cortex_layer_id': None, 'plane_of_section_id': 5, 'frozen_at': None, 'flipped_specimen_id': 561557765, 'data': None, 'pinned_radius': None, 'rna_integrity_number': None, 'histology_well_name': None, 'created_by': None, 'priority': None, 'parent_id': None, 'ephys_start_time_sec': None, 'project_id': 305094322, 'alignment3d_id': None, 'carousel_well_name': None, 'patched_cell_container': None, 'updated_by': None, 'cell_prep_id': None, 'biophysical_model_state': u'review_required', 'barcode': u'0581535066', 'storage_directory': None, 'x_coord': None, 'tissue_ph': None, 'specimen_preparation_method_id': None, 'donor_id': 581535058, 'operation_id': None, 'ephys_neural_tissue_plan_id': 581535092, 'structure_id': None, 'parent_z_coord': None, 'facs_well_id': None, 'name': u'Chrna2-Cre_OE25;Ai14(IVSCC)-312987', 'y_coord': None, 'normalization_group_id': None, 'postmortem_interval_id': None, 'specimen_set_id': None, 'created_at': datetime.datetime(2017, 4, 14, 16, 19, 20, 491006), 'tissue_processing_id': 581535089, 'ephys_cell_plan_id': None, 'hemisphere_id': None, 'ephys_qc_result': None, 'cell_reporter_id': None, 'task_flow_id': None, 'external_specimen_name': None}, {'cell_depth': None, 'ephys_roi_result_id': None, 'parent_y_coord': 0, 'reference_space_id': None, 'updated_at': datetime.datetime(2017, 8, 1, 15, 40, 52, 565275), 'cell_label': None, 'preparation_method_id': None, 'parent_x_coord': 0, 'location_id': None, 'id': 605798559, 'cortex_layer_id': None, 'plane_of_section_id': 1, 'frozen_at': None, 'flipped_specimen_id': 561557765, 'data': None, 'pinned_radius': None, 'rna_integrity_number': None, 'histology_well_name': None, 'created_by': None, 'priority': None, 'parent_id': 604670739, 'ephys_start_time_sec': None, 'project_id': 305094322, 'alignment3d_id': None, 'carousel_well_name': None, 'patched_cell_container': None, 'updated_by': None, 'cell_prep_id': None, 'biophysical_model_state': u'review_required', 'barcode': u'0605798559', 'storage_directory': u'/allen/programs/celltypes/production/mousecelltypes/prod1172/specimen_605798559/', 'x_coord': None, 'tissue_ph': None, 'specimen_preparation_method_id': None, 'donor_id': 604670732, 'operation_id': None, 'ephys_neural_tissue_plan_id': 604670807, 'structure_id': None, 'parent_z_coord': 7, 'facs_well_id': None, 'name': u'Nkx2-1-CreERT2;Ai14-338238.07', 'y_coord': None, 'normalization_group_id': None, 'postmortem_interval_id': None, 'specimen_set_id': None, 'created_at': datetime.datetime(2017, 8, 1, 15, 19, 42, 316366), 'tissue_processing_id': 604670803, 'ephys_cell_plan_id': None, 'hemisphere_id': None, 'ephys_qc_result': None, 'cell_reporter_id': None, 'task_flow_id': None, 'external_specimen_name': u'338238'}, {'cell_depth': None, 'ephys_roi_result_id': None, 'parent_y_coord': None, 'reference_space_id': None, 'updated_at': datetime.datetime(2017, 8, 2, 15, 8, 31, 178794), 'cell_label': None, 'preparation_method_id': None, 'parent_x_coord': None, 'location_id': None, 'id': 605459638, 'cortex_layer_id': None, 'plane_of_section_id': 5, 'frozen_at': None, 'flipped_specimen_id': 561557765, 'data': None, 'pinned_radius': None, 'rna_integrity_number': None, 'histology_well_name': None, 'created_by': None, 'priority': None, 'parent_id': None, 'ephys_start_time_sec': None, 'project_id': 565760984, 'alignment3d_id': None, 'carousel_well_name': None, 'patched_cell_container': None, 'updated_by': None, 'cell_prep_id': None, 'biophysical_model_state': u'review_required', 'barcode': u'0605459638', 'storage_directory': None, 'x_coord': None, 'tissue_ph': None, 'specimen_preparation_method_id': None, 'donor_id': 605459627, 'operation_id': None, 'ephys_neural_tissue_plan_id': 605459701, 'structure_id': None, 'parent_z_coord': None, 'facs_well_id': None, 'name': u'Tlx3-Cre_PL56;Ai140;Pvalb-T2A-FlpO;Ai65F-339606', 'y_coord': None, 'normalization_group_id': None, 'postmortem_interval_id': None, 'specimen_set_id': None, 'created_at': datetime.datetime(2017, 7, 28, 14, 5, 24, 936178), 'tissue_processing_id': 605459698, 'ephys_cell_plan_id': None, 'hemisphere_id': None, 'ephys_qc_result': None, 'cell_reporter_id': None, 'task_flow_id': None, 'external_specimen_name': u'339606'}, {'cell_depth': None, 'ephys_roi_result_id': None, 'parent_y_coord': 0, 'reference_space_id': None, 'updated_at': datetime.datetime(2017, 8, 1, 17, 1, 48, 990674), 'cell_label': None, 'preparation_method_id': None, 'parent_x_coord': 0, 'location_id': None, 'id': 605798588, 'cortex_layer_id': None, 'plane_of_section_id': 1, 'frozen_at': None, 'flipped_specimen_id': 561557765, 'data': None, 'pinned_radius': None, 'rna_integrity_number': None, 'histology_well_name': None, 'created_by': None, 'priority': None, 'parent_id': 604670739, 'ephys_start_time_sec': None, 'project_id': 305094322, 'alignment3d_id': None, 'carousel_well_name': None, 'patched_cell_container': None, 'updated_by': None, 'cell_prep_id': None, 'biophysical_model_state': u'review_required', 'barcode': u'0605798588', 'storage_directory': u'/allen/programs/celltypes/production/mousecelltypes/prod1172/specimen_605798588/', 'x_coord': None, 'tissue_ph': None, 'specimen_preparation_method_id': None, 'donor_id': 604670732, 'operation_id': None, 'ephys_neural_tissue_plan_id': 604670807, 'structure_id': None, 'parent_z_coord': 8, 'facs_well_id': None, 'name': u'Nkx2-1-CreERT2;Ai14-338238.08', 'y_coord': None, 'normalization_group_id': None, 'postmortem_interval_id': None, 'specimen_set_id': None, 'created_at': datetime.datetime(2017, 8, 1, 15, 19, 43, 801638), 'tissue_processing_id': 604670803, 'ephys_cell_plan_id': None, 'hemisphere_id': None, 'ephys_qc_result': None, 'cell_reporter_id': None, 'task_flow_id': None, 'external_specimen_name': u'338238'}, {'cell_depth': 79.5, 'ephys_roi_result_id': 520465696, 'parent_y_coord': 0, 'reference_space_id': None, 'updated_at': datetime.datetime(2016, 12, 16, 4, 20, 18, 220136), 'cell_label': None, 'preparation_method_id': None, 'parent_x_coord': 0, 'location_id': None, 'id': 520465880, 'cortex_layer_id': None, 'plane_of_section_id': 4, 'frozen_at': None, 'flipped_specimen_id': 561557769, 'data': None, 'pinned_radius': None, 'rna_integrity_number': None, 'histology_well_name': None, 'created_by': None, 'priority': None, 'parent_id': 520379835, 'ephys_start_time_sec': None, 'project_id': 473111656, 'alignment3d_id': None, 'carousel_well_name': None, 'patched_cell_container': None, 'updated_by': None, 'cell_prep_id': None, 'biophysical_model_state': u'review_required', 'barcode': u'0520465880', 'storage_directory': u'/projects/humancelltypes/vol1/prod55/specimen_520465880/', 'x_coord': None, 'tissue_ph': None, 'specimen_preparation_method_id': None, 'donor_id': 520276747, 'operation_id': None, 'ephys_neural_tissue_plan_id': None, 'structure_id': None, 'parent_z_coord': 2, 'facs_well_id': None, 'name': u'H16.03.002.01.06.02', 'y_coord': None, 'normalization_group_id': None, 'postmortem_interval_id': None, 'specimen_set_id': None, 'created_at': datetime.datetime(2016, 5, 25, 1, 53, 53, 36673), 'tissue_processing_id': None, 'ephys_cell_plan_id': 497017362, 'hemisphere_id': None, 'ephys_qc_result': None, 'cell_reporter_id': None, 'task_flow_id': None, 'external_specimen_name': None}, {'cell_depth': None, 'ephys_roi_result_id': None, 'parent_y_coord': 0, 'reference_space_id': None, 'updated_at': datetime.datetime(2017, 8, 1, 17, 1, 49, 41974), 'cell_label': None, 'preparation_method_id': None, 'parent_x_coord': 0, 'location_id': None, 'id': 605798544, 'cortex_layer_id': None, 'plane_of_section_id': 1, 'frozen_at': None, 'flipped_specimen_id': 561557765, 'data': None, 'pinned_radius': None, 'rna_integrity_number': None, 'histology_well_name': None, 'created_by': None, 'priority': None, 'parent_id': 604670739, 'ephys_start_time_sec': None, 'project_id': 305094322, 'alignment3d_id': None, 'carousel_well_name': None, 'patched_cell_container': None, 'updated_by': None, 'cell_prep_id': None, 'biophysical_model_state': u'review_required', 'barcode': u'0605798544', 'storage_directory': u'/allen/programs/celltypes/production/mousecelltypes/prod1172/specimen_605798544/', 'x_coord': None, 'tissue_ph': None, 'specimen_preparation_method_id': None, 'donor_id': 604670732, 'operation_id': None, 'ephys_neural_tissue_plan_id': 604670807, 'structure_id': None, 'parent_z_coord': 13, 'facs_well_id': None, 'name': u'Nkx2-1-CreERT2;Ai14-338238.13', 'y_coord': None, 'normalization_group_id': None, 'postmortem_interval_id': None, 'specimen_set_id': None, 'created_at': datetime.datetime(2017, 8, 1, 15, 19, 40, 669857), 'tissue_processing_id': 604670803, 'ephys_cell_plan_id': None, 'hemisphere_id': None, 'ephys_qc_result': None, 'cell_reporter_id': None, 'task_flow_id': None, 'external_specimen_name': u'338238'}]\n"
     ]
    }
   ],
   "source": [
    "my_query = \"SELECT * FROM specimens limit 10\"\n",
    "#we are going to select all columns in the specimens table and limit our search to the first 10\n",
    "\n",
    "my_result = limsquery(my_query)\n",
    "\n",
    "first_element = my_result\n",
    "#now we only want to look at the first element of our result\n",
    "#df = get_lims_dataframe(my_query)\n",
    "print first_element\n",
    "#df"
   ]
  },
  {
   "cell_type": "code",
   "execution_count": 12,
   "metadata": {},
   "outputs": [
    {
     "name": "stdout",
     "output_type": "stream",
     "text": [
      "['siv_default_ontology_id', 'created_at', 'siv_default_graph_id', 'updated_at', 'id', 'siv_default_cortex_layer_ontology_id', 'use_custom_header', 'siv_default_cortex_layer_graph_id', 'login', 'group_override']\n"
     ]
    }
   ],
   "source": [
    "my_query = \"SELECT * FROM users LIMIT 10\"\n",
    "#we are going to select all columns in the specimens table and limit our search to the first 10\n",
    "\n",
    "my_result = limsquery(my_query)\n",
    "\n",
    "first_element = my_result[0]\n",
    "#now we only want to look at the first element of our result\n",
    "\n",
    "print first_element.keys()"
   ]
  },
  {
   "cell_type": "code",
   "execution_count": 15,
   "metadata": {},
   "outputs": [
    {
     "name": "stdout",
     "output_type": "stream",
     "text": [
      "{'amplified_quantity_ng': 0.0, 'name': u'H16.06.012.11.03.01', 'run_date': datetime.datetime(2017, 1, 4, 8, 0), 'percent_cdna_longer_than_400bp': 0.0, 'created_at': datetime.datetime(2016, 9, 29, 21, 13, 38, 114713), 'failed': True, 'patched_cell_container': u'P1S4_160929_003_A01', 'sample_id': 548408304, 'cycles': 19, 'id': 548408304}\n"
     ]
    }
   ],
   "source": [
    "my_query = \"SELECT ra.amplified_quantity_ng, ra.name, ra.run_date, ra.percent_cdna_longer_than_400bp, ra.failed, \\\n",
    "ra.cycles, ra.id, rai.sample_id, cell.id, cell.name, cell.created_at, cell.patched_cell_container \\\n",
    "FROM specimens cell \\\n",
    "LEFT JOIN rna_amplification_inputs rai ON rai.sample_id = cell.id \\\n",
    "LEFT JOIN rna_amplifications ra ON ra.id = rai.rna_amplification_id \\\n",
    "WHERE run_date > '2017-01-01'\"\n",
    "\n",
    "my_result = limsquery(my_query)\n",
    "\n",
    "first_element = my_result[0]\n",
    "#now we only want to look at the first element of our result\n",
    "\n",
    "print first_element"
   ]
  },
  {
   "cell_type": "code",
   "execution_count": 16,
   "metadata": {},
   "outputs": [],
   "source": [
    "#The Query above has access to cycles which is hopefully PCR cycles.\n",
    "#Access then restrict to only 21 PCR cycles"
   ]
  },
  {
   "cell_type": "code",
   "execution_count": 17,
   "metadata": {},
   "outputs": [
    {
     "name": "stdout",
     "output_type": "stream",
     "text": [
      "{'full_genotype': None, 'cell_name': u'148989.01.01'}\n"
     ]
    }
   ],
   "source": [
    "my_query = \"SELECT cell.name AS cell_name, donors.full_genotype \\\n",
    "FROM specimens cell JOIN donors ON cell.donor_id = donors.id \\\n",
    "WHERE cell.ephys_roi_result_id IS NOT NULL\"\n",
    "\n",
    "my_result = limsquery(my_query)\n",
    "\n",
    "first_element = my_result[0]\n",
    "#now we only want to look at the first element of our result\n",
    "\n",
    "print first_element.keys"
   ]
  },
  {
   "cell_type": "code",
   "execution_count": null,
   "metadata": {},
   "outputs": [],
   "source": []
  },
  {
   "cell_type": "markdown",
   "metadata": {},
   "source": [
    "## Try doing Picogreen vs User"
   ]
  },
  {
   "cell_type": "code",
   "execution_count": 10,
   "metadata": {},
   "outputs": [],
   "source": [
    "#You need \"Date\", \"User\", \"Rig #\", \"Picogreen conc. (pg/uL)\", \"PCR cycles\", \"SM_QC_PF\", \"Bad dates\""
   ]
  },
  {
   "cell_type": "code",
   "execution_count": null,
   "metadata": {},
   "outputs": [],
   "source": []
  },
  {
   "cell_type": "code",
   "execution_count": null,
   "metadata": {},
   "outputs": [],
   "source": []
  },
  {
   "cell_type": "code",
   "execution_count": null,
   "metadata": {},
   "outputs": [],
   "source": []
  },
  {
   "cell_type": "code",
   "execution_count": null,
   "metadata": {},
   "outputs": [],
   "source": []
  },
  {
   "cell_type": "code",
   "execution_count": null,
   "metadata": {},
   "outputs": [],
   "source": []
  },
  {
   "cell_type": "code",
   "execution_count": null,
   "metadata": {},
   "outputs": [],
   "source": []
  },
  {
   "cell_type": "code",
   "execution_count": null,
   "metadata": {},
   "outputs": [],
   "source": []
  },
  {
   "cell_type": "code",
   "execution_count": null,
   "metadata": {},
   "outputs": [],
   "source": []
  }
 ],
 "metadata": {
  "kernelspec": {
   "display_name": "Python 2",
   "language": "python",
   "name": "python2"
  },
  "language_info": {
   "codemirror_mode": {
    "name": "ipython",
    "version": 2
   },
   "file_extension": ".py",
   "mimetype": "text/x-python",
   "name": "python",
   "nbconvert_exporter": "python",
   "pygments_lexer": "ipython2",
   "version": "2.7.14"
  }
 },
 "nbformat": 4,
 "nbformat_minor": 2
}
