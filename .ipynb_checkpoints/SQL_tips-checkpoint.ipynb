{
 "cells": [
  {
   "cell_type": "markdown",
   "metadata": {},
   "source": [
    "# SQL Rules & Tips"
   ]
  },
  {
   "cell_type": "code",
   "execution_count": 1,
   "metadata": {},
   "outputs": [],
   "source": [
    "#SQL is case insensitive so SELECT or select works\n",
    "#SQL keywords are supposed to be in Uppercase"
   ]
  },
  {
   "cell_type": "markdown",
   "metadata": {},
   "source": [
    "### SELECT statement"
   ]
  },
  {
   "cell_type": "code",
   "execution_count": 2,
   "metadata": {},
   "outputs": [],
   "source": [
    "#SELECT column1, column2, FROM table_name\n",
    "#To query all columns just use * instead of column1...\n",
    "#Ex. SELECT * FROM table_name"
   ]
  },
  {
   "cell_type": "markdown",
   "metadata": {},
   "source": [
    "### DISTINCT statement"
   ]
  },
  {
   "cell_type": "code",
   "execution_count": 3,
   "metadata": {},
   "outputs": [],
   "source": [
    "#This is used to list different(distinct) values\n",
    "#SELECT DISTINCT column1, column2 FROM table_name"
   ]
  },
  {
   "cell_type": "markdown",
   "metadata": {},
   "source": [
    "### WHERE statement"
   ]
  },
  {
   "cell_type": "code",
   "execution_count": 4,
   "metadata": {},
   "outputs": [],
   "source": [
    "#Query specific rows from a table\n",
    "#SELECT column1, column2.. FROM table_name WHERE conditions\n",
    "#This is used to filter the rows \n",
    "#WHERE is similar to boolean: ==, <, >, etc\n",
    "#AND combines the conditions (Ex. WHERE condition1 AND condition2)\n",
    "#AND \n",
    "#OR"
   ]
  },
  {
   "cell_type": "markdown",
   "metadata": {},
   "source": [
    "### COUNT statement"
   ]
  },
  {
   "cell_type": "code",
   "execution_count": 5,
   "metadata": {},
   "outputs": [],
   "source": [
    "#Returns number of input rows that match a specific condition of a query\n",
    "#Ex. SELECT COUNT(*) FROM table\n",
    "#Ex. SELECT COUNT(column) FROM table\n",
    "#Ex. SELECT COUNT(DISTINCT column) FROM table"
   ]
  },
  {
   "cell_type": "markdown",
   "metadata": {},
   "source": [
    "### LIMIT statement"
   ]
  },
  {
   "cell_type": "code",
   "execution_count": 6,
   "metadata": {},
   "outputs": [],
   "source": [
    "#LIMIT limits the number of rows after you get back a query \n",
    "#Useful for getting all columns but not all rows"
   ]
  },
  {
   "cell_type": "markdown",
   "metadata": {},
   "source": [
    "### ORDER BY statement"
   ]
  },
  {
   "cell_type": "code",
   "execution_count": 7,
   "metadata": {},
   "outputs": [],
   "source": [
    "#To sort rows by a specific way, use ORDER BY(similar to sort in python)\n",
    "#ASC = ascending order\n",
    "#DESC = descending order\n",
    "#If blank, default is ascending order \n",
    "#Ex. SELECT column1, column2 FROM table_name ORDER BY column1 ASC/DESC\n",
    "#Ex. SELECT column1, column2 FROM table_name ORDER BY column1 ASC, column2 DESC"
   ]
  },
  {
   "cell_type": "markdown",
   "metadata": {},
   "source": [
    "### BETWEEN statement"
   ]
  },
  {
   "cell_type": "code",
   "execution_count": null,
   "metadata": {},
   "outputs": [],
   "source": []
  },
  {
   "cell_type": "markdown",
   "metadata": {},
   "source": [
    "### IN statement"
   ]
  },
  {
   "cell_type": "code",
   "execution_count": null,
   "metadata": {},
   "outputs": [],
   "source": []
  },
  {
   "cell_type": "markdown",
   "metadata": {},
   "source": [
    "### LIKE statement"
   ]
  },
  {
   "cell_type": "code",
   "execution_count": 8,
   "metadata": {},
   "outputs": [],
   "source": [
    "#To find value but not the exact value, use LIKE\n",
    "#%(percent) = pattern (this is called pattern matching)\n",
    "#_(underscore) = matching any single character  \n",
    "#Ex. SELECT column1, column2 FROM table_name WHERE column1 LIKE '.....%' \n",
    "#or '%...' \n",
    "#or '%...%'\n",
    "#or '_...%'"
   ]
  }
 ],
 "metadata": {
  "kernelspec": {
   "display_name": "Python 2",
   "language": "python",
   "name": "python2"
  },
  "language_info": {
   "codemirror_mode": {
    "name": "ipython",
    "version": 2
   },
   "file_extension": ".py",
   "mimetype": "text/x-python",
   "name": "python",
   "nbconvert_exporter": "python",
   "pygments_lexer": "ipython2",
   "version": "2.7.14"
  }
 },
 "nbformat": 4,
 "nbformat_minor": 2
}
