{
 "cells": [
  {
   "cell_type": "markdown",
   "metadata": {},
   "source": [
    "# Testing Rusty's code"
   ]
  },
  {
   "cell_type": "code",
   "execution_count": 1,
   "metadata": {},
   "outputs": [],
   "source": [
    "import os"
   ]
  },
  {
   "cell_type": "code",
   "execution_count": 28,
   "metadata": {},
   "outputs": [],
   "source": [
    "def get_filepath(directory):\n",
    "    \"\"\"\n",
    "    To obtain filenames from a directory as a list.\n",
    "    \n",
    "    Arguements:\n",
    "        directory: a string of the directory path\n",
    "    \n",
    "    Returns:\n",
    "        file_path: a list with filenames\n",
    "    \"\"\"\n",
    "    \n",
    "    file_path = [] #Empty list to contain filenames\n",
    "    \n",
    "    for (root,dirs,files) in os.walk(directory): #Walks through directory\n",
    "        for name in files: \n",
    "            filename = os.path.join(name) #(root, filename)\n",
    "            file_path.append(filename) #Adds filename to the list (file_path)        \n",
    "    return file_path"
   ]
  },
  {
   "cell_type": "code",
   "execution_count": 29,
   "metadata": {},
   "outputs": [],
   "source": [
    "def get_folder(directory):\n",
    "    \"\"\"\n",
    "    To obtain folder names in the directory as a list. \n",
    "    \n",
    "    Arguements:\n",
    "        directory: a string of the directory path\n",
    "    Returns:\n",
    "        dir_folder = a list with folder names\n",
    "    \"\"\"\n",
    "    \n",
    "    dir_folder = [] #Empty list to contain folder names\n",
    "    for (root,dirs,files) in os.walk(directory): #Walks through directory\n",
    "        for name in dirs:\n",
    "            foldername = os.path.join(name)\n",
    "            dir_folder.append(foldername) #Adds folder name to the list (dir_folder)\n",
    "    return dir_folder"
   ]
  },
  {
   "cell_type": "code",
   "execution_count": 30,
   "metadata": {},
   "outputs": [
    {
     "data": {
      "text/plain": [
       "['5 Year Plan.xlsx',\n",
       " 'Budget 2019.xlsx',\n",
       " 'Mom.xlsx',\n",
       " 'Budget 2017.xlsx',\n",
       " 'Budget 2018.xlsx']"
      ]
     },
     "execution_count": 30,
     "metadata": {},
     "output_type": "execute_result"
    }
   ],
   "source": [
    "get_filepath(\"/Users/kumar/OneDrive/Desktop/Personal/Bank & Payments/Budget Excel Sheets\")"
   ]
  },
  {
   "cell_type": "code",
   "execution_count": 31,
   "metadata": {},
   "outputs": [
    {
     "data": {
      "text/plain": [
       "['Accounts & Passwords', 'Budget Excel Sheets', 'Dad', 'Budget 2017-2019']"
      ]
     },
     "execution_count": 31,
     "metadata": {},
     "output_type": "execute_result"
    }
   ],
   "source": [
    "get_folder(\"/Users/kumar/OneDrive/Desktop/Personal/Bank & Payments\")"
   ]
  },
  {
   "cell_type": "code",
   "execution_count": null,
   "metadata": {},
   "outputs": [],
   "source": []
  },
  {
   "cell_type": "code",
   "execution_count": null,
   "metadata": {},
   "outputs": [],
   "source": []
  },
  {
   "cell_type": "markdown",
   "metadata": {},
   "source": [
    "### Extra Tips"
   ]
  },
  {
   "cell_type": "code",
   "execution_count": 4,
   "metadata": {},
   "outputs": [
    {
     "name": "stdout",
     "output_type": "stream",
     "text": [
      "C:\\Users\\kumar\\Documents\\GitHub\\Personal-Projects\n"
     ]
    }
   ],
   "source": [
    "print(os.getcwd()) #return current working directory\n",
    "os.chdir(\"/Users/kumar/OneDrive/Desktop/Personal/Bank & Payments/Budget Excel Sheets\")"
   ]
  },
  {
   "cell_type": "code",
   "execution_count": 5,
   "metadata": {},
   "outputs": [
    {
     "name": "stdout",
     "output_type": "stream",
     "text": [
      "C:\\Users\\kumar\\OneDrive\\Desktop\\Personal\\Bank & Payments\\Budget Excel Sheets\n"
     ]
    }
   ],
   "source": [
    "print(os.getcwd()) #return current working directory"
   ]
  },
  {
   "cell_type": "code",
   "execution_count": null,
   "metadata": {},
   "outputs": [],
   "source": []
  }
 ],
 "metadata": {
  "kernelspec": {
   "display_name": "Python 3",
   "language": "python",
   "name": "python3"
  },
  "language_info": {
   "codemirror_mode": {
    "name": "ipython",
    "version": 3
   },
   "file_extension": ".py",
   "mimetype": "text/x-python",
   "name": "python",
   "nbconvert_exporter": "python",
   "pygments_lexer": "ipython3",
   "version": "3.6.5"
  }
 },
 "nbformat": 4,
 "nbformat_minor": 2
}
