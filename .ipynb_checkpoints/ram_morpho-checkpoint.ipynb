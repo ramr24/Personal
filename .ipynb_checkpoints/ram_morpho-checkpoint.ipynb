{
 "cells": [
  {
   "cell_type": "markdown",
   "metadata": {},
   "source": [
    "# Morpho Calls vs Post Patch Outcomes"
   ]
  },
  {
   "cell_type": "code",
   "execution_count": 1,
   "metadata": {
    "collapsed": true
   },
   "outputs": [],
   "source": [
    "import csv\n",
    "import pandas as pd\n",
    "import numpy as np\n",
    "import matplotlib.pyplot as plt\n",
    "from datetime import datetime\n",
    "from scipy import stats\n",
    "import math\n",
    "import seaborn as sns\n",
    "%matplotlib inline"
   ]
  },
  {
   "cell_type": "code",
   "execution_count": 2,
   "metadata": {
    "collapsed": true
   },
   "outputs": [],
   "source": [
    "ps = pd.read_csv('patch_seq_log_mouse.csv')"
   ]
  },
  {
   "cell_type": "code",
   "execution_count": 3,
   "metadata": {},
   "outputs": [
    {
     "data": {
      "text/html": [
       "<div>\n",
       "<style>\n",
       "    .dataframe thead tr:only-child th {\n",
       "        text-align: right;\n",
       "    }\n",
       "\n",
       "    .dataframe thead th {\n",
       "        text-align: left;\n",
       "    }\n",
       "\n",
       "    .dataframe tbody tr th {\n",
       "        vertical-align: top;\n",
       "    }\n",
       "</style>\n",
       "<table border=\"1\" class=\"dataframe\">\n",
       "  <thead>\n",
       "    <tr style=\"text-align: right;\">\n",
       "      <th></th>\n",
       "      <th>Date</th>\n",
       "      <th>Slice (Lims ID?)</th>\n",
       "      <th>Morph</th>\n",
       "      <th>cell type</th>\n",
       "      <th>Post patch?</th>\n",
       "      <th>Post patch pipette R</th>\n",
       "      <th>Nucleus sucked in?</th>\n",
       "      <th>Internal version</th>\n",
       "      <th>PCR cycles</th>\n",
       "      <th>SM_QC_PF</th>\n",
       "    </tr>\n",
       "  </thead>\n",
       "  <tbody>\n",
       "    <tr>\n",
       "      <th>1682</th>\n",
       "      <td>2017-04-21</td>\n",
       "      <td>Gad2-IRES-Cre;Ai14-313294.03.01</td>\n",
       "      <td>n</td>\n",
       "      <td>tdt+</td>\n",
       "      <td>No-Seal</td>\n",
       "      <td>NaN</td>\n",
       "      <td>NaN</td>\n",
       "      <td>AiV2</td>\n",
       "      <td>21.0</td>\n",
       "      <td>pass</td>\n",
       "    </tr>\n",
       "    <tr>\n",
       "      <th>1683</th>\n",
       "      <td>2017-04-21</td>\n",
       "      <td>Gad2-IRES-Cre;Ai14-313294.03.01</td>\n",
       "      <td>n</td>\n",
       "      <td>tdt+</td>\n",
       "      <td>No-Seal</td>\n",
       "      <td>NaN</td>\n",
       "      <td>NaN</td>\n",
       "      <td>AiV2</td>\n",
       "      <td>21.0</td>\n",
       "      <td>pass</td>\n",
       "    </tr>\n",
       "    <tr>\n",
       "      <th>1684</th>\n",
       "      <td>2017-04-21</td>\n",
       "      <td>Gad2-IRES-Cre;Ai14-313294.03.01</td>\n",
       "      <td>n</td>\n",
       "      <td>tdt+</td>\n",
       "      <td>No-Seal</td>\n",
       "      <td>NaN</td>\n",
       "      <td>NaN</td>\n",
       "      <td>AiV2</td>\n",
       "      <td>21.0</td>\n",
       "      <td>fail</td>\n",
       "    </tr>\n",
       "    <tr>\n",
       "      <th>1685</th>\n",
       "      <td>2017-04-21</td>\n",
       "      <td>Gad2-IRES-Cre;Ai14-313294.03.01</td>\n",
       "      <td>n</td>\n",
       "      <td>tdt+</td>\n",
       "      <td>No-Seal</td>\n",
       "      <td>NaN</td>\n",
       "      <td>NaN</td>\n",
       "      <td>AiV2</td>\n",
       "      <td>21.0</td>\n",
       "      <td>pass</td>\n",
       "    </tr>\n",
       "    <tr>\n",
       "      <th>1686</th>\n",
       "      <td>2017-04-21</td>\n",
       "      <td>Gad2-IRES-Cre;Ai14-313294.04.01</td>\n",
       "      <td>n</td>\n",
       "      <td>tdt+</td>\n",
       "      <td>No-Seal</td>\n",
       "      <td>NaN</td>\n",
       "      <td>NaN</td>\n",
       "      <td>AiV2</td>\n",
       "      <td>21.0</td>\n",
       "      <td>pass</td>\n",
       "    </tr>\n",
       "  </tbody>\n",
       "</table>\n",
       "</div>"
      ],
      "text/plain": [
       "           Date                 Slice (Lims ID?) Morph cell type Post patch?  \\\n",
       "1682 2017-04-21  Gad2-IRES-Cre;Ai14-313294.03.01     n      tdt+     No-Seal   \n",
       "1683 2017-04-21  Gad2-IRES-Cre;Ai14-313294.03.01     n      tdt+     No-Seal   \n",
       "1684 2017-04-21  Gad2-IRES-Cre;Ai14-313294.03.01     n      tdt+     No-Seal   \n",
       "1685 2017-04-21  Gad2-IRES-Cre;Ai14-313294.03.01     n      tdt+     No-Seal   \n",
       "1686 2017-04-21  Gad2-IRES-Cre;Ai14-313294.04.01     n      tdt+     No-Seal   \n",
       "\n",
       "      Post patch pipette R Nucleus sucked in? Internal version PCR cycles  \\\n",
       "1682                   NaN                NaN             AiV2       21.0   \n",
       "1683                   NaN                NaN             AiV2       21.0   \n",
       "1684                   NaN                NaN             AiV2       21.0   \n",
       "1685                   NaN                NaN             AiV2       21.0   \n",
       "1686                   NaN                NaN             AiV2       21.0   \n",
       "\n",
       "     SM_QC_PF  \n",
       "1682     pass  \n",
       "1683     pass  \n",
       "1684     fail  \n",
       "1685     pass  \n",
       "1686     pass  "
      ]
     },
     "execution_count": 3,
     "metadata": {},
     "output_type": "execute_result"
    }
   ],
   "source": [
    "initial = [\"Date\", \"Slice (Lims ID?)\", \"Morph\", \"cell type\",\"Post patch?\", \n",
    "           \"Post patch pipette R\", \"Nucleus sucked in?\", \n",
    "           \"Internal version\", \"PCR cycles\", \"SM_QC_PF\", \"Bad dates\"]\n",
    "ps = ps[initial]\n",
    "\n",
    "#Changing Date Format\n",
    "ps[\"Date\"] = pd.to_datetime(ps[\"Date\"], format = \"%y%m%d\")\n",
    "\n",
    "#Categories\n",
    "ps[\"Post patch?\"] = ps[\"Post patch?\"].astype(\"category\")\n",
    "ps[\"PCR cycles\"] = ps[\"PCR cycles\"].astype(\"category\")\n",
    "ps[\"SM_QC_PF\"] = ps[\"SM_QC_PF\"].astype(\"category\")\n",
    "ps[\"Bad dates\"] = ps[\"Bad dates\"].astype(\"category\")\n",
    "\n",
    "#Filtering Columns\n",
    "ps = ps[ps[\"PCR cycles\"] == 21]      #Shows 21 pcr cycles\n",
    "ps = ps[ps[\"SM_QC_PF\"] != \"cnt\"]     #Shows everything except cnt\n",
    "ps = ps[ps[\"Bad dates\"] != \"x\"]      #Shows everthing except x\n",
    "ps = ps[ps[\"cell type\"] == \"tdt+\"]\n",
    "\n",
    "#Dropping blank columns\n",
    "ps = ps.drop(\"Bad dates\", 1)\n",
    "ps.dropna(subset = [\"Post patch?\", \"Morph\"], inplace = True)\n",
    "ps.head()"
   ]
  },
  {
   "cell_type": "markdown",
   "metadata": {},
   "source": [
    "## Definitions"
   ]
  },
  {
   "cell_type": "code",
   "execution_count": 4,
   "metadata": {
    "collapsed": true
   },
   "outputs": [],
   "source": [
    "def nucleated(x):\n",
    "    nucleus = x[(x[\"Post patch?\"] == \"Nucleated\") | (((x[\"Post patch?\"] == \"nucleus_visible\") | (x[\"Post patch?\"] == \"nucleus_present\")) & (x[\"Post patch pipette R\"] >= 500))]\n",
    "    return nucleus\n",
    "\n",
    "def partial_nucleated(y):\n",
    "    partial = y[(y[\"Post patch?\"] == 'Partial-Nucleus') | (((y['Post patch?'] == 'nucleus_present') | (y['Post patch?'] == 'nucleus_visible')) & (y[\"Post patch pipette R\"] <= 499))]\n",
    "    return partial\n",
    "\n",
    "def outside_out(z):\n",
    "    outside = z[(z[\"Post patch?\"] == 'Outside-Out') | (((z['Post patch?'] == 'nucleus_absent') | (z['Post patch?'] == 'no_nuclues_visible')) & (z['Post patch pipette R'] >= 500))]\n",
    "    return outside\n",
    "\n",
    "def no_seal(w): \n",
    "    no = w[(w[\"Post patch?\"] == 'No-Seal') | (((w['Post patch?'] == 'nucleus_absent') | (w['Post patch?'] == 'no_nucleus_visible')) & (w['Post patch pipette R'] <= 499))]\n",
    "    return no\n",
    "    \n",
    "def entire_cell(v):\n",
    "    entire = v[(v[\"Post patch?\"] == 'Entire-Cell') | (v['Post patch?'] == 'entire_cell')]\n",
    "    return entire"
   ]
  },
  {
   "cell_type": "markdown",
   "metadata": {},
   "source": [
    "## Setting Variables"
   ]
  },
  {
   "cell_type": "code",
   "execution_count": 5,
   "metadata": {},
   "outputs": [
    {
     "name": "stderr",
     "output_type": "stream",
     "text": [
      "C:\\Users\\ramr\\AppData\\Local\\Continuum\\Anaconda2\\lib\\site-packages\\ipykernel_launcher.py:2: SettingWithCopyWarning: \n",
      "A value is trying to be set on a copy of a slice from a DataFrame.\n",
      "Try using .loc[row_indexer,col_indexer] = value instead\n",
      "\n",
      "See the caveats in the documentation: http://pandas.pydata.org/pandas-docs/stable/indexing.html#indexing-view-versus-copy\n",
      "  \n",
      "C:\\Users\\ramr\\AppData\\Local\\Continuum\\Anaconda2\\lib\\site-packages\\ipykernel_launcher.py:4: SettingWithCopyWarning: \n",
      "A value is trying to be set on a copy of a slice from a DataFrame.\n",
      "Try using .loc[row_indexer,col_indexer] = value instead\n",
      "\n",
      "See the caveats in the documentation: http://pandas.pydata.org/pandas-docs/stable/indexing.html#indexing-view-versus-copy\n",
      "  after removing the cwd from sys.path.\n",
      "C:\\Users\\ramr\\AppData\\Local\\Continuum\\Anaconda2\\lib\\site-packages\\ipykernel_launcher.py:6: SettingWithCopyWarning: \n",
      "A value is trying to be set on a copy of a slice from a DataFrame.\n",
      "Try using .loc[row_indexer,col_indexer] = value instead\n",
      "\n",
      "See the caveats in the documentation: http://pandas.pydata.org/pandas-docs/stable/indexing.html#indexing-view-versus-copy\n",
      "  \n",
      "C:\\Users\\ramr\\AppData\\Local\\Continuum\\Anaconda2\\lib\\site-packages\\ipykernel_launcher.py:8: SettingWithCopyWarning: \n",
      "A value is trying to be set on a copy of a slice from a DataFrame.\n",
      "Try using .loc[row_indexer,col_indexer] = value instead\n",
      "\n",
      "See the caveats in the documentation: http://pandas.pydata.org/pandas-docs/stable/indexing.html#indexing-view-versus-copy\n",
      "  \n"
     ]
    },
    {
     "data": {
      "text/html": [
       "<div>\n",
       "<style>\n",
       "    .dataframe thead tr:only-child th {\n",
       "        text-align: right;\n",
       "    }\n",
       "\n",
       "    .dataframe thead th {\n",
       "        text-align: left;\n",
       "    }\n",
       "\n",
       "    .dataframe tbody tr th {\n",
       "        vertical-align: top;\n",
       "    }\n",
       "</style>\n",
       "<table border=\"1\" class=\"dataframe\">\n",
       "  <thead>\n",
       "    <tr style=\"text-align: right;\">\n",
       "      <th></th>\n",
       "      <th>Date</th>\n",
       "      <th>Slice (Lims ID?)</th>\n",
       "      <th>Morph</th>\n",
       "      <th>cell type</th>\n",
       "      <th>Post patch?</th>\n",
       "      <th>Post patch pipette R</th>\n",
       "      <th>Nucleus sucked in?</th>\n",
       "      <th>Internal version</th>\n",
       "      <th>PCR cycles</th>\n",
       "      <th>SM_QC_PF</th>\n",
       "      <th>post patch class</th>\n",
       "    </tr>\n",
       "  </thead>\n",
       "  <tbody>\n",
       "    <tr>\n",
       "      <th>1688</th>\n",
       "      <td>2017-04-21</td>\n",
       "      <td>Gad2-IRES-Cre;Ai14-313294.04.01</td>\n",
       "      <td>n</td>\n",
       "      <td>tdt+</td>\n",
       "      <td>Nucleated</td>\n",
       "      <td>NaN</td>\n",
       "      <td>NaN</td>\n",
       "      <td>AiV2</td>\n",
       "      <td>21.0</td>\n",
       "      <td>pass</td>\n",
       "      <td>Nucleated</td>\n",
       "    </tr>\n",
       "    <tr>\n",
       "      <th>1692</th>\n",
       "      <td>2017-04-21</td>\n",
       "      <td>Gad2-IRES-Cre;Ai14-313294.03.02</td>\n",
       "      <td>n</td>\n",
       "      <td>tdt+</td>\n",
       "      <td>Nucleated</td>\n",
       "      <td>NaN</td>\n",
       "      <td>NaN</td>\n",
       "      <td>AiV2</td>\n",
       "      <td>21.0</td>\n",
       "      <td>pass</td>\n",
       "      <td>Nucleated</td>\n",
       "    </tr>\n",
       "    <tr>\n",
       "      <th>1693</th>\n",
       "      <td>2017-04-21</td>\n",
       "      <td>Gad2-IRES-Cre;Ai14-313294.03.02</td>\n",
       "      <td>y</td>\n",
       "      <td>tdt+</td>\n",
       "      <td>Nucleated</td>\n",
       "      <td>NaN</td>\n",
       "      <td>NaN</td>\n",
       "      <td>AiV2</td>\n",
       "      <td>21.0</td>\n",
       "      <td>pass</td>\n",
       "      <td>Nucleated</td>\n",
       "    </tr>\n",
       "    <tr>\n",
       "      <th>1701</th>\n",
       "      <td>2017-04-21</td>\n",
       "      <td>Gad2-IRES-Cre;Ai14-313294.05.01</td>\n",
       "      <td>n</td>\n",
       "      <td>tdt+</td>\n",
       "      <td>Nucleated</td>\n",
       "      <td>NaN</td>\n",
       "      <td>NaN</td>\n",
       "      <td>AiV2</td>\n",
       "      <td>21.0</td>\n",
       "      <td>pass</td>\n",
       "      <td>Nucleated</td>\n",
       "    </tr>\n",
       "    <tr>\n",
       "      <th>1717</th>\n",
       "      <td>2017-04-24</td>\n",
       "      <td>Rorb-IRES2-Cre;Ai14-315898.03.01</td>\n",
       "      <td>y</td>\n",
       "      <td>tdt+</td>\n",
       "      <td>Nucleated</td>\n",
       "      <td>NaN</td>\n",
       "      <td>NaN</td>\n",
       "      <td>AiV2</td>\n",
       "      <td>21.0</td>\n",
       "      <td>pass</td>\n",
       "      <td>Nucleated</td>\n",
       "    </tr>\n",
       "  </tbody>\n",
       "</table>\n",
       "</div>"
      ],
      "text/plain": [
       "           Date                  Slice (Lims ID?) Morph cell type Post patch?  \\\n",
       "1688 2017-04-21   Gad2-IRES-Cre;Ai14-313294.04.01     n      tdt+   Nucleated   \n",
       "1692 2017-04-21   Gad2-IRES-Cre;Ai14-313294.03.02     n      tdt+   Nucleated   \n",
       "1693 2017-04-21   Gad2-IRES-Cre;Ai14-313294.03.02     y      tdt+   Nucleated   \n",
       "1701 2017-04-21   Gad2-IRES-Cre;Ai14-313294.05.01     n      tdt+   Nucleated   \n",
       "1717 2017-04-24  Rorb-IRES2-Cre;Ai14-315898.03.01     y      tdt+   Nucleated   \n",
       "\n",
       "      Post patch pipette R Nucleus sucked in? Internal version PCR cycles  \\\n",
       "1688                   NaN                NaN             AiV2       21.0   \n",
       "1692                   NaN                NaN             AiV2       21.0   \n",
       "1693                   NaN                NaN             AiV2       21.0   \n",
       "1701                   NaN                NaN             AiV2       21.0   \n",
       "1717                   NaN                NaN             AiV2       21.0   \n",
       "\n",
       "     SM_QC_PF post patch class  \n",
       "1688     pass        Nucleated  \n",
       "1692     pass        Nucleated  \n",
       "1693     pass        Nucleated  \n",
       "1701     pass        Nucleated  \n",
       "1717     pass        Nucleated  "
      ]
     },
     "execution_count": 5,
     "metadata": {},
     "output_type": "execute_result"
    }
   ],
   "source": [
    "oo = outside_out(ps)\n",
    "oo['post patch class'] = 'Outside out'\n",
    "nu = nucleated(ps)\n",
    "nu['post patch class'] = 'Nucleated'\n",
    "ns = no_seal(ps)\n",
    "ns['post patch class'] = 'No seal'\n",
    "pn = partial_nucleated(ps)\n",
    "pn['post patch class'] = 'Partial nucleated'\n",
    "\n",
    "#Not including entire cell with plot\n",
    "#ec = entire_cell(ps)\n",
    "#ec['post patch class'] = 'Entire cell'\n",
    "\n",
    "frames = (nu, pn, oo, ns)\n",
    "ps = pd.concat(frames)\n",
    "ps.head()"
   ]
  },
  {
   "cell_type": "markdown",
   "metadata": {},
   "source": [
    "## Plots"
   ]
  },
  {
   "cell_type": "code",
   "execution_count": 6,
   "metadata": {
    "collapsed": true
   },
   "outputs": [],
   "source": [
    "ps = ps[[\"Date\", \"Morph\", \"Internal version\", \"SM_QC_PF\", \"post patch class\"]]\n",
    "ps = ps[(ps['Morph'] == 'n') | (ps['Morph'] == 'y') | (ps['Morph'] == 'q')]"
   ]
  },
  {
   "cell_type": "code",
   "execution_count": 14,
   "metadata": {},
   "outputs": [
    {
     "data": {
      "image/png": "[encoded data removed]",
      "text/plain": [
       "<matplotlib.figure.Figure at 0xdd02400>"
      ]
     },
     "metadata": {},
     "output_type": "display_data"
    }
   ],
   "source": [
    "sns.countplot(x=\"post patch class\", data=ps);"
   ]
  },
  {
   "cell_type": "markdown",
   "metadata": {},
   "source": [
    "Hue establishes the specific column as subcategories "
   ]
  },
  {
   "cell_type": "code",
   "execution_count": 18,
   "metadata": {},
   "outputs": [
    {
     "data": {
      "image/png": "[encoded data removed]",
      "text/plain": [
       "<matplotlib.figure.Figure at 0xe35f048>"
      ]
     },
     "metadata": {},
     "output_type": "display_data"
    }
   ],
   "source": [
    "sns.countplot(x=\"Morph\", data=ps);"
   ]
  },
  {
   "cell_type": "code",
   "execution_count": 19,
   "metadata": {},
   "outputs": [
    {
     "data": {
      "image/png": "[encoded data removed]",
      "text/plain": [
       "<matplotlib.figure.Figure at 0x5ed1e48>"
      ]
     },
     "metadata": {},
     "output_type": "display_data"
    }
   ],
   "source": [
    "sns.countplot(x=\"post patch class\", hue = \"Morph\", data=ps);"
   ]
  },
  {
   "cell_type": "code",
   "execution_count": 20,
   "metadata": {},
   "outputs": [
    {
     "data": {
      "image/png": "[encoded data removed]",
      "text/plain": [
       "<matplotlib.figure.Figure at 0xe36bba8>"
      ]
     },
     "metadata": {},
     "output_type": "display_data"
    }
   ],
   "source": [
    "sns.countplot(x=\"Morph\", hue = \"post patch class\", data=ps);"
   ]
  },
  {
   "cell_type": "markdown",
   "metadata": {},
   "source": [
    "Hue establishes the specific column as subcategories "
   ]
  },
  {
   "cell_type": "code",
   "execution_count": 17,
   "metadata": {
    "collapsed": true
   },
   "outputs": [],
   "source": [
    "#Figure out how to do factorplot or seaborn overlay plot\n",
    "#sns.factorplot(x=\"post patch class\", y=\"Morph\", data=ps, kind=\"bar\");"
   ]
  }
 ],
 "metadata": {
  "kernelspec": {
   "display_name": "Python 3",
   "language": "python",
   "name": "python3"
  },
  "language_info": {
   "codemirror_mode": {
    "name": "ipython",
    "version": 3
   },
   "file_extension": ".py",
   "mimetype": "text/x-python",
   "name": "python",
   "nbconvert_exporter": "python",
   "pygments_lexer": "ipython3",
   "version": "3.6.3"
  }
 },
 "nbformat": 4,
 "nbformat_minor": 2
}
