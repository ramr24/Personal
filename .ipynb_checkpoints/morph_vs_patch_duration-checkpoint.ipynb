{
 "cells": [
  {
   "cell_type": "markdown",
   "metadata": {},
   "source": [
    "# Analysis Project: Morphology vs. Patch Duration"
   ]
  },
  {
   "cell_type": "code",
   "execution_count": 1,
   "metadata": {},
   "outputs": [],
   "source": [
    "#Import necessary functions\n",
    "import csv\n",
    "import pandas as pd\n",
    "import numpy as np\n",
    "import seaborn as sns\n",
    "import matplotlib.pyplot as plt\n",
    "from datetime import datetime\n",
    "%matplotlib inline\n",
    "\n",
    "#Makes a white backround with gray horizontal gridmarks at y-values\n",
    "sns.set_style(\"whitegrid\")"
   ]
  },
  {
   "cell_type": "code",
   "execution_count": 2,
   "metadata": {},
   "outputs": [],
   "source": [
    "#ps = patch_seq csv file\n",
    "ps = pd.read_csv(\"patch_seq_log_mouse.csv\")"
   ]
  },
  {
   "cell_type": "code",
   "execution_count": 3,
   "metadata": {},
   "outputs": [
    {
     "data": {
      "text/html": [
       "<div>\n",
       "<style scoped>\n",
       "    .dataframe tbody tr th:only-of-type {\n",
       "        vertical-align: middle;\n",
       "    }\n",
       "\n",
       "    .dataframe tbody tr th {\n",
       "        vertical-align: top;\n",
       "    }\n",
       "\n",
       "    .dataframe thead th {\n",
       "        text-align: right;\n",
       "    }\n",
       "</style>\n",
       "<table border=\"1\" class=\"dataframe\">\n",
       "  <thead>\n",
       "    <tr style=\"text-align: right;\">\n",
       "      <th></th>\n",
       "      <th>Date</th>\n",
       "      <th>User</th>\n",
       "      <th>Rig #</th>\n",
       "      <th>Morph</th>\n",
       "      <th>Time spent extracting cytosol</th>\n",
       "      <th>Time spent retracting pipette</th>\n",
       "      <th>patch duration</th>\n",
       "      <th>PCR cycles</th>\n",
       "      <th>SM_QC_PF</th>\n",
       "      <th>Bad dates</th>\n",
       "    </tr>\n",
       "  </thead>\n",
       "  <tbody>\n",
       "    <tr>\n",
       "      <th>0</th>\n",
       "      <td>170104</td>\n",
       "      <td>P1</td>\n",
       "      <td>5</td>\n",
       "      <td>n</td>\n",
       "      <td>2.3</td>\n",
       "      <td>NaN</td>\n",
       "      <td>11.78333333</td>\n",
       "      <td>18.0</td>\n",
       "      <td>pass</td>\n",
       "      <td>x</td>\n",
       "    </tr>\n",
       "    <tr>\n",
       "      <th>1</th>\n",
       "      <td>170104</td>\n",
       "      <td>P1</td>\n",
       "      <td>5</td>\n",
       "      <td>n</td>\n",
       "      <td>2.316666667</td>\n",
       "      <td>NaN</td>\n",
       "      <td>12.21666667</td>\n",
       "      <td>18.0</td>\n",
       "      <td>pass</td>\n",
       "      <td>x</td>\n",
       "    </tr>\n",
       "    <tr>\n",
       "      <th>2</th>\n",
       "      <td>170104</td>\n",
       "      <td>P1</td>\n",
       "      <td>5</td>\n",
       "      <td>n</td>\n",
       "      <td>2.45</td>\n",
       "      <td>NaN</td>\n",
       "      <td>11.78333333</td>\n",
       "      <td>18.0</td>\n",
       "      <td>pass</td>\n",
       "      <td>x</td>\n",
       "    </tr>\n",
       "    <tr>\n",
       "      <th>3</th>\n",
       "      <td>170104</td>\n",
       "      <td>P1</td>\n",
       "      <td>5</td>\n",
       "      <td>n</td>\n",
       "      <td>2.316666667</td>\n",
       "      <td>NaN</td>\n",
       "      <td>12.45</td>\n",
       "      <td>18.0</td>\n",
       "      <td>pass</td>\n",
       "      <td>x</td>\n",
       "    </tr>\n",
       "    <tr>\n",
       "      <th>4</th>\n",
       "      <td>170104</td>\n",
       "      <td>P1</td>\n",
       "      <td>5</td>\n",
       "      <td>y</td>\n",
       "      <td>2.35</td>\n",
       "      <td>NaN</td>\n",
       "      <td>12.36666667</td>\n",
       "      <td>18.0</td>\n",
       "      <td>pass</td>\n",
       "      <td>x</td>\n",
       "    </tr>\n",
       "  </tbody>\n",
       "</table>\n",
       "</div>"
      ],
      "text/plain": [
       "     Date User Rig # Morph Time spent extracting cytosol  \\\n",
       "0  170104   P1     5     n                           2.3   \n",
       "1  170104   P1     5     n                   2.316666667   \n",
       "2  170104   P1     5     n                          2.45   \n",
       "3  170104   P1     5     n                   2.316666667   \n",
       "4  170104   P1     5     y                          2.35   \n",
       "\n",
       "  Time spent retracting pipette patch duration  PCR cycles SM_QC_PF Bad dates  \n",
       "0                           NaN    11.78333333        18.0     pass         x  \n",
       "1                           NaN    12.21666667        18.0     pass         x  \n",
       "2                           NaN    11.78333333        18.0     pass         x  \n",
       "3                           NaN          12.45        18.0     pass         x  \n",
       "4                           NaN    12.36666667        18.0     pass         x  "
      ]
     },
     "execution_count": 3,
     "metadata": {},
     "output_type": "execute_result"
    }
   ],
   "source": [
    "#list_initial = list with specific columns used from csv file\n",
    "list_initial = [\"Date\", \"User\", \"Rig #\", \"Morph\", \"Time spent extracting cytosol\", \"Time spent retracting pipette\", \n",
    "                \"patch duration\", \"PCR cycles\", \"SM_QC_PF\", \"Bad dates\"]\n",
    "ps = ps[list_initial]\n",
    "ps.head()"
   ]
  },
  {
   "cell_type": "markdown",
   "metadata": {},
   "source": [
    "### Categorizing & Filtering the columns"
   ]
  },
  {
   "cell_type": "code",
   "execution_count": 4,
   "metadata": {},
   "outputs": [
    {
     "data": {
      "text/html": [
       "<div>\n",
       "<style scoped>\n",
       "    .dataframe tbody tr th:only-of-type {\n",
       "        vertical-align: middle;\n",
       "    }\n",
       "\n",
       "    .dataframe tbody tr th {\n",
       "        vertical-align: top;\n",
       "    }\n",
       "\n",
       "    .dataframe thead th {\n",
       "        text-align: right;\n",
       "    }\n",
       "</style>\n",
       "<table border=\"1\" class=\"dataframe\">\n",
       "  <thead>\n",
       "    <tr style=\"text-align: right;\">\n",
       "      <th></th>\n",
       "      <th>Date</th>\n",
       "      <th>User</th>\n",
       "      <th>Rig #</th>\n",
       "      <th>Morph</th>\n",
       "      <th>Time spent extracting cytosol</th>\n",
       "      <th>Time spent retracting pipette</th>\n",
       "      <th>patch duration</th>\n",
       "      <th>PCR cycles</th>\n",
       "      <th>SM_QC_PF</th>\n",
       "    </tr>\n",
       "  </thead>\n",
       "  <tbody>\n",
       "    <tr>\n",
       "      <th>1634</th>\n",
       "      <td>2017-04-19</td>\n",
       "      <td>P2</td>\n",
       "      <td>6</td>\n",
       "      <td>n</td>\n",
       "      <td>1.800000</td>\n",
       "      <td>0.0</td>\n",
       "      <td>4.333333</td>\n",
       "      <td>21.0</td>\n",
       "      <td>fail</td>\n",
       "    </tr>\n",
       "    <tr>\n",
       "      <th>1635</th>\n",
       "      <td>2017-04-19</td>\n",
       "      <td>P2</td>\n",
       "      <td>6</td>\n",
       "      <td>y</td>\n",
       "      <td>1.666667</td>\n",
       "      <td>0.0</td>\n",
       "      <td>6.566667</td>\n",
       "      <td>21.0</td>\n",
       "      <td>pass</td>\n",
       "    </tr>\n",
       "    <tr>\n",
       "      <th>1636</th>\n",
       "      <td>2017-04-19</td>\n",
       "      <td>P2</td>\n",
       "      <td>6</td>\n",
       "      <td>n</td>\n",
       "      <td>1.433333</td>\n",
       "      <td>0.0</td>\n",
       "      <td>8.033333</td>\n",
       "      <td>21.0</td>\n",
       "      <td>fail</td>\n",
       "    </tr>\n",
       "    <tr>\n",
       "      <th>1637</th>\n",
       "      <td>2017-04-19</td>\n",
       "      <td>P2</td>\n",
       "      <td>6</td>\n",
       "      <td>y</td>\n",
       "      <td>2.350000</td>\n",
       "      <td>0.0</td>\n",
       "      <td>7.416667</td>\n",
       "      <td>21.0</td>\n",
       "      <td>pass</td>\n",
       "    </tr>\n",
       "    <tr>\n",
       "      <th>1638</th>\n",
       "      <td>2017-04-19</td>\n",
       "      <td>P2</td>\n",
       "      <td>6</td>\n",
       "      <td>y</td>\n",
       "      <td>2.216667</td>\n",
       "      <td>0.0</td>\n",
       "      <td>4.166667</td>\n",
       "      <td>21.0</td>\n",
       "      <td>pass</td>\n",
       "    </tr>\n",
       "  </tbody>\n",
       "</table>\n",
       "</div>"
      ],
      "text/plain": [
       "           Date User Rig # Morph  Time spent extracting cytosol  \\\n",
       "1634 2017-04-19   P2     6     n                       1.800000   \n",
       "1635 2017-04-19   P2     6     y                       1.666667   \n",
       "1636 2017-04-19   P2     6     n                       1.433333   \n",
       "1637 2017-04-19   P2     6     y                       2.350000   \n",
       "1638 2017-04-19   P2     6     y                       2.216667   \n",
       "\n",
       "      Time spent retracting pipette  patch duration PCR cycles SM_QC_PF  \n",
       "1634                            0.0        4.333333       21.0     fail  \n",
       "1635                            0.0        6.566667       21.0     pass  \n",
       "1636                            0.0        8.033333       21.0     fail  \n",
       "1637                            0.0        7.416667       21.0     pass  \n",
       "1638                            0.0        4.166667       21.0     pass  "
      ]
     },
     "execution_count": 4,
     "metadata": {},
     "output_type": "execute_result"
    }
   ],
   "source": [
    "#Changing Date Format\n",
    "ps[\"Date\"] = pd.to_datetime(ps[\"Date\"], format = \"%y%m%d\", errors = \"coerce\")\n",
    "\n",
    "#Changing String to Numerical\n",
    "ps[\"Time spent extracting cytosol\"] = pd.to_numeric(ps[\"Time spent extracting cytosol\"].str.replace(' ',''), errors ='coerce')\n",
    "ps[\"patch duration\"] = pd.to_numeric(ps[\"patch duration\"].str.replace(' ',''), errors ='coerce')\n",
    "ps[\"Time spent retracting pipette\"] = pd.to_numeric(ps[\"Time spent retracting pipette\"].str.replace(' ',''), errors ='coerce')\n",
    "\n",
    "#Categories\n",
    "ps[\"User\"] = ps[\"User\"].astype(\"category\")\n",
    "ps[\"Rig #\"] = ps[\"Rig #\"].astype(\"category\")\n",
    "ps[\"Morph\"] = ps[\"Morph\"].astype(\"category\")\n",
    "ps[\"PCR cycles\"] = ps[\"PCR cycles\"].astype(\"category\")\n",
    "ps[\"SM_QC_PF\"] = ps[\"SM_QC_PF\"].astype(\"category\")\n",
    "ps[\"Bad dates\"] = ps[\"Bad dates\"].astype(\"category\")\n",
    "\n",
    "#Filtering Columns\n",
    "ps = ps[ps[\"PCR cycles\"] == 21]      #Shows 21 pcr cycles\n",
    "ps = ps[ps[\"SM_QC_PF\"] != \"cnt\"]     #Shows everything except (cnt = control)\n",
    "ps = ps[ps[\"Bad dates\"] != \"x\"]      #Shows everthing except (x = contaminated)\n",
    "ps = ps[ps[\"Time spent extracting cytosol\"] <= 10]\n",
    "\n",
    "#Dropping blank columns\n",
    "ps = ps.drop(\"Bad dates\", 1)\n",
    "ps[\"Time spent retracting pipette\"] = ps[\"Time spent retracting pipette\"].fillna(0)\n",
    "ps.dropna(subset = [\"User\", \"Morph\", \"Time spent extracting cytosol\", \"Time spent retracting pipette\", \"patch duration\", \n",
    "                    \"SM_QC_PF\"], inplace = True)\n",
    "ps.head()"
   ]
  },
  {
   "cell_type": "markdown",
   "metadata": {},
   "source": [
    "## Creating Recording Duration Column"
   ]
  },
  {
   "cell_type": "code",
   "execution_count": 5,
   "metadata": {},
   "outputs": [
    {
     "data": {
      "text/html": [
       "<div>\n",
       "<style scoped>\n",
       "    .dataframe tbody tr th:only-of-type {\n",
       "        vertical-align: middle;\n",
       "    }\n",
       "\n",
       "    .dataframe tbody tr th {\n",
       "        vertical-align: top;\n",
       "    }\n",
       "\n",
       "    .dataframe thead th {\n",
       "        text-align: right;\n",
       "    }\n",
       "</style>\n",
       "<table border=\"1\" class=\"dataframe\">\n",
       "  <thead>\n",
       "    <tr style=\"text-align: right;\">\n",
       "      <th></th>\n",
       "      <th>Date</th>\n",
       "      <th>User</th>\n",
       "      <th>Rig #</th>\n",
       "      <th>Morph</th>\n",
       "      <th>Time spent extracting cytosol</th>\n",
       "      <th>Time spent retracting pipette</th>\n",
       "      <th>patch duration</th>\n",
       "      <th>PCR cycles</th>\n",
       "      <th>SM_QC_PF</th>\n",
       "      <th>Recording Duration</th>\n",
       "    </tr>\n",
       "  </thead>\n",
       "  <tbody>\n",
       "    <tr>\n",
       "      <th>1634</th>\n",
       "      <td>2017-04-19</td>\n",
       "      <td>P2</td>\n",
       "      <td>6</td>\n",
       "      <td>n</td>\n",
       "      <td>1.800000</td>\n",
       "      <td>0.0</td>\n",
       "      <td>4.333333</td>\n",
       "      <td>21.0</td>\n",
       "      <td>fail</td>\n",
       "      <td>2.533333</td>\n",
       "    </tr>\n",
       "    <tr>\n",
       "      <th>1635</th>\n",
       "      <td>2017-04-19</td>\n",
       "      <td>P2</td>\n",
       "      <td>6</td>\n",
       "      <td>y</td>\n",
       "      <td>1.666667</td>\n",
       "      <td>0.0</td>\n",
       "      <td>6.566667</td>\n",
       "      <td>21.0</td>\n",
       "      <td>pass</td>\n",
       "      <td>4.900000</td>\n",
       "    </tr>\n",
       "    <tr>\n",
       "      <th>1636</th>\n",
       "      <td>2017-04-19</td>\n",
       "      <td>P2</td>\n",
       "      <td>6</td>\n",
       "      <td>n</td>\n",
       "      <td>1.433333</td>\n",
       "      <td>0.0</td>\n",
       "      <td>8.033333</td>\n",
       "      <td>21.0</td>\n",
       "      <td>fail</td>\n",
       "      <td>6.600000</td>\n",
       "    </tr>\n",
       "    <tr>\n",
       "      <th>1637</th>\n",
       "      <td>2017-04-19</td>\n",
       "      <td>P2</td>\n",
       "      <td>6</td>\n",
       "      <td>y</td>\n",
       "      <td>2.350000</td>\n",
       "      <td>0.0</td>\n",
       "      <td>7.416667</td>\n",
       "      <td>21.0</td>\n",
       "      <td>pass</td>\n",
       "      <td>5.066667</td>\n",
       "    </tr>\n",
       "    <tr>\n",
       "      <th>1638</th>\n",
       "      <td>2017-04-19</td>\n",
       "      <td>P2</td>\n",
       "      <td>6</td>\n",
       "      <td>y</td>\n",
       "      <td>2.216667</td>\n",
       "      <td>0.0</td>\n",
       "      <td>4.166667</td>\n",
       "      <td>21.0</td>\n",
       "      <td>pass</td>\n",
       "      <td>1.950000</td>\n",
       "    </tr>\n",
       "  </tbody>\n",
       "</table>\n",
       "</div>"
      ],
      "text/plain": [
       "           Date User Rig # Morph  Time spent extracting cytosol  \\\n",
       "1634 2017-04-19   P2     6     n                       1.800000   \n",
       "1635 2017-04-19   P2     6     y                       1.666667   \n",
       "1636 2017-04-19   P2     6     n                       1.433333   \n",
       "1637 2017-04-19   P2     6     y                       2.350000   \n",
       "1638 2017-04-19   P2     6     y                       2.216667   \n",
       "\n",
       "      Time spent retracting pipette  patch duration PCR cycles SM_QC_PF  \\\n",
       "1634                            0.0        4.333333       21.0     fail   \n",
       "1635                            0.0        6.566667       21.0     pass   \n",
       "1636                            0.0        8.033333       21.0     fail   \n",
       "1637                            0.0        7.416667       21.0     pass   \n",
       "1638                            0.0        4.166667       21.0     pass   \n",
       "\n",
       "      Recording Duration  \n",
       "1634            2.533333  \n",
       "1635            4.900000  \n",
       "1636            6.600000  \n",
       "1637            5.066667  \n",
       "1638            1.950000  "
      ]
     },
     "execution_count": 5,
     "metadata": {},
     "output_type": "execute_result"
    }
   ],
   "source": [
    "ps[\"Recording Duration\"] = ps[\"patch duration\"] - ps[\"Time spent extracting cytosol\"] - ps[\"Time spent retracting pipette\"]\n",
    "ps = ps[ps[\"Recording Duration\"] > 0] #Only shows postive values\n",
    "ps.head()"
   ]
  },
  {
   "cell_type": "code",
   "execution_count": 6,
   "metadata": {},
   "outputs": [
    {
     "data": {
      "text/html": [
       "<div>\n",
       "<style scoped>\n",
       "    .dataframe tbody tr th:only-of-type {\n",
       "        vertical-align: middle;\n",
       "    }\n",
       "\n",
       "    .dataframe tbody tr th {\n",
       "        vertical-align: top;\n",
       "    }\n",
       "\n",
       "    .dataframe thead th {\n",
       "        text-align: right;\n",
       "    }\n",
       "</style>\n",
       "<table border=\"1\" class=\"dataframe\">\n",
       "  <thead>\n",
       "    <tr style=\"text-align: right;\">\n",
       "      <th></th>\n",
       "      <th>Date</th>\n",
       "      <th>User</th>\n",
       "      <th>Rig #</th>\n",
       "      <th>Morph</th>\n",
       "      <th>Time spent extracting cytosol</th>\n",
       "      <th>Time spent retracting pipette</th>\n",
       "      <th>patch duration</th>\n",
       "      <th>PCR cycles</th>\n",
       "      <th>SM_QC_PF</th>\n",
       "      <th>Recording Duration</th>\n",
       "    </tr>\n",
       "  </thead>\n",
       "  <tbody>\n",
       "    <tr>\n",
       "      <th>4893</th>\n",
       "      <td>2017-12-15</td>\n",
       "      <td>PB</td>\n",
       "      <td>3</td>\n",
       "      <td>n</td>\n",
       "      <td>1.233333</td>\n",
       "      <td>0.000000</td>\n",
       "      <td>5.166667</td>\n",
       "      <td>21.0</td>\n",
       "      <td>pass</td>\n",
       "      <td>3.933333</td>\n",
       "    </tr>\n",
       "    <tr>\n",
       "      <th>4894</th>\n",
       "      <td>2017-12-15</td>\n",
       "      <td>P6</td>\n",
       "      <td>2</td>\n",
       "      <td>check with aaron</td>\n",
       "      <td>1.233333</td>\n",
       "      <td>2.366667</td>\n",
       "      <td>6.416667</td>\n",
       "      <td>21.0</td>\n",
       "      <td>pass</td>\n",
       "      <td>2.816667</td>\n",
       "    </tr>\n",
       "    <tr>\n",
       "      <th>4895</th>\n",
       "      <td>2017-12-15</td>\n",
       "      <td>P6</td>\n",
       "      <td>2</td>\n",
       "      <td>y</td>\n",
       "      <td>1.316667</td>\n",
       "      <td>2.100000</td>\n",
       "      <td>6.866667</td>\n",
       "      <td>21.0</td>\n",
       "      <td>fail</td>\n",
       "      <td>3.450000</td>\n",
       "    </tr>\n",
       "    <tr>\n",
       "      <th>4896</th>\n",
       "      <td>2017-12-15</td>\n",
       "      <td>P6</td>\n",
       "      <td>2</td>\n",
       "      <td>n</td>\n",
       "      <td>1.083333</td>\n",
       "      <td>2.616667</td>\n",
       "      <td>7.033333</td>\n",
       "      <td>21.0</td>\n",
       "      <td>pass</td>\n",
       "      <td>3.333333</td>\n",
       "    </tr>\n",
       "    <tr>\n",
       "      <th>4897</th>\n",
       "      <td>2017-12-15</td>\n",
       "      <td>P6</td>\n",
       "      <td>2</td>\n",
       "      <td>y</td>\n",
       "      <td>1.400000</td>\n",
       "      <td>1.650000</td>\n",
       "      <td>7.400000</td>\n",
       "      <td>21.0</td>\n",
       "      <td>pass</td>\n",
       "      <td>4.350000</td>\n",
       "    </tr>\n",
       "  </tbody>\n",
       "</table>\n",
       "</div>"
      ],
      "text/plain": [
       "           Date User Rig #             Morph  Time spent extracting cytosol  \\\n",
       "4893 2017-12-15   PB     3                 n                       1.233333   \n",
       "4894 2017-12-15   P6     2  check with aaron                       1.233333   \n",
       "4895 2017-12-15   P6     2                 y                       1.316667   \n",
       "4896 2017-12-15   P6     2                 n                       1.083333   \n",
       "4897 2017-12-15   P6     2                 y                       1.400000   \n",
       "\n",
       "      Time spent retracting pipette  patch duration PCR cycles SM_QC_PF  \\\n",
       "4893                       0.000000        5.166667       21.0     pass   \n",
       "4894                       2.366667        6.416667       21.0     pass   \n",
       "4895                       2.100000        6.866667       21.0     fail   \n",
       "4896                       2.616667        7.033333       21.0     pass   \n",
       "4897                       1.650000        7.400000       21.0     pass   \n",
       "\n",
       "      Recording Duration  \n",
       "4893            3.933333  \n",
       "4894            2.816667  \n",
       "4895            3.450000  \n",
       "4896            3.333333  \n",
       "4897            4.350000  "
      ]
     },
     "execution_count": 6,
     "metadata": {},
     "output_type": "execute_result"
    }
   ],
   "source": [
    "ps.tail()"
   ]
  },
  {
   "cell_type": "markdown",
   "metadata": {},
   "source": [
    "## Renaming columns"
   ]
  },
  {
   "cell_type": "code",
   "execution_count": 7,
   "metadata": {},
   "outputs": [
    {
     "data": {
      "text/html": [
       "<div>\n",
       "<style scoped>\n",
       "    .dataframe tbody tr th:only-of-type {\n",
       "        vertical-align: middle;\n",
       "    }\n",
       "\n",
       "    .dataframe tbody tr th {\n",
       "        vertical-align: top;\n",
       "    }\n",
       "\n",
       "    .dataframe thead th {\n",
       "        text-align: right;\n",
       "    }\n",
       "</style>\n",
       "<table border=\"1\" class=\"dataframe\">\n",
       "  <thead>\n",
       "    <tr style=\"text-align: right;\">\n",
       "      <th></th>\n",
       "      <th>Date</th>\n",
       "      <th>User</th>\n",
       "      <th>Rig #</th>\n",
       "      <th>Morph</th>\n",
       "      <th>Extraction Duration</th>\n",
       "      <th>Retraction Duration</th>\n",
       "      <th>Patch Duration</th>\n",
       "      <th>PCR cycles</th>\n",
       "      <th>SM_QC_PF</th>\n",
       "      <th>Recording Duration</th>\n",
       "    </tr>\n",
       "  </thead>\n",
       "  <tbody>\n",
       "    <tr>\n",
       "      <th>1634</th>\n",
       "      <td>2017-04-19</td>\n",
       "      <td>P2</td>\n",
       "      <td>6</td>\n",
       "      <td>n</td>\n",
       "      <td>1.800000</td>\n",
       "      <td>0.0</td>\n",
       "      <td>4.333333</td>\n",
       "      <td>21.0</td>\n",
       "      <td>fail</td>\n",
       "      <td>2.533333</td>\n",
       "    </tr>\n",
       "    <tr>\n",
       "      <th>1635</th>\n",
       "      <td>2017-04-19</td>\n",
       "      <td>P2</td>\n",
       "      <td>6</td>\n",
       "      <td>y</td>\n",
       "      <td>1.666667</td>\n",
       "      <td>0.0</td>\n",
       "      <td>6.566667</td>\n",
       "      <td>21.0</td>\n",
       "      <td>pass</td>\n",
       "      <td>4.900000</td>\n",
       "    </tr>\n",
       "    <tr>\n",
       "      <th>1636</th>\n",
       "      <td>2017-04-19</td>\n",
       "      <td>P2</td>\n",
       "      <td>6</td>\n",
       "      <td>n</td>\n",
       "      <td>1.433333</td>\n",
       "      <td>0.0</td>\n",
       "      <td>8.033333</td>\n",
       "      <td>21.0</td>\n",
       "      <td>fail</td>\n",
       "      <td>6.600000</td>\n",
       "    </tr>\n",
       "    <tr>\n",
       "      <th>1637</th>\n",
       "      <td>2017-04-19</td>\n",
       "      <td>P2</td>\n",
       "      <td>6</td>\n",
       "      <td>y</td>\n",
       "      <td>2.350000</td>\n",
       "      <td>0.0</td>\n",
       "      <td>7.416667</td>\n",
       "      <td>21.0</td>\n",
       "      <td>pass</td>\n",
       "      <td>5.066667</td>\n",
       "    </tr>\n",
       "    <tr>\n",
       "      <th>1638</th>\n",
       "      <td>2017-04-19</td>\n",
       "      <td>P2</td>\n",
       "      <td>6</td>\n",
       "      <td>y</td>\n",
       "      <td>2.216667</td>\n",
       "      <td>0.0</td>\n",
       "      <td>4.166667</td>\n",
       "      <td>21.0</td>\n",
       "      <td>pass</td>\n",
       "      <td>1.950000</td>\n",
       "    </tr>\n",
       "  </tbody>\n",
       "</table>\n",
       "</div>"
      ],
      "text/plain": [
       "           Date User Rig # Morph  Extraction Duration  Retraction Duration  \\\n",
       "1634 2017-04-19   P2     6     n             1.800000                  0.0   \n",
       "1635 2017-04-19   P2     6     y             1.666667                  0.0   \n",
       "1636 2017-04-19   P2     6     n             1.433333                  0.0   \n",
       "1637 2017-04-19   P2     6     y             2.350000                  0.0   \n",
       "1638 2017-04-19   P2     6     y             2.216667                  0.0   \n",
       "\n",
       "      Patch Duration PCR cycles SM_QC_PF  Recording Duration  \n",
       "1634        4.333333       21.0     fail            2.533333  \n",
       "1635        6.566667       21.0     pass            4.900000  \n",
       "1636        8.033333       21.0     fail            6.600000  \n",
       "1637        7.416667       21.0     pass            5.066667  \n",
       "1638        4.166667       21.0     pass            1.950000  "
      ]
     },
     "execution_count": 7,
     "metadata": {},
     "output_type": "execute_result"
    }
   ],
   "source": [
    "ps.rename(columns = {\"Time spent extracting cytosol\" : \"Extraction Duration\", \n",
    "                     \"Time spent retracting pipette\" : \"Retraction Duration\",\n",
    "                     \"patch duration\" : \"Patch Duration\"}, inplace = True)\n",
    "ps.head()"
   ]
  },
  {
   "cell_type": "markdown",
   "metadata": {},
   "source": [
    "## Info"
   ]
  },
  {
   "cell_type": "code",
   "execution_count": 8,
   "metadata": {},
   "outputs": [
    {
     "name": "stdout",
     "output_type": "stream",
     "text": [
      "<class 'pandas.core.frame.DataFrame'>\n",
      "Int64Index: 2096 entries, 1634 to 4897\n",
      "Data columns (total 10 columns):\n",
      "Date                   2096 non-null datetime64[ns]\n",
      "User                   2096 non-null category\n",
      "Rig #                  2084 non-null category\n",
      "Morph                  2096 non-null category\n",
      "Extraction Duration    2096 non-null float64\n",
      "Retraction Duration    2096 non-null float64\n",
      "Patch Duration         2096 non-null float64\n",
      "PCR cycles             2096 non-null category\n",
      "SM_QC_PF               2096 non-null category\n",
      "Recording Duration     2096 non-null float64\n",
      "dtypes: category(5), datetime64[ns](1), float64(4)\n",
      "memory usage: 109.9 KB\n"
     ]
    }
   ],
   "source": [
    "ps.info()"
   ]
  },
  {
   "cell_type": "code",
   "execution_count": 9,
   "metadata": {},
   "outputs": [
    {
     "data": {
      "text/plain": [
       "n                   1182\n",
       "y                    489\n",
       "q                    348\n",
       "na                    59\n",
       "processing            10\n",
       "z                      4\n",
       "?                      2\n",
       "t                      1\n",
       "check with aaron       1\n",
       "                       0\n",
       "Name: Morph, dtype: int64"
      ]
     },
     "execution_count": 9,
     "metadata": {},
     "output_type": "execute_result"
    }
   ],
   "source": [
    "ps.Morph.value_counts()"
   ]
  },
  {
   "cell_type": "code",
   "execution_count": 10,
   "metadata": {},
   "outputs": [
    {
     "data": {
      "text/plain": [
       "P2     566\n",
       "P8     541\n",
       "P1     488\n",
       "P9     212\n",
       "PB     115\n",
       "P6      88\n",
       "PA      81\n",
       "P5       5\n",
       "P6       0\n",
       "P3       0\n",
       "P0       0\n",
       "Name: User, dtype: int64"
      ]
     },
     "execution_count": 10,
     "metadata": {},
     "output_type": "execute_result"
    }
   ],
   "source": [
    "ps.User.value_counts()"
   ]
  },
  {
   "cell_type": "markdown",
   "metadata": {},
   "source": [
    "## Removing Unused Categories within Morph"
   ]
  },
  {
   "cell_type": "code",
   "execution_count": 11,
   "metadata": {},
   "outputs": [
    {
     "data": {
      "text/plain": [
       "n    1182\n",
       "y     489\n",
       "q     348\n",
       "        0\n",
       "Name: Morph, dtype: int64"
      ]
     },
     "execution_count": 11,
     "metadata": {},
     "output_type": "execute_result"
    }
   ],
   "source": [
    "#ps.column_name.cat.remove_categories([list], inplace = True) Removes categories within column\n",
    "ps.Morph.cat.remove_categories([\"na\", \"processing\", \"z\", \"?\", \"t\", \"check with aaron\"], inplace = True)\n",
    "ps.Morph.value_counts()"
   ]
  },
  {
   "cell_type": "code",
   "execution_count": 12,
   "metadata": {},
   "outputs": [
    {
     "data": {
      "text/plain": [
       "n    1182\n",
       "y     489\n",
       "q     348\n",
       "        0\n",
       "Name: Morph, dtype: int64"
      ]
     },
     "execution_count": 12,
     "metadata": {},
     "output_type": "execute_result"
    }
   ],
   "source": [
    "#Removed categories = NaN then used dropna to drop those rows\n",
    "ps.dropna(subset = [\"Morph\"], inplace = True)\n",
    "ps.Morph.value_counts()"
   ]
  },
  {
   "cell_type": "code",
   "execution_count": 13,
   "metadata": {},
   "outputs": [],
   "source": [
    "####PROBLEM#####\n",
    "#Figure out how to remove the blank 4th column same with the users section"
   ]
  },
  {
   "cell_type": "code",
   "execution_count": 14,
   "metadata": {},
   "outputs": [],
   "source": [
    "#Renaming Morphological Calls\n",
    "ps.Morph.cat.rename_categories({\"n\" : \"No\", \"y\" : \"Yes\", \"q\" : \"Questionable\"}, inplace = True)"
   ]
  },
  {
   "cell_type": "markdown",
   "metadata": {},
   "source": [
    "## Removing Unused Categories within User"
   ]
  },
  {
   "cell_type": "code",
   "execution_count": 15,
   "metadata": {},
   "outputs": [
    {
     "data": {
      "text/plain": [
       "P2     561\n",
       "P8     533\n",
       "P1     472\n",
       "P9     176\n",
       "PB     112\n",
       "PA      78\n",
       "P6       0\n",
       "Name: User, dtype: int64"
      ]
     },
     "execution_count": 15,
     "metadata": {},
     "output_type": "execute_result"
    }
   ],
   "source": [
    "#ps.column_name.cat.remove_categories([list], inplace = True) Removes categories within column\n",
    "ps.User.cat.remove_categories([\"P0\", \"P3\", \"P5\", \"P6\"], inplace = True)\n",
    "ps.User.value_counts()"
   ]
  },
  {
   "cell_type": "code",
   "execution_count": 16,
   "metadata": {},
   "outputs": [
    {
     "data": {
      "text/plain": [
       "P2     561\n",
       "P8     533\n",
       "P1     472\n",
       "P9     176\n",
       "PB     112\n",
       "PA      78\n",
       "P6       0\n",
       "Name: User, dtype: int64"
      ]
     },
     "execution_count": 16,
     "metadata": {},
     "output_type": "execute_result"
    }
   ],
   "source": [
    "#Removed categories = NaN then used dropna to drop those rows\n",
    "ps.dropna(subset = [\"User\"], inplace = True)\n",
    "ps.User.value_counts()"
   ]
  },
  {
   "cell_type": "markdown",
   "metadata": {},
   "source": [
    "## Date for this Dataset"
   ]
  },
  {
   "cell_type": "code",
   "execution_count": 17,
   "metadata": {},
   "outputs": [
    {
     "data": {
      "text/html": [
       "<div>\n",
       "<style scoped>\n",
       "    .dataframe tbody tr th:only-of-type {\n",
       "        vertical-align: middle;\n",
       "    }\n",
       "\n",
       "    .dataframe tbody tr th {\n",
       "        vertical-align: top;\n",
       "    }\n",
       "\n",
       "    .dataframe thead th {\n",
       "        text-align: right;\n",
       "    }\n",
       "</style>\n",
       "<table border=\"1\" class=\"dataframe\">\n",
       "  <thead>\n",
       "    <tr style=\"text-align: right;\">\n",
       "      <th></th>\n",
       "      <th>Date</th>\n",
       "      <th>User</th>\n",
       "      <th>Rig #</th>\n",
       "      <th>Morph</th>\n",
       "      <th>Extraction Duration</th>\n",
       "      <th>Retraction Duration</th>\n",
       "      <th>Patch Duration</th>\n",
       "      <th>PCR cycles</th>\n",
       "      <th>SM_QC_PF</th>\n",
       "      <th>Recording Duration</th>\n",
       "    </tr>\n",
       "  </thead>\n",
       "  <tbody>\n",
       "    <tr>\n",
       "      <th>1634</th>\n",
       "      <td>2017-04-19</td>\n",
       "      <td>P2</td>\n",
       "      <td>6</td>\n",
       "      <td>No</td>\n",
       "      <td>1.800000</td>\n",
       "      <td>0.0</td>\n",
       "      <td>4.333333</td>\n",
       "      <td>21.0</td>\n",
       "      <td>fail</td>\n",
       "      <td>2.533333</td>\n",
       "    </tr>\n",
       "    <tr>\n",
       "      <th>1635</th>\n",
       "      <td>2017-04-19</td>\n",
       "      <td>P2</td>\n",
       "      <td>6</td>\n",
       "      <td>Yes</td>\n",
       "      <td>1.666667</td>\n",
       "      <td>0.0</td>\n",
       "      <td>6.566667</td>\n",
       "      <td>21.0</td>\n",
       "      <td>pass</td>\n",
       "      <td>4.900000</td>\n",
       "    </tr>\n",
       "    <tr>\n",
       "      <th>1636</th>\n",
       "      <td>2017-04-19</td>\n",
       "      <td>P2</td>\n",
       "      <td>6</td>\n",
       "      <td>No</td>\n",
       "      <td>1.433333</td>\n",
       "      <td>0.0</td>\n",
       "      <td>8.033333</td>\n",
       "      <td>21.0</td>\n",
       "      <td>fail</td>\n",
       "      <td>6.600000</td>\n",
       "    </tr>\n",
       "    <tr>\n",
       "      <th>1637</th>\n",
       "      <td>2017-04-19</td>\n",
       "      <td>P2</td>\n",
       "      <td>6</td>\n",
       "      <td>Yes</td>\n",
       "      <td>2.350000</td>\n",
       "      <td>0.0</td>\n",
       "      <td>7.416667</td>\n",
       "      <td>21.0</td>\n",
       "      <td>pass</td>\n",
       "      <td>5.066667</td>\n",
       "    </tr>\n",
       "    <tr>\n",
       "      <th>1638</th>\n",
       "      <td>2017-04-19</td>\n",
       "      <td>P2</td>\n",
       "      <td>6</td>\n",
       "      <td>Yes</td>\n",
       "      <td>2.216667</td>\n",
       "      <td>0.0</td>\n",
       "      <td>4.166667</td>\n",
       "      <td>21.0</td>\n",
       "      <td>pass</td>\n",
       "      <td>1.950000</td>\n",
       "    </tr>\n",
       "  </tbody>\n",
       "</table>\n",
       "</div>"
      ],
      "text/plain": [
       "           Date User Rig # Morph  Extraction Duration  Retraction Duration  \\\n",
       "1634 2017-04-19   P2     6    No             1.800000                  0.0   \n",
       "1635 2017-04-19   P2     6   Yes             1.666667                  0.0   \n",
       "1636 2017-04-19   P2     6    No             1.433333                  0.0   \n",
       "1637 2017-04-19   P2     6   Yes             2.350000                  0.0   \n",
       "1638 2017-04-19   P2     6   Yes             2.216667                  0.0   \n",
       "\n",
       "      Patch Duration PCR cycles SM_QC_PF  Recording Duration  \n",
       "1634        4.333333       21.0     fail            2.533333  \n",
       "1635        6.566667       21.0     pass            4.900000  \n",
       "1636        8.033333       21.0     fail            6.600000  \n",
       "1637        7.416667       21.0     pass            5.066667  \n",
       "1638        4.166667       21.0     pass            1.950000  "
      ]
     },
     "execution_count": 17,
     "metadata": {},
     "output_type": "execute_result"
    }
   ],
   "source": [
    "ps.head()"
   ]
  },
  {
   "cell_type": "code",
   "execution_count": 18,
   "metadata": {},
   "outputs": [
    {
     "data": {
      "text/html": [
       "<div>\n",
       "<style scoped>\n",
       "    .dataframe tbody tr th:only-of-type {\n",
       "        vertical-align: middle;\n",
       "    }\n",
       "\n",
       "    .dataframe tbody tr th {\n",
       "        vertical-align: top;\n",
       "    }\n",
       "\n",
       "    .dataframe thead th {\n",
       "        text-align: right;\n",
       "    }\n",
       "</style>\n",
       "<table border=\"1\" class=\"dataframe\">\n",
       "  <thead>\n",
       "    <tr style=\"text-align: right;\">\n",
       "      <th></th>\n",
       "      <th>Date</th>\n",
       "      <th>User</th>\n",
       "      <th>Rig #</th>\n",
       "      <th>Morph</th>\n",
       "      <th>Extraction Duration</th>\n",
       "      <th>Retraction Duration</th>\n",
       "      <th>Patch Duration</th>\n",
       "      <th>PCR cycles</th>\n",
       "      <th>SM_QC_PF</th>\n",
       "      <th>Recording Duration</th>\n",
       "    </tr>\n",
       "  </thead>\n",
       "  <tbody>\n",
       "    <tr>\n",
       "      <th>4889</th>\n",
       "      <td>2017-12-15</td>\n",
       "      <td>PB</td>\n",
       "      <td>3</td>\n",
       "      <td>No</td>\n",
       "      <td>1.283333</td>\n",
       "      <td>0.000000</td>\n",
       "      <td>6.816667</td>\n",
       "      <td>21.0</td>\n",
       "      <td>pass</td>\n",
       "      <td>5.533333</td>\n",
       "    </tr>\n",
       "    <tr>\n",
       "      <th>4890</th>\n",
       "      <td>2017-12-15</td>\n",
       "      <td>PB</td>\n",
       "      <td>3</td>\n",
       "      <td>No</td>\n",
       "      <td>1.366667</td>\n",
       "      <td>0.000000</td>\n",
       "      <td>5.066667</td>\n",
       "      <td>21.0</td>\n",
       "      <td>pass</td>\n",
       "      <td>3.700000</td>\n",
       "    </tr>\n",
       "    <tr>\n",
       "      <th>4891</th>\n",
       "      <td>2017-12-15</td>\n",
       "      <td>PB</td>\n",
       "      <td>3</td>\n",
       "      <td>No</td>\n",
       "      <td>0.983333</td>\n",
       "      <td>0.016667</td>\n",
       "      <td>3.116667</td>\n",
       "      <td>21.0</td>\n",
       "      <td>pass</td>\n",
       "      <td>2.116667</td>\n",
       "    </tr>\n",
       "    <tr>\n",
       "      <th>4892</th>\n",
       "      <td>2017-12-15</td>\n",
       "      <td>PB</td>\n",
       "      <td>3</td>\n",
       "      <td>Questionable</td>\n",
       "      <td>1.350000</td>\n",
       "      <td>0.016667</td>\n",
       "      <td>4.683333</td>\n",
       "      <td>21.0</td>\n",
       "      <td>pass</td>\n",
       "      <td>3.316667</td>\n",
       "    </tr>\n",
       "    <tr>\n",
       "      <th>4893</th>\n",
       "      <td>2017-12-15</td>\n",
       "      <td>PB</td>\n",
       "      <td>3</td>\n",
       "      <td>No</td>\n",
       "      <td>1.233333</td>\n",
       "      <td>0.000000</td>\n",
       "      <td>5.166667</td>\n",
       "      <td>21.0</td>\n",
       "      <td>pass</td>\n",
       "      <td>3.933333</td>\n",
       "    </tr>\n",
       "  </tbody>\n",
       "</table>\n",
       "</div>"
      ],
      "text/plain": [
       "           Date User Rig #         Morph  Extraction Duration  \\\n",
       "4889 2017-12-15   PB     3            No             1.283333   \n",
       "4890 2017-12-15   PB     3            No             1.366667   \n",
       "4891 2017-12-15   PB     3            No             0.983333   \n",
       "4892 2017-12-15   PB     3  Questionable             1.350000   \n",
       "4893 2017-12-15   PB     3            No             1.233333   \n",
       "\n",
       "      Retraction Duration  Patch Duration PCR cycles SM_QC_PF  \\\n",
       "4889             0.000000        6.816667       21.0     pass   \n",
       "4890             0.000000        5.066667       21.0     pass   \n",
       "4891             0.016667        3.116667       21.0     pass   \n",
       "4892             0.016667        4.683333       21.0     pass   \n",
       "4893             0.000000        5.166667       21.0     pass   \n",
       "\n",
       "      Recording Duration  \n",
       "4889            5.533333  \n",
       "4890            3.700000  \n",
       "4891            2.116667  \n",
       "4892            3.316667  \n",
       "4893            3.933333  "
      ]
     },
     "execution_count": 18,
     "metadata": {},
     "output_type": "execute_result"
    }
   ],
   "source": [
    "ps.tail()"
   ]
  },
  {
   "cell_type": "markdown",
   "metadata": {},
   "source": [
    "## Swarmplot, Violinplot & Boxplot of Patch Duration vs. Morphological Calls"
   ]
  },
  {
   "cell_type": "code",
   "execution_count": 19,
   "metadata": {},
   "outputs": [],
   "source": [
    "#Data: 4/19/2017 - 12/15/2017"
   ]
  },
  {
   "cell_type": "code",
   "execution_count": 20,
   "metadata": {},
   "outputs": [
    {
     "data": {
      "image/png": "[encoded data removed]",
      "text/plain": [
       "<matplotlib.figure.Figure at 0xc054e48>"
      ]
     },
     "metadata": {},
     "output_type": "display_data"
    }
   ],
   "source": [
    "sp = sns.swarmplot(x = \"Morph\", y = \"Patch Duration\", data = ps, order = [\"No\", \"Questionable\", \"Yes\"],\n",
    "                   palette = \"Set1\").set_title(\"Patch Duration vs. Morphological Calls\")\n",
    "plt.xlabel(\"Morphological Calls\")\n",
    "plt.ylabel(\"Patch Duration (min)\")\n",
    "plt.savefig(\"swarm_morph_vs_patch_duration\")"
   ]
  },
  {
   "cell_type": "code",
   "execution_count": 21,
   "metadata": {},
   "outputs": [
    {
     "data": {
      "image/png": "[encoded data removed]",
      "text/plain": [
       "<matplotlib.figure.Figure at 0x6ae7c88>"
      ]
     },
     "metadata": {},
     "output_type": "display_data"
    }
   ],
   "source": [
    "vp = sns.violinplot(x = \"Morph\", y = \"Patch Duration\", data = ps, order = [\"No\", \"Questionable\", \"Yes\"],\n",
    "                   palette = \"Set1\").set_title(\"Patch Duration vs. Morphological Calls\")\n",
    "plt.xlabel(\"Morphological Calls\")\n",
    "plt.ylabel(\"Patch Duration (min)\")\n",
    "plt.savefig(\"vio_morph_vs_patch_duration\")"
   ]
  },
  {
   "cell_type": "code",
   "execution_count": 22,
   "metadata": {},
   "outputs": [
    {
     "data": {
      "image/png": "[encoded data removed]",
      "text/plain": [
       "<matplotlib.figure.Figure at 0xc0faac8>"
      ]
     },
     "metadata": {},
     "output_type": "display_data"
    }
   ],
   "source": [
    "bp = sns.boxplot(x = \"Morph\", y = \"Patch Duration\", data = ps, order = [\"No\", \"Questionable\", \"Yes\"],\n",
    "                   palette = \"Set1\").set_title(\"Patch Duration vs. Morphological Calls\")\n",
    "plt.xlabel(\"Morphological Calls\")\n",
    "plt.ylabel(\"Patch Duration (min)\")\n",
    "plt.savefig(\"box_morph_vs_patch_duration\")"
   ]
  },
  {
   "cell_type": "markdown",
   "metadata": {},
   "source": [
    "## Swarmplot, Violinplot & Boxplot of Patch Duration vs. Morphological Calls per User"
   ]
  },
  {
   "cell_type": "code",
   "execution_count": null,
   "metadata": {},
   "outputs": [],
   "source": []
  },
  {
   "cell_type": "code",
   "execution_count": null,
   "metadata": {},
   "outputs": [],
   "source": []
  },
  {
   "cell_type": "code",
   "execution_count": 23,
   "metadata": {},
   "outputs": [
    {
     "data": {
      "text/plain": [
       "Text(0,0.5,u'Patch Duration (min)')"
      ]
     },
     "execution_count": 23,
     "metadata": {},
     "output_type": "execute_result"
    },
    {
     "data": {
      "image/png": "[encoded data removed]",
      "text/plain": [
       "<matplotlib.figure.Figure at 0x6ae7c50>"
      ]
     },
     "metadata": {},
     "output_type": "display_data"
    }
   ],
   "source": [
    "sp = sns.swarmplot(x = \"User\", y = \"Patch Duration\", hue = \"Morph\", data = ps, \n",
    "                   order = [\"P1\", \"P2\", \"P8\", \"P9\", \"PA\", \"PB\"], \n",
    "                   palette = \"Set1\").set_title(\"Patch Duration vs. Morphological Calls per User\")\n",
    "plt.xlabel(\"Morphological Calls\")\n",
    "plt.ylabel(\"Patch Duration (min)\")"
   ]
  },
  {
   "cell_type": "code",
   "execution_count": 24,
   "metadata": {},
   "outputs": [
    {
     "data": {
      "text/plain": [
       "Text(0,0.5,u'Patch Duration (min)')"
      ]
     },
     "execution_count": 24,
     "metadata": {},
     "output_type": "execute_result"
    },
    {
     "data": {
      "image/png": "[encoded data removed]",
      "text/plain": [
       "<matplotlib.figure.Figure at 0xc0fa4a8>"
      ]
     },
     "metadata": {},
     "output_type": "display_data"
    }
   ],
   "source": [
    "bp = sns.boxplot(x = \"User\", y = \"Patch Duration\", hue = \"Morph\", data = ps, \n",
    "                   order = [\"P1\", \"P2\", \"P8\", \"P9\", \"PA\", \"PB\"], \n",
    "                   palette = \"Set1\").set_title(\"Patch Duration vs. Morphological Calls per User\")\n",
    "plt.xlabel(\"Morphological Calls\")\n",
    "plt.ylabel(\"Patch Duration (min)\")"
   ]
  },
  {
   "cell_type": "code",
   "execution_count": null,
   "metadata": {},
   "outputs": [],
   "source": []
  }
 ],
 "metadata": {
  "kernelspec": {
   "display_name": "Python 2",
   "language": "python",
   "name": "python2"
  },
  "language_info": {
   "codemirror_mode": {
    "name": "ipython",
    "version": 2
   },
   "file_extension": ".py",
   "mimetype": "text/x-python",
   "name": "python",
   "nbconvert_exporter": "python",
   "pygments_lexer": "ipython2",
   "version": "2.7.14"
  }
 },
 "nbformat": 4,
 "nbformat_minor": 2
}
