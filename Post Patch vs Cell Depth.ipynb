{
 "cells": [
  {
   "cell_type": "markdown",
   "metadata": {},
   "source": [
    "# Analysis Project: Post Patch vs Cell Depth"
   ]
  },
  {
   "cell_type": "code",
   "execution_count": 1,
   "metadata": {
    "collapsed": true
   },
   "outputs": [],
   "source": [
    "import csv\n",
    "import pandas as pd\n",
    "import numpy as np\n",
    "import matplotlib.pyplot as plt\n",
    "from datetime import datetime\n",
    "from scipy import stats\n",
    "import math\n",
    "import seaborn as sns\n",
    "%matplotlib inline"
   ]
  },
  {
   "cell_type": "code",
   "execution_count": 2,
   "metadata": {
    "collapsed": true
   },
   "outputs": [],
   "source": [
    "ps = pd.read_csv(\"patch_seq_log_mouse.csv\")"
   ]
  },
  {
   "cell_type": "code",
   "execution_count": 3,
   "metadata": {},
   "outputs": [
    {
     "data": {
      "text/html": [
       "<div>\n",
       "<style>\n",
       "    .dataframe thead tr:only-child th {\n",
       "        text-align: right;\n",
       "    }\n",
       "\n",
       "    .dataframe thead th {\n",
       "        text-align: left;\n",
       "    }\n",
       "\n",
       "    .dataframe tbody tr th {\n",
       "        vertical-align: top;\n",
       "    }\n",
       "</style>\n",
       "<table border=\"1\" class=\"dataframe\">\n",
       "  <thead>\n",
       "    <tr style=\"text-align: right;\">\n",
       "      <th></th>\n",
       "      <th>Date</th>\n",
       "      <th>Depth (um)</th>\n",
       "      <th>Post patch?</th>\n",
       "      <th>Nucleus sucked in?</th>\n",
       "      <th>Post patch pipette R</th>\n",
       "      <th>PCR cycles</th>\n",
       "      <th>SM_QC_PF</th>\n",
       "      <th>Bad dates</th>\n",
       "    </tr>\n",
       "  </thead>\n",
       "  <tbody>\n",
       "    <tr>\n",
       "      <th>4968</th>\n",
       "      <td>2017-04-19</td>\n",
       "      <td>56.3</td>\n",
       "      <td>Outside-Out</td>\n",
       "      <td>NaN</td>\n",
       "      <td>NaN</td>\n",
       "      <td>21.0</td>\n",
       "      <td>fail</td>\n",
       "      <td>NaN</td>\n",
       "    </tr>\n",
       "    <tr>\n",
       "      <th>4969</th>\n",
       "      <td>2017-04-19</td>\n",
       "      <td>28.5</td>\n",
       "      <td>Outside-Out</td>\n",
       "      <td>NaN</td>\n",
       "      <td>NaN</td>\n",
       "      <td>21.0</td>\n",
       "      <td>pass</td>\n",
       "      <td>NaN</td>\n",
       "    </tr>\n",
       "    <tr>\n",
       "      <th>4970</th>\n",
       "      <td>2017-04-19</td>\n",
       "      <td>53.8</td>\n",
       "      <td>No-Seal</td>\n",
       "      <td>NaN</td>\n",
       "      <td>NaN</td>\n",
       "      <td>21.0</td>\n",
       "      <td>fail</td>\n",
       "      <td>NaN</td>\n",
       "    </tr>\n",
       "    <tr>\n",
       "      <th>4971</th>\n",
       "      <td>2017-04-19</td>\n",
       "      <td>24.5</td>\n",
       "      <td>Nucleated</td>\n",
       "      <td>NaN</td>\n",
       "      <td>NaN</td>\n",
       "      <td>21.0</td>\n",
       "      <td>pass</td>\n",
       "      <td>NaN</td>\n",
       "    </tr>\n",
       "    <tr>\n",
       "      <th>4972</th>\n",
       "      <td>2017-04-19</td>\n",
       "      <td>40.7</td>\n",
       "      <td>Outside-Out</td>\n",
       "      <td>NaN</td>\n",
       "      <td>NaN</td>\n",
       "      <td>21.0</td>\n",
       "      <td>pass</td>\n",
       "      <td>NaN</td>\n",
       "    </tr>\n",
       "  </tbody>\n",
       "</table>\n",
       "</div>"
      ],
      "text/plain": [
       "           Date Depth (um)  Post patch? Nucleus sucked in?  \\\n",
       "4968 2017-04-19       56.3  Outside-Out                NaN   \n",
       "4969 2017-04-19       28.5  Outside-Out                NaN   \n",
       "4970 2017-04-19       53.8      No-Seal                NaN   \n",
       "4971 2017-04-19       24.5    Nucleated                NaN   \n",
       "4972 2017-04-19       40.7  Outside-Out                NaN   \n",
       "\n",
       "      Post patch pipette R  PCR cycles SM_QC_PF Bad dates  \n",
       "4968                   NaN        21.0     fail       NaN  \n",
       "4969                   NaN        21.0     pass       NaN  \n",
       "4970                   NaN        21.0     fail       NaN  \n",
       "4971                   NaN        21.0     pass       NaN  \n",
       "4972                   NaN        21.0     pass       NaN  "
      ]
     },
     "execution_count": 3,
     "metadata": {},
     "output_type": "execute_result"
    }
   ],
   "source": [
    "select = [\"Date\", \"Depth (um)\", \"Post patch?\", \"Nucleus sucked in?\", \"Post patch pipette R\", \"PCR cycles\", \"SM_QC_PF\", \"Bad dates\"]\n",
    "ps = ps[select]\n",
    "\n",
    "#Changing Date Format\n",
    "ps[\"Date\"] = pd.to_datetime(ps[\"Date\"], format = \"%y%m%d\")\n",
    "\n",
    "#Categories\n",
    "ps[\"Post patch?\"].astype(\"category\")\n",
    "ps[\"Nucleus sucked in?\"].astype(\"category\")\n",
    "ps[\"SM_QC_PF\"] = ps[\"SM_QC_PF\"].astype(\"category\")\n",
    "\n",
    "#Filtering Columns\n",
    "ps = ps[ps[\"PCR cycles\"] == 21]      #shows 21 pcr cycles\n",
    "ps = ps[ps[\"SM_QC_PF\"] != \"cnt\"]     #shows everything except cnt\n",
    "ps = ps[ps[\"Bad dates\"] != \"x\"]      #shows everthing except x\n",
    "\n",
    "#ps.dropna(subset = [\"Post patch?\", \"Nucleus sucked in?\"], returns start date 10/02/17 and data after that date\n",
    "ps.dropna(subset = [\"Post patch?\", \"SM_QC_PF\"], inplace = True)\n",
    "ps.head()"
   ]
  },
  {
   "cell_type": "markdown",
   "metadata": {},
   "source": [
    "## Definitions"
   ]
  },
  {
   "cell_type": "code",
   "execution_count": 4,
   "metadata": {
    "collapsed": true
   },
   "outputs": [],
   "source": [
    "#Clarify if cutoff should be 500 and 501 or 500 and 499\n",
    "#Defines each post patch category \n",
    "\n",
    "def nucleated(x):\n",
    "    nucleus = x[(x[\"Post patch?\"] == \"Nucleated\") | (((x[\"Post patch?\"] == \"nucleus_visible\") | (x[\"Post patch?\"] == \"nucleus_present\")) & (x[\"Post patch pipette R\"] >= 501))]\n",
    "    return nucleus\n",
    "\n",
    "def partial_nucleated(y):\n",
    "    partial = y[(y[\"Post patch?\"] == 'Partial-Nucleus') | (((y['Post patch?'] == 'nucleus_present') | (y['Post patch?'] == 'nucleus_visible')) & (y[\"Post patch pipette R\"] <= 500))]\n",
    "    return partial\n",
    "\n",
    "def outside_out(z):\n",
    "    outside = z[(z[\"Post patch?\"] == 'Outside-Out') | (((z['Post patch?'] == 'nucleus_absent') | (z['Post patch?'] == 'no_nuclues_visible')) & (z['Post patch pipette R'] >= 501))]\n",
    "    return outside\n",
    "\n",
    "def no_seal(w): \n",
    "    no = w[(w[\"Post patch?\"] == 'No-Seal') | (((w['Post patch?'] == 'nucleus_absent') | (w['Post patch?'] == 'no_nucleus_visible')) & (w['Post patch pipette R'] <= 500))]\n",
    "    return no\n",
    "    \n",
    "def entire_cell(v):\n",
    "    entire = v[(v[\"Post patch?\"] == 'Entire-Cell') | (v['Post patch?'] == 'entire_cell')]\n",
    "    return entire"
   ]
  },
  {
   "cell_type": "markdown",
   "metadata": {},
   "source": [
    "## Creating a Dataframe by Post Patch Class"
   ]
  },
  {
   "cell_type": "code",
   "execution_count": 5,
   "metadata": {},
   "outputs": [
    {
     "name": "stderr",
     "output_type": "stream",
     "text": [
      "C:\\Users\\kumar\\Anaconda3\\lib\\site-packages\\ipykernel_launcher.py:5: SettingWithCopyWarning: \n",
      "A value is trying to be set on a copy of a slice from a DataFrame.\n",
      "Try using .loc[row_indexer,col_indexer] = value instead\n",
      "\n",
      "See the caveats in the documentation: http://pandas.pydata.org/pandas-docs/stable/indexing.html#indexing-view-versus-copy\n",
      "  \"\"\"\n",
      "C:\\Users\\kumar\\Anaconda3\\lib\\site-packages\\ipykernel_launcher.py:8: SettingWithCopyWarning: \n",
      "A value is trying to be set on a copy of a slice from a DataFrame.\n",
      "Try using .loc[row_indexer,col_indexer] = value instead\n",
      "\n",
      "See the caveats in the documentation: http://pandas.pydata.org/pandas-docs/stable/indexing.html#indexing-view-versus-copy\n",
      "  \n",
      "C:\\Users\\kumar\\Anaconda3\\lib\\site-packages\\ipykernel_launcher.py:11: SettingWithCopyWarning: \n",
      "A value is trying to be set on a copy of a slice from a DataFrame.\n",
      "Try using .loc[row_indexer,col_indexer] = value instead\n",
      "\n",
      "See the caveats in the documentation: http://pandas.pydata.org/pandas-docs/stable/indexing.html#indexing-view-versus-copy\n",
      "  # This is added back by InteractiveShellApp.init_path()\n",
      "C:\\Users\\kumar\\Anaconda3\\lib\\site-packages\\ipykernel_launcher.py:14: SettingWithCopyWarning: \n",
      "A value is trying to be set on a copy of a slice from a DataFrame.\n",
      "Try using .loc[row_indexer,col_indexer] = value instead\n",
      "\n",
      "See the caveats in the documentation: http://pandas.pydata.org/pandas-docs/stable/indexing.html#indexing-view-versus-copy\n",
      "  \n",
      "C:\\Users\\kumar\\Anaconda3\\lib\\site-packages\\ipykernel_launcher.py:17: SettingWithCopyWarning: \n",
      "A value is trying to be set on a copy of a slice from a DataFrame.\n",
      "Try using .loc[row_indexer,col_indexer] = value instead\n",
      "\n",
      "See the caveats in the documentation: http://pandas.pydata.org/pandas-docs/stable/indexing.html#indexing-view-versus-copy\n"
     ]
    },
    {
     "data": {
      "text/html": [
       "<div>\n",
       "<style>\n",
       "    .dataframe thead tr:only-child th {\n",
       "        text-align: right;\n",
       "    }\n",
       "\n",
       "    .dataframe thead th {\n",
       "        text-align: left;\n",
       "    }\n",
       "\n",
       "    .dataframe tbody tr th {\n",
       "        vertical-align: top;\n",
       "    }\n",
       "</style>\n",
       "<table border=\"1\" class=\"dataframe\">\n",
       "  <thead>\n",
       "    <tr style=\"text-align: right;\">\n",
       "      <th></th>\n",
       "      <th>Date</th>\n",
       "      <th>Depth (um)</th>\n",
       "      <th>Post patch?</th>\n",
       "      <th>Nucleus sucked in?</th>\n",
       "      <th>Post patch pipette R</th>\n",
       "      <th>PCR cycles</th>\n",
       "      <th>SM_QC_PF</th>\n",
       "      <th>Bad dates</th>\n",
       "    </tr>\n",
       "  </thead>\n",
       "  <tbody>\n",
       "    <tr>\n",
       "      <th>4968</th>\n",
       "      <td>2017-04-19</td>\n",
       "      <td>56.3</td>\n",
       "      <td>Outside-Out</td>\n",
       "      <td>NaN</td>\n",
       "      <td>NaN</td>\n",
       "      <td>21.0</td>\n",
       "      <td>fail</td>\n",
       "      <td>NaN</td>\n",
       "    </tr>\n",
       "    <tr>\n",
       "      <th>4969</th>\n",
       "      <td>2017-04-19</td>\n",
       "      <td>28.5</td>\n",
       "      <td>Outside-Out</td>\n",
       "      <td>NaN</td>\n",
       "      <td>NaN</td>\n",
       "      <td>21.0</td>\n",
       "      <td>pass</td>\n",
       "      <td>NaN</td>\n",
       "    </tr>\n",
       "    <tr>\n",
       "      <th>4970</th>\n",
       "      <td>2017-04-19</td>\n",
       "      <td>53.8</td>\n",
       "      <td>No-Seal</td>\n",
       "      <td>NaN</td>\n",
       "      <td>NaN</td>\n",
       "      <td>21.0</td>\n",
       "      <td>fail</td>\n",
       "      <td>NaN</td>\n",
       "    </tr>\n",
       "    <tr>\n",
       "      <th>4971</th>\n",
       "      <td>2017-04-19</td>\n",
       "      <td>24.5</td>\n",
       "      <td>Nucleated</td>\n",
       "      <td>NaN</td>\n",
       "      <td>NaN</td>\n",
       "      <td>21.0</td>\n",
       "      <td>pass</td>\n",
       "      <td>NaN</td>\n",
       "    </tr>\n",
       "    <tr>\n",
       "      <th>4972</th>\n",
       "      <td>2017-04-19</td>\n",
       "      <td>40.7</td>\n",
       "      <td>Outside-Out</td>\n",
       "      <td>NaN</td>\n",
       "      <td>NaN</td>\n",
       "      <td>21.0</td>\n",
       "      <td>pass</td>\n",
       "      <td>NaN</td>\n",
       "    </tr>\n",
       "  </tbody>\n",
       "</table>\n",
       "</div>"
      ],
      "text/plain": [
       "           Date Depth (um)  Post patch? Nucleus sucked in?  \\\n",
       "4968 2017-04-19       56.3  Outside-Out                NaN   \n",
       "4969 2017-04-19       28.5  Outside-Out                NaN   \n",
       "4970 2017-04-19       53.8      No-Seal                NaN   \n",
       "4971 2017-04-19       24.5    Nucleated                NaN   \n",
       "4972 2017-04-19       40.7  Outside-Out                NaN   \n",
       "\n",
       "      Post patch pipette R  PCR cycles SM_QC_PF Bad dates  \n",
       "4968                   NaN        21.0     fail       NaN  \n",
       "4969                   NaN        21.0     pass       NaN  \n",
       "4970                   NaN        21.0     fail       NaN  \n",
       "4971                   NaN        21.0     pass       NaN  \n",
       "4972                   NaN        21.0     pass       NaN  "
      ]
     },
     "execution_count": 5,
     "metadata": {},
     "output_type": "execute_result"
    }
   ],
   "source": [
    "#Labelling each post patch category\n",
    "#This creates a column returning the \"___\" for the defined categories above\n",
    "\n",
    "nuc = nucleated(ps)\n",
    "nuc[\"post patch class\"] = \"Nucleated\"\n",
    "\n",
    "part_nuc = partial_nucleated(ps)\n",
    "part_nuc[\"post patch class\"] = \"Partial nucleated\"\n",
    "\n",
    "out_out = outside_out(ps)\n",
    "out_out[\"post patch class\"] = \"Outside out\"\n",
    "\n",
    "noSeal = no_seal(ps)\n",
    "noSeal[\"post patch class\"] = \"No seal\"\n",
    "\n",
    "entirecell = entire_cell(ps)\n",
    "entirecell[\"post patch class\"] = \"Entire Cell\"\n",
    "ps.head()"
   ]
  },
  {
   "cell_type": "code",
   "execution_count": 6,
   "metadata": {},
   "outputs": [
    {
     "data": {
      "text/html": [
       "<div>\n",
       "<style>\n",
       "    .dataframe thead tr:only-child th {\n",
       "        text-align: right;\n",
       "    }\n",
       "\n",
       "    .dataframe thead th {\n",
       "        text-align: left;\n",
       "    }\n",
       "\n",
       "    .dataframe tbody tr th {\n",
       "        vertical-align: top;\n",
       "    }\n",
       "</style>\n",
       "<table border=\"1\" class=\"dataframe\">\n",
       "  <thead>\n",
       "    <tr style=\"text-align: right;\">\n",
       "      <th></th>\n",
       "      <th>Date</th>\n",
       "      <th>Depth (um)</th>\n",
       "      <th>Post patch?</th>\n",
       "      <th>Nucleus sucked in?</th>\n",
       "      <th>Post patch pipette R</th>\n",
       "      <th>PCR cycles</th>\n",
       "      <th>SM_QC_PF</th>\n",
       "      <th>Bad dates</th>\n",
       "      <th>post patch class</th>\n",
       "    </tr>\n",
       "  </thead>\n",
       "  <tbody>\n",
       "    <tr>\n",
       "      <th>4971</th>\n",
       "      <td>2017-04-19</td>\n",
       "      <td>24.5</td>\n",
       "      <td>Nucleated</td>\n",
       "      <td>NaN</td>\n",
       "      <td>NaN</td>\n",
       "      <td>21.0</td>\n",
       "      <td>pass</td>\n",
       "      <td>NaN</td>\n",
       "      <td>Nucleated</td>\n",
       "    </tr>\n",
       "    <tr>\n",
       "      <th>4973</th>\n",
       "      <td>2017-04-19</td>\n",
       "      <td>17.6</td>\n",
       "      <td>Nucleated</td>\n",
       "      <td>NaN</td>\n",
       "      <td>NaN</td>\n",
       "      <td>21.0</td>\n",
       "      <td>pass</td>\n",
       "      <td>NaN</td>\n",
       "      <td>Nucleated</td>\n",
       "    </tr>\n",
       "    <tr>\n",
       "      <th>4975</th>\n",
       "      <td>2017-04-19</td>\n",
       "      <td>40.2</td>\n",
       "      <td>Nucleated</td>\n",
       "      <td>NaN</td>\n",
       "      <td>NaN</td>\n",
       "      <td>21.0</td>\n",
       "      <td>pass</td>\n",
       "      <td>NaN</td>\n",
       "      <td>Nucleated</td>\n",
       "    </tr>\n",
       "    <tr>\n",
       "      <th>4988</th>\n",
       "      <td>2017-04-20</td>\n",
       "      <td>56.2</td>\n",
       "      <td>Nucleated</td>\n",
       "      <td>NaN</td>\n",
       "      <td>NaN</td>\n",
       "      <td>21.0</td>\n",
       "      <td>pass</td>\n",
       "      <td>NaN</td>\n",
       "      <td>Nucleated</td>\n",
       "    </tr>\n",
       "    <tr>\n",
       "      <th>4997</th>\n",
       "      <td>2017-04-20</td>\n",
       "      <td>55.4</td>\n",
       "      <td>Nucleated</td>\n",
       "      <td>NaN</td>\n",
       "      <td>NaN</td>\n",
       "      <td>21.0</td>\n",
       "      <td>pass</td>\n",
       "      <td>NaN</td>\n",
       "      <td>Nucleated</td>\n",
       "    </tr>\n",
       "    <tr>\n",
       "      <th>5009</th>\n",
       "      <td>2017-04-20</td>\n",
       "      <td>33.8</td>\n",
       "      <td>Nucleated</td>\n",
       "      <td>NaN</td>\n",
       "      <td>NaN</td>\n",
       "      <td>21.0</td>\n",
       "      <td>pass</td>\n",
       "      <td>NaN</td>\n",
       "      <td>Nucleated</td>\n",
       "    </tr>\n",
       "    <tr>\n",
       "      <th>5022</th>\n",
       "      <td>2017-04-21</td>\n",
       "      <td>NaN</td>\n",
       "      <td>Nucleated</td>\n",
       "      <td>NaN</td>\n",
       "      <td>NaN</td>\n",
       "      <td>21.0</td>\n",
       "      <td>pass</td>\n",
       "      <td>NaN</td>\n",
       "      <td>Nucleated</td>\n",
       "    </tr>\n",
       "    <tr>\n",
       "      <th>5026</th>\n",
       "      <td>2017-04-21</td>\n",
       "      <td>44.9</td>\n",
       "      <td>Nucleated</td>\n",
       "      <td>NaN</td>\n",
       "      <td>NaN</td>\n",
       "      <td>21.0</td>\n",
       "      <td>pass</td>\n",
       "      <td>NaN</td>\n",
       "      <td>Nucleated</td>\n",
       "    </tr>\n",
       "    <tr>\n",
       "      <th>5027</th>\n",
       "      <td>2017-04-21</td>\n",
       "      <td>24.2</td>\n",
       "      <td>Nucleated</td>\n",
       "      <td>NaN</td>\n",
       "      <td>NaN</td>\n",
       "      <td>21.0</td>\n",
       "      <td>pass</td>\n",
       "      <td>NaN</td>\n",
       "      <td>Nucleated</td>\n",
       "    </tr>\n",
       "    <tr>\n",
       "      <th>5035</th>\n",
       "      <td>2017-04-21</td>\n",
       "      <td>31.2</td>\n",
       "      <td>Nucleated</td>\n",
       "      <td>NaN</td>\n",
       "      <td>NaN</td>\n",
       "      <td>21.0</td>\n",
       "      <td>pass</td>\n",
       "      <td>NaN</td>\n",
       "      <td>Nucleated</td>\n",
       "    </tr>\n",
       "  </tbody>\n",
       "</table>\n",
       "</div>"
      ],
      "text/plain": [
       "           Date Depth (um) Post patch? Nucleus sucked in?  \\\n",
       "4971 2017-04-19       24.5   Nucleated                NaN   \n",
       "4973 2017-04-19       17.6   Nucleated                NaN   \n",
       "4975 2017-04-19       40.2   Nucleated                NaN   \n",
       "4988 2017-04-20       56.2   Nucleated                NaN   \n",
       "4997 2017-04-20       55.4   Nucleated                NaN   \n",
       "5009 2017-04-20       33.8   Nucleated                NaN   \n",
       "5022 2017-04-21        NaN   Nucleated                NaN   \n",
       "5026 2017-04-21       44.9   Nucleated                NaN   \n",
       "5027 2017-04-21       24.2   Nucleated                NaN   \n",
       "5035 2017-04-21       31.2   Nucleated                NaN   \n",
       "\n",
       "      Post patch pipette R  PCR cycles SM_QC_PF Bad dates post patch class  \n",
       "4971                   NaN        21.0     pass       NaN        Nucleated  \n",
       "4973                   NaN        21.0     pass       NaN        Nucleated  \n",
       "4975                   NaN        21.0     pass       NaN        Nucleated  \n",
       "4988                   NaN        21.0     pass       NaN        Nucleated  \n",
       "4997                   NaN        21.0     pass       NaN        Nucleated  \n",
       "5009                   NaN        21.0     pass       NaN        Nucleated  \n",
       "5022                   NaN        21.0     pass       NaN        Nucleated  \n",
       "5026                   NaN        21.0     pass       NaN        Nucleated  \n",
       "5027                   NaN        21.0     pass       NaN        Nucleated  \n",
       "5035                   NaN        21.0     pass       NaN        Nucleated  "
      ]
     },
     "execution_count": 6,
     "metadata": {},
     "output_type": "execute_result"
    }
   ],
   "source": [
    "#This puts data in order the frames list \n",
    "#All nucleated data is shown then partial nuc then outside-out...as continues inside brackets\n",
    "\n",
    "frames = [nuc, part_nuc, out_out, noSeal, entirecell]\n",
    "ps = pd.concat(frames)\n",
    "ps.head(10)"
   ]
  },
  {
   "cell_type": "markdown",
   "metadata": {},
   "source": [
    "## Trial & Error Section"
   ]
  },
  {
   "cell_type": "code",
   "execution_count": 7,
   "metadata": {},
   "outputs": [
    {
     "data": {
      "text/plain": [
       "Nucleated            851\n",
       "No seal              641\n",
       "Partial nucleated    235\n",
       "Outside out          110\n",
       "Entire Cell           22\n",
       "Name: post patch class, dtype: int64"
      ]
     },
     "execution_count": 7,
     "metadata": {},
     "output_type": "execute_result"
    }
   ],
   "source": [
    "ps[\"post patch class\"].value_counts()"
   ]
  },
  {
   "cell_type": "code",
   "execution_count": 8,
   "metadata": {},
   "outputs": [
    {
     "name": "stdout",
     "output_type": "stream",
     "text": [
      "<class 'pandas.core.frame.DataFrame'>\n",
      "Int64Index: 1859 entries, 4971 to 7588\n",
      "Data columns (total 9 columns):\n",
      "Date                    1859 non-null datetime64[ns]\n",
      "Depth (um)              1588 non-null object\n",
      "Post patch?             1859 non-null object\n",
      "Nucleus sucked in?      239 non-null object\n",
      "Post patch pipette R    239 non-null float64\n",
      "PCR cycles              1859 non-null float64\n",
      "SM_QC_PF                1859 non-null category\n",
      "Bad dates               0 non-null object\n",
      "post patch class        1859 non-null object\n",
      "dtypes: category(1), datetime64[ns](1), float64(2), object(5)\n",
      "memory usage: 132.7+ KB\n"
     ]
    }
   ],
   "source": [
    "ps.info()"
   ]
  },
  {
   "cell_type": "code",
   "execution_count": 9,
   "metadata": {},
   "outputs": [
    {
     "data": {
      "text/plain": [
       "<matplotlib.axes._subplots.AxesSubplot at 0x23afc0330f0>"
      ]
     },
     "execution_count": 9,
     "metadata": {},
     "output_type": "execute_result"
    },
    {
     "data": {
      "image/png": "[encoded data removed]",
      "text/plain": [
       "<matplotlib.figure.Figure at 0x23afc035710>"
      ]
     },
     "metadata": {},
     "output_type": "display_data"
    }
   ],
   "source": [
    "#This is not the right plot but using for trial and error\n",
    "#This is not the right plot but using for trial and error\n",
    "\n",
    "ps[\"Depth (um)\"] = pd.to_numeric(ps[\"Depth (um)\"].str.replace(' ',''), errors ='force')\n",
    "ps[\"post patch class\"] = ps[\"post patch class\"].astype(\"category\")\n",
    "sns.swarmplot(x='post patch class', y='Depth (um)', size = 5, data=ps)"
   ]
  },
  {
   "cell_type": "code",
   "execution_count": 10,
   "metadata": {},
   "outputs": [
    {
     "data": {
      "text/plain": [
       "Text(0.5,1,'Post patch vs Cell Depth (um)')"
      ]
     },
     "execution_count": 10,
     "metadata": {},
     "output_type": "execute_result"
    },
    {
     "data": {
      "image/png": "[encoded data removed]",
      "text/plain": [
       "<matplotlib.figure.Figure at 0x23afc0335c0>"
      ]
     },
     "metadata": {},
     "output_type": "display_data"
    }
   ],
   "source": [
    "#This is not the right plot but using for trial and error\n",
    "\n",
    "sns.violinplot(x='post patch class', y='Depth (um)', data=ps)\n",
    "plt.title(\"Post patch vs Cell Depth (um)\")"
   ]
  },
  {
   "cell_type": "code",
   "execution_count": 11,
   "metadata": {},
   "outputs": [
    {
     "name": "stdout",
     "output_type": "stream",
     "text": [
      "<class 'pandas.core.frame.DataFrame'>\n",
      "Int64Index: 1859 entries, 4971 to 7588\n",
      "Data columns (total 9 columns):\n",
      "Date                    1859 non-null datetime64[ns]\n",
      "Depth (um)              1585 non-null float64\n",
      "Post patch?             1859 non-null object\n",
      "Nucleus sucked in?      239 non-null object\n",
      "Post patch pipette R    239 non-null float64\n",
      "PCR cycles              1859 non-null float64\n",
      "SM_QC_PF                1859 non-null category\n",
      "Bad dates               0 non-null object\n",
      "post patch class        1859 non-null category\n",
      "dtypes: category(2), datetime64[ns](1), float64(3), object(3)\n",
      "memory usage: 200.2+ KB\n"
     ]
    }
   ],
   "source": [
    "ps.info()"
   ]
  },
  {
   "cell_type": "code",
   "execution_count": null,
   "metadata": {
    "collapsed": true
   },
   "outputs": [],
   "source": []
  },
  {
   "cell_type": "code",
   "execution_count": null,
   "metadata": {
    "collapsed": true
   },
   "outputs": [],
   "source": []
  },
  {
   "cell_type": "code",
   "execution_count": null,
   "metadata": {
    "collapsed": true
   },
   "outputs": [],
   "source": []
  },
  {
   "cell_type": "code",
   "execution_count": null,
   "metadata": {
    "collapsed": true
   },
   "outputs": [],
   "source": []
  },
  {
   "cell_type": "code",
   "execution_count": 12,
   "metadata": {},
   "outputs": [
    {
     "data": {
      "text/html": [
       "<div>\n",
       "<style>\n",
       "    .dataframe thead tr:only-child th {\n",
       "        text-align: right;\n",
       "    }\n",
       "\n",
       "    .dataframe thead th {\n",
       "        text-align: left;\n",
       "    }\n",
       "\n",
       "    .dataframe tbody tr th {\n",
       "        vertical-align: top;\n",
       "    }\n",
       "</style>\n",
       "<table border=\"1\" class=\"dataframe\">\n",
       "  <thead>\n",
       "    <tr style=\"text-align: right;\">\n",
       "      <th></th>\n",
       "      <th>Date</th>\n",
       "      <th>Depth (um)</th>\n",
       "      <th>Nucleus sucked in?</th>\n",
       "      <th>Post patch pipette R</th>\n",
       "      <th>post patch class</th>\n",
       "    </tr>\n",
       "  </thead>\n",
       "  <tbody>\n",
       "    <tr>\n",
       "      <th>4971</th>\n",
       "      <td>2017-04-19</td>\n",
       "      <td>24.5</td>\n",
       "      <td>NaN</td>\n",
       "      <td>NaN</td>\n",
       "      <td>Nucleated</td>\n",
       "    </tr>\n",
       "    <tr>\n",
       "      <th>4973</th>\n",
       "      <td>2017-04-19</td>\n",
       "      <td>17.6</td>\n",
       "      <td>NaN</td>\n",
       "      <td>NaN</td>\n",
       "      <td>Nucleated</td>\n",
       "    </tr>\n",
       "    <tr>\n",
       "      <th>4975</th>\n",
       "      <td>2017-04-19</td>\n",
       "      <td>40.2</td>\n",
       "      <td>NaN</td>\n",
       "      <td>NaN</td>\n",
       "      <td>Nucleated</td>\n",
       "    </tr>\n",
       "    <tr>\n",
       "      <th>4988</th>\n",
       "      <td>2017-04-20</td>\n",
       "      <td>56.2</td>\n",
       "      <td>NaN</td>\n",
       "      <td>NaN</td>\n",
       "      <td>Nucleated</td>\n",
       "    </tr>\n",
       "    <tr>\n",
       "      <th>4997</th>\n",
       "      <td>2017-04-20</td>\n",
       "      <td>55.4</td>\n",
       "      <td>NaN</td>\n",
       "      <td>NaN</td>\n",
       "      <td>Nucleated</td>\n",
       "    </tr>\n",
       "  </tbody>\n",
       "</table>\n",
       "</div>"
      ],
      "text/plain": [
       "           Date  Depth (um) Nucleus sucked in?  Post patch pipette R  \\\n",
       "4971 2017-04-19        24.5                NaN                   NaN   \n",
       "4973 2017-04-19        17.6                NaN                   NaN   \n",
       "4975 2017-04-19        40.2                NaN                   NaN   \n",
       "4988 2017-04-20        56.2                NaN                   NaN   \n",
       "4997 2017-04-20        55.4                NaN                   NaN   \n",
       "\n",
       "     post patch class  \n",
       "4971        Nucleated  \n",
       "4973        Nucleated  \n",
       "4975        Nucleated  \n",
       "4988        Nucleated  \n",
       "4997        Nucleated  "
      ]
     },
     "execution_count": 12,
     "metadata": {},
     "output_type": "execute_result"
    }
   ],
   "source": [
    "#Not sure about this just experimenting, refer to Rusty's example of Post patch by cre-line\n",
    "#Dropping specific columns that are labeled within the brackets\n",
    "#You don't need to add labels or axis, that is how the method is labeled, press shift+tab to check\n",
    "\n",
    "ps0 = ps.drop(labels = [\"Post patch?\", \"PCR cycles\", \"SM_QC_PF\", \"Bad dates\"], axis = 1)\n",
    "ps0.head()"
   ]
  },
  {
   "cell_type": "code",
   "execution_count": 13,
   "metadata": {
    "collapsed": true
   },
   "outputs": [],
   "source": [
    "#Created a new csv with the updated ps0 \n",
    "ps0.to_csv(\"depth_post\")"
   ]
  },
  {
   "cell_type": "markdown",
   "metadata": {
    "collapsed": true
   },
   "source": [
    "## Misc"
   ]
  },
  {
   "cell_type": "markdown",
   "metadata": {},
   "source": [
    "ps[\"Post patch?\"].value_counts()\n",
    "ps[\"Nucleus sucked in?\"].value_counts()\n",
    "ps.dtypes\n",
    "ps.info()"
   ]
  },
  {
   "cell_type": "markdown",
   "metadata": {},
   "source": [
    "All categories for post patch...up till 10/02/2017 \n",
    "All categories for nucleus sucked in?... starts at 10/02/2017\n",
    "For post patch pipette R and nucleus sucked in?... starts at 10/02/2017\n",
    "\n",
    "depth = numerical \n",
    "post patch? = categorical \n",
    "post patch pipette R = numerical \n",
    "nucleus sucked in? = categorical"
   ]
  },
  {
   "cell_type": "markdown",
   "metadata": {},
   "source": [
    "## Graphing"
   ]
  },
  {
   "cell_type": "markdown",
   "metadata": {},
   "source": [
    "Either use Box & Whisker Plot OR Histogram. \n",
    "But Whisker Plot would be easier and cleaner to display 5 categories.\n",
    "You need to display 5 categories of patching and the range of the depth values. \n",
    "\n",
    "Displayed data\n",
    "Title = Post Patch vs Cell Depth\n",
    "x-axis = patching categories \n",
    "y-axis = Cell Depth"
   ]
  },
  {
   "cell_type": "code",
   "execution_count": 14,
   "metadata": {},
   "outputs": [],
   "source": [
    "##Creating a box Plot Example\n",
    "\n",
    "#np.random.seed(10)\n",
    "#collectn_1 = np.random.normal(100, 10, 200)\n",
    "#collectn_2 = np.random.normal(80, 30, 200)\n",
    "#collectn_3 = np.random.normal(90, 20, 200)\n",
    "#collectn_4 = np.random.normal(70, 25, 200)\n",
    "\n",
    "## combine these different collections into a list    \n",
    "#data_to_plot = [collectn_1, collectn_2, collectn_3, collectn_4]\n",
    "\n",
    "## Create a figure instance\n",
    "#fig = plt.figure(1, figsize=(9, 6))\n",
    "\n",
    "## Create an axes instance\n",
    "#ax = fig.add_subplot(111)\n",
    "\n",
    "## Create the boxplot\n",
    "#bp = ax.boxplot(data_to_plot)\n",
    "\n",
    "## Save the figure\n",
    "#fig.savefig('fig1.png', bbox_inches='tight')\n",
    "\n",
    "## Custom x-axis labels\n",
    "#ax.set_xticklabels(['Sample1', 'Sample2', 'Sample3', 'Sample4'])\n",
    "\n",
    "## Remove top axes and right axes ticks\n",
    "#ax.get_xaxis().tick_bottom()\n",
    "#ax.get_yaxis().tick_left()"
   ]
  },
  {
   "cell_type": "code",
   "execution_count": null,
   "metadata": {
    "collapsed": true
   },
   "outputs": [],
   "source": []
  }
 ],
 "metadata": {
  "kernelspec": {
   "display_name": "Python 3",
   "language": "python",
   "name": "python3"
  },
  "language_info": {
   "codemirror_mode": {
    "name": "ipython",
    "version": 3
   },
   "file_extension": ".py",
   "mimetype": "text/x-python",
   "name": "python",
   "nbconvert_exporter": "python",
   "pygments_lexer": "ipython3",
   "version": "3.6.3"
  }
 },
 "nbformat": 4,
 "nbformat_minor": 2
}
