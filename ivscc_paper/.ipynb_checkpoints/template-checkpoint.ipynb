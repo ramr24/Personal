{
 "cells": [
  {
   "cell_type": "markdown",
   "metadata": {},
   "source": [
    "# Template for IVSCC paper scripts"
   ]
  },
  {
   "cell_type": "markdown",
   "metadata": {},
   "source": [
    "#### CSVs Dates"
   ]
  },
  {
   "cell_type": "code",
   "execution_count": 11,
   "metadata": {},
   "outputs": [
    {
     "name": "stdout",
     "output_type": "stream",
     "text": [
      "jem_metadata.csv: 10/29/2019\n",
      "shiny_mouse.csv: 10/29/2019\n",
      "cell_types_mouse.csv: 10/29/2019\n"
     ]
    }
   ],
   "source": [
    "print \"jem_metadata.csv: 10/29/2019\"\n",
    "print \"shiny_mouse.csv: 10/29/2019\"\n",
    "print \"cell_types_mouse.csv: 10/29/2019\""
   ]
  },
  {
   "cell_type": "markdown",
   "metadata": {},
   "source": [
    "#### Imports"
   ]
  },
  {
   "cell_type": "code",
   "execution_count": 7,
   "metadata": {},
   "outputs": [],
   "source": [
    "import pandas as pd\n",
    "import seaborn as sns\n",
    "import matplotlib.pyplot as plt"
   ]
  },
  {
   "cell_type": "code",
   "execution_count": 18,
   "metadata": {},
   "outputs": [],
   "source": [
    "sns.set(context = \"notebook\", style = \"ticks\", font=\"verdana\", font_scale = 1.35)\n",
    "pd.set_option(\"display.max_colwidth\",150) #Expands the number of characters shown in the columns\n",
    "pd.set_option('display.max_columns', None)"
   ]
  },
  {
   "cell_type": "markdown",
   "metadata": {},
   "source": [
    "#### Path variables"
   ]
  },
  {
   "cell_type": "code",
   "execution_count": 8,
   "metadata": {},
   "outputs": [],
   "source": [
    "csv_path = \"C:/Users/ramr/Documents/Github/Personal-Projects/ivscc_paper/csvs/\"\n",
    "graph_path = \"C:/Users/ramr/Documents/Github/Personal-Projects/ivscc_paper/graphs/\"\n",
    "excel_path = \"C:/Users/ramr/Documents/Github/Personal-Projects/ivscc_paper/excel_sheets/\""
   ]
  },
  {
   "cell_type": "markdown",
   "metadata": {},
   "source": [
    "#### General Functions"
   ]
  },
  {
   "cell_type": "code",
   "execution_count": 14,
   "metadata": {},
   "outputs": [],
   "source": [
    "def get_csv(csv):\n",
    "    \"\"\"Get and read csvs based on file path.\n",
    "    Args:\n",
    "        csv(string): name of csv file\n",
    "    Returns:\n",
    "        df: csv file as a dataframe\n",
    "    \"\"\"\n",
    "    \n",
    "    df = pd.read_csv(csv_path + csv)\n",
    "    return df\n",
    "\n",
    "def filter_df(df, col_list):\n",
    "    \"\"\"Filters dataframe based on which columns users wants to display as a table.\n",
    "    Args:\n",
    "        col_list(list): list of columns names for creating filtered dataframe\n",
    "    Returns:\n",
    "        fil_df = filtered dataframe based on list of column names\n",
    "    \"\"\"\n",
    "\n",
    "    fil_df = df[col_list]\n",
    "    return fil_df\n",
    "\n",
    "def filter_col(df, col, cond):\n",
    "    \"\"\"Filtering column based on conditional statement.\n",
    "    Args:\n",
    "        df: pandas datafram\n",
    "        col(string): column name\n",
    "        cond(string): conditional statement\n",
    "    Returns:\n",
    "        fil_col_df: filtered dataframe based on filtered column\n",
    "    \"\"\"\n",
    "    \n",
    "    fil_col_df = df[df[col] == cond]\n",
    "    return fil_col_df\n",
    "\n",
    "def merge_dfs(df1, df2):\n",
    "    \"\"\"Merge two dataframes.\n",
    "    Args:\n",
    "        df1: left dataframe\n",
    "        df2: right dataframe\n",
    "    Returns:\n",
    "        merged_df: merged dataframe of df1 and df1\n",
    "    \"\"\"\n",
    "\n",
    "    merged_df = pd.merge(left = df1, right = df2, left_on = \"patched_cell_container\", \n",
    "                               right_on = \"patched_cell_container\", how = \"inner\")\n",
    "    merged_df.sort_values(by=[\"container_date\"], inplace=True) #Sorting by container date column\n",
    "    merged_df.dropna(subset=[\"vrest\", \"ri\", \"f_i_curve_slope\", \"peak_v_long_square\", \n",
    "                             \"upstroke_downstroke_ratio_long_square\", \"tau\", \"latency\", \"sag\"], inplace=True)\n",
    "    return merged_df"
   ]
  },
  {
   "cell_type": "markdown",
   "metadata": {},
   "source": [
    "#### Read all CSVs"
   ]
  },
  {
   "cell_type": "code",
   "execution_count": 16,
   "metadata": {},
   "outputs": [],
   "source": [
    "jem_df = get_csv(\"jem_metadata.csv\")\n",
    "shinym_df = get_csv(\"shiny_mouse.csv\")\n",
    "morphom_df = get_csv(\"cell_types_mouse.csv\")"
   ]
  },
  {
   "cell_type": "markdown",
   "metadata": {},
   "source": [
    "#### Column Lists"
   ]
  },
  {
   "cell_type": "code",
   "execution_count": 20,
   "metadata": {},
   "outputs": [],
   "source": [
    "jem_col_list = [\"organism_name\", \"name\", \n",
    "                \"cell_depth\", #\"approach.depth\"\n",
    "                \"approach.sliceHealth\",\n",
    "                \"extraction.endPipetteR\", #More accurate if you use NWB plotter to get exact values\n",
    "                \"extraction.nucleus\", \"extraction.postPatch\",\n",
    "                \"extraction.pressureApplied\", \"extraction.retractionPressureApplied\", #\"extraction.timeEnd\", \n",
    "                \"extraction.timeExtractionStart\", \"extraction.timeExtractionEnd\",\n",
    "                \"extraction.timeRetractionStart\", \"extraction.timeRetractionEnd\",\n",
    "                \"recording.pipetteR\", \n",
    "                \"recording.timeStart\", \"recording.timeWholeCellStart\",\n",
    "                \"rigOperator\", \n",
    "                \"roi\", #Ex.VISp5\n",
    "                \"roi_major\", #Ex. VISp\n",
    "                \"roi_minor\", #Ex. layer 5\n",
    "                \"container\"] #PAS4_191029_451_A01\n",
    "                #\"jem_date_m\" #Maybe useful Ex. 2017-10"
   ]
  },
  {
   "cell_type": "code",
   "execution_count": null,
   "metadata": {},
   "outputs": [],
   "source": []
  },
  {
   "cell_type": "code",
   "execution_count": null,
   "metadata": {},
   "outputs": [],
   "source": []
  },
  {
   "cell_type": "code",
   "execution_count": null,
   "metadata": {},
   "outputs": [],
   "source": []
  }
 ],
 "metadata": {
  "kernelspec": {
   "display_name": "Python 2",
   "language": "python",
   "name": "python2"
  },
  "language_info": {
   "codemirror_mode": {
    "name": "ipython",
    "version": 2
   },
   "file_extension": ".py",
   "mimetype": "text/x-python",
   "name": "python",
   "nbconvert_exporter": "python",
   "pygments_lexer": "ipython2",
   "version": "2.7.15"
  }
 },
 "nbformat": 4,
 "nbformat_minor": 2
}
