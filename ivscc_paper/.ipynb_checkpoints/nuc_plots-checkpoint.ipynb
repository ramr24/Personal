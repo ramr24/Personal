{
 "cells": [
  {
   "cell_type": "markdown",
   "metadata": {},
   "source": [
    "#### Objective for IVSCC Manuscript Graphs"
   ]
  },
  {
   "cell_type": "code",
   "execution_count": 1,
   "metadata": {},
   "outputs": [
    {
     "data": {
      "text/plain": [
       "'\\nLockdown Date: 190830 for all graphs\\nnucleus_present vs nucleus_absent data:\\n-Restrict data collection range: anything with MET project code to 180620\\n-Because we only collect nucleus present after 180620\\n-MET data only\\n\\nNucleus_present analysis:\\n-present vs. absent\\n\\nComparion of present vs. absent with:\\n-cDNA quality (%>400 bp)\\n-Tree call(core, I1, I2, I3 and PoorQ)\\n-# of genes\\n-amplified content same as cDNA quantity (picogreen yield)\\n'"
      ]
     },
     "execution_count": 1,
     "metadata": {},
     "output_type": "execute_result"
    }
   ],
   "source": [
    "\"\"\"\n",
    "Lockdown Date: 190830 for all graphs\n",
    "nucleus_present vs nucleus_absent data:\n",
    "-Restrict data collection range: anything with MET project code to 180620\n",
    "-Because we only collect nucleus present after 180620\n",
    "-MET data only\n",
    "\n",
    "Nucleus_present analysis:\n",
    "-present vs. absent\n",
    "\n",
    "Comparion of present vs. absent with:\n",
    "-cDNA quality (%>400 bp)\n",
    "-Tree call(core, I1, I2, I3 and PoorQ)\n",
    "-# of genes\n",
    "-amplified content same as cDNA quantity (picogreen yield)\n",
    "\"\"\""
   ]
  },
  {
   "cell_type": "markdown",
   "metadata": {},
   "source": [
    "#### Imports"
   ]
  },
  {
   "cell_type": "code",
   "execution_count": 2,
   "metadata": {},
   "outputs": [],
   "source": [
    "import pandas as pd\n",
    "import seaborn as sns\n",
    "import matplotlib.pyplot as plt\n",
    "from matplotlib.colors import ListedColormap"
   ]
  },
  {
   "cell_type": "code",
   "execution_count": 3,
   "metadata": {},
   "outputs": [],
   "source": [
    "sns.set(context = \"notebook\", style = \"ticks\", font=\"verdana\", font_scale = 1.35)\n",
    "pd.set_option(\"display.max_colwidth\",150) #Expands the number of characters shown in the columns\n",
    "pd.set_option('display.max_columns', None)"
   ]
  },
  {
   "cell_type": "markdown",
   "metadata": {},
   "source": [
    "#### Path variables"
   ]
  },
  {
   "cell_type": "code",
   "execution_count": 4,
   "metadata": {},
   "outputs": [],
   "source": [
    "csv_path = \"C:/Users/ramr/Documents/Github/Personal-Projects/ivscc_paper/csvs/\"\n",
    "#\"C:/Users/ramr/Documents/Github/Personal-Projects/ivscc_paper/csvs/\"\n",
    "graph_path = \"C:/Users/ramr/Documents/Github/Personal-Projects/ivscc_paper/graphs/\"\n",
    "#\"C:/Users/ramr/Documents/Github/Personal-Projects/ivscc_paper/graphs/\""
   ]
  },
  {
   "cell_type": "markdown",
   "metadata": {},
   "source": [
    "#### Misc"
   ]
  },
  {
   "cell_type": "code",
   "execution_count": 5,
   "metadata": {},
   "outputs": [],
   "source": [
    "colors = [\"#0039fa\", \"#fa0000\"] #nucleus_present, nucleus_absent\n",
    "#colors = [\"#74c476\", \"#fb6a4a\"] #nucleus_present, nucleus_absent\n",
    "patch_order = [\"nucleus_present\", \"nucleus_absent\"]"
   ]
  },
  {
   "cell_type": "markdown",
   "metadata": {},
   "source": [
    "#### Read Shiny mouse"
   ]
  },
  {
   "cell_type": "code",
   "execution_count": 6,
   "metadata": {},
   "outputs": [
    {
     "name": "stderr",
     "output_type": "stream",
     "text": [
      "C:\\Users\\ramr\\AppData\\Local\\Continuum\\anaconda2\\lib\\site-packages\\IPython\\core\\interactiveshell.py:2714: DtypeWarning: Columns (135) have mixed types. Specify dtype option on import or set low_memory=False.\n",
      "  interactivity=interactivity, compiler=compiler, result=result)\n"
     ]
    }
   ],
   "source": [
    "#shinym_df = pd.read_csv(csv_path + \"shiny_mouse.csv\")\n",
    "shinym_df = pd.read_csv(\"//allen/programs/celltypes/workgroups/rnaseqanalysis/shiny/patch_seq/star/mouse_patchseq_VISp_current/mapping.df.with.bp.40.lastmap.csv\")\n",
    "#shinym_df.to_csv(csv_path + \"shiny_mouse.csv\")"
   ]
  },
  {
   "cell_type": "markdown",
   "metadata": {},
   "source": [
    "#### Filter to desired columns in shinym_df"
   ]
  },
  {
   "cell_type": "code",
   "execution_count": 7,
   "metadata": {},
   "outputs": [
    {
     "data": {
      "text/plain": [
       "9919"
      ]
     },
     "execution_count": 7,
     "metadata": {},
     "output_type": "execute_result"
    }
   ],
   "source": [
    "shinym_col_list = [\"sample_id\",\n",
    "                   \"Data\",\n",
    "                   \"postPatch\",\n",
    "                   \"percent_cdna_longer_than_400bp\",\n",
    "                   \"amplified_quantity_ng\",\n",
    "                   \"Genes.Detected.CPM\", #Same one Kristen used\n",
    "                   \"Tree_call\",\n",
    "                   \"marker_sum_norm_label\",\n",
    "                   \"Total_time\"]\n",
    "##\"Genes.With.CPM\", \"Genes.With.FPKM\", \"Genes.Detected\", #Probably not the correct ones\n",
    "shinym_df = shinym_df[shinym_col_list]\n",
    "len(shinym_df)"
   ]
  },
  {
   "cell_type": "markdown",
   "metadata": {},
   "source": [
    "#### Filtering shinym_df based on conditions and creating/sorting by date column"
   ]
  },
  {
   "cell_type": "code",
   "execution_count": 8,
   "metadata": {},
   "outputs": [],
   "source": [
    "shinym_df.dropna(subset=[\"postPatch\"], inplace=True) # 7 NaN samples\n",
    "shinym_df[\"date\"] = shinym_df.sample_id.str[5:11]\n",
    "shinym_df.sort_values(\"date\", inplace=True)\n",
    "shinym_df.set_index(\"date\", inplace=True)\n",
    "shinym_df = shinym_df.loc[:\"180620\"]"
   ]
  },
  {
   "cell_type": "code",
   "execution_count": 9,
   "metadata": {},
   "outputs": [
    {
     "data": {
      "text/plain": [
       "3162"
      ]
     },
     "execution_count": 9,
     "metadata": {},
     "output_type": "execute_result"
    }
   ],
   "source": [
    "prod_df = shinym_df[shinym_df[\"Data\"] == \"Production\"]\n",
    "len(prod_df)"
   ]
  },
  {
   "cell_type": "markdown",
   "metadata": {},
   "source": [
    "#### met_df has only cells with project code mIVSCC-MET"
   ]
  },
  {
   "cell_type": "code",
   "execution_count": 10,
   "metadata": {},
   "outputs": [
    {
     "data": {
      "text/plain": [
       "2916"
      ]
     },
     "execution_count": 10,
     "metadata": {},
     "output_type": "execute_result"
    }
   ],
   "source": [
    "met_df = prod_df[(prod_df.postPatch == \"nucleus_present\") | (prod_df.postPatch == \"nucleus_absent\")]\n",
    "len(met_df)"
   ]
  },
  {
   "cell_type": "markdown",
   "metadata": {},
   "source": [
    "#### Replacing all terminology to nucleus_present and nulceus_absent for all production data"
   ]
  },
  {
   "cell_type": "code",
   "execution_count": 11,
   "metadata": {},
   "outputs": [
    {
     "name": "stderr",
     "output_type": "stream",
     "text": [
      "C:\\Users\\ramr\\AppData\\Local\\Continuum\\anaconda2\\lib\\site-packages\\ipykernel_launcher.py:7: SettingWithCopyWarning: \n",
      "A value is trying to be set on a copy of a slice from a DataFrame.\n",
      "Try using .loc[row_indexer,col_indexer] = value instead\n",
      "\n",
      "See the caveats in the documentation: http://pandas.pydata.org/pandas-docs/stable/indexing.html#indexing-view-versus-copy\n",
      "  import sys\n"
     ]
    }
   ],
   "source": [
    "replacements = {\"Nucleated\" : \"nucleus_present\", \n",
    "                \"Partial-Nucleus\" : \"nucleus_present\",\n",
    "                \"No-Seal\" : \"nucleus_absent\",\n",
    "                \"Entire-Cell\" : \"nucleus_absent\",\n",
    "                \"entire_cell\" : \"nucleus_absent\",\n",
    "                \"Outside-Out\" : \"nucleus_absent\"}\n",
    "prod_df[\"postPatch\"] = prod_df[\"postPatch\"].replace(replacements)"
   ]
  },
  {
   "cell_type": "code",
   "execution_count": 12,
   "metadata": {},
   "outputs": [
    {
     "data": {
      "text/plain": [
       "nucleus_present    2072\n",
       "nucleus_absent     1090\n",
       "Name: postPatch, dtype: int64"
      ]
     },
     "execution_count": 12,
     "metadata": {},
     "output_type": "execute_result"
    }
   ],
   "source": [
    "prod_df.postPatch.value_counts()"
   ]
  },
  {
   "cell_type": "code",
   "execution_count": 13,
   "metadata": {},
   "outputs": [
    {
     "data": {
      "text/plain": [
       "nucleus_present    1916\n",
       "nucleus_absent     1000\n",
       "Name: postPatch, dtype: int64"
      ]
     },
     "execution_count": 13,
     "metadata": {},
     "output_type": "execute_result"
    }
   ],
   "source": [
    "met_df.postPatch.value_counts()"
   ]
  },
  {
   "cell_type": "code",
   "execution_count": 14,
   "metadata": {},
   "outputs": [
    {
     "data": {
      "text/plain": [
       "2916"
      ]
     },
     "execution_count": 14,
     "metadata": {},
     "output_type": "execute_result"
    }
   ],
   "source": [
    "len(met_df)"
   ]
  },
  {
   "cell_type": "markdown",
   "metadata": {},
   "source": [
    "#### Patch Duration Integration"
   ]
  },
  {
   "cell_type": "code",
   "execution_count": 15,
   "metadata": {},
   "outputs": [
    {
     "name": "stderr",
     "output_type": "stream",
     "text": [
      "C:\\Users\\ramr\\AppData\\Local\\Continuum\\anaconda2\\lib\\site-packages\\ipykernel_launcher.py:1: SettingWithCopyWarning: \n",
      "A value is trying to be set on a copy of a slice from a DataFrame\n",
      "\n",
      "See the caveats in the documentation: http://pandas.pydata.org/pandas-docs/stable/indexing.html#indexing-view-versus-copy\n",
      "  \"\"\"Entry point for launching an IPython kernel.\n"
     ]
    },
    {
     "data": {
      "text/plain": [
       "2896"
      ]
     },
     "execution_count": 15,
     "metadata": {},
     "output_type": "execute_result"
    }
   ],
   "source": [
    "met_df.dropna(subset=[\"Total_time\"], inplace=True)\n",
    "len(met_df)"
   ]
  },
  {
   "cell_type": "code",
   "execution_count": 16,
   "metadata": {},
   "outputs": [
    {
     "name": "stderr",
     "output_type": "stream",
     "text": [
      "C:\\Users\\ramr\\AppData\\Local\\Continuum\\anaconda2\\lib\\site-packages\\ipykernel_launcher.py:1: SettingWithCopyWarning: \n",
      "A value is trying to be set on a copy of a slice from a DataFrame.\n",
      "Try using .loc[row_indexer,col_indexer] = value instead\n",
      "\n",
      "See the caveats in the documentation: http://pandas.pydata.org/pandas-docs/stable/indexing.html#indexing-view-versus-copy\n",
      "  \"\"\"Entry point for launching an IPython kernel.\n"
     ]
    }
   ],
   "source": [
    "met_df[\"Total_time_min\"] = met_df[\"Total_time\"] / 60"
   ]
  },
  {
   "cell_type": "code",
   "execution_count": 17,
   "metadata": {},
   "outputs": [
    {
     "data": {
      "text/plain": [
       "2890"
      ]
     },
     "execution_count": 17,
     "metadata": {},
     "output_type": "execute_result"
    }
   ],
   "source": [
    "bins = [0, 5, 10, 15, 20, 25]\n",
    "labels = [\"0-5\", \"5-10\", \"10-15\", \"15-20\", \"20-25\"]\n",
    "met_df = met_df[met_df[\"Total_time_min\"] > 0] #& (met_df[\"Total_time_min\"] <= 30)]\n",
    "met_df[\"Total_time_bins\"] = pd.cut(x=met_df[\"Total_time_min\"], bins=bins, labels=labels)\n",
    "len(met_df)"
   ]
  },
  {
   "cell_type": "code",
   "execution_count": 18,
   "metadata": {},
   "outputs": [],
   "source": [
    "met_df[\"percent_cdna_longer_than_400bp\"] = met_df[\"percent_cdna_longer_than_400bp\"] * 100"
   ]
  },
  {
   "cell_type": "code",
   "execution_count": 19,
   "metadata": {},
   "outputs": [
    {
     "data": {
      "text/html": [
       "<div>\n",
       "<style scoped>\n",
       "    .dataframe tbody tr th:only-of-type {\n",
       "        vertical-align: middle;\n",
       "    }\n",
       "\n",
       "    .dataframe tbody tr th {\n",
       "        vertical-align: top;\n",
       "    }\n",
       "\n",
       "    .dataframe thead th {\n",
       "        text-align: right;\n",
       "    }\n",
       "</style>\n",
       "<table border=\"1\" class=\"dataframe\">\n",
       "  <thead>\n",
       "    <tr style=\"text-align: right;\">\n",
       "      <th></th>\n",
       "      <th>sample_id</th>\n",
       "      <th>Data</th>\n",
       "      <th>postPatch</th>\n",
       "      <th>percent_cdna_longer_than_400bp</th>\n",
       "      <th>amplified_quantity_ng</th>\n",
       "      <th>Genes.Detected.CPM</th>\n",
       "      <th>Tree_call</th>\n",
       "      <th>marker_sum_norm_label</th>\n",
       "      <th>Total_time</th>\n",
       "      <th>Total_time_min</th>\n",
       "      <th>Total_time_bins</th>\n",
       "    </tr>\n",
       "    <tr>\n",
       "      <th>date</th>\n",
       "      <th></th>\n",
       "      <th></th>\n",
       "      <th></th>\n",
       "      <th></th>\n",
       "      <th></th>\n",
       "      <th></th>\n",
       "      <th></th>\n",
       "      <th></th>\n",
       "      <th></th>\n",
       "      <th></th>\n",
       "      <th></th>\n",
       "    </tr>\n",
       "  </thead>\n",
       "  <tbody>\n",
       "    <tr>\n",
       "      <th>171002</th>\n",
       "      <td>P2S4_171002_055_A01</td>\n",
       "      <td>Production</td>\n",
       "      <td>nucleus_present</td>\n",
       "      <td>71.5</td>\n",
       "      <td>15.401426</td>\n",
       "      <td>7375</td>\n",
       "      <td>Core</td>\n",
       "      <td>0.966441</td>\n",
       "      <td>404.0</td>\n",
       "      <td>6.733333</td>\n",
       "      <td>5-10</td>\n",
       "    </tr>\n",
       "    <tr>\n",
       "      <th>171002</th>\n",
       "      <td>P8S4_171002_357_A01</td>\n",
       "      <td>Production</td>\n",
       "      <td>nucleus_absent</td>\n",
       "      <td>31.9</td>\n",
       "      <td>6.906475</td>\n",
       "      <td>3222</td>\n",
       "      <td>PoorQ</td>\n",
       "      <td>0.576443</td>\n",
       "      <td>826.0</td>\n",
       "      <td>13.766667</td>\n",
       "      <td>10-15</td>\n",
       "    </tr>\n",
       "    <tr>\n",
       "      <th>171002</th>\n",
       "      <td>P8S4_171002_356_A01</td>\n",
       "      <td>Production</td>\n",
       "      <td>nucleus_present</td>\n",
       "      <td>67.2</td>\n",
       "      <td>11.645717</td>\n",
       "      <td>6965</td>\n",
       "      <td>Core</td>\n",
       "      <td>0.872312</td>\n",
       "      <td>578.0</td>\n",
       "      <td>9.633333</td>\n",
       "      <td>5-10</td>\n",
       "    </tr>\n",
       "    <tr>\n",
       "      <th>171002</th>\n",
       "      <td>P2S4_171002_053_A01</td>\n",
       "      <td>Production</td>\n",
       "      <td>nucleus_absent</td>\n",
       "      <td>48.6</td>\n",
       "      <td>2.548507</td>\n",
       "      <td>2747</td>\n",
       "      <td>PoorQ</td>\n",
       "      <td>0.407652</td>\n",
       "      <td>553.0</td>\n",
       "      <td>9.216667</td>\n",
       "      <td>5-10</td>\n",
       "    </tr>\n",
       "    <tr>\n",
       "      <th>171002</th>\n",
       "      <td>PAS4_171002_451_A01</td>\n",
       "      <td>Production</td>\n",
       "      <td>nucleus_absent</td>\n",
       "      <td>44.2</td>\n",
       "      <td>5.488300</td>\n",
       "      <td>4934</td>\n",
       "      <td>PoorQ</td>\n",
       "      <td>0.543551</td>\n",
       "      <td>712.0</td>\n",
       "      <td>11.866667</td>\n",
       "      <td>10-15</td>\n",
       "    </tr>\n",
       "  </tbody>\n",
       "</table>\n",
       "</div>"
      ],
      "text/plain": [
       "                  sample_id        Data        postPatch  \\\n",
       "date                                                       \n",
       "171002  P2S4_171002_055_A01  Production  nucleus_present   \n",
       "171002  P8S4_171002_357_A01  Production   nucleus_absent   \n",
       "171002  P8S4_171002_356_A01  Production  nucleus_present   \n",
       "171002  P2S4_171002_053_A01  Production   nucleus_absent   \n",
       "171002  PAS4_171002_451_A01  Production   nucleus_absent   \n",
       "\n",
       "        percent_cdna_longer_than_400bp  amplified_quantity_ng  \\\n",
       "date                                                            \n",
       "171002                            71.5              15.401426   \n",
       "171002                            31.9               6.906475   \n",
       "171002                            67.2              11.645717   \n",
       "171002                            48.6               2.548507   \n",
       "171002                            44.2               5.488300   \n",
       "\n",
       "        Genes.Detected.CPM Tree_call  marker_sum_norm_label  Total_time  \\\n",
       "date                                                                      \n",
       "171002                7375      Core               0.966441       404.0   \n",
       "171002                3222     PoorQ               0.576443       826.0   \n",
       "171002                6965      Core               0.872312       578.0   \n",
       "171002                2747     PoorQ               0.407652       553.0   \n",
       "171002                4934     PoorQ               0.543551       712.0   \n",
       "\n",
       "        Total_time_min Total_time_bins  \n",
       "date                                    \n",
       "171002        6.733333            5-10  \n",
       "171002       13.766667           10-15  \n",
       "171002        9.633333            5-10  \n",
       "171002        9.216667            5-10  \n",
       "171002       11.866667           10-15  "
      ]
     },
     "execution_count": 19,
     "metadata": {},
     "output_type": "execute_result"
    }
   ],
   "source": [
    "met_df.head()"
   ]
  },
  {
   "cell_type": "markdown",
   "metadata": {},
   "source": [
    "#### Obtaining mean markers sums for line plots"
   ]
  },
  {
   "cell_type": "code",
   "execution_count": 20,
   "metadata": {},
   "outputs": [],
   "source": [
    "met_amp = met_df.groupby([\"Total_time_bins\", \"postPatch\"])[\"amplified_quantity_ng\"].agg([\"mean\", \"sem\", \"std\", \"size\"])\n",
    "met_dna = met_df.groupby([\"Total_time_bins\", \"postPatch\"])[\"percent_cdna_longer_than_400bp\"].agg([\"mean\", \"sem\", \"std\", \"size\"])\n",
    "met_gen = met_df.groupby([\"Total_time_bins\", \"postPatch\"])[\"Genes.Detected.CPM\"].agg([\"mean\", \"sem\", \"std\", \"size\"])\n",
    "met_nms = met_df.groupby([\"Total_time_bins\", \"postPatch\"])[\"marker_sum_norm_label\"].agg([\"mean\", \"sem\", \"std\", \"size\"])\n",
    "\n",
    "met_amp.reset_index(inplace=True)\n",
    "met_dna.reset_index(inplace=True)\n",
    "met_gen.reset_index(inplace=True)\n",
    "met_nms.reset_index(inplace=True)"
   ]
  },
  {
   "cell_type": "code",
   "execution_count": 21,
   "metadata": {},
   "outputs": [
    {
     "data": {
      "text/html": [
       "<div>\n",
       "<style scoped>\n",
       "    .dataframe tbody tr th:only-of-type {\n",
       "        vertical-align: middle;\n",
       "    }\n",
       "\n",
       "    .dataframe tbody tr th {\n",
       "        vertical-align: top;\n",
       "    }\n",
       "\n",
       "    .dataframe thead th {\n",
       "        text-align: right;\n",
       "    }\n",
       "</style>\n",
       "<table border=\"1\" class=\"dataframe\">\n",
       "  <thead>\n",
       "    <tr style=\"text-align: right;\">\n",
       "      <th></th>\n",
       "      <th>Total_time_bins</th>\n",
       "      <th>postPatch</th>\n",
       "      <th>mean</th>\n",
       "      <th>size</th>\n",
       "    </tr>\n",
       "  </thead>\n",
       "  <tbody>\n",
       "    <tr>\n",
       "      <th>0</th>\n",
       "      <td>0-5</td>\n",
       "      <td>nucleus_absent</td>\n",
       "      <td>7.476521</td>\n",
       "      <td>94</td>\n",
       "    </tr>\n",
       "    <tr>\n",
       "      <th>1</th>\n",
       "      <td>0-5</td>\n",
       "      <td>nucleus_present</td>\n",
       "      <td>10.560049</td>\n",
       "      <td>55</td>\n",
       "    </tr>\n",
       "    <tr>\n",
       "      <th>2</th>\n",
       "      <td>5-10</td>\n",
       "      <td>nucleus_absent</td>\n",
       "      <td>11.199139</td>\n",
       "      <td>347</td>\n",
       "    </tr>\n",
       "    <tr>\n",
       "      <th>3</th>\n",
       "      <td>5-10</td>\n",
       "      <td>nucleus_present</td>\n",
       "      <td>14.965869</td>\n",
       "      <td>832</td>\n",
       "    </tr>\n",
       "    <tr>\n",
       "      <th>4</th>\n",
       "      <td>10-15</td>\n",
       "      <td>nucleus_absent</td>\n",
       "      <td>10.795019</td>\n",
       "      <td>330</td>\n",
       "    </tr>\n",
       "    <tr>\n",
       "      <th>5</th>\n",
       "      <td>10-15</td>\n",
       "      <td>nucleus_present</td>\n",
       "      <td>16.359592</td>\n",
       "      <td>673</td>\n",
       "    </tr>\n",
       "    <tr>\n",
       "      <th>6</th>\n",
       "      <td>15-20</td>\n",
       "      <td>nucleus_absent</td>\n",
       "      <td>10.122738</td>\n",
       "      <td>171</td>\n",
       "    </tr>\n",
       "    <tr>\n",
       "      <th>7</th>\n",
       "      <td>15-20</td>\n",
       "      <td>nucleus_present</td>\n",
       "      <td>14.307483</td>\n",
       "      <td>288</td>\n",
       "    </tr>\n",
       "    <tr>\n",
       "      <th>8</th>\n",
       "      <td>20-25</td>\n",
       "      <td>nucleus_absent</td>\n",
       "      <td>8.282683</td>\n",
       "      <td>44</td>\n",
       "    </tr>\n",
       "    <tr>\n",
       "      <th>9</th>\n",
       "      <td>20-25</td>\n",
       "      <td>nucleus_present</td>\n",
       "      <td>13.195116</td>\n",
       "      <td>41</td>\n",
       "    </tr>\n",
       "  </tbody>\n",
       "</table>\n",
       "</div>"
      ],
      "text/plain": [
       "  Total_time_bins        postPatch       mean  size\n",
       "0             0-5   nucleus_absent   7.476521    94\n",
       "1             0-5  nucleus_present  10.560049    55\n",
       "2            5-10   nucleus_absent  11.199139   347\n",
       "3            5-10  nucleus_present  14.965869   832\n",
       "4           10-15   nucleus_absent  10.795019   330\n",
       "5           10-15  nucleus_present  16.359592   673\n",
       "6           15-20   nucleus_absent  10.122738   171\n",
       "7           15-20  nucleus_present  14.307483   288\n",
       "8           20-25   nucleus_absent   8.282683    44\n",
       "9           20-25  nucleus_present  13.195116    41"
      ]
     },
     "execution_count": 21,
     "metadata": {},
     "output_type": "execute_result"
    }
   ],
   "source": [
    "met_amp"
   ]
  },
  {
   "cell_type": "code",
   "execution_count": 22,
   "metadata": {},
   "outputs": [
    {
     "data": {
      "text/html": [
       "<div>\n",
       "<style scoped>\n",
       "    .dataframe tbody tr th:only-of-type {\n",
       "        vertical-align: middle;\n",
       "    }\n",
       "\n",
       "    .dataframe tbody tr th {\n",
       "        vertical-align: top;\n",
       "    }\n",
       "\n",
       "    .dataframe thead th {\n",
       "        text-align: right;\n",
       "    }\n",
       "</style>\n",
       "<table border=\"1\" class=\"dataframe\">\n",
       "  <thead>\n",
       "    <tr style=\"text-align: right;\">\n",
       "      <th></th>\n",
       "      <th>Total_time_bins</th>\n",
       "      <th>postPatch</th>\n",
       "      <th>mean</th>\n",
       "      <th>size</th>\n",
       "    </tr>\n",
       "  </thead>\n",
       "  <tbody>\n",
       "    <tr>\n",
       "      <th>0</th>\n",
       "      <td>0-5</td>\n",
       "      <td>nucleus_absent</td>\n",
       "      <td>38.137234</td>\n",
       "      <td>94</td>\n",
       "    </tr>\n",
       "    <tr>\n",
       "      <th>1</th>\n",
       "      <td>0-5</td>\n",
       "      <td>nucleus_present</td>\n",
       "      <td>47.923636</td>\n",
       "      <td>55</td>\n",
       "    </tr>\n",
       "    <tr>\n",
       "      <th>2</th>\n",
       "      <td>5-10</td>\n",
       "      <td>nucleus_absent</td>\n",
       "      <td>45.111816</td>\n",
       "      <td>347</td>\n",
       "    </tr>\n",
       "    <tr>\n",
       "      <th>3</th>\n",
       "      <td>5-10</td>\n",
       "      <td>nucleus_present</td>\n",
       "      <td>55.997837</td>\n",
       "      <td>832</td>\n",
       "    </tr>\n",
       "    <tr>\n",
       "      <th>4</th>\n",
       "      <td>10-15</td>\n",
       "      <td>nucleus_absent</td>\n",
       "      <td>44.980909</td>\n",
       "      <td>330</td>\n",
       "    </tr>\n",
       "    <tr>\n",
       "      <th>5</th>\n",
       "      <td>10-15</td>\n",
       "      <td>nucleus_present</td>\n",
       "      <td>57.364636</td>\n",
       "      <td>673</td>\n",
       "    </tr>\n",
       "    <tr>\n",
       "      <th>6</th>\n",
       "      <td>15-20</td>\n",
       "      <td>nucleus_absent</td>\n",
       "      <td>46.680117</td>\n",
       "      <td>171</td>\n",
       "    </tr>\n",
       "    <tr>\n",
       "      <th>7</th>\n",
       "      <td>15-20</td>\n",
       "      <td>nucleus_present</td>\n",
       "      <td>58.052431</td>\n",
       "      <td>288</td>\n",
       "    </tr>\n",
       "    <tr>\n",
       "      <th>8</th>\n",
       "      <td>20-25</td>\n",
       "      <td>nucleus_absent</td>\n",
       "      <td>45.138636</td>\n",
       "      <td>44</td>\n",
       "    </tr>\n",
       "    <tr>\n",
       "      <th>9</th>\n",
       "      <td>20-25</td>\n",
       "      <td>nucleus_present</td>\n",
       "      <td>56.863415</td>\n",
       "      <td>41</td>\n",
       "    </tr>\n",
       "  </tbody>\n",
       "</table>\n",
       "</div>"
      ],
      "text/plain": [
       "  Total_time_bins        postPatch       mean  size\n",
       "0             0-5   nucleus_absent  38.137234    94\n",
       "1             0-5  nucleus_present  47.923636    55\n",
       "2            5-10   nucleus_absent  45.111816   347\n",
       "3            5-10  nucleus_present  55.997837   832\n",
       "4           10-15   nucleus_absent  44.980909   330\n",
       "5           10-15  nucleus_present  57.364636   673\n",
       "6           15-20   nucleus_absent  46.680117   171\n",
       "7           15-20  nucleus_present  58.052431   288\n",
       "8           20-25   nucleus_absent  45.138636    44\n",
       "9           20-25  nucleus_present  56.863415    41"
      ]
     },
     "execution_count": 22,
     "metadata": {},
     "output_type": "execute_result"
    }
   ],
   "source": [
    "met_dna"
   ]
  },
  {
   "cell_type": "code",
   "execution_count": 23,
   "metadata": {},
   "outputs": [
    {
     "data": {
      "text/html": [
       "<div>\n",
       "<style scoped>\n",
       "    .dataframe tbody tr th:only-of-type {\n",
       "        vertical-align: middle;\n",
       "    }\n",
       "\n",
       "    .dataframe tbody tr th {\n",
       "        vertical-align: top;\n",
       "    }\n",
       "\n",
       "    .dataframe thead th {\n",
       "        text-align: right;\n",
       "    }\n",
       "</style>\n",
       "<table border=\"1\" class=\"dataframe\">\n",
       "  <thead>\n",
       "    <tr style=\"text-align: right;\">\n",
       "      <th></th>\n",
       "      <th>Total_time_bins</th>\n",
       "      <th>postPatch</th>\n",
       "      <th>mean</th>\n",
       "      <th>std</th>\n",
       "      <th>size</th>\n",
       "    </tr>\n",
       "  </thead>\n",
       "  <tbody>\n",
       "    <tr>\n",
       "      <th>0</th>\n",
       "      <td>0-5</td>\n",
       "      <td>nucleus_absent</td>\n",
       "      <td>3412.436170</td>\n",
       "      <td>1956.044239</td>\n",
       "      <td>94</td>\n",
       "    </tr>\n",
       "    <tr>\n",
       "      <th>1</th>\n",
       "      <td>0-5</td>\n",
       "      <td>nucleus_present</td>\n",
       "      <td>5540.236364</td>\n",
       "      <td>2922.835869</td>\n",
       "      <td>55</td>\n",
       "    </tr>\n",
       "    <tr>\n",
       "      <th>2</th>\n",
       "      <td>5-10</td>\n",
       "      <td>nucleus_absent</td>\n",
       "      <td>5048.466859</td>\n",
       "      <td>2424.280728</td>\n",
       "      <td>347</td>\n",
       "    </tr>\n",
       "    <tr>\n",
       "      <th>3</th>\n",
       "      <td>5-10</td>\n",
       "      <td>nucleus_present</td>\n",
       "      <td>7467.212740</td>\n",
       "      <td>2177.141428</td>\n",
       "      <td>832</td>\n",
       "    </tr>\n",
       "    <tr>\n",
       "      <th>4</th>\n",
       "      <td>10-15</td>\n",
       "      <td>nucleus_absent</td>\n",
       "      <td>4984.427273</td>\n",
       "      <td>2441.720378</td>\n",
       "      <td>330</td>\n",
       "    </tr>\n",
       "    <tr>\n",
       "      <th>5</th>\n",
       "      <td>10-15</td>\n",
       "      <td>nucleus_present</td>\n",
       "      <td>7884.433878</td>\n",
       "      <td>2112.494347</td>\n",
       "      <td>673</td>\n",
       "    </tr>\n",
       "    <tr>\n",
       "      <th>6</th>\n",
       "      <td>15-20</td>\n",
       "      <td>nucleus_absent</td>\n",
       "      <td>5592.725146</td>\n",
       "      <td>2858.376032</td>\n",
       "      <td>171</td>\n",
       "    </tr>\n",
       "    <tr>\n",
       "      <th>7</th>\n",
       "      <td>15-20</td>\n",
       "      <td>nucleus_present</td>\n",
       "      <td>7874.222222</td>\n",
       "      <td>2167.060439</td>\n",
       "      <td>288</td>\n",
       "    </tr>\n",
       "    <tr>\n",
       "      <th>8</th>\n",
       "      <td>20-25</td>\n",
       "      <td>nucleus_absent</td>\n",
       "      <td>4879.568182</td>\n",
       "      <td>2187.170726</td>\n",
       "      <td>44</td>\n",
       "    </tr>\n",
       "    <tr>\n",
       "      <th>9</th>\n",
       "      <td>20-25</td>\n",
       "      <td>nucleus_present</td>\n",
       "      <td>8029.756098</td>\n",
       "      <td>1985.780436</td>\n",
       "      <td>41</td>\n",
       "    </tr>\n",
       "  </tbody>\n",
       "</table>\n",
       "</div>"
      ],
      "text/plain": [
       "  Total_time_bins        postPatch         mean          std  size\n",
       "0             0-5   nucleus_absent  3412.436170  1956.044239    94\n",
       "1             0-5  nucleus_present  5540.236364  2922.835869    55\n",
       "2            5-10   nucleus_absent  5048.466859  2424.280728   347\n",
       "3            5-10  nucleus_present  7467.212740  2177.141428   832\n",
       "4           10-15   nucleus_absent  4984.427273  2441.720378   330\n",
       "5           10-15  nucleus_present  7884.433878  2112.494347   673\n",
       "6           15-20   nucleus_absent  5592.725146  2858.376032   171\n",
       "7           15-20  nucleus_present  7874.222222  2167.060439   288\n",
       "8           20-25   nucleus_absent  4879.568182  2187.170726    44\n",
       "9           20-25  nucleus_present  8029.756098  1985.780436    41"
      ]
     },
     "execution_count": 23,
     "metadata": {},
     "output_type": "execute_result"
    }
   ],
   "source": [
    "met_gen"
   ]
  },
  {
   "cell_type": "code",
   "execution_count": 24,
   "metadata": {},
   "outputs": [
    {
     "data": {
      "text/html": [
       "<div>\n",
       "<style scoped>\n",
       "    .dataframe tbody tr th:only-of-type {\n",
       "        vertical-align: middle;\n",
       "    }\n",
       "\n",
       "    .dataframe tbody tr th {\n",
       "        vertical-align: top;\n",
       "    }\n",
       "\n",
       "    .dataframe thead th {\n",
       "        text-align: right;\n",
       "    }\n",
       "</style>\n",
       "<table border=\"1\" class=\"dataframe\">\n",
       "  <thead>\n",
       "    <tr style=\"text-align: right;\">\n",
       "      <th></th>\n",
       "      <th>Total_time_bins</th>\n",
       "      <th>postPatch</th>\n",
       "      <th>mean</th>\n",
       "      <th>std</th>\n",
       "      <th>size</th>\n",
       "    </tr>\n",
       "  </thead>\n",
       "  <tbody>\n",
       "    <tr>\n",
       "      <th>0</th>\n",
       "      <td>0-5</td>\n",
       "      <td>nucleus_absent</td>\n",
       "      <td>0.321673</td>\n",
       "      <td>0.220208</td>\n",
       "      <td>94</td>\n",
       "    </tr>\n",
       "    <tr>\n",
       "      <th>1</th>\n",
       "      <td>0-5</td>\n",
       "      <td>nucleus_present</td>\n",
       "      <td>0.598355</td>\n",
       "      <td>0.328154</td>\n",
       "      <td>55</td>\n",
       "    </tr>\n",
       "    <tr>\n",
       "      <th>2</th>\n",
       "      <td>5-10</td>\n",
       "      <td>nucleus_absent</td>\n",
       "      <td>0.464893</td>\n",
       "      <td>0.270356</td>\n",
       "      <td>347</td>\n",
       "    </tr>\n",
       "    <tr>\n",
       "      <th>3</th>\n",
       "      <td>5-10</td>\n",
       "      <td>nucleus_present</td>\n",
       "      <td>0.812111</td>\n",
       "      <td>0.230752</td>\n",
       "      <td>832</td>\n",
       "    </tr>\n",
       "    <tr>\n",
       "      <th>4</th>\n",
       "      <td>10-15</td>\n",
       "      <td>nucleus_absent</td>\n",
       "      <td>0.456848</td>\n",
       "      <td>0.274907</td>\n",
       "      <td>330</td>\n",
       "    </tr>\n",
       "    <tr>\n",
       "      <th>5</th>\n",
       "      <td>10-15</td>\n",
       "      <td>nucleus_present</td>\n",
       "      <td>0.827376</td>\n",
       "      <td>0.218393</td>\n",
       "      <td>673</td>\n",
       "    </tr>\n",
       "    <tr>\n",
       "      <th>6</th>\n",
       "      <td>15-20</td>\n",
       "      <td>nucleus_absent</td>\n",
       "      <td>0.486470</td>\n",
       "      <td>0.301569</td>\n",
       "      <td>171</td>\n",
       "    </tr>\n",
       "    <tr>\n",
       "      <th>7</th>\n",
       "      <td>15-20</td>\n",
       "      <td>nucleus_present</td>\n",
       "      <td>0.806215</td>\n",
       "      <td>0.236004</td>\n",
       "      <td>288</td>\n",
       "    </tr>\n",
       "    <tr>\n",
       "      <th>8</th>\n",
       "      <td>20-25</td>\n",
       "      <td>nucleus_absent</td>\n",
       "      <td>0.472411</td>\n",
       "      <td>0.255275</td>\n",
       "      <td>44</td>\n",
       "    </tr>\n",
       "    <tr>\n",
       "      <th>9</th>\n",
       "      <td>20-25</td>\n",
       "      <td>nucleus_present</td>\n",
       "      <td>0.811636</td>\n",
       "      <td>0.229539</td>\n",
       "      <td>41</td>\n",
       "    </tr>\n",
       "  </tbody>\n",
       "</table>\n",
       "</div>"
      ],
      "text/plain": [
       "  Total_time_bins        postPatch      mean       std  size\n",
       "0             0-5   nucleus_absent  0.321673  0.220208    94\n",
       "1             0-5  nucleus_present  0.598355  0.328154    55\n",
       "2            5-10   nucleus_absent  0.464893  0.270356   347\n",
       "3            5-10  nucleus_present  0.812111  0.230752   832\n",
       "4           10-15   nucleus_absent  0.456848  0.274907   330\n",
       "5           10-15  nucleus_present  0.827376  0.218393   673\n",
       "6           15-20   nucleus_absent  0.486470  0.301569   171\n",
       "7           15-20  nucleus_present  0.806215  0.236004   288\n",
       "8           20-25   nucleus_absent  0.472411  0.255275    44\n",
       "9           20-25  nucleus_present  0.811636  0.229539    41"
      ]
     },
     "execution_count": 24,
     "metadata": {},
     "output_type": "execute_result"
    }
   ],
   "source": [
    "met_nms"
   ]
  },
  {
   "cell_type": "markdown",
   "metadata": {},
   "source": [
    "#### Graph Function for Line Graph"
   ]
  },
  {
   "cell_type": "code",
   "execution_count": 1,
   "metadata": {},
   "outputs": [],
   "source": [
    "def poiplt(col, col_label, df, ymax):\n",
    "    plt.figure(figsize=(6, 6))\n",
    "    ax=sns.pointplot(x=\"Total_time_bins\", y=col, hue=\"postPatch\", hue_order=patch_order,\n",
    "                     data=df, palette=colors, dodge=True,\n",
    "                     markers=[\"o\", \"o\"], ci=68, scale=1.5, capsize=0.2, errwidth=1.5)\n",
    "    ax.legend_.remove()\n",
    "    ax.set(xlabel=\"Patch Duration (min)\", ylabel=col_label)\n",
    "    ax.set_title(col_label)\n",
    "    ax.set_ylim(0, ymax)\n",
    "    ax.spines['right'].set_visible(False)\n",
    "    ax.spines['top'].set_visible(False)\n",
    "    plt.savefig(graph_path + \"met_poi\" + col + \".jpeg\", bbox_inches=\"tight\")"
   ]
  },
  {
   "cell_type": "code",
   "execution_count": null,
   "metadata": {},
   "outputs": [],
   "source": [
    "met_df.postPatch.value_counts()"
   ]
  },
  {
   "cell_type": "code",
   "execution_count": null,
   "metadata": {},
   "outputs": [],
   "source": [
    "poiplt(\"amplified_quantity_ng\", \"Amplified content (ng)\", met_df, 20)\n",
    "poiplt(\"percent_cdna_longer_than_400bp\", \"cDNA quality (%>400 bp)\", met_df, 100)\n",
    "poiplt(\"Genes.Detected.CPM\", \"Number of genes\", met_df, 10000)\n",
    "poiplt(\"marker_sum_norm_label\", \"NMS\", met_df, 1.0)"
   ]
  },
  {
   "cell_type": "markdown",
   "metadata": {},
   "source": [
    "#### Graph Functions for Stacked Percentage Bar Graph"
   ]
  },
  {
   "cell_type": "code",
   "execution_count": null,
   "metadata": {},
   "outputs": [],
   "source": [
    "def piv_table(df):\n",
    "    df1 = df.loc[:,[\"postPatch\", \"Tree_call\", \"Data\"]]\n",
    "    df1 = df.groupby([\"postPatch\", \"Tree_call\"]).count()\n",
    "    df1 = df1.rename(columns = {\"Data\" : \"\"})\n",
    "    df1.reset_index(inplace = True)\n",
    "    df1 = df1.pivot_table(values=[''], index=[\"postPatch\"], columns = [\"Tree_call\"], aggfunc=\"sum\")\n",
    "    return df1\n",
    "\n",
    "def stacked_plot(df):\n",
    "    nuc_order = [\"nucleus_present\", \"nucleus_absent\"]\n",
    "    my_colors = ['#74c476', '#de2d26']\n",
    "    bp = df.loc[nuc_order].plot(kind=\"bar\", stacked = True, figsize= (8,6), rot = 0, \n",
    "                 colormap=ListedColormap(sns.color_palette(\"GnBu\", 10)),width = 0.4)\n",
    "\n",
    "    bp.legend([\"Core\", \"I1\", \"I2\", \"I3\", \"PoorQ\"], loc = 0, bbox_to_anchor = (1, 1.02), \n",
    "              frameon = True, shadow = True, fontsize = 13)\n",
    "\n",
    "    plt.subplots_adjust(left = 0.1, right = 0.8, bottom = None, top = None, wspace=None, hspace=None)\n",
    "    #This helps if axis labels are getting cutoff when saving final image\n",
    "\n",
    "    #Rusty's Method figure it out later\n",
    "    rects = bp.patches\n",
    "    labels = post_patch_totals\n",
    "\n",
    "    #Rusty's Method figure it out later\n",
    "    for rect, label in zip (rects, labels):\n",
    "        height = 100\n",
    "        x_value = rect.get_x() + rect.get_width() / 2\n",
    "        bp.text(rect.get_x() + rect.get_width()/2, height, label, ha='center', va='bottom', size = 12)\n",
    "\n",
    "    bp.set_title(\"Tree calls for Post Patch Outcomes\")\n",
    "    bp.set(xlabel = \"Post Patch Outcome\", ylabel = \"Percentage\")\n",
    "    plt.savefig(graph_path + \"met_stk.jpeg\", bbox_inches=\"tight\")"
   ]
  },
  {
   "cell_type": "markdown",
   "metadata": {},
   "source": [
    "#### Stacked Percentage Bar Graph"
   ]
  },
  {
   "cell_type": "code",
   "execution_count": null,
   "metadata": {},
   "outputs": [],
   "source": [
    "met_df1 = piv_table(met_df)\n",
    "post_patch_totals = list(met_df1.sum(1))\n",
    "post_patch_totals = [int(x) for x in post_patch_totals]\n",
    "met_df1 = met_df1.div(met_df1.sum(1), axis=0) * 100\n",
    "met_df1"
   ]
  },
  {
   "cell_type": "code",
   "execution_count": null,
   "metadata": {},
   "outputs": [],
   "source": [
    "stacked_plot(met_df1)"
   ]
  },
  {
   "cell_type": "markdown",
   "metadata": {},
   "source": [
    "#### Countplot for Tree_calls for nucelus_present vs nucleus_absent"
   ]
  },
  {
   "cell_type": "code",
   "execution_count": null,
   "metadata": {},
   "outputs": [],
   "source": [
    "sns.countplot(x=\"postPatch\", hue=\"Tree_call\", hue_order = [\"Core\", \"I1\", \"I2\", \"I3\", \"PoorQ\"],\n",
    "              data=met_df, palette=\"GnBu\", saturation=1)"
   ]
  },
  {
   "cell_type": "markdown",
   "metadata": {},
   "source": [
    "#### Writing dataframe into Excel Sheets"
   ]
  },
  {
   "cell_type": "code",
   "execution_count": null,
   "metadata": {},
   "outputs": [],
   "source": [
    "writer = pd.ExcelWriter(graph_path + \"nucleus_present_absent_RR.xlsx\")\n",
    "met_df.to_excel(writer, \"MET Data\", freeze_panes=(1,0))\n",
    "prod_df.to_excel(writer, \"Production Data\", freeze_panes=(1,0))\n",
    "shinym_df.to_excel(writer, \"Reference Shiny Mouse Data\", freeze_panes=(1,0))\n",
    "writer.save()"
   ]
  }
 ],
 "metadata": {
  "kernelspec": {
   "display_name": "Python 3",
   "language": "python",
   "name": "python3"
  },
  "language_info": {
   "codemirror_mode": {
    "name": "ipython",
    "version": 3
   },
   "file_extension": ".py",
   "mimetype": "text/x-python",
   "name": "python",
   "nbconvert_exporter": "python",
   "pygments_lexer": "ipython3",
   "version": "3.6.5"
  }
 },
 "nbformat": 4,
 "nbformat_minor": 2
}
