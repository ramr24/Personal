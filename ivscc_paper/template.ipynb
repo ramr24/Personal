{
 "cells": [
  {
   "cell_type": "markdown",
   "metadata": {},
   "source": [
    "#### Objective for IVSCC Manuscript Graphs"
   ]
  },
  {
   "cell_type": "code",
   "execution_count": 1,
   "metadata": {},
   "outputs": [
    {
     "data": {
      "text/plain": [
       "'\\nLockdown Date: 190830 for all graphs\\nnucleus_present vs nucleus_absent data:\\n-Restrict data collection range: anything with MET project code to 180620\\n-Because we only collect nucleus present after 180620\\n-MET data only\\n\\nNucleus_present analysis:\\n-present vs. absent\\n\\nComparion of present vs. absent with:\\n-cDNA quality (%>400 bp)\\n-Tree call(core, I1, I2, I3 and PoorQ)\\n-# of genes\\n-amplified content same as cDNA quantity (picogreen yield)\\n'"
      ]
     },
     "execution_count": 1,
     "metadata": {},
     "output_type": "execute_result"
    }
   ],
   "source": [
    "\"\"\"\n",
    "Lockdown Date: 190830 for all graphs\n",
    "nucleus_present vs nucleus_absent data:\n",
    "-Restrict data collection range: anything with MET project code to 180620\n",
    "-Because we only collect nucleus present after 180620\n",
    "-MET data only\n",
    "\n",
    "Nucleus_present analysis:\n",
    "-present vs. absent\n",
    "\n",
    "Comparion of present vs. absent with:\n",
    "-cDNA quality (%>400 bp)\n",
    "-Tree call(core, I1, I2, I3 and PoorQ)\n",
    "-# of genes\n",
    "-amplified content same as cDNA quantity (picogreen yield)\n",
    "\"\"\""
   ]
  },
  {
   "cell_type": "markdown",
   "metadata": {},
   "source": [
    "#### Imports"
   ]
  },
  {
   "cell_type": "code",
   "execution_count": 2,
   "metadata": {},
   "outputs": [],
   "source": [
    "import pandas as pd\n",
    "import seaborn as sns\n",
    "import matplotlib.pyplot as plt\n",
    "from matplotlib.colors import ListedColormap"
   ]
  },
  {
   "cell_type": "code",
   "execution_count": 3,
   "metadata": {},
   "outputs": [],
   "source": [
    "sns.set(context = \"notebook\", style = \"ticks\", font=\"verdana\", font_scale = 1.35)\n",
    "pd.set_option(\"display.max_colwidth\",150) #Expands the number of characters shown in the columns\n",
    "pd.set_option('display.max_columns', None)"
   ]
  },
  {
   "cell_type": "markdown",
   "metadata": {},
   "source": [
    "#### Path variables"
   ]
  },
  {
   "cell_type": "code",
   "execution_count": 4,
   "metadata": {},
   "outputs": [],
   "source": [
    "csv_path = \"C:/Users/kumar/Documents/GitHub/Personal-Projects/ivscc_paper/csvs/\"\n",
    "#\"C:/Users/ramr/Documents/Github/Personal-Projects/ivscc_paper/csvs/\"\n",
    "graph_path = \"C:/Users/kumar/Documents/GitHub/Personal-Projects/ivscc_paper/graphs/\"\n",
    "#\"C:/Users/ramr/Documents/Github/Personal-Projects/ivscc_paper/graphs/\""
   ]
  },
  {
   "cell_type": "markdown",
   "metadata": {},
   "source": [
    "#### Misc"
   ]
  },
  {
   "cell_type": "code",
   "execution_count": 5,
   "metadata": {},
   "outputs": [],
   "source": [
    "colors = [\"#0039fa\", \"#fa0000\"] #nucleus_present, nucleus_absent\n",
    "#colors = [\"#74c476\", \"#fb6a4a\"] #nucleus_present, nucleus_absent\n",
    "patch_order = [\"nucleus_present\", \"nucleus_absent\"]"
   ]
  },
  {
   "cell_type": "markdown",
   "metadata": {},
   "source": [
    "#### Read Shiny mouse"
   ]
  },
  {
   "cell_type": "code",
   "execution_count": 6,
   "metadata": {},
   "outputs": [
    {
     "ename": "IOError",
     "evalue": "File C:/Users/kumar/Documents/GitHub/Personal-Projects/ivscc_paper/csvs/shiny_mouse.csv does not exist",
     "output_type": "error",
     "traceback": [
      "\u001b[1;31m---------------------------------------------------------------------------\u001b[0m",
      "\u001b[1;31mIOError\u001b[0m                                   Traceback (most recent call last)",
      "\u001b[1;32m<ipython-input-6-5a96b51ae0f9>\u001b[0m in \u001b[0;36m<module>\u001b[1;34m()\u001b[0m\n\u001b[1;32m----> 1\u001b[1;33m \u001b[0mshinym_df\u001b[0m \u001b[1;33m=\u001b[0m \u001b[0mpd\u001b[0m\u001b[1;33m.\u001b[0m\u001b[0mread_csv\u001b[0m\u001b[1;33m(\u001b[0m\u001b[0mcsv_path\u001b[0m \u001b[1;33m+\u001b[0m \u001b[1;34m\"shiny_mouse.csv\"\u001b[0m\u001b[1;33m)\u001b[0m\u001b[1;33m\u001b[0m\u001b[0m\n\u001b[0m",
      "\u001b[1;32mC:\\Users\\ramr\\AppData\\Local\\Continuum\\anaconda2\\lib\\site-packages\\pandas\\io\\parsers.pyc\u001b[0m in \u001b[0;36mparser_f\u001b[1;34m(filepath_or_buffer, sep, delimiter, header, names, index_col, usecols, squeeze, prefix, mangle_dupe_cols, dtype, engine, converters, true_values, false_values, skipinitialspace, skiprows, nrows, na_values, keep_default_na, na_filter, verbose, skip_blank_lines, parse_dates, infer_datetime_format, keep_date_col, date_parser, dayfirst, iterator, chunksize, compression, thousands, decimal, lineterminator, quotechar, quoting, escapechar, comment, encoding, dialect, tupleize_cols, error_bad_lines, warn_bad_lines, skipfooter, skip_footer, doublequote, delim_whitespace, as_recarray, compact_ints, use_unsigned, low_memory, buffer_lines, memory_map, float_precision)\u001b[0m\n\u001b[0;32m    707\u001b[0m                     skip_blank_lines=skip_blank_lines)\n\u001b[0;32m    708\u001b[0m \u001b[1;33m\u001b[0m\u001b[0m\n\u001b[1;32m--> 709\u001b[1;33m         \u001b[1;32mreturn\u001b[0m \u001b[0m_read\u001b[0m\u001b[1;33m(\u001b[0m\u001b[0mfilepath_or_buffer\u001b[0m\u001b[1;33m,\u001b[0m \u001b[0mkwds\u001b[0m\u001b[1;33m)\u001b[0m\u001b[1;33m\u001b[0m\u001b[0m\n\u001b[0m\u001b[0;32m    710\u001b[0m \u001b[1;33m\u001b[0m\u001b[0m\n\u001b[0;32m    711\u001b[0m     \u001b[0mparser_f\u001b[0m\u001b[1;33m.\u001b[0m\u001b[0m__name__\u001b[0m \u001b[1;33m=\u001b[0m \u001b[0mname\u001b[0m\u001b[1;33m\u001b[0m\u001b[0m\n",
      "\u001b[1;32mC:\\Users\\ramr\\AppData\\Local\\Continuum\\anaconda2\\lib\\site-packages\\pandas\\io\\parsers.pyc\u001b[0m in \u001b[0;36m_read\u001b[1;34m(filepath_or_buffer, kwds)\u001b[0m\n\u001b[0;32m    447\u001b[0m \u001b[1;33m\u001b[0m\u001b[0m\n\u001b[0;32m    448\u001b[0m     \u001b[1;31m# Create the parser.\u001b[0m\u001b[1;33m\u001b[0m\u001b[1;33m\u001b[0m\u001b[0m\n\u001b[1;32m--> 449\u001b[1;33m     \u001b[0mparser\u001b[0m \u001b[1;33m=\u001b[0m \u001b[0mTextFileReader\u001b[0m\u001b[1;33m(\u001b[0m\u001b[0mfilepath_or_buffer\u001b[0m\u001b[1;33m,\u001b[0m \u001b[1;33m**\u001b[0m\u001b[0mkwds\u001b[0m\u001b[1;33m)\u001b[0m\u001b[1;33m\u001b[0m\u001b[0m\n\u001b[0m\u001b[0;32m    450\u001b[0m \u001b[1;33m\u001b[0m\u001b[0m\n\u001b[0;32m    451\u001b[0m     \u001b[1;32mif\u001b[0m \u001b[0mchunksize\u001b[0m \u001b[1;32mor\u001b[0m \u001b[0miterator\u001b[0m\u001b[1;33m:\u001b[0m\u001b[1;33m\u001b[0m\u001b[0m\n",
      "\u001b[1;32mC:\\Users\\ramr\\AppData\\Local\\Continuum\\anaconda2\\lib\\site-packages\\pandas\\io\\parsers.pyc\u001b[0m in \u001b[0;36m__init__\u001b[1;34m(self, f, engine, **kwds)\u001b[0m\n\u001b[0;32m    816\u001b[0m             \u001b[0mself\u001b[0m\u001b[1;33m.\u001b[0m\u001b[0moptions\u001b[0m\u001b[1;33m[\u001b[0m\u001b[1;34m'has_index_names'\u001b[0m\u001b[1;33m]\u001b[0m \u001b[1;33m=\u001b[0m \u001b[0mkwds\u001b[0m\u001b[1;33m[\u001b[0m\u001b[1;34m'has_index_names'\u001b[0m\u001b[1;33m]\u001b[0m\u001b[1;33m\u001b[0m\u001b[0m\n\u001b[0;32m    817\u001b[0m \u001b[1;33m\u001b[0m\u001b[0m\n\u001b[1;32m--> 818\u001b[1;33m         \u001b[0mself\u001b[0m\u001b[1;33m.\u001b[0m\u001b[0m_make_engine\u001b[0m\u001b[1;33m(\u001b[0m\u001b[0mself\u001b[0m\u001b[1;33m.\u001b[0m\u001b[0mengine\u001b[0m\u001b[1;33m)\u001b[0m\u001b[1;33m\u001b[0m\u001b[0m\n\u001b[0m\u001b[0;32m    819\u001b[0m \u001b[1;33m\u001b[0m\u001b[0m\n\u001b[0;32m    820\u001b[0m     \u001b[1;32mdef\u001b[0m \u001b[0mclose\u001b[0m\u001b[1;33m(\u001b[0m\u001b[0mself\u001b[0m\u001b[1;33m)\u001b[0m\u001b[1;33m:\u001b[0m\u001b[1;33m\u001b[0m\u001b[0m\n",
      "\u001b[1;32mC:\\Users\\ramr\\AppData\\Local\\Continuum\\anaconda2\\lib\\site-packages\\pandas\\io\\parsers.pyc\u001b[0m in \u001b[0;36m_make_engine\u001b[1;34m(self, engine)\u001b[0m\n\u001b[0;32m   1047\u001b[0m     \u001b[1;32mdef\u001b[0m \u001b[0m_make_engine\u001b[0m\u001b[1;33m(\u001b[0m\u001b[0mself\u001b[0m\u001b[1;33m,\u001b[0m \u001b[0mengine\u001b[0m\u001b[1;33m=\u001b[0m\u001b[1;34m'c'\u001b[0m\u001b[1;33m)\u001b[0m\u001b[1;33m:\u001b[0m\u001b[1;33m\u001b[0m\u001b[0m\n\u001b[0;32m   1048\u001b[0m         \u001b[1;32mif\u001b[0m \u001b[0mengine\u001b[0m \u001b[1;33m==\u001b[0m \u001b[1;34m'c'\u001b[0m\u001b[1;33m:\u001b[0m\u001b[1;33m\u001b[0m\u001b[0m\n\u001b[1;32m-> 1049\u001b[1;33m             \u001b[0mself\u001b[0m\u001b[1;33m.\u001b[0m\u001b[0m_engine\u001b[0m \u001b[1;33m=\u001b[0m \u001b[0mCParserWrapper\u001b[0m\u001b[1;33m(\u001b[0m\u001b[0mself\u001b[0m\u001b[1;33m.\u001b[0m\u001b[0mf\u001b[0m\u001b[1;33m,\u001b[0m \u001b[1;33m**\u001b[0m\u001b[0mself\u001b[0m\u001b[1;33m.\u001b[0m\u001b[0moptions\u001b[0m\u001b[1;33m)\u001b[0m\u001b[1;33m\u001b[0m\u001b[0m\n\u001b[0m\u001b[0;32m   1050\u001b[0m         \u001b[1;32melse\u001b[0m\u001b[1;33m:\u001b[0m\u001b[1;33m\u001b[0m\u001b[0m\n\u001b[0;32m   1051\u001b[0m             \u001b[1;32mif\u001b[0m \u001b[0mengine\u001b[0m \u001b[1;33m==\u001b[0m \u001b[1;34m'python'\u001b[0m\u001b[1;33m:\u001b[0m\u001b[1;33m\u001b[0m\u001b[0m\n",
      "\u001b[1;32mC:\\Users\\ramr\\AppData\\Local\\Continuum\\anaconda2\\lib\\site-packages\\pandas\\io\\parsers.pyc\u001b[0m in \u001b[0;36m__init__\u001b[1;34m(self, src, **kwds)\u001b[0m\n\u001b[0;32m   1693\u001b[0m         \u001b[0mkwds\u001b[0m\u001b[1;33m[\u001b[0m\u001b[1;34m'allow_leading_cols'\u001b[0m\u001b[1;33m]\u001b[0m \u001b[1;33m=\u001b[0m \u001b[0mself\u001b[0m\u001b[1;33m.\u001b[0m\u001b[0mindex_col\u001b[0m \u001b[1;32mis\u001b[0m \u001b[1;32mnot\u001b[0m \u001b[0mFalse\u001b[0m\u001b[1;33m\u001b[0m\u001b[0m\n\u001b[0;32m   1694\u001b[0m \u001b[1;33m\u001b[0m\u001b[0m\n\u001b[1;32m-> 1695\u001b[1;33m         \u001b[0mself\u001b[0m\u001b[1;33m.\u001b[0m\u001b[0m_reader\u001b[0m \u001b[1;33m=\u001b[0m \u001b[0mparsers\u001b[0m\u001b[1;33m.\u001b[0m\u001b[0mTextReader\u001b[0m\u001b[1;33m(\u001b[0m\u001b[0msrc\u001b[0m\u001b[1;33m,\u001b[0m \u001b[1;33m**\u001b[0m\u001b[0mkwds\u001b[0m\u001b[1;33m)\u001b[0m\u001b[1;33m\u001b[0m\u001b[0m\n\u001b[0m\u001b[0;32m   1696\u001b[0m \u001b[1;33m\u001b[0m\u001b[0m\n\u001b[0;32m   1697\u001b[0m         \u001b[1;31m# XXX\u001b[0m\u001b[1;33m\u001b[0m\u001b[1;33m\u001b[0m\u001b[0m\n",
      "\u001b[1;32mpandas\\_libs\\parsers.pyx\u001b[0m in \u001b[0;36mpandas._libs.parsers.TextReader.__cinit__\u001b[1;34m()\u001b[0m\n",
      "\u001b[1;32mpandas\\_libs\\parsers.pyx\u001b[0m in \u001b[0;36mpandas._libs.parsers.TextReader._setup_parser_source\u001b[1;34m()\u001b[0m\n",
      "\u001b[1;31mIOError\u001b[0m: File C:/Users/kumar/Documents/GitHub/Personal-Projects/ivscc_paper/csvs/shiny_mouse.csv does not exist"
     ]
    }
   ],
   "source": [
    "shinym_df = pd.read_csv(csv_path + \"shiny_mouse.csv\")"
   ]
  },
  {
   "cell_type": "markdown",
   "metadata": {},
   "source": [
    "#### Filter to desired columns in shinym_df"
   ]
  },
  {
   "cell_type": "code",
   "execution_count": null,
   "metadata": {},
   "outputs": [],
   "source": [
    "shinym_col_list = [\"sample_id\",\n",
    "                   \"Data\",\n",
    "                   \"postPatch\",\n",
    "                   \"percent_cdna_longer_than_400bp\",\n",
    "                   \"amplified_quantity_ng\",\n",
    "                   \"Genes.Detected.CPM\",\n",
    "                   \"Tree_call\",\n",
    "                   \"marker_sum_norm_label\",\n",
    "                   \"Total_time\"]\n",
    "shinym_df = shinym_df[shinym_col_list]\n",
    "len(shinym_df)"
   ]
  },
  {
   "cell_type": "markdown",
   "metadata": {},
   "source": [
    "#### Filtering shinym_df based on conditions and creating/sorting by date column"
   ]
  },
  {
   "cell_type": "code",
   "execution_count": null,
   "metadata": {
    "scrolled": true
   },
   "outputs": [],
   "source": [
    "shinym_df.dropna(subset=[\"postPatch\"], inplace=True) # 7 NaN samples\n",
    "shinym_df[\"date\"] = shinym_df.sample_id.str[5:11]\n",
    "shinym_df.sort_values(\"date\", inplace=True)\n",
    "shinym_df.set_index(\"date\", inplace=True)\n",
    "shinym_df = shinym_df.loc[:\"180620\"]"
   ]
  },
  {
   "cell_type": "code",
   "execution_count": null,
   "metadata": {},
   "outputs": [],
   "source": [
    "prod_df = shinym_df[shinym_df[\"Data\"] == \"Production\"]\n",
    "len(prod_df)"
   ]
  },
  {
   "cell_type": "markdown",
   "metadata": {},
   "source": [
    "#### met_df has only cells with project code mIVSCC-MET"
   ]
  },
  {
   "cell_type": "code",
   "execution_count": null,
   "metadata": {},
   "outputs": [],
   "source": [
    "met_df = prod_df[(prod_df.postPatch == \"nucleus_present\") | (prod_df.postPatch == \"nucleus_absent\")]\n",
    "len(met_df)"
   ]
  },
  {
   "cell_type": "markdown",
   "metadata": {},
   "source": [
    "#### Replacing all terminology to nucleus_present and nulceus_absent for all production data"
   ]
  },
  {
   "cell_type": "code",
   "execution_count": null,
   "metadata": {},
   "outputs": [],
   "source": [
    "replacements = {\"Nucleated\" : \"nucleus_present\", \n",
    "                \"Partial-Nucleus\" : \"nucleus_present\",\n",
    "                \"No-Seal\" : \"nucleus_absent\",\n",
    "                \"Entire-Cell\" : \"nucleus_absent\",\n",
    "                \"entire_cell\" : \"nucleus_absent\",\n",
    "                \"Outside-Out\" : \"nucleus_absent\"}\n",
    "prod_df[\"postPatch\"] = prod_df[\"postPatch\"].replace(replacements)"
   ]
  },
  {
   "cell_type": "code",
   "execution_count": null,
   "metadata": {},
   "outputs": [],
   "source": [
    "prod_df.postPatch.value_counts()"
   ]
  },
  {
   "cell_type": "code",
   "execution_count": null,
   "metadata": {},
   "outputs": [],
   "source": [
    "met_df.postPatch.value_counts()"
   ]
  },
  {
   "cell_type": "code",
   "execution_count": null,
   "metadata": {},
   "outputs": [],
   "source": [
    "len(met_df)"
   ]
  },
  {
   "cell_type": "markdown",
   "metadata": {},
   "source": [
    "#### Patch Duration Integration"
   ]
  },
  {
   "cell_type": "code",
   "execution_count": null,
   "metadata": {},
   "outputs": [],
   "source": [
    "met_df.dropna(subset=[\"Total_time\"], inplace=True)\n",
    "len(met_df)"
   ]
  },
  {
   "cell_type": "code",
   "execution_count": null,
   "metadata": {},
   "outputs": [],
   "source": [
    "met_df[\"Total_time_min\"] = met_df[\"Total_time\"] / 60"
   ]
  },
  {
   "cell_type": "code",
   "execution_count": null,
   "metadata": {},
   "outputs": [],
   "source": [
    "bins = [0, 5, 10, 15, 20, 25]\n",
    "labels = [\"0-5\", \"5-10\", \"10-15\", \"15-20\", \"20-25\"]\n",
    "met_df = met_df[met_df[\"Total_time_min\"] > 0] #& (met_df[\"Total_time_min\"] <= 30)]\n",
    "met_df[\"Total_time_bins\"] = pd.cut(x=met_df[\"Total_time_min\"], bins=bins, labels=labels)\n",
    "len(met_df)"
   ]
  },
  {
   "cell_type": "code",
   "execution_count": null,
   "metadata": {},
   "outputs": [],
   "source": [
    "met_df[\"percent_cdna_longer_than_400bp\"] = met_df[\"percent_cdna_longer_than_400bp\"] * 100"
   ]
  },
  {
   "cell_type": "code",
   "execution_count": null,
   "metadata": {},
   "outputs": [],
   "source": [
    "met_df.head()"
   ]
  },
  {
   "cell_type": "markdown",
   "metadata": {},
   "source": [
    "#### Obtaining mean markers sums for line plots"
   ]
  },
  {
   "cell_type": "code",
   "execution_count": null,
   "metadata": {},
   "outputs": [],
   "source": [
    "met_amp = met_df.groupby([\"Total_time_bins\", \"postPatch\"])[\"amplified_quantity_ng\"].agg([\"mean\", \"sem\", \"std\", \"size\"])\n",
    "met_dna = met_df.groupby([\"Total_time_bins\", \"postPatch\"])[\"percent_cdna_longer_than_400bp\"].agg([\"mean\", \"sem\", \"std\", \"size\"])\n",
    "met_gen = met_df.groupby([\"Total_time_bins\", \"postPatch\"])[\"Genes.Detected.CPM\"].agg([\"mean\", \"sem\", \"std\", \"size\"])\n",
    "met_nms = met_df.groupby([\"Total_time_bins\", \"postPatch\"])[\"marker_sum_norm_label\"].agg([\"mean\", \"sem\", \"std\", \"size\"])\n",
    "\n",
    "met_amp.reset_index(inplace=True)\n",
    "met_dna.reset_index(inplace=True)\n",
    "met_gen.reset_index(inplace=True)\n",
    "met_nms.reset_index(inplace=True)"
   ]
  },
  {
   "cell_type": "code",
   "execution_count": null,
   "metadata": {},
   "outputs": [],
   "source": [
    "met_amp"
   ]
  },
  {
   "cell_type": "code",
   "execution_count": null,
   "metadata": {},
   "outputs": [],
   "source": [
    "met_dna"
   ]
  },
  {
   "cell_type": "code",
   "execution_count": null,
   "metadata": {},
   "outputs": [],
   "source": [
    "met_gen"
   ]
  },
  {
   "cell_type": "code",
   "execution_count": null,
   "metadata": {},
   "outputs": [],
   "source": [
    "met_nms"
   ]
  },
  {
   "cell_type": "markdown",
   "metadata": {},
   "source": [
    "#### Graph Function for Line Graph"
   ]
  },
  {
   "cell_type": "code",
   "execution_count": null,
   "metadata": {},
   "outputs": [],
   "source": [
    "def linplt(col_label, df):\n",
    "    ax=sns.catplot(kind=\"point\", x=\"Total_time_bins\", y=\"mean\", hue=\"postPatch\", hue_order=patch_order, data=df,\n",
    "                   palette=colors, saturation=1, width=0.6, aspect=1.3, legend=False)\n",
    "    ax.set(xlabel=\"Patch Duration (min)\", ylabel=col_label)"
   ]
  },
  {
   "cell_type": "code",
   "execution_count": null,
   "metadata": {},
   "outputs": [],
   "source": [
    "def poiplt(col, col_label, df, ymax):\n",
    "    plt.figure(figsize=(6, 6))\n",
    "    ax=sns.pointplot(x=\"Total_time_bins\", y=col, hue=\"postPatch\", hue_order=patch_order,\n",
    "                     data=df, palette=colors, dodge=True,\n",
    "                     markers=[\"o\", \"o\"], ci=68, scale=1.5, capsize=0.2, errwidth=1.5)\n",
    "    ax.legend_.remove()\n",
    "    ax.set(xlabel=\"Patch Duration (min)\", ylabel=col_label)\n",
    "    ax.set_title(col_label)\n",
    "    ax.set_ylim(0, ymax)\n",
    "    ax.spines['right'].set_visible(False)\n",
    "    ax.spines['top'].set_visible(False)\n",
    "    plt.savefig(graph_path + \"met_poi\" + col + \".jpeg\", bbox_inches=\"tight\")"
   ]
  },
  {
   "cell_type": "markdown",
   "metadata": {},
   "source": [
    "#### Graph Function for Boxen Graph"
   ]
  },
  {
   "cell_type": "code",
   "execution_count": null,
   "metadata": {},
   "outputs": [],
   "source": [
    "def benplt(col, col_label, df):\n",
    "    ax=sns.catplot(kind=\"boxen\", x=\"Total_time_bins\", y=col, hue=\"postPatch\", \n",
    "                   hue_order=[\"nucleus_present\", \"nucleus_absent\"], \n",
    "                   data=df, palette=colors, saturation=1, width=0.6, aspect=2, legend=False)\n",
    "    ax.set(xlabel=\"Patch Duration (min)\", ylabel=col_label)\n",
    "    #plt.legend(frameon=True, fancybox=True, title=\"Post Patch Outcome\",\n",
    "    #           loc=\"center left\", bbox_to_anchor=(1.0, 0.5), shadow=True)\n",
    "    plt.savefig(graph_path + \"met_ben\" + col + \".jpeg\", bbox_inches=\"tight\")"
   ]
  },
  {
   "cell_type": "markdown",
   "metadata": {},
   "source": [
    "#### Graph Function for Violin Graph"
   ]
  },
  {
   "cell_type": "code",
   "execution_count": null,
   "metadata": {},
   "outputs": [],
   "source": [
    "def vioplt(col, col_label, df):\n",
    "    plt.figure(figsize=(5, 6))\n",
    "    ax=sns.violinplot(x=\"postPatch\", y=col, data=df, order=patch_order, \n",
    "                      scale=\"count\", inner=\"quartile\", \n",
    "                      linewidth=1, saturation=1, width=0.9, palette=colors)\n",
    "    ax=sns.swarmplot(x=\"postPatch\", y=col, data=df, order=patch_order,\n",
    "                     linewidth=1, size=0.3, color=\"0.2\")\n",
    "    ax.set_xlabel(\"Post Patch Outcome\")\n",
    "    ax.set_ylabel(col_label, fontsize=16)\n",
    "    plt.savefig(graph_path + \"met_vio\" + col + \".jpeg\", bbox_inches=\"tight\")"
   ]
  },
  {
   "cell_type": "markdown",
   "metadata": {},
   "source": [
    "#### Graph Functions for Stacked Percentage Bar Graph"
   ]
  },
  {
   "cell_type": "code",
   "execution_count": null,
   "metadata": {},
   "outputs": [],
   "source": [
    "def piv_table(df):\n",
    "    df1 = df.loc[:,[\"postPatch\", \"Tree_call\", \"Data\"]]\n",
    "    df1 = df.groupby([\"postPatch\", \"Tree_call\"]).count()\n",
    "    df1 = df1.rename(columns = {\"Data\" : \"\"})\n",
    "    df1.reset_index(inplace = True)\n",
    "    df1 = df1.pivot_table(values=[''], index=[\"postPatch\"], columns = [\"Tree_call\"], aggfunc=\"sum\")\n",
    "    return df1\n",
    "\n",
    "def stacked_plot(df):\n",
    "    nuc_order = [\"nucleus_present\", \"nucleus_absent\"]\n",
    "    my_colors = ['#74c476', '#de2d26']\n",
    "    bp = df.loc[nuc_order].plot(kind=\"bar\", stacked = True, figsize= (8,6), rot = 0, \n",
    "                 colormap=ListedColormap(sns.color_palette(\"GnBu\", 10)),width = 0.4)\n",
    "\n",
    "    bp.legend([\"Core\", \"I1\", \"I2\", \"I3\", \"PoorQ\"], loc = 0, bbox_to_anchor = (1, 1.02), \n",
    "              frameon = True, shadow = True, fontsize = 13)\n",
    "\n",
    "    plt.subplots_adjust(left = 0.1, right = 0.8, bottom = None, top = None, wspace=None, hspace=None)\n",
    "    #This helps if axis labels are getting cutoff when saving final image\n",
    "\n",
    "    #Rusty's Method figure it out later\n",
    "    rects = bp.patches\n",
    "    labels = post_patch_totals\n",
    "\n",
    "    #Rusty's Method figure it out later\n",
    "    for rect, label in zip (rects, labels):\n",
    "        height = 100\n",
    "        x_value = rect.get_x() + rect.get_width() / 2\n",
    "        bp.text(rect.get_x() + rect.get_width()/2, height, label, ha='center', va='bottom', size = 12)\n",
    "\n",
    "    bp.set_title(\"Tree calls for Post Patch Outcomes\")\n",
    "    bp.set(xlabel = \"Post Patch Outcome\", ylabel = \"Percentage\")\n",
    "    plt.savefig(graph_path + \"met_stk.jpeg\", bbox_inches=\"tight\")"
   ]
  },
  {
   "cell_type": "markdown",
   "metadata": {},
   "source": [
    "#### Line Graphs"
   ]
  },
  {
   "cell_type": "code",
   "execution_count": null,
   "metadata": {},
   "outputs": [],
   "source": [
    "met_df.postPatch.value_counts()"
   ]
  },
  {
   "cell_type": "code",
   "execution_count": null,
   "metadata": {},
   "outputs": [],
   "source": [
    "poiplt(\"amplified_quantity_ng\", \"Amplified content (ng)\", met_df, 20)\n",
    "poiplt(\"percent_cdna_longer_than_400bp\", \"cDNA quality (%>400 bp)\", met_df, 100)\n",
    "poiplt(\"Genes.Detected.CPM\", \"Number of genes\", met_df, 10000)\n",
    "poiplt(\"marker_sum_norm_label\", \"NMS\", met_df, 1.0)"
   ]
  },
  {
   "cell_type": "markdown",
   "metadata": {},
   "source": [
    "#### Boxen Graphs"
   ]
  },
  {
   "cell_type": "code",
   "execution_count": null,
   "metadata": {},
   "outputs": [],
   "source": [
    "benplt(\"amplified_quantity_ng\", \"Amplified content (ng)\", met_df[met_df.amplified_quantity_ng <= 60])\n",
    "benplt(\"percent_cdna_longer_than_400bp\", \"cDNA quality (%>400 bp)\", met_df[met_df.percent_cdna_longer_than_400bp <= 1])\n",
    "benplt(\"Genes.Detected.CPM\", \"Number of genes\", met_df[met_df[\"Genes.Detected.CPM\"] <= 15000])\n",
    "benplt(\"marker_sum_norm_label\", \"NMS\", met_df[met_df.marker_sum_norm_label <= 1.5])"
   ]
  },
  {
   "cell_type": "markdown",
   "metadata": {},
   "source": [
    "#### Violin Graphs"
   ]
  },
  {
   "cell_type": "code",
   "execution_count": null,
   "metadata": {},
   "outputs": [],
   "source": [
    "vioplt(\"amplified_quantity_ng\", \"Amplified content (ng)\", met_df[met_df.amplified_quantity_ng <= 60])\n",
    "vioplt(\"percent_cdna_longer_than_400bp\", \"cDNA quality (%>400 bp)\", met_df[met_df.percent_cdna_longer_than_400bp <= 1])\n",
    "vioplt(\"Genes.Detected.CPM\", \"Number of genes\", met_df[met_df[\"Genes.Detected.CPM\"] <= 15000])\n",
    "vioplt(\"marker_sum_norm_label\", \"NMS\", met_df[met_df.marker_sum_norm_label <= 1.5])"
   ]
  },
  {
   "cell_type": "markdown",
   "metadata": {},
   "source": [
    "#### Stacked Percentage Bar Graph"
   ]
  },
  {
   "cell_type": "code",
   "execution_count": null,
   "metadata": {},
   "outputs": [],
   "source": [
    "met_df1 = piv_table(met_df)\n",
    "post_patch_totals = list(met_df1.sum(1))\n",
    "post_patch_totals = [int(x) for x in post_patch_totals]\n",
    "met_df1 = met_df1.div(met_df1.sum(1), axis=0) * 100\n",
    "met_df1"
   ]
  },
  {
   "cell_type": "code",
   "execution_count": null,
   "metadata": {},
   "outputs": [],
   "source": [
    "stacked_plot(met_df1)"
   ]
  },
  {
   "cell_type": "markdown",
   "metadata": {},
   "source": [
    "#### Countplot for Tree_calls for nucelus_present vs nucleus_absent"
   ]
  },
  {
   "cell_type": "code",
   "execution_count": null,
   "metadata": {},
   "outputs": [],
   "source": [
    "sns.countplot(x=\"postPatch\", hue=\"Tree_call\", hue_order = [\"Core\", \"I1\", \"I2\", \"I3\", \"PoorQ\"],\n",
    "              data=met_df, palette=\"GnBu\", saturation=1)"
   ]
  },
  {
   "cell_type": "markdown",
   "metadata": {},
   "source": [
    "#### Writing dataframe into Excel Sheets"
   ]
  },
  {
   "cell_type": "code",
   "execution_count": null,
   "metadata": {},
   "outputs": [],
   "source": [
    "writer = pd.ExcelWriter(graph_path + \"nucleus_present_absent_RR.xlsx\")\n",
    "met_df.to_excel(writer, \"MET Data\", freeze_panes=(1,0))\n",
    "prod_df.to_excel(writer, \"Production Data\", freeze_panes=(1,0))\n",
    "shinym_df.to_excel(writer, \"Reference Shiny Mouse Data\", freeze_panes=(1,0))\n",
    "writer.save()"
   ]
  },
  {
   "cell_type": "code",
   "execution_count": null,
   "metadata": {},
   "outputs": [],
   "source": []
  }
 ],
 "metadata": {
  "kernelspec": {
   "display_name": "Python 2",
   "language": "python",
   "name": "python2"
  },
  "language_info": {
   "codemirror_mode": {
    "name": "ipython",
    "version": 2
   },
   "file_extension": ".py",
   "mimetype": "text/x-python",
   "name": "python",
   "nbconvert_exporter": "python",
   "pygments_lexer": "ipython2",
   "version": "2.7.15"
  }
 },
 "nbformat": 4,
 "nbformat_minor": 2
}
