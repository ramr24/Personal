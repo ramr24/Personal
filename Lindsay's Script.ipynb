{
 "cells": [
  {
   "cell_type": "markdown",
   "metadata": {},
   "source": [
    "# Lindsay's Script"
   ]
  },
  {
   "cell_type": "code",
   "execution_count": null,
   "metadata": {},
   "outputs": [],
   "source": [
    "import os\n",
    "import pg8000          #pg8000 access SQL databases\n",
    "import pandas as pd    #paandas will be needed to work in a dataframe\n",
    "from pandas import ExcelWriter"
   ]
  },
  {
   "cell_type": "code",
   "execution_count": null,
   "metadata": {},
   "outputs": [],
   "source": [
    "#code from Agata\n",
    "#these are nice functions to open LIMS, make a query and then close LIMS after\n",
    "\n",
    "def _connect(user=\"limsreader\", host=\"limsdb2\", database=\"lims2\", password=\"limsro\", port=5432):\n",
    "    conn = pg8000.connect(user=user, host=host, database=database, password=password, port=port)\n",
    "    return conn, conn.cursor()\n",
    "\n",
    "def _select(cursor, query):\n",
    "    cursor.execute(query)\n",
    "    columns = [ d[0] for d in cursor.description ]\n",
    "    return [ dict(zip(columns, c)) for c in cursor.fetchall() ]\n",
    "\n",
    "def limsquery(query, user=\"limsreader\", host=\"limsdb2\", database=\"lims2\", password=\"limsro\", port=5432):\n",
    "    \"\"\"A function that takes a string containing a SQL query, connects to the LIMS database and outputs the result.\"\"\"\n",
    "    conn, cursor = _connect(user, host, database, password, port)\n",
    "    try:\n",
    "        results = _select(cursor, query)\n",
    "    finally:\n",
    "        \n",
    "        #THESE ARE IMPORTANT!!!!!!\n",
    "        #Every query needs to be closed when done\n",
    "        cursor.close()             \n",
    "        conn.close()\n",
    "    return results\n",
    "\n",
    "\n",
    "#this last function will take our query results and put them in a dataframe so that they are easy to work with\n",
    "def get_lims_dataframe(query):\n",
    "    '''Return a dataframe with lims query'''\n",
    "    result = limsquery(query)\n",
    "    try:\n",
    "        data_df = pd.DataFrame(data=result, columns=result[0].keys())\n",
    "    except IndexError:\n",
    "        print \"Could not find results for your query.\"\n",
    "        data_df = pd.DataFrame()\n",
    "    return data_df"
   ]
  },
  {
   "cell_type": "markdown",
   "metadata": {},
   "source": [
    "### User Report"
   ]
  },
  {
   "cell_type": "code",
   "execution_count": null,
   "metadata": {},
   "outputs": [],
   "source": [
    "def user_df(P_number):\n",
    "    \"\"\"Saves an excel dataframe with all patched cells for a specified user in current directory.\n",
    "     \n",
    "    Parameters\n",
    "    ----------\n",
    "    P_number : A string. Corresponds to the user's P number in the form of P1, P2, P3, etc.\n",
    "       \n",
    "    Returns\n",
    "    -------\n",
    "    None\n",
    "    \"\"\"\n",
    "    user = master_df[master_df[\"patched_cell_container\"].str.contains(P_number)]\n",
    "    user.sort_values(\"patched_cell_container\", axis = 0, inplace = True)\n",
    "    user = user.loc[:,['name', 'patched_cell_container','recording_date', 'rna_qc', 'go_no_go_63x', 'link_20x']]\n",
    "    writer = pd.ExcelWriter('user_dataframe.xlsx')\n",
    "    user.to_excel(writer,'Sheet1')\n",
    "    return None\n",
    "\n",
    "def cell_count(P_number, df):\n",
    "    \"\"\"Return the number of cells in a specified dataframe for a specified user.\n",
    "     \n",
    "    Parameters\n",
    "    ----------\n",
    "    P_number : A string. Corresponds to the user's P number in the form of P1, P2, P3, etc.\n",
    "    df: a pandas dataframe\n",
    "    \n",
    "    Returns\n",
    "    -------\n",
    "    An integer cell number\n",
    "    \"\"\"\n",
    "    user = df[df[\"patched_cell_container\"].str.contains(P_number)]\n",
    "    return user[\"patched_cell_container\"].count()\n",
    "\n",
    "def per_user(P_number):\n",
    "    \"\"\"Returns a summary of patcher metrics for a specified user.\n",
    "     \n",
    "    Parameters\n",
    "    ----------\n",
    "    P_number : A string. Corresponds to the user's P number in the form of P1, P2, P3, etc.\n",
    "        \n",
    "    Returns\n",
    "    -------\n",
    "    Returns None\n",
    "    Prints a summary of patcher metrics, including total cells patched, cells that passed RNA seq QC, and QC pass percentage\n",
    "    \"\"\"\n",
    "    print \"Total cells patched:\", cell_count(P_number,master_df)\n",
    "    print \"Cells that passed RNA seq QC:\", cell_count(P_number,qcpass)\n",
    "    print \"QC pass percentage:\", float((cell_count(P_number,qcpass)))/float((cell_count(P_number,master_df)))\n",
    "    print \"Cells imaged at 63x:\", cell_count(P_number,imagego)\n",
    "\n",
    "def gen_filter(df, col, cond):\n",
    "    filtered = df[df[col] == cond]\n",
    "    return filtered"
   ]
  },
  {
   "cell_type": "code",
   "execution_count": null,
   "metadata": {},
   "outputs": [],
   "source": [
    "query = \"\"\"\n",
    "WITH do_63x(cell_id, go) AS (SELECT DISTINCT cell.id, array_to_string(array_agg(DISTINCT tag.name), ' _AND_ ') \n",
    "FROM specimens cell JOIN ephys_roi_results err ON err.id = cell.ephys_roi_result_id \n",
    "JOIN specimen_tags_specimens sptagsp ON sptagsp.specimen_id = cell.id \n",
    "JOIN specimen_tags tag ON tag.id = sptagsp.specimen_tag_id AND tag.id in (602120185,602122082) \n",
    "GROUP BY cell.id ORDER BY 1), \n",
    "imgs20 AS (WITH tag_list AS (SELECT DISTINCT ims.id AS ims_id, imst.name AS tag FROM image_series ims \n",
    "JOIN image_series_image_series_tags ims2imst ON ims2imst.image_series_id = ims.id \n",
    "JOIN image_series_tags imst ON imst.id = ims2imst.image_series_tag_id \n",
    "ORDER BY 1,2) \n",
    "SELECT DISTINCT ims.id AS image_series_id, ims.workflow_state AS workflow_state, ims.specimen_id, \n",
    "ARRAY_TO_STRING(ARRAY_AGG(DISTINCT tag_list.tag), '_AND_') AS tags FROM image_series ims \n",
    "LEFT JOIN tag_list ON tag_list.ims_id = ims.id \n",
    "WHERE ims.type = 'FocalPlaneImageSeries' AND is_stack = false \n",
    "GROUP BY ims.id, ims.workflow_state, ims.specimen_id)\n",
    "SELECT DISTINCT s.patched_cell_container, err.recording_date, do_63x.go AS go_no_go_63x, CASE WHEN ra.id IS NOT NULL THEN (CASE WHEN ra.failed = 't' THEN 'failed' ELSE 'passed' END) ELSE '' END AS rna_qc, s.name,\n",
    "'=HYPERLINK(\"http://lims2/focal_plane_image_series?id=' || imgs20.image_series_id || '\")' as link_20x\n",
    "FROM specimens s \n",
    "LEFT JOIN projects proj ON s.project_id = proj.id \n",
    "LEFT JOIN do_63x ON do_63x.cell_id = s.id \n",
    "JOIN specimens slice ON s.parent_id = slice.id\n",
    "LEFT JOIN ephys_roi_results err ON s.ephys_roi_result_id = err.id \n",
    "LEFT JOIN rna_amplification_inputs rai on rai.sample_id = s.id \n",
    "LEFT JOIN imgs20 ON slice.id = imgs20.specimen_id \n",
    "LEFT JOIN rna_amplifications ra on ra.id = rai.rna_amplification_id \n",
    "WHERE proj.code <> 'mMPATCH' AND \n",
    "s.patched_cell_container IS NOT NULL \n",
    "AND err.recording_date > '2017-10-01'\n",
    "\"\"\"\n",
    "\n",
    "#AND (err.recording_date > '2017-10-01' OR err.recording_date IS NULL)\n",
    "#AND err.recording_date > '2017-10-01'\n",
    "\n",
    "master_df = get_lims_dataframe(query)\n",
    "master_df"
   ]
  },
  {
   "cell_type": "code",
   "execution_count": null,
   "metadata": {},
   "outputs": [],
   "source": [
    "qcpass ==  gen_filtergen_filt (master_df,'rna_qc', 'passed')\n",
    "qcpass"
   ]
  },
  {
   "cell_type": "code",
   "execution_count": null,
   "metadata": {},
   "outputs": [],
   "source": [
    "imagego = gen_filter(master_df,'go_no_go_63x', '63x go')"
   ]
  },
  {
   "cell_type": "code",
   "execution_count": null,
   "metadata": {},
   "outputs": [],
   "source": [
    "user_df('PA') #Outputs an excel sheet based on 'User'"
   ]
  },
  {
   "cell_type": "code",
   "execution_count": null,
   "metadata": {},
   "outputs": [],
   "source": [
    "per_user('PA') #Outputs print commands with results based on 'User'"
   ]
  },
  {
   "cell_type": "code",
   "execution_count": null,
   "metadata": {},
   "outputs": [],
   "source": []
  }
 ],
 "metadata": {
  "kernelspec": {
   "display_name": "Python 3",
   "language": "python",
   "name": "python3"
  },
  "language_info": {
   "codemirror_mode": {
    "name": "ipython",
    "version": 3
   },
   "file_extension": ".py",
   "mimetype": "text/x-python",
   "name": "python",
   "nbconvert_exporter": "python",
   "pygments_lexer": "ipython3",
   "version": "3.6.3"
  }
 },
 "nbformat": 4,
 "nbformat_minor": 2
}
