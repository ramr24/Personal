{
 "cells": [
  {
   "cell_type": "markdown",
   "metadata": {},
   "source": [
    "## Homework Questions"
   ]
  },
  {
   "cell_type": "code",
   "execution_count": 1,
   "metadata": {},
   "outputs": [],
   "source": [
    "#1. Find how many cells took longer to find instanteous threshold than they did to find rheobase (ie more SSFINEST than LSFINEST sweeps).\n",
    "#2. Show the distribution of hemispheres all the cells patched in 2017 with the age and sex of the mice used.\n",
    "#3. Look for cells that do not have a qc reviewer and failed qc for project T301. What are the cell level qc failures? (access, gohm seal, blowout, input resistance)\n",
    "#4. Find all the H301 cells where DiJon was stage 1 reviewer that manually passed qc and the cells where Lisa was stage 2 review that manually failed qc."
   ]
  },
  {
   "cell_type": "code",
   "execution_count": 2,
   "metadata": {},
   "outputs": [],
   "source": [
    "import pg8000          #pg8000 access SQL databases\n",
    "import pandas as pd    #pandas will be needed to work in a dataframe"
   ]
  },
  {
   "cell_type": "code",
   "execution_count": 3,
   "metadata": {},
   "outputs": [],
   "source": [
    "#Code from Agata\n",
    "#Opens LIMS, makes a query and then closes LIMS after\n",
    "\n",
    "def _connect(user=\"limsreader\", host=\"limsdb2\", database=\"lims2\", password=\"limsro\", port=5432):\n",
    "    conn = pg8000.connect(user=user, host=host, database=database, password=password, port=port)\n",
    "    return conn, conn.cursor()\n",
    "\n",
    "def _select(cursor, query):\n",
    "    cursor.execute(query)\n",
    "    columns = [ d[0] for d in cursor.description ]\n",
    "    return [ dict(zip(columns, c)) for c in cursor.fetchall() ]\n",
    "\n",
    "def limsquery(query, user=\"limsreader\", host=\"limsdb2\", database=\"lims2\", password=\"limsro\", port=5432):\n",
    "    \"\"\"A function that takes a string containing a SQL query, connects to the LIMS database and outputs the result.\"\"\"\n",
    "    conn, cursor = _connect(user, host, database, password, port)\n",
    "    try:\n",
    "        results = _select(cursor, query)\n",
    "    finally:\n",
    "        #THESE ARE IMPORTANT!!!!!! (Every query needs to be closed when done)\n",
    "        #This closes query\n",
    "        cursor.close()             \n",
    "        conn.close()\n",
    "    return results\n",
    "\n",
    "\n",
    "#This last function will take our query results and put them in a dataframe so that they are easy to work with\n",
    "def get_lims_dataframe(query):\n",
    "    '''Return a dataframe with lims query'''\n",
    "    result = limsquery(query)\n",
    "    try:\n",
    "        data_df = pd.DataFrame(data=result, columns=result[0].keys())\n",
    "    except IndexError:\n",
    "        print \"Could not find results for your query.\"\n",
    "        data_df = pd.DataFrame()\n",
    "    return data_df"
   ]
  },
  {
   "cell_type": "markdown",
   "metadata": {},
   "source": [
    "### Question 1: Find how many cells took longer to find instanteous threshold than they did to find rheobase (ie more SSFINEST than LSFINEST sweeps)."
   ]
  },
  {
   "cell_type": "code",
   "execution_count": 7,
   "metadata": {},
   "outputs": [
    {
     "name": "stdout",
     "output_type": "stream",
     "text": [
      "['stimulus_interval', 'updated_at', 'num_spikes', 'id', 'pre_vm_mv', 'stimulus_duration', 'stimulus_start_time', 'slow_noise_rms_mv', 'stimulus_amplitude', 'peak_deflection', 'bridge_balance_mohm', 'stimulus_units', 'workflow_state', 'specimen_id', 'sweep_number', 'vm_delta_mv', 'leak_pa', 'pre_noise_rms_mv', 'ephys_stimulus_id', 'post_noise_rms_mv', 'post_vm_mv', 'created_at', 'slow_vm_mv']\n"
     ]
    }
   ],
   "source": [
    "my_query = \"SELECT * FROM ephys_sweeps LIMIT 1\"\n",
    "#asterisk(*) = all columns\n",
    "#specimens = table name\n",
    "#LIMIT 1 = limits search to first row\n",
    "\n",
    "my_result = limsquery(my_query)\n",
    "first_element = my_result[0]\n",
    "#first_element is created to only look at the first row\n",
    "\n",
    "print first_element.keys()\n",
    "#keys = column names\n",
    "#Shows all columns names "
   ]
  },
  {
   "cell_type": "code",
   "execution_count": 5,
   "metadata": {},
   "outputs": [
    {
     "name": "stdout",
     "output_type": "stream",
     "text": [
      "['cell_depth', 'ephys_roi_result_id', 'parent_y_coord', 'reference_space_id', 'updated_at', 'cell_label', 'preparation_method_id', 'parent_x_coord', 'location_id', 'id', 'cortex_layer_id', 'plane_of_section_id', 'frozen_at', 'flipped_specimen_id', 'data', 'pinned_radius', 'rna_integrity_number', 'histology_well_name', 'created_by', 'priority', 'parent_id', 'ephys_start_time_sec', 'project_id', 'alignment3d_id', 'carousel_well_name', 'patched_cell_container', 'updated_by', 'cell_prep_id', 'biophysical_model_state', 'barcode', 'storage_directory', 'x_coord', 'tissue_ph', 'specimen_preparation_method_id', 'donor_id', 'operation_id', 'ephys_neural_tissue_plan_id', 'structure_id', 'parent_z_coord', 'facs_well_id', 'name', 'y_coord', 'normalization_group_id', 'postmortem_interval_id', 'specimen_set_id', 'created_at', 'tissue_processing_id', 'ephys_cell_plan_id', 'hemisphere_id', 'ephys_qc_result', 'cell_reporter_id', 'task_flow_id', 'external_specimen_name']\n"
     ]
    }
   ],
   "source": [
    "my_query = \"SELECT * FROM specimens cell LIMIT 1\"\n",
    "#asterisk(*) = all columns\n",
    "#specimens = table name\n",
    "#LIMIT 1 = limits search to first row\n",
    "\n",
    "my_result = limsquery(my_query)\n",
    "first_element = my_result[0]\n",
    "#first_element is created to only look at the first row\n",
    "\n",
    "print first_element.keys()\n",
    "#keys = column names\n",
    "#Shows all columns names "
   ]
  },
  {
   "cell_type": "code",
   "execution_count": 6,
   "metadata": {},
   "outputs": [
    {
     "name": "stdout",
     "output_type": "stream",
     "text": [
      "['description', 'created_at', 'ephys_stimulus_type_id', 'updated_at', 'amplitude', 'id']\n"
     ]
    }
   ],
   "source": [
    "my_query = \"SELECT * FROM ephys_stimuli LIMIT 1\"\n",
    "#asterisk(*) = all columns\n",
    "#specimens = table name\n",
    "#LIMIT 1 = limits search to first row\n",
    "\n",
    "my_result = limsquery(my_query)\n",
    "first_element = my_result[0]\n",
    "#first_element is created to only look at the first row\n",
    "\n",
    "print first_element.keys()\n",
    "#keys = column names\n",
    "#Shows all columns names "
   ]
  },
  {
   "cell_type": "code",
   "execution_count": null,
   "metadata": {},
   "outputs": [],
   "source": []
  },
  {
   "cell_type": "code",
   "execution_count": null,
   "metadata": {},
   "outputs": [],
   "source": []
  },
  {
   "cell_type": "markdown",
   "metadata": {},
   "source": [
    "### Question 2: Show the distribution of hemispheres all the cells patched in 2017 with the age and sex of the mice used."
   ]
  },
  {
   "cell_type": "code",
   "execution_count": null,
   "metadata": {},
   "outputs": [],
   "source": []
  },
  {
   "cell_type": "code",
   "execution_count": null,
   "metadata": {},
   "outputs": [],
   "source": []
  },
  {
   "cell_type": "code",
   "execution_count": null,
   "metadata": {},
   "outputs": [],
   "source": []
  },
  {
   "cell_type": "code",
   "execution_count": null,
   "metadata": {},
   "outputs": [],
   "source": []
  },
  {
   "cell_type": "markdown",
   "metadata": {},
   "source": [
    "### Question 3: Look for cells that do not have a qc reviewer and failed qc for project T301. What are the cell level qc failures? (access, gohm seal, blowout, input resistance)"
   ]
  },
  {
   "cell_type": "markdown",
   "metadata": {},
   "source": [
    "##### Table with QC reviewers & QC failures"
   ]
  },
  {
   "cell_type": "code",
   "execution_count": 9,
   "metadata": {},
   "outputs": [
    {
     "name": "stdout",
     "output_type": "stream",
     "text": [
      "['rig_name', 'ephys_qc_criteria_id', 'failed_bad_rs', 'updated_at', 'storage_directory', 'electrode_0_pa', 'input_resistance_mohm', 'id', 'stage2_reviewer_id', 'blowout_mv', 'failed_other', 'sampling_rate', 'input_access_resistance_ratio', 'failed_no_seal', 'workflow_state', 'ephys_specimen_roi_plan_id', 'initial_access_resistance_mohm', 'qc_notes', 'recording_date', 'created_at', 'seal_gohm', 'published_at', 'failed_clogged_pipette', 'stage1_reviewer_id', 'failed_electrode_0', 'notes']\n"
     ]
    }
   ],
   "source": [
    "my_query = \"SELECT * FROM ephys_roi_results LIMIT 1\"\n",
    "#asterisk(*) = all columns\n",
    "#specimens = table name\n",
    "#LIMIT 1 = limits search to first row\n",
    "\n",
    "my_result = limsquery(my_query)\n",
    "first_element = my_result[0]\n",
    "#first_element is created to only look at the first row\n",
    "\n",
    "print first_element.keys()\n",
    "#keys = column names\n",
    "#Shows all columns names "
   ]
  },
  {
   "cell_type": "code",
   "execution_count": 15,
   "metadata": {},
   "outputs": [
    {
     "name": "stdout",
     "output_type": "stream",
     "text": [
      "{'stage2_reviewer_id': 485591509, 'seal_gohm': 1.6066233600000002, 'blowout_mv': 3.3822432160377502, 'stage1_reviewer_id': 525757437, 'input_resistance_mohm': 739.51104, 'initial_access_resistance_mohm': 17.023903999999998}\n"
     ]
    }
   ],
   "source": [
    "my_query = \"SELECT stage1_reviewer_id, stage2_reviewer_id, initial_access_resistance_mohm, seal_gohm, \\\n",
    "            blowout_mv, input_resistance_mohm FROM ephys_roi_results LIMIT 1\"\n",
    "#asterisk(*) = all columns\n",
    "#specimens = table name\n",
    "#LIMIT 1 = limits search to first row\n",
    "\n",
    "my_result = limsquery(my_query)\n",
    "first_element = my_result[0]\n",
    "#first_element is created to only look at the first row\n",
    "\n",
    "print first_element\n",
    "#Shows first row of entry "
   ]
  },
  {
   "cell_type": "code",
   "execution_count": 22,
   "metadata": {},
   "outputs": [],
   "source": [
    "#Cell level qc failures = (initial_access_resistance_mohm, seal_gohm, blowout_mv, input_resistance_mohm)\n",
    "#Need Stage 1 reviewer, stage 2 reviewer\n",
    "#Need project code, specimen name\n",
    "#You need project code from a different table and join these tables to together"
   ]
  },
  {
   "cell_type": "markdown",
   "metadata": {},
   "source": [
    "##### Table with project codes"
   ]
  },
  {
   "cell_type": "code",
   "execution_count": 12,
   "metadata": {},
   "outputs": [
    {
     "name": "stdout",
     "output_type": "stream",
     "text": [
      "['code', 'file_storage', 'name', 'current_directory', 'non_cached_schema_name', 'subdirectory_count', 'created_at', 'updated_at', 'process_triggers', 'trigger_dir', 'incoming_directory', 'failed_trigger_dir', 'id']\n"
     ]
    }
   ],
   "source": [
    "my_query = \"SELECT * FROM projects LIMIT 1\"\n",
    "#asterisk(*) = all columns\n",
    "#specimens = table name\n",
    "#LIMIT 1 = limits search to first row\n",
    "\n",
    "my_result = limsquery(my_query)\n",
    "first_element = my_result[0]\n",
    "#first_element is created to only look at the first row\n",
    "\n",
    "print first_element.keys()\n",
    "#keys = column names\n",
    "#Shows all columns names "
   ]
  },
  {
   "cell_type": "code",
   "execution_count": 21,
   "metadata": {},
   "outputs": [
    {
     "name": "stdout",
     "output_type": "stream",
     "text": [
      "{'code': u'0200'}\n"
     ]
    }
   ],
   "source": [
    "my_query = \"SELECT code FROM projects LIMIT 1\"\n",
    "#asterisk(*) = all columns\n",
    "#specimens = table name\n",
    "#LIMIT 1 = limits search to first row\n",
    "\n",
    "my_result = limsquery(my_query)\n",
    "first_element = my_result[0]\n",
    "#first_element is created to only look at the first row\n",
    "\n",
    "print first_element\n",
    "#Shows first row of entry "
   ]
  },
  {
   "cell_type": "code",
   "execution_count": null,
   "metadata": {},
   "outputs": [],
   "source": []
  },
  {
   "cell_type": "code",
   "execution_count": null,
   "metadata": {},
   "outputs": [],
   "source": []
  },
  {
   "cell_type": "code",
   "execution_count": null,
   "metadata": {},
   "outputs": [],
   "source": []
  },
  {
   "cell_type": "code",
   "execution_count": null,
   "metadata": {},
   "outputs": [],
   "source": []
  },
  {
   "cell_type": "code",
   "execution_count": null,
   "metadata": {},
   "outputs": [],
   "source": []
  },
  {
   "cell_type": "markdown",
   "metadata": {},
   "source": [
    "### Question 4: Find all the H301 cells where DiJon was stage 1 reviewer that manually passed qc and the cells where Lisa was stage 2 review that manually failed qc."
   ]
  },
  {
   "cell_type": "code",
   "execution_count": 16,
   "metadata": {},
   "outputs": [],
   "source": [
    "#Use same table from question 3 with different filters"
   ]
  },
  {
   "cell_type": "code",
   "execution_count": 8,
   "metadata": {},
   "outputs": [
    {
     "name": "stdout",
     "output_type": "stream",
     "text": [
      "['rig_name', 'ephys_qc_criteria_id', 'failed_bad_rs', 'updated_at', 'storage_directory', 'electrode_0_pa', 'input_resistance_mohm', 'id', 'stage2_reviewer_id', 'blowout_mv', 'failed_other', 'sampling_rate', 'input_access_resistance_ratio', 'failed_no_seal', 'workflow_state', 'ephys_specimen_roi_plan_id', 'initial_access_resistance_mohm', 'qc_notes', 'recording_date', 'created_at', 'seal_gohm', 'published_at', 'failed_clogged_pipette', 'stage1_reviewer_id', 'failed_electrode_0', 'notes']\n"
     ]
    }
   ],
   "source": [
    "my_query = \"SELECT * FROM ephys_roi_results LIMIT 1\"\n",
    "#asterisk(*) = all columns\n",
    "#specimens = table name\n",
    "#LIMIT 1 = limits search to first row\n",
    "\n",
    "my_result = limsquery(my_query)\n",
    "first_element = my_result[0]\n",
    "#first_element is created to only look at the first row\n",
    "\n",
    "print first_element.keys()\n",
    "#keys = column names\n",
    "#Shows all columns names "
   ]
  },
  {
   "cell_type": "code",
   "execution_count": null,
   "metadata": {},
   "outputs": [],
   "source": []
  },
  {
   "cell_type": "code",
   "execution_count": null,
   "metadata": {},
   "outputs": [],
   "source": []
  },
  {
   "cell_type": "code",
   "execution_count": null,
   "metadata": {},
   "outputs": [],
   "source": []
  }
 ],
 "metadata": {
  "kernelspec": {
   "display_name": "Python 2",
   "language": "python",
   "name": "python2"
  },
  "language_info": {
   "codemirror_mode": {
    "name": "ipython",
    "version": 2
   },
   "file_extension": ".py",
   "mimetype": "text/x-python",
   "name": "python",
   "nbconvert_exporter": "python",
   "pygments_lexer": "ipython2",
   "version": "2.7.14"
  }
 },
 "nbformat": 4,
 "nbformat_minor": 2
}
