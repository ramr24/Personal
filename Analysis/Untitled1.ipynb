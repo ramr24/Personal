{
 "cells": [
  {
   "cell_type": "code",
   "execution_count": 1,
   "metadata": {},
   "outputs": [],
   "source": [
    "import csv\n",
    "import pandas as pd\n",
    "from datetime import datetime\n",
    "%matplotlib inline"
   ]
  },
  {
   "cell_type": "code",
   "execution_count": 2,
   "metadata": {},
   "outputs": [],
   "source": [
    "#ps_mouse = pd.read_csv(\"C:/users/kumar/documents/github/personal-projects/csv/ps_mouse.csv\")\n",
    "ps_mouse = pd.read_csv(\"C:/users/ramr/documents/github/coding/personal-projects/csv/ps_mouse.csv\")"
   ]
  },
  {
   "cell_type": "code",
   "execution_count": 11,
   "metadata": {},
   "outputs": [],
   "source": [
    "#Renaming Unnamed date column\n",
    "ps_mouse.rename(index = str, columns = {\"Unnamed: 0\": \"date\"}, inplace = True)\n",
    "#ps_mouse.head()"
   ]
  },
  {
   "cell_type": "code",
   "execution_count": null,
   "metadata": {},
   "outputs": [],
   "source": [
    "ps_mouse = ps_mouse.loc[:, [\"Date\", \n",
    "                        \"User\", \n",
    "                        \"Region\", \n",
    "                        \"Layer\", \n",
    "                        \"Depth (um)\",\n",
    "                        \"Time spent extracting cytosol\",\n",
    "                        \"Time spent retracting pipette\",\n",
    "                        \"patch duration\",\n",
    "                        \"Pipette size (MOhm)\",\n",
    "                            \n",
    "                        \"extraction pressure applied (mbar)\", \n",
    "                        \"post_patch\", \n",
    "                        \"Resolution index\", \n",
    "                        \"SM_QC_PF\", \n",
    "                        \"Lims tube id\"]]"
   ]
  }
 ],
 "metadata": {
  "kernelspec": {
   "display_name": "Python 2",
   "language": "python",
   "name": "python2"
  },
  "language_info": {
   "codemirror_mode": {
    "name": "ipython",
    "version": 2
   },
   "file_extension": ".py",
   "mimetype": "text/x-python",
   "name": "python",
   "nbconvert_exporter": "python",
   "pygments_lexer": "ipython2",
   "version": "2.7.15"
  }
 },
 "nbformat": 4,
 "nbformat_minor": 2
}
