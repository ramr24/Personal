{
 "cells": [
  {
   "cell_type": "code",
   "execution_count": 1,
   "metadata": {},
   "outputs": [],
   "source": [
    "import csv\n",
    "import pandas as pd\n",
    "import numpy as np\n",
    "import seaborn as sns\n",
    "import matplotlib.pyplot as plt\n",
    "from datetime import datetime\n",
    "%matplotlib inline\n",
    "\n",
    "import post_patch as pp #post patch script\n",
    "#post_patch_column = 'postPatch_label'\n",
    "#post_patch_pipette_column = 'endPipetteR_label'\n",
    "\n",
    "#sns.set_style('whitegrid') #Makes a white backround with gray horizontal gridmarks at y-values\n",
    "sns.set_context('notebook')"
   ]
  },
  {
   "cell_type": "code",
   "execution_count": 2,
   "metadata": {},
   "outputs": [],
   "source": [
    "def get_shiny_df():\n",
    "    shiny_human_df = pd.read_csv('C:/users/kumar/documents/github/personal-projects/csv/shiny_human.csv')\n",
    "    shiny_mouse_df = pd.read_csv('C:/users/kumar/documents/github/personal-projects/csv/shiny_mouse.csv')\n",
    "    #shiny_human_df = pd.read_csv('C:/users/ramr/documents/github/coding/personal-projects/csv/shiny_human.csv')\n",
    "    #shiny_mouse_df = pd.read_csv('C:/users/ramr/documents/github/coding/personal-projects/csv/shiny_mouse.csv')\n",
    "    frames = (shiny_human_df, shiny_mouse_df)\n",
    "    shiny_df = pd.concat(frames)\n",
    "    shiny_df = shiny_df.loc[:,['sample_id', 'res_index_label', 'cluster_label']]\n",
    "    return shiny_df"
   ]
  },
  {
   "cell_type": "code",
   "execution_count": 3,
   "metadata": {},
   "outputs": [],
   "source": [
    "def get_json_df():\n",
    "    json_df = pd.read_csv('C:/users/kumar/documents/github/personal-projects/csv/json_metadata.csv')\n",
    "    #json_df = pd.read_csv('C:/users/ramr/documents/github/coding/personal-projects/csv/json_metadata.csv')\n",
    "    json_df = json_df[json_df['status'] == 'SUCCESS']\n",
    "\n",
    "    #Creates patch_duration column and outputs in minutes\n",
    "    json_df['patch_duration'] = pd.to_datetime(json_df['extraction.timeRetractionEnd']) - pd.to_datetime(json_df['recording.timeWholeCellStart'])\n",
    "    json_df['patch_duration'] = (json_df['patch_duration'].astype('timedelta64[s]'))/60\n",
    "\n",
    "    json_df['date'] = json_df['date'].str[:10] #Strip away the time\n",
    "    json_df['date'] = pd.to_datetime(json_df['date']) #Converting to YYYY-MM-DD\n",
    "\n",
    "    json_df = pp.postpatch_reclass(json_df) #Makes post patch column with the script\n",
    "\n",
    "    json_df.dropna(subset = ['patch_container'], inplace = True)\n",
    "    json_df = json_df[json_df['patch_container'].str.match('PA')]\n",
    "\n",
    "    json_df = json_df[['date',                   \n",
    "                       'patch_container',\n",
    "                       'roi_major',\n",
    "                       'roi_minor',\n",
    "                       'cell_depth',\n",
    "                       'extraction.pressureApplied',\n",
    "                       'patch_duration',\n",
    "                       'post_patch']]\n",
    "    return json_df"
   ]
  },
  {
   "cell_type": "code",
   "execution_count": 4,
   "metadata": {},
   "outputs": [],
   "source": [
    "def merge_dfs(df1, df2):\n",
    "    merged_df = pd.merge(left = df1, \n",
    "                         right = df2, \n",
    "                         left_on = 'patch_container',\n",
    "                         right_on = 'sample_id',\n",
    "                         how = 'inner')\n",
    "    merged_df.drop(columns = ['sample_id'], inplace = True)\n",
    "    merged_df.sort_index(inplace = True)\n",
    "    return merged_df"
   ]
  },
  {
   "cell_type": "code",
   "execution_count": 5,
   "metadata": {},
   "outputs": [
    {
     "name": "stderr",
     "output_type": "stream",
     "text": [
      "C:\\Users\\kumar\\AppData\\Local\\Continuum\\anaconda3\\lib\\site-packages\\pandas\\core\\indexing.py:362: SettingWithCopyWarning: \n",
      "A value is trying to be set on a copy of a slice from a DataFrame.\n",
      "Try using .loc[row_indexer,col_indexer] = value instead\n",
      "\n",
      "See the caveats in the documentation: http://pandas.pydata.org/pandas-docs/stable/indexing.html#indexing-view-versus-copy\n",
      "  self.obj[key] = _infer_fill_value(value)\n",
      "C:\\Users\\kumar\\AppData\\Local\\Continuum\\anaconda3\\lib\\site-packages\\pandas\\core\\indexing.py:543: SettingWithCopyWarning: \n",
      "A value is trying to be set on a copy of a slice from a DataFrame.\n",
      "Try using .loc[row_indexer,col_indexer] = value instead\n",
      "\n",
      "See the caveats in the documentation: http://pandas.pydata.org/pandas-docs/stable/indexing.html#indexing-view-versus-copy\n",
      "  self.obj[item] = s\n",
      "C:\\Users\\kumar\\AppData\\Local\\Continuum\\anaconda3\\lib\\site-packages\\IPython\\core\\interactiveshell.py:2903: DtypeWarning: Columns (11) have mixed types. Specify dtype option on import or set low_memory=False.\n",
      "  if self.run_code(code, result):\n",
      "C:\\Users\\kumar\\AppData\\Local\\Continuum\\anaconda3\\lib\\site-packages\\ipykernel_launcher.py:7: FutureWarning: Sorting because non-concatenation axis is not aligned. A future version\n",
      "of pandas will change to not sort by default.\n",
      "\n",
      "To accept the future behavior, pass 'sort=True'.\n",
      "\n",
      "To retain the current behavior and silence the warning, pass sort=False\n",
      "\n",
      "  import sys\n"
     ]
    }
   ],
   "source": [
    "#Making global variables\n",
    "json_df = get_json_df()\n",
    "shiny_df = get_shiny_df()\n",
    "merged_df = merge_dfs(json_df, shiny_df)"
   ]
  },
  {
   "cell_type": "code",
   "execution_count": 6,
   "metadata": {},
   "outputs": [
    {
     "data": {
      "text/html": [
       "<div>\n",
       "<style scoped>\n",
       "    .dataframe tbody tr th:only-of-type {\n",
       "        vertical-align: middle;\n",
       "    }\n",
       "\n",
       "    .dataframe tbody tr th {\n",
       "        vertical-align: top;\n",
       "    }\n",
       "\n",
       "    .dataframe thead th {\n",
       "        text-align: right;\n",
       "    }\n",
       "</style>\n",
       "<table border=\"1\" class=\"dataframe\">\n",
       "  <thead>\n",
       "    <tr style=\"text-align: right;\">\n",
       "      <th></th>\n",
       "      <th>date</th>\n",
       "      <th>patch_container</th>\n",
       "      <th>roi_major</th>\n",
       "      <th>roi_minor</th>\n",
       "      <th>cell_depth</th>\n",
       "      <th>extraction.pressureApplied</th>\n",
       "      <th>patch_duration</th>\n",
       "      <th>post_patch</th>\n",
       "      <th>res_index_label</th>\n",
       "      <th>cluster_label</th>\n",
       "    </tr>\n",
       "  </thead>\n",
       "  <tbody>\n",
       "    <tr>\n",
       "      <th>0</th>\n",
       "      <td>2017-10-03</td>\n",
       "      <td>PAS4_171003_451_A01</td>\n",
       "      <td>VISp</td>\n",
       "      <td>layer 5</td>\n",
       "      <td>36.6</td>\n",
       "      <td>-34.0</td>\n",
       "      <td>14.483333</td>\n",
       "      <td>Nuc-high seal</td>\n",
       "      <td>0.548225</td>\n",
       "      <td>n60</td>\n",
       "    </tr>\n",
       "    <tr>\n",
       "      <th>1</th>\n",
       "      <td>2017-10-03</td>\n",
       "      <td>PAS4_171003_451_A01</td>\n",
       "      <td>VISp</td>\n",
       "      <td>layer 5</td>\n",
       "      <td>36.6</td>\n",
       "      <td>-34.0</td>\n",
       "      <td>14.483333</td>\n",
       "      <td>Nuc-low seal</td>\n",
       "      <td>0.548225</td>\n",
       "      <td>n60</td>\n",
       "    </tr>\n",
       "    <tr>\n",
       "      <th>2</th>\n",
       "      <td>2017-10-03</td>\n",
       "      <td>PAS4_171003_452_A01</td>\n",
       "      <td>VISp</td>\n",
       "      <td>layer 2/3</td>\n",
       "      <td>36.3</td>\n",
       "      <td>-32.0</td>\n",
       "      <td>12.500000</td>\n",
       "      <td>Nuc-high seal</td>\n",
       "      <td>1.000000</td>\n",
       "      <td>Pvalb Tpbg</td>\n",
       "    </tr>\n",
       "    <tr>\n",
       "      <th>3</th>\n",
       "      <td>2017-10-03</td>\n",
       "      <td>PAS4_171003_452_A01</td>\n",
       "      <td>VISp</td>\n",
       "      <td>layer 2/3</td>\n",
       "      <td>36.3</td>\n",
       "      <td>-32.0</td>\n",
       "      <td>12.500000</td>\n",
       "      <td>Nuc-low seal</td>\n",
       "      <td>1.000000</td>\n",
       "      <td>Pvalb Tpbg</td>\n",
       "    </tr>\n",
       "    <tr>\n",
       "      <th>4</th>\n",
       "      <td>2017-10-04</td>\n",
       "      <td>PAS4_171004_452_A01</td>\n",
       "      <td>VISp</td>\n",
       "      <td>layer 5</td>\n",
       "      <td>39.1</td>\n",
       "      <td>-40.0</td>\n",
       "      <td>9.633333</td>\n",
       "      <td>Nuc-high seal</td>\n",
       "      <td>1.000000</td>\n",
       "      <td>Sst Chodl</td>\n",
       "    </tr>\n",
       "  </tbody>\n",
       "</table>\n",
       "</div>"
      ],
      "text/plain": [
       "        date      patch_container roi_major  roi_minor  cell_depth  \\\n",
       "0 2017-10-03  PAS4_171003_451_A01      VISp    layer 5        36.6   \n",
       "1 2017-10-03  PAS4_171003_451_A01      VISp    layer 5        36.6   \n",
       "2 2017-10-03  PAS4_171003_452_A01      VISp  layer 2/3        36.3   \n",
       "3 2017-10-03  PAS4_171003_452_A01      VISp  layer 2/3        36.3   \n",
       "4 2017-10-04  PAS4_171004_452_A01      VISp    layer 5        39.1   \n",
       "\n",
       "   extraction.pressureApplied  patch_duration     post_patch  res_index_label  \\\n",
       "0                       -34.0       14.483333  Nuc-high seal         0.548225   \n",
       "1                       -34.0       14.483333   Nuc-low seal         0.548225   \n",
       "2                       -32.0       12.500000  Nuc-high seal         1.000000   \n",
       "3                       -32.0       12.500000   Nuc-low seal         1.000000   \n",
       "4                       -40.0        9.633333  Nuc-high seal         1.000000   \n",
       "\n",
       "  cluster_label  \n",
       "0           n60  \n",
       "1           n60  \n",
       "2    Pvalb Tpbg  \n",
       "3    Pvalb Tpbg  \n",
       "4     Sst Chodl  "
      ]
     },
     "execution_count": 6,
     "metadata": {},
     "output_type": "execute_result"
    }
   ],
   "source": [
    "merged_df.head()"
   ]
  },
  {
   "cell_type": "code",
   "execution_count": 7,
   "metadata": {},
   "outputs": [
    {
     "data": {
      "text/html": [
       "<div>\n",
       "<style scoped>\n",
       "    .dataframe tbody tr th:only-of-type {\n",
       "        vertical-align: middle;\n",
       "    }\n",
       "\n",
       "    .dataframe tbody tr th {\n",
       "        vertical-align: top;\n",
       "    }\n",
       "\n",
       "    .dataframe thead th {\n",
       "        text-align: right;\n",
       "    }\n",
       "</style>\n",
       "<table border=\"1\" class=\"dataframe\">\n",
       "  <thead>\n",
       "    <tr style=\"text-align: right;\">\n",
       "      <th></th>\n",
       "      <th>date</th>\n",
       "      <th>patch_container</th>\n",
       "      <th>roi_major</th>\n",
       "      <th>roi_minor</th>\n",
       "      <th>cell_depth</th>\n",
       "      <th>extraction.pressureApplied</th>\n",
       "      <th>patch_duration</th>\n",
       "      <th>post_patch</th>\n",
       "      <th>res_index_label</th>\n",
       "      <th>cluster_label</th>\n",
       "    </tr>\n",
       "  </thead>\n",
       "  <tbody>\n",
       "    <tr>\n",
       "      <th>446</th>\n",
       "      <td>2018-01-15</td>\n",
       "      <td>PAS4_180115_454_A01</td>\n",
       "      <td>VISp</td>\n",
       "      <td>layer 4</td>\n",
       "      <td>31.7</td>\n",
       "      <td>-25.0</td>\n",
       "      <td>8.466667</td>\n",
       "      <td>Entire cell</td>\n",
       "      <td>0.868238</td>\n",
       "      <td>n107</td>\n",
       "    </tr>\n",
       "    <tr>\n",
       "      <th>447</th>\n",
       "      <td>2018-02-20</td>\n",
       "      <td>PAS4_180220_451_A01</td>\n",
       "      <td>VISp</td>\n",
       "      <td>layer 2/3</td>\n",
       "      <td>51.1</td>\n",
       "      <td>-40.0</td>\n",
       "      <td>8.633333</td>\n",
       "      <td>Entire cell</td>\n",
       "      <td>1.000000</td>\n",
       "      <td>Sst Hpse Cbln4</td>\n",
       "    </tr>\n",
       "    <tr>\n",
       "      <th>448</th>\n",
       "      <td>2018-02-26</td>\n",
       "      <td>PAS4_180226_451_A01</td>\n",
       "      <td>VISp</td>\n",
       "      <td>layer 2/3</td>\n",
       "      <td>42.4</td>\n",
       "      <td>-31.0</td>\n",
       "      <td>9.466667</td>\n",
       "      <td>Entire cell</td>\n",
       "      <td>0.694952</td>\n",
       "      <td>n15</td>\n",
       "    </tr>\n",
       "    <tr>\n",
       "      <th>449</th>\n",
       "      <td>2018-03-27</td>\n",
       "      <td>PAS4_180327_451_A01</td>\n",
       "      <td>VISp</td>\n",
       "      <td>layer 2/3</td>\n",
       "      <td>40.0</td>\n",
       "      <td>-20.0</td>\n",
       "      <td>10.116667</td>\n",
       "      <td>Entire cell</td>\n",
       "      <td>0.732810</td>\n",
       "      <td>n66</td>\n",
       "    </tr>\n",
       "    <tr>\n",
       "      <th>450</th>\n",
       "      <td>2018-05-31</td>\n",
       "      <td>PAS4_180531_454_A01</td>\n",
       "      <td>VISp</td>\n",
       "      <td>layer 2/3</td>\n",
       "      <td>41.9</td>\n",
       "      <td>-21.0</td>\n",
       "      <td>15.266667</td>\n",
       "      <td>Entire cell</td>\n",
       "      <td>1.000000</td>\n",
       "      <td>Vip Pygm C1ql1</td>\n",
       "    </tr>\n",
       "  </tbody>\n",
       "</table>\n",
       "</div>"
      ],
      "text/plain": [
       "          date      patch_container roi_major  roi_minor  cell_depth  \\\n",
       "446 2018-01-15  PAS4_180115_454_A01      VISp    layer 4        31.7   \n",
       "447 2018-02-20  PAS4_180220_451_A01      VISp  layer 2/3        51.1   \n",
       "448 2018-02-26  PAS4_180226_451_A01      VISp  layer 2/3        42.4   \n",
       "449 2018-03-27  PAS4_180327_451_A01      VISp  layer 2/3        40.0   \n",
       "450 2018-05-31  PAS4_180531_454_A01      VISp  layer 2/3        41.9   \n",
       "\n",
       "     extraction.pressureApplied  patch_duration   post_patch  res_index_label  \\\n",
       "446                       -25.0        8.466667  Entire cell         0.868238   \n",
       "447                       -40.0        8.633333  Entire cell         1.000000   \n",
       "448                       -31.0        9.466667  Entire cell         0.694952   \n",
       "449                       -20.0       10.116667  Entire cell         0.732810   \n",
       "450                       -21.0       15.266667  Entire cell         1.000000   \n",
       "\n",
       "      cluster_label  \n",
       "446            n107  \n",
       "447  Sst Hpse Cbln4  \n",
       "448             n15  \n",
       "449             n66  \n",
       "450  Vip Pygm C1ql1  "
      ]
     },
     "execution_count": 7,
     "metadata": {},
     "output_type": "execute_result"
    }
   ],
   "source": [
    "merged_df.tail()"
   ]
  },
  {
   "cell_type": "code",
   "execution_count": 8,
   "metadata": {},
   "outputs": [],
   "source": [
    "#Outputing dataframe as excel sheet\n",
    "#writer = pd.ExcelWriter('TITLE.xlsx')\n",
    "#dataframe.to_excel(writer, 'Sheet#)\n",
    "\n",
    "writer = pd.ExcelWriter('my_dataframe.xlsx')\n",
    "merged_df.to_excel(writer, 'Sheet1')\n",
    "writer.save()"
   ]
  },
  {
   "cell_type": "markdown",
   "metadata": {},
   "source": [
    "### Plots"
   ]
  },
  {
   "cell_type": "code",
   "execution_count": 9,
   "metadata": {},
   "outputs": [
    {
     "data": {
      "text/plain": [
       "Nuc-high seal    306\n",
       "Nuc-low seal     306\n",
       "No-low seal       84\n",
       "No-high seal      33\n",
       "Entire cell       13\n",
       "Name: post_patch, dtype: int64"
      ]
     },
     "execution_count": 9,
     "metadata": {},
     "output_type": "execute_result"
    }
   ],
   "source": [
    "json_df['post_patch'].value_counts()"
   ]
  },
  {
   "cell_type": "code",
   "execution_count": 10,
   "metadata": {},
   "outputs": [],
   "source": [
    "def pie_plot(df):\n",
    "    '''Another roundabout method for pivot table(inefficient)\n",
    "    df1 = df.loc[:,['post_patch', 'res_index_label']]\n",
    "    df1 = df1.groupby('post_patch').count()\n",
    "    df1 = df1.rename(columns = {'res_index_label' : 'count'})\n",
    "    df1 = df1.pivot_table(values=['count'], index=['post_patch'], aggfunc='sum')'''\n",
    "    \n",
    "    df1 = df.groupby(['post_patch']).size().reset_index(name = 'count')\n",
    "    df1.set_index('post_patch', inplace = True)\n",
    "    \n",
    "    explode = (0.05, 0.05, 0.05, 0.05, 0.05) #splits the categories\n",
    "    df1.plot.pie(y = 'count', autopct='%1.1f%%', figsize = (8,8), shadow = True, legend = False, \n",
    "                 explode = explode, colors = ['#f7fcb9','#fc9272', '#de2d26', '#31a354', '#a1d99b'])\n",
    "    #Entire(Yellow), No-high(Light Red), No-low(Red), Nuc-high(Green), Nuc-low(Light Green)\n",
    "    \n",
    "    plt.title('Post Patch Percentage', loc = 'center', fontsize = 14)\n",
    "    plt.axes().set_ylabel('')"
   ]
  },
  {
   "cell_type": "code",
   "execution_count": 11,
   "metadata": {},
   "outputs": [
    {
     "name": "stderr",
     "output_type": "stream",
     "text": [
      "C:\\Users\\kumar\\AppData\\Local\\Continuum\\anaconda3\\lib\\site-packages\\matplotlib\\cbook\\deprecation.py:107: MatplotlibDeprecationWarning: Adding an axes using the same arguments as a previous axes currently reuses the earlier instance.  In a future version, a new instance will always be created and returned.  Meanwhile, this warning can be suppressed, and the future behavior ensured, by passing a unique label to each axes instance.\n",
      "  warnings.warn(message, mplDeprecation, stacklevel=1)\n"
     ]
    },
    {
     "data": {
      "image/png": "[encoded data removed]",
      "text/plain": [
       "<Figure size 576x576 with 1 Axes>"
      ]
     },
     "metadata": {},
     "output_type": "display_data"
    }
   ],
   "source": [
    "pie_plot(merged_df)"
   ]
  },
  {
   "cell_type": "code",
   "execution_count": null,
   "metadata": {},
   "outputs": [],
   "source": []
  }
 ],
 "metadata": {
  "kernelspec": {
   "display_name": "Python 3",
   "language": "python",
   "name": "python3"
  },
  "language_info": {
   "codemirror_mode": {
    "name": "ipython",
    "version": 3
   },
   "file_extension": ".py",
   "mimetype": "text/x-python",
   "name": "python",
   "nbconvert_exporter": "python",
   "pygments_lexer": "ipython3",
   "version": "3.6.5"
  }
 },
 "nbformat": 4,
 "nbformat_minor": 2
}
