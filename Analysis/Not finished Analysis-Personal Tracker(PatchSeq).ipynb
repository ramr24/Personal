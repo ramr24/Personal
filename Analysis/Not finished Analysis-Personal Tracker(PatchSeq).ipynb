{
 "cells": [
  {
   "cell_type": "code",
   "execution_count": 1,
   "metadata": {},
   "outputs": [],
   "source": [
    "import csv\n",
    "import pandas as pd\n",
    "import numpy as np\n",
    "import seaborn as sns\n",
    "import matplotlib.pyplot as plt\n",
    "from datetime import datetime\n",
    "%matplotlib inline\n",
    "\n",
    "import ps_post_patch as pp #post patch script\n",
    "\n",
    "#sns.set_style('whitegrid') #Makes a white backround with gray horizontal gridmarks at y-values\n",
    "sns.set_context('notebook')"
   ]
  },
  {
   "cell_type": "code",
   "execution_count": 2,
   "metadata": {},
   "outputs": [],
   "source": [
    "#Still working on how to use for dataframes\n",
    "class my_dataframe():\n",
    "    \"\"\"Create a class in a usable way for the dataframe.\"\"\"\n",
    "    pass"
   ]
  },
  {
   "cell_type": "code",
   "execution_count": 3,
   "metadata": {},
   "outputs": [],
   "source": [
    "def get_ps_df():\n",
    "    \"\"\"To read the Patchseq Google Doc as a pandas dataframe.\n",
    "\n",
    "    Returns:\n",
    "        ps_df: pandas dataframe\n",
    "    \"\"\"\n",
    "    \n",
    "    ps_df = pd.read_csv(\"C:/users/ramr/documents/github/coding/personal-projects/csv/ps_mouse.csv\")\n",
    "    \n",
    "    ps_df.dropna(subset = [\"Lims tube id\"], inplace = True)\n",
    "    ps_df = ps_df[ps_df[\"Lims tube id\"].str.match('PA')]\n",
    "    ps_df = pp.postpatch_reclass(ps_df)\n",
    "    \n",
    "    ps_df = ps_df.loc[:, [\"Date\", \n",
    "                          \"User\", \n",
    "                          \"Region\", \n",
    "                          \"Layer\", \n",
    "                          \"Depth (um)\", \n",
    "                          \"patch duration\",\n",
    "                          \"extraction pressure applied (mbar)\", \n",
    "                          \"post_patch\", \n",
    "                          \"Resolution index\", \n",
    "                          \"SM_QC_PF\", \n",
    "                          \"Lims tube id\"]]\n",
    "    #Optional columns     \n",
    "    #\"Post patch?\", \"Post patch pipette R\", \n",
    "    #\"Pipette size (MOhms)\", \"Nucleus sucked in?\", \"SM_QC_PF\", \"Time to Entire-Cell\", \"File\", \"63x go no go\"\n",
    "    return ps_df"
   ]
  },
  {
   "cell_type": "code",
   "execution_count": 4,
   "metadata": {},
   "outputs": [],
   "source": [
    "def sort_date(df):\n",
    "    \"\"\"To sort the date column in ps_df.\n",
    "    \n",
    "    Parameters:\n",
    "        df: pandas dataframe\n",
    "    \n",
    "    Returns:\n",
    "        df: pandas dataframe\n",
    "    \"\"\"\n",
    "        \n",
    "    #Changing to string to add 20 in front of strings within date column\n",
    "    df['Date'] = df['Date'].astype('str')\n",
    "    df['Date'] = '20' + df['Date']\n",
    "    df['Date'] = pd.to_datetime(df['Date']) #Converting date to YYYY-MM-DD\n",
    "    df = df.set_index('Date') #Set date column as index column\n",
    "\n",
    "    #Production Date Start = '2017-10-01' \n",
    "    start_date = '2017-10-01'\n",
    "    df = df[start_date:] #Choosing start & end date  \n",
    "    df.sort_index(inplace = True)\n",
    "    df.reset_index(inplace = True)\n",
    "    return df "
   ]
  },
  {
   "cell_type": "code",
   "execution_count": 5,
   "metadata": {},
   "outputs": [],
   "source": [
    "def piv_table(ps_df):\n",
    "    \"\"\"To create a pivot table using ps_df.\n",
    "    \n",
    "    Parameters:\n",
    "        ps_df: pandas dataframe\n",
    "    \n",
    "    Returns:\n",
    "        ps_df1: pandas dataframe\n",
    "    \"\"\"\n",
    "    \n",
    "    ps_df1 = ps_df.loc[:,['post_patch', 'Resolution index']]\n",
    "    ps_df1 = ps_df1.groupby('post_patch').count()\n",
    "    ps_df1 = ps_df1.rename(columns = {'Resolution index' : 'count'})\n",
    "    ps_df1 = ps_df1.pivot_table(values=['count'], index=['post_patch'], aggfunc='sum')\n",
    "    return ps_df1"
   ]
  },
  {
   "cell_type": "code",
   "execution_count": 6,
   "metadata": {},
   "outputs": [],
   "source": [
    "def pie_plot(ps_df1):\n",
    "    \"\"\"To create a pie plot using ps_df1.\n",
    "    \n",
    "    Parameters:\n",
    "        ps_df1: pivot table\n",
    "    \n",
    "    Returns: None\n",
    "    \"\"\"\n",
    "    \n",
    "    #plt.figure(1)-not sure how this works\n",
    "    \n",
    "    explode = (0.05, 0.05, 0.05, 0.05, 0.05) #splits the categories\n",
    "    \n",
    "    ps_df1.plot.pie(y = 'count', autopct='%1.1f%%', figsize = (8,8), shadow = True, legend = False, \n",
    "                 explode = explode, colors = ['#f7fcb9','#fc9272', '#de2d26', '#31a354', '#a1d99b'])\n",
    "    \n",
    "    #Colors = Entire(Yellow), No-high(Light Red), No-low(Red), Nuc-high(Green), Nuc-low(Light Green)\n",
    "    \n",
    "    plt.title('Post Patch Percentage', loc = 'center', fontsize = 14)\n",
    "    plt.axes().set_ylabel('')"
   ]
  },
  {
   "cell_type": "code",
   "execution_count": 7,
   "metadata": {},
   "outputs": [
    {
     "name": "stderr",
     "output_type": "stream",
     "text": [
      "C:\\Users\\ramr\\AppData\\Local\\Continuum\\anaconda2\\lib\\site-packages\\pandas\\core\\indexing.py:357: SettingWithCopyWarning: \n",
      "A value is trying to be set on a copy of a slice from a DataFrame.\n",
      "Try using .loc[row_indexer,col_indexer] = value instead\n",
      "\n",
      "See the caveats in the documentation: http://pandas.pydata.org/pandas-docs/stable/indexing.html#indexing-view-versus-copy\n",
      "  self.obj[key] = _infer_fill_value(value)\n",
      "C:\\Users\\ramr\\AppData\\Local\\Continuum\\anaconda2\\lib\\site-packages\\pandas\\core\\indexing.py:537: SettingWithCopyWarning: \n",
      "A value is trying to be set on a copy of a slice from a DataFrame.\n",
      "Try using .loc[row_indexer,col_indexer] = value instead\n",
      "\n",
      "See the caveats in the documentation: http://pandas.pydata.org/pandas-docs/stable/indexing.html#indexing-view-versus-copy\n",
      "  self.obj[item] = s\n"
     ]
    }
   ],
   "source": [
    "#Making global variables\n",
    "ps_df = get_ps_df()\n",
    "ps_df = sort_date(ps_df)\n",
    "ps_df1 = piv_table(ps_df)"
   ]
  },
  {
   "cell_type": "code",
   "execution_count": 8,
   "metadata": {},
   "outputs": [
    {
     "data": {
      "text/html": [
       "<div>\n",
       "<style scoped>\n",
       "    .dataframe tbody tr th:only-of-type {\n",
       "        vertical-align: middle;\n",
       "    }\n",
       "\n",
       "    .dataframe tbody tr th {\n",
       "        vertical-align: top;\n",
       "    }\n",
       "\n",
       "    .dataframe thead th {\n",
       "        text-align: right;\n",
       "    }\n",
       "</style>\n",
       "<table border=\"1\" class=\"dataframe\">\n",
       "  <thead>\n",
       "    <tr style=\"text-align: right;\">\n",
       "      <th></th>\n",
       "      <th>Date</th>\n",
       "      <th>User</th>\n",
       "      <th>Region</th>\n",
       "      <th>Layer</th>\n",
       "      <th>Depth (um)</th>\n",
       "      <th>patch duration</th>\n",
       "      <th>extraction pressure applied (mbar)</th>\n",
       "      <th>post_patch</th>\n",
       "      <th>Resolution index</th>\n",
       "      <th>SM_QC_PF</th>\n",
       "      <th>Lims tube id</th>\n",
       "    </tr>\n",
       "  </thead>\n",
       "  <tbody>\n",
       "    <tr>\n",
       "      <th>0</th>\n",
       "      <td>2017-10-02</td>\n",
       "      <td>PA</td>\n",
       "      <td>None</td>\n",
       "      <td>None</td>\n",
       "      <td>NaN</td>\n",
       "      <td>11.866667</td>\n",
       "      <td>-35.0</td>\n",
       "      <td>No-low seal</td>\n",
       "      <td>0.562351</td>\n",
       "      <td>pass</td>\n",
       "      <td>PAS4_171002_451_A01</td>\n",
       "    </tr>\n",
       "    <tr>\n",
       "      <th>1</th>\n",
       "      <td>2017-10-03</td>\n",
       "      <td>PA</td>\n",
       "      <td>VISp</td>\n",
       "      <td>5</td>\n",
       "      <td>NaN</td>\n",
       "      <td>14.483333</td>\n",
       "      <td>-34.0</td>\n",
       "      <td>Nuc-high seal</td>\n",
       "      <td>1.000000</td>\n",
       "      <td>pass</td>\n",
       "      <td>PAS4_171003_451_A01</td>\n",
       "    </tr>\n",
       "    <tr>\n",
       "      <th>2</th>\n",
       "      <td>2017-10-03</td>\n",
       "      <td>PA</td>\n",
       "      <td>VISp</td>\n",
       "      <td>3</td>\n",
       "      <td>NaN</td>\n",
       "      <td>12.500000</td>\n",
       "      <td>-32.0</td>\n",
       "      <td>Nuc-high seal</td>\n",
       "      <td>0.797261</td>\n",
       "      <td>pass</td>\n",
       "      <td>PAS4_171003_452_A01</td>\n",
       "    </tr>\n",
       "    <tr>\n",
       "      <th>3</th>\n",
       "      <td>2017-10-04</td>\n",
       "      <td>PA</td>\n",
       "      <td>VISp</td>\n",
       "      <td>3</td>\n",
       "      <td>NaN</td>\n",
       "      <td>13.216667</td>\n",
       "      <td>-25.0</td>\n",
       "      <td>Nuc-low seal</td>\n",
       "      <td>1.000000</td>\n",
       "      <td>pass</td>\n",
       "      <td>PAS4_171004_451_A01</td>\n",
       "    </tr>\n",
       "    <tr>\n",
       "      <th>4</th>\n",
       "      <td>2017-10-04</td>\n",
       "      <td>PA</td>\n",
       "      <td>VISp</td>\n",
       "      <td>3</td>\n",
       "      <td>NaN</td>\n",
       "      <td>14.350000</td>\n",
       "      <td>-35.0</td>\n",
       "      <td>Nuc-high seal</td>\n",
       "      <td>1.000000</td>\n",
       "      <td>pass</td>\n",
       "      <td>PAS4_171004_453_A01</td>\n",
       "    </tr>\n",
       "  </tbody>\n",
       "</table>\n",
       "</div>"
      ],
      "text/plain": [
       "        Date User Region Layer  Depth (um)  patch duration  \\\n",
       "0 2017-10-02   PA   None  None         NaN       11.866667   \n",
       "1 2017-10-03   PA   VISp     5         NaN       14.483333   \n",
       "2 2017-10-03   PA   VISp     3         NaN       12.500000   \n",
       "3 2017-10-04   PA   VISp     3         NaN       13.216667   \n",
       "4 2017-10-04   PA   VISp     3         NaN       14.350000   \n",
       "\n",
       "   extraction pressure applied (mbar)     post_patch  Resolution index  \\\n",
       "0                               -35.0    No-low seal          0.562351   \n",
       "1                               -34.0  Nuc-high seal          1.000000   \n",
       "2                               -32.0  Nuc-high seal          0.797261   \n",
       "3                               -25.0   Nuc-low seal          1.000000   \n",
       "4                               -35.0  Nuc-high seal          1.000000   \n",
       "\n",
       "  SM_QC_PF         Lims tube id  \n",
       "0     pass  PAS4_171002_451_A01  \n",
       "1     pass  PAS4_171003_451_A01  \n",
       "2     pass  PAS4_171003_452_A01  \n",
       "3     pass  PAS4_171004_451_A01  \n",
       "4     pass  PAS4_171004_453_A01  "
      ]
     },
     "execution_count": 8,
     "metadata": {},
     "output_type": "execute_result"
    }
   ],
   "source": [
    "ps_df.head()"
   ]
  },
  {
   "cell_type": "code",
   "execution_count": 9,
   "metadata": {},
   "outputs": [
    {
     "data": {
      "text/html": [
       "<div>\n",
       "<style scoped>\n",
       "    .dataframe tbody tr th:only-of-type {\n",
       "        vertical-align: middle;\n",
       "    }\n",
       "\n",
       "    .dataframe tbody tr th {\n",
       "        vertical-align: top;\n",
       "    }\n",
       "\n",
       "    .dataframe thead th {\n",
       "        text-align: right;\n",
       "    }\n",
       "</style>\n",
       "<table border=\"1\" class=\"dataframe\">\n",
       "  <thead>\n",
       "    <tr style=\"text-align: right;\">\n",
       "      <th></th>\n",
       "      <th>Date</th>\n",
       "      <th>User</th>\n",
       "      <th>Region</th>\n",
       "      <th>Layer</th>\n",
       "      <th>Depth (um)</th>\n",
       "      <th>patch duration</th>\n",
       "      <th>extraction pressure applied (mbar)</th>\n",
       "      <th>post_patch</th>\n",
       "      <th>Resolution index</th>\n",
       "      <th>SM_QC_PF</th>\n",
       "      <th>Lims tube id</th>\n",
       "    </tr>\n",
       "  </thead>\n",
       "  <tbody>\n",
       "    <tr>\n",
       "      <th>431</th>\n",
       "      <td>2018-07-25</td>\n",
       "      <td>PA</td>\n",
       "      <td>VISp</td>\n",
       "      <td>4</td>\n",
       "      <td>52.4</td>\n",
       "      <td>13.850000</td>\n",
       "      <td>-35.0</td>\n",
       "      <td>Nuc-low seal</td>\n",
       "      <td>NaN</td>\n",
       "      <td>NaN</td>\n",
       "      <td>PAS4_180725_451_A01</td>\n",
       "    </tr>\n",
       "    <tr>\n",
       "      <th>432</th>\n",
       "      <td>2018-07-25</td>\n",
       "      <td>PA</td>\n",
       "      <td>VISp</td>\n",
       "      <td>6a</td>\n",
       "      <td>72.6</td>\n",
       "      <td>11.583333</td>\n",
       "      <td>-23.0</td>\n",
       "      <td>Nuc-high seal</td>\n",
       "      <td>NaN</td>\n",
       "      <td>NaN</td>\n",
       "      <td>PAS4_180725_455_A01</td>\n",
       "    </tr>\n",
       "    <tr>\n",
       "      <th>433</th>\n",
       "      <td>2018-07-25</td>\n",
       "      <td>PA</td>\n",
       "      <td>VISp</td>\n",
       "      <td>5</td>\n",
       "      <td>42.6</td>\n",
       "      <td>12.133333</td>\n",
       "      <td>-30.0</td>\n",
       "      <td>No-high seal</td>\n",
       "      <td>NaN</td>\n",
       "      <td>NaN</td>\n",
       "      <td>PAS4_180725_453_A01</td>\n",
       "    </tr>\n",
       "    <tr>\n",
       "      <th>434</th>\n",
       "      <td>2018-07-25</td>\n",
       "      <td>PA</td>\n",
       "      <td>VISp</td>\n",
       "      <td>6a</td>\n",
       "      <td>56.4</td>\n",
       "      <td>12.533333</td>\n",
       "      <td>-20.0</td>\n",
       "      <td>Nuc-low seal</td>\n",
       "      <td>NaN</td>\n",
       "      <td>NaN</td>\n",
       "      <td>PAS4_180725_454_A01</td>\n",
       "    </tr>\n",
       "    <tr>\n",
       "      <th>435</th>\n",
       "      <td>2018-07-25</td>\n",
       "      <td>PA</td>\n",
       "      <td>VISp</td>\n",
       "      <td>4</td>\n",
       "      <td>69.4</td>\n",
       "      <td>9.466667</td>\n",
       "      <td>-30.0</td>\n",
       "      <td>Nuc-high seal</td>\n",
       "      <td>NaN</td>\n",
       "      <td>NaN</td>\n",
       "      <td>PAS4_180725_452_A01</td>\n",
       "    </tr>\n",
       "  </tbody>\n",
       "</table>\n",
       "</div>"
      ],
      "text/plain": [
       "          Date User Region Layer  Depth (um)  patch duration  \\\n",
       "431 2018-07-25   PA   VISp     4        52.4       13.850000   \n",
       "432 2018-07-25   PA   VISp    6a        72.6       11.583333   \n",
       "433 2018-07-25   PA   VISp     5        42.6       12.133333   \n",
       "434 2018-07-25   PA   VISp    6a        56.4       12.533333   \n",
       "435 2018-07-25   PA   VISp     4        69.4        9.466667   \n",
       "\n",
       "     extraction pressure applied (mbar)     post_patch  Resolution index  \\\n",
       "431                               -35.0   Nuc-low seal               NaN   \n",
       "432                               -23.0  Nuc-high seal               NaN   \n",
       "433                               -30.0   No-high seal               NaN   \n",
       "434                               -20.0   Nuc-low seal               NaN   \n",
       "435                               -30.0  Nuc-high seal               NaN   \n",
       "\n",
       "    SM_QC_PF         Lims tube id  \n",
       "431      NaN  PAS4_180725_451_A01  \n",
       "432      NaN  PAS4_180725_455_A01  \n",
       "433      NaN  PAS4_180725_453_A01  \n",
       "434      NaN  PAS4_180725_454_A01  \n",
       "435      NaN  PAS4_180725_452_A01  "
      ]
     },
     "execution_count": 9,
     "metadata": {},
     "output_type": "execute_result"
    }
   ],
   "source": [
    "ps_df.tail()"
   ]
  },
  {
   "cell_type": "code",
   "execution_count": 10,
   "metadata": {},
   "outputs": [],
   "source": [
    "#Outputing dataframe as excel sheet\n",
    "#writer = pd.ExcelWriter('TITLE.xlsx')\n",
    "#dataframe.to_excel(writer, 'Sheet#)\n",
    "\n",
    "writer = pd.ExcelWriter('my_ps_df.xlsx')\n",
    "ps_df.to_excel(writer, 'Sheet1')\n",
    "writer.save()"
   ]
  },
  {
   "cell_type": "markdown",
   "metadata": {},
   "source": [
    "### Plots"
   ]
  },
  {
   "cell_type": "code",
   "execution_count": 11,
   "metadata": {},
   "outputs": [
    {
     "data": {
      "text/html": [
       "<div>\n",
       "<style scoped>\n",
       "    .dataframe tbody tr th:only-of-type {\n",
       "        vertical-align: middle;\n",
       "    }\n",
       "\n",
       "    .dataframe tbody tr th {\n",
       "        vertical-align: top;\n",
       "    }\n",
       "\n",
       "    .dataframe thead th {\n",
       "        text-align: right;\n",
       "    }\n",
       "</style>\n",
       "<table border=\"1\" class=\"dataframe\">\n",
       "  <thead>\n",
       "    <tr style=\"text-align: right;\">\n",
       "      <th></th>\n",
       "      <th>count</th>\n",
       "    </tr>\n",
       "    <tr>\n",
       "      <th>post_patch</th>\n",
       "      <th></th>\n",
       "    </tr>\n",
       "  </thead>\n",
       "  <tbody>\n",
       "    <tr>\n",
       "      <th>Entire cell</th>\n",
       "      <td>12</td>\n",
       "    </tr>\n",
       "    <tr>\n",
       "      <th>No-high seal</th>\n",
       "      <td>11</td>\n",
       "    </tr>\n",
       "    <tr>\n",
       "      <th>No-low seal</th>\n",
       "      <td>68</td>\n",
       "    </tr>\n",
       "    <tr>\n",
       "      <th>Nuc-high seal</th>\n",
       "      <td>187</td>\n",
       "    </tr>\n",
       "    <tr>\n",
       "      <th>Nuc-low seal</th>\n",
       "      <td>72</td>\n",
       "    </tr>\n",
       "  </tbody>\n",
       "</table>\n",
       "</div>"
      ],
      "text/plain": [
       "               count\n",
       "post_patch          \n",
       "Entire cell       12\n",
       "No-high seal      11\n",
       "No-low seal       68\n",
       "Nuc-high seal    187\n",
       "Nuc-low seal      72"
      ]
     },
     "execution_count": 11,
     "metadata": {},
     "output_type": "execute_result"
    }
   ],
   "source": [
    "ps_df1"
   ]
  },
  {
   "cell_type": "code",
   "execution_count": 12,
   "metadata": {},
   "outputs": [
    {
     "data": {
      "text/plain": [
       "<matplotlib.figure.Figure at 0xd1f53c8>"
      ]
     },
     "metadata": {},
     "output_type": "display_data"
    },
    {
     "data": {
      "image/png": "[encoded data removed]",
      "text/plain": [
       "<matplotlib.figure.Figure at 0xadecf60>"
      ]
     },
     "metadata": {},
     "output_type": "display_data"
    }
   ],
   "source": [
    "pie_plot(ps_df1)"
   ]
  },
  {
   "cell_type": "code",
   "execution_count": 21,
   "metadata": {},
   "outputs": [
    {
     "data": {
      "text/plain": [
       "<matplotlib.axes._subplots.AxesSubplot at 0xe1c16a0>"
      ]
     },
     "execution_count": 21,
     "metadata": {},
     "output_type": "execute_result"
    },
    {
     "data": {
      "image/png": "[encoded data removed]",
      "text/plain": [
       "<matplotlib.figure.Figure at 0xe365978>"
      ]
     },
     "metadata": {},
     "output_type": "display_data"
    }
   ],
   "source": [
    "sns.boxplot(x = 'post_patch', y = 'patch duration', data = ps_df)"
   ]
  },
  {
   "cell_type": "code",
   "execution_count": 13,
   "metadata": {},
   "outputs": [
    {
     "data": {
      "text/plain": [
       "[<matplotlib.lines.Line2D at 0xd1e2160>]"
      ]
     },
     "execution_count": 13,
     "metadata": {},
     "output_type": "execute_result"
    },
    {
     "data": {
      "image/png": "[encoded data removed]",
      "text/plain": [
       "<matplotlib.figure.Figure at 0xd2a3940>"
      ]
     },
     "metadata": {},
     "output_type": "display_data"
    }
   ],
   "source": [
    "plt.plot_date(x = 'Date', y = 'Resolution index', data = ps_df)"
   ]
  },
  {
   "cell_type": "code",
   "execution_count": null,
   "metadata": {},
   "outputs": [],
   "source": []
  }
 ],
 "metadata": {
  "kernelspec": {
   "display_name": "Python 2",
   "language": "python",
   "name": "python2"
  },
  "language_info": {
   "codemirror_mode": {
    "name": "ipython",
    "version": 2
   },
   "file_extension": ".py",
   "mimetype": "text/x-python",
   "name": "python",
   "nbconvert_exporter": "python",
   "pygments_lexer": "ipython2",
   "version": "2.7.15"
  }
 },
 "nbformat": 4,
 "nbformat_minor": 2
}
