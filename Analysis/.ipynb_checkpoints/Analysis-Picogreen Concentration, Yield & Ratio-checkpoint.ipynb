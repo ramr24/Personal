{
 "cells": [
  {
   "cell_type": "code",
   "execution_count": 1,
   "metadata": {},
   "outputs": [],
   "source": [
    "#Updated ps_mouse.csv on 7/12/2018"
   ]
  },
  {
   "cell_type": "code",
   "execution_count": 2,
   "metadata": {},
   "outputs": [],
   "source": [
    "import csv\n",
    "import pandas as pd\n",
    "import numpy as np\n",
    "import seaborn as sns\n",
    "import matplotlib.pyplot as plt\n",
    "from datetime import datetime\n",
    "%matplotlib inline\n",
    "\n",
    "#sns.set_style('whitegrid') #Makes a white backround with gray horizontal gridmarks at y-values\n",
    "sns.set_context('notebook')"
   ]
  },
  {
   "cell_type": "code",
   "execution_count": 4,
   "metadata": {},
   "outputs": [],
   "source": [
    "def get_ps_df():\n",
    "    '''To read the Patchseq Google Doc as a pandas dataframe.\n",
    "\n",
    "    Returns:\n",
    "        ps_df: pandas dataframe\n",
    "    '''    \n",
    "    ps_df = pd.read_csv(\"C:/users/ramr/documents/github/coding/personal-projects/csv/ps_mouse.csv\")\n",
    "    ps_df = ps_df.loc[:, [\"Date\", \"User\", \"Picogreen conc. (pg/uL)\", \"Picogreen yield (pg)\", \"Ratio >400/total\", \"PCR cycles\", \"SM_QC_PF\", \"Lims tube id\"]]\n",
    "    return ps_df"
   ]
  },
  {
   "cell_type": "code",
   "execution_count": 5,
   "metadata": {},
   "outputs": [],
   "source": [
    "def sort_df(df):\n",
    "    \n",
    "    #Changing to string to add 20 in front of strings within date column\n",
    "    df['Date'] = df['Date'].astype('str')\n",
    "    df['Date'] = '20' + df['Date']\n",
    "    df['Date'] = pd.to_datetime(df['Date']) #Converting date to YYYY-MM-DD\n",
    "    df = df.set_index('Date') #Set date column as index column\n",
    "\n",
    "    #Production Date Start = '2017-10-01' \n",
    "    start_date = '2017-10-01'\n",
    "    df = df[start_date:] #Choosing start & end date  \n",
    "    df.sort_index(inplace = True)\n",
    "    \n",
    "    #Categories\n",
    "    df['User'] = df['User'].astype('category')\n",
    "    df['PCR cycles'] = df['PCR cycles'].astype('category')\n",
    "    df['SM_QC_PF'] = df['SM_QC_PF'].astype('category')\n",
    "\n",
    "    #Filtering Columns\n",
    "    df = df[df['PCR cycles'] == 21]      #Shows 21 pcr cycles\n",
    "    df = df[df['SM_QC_PF'] != 'cnt']     #Shows everything except (cnt = control)\n",
    "    df.drop(['PCR cycles', 'SM_QC_PF'], axis = 1, inplace = True)\n",
    "    df.dropna(subset = ['User', 'Picogreen conc. (pg/uL)', 'Picogreen yield (pg)', 'Ratio >400/total'], inplace = True)\n",
    "    df['Ratio >400/total'] = df['Ratio >400/total'].str[:-1] #Getting rid of % sign\n",
    "    df['Ratio >400/total'] = df['Ratio >400/total'].astype(float)\n",
    "    return df "
   ]
  },
  {
   "cell_type": "code",
   "execution_count": 6,
   "metadata": {},
   "outputs": [],
   "source": [
    "#Making global variables\n",
    "ps_df = get_ps_df()\n",
    "ps_df = sort_df(ps_df)"
   ]
  },
  {
   "cell_type": "code",
   "execution_count": 7,
   "metadata": {},
   "outputs": [
    {
     "data": {
      "text/html": [
       "<div>\n",
       "<style scoped>\n",
       "    .dataframe tbody tr th:only-of-type {\n",
       "        vertical-align: middle;\n",
       "    }\n",
       "\n",
       "    .dataframe tbody tr th {\n",
       "        vertical-align: top;\n",
       "    }\n",
       "\n",
       "    .dataframe thead th {\n",
       "        text-align: right;\n",
       "    }\n",
       "</style>\n",
       "<table border=\"1\" class=\"dataframe\">\n",
       "  <thead>\n",
       "    <tr style=\"text-align: right;\">\n",
       "      <th></th>\n",
       "      <th>User</th>\n",
       "      <th>Picogreen conc. (pg/uL)</th>\n",
       "      <th>Picogreen yield (pg)</th>\n",
       "      <th>Ratio &gt;400/total</th>\n",
       "      <th>Lims tube id</th>\n",
       "    </tr>\n",
       "    <tr>\n",
       "      <th>Date</th>\n",
       "      <th></th>\n",
       "      <th></th>\n",
       "      <th></th>\n",
       "      <th></th>\n",
       "      <th></th>\n",
       "    </tr>\n",
       "  </thead>\n",
       "  <tbody>\n",
       "    <tr>\n",
       "      <th>2017-10-02</th>\n",
       "      <td>P2</td>\n",
       "      <td>750.0</td>\n",
       "      <td>9003.0</td>\n",
       "      <td>42.0</td>\n",
       "      <td>P2S4_171002_051_A01</td>\n",
       "    </tr>\n",
       "    <tr>\n",
       "      <th>2017-10-02</th>\n",
       "      <td>P2</td>\n",
       "      <td>1148.0</td>\n",
       "      <td>13780.0</td>\n",
       "      <td>70.0</td>\n",
       "      <td>P2S4_171002_052_A01</td>\n",
       "    </tr>\n",
       "    <tr>\n",
       "      <th>2017-10-02</th>\n",
       "      <td>P2</td>\n",
       "      <td>212.0</td>\n",
       "      <td>2549.0</td>\n",
       "      <td>49.0</td>\n",
       "      <td>P2S4_171002_053_A01</td>\n",
       "    </tr>\n",
       "    <tr>\n",
       "      <th>2017-10-02</th>\n",
       "      <td>P2</td>\n",
       "      <td>478.0</td>\n",
       "      <td>5741.0</td>\n",
       "      <td>62.0</td>\n",
       "      <td>P2S4_171002_054_A01</td>\n",
       "    </tr>\n",
       "    <tr>\n",
       "      <th>2017-10-02</th>\n",
       "      <td>P2</td>\n",
       "      <td>1283.0</td>\n",
       "      <td>15401.0</td>\n",
       "      <td>72.0</td>\n",
       "      <td>P2S4_171002_055_A01</td>\n",
       "    </tr>\n",
       "  </tbody>\n",
       "</table>\n",
       "</div>"
      ],
      "text/plain": [
       "           User  Picogreen conc. (pg/uL)  Picogreen yield (pg)  \\\n",
       "Date                                                             \n",
       "2017-10-02   P2                    750.0                9003.0   \n",
       "2017-10-02   P2                   1148.0               13780.0   \n",
       "2017-10-02   P2                    212.0                2549.0   \n",
       "2017-10-02   P2                    478.0                5741.0   \n",
       "2017-10-02   P2                   1283.0               15401.0   \n",
       "\n",
       "            Ratio >400/total         Lims tube id  \n",
       "Date                                               \n",
       "2017-10-02              42.0  P2S4_171002_051_A01  \n",
       "2017-10-02              70.0  P2S4_171002_052_A01  \n",
       "2017-10-02              49.0  P2S4_171002_053_A01  \n",
       "2017-10-02              62.0  P2S4_171002_054_A01  \n",
       "2017-10-02              72.0  P2S4_171002_055_A01  "
      ]
     },
     "execution_count": 7,
     "metadata": {},
     "output_type": "execute_result"
    }
   ],
   "source": [
    "ps_df.head()"
   ]
  },
  {
   "cell_type": "code",
   "execution_count": 8,
   "metadata": {},
   "outputs": [
    {
     "data": {
      "text/plain": [
       "<matplotlib.text.Text at 0xd854be0>"
      ]
     },
     "execution_count": 8,
     "metadata": {},
     "output_type": "execute_result"
    },
    {
     "data": {
      "image/png": "[encoded data removed]",
      "text/plain": [
       "<matplotlib.figure.Figure at 0xb478f28>"
      ]
     },
     "metadata": {},
     "output_type": "display_data"
    }
   ],
   "source": [
    "sns.boxplot(x = 'User', y = 'Picogreen conc. (pg/uL)',\n",
    "            data = ps_df[ps_df['Picogreen conc. (pg/uL)'] < 8000], \n",
    "            order = ['P1', 'P2', 'P8', 'P9', 'PA', 'PB'], \n",
    "            palette = 'Paired').set_title('Picogreen Concentration vs. User')\n",
    "plt.xlabel('PatchSeq Users')\n",
    "plt.ylabel('Picogreen Concentration (pg/uL)')\n",
    "#plt.savefig(\"box_picogreen_conc_vs_user\")"
   ]
  },
  {
   "cell_type": "code",
   "execution_count": 9,
   "metadata": {},
   "outputs": [
    {
     "data": {
      "text/plain": [
       "<matplotlib.text.Text at 0xdbe28d0>"
      ]
     },
     "execution_count": 9,
     "metadata": {},
     "output_type": "execute_result"
    },
    {
     "data": {
      "image/png": "[encoded data removed]",
      "text/plain": [
       "<matplotlib.figure.Figure at 0xd86bcc0>"
      ]
     },
     "metadata": {},
     "output_type": "display_data"
    }
   ],
   "source": [
    "sns.boxplot(x = \"User\", y = \"Picogreen yield (pg)\", \n",
    "            data = ps_df[ps_df[\"Picogreen yield (pg)\"] < 80000], \n",
    "            order = [\"P1\", \"P2\", \"P8\", \"P9\", \"PA\", \"PB\"], \n",
    "            palette = \"Paired\").set_title(\"Picogreen Yield vs. User\")\n",
    "plt.xlabel(\"PatchSeq Users\")\n",
    "plt.ylabel(\"Picogreen Yield (pg)\")"
   ]
  },
  {
   "cell_type": "code",
   "execution_count": 10,
   "metadata": {},
   "outputs": [
    {
     "data": {
      "text/plain": [
       "<matplotlib.text.Text at 0xdf32240>"
      ]
     },
     "execution_count": 10,
     "metadata": {},
     "output_type": "execute_result"
    },
    {
     "data": {
      "image/png": "[encoded data removed]",
      "text/plain": [
       "<matplotlib.figure.Figure at 0xde2ca58>"
      ]
     },
     "metadata": {},
     "output_type": "display_data"
    }
   ],
   "source": [
    "sns.boxplot(x = \"User\", y = \"Ratio >400/total\", \n",
    "            data = ps_df[ps_df[\"Ratio >400/total\"] <= 100],\n",
    "            order = [\"P1\", \"P2\", \"P8\", \"P9\", \"PA\", \"PB\"], \n",
    "            palette = \"Paired\").set_title(\"Ratio vs. User\")\n",
    "plt.xlabel(\"PatchSeq Users\")\n",
    "plt.ylabel(\"Ratio\")"
   ]
  },
  {
   "cell_type": "code",
   "execution_count": 11,
   "metadata": {},
   "outputs": [
    {
     "data": {
      "text/plain": [
       "<matplotlib.text.Text at 0xe1e21d0>"
      ]
     },
     "execution_count": 11,
     "metadata": {},
     "output_type": "execute_result"
    },
    {
     "data": {
      "image/png": "[encoded data removed]",
      "text/plain": [
       "<matplotlib.figure.Figure at 0xde2ce48>"
      ]
     },
     "metadata": {},
     "output_type": "display_data"
    }
   ],
   "source": [
    "#whis = np.inf includes the outliers\n",
    "sns.boxplot(x = 'User', y = 'Picogreen conc. (pg/uL)',\n",
    "            data = ps_df[ps_df['Picogreen conc. (pg/uL)'] < 8000], \n",
    "            order = ['P1', 'P2', 'P8', 'P9', 'PA', 'PB'],\n",
    "            palette = 'Paired', whis = np.inf).set_title(\"Picogreen Concentration vs. User\")\n",
    "plt.xlabel('PatchSeq Users')\n",
    "plt.ylabel('Picogreen Concentration (pg/uL)')"
   ]
  },
  {
   "cell_type": "markdown",
   "metadata": {
    "collapsed": true
   },
   "source": [
    "### Extras"
   ]
  },
  {
   "cell_type": "code",
   "execution_count": 12,
   "metadata": {},
   "outputs": [
    {
     "data": {
      "text/plain": [
       "[u'seaborn-darkgrid',\n",
       " u'seaborn-notebook',\n",
       " u'classic',\n",
       " u'seaborn-ticks',\n",
       " u'grayscale',\n",
       " u'bmh',\n",
       " u'seaborn-talk',\n",
       " u'dark_background',\n",
       " u'ggplot',\n",
       " u'fivethirtyeight',\n",
       " u'_classic_test',\n",
       " u'seaborn-colorblind',\n",
       " u'seaborn-deep',\n",
       " u'seaborn-whitegrid',\n",
       " u'seaborn-bright',\n",
       " u'seaborn-poster',\n",
       " u'seaborn-muted',\n",
       " u'seaborn-paper',\n",
       " u'seaborn-white',\n",
       " u'seaborn-pastel',\n",
       " u'seaborn-dark',\n",
       " u'seaborn',\n",
       " u'seaborn-dark-palette']"
      ]
     },
     "execution_count": 12,
     "metadata": {},
     "output_type": "execute_result"
    }
   ],
   "source": [
    "plt.style.available"
   ]
  },
  {
   "cell_type": "code",
   "execution_count": null,
   "metadata": {},
   "outputs": [],
   "source": []
  }
 ],
 "metadata": {
  "kernelspec": {
   "display_name": "Python 2",
   "language": "python",
   "name": "python2"
  },
  "language_info": {
   "codemirror_mode": {
    "name": "ipython",
    "version": 2
   },
   "file_extension": ".py",
   "mimetype": "text/x-python",
   "name": "python",
   "nbconvert_exporter": "python",
   "pygments_lexer": "ipython2",
   "version": "2.7.15"
  }
 },
 "nbformat": 4,
 "nbformat_minor": 2
}
