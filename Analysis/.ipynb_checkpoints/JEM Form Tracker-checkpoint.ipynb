{
 "cells": [
  {
   "cell_type": "code",
   "execution_count": 1,
   "metadata": {},
   "outputs": [],
   "source": [
    "import csv\n",
    "import pandas as pd\n",
    "import numpy as np\n",
    "import seaborn as sns\n",
    "import matplotlib.pyplot as plt\n",
    "\n",
    "import post_patch as pp #post patch script\n",
    "#post_patch_column = 'postPatch_label'\n",
    "#post_patch_pipette_column = 'endPipetteR_label'\n",
    "\n",
    "sns.set(style = \"whitegrid\")\n",
    "sns.set_context('notebook')"
   ]
  },
  {
   "cell_type": "code",
   "execution_count": 2,
   "metadata": {},
   "outputs": [
    {
     "name": "stderr",
     "output_type": "stream",
     "text": [
      "C:\\Users\\kumar\\AppData\\Local\\Continuum\\anaconda3\\lib\\site-packages\\pandas\\core\\indexing.py:362: SettingWithCopyWarning: \n",
      "A value is trying to be set on a copy of a slice from a DataFrame.\n",
      "Try using .loc[row_indexer,col_indexer] = value instead\n",
      "\n",
      "See the caveats in the documentation: http://pandas.pydata.org/pandas-docs/stable/indexing.html#indexing-view-versus-copy\n",
      "  self.obj[key] = _infer_fill_value(value)\n",
      "C:\\Users\\kumar\\AppData\\Local\\Continuum\\anaconda3\\lib\\site-packages\\pandas\\core\\indexing.py:543: SettingWithCopyWarning: \n",
      "A value is trying to be set on a copy of a slice from a DataFrame.\n",
      "Try using .loc[row_indexer,col_indexer] = value instead\n",
      "\n",
      "See the caveats in the documentation: http://pandas.pydata.org/pandas-docs/stable/indexing.html#indexing-view-versus-copy\n",
      "  self.obj[item] = s\n"
     ]
    }
   ],
   "source": [
    "json_df = pd.read_csv('C:/users/kumar/documents/github/personal-projects/csv/json_metadata.csv')\n",
    "#json_df = pd.read_csv('C:/users/ramr/documents/github/coding/personal-projects/csv/json_metadata.csv')\n",
    "json_df = json_df[json_df['status'] == 'SUCCESS']\n",
    "\n",
    "#Creates patch_duration column and outputs in minutes\n",
    "json_df['patch_duration'] = pd.to_datetime(json_df['extraction.timeRetractionEnd']) - pd.to_datetime(json_df['recording.timeWholeCellStart'])\n",
    "json_df['patch_duration'] = (json_df['patch_duration'].astype('timedelta64[s]'))/60\n",
    "\n",
    "json_df['date'] = json_df['date'].str[:10] #Strip away the time\n",
    "json_df['date'] = pd.to_datetime(json_df['date']) #Converting to YYYY-MM-DD\n",
    "\n",
    "json_df = pp.postpatch_reclass(json_df) #Makes post patch column with the script\n",
    "\n",
    "json_df.dropna(subset = ['patch_container', 'cell_depth'], inplace = True)\n",
    "#json_df = json_df[json_df['patch_container'].str.match('PA')]\n",
    "\n",
    "json_df = json_df[['date',                   \n",
    "                   'patch_container', #or lims_patch_container\n",
    "                   'roi_major',\n",
    "                   'roi_minor',\n",
    "                   'extraction.pressureApplied',\n",
    "                   'patch_duration',\n",
    "                   'cell_depth',  #or approach.depth (seems less accurate)\n",
    "                   'post_patch']]\n",
    "\n",
    "json_df.sort_values(by = ['date'], inplace = True) #Sorts date column"
   ]
  },
  {
   "cell_type": "code",
   "execution_count": 3,
   "metadata": {
    "scrolled": true
   },
   "outputs": [
    {
     "data": {
      "text/html": [
       "<div>\n",
       "<style scoped>\n",
       "    .dataframe tbody tr th:only-of-type {\n",
       "        vertical-align: middle;\n",
       "    }\n",
       "\n",
       "    .dataframe tbody tr th {\n",
       "        vertical-align: top;\n",
       "    }\n",
       "\n",
       "    .dataframe thead th {\n",
       "        text-align: right;\n",
       "    }\n",
       "</style>\n",
       "<table border=\"1\" class=\"dataframe\">\n",
       "  <thead>\n",
       "    <tr style=\"text-align: right;\">\n",
       "      <th></th>\n",
       "      <th>date</th>\n",
       "      <th>patch_container</th>\n",
       "      <th>roi_major</th>\n",
       "      <th>roi_minor</th>\n",
       "      <th>extraction.pressureApplied</th>\n",
       "      <th>patch_duration</th>\n",
       "      <th>cell_depth</th>\n",
       "      <th>post_patch</th>\n",
       "    </tr>\n",
       "  </thead>\n",
       "  <tbody>\n",
       "    <tr>\n",
       "      <th>224</th>\n",
       "      <td>2017-10-02</td>\n",
       "      <td>P8S4_171002_355_A01</td>\n",
       "      <td>VISp</td>\n",
       "      <td>layer 5</td>\n",
       "      <td>-30.0</td>\n",
       "      <td>10.616667</td>\n",
       "      <td>46.8</td>\n",
       "      <td>Nuc-high seal</td>\n",
       "    </tr>\n",
       "    <tr>\n",
       "      <th>230</th>\n",
       "      <td>2017-10-02</td>\n",
       "      <td>P2S4_171002_056_A01</td>\n",
       "      <td>VISp</td>\n",
       "      <td>layer 5</td>\n",
       "      <td>-35.0</td>\n",
       "      <td>12.250000</td>\n",
       "      <td>42.2</td>\n",
       "      <td>No-low seal</td>\n",
       "    </tr>\n",
       "    <tr>\n",
       "      <th>231</th>\n",
       "      <td>2017-10-02</td>\n",
       "      <td>P8S4_171002_357_A01</td>\n",
       "      <td>VISp</td>\n",
       "      <td>layer 5</td>\n",
       "      <td>-30.0</td>\n",
       "      <td>13.766667</td>\n",
       "      <td>60.6</td>\n",
       "      <td>No-low seal</td>\n",
       "    </tr>\n",
       "    <tr>\n",
       "      <th>234</th>\n",
       "      <td>2017-10-02</td>\n",
       "      <td>P9S4_171002_406_A01</td>\n",
       "      <td>VISp</td>\n",
       "      <td>layer 6a</td>\n",
       "      <td>-30.0</td>\n",
       "      <td>7.616667</td>\n",
       "      <td>46.2</td>\n",
       "      <td>No-low seal</td>\n",
       "    </tr>\n",
       "    <tr>\n",
       "      <th>236</th>\n",
       "      <td>2017-10-02</td>\n",
       "      <td>P9S4_171002_405_A01</td>\n",
       "      <td>VISp</td>\n",
       "      <td>layer 2/3</td>\n",
       "      <td>-26.6</td>\n",
       "      <td>5.416667</td>\n",
       "      <td>40.1</td>\n",
       "      <td>No-low seal</td>\n",
       "    </tr>\n",
       "  </tbody>\n",
       "</table>\n",
       "</div>"
      ],
      "text/plain": [
       "          date      patch_container roi_major  roi_minor  \\\n",
       "224 2017-10-02  P8S4_171002_355_A01      VISp    layer 5   \n",
       "230 2017-10-02  P2S4_171002_056_A01      VISp    layer 5   \n",
       "231 2017-10-02  P8S4_171002_357_A01      VISp    layer 5   \n",
       "234 2017-10-02  P9S4_171002_406_A01      VISp   layer 6a   \n",
       "236 2017-10-02  P9S4_171002_405_A01      VISp  layer 2/3   \n",
       "\n",
       "     extraction.pressureApplied  patch_duration  cell_depth     post_patch  \n",
       "224                       -30.0       10.616667        46.8  Nuc-high seal  \n",
       "230                       -35.0       12.250000        42.2    No-low seal  \n",
       "231                       -30.0       13.766667        60.6    No-low seal  \n",
       "234                       -30.0        7.616667        46.2    No-low seal  \n",
       "236                       -26.6        5.416667        40.1    No-low seal  "
      ]
     },
     "execution_count": 3,
     "metadata": {},
     "output_type": "execute_result"
    }
   ],
   "source": [
    "json_df.head()"
   ]
  },
  {
   "cell_type": "code",
   "execution_count": 4,
   "metadata": {},
   "outputs": [
    {
     "data": {
      "text/html": [
       "<div>\n",
       "<style scoped>\n",
       "    .dataframe tbody tr th:only-of-type {\n",
       "        vertical-align: middle;\n",
       "    }\n",
       "\n",
       "    .dataframe tbody tr th {\n",
       "        vertical-align: top;\n",
       "    }\n",
       "\n",
       "    .dataframe thead th {\n",
       "        text-align: right;\n",
       "    }\n",
       "</style>\n",
       "<table border=\"1\" class=\"dataframe\">\n",
       "  <thead>\n",
       "    <tr style=\"text-align: right;\">\n",
       "      <th></th>\n",
       "      <th>date</th>\n",
       "      <th>patch_container</th>\n",
       "      <th>roi_major</th>\n",
       "      <th>roi_minor</th>\n",
       "      <th>extraction.pressureApplied</th>\n",
       "      <th>patch_duration</th>\n",
       "      <th>cell_depth</th>\n",
       "      <th>post_patch</th>\n",
       "    </tr>\n",
       "  </thead>\n",
       "  <tbody>\n",
       "    <tr>\n",
       "      <th>6464</th>\n",
       "      <td>2019-01-15</td>\n",
       "      <td>PBS4_190115_501_A01</td>\n",
       "      <td>VISp</td>\n",
       "      <td>layer 2/3</td>\n",
       "      <td>-35.0</td>\n",
       "      <td>12.750000</td>\n",
       "      <td>93.3</td>\n",
       "      <td>Nuc-high seal</td>\n",
       "    </tr>\n",
       "    <tr>\n",
       "      <th>6463</th>\n",
       "      <td>2019-01-15</td>\n",
       "      <td>PAS4_190115_451_A01</td>\n",
       "      <td>VISp</td>\n",
       "      <td>layer 5</td>\n",
       "      <td>-40.0</td>\n",
       "      <td>9.600000</td>\n",
       "      <td>38.4</td>\n",
       "      <td>Nuc-high seal</td>\n",
       "    </tr>\n",
       "    <tr>\n",
       "      <th>6470</th>\n",
       "      <td>2019-01-15</td>\n",
       "      <td>P8S4_190115_352_A01</td>\n",
       "      <td>VISp</td>\n",
       "      <td>layer 5</td>\n",
       "      <td>-40.0</td>\n",
       "      <td>12.266667</td>\n",
       "      <td>38.9</td>\n",
       "      <td>Nuc-low seal</td>\n",
       "    </tr>\n",
       "    <tr>\n",
       "      <th>6472</th>\n",
       "      <td>2019-01-15</td>\n",
       "      <td>P1S4_190115_005_A01</td>\n",
       "      <td>VISp</td>\n",
       "      <td>layer 4</td>\n",
       "      <td>-30.0</td>\n",
       "      <td>9.950000</td>\n",
       "      <td>67.1</td>\n",
       "      <td>Nuc-high seal</td>\n",
       "    </tr>\n",
       "    <tr>\n",
       "      <th>6468</th>\n",
       "      <td>2019-01-15</td>\n",
       "      <td>P8S4_190115_353_A01</td>\n",
       "      <td>VISp</td>\n",
       "      <td>layer 2/3</td>\n",
       "      <td>-40.0</td>\n",
       "      <td>8.816667</td>\n",
       "      <td>40.5</td>\n",
       "      <td>Nuc-high seal</td>\n",
       "    </tr>\n",
       "  </tbody>\n",
       "</table>\n",
       "</div>"
      ],
      "text/plain": [
       "           date      patch_container roi_major  roi_minor  \\\n",
       "6464 2019-01-15  PBS4_190115_501_A01      VISp  layer 2/3   \n",
       "6463 2019-01-15  PAS4_190115_451_A01      VISp    layer 5   \n",
       "6470 2019-01-15  P8S4_190115_352_A01      VISp    layer 5   \n",
       "6472 2019-01-15  P1S4_190115_005_A01      VISp    layer 4   \n",
       "6468 2019-01-15  P8S4_190115_353_A01      VISp  layer 2/3   \n",
       "\n",
       "      extraction.pressureApplied  patch_duration  cell_depth     post_patch  \n",
       "6464                       -35.0       12.750000        93.3  Nuc-high seal  \n",
       "6463                       -40.0        9.600000        38.4  Nuc-high seal  \n",
       "6470                       -40.0       12.266667        38.9   Nuc-low seal  \n",
       "6472                       -30.0        9.950000        67.1  Nuc-high seal  \n",
       "6468                       -40.0        8.816667        40.5  Nuc-high seal  "
      ]
     },
     "execution_count": 4,
     "metadata": {},
     "output_type": "execute_result"
    }
   ],
   "source": [
    "json_df.tail()"
   ]
  },
  {
   "cell_type": "code",
   "execution_count": 5,
   "metadata": {},
   "outputs": [],
   "source": [
    "#Constant and reused variables \n",
    "colors = ['#31a354', '#a1d99b', '#fc9272', '#de2d26', '#f7fcb9'] #For seaborn plots\n",
    "x_order = ['Nuc-high seal', 'Nuc-low seal', 'No-high seal', 'No-low seal', 'Entire cell']"
   ]
  },
  {
   "cell_type": "code",
   "execution_count": 6,
   "metadata": {},
   "outputs": [
    {
     "data": {
      "image/png": "[encoded data removed]",
      "text/plain": [
       "<Figure size 576x360 with 1 Axes>"
      ]
     },
     "metadata": {},
     "output_type": "display_data"
    }
   ],
   "source": [
    "df1 = json_df.groupby(['post_patch']).size().reset_index(name = 'count')\n",
    "\n",
    "plt.subplots(figsize=(8,5)) #Has to be before the plot to work\n",
    "ax = sns.barplot(x = 'count', y = 'post_patch', order = x_order, palette = colors, saturation = 1, data = df1)\n",
    "ax.set(xlabel = 'Count', ylabel = 'Post Patch Outcomes')\n",
    "ax.set_title(\"Counts of Post Patch Outcomes\")\n",
    "\n",
    "for p in ax.patches: #Figure out how this loop works\n",
    "    value = p.get_width()\n",
    "    ax.text(value, p.get_y() + p.get_height()/2 + 0.1, '{:1.0f}'.format(value), ha = \"left\", fontsize = 12)\n",
    "\n",
    "# + 0.1 = chooses location of the value vertically"
   ]
  },
  {
   "cell_type": "code",
   "execution_count": 7,
   "metadata": {},
   "outputs": [
    {
     "data": {
      "text/html": [
       "<div>\n",
       "<style scoped>\n",
       "    .dataframe tbody tr th:only-of-type {\n",
       "        vertical-align: middle;\n",
       "    }\n",
       "\n",
       "    .dataframe tbody tr th {\n",
       "        vertical-align: top;\n",
       "    }\n",
       "\n",
       "    .dataframe thead th {\n",
       "        text-align: right;\n",
       "    }\n",
       "</style>\n",
       "<table border=\"1\" class=\"dataframe\">\n",
       "  <thead>\n",
       "    <tr style=\"text-align: right;\">\n",
       "      <th></th>\n",
       "      <th>post_patch</th>\n",
       "      <th>count</th>\n",
       "    </tr>\n",
       "  </thead>\n",
       "  <tbody>\n",
       "    <tr>\n",
       "      <th>0</th>\n",
       "      <td>Entire cell</td>\n",
       "      <td>88</td>\n",
       "    </tr>\n",
       "    <tr>\n",
       "      <th>1</th>\n",
       "      <td>No-high seal</td>\n",
       "      <td>670</td>\n",
       "    </tr>\n",
       "    <tr>\n",
       "      <th>2</th>\n",
       "      <td>No-low seal</td>\n",
       "      <td>681</td>\n",
       "    </tr>\n",
       "    <tr>\n",
       "      <th>3</th>\n",
       "      <td>Nuc-high seal</td>\n",
       "      <td>3761</td>\n",
       "    </tr>\n",
       "    <tr>\n",
       "      <th>4</th>\n",
       "      <td>Nuc-low seal</td>\n",
       "      <td>557</td>\n",
       "    </tr>\n",
       "  </tbody>\n",
       "</table>\n",
       "</div>"
      ],
      "text/plain": [
       "      post_patch  count\n",
       "0    Entire cell     88\n",
       "1   No-high seal    670\n",
       "2    No-low seal    681\n",
       "3  Nuc-high seal   3761\n",
       "4   Nuc-low seal    557"
      ]
     },
     "execution_count": 7,
     "metadata": {},
     "output_type": "execute_result"
    }
   ],
   "source": [
    "df1"
   ]
  },
  {
   "cell_type": "markdown",
   "metadata": {},
   "source": [
    "### Histogram plots"
   ]
  },
  {
   "cell_type": "code",
   "execution_count": 8,
   "metadata": {},
   "outputs": [],
   "source": [
    "#Histogram plot dfs\n",
    "nuc_df = json_df[json_df['post_patch'] == 'Nuc-high seal']\n",
    "no_df = json_df[json_df['post_patch'] == 'No-low seal']\n",
    "ent_df = json_df[json_df['post_patch'] == 'Entire cell']"
   ]
  },
  {
   "cell_type": "code",
   "execution_count": 9,
   "metadata": {},
   "outputs": [],
   "source": [
    "def hist(df):\n",
    "    bins = np.arange(30, 75, 5) #Displays cell depth 30 to 70 um, split by 5 \n",
    "    ax = sns.distplot(df[\"cell_depth\"], bins=bins, kde=False, vertical=True, color='#31a354')\n",
    "    #kde = kernal density estimate line\n",
    "    ax.set(xlabel = 'Count of nucleated patch', ylabel = 'Cell Depth(um)')\n",
    "    ax.set_title(\"Counts of nucleated patches at cell depth\")"
   ]
  },
  {
   "cell_type": "code",
   "execution_count": 10,
   "metadata": {},
   "outputs": [
    {
     "name": "stderr",
     "output_type": "stream",
     "text": [
      "C:\\Users\\kumar\\AppData\\Local\\Continuum\\anaconda3\\lib\\site-packages\\matplotlib\\axes\\_axes.py:6462: UserWarning: The 'normed' kwarg is deprecated, and has been replaced by the 'density' kwarg.\n",
      "  warnings.warn(\"The 'normed' kwarg is deprecated, and has been \"\n"
     ]
    },
    {
     "data": {
      "image/png": "[encoded data removed]",
      "text/plain": [
       "<Figure size 432x288 with 1 Axes>"
      ]
     },
     "metadata": {},
     "output_type": "display_data"
    }
   ],
   "source": [
    "hist(nuc_df)"
   ]
  },
  {
   "cell_type": "code",
   "execution_count": 11,
   "metadata": {},
   "outputs": [
    {
     "name": "stderr",
     "output_type": "stream",
     "text": [
      "C:\\Users\\kumar\\AppData\\Local\\Continuum\\anaconda3\\lib\\site-packages\\matplotlib\\axes\\_axes.py:6462: UserWarning: The 'normed' kwarg is deprecated, and has been replaced by the 'density' kwarg.\n",
      "  warnings.warn(\"The 'normed' kwarg is deprecated, and has been \"\n"
     ]
    },
    {
     "data": {
      "image/png": "[encoded data removed]",
      "text/plain": [
       "<Figure size 432x288 with 1 Axes>"
      ]
     },
     "metadata": {},
     "output_type": "display_data"
    }
   ],
   "source": [
    "hist(no_df)"
   ]
  },
  {
   "cell_type": "code",
   "execution_count": 12,
   "metadata": {},
   "outputs": [
    {
     "name": "stderr",
     "output_type": "stream",
     "text": [
      "C:\\Users\\kumar\\AppData\\Local\\Continuum\\anaconda3\\lib\\site-packages\\matplotlib\\axes\\_axes.py:6462: UserWarning: The 'normed' kwarg is deprecated, and has been replaced by the 'density' kwarg.\n",
      "  warnings.warn(\"The 'normed' kwarg is deprecated, and has been \"\n"
     ]
    },
    {
     "data": {
      "image/png": "[encoded data removed]",
      "text/plain": [
       "<Figure size 432x288 with 1 Axes>"
      ]
     },
     "metadata": {},
     "output_type": "display_data"
    }
   ],
   "source": [
    "hist(ent_df)"
   ]
  },
  {
   "cell_type": "code",
   "execution_count": null,
   "metadata": {},
   "outputs": [],
   "source": []
  }
 ],
 "metadata": {
  "kernelspec": {
   "display_name": "Python 3",
   "language": "python",
   "name": "python3"
  },
  "language_info": {
   "codemirror_mode": {
    "name": "ipython",
    "version": 3
   },
   "file_extension": ".py",
   "mimetype": "text/x-python",
   "name": "python",
   "nbconvert_exporter": "python",
   "pygments_lexer": "ipython3",
   "version": "3.6.5"
  }
 },
 "nbformat": 4,
 "nbformat_minor": 2
}
