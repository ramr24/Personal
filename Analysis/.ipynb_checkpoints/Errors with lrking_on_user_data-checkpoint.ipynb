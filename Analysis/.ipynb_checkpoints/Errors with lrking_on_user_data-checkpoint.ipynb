{
 "cells": [
  {
   "cell_type": "markdown",
   "metadata": {},
   "source": [
    "### Figuring out Pie plot colors & Losing cells when merging"
   ]
  },
  {
   "cell_type": "code",
   "execution_count": 1,
   "metadata": {},
   "outputs": [],
   "source": [
    "import csv\n",
    "import pandas as pd\n",
    "import numpy as np\n",
    "import seaborn as sns\n",
    "import matplotlib.pyplot as plt\n",
    "from datetime import datetime\n",
    "%matplotlib inline\n",
    "\n",
    "import post_patch as pp #post patch script\n",
    "#post_patch_column = 'postPatch_label'\n",
    "#post_patch_pipette_column = 'endPipetteR_label'\n",
    "\n",
    "#sns.set_style('whitegrid') #Makes a white backround with gray horizontal gridmarks at y-values\n",
    "sns.set_context('notebook')"
   ]
  },
  {
   "cell_type": "code",
   "execution_count": 2,
   "metadata": {},
   "outputs": [],
   "source": [
    "def get_json_df():\n",
    "    \"\"\"Returns a dataframe containing relevant metadata from the JEM forms\n",
    "    \n",
    "    Returns\n",
    "    -------\n",
    "    json_df : pandas dataframe\n",
    "    \"\"\"\n",
    "    \n",
    "    json_df = pd.read_csv('C:/users/kumar/documents/github/personal-projects/csv/json_metadata.csv')\n",
    "    json_df = json_df[json_df['status'] == 'SUCCESS']\n",
    "    \n",
    "    #Creates patch_duration column and outputs in minutes\n",
    "    json_df['patch_duration'] = pd.to_datetime(json_df['extraction.timeRetractionEnd']) - pd.to_datetime(json_df['recording.timeWholeCellStart'])\n",
    "    json_df['patch_duration'] = (json_df['patch_duration'].astype('timedelta64[s]'))/60\n",
    "    \n",
    "    json_df['date'] = json_df['date'].str[:10] #Strip away the time\n",
    "    json_df['date'] = pd.to_datetime(json_df['date']) #Converting to YYYY-MM-DD\n",
    "    json_df.set_index('date', inplace = True)\n",
    "    \n",
    "    json_df = pp.postpatch_reclass(json_df) #Makes post patch column with the script\n",
    "    json_df.sort_index(inplace = True) #Sort the date column just in case\n",
    "    \n",
    "    json_df.dropna(subset = ['patch_container'], inplace = True)\n",
    "    json_df = json_df[json_df['patch_container'].str.match('PA')]\n",
    "    \n",
    "    json_df = json_df[['roi_major',\n",
    "                       'roi_minor',\n",
    "                       'recording.humanCellTypePrediction',\n",
    "                       'patch_duration',\n",
    "                       'post_patch',\n",
    "                       'patch_container']]\n",
    "    return json_df\n",
    "\n",
    "#ROI major and minor better to use than approach.manualROI\n",
    "#Problem: Human data starts around 12/05/17 but there should be some before it"
   ]
  },
  {
   "cell_type": "code",
   "execution_count": 3,
   "metadata": {},
   "outputs": [
    {
     "name": "stderr",
     "output_type": "stream",
     "text": [
      "C:\\Users\\kumar\\AppData\\Local\\Continuum\\anaconda3\\lib\\site-packages\\pandas\\core\\indexing.py:362: SettingWithCopyWarning: \n",
      "A value is trying to be set on a copy of a slice from a DataFrame.\n",
      "Try using .loc[row_indexer,col_indexer] = value instead\n",
      "\n",
      "See the caveats in the documentation: http://pandas.pydata.org/pandas-docs/stable/indexing.html#indexing-view-versus-copy\n",
      "  self.obj[key] = _infer_fill_value(value)\n",
      "C:\\Users\\kumar\\AppData\\Local\\Continuum\\anaconda3\\lib\\site-packages\\pandas\\core\\indexing.py:543: SettingWithCopyWarning: \n",
      "A value is trying to be set on a copy of a slice from a DataFrame.\n",
      "Try using .loc[row_indexer,col_indexer] = value instead\n",
      "\n",
      "See the caveats in the documentation: http://pandas.pydata.org/pandas-docs/stable/indexing.html#indexing-view-versus-copy\n",
      "  self.obj[item] = s\n"
     ]
    }
   ],
   "source": [
    "#Making global variables\n",
    "json_df = get_json_df()"
   ]
  },
  {
   "cell_type": "code",
   "execution_count": 4,
   "metadata": {},
   "outputs": [
    {
     "data": {
      "text/html": [
       "<div>\n",
       "<style scoped>\n",
       "    .dataframe tbody tr th:only-of-type {\n",
       "        vertical-align: middle;\n",
       "    }\n",
       "\n",
       "    .dataframe tbody tr th {\n",
       "        vertical-align: top;\n",
       "    }\n",
       "\n",
       "    .dataframe thead th {\n",
       "        text-align: right;\n",
       "    }\n",
       "</style>\n",
       "<table border=\"1\" class=\"dataframe\">\n",
       "  <thead>\n",
       "    <tr style=\"text-align: right;\">\n",
       "      <th></th>\n",
       "      <th>roi_major</th>\n",
       "      <th>roi_minor</th>\n",
       "      <th>recording.humanCellTypePrediction</th>\n",
       "      <th>patch_duration</th>\n",
       "      <th>post_patch</th>\n",
       "      <th>patch_container</th>\n",
       "    </tr>\n",
       "    <tr>\n",
       "      <th>date</th>\n",
       "      <th></th>\n",
       "      <th></th>\n",
       "      <th></th>\n",
       "      <th></th>\n",
       "      <th></th>\n",
       "      <th></th>\n",
       "    </tr>\n",
       "  </thead>\n",
       "  <tbody>\n",
       "    <tr>\n",
       "      <th>2018-08-30</th>\n",
       "      <td>VISp</td>\n",
       "      <td>layer 1</td>\n",
       "      <td>NaN</td>\n",
       "      <td>9.216667</td>\n",
       "      <td>Nuc-high seal</td>\n",
       "      <td>PAS4_180830_451_A01</td>\n",
       "    </tr>\n",
       "    <tr>\n",
       "      <th>2018-08-30</th>\n",
       "      <td>VISp</td>\n",
       "      <td>layer 2/3</td>\n",
       "      <td>NaN</td>\n",
       "      <td>7.516667</td>\n",
       "      <td>Nuc-high seal</td>\n",
       "      <td>PAS4_180830_454_A01</td>\n",
       "    </tr>\n",
       "    <tr>\n",
       "      <th>2018-08-30</th>\n",
       "      <td>VISp</td>\n",
       "      <td>layer 6a</td>\n",
       "      <td>NaN</td>\n",
       "      <td>6.266667</td>\n",
       "      <td>Nuc-high seal</td>\n",
       "      <td>PAS4_180830_453_A01</td>\n",
       "    </tr>\n",
       "    <tr>\n",
       "      <th>2018-08-30</th>\n",
       "      <td>VISp</td>\n",
       "      <td>layer 2/3</td>\n",
       "      <td>NaN</td>\n",
       "      <td>10.550000</td>\n",
       "      <td>Nuc-high seal</td>\n",
       "      <td>PAS4_180830_452_A01</td>\n",
       "    </tr>\n",
       "    <tr>\n",
       "      <th>2018-08-30</th>\n",
       "      <td>VISp</td>\n",
       "      <td>layer 1</td>\n",
       "      <td>NaN</td>\n",
       "      <td>9.216667</td>\n",
       "      <td>Nuc-low seal</td>\n",
       "      <td>PAS4_180830_451_A01</td>\n",
       "    </tr>\n",
       "  </tbody>\n",
       "</table>\n",
       "</div>"
      ],
      "text/plain": [
       "           roi_major  roi_minor recording.humanCellTypePrediction  \\\n",
       "date                                                                \n",
       "2018-08-30      VISp    layer 1                               NaN   \n",
       "2018-08-30      VISp  layer 2/3                               NaN   \n",
       "2018-08-30      VISp   layer 6a                               NaN   \n",
       "2018-08-30      VISp  layer 2/3                               NaN   \n",
       "2018-08-30      VISp    layer 1                               NaN   \n",
       "\n",
       "            patch_duration     post_patch      patch_container  \n",
       "date                                                            \n",
       "2018-08-30        9.216667  Nuc-high seal  PAS4_180830_451_A01  \n",
       "2018-08-30        7.516667  Nuc-high seal  PAS4_180830_454_A01  \n",
       "2018-08-30        6.266667  Nuc-high seal  PAS4_180830_453_A01  \n",
       "2018-08-30       10.550000  Nuc-high seal  PAS4_180830_452_A01  \n",
       "2018-08-30        9.216667   Nuc-low seal  PAS4_180830_451_A01  "
      ]
     },
     "execution_count": 4,
     "metadata": {},
     "output_type": "execute_result"
    }
   ],
   "source": [
    "json_df.tail()"
   ]
  },
  {
   "cell_type": "markdown",
   "metadata": {},
   "source": [
    "# Pie Plot"
   ]
  },
  {
   "cell_type": "code",
   "execution_count": 5,
   "metadata": {},
   "outputs": [
    {
     "data": {
      "text/plain": [
       "Nuc-low seal     306\n",
       "Nuc-high seal    306\n",
       "No-low seal       84\n",
       "No-high seal      33\n",
       "Entire cell       13\n",
       "Name: post_patch, dtype: int64"
      ]
     },
     "execution_count": 5,
     "metadata": {},
     "output_type": "execute_result"
    }
   ],
   "source": [
    "json_df['post_patch'].value_counts()"
   ]
  },
  {
   "cell_type": "code",
   "execution_count": 6,
   "metadata": {},
   "outputs": [],
   "source": [
    "def pie_plot(df):    \n",
    "    df1 = df.groupby(['post_patch']).size().reset_index(name = 'count')\n",
    "    df1.set_index('post_patch', inplace = True)\n",
    "\n",
    "    plt.figure(3)\n",
    "    colors = ['#f7fcb9','#fc9272', '#de2d26', '#31a354', '#a1d99b']\n",
    "    #Entire(Yellow), No-high(Light Red), No-low(Red), Nuc-high(Green), Nuc-low(Light Green)\n",
    "    #explode = (0.05, 0.05, 0.05, 0.05, 0.05) #splits the categories\n",
    "    \n",
    "    \n",
    "    df1.plot.pie(y = 'count', autopct='%1.1f%%', figsize = (8,8), colors = colors, shadow = True, legend = False) \n",
    "    plt.axes().set_ylabel('')"
   ]
  },
  {
   "cell_type": "code",
   "execution_count": 16,
   "metadata": {},
   "outputs": [],
   "source": [
    "def bar_plot(df):    \n",
    "    df1 = df.groupby(['post_patch']).size().reset_index(name = 'count')\n",
    "    \n",
    "    colors = ['#31a354', '#a1d99b', '#fc9272', '#de2d26', '#f7fcb9']\n",
    "    sns.barplot(x = 'post_patch', y = 'count', \n",
    "                order = ['Nuc-high seal', 'Nuc-low seal', 'No-high seal', 'No-low seal', 'Entire cell'],\n",
    "                palette = colors, saturation = 1, data = df1)"
   ]
  },
  {
   "cell_type": "code",
   "execution_count": 17,
   "metadata": {},
   "outputs": [
    {
     "name": "stderr",
     "output_type": "stream",
     "text": [
      "C:\\Users\\kumar\\AppData\\Local\\Continuum\\anaconda3\\lib\\site-packages\\matplotlib\\cbook\\deprecation.py:107: MatplotlibDeprecationWarning: Adding an axes using the same arguments as a previous axes currently reuses the earlier instance.  In a future version, a new instance will always be created and returned.  Meanwhile, this warning can be suppressed, and the future behavior ensured, by passing a unique label to each axes instance.\n",
      "  warnings.warn(message, mplDeprecation, stacklevel=1)\n"
     ]
    },
    {
     "data": {
      "text/plain": [
       "<Figure size 432x288 with 0 Axes>"
      ]
     },
     "metadata": {},
     "output_type": "display_data"
    },
    {
     "data": {
      "image/png": "[encoded data removed]",
      "text/plain": [
       "<Figure size 576x576 with 1 Axes>"
      ]
     },
     "metadata": {},
     "output_type": "display_data"
    }
   ],
   "source": [
    "pie_plot(json_df)"
   ]
  },
  {
   "cell_type": "code",
   "execution_count": 18,
   "metadata": {},
   "outputs": [
    {
     "data": {
      "image/png": "[encoded data removed]",
      "text/plain": [
       "<Figure size 432x288 with 1 Axes>"
      ]
     },
     "metadata": {},
     "output_type": "display_data"
    }
   ],
   "source": [
    "bar_plot(json_df)"
   ]
  },
  {
   "cell_type": "code",
   "execution_count": null,
   "metadata": {},
   "outputs": [],
   "source": []
  },
  {
   "cell_type": "code",
   "execution_count": null,
   "metadata": {},
   "outputs": [],
   "source": []
  },
  {
   "cell_type": "code",
   "execution_count": null,
   "metadata": {},
   "outputs": [],
   "source": []
  }
 ],
 "metadata": {
  "kernelspec": {
   "display_name": "Python 3",
   "language": "python",
   "name": "python3"
  },
  "language_info": {
   "codemirror_mode": {
    "name": "ipython",
    "version": 3
   },
   "file_extension": ".py",
   "mimetype": "text/x-python",
   "name": "python",
   "nbconvert_exporter": "python",
   "pygments_lexer": "ipython3",
   "version": "3.6.5"
  }
 },
 "nbformat": 4,
 "nbformat_minor": 2
}
