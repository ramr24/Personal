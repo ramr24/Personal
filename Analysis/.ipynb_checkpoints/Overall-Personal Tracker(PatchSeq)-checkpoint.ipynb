{
 "cells": [
  {
   "cell_type": "code",
   "execution_count": 1,
   "metadata": {},
   "outputs": [],
   "source": [
    "import csv\n",
    "import pandas as pd\n",
    "import numpy as np\n",
    "import seaborn as sns\n",
    "import matplotlib.pyplot as plt\n",
    "from datetime import datetime\n",
    "%matplotlib inline\n",
    "\n",
    "import ps_post_patch as pp #post patch script \n",
    "\n",
    "sns.set(style = \"whitegrid\") #Makes a white backround with gray horizontal gridmarks at y-values\n",
    "sns.set_context(\"notebook\")"
   ]
  },
  {
   "cell_type": "code",
   "execution_count": 2,
   "metadata": {},
   "outputs": [],
   "source": [
    "#Constant and reused variables \n",
    "colors = ['#31a354', '#a1d99b', '#fc9272', '#de2d26', '#f7fcb9'] #For seaborn plots\n",
    "x_order = ['Nuc-high seal', 'Nuc-low seal', 'No-high seal', 'No-low seal', 'Entire cell']"
   ]
  },
  {
   "cell_type": "code",
   "execution_count": 3,
   "metadata": {},
   "outputs": [],
   "source": [
    "#Still working on how to use for dataframes\n",
    "class my_dataframe():\n",
    "    \"\"\"Create a class in a usable way for the dataframe.\"\"\"\n",
    "    pass"
   ]
  },
  {
   "cell_type": "markdown",
   "metadata": {},
   "source": [
    "### Functions: Set-up & Filtering Dataframe"
   ]
  },
  {
   "cell_type": "code",
   "execution_count": 4,
   "metadata": {},
   "outputs": [],
   "source": [
    "def get_ps_df():\n",
    "    \"\"\"To read the Patchseq Google Doc as a pandas dataframe.\n",
    "    \n",
    "    Arguements: none\n",
    "    \n",
    "    Returns:\n",
    "        ps_df: pandas dataframe\n",
    "    \"\"\"\n",
    "    \n",
    "    ps_df = pd.read_csv(\"C:/users/kumar/documents/github/personal-projects/csv/ps_mouse.csv\")\n",
    "    #ps_df = pd.read_csv(\"C:/users/ramr/documents/github/coding/personal-projects/csv/ps_mouse.csv\")\n",
    "    \n",
    "    ps_df.dropna(subset = [\"Lims tube id\"], inplace = True)\n",
    "    ps_df = ps_df[ps_df[\"Lims tube id\"].str.match('PA')]\n",
    "    ps_df = pp.postpatch_reclass(ps_df)\n",
    "    \n",
    "    ps_df = ps_df.loc[:, [\"Date\", \n",
    "                          \"User\", \n",
    "                          \"Region\", \n",
    "                          \"Layer\", \n",
    "                          \"Depth (um)\", \n",
    "                          \"patch duration\",\n",
    "                          \"extraction pressure applied (mbar)\", \n",
    "                          \"post_patch\", \n",
    "                          \"Resolution index\", \n",
    "                          \"SM_QC_PF\", \n",
    "                          \"Lims tube id\"]]\n",
    "    #Optional columns     \n",
    "    #\"Post patch?\", \"Post patch pipette R\", \n",
    "    #\"Pipette size (MOhms)\", \"Nucleus sucked in?\", \"SM_QC_PF\", \"Time to Entire-Cell\", \"File\", \"63x go no go\"\n",
    "    return ps_df"
   ]
  },
  {
   "cell_type": "code",
   "execution_count": 5,
   "metadata": {},
   "outputs": [],
   "source": [
    "def sort_date(df):\n",
    "    \"\"\"To sort the date column in ps_df.\n",
    "    \n",
    "    Arguements:\n",
    "        df: pandas dataframe\n",
    "        \n",
    "    Returns:\n",
    "        df: pandas dataframe with sorted date column\n",
    "    \"\"\"\n",
    "        \n",
    "    #Changing to string to add 20 in front of strings within date column\n",
    "    df['Date'] = df['Date'].astype('str')\n",
    "    df['Date'] = '20' + df['Date']\n",
    "    df['Date'] = pd.to_datetime(df['Date']) #Converting date to YYYY-MM-DD\n",
    "    df = df.set_index('Date') #Set date column as index column\n",
    "\n",
    "    #Production Date Start = '2017-10-01' \n",
    "    start_date = '2017-10-01'\n",
    "    #start_date = \"\".join(input(\"Enter the start date: \"))\n",
    "    #end_date = \"\".join(input(\"Enter the start date: \"))\n",
    "    df = df[start_date:] #Choosing start & end date  \n",
    "    df.reset_index(inplace = True)\n",
    "    df.sort_values(by = ['Date'], inplace = True)\n",
    "    return df "
   ]
  },
  {
   "cell_type": "markdown",
   "metadata": {},
   "source": [
    "### Functions: Plots"
   ]
  },
  {
   "cell_type": "code",
   "execution_count": 6,
   "metadata": {},
   "outputs": [],
   "source": [
    "def pie_plot(df):\n",
    "    \"\"\"To create a pie chart using df converted to pivot table.\n",
    "    \n",
    "    Arguements:\n",
    "        df: pandas dataframe converted to pivot table\n",
    "    \n",
    "    Returns: None\n",
    "    \"\"\"\n",
    "    \n",
    "    df1 = df.groupby(['post_patch']).size().reset_index(name = 'count')\n",
    "    df1.set_index('post_patch', inplace = True)\n",
    "    \n",
    "    explode = (0.05, 0.05, 0.05, 0.05, 0.05) #splits the categories\n",
    "    colors = ['#f7fcb9','#fc9272', '#de2d26', '#31a354', '#a1d99b']\n",
    "    #Entire, No-high, No-low, Nuc-high, Nuc-low\n",
    "    #Yellow, Light Red, Red, Green, Light Green\n",
    "    \n",
    "    df1.plot.pie(y = 'count', autopct='%1.1f%%', figsize = (8,8), shadow = True, legend = False, \n",
    "                 explode = explode, colors = colors)\n",
    "    plt.title('Post Patch Percentage', loc = 'center', fontsize = 14)\n",
    "    plt.axes().set_ylabel('')"
   ]
  },
  {
   "cell_type": "code",
   "execution_count": 7,
   "metadata": {},
   "outputs": [],
   "source": [
    "def bar_plot(df): \n",
    "    \"\"\"To create a horizontal bar graph using df converted to pivot table.\n",
    "    \n",
    "    Arguements:\n",
    "        df: pandas dataframe converted to pivot table\n",
    "    \n",
    "    Returns: None\n",
    "    \"\"\"\n",
    "    \n",
    "    df1 = df.groupby(['post_patch']).size().reset_index(name = 'count')\n",
    "    \n",
    "    plt.subplots(figsize=(8,5)) #Has to be before the plot to work\n",
    "    \n",
    "    ax = sns.barplot(x = 'count', y = 'post_patch', order = x_order, palette = colors, saturation = 1, data = df1)\n",
    "    ax.set(xlabel = 'Count', ylabel = 'Post Patch Outcomes')\n",
    "    ax.set_title(\"Counts of Post Patch Outcomes for User\")\n",
    "    \n",
    "    for p in ax.patches: #Figure out how this loop works\n",
    "        value = p.get_width()\n",
    "        ax.text(value, p.get_y() + p.get_height()/2 + 0.1, '{:1.0f}'.format(value), ha = \"left\", fontsize = 12)\n",
    "        \n",
    "# + 0.1 = chooses location of the value vertically"
   ]
  },
  {
   "cell_type": "code",
   "execution_count": 8,
   "metadata": {},
   "outputs": [],
   "source": [
    "def violin_plot(df):\n",
    "    ax = sns.violinplot(x = 'post_patch', y = 'Resolution index', order = x_order, palette = colors, \n",
    "                        saturation = 1, data = df[df[\"Resolution index\"] <= 1])\n",
    "    ax.set(xlabel = 'Post Patch Outcomes', ylabel = 'Resolution Index')\n",
    "    ax.set_title(\"Resolution Index vs. Post Patch Outcomes\")"
   ]
  },
  {
   "cell_type": "code",
   "execution_count": 9,
   "metadata": {},
   "outputs": [
    {
     "name": "stderr",
     "output_type": "stream",
     "text": [
      "C:\\Users\\kumar\\AppData\\Local\\Continuum\\anaconda3\\lib\\site-packages\\pandas\\core\\indexing.py:362: SettingWithCopyWarning: \n",
      "A value is trying to be set on a copy of a slice from a DataFrame.\n",
      "Try using .loc[row_indexer,col_indexer] = value instead\n",
      "\n",
      "See the caveats in the documentation: http://pandas.pydata.org/pandas-docs/stable/indexing.html#indexing-view-versus-copy\n",
      "  self.obj[key] = _infer_fill_value(value)\n",
      "C:\\Users\\kumar\\AppData\\Local\\Continuum\\anaconda3\\lib\\site-packages\\pandas\\core\\indexing.py:543: SettingWithCopyWarning: \n",
      "A value is trying to be set on a copy of a slice from a DataFrame.\n",
      "Try using .loc[row_indexer,col_indexer] = value instead\n",
      "\n",
      "See the caveats in the documentation: http://pandas.pydata.org/pandas-docs/stable/indexing.html#indexing-view-versus-copy\n",
      "  self.obj[item] = s\n"
     ]
    }
   ],
   "source": [
    "#Making global variables\n",
    "ps_df = get_ps_df()\n",
    "ps_df = sort_date(ps_df)"
   ]
  },
  {
   "cell_type": "code",
   "execution_count": 10,
   "metadata": {},
   "outputs": [
    {
     "data": {
      "text/html": [
       "<div>\n",
       "<style scoped>\n",
       "    .dataframe tbody tr th:only-of-type {\n",
       "        vertical-align: middle;\n",
       "    }\n",
       "\n",
       "    .dataframe tbody tr th {\n",
       "        vertical-align: top;\n",
       "    }\n",
       "\n",
       "    .dataframe thead th {\n",
       "        text-align: right;\n",
       "    }\n",
       "</style>\n",
       "<table border=\"1\" class=\"dataframe\">\n",
       "  <thead>\n",
       "    <tr style=\"text-align: right;\">\n",
       "      <th></th>\n",
       "      <th>Date</th>\n",
       "      <th>User</th>\n",
       "      <th>Region</th>\n",
       "      <th>Layer</th>\n",
       "      <th>Depth (um)</th>\n",
       "      <th>patch duration</th>\n",
       "      <th>extraction pressure applied (mbar)</th>\n",
       "      <th>post_patch</th>\n",
       "      <th>Resolution index</th>\n",
       "      <th>SM_QC_PF</th>\n",
       "      <th>Lims tube id</th>\n",
       "    </tr>\n",
       "  </thead>\n",
       "  <tbody>\n",
       "    <tr>\n",
       "      <th>0</th>\n",
       "      <td>2018-01-03</td>\n",
       "      <td>PA</td>\n",
       "      <td>VISp</td>\n",
       "      <td>layer 2/3</td>\n",
       "      <td>32.9</td>\n",
       "      <td>9.800000</td>\n",
       "      <td>-27.0</td>\n",
       "      <td>Nuc-high seal</td>\n",
       "      <td>0.868238</td>\n",
       "      <td>NaN</td>\n",
       "      <td>PAS4_180103_451_A01</td>\n",
       "    </tr>\n",
       "    <tr>\n",
       "      <th>1</th>\n",
       "      <td>2018-01-03</td>\n",
       "      <td>PA</td>\n",
       "      <td>VISp</td>\n",
       "      <td>layer 4</td>\n",
       "      <td>33.8</td>\n",
       "      <td>9.083333</td>\n",
       "      <td>-34.0</td>\n",
       "      <td>Nuc-high seal</td>\n",
       "      <td>1.000000</td>\n",
       "      <td>NaN</td>\n",
       "      <td>PAS4_180103_452_A01</td>\n",
       "    </tr>\n",
       "    <tr>\n",
       "      <th>460</th>\n",
       "      <td>2018-01-05</td>\n",
       "      <td>PA</td>\n",
       "      <td>VISp</td>\n",
       "      <td>5</td>\n",
       "      <td>47.3</td>\n",
       "      <td>5.966667</td>\n",
       "      <td>0.0</td>\n",
       "      <td>No-low seal</td>\n",
       "      <td>0.000000</td>\n",
       "      <td>NaN</td>\n",
       "      <td>PAS4_180105_451_A01</td>\n",
       "    </tr>\n",
       "    <tr>\n",
       "      <th>2</th>\n",
       "      <td>2018-01-08</td>\n",
       "      <td>PA</td>\n",
       "      <td>VISp</td>\n",
       "      <td>5</td>\n",
       "      <td>45.4</td>\n",
       "      <td>11.166667</td>\n",
       "      <td>-40.0</td>\n",
       "      <td>Nuc-high seal</td>\n",
       "      <td>0.467257</td>\n",
       "      <td>NaN</td>\n",
       "      <td>PAS4_180108_451_A01</td>\n",
       "    </tr>\n",
       "    <tr>\n",
       "      <th>3</th>\n",
       "      <td>2018-01-08</td>\n",
       "      <td>PA</td>\n",
       "      <td>VISp</td>\n",
       "      <td>3-Feb</td>\n",
       "      <td>52.0</td>\n",
       "      <td>10.850000</td>\n",
       "      <td>-40.0</td>\n",
       "      <td>Nuc-high seal</td>\n",
       "      <td>1.000000</td>\n",
       "      <td>pass</td>\n",
       "      <td>PAS4_180108_452_A01</td>\n",
       "    </tr>\n",
       "  </tbody>\n",
       "</table>\n",
       "</div>"
      ],
      "text/plain": [
       "          Date User Region      Layer  Depth (um)  patch duration  \\\n",
       "0   2018-01-03   PA   VISp  layer 2/3        32.9        9.800000   \n",
       "1   2018-01-03   PA   VISp    layer 4        33.8        9.083333   \n",
       "460 2018-01-05   PA   VISp          5        47.3        5.966667   \n",
       "2   2018-01-08   PA   VISp          5        45.4       11.166667   \n",
       "3   2018-01-08   PA   VISp      3-Feb        52.0       10.850000   \n",
       "\n",
       "     extraction pressure applied (mbar)     post_patch  Resolution index  \\\n",
       "0                                 -27.0  Nuc-high seal          0.868238   \n",
       "1                                 -34.0  Nuc-high seal          1.000000   \n",
       "460                                 0.0    No-low seal          0.000000   \n",
       "2                                 -40.0  Nuc-high seal          0.467257   \n",
       "3                                 -40.0  Nuc-high seal          1.000000   \n",
       "\n",
       "    SM_QC_PF         Lims tube id  \n",
       "0        NaN  PAS4_180103_451_A01  \n",
       "1        NaN  PAS4_180103_452_A01  \n",
       "460      NaN  PAS4_180105_451_A01  \n",
       "2        NaN  PAS4_180108_451_A01  \n",
       "3       pass  PAS4_180108_452_A01  "
      ]
     },
     "execution_count": 10,
     "metadata": {},
     "output_type": "execute_result"
    }
   ],
   "source": [
    "ps_df.head()"
   ]
  },
  {
   "cell_type": "code",
   "execution_count": 11,
   "metadata": {},
   "outputs": [
    {
     "data": {
      "text/html": [
       "<div>\n",
       "<style scoped>\n",
       "    .dataframe tbody tr th:only-of-type {\n",
       "        vertical-align: middle;\n",
       "    }\n",
       "\n",
       "    .dataframe tbody tr th {\n",
       "        vertical-align: top;\n",
       "    }\n",
       "\n",
       "    .dataframe thead th {\n",
       "        text-align: right;\n",
       "    }\n",
       "</style>\n",
       "<table border=\"1\" class=\"dataframe\">\n",
       "  <thead>\n",
       "    <tr style=\"text-align: right;\">\n",
       "      <th></th>\n",
       "      <th>Date</th>\n",
       "      <th>User</th>\n",
       "      <th>Region</th>\n",
       "      <th>Layer</th>\n",
       "      <th>Depth (um)</th>\n",
       "      <th>patch duration</th>\n",
       "      <th>extraction pressure applied (mbar)</th>\n",
       "      <th>post_patch</th>\n",
       "      <th>Resolution index</th>\n",
       "      <th>SM_QC_PF</th>\n",
       "      <th>Lims tube id</th>\n",
       "    </tr>\n",
       "  </thead>\n",
       "  <tbody>\n",
       "    <tr>\n",
       "      <th>350</th>\n",
       "      <td>2018-10-08</td>\n",
       "      <td>PA</td>\n",
       "      <td>VISp</td>\n",
       "      <td>6a</td>\n",
       "      <td>59.4</td>\n",
       "      <td>8.450000</td>\n",
       "      <td>-40.0</td>\n",
       "      <td>Nuc-high seal</td>\n",
       "      <td>NaN</td>\n",
       "      <td>NaN</td>\n",
       "      <td>PAS4_181008_452_A01</td>\n",
       "    </tr>\n",
       "    <tr>\n",
       "      <th>351</th>\n",
       "      <td>2018-10-08</td>\n",
       "      <td>PA</td>\n",
       "      <td>VISp</td>\n",
       "      <td>3-Feb</td>\n",
       "      <td>63.1</td>\n",
       "      <td>9.466667</td>\n",
       "      <td>-39.0</td>\n",
       "      <td>Nuc-high seal</td>\n",
       "      <td>NaN</td>\n",
       "      <td>NaN</td>\n",
       "      <td>PAS4_181008_453_A01</td>\n",
       "    </tr>\n",
       "    <tr>\n",
       "      <th>353</th>\n",
       "      <td>2018-10-08</td>\n",
       "      <td>PA</td>\n",
       "      <td>VISp</td>\n",
       "      <td>3-Feb</td>\n",
       "      <td>55.0</td>\n",
       "      <td>10.583333</td>\n",
       "      <td>-30.0</td>\n",
       "      <td>Nuc-high seal</td>\n",
       "      <td>NaN</td>\n",
       "      <td>NaN</td>\n",
       "      <td>PAS4_181008_455_A01</td>\n",
       "    </tr>\n",
       "    <tr>\n",
       "      <th>355</th>\n",
       "      <td>2018-10-09</td>\n",
       "      <td>PA</td>\n",
       "      <td>VISp</td>\n",
       "      <td>4</td>\n",
       "      <td>55.4</td>\n",
       "      <td>11.033333</td>\n",
       "      <td>-10.0</td>\n",
       "      <td>Nuc-high seal</td>\n",
       "      <td>NaN</td>\n",
       "      <td>NaN</td>\n",
       "      <td>PAS4_181009_452_A01</td>\n",
       "    </tr>\n",
       "    <tr>\n",
       "      <th>354</th>\n",
       "      <td>2018-10-09</td>\n",
       "      <td>PA</td>\n",
       "      <td>VISp</td>\n",
       "      <td>3-Feb</td>\n",
       "      <td>56.9</td>\n",
       "      <td>8.266667</td>\n",
       "      <td>-33.0</td>\n",
       "      <td>Nuc-high seal</td>\n",
       "      <td>NaN</td>\n",
       "      <td>NaN</td>\n",
       "      <td>PAS4_181009_451_A01</td>\n",
       "    </tr>\n",
       "  </tbody>\n",
       "</table>\n",
       "</div>"
      ],
      "text/plain": [
       "          Date User Region  Layer  Depth (um)  patch duration  \\\n",
       "350 2018-10-08   PA   VISp     6a        59.4        8.450000   \n",
       "351 2018-10-08   PA   VISp  3-Feb        63.1        9.466667   \n",
       "353 2018-10-08   PA   VISp  3-Feb        55.0       10.583333   \n",
       "355 2018-10-09   PA   VISp      4        55.4       11.033333   \n",
       "354 2018-10-09   PA   VISp  3-Feb        56.9        8.266667   \n",
       "\n",
       "     extraction pressure applied (mbar)     post_patch  Resolution index  \\\n",
       "350                               -40.0  Nuc-high seal               NaN   \n",
       "351                               -39.0  Nuc-high seal               NaN   \n",
       "353                               -30.0  Nuc-high seal               NaN   \n",
       "355                               -10.0  Nuc-high seal               NaN   \n",
       "354                               -33.0  Nuc-high seal               NaN   \n",
       "\n",
       "    SM_QC_PF         Lims tube id  \n",
       "350      NaN  PAS4_181008_452_A01  \n",
       "351      NaN  PAS4_181008_453_A01  \n",
       "353      NaN  PAS4_181008_455_A01  \n",
       "355      NaN  PAS4_181009_452_A01  \n",
       "354      NaN  PAS4_181009_451_A01  "
      ]
     },
     "execution_count": 11,
     "metadata": {},
     "output_type": "execute_result"
    }
   ],
   "source": [
    "ps_df.tail()"
   ]
  },
  {
   "cell_type": "code",
   "execution_count": 12,
   "metadata": {},
   "outputs": [],
   "source": [
    "#Outputing dataframe as excel sheet\n",
    "#writer = pd.ExcelWriter('TITLE.xlsx')\n",
    "#dataframe.to_excel(writer, 'Sheet#)\n",
    "\n",
    "writer = pd.ExcelWriter('my_ps_df.xlsx')\n",
    "ps_df.to_excel(writer, 'Sheet1')\n",
    "writer.save()"
   ]
  },
  {
   "cell_type": "markdown",
   "metadata": {},
   "source": [
    "### Main Function:"
   ]
  },
  {
   "cell_type": "code",
   "execution_count": 13,
   "metadata": {},
   "outputs": [],
   "source": [
    "def main():\n",
    "    \"\"\"Prints out graphs and charts\n",
    "    \n",
    "    Arguements: none\n",
    "    \n",
    "    Returns: none\n",
    "    \"\"\"\n",
    "    \n",
    "    #Prints plots\n",
    "    print(ps_df['post_patch'].value_counts())\n",
    "    print(ps_df['post_patch'].value_counts().sum())\n",
    "    pie_plot(ps_df)\n",
    "    bar_plot(ps_df)"
   ]
  },
  {
   "cell_type": "markdown",
   "metadata": {},
   "source": [
    "### Plots"
   ]
  },
  {
   "cell_type": "code",
   "execution_count": 14,
   "metadata": {},
   "outputs": [
    {
     "name": "stdout",
     "output_type": "stream",
     "text": [
      "Nuc-high seal    356\n",
      "Nuc-low seal      72\n",
      "No-low seal       46\n",
      "No-high seal      32\n",
      "Entire cell        7\n",
      "Name: post_patch, dtype: int64\n",
      "513\n"
     ]
    },
    {
     "name": "stderr",
     "output_type": "stream",
     "text": [
      "C:\\Users\\kumar\\AppData\\Local\\Continuum\\anaconda3\\lib\\site-packages\\matplotlib\\cbook\\deprecation.py:107: MatplotlibDeprecationWarning: Adding an axes using the same arguments as a previous axes currently reuses the earlier instance.  In a future version, a new instance will always be created and returned.  Meanwhile, this warning can be suppressed, and the future behavior ensured, by passing a unique label to each axes instance.\n",
      "  warnings.warn(message, mplDeprecation, stacklevel=1)\n"
     ]
    },
    {
     "data": {
      "image/png": "[encoded data removed]",
      "text/plain": [
       "<Figure size 576x576 with 1 Axes>"
      ]
     },
     "metadata": {},
     "output_type": "display_data"
    },
    {
     "data": {
      "image/png": "[encoded data removed]",
      "text/plain": [
       "<Figure size 576x360 with 1 Axes>"
      ]
     },
     "metadata": {},
     "output_type": "display_data"
    }
   ],
   "source": [
    "main()"
   ]
  },
  {
   "cell_type": "code",
   "execution_count": 15,
   "metadata": {},
   "outputs": [
    {
     "data": {
      "image/png": "[encoded data removed]",
      "text/plain": [
       "<Figure size 432x288 with 1 Axes>"
      ]
     },
     "metadata": {},
     "output_type": "display_data"
    }
   ],
   "source": [
    "violin_plot(ps_df)"
   ]
  },
  {
   "cell_type": "markdown",
   "metadata": {},
   "source": [
    "### Create a weekly/Monthly tracker similar to your excel sheet in onedrive"
   ]
  },
  {
   "cell_type": "code",
   "execution_count": null,
   "metadata": {},
   "outputs": [],
   "source": []
  },
  {
   "cell_type": "code",
   "execution_count": null,
   "metadata": {},
   "outputs": [],
   "source": []
  },
  {
   "cell_type": "code",
   "execution_count": null,
   "metadata": {},
   "outputs": [],
   "source": []
  },
  {
   "cell_type": "code",
   "execution_count": null,
   "metadata": {},
   "outputs": [],
   "source": []
  },
  {
   "cell_type": "code",
   "execution_count": null,
   "metadata": {},
   "outputs": [],
   "source": []
  },
  {
   "cell_type": "markdown",
   "metadata": {},
   "source": [
    "### Extra Plots"
   ]
  },
  {
   "cell_type": "code",
   "execution_count": 16,
   "metadata": {},
   "outputs": [
    {
     "data": {
      "text/plain": [
       "<matplotlib.axes._subplots.AxesSubplot at 0x244b015c5c0>"
      ]
     },
     "execution_count": 16,
     "metadata": {},
     "output_type": "execute_result"
    },
    {
     "data": {
      "image/png": "[encoded data removed]",
      "text/plain": [
       "<Figure size 432x288 with 1 Axes>"
      ]
     },
     "metadata": {},
     "output_type": "display_data"
    }
   ],
   "source": [
    "sns.boxplot(x = 'post_patch', y = 'patch duration', data = ps_df[ps_df['patch duration'] <= 20],\n",
    "            order = x_order, palette = colors)"
   ]
  },
  {
   "cell_type": "code",
   "execution_count": 17,
   "metadata": {},
   "outputs": [
    {
     "data": {
      "text/plain": [
       "[<matplotlib.lines.Line2D at 0x244b0236898>]"
      ]
     },
     "execution_count": 17,
     "metadata": {},
     "output_type": "execute_result"
    },
    {
     "data": {
      "image/png": "[encoded data removed]",
      "text/plain": [
       "<Figure size 432x288 with 1 Axes>"
      ]
     },
     "metadata": {},
     "output_type": "display_data"
    }
   ],
   "source": [
    "plt.plot_date(x = 'Date', y = 'Resolution index', data = ps_df[ps_df['Resolution index'] >= 0.75])"
   ]
  },
  {
   "cell_type": "code",
   "execution_count": null,
   "metadata": {},
   "outputs": [],
   "source": []
  },
  {
   "cell_type": "code",
   "execution_count": null,
   "metadata": {},
   "outputs": [],
   "source": []
  }
 ],
 "metadata": {
  "kernelspec": {
   "display_name": "Python 3",
   "language": "python",
   "name": "python3"
  },
  "language_info": {
   "codemirror_mode": {
    "name": "ipython",
    "version": 3
   },
   "file_extension": ".py",
   "mimetype": "text/x-python",
   "name": "python",
   "nbconvert_exporter": "python",
   "pygments_lexer": "ipython3",
   "version": "3.6.5"
  }
 },
 "nbformat": 4,
 "nbformat_minor": 2
}
