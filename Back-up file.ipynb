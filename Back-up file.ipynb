{
 "cells": [
  {
   "cell_type": "markdown",
   "metadata": {},
   "source": [
    "# Back-up file"
   ]
  },
  {
   "cell_type": "code",
   "execution_count": null,
   "metadata": {},
   "outputs": [],
   "source": [
    "import os\n",
    "import pg8000\n",
    "import pandas as pd\n",
    "from pandas import ExcelWriter\n",
    "import matplotlib.pyplot as plt\n",
    "%matplotlib inline\n",
    "import seaborn as sns\n",
    "from datetime import datetime\n",
    "from single_cell_ephys.lims_funcs import limsquery\n",
    "#from single_cell_ephys.file_funcs import validated_input\n",
    "import warnings\n",
    "warnings.filterwarnings('ignore')"
   ]
  },
  {
   "cell_type": "code",
   "execution_count": null,
   "metadata": {},
   "outputs": [],
   "source": [
    "def get_lims_dataframe(query):\n",
    "    \"\"\"Return a dataframe with lims query\"\"\"\n",
    "    result = limsquery(query)\n",
    "    try:\n",
    "        data_df = pd.DataFrame(data=result, columns=result[0].keys())\n",
    "    except IndexError:\n",
    "        print \"Could not find results for your query.\"\n",
    "        data_df = pd.DataFrame()\n",
    "    return data_df"
   ]
  },
  {
   "cell_type": "code",
   "execution_count": null,
   "metadata": {},
   "outputs": [],
   "source": [
    "def user_df(P_number, df):\n",
    "    \"\"\"Saves an excel dataframe with all patched cells for a specified user in current directory.\n",
    "     \n",
    "    Parameters\n",
    "    ----------\n",
    "    P_number : A string. Corresponds to the user's P number in the form of P1, P2, P3, etc.\n",
    "       \n",
    "    Returns\n",
    "    -------\n",
    "    None\n",
    "    \"\"\"\n",
    "    user = df[df[\"patched_cell_container\"].str.contains(P_number)]\n",
    "    user.sort_values(\"patched_cell_container\", axis = 0, inplace = True)\n",
    "    user = user.loc[:,['name', 'patched_cell_container','date', 'rna_qc', 'go_no_go_63x', 'link_20x', 'dendrite_type']]\n",
    "    writer = pd.ExcelWriter('user_dataframe.xlsx')\n",
    "    user.to_excel(writer,'Sheet1')\n",
    "\n"
   ]
  },
  {
   "cell_type": "code",
   "execution_count": null,
   "metadata": {},
   "outputs": [],
   "source": [
    "def cell_count(P_number, df):\n",
    "    \"\"\"Return the number of cells in a specified dataframe for a specified user.\n",
    "     \n",
    "    Parameters\n",
    "    ----------\n",
    "    P_number : A string. Corresponds to the user's P number in the form of P1, P2, P3, etc.\n",
    "    df: a pandas dataframe\n",
    "    \n",
    "    Returns\n",
    "    -------\n",
    "    An integer cell number\n",
    "    \"\"\"\n",
    "    user = df[df[\"patched_cell_container\"].str.contains(P_number)]\n",
    "    return user[\"patched_cell_container\"].count()"
   ]
  },
  {
   "cell_type": "code",
   "execution_count": null,
   "metadata": {},
   "outputs": [],
   "source": [
    "def gen_filter(df, col, cond):\n",
    "    filtered = df[df[col] == cond]\n",
    "    return filtered"
   ]
  },
  {
   "cell_type": "code",
   "execution_count": null,
   "metadata": {},
   "outputs": [],
   "source": [
    "def per_user(P_number, df):\n",
    "    \"\"\"Returns a summary of patcher metrics for a specified user.\n",
    "     \n",
    "    Parameters\n",
    "    ----------\n",
    "    P_number : A string. Corresponds to the user's P number in the form of P1, P2, P3, etc.\n",
    "        \n",
    "    Returns\n",
    "    -------\n",
    "    Returns None\n",
    "    Prints a summary of patcher metrics, including total cells patched, cells that passed RNA seq QC, and QC pass percentage\n",
    "    \"\"\"\n",
    "    total_cells = cell_count(P_number, df)\n",
    "    cells_passed_qc = cell_count(P_number, qc_pass(df))\n",
    "    qc_pass_percentage = float(cells_passed_qc)/float(total_cells)\n",
    "    [mouse, human] = get_species(df)\n",
    "    mouse_cells = cell_count(P_number, mouse)\n",
    "    human_cells = cell_count(P_number, human)\n",
    "    imaged_cells = cell_count(P_number, image_go(df))\n",
    "    return (total_cells, cells_passed_qc, qc_pass_percentage, mouse_cells, human_cells, imaged_cells)"
   ]
  },
  {
   "cell_type": "code",
   "execution_count": null,
   "metadata": {},
   "outputs": [],
   "source": [
    "def get_df(month):\n",
    "    recording_month_query_str = \"%%\" + month + \"%%\"\n",
    "    query = \"\"\"\n",
    "    WITH do_63x(cell_id, go) AS (SELECT DISTINCT cell.id, array_to_string(array_agg(DISTINCT tag.name), ' _AND_ ') \n",
    "    FROM specimens cell JOIN ephys_roi_results err ON err.id = cell.ephys_roi_result_id \n",
    "    JOIN specimen_tags_specimens sptagsp ON sptagsp.specimen_id = cell.id \n",
    "    JOIN specimen_tags tag ON tag.id = sptagsp.specimen_tag_id AND tag.id in (602120185,602122082) \n",
    "    GROUP BY cell.id ORDER BY 1), \n",
    "    dendrite_type AS (SELECT sts.specimen_id,array_to_string(array_agg(DISTINCT tag.name), ' ') AS dendrite_type \\\n",
    "    FROM specimen_tags_specimens sts JOIN specimen_tags tag on sts.specimen_tag_id = tag.id \\\n",
    "    WHERE tag.name in('dendrite type - spiny', 'dendrite type - NA', 'dendrite type - sparsely spiny', 'dendrite type - aspiny') \\\n",
    "    GROUP BY sts.specimen_id),\n",
    "    imgs20 AS (WITH tag_list AS (SELECT DISTINCT ims.id AS ims_id, imst.name AS tag FROM image_series ims \n",
    "    JOIN image_series_image_series_tags ims2imst ON ims2imst.image_series_id = ims.id \n",
    "    JOIN image_series_tags imst ON imst.id = ims2imst.image_series_tag_id \n",
    "    ORDER BY 1,2) \n",
    "    SELECT DISTINCT ims.id AS image_series_id, ims.workflow_state AS workflow_state, ims.specimen_id, \n",
    "    ARRAY_TO_STRING(ARRAY_AGG(DISTINCT tag_list.tag), '_AND_') AS tags FROM image_series ims \n",
    "    LEFT JOIN tag_list ON tag_list.ims_id = ims.id \n",
    "    WHERE ims.type = 'FocalPlaneImageSeries' AND is_stack = false \n",
    "    GROUP BY ims.id, ims.workflow_state, ims.specimen_id)\n",
    "    SELECT DISTINCT s.patched_cell_container, s.created_at AS date, do_63x.go AS go_no_go_63x, CASE WHEN ra.id IS NOT NULL THEN (CASE WHEN ra.failed = 't' THEN 'failed' ELSE 'passed' END) ELSE '' END AS rna_qc, s.name,\n",
    "    '=HYPERLINK(\"http://lims2/focal_plane_image_series?id=' || imgs20.image_series_id || '\")' as link_20x, dendrite_type\n",
    "    FROM specimens s \n",
    "    LEFT JOIN projects proj ON s.project_id = proj.id \n",
    "    LEFT JOIN do_63x ON do_63x.cell_id = s.id \n",
    "    JOIN specimens slice ON s.parent_id = slice.id\n",
    "    LEFT JOIN rna_amplification_inputs rai on rai.sample_id = s.id \n",
    "    LEFT JOIN imgs20 ON slice.id = imgs20.specimen_id \n",
    "    LEFT JOIN rna_amplifications ra on ra.id = rai.rna_amplification_id \n",
    "    LEFT JOIN dendrite_type on s.id = dendrite_type.specimen_id\n",
    "    WHERE proj.code <> 'mMPATCH' AND \n",
    "    s.created_at > '2017-10-01' AND\n",
    "    s.patched_cell_container IS NOT NULL AND\n",
    "    s.patched_cell_container LIKE '%s'\"\"\" %recording_month_query_str\n",
    "\n",
    "\n",
    "    #AND (err.recording_date > '2017-10-01' OR err.recording_date IS NULL)\n",
    "    #AND err.recording_date > '2017-10-01'\n",
    "\n",
    "    month_df = get_lims_dataframe(query)\n",
    "    return month_df"
   ]
  },
  {
   "cell_type": "code",
   "execution_count": null,
   "metadata": {},
   "outputs": [],
   "source": [
    "def qc_pass(df):\n",
    "    qcpass = gen_filter(df,'rna_qc', 'passed')\n",
    "    return qcpass"
   ]
  },
  {
   "cell_type": "code",
   "execution_count": null,
   "metadata": {},
   "outputs": [],
   "source": [
    "def image_go(df):\n",
    "    imagego = gen_filter(df,'go_no_go_63x', '63x go')\n",
    "    return imagego"
   ]
  },
  {
   "cell_type": "code",
   "execution_count": null,
   "metadata": {},
   "outputs": [],
   "source": [
    "def get_species(df):\n",
    "    df['human?'] = df['name'].str.match(r\"H\\d\\d\") #creates new boolean column\n",
    "    mouse = gen_filter(df, 'human?', False)\n",
    "    human = gen_filter(df, 'human?', True)\n",
    "    return (mouse, human)"
   ]
  },
  {
   "cell_type": "code",
   "execution_count": null,
   "metadata": {},
   "outputs": [],
   "source": [
    "def validated_input(prompt_text, invalid_response, valid_options=None):\n",
    "    \"\"\"Keep asking user for input until a valid input has been entered\"\"\"\n",
    "    while True:\n",
    "        result = raw_input(prompt_text)\n",
    "        if (valid_options) and (result not in valid_options):\n",
    "            print invalid_response\n",
    "            continue\n",
    "        else:\n",
    "            break\n",
    "    return result"
   ]
  },
  {
   "cell_type": "code",
   "execution_count": null,
   "metadata": {},
   "outputs": [],
   "source": [
    "def validated_date_input(prompt_text, invalid_response, valid_options=None):\n",
    "    \"\"\"Prompt user to enter date, and check whether date is valid input.\n",
    "    Keep prompting until a valid input has been entered.\n",
    "    \n",
    "    Parameters\n",
    "    ----------\n",
    "    prompt_text : string\n",
    "    invalid_response : string\n",
    "        A message to return to user if entry was invalid.\n",
    "    valid_options: None or list\n",
    "        Optional argument with valid options\n",
    "        \n",
    "    Returns\n",
    "    -------\n",
    "    result : string\n",
    "        User's validated response to prompt text.\n",
    "    \"\"\"\n",
    "\n",
    "    while True:\n",
    "        result = raw_input(prompt_text)\n",
    "        result = result.lower()\n",
    "        try:\n",
    "            datetime.strptime(result, \"%y%m\")\n",
    "        except:\n",
    "            print invalid_response\n",
    "            continue\n",
    "        else:\n",
    "            break\n",
    "    return result"
   ]
  },
  {
   "cell_type": "code",
   "execution_count": null,
   "metadata": {},
   "outputs": [],
   "source": [
    "def user_plot(user_stats, P_number, month):\n",
    "    [total_cells, cells_passed_qc, imaged_cells] = user_stats\n",
    "    if month == \"_\":\n",
    "        month = \"All Production\"\n",
    "        \n",
    "    plt.bar([1, 1, 1], user_stats, width = 0.5, color = sns.light_palette(\"green\"))\n",
    "    axes = plt.gca()\n",
    "    axes.set_xlim(0.7, 1.5)\n",
    "    plt.xticks([1], [P_number])\n",
    "    sns.despine()\n",
    "\n",
    "    plt.ylabel(\"Number of Cells\", fontsize = 12)\n",
    "    plt.title(\"User Stats: %s\" %month, loc = \"center\", fontsize = 14)\n",
    "    plt.text(1.3, (total_cells-cells_passed_qc)/2+cells_passed_qc, \"Total: %d\" %total_cells, va = \"center\")\n",
    "    plt.text(1.3, (cells_passed_qc-imaged_cells)/2+imaged_cells, \"Passed QC: %d\" %cells_passed_qc, va = \"center\")\n",
    "    plt.text(1.3, imaged_cells/2, \"Imaged: %d\" %imaged_cells, va = \"center\")\n",
    "    plt.tight_layout()\n",
    "\n",
    "    plt.savefig('User_Plot.png')"
   ]
  },
  {
   "cell_type": "code",
   "execution_count": null,
   "metadata": {},
   "outputs": [],
   "source": [
    "def main():\n",
    "    \"\"\"Prompts the user about the operator on which they'd like to report, \n",
    "    then prints info about that operator's patching statistics.\n",
    "    \"\"\"\n",
    "\n",
    "    #Get user input\n",
    "    str_prompt1 = \"\\nOn what operator would you like to report? (P#): \"\n",
    "    valid_vals1 = [\"P1\", \"P2\", \"P8\", \"P9\", \"PA\", \"PB\"]\n",
    "    str_prompt2 = \"\\nWould you like to report on all samples (Y or N)?: \"\n",
    "    valid_vals2 = [\"Y\", \"N\"]\n",
    "    str_prompt3 = \"\\nOn what month would you like to report? (YYMM): \"\n",
    "\n",
    "    response1 = \"\\nPlease try again...rig operator should be in the form P#\"\n",
    "    response2 = \"\\nPlease try again...Y or N?\"\n",
    "    response3 = \"\\nPlease try again...month should be in the form YYMM\"\n",
    "\n",
    "    P_number = validated_input(str_prompt1, response1, valid_vals1)\n",
    "    range_state = validated_input(str_prompt2, response2, valid_vals2)\n",
    "    if range_state == \"Y\":\n",
    "        month = \"_\"\n",
    "    else:\n",
    "        month = validated_date_input(str_prompt3, response3, valid_options=None)\n",
    "    \n",
    "    #Get data based on user input\n",
    "    month_df = get_df(month)\n",
    "    [total_cells, cells_passed_qc, qc_pass_percentage, mouse_cells, human_cells, imaged_cells] = per_user(P_number, month_df)\n",
    "    data_to_plot = [total_cells, cells_passed_qc, imaged_cells]\n",
    "    user_plot(data_to_plot, P_number, month)\n",
    "    \n",
    "    #Print user stats\n",
    "    print \"\\nTotal cells patched: %d\" %total_cells\n",
    "    print \"Cells that passed RNA seq QC: %d\" %cells_passed_qc\n",
    "    print \"QC pass percentage: %f\" %qc_pass_percentage\n",
    "    print \"Mouse cells: %d\" %mouse_cells\n",
    "    print \"Human cells: %d\" %human_cells\n",
    "    print \"Cells imaged at 63x: %d\" %imaged_cells\n",
    "    \n",
    "    #Save data to Excel file\n",
    "    user_df(P_number, month_df)"
   ]
  },
  {
   "cell_type": "code",
   "execution_count": null,
   "metadata": {},
   "outputs": [],
   "source": [
    "main()"
   ]
  },
  {
   "cell_type": "code",
   "execution_count": null,
   "metadata": {},
   "outputs": [],
   "source": []
  },
  {
   "cell_type": "code",
   "execution_count": null,
   "metadata": {},
   "outputs": [],
   "source": []
  }
 ],
 "metadata": {
  "kernelspec": {
   "display_name": "Python 2",
   "language": "python",
   "name": "python2"
  },
  "language_info": {
   "codemirror_mode": {
    "name": "ipython",
    "version": 2
   },
   "file_extension": ".py",
   "mimetype": "text/x-python",
   "name": "python",
   "nbconvert_exporter": "python",
   "pygments_lexer": "ipython2",
   "version": "2.7.14"
  }
 },
 "nbformat": 4,
 "nbformat_minor": 2
}
