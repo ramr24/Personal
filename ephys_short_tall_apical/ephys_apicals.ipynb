{
 "cells": [
  {
   "cell_type": "markdown",
   "metadata": {},
   "source": [
    "# Ephys Features Short vs. Tall Apicals"
   ]
  },
  {
   "cell_type": "markdown",
   "metadata": {},
   "source": [
    "##### Imports"
   ]
  },
  {
   "cell_type": "code",
   "execution_count": 1,
   "metadata": {},
   "outputs": [],
   "source": [
    "import os\n",
    "import pandas as pd\n",
    "import csv\n",
    "\n",
    "import seaborn as sns\n",
    "import matplotlib.pyplot as plt\n",
    "\n",
    "from temp_funcs import path, csv_path, path_jem, \\\n",
    "read_file, merge_dataframes, drop_cols, drop_nans, filter_date_range, \\\n",
    "filter_df, create_container_col, create_cond_df, create_container_df"
   ]
  },
  {
   "cell_type": "code",
   "execution_count": 2,
   "metadata": {},
   "outputs": [],
   "source": [
    "pd.set_option(\"display.max_colwidth\",150) #Expands the number of characters shown in the columns\n",
    "pd.set_option('display.max_columns', None)"
   ]
  },
  {
   "cell_type": "code",
   "execution_count": 3,
   "metadata": {},
   "outputs": [],
   "source": [
    "fields_morph = [\"name\", \"id\", \"specimen_id\",\n",
    "                \"vrest\", \"ri\", \"sag\", \"tau\", \"upstroke_downstroke_ratio_long_square\", \n",
    "                \"latency\", \"f_i_curve_slope\"]"
   ]
  },
  {
   "cell_type": "code",
   "execution_count": 4,
   "metadata": {},
   "outputs": [
    {
     "name": "stderr",
     "output_type": "stream",
     "text": [
      "INFO:temp_funcs:Read file in as a pandas dataframe\n",
      "INFO:temp_funcs:Dropped NaNs from these columns: ['specimen_id']\n"
     ]
    }
   ],
   "source": [
    "path_morph = os.path.join(csv_path, \"ephys_mIVSCC_MET.csv\")\n",
    "morph = read_file(path_morph, fields_morph)\n",
    "morph = drop_nans(morph, [\"specimen_id\"])"
   ]
  },
  {
   "attachments": {},
   "cell_type": "markdown",
   "metadata": {},
   "source": [
    "##### List of short and tall apicals for L6 IT VISp Col23a1 Adamts2 & L6 CT VISp Ctxn3 Brinp3"
   ]
  },
  {
   "cell_type": "code",
   "execution_count": 5,
   "metadata": {},
   "outputs": [],
   "source": [
    "adam_short = [\"661513942\", \"740290698\", \"741213831\", \"917624301\", \"919091442\", \"919979431\",\n",
    "              \"934844641\", \"971517180\", \"972447551\"]\n",
    "adam_tall = [\"740318831\", \"922562221\", \"969200089\"]\n",
    "adam_list = sorted(adam_short + adam_tall)"
   ]
  },
  {
   "cell_type": "code",
   "execution_count": null,
   "metadata": {},
   "outputs": [],
   "source": [
    "brin_short = [\"724539260\", \"863429616\", \"864068767\", \"902140767\", \"904935208\", \"942421907\"]\n",
    "brin_tall = [\"653195521\", \"851542876\", \"851580386\", \"853618984\", \"863404974\", \"863418322\",\n",
    "             \"893371082\", \"903831482\", \"907357811\", \"927797864\", \"935214823\"]\n",
    "brin_list = sorted(brin_short + brin_tall)\n",
    "\n",
    "#missing 863429616 from brin_short"
   ]
  },
  {
   "cell_type": "code",
   "execution_count": 7,
   "metadata": {},
   "outputs": [],
   "source": [
    "all_list = sorted(adam_list + brin_list)"
   ]
  },
  {
   "cell_type": "code",
   "execution_count": 8,
   "metadata": {},
   "outputs": [
    {
     "data": {
      "text/plain": [
       "29"
      ]
     },
     "execution_count": 8,
     "metadata": {},
     "output_type": "execute_result"
    }
   ],
   "source": [
    "len(all_list)"
   ]
  },
  {
   "cell_type": "markdown",
   "metadata": {},
   "source": [
    "##### Setting up dataframe with lists"
   ]
  },
  {
   "cell_type": "code",
   "execution_count": 31,
   "metadata": {},
   "outputs": [
    {
     "data": {
      "text/plain": [
       "28"
      ]
     },
     "execution_count": 31,
     "metadata": {},
     "output_type": "execute_result"
    }
   ],
   "source": [
    "morph = morph[morph['specimen_id'].isin(all_list)]\n",
    "morph.sort_values(\"specimen_id\", inplace=True)\n",
    "len(morph)"
   ]
  },
  {
   "cell_type": "code",
   "execution_count": 23,
   "metadata": {},
   "outputs": [
    {
     "name": "stderr",
     "output_type": "stream",
     "text": [
      "C:\\Users\\kumar\\AppData\\Local\\Continuum\\anaconda3\\lib\\site-packages\\ipykernel_launcher.py:1: SettingWithCopyWarning: \n",
      "A value is trying to be set on a copy of a slice from a DataFrame.\n",
      "Try using .loc[row_indexer,col_indexer] = value instead\n",
      "\n",
      "See the caveats in the documentation: http://pandas.pydata.org/pandas-docs/stable/indexing.html#indexing-view-versus-copy\n",
      "  \"\"\"Entry point for launching an IPython kernel.\n"
     ]
    }
   ],
   "source": [
    "morph[\"subclass\"] = pd.np.where(morph.specimen_id.isin(adam_list), \"L6 IT VISp Col23a1 Adamts2\", \"L6 CT VISp Ctxn3 Brinp3\")"
   ]
  },
  {
   "cell_type": "code",
   "execution_count": 33,
   "metadata": {},
   "outputs": [],
   "source": [
    "morpha = morph[morph.subclass == \"L6 IT VISp Col23a1 Adamts2\"]\n",
    "morphb = morph[morph.subclass == \"L6 CT VISp Ctxn3 Brinp3\"]"
   ]
  },
  {
   "cell_type": "code",
   "execution_count": 34,
   "metadata": {},
   "outputs": [
    {
     "name": "stderr",
     "output_type": "stream",
     "text": [
      "C:\\Users\\kumar\\AppData\\Local\\Continuum\\anaconda3\\lib\\site-packages\\ipykernel_launcher.py:1: SettingWithCopyWarning: \n",
      "A value is trying to be set on a copy of a slice from a DataFrame.\n",
      "Try using .loc[row_indexer,col_indexer] = value instead\n",
      "\n",
      "See the caveats in the documentation: http://pandas.pydata.org/pandas-docs/stable/indexing.html#indexing-view-versus-copy\n",
      "  \"\"\"Entry point for launching an IPython kernel.\n",
      "C:\\Users\\kumar\\AppData\\Local\\Continuum\\anaconda3\\lib\\site-packages\\ipykernel_launcher.py:2: SettingWithCopyWarning: \n",
      "A value is trying to be set on a copy of a slice from a DataFrame\n",
      "\n",
      "See the caveats in the documentation: http://pandas.pydata.org/pandas-docs/stable/indexing.html#indexing-view-versus-copy\n",
      "  \n",
      "C:\\Users\\kumar\\AppData\\Local\\Continuum\\anaconda3\\lib\\site-packages\\ipykernel_launcher.py:3: SettingWithCopyWarning: \n",
      "A value is trying to be set on a copy of a slice from a DataFrame.\n",
      "Try using .loc[row_indexer,col_indexer] = value instead\n",
      "\n",
      "See the caveats in the documentation: http://pandas.pydata.org/pandas-docs/stable/indexing.html#indexing-view-versus-copy\n",
      "  This is separate from the ipykernel package so we can avoid doing imports until\n",
      "C:\\Users\\kumar\\AppData\\Local\\Continuum\\anaconda3\\lib\\site-packages\\ipykernel_launcher.py:4: SettingWithCopyWarning: \n",
      "A value is trying to be set on a copy of a slice from a DataFrame\n",
      "\n",
      "See the caveats in the documentation: http://pandas.pydata.org/pandas-docs/stable/indexing.html#indexing-view-versus-copy\n",
      "  after removing the cwd from sys.path.\n"
     ]
    }
   ],
   "source": [
    "morpha[\"apical_length\"] = pd.np.where(morpha.specimen_id.isin(adam_short), \"Short\", \"Tall\")\n",
    "morphb[\"apical_length\"] = pd.np.where(morphb.specimen_id.isin(brin_short), \"Short\", \"Tall\")\n",
    "\n",
    "morpha.sort_values(\"specimen_id\", inplace=True)\n",
    "morphb.sort_values(\"specimen_id\", inplace=True)"
   ]
  },
  {
   "cell_type": "code",
   "execution_count": 37,
   "metadata": {},
   "outputs": [
    {
     "data": {
      "text/html": [
       "<div>\n",
       "<style scoped>\n",
       "    .dataframe tbody tr th:only-of-type {\n",
       "        vertical-align: middle;\n",
       "    }\n",
       "\n",
       "    .dataframe tbody tr th {\n",
       "        vertical-align: top;\n",
       "    }\n",
       "\n",
       "    .dataframe thead th {\n",
       "        text-align: right;\n",
       "    }\n",
       "</style>\n",
       "<table border=\"1\" class=\"dataframe\">\n",
       "  <thead>\n",
       "    <tr style=\"text-align: right;\">\n",
       "      <th></th>\n",
       "      <th>name</th>\n",
       "      <th>id</th>\n",
       "      <th>specimen_id</th>\n",
       "      <th>vrest</th>\n",
       "      <th>ri</th>\n",
       "      <th>sag</th>\n",
       "      <th>tau</th>\n",
       "      <th>upstroke_downstroke_ratio_long_square</th>\n",
       "      <th>latency</th>\n",
       "      <th>f_i_curve_slope</th>\n",
       "      <th>subclass</th>\n",
       "      <th>apical_length</th>\n",
       "    </tr>\n",
       "  </thead>\n",
       "  <tbody>\n",
       "    <tr>\n",
       "      <th>5718</th>\n",
       "      <td>Oxtr-T2A-Cre;Ai14-374539.04.02.01</td>\n",
       "      <td>861194368.0</td>\n",
       "      <td>661513942.0</td>\n",
       "      <td>-80.145372</td>\n",
       "      <td>121.406250</td>\n",
       "      <td>0.031238</td>\n",
       "      <td>15.308623</td>\n",
       "      <td>3.916313</td>\n",
       "      <td>0.04460</td>\n",
       "      <td>0.119612</td>\n",
       "      <td>L6 IT VISp Col23a1 Adamts2</td>\n",
       "      <td>Short</td>\n",
       "    </tr>\n",
       "    <tr>\n",
       "      <th>3807</th>\n",
       "      <td>Oxtr-T2A-Cre;Ai14-408759.04.01.01</td>\n",
       "      <td>905282159.0</td>\n",
       "      <td>740290698.0</td>\n",
       "      <td>-69.977295</td>\n",
       "      <td>158.437535</td>\n",
       "      <td>0.034584</td>\n",
       "      <td>15.939402</td>\n",
       "      <td>4.562375</td>\n",
       "      <td>0.06056</td>\n",
       "      <td>0.155000</td>\n",
       "      <td>L6 IT VISp Col23a1 Adamts2</td>\n",
       "      <td>Short</td>\n",
       "    </tr>\n",
       "    <tr>\n",
       "      <th>3808</th>\n",
       "      <td>Oxtr-T2A-Cre;Ai14-408759.04.01.03</td>\n",
       "      <td>905466129.0</td>\n",
       "      <td>740318831.0</td>\n",
       "      <td>-64.213624</td>\n",
       "      <td>153.281212</td>\n",
       "      <td>0.078633</td>\n",
       "      <td>14.755455</td>\n",
       "      <td>3.946303</td>\n",
       "      <td>0.05026</td>\n",
       "      <td>0.215000</td>\n",
       "      <td>L6 IT VISp Col23a1 Adamts2</td>\n",
       "      <td>Tall</td>\n",
       "    </tr>\n",
       "    <tr>\n",
       "      <th>6632</th>\n",
       "      <td>Oxtr-T2A-Cre;Ai14-408761.05.02.03</td>\n",
       "      <td>905602748.0</td>\n",
       "      <td>741213831.0</td>\n",
       "      <td>-72.814578</td>\n",
       "      <td>170.625120</td>\n",
       "      <td>0.040381</td>\n",
       "      <td>20.569915</td>\n",
       "      <td>4.792583</td>\n",
       "      <td>0.06012</td>\n",
       "      <td>0.135000</td>\n",
       "      <td>L6 IT VISp Col23a1 Adamts2</td>\n",
       "      <td>Short</td>\n",
       "    </tr>\n",
       "    <tr>\n",
       "      <th>8104</th>\n",
       "      <td>Slc17a7-IRES2-Cre;Ai14-479507.05.02.02</td>\n",
       "      <td>917700688.0</td>\n",
       "      <td>917624301.0</td>\n",
       "      <td>-75.112618</td>\n",
       "      <td>133.249968</td>\n",
       "      <td>0.046231</td>\n",
       "      <td>16.128673</td>\n",
       "      <td>4.629056</td>\n",
       "      <td>0.04858</td>\n",
       "      <td>0.180000</td>\n",
       "      <td>L6 IT VISp Col23a1 Adamts2</td>\n",
       "      <td>Short</td>\n",
       "    </tr>\n",
       "    <tr>\n",
       "      <th>8112</th>\n",
       "      <td>Slc17a7-IRES2-Cre;Ai14-479510.04.02.01</td>\n",
       "      <td>919110293.0</td>\n",
       "      <td>919091442.0</td>\n",
       "      <td>-70.255824</td>\n",
       "      <td>154.093817</td>\n",
       "      <td>0.041846</td>\n",
       "      <td>19.205488</td>\n",
       "      <td>3.768449</td>\n",
       "      <td>0.03224</td>\n",
       "      <td>0.162617</td>\n",
       "      <td>L6 IT VISp Col23a1 Adamts2</td>\n",
       "      <td>Short</td>\n",
       "    </tr>\n",
       "    <tr>\n",
       "      <th>8119</th>\n",
       "      <td>Slc17a7-IRES2-Cre;Ai14-479513.05.02.03</td>\n",
       "      <td>920024099.0</td>\n",
       "      <td>919979431.0</td>\n",
       "      <td>-71.010286</td>\n",
       "      <td>144.843787</td>\n",
       "      <td>0.050073</td>\n",
       "      <td>23.552454</td>\n",
       "      <td>4.052849</td>\n",
       "      <td>0.06204</td>\n",
       "      <td>0.140000</td>\n",
       "      <td>L6 IT VISp Col23a1 Adamts2</td>\n",
       "      <td>Short</td>\n",
       "    </tr>\n",
       "    <tr>\n",
       "      <th>8147</th>\n",
       "      <td>Oxtr-T2A-Cre;Ai14-483227.04.02.01</td>\n",
       "      <td>922815748.0</td>\n",
       "      <td>922562221.0</td>\n",
       "      <td>-70.045513</td>\n",
       "      <td>131.415442</td>\n",
       "      <td>0.034790</td>\n",
       "      <td>22.223298</td>\n",
       "      <td>4.173956</td>\n",
       "      <td>0.06752</td>\n",
       "      <td>0.092308</td>\n",
       "      <td>L6 IT VISp Col23a1 Adamts2</td>\n",
       "      <td>Tall</td>\n",
       "    </tr>\n",
       "    <tr>\n",
       "      <th>5061</th>\n",
       "      <td>Oxtr-T2A-Cre;Ai14-484066.03.01.02</td>\n",
       "      <td>934924189.0</td>\n",
       "      <td>934844641.0</td>\n",
       "      <td>-76.383989</td>\n",
       "      <td>138.218805</td>\n",
       "      <td>0.037701</td>\n",
       "      <td>16.061453</td>\n",
       "      <td>4.694943</td>\n",
       "      <td>0.05358</td>\n",
       "      <td>0.168103</td>\n",
       "      <td>L6 IT VISp Col23a1 Adamts2</td>\n",
       "      <td>Short</td>\n",
       "    </tr>\n",
       "    <tr>\n",
       "      <th>801</th>\n",
       "      <td>Oxtr-T2A-Cre;Ai14-491787.03.01.01</td>\n",
       "      <td>969340170.0</td>\n",
       "      <td>969200089.0</td>\n",
       "      <td>-72.399137</td>\n",
       "      <td>155.906215</td>\n",
       "      <td>0.111074</td>\n",
       "      <td>14.656541</td>\n",
       "      <td>3.953013</td>\n",
       "      <td>0.04120</td>\n",
       "      <td>0.235000</td>\n",
       "      <td>L6 IT VISp Col23a1 Adamts2</td>\n",
       "      <td>Tall</td>\n",
       "    </tr>\n",
       "    <tr>\n",
       "      <th>1175</th>\n",
       "      <td>Slc32a1-IRES-Cre;Ai14-493643.04.02.01</td>\n",
       "      <td>971625717.0</td>\n",
       "      <td>971517180.0</td>\n",
       "      <td>-79.857937</td>\n",
       "      <td>136.093706</td>\n",
       "      <td>0.073616</td>\n",
       "      <td>19.901382</td>\n",
       "      <td>4.591299</td>\n",
       "      <td>0.06178</td>\n",
       "      <td>0.125000</td>\n",
       "      <td>L6 IT VISp Col23a1 Adamts2</td>\n",
       "      <td>Short</td>\n",
       "    </tr>\n",
       "    <tr>\n",
       "      <th>5214</th>\n",
       "      <td>Slc17a6-IRES-Cre;Ai14-493713.05.01.02</td>\n",
       "      <td>972498756.0</td>\n",
       "      <td>972447551.0</td>\n",
       "      <td>-69.072688</td>\n",
       "      <td>167.531311</td>\n",
       "      <td>0.065449</td>\n",
       "      <td>18.788043</td>\n",
       "      <td>3.606573</td>\n",
       "      <td>0.03602</td>\n",
       "      <td>0.227302</td>\n",
       "      <td>L6 IT VISp Col23a1 Adamts2</td>\n",
       "      <td>Short</td>\n",
       "    </tr>\n",
       "  </tbody>\n",
       "</table>\n",
       "</div>"
      ],
      "text/plain": [
       "                                        name           id  specimen_id  \\\n",
       "5718       Oxtr-T2A-Cre;Ai14-374539.04.02.01  861194368.0  661513942.0   \n",
       "3807       Oxtr-T2A-Cre;Ai14-408759.04.01.01  905282159.0  740290698.0   \n",
       "3808       Oxtr-T2A-Cre;Ai14-408759.04.01.03  905466129.0  740318831.0   \n",
       "6632       Oxtr-T2A-Cre;Ai14-408761.05.02.03  905602748.0  741213831.0   \n",
       "8104  Slc17a7-IRES2-Cre;Ai14-479507.05.02.02  917700688.0  917624301.0   \n",
       "8112  Slc17a7-IRES2-Cre;Ai14-479510.04.02.01  919110293.0  919091442.0   \n",
       "8119  Slc17a7-IRES2-Cre;Ai14-479513.05.02.03  920024099.0  919979431.0   \n",
       "8147       Oxtr-T2A-Cre;Ai14-483227.04.02.01  922815748.0  922562221.0   \n",
       "5061       Oxtr-T2A-Cre;Ai14-484066.03.01.02  934924189.0  934844641.0   \n",
       "801        Oxtr-T2A-Cre;Ai14-491787.03.01.01  969340170.0  969200089.0   \n",
       "1175   Slc32a1-IRES-Cre;Ai14-493643.04.02.01  971625717.0  971517180.0   \n",
       "5214   Slc17a6-IRES-Cre;Ai14-493713.05.01.02  972498756.0  972447551.0   \n",
       "\n",
       "          vrest          ri       sag        tau  \\\n",
       "5718 -80.145372  121.406250  0.031238  15.308623   \n",
       "3807 -69.977295  158.437535  0.034584  15.939402   \n",
       "3808 -64.213624  153.281212  0.078633  14.755455   \n",
       "6632 -72.814578  170.625120  0.040381  20.569915   \n",
       "8104 -75.112618  133.249968  0.046231  16.128673   \n",
       "8112 -70.255824  154.093817  0.041846  19.205488   \n",
       "8119 -71.010286  144.843787  0.050073  23.552454   \n",
       "8147 -70.045513  131.415442  0.034790  22.223298   \n",
       "5061 -76.383989  138.218805  0.037701  16.061453   \n",
       "801  -72.399137  155.906215  0.111074  14.656541   \n",
       "1175 -79.857937  136.093706  0.073616  19.901382   \n",
       "5214 -69.072688  167.531311  0.065449  18.788043   \n",
       "\n",
       "      upstroke_downstroke_ratio_long_square  latency  f_i_curve_slope  \\\n",
       "5718                               3.916313  0.04460         0.119612   \n",
       "3807                               4.562375  0.06056         0.155000   \n",
       "3808                               3.946303  0.05026         0.215000   \n",
       "6632                               4.792583  0.06012         0.135000   \n",
       "8104                               4.629056  0.04858         0.180000   \n",
       "8112                               3.768449  0.03224         0.162617   \n",
       "8119                               4.052849  0.06204         0.140000   \n",
       "8147                               4.173956  0.06752         0.092308   \n",
       "5061                               4.694943  0.05358         0.168103   \n",
       "801                                3.953013  0.04120         0.235000   \n",
       "1175                               4.591299  0.06178         0.125000   \n",
       "5214                               3.606573  0.03602         0.227302   \n",
       "\n",
       "                        subclass apical_length  \n",
       "5718  L6 IT VISp Col23a1 Adamts2         Short  \n",
       "3807  L6 IT VISp Col23a1 Adamts2         Short  \n",
       "3808  L6 IT VISp Col23a1 Adamts2          Tall  \n",
       "6632  L6 IT VISp Col23a1 Adamts2         Short  \n",
       "8104  L6 IT VISp Col23a1 Adamts2         Short  \n",
       "8112  L6 IT VISp Col23a1 Adamts2         Short  \n",
       "8119  L6 IT VISp Col23a1 Adamts2         Short  \n",
       "8147  L6 IT VISp Col23a1 Adamts2          Tall  \n",
       "5061  L6 IT VISp Col23a1 Adamts2         Short  \n",
       "801   L6 IT VISp Col23a1 Adamts2          Tall  \n",
       "1175  L6 IT VISp Col23a1 Adamts2         Short  \n",
       "5214  L6 IT VISp Col23a1 Adamts2         Short  "
      ]
     },
     "execution_count": 37,
     "metadata": {},
     "output_type": "execute_result"
    }
   ],
   "source": [
    "morpha"
   ]
  },
  {
   "cell_type": "code",
   "execution_count": 38,
   "metadata": {},
   "outputs": [
    {
     "data": {
      "image/png": "[encoded data removed]",
      "text/plain": [
       "<Figure size 360x360 with 1 Axes>"
      ]
     },
     "metadata": {},
     "output_type": "display_data"
    }
   ],
   "source": [
    "fig_dims = (5, 5)\n",
    "f, axes = plt.subplots(figsize=fig_dims)\n",
    "\n",
    "ax = sns.violinplot(x=\"apical_length\", y=\"vrest\", data=morpha, scale=\"count\", inner=\"box\", saturation=1, linewidth=1)"
   ]
  },
  {
   "cell_type": "code",
   "execution_count": 39,
   "metadata": {},
   "outputs": [
    {
     "data": {
      "image/png": "[encoded data removed]",
      "text/plain": [
       "<Figure size 360x360 with 1 Axes>"
      ]
     },
     "metadata": {},
     "output_type": "display_data"
    }
   ],
   "source": [
    "fig_dims = (5, 5)\n",
    "f, axes = plt.subplots(figsize=fig_dims)\n",
    "\n",
    "ax = sns.violinplot(x=\"apical_length\", y=\"vrest\", data=morphb, scale=\"count\", inner=\"box\", saturation=1, linewidth=1)"
   ]
  },
  {
   "cell_type": "code",
   "execution_count": null,
   "metadata": {},
   "outputs": [],
   "source": []
  }
 ],
 "metadata": {
  "kernelspec": {
   "display_name": "Python 3",
   "language": "python",
   "name": "python3"
  },
  "language_info": {
   "codemirror_mode": {
    "name": "ipython",
    "version": 3
   },
   "file_extension": ".py",
   "mimetype": "text/x-python",
   "name": "python",
   "nbconvert_exporter": "python",
   "pygments_lexer": "ipython3",
   "version": "3.6.5"
  }
 },
 "nbformat": 4,
 "nbformat_minor": 2
}
