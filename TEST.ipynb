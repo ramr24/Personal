{
 "cells": [
  {
   "cell_type": "markdown",
   "metadata": {},
   "source": [
    "# Analysis Project: Picogreen Concentration vs. User"
   ]
  },
  {
   "cell_type": "code",
   "execution_count": 1,
   "metadata": {
    "collapsed": true
   },
   "outputs": [],
   "source": [
    "#Import necessary functions\n",
    "import csv\n",
    "import pandas as pd\n",
    "import numpy as np\n",
    "import seaborn as sns\n",
    "import matplotlib.pyplot as plt\n",
    "from datetime import datetime\n",
    "%matplotlib inline"
   ]
  },
  {
   "cell_type": "code",
   "execution_count": 2,
   "metadata": {
    "collapsed": true
   },
   "outputs": [],
   "source": [
    "#Reading Google Doc as csv\n",
    "#ps = patch_seq file\n",
    "ps = pd.read_csv(\"patch_seq_log_mouse.csv\")"
   ]
  },
  {
   "cell_type": "code",
   "execution_count": 3,
   "metadata": {},
   "outputs": [
    {
     "data": {
      "text/html": [
       "<div>\n",
       "<style>\n",
       "    .dataframe thead tr:only-child th {\n",
       "        text-align: right;\n",
       "    }\n",
       "\n",
       "    .dataframe thead th {\n",
       "        text-align: left;\n",
       "    }\n",
       "\n",
       "    .dataframe tbody tr th {\n",
       "        vertical-align: top;\n",
       "    }\n",
       "</style>\n",
       "<table border=\"1\" class=\"dataframe\">\n",
       "  <thead>\n",
       "    <tr style=\"text-align: right;\">\n",
       "      <th></th>\n",
       "      <th>Date</th>\n",
       "      <th>User</th>\n",
       "      <th>Rig #</th>\n",
       "      <th>Post patch?</th>\n",
       "      <th>BA conc. &gt;400 (pg/uL)</th>\n",
       "      <th>PCR cycles</th>\n",
       "      <th>SM_QC_PF</th>\n",
       "      <th>Bad dates</th>\n",
       "    </tr>\n",
       "  </thead>\n",
       "  <tbody>\n",
       "    <tr>\n",
       "      <th>0</th>\n",
       "      <td>170104</td>\n",
       "      <td>P1</td>\n",
       "      <td>5</td>\n",
       "      <td>Outside-Out</td>\n",
       "      <td>122</td>\n",
       "      <td>18.0</td>\n",
       "      <td>pass</td>\n",
       "      <td>x</td>\n",
       "    </tr>\n",
       "    <tr>\n",
       "      <th>1</th>\n",
       "      <td>170104</td>\n",
       "      <td>P1</td>\n",
       "      <td>5</td>\n",
       "      <td>No-Seal</td>\n",
       "      <td>292</td>\n",
       "      <td>18.0</td>\n",
       "      <td>pass</td>\n",
       "      <td>x</td>\n",
       "    </tr>\n",
       "    <tr>\n",
       "      <th>2</th>\n",
       "      <td>170104</td>\n",
       "      <td>P1</td>\n",
       "      <td>5</td>\n",
       "      <td>No-Seal</td>\n",
       "      <td>218</td>\n",
       "      <td>18.0</td>\n",
       "      <td>pass</td>\n",
       "      <td>x</td>\n",
       "    </tr>\n",
       "    <tr>\n",
       "      <th>3</th>\n",
       "      <td>170104</td>\n",
       "      <td>P1</td>\n",
       "      <td>5</td>\n",
       "      <td>No-Seal</td>\n",
       "      <td>170</td>\n",
       "      <td>18.0</td>\n",
       "      <td>pass</td>\n",
       "      <td>x</td>\n",
       "    </tr>\n",
       "    <tr>\n",
       "      <th>4</th>\n",
       "      <td>170104</td>\n",
       "      <td>P1</td>\n",
       "      <td>5</td>\n",
       "      <td>Outside-Out</td>\n",
       "      <td>385</td>\n",
       "      <td>18.0</td>\n",
       "      <td>pass</td>\n",
       "      <td>x</td>\n",
       "    </tr>\n",
       "  </tbody>\n",
       "</table>\n",
       "</div>"
      ],
      "text/plain": [
       "     Date User Rig #  Post patch? BA conc. >400 (pg/uL)  PCR cycles SM_QC_PF  \\\n",
       "0  170104   P1     5  Outside-Out                   122        18.0     pass   \n",
       "1  170104   P1     5      No-Seal                   292        18.0     pass   \n",
       "2  170104   P1     5      No-Seal                   218        18.0     pass   \n",
       "3  170104   P1     5      No-Seal                   170        18.0     pass   \n",
       "4  170104   P1     5  Outside-Out                   385        18.0     pass   \n",
       "\n",
       "  Bad dates  \n",
       "0         x  \n",
       "1         x  \n",
       "2         x  \n",
       "3         x  \n",
       "4         x  "
      ]
     },
     "execution_count": 3,
     "metadata": {},
     "output_type": "execute_result"
    }
   ],
   "source": [
    "#Choosing the columns to use for this program\n",
    "#2017 Data (1/04/17-Present 2018)\n",
    "#list_initial = list with desired columns \n",
    "list_initial = [\"Date\", \"User\", \"Rig #\", \"Picogreen conc. (pg/uL)\", \"PCR cycles\", \"SM_QC_PF\", \"Bad dates\"]\n",
    "ps = ps[list_initial]\n",
    "ps.head()"
   ]
  },
  {
   "cell_type": "markdown",
   "metadata": {},
   "source": [
    "#### Filtering & Sorting the columns"
   ]
  },
  {
   "cell_type": "code",
   "execution_count": 6,
   "metadata": {},
   "outputs": [
    {
     "data": {
      "text/html": [
       "<div>\n",
       "<style>\n",
       "    .dataframe thead tr:only-child th {\n",
       "        text-align: right;\n",
       "    }\n",
       "\n",
       "    .dataframe thead th {\n",
       "        text-align: left;\n",
       "    }\n",
       "\n",
       "    .dataframe tbody tr th {\n",
       "        vertical-align: top;\n",
       "    }\n",
       "</style>\n",
       "<table border=\"1\" class=\"dataframe\">\n",
       "  <thead>\n",
       "    <tr style=\"text-align: right;\">\n",
       "      <th></th>\n",
       "      <th>Date</th>\n",
       "      <th>User</th>\n",
       "      <th>Rig #</th>\n",
       "      <th>Post patch?</th>\n",
       "      <th>BA conc. &gt;400 (pg/uL)</th>\n",
       "      <th>PCR cycles</th>\n",
       "      <th>SM_QC_PF</th>\n",
       "    </tr>\n",
       "  </thead>\n",
       "  <tbody>\n",
       "    <tr>\n",
       "      <th>1634</th>\n",
       "      <td>2017-04-19</td>\n",
       "      <td>P2</td>\n",
       "      <td>6</td>\n",
       "      <td>Outside-Out</td>\n",
       "      <td>8.0</td>\n",
       "      <td>21.0</td>\n",
       "      <td>fail</td>\n",
       "    </tr>\n",
       "    <tr>\n",
       "      <th>1635</th>\n",
       "      <td>2017-04-19</td>\n",
       "      <td>P2</td>\n",
       "      <td>6</td>\n",
       "      <td>Outside-Out</td>\n",
       "      <td>461.0</td>\n",
       "      <td>21.0</td>\n",
       "      <td>pass</td>\n",
       "    </tr>\n",
       "    <tr>\n",
       "      <th>1636</th>\n",
       "      <td>2017-04-19</td>\n",
       "      <td>P2</td>\n",
       "      <td>6</td>\n",
       "      <td>No-Seal</td>\n",
       "      <td>1.0</td>\n",
       "      <td>21.0</td>\n",
       "      <td>fail</td>\n",
       "    </tr>\n",
       "    <tr>\n",
       "      <th>1637</th>\n",
       "      <td>2017-04-19</td>\n",
       "      <td>P2</td>\n",
       "      <td>6</td>\n",
       "      <td>Nucleated</td>\n",
       "      <td>979.0</td>\n",
       "      <td>21.0</td>\n",
       "      <td>pass</td>\n",
       "    </tr>\n",
       "    <tr>\n",
       "      <th>1638</th>\n",
       "      <td>2017-04-19</td>\n",
       "      <td>P2</td>\n",
       "      <td>6</td>\n",
       "      <td>Outside-Out</td>\n",
       "      <td>456.0</td>\n",
       "      <td>21.0</td>\n",
       "      <td>pass</td>\n",
       "    </tr>\n",
       "  </tbody>\n",
       "</table>\n",
       "</div>"
      ],
      "text/plain": [
       "           Date User Rig #  Post patch?  BA conc. >400 (pg/uL) PCR cycles  \\\n",
       "1634 2017-04-19   P2     6  Outside-Out                    8.0       21.0   \n",
       "1635 2017-04-19   P2     6  Outside-Out                  461.0       21.0   \n",
       "1636 2017-04-19   P2     6      No-Seal                    1.0       21.0   \n",
       "1637 2017-04-19   P2     6    Nucleated                  979.0       21.0   \n",
       "1638 2017-04-19   P2     6  Outside-Out                  456.0       21.0   \n",
       "\n",
       "     SM_QC_PF  \n",
       "1634     fail  \n",
       "1635     pass  \n",
       "1636     fail  \n",
       "1637     pass  \n",
       "1638     pass  "
      ]
     },
     "execution_count": 6,
     "metadata": {},
     "output_type": "execute_result"
    }
   ],
   "source": [
    "#Changing Date Format\n",
    "ps[\"Date\"] = pd.to_datetime(ps[\"Date\"], format = \"%y%m%d\", errors = \"coerce\")\n",
    "\n",
    "\n",
    "#Changing String to Numerical\n",
    "ps[\"BA conc. >400 (pg/uL)\"] = pd.to_numeric(ps[\"BA conc. >400 (pg/uL)\"].str.replace(' ',''), errors ='coerce')\n",
    "\n",
    "#Categories\n",
    "ps[\"Post patch?\"] = ps[\"Post patch?\"].astype(\"category\")\n",
    "ps[\"PCR cycles\"] = ps[\"PCR cycles\"].astype(\"category\")\n",
    "ps[\"SM_QC_PF\"] = ps[\"SM_QC_PF\"].astype(\"category\")\n",
    "ps[\"Bad dates\"] = ps[\"Bad dates\"].astype(\"category\")\n",
    "\n",
    "#Filtering Columns\n",
    "ps = ps[ps[\"PCR cycles\"] == 21]      #Shows 21 pcr cycles\n",
    "ps = ps[ps[\"SM_QC_PF\"] != \"cnt\"]     #Shows everything except cnt\n",
    "ps = ps[ps[\"Bad dates\"] != \"x\"]      #Shows everthing except x\n",
    "ps = ps[ps[\"BA conc. >400 (pg/uL\"] < 8000]\n",
    "\n",
    "#Dropping blank columns\n",
    "ps = ps.drop(\"Bad dates\", 1)\n",
    "#ps.dropna(subset = [\"Post patch?\", \"Time spent extracting cytosol\", \"BA conc. >400 (pg/uL)\", \"SM_QC_PF\"], inplace = True)\n",
    "ps.head()"
   ]
  },
  {
   "cell_type": "code",
   "execution_count": null,
   "metadata": {
    "collapsed": true
   },
   "outputs": [],
   "source": []
  },
  {
   "cell_type": "code",
   "execution_count": null,
   "metadata": {
    "collapsed": true
   },
   "outputs": [],
   "source": []
  },
  {
   "cell_type": "code",
   "execution_count": null,
   "metadata": {
    "collapsed": true
   },
   "outputs": [],
   "source": []
  },
  {
   "cell_type": "code",
   "execution_count": null,
   "metadata": {
    "collapsed": true
   },
   "outputs": [],
   "source": []
  },
  {
   "cell_type": "code",
   "execution_count": null,
   "metadata": {
    "collapsed": true
   },
   "outputs": [],
   "source": []
  },
  {
   "cell_type": "code",
   "execution_count": null,
   "metadata": {
    "collapsed": true
   },
   "outputs": [],
   "source": []
  },
  {
   "cell_type": "code",
   "execution_count": null,
   "metadata": {
    "collapsed": true
   },
   "outputs": [],
   "source": []
  },
  {
   "cell_type": "code",
   "execution_count": null,
   "metadata": {
    "collapsed": true
   },
   "outputs": [],
   "source": []
  }
 ],
 "metadata": {
  "kernelspec": {
   "display_name": "Python 3",
   "language": "python",
   "name": "python3"
  },
  "language_info": {
   "codemirror_mode": {
    "name": "ipython",
    "version": 3
   },
   "file_extension": ".py",
   "mimetype": "text/x-python",
   "name": "python",
   "nbconvert_exporter": "python",
   "pygments_lexer": "ipython3",
   "version": "3.6.3"
  }
 },
 "nbformat": 4,
 "nbformat_minor": 2
}
