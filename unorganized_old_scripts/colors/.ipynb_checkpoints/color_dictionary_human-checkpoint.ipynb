{
 "cells": [
  {
   "cell_type": "code",
   "execution_count": 1,
   "metadata": {},
   "outputs": [],
   "source": [
    "# cluster_label has the same color scheme for shiny\n",
    "# NOT seurat_cluster_label & topLeaf_label\n",
    "# seurat is the same as the one Brian made"
   ]
  },
  {
   "cell_type": "markdown",
   "metadata": {},
   "source": [
    "##### Imports"
   ]
  },
  {
   "cell_type": "code",
   "execution_count": 2,
   "metadata": {},
   "outputs": [],
   "source": [
    "import os\n",
    "import pandas as pd\n",
    "import numpy as np\n",
    "import csv\n",
    "import collections\n",
    "\n",
    "from temp_funcs import read_file, merge_dataframes, drop_cols, drop_nans, filter_date_range, \\\n",
    "filter_df, create_container_col, create_cond_df, create_container_df\n",
    "\n",
    "import seaborn as sns\n",
    "import matplotlib.pyplot as plt\n",
    "\n",
    "sns.set(context = \"notebook\", style = \"ticks\", font=\"verdana\", font_scale = 1)\n",
    "pd.set_option(\"display.max_colwidth\",150) #Expands the number of characters shown in the columns\n",
    "pd.set_option('display.max_columns', None)"
   ]
  },
  {
   "cell_type": "markdown",
   "metadata": {},
   "source": [
    "##### Paths/Fields"
   ]
  },
  {
   "cell_type": "code",
   "execution_count": 3,
   "metadata": {},
   "outputs": [],
   "source": [
    "path = os.path.dirname(os.getcwd())\n",
    "csv_path = os.path.join(path, \"csv/\")\n",
    "excel_path = os.path.join(path, \"excel/\")\n",
    "plot_path = os.path.join(path, \"plot/\")\n",
    "\n",
    "path_shiny_human = os.path.join(csv_path, \"shiny_human.csv\")\n",
    "path_shiny_mouse = os.path.join(csv_path, \"shiny_mouse_ctx.csv\")"
   ]
  },
  {
   "cell_type": "code",
   "execution_count": 4,
   "metadata": {},
   "outputs": [],
   "source": [
    "fields_shiny = [\"cell_name_label\", \"cluster_label\", \"cluster_color\",\n",
    "                \"seurat_cluster_label\", \"seurat_cluster_color\", \"topLeaf_label\", \"topLeaf_color\"]"
   ]
  },
  {
   "cell_type": "markdown",
   "metadata": {},
   "source": [
    "##### Read shiny_human"
   ]
  },
  {
   "cell_type": "code",
   "execution_count": 5,
   "metadata": {},
   "outputs": [
    {
     "name": "stderr",
     "output_type": "stream",
     "text": [
      "INFO:temp_funcs:Read file in as a pandas dataframe\n"
     ]
    }
   ],
   "source": [
    "shiny_human = read_file(path_shiny_human, fields_shiny)"
   ]
  },
  {
   "cell_type": "markdown",
   "metadata": {},
   "source": [
    "##### Make dictionaries"
   ]
  },
  {
   "cell_type": "code",
   "execution_count": 6,
   "metadata": {},
   "outputs": [],
   "source": [
    "cluster_dict = dict(zip(shiny_human[\"cluster_label\"], shiny_human[\"cluster_color\"]))\n",
    "cluster_dict = collections.OrderedDict(sorted(cluster_dict.items()))\n",
    "\n",
    "seurat_dict = dict(zip(shiny_human[\"seurat_cluster_label\"], shiny_human[\"seurat_cluster_color\"]))\n",
    "seurat_dict = collections.OrderedDict(sorted(seurat_dict.items()))\n",
    "\n",
    "topLeaf_dict = dict(zip(shiny_human[\"topLeaf_label\"], shiny_human[\"topLeaf_color\"]))\n",
    "topLeaf_dict = collections.OrderedDict(sorted(topLeaf_dict.items()))"
   ]
  },
  {
   "cell_type": "markdown",
   "metadata": {},
   "source": [
    "##### Make dfs"
   ]
  },
  {
   "cell_type": "code",
   "execution_count": 7,
   "metadata": {},
   "outputs": [],
   "source": [
    "cluster = pd.DataFrame(list(cluster_dict.items()),columns = [\"cluster_label\",\"cluster_color\"])\n",
    "seurat = pd.DataFrame(list(seurat_dict.items()),columns = [\"seurat_cluster_label\",\"seurat_cluster_color\"])\n",
    "topLeaf = pd.DataFrame(list(topLeaf_dict.items()),columns = [\"topLeaf_label\", \"topLeaf_color\"])"
   ]
  },
  {
   "cell_type": "markdown",
   "metadata": {},
   "source": [
    "##### Write dfs to excel sheet "
   ]
  },
  {
   "cell_type": "code",
   "execution_count": 8,
   "metadata": {},
   "outputs": [],
   "source": [
    "writer = pd.ExcelWriter(excel_path + \"shiny_human_colors_dict.xlsx\")\n",
    "cluster.to_excel(writer, \"cluster_label\", freeze_panes=(1,0), index=False)\n",
    "seurat.to_excel(writer, \"seurat_cluster_label\", freeze_panes=(1,0), index=False)\n",
    "topLeaf.to_excel(writer, \"topLeaf_label\", freeze_panes=(1,0), index=False)\n",
    "writer.save()"
   ]
  },
  {
   "cell_type": "code",
   "execution_count": null,
   "metadata": {},
   "outputs": [],
   "source": []
  }
 ],
 "metadata": {
  "kernelspec": {
   "display_name": "Python 3",
   "language": "python",
   "name": "python3"
  },
  "language_info": {
   "codemirror_mode": {
    "name": "ipython",
    "version": 3
   },
   "file_extension": ".py",
   "mimetype": "text/x-python",
   "name": "python",
   "nbconvert_exporter": "python",
   "pygments_lexer": "ipython3",
   "version": "3.7.4"
  }
 },
 "nbformat": 4,
 "nbformat_minor": 2
}
