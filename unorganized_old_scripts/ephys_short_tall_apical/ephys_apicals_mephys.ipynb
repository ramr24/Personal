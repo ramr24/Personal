{
 "cells": [
  {
   "cell_type": "markdown",
   "metadata": {},
   "source": [
    "# Ephys Features Short vs. Tall Apicals"
   ]
  },
  {
   "cell_type": "markdown",
   "metadata": {},
   "source": [
    "##### Imports"
   ]
  },
  {
   "cell_type": "code",
   "execution_count": 1,
   "metadata": {},
   "outputs": [],
   "source": [
    "import os\n",
    "import pandas as pd\n",
    "import csv\n",
    "\n",
    "import seaborn as sns\n",
    "import matplotlib.pyplot as plt\n",
    "\n",
    "from temp_funcs import path, csv_path, path_jem, \\\n",
    "read_file, merge_dataframes, drop_cols, drop_nans, filter_date_range, \\\n",
    "filter_df, create_container_col, create_cond_df, create_container_df"
   ]
  },
  {
   "cell_type": "code",
   "execution_count": 2,
   "metadata": {},
   "outputs": [],
   "source": [
    "sns.set(context = \"notebook\", style = \"ticks\", font=\"verdana\", font_scale = 1.5)\n",
    "pd.set_option(\"display.max_colwidth\",150) #Expands the number of characters shown in the columns\n",
    "pd.set_option('display.max_columns', None)"
   ]
  },
  {
   "cell_type": "markdown",
   "metadata": {},
   "source": [
    "##### Paths/Fields"
   ]
  },
  {
   "cell_type": "code",
   "execution_count": 14,
   "metadata": {},
   "outputs": [],
   "source": [
    "fields_morph = [\"b'name'\", \"b'id'\", \"b'specimen_id'\",\n",
    "                \"b'vrest'\", \"b'ri'\", \"b'sag'\", \"b'tau'\", \"b'upstroke_downstroke_ratio_long_square'\", \n",
    "                \"b'latency'\", \"b'f_i_curve_slope'\"]\n",
    "path_morph = os.path.join(csv_path, \"mephys_features.csv\")\n",
    "plot_path = os.path.join(path, \"plot/short_tall_plot/\")"
   ]
  },
  {
   "cell_type": "code",
   "execution_count": 25,
   "metadata": {},
   "outputs": [
    {
     "name": "stderr",
     "output_type": "stream",
     "text": [
      "INFO:temp_funcs:Read file in as a pandas dataframe\n",
      "INFO:temp_funcs:Dropped NaNs from these columns: [\"b'specimen_id'\"]\n"
     ]
    }
   ],
   "source": [
    "morph = read_file(path_morph, fields_morph)\n",
    "morph = drop_nans(morph, [\"b'specimen_id'\"])"
   ]
  },
  {
   "cell_type": "code",
   "execution_count": 24,
   "metadata": {},
   "outputs": [
    {
     "data": {
      "text/plain": [
       "Index(['b'name'', 'b'id'', 'b'specimen_id'', 'b'vrest'', 'b'ri'', 'b'sag'',\n",
       "       'b'tau'', 'b'upstroke_downstroke_ratio_long_square'', 'b'latency'',\n",
       "       'b'f_i_curve_slope''],\n",
       "      dtype='object')"
      ]
     },
     "execution_count": 24,
     "metadata": {},
     "output_type": "execute_result"
    }
   ],
   "source": [
    "morph.columns"
   ]
  },
  {
   "cell_type": "code",
   "execution_count": 22,
   "metadata": {},
   "outputs": [
    {
     "data": {
      "text/html": [
       "<div>\n",
       "<style scoped>\n",
       "    .dataframe tbody tr th:only-of-type {\n",
       "        vertical-align: middle;\n",
       "    }\n",
       "\n",
       "    .dataframe tbody tr th {\n",
       "        vertical-align: top;\n",
       "    }\n",
       "\n",
       "    .dataframe thead th {\n",
       "        text-align: right;\n",
       "    }\n",
       "</style>\n",
       "<table border=\"1\" class=\"dataframe\">\n",
       "  <thead>\n",
       "    <tr style=\"text-align: right;\">\n",
       "      <th></th>\n",
       "      <th>b'name'</th>\n",
       "      <th>b'id'</th>\n",
       "      <th>b'specimen_id'</th>\n",
       "      <th>b'vrest'</th>\n",
       "      <th>b'ri'</th>\n",
       "      <th>b'sag'</th>\n",
       "      <th>b'tau'</th>\n",
       "      <th>b'upstroke_downstroke_ratio_long_square'</th>\n",
       "      <th>b'latency'</th>\n",
       "      <th>b'f_i_curve_slope'</th>\n",
       "    </tr>\n",
       "  </thead>\n",
       "  <tbody>\n",
       "    <tr>\n",
       "      <td>0</td>\n",
       "      <td>Gad2-IRES-Cre;Ai14-504539.10.01.01</td>\n",
       "      <td>997542689.0</td>\n",
       "      <td>997541435.0</td>\n",
       "      <td>-65.282120</td>\n",
       "      <td>59.750024</td>\n",
       "      <td>0.148347</td>\n",
       "      <td>13.020941</td>\n",
       "      <td>3.711103</td>\n",
       "      <td>0.03164</td>\n",
       "      <td>1.495327e-01</td>\n",
       "    </tr>\n",
       "    <tr>\n",
       "      <td>1</td>\n",
       "      <td>Vipr2-IRES2-Cre;Pvalb-T2A-FlpO;Ai65-437075.04.01.01</td>\n",
       "      <td>809635936.0</td>\n",
       "      <td>809615441.0</td>\n",
       "      <td>-65.295204</td>\n",
       "      <td>60.312387</td>\n",
       "      <td>0.047297</td>\n",
       "      <td>46.068612</td>\n",
       "      <td>1.531230</td>\n",
       "      <td>0.04230</td>\n",
       "      <td>6.723404e-01</td>\n",
       "    </tr>\n",
       "    <tr>\n",
       "      <td>2</td>\n",
       "      <td>Vipr2-IRES2-Cre;Pvalb-T2A-FlpO;Ai65-437075.03.01.01</td>\n",
       "      <td>809646086.0</td>\n",
       "      <td>809632961.0</td>\n",
       "      <td>-71.158137</td>\n",
       "      <td>101.749994</td>\n",
       "      <td>0.035610</td>\n",
       "      <td>6.309486</td>\n",
       "      <td>1.421988</td>\n",
       "      <td>0.00944</td>\n",
       "      <td>6.100000e-01</td>\n",
       "    </tr>\n",
       "    <tr>\n",
       "      <td>3</td>\n",
       "      <td>Sst-IRES-Cre;Ai167-441787.06.01.01</td>\n",
       "      <td>818815191.0</td>\n",
       "      <td>818723197.0</td>\n",
       "      <td>-65.463026</td>\n",
       "      <td>418.007880</td>\n",
       "      <td>0.008631</td>\n",
       "      <td>40.082451</td>\n",
       "      <td>1.762208</td>\n",
       "      <td>0.03258</td>\n",
       "      <td>9.500000e-02</td>\n",
       "    </tr>\n",
       "    <tr>\n",
       "      <td>4</td>\n",
       "      <td>Vipr2-IRES2-Cre;Pvalb-T2A-FlpO;Ai65-462280.04.01.01</td>\n",
       "      <td>869545617.0</td>\n",
       "      <td>869497896.0</td>\n",
       "      <td>-68.072316</td>\n",
       "      <td>67.625009</td>\n",
       "      <td>0.075305</td>\n",
       "      <td>87.041986</td>\n",
       "      <td>1.550681</td>\n",
       "      <td>0.00520</td>\n",
       "      <td>9.099119e-19</td>\n",
       "    </tr>\n",
       "    <tr>\n",
       "      <td>...</td>\n",
       "      <td>...</td>\n",
       "      <td>...</td>\n",
       "      <td>...</td>\n",
       "      <td>...</td>\n",
       "      <td>...</td>\n",
       "      <td>...</td>\n",
       "      <td>...</td>\n",
       "      <td>...</td>\n",
       "      <td>...</td>\n",
       "      <td>...</td>\n",
       "    </tr>\n",
       "    <tr>\n",
       "      <td>27184</td>\n",
       "      <td>Chrna2-Cre_OE25;Ai14-367172.03.01.02</td>\n",
       "      <td>NaN</td>\n",
       "      <td>NaN</td>\n",
       "      <td>NaN</td>\n",
       "      <td>NaN</td>\n",
       "      <td>NaN</td>\n",
       "      <td>NaN</td>\n",
       "      <td>NaN</td>\n",
       "      <td>NaN</td>\n",
       "      <td>NaN</td>\n",
       "    </tr>\n",
       "    <tr>\n",
       "      <td>27185</td>\n",
       "      <td>Esr2-IRES2-Cre;Ai14-304376.02.02.01</td>\n",
       "      <td>NaN</td>\n",
       "      <td>NaN</td>\n",
       "      <td>NaN</td>\n",
       "      <td>NaN</td>\n",
       "      <td>NaN</td>\n",
       "      <td>NaN</td>\n",
       "      <td>NaN</td>\n",
       "      <td>NaN</td>\n",
       "      <td>NaN</td>\n",
       "    </tr>\n",
       "    <tr>\n",
       "      <td>27186</td>\n",
       "      <td>H17.06.005.13.05.06</td>\n",
       "      <td>NaN</td>\n",
       "      <td>NaN</td>\n",
       "      <td>NaN</td>\n",
       "      <td>NaN</td>\n",
       "      <td>NaN</td>\n",
       "      <td>NaN</td>\n",
       "      <td>NaN</td>\n",
       "      <td>NaN</td>\n",
       "      <td>NaN</td>\n",
       "    </tr>\n",
       "    <tr>\n",
       "      <td>27187</td>\n",
       "      <td>Penk-IRES2-Cre-neo;Slc17a6-IRES2-FlpO-508719-Ai65.07.09.02</td>\n",
       "      <td>NaN</td>\n",
       "      <td>NaN</td>\n",
       "      <td>NaN</td>\n",
       "      <td>NaN</td>\n",
       "      <td>NaN</td>\n",
       "      <td>NaN</td>\n",
       "      <td>NaN</td>\n",
       "      <td>NaN</td>\n",
       "      <td>NaN</td>\n",
       "    </tr>\n",
       "    <tr>\n",
       "      <td>27188</td>\n",
       "      <td>H19.03.311.14.08.01.01</td>\n",
       "      <td>NaN</td>\n",
       "      <td>NaN</td>\n",
       "      <td>NaN</td>\n",
       "      <td>NaN</td>\n",
       "      <td>NaN</td>\n",
       "      <td>NaN</td>\n",
       "      <td>NaN</td>\n",
       "      <td>NaN</td>\n",
       "      <td>NaN</td>\n",
       "    </tr>\n",
       "  </tbody>\n",
       "</table>\n",
       "<p>27189 rows × 10 columns</p>\n",
       "</div>"
      ],
      "text/plain": [
       "                                                          b'name'  \\\n",
       "0                              Gad2-IRES-Cre;Ai14-504539.10.01.01   \n",
       "1             Vipr2-IRES2-Cre;Pvalb-T2A-FlpO;Ai65-437075.04.01.01   \n",
       "2             Vipr2-IRES2-Cre;Pvalb-T2A-FlpO;Ai65-437075.03.01.01   \n",
       "3                              Sst-IRES-Cre;Ai167-441787.06.01.01   \n",
       "4             Vipr2-IRES2-Cre;Pvalb-T2A-FlpO;Ai65-462280.04.01.01   \n",
       "...                                                           ...   \n",
       "27184                        Chrna2-Cre_OE25;Ai14-367172.03.01.02   \n",
       "27185                         Esr2-IRES2-Cre;Ai14-304376.02.02.01   \n",
       "27186                                         H17.06.005.13.05.06   \n",
       "27187  Penk-IRES2-Cre-neo;Slc17a6-IRES2-FlpO-508719-Ai65.07.09.02   \n",
       "27188                                      H19.03.311.14.08.01.01   \n",
       "\n",
       "             b'id'  b'specimen_id'   b'vrest'       b'ri'    b'sag'  \\\n",
       "0      997542689.0     997541435.0 -65.282120   59.750024  0.148347   \n",
       "1      809635936.0     809615441.0 -65.295204   60.312387  0.047297   \n",
       "2      809646086.0     809632961.0 -71.158137  101.749994  0.035610   \n",
       "3      818815191.0     818723197.0 -65.463026  418.007880  0.008631   \n",
       "4      869545617.0     869497896.0 -68.072316   67.625009  0.075305   \n",
       "...            ...             ...        ...         ...       ...   \n",
       "27184          NaN             NaN        NaN         NaN       NaN   \n",
       "27185          NaN             NaN        NaN         NaN       NaN   \n",
       "27186          NaN             NaN        NaN         NaN       NaN   \n",
       "27187          NaN             NaN        NaN         NaN       NaN   \n",
       "27188          NaN             NaN        NaN         NaN       NaN   \n",
       "\n",
       "          b'tau'  b'upstroke_downstroke_ratio_long_square'  b'latency'  \\\n",
       "0      13.020941                                  3.711103     0.03164   \n",
       "1      46.068612                                  1.531230     0.04230   \n",
       "2       6.309486                                  1.421988     0.00944   \n",
       "3      40.082451                                  1.762208     0.03258   \n",
       "4      87.041986                                  1.550681     0.00520   \n",
       "...          ...                                       ...         ...   \n",
       "27184        NaN                                       NaN         NaN   \n",
       "27185        NaN                                       NaN         NaN   \n",
       "27186        NaN                                       NaN         NaN   \n",
       "27187        NaN                                       NaN         NaN   \n",
       "27188        NaN                                       NaN         NaN   \n",
       "\n",
       "       b'f_i_curve_slope'  \n",
       "0            1.495327e-01  \n",
       "1            6.723404e-01  \n",
       "2            6.100000e-01  \n",
       "3            9.500000e-02  \n",
       "4            9.099119e-19  \n",
       "...                   ...  \n",
       "27184                 NaN  \n",
       "27185                 NaN  \n",
       "27186                 NaN  \n",
       "27187                 NaN  \n",
       "27188                 NaN  \n",
       "\n",
       "[27189 rows x 10 columns]"
      ]
     },
     "execution_count": 22,
     "metadata": {},
     "output_type": "execute_result"
    }
   ],
   "source": [
    "morph"
   ]
  },
  {
   "cell_type": "markdown",
   "metadata": {},
   "source": [
    "##### List of short and tall apicals for L6 IT VISp Col23a1 Adamts2 & L6 CT VISp Ctxn3 Brinp3"
   ]
  },
  {
   "cell_type": "code",
   "execution_count": 26,
   "metadata": {},
   "outputs": [],
   "source": [
    "adam_short = [\"661513942\", \"740290698\", \"741213831\", \"917624301\", \"919091442\", \"919979431\",\n",
    "              \"934844641\", \"971517180\", \"972447551\"]\n",
    "adam_tall = [\"740318831\", \"922562221\", \"969200089\"]\n",
    "adam_list = sorted(adam_short + adam_tall)"
   ]
  },
  {
   "cell_type": "code",
   "execution_count": 27,
   "metadata": {},
   "outputs": [],
   "source": [
    "brin_short = [\"724539260\", \"863429616\", \"864068767\", \"902140767\", \"904935208\", \"942421907\"]\n",
    "brin_tall = [\"653195521\", \"851542876\", \"851580386\", \"853618984\", \"863404974\", \"863418322\",\n",
    "             \"893371082\", \"903831482\", \"907357811\", \"927797864\", \"935214823\"]\n",
    "brin_list = sorted(brin_short + brin_tall)\n",
    "\n",
    "#missing 863429616 from brin_short"
   ]
  },
  {
   "cell_type": "code",
   "execution_count": 28,
   "metadata": {},
   "outputs": [],
   "source": [
    "all_list = sorted(adam_list + brin_list)"
   ]
  },
  {
   "cell_type": "code",
   "execution_count": 29,
   "metadata": {},
   "outputs": [
    {
     "data": {
      "text/plain": [
       "29"
      ]
     },
     "execution_count": 29,
     "metadata": {},
     "output_type": "execute_result"
    }
   ],
   "source": [
    "len(all_list)"
   ]
  },
  {
   "cell_type": "markdown",
   "metadata": {},
   "source": [
    "##### Setting up dataframe with lists"
   ]
  },
  {
   "cell_type": "code",
   "execution_count": 31,
   "metadata": {},
   "outputs": [
    {
     "data": {
      "text/plain": [
       "28"
      ]
     },
     "execution_count": 31,
     "metadata": {},
     "output_type": "execute_result"
    }
   ],
   "source": [
    "morph = morph[morph[\"b'specimen_id'\"].isin(all_list)]\n",
    "morph.sort_values(\"b'specimen_id'\", inplace=True)\n",
    "len(morph)"
   ]
  },
  {
   "cell_type": "code",
   "execution_count": null,
   "metadata": {},
   "outputs": [],
   "source": [
    "morph[\"subclass\"] = pd.np.where(morph.specimen_id.isin(adam_list), \"L6 IT VISp Col23a1 Adamts2\", \"L6 CT VISp Ctxn3 Brinp3\")"
   ]
  },
  {
   "cell_type": "code",
   "execution_count": null,
   "metadata": {},
   "outputs": [],
   "source": [
    "morpha = morph[morph.subclass == \"L6 IT VISp Col23a1 Adamts2\"]\n",
    "morphb = morph[morph.subclass == \"L6 CT VISp Ctxn3 Brinp3\"]"
   ]
  },
  {
   "cell_type": "code",
   "execution_count": null,
   "metadata": {},
   "outputs": [],
   "source": [
    "morpha[\"apical_length\"] = pd.np.where(morpha.specimen_id.isin(adam_short), \"Short\", \"Tall\")\n",
    "morphb[\"apical_length\"] = pd.np.where(morphb.specimen_id.isin(brin_short), \"Short\", \"Tall\")\n",
    "\n",
    "morpha.sort_values(\"specimen_id\", inplace=True)\n",
    "morphb.sort_values(\"specimen_id\", inplace=True)"
   ]
  },
  {
   "cell_type": "markdown",
   "metadata": {},
   "source": [
    "##### L6 IT VISp Col23a1 Adamts2"
   ]
  },
  {
   "cell_type": "code",
   "execution_count": null,
   "metadata": {},
   "outputs": [],
   "source": [
    "v_colors={\"Short\": \"#ef3b2c\", \"Tall\": \"#4292c6\"}"
   ]
  },
  {
   "cell_type": "code",
   "execution_count": null,
   "metadata": {},
   "outputs": [],
   "source": [
    "f, axes = plt.subplots(figsize=(5,5))\n",
    "ax = sns.violinplot(x=\"apical_length\", y=\"vrest\", data=morpha, order=v_colors, palette=v_colors,\n",
    "                    scale=\"count\", inner=\"box\", saturation=1, linewidth=2)\n",
    "ax.set_xlabel(\"Morpho Type\")\n",
    "ax.set_ylabel(\"Vm(mV)\")\n",
    "plt.savefig(plot_path + \"adam_vm.jpeg\", bbox_inches=\"tight\")"
   ]
  },
  {
   "cell_type": "code",
   "execution_count": null,
   "metadata": {},
   "outputs": [],
   "source": [
    "f, axes = plt.subplots(figsize=(5,5))\n",
    "ax = sns.violinplot(x=\"apical_length\", y=\"ri\", data=morpha, order=v_colors, palette=v_colors,\n",
    "                    scale=\"count\", inner=\"box\", saturation=1, linewidth=2)\n",
    "ax.set_xlabel(\"Morpho Type\")\n",
    "ax.set_ylabel(\"Input Resistance(MΩ)\")\n",
    "plt.savefig(plot_path + \"adam_ri.jpeg\", bbox_inches=\"tight\")"
   ]
  },
  {
   "cell_type": "code",
   "execution_count": null,
   "metadata": {},
   "outputs": [],
   "source": [
    "f, axes = plt.subplots(figsize=(5,5))\n",
    "ax = sns.violinplot(x=\"apical_length\", y=\"upstroke_downstroke_ratio_long_square\", \n",
    "                    data=morpha, order=v_colors, palette=v_colors,\n",
    "                    scale=\"count\", inner=\"box\", saturation=1, linewidth=2)\n",
    "ax.set_xlabel(\"Morpho Type\")\n",
    "ax.set_ylabel(\"LS AP up/downstoke\")\n",
    "plt.savefig(plot_path + \"adam_ud.jpeg\", bbox_inches=\"tight\")"
   ]
  },
  {
   "cell_type": "code",
   "execution_count": null,
   "metadata": {},
   "outputs": [],
   "source": [
    "f, axes = plt.subplots(figsize=(5,5))\n",
    "ax = sns.violinplot(x=\"apical_length\", y=\"f_i_curve_slope\", data=morpha, order=v_colors, palette=v_colors,\n",
    "                    scale=\"count\", inner=\"box\", saturation=1, linewidth=2)\n",
    "ax.set_xlabel(\"Morpho Type\")\n",
    "ax.set_ylabel(\"F-I Curve\")\n",
    "plt.savefig(plot_path + \"adam_fi.jpeg\", bbox_inches=\"tight\")"
   ]
  },
  {
   "cell_type": "code",
   "execution_count": null,
   "metadata": {},
   "outputs": [],
   "source": [
    "f, axes = plt.subplots(figsize=(5,5))\n",
    "ax = sns.violinplot(x=\"apical_length\", y=\"sag\", data=morpha, order=v_colors, palette=v_colors,\n",
    "                    scale=\"count\", inner=\"box\", saturation=1, linewidth=2)\n",
    "ax.set_xlabel(\"Morpho Type\")\n",
    "ax.set_ylabel(\"Sag Fraction\")\n",
    "plt.savefig(plot_path + \"adam_sf.jpeg\", bbox_inches=\"tight\")"
   ]
  },
  {
   "cell_type": "markdown",
   "metadata": {},
   "source": [
    "##### L6 CT VISp Ctxn3 Brinp3"
   ]
  },
  {
   "cell_type": "code",
   "execution_count": null,
   "metadata": {},
   "outputs": [],
   "source": [
    "f, axes = plt.subplots(figsize=(5,5))\n",
    "ax = sns.violinplot(x=\"apical_length\", y=\"vrest\", data=morphb, order=v_colors, palette=v_colors,\n",
    "                    scale=\"count\", inner=\"box\", saturation=1, linewidth=2)\n",
    "ax.set_xlabel(\"Morpho Type\")\n",
    "ax.set_ylabel(\"Vm(mV)\")\n",
    "plt.savefig(plot_path + \"brin_vm.jpeg\", bbox_inches=\"tight\")"
   ]
  },
  {
   "cell_type": "code",
   "execution_count": null,
   "metadata": {},
   "outputs": [],
   "source": [
    "f, axes = plt.subplots(figsize=(5,5))\n",
    "ax = sns.violinplot(x=\"apical_length\", y=\"ri\", data=morphb, order=v_colors, palette=v_colors,\n",
    "                    scale=\"count\", inner=\"box\", saturation=1, linewidth=2)\n",
    "ax.set_xlabel(\"Morpho Type\")\n",
    "ax.set_ylabel(\"Input Resistance(MΩ)\")\n",
    "plt.savefig(plot_path + \"brin_ri.jpeg\", bbox_inches=\"tight\")"
   ]
  },
  {
   "cell_type": "code",
   "execution_count": null,
   "metadata": {},
   "outputs": [],
   "source": [
    "f, axes = plt.subplots(figsize=(5,5))\n",
    "ax = sns.violinplot(x=\"apical_length\", y=\"upstroke_downstroke_ratio_long_square\",\n",
    "                    data=morphb, order=v_colors, palette=v_colors,\n",
    "                    scale=\"count\", inner=\"box\", saturation=1, linewidth=2)\n",
    "ax.set_xlabel(\"Morpho Type\")\n",
    "ax.set_ylabel(\"LS AP up/downstoke\")\n",
    "plt.savefig(plot_path + \"brin_ud.jpeg\", bbox_inches=\"tight\")"
   ]
  },
  {
   "cell_type": "code",
   "execution_count": null,
   "metadata": {},
   "outputs": [],
   "source": [
    "f, axes = plt.subplots(figsize=(5,5))\n",
    "ax = sns.violinplot(x=\"apical_length\", y=\"f_i_curve_slope\", data=morphb, order=v_colors, palette=v_colors,\n",
    "                    scale=\"count\", inner=\"box\", saturation=1, linewidth=2)\n",
    "ax.set_xlabel(\"Morpho Type\")\n",
    "ax.set_ylabel(\"F-I Curve\")\n",
    "plt.savefig(plot_path + \"brin_fi.jpeg\", bbox_inches=\"tight\")"
   ]
  },
  {
   "cell_type": "code",
   "execution_count": null,
   "metadata": {},
   "outputs": [],
   "source": [
    "f, axes = plt.subplots(figsize=(5,5))\n",
    "ax = sns.violinplot(x=\"apical_length\", y=\"sag\", data=morphb, order=v_colors, palette=v_colors,\n",
    "                    scale=\"count\", inner=\"box\", saturation=1, linewidth=2)\n",
    "ax.set_xlabel(\"Morpho Type\")\n",
    "ax.set_ylabel(\"Sag Fraction\")\n",
    "plt.savefig(plot_path + \"brin_sf.jpeg\", bbox_inches=\"tight\")"
   ]
  },
  {
   "cell_type": "code",
   "execution_count": null,
   "metadata": {},
   "outputs": [],
   "source": []
  }
 ],
 "metadata": {
  "kernelspec": {
   "display_name": "Python 3",
   "language": "python",
   "name": "python3"
  },
  "language_info": {
   "codemirror_mode": {
    "name": "ipython",
    "version": 3
   },
   "file_extension": ".py",
   "mimetype": "text/x-python",
   "name": "python",
   "nbconvert_exporter": "python",
   "pygments_lexer": "ipython3",
   "version": "3.7.4"
  }
 },
 "nbformat": 4,
 "nbformat_minor": 2
}
