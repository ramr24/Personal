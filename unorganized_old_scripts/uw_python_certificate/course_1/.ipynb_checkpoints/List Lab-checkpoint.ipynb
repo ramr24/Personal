{
 "cells": [
  {
   "cell_type": "code",
   "execution_count": null,
   "metadata": {},
   "outputs": [],
   "source": [
    "\"\"\"\n",
    "Goal: Learn the basic ins and outs of Python lists.\n",
    "\n",
    "Series 1: DONE\n",
    "DONE-Create a list that contains “Apples”, “Pears”, “Oranges” and “Peaches”.\n",
    "DONE-Display the list (plain old print() is fine…).\n",
    "DONE-Ask the user for another fruit and add it to the end of the list.\n",
    "DONE-Display the list.\n",
    "DONE-Ask the user for a number and display the number back to the user and the fruit corresponding to that number (on a 1-is-first basis). Remember that Python uses zero-based indexing, so you will need to correct.\n",
    "DONE-Add another fruit to the beginning of the list using “+” and display the list.\n",
    "DONE-Add another fruit to the beginning of the list using insert() and display the list.\n",
    "DONE-Display all the fruits that begin with “P”, using a for loop.\n",
    "\n",
    "Series 2: DONE\n",
    "Using the list created in series 1 above:\n",
    "\n",
    "DONE-Display the list.\n",
    "DONE-Remove the last fruit from the list.\n",
    "DONE-Display the list.\n",
    "DONE-Ask the user for a fruit to delete, find it and delete it.\n",
    "INCOMPLETE-(Bonus: Multiply the list times two. Keep asking until a match is found. Once found, delete all occurrences.)\n",
    "\n",
    "Series 3:\n",
    "Again, using the list from series 1:\n",
    "\n",
    "-Ask the user for input displaying a line like “Do you like apples?” for each fruit in the list (making the fruit all lowercase).\n",
    "DONE-For each “no”, delete that fruit from the list.\n",
    "-For any answer that is not “yes” or “no”, prompt the user to answer with one of those two values (a while loop is good here)\n",
    "DONE-Display the list.\n",
    "\n",
    "Series 4:\n",
    "Once more, using the list from series 1:\n",
    "\n",
    "-Make a new list with the contents of the original, but with all the letters in each item reversed.\n",
    "-Delete the last item of the original list. Display the original list and the copy.\n",
    "\"\"\""
   ]
  },
  {
   "cell_type": "markdown",
   "metadata": {},
   "source": [
    "### Series 1"
   ]
  },
  {
   "cell_type": "code",
   "execution_count": null,
   "metadata": {},
   "outputs": [],
   "source": [
    "list1 = [\"Apples\", \"Pears\", \"Oranges\", \"Peaches\"] #Create a list\n",
    "print(list1) #Display list\n",
    "\n",
    "fruit = str(input(\"Enter the fruit to add to the list: \")) #Ask user to add fruit to list\n",
    "list1.append(fruit) #Add fruit to end of list\n",
    "print(list1) #Display list \n",
    "\n",
    "num = int(input(\"Enter the number to choose the fruit from the list: \")) #Ask user to choose number for fruit\n",
    "num -= 1 #Using -1 since items in list is chosen from index of 0\n",
    "if num < 0 : \n",
    "    print(\"Please enter a number of 1 or above.\") #User can't choose 0 as an option\n",
    "else:\n",
    "    print(list1[num]) #Display list\n",
    "    \n",
    "list2 = [\"Pineapple\"] #Creating a new list to add item to existing list\n",
    "list1 = list2 + list1 #Adding item to the beginning of the list\n",
    "print(list1) #Display list\n",
    "\n",
    "list1.insert(0, \"Watermelon\") #Using insert to add item to beginning of list\n",
    "list1 #Display list\n",
    "\n",
    "for fruit in list1: #For every fruit in the list\n",
    "    if fruit.startswith(\"P\"): #If statement looks for fruits that start with P\n",
    "        print(fruit) #Prints the fruit from the list"
   ]
  },
  {
   "cell_type": "markdown",
   "metadata": {},
   "source": [
    "### Series 2"
   ]
  },
  {
   "cell_type": "code",
   "execution_count": null,
   "metadata": {},
   "outputs": [],
   "source": [
    "list1 = [\"Apples\", \"Pears\", \"Oranges\", \"Peaches\"] #Create a list\n",
    "print(list1) #Display list\n",
    "\n",
    "list1.pop() #removes last item in list\n",
    "print(list1)\n",
    "\n",
    "answer = str(input(\"Enter the name of the fruit to delete: \"))\n",
    "if answer == \"Apples\":\n",
    "    list1.remove(\"Apples\")\n",
    "elif answer == \"Pears\":\n",
    "    list1.remove(\"Pears\")\n",
    "elif answer == \"Oranges\":\n",
    "    list1.remove(\"Oranges\")\n",
    "elif answer == \"Peaches\":\n",
    "    list1.remove(\"Peaches\")\n",
    "else:\n",
    "    print(\"Please choose a fruit to delete that is within the list.\")\n",
    "print(list1)"
   ]
  },
  {
   "cell_type": "markdown",
   "metadata": {},
   "source": [
    "### Series 3"
   ]
  },
  {
   "cell_type": "code",
   "execution_count": null,
   "metadata": {},
   "outputs": [],
   "source": [
    "list1 = [\"Apples\", \"Pears\", \"Oranges\", \"Peaches\"] #Create a list\n",
    "print(list1) #Display list\n",
    "\n",
    "while True:\n",
    "    answer = str(input(\"Do you like apples? \"))\n",
    "    if answer == \"no\":\n",
    "        list1.remove(\"Apples\")\n",
    "        print(list1)\n",
    "\n",
    "    answer = str(input(\"Do you like pears? \"))\n",
    "    if answer == \"no\":\n",
    "        list1.remove(\"Pears\")\n",
    "        print(list1)\n",
    "\n",
    "    answer = str(input(\"Do you like oranges? \"))\n",
    "    if answer == \"no\":\n",
    "        list1.remove(\"Oranges\")\n",
    "        print(list1)\n",
    "\n",
    "    answer = str(input(\"Do you like peaches? \"))\n",
    "    if answer == \"no\":\n",
    "        list1.remove(\"Peaches\")\n",
    "        print(list1)\n",
    "    else:\n",
    "        print(\"Please answer between yes or no.\")"
   ]
  },
  {
   "cell_type": "markdown",
   "metadata": {},
   "source": [
    "### Series 4"
   ]
  },
  {
   "cell_type": "code",
   "execution_count": 31,
   "metadata": {},
   "outputs": [
    {
     "name": "stdout",
     "output_type": "stream",
     "text": [
      "['Apples', 'Pears', 'Oranges', 'Peaches']\n",
      "('selppA', 'sraeP', 'segnarO', 'sehcaeP')\n"
     ]
    }
   ],
   "source": [
    "list1 = [\"Apples\", \"Pears\", \"Oranges\", \"Peaches\"] #Create a list\n",
    "print(list1) #Display list\n",
    "\n",
    "reverse = (list1[0][::-1], list1[1][::-1], list1[2][::-1], list1[3][::-1])\n",
    "print(reverse)"
   ]
  },
  {
   "cell_type": "code",
   "execution_count": null,
   "metadata": {},
   "outputs": [],
   "source": []
  }
 ],
 "metadata": {
  "kernelspec": {
   "display_name": "Python 3",
   "language": "python",
   "name": "python3"
  },
  "language_info": {
   "codemirror_mode": {
    "name": "ipython",
    "version": 3
   },
   "file_extension": ".py",
   "mimetype": "text/x-python",
   "name": "python",
   "nbconvert_exporter": "python",
   "pygments_lexer": "ipython3",
   "version": "3.6.5"
  }
 },
 "nbformat": 4,
 "nbformat_minor": 2
}
