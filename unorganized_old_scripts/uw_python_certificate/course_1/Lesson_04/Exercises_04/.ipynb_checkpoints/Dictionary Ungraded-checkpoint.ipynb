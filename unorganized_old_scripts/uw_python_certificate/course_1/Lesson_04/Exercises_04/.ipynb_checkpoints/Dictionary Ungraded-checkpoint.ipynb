{
 "cells": [
  {
   "cell_type": "code",
   "execution_count": 1,
   "metadata": {},
   "outputs": [
    {
     "data": {
      "text/plain": [
       "'\\nDictionaries 1\\nCreate a dictionary containing “name”, “city”, and “cake” for “Chris” from “Seattle” who likes “Chocolate” (so the keys should be: “name”, etc, and values: “Chris”, etc.)\\nDisplay the dictionary.\\nDelete the entry for “cake”.\\nDisplay the dictionary.\\nAdd an entry for “fruit” with “Mango” and display the dictionary.\\nDisplay the dictionary keys.\\nDisplay the dictionary values.\\nDisplay whether or not “cake” is a key in the dictionary (i.e. False) (now).\\nDisplay whether or not “Mango” is a value in the dictionary (i.e. True).\\nDictionaries 2\\nUsing the dictionary from item 1: Make a dictionary using the same keys but with the number of ‘t’s in each value as the value (consider upper and lower case?).\\nSets\\nCreate sets s2, s3 and s4 that contain numbers from zero through twenty, divisible by 2, 3 and 4.\\nDisplay the sets.\\nDisplay if s3 is a subset of s2 (False)\\nand if s4 is a subset of s2 (True).\\nSets 2\\nCreate a set with the letters in ‘Python’ and add ‘i’ to the set.\\nCreate a frozenset with the letters in ‘marathon’.\\ndisplay the union and intersection of the two sets.\\n'"
      ]
     },
     "execution_count": 1,
     "metadata": {},
     "output_type": "execute_result"
    }
   ],
   "source": [
    "\"\"\"\n",
    "Dictionaries 1--DONE\n",
    "DONE--Create a dictionary containing “name”, “city”, and “cake” for “Chris” from “Seattle” who likes “Chocolate” (so the keys should be: “name”, etc, and values: “Chris”, etc.)\n",
    "DONE--Display the dictionary.\n",
    "DONE--Delete the entry for “cake”.\n",
    "DONE--Display the dictionary.\n",
    "DONE--Add an entry for “fruit” with “Mango” and display the dictionary.\n",
    "DONE--Display the dictionary keys.\n",
    "DONE--Display the dictionary values.\n",
    "DONE--Display whether or not “cake” is a key in the dictionary (i.e. False) (now).\n",
    "DONE--Display whether or not “Mango” is a value in the dictionary (i.e. True).\n",
    "\n",
    "\n",
    "Dictionaries 2\n",
    "Using the dictionary from item 1: Make a dictionary using the same keys but with the number of ‘t’s in each value as the value (consider upper and lower case?).\n",
    "\n",
    "Sets\n",
    "Create sets s2, s3 and s4 that contain numbers from zero through twenty, divisible by 2, 3 and 4.\n",
    "Display the sets.\n",
    "Display if s3 is a subset of s2 (False)\n",
    "and if s4 is a subset of s2 (True).\n",
    "\n",
    "Sets 2\n",
    "Create a set with the letters in ‘Python’ and add ‘i’ to the set.\n",
    "Create a frozenset with the letters in ‘marathon’.\n",
    "display the union and intersection of the two sets.\n",
    "\"\"\""
   ]
  },
  {
   "cell_type": "markdown",
   "metadata": {},
   "source": [
    "### Dictionaries 1"
   ]
  },
  {
   "cell_type": "code",
   "execution_count": 23,
   "metadata": {},
   "outputs": [
    {
     "name": "stdout",
     "output_type": "stream",
     "text": [
      "{'name': 'Chris', 'city': 'Seattle', 'cake': 'Chocolate'}\n"
     ]
    }
   ],
   "source": [
    "dict_1 = {\"name\": \"Chris\", \"city\": \"Seattle\", \"cake\": \"Chocolate\"}\n",
    "print(dict_1)"
   ]
  },
  {
   "cell_type": "code",
   "execution_count": 24,
   "metadata": {},
   "outputs": [
    {
     "data": {
      "text/plain": [
       "{'name': 'Chris', 'city': 'Seattle'}"
      ]
     },
     "execution_count": 24,
     "metadata": {},
     "output_type": "execute_result"
    }
   ],
   "source": [
    "dict_1.popitem() #pop off last item\n",
    "#dict_1.pop(\"cake\")\n",
    "dict_1"
   ]
  },
  {
   "cell_type": "code",
   "execution_count": 25,
   "metadata": {},
   "outputs": [
    {
     "data": {
      "text/plain": [
       "{'name': 'Chris', 'city': 'Seattle', 'fruit': 'Mango'}"
      ]
     },
     "execution_count": 25,
     "metadata": {},
     "output_type": "execute_result"
    }
   ],
   "source": [
    "dict_1[\"fruit\"] = \"Mango\" #Add new item to the end of the dictionary\n",
    "dict_1"
   ]
  },
  {
   "cell_type": "code",
   "execution_count": 26,
   "metadata": {},
   "outputs": [
    {
     "data": {
      "text/plain": [
       "dict_keys(['name', 'city', 'fruit'])"
      ]
     },
     "execution_count": 26,
     "metadata": {},
     "output_type": "execute_result"
    }
   ],
   "source": [
    "dict_1.keys()"
   ]
  },
  {
   "cell_type": "code",
   "execution_count": 27,
   "metadata": {},
   "outputs": [
    {
     "data": {
      "text/plain": [
       "dict_values(['Chris', 'Seattle', 'Mango'])"
      ]
     },
     "execution_count": 27,
     "metadata": {},
     "output_type": "execute_result"
    }
   ],
   "source": [
    "dict_1.values()"
   ]
  },
  {
   "cell_type": "code",
   "execution_count": 31,
   "metadata": {},
   "outputs": [
    {
     "data": {
      "text/plain": [
       "False"
      ]
     },
     "execution_count": 31,
     "metadata": {},
     "output_type": "execute_result"
    }
   ],
   "source": [
    "\"cake\" in dict_1.keys()"
   ]
  },
  {
   "cell_type": "code",
   "execution_count": 30,
   "metadata": {},
   "outputs": [
    {
     "data": {
      "text/plain": [
       "True"
      ]
     },
     "execution_count": 30,
     "metadata": {},
     "output_type": "execute_result"
    }
   ],
   "source": [
    "\"Mango\" in dict_1.values()"
   ]
  },
  {
   "cell_type": "markdown",
   "metadata": {},
   "source": [
    "### Dictionaries 2"
   ]
  },
  {
   "cell_type": "code",
   "execution_count": null,
   "metadata": {},
   "outputs": [],
   "source": []
  },
  {
   "cell_type": "code",
   "execution_count": null,
   "metadata": {},
   "outputs": [],
   "source": []
  },
  {
   "cell_type": "code",
   "execution_count": null,
   "metadata": {},
   "outputs": [],
   "source": []
  }
 ],
 "metadata": {
  "kernelspec": {
   "display_name": "Python 3",
   "language": "python",
   "name": "python3"
  },
  "language_info": {
   "codemirror_mode": {
    "name": "ipython",
    "version": 3
   },
   "file_extension": ".py",
   "mimetype": "text/x-python",
   "name": "python",
   "nbconvert_exporter": "python",
   "pygments_lexer": "ipython3",
   "version": "3.6.5"
  }
 },
 "nbformat": 4,
 "nbformat_minor": 2
}
