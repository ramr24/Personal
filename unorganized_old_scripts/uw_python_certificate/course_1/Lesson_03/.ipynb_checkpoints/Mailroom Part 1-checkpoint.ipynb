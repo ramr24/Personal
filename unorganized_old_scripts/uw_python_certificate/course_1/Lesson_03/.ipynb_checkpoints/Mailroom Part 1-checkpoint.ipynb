{
 "cells": [
  {
   "cell_type": "markdown",
   "metadata": {},
   "source": [
    "### Mailroom Part 1"
   ]
  },
  {
   "cell_type": "code",
   "execution_count": null,
   "metadata": {},
   "outputs": [],
   "source": [
    "\"\"\"You work in the mail room at a local charity. \n",
    "Part of your job is to write incredibly boring, \n",
    "repetitive emails thanking your donors for their \n",
    "generous gifts. You are tired of doing this over \n",
    "and over again, so you’ve decided to let Python \n",
    "help you out of a jam and do your work for you.\"\"\""
   ]
  },
  {
   "cell_type": "code",
   "execution_count": null,
   "metadata": {},
   "outputs": [],
   "source": [
    "\"\"\"\n",
    "Program Part 1:\n",
    "Write a small command-line script called mailroom.py. \n",
    "This script should be executable. The script should \n",
    "accomplish the following goals:\n",
    "\n",
    "It should have a data structure that holds a list of \n",
    "your donors and a history of the amounts they have donated. \n",
    "This structure should be populated at first with at least five \n",
    "donors, with between 1 and 3 donations each. \n",
    "You can store that data structure in the global namespace.\n",
    "The script should prompt the user (you) to choose from a \n",
    "menu of 3 actions: “Send a Thank You”, “Create a Report” or “quit”.\n",
    "\"\"\""
   ]
  },
  {
   "cell_type": "code",
   "execution_count": null,
   "metadata": {},
   "outputs": [],
   "source": [
    "\"\"\"\n",
    "Send a Thank You:\n",
    "\n",
    "-If the user (you) selects “Send a Thank You” option, prompt for a Full Name.\n",
    "-If the user types list show them a list of the donor names and re-prompt.\n",
    "-If the user types a name not in the list, add that name to the data structure and use it.\n",
    "-If the user types a name in the list, use it.\n",
    "-Once a name has been selected, prompt for a donation amount.\n",
    "-Convert the amount into a number; it is OK at this point for the program to crash if someone types a bogus amount.\n",
    "-Add that amount to the donation history of the selected user.\n",
    "-Finally, use string formatting to compose an email thanking the donor for their generous donation. Print the email to the terminal and return to the original prompt.\n",
    "-It is fine (for now) for the program not to store the names of the new donors that had been added, in other words, to forget new donors once the script quits running.\n",
    "\n",
    "\"\"\""
   ]
  },
  {
   "cell_type": "code",
   "execution_count": null,
   "metadata": {},
   "outputs": [],
   "source": [
    "\"\"\"\n",
    "Create a Report:\n",
    "\n",
    "If the user (you) selected “Create a Report,” print a list of your donors, sorted by total historical donation amount.\n",
    "Include Donor Name, total donated, number of donations, and average donation amount as values in each row. You do not need to print out all of each donor’s donations, just the summary info.\n",
    "Using string formatting, format the output rows as nicely as possible. The end result should be tabular (values in each column should align with those above and below).\n",
    "After printing this report, return to the original prompt.\n",
    "At any point, the user should be able to quit their current task and return to the original prompt.\n",
    "From the original prompt, the user should be able to quit the script cleanly.\n",
    "\n",
    "\"\"\""
   ]
  },
  {
   "cell_type": "code",
   "execution_count": null,
   "metadata": {},
   "outputs": [],
   "source": [
    "\"\"\"\n",
    "Guidelines:\n",
    "\n",
    "First, factor your script into separate functions. Each of the above tasks can be accomplished by a series of steps. \n",
    "Write discreet functions that accomplish individual steps and call them.\n",
    "Second, use loops to control the logical flow of your program. Interactive programs are a classic use case for the while loop.\n",
    "Of course, input() will be useful here.\n",
    "Put the functions you write into the script at the top.\n",
    "Put your main interaction into an if __name__ == '__main__' block.\n",
    "Finally, for Part 1 use only functions and the basic Python data types you’ve learned about so far in Lessons 1-3. \n",
    "There is no need to go any farther than that for this assignment.\n",
    "\"\"\""
   ]
  },
  {
   "cell_type": "code",
   "execution_count": null,
   "metadata": {},
   "outputs": [],
   "source": [
    "\"\"\"\n",
    "End Result:\n",
    "\n",
    "Donor Name                | Total Given | Num Gifts | Average Gift\n",
    "------------------------------------------------------------------\n",
    "William Gates, III         $  653784.49           2  $   326892.24\n",
    "Mark Zuckerberg            $   16396.10           3  $     5465.37\n",
    "Jeff Bezos                 $     877.33           1  $      877.33\n",
    "Paul Allen                 $     708.42           3  $      236.14\n",
    "\n",
    "\"\"\""
   ]
  },
  {
   "cell_type": "markdown",
   "metadata": {},
   "source": [
    "### Solution"
   ]
  },
  {
   "cell_type": "code",
   "execution_count": null,
   "metadata": {},
   "outputs": [],
   "source": [
    "#Mailroom Part 1"
   ]
  },
  {
   "cell_type": "code",
   "execution_count": 1,
   "metadata": {},
   "outputs": [
    {
     "data": {
      "text/plain": [
       "[('Jeff Bezos', [877.33]),\n",
       " ('Mark Zuckerberg', [1663.23, 4300.87, 10432.0]),\n",
       " ('Paul Allen', [663.23, 43.87, 1.32]),\n",
       " ('Ramkumar Rajanbabu', [200.3, 50.1, 5.25]),\n",
       " ('William Gates, III', [653772.32, 12.17])]"
      ]
     },
     "execution_count": 1,
     "metadata": {},
     "output_type": "execute_result"
    }
   ],
   "source": [
    "import sys\n",
    "\n",
    "donor_db = [(\"William Gates, III\", [653772.32, 12.17]),\n",
    "            (\"Jeff Bezos\", [877.33]),\n",
    "            (\"Paul Allen\", [663.23, 43.87, 1.32]),\n",
    "            (\"Mark Zuckerberg\", [1663.23, 4300.87, 10432.0]),\n",
    "            (\"Ramkumar Rajanbabu\", [200.30, 50.10, 5.25])]\n",
    "\n",
    "def sort_key(donor_db):\n",
    "    return donor_db[0] #0 sort by name, 1 sort by num values\n",
    "\n",
    "sorted(donor_db, key=sort_key)"
   ]
  },
  {
   "cell_type": "code",
   "execution_count": 6,
   "metadata": {},
   "outputs": [
    {
     "data": {
      "text/plain": [
       "('William Gates, III', [653772.32, 12.17])"
      ]
     },
     "execution_count": 6,
     "metadata": {},
     "output_type": "execute_result"
    }
   ],
   "source": [
    "donor_db[0]"
   ]
  },
  {
   "cell_type": "code",
   "execution_count": 5,
   "metadata": {},
   "outputs": [
    {
     "name": "stdout",
     "output_type": "stream",
     "text": [
      "Enter full name of donor or type 'list': Ramkumar Rajanbabu\n"
     ]
    }
   ],
   "source": [
    "d_name = input(\"Enter full name of donor or type 'list': \")\n",
    "if d_name in donor_db[0]:\n",
    "    t_amount = float(input(\"Enter donation amount: \"))\n",
    "    \"Thank you {:s}, for the generous donation.\".format(d_name)"
   ]
  },
  {
   "cell_type": "code",
   "execution_count": null,
   "metadata": {},
   "outputs": [],
   "source": []
  },
  {
   "cell_type": "code",
   "execution_count": null,
   "metadata": {},
   "outputs": [],
   "source": []
  },
  {
   "cell_type": "code",
   "execution_count": null,
   "metadata": {},
   "outputs": [],
   "source": [
    "def view_donor_list():\n",
    "    \"\"\"To view donor names in a vertical list.\n",
    "    \n",
    "    Args:\n",
    "        None\n",
    "    Returns:\n",
    "        None\n",
    "\n",
    "    \"\"\"\n",
    "    print(\"List of Donor Names:\")\n",
    "    for donor_name in donor_db: #To print list vertically\n",
    "        print(donor_name[0]) #zeroth index has donor names\n",
    "\n",
    "def create_report(donor_name, total_given, num_gifts, average_gift):\n",
    "    title_string = \"{:<25s} | {:s} | {:s} | {:s}\".format(\"Donor Name\", \"Total Given\", \"Num Gifts\", \"Average Gift\")\n",
    "    title_bar = len(title_string) * \"-\"\n",
    "    f_string = \"{:<25s}  ${:>11.2f}  {:>10d}  ${:>12.2f}\".format(donor_name, total_given, num_gifts, average_gift)\n",
    "\n",
    "    print(title_string)\n",
    "    print(title_bar)\n",
    "    print(f_string)\n",
    "    \n",
    "def exit_program():\n",
    "    print(\"You chose to quit the program, good-bye!\")\n",
    "    sys.exit() #Exit script\n",
    "    \n",
    "prompt = \"\\n\".join((\"Menu: \",\n",
    "                    \"Please choose from below options:\",\n",
    "                    \"1 - Send a Thank You\",\n",
    "                    \"2 - Create a Report\",\n",
    "                    \"3 - Quit\",\n",
    "                    \">>> \"))\n",
    "\n",
    "while True:\n",
    "    response = input(prompt)  # continuously collect user selection\n",
    "    if response == \"1\": #Send a Thank You\n",
    "        d_name = input(\"Enter full name of donor or type 'list': \")\n",
    "        if d_name == \"list\":\n",
    "            print()\n",
    "            view_donor_list()\n",
    "        elif d_name not in donor_db:\n",
    "            donor_db.append((d_name,))\n",
    "        elif d_name in donor_db:\n",
    "            t_amount = float(input(\"Enter donation amount: \"))\n",
    "            \"Thank you {:s}, for the generous donation.\".format(d_name)\n",
    "    elif response == \"2\": #Create a Report\n",
    "        print(\"Hi\")\n",
    "    elif response == \"3\": #Quit\n",
    "        exit_program()\n",
    "    else:\n",
    "        print(\"Please enter a valid option! (1-3)\")            \n",
    "            \n",
    "\"\"\"\n",
    "if response == 1:\n",
    "    response_list = input(\"Do you want to view the donor list?: )\n",
    "    if response_list == \"yes\":\n",
    "        print(\"\\n\".join(donor_list))\n",
    "    else: \n",
    "\n",
    "\n",
    "elif d_response not in donor_list:\n",
    "    donor_list.append(d_response)\n",
    "elif d_response in donor_list:\n",
    "    t_response = input(\"Enter donation amount: \")\n",
    "\"\"\""
   ]
  },
  {
   "cell_type": "code",
   "execution_count": null,
   "metadata": {},
   "outputs": [],
   "source": [
    "#Send a Thank You\n",
    "d_response = input(\"Enter the full name of donor or view a list(type 'list'): \")\n",
    "\n",
    "\n",
    "if d_response == \"list\":\n",
    "    print(donor_list)\n",
    "elif d_response not in donor_list:\n",
    "    donor_list.append(d_response)\n",
    "elif d_response in donor_list:\n",
    "    t_response = input(\"Enter donation amount: \")\n",
    "    \n"
   ]
  },
  {
   "cell_type": "markdown",
   "metadata": {},
   "source": [
    "### Example"
   ]
  },
  {
   "cell_type": "code",
   "execution_count": null,
   "metadata": {},
   "outputs": [],
   "source": [
    "import sys  # imports go at the top of the file\n",
    "\n",
    "\n",
    "fruits = ['Apples', 'Oranges', 'Pears']\n",
    "\n",
    "prompt = \"\\n\".join((\"Welcome to the fruit stand!\",\n",
    "          \"Please choose from below options:\",\n",
    "          \"1 - View fruits\",\n",
    "          \"2 - Add a fruit\",\n",
    "          \"3 - Remove a fruit\",\n",
    "          \"4 - Exit\",\n",
    "          \">>> \"))\n",
    "\n",
    "\n",
    "def view_fruits():\n",
    "    print(\"\\n\".join(fruits))\n",
    "\n",
    "\n",
    "def add_fruit():\n",
    "    new_fruit = input(\"Name of the fruit to add?\").title()\n",
    "    fruits.append(new_fruit)\n",
    "\n",
    "\n",
    "def remove_fruit():\n",
    "    purge_fruit = input(\"Name of the fruit to remove?\").title()\n",
    "    if purge_fruit not in fruits:\n",
    "        print(\"This fruit does not exist!\")\n",
    "    else:\n",
    "        fruits.remove(purge_fruit)\n",
    "\n",
    "def exit_program():\n",
    "    print(\"Bye!\")\n",
    "    sys.exit()  # exit the interactive script\n",
    "\n",
    "\n",
    "def main():\n",
    "    while True:\n",
    "        response = input(prompt)  # continuously collect user selection\n",
    "        # now redirect to feature functions based on the user selection\n",
    "        if response == \"1\":\n",
    "            view_fruits()\n",
    "        elif response == \"2\":\n",
    "            add_fruit()\n",
    "        elif response == \"3\":\n",
    "            remove_fruit()\n",
    "        elif response == \"4\":\n",
    "            exit_program()\n",
    "        else:\n",
    "            print(\"Not a valid option!\")\n",
    "\n",
    "\n",
    "if __name__ == \"__main__\":\n",
    "    # don't forget this block to guard against your code running automatically if this module is imported\n",
    "    main()"
   ]
  },
  {
   "cell_type": "code",
   "execution_count": null,
   "metadata": {},
   "outputs": [],
   "source": []
  },
  {
   "cell_type": "code",
   "execution_count": null,
   "metadata": {},
   "outputs": [],
   "source": []
  },
  {
   "cell_type": "code",
   "execution_count": null,
   "metadata": {},
   "outputs": [],
   "source": []
  }
 ],
 "metadata": {
  "kernelspec": {
   "display_name": "Python 3",
   "language": "python",
   "name": "python3"
  },
  "language_info": {
   "codemirror_mode": {
    "name": "ipython",
    "version": 3
   },
   "file_extension": ".py",
   "mimetype": "text/x-python",
   "name": "python",
   "nbconvert_exporter": "python",
   "pygments_lexer": "ipython3",
   "version": "3.6.5"
  }
 },
 "nbformat": 4,
 "nbformat_minor": 2
}
