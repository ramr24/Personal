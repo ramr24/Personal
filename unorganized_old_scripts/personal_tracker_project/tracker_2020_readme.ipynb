{
 "cells": [
  {
   "cell_type": "markdown",
   "metadata": {},
   "source": [
    "# Personal Tracker 2020"
   ]
  },
  {
   "cell_type": "code",
   "execution_count": null,
   "metadata": {},
   "outputs": [],
   "source": [
    "\"\"\"\n",
    "How to keep track in notebook:\n",
    "-Last two digits on ID specifies hemisphere (01 = left, 02 = right)\n",
    "\n",
    "***Mouse Example***\n",
    "ID: 123456.01.02\n",
    "HW: EPhys_200101_01_A01_M\n",
    "Rec: 3\n",
    "\n",
    "***Human Example***\n",
    "Case: Acute or Culture\n",
    "ID:___________      Start:_____\n",
    "HW:___________      End:_______\n",
    "Region:_______      Hours:_____\n",
    "\n",
    "Rec: #\n",
    "1) NA\n",
    "2) 451\n",
    "3) 452\n",
    "#) Fail rec\n",
    "\"\"\""
   ]
  },
  {
   "cell_type": "code",
   "execution_count": null,
   "metadata": {},
   "outputs": [],
   "source": [
    "\"\"\"\n",
    "*Check fill immediately after placing tube sample in dry ice (within a minute)\n",
    "\n",
    "Comments to write for extraction.extractionNotes:\n",
    "#fill_quality_3: high visibility of the fill (no or very little truncations with intact dendrites) \n",
    "#fill_quality_2: medium visibility of the fill (some truncations with some intact dendrites)\n",
    "#fill_quality_1: low visibility of the fill (heavily truncated or fill leaking)\n",
    "#fill_quality_0: No fill or plume\n",
    "\"\"\""
   ]
  },
  {
   "cell_type": "code",
   "execution_count": null,
   "metadata": {},
   "outputs": [],
   "source": [
    "\"\"\"\n",
    "*Tips for patching in Mouse and Human:\n",
    "\n",
    "***Mouse***\n",
    "-Pipette size = 4-5 MOhms\n",
    "-Postive pressure = 80 mbar\n",
    "-Negative pressure = -20 to -40 mbar\n",
    "\n",
    "***Human (Acute/Culture)***\n",
    "-Pipette size = 3-4 MOhms\n",
    "-Postive pressure = 90 mbar\n",
    "-Negative pressure = -50 to -70 mbar\n",
    "\n",
    "***Human Culture Tips***\n",
    "-Use PCS4_YYMMDD_451_A01 for culture recordings\n",
    "-Use teal light to identify fluorescent culture cells\n",
    "-Resting membrane potential set at -60 to -65 mV\n",
    "\"\"\""
   ]
  },
  {
   "cell_type": "code",
   "execution_count": null,
   "metadata": {},
   "outputs": [],
   "source": [
    "\"\"\"\n",
    "Full Coronal slice:\n",
    "-Left hemi has a notch at the bottom half of slice\n",
    "\"\"\""
   ]
  },
  {
   "cell_type": "markdown",
   "metadata": {},
   "source": [
    "##### Additional Scripts"
   ]
  },
  {
   "cell_type": "code",
   "execution_count": null,
   "metadata": {},
   "outputs": [],
   "source": [
    "\"\"\"\n",
    "tracker_2020_counts: shows the counts for 2020\n",
    "    - mouse, human acute, human culture \n",
    "    - nucleus present vs absent\n",
    "tracker_2020_morph: shows the morphology results for 2020\n",
    "    - 63x go vs no go\n",
    "    - possible reconstructions vs reconstructed cells\n",
    "tracker_2020_trans: shows the transcriptomic results for 2020\n",
    "    - heatmap with ephys results vs regions\n",
    "    - subclass countplot\n",
    "    - seurat cluster countplot\n",
    "\"\"\""
   ]
  },
  {
   "cell_type": "code",
   "execution_count": null,
   "metadata": {},
   "outputs": [],
   "source": []
  },
  {
   "cell_type": "code",
   "execution_count": null,
   "metadata": {},
   "outputs": [],
   "source": []
  }
 ],
 "metadata": {
  "kernelspec": {
   "display_name": "Python 3",
   "language": "python",
   "name": "python3"
  },
  "language_info": {
   "codemirror_mode": {
    "name": "ipython",
    "version": 3
   },
   "file_extension": ".py",
   "mimetype": "text/x-python",
   "name": "python",
   "nbconvert_exporter": "python",
   "pygments_lexer": "ipython3",
   "version": "3.7.4"
  }
 },
 "nbformat": 4,
 "nbformat_minor": 2
}
