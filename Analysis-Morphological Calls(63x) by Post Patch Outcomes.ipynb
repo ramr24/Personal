{
 "cells": [
  {
   "cell_type": "markdown",
   "metadata": {},
   "source": [
    "## Morphological Calls(63x) by Post Patch Outcomes"
   ]
  },
  {
   "cell_type": "code",
   "execution_count": 1,
   "metadata": {},
   "outputs": [],
   "source": [
    "import csv\n",
    "import pandas as pd\n",
    "import numpy as np\n",
    "import seaborn as sns\n",
    "import matplotlib.pyplot as plt\n",
    "from datetime import datetime\n",
    "%matplotlib inline\n",
    "\n",
    "import post_patch as pp #post patch script\n",
    "#post_patch_column = 'postPatch_label'\n",
    "#post_patch_pipette_column = 'endPipetteR_label'\n",
    "\n",
    "#sns.set_style('whitegrid') #Makes a white backround with gray horizontal gridmarks at y-values\n",
    "sns.set_context('notebook')"
   ]
  },
  {
   "cell_type": "code",
   "execution_count": 2,
   "metadata": {},
   "outputs": [],
   "source": [
    "def get_shiny_df():\n",
    "    shiny_df = pd.read_csv(\"C:/users/ramr/documents/github/coding/personal-projects/csv/shiny_mouse.csv\")\n",
    "    shiny_df = shiny_df.loc[:,['sample_id', 'postPatch_label', 'endPipetteR_label']]\n",
    "    return shiny_df"
   ]
  },
  {
   "cell_type": "code",
   "execution_count": 3,
   "metadata": {},
   "outputs": [],
   "source": [
    "def get_morph_df():\n",
    "    morph_df = pd.read_csv(\"C:/users/ramr/documents/github/coding/personal-projects/csv/63x.csv\")\n",
    "    morph_df = morph_df.loc[:,['patched_cell_container', 'ims63x_go_no_go']]\n",
    "    return morph_df"
   ]
  },
  {
   "cell_type": "code",
   "execution_count": 4,
   "metadata": {},
   "outputs": [],
   "source": [
    "def merge_dfs(df1, df2):\n",
    "    merged_df = pd.merge(left = df1, \n",
    "                         right = df2, \n",
    "                         left_on = 'patched_cell_container',\n",
    "                         right_on = 'sample_id',\n",
    "                         how = 'inner')\n",
    "    merged_df.drop(['sample_id'], axis = 1, inplace = True)\n",
    "    return merged_df"
   ]
  },
  {
   "cell_type": "code",
   "execution_count": 5,
   "metadata": {},
   "outputs": [],
   "source": [
    "def sort_df(final_df):\n",
    "    #Getting date from patched cell container\n",
    "    final_df['Date'] = final_df['patched_cell_container'].str[5:11]\n",
    "\n",
    "    #Changing to string to add 20 in front of strings within date column\n",
    "    final_df['Date'] = final_df['Date'].astype('str')\n",
    "    final_df['Date'] = '20' + final_df['Date']\n",
    "    final_df['Date'] = pd.to_datetime(final_df['Date']) #Converting date to YYYY-MM-DD\n",
    "\n",
    "    final_df = final_df.set_index('Date') #Set date column as index column\n",
    "\n",
    "    #start_date = input('Enter the start date for your dataframe (YYYY-MM-DD): ')\n",
    "    #Production Date Start = '2017-10-01' \n",
    "    start_date = '2017-10-01'\n",
    "    final_df = final_df[start_date:] #Choosing start & end date    \n",
    "\n",
    "    final_df.rename(columns = {'ims63x_go_no_go' : 'morph'}, inplace = True)\n",
    "    final_df = pp.postpatch_reclass(final_df)\n",
    "    \n",
    "    final_df.drop(['patched_cell_container', 'endPipetteR_label'], axis=1, inplace=True)\n",
    "    final_df.dropna(subset = ['morph'], inplace = True) #Filters columns that have NaN\n",
    "\n",
    "    #Categorical\n",
    "    final_df['morph'] = final_df['morph'].astype('category')\n",
    "    final_df['post_patch'] = final_df['post_patch'].astype('category')\n",
    "\n",
    "    final_df.sort_index(inplace = True)\n",
    "    return final_df"
   ]
  },
  {
   "cell_type": "code",
   "execution_count": 6,
   "metadata": {},
   "outputs": [],
   "source": [
    "def piv_table(final_df):\n",
    "    final_df1 = final_df.loc[:,['post_patch', 'morph', 'anno.postPatch_label']]\n",
    "    final_df1 = final_df.groupby(['post_patch', 'morph']).count()\n",
    "    final_df1 = final_df1.rename(columns = {'postPatch_label' : ''})\n",
    "    final_df1.reset_index(inplace = True)\n",
    "\n",
    "    final_df1 = final_df1.pivot_table(values=[''], \n",
    "                                      index=['post_patch'], \n",
    "                                      columns = ['morph'], \n",
    "                                      aggfunc='sum')\n",
    "    return final_df1"
   ]
  },
  {
   "cell_type": "code",
   "execution_count": 7,
   "metadata": {},
   "outputs": [
    {
     "name": "stderr",
     "output_type": "stream",
     "text": [
      "C:\\Users\\ramr\\AppData\\Local\\Continuum\\anaconda2\\lib\\site-packages\\IPython\\core\\interactiveshell.py:2822: DtypeWarning: Columns (11,109,139,143) have mixed types. Specify dtype option on import or set low_memory=False.\n",
      "  if self.run_code(code, result):\n",
      "C:\\Users\\ramr\\AppData\\Local\\Continuum\\anaconda2\\lib\\site-packages\\pandas\\core\\indexing.py:357: SettingWithCopyWarning: \n",
      "A value is trying to be set on a copy of a slice from a DataFrame.\n",
      "Try using .loc[row_indexer,col_indexer] = value instead\n",
      "\n",
      "See the caveats in the documentation: http://pandas.pydata.org/pandas-docs/stable/indexing.html#indexing-view-versus-copy\n",
      "  self.obj[key] = _infer_fill_value(value)\n",
      "C:\\Users\\ramr\\AppData\\Local\\Continuum\\anaconda2\\lib\\site-packages\\pandas\\core\\indexing.py:537: SettingWithCopyWarning: \n",
      "A value is trying to be set on a copy of a slice from a DataFrame.\n",
      "Try using .loc[row_indexer,col_indexer] = value instead\n",
      "\n",
      "See the caveats in the documentation: http://pandas.pydata.org/pandas-docs/stable/indexing.html#indexing-view-versus-copy\n",
      "  self.obj[item] = s\n",
      "C:\\Users\\ramr\\AppData\\Local\\Continuum\\anaconda2\\lib\\site-packages\\ipykernel_launcher.py:2: FutureWarning: \n",
      "Passing list-likes to .loc or [] with any missing label will raise\n",
      "KeyError in the future, you can use .reindex() as an alternative.\n",
      "\n",
      "See the documentation here:\n",
      "http://pandas.pydata.org/pandas-docs/stable/indexing.html#deprecate-loc-reindex-listlike\n",
      "  \n",
      "C:\\Users\\ramr\\AppData\\Local\\Continuum\\anaconda2\\lib\\site-packages\\pandas\\core\\indexing.py:1367: FutureWarning: \n",
      "Passing list-likes to .loc or [] with any missing label will raise\n",
      "KeyError in the future, you can use .reindex() as an alternative.\n",
      "\n",
      "See the documentation here:\n",
      "http://pandas.pydata.org/pandas-docs/stable/indexing.html#deprecate-loc-reindex-listlike\n",
      "  return self._getitem_tuple(key)\n"
     ]
    }
   ],
   "source": [
    "#Making global variables\n",
    "shiny_df = get_shiny_df()\n",
    "morph_df = get_morph_df()\n",
    "merged_df = merge_dfs(morph_df, shiny_df)\n",
    "final_df = sort_df(merged_df)\n",
    "final_df1 = piv_table(final_df)"
   ]
  },
  {
   "cell_type": "code",
   "execution_count": 10,
   "metadata": {},
   "outputs": [
    {
     "data": {
      "text/html": [
       "<div>\n",
       "<style scoped>\n",
       "    .dataframe tbody tr th:only-of-type {\n",
       "        vertical-align: middle;\n",
       "    }\n",
       "\n",
       "    .dataframe tbody tr th {\n",
       "        vertical-align: top;\n",
       "    }\n",
       "\n",
       "    .dataframe thead tr th {\n",
       "        text-align: left;\n",
       "    }\n",
       "\n",
       "    .dataframe thead tr:last-of-type th {\n",
       "        text-align: right;\n",
       "    }\n",
       "</style>\n",
       "<table border=\"1\" class=\"dataframe\">\n",
       "  <thead>\n",
       "    <tr>\n",
       "      <th></th>\n",
       "      <th colspan=\"2\" halign=\"left\"></th>\n",
       "    </tr>\n",
       "    <tr>\n",
       "      <th>morph</th>\n",
       "      <th>63x go</th>\n",
       "      <th>63x no go</th>\n",
       "    </tr>\n",
       "    <tr>\n",
       "      <th>post_patch</th>\n",
       "      <th></th>\n",
       "      <th></th>\n",
       "    </tr>\n",
       "  </thead>\n",
       "  <tbody>\n",
       "    <tr>\n",
       "      <th>Entire cell</th>\n",
       "      <td>6</td>\n",
       "      <td>14</td>\n",
       "    </tr>\n",
       "    <tr>\n",
       "      <th>No-high seal</th>\n",
       "      <td>30</td>\n",
       "      <td>47</td>\n",
       "    </tr>\n",
       "    <tr>\n",
       "      <th>No-low seal</th>\n",
       "      <td>12</td>\n",
       "      <td>100</td>\n",
       "    </tr>\n",
       "    <tr>\n",
       "      <th>Nuc-high seal</th>\n",
       "      <td>626</td>\n",
       "      <td>269</td>\n",
       "    </tr>\n",
       "    <tr>\n",
       "      <th>Nuc-low seal</th>\n",
       "      <td>22</td>\n",
       "      <td>105</td>\n",
       "    </tr>\n",
       "  </tbody>\n",
       "</table>\n",
       "</div>"
      ],
      "text/plain": [
       "                              \n",
       "morph         63x go 63x no go\n",
       "post_patch                    \n",
       "Entire cell        6        14\n",
       "No-high seal      30        47\n",
       "No-low seal       12       100\n",
       "Nuc-high seal    626       269\n",
       "Nuc-low seal      22       105"
      ]
     },
     "execution_count": 10,
     "metadata": {},
     "output_type": "execute_result"
    }
   ],
   "source": [
    "final_df1"
   ]
  },
  {
   "cell_type": "code",
   "execution_count": 12,
   "metadata": {},
   "outputs": [],
   "source": [
    "#Rusty's Method figure it out later\n",
    "post_patch_totals = list(final_df1.sum(1))\n",
    "post_patch_totals = [int(x) for x in post_patch_totals]"
   ]
  },
  {
   "cell_type": "code",
   "execution_count": 13,
   "metadata": {},
   "outputs": [],
   "source": [
    "final_df1 = final_df1.div(final_df1.sum(1), axis=0) * 100"
   ]
  },
  {
   "cell_type": "code",
   "execution_count": 14,
   "metadata": {},
   "outputs": [
    {
     "data": {
      "text/html": [
       "<div>\n",
       "<style scoped>\n",
       "    .dataframe tbody tr th:only-of-type {\n",
       "        vertical-align: middle;\n",
       "    }\n",
       "\n",
       "    .dataframe tbody tr th {\n",
       "        vertical-align: top;\n",
       "    }\n",
       "\n",
       "    .dataframe thead tr th {\n",
       "        text-align: left;\n",
       "    }\n",
       "\n",
       "    .dataframe thead tr:last-of-type th {\n",
       "        text-align: right;\n",
       "    }\n",
       "</style>\n",
       "<table border=\"1\" class=\"dataframe\">\n",
       "  <thead>\n",
       "    <tr>\n",
       "      <th></th>\n",
       "      <th colspan=\"2\" halign=\"left\"></th>\n",
       "    </tr>\n",
       "    <tr>\n",
       "      <th>morph</th>\n",
       "      <th>63x go</th>\n",
       "      <th>63x no go</th>\n",
       "    </tr>\n",
       "    <tr>\n",
       "      <th>post_patch</th>\n",
       "      <th></th>\n",
       "      <th></th>\n",
       "    </tr>\n",
       "  </thead>\n",
       "  <tbody>\n",
       "    <tr>\n",
       "      <th>Entire cell</th>\n",
       "      <td>30.000000</td>\n",
       "      <td>70.000000</td>\n",
       "    </tr>\n",
       "    <tr>\n",
       "      <th>No-high seal</th>\n",
       "      <td>38.961039</td>\n",
       "      <td>61.038961</td>\n",
       "    </tr>\n",
       "    <tr>\n",
       "      <th>No-low seal</th>\n",
       "      <td>10.714286</td>\n",
       "      <td>89.285714</td>\n",
       "    </tr>\n",
       "    <tr>\n",
       "      <th>Nuc-high seal</th>\n",
       "      <td>69.944134</td>\n",
       "      <td>30.055866</td>\n",
       "    </tr>\n",
       "    <tr>\n",
       "      <th>Nuc-low seal</th>\n",
       "      <td>17.322835</td>\n",
       "      <td>82.677165</td>\n",
       "    </tr>\n",
       "  </tbody>\n",
       "</table>\n",
       "</div>"
      ],
      "text/plain": [
       "                                   \n",
       "morph             63x go  63x no go\n",
       "post_patch                         \n",
       "Entire cell    30.000000  70.000000\n",
       "No-high seal   38.961039  61.038961\n",
       "No-low seal    10.714286  89.285714\n",
       "Nuc-high seal  69.944134  30.055866\n",
       "Nuc-low seal   17.322835  82.677165"
      ]
     },
     "execution_count": 14,
     "metadata": {},
     "output_type": "execute_result"
    }
   ],
   "source": [
    "final_df1"
   ]
  },
  {
   "cell_type": "code",
   "execution_count": 15,
   "metadata": {},
   "outputs": [
    {
     "data": {
      "image/png": "[encoded data removed]",
      "text/plain": [
       "<matplotlib.figure.Figure at 0x19f46dd8>"
      ]
     },
     "metadata": {},
     "output_type": "display_data"
    }
   ],
   "source": [
    "#order = ['Nuc-high seal', 'Nuc-low seal', 'No-high seal', 'No-low seal', 'Entire cell']\n",
    "#.loc[order] lets you choose the order\n",
    "\n",
    "my_colors = ['#74c476', '#de2d26']\n",
    "bp = final_df1.plot.bar(stacked = True, \n",
    "                        color = my_colors, \n",
    "                        figsize= (10,8),\n",
    "                        rot = 0)\n",
    "\n",
    "bp.legend(['63x go', '63x no go'],\n",
    "          loc = 0, \n",
    "          bbox_to_anchor = (1, 1), \n",
    "          frameon = True, \n",
    "          shadow = True,\n",
    "          fontsize = 13)\n",
    "\n",
    "plt.subplots_adjust(left = 0.1, right = 0.8, bottom = None, top = None, wspace=None, hspace=None)\n",
    "#This helps if axis labels are getting cutoff when saving final image\n",
    "\n",
    "#Rusty's Method figure it out later\n",
    "rects = bp.patches\n",
    "labels = post_patch_totals\n",
    "\n",
    "#Rusty's Method figure it out later\n",
    "for rect, label in zip (rects, labels):\n",
    "    height = 100\n",
    "    x_value = rect.get_x() + rect.get_width() / 2\n",
    "    bp.text(rect.get_x() + rect.get_width()/2, height, label, ha='center', va='bottom', size = 12)\n",
    "\n",
    "bp.set_title('Percentage of Morphological Calls(63x) by Post Patch Outcomes')\n",
    "bp.set(xlabel = 'Post Patch Outcomes', ylabel = 'Percentage')\n",
    "plt.savefig('Stacked_Percentage_Barplot_M_by_PP')"
   ]
  },
  {
   "cell_type": "code",
   "execution_count": 16,
   "metadata": {},
   "outputs": [
    {
     "data": {
      "text/plain": [
       "[Text(0,0.5,u'Post Patch Outcomes'), Text(0.5,0,u'Percentage')]"
      ]
     },
     "execution_count": 16,
     "metadata": {},
     "output_type": "execute_result"
    },
    {
     "data": {
      "image/png": "[encoded data removed]",
      "text/plain": [
       "<matplotlib.figure.Figure at 0x1a31a048>"
      ]
     },
     "metadata": {},
     "output_type": "display_data"
    }
   ],
   "source": [
    "order = ['Nuc-high seal', 'Nuc-low seal', 'No-high seal', 'No-low seal', 'Entire cell']\n",
    "#.loc[order] lets you choose the order\n",
    "\n",
    "my_colors = ['#74c476', '#de2d26']\n",
    "bp = final_df1.loc[order].plot.bar(stacked = True, \n",
    "                    color = my_colors,\n",
    "                    figsize= (8,5),\n",
    "                    rot = 0)\n",
    "\n",
    "bp.legend(['63x go', '63x no go'],\n",
    "          loc = 0, \n",
    "          bbox_to_anchor = (1, 1), \n",
    "          frameon = True, \n",
    "          shadow = True,\n",
    "          fontsize = 10)\n",
    "\n",
    "bp.set(xlabel = 'Percentage', ylabel = 'Post Patch Outcomes')"
   ]
  },
  {
   "cell_type": "code",
   "execution_count": null,
   "metadata": {},
   "outputs": [],
   "source": []
  },
  {
   "cell_type": "code",
   "execution_count": null,
   "metadata": {},
   "outputs": [],
   "source": []
  },
  {
   "cell_type": "code",
   "execution_count": null,
   "metadata": {},
   "outputs": [],
   "source": []
  }
 ],
 "metadata": {
  "kernelspec": {
   "display_name": "Python 2",
   "language": "python",
   "name": "python2"
  },
  "language_info": {
   "codemirror_mode": {
    "name": "ipython",
    "version": 2
   },
   "file_extension": ".py",
   "mimetype": "text/x-python",
   "name": "python",
   "nbconvert_exporter": "python",
   "pygments_lexer": "ipython2",
   "version": "2.7.14"
  }
 },
 "nbformat": 4,
 "nbformat_minor": 2
}
