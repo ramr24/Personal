{
 "cells": [
  {
   "cell_type": "markdown",
   "metadata": {},
   "source": [
    "## Morphological Calls(63x) by Post Patch Outcomes"
   ]
  },
  {
   "cell_type": "markdown",
   "metadata": {},
   "source": [
    "##### Date: 4/26/2018 Updated 63x.csv & shiny.csv"
   ]
  },
  {
   "cell_type": "code",
   "execution_count": 1,
   "metadata": {},
   "outputs": [],
   "source": [
    "import csv\n",
    "import pandas as pd\n",
    "import numpy as np\n",
    "import seaborn as sns\n",
    "import matplotlib.pyplot as plt\n",
    "from datetime import datetime\n",
    "%matplotlib inline\n",
    "\n",
    "from IPython.display import display #Found this to display all columns in a table\n",
    "\n",
    "sns.set_style('whitegrid') #Makes a white backround with gray horizontal gridmarks at y-values\n",
    "sns.set_context('notebook')\n",
    "#fsdf"
   ]
  },
  {
   "cell_type": "markdown",
   "metadata": {},
   "source": [
    "##### postpatch_func.py by Rusty from Stash "
   ]
  },
  {
   "cell_type": "code",
   "execution_count": 2,
   "metadata": {},
   "outputs": [],
   "source": [
    "def nucleated(x):\n",
    "    nuc_high_seal = x[(x['anno.postPatch_label'] == 'Nucleated') | \n",
    "                      (((x['anno.postPatch_label'] == 'nucleus_visible') | \n",
    "                      (x['anno.postPatch_label'] == 'nucleus_present')) & \n",
    "                      (x['anno.endPipetteR_label'] >= 500))]\n",
    "    return nuc_high_seal\n",
    "\n",
    "def partial_nucleated(y):\n",
    "    nuc_low_seal = y[(y['anno.postPatch_label'] == 'Partial-Nucleus') | \n",
    "                     (((y['anno.postPatch_label'] == 'nucleus_present') | \n",
    "                     (y['anno.postPatch_label'] == 'nucleus_visible')) & \n",
    "                     (y[\"anno.endPipetteR_label\"] <= 499))]\n",
    "    return nuc_low_seal\n",
    "\n",
    "def outside_out(z):\n",
    "    no_high_seal = z[(z['anno.postPatch_label'] == 'Outside-Out') | \n",
    "                     (((z['anno.postPatch_label'] == 'nucleus_absent') | \n",
    "                     (z['anno.postPatch_label'] == 'no_nucleus_visible')) & \n",
    "                     (z['anno.endPipetteR_label'] >= 500))]\n",
    "    return no_high_seal\n",
    "\n",
    "def no_seal(w): \n",
    "    no_low_seal = w[(w['anno.postPatch_label'] == 'No-Seal') | \n",
    "                    (((w['anno.postPatch_label'] == 'nucleus_absent') | \n",
    "                    (w['anno.postPatch_label'] == 'no_nucleus_visible')) & \n",
    "                    (w['anno.endPipetteR_label'] <= 499))]\n",
    "    return no_low_seal\n",
    "    \n",
    "def entire_cell(v):\n",
    "    entire = v[(v['anno.postPatch_label'] == 'Entire-Cell') | \n",
    "               (v['anno.postPatch_label'] == 'entire_cell')]\n",
    "    return entire\n",
    "\n",
    "#variable['post_patch'] = 'Term'\n",
    "#Term is an output displayed in the Post_Patch column\n",
    "\n",
    "def reclassify(df):\n",
    "    nu = nucleated(df)\n",
    "    nu['post_patch'] = 'Nuc-high seal' \n",
    "    oo = outside_out(df)\n",
    "    oo['post_patch'] = 'No-high seal'\n",
    "    pn = partial_nucleated(df)\n",
    "    pn['post_patch'] = 'Nuc-low seal'\n",
    "    ns = no_seal(df)\n",
    "    ns['post_patch'] = 'No-low seal'\n",
    "    ec = entire_cell(df)\n",
    "    ec['post_patch'] = 'Entire cell'\n",
    "    return  nu, oo, pn, ns, ec\n",
    "\n",
    "def concat_df(a, b, c, d, e):\n",
    "    frames = (a, b, c, d, e)\n",
    "    df = pd.concat(frames)\n",
    "    return df\n",
    "\n",
    "def postpatch_reclass(df):\n",
    "    return concat_df(*reclassify(df))\n",
    "\n",
    "#final_df = postpatch_reclass(final_df)"
   ]
  },
  {
   "cell_type": "markdown",
   "metadata": {},
   "source": [
    "##### Reads 63x.csv & shiny.csv"
   ]
  },
  {
   "cell_type": "code",
   "execution_count": 3,
   "metadata": {},
   "outputs": [],
   "source": [
    "morph_df = pd.read_csv(\"63x.csv\")\n",
    "shiny_df = pd.read_csv(\"shiny.csv\")"
   ]
  },
  {
   "cell_type": "markdown",
   "metadata": {},
   "source": [
    "##### Creating shiny_df from shiny.csv"
   ]
  },
  {
   "cell_type": "code",
   "execution_count": 4,
   "metadata": {},
   "outputs": [
    {
     "data": {
      "text/html": [
       "<div>\n",
       "<style scoped>\n",
       "    .dataframe tbody tr th:only-of-type {\n",
       "        vertical-align: middle;\n",
       "    }\n",
       "\n",
       "    .dataframe tbody tr th {\n",
       "        vertical-align: top;\n",
       "    }\n",
       "\n",
       "    .dataframe thead th {\n",
       "        text-align: right;\n",
       "    }\n",
       "</style>\n",
       "<table border=\"1\" class=\"dataframe\">\n",
       "  <thead>\n",
       "    <tr style=\"text-align: right;\">\n",
       "      <th></th>\n",
       "      <th>anno.sample_id</th>\n",
       "      <th>anno.postPatch_label</th>\n",
       "      <th>anno.endPipetteR_label</th>\n",
       "    </tr>\n",
       "  </thead>\n",
       "  <tbody>\n",
       "    <tr>\n",
       "      <th>0</th>\n",
       "      <td>P1S4_160318_069_A01</td>\n",
       "      <td>O/O</td>\n",
       "      <td>0.0</td>\n",
       "    </tr>\n",
       "    <tr>\n",
       "      <th>1</th>\n",
       "      <td>P1S4_160407_108_A01</td>\n",
       "      <td>nucleated patch</td>\n",
       "      <td>0.0</td>\n",
       "    </tr>\n",
       "    <tr>\n",
       "      <th>2</th>\n",
       "      <td>P1S4_160407_109_A01</td>\n",
       "      <td>partial nucleus</td>\n",
       "      <td>0.0</td>\n",
       "    </tr>\n",
       "    <tr>\n",
       "      <th>3</th>\n",
       "      <td>P1S4_160407_112_A01</td>\n",
       "      <td>o/o</td>\n",
       "      <td>0.0</td>\n",
       "    </tr>\n",
       "    <tr>\n",
       "      <th>4</th>\n",
       "      <td>P1S4_160407_113_A01</td>\n",
       "      <td>0</td>\n",
       "      <td>0.0</td>\n",
       "    </tr>\n",
       "  </tbody>\n",
       "</table>\n",
       "</div>"
      ],
      "text/plain": [
       "        anno.sample_id anno.postPatch_label  anno.endPipetteR_label\n",
       "0  P1S4_160318_069_A01                  O/O                     0.0\n",
       "1  P1S4_160407_108_A01      nucleated patch                     0.0\n",
       "2  P1S4_160407_109_A01      partial nucleus                     0.0\n",
       "3  P1S4_160407_112_A01                  o/o                     0.0\n",
       "4  P1S4_160407_113_A01                    0                     0.0"
      ]
     },
     "execution_count": 4,
     "metadata": {},
     "output_type": "execute_result"
    }
   ],
   "source": [
    "shiny_initial = ['anno.sample_id',\n",
    "                 'anno.postPatch_label',\n",
    "                 'anno.endPipetteR_label']\n",
    "shiny_df = shiny_df[shiny_initial]\n",
    "shiny_df.head()"
   ]
  },
  {
   "cell_type": "markdown",
   "metadata": {},
   "source": [
    "##### Creating morph_df from 63x.csv"
   ]
  },
  {
   "cell_type": "code",
   "execution_count": 5,
   "metadata": {},
   "outputs": [
    {
     "data": {
      "text/html": [
       "<div>\n",
       "<style scoped>\n",
       "    .dataframe tbody tr th:only-of-type {\n",
       "        vertical-align: middle;\n",
       "    }\n",
       "\n",
       "    .dataframe tbody tr th {\n",
       "        vertical-align: top;\n",
       "    }\n",
       "\n",
       "    .dataframe thead th {\n",
       "        text-align: right;\n",
       "    }\n",
       "</style>\n",
       "<table border=\"1\" class=\"dataframe\">\n",
       "  <thead>\n",
       "    <tr style=\"text-align: right;\">\n",
       "      <th></th>\n",
       "      <th>patched_cell_container</th>\n",
       "      <th>ims63x_go_no_go</th>\n",
       "      <th>project</th>\n",
       "    </tr>\n",
       "  </thead>\n",
       "  <tbody>\n",
       "    <tr>\n",
       "      <th>6461</th>\n",
       "      <td>P2S4_180109_052_A01</td>\n",
       "      <td>NaN</td>\n",
       "      <td>mIVSCC-MET</td>\n",
       "    </tr>\n",
       "    <tr>\n",
       "      <th>6462</th>\n",
       "      <td>PAS4_180109_452_A01</td>\n",
       "      <td>NaN</td>\n",
       "      <td>mIVSCC-MET</td>\n",
       "    </tr>\n",
       "    <tr>\n",
       "      <th>6463</th>\n",
       "      <td>P8S4_180110_353_A01</td>\n",
       "      <td>NaN</td>\n",
       "      <td>mIVSCC-MET</td>\n",
       "    </tr>\n",
       "    <tr>\n",
       "      <th>6464</th>\n",
       "      <td>P8S4_180110_354_A01</td>\n",
       "      <td>63x no go</td>\n",
       "      <td>mIVSCC-MET</td>\n",
       "    </tr>\n",
       "    <tr>\n",
       "      <th>6465</th>\n",
       "      <td>PAS4_180110_454_A01</td>\n",
       "      <td>NaN</td>\n",
       "      <td>mIVSCC-MET</td>\n",
       "    </tr>\n",
       "  </tbody>\n",
       "</table>\n",
       "</div>"
      ],
      "text/plain": [
       "     patched_cell_container ims63x_go_no_go     project\n",
       "6461    P2S4_180109_052_A01             NaN  mIVSCC-MET\n",
       "6462    PAS4_180109_452_A01             NaN  mIVSCC-MET\n",
       "6463    P8S4_180110_353_A01             NaN  mIVSCC-MET\n",
       "6464    P8S4_180110_354_A01       63x no go  mIVSCC-MET\n",
       "6465    PAS4_180110_454_A01             NaN  mIVSCC-MET"
      ]
     },
     "execution_count": 5,
     "metadata": {},
     "output_type": "execute_result"
    }
   ],
   "source": [
    "morph_initial = ['patched_cell_container',\n",
    "                 'ims63x_go_no_g',\n",
    "                 'project']\n",
    "morph_df = morph_df[morph_initial]\n",
    "morph_df.tail()"
   ]
  },
  {
   "cell_type": "markdown",
   "metadata": {},
   "source": [
    "##### Merging morph_df with shiny_lims_df to create final_df"
   ]
  },
  {
   "cell_type": "code",
   "execution_count": 6,
   "metadata": {},
   "outputs": [],
   "source": [
    "#Inner merge = contains only matching data of both morph_df and shiny_df\n",
    "\n",
    "final_df = pd.merge(left = morph_df, \n",
    "                    right = shiny_df, \n",
    "                    left_on = 'patched_cell_container', \n",
    "                    right_on = 'anno.sample_id', \n",
    "                    how = 'inner')"
   ]
  },
  {
   "cell_type": "code",
   "execution_count": 7,
   "metadata": {},
   "outputs": [
    {
     "data": {
      "text/html": [
       "<div>\n",
       "<style scoped>\n",
       "    .dataframe tbody tr th:only-of-type {\n",
       "        vertical-align: middle;\n",
       "    }\n",
       "\n",
       "    .dataframe tbody tr th {\n",
       "        vertical-align: top;\n",
       "    }\n",
       "\n",
       "    .dataframe thead th {\n",
       "        text-align: right;\n",
       "    }\n",
       "</style>\n",
       "<table border=\"1\" class=\"dataframe\">\n",
       "  <thead>\n",
       "    <tr style=\"text-align: right;\">\n",
       "      <th></th>\n",
       "      <th>patched_cell_container</th>\n",
       "      <th>ims63x_go_no_go</th>\n",
       "      <th>project</th>\n",
       "      <th>anno.sample_id</th>\n",
       "      <th>anno.postPatch_label</th>\n",
       "      <th>anno.endPipetteR_label</th>\n",
       "    </tr>\n",
       "  </thead>\n",
       "  <tbody>\n",
       "    <tr>\n",
       "      <th>0</th>\n",
       "      <td>P8S4_180103_351_A01</td>\n",
       "      <td>NaN</td>\n",
       "      <td>mIVSCC-MET</td>\n",
       "      <td>P8S4_180103_351_A01</td>\n",
       "      <td>nucleus_absent</td>\n",
       "      <td>35.0</td>\n",
       "    </tr>\n",
       "    <tr>\n",
       "      <th>1</th>\n",
       "      <td>P8S4_180103_352_A01</td>\n",
       "      <td>63x no go</td>\n",
       "      <td>mIVSCC-MET</td>\n",
       "      <td>P8S4_180103_352_A01</td>\n",
       "      <td>nucleus_present</td>\n",
       "      <td>8.5</td>\n",
       "    </tr>\n",
       "    <tr>\n",
       "      <th>2</th>\n",
       "      <td>P1S4_160517_001_A01</td>\n",
       "      <td>NaN</td>\n",
       "      <td>T301x</td>\n",
       "      <td>P1S4_160517_001_A01</td>\n",
       "      <td>Partial nucleus</td>\n",
       "      <td>0.0</td>\n",
       "    </tr>\n",
       "    <tr>\n",
       "      <th>3</th>\n",
       "      <td>P1S4_160517_003_A01</td>\n",
       "      <td>NaN</td>\n",
       "      <td>T301x</td>\n",
       "      <td>P1S4_160517_003_A01</td>\n",
       "      <td>o/o</td>\n",
       "      <td>0.0</td>\n",
       "    </tr>\n",
       "    <tr>\n",
       "      <th>4</th>\n",
       "      <td>P1S4_160517_004_A01</td>\n",
       "      <td>NaN</td>\n",
       "      <td>T301x</td>\n",
       "      <td>P1S4_160517_004_A01</td>\n",
       "      <td>o/o</td>\n",
       "      <td>0.0</td>\n",
       "    </tr>\n",
       "  </tbody>\n",
       "</table>\n",
       "</div>"
      ],
      "text/plain": [
       "  patched_cell_container ims63x_go_no_go     project       anno.sample_id  \\\n",
       "0    P8S4_180103_351_A01             NaN  mIVSCC-MET  P8S4_180103_351_A01   \n",
       "1    P8S4_180103_352_A01       63x no go  mIVSCC-MET  P8S4_180103_352_A01   \n",
       "2    P1S4_160517_001_A01             NaN       T301x  P1S4_160517_001_A01   \n",
       "3    P1S4_160517_003_A01             NaN       T301x  P1S4_160517_003_A01   \n",
       "4    P1S4_160517_004_A01             NaN       T301x  P1S4_160517_004_A01   \n",
       "\n",
       "  anno.postPatch_label  anno.endPipetteR_label  \n",
       "0       nucleus_absent                    35.0  \n",
       "1      nucleus_present                     8.5  \n",
       "2      Partial nucleus                     0.0  \n",
       "3                  o/o                     0.0  \n",
       "4                  o/o                     0.0  "
      ]
     },
     "execution_count": 7,
     "metadata": {},
     "output_type": "execute_result"
    }
   ],
   "source": [
    "final_df.head()"
   ]
  },
  {
   "cell_type": "markdown",
   "metadata": {},
   "source": [
    "##### Info"
   ]
  },
  {
   "cell_type": "code",
   "execution_count": 8,
   "metadata": {},
   "outputs": [
    {
     "name": "stdout",
     "output_type": "stream",
     "text": [
      "<class 'pandas.core.frame.DataFrame'>\n",
      "Int64Index: 2961 entries, 0 to 2960\n",
      "Data columns (total 6 columns):\n",
      "patched_cell_container    2961 non-null object\n",
      "ims63x_go_no_go           1631 non-null object\n",
      "project                   2961 non-null object\n",
      "anno.sample_id            2961 non-null object\n",
      "anno.postPatch_label      2953 non-null object\n",
      "anno.endPipetteR_label    2961 non-null float64\n",
      "dtypes: float64(1), object(5)\n",
      "memory usage: 161.9+ KB\n"
     ]
    }
   ],
   "source": [
    "final_df.info()"
   ]
  },
  {
   "cell_type": "markdown",
   "metadata": {},
   "source": [
    "##### Creating Date column using patched_cell_container column"
   ]
  },
  {
   "cell_type": "code",
   "execution_count": 9,
   "metadata": {},
   "outputs": [],
   "source": [
    "final_df['Date'] = final_df['patched_cell_container'].str[5:11]"
   ]
  },
  {
   "cell_type": "markdown",
   "metadata": {},
   "source": [
    "##### Indexing Date column then sorting by date index"
   ]
  },
  {
   "cell_type": "code",
   "execution_count": 10,
   "metadata": {},
   "outputs": [],
   "source": [
    "final_df = final_df.set_index('Date')"
   ]
  },
  {
   "cell_type": "code",
   "execution_count": 11,
   "metadata": {},
   "outputs": [],
   "source": [
    "final_df.sort_index(inplace = True)"
   ]
  },
  {
   "cell_type": "code",
   "execution_count": 12,
   "metadata": {},
   "outputs": [
    {
     "data": {
      "text/html": [
       "<div>\n",
       "<style scoped>\n",
       "    .dataframe tbody tr th:only-of-type {\n",
       "        vertical-align: middle;\n",
       "    }\n",
       "\n",
       "    .dataframe tbody tr th {\n",
       "        vertical-align: top;\n",
       "    }\n",
       "\n",
       "    .dataframe thead th {\n",
       "        text-align: right;\n",
       "    }\n",
       "</style>\n",
       "<table border=\"1\" class=\"dataframe\">\n",
       "  <thead>\n",
       "    <tr style=\"text-align: right;\">\n",
       "      <th></th>\n",
       "      <th>patched_cell_container</th>\n",
       "      <th>ims63x_go_no_go</th>\n",
       "      <th>project</th>\n",
       "      <th>anno.sample_id</th>\n",
       "      <th>anno.postPatch_label</th>\n",
       "      <th>anno.endPipetteR_label</th>\n",
       "    </tr>\n",
       "    <tr>\n",
       "      <th>Date</th>\n",
       "      <th></th>\n",
       "      <th></th>\n",
       "      <th></th>\n",
       "      <th></th>\n",
       "      <th></th>\n",
       "      <th></th>\n",
       "    </tr>\n",
       "  </thead>\n",
       "  <tbody>\n",
       "    <tr>\n",
       "      <th>160510</th>\n",
       "      <td>P1S4_160510_455_A01</td>\n",
       "      <td>NaN</td>\n",
       "      <td>T301x</td>\n",
       "      <td>P1S4_160510_455_A01</td>\n",
       "      <td>0</td>\n",
       "      <td>0.0</td>\n",
       "    </tr>\n",
       "    <tr>\n",
       "      <th>160511</th>\n",
       "      <td>P1S4_160511_471_A01</td>\n",
       "      <td>NaN</td>\n",
       "      <td>T301x</td>\n",
       "      <td>P1S4_160511_471_A01</td>\n",
       "      <td>0</td>\n",
       "      <td>0.0</td>\n",
       "    </tr>\n",
       "    <tr>\n",
       "      <th>160511</th>\n",
       "      <td>P1S4_160511_472_A01</td>\n",
       "      <td>NaN</td>\n",
       "      <td>T301x</td>\n",
       "      <td>P1S4_160511_472_A01</td>\n",
       "      <td>Partial nucleus</td>\n",
       "      <td>0.0</td>\n",
       "    </tr>\n",
       "    <tr>\n",
       "      <th>160511</th>\n",
       "      <td>P1S4_160511_473_A01</td>\n",
       "      <td>NaN</td>\n",
       "      <td>T301x</td>\n",
       "      <td>P1S4_160511_473_A01</td>\n",
       "      <td>0</td>\n",
       "      <td>0.0</td>\n",
       "    </tr>\n",
       "    <tr>\n",
       "      <th>160512</th>\n",
       "      <td>P1S4_160512_485_A01</td>\n",
       "      <td>NaN</td>\n",
       "      <td>T301x</td>\n",
       "      <td>P1S4_160512_485_A01</td>\n",
       "      <td>o/o</td>\n",
       "      <td>0.0</td>\n",
       "    </tr>\n",
       "  </tbody>\n",
       "</table>\n",
       "</div>"
      ],
      "text/plain": [
       "       patched_cell_container ims63x_go_no_go project       anno.sample_id  \\\n",
       "Date                                                                         \n",
       "160510    P1S4_160510_455_A01             NaN   T301x  P1S4_160510_455_A01   \n",
       "160511    P1S4_160511_471_A01             NaN   T301x  P1S4_160511_471_A01   \n",
       "160511    P1S4_160511_472_A01             NaN   T301x  P1S4_160511_472_A01   \n",
       "160511    P1S4_160511_473_A01             NaN   T301x  P1S4_160511_473_A01   \n",
       "160512    P1S4_160512_485_A01             NaN   T301x  P1S4_160512_485_A01   \n",
       "\n",
       "       anno.postPatch_label  anno.endPipetteR_label  \n",
       "Date                                                 \n",
       "160510                    0                     0.0  \n",
       "160511                    0                     0.0  \n",
       "160511      Partial nucleus                     0.0  \n",
       "160511                    0                     0.0  \n",
       "160512                  o/o                     0.0  "
      ]
     },
     "execution_count": 12,
     "metadata": {},
     "output_type": "execute_result"
    }
   ],
   "source": [
    "final_df.head()"
   ]
  },
  {
   "cell_type": "code",
   "execution_count": 13,
   "metadata": {},
   "outputs": [
    {
     "data": {
      "text/html": [
       "<div>\n",
       "<style scoped>\n",
       "    .dataframe tbody tr th:only-of-type {\n",
       "        vertical-align: middle;\n",
       "    }\n",
       "\n",
       "    .dataframe tbody tr th {\n",
       "        vertical-align: top;\n",
       "    }\n",
       "\n",
       "    .dataframe thead th {\n",
       "        text-align: right;\n",
       "    }\n",
       "</style>\n",
       "<table border=\"1\" class=\"dataframe\">\n",
       "  <thead>\n",
       "    <tr style=\"text-align: right;\">\n",
       "      <th></th>\n",
       "      <th>patched_cell_container</th>\n",
       "      <th>ims63x_go_no_go</th>\n",
       "      <th>project</th>\n",
       "      <th>anno.sample_id</th>\n",
       "      <th>anno.postPatch_label</th>\n",
       "      <th>anno.endPipetteR_label</th>\n",
       "    </tr>\n",
       "    <tr>\n",
       "      <th>Date</th>\n",
       "      <th></th>\n",
       "      <th></th>\n",
       "      <th></th>\n",
       "      <th></th>\n",
       "      <th></th>\n",
       "      <th></th>\n",
       "    </tr>\n",
       "  </thead>\n",
       "  <tbody>\n",
       "    <tr>\n",
       "      <th>180319</th>\n",
       "      <td>P8S4_180319_355_A01</td>\n",
       "      <td>NaN</td>\n",
       "      <td>mIVSCC-MET</td>\n",
       "      <td>P8S4_180319_355_A01</td>\n",
       "      <td>nucleus_present</td>\n",
       "      <td>1500.0</td>\n",
       "    </tr>\n",
       "    <tr>\n",
       "      <th>180319</th>\n",
       "      <td>P9S4_180319_403_A01</td>\n",
       "      <td>NaN</td>\n",
       "      <td>mIVSCC-MET</td>\n",
       "      <td>P9S4_180319_403_A01</td>\n",
       "      <td>nucleus_present</td>\n",
       "      <td>2000.0</td>\n",
       "    </tr>\n",
       "    <tr>\n",
       "      <th>180319</th>\n",
       "      <td>P9S4_180319_404_A01</td>\n",
       "      <td>NaN</td>\n",
       "      <td>mIVSCC-MET</td>\n",
       "      <td>P9S4_180319_404_A01</td>\n",
       "      <td>nucleus_present</td>\n",
       "      <td>5.0</td>\n",
       "    </tr>\n",
       "    <tr>\n",
       "      <th>180319</th>\n",
       "      <td>PBS4_180319_503_A01</td>\n",
       "      <td>NaN</td>\n",
       "      <td>mIVSCC-MET</td>\n",
       "      <td>PBS4_180319_503_A01</td>\n",
       "      <td>nucleus_absent</td>\n",
       "      <td>0.0</td>\n",
       "    </tr>\n",
       "    <tr>\n",
       "      <th>180319</th>\n",
       "      <td>PBS4_180319_505_A01</td>\n",
       "      <td>NaN</td>\n",
       "      <td>mIVSCC-MET</td>\n",
       "      <td>PBS4_180319_505_A01</td>\n",
       "      <td>nucleus_absent</td>\n",
       "      <td>5.0</td>\n",
       "    </tr>\n",
       "  </tbody>\n",
       "</table>\n",
       "</div>"
      ],
      "text/plain": [
       "       patched_cell_container ims63x_go_no_go     project  \\\n",
       "Date                                                        \n",
       "180319    P8S4_180319_355_A01             NaN  mIVSCC-MET   \n",
       "180319    P9S4_180319_403_A01             NaN  mIVSCC-MET   \n",
       "180319    P9S4_180319_404_A01             NaN  mIVSCC-MET   \n",
       "180319    PBS4_180319_503_A01             NaN  mIVSCC-MET   \n",
       "180319    PBS4_180319_505_A01             NaN  mIVSCC-MET   \n",
       "\n",
       "             anno.sample_id anno.postPatch_label  anno.endPipetteR_label  \n",
       "Date                                                                      \n",
       "180319  P8S4_180319_355_A01      nucleus_present                  1500.0  \n",
       "180319  P9S4_180319_403_A01      nucleus_present                  2000.0  \n",
       "180319  P9S4_180319_404_A01      nucleus_present                     5.0  \n",
       "180319  PBS4_180319_503_A01       nucleus_absent                     0.0  \n",
       "180319  PBS4_180319_505_A01       nucleus_absent                     5.0  "
      ]
     },
     "execution_count": 13,
     "metadata": {},
     "output_type": "execute_result"
    }
   ],
   "source": [
    "final_df.tail()"
   ]
  },
  {
   "cell_type": "markdown",
   "metadata": {},
   "source": [
    "##### final_df start at production date to present date"
   ]
  },
  {
   "cell_type": "code",
   "execution_count": 14,
   "metadata": {},
   "outputs": [],
   "source": [
    "final_df = final_df['170901':]"
   ]
  },
  {
   "cell_type": "code",
   "execution_count": 15,
   "metadata": {},
   "outputs": [
    {
     "data": {
      "text/html": [
       "<div>\n",
       "<style scoped>\n",
       "    .dataframe tbody tr th:only-of-type {\n",
       "        vertical-align: middle;\n",
       "    }\n",
       "\n",
       "    .dataframe tbody tr th {\n",
       "        vertical-align: top;\n",
       "    }\n",
       "\n",
       "    .dataframe thead th {\n",
       "        text-align: right;\n",
       "    }\n",
       "</style>\n",
       "<table border=\"1\" class=\"dataframe\">\n",
       "  <thead>\n",
       "    <tr style=\"text-align: right;\">\n",
       "      <th></th>\n",
       "      <th>patched_cell_container</th>\n",
       "      <th>ims63x_go_no_go</th>\n",
       "      <th>project</th>\n",
       "      <th>anno.sample_id</th>\n",
       "      <th>anno.postPatch_label</th>\n",
       "      <th>anno.endPipetteR_label</th>\n",
       "    </tr>\n",
       "    <tr>\n",
       "      <th>Date</th>\n",
       "      <th></th>\n",
       "      <th></th>\n",
       "      <th></th>\n",
       "      <th></th>\n",
       "      <th></th>\n",
       "      <th></th>\n",
       "    </tr>\n",
       "  </thead>\n",
       "  <tbody>\n",
       "    <tr>\n",
       "      <th>170901</th>\n",
       "      <td>P8S4_170901_354_A01</td>\n",
       "      <td>63x no go</td>\n",
       "      <td>T301x</td>\n",
       "      <td>P8S4_170901_354_A01</td>\n",
       "      <td>No-Seal</td>\n",
       "      <td>0.0</td>\n",
       "    </tr>\n",
       "    <tr>\n",
       "      <th>170901</th>\n",
       "      <td>P8S4_170901_352_A01</td>\n",
       "      <td>63x no go</td>\n",
       "      <td>T301x</td>\n",
       "      <td>P8S4_170901_352_A01</td>\n",
       "      <td>Nucleated</td>\n",
       "      <td>0.0</td>\n",
       "    </tr>\n",
       "    <tr>\n",
       "      <th>170901</th>\n",
       "      <td>P8S4_170901_351_A01</td>\n",
       "      <td>63x no go</td>\n",
       "      <td>T301x</td>\n",
       "      <td>P8S4_170901_351_A01</td>\n",
       "      <td>No-Seal</td>\n",
       "      <td>0.0</td>\n",
       "    </tr>\n",
       "    <tr>\n",
       "      <th>170901</th>\n",
       "      <td>P2S4_170901_054_A01</td>\n",
       "      <td>63x go</td>\n",
       "      <td>T301x</td>\n",
       "      <td>P2S4_170901_054_A01</td>\n",
       "      <td>Partial-Nucleus</td>\n",
       "      <td>0.0</td>\n",
       "    </tr>\n",
       "    <tr>\n",
       "      <th>170901</th>\n",
       "      <td>P2S4_170901_053_A01</td>\n",
       "      <td>NaN</td>\n",
       "      <td>T301x</td>\n",
       "      <td>P2S4_170901_053_A01</td>\n",
       "      <td>Nucleated</td>\n",
       "      <td>0.0</td>\n",
       "    </tr>\n",
       "  </tbody>\n",
       "</table>\n",
       "</div>"
      ],
      "text/plain": [
       "       patched_cell_container ims63x_go_no_go project       anno.sample_id  \\\n",
       "Date                                                                         \n",
       "170901    P8S4_170901_354_A01       63x no go   T301x  P8S4_170901_354_A01   \n",
       "170901    P8S4_170901_352_A01       63x no go   T301x  P8S4_170901_352_A01   \n",
       "170901    P8S4_170901_351_A01       63x no go   T301x  P8S4_170901_351_A01   \n",
       "170901    P2S4_170901_054_A01          63x go   T301x  P2S4_170901_054_A01   \n",
       "170901    P2S4_170901_053_A01             NaN   T301x  P2S4_170901_053_A01   \n",
       "\n",
       "       anno.postPatch_label  anno.endPipetteR_label  \n",
       "Date                                                 \n",
       "170901              No-Seal                     0.0  \n",
       "170901            Nucleated                     0.0  \n",
       "170901              No-Seal                     0.0  \n",
       "170901      Partial-Nucleus                     0.0  \n",
       "170901            Nucleated                     0.0  "
      ]
     },
     "execution_count": 15,
     "metadata": {},
     "output_type": "execute_result"
    }
   ],
   "source": [
    "final_df.head()"
   ]
  },
  {
   "cell_type": "code",
   "execution_count": 16,
   "metadata": {},
   "outputs": [
    {
     "data": {
      "text/html": [
       "<div>\n",
       "<style scoped>\n",
       "    .dataframe tbody tr th:only-of-type {\n",
       "        vertical-align: middle;\n",
       "    }\n",
       "\n",
       "    .dataframe tbody tr th {\n",
       "        vertical-align: top;\n",
       "    }\n",
       "\n",
       "    .dataframe thead th {\n",
       "        text-align: right;\n",
       "    }\n",
       "</style>\n",
       "<table border=\"1\" class=\"dataframe\">\n",
       "  <thead>\n",
       "    <tr style=\"text-align: right;\">\n",
       "      <th></th>\n",
       "      <th>patched_cell_container</th>\n",
       "      <th>ims63x_go_no_go</th>\n",
       "      <th>project</th>\n",
       "      <th>anno.sample_id</th>\n",
       "      <th>anno.postPatch_label</th>\n",
       "      <th>anno.endPipetteR_label</th>\n",
       "    </tr>\n",
       "    <tr>\n",
       "      <th>Date</th>\n",
       "      <th></th>\n",
       "      <th></th>\n",
       "      <th></th>\n",
       "      <th></th>\n",
       "      <th></th>\n",
       "      <th></th>\n",
       "    </tr>\n",
       "  </thead>\n",
       "  <tbody>\n",
       "    <tr>\n",
       "      <th>180319</th>\n",
       "      <td>P8S4_180319_355_A01</td>\n",
       "      <td>NaN</td>\n",
       "      <td>mIVSCC-MET</td>\n",
       "      <td>P8S4_180319_355_A01</td>\n",
       "      <td>nucleus_present</td>\n",
       "      <td>1500.0</td>\n",
       "    </tr>\n",
       "    <tr>\n",
       "      <th>180319</th>\n",
       "      <td>P9S4_180319_403_A01</td>\n",
       "      <td>NaN</td>\n",
       "      <td>mIVSCC-MET</td>\n",
       "      <td>P9S4_180319_403_A01</td>\n",
       "      <td>nucleus_present</td>\n",
       "      <td>2000.0</td>\n",
       "    </tr>\n",
       "    <tr>\n",
       "      <th>180319</th>\n",
       "      <td>P9S4_180319_404_A01</td>\n",
       "      <td>NaN</td>\n",
       "      <td>mIVSCC-MET</td>\n",
       "      <td>P9S4_180319_404_A01</td>\n",
       "      <td>nucleus_present</td>\n",
       "      <td>5.0</td>\n",
       "    </tr>\n",
       "    <tr>\n",
       "      <th>180319</th>\n",
       "      <td>PBS4_180319_503_A01</td>\n",
       "      <td>NaN</td>\n",
       "      <td>mIVSCC-MET</td>\n",
       "      <td>PBS4_180319_503_A01</td>\n",
       "      <td>nucleus_absent</td>\n",
       "      <td>0.0</td>\n",
       "    </tr>\n",
       "    <tr>\n",
       "      <th>180319</th>\n",
       "      <td>PBS4_180319_505_A01</td>\n",
       "      <td>NaN</td>\n",
       "      <td>mIVSCC-MET</td>\n",
       "      <td>PBS4_180319_505_A01</td>\n",
       "      <td>nucleus_absent</td>\n",
       "      <td>5.0</td>\n",
       "    </tr>\n",
       "  </tbody>\n",
       "</table>\n",
       "</div>"
      ],
      "text/plain": [
       "       patched_cell_container ims63x_go_no_go     project  \\\n",
       "Date                                                        \n",
       "180319    P8S4_180319_355_A01             NaN  mIVSCC-MET   \n",
       "180319    P9S4_180319_403_A01             NaN  mIVSCC-MET   \n",
       "180319    P9S4_180319_404_A01             NaN  mIVSCC-MET   \n",
       "180319    PBS4_180319_503_A01             NaN  mIVSCC-MET   \n",
       "180319    PBS4_180319_505_A01             NaN  mIVSCC-MET   \n",
       "\n",
       "             anno.sample_id anno.postPatch_label  anno.endPipetteR_label  \n",
       "Date                                                                      \n",
       "180319  P8S4_180319_355_A01      nucleus_present                  1500.0  \n",
       "180319  P9S4_180319_403_A01      nucleus_present                  2000.0  \n",
       "180319  P9S4_180319_404_A01      nucleus_present                     5.0  \n",
       "180319  PBS4_180319_503_A01       nucleus_absent                     0.0  \n",
       "180319  PBS4_180319_505_A01       nucleus_absent                     5.0  "
      ]
     },
     "execution_count": 16,
     "metadata": {},
     "output_type": "execute_result"
    }
   ],
   "source": [
    "final_df.tail()"
   ]
  },
  {
   "cell_type": "markdown",
   "metadata": {},
   "source": [
    "##### Renaming Columns"
   ]
  },
  {
   "cell_type": "code",
   "execution_count": 17,
   "metadata": {},
   "outputs": [],
   "source": [
    "#Duration columns are in seconds\n",
    "final_df.rename(columns = {'ims63x_go_no_go' : 'morph'}, inplace = True)"
   ]
  },
  {
   "cell_type": "markdown",
   "metadata": {},
   "source": [
    "##### Adding post_patch column to the end of final_df"
   ]
  },
  {
   "cell_type": "code",
   "execution_count": 18,
   "metadata": {},
   "outputs": [
    {
     "name": "stderr",
     "output_type": "stream",
     "text": [
      "C:\\Users\\ramr\\AppData\\Local\\Continuum\\anaconda2\\lib\\site-packages\\ipykernel_launcher.py:39: SettingWithCopyWarning: \n",
      "A value is trying to be set on a copy of a slice from a DataFrame.\n",
      "Try using .loc[row_indexer,col_indexer] = value instead\n",
      "\n",
      "See the caveats in the documentation: http://pandas.pydata.org/pandas-docs/stable/indexing.html#indexing-view-versus-copy\n",
      "C:\\Users\\ramr\\AppData\\Local\\Continuum\\anaconda2\\lib\\site-packages\\ipykernel_launcher.py:41: SettingWithCopyWarning: \n",
      "A value is trying to be set on a copy of a slice from a DataFrame.\n",
      "Try using .loc[row_indexer,col_indexer] = value instead\n",
      "\n",
      "See the caveats in the documentation: http://pandas.pydata.org/pandas-docs/stable/indexing.html#indexing-view-versus-copy\n",
      "C:\\Users\\ramr\\AppData\\Local\\Continuum\\anaconda2\\lib\\site-packages\\ipykernel_launcher.py:43: SettingWithCopyWarning: \n",
      "A value is trying to be set on a copy of a slice from a DataFrame.\n",
      "Try using .loc[row_indexer,col_indexer] = value instead\n",
      "\n",
      "See the caveats in the documentation: http://pandas.pydata.org/pandas-docs/stable/indexing.html#indexing-view-versus-copy\n",
      "C:\\Users\\ramr\\AppData\\Local\\Continuum\\anaconda2\\lib\\site-packages\\ipykernel_launcher.py:45: SettingWithCopyWarning: \n",
      "A value is trying to be set on a copy of a slice from a DataFrame.\n",
      "Try using .loc[row_indexer,col_indexer] = value instead\n",
      "\n",
      "See the caveats in the documentation: http://pandas.pydata.org/pandas-docs/stable/indexing.html#indexing-view-versus-copy\n",
      "C:\\Users\\ramr\\AppData\\Local\\Continuum\\anaconda2\\lib\\site-packages\\ipykernel_launcher.py:47: SettingWithCopyWarning: \n",
      "A value is trying to be set on a copy of a slice from a DataFrame.\n",
      "Try using .loc[row_indexer,col_indexer] = value instead\n",
      "\n",
      "See the caveats in the documentation: http://pandas.pydata.org/pandas-docs/stable/indexing.html#indexing-view-versus-copy\n"
     ]
    }
   ],
   "source": [
    "final_df = postpatch_reclass(final_df)"
   ]
  },
  {
   "cell_type": "markdown",
   "metadata": {},
   "source": [
    "##### Dropping columns "
   ]
  },
  {
   "cell_type": "code",
   "execution_count": 19,
   "metadata": {},
   "outputs": [],
   "source": [
    "final_df.drop(['patched_cell_container', 'project', 'anno.sample_id', 'anno.endPipetteR_label'], axis=1, inplace=True)"
   ]
  },
  {
   "cell_type": "markdown",
   "metadata": {},
   "source": [
    "##### Filters columns that have NaN"
   ]
  },
  {
   "cell_type": "code",
   "execution_count": 20,
   "metadata": {},
   "outputs": [],
   "source": [
    "final_df.dropna(subset = ['morph'], inplace = True)"
   ]
  },
  {
   "cell_type": "code",
   "execution_count": 21,
   "metadata": {},
   "outputs": [],
   "source": [
    "#Categorical\n",
    "final_df['morph'] = final_df['morph'].astype('category')\n",
    "final_df['post_patch'] = final_df['post_patch'].astype('category')\n",
    "\n",
    "#Numerical\n",
    "#final_df['anno.endPipetteR_label'] = final_df['anno.endPipetteR_label'].astype('float')"
   ]
  },
  {
   "cell_type": "markdown",
   "metadata": {},
   "source": [
    "##### Date Range for final_df"
   ]
  },
  {
   "cell_type": "code",
   "execution_count": 22,
   "metadata": {},
   "outputs": [],
   "source": [
    "final_df.sort_index(inplace = True)"
   ]
  },
  {
   "cell_type": "code",
   "execution_count": 23,
   "metadata": {},
   "outputs": [
    {
     "data": {
      "text/html": [
       "<div>\n",
       "<style scoped>\n",
       "    .dataframe tbody tr th:only-of-type {\n",
       "        vertical-align: middle;\n",
       "    }\n",
       "\n",
       "    .dataframe tbody tr th {\n",
       "        vertical-align: top;\n",
       "    }\n",
       "\n",
       "    .dataframe thead th {\n",
       "        text-align: right;\n",
       "    }\n",
       "</style>\n",
       "<table border=\"1\" class=\"dataframe\">\n",
       "  <thead>\n",
       "    <tr style=\"text-align: right;\">\n",
       "      <th></th>\n",
       "      <th>morph</th>\n",
       "      <th>anno.postPatch_label</th>\n",
       "      <th>post_patch</th>\n",
       "    </tr>\n",
       "    <tr>\n",
       "      <th>Date</th>\n",
       "      <th></th>\n",
       "      <th></th>\n",
       "      <th></th>\n",
       "    </tr>\n",
       "  </thead>\n",
       "  <tbody>\n",
       "    <tr>\n",
       "      <th>170901</th>\n",
       "      <td>63x no go</td>\n",
       "      <td>Nucleated</td>\n",
       "      <td>Nuc-high seal</td>\n",
       "    </tr>\n",
       "    <tr>\n",
       "      <th>170901</th>\n",
       "      <td>63x go</td>\n",
       "      <td>No-Seal</td>\n",
       "      <td>No-low seal</td>\n",
       "    </tr>\n",
       "    <tr>\n",
       "      <th>170901</th>\n",
       "      <td>63x go</td>\n",
       "      <td>Partial-Nucleus</td>\n",
       "      <td>Nuc-low seal</td>\n",
       "    </tr>\n",
       "    <tr>\n",
       "      <th>170901</th>\n",
       "      <td>63x no go</td>\n",
       "      <td>No-Seal</td>\n",
       "      <td>No-low seal</td>\n",
       "    </tr>\n",
       "    <tr>\n",
       "      <th>170901</th>\n",
       "      <td>63x no go</td>\n",
       "      <td>No-Seal</td>\n",
       "      <td>No-low seal</td>\n",
       "    </tr>\n",
       "  </tbody>\n",
       "</table>\n",
       "</div>"
      ],
      "text/plain": [
       "            morph anno.postPatch_label     post_patch\n",
       "Date                                                 \n",
       "170901  63x no go            Nucleated  Nuc-high seal\n",
       "170901     63x go              No-Seal    No-low seal\n",
       "170901     63x go      Partial-Nucleus   Nuc-low seal\n",
       "170901  63x no go              No-Seal    No-low seal\n",
       "170901  63x no go              No-Seal    No-low seal"
      ]
     },
     "execution_count": 23,
     "metadata": {},
     "output_type": "execute_result"
    }
   ],
   "source": [
    "final_df.head()"
   ]
  },
  {
   "cell_type": "code",
   "execution_count": 24,
   "metadata": {},
   "outputs": [
    {
     "data": {
      "text/html": [
       "<div>\n",
       "<style scoped>\n",
       "    .dataframe tbody tr th:only-of-type {\n",
       "        vertical-align: middle;\n",
       "    }\n",
       "\n",
       "    .dataframe tbody tr th {\n",
       "        vertical-align: top;\n",
       "    }\n",
       "\n",
       "    .dataframe thead th {\n",
       "        text-align: right;\n",
       "    }\n",
       "</style>\n",
       "<table border=\"1\" class=\"dataframe\">\n",
       "  <thead>\n",
       "    <tr style=\"text-align: right;\">\n",
       "      <th></th>\n",
       "      <th>morph</th>\n",
       "      <th>anno.postPatch_label</th>\n",
       "      <th>post_patch</th>\n",
       "    </tr>\n",
       "    <tr>\n",
       "      <th>Date</th>\n",
       "      <th></th>\n",
       "      <th></th>\n",
       "      <th></th>\n",
       "    </tr>\n",
       "  </thead>\n",
       "  <tbody>\n",
       "    <tr>\n",
       "      <th>180305</th>\n",
       "      <td>63x no go</td>\n",
       "      <td>nucleus_present</td>\n",
       "      <td>Nuc-low seal</td>\n",
       "    </tr>\n",
       "    <tr>\n",
       "      <th>180306</th>\n",
       "      <td>63x go</td>\n",
       "      <td>nucleus_present</td>\n",
       "      <td>Nuc-high seal</td>\n",
       "    </tr>\n",
       "    <tr>\n",
       "      <th>180306</th>\n",
       "      <td>63x no go</td>\n",
       "      <td>nucleus_present</td>\n",
       "      <td>Nuc-high seal</td>\n",
       "    </tr>\n",
       "    <tr>\n",
       "      <th>180306</th>\n",
       "      <td>63x go</td>\n",
       "      <td>nucleus_present</td>\n",
       "      <td>Nuc-high seal</td>\n",
       "    </tr>\n",
       "    <tr>\n",
       "      <th>180306</th>\n",
       "      <td>63x no go</td>\n",
       "      <td>nucleus_present</td>\n",
       "      <td>Nuc-low seal</td>\n",
       "    </tr>\n",
       "  </tbody>\n",
       "</table>\n",
       "</div>"
      ],
      "text/plain": [
       "            morph anno.postPatch_label     post_patch\n",
       "Date                                                 \n",
       "180305  63x no go      nucleus_present   Nuc-low seal\n",
       "180306     63x go      nucleus_present  Nuc-high seal\n",
       "180306  63x no go      nucleus_present  Nuc-high seal\n",
       "180306     63x go      nucleus_present  Nuc-high seal\n",
       "180306  63x no go      nucleus_present   Nuc-low seal"
      ]
     },
     "execution_count": 24,
     "metadata": {},
     "output_type": "execute_result"
    }
   ],
   "source": [
    "final_df.tail()"
   ]
  },
  {
   "cell_type": "markdown",
   "metadata": {},
   "source": [
    "##### Info"
   ]
  },
  {
   "cell_type": "code",
   "execution_count": 25,
   "metadata": {},
   "outputs": [
    {
     "name": "stdout",
     "output_type": "stream",
     "text": [
      "<class 'pandas.core.frame.DataFrame'>\n",
      "Index: 995 entries, 170901 to 180306\n",
      "Data columns (total 3 columns):\n",
      "morph                   995 non-null category\n",
      "anno.postPatch_label    995 non-null object\n",
      "post_patch              995 non-null category\n",
      "dtypes: category(2), object(1)\n",
      "memory usage: 17.8+ KB\n"
     ]
    }
   ],
   "source": [
    "final_df.info()"
   ]
  },
  {
   "cell_type": "markdown",
   "metadata": {},
   "source": [
    "### Creating pivot table "
   ]
  },
  {
   "cell_type": "code",
   "execution_count": 26,
   "metadata": {},
   "outputs": [
    {
     "data": {
      "text/html": [
       "<div>\n",
       "<style scoped>\n",
       "    .dataframe tbody tr th:only-of-type {\n",
       "        vertical-align: middle;\n",
       "    }\n",
       "\n",
       "    .dataframe tbody tr th {\n",
       "        vertical-align: top;\n",
       "    }\n",
       "\n",
       "    .dataframe thead th {\n",
       "        text-align: right;\n",
       "    }\n",
       "</style>\n",
       "<table border=\"1\" class=\"dataframe\">\n",
       "  <thead>\n",
       "    <tr style=\"text-align: right;\">\n",
       "      <th></th>\n",
       "      <th>post_patch</th>\n",
       "      <th>morph</th>\n",
       "      <th>anno.postPatch_label</th>\n",
       "    </tr>\n",
       "    <tr>\n",
       "      <th>Date</th>\n",
       "      <th></th>\n",
       "      <th></th>\n",
       "      <th></th>\n",
       "    </tr>\n",
       "  </thead>\n",
       "  <tbody>\n",
       "    <tr>\n",
       "      <th>170901</th>\n",
       "      <td>Nuc-high seal</td>\n",
       "      <td>63x no go</td>\n",
       "      <td>Nucleated</td>\n",
       "    </tr>\n",
       "    <tr>\n",
       "      <th>170901</th>\n",
       "      <td>No-low seal</td>\n",
       "      <td>63x go</td>\n",
       "      <td>No-Seal</td>\n",
       "    </tr>\n",
       "    <tr>\n",
       "      <th>170901</th>\n",
       "      <td>Nuc-low seal</td>\n",
       "      <td>63x go</td>\n",
       "      <td>Partial-Nucleus</td>\n",
       "    </tr>\n",
       "    <tr>\n",
       "      <th>170901</th>\n",
       "      <td>No-low seal</td>\n",
       "      <td>63x no go</td>\n",
       "      <td>No-Seal</td>\n",
       "    </tr>\n",
       "    <tr>\n",
       "      <th>170901</th>\n",
       "      <td>No-low seal</td>\n",
       "      <td>63x no go</td>\n",
       "      <td>No-Seal</td>\n",
       "    </tr>\n",
       "  </tbody>\n",
       "</table>\n",
       "</div>"
      ],
      "text/plain": [
       "           post_patch      morph anno.postPatch_label\n",
       "Date                                                 \n",
       "170901  Nuc-high seal  63x no go            Nucleated\n",
       "170901    No-low seal     63x go              No-Seal\n",
       "170901   Nuc-low seal     63x go      Partial-Nucleus\n",
       "170901    No-low seal  63x no go              No-Seal\n",
       "170901    No-low seal  63x no go              No-Seal"
      ]
     },
     "execution_count": 26,
     "metadata": {},
     "output_type": "execute_result"
    }
   ],
   "source": [
    "final_df1 = final_df[['post_patch', 'morph', 'anno.postPatch_label']]\n",
    "final_df1.head()"
   ]
  },
  {
   "cell_type": "code",
   "execution_count": 27,
   "metadata": {},
   "outputs": [],
   "source": [
    "final_df1 = final_df.groupby(['post_patch', 'morph']).count()"
   ]
  },
  {
   "cell_type": "code",
   "execution_count": 28,
   "metadata": {},
   "outputs": [
    {
     "data": {
      "text/html": [
       "<div>\n",
       "<style scoped>\n",
       "    .dataframe tbody tr th:only-of-type {\n",
       "        vertical-align: middle;\n",
       "    }\n",
       "\n",
       "    .dataframe tbody tr th {\n",
       "        vertical-align: top;\n",
       "    }\n",
       "\n",
       "    .dataframe thead th {\n",
       "        text-align: right;\n",
       "    }\n",
       "</style>\n",
       "<table border=\"1\" class=\"dataframe\">\n",
       "  <thead>\n",
       "    <tr style=\"text-align: right;\">\n",
       "      <th></th>\n",
       "      <th></th>\n",
       "      <th>anno.postPatch_label</th>\n",
       "    </tr>\n",
       "    <tr>\n",
       "      <th>post_patch</th>\n",
       "      <th>morph</th>\n",
       "      <th></th>\n",
       "    </tr>\n",
       "  </thead>\n",
       "  <tbody>\n",
       "    <tr>\n",
       "      <th rowspan=\"2\" valign=\"top\">Entire cell</th>\n",
       "      <th>63x go</th>\n",
       "      <td>5</td>\n",
       "    </tr>\n",
       "    <tr>\n",
       "      <th>63x no go</th>\n",
       "      <td>10</td>\n",
       "    </tr>\n",
       "    <tr>\n",
       "      <th rowspan=\"2\" valign=\"top\">No-high seal</th>\n",
       "      <th>63x go</th>\n",
       "      <td>20</td>\n",
       "    </tr>\n",
       "    <tr>\n",
       "      <th>63x no go</th>\n",
       "      <td>12</td>\n",
       "    </tr>\n",
       "    <tr>\n",
       "      <th rowspan=\"2\" valign=\"top\">No-low seal</th>\n",
       "      <th>63x go</th>\n",
       "      <td>19</td>\n",
       "    </tr>\n",
       "    <tr>\n",
       "      <th>63x no go</th>\n",
       "      <td>143</td>\n",
       "    </tr>\n",
       "    <tr>\n",
       "      <th rowspan=\"2\" valign=\"top\">Nuc-high seal</th>\n",
       "      <th>63x go</th>\n",
       "      <td>447</td>\n",
       "    </tr>\n",
       "    <tr>\n",
       "      <th>63x no go</th>\n",
       "      <td>196</td>\n",
       "    </tr>\n",
       "    <tr>\n",
       "      <th rowspan=\"2\" valign=\"top\">Nuc-low seal</th>\n",
       "      <th>63x go</th>\n",
       "      <td>49</td>\n",
       "    </tr>\n",
       "    <tr>\n",
       "      <th>63x no go</th>\n",
       "      <td>94</td>\n",
       "    </tr>\n",
       "  </tbody>\n",
       "</table>\n",
       "</div>"
      ],
      "text/plain": [
       "                         anno.postPatch_label\n",
       "post_patch    morph                          \n",
       "Entire cell   63x go                        5\n",
       "              63x no go                    10\n",
       "No-high seal  63x go                       20\n",
       "              63x no go                    12\n",
       "No-low seal   63x go                       19\n",
       "              63x no go                   143\n",
       "Nuc-high seal 63x go                      447\n",
       "              63x no go                   196\n",
       "Nuc-low seal  63x go                       49\n",
       "              63x no go                    94"
      ]
     },
     "execution_count": 28,
     "metadata": {},
     "output_type": "execute_result"
    }
   ],
   "source": [
    "final_df1"
   ]
  },
  {
   "cell_type": "code",
   "execution_count": 29,
   "metadata": {},
   "outputs": [],
   "source": [
    "final_df1 = final_df1.rename(columns = {'anno.postPatch_label' : ''})"
   ]
  },
  {
   "cell_type": "code",
   "execution_count": 30,
   "metadata": {},
   "outputs": [
    {
     "data": {
      "text/html": [
       "<div>\n",
       "<style scoped>\n",
       "    .dataframe tbody tr th:only-of-type {\n",
       "        vertical-align: middle;\n",
       "    }\n",
       "\n",
       "    .dataframe tbody tr th {\n",
       "        vertical-align: top;\n",
       "    }\n",
       "\n",
       "    .dataframe thead th {\n",
       "        text-align: right;\n",
       "    }\n",
       "</style>\n",
       "<table border=\"1\" class=\"dataframe\">\n",
       "  <thead>\n",
       "    <tr style=\"text-align: right;\">\n",
       "      <th></th>\n",
       "      <th></th>\n",
       "      <th></th>\n",
       "    </tr>\n",
       "    <tr>\n",
       "      <th>post_patch</th>\n",
       "      <th>morph</th>\n",
       "      <th></th>\n",
       "    </tr>\n",
       "  </thead>\n",
       "  <tbody>\n",
       "    <tr>\n",
       "      <th rowspan=\"2\" valign=\"top\">Entire cell</th>\n",
       "      <th>63x go</th>\n",
       "      <td>5</td>\n",
       "    </tr>\n",
       "    <tr>\n",
       "      <th>63x no go</th>\n",
       "      <td>10</td>\n",
       "    </tr>\n",
       "    <tr>\n",
       "      <th rowspan=\"2\" valign=\"top\">No-high seal</th>\n",
       "      <th>63x go</th>\n",
       "      <td>20</td>\n",
       "    </tr>\n",
       "    <tr>\n",
       "      <th>63x no go</th>\n",
       "      <td>12</td>\n",
       "    </tr>\n",
       "    <tr>\n",
       "      <th rowspan=\"2\" valign=\"top\">No-low seal</th>\n",
       "      <th>63x go</th>\n",
       "      <td>19</td>\n",
       "    </tr>\n",
       "    <tr>\n",
       "      <th>63x no go</th>\n",
       "      <td>143</td>\n",
       "    </tr>\n",
       "    <tr>\n",
       "      <th rowspan=\"2\" valign=\"top\">Nuc-high seal</th>\n",
       "      <th>63x go</th>\n",
       "      <td>447</td>\n",
       "    </tr>\n",
       "    <tr>\n",
       "      <th>63x no go</th>\n",
       "      <td>196</td>\n",
       "    </tr>\n",
       "    <tr>\n",
       "      <th rowspan=\"2\" valign=\"top\">Nuc-low seal</th>\n",
       "      <th>63x go</th>\n",
       "      <td>49</td>\n",
       "    </tr>\n",
       "    <tr>\n",
       "      <th>63x no go</th>\n",
       "      <td>94</td>\n",
       "    </tr>\n",
       "  </tbody>\n",
       "</table>\n",
       "</div>"
      ],
      "text/plain": [
       "                            \n",
       "post_patch    morph         \n",
       "Entire cell   63x go       5\n",
       "              63x no go   10\n",
       "No-high seal  63x go      20\n",
       "              63x no go   12\n",
       "No-low seal   63x go      19\n",
       "              63x no go  143\n",
       "Nuc-high seal 63x go     447\n",
       "              63x no go  196\n",
       "Nuc-low seal  63x go      49\n",
       "              63x no go   94"
      ]
     },
     "execution_count": 30,
     "metadata": {},
     "output_type": "execute_result"
    }
   ],
   "source": [
    "final_df1"
   ]
  },
  {
   "cell_type": "code",
   "execution_count": 31,
   "metadata": {},
   "outputs": [],
   "source": [
    "final_df1.reset_index(inplace = True)"
   ]
  },
  {
   "cell_type": "code",
   "execution_count": 32,
   "metadata": {},
   "outputs": [
    {
     "data": {
      "text/html": [
       "<div>\n",
       "<style scoped>\n",
       "    .dataframe tbody tr th:only-of-type {\n",
       "        vertical-align: middle;\n",
       "    }\n",
       "\n",
       "    .dataframe tbody tr th {\n",
       "        vertical-align: top;\n",
       "    }\n",
       "\n",
       "    .dataframe thead th {\n",
       "        text-align: right;\n",
       "    }\n",
       "</style>\n",
       "<table border=\"1\" class=\"dataframe\">\n",
       "  <thead>\n",
       "    <tr style=\"text-align: right;\">\n",
       "      <th></th>\n",
       "      <th>post_patch</th>\n",
       "      <th>morph</th>\n",
       "      <th></th>\n",
       "    </tr>\n",
       "  </thead>\n",
       "  <tbody>\n",
       "    <tr>\n",
       "      <th>0</th>\n",
       "      <td>Entire cell</td>\n",
       "      <td>63x go</td>\n",
       "      <td>5</td>\n",
       "    </tr>\n",
       "    <tr>\n",
       "      <th>1</th>\n",
       "      <td>Entire cell</td>\n",
       "      <td>63x no go</td>\n",
       "      <td>10</td>\n",
       "    </tr>\n",
       "    <tr>\n",
       "      <th>2</th>\n",
       "      <td>No-high seal</td>\n",
       "      <td>63x go</td>\n",
       "      <td>20</td>\n",
       "    </tr>\n",
       "    <tr>\n",
       "      <th>3</th>\n",
       "      <td>No-high seal</td>\n",
       "      <td>63x no go</td>\n",
       "      <td>12</td>\n",
       "    </tr>\n",
       "    <tr>\n",
       "      <th>4</th>\n",
       "      <td>No-low seal</td>\n",
       "      <td>63x go</td>\n",
       "      <td>19</td>\n",
       "    </tr>\n",
       "    <tr>\n",
       "      <th>5</th>\n",
       "      <td>No-low seal</td>\n",
       "      <td>63x no go</td>\n",
       "      <td>143</td>\n",
       "    </tr>\n",
       "    <tr>\n",
       "      <th>6</th>\n",
       "      <td>Nuc-high seal</td>\n",
       "      <td>63x go</td>\n",
       "      <td>447</td>\n",
       "    </tr>\n",
       "    <tr>\n",
       "      <th>7</th>\n",
       "      <td>Nuc-high seal</td>\n",
       "      <td>63x no go</td>\n",
       "      <td>196</td>\n",
       "    </tr>\n",
       "    <tr>\n",
       "      <th>8</th>\n",
       "      <td>Nuc-low seal</td>\n",
       "      <td>63x go</td>\n",
       "      <td>49</td>\n",
       "    </tr>\n",
       "    <tr>\n",
       "      <th>9</th>\n",
       "      <td>Nuc-low seal</td>\n",
       "      <td>63x no go</td>\n",
       "      <td>94</td>\n",
       "    </tr>\n",
       "  </tbody>\n",
       "</table>\n",
       "</div>"
      ],
      "text/plain": [
       "      post_patch      morph     \n",
       "0    Entire cell     63x go    5\n",
       "1    Entire cell  63x no go   10\n",
       "2   No-high seal     63x go   20\n",
       "3   No-high seal  63x no go   12\n",
       "4    No-low seal     63x go   19\n",
       "5    No-low seal  63x no go  143\n",
       "6  Nuc-high seal     63x go  447\n",
       "7  Nuc-high seal  63x no go  196\n",
       "8   Nuc-low seal     63x go   49\n",
       "9   Nuc-low seal  63x no go   94"
      ]
     },
     "execution_count": 32,
     "metadata": {},
     "output_type": "execute_result"
    }
   ],
   "source": [
    "final_df1"
   ]
  },
  {
   "cell_type": "code",
   "execution_count": 33,
   "metadata": {},
   "outputs": [],
   "source": [
    "final_df1 = final_df1.pivot_table(values=[''], \n",
    "                                  index=['post_patch'], \n",
    "                                  columns = ['morph'], \n",
    "                                  aggfunc='sum')"
   ]
  },
  {
   "cell_type": "code",
   "execution_count": 34,
   "metadata": {},
   "outputs": [
    {
     "data": {
      "text/html": [
       "<div>\n",
       "<style scoped>\n",
       "    .dataframe tbody tr th:only-of-type {\n",
       "        vertical-align: middle;\n",
       "    }\n",
       "\n",
       "    .dataframe tbody tr th {\n",
       "        vertical-align: top;\n",
       "    }\n",
       "\n",
       "    .dataframe thead tr th {\n",
       "        text-align: left;\n",
       "    }\n",
       "\n",
       "    .dataframe thead tr:last-of-type th {\n",
       "        text-align: right;\n",
       "    }\n",
       "</style>\n",
       "<table border=\"1\" class=\"dataframe\">\n",
       "  <thead>\n",
       "    <tr>\n",
       "      <th></th>\n",
       "      <th colspan=\"2\" halign=\"left\"></th>\n",
       "    </tr>\n",
       "    <tr>\n",
       "      <th>morph</th>\n",
       "      <th>63x go</th>\n",
       "      <th>63x no go</th>\n",
       "    </tr>\n",
       "    <tr>\n",
       "      <th>post_patch</th>\n",
       "      <th></th>\n",
       "      <th></th>\n",
       "    </tr>\n",
       "  </thead>\n",
       "  <tbody>\n",
       "    <tr>\n",
       "      <th>Entire cell</th>\n",
       "      <td>5</td>\n",
       "      <td>10</td>\n",
       "    </tr>\n",
       "    <tr>\n",
       "      <th>No-high seal</th>\n",
       "      <td>20</td>\n",
       "      <td>12</td>\n",
       "    </tr>\n",
       "    <tr>\n",
       "      <th>No-low seal</th>\n",
       "      <td>19</td>\n",
       "      <td>143</td>\n",
       "    </tr>\n",
       "    <tr>\n",
       "      <th>Nuc-high seal</th>\n",
       "      <td>447</td>\n",
       "      <td>196</td>\n",
       "    </tr>\n",
       "    <tr>\n",
       "      <th>Nuc-low seal</th>\n",
       "      <td>49</td>\n",
       "      <td>94</td>\n",
       "    </tr>\n",
       "  </tbody>\n",
       "</table>\n",
       "</div>"
      ],
      "text/plain": [
       "                              \n",
       "morph         63x go 63x no go\n",
       "post_patch                    \n",
       "Entire cell        5        10\n",
       "No-high seal      20        12\n",
       "No-low seal       19       143\n",
       "Nuc-high seal    447       196\n",
       "Nuc-low seal      49        94"
      ]
     },
     "execution_count": 34,
     "metadata": {},
     "output_type": "execute_result"
    }
   ],
   "source": [
    "final_df1"
   ]
  },
  {
   "cell_type": "markdown",
   "metadata": {},
   "source": [
    "##### Adding total counts "
   ]
  },
  {
   "cell_type": "code",
   "execution_count": 35,
   "metadata": {},
   "outputs": [],
   "source": [
    "#Rusty's Method figure it out later\n",
    "post_patch_totals = list(final_df1.sum(1))\n",
    "post_patch_totals = [int(x) for x in post_patch_totals]"
   ]
  },
  {
   "cell_type": "markdown",
   "metadata": {},
   "source": [
    "##### Aaron's method for Plot: Morphological Calls(63x) by Post Patch Outcomes"
   ]
  },
  {
   "cell_type": "code",
   "execution_count": 36,
   "metadata": {},
   "outputs": [
    {
     "data": {
      "text/plain": [
       "Text(0.5,1,u'Count of Morphological Calls by Post Patch Outcomes')"
      ]
     },
     "execution_count": 36,
     "metadata": {},
     "output_type": "execute_result"
    },
    {
     "data": {
      "image/png": "[encoded data removed]",
      "text/plain": [
       "<matplotlib.figure.Figure at 0x451cb38>"
      ]
     },
     "metadata": {},
     "output_type": "display_data"
    }
   ],
   "source": [
    "x = ['Nuc-high seal', 'Nuc-low seal', 'No-high seal', 'No-low seal', 'Entire cell']\n",
    "morph = ['63x go', '63x no go']\n",
    "#color = [\"r\", \"g\"]\n",
    "\n",
    "bottom = np.zeros(len(x))\n",
    "y = np.zeros(len(x))\n",
    "for mp in morph:\n",
    "    bottom = bottom + y\n",
    "    y = [len(final_df[(final_df['post_patch'] == f) & (final_df['morph'] == mp)]) for f in x]\n",
    "    plt.bar(x, y, bottom = bottom, label = mp)\n",
    "    \n",
    "plt.xlabel('Post Patch Outcomes')\n",
    "plt.ylabel('Count of Morphological Calls')\n",
    "plt.legend()\n",
    "plt.title('Count of Morphological Calls by Post Patch Outcomes')\n",
    "#plt.savefig(\"count_patch_duration_vs_morph\")"
   ]
  },
  {
   "cell_type": "markdown",
   "metadata": {},
   "source": [
    "##### Same Plot as Aaron's Method"
   ]
  },
  {
   "cell_type": "code",
   "execution_count": 37,
   "metadata": {},
   "outputs": [
    {
     "data": {
      "text/plain": [
       "[Text(0,0.5,u'Count'), Text(0.5,0,u'Post Patch Outcomes')]"
      ]
     },
     "execution_count": 37,
     "metadata": {},
     "output_type": "execute_result"
    },
    {
     "data": {
      "image/png": "[encoded data removed]",
      "text/plain": [
       "<matplotlib.figure.Figure at 0x1ac07198>"
      ]
     },
     "metadata": {},
     "output_type": "display_data"
    }
   ],
   "source": [
    "my_colors = ['#74c476', '#de2d26']\n",
    "bp = final_df1.plot.bar(stacked=True, color = my_colors)\n",
    "\n",
    "bp.legend(loc = 0, bbox_to_anchor=(1, 1))\n",
    "bp.set(xlabel = 'Post Patch Outcomes', ylabel = 'Count')"
   ]
  },
  {
   "cell_type": "markdown",
   "metadata": {},
   "source": [
    "##### Vertical Bar Plot"
   ]
  },
  {
   "cell_type": "markdown",
   "metadata": {},
   "source": [
    "##### Changed final_df1 from ratios to percentages "
   ]
  },
  {
   "cell_type": "code",
   "execution_count": 38,
   "metadata": {},
   "outputs": [],
   "source": [
    "final_df1 = final_df1.div(final_df1.sum(1), axis=0) * 100"
   ]
  },
  {
   "cell_type": "code",
   "execution_count": 39,
   "metadata": {},
   "outputs": [
    {
     "data": {
      "text/html": [
       "<div>\n",
       "<style scoped>\n",
       "    .dataframe tbody tr th:only-of-type {\n",
       "        vertical-align: middle;\n",
       "    }\n",
       "\n",
       "    .dataframe tbody tr th {\n",
       "        vertical-align: top;\n",
       "    }\n",
       "\n",
       "    .dataframe thead tr th {\n",
       "        text-align: left;\n",
       "    }\n",
       "\n",
       "    .dataframe thead tr:last-of-type th {\n",
       "        text-align: right;\n",
       "    }\n",
       "</style>\n",
       "<table border=\"1\" class=\"dataframe\">\n",
       "  <thead>\n",
       "    <tr>\n",
       "      <th></th>\n",
       "      <th colspan=\"2\" halign=\"left\"></th>\n",
       "    </tr>\n",
       "    <tr>\n",
       "      <th>morph</th>\n",
       "      <th>63x go</th>\n",
       "      <th>63x no go</th>\n",
       "    </tr>\n",
       "    <tr>\n",
       "      <th>post_patch</th>\n",
       "      <th></th>\n",
       "      <th></th>\n",
       "    </tr>\n",
       "  </thead>\n",
       "  <tbody>\n",
       "    <tr>\n",
       "      <th>Entire cell</th>\n",
       "      <td>33.333333</td>\n",
       "      <td>66.666667</td>\n",
       "    </tr>\n",
       "    <tr>\n",
       "      <th>No-high seal</th>\n",
       "      <td>62.500000</td>\n",
       "      <td>37.500000</td>\n",
       "    </tr>\n",
       "    <tr>\n",
       "      <th>No-low seal</th>\n",
       "      <td>11.728395</td>\n",
       "      <td>88.271605</td>\n",
       "    </tr>\n",
       "    <tr>\n",
       "      <th>Nuc-high seal</th>\n",
       "      <td>69.517885</td>\n",
       "      <td>30.482115</td>\n",
       "    </tr>\n",
       "    <tr>\n",
       "      <th>Nuc-low seal</th>\n",
       "      <td>34.265734</td>\n",
       "      <td>65.734266</td>\n",
       "    </tr>\n",
       "  </tbody>\n",
       "</table>\n",
       "</div>"
      ],
      "text/plain": [
       "                                   \n",
       "morph             63x go  63x no go\n",
       "post_patch                         \n",
       "Entire cell    33.333333  66.666667\n",
       "No-high seal   62.500000  37.500000\n",
       "No-low seal    11.728395  88.271605\n",
       "Nuc-high seal  69.517885  30.482115\n",
       "Nuc-low seal   34.265734  65.734266"
      ]
     },
     "execution_count": 39,
     "metadata": {},
     "output_type": "execute_result"
    }
   ],
   "source": [
    "final_df1"
   ]
  },
  {
   "cell_type": "markdown",
   "metadata": {},
   "source": [
    "### Stacked Percentage Bar Plot: Morphological Calls(63x) by Post Patch Outcomes"
   ]
  },
  {
   "cell_type": "markdown",
   "metadata": {},
   "source": [
    "### Vertical Bar Plot with Percentages"
   ]
  },
  {
   "cell_type": "code",
   "execution_count": 40,
   "metadata": {},
   "outputs": [
    {
     "data": {
      "image/png": "[encoded data removed]",
      "text/plain": [
       "<matplotlib.figure.Figure at 0x1a600208>"
      ]
     },
     "metadata": {},
     "output_type": "display_data"
    }
   ],
   "source": [
    "#order = ['Nuc-high seal', 'Nuc-low seal', 'No-high seal', 'No-low seal', 'Entire cell']\n",
    "#.loc[order] lets you choose the order\n",
    "\n",
    "my_colors = ['#74c476', '#de2d26']\n",
    "bp = final_df1.plot.bar(stacked = True, \n",
    "                        color = my_colors, \n",
    "                        figsize= (10,8),\n",
    "                        rot = 0)\n",
    "\n",
    "bp.legend(['63x go', '63x no go'],\n",
    "          loc = 0, \n",
    "          bbox_to_anchor = (1, 1), \n",
    "          frameon = True, \n",
    "          shadow = True,\n",
    "          fontsize = 13)\n",
    "\n",
    "plt.subplots_adjust(left = 0.1, right = 0.8, bottom = None, top = None, wspace=None, hspace=None)\n",
    "#This helps if axis labels are getting cutoff when saving final image\n",
    "\n",
    "#Rusty's Method figure it out later\n",
    "rects = bp.patches\n",
    "labels = post_patch_totals\n",
    "\n",
    "#Rusty's Method figure it out later\n",
    "for rect, label in zip (rects, labels):\n",
    "    height = 100\n",
    "    x_value = rect.get_x() + rect.get_width() / 2\n",
    "    bp.text(rect.get_x() + rect.get_width()/2, height, label, ha='center', va='bottom', size = 12)\n",
    "\n",
    "bp.set_title('Percentage of Morphological Calls(63x) by Post Patch Outcomes')\n",
    "bp.set(xlabel = 'Post Patch Outcomes', ylabel = 'Percentage')\n",
    "plt.savefig('Stacked_Percentage_Barplot_M_by_PP')"
   ]
  },
  {
   "cell_type": "markdown",
   "metadata": {},
   "source": [
    "##### Horizontal Bar Plot with Percentages"
   ]
  },
  {
   "cell_type": "code",
   "execution_count": 41,
   "metadata": {},
   "outputs": [
    {
     "data": {
      "text/plain": [
       "[Text(0,0.5,u'Post Patch Outcomes'), Text(0.5,0,u'Percentage')]"
      ]
     },
     "execution_count": 41,
     "metadata": {},
     "output_type": "execute_result"
    },
    {
     "data": {
      "image/png": "[encoded data removed]",
      "text/plain": [
       "<matplotlib.figure.Figure at 0x1abea8d0>"
      ]
     },
     "metadata": {},
     "output_type": "display_data"
    }
   ],
   "source": [
    "my_colors = ['#74c476', '#de2d26']\n",
    "bp = final_df1.plot(kind = 'barh', \n",
    "                    stacked = True, \n",
    "                    color = my_colors,\n",
    "                    figsize= (8,5))\n",
    "\n",
    "bp.legend(['63x go', '63x no go'],\n",
    "          loc = 0, \n",
    "          bbox_to_anchor = (1, 1), \n",
    "          frameon = True, \n",
    "          shadow = True,\n",
    "          fontsize = 10)\n",
    "\n",
    "bp.set(xlabel = 'Percentage', ylabel = 'Post Patch Outcomes')"
   ]
  },
  {
   "cell_type": "markdown",
   "metadata": {},
   "source": [
    "### Trial plot to order post patch outcomes"
   ]
  },
  {
   "cell_type": "code",
   "execution_count": 42,
   "metadata": {},
   "outputs": [],
   "source": [
    "#TRY to order the post patch outcomes for .plot.bar(stacked = True)"
   ]
  },
  {
   "cell_type": "code",
   "execution_count": 43,
   "metadata": {},
   "outputs": [
    {
     "data": {
      "text/plain": [
       "[Text(0,0.5,u'Post Patch Outcomes'), Text(0.5,0,u'Percentage')]"
      ]
     },
     "execution_count": 43,
     "metadata": {},
     "output_type": "execute_result"
    },
    {
     "data": {
      "image/png": "[encoded data removed]",
      "text/plain": [
       "<matplotlib.figure.Figure at 0x1a6c2908>"
      ]
     },
     "metadata": {},
     "output_type": "display_data"
    }
   ],
   "source": [
    "order = ['Nuc-high seal', 'Nuc-low seal', 'No-high seal', 'No-low seal', 'Entire cell']\n",
    "#.loc[order] lets you choose the order\n",
    "\n",
    "my_colors = ['#74c476', '#de2d26']\n",
    "bp = final_df1.loc[order].plot.bar(stacked = True, \n",
    "                    color = my_colors,\n",
    "                    figsize= (8,5),\n",
    "                    rot = 0)\n",
    "\n",
    "bp.legend(['63x go', '63x no go'],\n",
    "          loc = 0, \n",
    "          bbox_to_anchor = (1, 1), \n",
    "          frameon = True, \n",
    "          shadow = True,\n",
    "          fontsize = 10)\n",
    "\n",
    "bp.set(xlabel = 'Percentage', ylabel = 'Post Patch Outcomes')"
   ]
  },
  {
   "cell_type": "code",
   "execution_count": null,
   "metadata": {},
   "outputs": [],
   "source": []
  },
  {
   "cell_type": "code",
   "execution_count": null,
   "metadata": {},
   "outputs": [],
   "source": []
  },
  {
   "cell_type": "code",
   "execution_count": null,
   "metadata": {},
   "outputs": [],
   "source": []
  }
 ],
 "metadata": {
  "kernelspec": {
   "display_name": "Python 2",
   "language": "python",
   "name": "python2"
  },
  "language_info": {
   "codemirror_mode": {
    "name": "ipython",
    "version": 2
   },
   "file_extension": ".py",
   "mimetype": "text/x-python",
   "name": "python",
   "nbconvert_exporter": "python",
   "pygments_lexer": "ipython2",
   "version": "2.7.14"
  }
 },
 "nbformat": 4,
 "nbformat_minor": 2
}
