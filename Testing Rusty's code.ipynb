{
 "cells": [
  {
   "cell_type": "markdown",
   "metadata": {},
   "source": [
    "# Testing Rusty's code"
   ]
  },
  {
   "cell_type": "code",
   "execution_count": 1,
   "metadata": {},
   "outputs": [],
   "source": [
    "import os"
   ]
  },
  {
   "cell_type": "code",
   "execution_count": 2,
   "metadata": {},
   "outputs": [],
   "source": [
    "def get_filepath(directory):\n",
    "    \"\"\"\n",
    "    To obtain filenames from a directory as a list.\n",
    "    \n",
    "    Arguements:\n",
    "        directory: a string of the directory path\n",
    "    \n",
    "    Returns:\n",
    "        file_path: a list with filenames\n",
    "    \"\"\"\n",
    "    \n",
    "    file_path = [] #Empty list to contain filenames\n",
    "    \n",
    "    for (root,dirs,files) in os.walk(directory): #Walks through directory\n",
    "        for name in files: \n",
    "            filename = os.path.join(name) #(root, filename)\n",
    "            file_path.append(filename) #Adds filename to the list (file_path)        \n",
    "    return file_path"
   ]
  },
  {
   "cell_type": "code",
   "execution_count": 3,
   "metadata": {},
   "outputs": [],
   "source": [
    "def get_folder(directory):\n",
    "    \"\"\"\n",
    "    To obtain folder names in the directory as a list. \n",
    "    \n",
    "    Arguements:\n",
    "        directory: a string of the directory path\n",
    "    Returns:\n",
    "        dir_folder = a list with folder names\n",
    "    \"\"\"\n",
    "    \n",
    "    dir_folder = [] #Empty list to contain folder names\n",
    "    for (root,dirs,files) in os.walk(directory): #Walks through directory\n",
    "        for name in dirs:\n",
    "            foldername = os.path.join(name)\n",
    "            dir_folder.append(foldername) #Adds folder name to the list (dir_folder)\n",
    "    return dir_folder"
   ]
  },
  {
   "cell_type": "code",
   "execution_count": 4,
   "metadata": {},
   "outputs": [
    {
     "data": {
      "text/plain": [
       "['Test.txt']"
      ]
     },
     "execution_count": 4,
     "metadata": {},
     "output_type": "execute_result"
    }
   ],
   "source": [
    "get_filepath(\"/Users/kumar/OneDrive/Desktop/Test\")"
   ]
  },
  {
   "cell_type": "code",
   "execution_count": 5,
   "metadata": {},
   "outputs": [
    {
     "data": {
      "text/plain": [
       "['T1', 'T2']"
      ]
     },
     "execution_count": 5,
     "metadata": {},
     "output_type": "execute_result"
    }
   ],
   "source": [
    "get_folder(\"/Users/kumar/OneDrive/Desktop/Test\")"
   ]
  },
  {
   "cell_type": "markdown",
   "metadata": {},
   "source": [
    "### Figure out what each one means"
   ]
  },
  {
   "cell_type": "code",
   "execution_count": null,
   "metadata": {},
   "outputs": [],
   "source": [
    "missing_in_LIMS = []\n",
    "In_LIMS = []\n",
    "\n",
    "def moveIgorspecimen(specimen,missing_in_LIMS,In_LIMS):\n",
    "    # Get the 1-sec sweeps for f-I curve et al.\n",
    "    conn = psycopg2.connect('host=limsdb2 dbname=lims2 user=limsreader password=limsro')\n",
    "    cur = conn.cursor()\n",
    "    \n",
    "    cur.execute(\"SELECT s.name, s.ephys_roi_result_id, s.id FROM specimens s WHERE s.name LIKE %s\", ('%' + specimen,))\n",
    "    result = cur.fetchone()\n",
    "    if result is None:\n",
    "        #print \"Could not find specimen result for \" + specimen + \". Skipping...\"\n",
    "        missing_in_LIMS.append(specimen)\n",
    "        return missing_in_LIMS  \n",
    "    #print \"Specimen: \" + result[0]\n",
    "    #print \"EphysRoiResult: \" + str(result[1])\n",
    "    global specimen_name\n",
    "    specimen_name = result[0]\n",
    "    ephys_roi_result_id = result[1]\n",
    "    specimen_id = result[2]\n",
    "    #specimen_hd5 = \n",
    "    \n",
    "    cur.execute(\"SELECT f.filename, f.storage_directory FROM well_known_files f \\\n",
    "                 WHERE f.attachable_type = 'EphysRoiResult' AND f.attachable_id = %s AND f.filename LIKE '%%pxp'\", \n",
    "                 (ephys_roi_result_id,))\n",
    "    result = cur.fetchone()\n",
    "    #print result\n",
    "    if result is None:\n",
    "        #print \"Could not find pxp file for \" + specimen + \". Skipping...\"\n",
    "        missing_in_LIMS.append(specimen)\n",
    "        return missing_in_LIMS\n",
    "    WinP = LinuxtoWindow(result[1])\n",
    "    pxp_path = WinP + result[0]\n",
    "    #hdf5_path =\n",
    "    #print \"Pxp file: \" + pxp_path\n",
    "    #pxp_dest = \"C:/Rusty_LIMS_check/IgorTemp/\" + specimen + \".pxp\"\n",
    "    In_LIMS.append(specimen)\n",
    "    return In_LIMS\n",
    "    # shutil.copyfile(pxp_path,pxp_dest)"
   ]
  },
  {
   "cell_type": "code",
   "execution_count": null,
   "metadata": {},
   "outputs": [],
   "source": []
  },
  {
   "cell_type": "code",
   "execution_count": null,
   "metadata": {},
   "outputs": [],
   "source": []
  },
  {
   "cell_type": "code",
   "execution_count": null,
   "metadata": {},
   "outputs": [],
   "source": []
  },
  {
   "cell_type": "code",
   "execution_count": null,
   "metadata": {},
   "outputs": [],
   "source": []
  },
  {
   "cell_type": "markdown",
   "metadata": {},
   "source": [
    "### Extra Tips"
   ]
  },
  {
   "cell_type": "code",
   "execution_count": 6,
   "metadata": {},
   "outputs": [
    {
     "name": "stdout",
     "output_type": "stream",
     "text": [
      "C:\\Users\\kumar\\Documents\\GitHub\\Personal-Projects\n"
     ]
    }
   ],
   "source": [
    "print(os.getcwd()) #return current working directory\n",
    "os.chdir(\"/Users/kumar/OneDrive/Desktop/Test\")"
   ]
  },
  {
   "cell_type": "code",
   "execution_count": 7,
   "metadata": {},
   "outputs": [
    {
     "name": "stdout",
     "output_type": "stream",
     "text": [
      "C:\\Users\\kumar\\OneDrive\\Desktop\\Test\n"
     ]
    }
   ],
   "source": [
    "print(os.getcwd()) #return current working directory"
   ]
  },
  {
   "cell_type": "code",
   "execution_count": null,
   "metadata": {},
   "outputs": [],
   "source": []
  }
 ],
 "metadata": {
  "kernelspec": {
   "display_name": "Python 3",
   "language": "python",
   "name": "python3"
  },
  "language_info": {
   "codemirror_mode": {
    "name": "ipython",
    "version": 3
   },
   "file_extension": ".py",
   "mimetype": "text/x-python",
   "name": "python",
   "nbconvert_exporter": "python",
   "pygments_lexer": "ipython3",
   "version": "3.6.5"
  }
 },
 "nbformat": 4,
 "nbformat_minor": 2
}
