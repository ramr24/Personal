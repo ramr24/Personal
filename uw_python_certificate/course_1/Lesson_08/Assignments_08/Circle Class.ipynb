{
 "cells": [
  {
   "cell_type": "code",
   "execution_count": 1,
   "metadata": {},
   "outputs": [
    {
     "data": {
      "text/plain": [
       "'\\nGoal:\\nThe goal is to create a class that represents a simple circle.\\n\\nA Circle can be defined by either specifying the radius or the diameter, and the user can query the circle for either its radius or diameter.\\n\\nOther abilities of a Circle instance:\\n\\nCompute the circle’s area.\\n-Print the circle and get something nice.\\n-Be able to add two circles together.\\n-Be able to compare two circles to see which is bigger.\\n-Be able to compare to see if they are are equal.\\n-(follows from above) be able to put them in a list and sort them.\\n-You will use:\\n\\nproperties.\\na bunch of “magic methods”.\\na classmethod (after you’ve learned about them…).\\nGeneral Instructions:\\nFor each step, write a couple of unit tests that test the new features.\\nRun these tests (and they will fail the first time)\\nAdd the code required for your tests to pass.\\n'"
      ]
     },
     "execution_count": 1,
     "metadata": {},
     "output_type": "execute_result"
    }
   ],
   "source": [
    "\"\"\"\n",
    "Goal:\n",
    "The goal is to create a class that represents a simple circle.\n",
    "\n",
    "A Circle can be defined by either specifying the radius or the diameter, and the user can query the circle for either its radius or diameter.\n",
    "\n",
    "Other abilities of a Circle instance:\n",
    "\n",
    "Compute the circle’s area.\n",
    "-Print the circle and get something nice.\n",
    "-Be able to add two circles together.\n",
    "-Be able to compare two circles to see which is bigger.\n",
    "-Be able to compare to see if they are are equal.\n",
    "-(follows from above) be able to put them in a list and sort them.\n",
    "-You will use:\n",
    "\n",
    "properties.\n",
    "a bunch of “magic methods”.\n",
    "a classmethod (after you’ve learned about them…).\n",
    "General Instructions:\n",
    "For each step, write a couple of unit tests that test the new features.\n",
    "Run these tests (and they will fail the first time)\n",
    "Add the code required for your tests to pass.\n",
    "\"\"\""
   ]
  },
  {
   "cell_type": "markdown",
   "metadata": {},
   "source": [
    "### Solution"
   ]
  },
  {
   "cell_type": "code",
   "execution_count": 30,
   "metadata": {},
   "outputs": [],
   "source": [
    "from math import pi\n",
    "\n",
    "class Circle():\n",
    "    \"\"\"Generate a circle, radius, diameter and area.\"\"\"\n",
    "    \n",
    "    def __init__(self, radius):\n",
    "        \"\"\"Create a circle using set radius value\"\"\"\n",
    "        \n",
    "        self.radius = radius\n",
    "        \n",
    "    @property #You can call it as a attribute rather than method\n",
    "    def diameter(self): #diameter property\n",
    "        \"\"\"Gets the diameter of the circle.\"\"\"\n",
    "        \n",
    "        return self.radius * 2\n",
    "    \n",
    "    @diameter.setter\n",
    "    def diameter(self, value):\n",
    "        \"\"\"Sets the diameter of the circle.\"\"\"\n",
    "        \n",
    "        self.radius = value / 2\n",
    "    \n",
    "    @property\n",
    "    def area(self):\n",
    "        \"\"\"Calculates area of the circle.\"\"\"\n",
    "        \n",
    "        return pi * self.radius ** 2\n",
    "    \n",
    "    def __str__(self):\n",
    "        \"\"\"Shows informal string representation.\"\"\"\n",
    "        \n",
    "        return f\"Circle with radius: {self.radius}\"\n",
    "    \n",
    "    def __repr__(self):\n",
    "        \"\"\"Shows class representation.\"\"\"\n",
    "        \n",
    "        return f\"Circle({self.radius})\"\n",
    "        \n",
    "    def __add__(self, other):\n",
    "        \"\"\"Adds two circles together.\"\"\"\n",
    "        \n",
    "        return Circle(self.radius + other.radius)\n",
    "    \n",
    "    def __mul__(self, other):\n",
    "        \"\"\"Multiples radius of a circle.\"\"\"\n",
    "        \n",
    "        return Circle(self.radius * other)\n",
    "    \n",
    "    def __rmul__(other, self):\n",
    "        \"\"\"Multiples radius of a circle if first number is an integer.\"\"\"\n",
    "        \n",
    "        return Circle(other.radius * self)\n",
    "    \n",
    "    \"\"\"Rich Comparison methods\"\"\"\n",
    "    def __eq__(self, other):\n",
    "        \"\"\"Compare with equal to.\"\"\"\n",
    "        \n",
    "        return self.radius == other.radius\n",
    "    \n",
    "    def __ne__(self, other):\n",
    "        \"\"\"Compare with being not equl to.\"\"\"\n",
    "        \n",
    "        return self.radius != other.radius\n",
    "    \n",
    "    def __lt__(self, other):\n",
    "        \"\"\"Compare with less than.\"\"\"\n",
    "        \n",
    "        return self.radius < other.radius\n",
    "    \n",
    "    def __gt__(self, other):\n",
    "        \"\"\"Compare with greater than.\"\"\"\n",
    "        \n",
    "        return self.radius > other.radius\n",
    "\n",
    "    \"\"\"    \n",
    "    def __le__(self, other):\n",
    "        return self.radius <= other.radius\n",
    "    \n",
    "    def __ge__(self, other):\n",
    "        return self.radius >= other.radius\n",
    "    \"\"\"\n",
    "    \n",
    "    \n",
    "        \n",
    "class Sphere(Circle):\n",
    "    \n",
    "    def __str__(self):\n",
    "        \"\"\"Shows string representation.\"\"\"\n",
    "        \n",
    "        return f\"Sphere with radius: {self.radius}\"\n",
    "    \n",
    "    def __repr__(self):\n",
    "        \"\"\"Shows class representation.\"\"\"\n",
    "        \n",
    "        return f\"Sphere({self.radius})\"\n",
    "    \n",
    "    @property\n",
    "    def volume(self):\n",
    "        \"\"\"Calculates volume of the sphere.\"\"\"\n",
    "        \n",
    "        return 4/3 * pi * self.radius ** 3\n",
    "    \n",
    "    @property\n",
    "    def area(self):\n",
    "        \"\"\"Calculates area of the sphere.\"\"\"\n",
    "        \n",
    "        return 4 * pi * self.radius ** 2\n",
    "    \n",
    "        \n",
    "c = Circle(4)\n",
    "s = Sphere(4)"
   ]
  },
  {
   "cell_type": "code",
   "execution_count": 31,
   "metadata": {},
   "outputs": [],
   "source": [
    "#type(c)\n",
    "#dir(c)"
   ]
  },
  {
   "cell_type": "code",
   "execution_count": null,
   "metadata": {},
   "outputs": [],
   "source": []
  },
  {
   "cell_type": "code",
   "execution_count": 37,
   "metadata": {},
   "outputs": [
    {
     "name": "stdout",
     "output_type": "stream",
     "text": [
      "Step 9: Sphere Class\n",
      "Sphere with radius: 4\n",
      "Sphere(4)\n"
     ]
    }
   ],
   "source": [
    "print(\"Step 9: Sphere Class\")\n",
    "print(s)\n",
    "print(repr(s))"
   ]
  },
  {
   "cell_type": "code",
   "execution_count": 33,
   "metadata": {},
   "outputs": [
    {
     "data": {
      "text/plain": [
       "268.082573106329"
      ]
     },
     "execution_count": 33,
     "metadata": {},
     "output_type": "execute_result"
    }
   ],
   "source": [
    "s.volume"
   ]
  },
  {
   "cell_type": "code",
   "execution_count": 34,
   "metadata": {},
   "outputs": [],
   "source": [
    "assert s.volume == 268.082573106329"
   ]
  },
  {
   "cell_type": "code",
   "execution_count": 35,
   "metadata": {},
   "outputs": [
    {
     "data": {
      "text/plain": [
       "201.06192982974676"
      ]
     },
     "execution_count": 35,
     "metadata": {},
     "output_type": "execute_result"
    }
   ],
   "source": [
    "s.area"
   ]
  },
  {
   "cell_type": "code",
   "execution_count": 36,
   "metadata": {},
   "outputs": [],
   "source": [
    "assert s.area == 201.06192982974676"
   ]
  },
  {
   "cell_type": "code",
   "execution_count": null,
   "metadata": {},
   "outputs": [],
   "source": []
  },
  {
   "cell_type": "code",
   "execution_count": null,
   "metadata": {},
   "outputs": [],
   "source": []
  },
  {
   "cell_type": "code",
   "execution_count": null,
   "metadata": {},
   "outputs": [],
   "source": []
  },
  {
   "cell_type": "markdown",
   "metadata": {},
   "source": [
    "### Assertions"
   ]
  },
  {
   "cell_type": "code",
   "execution_count": null,
   "metadata": {},
   "outputs": [],
   "source": [
    "import unittest"
   ]
  },
  {
   "cell_type": "code",
   "execution_count": null,
   "metadata": {},
   "outputs": [],
   "source": [
    "c = Circle(4)\n",
    "assert c.radius == 4"
   ]
  },
  {
   "cell_type": "code",
   "execution_count": null,
   "metadata": {},
   "outputs": [],
   "source": [
    "c = Circle(4)\n",
    "assert c.diameter == 8"
   ]
  },
  {
   "cell_type": "code",
   "execution_count": null,
   "metadata": {},
   "outputs": [],
   "source": [
    "c = Circle(4)\n",
    "assert c.diameter == 8\n",
    "c.diameter = 2\n",
    "assert c.diameter == 2\n",
    "assert c.radius == 1"
   ]
  },
  {
   "cell_type": "code",
   "execution_count": null,
   "metadata": {},
   "outputs": [],
   "source": [
    "c = Circle(2)\n",
    "assert c.area == 12.566370"
   ]
  },
  {
   "cell_type": "code",
   "execution_count": null,
   "metadata": {},
   "outputs": [],
   "source": []
  },
  {
   "cell_type": "code",
   "execution_count": null,
   "metadata": {},
   "outputs": [],
   "source": []
  },
  {
   "cell_type": "code",
   "execution_count": null,
   "metadata": {},
   "outputs": [],
   "source": []
  }
 ],
 "metadata": {
  "kernelspec": {
   "display_name": "Python 3",
   "language": "python",
   "name": "python3"
  },
  "language_info": {
   "codemirror_mode": {
    "name": "ipython",
    "version": 3
   },
   "file_extension": ".py",
   "mimetype": "text/x-python",
   "name": "python",
   "nbconvert_exporter": "python",
   "pygments_lexer": "ipython3",
   "version": "3.6.5"
  }
 },
 "nbformat": 4,
 "nbformat_minor": 2
}
