{
 "cells": [
  {
   "cell_type": "markdown",
   "metadata": {},
   "source": [
    "# Fibonacci Series"
   ]
  },
  {
   "cell_type": "markdown",
   "metadata": {},
   "source": [
    "### Problem"
   ]
  },
  {
   "cell_type": "code",
   "execution_count": 1,
   "metadata": {},
   "outputs": [
    {
     "data": {
      "text/plain": [
       "'\\nThe Fibonacci Series is a numeric series starting with the integers 0 and 1.\\nIn this series, the next integer is determined by summing the previous two.\\nThis gives us:\\n0, 1, 1, 2, 3, 5, 8, 13, ...\\nWe will write a function that computes this series – then generalize it.\\n\\n-Create a new module series.py in the session02 folder in your student folder.\\n-In it, add a function called fibonacci.\\n-The function should have one parameter n.\\n-The function should return the nth value in the fibonacci series (starting with zero index).\\n-Ensure that your function has a well-formed docstring\\n-Note that the fibinacci series is naturally recursive – the value is defined by previous values:\\n\\nfib(n) = fib(n-2) + fib(n-1)\\n\\nThe Lucas Numbers are a related series of integers that start with the values 2 and 1 rather than 0 and 1. The resulting series looks like this:\\n\\n2, 1, 3, 4, 7, 11, 18, 29, ...\\nIn your series.py module, add a new function lucas that returns the nth value in the lucas numbers series (starting with zero index).\\n\\nEnsure that your function has a well-formed docstring\\n\\nBoth the fibonacci series and the lucas numbers are based on an identical formula.\\nAdd a third function called sum_series with one required parameter and two optional parameters. \\nThe required parameter will determine which element in the series to print. \\nThe two optional parameters will have default values of 0 and 1 and will determine the first two values for \\nthe series to be produced.\\nCalling this function with no optional parameters will produce numbers from the fibonacci series. \\nCalling it with the optional arguments 2 and 1 will produce values from the lucas numbers. \\nOther values for the optional parameters will produce other series.\\nNote: While you could check the input arguments, and then call one of the functions you wrote, \\nthe idea of this exercise is to make a general function, rather than one specialized. \\nSo you should reimplement the code in this function.\\nIn fact, you could go back and reimplement your fibonacci and lucas functions to call this one with particular arguments.\\nEnsure that your function has a well-formed docstring\\n'"
      ]
     },
     "execution_count": 1,
     "metadata": {},
     "output_type": "execute_result"
    }
   ],
   "source": [
    "\"\"\"\n",
    "The Fibonacci Series is a numeric series starting with the integers 0 and 1.\n",
    "In this series, the next integer is determined by summing the previous two.\n",
    "This gives us:\n",
    "0, 1, 1, 2, 3, 5, 8, 13, ...\n",
    "We will write a function that computes this series – then generalize it.\n",
    "\n",
    "-Create a new module series.py in the session02 folder in your student folder.\n",
    "-In it, add a function called fibonacci.\n",
    "-The function should have one parameter n.\n",
    "-The function should return the nth value in the fibonacci series (starting with zero index).\n",
    "-Ensure that your function has a well-formed docstring\n",
    "-Note that the fibinacci series is naturally recursive – the value is defined by previous values:\n",
    "\n",
    "fib(n) = fib(n-2) + fib(n-1)\n",
    "\n",
    "The Lucas Numbers are a related series of integers that start with the values 2 and 1 rather than 0 and 1. The resulting series looks like this:\n",
    "\n",
    "2, 1, 3, 4, 7, 11, 18, 29, ...\n",
    "In your series.py module, add a new function lucas that returns the nth value in the lucas numbers series (starting with zero index).\n",
    "\n",
    "Ensure that your function has a well-formed docstring\n",
    "\n",
    "Both the fibonacci series and the lucas numbers are based on an identical formula.\n",
    "Add a third function called sum_series with one required parameter and two optional parameters. \n",
    "The required parameter will determine which element in the series to print. \n",
    "The two optional parameters will have default values of 0 and 1 and will determine the first two values for \n",
    "the series to be produced.\n",
    "Calling this function with no optional parameters will produce numbers from the fibonacci series. \n",
    "Calling it with the optional arguments 2 and 1 will produce values from the lucas numbers. \n",
    "Other values for the optional parameters will produce other series.\n",
    "Note: While you could check the input arguments, and then call one of the functions you wrote, \n",
    "the idea of this exercise is to make a general function, rather than one specialized. \n",
    "So you should reimplement the code in this function.\n",
    "In fact, you could go back and reimplement your fibonacci and lucas functions to call this one with particular arguments.\n",
    "Ensure that your function has a well-formed docstring\n",
    "\"\"\""
   ]
  },
  {
   "cell_type": "markdown",
   "metadata": {},
   "source": [
    "### Solution"
   ]
  },
  {
   "cell_type": "code",
   "execution_count": 2,
   "metadata": {},
   "outputs": [
    {
     "name": "stdout",
     "output_type": "stream",
     "text": [
      "Tests passed!\n"
     ]
    }
   ],
   "source": [
    "#Fibonacci Series\n",
    "\n",
    "def fibonacci(n):    \n",
    "    \"\"\"Compute the nth Fibonacci number. \n",
    "\n",
    "    Args:\n",
    "        n (int): the number of terms.\n",
    "    Returns: \n",
    "        nth (int): the nth value in fibonacci series.\n",
    "    \n",
    "    \"\"\"\n",
    "    \n",
    "    if (n < 0):\n",
    "        print(\"Please enter a postive integer for n.\")\n",
    "    elif (n == 0):\n",
    "        return 0\n",
    "    elif (n == 1):\n",
    "        return 1\n",
    "    else:\n",
    "        nth = fibonacci(n-1) + fibonacci(n-2)\n",
    "        return nth\n",
    "\n",
    "def lucas(n):\n",
    "    \"\"\"Compute the nth Lucas number. \n",
    "\n",
    "    Args:\n",
    "        n (int): the number of terms.\n",
    "    Returns: \n",
    "        nth (int): the nth value in lucas series.\n",
    "    \n",
    "    \"\"\"\n",
    "    \n",
    "    if (n < 0):\n",
    "        print(\"Please enter a postive integer for n.\")\n",
    "    elif (n == 0):\n",
    "        return 2 #Initial number different from fibonacci series\n",
    "    elif (n == 1):\n",
    "        return 1 #Same number as fibonacci series\n",
    "    else:\n",
    "        nth = lucas(n-1) + lucas(n-2)\n",
    "        return nth\n",
    "\n",
    "def sum_series(n, n0=0, n1=1):\n",
    "    \"\"\"Compute the nth value of a summation series.\n",
    "    \n",
    "    Args:\n",
    "        n (int): the number of terms.\n",
    "        n0 (int): the value of the zeroth element in the series.\n",
    "        n1 (int): the value of the first element in the series. \n",
    "    Returns: \n",
    "        nth (int): the nth value in summation series.\n",
    "        \n",
    "    \"\"\"\n",
    "    \n",
    "    if (n < 0):\n",
    "        print(\"Please enter a postive integer for n.\")\n",
    "    elif (n == 0):\n",
    "        return n0\n",
    "    elif (n == 1):\n",
    "        return n1\n",
    "    else:\n",
    "        nth = sum_series(n-1, n0, n1) + sum_series(n-2, n0, n1)\n",
    "        return nth  \n",
    "    \n",
    "if __name__ == \"__main__\":\n",
    "    #Run some tests\n",
    "    assert fibonacci(0) == 0\n",
    "    assert fibonacci(1) == 1\n",
    "    assert fibonacci(2) == 1\n",
    "    assert fibonacci(3) == 2\n",
    "    assert fibonacci(4) == 3\n",
    "    assert fibonacci(5) == 5\n",
    "    assert fibonacci(6) == 8\n",
    "    assert fibonacci(7) == 13\n",
    "\n",
    "    assert lucas(0) == 2\n",
    "    assert lucas(1) == 1\n",
    "    assert lucas(2) == 3\n",
    "    assert lucas(3) == 4\n",
    "    assert lucas(4) == 7\n",
    "    assert lucas(5) == 11\n",
    "    assert lucas(6) == 18\n",
    "    assert lucas(7) == 29\n",
    "\n",
    "    assert sum_series(0) == 0\n",
    "    assert sum_series(1) == 1\n",
    "    assert sum_series(2) == 1\n",
    "    assert sum_series(3) == 2\n",
    "    assert sum_series(4) == 3\n",
    "    assert sum_series(5) == 5\n",
    "    assert sum_series(6) == 8\n",
    "    assert sum_series(7) == 13\n",
    "    \n",
    "    assert sum_series(0,2,1) == 2\n",
    "    assert sum_series(1,2,1) == 1\n",
    "    assert sum_series(2,2,1) == 3\n",
    "    assert sum_series(3,2,1) == 4\n",
    "    assert sum_series(4,2,1) == 7\n",
    "    assert sum_series(5,2,1) == 11\n",
    "    assert sum_series(6,2,1) == 18\n",
    "    assert sum_series(7,2,1) == 29\n",
    "    \n",
    "    assert sum_series(5) == fibonacci(5)\n",
    "\n",
    "    #Test if sum_series matched lucas\n",
    "    assert sum_series(5, 2, 1) == lucas(5)\n",
    "\n",
    "    print(\"Tests passed!\")"
   ]
  }
 ],
 "metadata": {
  "kernelspec": {
   "display_name": "Python 3",
   "language": "python",
   "name": "python3"
  },
  "language_info": {
   "codemirror_mode": {
    "name": "ipython",
    "version": 3
   },
   "file_extension": ".py",
   "mimetype": "text/x-python",
   "name": "python",
   "nbconvert_exporter": "python",
   "pygments_lexer": "ipython3",
   "version": "3.6.5"
  }
 },
 "nbformat": 4,
 "nbformat_minor": 2
}
