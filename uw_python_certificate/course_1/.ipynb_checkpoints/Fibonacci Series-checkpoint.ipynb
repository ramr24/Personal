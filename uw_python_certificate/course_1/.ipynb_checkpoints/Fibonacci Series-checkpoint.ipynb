{
 "cells": [
  {
   "cell_type": "markdown",
   "metadata": {},
   "source": [
    "### Problem"
   ]
  },
  {
   "cell_type": "code",
   "execution_count": 1,
   "metadata": {},
   "outputs": [
    {
     "data": {
      "text/plain": [
       "'The Fibonacci Series is a numeric series starting with the integers 0 and 1.\\n\\nIn this series, the next integer is determined by summing the previous two.\\n\\nThis gives us:\\n\\n0, 1, 1, 2, 3, 5, 8, 13, ...\\nWe will write a function that computes this series – then generalize it.\\n'"
      ]
     },
     "execution_count": 1,
     "metadata": {},
     "output_type": "execute_result"
    }
   ],
   "source": [
    "\"\"\"The Fibonacci Series is a numeric series starting with the integers 0 and 1.\n",
    "\n",
    "In this series, the next integer is determined by summing the previous two.\n",
    "\n",
    "This gives us:\n",
    "\n",
    "0, 1, 1, 2, 3, 5, 8, 13, ...\n",
    "We will write a function that computes this series – then generalize it.\n",
    "\"\"\""
   ]
  },
  {
   "cell_type": "markdown",
   "metadata": {},
   "source": [
    "### Solution"
   ]
  },
  {
   "cell_type": "code",
   "execution_count": null,
   "metadata": {},
   "outputs": [],
   "source": []
  },
  {
   "cell_type": "code",
   "execution_count": null,
   "metadata": {},
   "outputs": [],
   "source": []
  },
  {
   "cell_type": "code",
   "execution_count": null,
   "metadata": {},
   "outputs": [],
   "source": []
  }
 ],
 "metadata": {
  "kernelspec": {
   "display_name": "Python 3",
   "language": "python",
   "name": "python3"
  },
  "language_info": {
   "codemirror_mode": {
    "name": "ipython",
    "version": 3
   },
   "file_extension": ".py",
   "mimetype": "text/x-python",
   "name": "python",
   "nbconvert_exporter": "python",
   "pygments_lexer": "ipython3",
   "version": "3.6.5"
  }
 },
 "nbformat": 4,
 "nbformat_minor": 2
}
