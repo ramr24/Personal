{
 "cells": [
  {
   "cell_type": "markdown",
   "metadata": {},
   "source": [
    "##### Imports/Settings"
   ]
  },
  {
   "cell_type": "code",
   "execution_count": 1,
   "metadata": {},
   "outputs": [],
   "source": [
    "# General imports\n",
    "import pandas as pd\n",
    "import numpy as np\n",
    "import csv\n",
    "import os\n",
    "\n",
    "# Pandas display settings\n",
    "pd.set_option(\"display.max_colwidth\",150)\n",
    "pd.set_option('display.max_columns', None)\n",
    "\n",
    "# Graph imports\n",
    "import seaborn as sns\n",
    "import matplotlib.pyplot as plt\n",
    "\n",
    "# Graph settings\n",
    "sns.set(context = \"notebook\", style = \"white\", font=\"verdana\") # font_scale = 1.35)\n",
    "\n",
    "# Function imports\n",
    "from function_scripts.temp_funcs import read_file, merge_dataframes, \\\n",
    "                                        drop_cols, drop_nans, \\\n",
    "                                        filter_date_range, filter_df, create_cond_df, \\\n",
    "                                        create_container_df, create_user_tube_id, create_user_ivscc"
   ]
  },
  {
   "cell_type": "markdown",
   "metadata": {},
   "source": [
    "##### Graph details"
   ]
  },
  {
   "cell_type": "code",
   "execution_count": 2,
   "metadata": {},
   "outputs": [],
   "source": [
    "sub_region_order = [\"MB\", \"PAL\", \"STRd\", \"STRv\", \"TH\"]\n",
    "sub_layer_order = [\"SNc\", \"SNr\", \"Gpe\", \"Gpi\", \"CP\", \"ACB\", \"MD\", \"VAL\"]"
   ]
  },
  {
   "cell_type": "markdown",
   "metadata": {},
   "source": [
    "##### Paths"
   ]
  },
  {
   "cell_type": "code",
   "execution_count": 3,
   "metadata": {},
   "outputs": [],
   "source": [
    "# IVSCC Data Blitz directory\n",
    "path_ivscc = \"C:/Users/ramr/Documents/Github/analysis_projects/ivscc_data_blitz\"\n",
    "\n",
    "# Ephys features csv\n",
    "path_ephys = os.path.join(path_ivscc, \"ephys_features.csv\")\n",
    "\n",
    "# Main JEM directory\n",
    "path_main_jem = \"//allen/programs/celltypes/workgroups/279/Patch-Seq/compiled-jem-data\"\n",
    "\n",
    "# JEM csv files\n",
    "path_jem = os.path.join(path_main_jem, \"jem_metadata.csv\")\n",
    "path_jem_na = os.path.join(path_main_jem, \"jem_metadata_tubeNA.csv\")\n",
    "path_jem_fail = os.path.join(path_main_jem, \"jem_metadata_wFAILURE.csv\")\n",
    "\n",
    "# Shiny directory\n",
    "path_shiny_mouse = \"//allen/programs/celltypes/workgroups/rnaseqanalysis/shiny/patch_seq/star/mouse_patchseq_VISp_current/mapping.df.with.bp.40.lastmap.csv\""
   ]
  },
  {
   "cell_type": "code",
   "execution_count": 4,
   "metadata": {},
   "outputs": [],
   "source": [
    "fields_jem = [\"date\", \"name\", \"organism_name\", \"status\", \"roi_major\", \"roi_minor\", \"rigOperator\", \"container\"]\n",
    "fields_shiny = [\"sample_id\", \"cell_name\", \"percent_cdna_longer_than_400bp\", \"rna_amplification_pass_fail\",\n",
    "                \"amplified_quantity_ng\", \"Genes.With.CPM\", \"marker_sum_norm_label\", \"Norm_Marker_Sum.0.4_label\"]"
   ]
  },
  {
   "cell_type": "code",
   "execution_count": 5,
   "metadata": {},
   "outputs": [
    {
     "name": "stderr",
     "output_type": "stream",
     "text": [
      "INFO:function_scripts.temp_funcs:Read file in as a pandas dataframe\n",
      "INFO:function_scripts.temp_funcs:Read file in as a pandas dataframe\n",
      "INFO:function_scripts.temp_funcs:Created a user_tube_id column to show(ex.'PA')\n",
      "INFO:function_scripts.temp_funcs:Created a user_ivscc column to show(ex.'Ram')\n",
      "INFO:function_scripts.temp_funcs:Dropped NaNs from these columns: ['date', 'roi_major', 'user_tube_id']\n",
      "INFO:function_scripts.temp_funcs:Filtered dataframe based on organism_name == Mouse\n",
      "INFO:function_scripts.temp_funcs:Created a conditional dataframe based on roi_major containing ['MB', 'PAL', 'STRd', 'STRv', 'TH']\n"
     ]
    }
   ],
   "source": [
    "jem = read_file(path_jem, fields_jem)\n",
    "shiny_mouse = read_file(path_shiny_mouse, fields_shiny)\n",
    "\n",
    "jem = create_user_tube_id(jem, \"rigOperator\")\n",
    "jem = create_user_ivscc(jem, \"rigOperator\")\n",
    "\n",
    "drop_nans_list = [\"date\", \"roi_major\", \"user_tube_id\"]\n",
    "jem = drop_nans(jem, drop_nans_list)\n",
    "\n",
    "jem = filter_df(jem, \"organism_name\", \"Mouse\")\n",
    "jem = create_cond_df(jem, \"roi_major\", sub_region_order)"
   ]
  },
  {
   "cell_type": "code",
   "execution_count": 6,
   "metadata": {},
   "outputs": [
    {
     "data": {
      "text/plain": [
       "array(['P8', 'PA', 'PJ', 'PE'], dtype=object)"
      ]
     },
     "execution_count": 6,
     "metadata": {},
     "output_type": "execute_result"
    }
   ],
   "source": [
    "jem.user_tube_id.unique()"
   ]
  },
  {
   "cell_type": "code",
   "execution_count": 12,
   "metadata": {},
   "outputs": [
    {
     "name": "stderr",
     "output_type": "stream",
     "text": [
      "INFO:function_scripts.temp_funcs:Dropped columns: ['container', 'status', 'organism_name', 'rigOperator']\n"
     ]
    },
    {
     "ename": "KeyError",
     "evalue": "\"['container' 'status' 'organism_name'] not found in axis\"",
     "output_type": "error",
     "traceback": [
      "\u001b[1;31m---------------------------------------------------------------------------\u001b[0m",
      "\u001b[1;31mKeyError\u001b[0m                                  Traceback (most recent call last)",
      "\u001b[1;32m<ipython-input-12-08892beb5c00>\u001b[0m in \u001b[0;36m<module>\u001b[1;34m\u001b[0m\n\u001b[1;32m----> 1\u001b[1;33m \u001b[0mjem\u001b[0m \u001b[1;33m=\u001b[0m \u001b[0mdrop_cols\u001b[0m\u001b[1;33m(\u001b[0m\u001b[0mjem\u001b[0m\u001b[1;33m,\u001b[0m \u001b[1;33m[\u001b[0m\u001b[1;34m\"container\"\u001b[0m\u001b[1;33m,\u001b[0m \u001b[1;34m\"status\"\u001b[0m\u001b[1;33m,\u001b[0m \u001b[1;34m\"organism_name\"\u001b[0m\u001b[1;33m,\u001b[0m \u001b[1;34m\"rigOperator\"\u001b[0m\u001b[1;33m]\u001b[0m\u001b[1;33m)\u001b[0m\u001b[1;33m\u001b[0m\u001b[1;33m\u001b[0m\u001b[0m\n\u001b[0m",
      "\u001b[1;32m~\\Documents\\Github\\analysis_projects\\ivscc_analysis\\function_scripts\\temp_funcs.py\u001b[0m in \u001b[0;36mdrop_cols\u001b[1;34m(df, drop_col)\u001b[0m\n\u001b[0;32m     55\u001b[0m     \"\"\"\n\u001b[0;32m     56\u001b[0m     \u001b[0mLOGGER\u001b[0m\u001b[1;33m.\u001b[0m\u001b[0minfo\u001b[0m\u001b[1;33m(\u001b[0m\u001b[1;34mf\"Dropped columns: {drop_col}\"\u001b[0m\u001b[1;33m)\u001b[0m\u001b[1;33m\u001b[0m\u001b[1;33m\u001b[0m\u001b[0m\n\u001b[1;32m---> 57\u001b[1;33m     \u001b[0mdf\u001b[0m\u001b[1;33m.\u001b[0m\u001b[0mdrop\u001b[0m\u001b[1;33m(\u001b[0m\u001b[0mcolumns\u001b[0m\u001b[1;33m=\u001b[0m\u001b[0mdrop_col\u001b[0m\u001b[1;33m,\u001b[0m \u001b[0minplace\u001b[0m\u001b[1;33m=\u001b[0m\u001b[1;32mTrue\u001b[0m\u001b[1;33m)\u001b[0m\u001b[1;33m\u001b[0m\u001b[1;33m\u001b[0m\u001b[0m\n\u001b[0m\u001b[0;32m     58\u001b[0m     \u001b[1;32mreturn\u001b[0m \u001b[0mdf\u001b[0m\u001b[1;33m\u001b[0m\u001b[1;33m\u001b[0m\u001b[0m\n\u001b[0;32m     59\u001b[0m \u001b[1;33m\u001b[0m\u001b[0m\n",
      "\u001b[1;32m~\\AppData\\Local\\Continuum\\anaconda3\\lib\\site-packages\\pandas\\core\\frame.py\u001b[0m in \u001b[0;36mdrop\u001b[1;34m(self, labels, axis, index, columns, level, inplace, errors)\u001b[0m\n\u001b[0;32m   4100\u001b[0m             \u001b[0mlevel\u001b[0m\u001b[1;33m=\u001b[0m\u001b[0mlevel\u001b[0m\u001b[1;33m,\u001b[0m\u001b[1;33m\u001b[0m\u001b[1;33m\u001b[0m\u001b[0m\n\u001b[0;32m   4101\u001b[0m             \u001b[0minplace\u001b[0m\u001b[1;33m=\u001b[0m\u001b[0minplace\u001b[0m\u001b[1;33m,\u001b[0m\u001b[1;33m\u001b[0m\u001b[1;33m\u001b[0m\u001b[0m\n\u001b[1;32m-> 4102\u001b[1;33m             \u001b[0merrors\u001b[0m\u001b[1;33m=\u001b[0m\u001b[0merrors\u001b[0m\u001b[1;33m,\u001b[0m\u001b[1;33m\u001b[0m\u001b[1;33m\u001b[0m\u001b[0m\n\u001b[0m\u001b[0;32m   4103\u001b[0m         )\n\u001b[0;32m   4104\u001b[0m \u001b[1;33m\u001b[0m\u001b[0m\n",
      "\u001b[1;32m~\\AppData\\Local\\Continuum\\anaconda3\\lib\\site-packages\\pandas\\core\\generic.py\u001b[0m in \u001b[0;36mdrop\u001b[1;34m(self, labels, axis, index, columns, level, inplace, errors)\u001b[0m\n\u001b[0;32m   3912\u001b[0m         \u001b[1;32mfor\u001b[0m \u001b[0maxis\u001b[0m\u001b[1;33m,\u001b[0m \u001b[0mlabels\u001b[0m \u001b[1;32min\u001b[0m \u001b[0maxes\u001b[0m\u001b[1;33m.\u001b[0m\u001b[0mitems\u001b[0m\u001b[1;33m(\u001b[0m\u001b[1;33m)\u001b[0m\u001b[1;33m:\u001b[0m\u001b[1;33m\u001b[0m\u001b[1;33m\u001b[0m\u001b[0m\n\u001b[0;32m   3913\u001b[0m             \u001b[1;32mif\u001b[0m \u001b[0mlabels\u001b[0m \u001b[1;32mis\u001b[0m \u001b[1;32mnot\u001b[0m \u001b[1;32mNone\u001b[0m\u001b[1;33m:\u001b[0m\u001b[1;33m\u001b[0m\u001b[1;33m\u001b[0m\u001b[0m\n\u001b[1;32m-> 3914\u001b[1;33m                 \u001b[0mobj\u001b[0m \u001b[1;33m=\u001b[0m \u001b[0mobj\u001b[0m\u001b[1;33m.\u001b[0m\u001b[0m_drop_axis\u001b[0m\u001b[1;33m(\u001b[0m\u001b[0mlabels\u001b[0m\u001b[1;33m,\u001b[0m \u001b[0maxis\u001b[0m\u001b[1;33m,\u001b[0m \u001b[0mlevel\u001b[0m\u001b[1;33m=\u001b[0m\u001b[0mlevel\u001b[0m\u001b[1;33m,\u001b[0m \u001b[0merrors\u001b[0m\u001b[1;33m=\u001b[0m\u001b[0merrors\u001b[0m\u001b[1;33m)\u001b[0m\u001b[1;33m\u001b[0m\u001b[1;33m\u001b[0m\u001b[0m\n\u001b[0m\u001b[0;32m   3915\u001b[0m \u001b[1;33m\u001b[0m\u001b[0m\n\u001b[0;32m   3916\u001b[0m         \u001b[1;32mif\u001b[0m \u001b[0minplace\u001b[0m\u001b[1;33m:\u001b[0m\u001b[1;33m\u001b[0m\u001b[1;33m\u001b[0m\u001b[0m\n",
      "\u001b[1;32m~\\AppData\\Local\\Continuum\\anaconda3\\lib\\site-packages\\pandas\\core\\generic.py\u001b[0m in \u001b[0;36m_drop_axis\u001b[1;34m(self, labels, axis, level, errors)\u001b[0m\n\u001b[0;32m   3944\u001b[0m                 \u001b[0mnew_axis\u001b[0m \u001b[1;33m=\u001b[0m \u001b[0maxis\u001b[0m\u001b[1;33m.\u001b[0m\u001b[0mdrop\u001b[0m\u001b[1;33m(\u001b[0m\u001b[0mlabels\u001b[0m\u001b[1;33m,\u001b[0m \u001b[0mlevel\u001b[0m\u001b[1;33m=\u001b[0m\u001b[0mlevel\u001b[0m\u001b[1;33m,\u001b[0m \u001b[0merrors\u001b[0m\u001b[1;33m=\u001b[0m\u001b[0merrors\u001b[0m\u001b[1;33m)\u001b[0m\u001b[1;33m\u001b[0m\u001b[1;33m\u001b[0m\u001b[0m\n\u001b[0;32m   3945\u001b[0m             \u001b[1;32melse\u001b[0m\u001b[1;33m:\u001b[0m\u001b[1;33m\u001b[0m\u001b[1;33m\u001b[0m\u001b[0m\n\u001b[1;32m-> 3946\u001b[1;33m                 \u001b[0mnew_axis\u001b[0m \u001b[1;33m=\u001b[0m \u001b[0maxis\u001b[0m\u001b[1;33m.\u001b[0m\u001b[0mdrop\u001b[0m\u001b[1;33m(\u001b[0m\u001b[0mlabels\u001b[0m\u001b[1;33m,\u001b[0m \u001b[0merrors\u001b[0m\u001b[1;33m=\u001b[0m\u001b[0merrors\u001b[0m\u001b[1;33m)\u001b[0m\u001b[1;33m\u001b[0m\u001b[1;33m\u001b[0m\u001b[0m\n\u001b[0m\u001b[0;32m   3947\u001b[0m             \u001b[0mresult\u001b[0m \u001b[1;33m=\u001b[0m \u001b[0mself\u001b[0m\u001b[1;33m.\u001b[0m\u001b[0mreindex\u001b[0m\u001b[1;33m(\u001b[0m\u001b[1;33m**\u001b[0m\u001b[1;33m{\u001b[0m\u001b[0maxis_name\u001b[0m\u001b[1;33m:\u001b[0m \u001b[0mnew_axis\u001b[0m\u001b[1;33m}\u001b[0m\u001b[1;33m)\u001b[0m\u001b[1;33m\u001b[0m\u001b[1;33m\u001b[0m\u001b[0m\n\u001b[0;32m   3948\u001b[0m \u001b[1;33m\u001b[0m\u001b[0m\n",
      "\u001b[1;32m~\\AppData\\Local\\Continuum\\anaconda3\\lib\\site-packages\\pandas\\core\\indexes\\base.py\u001b[0m in \u001b[0;36mdrop\u001b[1;34m(self, labels, errors)\u001b[0m\n\u001b[0;32m   5338\u001b[0m         \u001b[1;32mif\u001b[0m \u001b[0mmask\u001b[0m\u001b[1;33m.\u001b[0m\u001b[0many\u001b[0m\u001b[1;33m(\u001b[0m\u001b[1;33m)\u001b[0m\u001b[1;33m:\u001b[0m\u001b[1;33m\u001b[0m\u001b[1;33m\u001b[0m\u001b[0m\n\u001b[0;32m   5339\u001b[0m             \u001b[1;32mif\u001b[0m \u001b[0merrors\u001b[0m \u001b[1;33m!=\u001b[0m \u001b[1;34m\"ignore\"\u001b[0m\u001b[1;33m:\u001b[0m\u001b[1;33m\u001b[0m\u001b[1;33m\u001b[0m\u001b[0m\n\u001b[1;32m-> 5340\u001b[1;33m                 \u001b[1;32mraise\u001b[0m \u001b[0mKeyError\u001b[0m\u001b[1;33m(\u001b[0m\u001b[1;34m\"{} not found in axis\"\u001b[0m\u001b[1;33m.\u001b[0m\u001b[0mformat\u001b[0m\u001b[1;33m(\u001b[0m\u001b[0mlabels\u001b[0m\u001b[1;33m[\u001b[0m\u001b[0mmask\u001b[0m\u001b[1;33m]\u001b[0m\u001b[1;33m)\u001b[0m\u001b[1;33m)\u001b[0m\u001b[1;33m\u001b[0m\u001b[1;33m\u001b[0m\u001b[0m\n\u001b[0m\u001b[0;32m   5341\u001b[0m             \u001b[0mindexer\u001b[0m \u001b[1;33m=\u001b[0m \u001b[0mindexer\u001b[0m\u001b[1;33m[\u001b[0m\u001b[1;33m~\u001b[0m\u001b[0mmask\u001b[0m\u001b[1;33m]\u001b[0m\u001b[1;33m\u001b[0m\u001b[1;33m\u001b[0m\u001b[0m\n\u001b[0;32m   5342\u001b[0m         \u001b[1;32mreturn\u001b[0m \u001b[0mself\u001b[0m\u001b[1;33m.\u001b[0m\u001b[0mdelete\u001b[0m\u001b[1;33m(\u001b[0m\u001b[0mindexer\u001b[0m\u001b[1;33m)\u001b[0m\u001b[1;33m\u001b[0m\u001b[1;33m\u001b[0m\u001b[0m\n",
      "\u001b[1;31mKeyError\u001b[0m: \"['container' 'status' 'organism_name'] not found in axis\""
     ]
    }
   ],
   "source": [
    "jem = drop_cols(jem, [\"container\", \"status\", \"organism_name\", \"rigOperator\"])"
   ]
  },
  {
   "cell_type": "code",
   "execution_count": 13,
   "metadata": {},
   "outputs": [
    {
     "data": {
      "text/html": [
       "<div>\n",
       "<style scoped>\n",
       "    .dataframe tbody tr th:only-of-type {\n",
       "        vertical-align: middle;\n",
       "    }\n",
       "\n",
       "    .dataframe tbody tr th {\n",
       "        vertical-align: top;\n",
       "    }\n",
       "\n",
       "    .dataframe thead th {\n",
       "        text-align: right;\n",
       "    }\n",
       "</style>\n",
       "<table border=\"1\" class=\"dataframe\">\n",
       "  <thead>\n",
       "    <tr style=\"text-align: right;\">\n",
       "      <th></th>\n",
       "      <th>name</th>\n",
       "      <th>date</th>\n",
       "      <th>rigOperator</th>\n",
       "      <th>roi_major</th>\n",
       "      <th>roi_minor</th>\n",
       "      <th>user_tube_id</th>\n",
       "      <th>user_ivscc</th>\n",
       "    </tr>\n",
       "  </thead>\n",
       "  <tbody>\n",
       "    <tr>\n",
       "      <td>12350</td>\n",
       "      <td>Vip-IRES-Cre;Ai14-542026.11.09.02</td>\n",
       "      <td>2020-09-02 11:00:04 -0700</td>\n",
       "      <td>lindsayn</td>\n",
       "      <td>PAL</td>\n",
       "      <td>Gpi</td>\n",
       "      <td>P8</td>\n",
       "      <td>Lindsay</td>\n",
       "    </tr>\n",
       "    <tr>\n",
       "      <td>12351</td>\n",
       "      <td>Vip-IRES-Cre;Ai14-542026.11.09.01</td>\n",
       "      <td>2020-09-02 11:00:04 -0700</td>\n",
       "      <td>lindsayn</td>\n",
       "      <td>PAL</td>\n",
       "      <td>Gpi</td>\n",
       "      <td>P8</td>\n",
       "      <td>Lindsay</td>\n",
       "    </tr>\n",
       "    <tr>\n",
       "      <td>12410</td>\n",
       "      <td>Slc17a8-iCre;Ai14-544246.10.09.01</td>\n",
       "      <td>2020-09-15 15:10:07 -0700</td>\n",
       "      <td>ramr</td>\n",
       "      <td>PAL</td>\n",
       "      <td>Gpi</td>\n",
       "      <td>PA</td>\n",
       "      <td>Ram</td>\n",
       "    </tr>\n",
       "    <tr>\n",
       "      <td>12490</td>\n",
       "      <td>Sncg-IRES2-FlpO-neo;Ai65F-546568.07.06.01</td>\n",
       "      <td>2020-10-02 14:09:18 -0700</td>\n",
       "      <td>sarav</td>\n",
       "      <td>PAL</td>\n",
       "      <td>Gpi</td>\n",
       "      <td>PJ</td>\n",
       "      <td>Sara</td>\n",
       "    </tr>\n",
       "    <tr>\n",
       "      <td>12491</td>\n",
       "      <td>Sncg-IRES2-FlpO-neo;Ai65F-546568.07.06.02</td>\n",
       "      <td>2020-10-02 14:09:18 -0700</td>\n",
       "      <td>sarav</td>\n",
       "      <td>PAL</td>\n",
       "      <td>Gpi</td>\n",
       "      <td>PJ</td>\n",
       "      <td>Sara</td>\n",
       "    </tr>\n",
       "    <tr>\n",
       "      <td>...</td>\n",
       "      <td>...</td>\n",
       "      <td>...</td>\n",
       "      <td>...</td>\n",
       "      <td>...</td>\n",
       "      <td>...</td>\n",
       "      <td>...</td>\n",
       "      <td>...</td>\n",
       "    </tr>\n",
       "    <tr>\n",
       "      <td>13008</td>\n",
       "      <td>Slc17a7-IRES2-Cre;Ai14-565032.08.09.01</td>\n",
       "      <td>2021-02-09 10:51:55 -0800</td>\n",
       "      <td>ramr</td>\n",
       "      <td>TH</td>\n",
       "      <td>MD</td>\n",
       "      <td>PA</td>\n",
       "      <td>Ram</td>\n",
       "    </tr>\n",
       "    <tr>\n",
       "      <td>13013</td>\n",
       "      <td>Vip-IRES-Cre;Ai14-564742.04.10.02</td>\n",
       "      <td>2021-02-10 14:16:31 -0800</td>\n",
       "      <td>ramr</td>\n",
       "      <td>STRv</td>\n",
       "      <td>ACB</td>\n",
       "      <td>PA</td>\n",
       "      <td>Ram</td>\n",
       "    </tr>\n",
       "    <tr>\n",
       "      <td>13014</td>\n",
       "      <td>Vip-IRES-Cre;Ai14-564742.04.10.01</td>\n",
       "      <td>2021-02-10 14:16:31 -0800</td>\n",
       "      <td>ramr</td>\n",
       "      <td>STRv</td>\n",
       "      <td>ACB</td>\n",
       "      <td>PA</td>\n",
       "      <td>Ram</td>\n",
       "    </tr>\n",
       "    <tr>\n",
       "      <td>13015</td>\n",
       "      <td>Vip-IRES-Cre;Ai14-564742.04.10.03</td>\n",
       "      <td>2021-02-10 14:16:31 -0800</td>\n",
       "      <td>ramr</td>\n",
       "      <td>STRv</td>\n",
       "      <td>ACB</td>\n",
       "      <td>PA</td>\n",
       "      <td>Ram</td>\n",
       "    </tr>\n",
       "    <tr>\n",
       "      <td>13016</td>\n",
       "      <td>Vip-IRES-Cre;Ai14-564742.05.10.01</td>\n",
       "      <td>2021-02-10 16:21:18 -0800</td>\n",
       "      <td>ramr</td>\n",
       "      <td>STRv</td>\n",
       "      <td>ACB</td>\n",
       "      <td>PA</td>\n",
       "      <td>Ram</td>\n",
       "    </tr>\n",
       "  </tbody>\n",
       "</table>\n",
       "<p>256 rows × 7 columns</p>\n",
       "</div>"
      ],
      "text/plain": [
       "                                            name                       date  \\\n",
       "12350          Vip-IRES-Cre;Ai14-542026.11.09.02  2020-09-02 11:00:04 -0700   \n",
       "12351          Vip-IRES-Cre;Ai14-542026.11.09.01  2020-09-02 11:00:04 -0700   \n",
       "12410          Slc17a8-iCre;Ai14-544246.10.09.01  2020-09-15 15:10:07 -0700   \n",
       "12490  Sncg-IRES2-FlpO-neo;Ai65F-546568.07.06.01  2020-10-02 14:09:18 -0700   \n",
       "12491  Sncg-IRES2-FlpO-neo;Ai65F-546568.07.06.02  2020-10-02 14:09:18 -0700   \n",
       "...                                          ...                        ...   \n",
       "13008     Slc17a7-IRES2-Cre;Ai14-565032.08.09.01  2021-02-09 10:51:55 -0800   \n",
       "13013          Vip-IRES-Cre;Ai14-564742.04.10.02  2021-02-10 14:16:31 -0800   \n",
       "13014          Vip-IRES-Cre;Ai14-564742.04.10.01  2021-02-10 14:16:31 -0800   \n",
       "13015          Vip-IRES-Cre;Ai14-564742.04.10.03  2021-02-10 14:16:31 -0800   \n",
       "13016          Vip-IRES-Cre;Ai14-564742.05.10.01  2021-02-10 16:21:18 -0800   \n",
       "\n",
       "      rigOperator roi_major roi_minor user_tube_id user_ivscc  \n",
       "12350    lindsayn       PAL       Gpi           P8    Lindsay  \n",
       "12351    lindsayn       PAL       Gpi           P8    Lindsay  \n",
       "12410        ramr       PAL       Gpi           PA        Ram  \n",
       "12490       sarav       PAL       Gpi           PJ       Sara  \n",
       "12491       sarav       PAL       Gpi           PJ       Sara  \n",
       "...           ...       ...       ...          ...        ...  \n",
       "13008        ramr        TH        MD           PA        Ram  \n",
       "13013        ramr      STRv       ACB           PA        Ram  \n",
       "13014        ramr      STRv       ACB           PA        Ram  \n",
       "13015        ramr      STRv       ACB           PA        Ram  \n",
       "13016        ramr      STRv       ACB           PA        Ram  \n",
       "\n",
       "[256 rows x 7 columns]"
      ]
     },
     "execution_count": 13,
     "metadata": {},
     "output_type": "execute_result"
    }
   ],
   "source": [
    "jem"
   ]
  },
  {
   "cell_type": "code",
   "execution_count": null,
   "metadata": {},
   "outputs": [],
   "source": []
  }
 ],
 "metadata": {
  "kernelspec": {
   "display_name": "Python 3",
   "language": "python",
   "name": "python3"
  },
  "language_info": {
   "codemirror_mode": {
    "name": "ipython",
    "version": 3
   },
   "file_extension": ".py",
   "mimetype": "text/x-python",
   "name": "python",
   "nbconvert_exporter": "python",
   "pygments_lexer": "ipython3",
   "version": "3.7.4"
  }
 },
 "nbformat": 4,
 "nbformat_minor": 2
}
