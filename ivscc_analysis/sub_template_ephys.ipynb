{
 "cells": [
  {
   "cell_type": "markdown",
   "metadata": {},
   "source": [
    "##### Imports/Settings"
   ]
  },
  {
   "cell_type": "code",
   "execution_count": 1,
   "metadata": {},
   "outputs": [],
   "source": [
    "# General imports\n",
    "import pandas as pd\n",
    "import numpy as np\n",
    "import csv\n",
    "import os\n",
    "\n",
    "# Pandas display settings\n",
    "pd.set_option(\"display.max_colwidth\",150)\n",
    "pd.set_option('display.max_columns', None)\n",
    "\n",
    "# Graph imports\n",
    "import seaborn as sns\n",
    "import matplotlib.pyplot as plt\n",
    "\n",
    "# Graph settings\n",
    "sns.set(context = \"notebook\", style = \"white\", font=\"verdana\") # font_scale = 1.35)\n",
    "\n",
    "# Function imports\n",
    "from function_scripts.temp_funcs import read_file, merge_dataframes, \\\n",
    "                                        drop_cols, drop_nans, \\\n",
    "                                        filter_date_range, filter_df, create_cond_df, \\\n",
    "                                        create_container_df, create_user_tube_id, create_user_ivscc"
   ]
  },
  {
   "cell_type": "markdown",
   "metadata": {},
   "source": [
    "##### Graph details"
   ]
  },
  {
   "cell_type": "code",
   "execution_count": 2,
   "metadata": {},
   "outputs": [],
   "source": [
    "sub_region_order = [\"MB\", \"PAL\", \"STRd\", \"STRv\", \"TH\"]\n",
    "sub_layer_order = [\"SNc\", \"SNr\", \"Gpe\", \"Gpi\", \"CP\", \"ACB\", \"MD\", \"VAL\"]"
   ]
  },
  {
   "cell_type": "markdown",
   "metadata": {},
   "source": [
    "##### Paths"
   ]
  },
  {
   "cell_type": "code",
   "execution_count": 3,
   "metadata": {},
   "outputs": [],
   "source": [
    "# IVSCC Data Blitz directory\n",
    "path_ivscc_csv = \"C:/Users/ramr/Documents/Github/analysis_projects/ivscc_analysis/csv/\"\n",
    "\n",
    "# Ephys features csv\n",
    "path_ephys = os.path.join(path_ivscc_csv, \"ephys_features.csv\")\n",
    "\n",
    "# Main JEM directory\n",
    "path_main_jem = \"//allen/programs/celltypes/workgroups/279/Patch-Seq/compiled-jem-data\"\n",
    "\n",
    "# JEM csv files\n",
    "path_jem = os.path.join(path_main_jem, \"jem_metadata.csv\")\n",
    "path_jem_na = os.path.join(path_main_jem, \"jem_metadata_tubeNA.csv\")\n",
    "path_jem_fail = os.path.join(path_main_jem, \"jem_metadata_wFAILURE.csv\")"
   ]
  },
  {
   "cell_type": "code",
   "execution_count": 4,
   "metadata": {},
   "outputs": [],
   "source": [
    "fields_jem = [\"date\", \"name\", \"organism_name\", \"status\", \"roi_major\", \"roi_minor\", \"rigOperator\", \"container\"]\n",
    "fields_ephys = [\"b'name'\", \"b'vrest'\", \"b'ri'\", \"b'sag'\", \"b'tau'\",\n",
    "                \"b'upstroke_downstroke_ratio_long_square'\", \"b'latency'\", \"b'f_i_curve_slope'\"]"
   ]
  },
  {
   "cell_type": "code",
   "execution_count": 5,
   "metadata": {},
   "outputs": [
    {
     "name": "stderr",
     "output_type": "stream",
     "text": [
      "INFO:function_scripts.temp_funcs:Read file in as a pandas dataframe\n",
      "INFO:function_scripts.temp_funcs:Read file in as a pandas dataframe\n",
      "INFO:function_scripts.temp_funcs:Created a user_tube_id column to show(ex.'PA')\n",
      "INFO:function_scripts.temp_funcs:Created a user_ivscc column to show(ex.'Ram')\n",
      "INFO:function_scripts.temp_funcs:Dropped NaNs from these columns: ['date', 'roi_major', 'user_tube_id']\n",
      "INFO:function_scripts.temp_funcs:Filtered dataframe based on organism_name == Mouse\n",
      "INFO:function_scripts.temp_funcs:Created a conditional dataframe based on roi_major containing ['MB', 'PAL', 'STRd', 'STRv', 'TH']\n",
      "INFO:function_scripts.temp_funcs:Dropped columns: ['container', 'status', 'organism_name', 'rigOperator']\n",
      "C:\\Users\\ramr\\Documents\\Github\\analysis_projects\\ivscc_analysis\\function_scripts\\temp_funcs.py:87: SettingWithCopyWarning: \n",
      "A value is trying to be set on a copy of a slice from a DataFrame\n",
      "\n",
      "See the caveats in the documentation: http://pandas.pydata.org/pandas-docs/stable/user_guide/indexing.html#returning-a-view-versus-a-copy\n",
      "  df.sort_values([date_col], inplace=True)\n",
      "INFO:function_scripts.temp_funcs:Filtered dataframe: 2021-01-01 - 2021-12-31\n"
     ]
    }
   ],
   "source": [
    "jem = read_file(path_jem, fields_jem)\n",
    "ephys = read_file(path_ephys, fields_ephys)\n",
    "\n",
    "jem = create_user_tube_id(jem, \"rigOperator\")\n",
    "jem = create_user_ivscc(jem, \"rigOperator\")\n",
    "\n",
    "drop_nans_list = [\"date\", \"roi_major\", \"user_tube_id\"]\n",
    "jem = drop_nans(jem, drop_nans_list)\n",
    "\n",
    "jem = filter_df(jem, \"organism_name\", \"Mouse\")\n",
    "jem = create_cond_df(jem, \"roi_major\", sub_region_order)\n",
    "jem = drop_cols(jem, [\"container\", \"status\", \"organism_name\", \"rigOperator\"])\n",
    "jem = filter_date_range(jem, \"date\", \"2021-01-01\", \"2021-12-31\")"
   ]
  },
  {
   "cell_type": "code",
   "execution_count": 6,
   "metadata": {},
   "outputs": [
    {
     "data": {
      "text/html": [
       "<div>\n",
       "<style scoped>\n",
       "    .dataframe tbody tr th:only-of-type {\n",
       "        vertical-align: middle;\n",
       "    }\n",
       "\n",
       "    .dataframe tbody tr th {\n",
       "        vertical-align: top;\n",
       "    }\n",
       "\n",
       "    .dataframe thead th {\n",
       "        text-align: right;\n",
       "    }\n",
       "</style>\n",
       "<table border=\"1\" class=\"dataframe\">\n",
       "  <thead>\n",
       "    <tr style=\"text-align: right;\">\n",
       "      <th></th>\n",
       "      <th>name</th>\n",
       "      <th>date</th>\n",
       "      <th>roi_major</th>\n",
       "      <th>roi_minor</th>\n",
       "      <th>user_tube_id</th>\n",
       "      <th>user_ivscc</th>\n",
       "    </tr>\n",
       "  </thead>\n",
       "  <tbody>\n",
       "    <tr>\n",
       "      <td>12809</td>\n",
       "      <td>Ctgf-T2A-dgCre;Ai14-560647.09.06.02</td>\n",
       "      <td>2021-01-05 10:20:00 -0800</td>\n",
       "      <td>MB</td>\n",
       "      <td>SNr</td>\n",
       "      <td>P8</td>\n",
       "      <td>Lindsay</td>\n",
       "    </tr>\n",
       "    <tr>\n",
       "      <td>12810</td>\n",
       "      <td>Ctgf-T2A-dgCre;Ai14-560647.09.06.01</td>\n",
       "      <td>2021-01-05 10:20:00 -0800</td>\n",
       "      <td>MB</td>\n",
       "      <td>SNr</td>\n",
       "      <td>P8</td>\n",
       "      <td>Lindsay</td>\n",
       "    </tr>\n",
       "    <tr>\n",
       "      <td>12811</td>\n",
       "      <td>Vip-IRES-Cre;Ai14-560422.06.09.01</td>\n",
       "      <td>2021-01-05 13:08:28 -0800</td>\n",
       "      <td>MB</td>\n",
       "      <td>SNr</td>\n",
       "      <td>P8</td>\n",
       "      <td>Lindsay</td>\n",
       "    </tr>\n",
       "    <tr>\n",
       "      <td>12812</td>\n",
       "      <td>Vip-IRES-Cre;Ai14-560422.06.09.02</td>\n",
       "      <td>2021-01-05 13:08:28 -0800</td>\n",
       "      <td>MB</td>\n",
       "      <td>SNr</td>\n",
       "      <td>P8</td>\n",
       "      <td>Lindsay</td>\n",
       "    </tr>\n",
       "    <tr>\n",
       "      <td>12813</td>\n",
       "      <td>Vip-IRES-Cre;Ai14-560422.06.09.03</td>\n",
       "      <td>2021-01-05 13:08:28 -0800</td>\n",
       "      <td>MB</td>\n",
       "      <td>SNr</td>\n",
       "      <td>P8</td>\n",
       "      <td>Lindsay</td>\n",
       "    </tr>\n",
       "    <tr>\n",
       "      <td>...</td>\n",
       "      <td>...</td>\n",
       "      <td>...</td>\n",
       "      <td>...</td>\n",
       "      <td>...</td>\n",
       "      <td>...</td>\n",
       "      <td>...</td>\n",
       "    </tr>\n",
       "    <tr>\n",
       "      <td>13017</td>\n",
       "      <td>Slc17a7-IRES2-Cre;Ai14-565034.05.09.02</td>\n",
       "      <td>2021-02-12 10:30:39 -0800</td>\n",
       "      <td>TH</td>\n",
       "      <td>MD</td>\n",
       "      <td>PA</td>\n",
       "      <td>Ram</td>\n",
       "    </tr>\n",
       "    <tr>\n",
       "      <td>13018</td>\n",
       "      <td>Slc17a7-IRES2-Cre;Ai14-565034.05.09.01</td>\n",
       "      <td>2021-02-12 10:30:39 -0800</td>\n",
       "      <td>TH</td>\n",
       "      <td>MD</td>\n",
       "      <td>PA</td>\n",
       "      <td>Ram</td>\n",
       "    </tr>\n",
       "    <tr>\n",
       "      <td>13020</td>\n",
       "      <td>Slc32a1-IRES-Cre;Ai14-565016.06.09.02</td>\n",
       "      <td>2021-02-12 13:50:56 -0800</td>\n",
       "      <td>TH</td>\n",
       "      <td>VAL</td>\n",
       "      <td>PA</td>\n",
       "      <td>Ram</td>\n",
       "    </tr>\n",
       "    <tr>\n",
       "      <td>13019</td>\n",
       "      <td>Slc32a1-IRES-Cre;Ai14-565016.06.09.01</td>\n",
       "      <td>2021-02-12 13:50:56 -0800</td>\n",
       "      <td>TH</td>\n",
       "      <td>VAL</td>\n",
       "      <td>PA</td>\n",
       "      <td>Ram</td>\n",
       "    </tr>\n",
       "    <tr>\n",
       "      <td>13021</td>\n",
       "      <td>Slc32a1-IRES-Cre;Ai14-565016.07.09.01</td>\n",
       "      <td>2021-02-12 16:36:12 -0800</td>\n",
       "      <td>TH</td>\n",
       "      <td>VAL</td>\n",
       "      <td>PA</td>\n",
       "      <td>Ram</td>\n",
       "    </tr>\n",
       "  </tbody>\n",
       "</table>\n",
       "<p>156 rows × 6 columns</p>\n",
       "</div>"
      ],
      "text/plain": [
       "                                         name                       date  \\\n",
       "12809     Ctgf-T2A-dgCre;Ai14-560647.09.06.02  2021-01-05 10:20:00 -0800   \n",
       "12810     Ctgf-T2A-dgCre;Ai14-560647.09.06.01  2021-01-05 10:20:00 -0800   \n",
       "12811       Vip-IRES-Cre;Ai14-560422.06.09.01  2021-01-05 13:08:28 -0800   \n",
       "12812       Vip-IRES-Cre;Ai14-560422.06.09.02  2021-01-05 13:08:28 -0800   \n",
       "12813       Vip-IRES-Cre;Ai14-560422.06.09.03  2021-01-05 13:08:28 -0800   \n",
       "...                                       ...                        ...   \n",
       "13017  Slc17a7-IRES2-Cre;Ai14-565034.05.09.02  2021-02-12 10:30:39 -0800   \n",
       "13018  Slc17a7-IRES2-Cre;Ai14-565034.05.09.01  2021-02-12 10:30:39 -0800   \n",
       "13020   Slc32a1-IRES-Cre;Ai14-565016.06.09.02  2021-02-12 13:50:56 -0800   \n",
       "13019   Slc32a1-IRES-Cre;Ai14-565016.06.09.01  2021-02-12 13:50:56 -0800   \n",
       "13021   Slc32a1-IRES-Cre;Ai14-565016.07.09.01  2021-02-12 16:36:12 -0800   \n",
       "\n",
       "      roi_major roi_minor user_tube_id user_ivscc  \n",
       "12809        MB       SNr           P8    Lindsay  \n",
       "12810        MB       SNr           P8    Lindsay  \n",
       "12811        MB       SNr           P8    Lindsay  \n",
       "12812        MB       SNr           P8    Lindsay  \n",
       "12813        MB       SNr           P8    Lindsay  \n",
       "...         ...       ...          ...        ...  \n",
       "13017        TH        MD           PA        Ram  \n",
       "13018        TH        MD           PA        Ram  \n",
       "13020        TH       VAL           PA        Ram  \n",
       "13019        TH       VAL           PA        Ram  \n",
       "13021        TH       VAL           PA        Ram  \n",
       "\n",
       "[156 rows x 6 columns]"
      ]
     },
     "execution_count": 6,
     "metadata": {},
     "output_type": "execute_result"
    }
   ],
   "source": [
    "jem"
   ]
  },
  {
   "cell_type": "code",
   "execution_count": 7,
   "metadata": {},
   "outputs": [
    {
     "name": "stderr",
     "output_type": "stream",
     "text": [
      "INFO:function_scripts.temp_funcs:Merged two pandas dataframe into one dataframe\n"
     ]
    }
   ],
   "source": [
    "merge = merge_dataframes(jem, ephys, \"name\", \"b'name'\", \"inner\")\n",
    "\n",
    "# Renaming ephys columns\n",
    "merge.rename(columns={\"b'vrest'\": \"Vm(mV)\", \n",
    "                      \"b'ri'\": \"Input Resistance(MΩ)\",\n",
    "                      \"b'sag'\" : \"Sag Fraction\", \n",
    "                      \"b'tau'\": \"τ(s)\",\n",
    "                      \"b'upstroke_downstroke_ratio_long_square'\": \"LS AP up/downstoke\", \n",
    "                      \"b'latency'\" : \"Latency\",\n",
    "                      \"b'f_i_curve_slope'\" : \"F-I Curve\"}, inplace=True)"
   ]
  },
  {
   "cell_type": "code",
   "execution_count": 8,
   "metadata": {},
   "outputs": [
    {
     "name": "stderr",
     "output_type": "stream",
     "text": [
      "INFO:function_scripts.temp_funcs:Filtered dataframe based on roi_major == MB\n",
      "INFO:function_scripts.temp_funcs:Filtered dataframe based on roi_major == PAL\n",
      "INFO:function_scripts.temp_funcs:Filtered dataframe based on roi_major == STRd\n",
      "INFO:function_scripts.temp_funcs:Filtered dataframe based on roi_major == STRv\n",
      "INFO:function_scripts.temp_funcs:Filtered dataframe based on roi_major == TH\n"
     ]
    }
   ],
   "source": [
    "region_mb = filter_df(merge, \"roi_major\", \"MB\") # SNc, SNr\n",
    "region_pal = filter_df(merge, \"roi_major\", \"PAL\") # Gpi, Gpe\n",
    "region_strd = filter_df(merge, \"roi_major\", \"STRd\") # CP\n",
    "region_strv = filter_df(merge, \"roi_major\", \"STRv\") # ACB\n",
    "region_th = filter_df(merge, \"roi_major\", \"TH\") # MD, VAL"
   ]
  },
  {
   "cell_type": "code",
   "execution_count": 23,
   "metadata": {
    "scrolled": true
   },
   "outputs": [
    {
     "name": "stdout",
     "output_type": "stream",
     "text": [
      "MB: 41\n",
      "PAL: 24\n",
      "STRd: 32\n",
      "STRv: 34\n",
      "TH: 20\n"
     ]
    }
   ],
   "source": [
    "print(\"MB:\", len(region_mb))\n",
    "print(\"PAL:\", len(region_pal))\n",
    "print(\"STRd:\", len(region_strd))\n",
    "print(\"STRv:\", len(region_strv))\n",
    "print(\"TH:\", len(region_th))"
   ]
  },
  {
   "cell_type": "code",
   "execution_count": 14,
   "metadata": {},
   "outputs": [
    {
     "data": {
      "image/png": "[encoded data removed]",
      "text/plain": [
       "<Figure size 360x360 with 1 Axes>"
      ]
     },
     "metadata": {
      "needs_background": "light"
     },
     "output_type": "display_data"
    }
   ],
   "source": [
    "f, axes = plt.subplots(figsize = (5, 5))\n",
    "\n",
    "ax = sns.boxplot(x=\"roi_major\", y=\"Vm(mV)\", data=merge, order=sub_region_order)"
   ]
  },
  {
   "cell_type": "code",
   "execution_count": 15,
   "metadata": {},
   "outputs": [
    {
     "data": {
      "image/png": "[encoded data removed]",
      "text/plain": [
       "<Figure size 360x360 with 1 Axes>"
      ]
     },
     "metadata": {
      "needs_background": "light"
     },
     "output_type": "display_data"
    }
   ],
   "source": [
    "f, axes = plt.subplots(figsize = (5, 5))\n",
    "\n",
    "ax = sns.boxplot(x=\"roi_minor\", y=\"Vm(mV)\", data=merge, order=sub_layer_order)"
   ]
  },
  {
   "cell_type": "code",
   "execution_count": null,
   "metadata": {},
   "outputs": [],
   "source": []
  }
 ],
 "metadata": {
  "kernelspec": {
   "display_name": "Python 3",
   "language": "python",
   "name": "python3"
  },
  "language_info": {
   "codemirror_mode": {
    "name": "ipython",
    "version": 3
   },
   "file_extension": ".py",
   "mimetype": "text/x-python",
   "name": "python",
   "nbconvert_exporter": "python",
   "pygments_lexer": "ipython3",
   "version": "3.7.4"
  }
 },
 "nbformat": 4,
 "nbformat_minor": 2
}
