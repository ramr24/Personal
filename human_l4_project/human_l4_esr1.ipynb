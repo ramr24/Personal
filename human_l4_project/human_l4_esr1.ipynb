{
 "cells": [
  {
   "cell_type": "markdown",
   "metadata": {},
   "source": [
    "##### Imports"
   ]
  },
  {
   "cell_type": "code",
   "execution_count": 1,
   "metadata": {},
   "outputs": [],
   "source": [
    "import pandas as pd\n",
    "import numpy as np\n",
    "import csv\n",
    "import logging\n",
    "import os\n",
    "from scipy.stats import pearsonr\n",
    "\n",
    "from temp_funcs import read_file, merge_dataframes, drop_cols, drop_nans, filter_date_range, \\\n",
    "filter_df, create_container_col, create_cond_df, create_container_df\n",
    "\n",
    "import seaborn as sns\n",
    "import matplotlib.pyplot as plt\n",
    "from matplotlib.colors import ListedColormap\n",
    "\n",
    "sns.set(context = \"notebook\", style = \"ticks\", font=\"verdana\", font_scale = 1.5)\n",
    "pd.set_option(\"display.max_colwidth\",150) #Expands the number of characters shown in the columns\n",
    "pd.set_option('display.max_columns', None)"
   ]
  },
  {
   "cell_type": "markdown",
   "metadata": {},
   "source": [
    "##### Paths/Fields"
   ]
  },
  {
   "cell_type": "code",
   "execution_count": 2,
   "metadata": {},
   "outputs": [],
   "source": [
    "path = \"C:/Users/kumar/Documents/Github/analysis_projects/\"\n",
    "csv_path = os.path.join(path, \"csv/\")\n",
    "excel_path = os.path.join(path, \"excel/\")\n",
    "plot_path = os.path.join(path, \"plot/hl4_plot/\")\n",
    "\n",
    "path_shiny_human = os.path.join(csv_path, \"current_shiny_human.csv\")\n",
    "path_ephys = os.path.join(csv_path, \"ephys_hIVSCC_MET.csv\")"
   ]
  },
  {
   "cell_type": "code",
   "execution_count": 3,
   "metadata": {},
   "outputs": [],
   "source": [
    "fields_shiny = [\"cell_name\", \"roi\", \"cell_specimen_project\", \"Norm_Marker_Sum.0.4_label\",\n",
    "                \"marker_sum_norm_label\", \"rna_amplification_pass_fail\",\n",
    "                \"percent_cdna_longer_than_400bp\", \"amplified_quantity_ng\", \"sample_id\", \n",
    "                \"Tree_call\", \"seurat_prediction_score_label\", \"seurat_cluster_label\",\n",
    "                \"broad_class_label\", \"subclass_label\", \"go_no_go_63x\", \"image_series_63x_qc\", \"Genes.Detected.CPM\"]\n",
    "\n",
    "shiny_dict = {\"Norm_Marker_Sum.0.4_label\" : \"NMS Pass/Fail\",\n",
    "              \"rna_amplification_pass_fail\" : \"RNA Amp Pass/Fail\",\n",
    "              \"marker_sum_norm_label\": \"Normalized marker sum\",\n",
    "              \"percent_cdna_longer_than_400bp\" : \"cDNA quality (%>400 bp)\",\n",
    "              \"amplified_quantity_ng\" : \"Amplified content (ng)\",\n",
    "              \"seurat_prediction_score_label\": \"Seurat prediction score\",\n",
    "              \"go_no_go_63x\": \"Morpho call(63x)\",\n",
    "              \"image_series_63x_qc\": \"Imaging status\",\n",
    "              \"Genes.Detected.CPM\": \"Genes detected\"}\n",
    "\n",
    "#Replacing string in specific columns\n",
    "nms_dict = {True: \"Pass\", False: \"Fail\"}\n",
    "morpho_dict = {\"63x go\": \"Go\", \"63x no go\": \"No Go\"}\n",
    "imaging_dict = {\"ready_for_dendrite_trace\": \"Ready for dendrite trace\", \"image_qc_passed\": \"Image QC passed\", \n",
    "                \"qc\": \"QC\", \"deferred\": \"Deferred\", \"autotracing\": \"Autotracing\", \"rescanning\": \"Rescanning\",\n",
    "                \"processing\": \"Processing\", \"failed\": \"Failed\"}"
   ]
  },
  {
   "cell_type": "markdown",
   "metadata": {},
   "source": [
    "##### Filtering shiny"
   ]
  },
  {
   "cell_type": "code",
   "execution_count": 4,
   "metadata": {},
   "outputs": [
    {
     "name": "stderr",
     "output_type": "stream",
     "text": [
      "INFO:temp_funcs:Read file in as a pandas dataframe\n"
     ]
    }
   ],
   "source": [
    "shiny_human = read_file(path_shiny_human, fields_shiny) #3592 rows\n",
    "shiny_human.rename(columns=shiny_dict, inplace=True)"
   ]
  },
  {
   "cell_type": "code",
   "execution_count": 5,
   "metadata": {},
   "outputs": [],
   "source": [
    "shiny_human[\"NMS Pass/Fail\"] = shiny_human[\"NMS Pass/Fail\"].replace(nms_dict)\n",
    "shiny_human[\"Morpho call(63x)\"] = shiny_human[\"Morpho call(63x)\"].replace(morpho_dict)\n",
    "shiny_human[\"Imaging status\"] = shiny_human[\"Imaging status\"].replace(imaging_dict)\n",
    "shiny_human[\"cDNA quality (%>400 bp)\"] = shiny_human[\"cDNA quality (%>400 bp)\"] * 100"
   ]
  },
  {
   "cell_type": "code",
   "execution_count": 6,
   "metadata": {},
   "outputs": [],
   "source": [
    "shiny_human[\"region\"] = pd.np.where(shiny_human.roi.str.contains(\"FCx\"), \"FCx\", \n",
    "                                    pd.np.where(shiny_human.roi.str.contains(\"OCx\"), \"OCx\", \n",
    "                                    pd.np.where(shiny_human.roi.str.contains(\"PCx\"), \"PCx\",\n",
    "                                    pd.np.where(shiny_human.roi.str.contains(\"TCx\"), \"TCx\", \"Unknown/Misc\"))))\n",
    "\n",
    "shiny_human[\"layer\"] = pd.np.where(shiny_human.roi.str.contains(\"L1\"), \"L1\", \n",
    "                                   pd.np.where(shiny_human.roi.str.contains(\"L2\"), \"L2\",\n",
    "                                   pd.np.where(shiny_human.roi.str.contains(\"L3\"), \"L3\",\n",
    "                                   pd.np.where(shiny_human.roi.str.contains(\"L4\"), \"L4\", \n",
    "                                   pd.np.where(shiny_human.roi.str.contains(\"L5\"), \"L5\",\n",
    "                                   pd.np.where(shiny_human.roi.str.contains(\"L6\"), \"L6\",\n",
    "                                   pd.np.where(shiny_human.roi.str.contains(\"L2-3\"), \"L2-3\",\n",
    "                                   pd.np.where(shiny_human.roi.str.contains(\"L3a\"), \"L3\",\n",
    "                                   pd.np.where(shiny_human.roi.str.contains(\"L3b\"), \"L3\",\n",
    "                                   pd.np.where(shiny_human.roi.str.contains(\"L3c\"), \"L3\",\n",
    "                                   pd.np.where(shiny_human.roi.str.contains(\"L6a\"), \"L6\",\n",
    "                                   pd.np.where(shiny_human.roi.str.contains(\"LL1\"), \"LL1\", \n",
    "                                   pd.np.where(shiny_human.roi.str.contains(\"LL2\"), \"LL2\", \n",
    "                                   pd.np.where(shiny_human.roi.str.contains(\"LL3\"), \"LL3\",\n",
    "                                   pd.np.where(shiny_human.roi.str.contains(\"LL4\"), \"LL4\", \n",
    "                                   pd.np.where(shiny_human.roi.str.contains(\"LL5\"), \"LL5\", \"unknown_layer\"))))))))))))))))\n",
    "\n",
    "shiny_human[\"imaging_recon\"] = pd.np.where(shiny_human[\"Imaging status\"].str.contains(\"Ready for dendrite trace\"), \"Possible Reconstructions\", \n",
    "                                           pd.np.where(shiny_human[\"Imaging status\"].str.contains(\"Image QC passed\"), \"Possible Reconstructions\", \n",
    "                                           pd.np.where(shiny_human[\"Imaging status\"].str.contains(\"Autotracing\"), \"Possible Reconstructions\", \n",
    "                                           pd.np.where(shiny_human[\"Imaging status\"].str.contains(\"Deferred\"), \"Failed Reconstructions\", \n",
    "                                           pd.np.where(shiny_human[\"Imaging status\"].str.contains(\"Failed\"), \"Failed Reconstructions\", \"In Process\")))))"
   ]
  },
  {
   "cell_type": "markdown",
   "metadata": {},
   "source": [
    "##### h_l4"
   ]
  },
  {
   "cell_type": "code",
   "execution_count": 7,
   "metadata": {},
   "outputs": [
    {
     "name": "stderr",
     "output_type": "stream",
     "text": [
      "INFO:temp_funcs:Filtered dataframe based on layer == L4\n"
     ]
    },
    {
     "data": {
      "text/plain": [
       "sample_id                  474\n",
       "cell_name                  474\n",
       "roi                        474\n",
       "cDNA quality (%>400 bp)    474\n",
       "RNA Amp Pass/Fail          474\n",
       "Amplified content (ng)     474\n",
       "Genes detected             474\n",
       "cell_specimen_project      473\n",
       "Morpho call(63x)           350\n",
       "Imaging status             138\n",
       "Normalized marker sum      474\n",
       "NMS Pass/Fail              474\n",
       "seurat_cluster_label       474\n",
       "Seurat prediction score    474\n",
       "broad_class_label          474\n",
       "subclass_label             474\n",
       "Tree_call                  474\n",
       "region                     474\n",
       "layer                      474\n",
       "imaging_recon              474\n",
       "dtype: int64"
      ]
     },
     "execution_count": 7,
     "metadata": {},
     "output_type": "execute_result"
    }
   ],
   "source": [
    "h_l4 = filter_df(shiny_human, \"layer\", \"L4\")\n",
    "h_l4.count()"
   ]
  },
  {
   "cell_type": "code",
   "execution_count": 10,
   "metadata": {},
   "outputs": [
    {
     "name": "stderr",
     "output_type": "stream",
     "text": [
      "INFO:temp_funcs:Filtered dataframe based on seurat_cluster_label == Exc L3-5 RORB ESR1\n"
     ]
    }
   ],
   "source": [
    "h_l4 = filter_df(h_l4, \"seurat_cluster_label\", \"Exc L3-5 RORB ESR1\")"
   ]
  },
  {
   "cell_type": "code",
   "execution_count": 11,
   "metadata": {},
   "outputs": [
    {
     "data": {
      "text/plain": [
       "array(['Exc L3-5 RORB ESR1'], dtype=object)"
      ]
     },
     "execution_count": 11,
     "metadata": {},
     "output_type": "execute_result"
    }
   ],
   "source": [
    "h_l4[\"seurat_cluster_label\"].unique()"
   ]
  },
  {
   "cell_type": "code",
   "execution_count": 13,
   "metadata": {},
   "outputs": [
    {
     "data": {
      "text/plain": [
       "sample_id                  105\n",
       "cell_name                  105\n",
       "roi                        105\n",
       "cDNA quality (%>400 bp)    105\n",
       "RNA Amp Pass/Fail          105\n",
       "Amplified content (ng)     105\n",
       "Genes detected             105\n",
       "cell_specimen_project      105\n",
       "Morpho call(63x)            92\n",
       "Imaging status              34\n",
       "Normalized marker sum      105\n",
       "NMS Pass/Fail              105\n",
       "seurat_cluster_label       105\n",
       "Seurat prediction score    105\n",
       "broad_class_label          105\n",
       "subclass_label             105\n",
       "Tree_call                  105\n",
       "region                     105\n",
       "layer                      105\n",
       "imaging_recon              105\n",
       "dtype: int64"
      ]
     },
     "execution_count": 13,
     "metadata": {},
     "output_type": "execute_result"
    }
   ],
   "source": [
    "h_l4.count()"
   ]
  },
  {
   "cell_type": "code",
   "execution_count": 18,
   "metadata": {},
   "outputs": [],
   "source": [
    "h_l4.to_csv(excel_path + \"ESR1.csv\")"
   ]
  },
  {
   "cell_type": "code",
   "execution_count": null,
   "metadata": {},
   "outputs": [],
   "source": []
  }
 ],
 "metadata": {
  "kernelspec": {
   "display_name": "Python 3",
   "language": "python",
   "name": "python3"
  },
  "language_info": {
   "codemirror_mode": {
    "name": "ipython",
    "version": 3
   },
   "file_extension": ".py",
   "mimetype": "text/x-python",
   "name": "python",
   "nbconvert_exporter": "python",
   "pygments_lexer": "ipython3",
   "version": "3.6.5"
  }
 },
 "nbformat": 4,
 "nbformat_minor": 2
}
