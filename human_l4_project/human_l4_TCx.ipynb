{
 "cells": [
  {
   "cell_type": "markdown",
   "metadata": {},
   "source": [
    "##### Imports"
   ]
  },
  {
   "cell_type": "code",
   "execution_count": 1,
   "metadata": {},
   "outputs": [],
   "source": [
    "import pandas as pd\n",
    "import numpy as np\n",
    "import csv\n",
    "import logging\n",
    "import os\n",
    "from scipy.stats import pearsonr\n",
    "\n",
    "from temp_funcs import read_file, merge_dataframes, drop_cols, drop_nans, filter_date_range, \\\n",
    "filter_df, create_container_col, create_cond_df, create_container_df\n",
    "\n",
    "import seaborn as sns\n",
    "import matplotlib.pyplot as plt\n",
    "from matplotlib.colors import ListedColormap\n",
    "\n",
    "sns.set(context = \"notebook\", style = \"ticks\", font=\"verdana\", font_scale = 1.5)\n",
    "pd.set_option(\"display.max_colwidth\",150) #Expands the number of characters shown in the columns\n",
    "pd.set_option('display.max_columns', None)"
   ]
  },
  {
   "cell_type": "markdown",
   "metadata": {},
   "source": [
    "##### Paths/Fields"
   ]
  },
  {
   "cell_type": "code",
   "execution_count": 2,
   "metadata": {},
   "outputs": [],
   "source": [
    "path = \"C:/Users/kumar/Documents/Github/analysis_projects/\"\n",
    "csv_path = os.path.join(path, \"csv/\")\n",
    "excel_path = os.path.join(path, \"excel/\")\n",
    "plot_path = os.path.join(path, \"plot/hl4_plot/\")\n",
    "\n",
    "path_shiny_human = os.path.join(csv_path, \"current_shiny_human.csv\")\n",
    "path_ephys = os.path.join(csv_path, \"hephys_features.csv\") #\"ephys_hIVSCC_MET.csv\""
   ]
  },
  {
   "cell_type": "code",
   "execution_count": 3,
   "metadata": {},
   "outputs": [],
   "source": [
    "ephys_list = [\"Vm(mV)\", \"Input Resistance(MΩ)\", \"Sag Fraction\", \"τ(s)\", \"LS AP up/downstoke\", \"Latency\", \"F-I Curve\"]\n",
    "region_list = [\"FCx\", \"OCx\", \"PCx\", \"TCx\"]\n",
    "\n",
    "fields_ephys = [\"name\", \"vrest\", \"ri\", \"sag\", \"tau\",\n",
    "                \"upstroke_downstroke_ratio_long_square\", \"latency\", \"f_i_curve_slope\"]\n",
    "\n",
    "fields_shiny = [\"cell_name\", \"roi\", \"cell_specimen_project\", \"Norm_Marker_Sum.0.4_label\",\n",
    "                \"marker_sum_norm_label\", \"rna_amplification_pass_fail\",\n",
    "                \"percent_cdna_longer_than_400bp\", \"amplified_quantity_ng\", \"sample_id\", \n",
    "                \"Tree_call\", \"seurat_prediction_score_label\", \"seurat_cluster_label\",\n",
    "                \"broad_class_label\", \"subclass_label\"]\n",
    "\n",
    "shiny_dict = {\"Norm_Marker_Sum.0.4_label\" : \"NMS Pass/Fail\",\n",
    "              \"rna_amplification_pass_fail\" : \"RNA Amp Pass/Fail\",\n",
    "              \"marker_sum_norm_label\": \"NMS score\",\n",
    "              \"percent_cdna_longer_than_400bp\" : \"cDNA quality (%>400 bp)\",\n",
    "              \"amplified_quantity_ng\" : \"Amplified content (ng)\",\n",
    "              \"seurat_prediction_score_label\": \"Seurat prediction score\"}"
   ]
  },
  {
   "cell_type": "markdown",
   "metadata": {},
   "source": [
    "##### Filtering shiny"
   ]
  },
  {
   "cell_type": "code",
   "execution_count": 4,
   "metadata": {},
   "outputs": [
    {
     "ename": "FileNotFoundError",
     "evalue": "[Errno 2] File b'C:/Users/kumar/Documents/Github/analysis_projects/csv/current_shiny_human.csv' does not exist: b'C:/Users/kumar/Documents/Github/analysis_projects/csv/current_shiny_human.csv'",
     "output_type": "error",
     "traceback": [
      "\u001b[1;31m---------------------------------------------------------------------------\u001b[0m",
      "\u001b[1;31mFileNotFoundError\u001b[0m                         Traceback (most recent call last)",
      "\u001b[1;32m<ipython-input-4-d21817389b26>\u001b[0m in \u001b[0;36m<module>\u001b[1;34m\u001b[0m\n\u001b[1;32m----> 1\u001b[1;33m \u001b[0mshiny_human\u001b[0m \u001b[1;33m=\u001b[0m \u001b[0mread_file\u001b[0m\u001b[1;33m(\u001b[0m\u001b[0mpath_shiny_human\u001b[0m\u001b[1;33m,\u001b[0m \u001b[0mfields_shiny\u001b[0m\u001b[1;33m)\u001b[0m \u001b[1;31m#3592 rows\u001b[0m\u001b[1;33m\u001b[0m\u001b[1;33m\u001b[0m\u001b[0m\n\u001b[0m\u001b[0;32m      2\u001b[0m \u001b[0mshiny_human\u001b[0m\u001b[1;33m.\u001b[0m\u001b[0mrename\u001b[0m\u001b[1;33m(\u001b[0m\u001b[0mcolumns\u001b[0m\u001b[1;33m=\u001b[0m\u001b[0mshiny_dict\u001b[0m\u001b[1;33m,\u001b[0m \u001b[0minplace\u001b[0m\u001b[1;33m=\u001b[0m\u001b[1;32mTrue\u001b[0m\u001b[1;33m)\u001b[0m\u001b[1;33m\u001b[0m\u001b[1;33m\u001b[0m\u001b[0m\n\u001b[0;32m      3\u001b[0m \u001b[0mshiny_human\u001b[0m\u001b[1;33m[\u001b[0m\u001b[1;34m\"NMS Pass/Fail\"\u001b[0m\u001b[1;33m]\u001b[0m \u001b[1;33m=\u001b[0m \u001b[0mshiny_human\u001b[0m\u001b[1;33m[\u001b[0m\u001b[1;34m\"NMS Pass/Fail\"\u001b[0m\u001b[1;33m]\u001b[0m\u001b[1;33m.\u001b[0m\u001b[0mreplace\u001b[0m\u001b[1;33m(\u001b[0m\u001b[1;33m{\u001b[0m\u001b[1;32mTrue\u001b[0m\u001b[1;33m:\u001b[0m \u001b[1;34m\"Pass\"\u001b[0m\u001b[1;33m,\u001b[0m \u001b[1;32mFalse\u001b[0m\u001b[1;33m:\u001b[0m \u001b[1;34m\"Fail\"\u001b[0m\u001b[1;33m}\u001b[0m\u001b[1;33m)\u001b[0m\u001b[1;33m\u001b[0m\u001b[1;33m\u001b[0m\u001b[0m\n\u001b[0;32m      4\u001b[0m \u001b[1;33m\u001b[0m\u001b[0m\n\u001b[0;32m      5\u001b[0m shiny_human[\"region\"] = pd.np.where(shiny_human.roi.str.contains(\"FCx\"), \"FCx\", \n",
      "\u001b[1;32m~\\Documents\\Github\\analysis_projects\\human_l4_project\\temp_funcs.py\u001b[0m in \u001b[0;36mread_file\u001b[1;34m(path, fields)\u001b[0m\n\u001b[0;32m     22\u001b[0m     \"\"\"\n\u001b[0;32m     23\u001b[0m     \u001b[1;32mglobal\u001b[0m \u001b[0mdf\u001b[0m\u001b[1;33m\u001b[0m\u001b[1;33m\u001b[0m\u001b[0m\n\u001b[1;32m---> 24\u001b[1;33m     \u001b[0mdf\u001b[0m \u001b[1;33m=\u001b[0m \u001b[0mpd\u001b[0m\u001b[1;33m.\u001b[0m\u001b[0mread_csv\u001b[0m\u001b[1;33m(\u001b[0m\u001b[0mpath\u001b[0m\u001b[1;33m,\u001b[0m \u001b[0musecols\u001b[0m\u001b[1;33m=\u001b[0m\u001b[0mfields\u001b[0m\u001b[1;33m)\u001b[0m\u001b[1;33m\u001b[0m\u001b[1;33m\u001b[0m\u001b[0m\n\u001b[0m\u001b[0;32m     25\u001b[0m     \u001b[0mLOGGER\u001b[0m\u001b[1;33m.\u001b[0m\u001b[0minfo\u001b[0m\u001b[1;33m(\u001b[0m\u001b[1;34m\"Read file in as a pandas dataframe\"\u001b[0m\u001b[1;33m)\u001b[0m\u001b[1;33m\u001b[0m\u001b[1;33m\u001b[0m\u001b[0m\n\u001b[0;32m     26\u001b[0m     \u001b[1;32mreturn\u001b[0m \u001b[0mdf\u001b[0m\u001b[1;33m\u001b[0m\u001b[1;33m\u001b[0m\u001b[0m\n",
      "\u001b[1;32m~\\AppData\\Local\\Continuum\\anaconda3\\lib\\site-packages\\pandas\\io\\parsers.py\u001b[0m in \u001b[0;36mparser_f\u001b[1;34m(filepath_or_buffer, sep, delimiter, header, names, index_col, usecols, squeeze, prefix, mangle_dupe_cols, dtype, engine, converters, true_values, false_values, skipinitialspace, skiprows, skipfooter, nrows, na_values, keep_default_na, na_filter, verbose, skip_blank_lines, parse_dates, infer_datetime_format, keep_date_col, date_parser, dayfirst, cache_dates, iterator, chunksize, compression, thousands, decimal, lineterminator, quotechar, quoting, doublequote, escapechar, comment, encoding, dialect, error_bad_lines, warn_bad_lines, delim_whitespace, low_memory, memory_map, float_precision)\u001b[0m\n\u001b[0;32m    683\u001b[0m         )\n\u001b[0;32m    684\u001b[0m \u001b[1;33m\u001b[0m\u001b[0m\n\u001b[1;32m--> 685\u001b[1;33m         \u001b[1;32mreturn\u001b[0m \u001b[0m_read\u001b[0m\u001b[1;33m(\u001b[0m\u001b[0mfilepath_or_buffer\u001b[0m\u001b[1;33m,\u001b[0m \u001b[0mkwds\u001b[0m\u001b[1;33m)\u001b[0m\u001b[1;33m\u001b[0m\u001b[1;33m\u001b[0m\u001b[0m\n\u001b[0m\u001b[0;32m    686\u001b[0m \u001b[1;33m\u001b[0m\u001b[0m\n\u001b[0;32m    687\u001b[0m     \u001b[0mparser_f\u001b[0m\u001b[1;33m.\u001b[0m\u001b[0m__name__\u001b[0m \u001b[1;33m=\u001b[0m \u001b[0mname\u001b[0m\u001b[1;33m\u001b[0m\u001b[1;33m\u001b[0m\u001b[0m\n",
      "\u001b[1;32m~\\AppData\\Local\\Continuum\\anaconda3\\lib\\site-packages\\pandas\\io\\parsers.py\u001b[0m in \u001b[0;36m_read\u001b[1;34m(filepath_or_buffer, kwds)\u001b[0m\n\u001b[0;32m    455\u001b[0m \u001b[1;33m\u001b[0m\u001b[0m\n\u001b[0;32m    456\u001b[0m     \u001b[1;31m# Create the parser.\u001b[0m\u001b[1;33m\u001b[0m\u001b[1;33m\u001b[0m\u001b[1;33m\u001b[0m\u001b[0m\n\u001b[1;32m--> 457\u001b[1;33m     \u001b[0mparser\u001b[0m \u001b[1;33m=\u001b[0m \u001b[0mTextFileReader\u001b[0m\u001b[1;33m(\u001b[0m\u001b[0mfp_or_buf\u001b[0m\u001b[1;33m,\u001b[0m \u001b[1;33m**\u001b[0m\u001b[0mkwds\u001b[0m\u001b[1;33m)\u001b[0m\u001b[1;33m\u001b[0m\u001b[1;33m\u001b[0m\u001b[0m\n\u001b[0m\u001b[0;32m    458\u001b[0m \u001b[1;33m\u001b[0m\u001b[0m\n\u001b[0;32m    459\u001b[0m     \u001b[1;32mif\u001b[0m \u001b[0mchunksize\u001b[0m \u001b[1;32mor\u001b[0m \u001b[0miterator\u001b[0m\u001b[1;33m:\u001b[0m\u001b[1;33m\u001b[0m\u001b[1;33m\u001b[0m\u001b[0m\n",
      "\u001b[1;32m~\\AppData\\Local\\Continuum\\anaconda3\\lib\\site-packages\\pandas\\io\\parsers.py\u001b[0m in \u001b[0;36m__init__\u001b[1;34m(self, f, engine, **kwds)\u001b[0m\n\u001b[0;32m    893\u001b[0m             \u001b[0mself\u001b[0m\u001b[1;33m.\u001b[0m\u001b[0moptions\u001b[0m\u001b[1;33m[\u001b[0m\u001b[1;34m\"has_index_names\"\u001b[0m\u001b[1;33m]\u001b[0m \u001b[1;33m=\u001b[0m \u001b[0mkwds\u001b[0m\u001b[1;33m[\u001b[0m\u001b[1;34m\"has_index_names\"\u001b[0m\u001b[1;33m]\u001b[0m\u001b[1;33m\u001b[0m\u001b[1;33m\u001b[0m\u001b[0m\n\u001b[0;32m    894\u001b[0m \u001b[1;33m\u001b[0m\u001b[0m\n\u001b[1;32m--> 895\u001b[1;33m         \u001b[0mself\u001b[0m\u001b[1;33m.\u001b[0m\u001b[0m_make_engine\u001b[0m\u001b[1;33m(\u001b[0m\u001b[0mself\u001b[0m\u001b[1;33m.\u001b[0m\u001b[0mengine\u001b[0m\u001b[1;33m)\u001b[0m\u001b[1;33m\u001b[0m\u001b[1;33m\u001b[0m\u001b[0m\n\u001b[0m\u001b[0;32m    896\u001b[0m \u001b[1;33m\u001b[0m\u001b[0m\n\u001b[0;32m    897\u001b[0m     \u001b[1;32mdef\u001b[0m \u001b[0mclose\u001b[0m\u001b[1;33m(\u001b[0m\u001b[0mself\u001b[0m\u001b[1;33m)\u001b[0m\u001b[1;33m:\u001b[0m\u001b[1;33m\u001b[0m\u001b[1;33m\u001b[0m\u001b[0m\n",
      "\u001b[1;32m~\\AppData\\Local\\Continuum\\anaconda3\\lib\\site-packages\\pandas\\io\\parsers.py\u001b[0m in \u001b[0;36m_make_engine\u001b[1;34m(self, engine)\u001b[0m\n\u001b[0;32m   1133\u001b[0m     \u001b[1;32mdef\u001b[0m \u001b[0m_make_engine\u001b[0m\u001b[1;33m(\u001b[0m\u001b[0mself\u001b[0m\u001b[1;33m,\u001b[0m \u001b[0mengine\u001b[0m\u001b[1;33m=\u001b[0m\u001b[1;34m\"c\"\u001b[0m\u001b[1;33m)\u001b[0m\u001b[1;33m:\u001b[0m\u001b[1;33m\u001b[0m\u001b[1;33m\u001b[0m\u001b[0m\n\u001b[0;32m   1134\u001b[0m         \u001b[1;32mif\u001b[0m \u001b[0mengine\u001b[0m \u001b[1;33m==\u001b[0m \u001b[1;34m\"c\"\u001b[0m\u001b[1;33m:\u001b[0m\u001b[1;33m\u001b[0m\u001b[1;33m\u001b[0m\u001b[0m\n\u001b[1;32m-> 1135\u001b[1;33m             \u001b[0mself\u001b[0m\u001b[1;33m.\u001b[0m\u001b[0m_engine\u001b[0m \u001b[1;33m=\u001b[0m \u001b[0mCParserWrapper\u001b[0m\u001b[1;33m(\u001b[0m\u001b[0mself\u001b[0m\u001b[1;33m.\u001b[0m\u001b[0mf\u001b[0m\u001b[1;33m,\u001b[0m \u001b[1;33m**\u001b[0m\u001b[0mself\u001b[0m\u001b[1;33m.\u001b[0m\u001b[0moptions\u001b[0m\u001b[1;33m)\u001b[0m\u001b[1;33m\u001b[0m\u001b[1;33m\u001b[0m\u001b[0m\n\u001b[0m\u001b[0;32m   1136\u001b[0m         \u001b[1;32melse\u001b[0m\u001b[1;33m:\u001b[0m\u001b[1;33m\u001b[0m\u001b[1;33m\u001b[0m\u001b[0m\n\u001b[0;32m   1137\u001b[0m             \u001b[1;32mif\u001b[0m \u001b[0mengine\u001b[0m \u001b[1;33m==\u001b[0m \u001b[1;34m\"python\"\u001b[0m\u001b[1;33m:\u001b[0m\u001b[1;33m\u001b[0m\u001b[1;33m\u001b[0m\u001b[0m\n",
      "\u001b[1;32m~\\AppData\\Local\\Continuum\\anaconda3\\lib\\site-packages\\pandas\\io\\parsers.py\u001b[0m in \u001b[0;36m__init__\u001b[1;34m(self, src, **kwds)\u001b[0m\n\u001b[0;32m   1915\u001b[0m         \u001b[0mkwds\u001b[0m\u001b[1;33m[\u001b[0m\u001b[1;34m\"usecols\"\u001b[0m\u001b[1;33m]\u001b[0m \u001b[1;33m=\u001b[0m \u001b[0mself\u001b[0m\u001b[1;33m.\u001b[0m\u001b[0musecols\u001b[0m\u001b[1;33m\u001b[0m\u001b[1;33m\u001b[0m\u001b[0m\n\u001b[0;32m   1916\u001b[0m \u001b[1;33m\u001b[0m\u001b[0m\n\u001b[1;32m-> 1917\u001b[1;33m         \u001b[0mself\u001b[0m\u001b[1;33m.\u001b[0m\u001b[0m_reader\u001b[0m \u001b[1;33m=\u001b[0m \u001b[0mparsers\u001b[0m\u001b[1;33m.\u001b[0m\u001b[0mTextReader\u001b[0m\u001b[1;33m(\u001b[0m\u001b[0msrc\u001b[0m\u001b[1;33m,\u001b[0m \u001b[1;33m**\u001b[0m\u001b[0mkwds\u001b[0m\u001b[1;33m)\u001b[0m\u001b[1;33m\u001b[0m\u001b[1;33m\u001b[0m\u001b[0m\n\u001b[0m\u001b[0;32m   1918\u001b[0m         \u001b[0mself\u001b[0m\u001b[1;33m.\u001b[0m\u001b[0munnamed_cols\u001b[0m \u001b[1;33m=\u001b[0m \u001b[0mself\u001b[0m\u001b[1;33m.\u001b[0m\u001b[0m_reader\u001b[0m\u001b[1;33m.\u001b[0m\u001b[0munnamed_cols\u001b[0m\u001b[1;33m\u001b[0m\u001b[1;33m\u001b[0m\u001b[0m\n\u001b[0;32m   1919\u001b[0m \u001b[1;33m\u001b[0m\u001b[0m\n",
      "\u001b[1;32mpandas\\_libs\\parsers.pyx\u001b[0m in \u001b[0;36mpandas._libs.parsers.TextReader.__cinit__\u001b[1;34m()\u001b[0m\n",
      "\u001b[1;32mpandas\\_libs\\parsers.pyx\u001b[0m in \u001b[0;36mpandas._libs.parsers.TextReader._setup_parser_source\u001b[1;34m()\u001b[0m\n",
      "\u001b[1;31mFileNotFoundError\u001b[0m: [Errno 2] File b'C:/Users/kumar/Documents/Github/analysis_projects/csv/current_shiny_human.csv' does not exist: b'C:/Users/kumar/Documents/Github/analysis_projects/csv/current_shiny_human.csv'"
     ]
    }
   ],
   "source": [
    "shiny_human = read_file(path_shiny_human, fields_shiny) #3592 rows\n",
    "shiny_human.rename(columns=shiny_dict, inplace=True)\n",
    "shiny_human[\"NMS Pass/Fail\"] = shiny_human[\"NMS Pass/Fail\"].replace({True: \"Pass\", False: \"Fail\"})\n",
    "\n",
    "shiny_human[\"region\"] = pd.np.where(shiny_human.roi.str.contains(\"FCx\"), \"FCx\", \n",
    "                                    pd.np.where(shiny_human.roi.str.contains(\"OCx\"), \"OCx\", \n",
    "                                    pd.np.where(shiny_human.roi.str.contains(\"PCx\"), \"PCx\",\n",
    "                                    pd.np.where(shiny_human.roi.str.contains(\"TCx\"), \"TCx\", \"Unknown/Misc\"))))\n",
    "\n",
    "shiny_human[\"layer\"] = pd.np.where(shiny_human.roi.str.contains(\"L1\"), \"L1\", \n",
    "                                   pd.np.where(shiny_human.roi.str.contains(\"L2\"), \"L2\",\n",
    "                                   pd.np.where(shiny_human.roi.str.contains(\"L3\"), \"L3\",\n",
    "                                   pd.np.where(shiny_human.roi.str.contains(\"L4\"), \"L4\", \n",
    "                                   pd.np.where(shiny_human.roi.str.contains(\"L5\"), \"L5\",\n",
    "                                   pd.np.where(shiny_human.roi.str.contains(\"L6\"), \"L6\",\n",
    "                                   pd.np.where(shiny_human.roi.str.contains(\"L2-3\"), \"L2-3\",\n",
    "                                   pd.np.where(shiny_human.roi.str.contains(\"L3a\"), \"L3\",\n",
    "                                   pd.np.where(shiny_human.roi.str.contains(\"L3b\"), \"L3\",\n",
    "                                   pd.np.where(shiny_human.roi.str.contains(\"L3c\"), \"L3\",\n",
    "                                   pd.np.where(shiny_human.roi.str.contains(\"L6a\"), \"L6\",\n",
    "                                   pd.np.where(shiny_human.roi.str.contains(\"LL1\"), \"LL1\", \n",
    "                                   pd.np.where(shiny_human.roi.str.contains(\"LL2\"), \"LL2\", \n",
    "                                   pd.np.where(shiny_human.roi.str.contains(\"LL3\"), \"LL3\",\n",
    "                                   pd.np.where(shiny_human.roi.str.contains(\"LL4\"), \"LL4\", \n",
    "                                   pd.np.where(shiny_human.roi.str.contains(\"LL5\"), \"LL5\", \"unknown_layer\"))))))))))))))))"
   ]
  },
  {
   "cell_type": "markdown",
   "metadata": {},
   "source": [
    "##### Filtering ephys"
   ]
  },
  {
   "cell_type": "code",
   "execution_count": null,
   "metadata": {},
   "outputs": [],
   "source": [
    "ephys = read_file(path_ephys, fields_ephys) #1449 rows\n",
    "ephys.rename(columns={\"vrest\": \"Vm(mV)\", \"ri\": \"Input Resistance(MΩ)\",\n",
    "                       \"sag\" : \"Sag Fraction\", \"tau\": \"τ(s)\",\n",
    "                       \"upstroke_downstroke_ratio_long_square\": \"LS AP up/downstoke\", \"latency\" : \"Latency\",\n",
    "                       \"f_i_curve_slope\" : \"F-I Curve\"}, inplace=True)"
   ]
  },
  {
   "cell_type": "code",
   "execution_count": null,
   "metadata": {},
   "outputs": [],
   "source": [
    "ephys"
   ]
  },
  {
   "cell_type": "markdown",
   "metadata": {},
   "source": [
    "##### h_l4"
   ]
  },
  {
   "cell_type": "code",
   "execution_count": null,
   "metadata": {},
   "outputs": [],
   "source": [
    "h_l4 = filter_df(shiny_human, \"layer\", \"L4\")"
   ]
  },
  {
   "cell_type": "markdown",
   "metadata": {},
   "source": [
    "##### tcx"
   ]
  },
  {
   "cell_type": "code",
   "execution_count": null,
   "metadata": {},
   "outputs": [],
   "source": [
    "tcx = filter_df(h_l4, \"region\", \"TCx\") #375 rows\n",
    "tcx = filter_df(tcx, \"NMS Pass/Fail\", \"Pass\") #307 rows"
   ]
  },
  {
   "cell_type": "code",
   "execution_count": null,
   "metadata": {},
   "outputs": [],
   "source": [
    "tcx.count()"
   ]
  },
  {
   "cell_type": "markdown",
   "metadata": {},
   "source": [
    "##### Merged tcx with ephys"
   ]
  },
  {
   "cell_type": "code",
   "execution_count": null,
   "metadata": {},
   "outputs": [],
   "source": [
    "merged = merge_dataframes(tcx, ephys, \"cell_name\", \"name\", \"inner\") #269 rows\n",
    "merged.dropna(subset=ephys_list, inplace=True) #244 rows\n",
    "merged.sort_values(by=\"seurat_cluster_label\", inplace=True)"
   ]
  },
  {
   "cell_type": "code",
   "execution_count": null,
   "metadata": {},
   "outputs": [],
   "source": [
    "merged.count()"
   ]
  },
  {
   "cell_type": "markdown",
   "metadata": {},
   "source": [
    "##### Seurat list with greater than 5 datapoints"
   ]
  },
  {
   "cell_type": "code",
   "execution_count": null,
   "metadata": {},
   "outputs": [],
   "source": [
    "seurat_list =[]\n",
    "for n in merged[\"seurat_cluster_label\"].unique():\n",
    "        value = merged[merged[\"seurat_cluster_label\"] == n][\"Vm(mV)\"].count() >= 5\n",
    "        if value == True:\n",
    "            seurat_list.append(n)"
   ]
  },
  {
   "cell_type": "code",
   "execution_count": null,
   "metadata": {},
   "outputs": [],
   "source": [
    "seurat_sorted_list = sorted(seurat_list)\n",
    "seurat_sorted_list"
   ]
  },
  {
   "cell_type": "markdown",
   "metadata": {},
   "source": [
    "##### Plot Colors"
   ]
  },
  {
   "cell_type": "code",
   "execution_count": null,
   "metadata": {},
   "outputs": [],
   "source": [
    "exc_inh_colors=[\"#67000d\", \"#a50f15\", \"#cb181d\", \"#ef3b2c\", \"#fb6a4a\", \"#fc9272\", \"#fcbba1\", \"#fee0d2\",\n",
    "                \"#3182bd\", \"#9ecae1\"]\n",
    "                #\"#2171b5\", \"#6baed6\", \"#bdd7e7\"]"
   ]
  },
  {
   "cell_type": "code",
   "execution_count": null,
   "metadata": {},
   "outputs": [],
   "source": [
    "f, axes = plt.subplots(figsize=(15, 10))\n",
    "ax = sns.boxplot(x=\"seurat_cluster_label\", y=\"Vm(mV)\", data=merged, order=seurat_sorted_list, showfliers=False,\n",
    "            palette=exc_inh_colors, saturation=1)\n",
    "ax = sns.stripplot(x=\"seurat_cluster_label\", y=\"Vm(mV)\", data=merged, order=seurat_sorted_list,\n",
    "              color=\"0.2\", size=6, jitter=False)\n",
    "ax.set(ylim=(-80, -55))\n",
    "ax.set_xlabel(\"Seurat cluster\")\n",
    "plt.xticks(rotation=90)\n",
    "plt.savefig(plot_path + \"tcx_seurat_vm.jpeg\", bbox_inches=\"tight\")"
   ]
  },
  {
   "cell_type": "code",
   "execution_count": null,
   "metadata": {},
   "outputs": [],
   "source": [
    "f, axes = plt.subplots(figsize=(15, 10))\n",
    "ax = sns.boxplot(x=\"seurat_cluster_label\", y=\"Input Resistance(MΩ)\", data=merged, order=seurat_sorted_list, showfliers=False,\n",
    "            palette=exc_inh_colors, saturation=1)\n",
    "ax = sns.stripplot(x=\"seurat_cluster_label\", y=\"Input Resistance(MΩ)\", data=merged, order=seurat_sorted_list,\n",
    "              color=\"0.2\", size=6, jitter=False)\n",
    "ax.set(ylim=(50, 400))\n",
    "ax.set_xlabel(\"Seurat cluster\")\n",
    "plt.xticks(rotation=90)\n",
    "plt.savefig(plot_path + \"tcx_seurat_ir.jpeg\", bbox_inches=\"tight\")"
   ]
  },
  {
   "cell_type": "code",
   "execution_count": null,
   "metadata": {},
   "outputs": [],
   "source": [
    "f, axes = plt.subplots(figsize=(15, 10))\n",
    "ax = sns.boxplot(x=\"seurat_cluster_label\", y=\"Sag Fraction\", data=merged, order=seurat_sorted_list, showfliers=False,\n",
    "            palette=exc_inh_colors, saturation=1)\n",
    "ax = sns.stripplot(x=\"seurat_cluster_label\", y=\"Sag Fraction\", data=merged, order=seurat_sorted_list,\n",
    "              color=\"0.2\", size=6, jitter=False)\n",
    "ax.set(ylim=(0, 0.3))\n",
    "ax.set_xlabel(\"Seurat cluster\")\n",
    "plt.xticks(rotation=90)\n",
    "plt.savefig(plot_path + \"tcx_seurat_sf.jpeg\", bbox_inches=\"tight\")"
   ]
  },
  {
   "cell_type": "code",
   "execution_count": null,
   "metadata": {},
   "outputs": [],
   "source": [
    "f, axes = plt.subplots(figsize=(15, 10))\n",
    "ax = sns.boxplot(x=\"seurat_cluster_label\", y=\"F-I Curve\", data=merged, order=seurat_sorted_list, showfliers=False,\n",
    "            palette=exc_inh_colors, saturation=1)\n",
    "ax = sns.stripplot(x=\"seurat_cluster_label\", y=\"F-I Curve\", data=merged, order=seurat_sorted_list,\n",
    "              color=\"0.2\", size=6, jitter=False)\n",
    "ax.set(ylim=(0, 1))\n",
    "ax.set_xlabel(\"Seurat cluster\")\n",
    "plt.xticks(rotation=90)\n",
    "plt.savefig(plot_path + \"tcx_seurat_fi.jpeg\", bbox_inches=\"tight\")"
   ]
  },
  {
   "cell_type": "code",
   "execution_count": null,
   "metadata": {},
   "outputs": [],
   "source": [
    "f, axes = plt.subplots(figsize=(15, 10))\n",
    "ax = sns.boxplot(x=\"seurat_cluster_label\", y=\"LS AP up/downstoke\", data=merged, order=seurat_sorted_list, showfliers=False,\n",
    "            palette=exc_inh_colors, saturation=1)\n",
    "ax = sns.stripplot(x=\"seurat_cluster_label\", y=\"LS AP up/downstoke\", data=merged, order=seurat_sorted_list,\n",
    "              color=\"0.2\", size=6, jitter=False)\n",
    "ax.set(ylim=(1, 7))\n",
    "ax.set_xlabel(\"Seurat cluster\")\n",
    "plt.xticks(rotation=90)\n",
    "plt.savefig(plot_path + \"tcx_seurat_ls.jpeg\", bbox_inches=\"tight\")"
   ]
  },
  {
   "cell_type": "code",
   "execution_count": null,
   "metadata": {},
   "outputs": [],
   "source": [
    "f, axes = plt.subplots(figsize=(15, 10))\n",
    "ax = sns.boxplot(x=\"seurat_cluster_label\", y=\"Latency\", data=merged, order=seurat_sorted_list, showfliers=False,\n",
    "            palette=exc_inh_colors, saturation=1)\n",
    "ax = sns.stripplot(x=\"seurat_cluster_label\", y=\"Latency\", data=merged, order=seurat_sorted_list,\n",
    "              color=\"0.2\", size=6, jitter=False)\n",
    "ax.set(ylim=(0, 0.07))\n",
    "ax.set_xlabel(\"Seurat cluster\")\n",
    "plt.xticks(rotation=90)\n",
    "plt.savefig(plot_path + \"tcx_seurat_lt.jpeg\", bbox_inches=\"tight\")"
   ]
  },
  {
   "cell_type": "code",
   "execution_count": null,
   "metadata": {},
   "outputs": [],
   "source": [
    "f, axes = plt.subplots(figsize=(15, 10))\n",
    "ax = sns.boxplot(x=\"seurat_cluster_label\", y=\"τ(s)\", data=merged, order=seurat_sorted_list, showfliers=False,\n",
    "            palette=exc_inh_colors, saturation=1)\n",
    "ax = sns.stripplot(x=\"seurat_cluster_label\", y=\"τ(s)\", data=merged, order=seurat_sorted_list,\n",
    "              color=\"0.2\", size=6, jitter=False)\n",
    "ax.set(ylim=(5, 50))\n",
    "ax.set_xlabel(\"Seurat cluster\")\n",
    "plt.xticks(rotation=90)\n",
    "plt.savefig(plot_path + \"tcx_seurat_ts.jpeg\", bbox_inches=\"tight\")"
   ]
  },
  {
   "cell_type": "markdown",
   "metadata": {},
   "source": [
    "##### Clustered Boxplot for TCx"
   ]
  },
  {
   "cell_type": "code",
   "execution_count": null,
   "metadata": {
    "scrolled": false
   },
   "outputs": [],
   "source": [
    "f, axes = plt.subplots(nrows=7, ncols=1, figsize=(10, 50))\n",
    "\n",
    "ax = sns.boxplot(x=\"seurat_cluster_label\", y=\"Vm(mV)\", data=merged, order=seurat_sorted_list, showfliers=False,\n",
    "            palette=exc_inh_colors, saturation=1, ax=axes[0])\n",
    "ax = sns.stripplot(x=\"seurat_cluster_label\", y=\"Vm(mV)\", data=merged, order=seurat_sorted_list,\n",
    "              color=\"0.2\", size=6, jitter=False, ax=axes[0])\n",
    "\n",
    "ax1 = sns.boxplot(x=\"seurat_cluster_label\", y=\"Input Resistance(MΩ)\", data=merged, order=seurat_sorted_list, showfliers=False,\n",
    "            palette=exc_inh_colors, saturation=1, ax=axes[1])\n",
    "ax1 = sns.stripplot(x=\"seurat_cluster_label\", y=\"Input Resistance(MΩ)\", data=merged, order=seurat_sorted_list,\n",
    "              color=\"0.2\", size=6, jitter=False, ax=axes[1])\n",
    "\n",
    "ax2 = sns.boxplot(x=\"seurat_cluster_label\", y=\"Sag Fraction\", data=merged, order=seurat_sorted_list, showfliers=False,\n",
    "            palette=exc_inh_colors, saturation=1, ax=axes[2])\n",
    "ax2 = sns.stripplot(x=\"seurat_cluster_label\", y=\"Sag Fraction\", data=merged, order=seurat_sorted_list,\n",
    "              color=\"0.2\", size=6, jitter=False, ax=axes[2])\n",
    "\n",
    "ax3 = sns.boxplot(x=\"seurat_cluster_label\", y=\"F-I Curve\", data=merged, order=seurat_sorted_list, showfliers=False,\n",
    "            palette=exc_inh_colors, saturation=1, ax=axes[3])\n",
    "ax3 = sns.stripplot(x=\"seurat_cluster_label\", y=\"F-I Curve\", data=merged, order=seurat_sorted_list,\n",
    "              color=\"0.2\", size=6, jitter=False, ax=axes[3])\n",
    "\n",
    "ax4 = sns.boxplot(x=\"seurat_cluster_label\", y=\"LS AP up/downstoke\", data=merged, order=seurat_sorted_list, showfliers=False,\n",
    "            palette=exc_inh_colors, saturation=1, ax=axes[4])\n",
    "ax4 = sns.stripplot(x=\"seurat_cluster_label\", y=\"LS AP up/downstoke\", data=merged, order=seurat_sorted_list,\n",
    "              color=\"0.2\", size=6, jitter=False, ax=axes[4])\n",
    "\n",
    "ax5 = sns.boxplot(x=\"seurat_cluster_label\", y=\"Latency\", data=merged, order=seurat_sorted_list, showfliers=False,\n",
    "            palette=exc_inh_colors, saturation=1, ax=axes[5])\n",
    "ax5 = sns.stripplot(x=\"seurat_cluster_label\", y=\"Latency\", data=merged, order=seurat_sorted_list,\n",
    "              color=\"0.2\", size=6, jitter=False, ax=axes[5])\n",
    "\n",
    "ax6 = sns.boxplot(x=\"seurat_cluster_label\", y=\"τ(s)\", data=merged, order=seurat_sorted_list, showfliers=False,\n",
    "            palette=exc_inh_colors, saturation=1, ax=axes[6])\n",
    "ax6 = sns.stripplot(x=\"seurat_cluster_label\", y=\"τ(s)\", data=merged, order=seurat_sorted_list,\n",
    "              color=\"0.2\", size=6, jitter=False, ax=axes[6])\n",
    "\n",
    "ax.set(xticklabels=[])\n",
    "ax1.set(xticklabels=[])\n",
    "ax2.set(xticklabels=[])\n",
    "ax3.set(xticklabels=[])\n",
    "ax4.set(xticklabels=[])\n",
    "ax5.set(xticklabels=[])\n",
    "\n",
    "ax.set_xlabel(\"\")\n",
    "ax1.set_xlabel(\"\")\n",
    "ax2.set_xlabel(\"\")\n",
    "ax3.set_xlabel(\"\")\n",
    "ax4.set_xlabel(\"\")\n",
    "ax5.set_xlabel(\"\")\n",
    "ax6.set_xlabel(\"Seurat cluster\")\n",
    "sns.despine(bottom=True, right=False)\n",
    "\n",
    "ax.set(ylim=(-80, -55))\n",
    "ax1.set(ylim=(50, 400))\n",
    "ax2.set(ylim=(0, 0.3))\n",
    "ax3.set(ylim=(0, 1))\n",
    "ax4.set(ylim=(1, 7))\n",
    "ax5.set(ylim=(0, 0.07))\n",
    "ax6.set(ylim=(5, 50))\n",
    "\n",
    "plt.xticks(rotation=90)\n",
    "plt.savefig(plot_path + \"tcx_seurat_bxplot.jpeg\", bbox_inches=\"tight\")"
   ]
  },
  {
   "cell_type": "code",
   "execution_count": null,
   "metadata": {},
   "outputs": [],
   "source": []
  }
 ],
 "metadata": {
  "kernelspec": {
   "display_name": "Python 3",
   "language": "python",
   "name": "python3"
  },
  "language_info": {
   "codemirror_mode": {
    "name": "ipython",
    "version": 3
   },
   "file_extension": ".py",
   "mimetype": "text/x-python",
   "name": "python",
   "nbconvert_exporter": "python",
   "pygments_lexer": "ipython3",
   "version": "3.7.4"
  }
 },
 "nbformat": 4,
 "nbformat_minor": 2
}
