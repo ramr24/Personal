{
 "cells": [
  {
   "cell_type": "code",
   "execution_count": 1,
   "metadata": {},
   "outputs": [],
   "source": [
    "import pandas as pd\n",
    "import numpy as np\n",
    "import csv\n",
    "import logging\n",
    "import os\n",
    "from scipy.stats import pearsonr\n",
    "\n",
    "from temp_funcs import read_file, merge_dataframes, drop_cols, drop_nans, filter_date_range, \\\n",
    "filter_df, create_container_col, create_cond_df, create_container_df\n",
    "\n",
    "import seaborn as sns\n",
    "import matplotlib.pyplot as plt\n",
    "from matplotlib.colors import ListedColormap\n",
    "\n",
    "sns.set(context = \"notebook\", style = \"ticks\", font=\"verdana\", font_scale = 1.9)\n",
    "pd.set_option(\"display.max_colwidth\",150) #Expands the number of characters shown in the columns\n",
    "pd.set_option('display.max_columns', None)"
   ]
  },
  {
   "cell_type": "code",
   "execution_count": 2,
   "metadata": {},
   "outputs": [],
   "source": [
    "path = \"C:/Users/kumar/Documents/Github/analysis_projects/\"\n",
    "csv_path = os.path.join(path, \"csv/\")\n",
    "excel_path = os.path.join(path, \"excel/\")\n",
    "plot_path = os.path.join(path, \"plot/\")\n",
    "path_shiny_human = os.path.join(csv_path, \"current_shiny_human.csv\")"
   ]
  },
  {
   "cell_type": "code",
   "execution_count": 46,
   "metadata": {},
   "outputs": [],
   "source": [
    "fields_shiny = [\"cell_name\", \"roi\", \"cell_specimen_project\", \"Norm_Marker_Sum.0.4_label\",\n",
    "                \"marker_sum_norm_label\", \"rna_amplification_pass_fail\",\n",
    "                \"percent_cdna_longer_than_400bp\", \"amplified_quantity_ng\", \"sample_id\", \n",
    "                \"Tree_call\", \"seurat_prediction_score_label\", \"seurat_cluster_label\",\n",
    "                \"broad_class_label\", \"subclass_label\"]\n",
    "\n",
    "shiny_dict = {\"Norm_Marker_Sum.0.4_label\" : \"NMS Pass/Fail\",\n",
    "              \"rna_amplification_pass_fail\" : \"RNA Amp Pass/Fail\",\n",
    "              \"marker_sum_norm_label\": \"NMS score\",\n",
    "              \"percent_cdna_longer_than_400bp\" : \"cDNA quality (%>400 bp)\",\n",
    "              \"amplified_quantity_ng\" : \"Amplified content (ng)\",\n",
    "              \"seurat_prediction_score_label\": \"Seurat prediction score\"}"
   ]
  },
  {
   "cell_type": "markdown",
   "metadata": {},
   "source": [
    "##### Filtering shiny"
   ]
  },
  {
   "cell_type": "code",
   "execution_count": 47,
   "metadata": {},
   "outputs": [
    {
     "name": "stderr",
     "output_type": "stream",
     "text": [
      "INFO:temp_funcs:Read file in as a pandas dataframe\n"
     ]
    }
   ],
   "source": [
    "shiny_human = read_file(path_shiny_human, fields_shiny) #3592 rows\n",
    "shiny_human.rename(columns=shiny_dict, inplace=True)"
   ]
  },
  {
   "cell_type": "code",
   "execution_count": 48,
   "metadata": {},
   "outputs": [],
   "source": [
    "shiny_human[\"region\"] = pd.np.where(shiny_human.roi.str.contains(\"FCx\"), \"FCx\", \n",
    "                                    pd.np.where(shiny_human.roi.str.contains(\"OCx\"), \"OCx\", \n",
    "                                    pd.np.where(shiny_human.roi.str.contains(\"PCx\"), \"PCx\",\n",
    "                                    pd.np.where(shiny_human.roi.str.contains(\"TCx\"), \"TCx\", \"Unknown/Misc\"))))\n",
    "\n",
    "shiny_human[\"layer\"] = pd.np.where(shiny_human.roi.str.contains(\"L1\"), \"L1\", \n",
    "                                   pd.np.where(shiny_human.roi.str.contains(\"L2\"), \"L2\",\n",
    "                                   pd.np.where(shiny_human.roi.str.contains(\"L3\"), \"L3\",\n",
    "                                   pd.np.where(shiny_human.roi.str.contains(\"L4\"), \"L4\", \n",
    "                                   pd.np.where(shiny_human.roi.str.contains(\"L5\"), \"L5\",\n",
    "                                   pd.np.where(shiny_human.roi.str.contains(\"L6\"), \"L6\",\n",
    "                                   pd.np.where(shiny_human.roi.str.contains(\"L2-3\"), \"L2-3\",\n",
    "                                   pd.np.where(shiny_human.roi.str.contains(\"L3a\"), \"L3\",\n",
    "                                   pd.np.where(shiny_human.roi.str.contains(\"L3b\"), \"L3\",\n",
    "                                   pd.np.where(shiny_human.roi.str.contains(\"L3c\"), \"L3\",\n",
    "                                   pd.np.where(shiny_human.roi.str.contains(\"L6a\"), \"L6\",\n",
    "                                   pd.np.where(shiny_human.roi.str.contains(\"LL1\"), \"LL1\", \n",
    "                                   pd.np.where(shiny_human.roi.str.contains(\"LL2\"), \"LL2\", \n",
    "                                   pd.np.where(shiny_human.roi.str.contains(\"LL3\"), \"LL3\",\n",
    "                                   pd.np.where(shiny_human.roi.str.contains(\"LL4\"), \"LL4\", \n",
    "                                   pd.np.where(shiny_human.roi.str.contains(\"LL5\"), \"LL5\", \"unknown_layer\"))))))))))))))))"
   ]
  },
  {
   "cell_type": "markdown",
   "metadata": {},
   "source": [
    "##### Human Layer 4 DF"
   ]
  },
  {
   "cell_type": "code",
   "execution_count": 49,
   "metadata": {},
   "outputs": [
    {
     "name": "stderr",
     "output_type": "stream",
     "text": [
      "INFO:temp_funcs:Filtered dataframe based on layer == L4\n",
      "INFO:temp_funcs:Created a conditional dataframe based on region containing ['FCx', 'OCx', 'PCx', 'TCx']\n"
     ]
    }
   ],
   "source": [
    "h_l4 = filter_df(shiny_human, \"layer\", \"L4\")\n",
    "h_l4 = create_cond_df(h_l4, \"region\", [\"FCx\", \"OCx\", \"PCx\", \"TCx\"]) #473 rows"
   ]
  },
  {
   "cell_type": "code",
   "execution_count": 50,
   "metadata": {},
   "outputs": [
    {
     "data": {
      "text/html": [
       "<div>\n",
       "<style scoped>\n",
       "    .dataframe tbody tr th:only-of-type {\n",
       "        vertical-align: middle;\n",
       "    }\n",
       "\n",
       "    .dataframe tbody tr th {\n",
       "        vertical-align: top;\n",
       "    }\n",
       "\n",
       "    .dataframe thead th {\n",
       "        text-align: right;\n",
       "    }\n",
       "</style>\n",
       "<table border=\"1\" class=\"dataframe\">\n",
       "  <thead>\n",
       "    <tr style=\"text-align: right;\">\n",
       "      <th></th>\n",
       "      <th>sample_id</th>\n",
       "      <th>cell_name</th>\n",
       "      <th>roi</th>\n",
       "      <th>cDNA quality (%&gt;400 bp)</th>\n",
       "      <th>RNA Amp Pass/Fail</th>\n",
       "      <th>Amplified content (ng)</th>\n",
       "      <th>cell_specimen_project</th>\n",
       "      <th>NMS score</th>\n",
       "      <th>NMS Pass/Fail</th>\n",
       "      <th>seurat_cluster_label</th>\n",
       "      <th>Seurat prediction score</th>\n",
       "      <th>broad_class_label</th>\n",
       "      <th>subclass_label</th>\n",
       "      <th>Tree_call</th>\n",
       "      <th>region</th>\n",
       "      <th>layer</th>\n",
       "    </tr>\n",
       "  </thead>\n",
       "  <tbody>\n",
       "    <tr>\n",
       "      <td>6</td>\n",
       "      <td>P8S4_180718_354_A01</td>\n",
       "      <td>H18.03.313.11.06.01.05</td>\n",
       "      <td>TCx_L4</td>\n",
       "      <td>0.689</td>\n",
       "      <td>Pass</td>\n",
       "      <td>12.936141</td>\n",
       "      <td>hIVSCC-MET</td>\n",
       "      <td>1.112490</td>\n",
       "      <td>True</td>\n",
       "      <td>Inh L1-2 PAX6 CDH12</td>\n",
       "      <td>1.000000</td>\n",
       "      <td>GABAergic neuron</td>\n",
       "      <td>LAMP5/PAX6/Other</td>\n",
       "      <td>Core</td>\n",
       "      <td>TCx</td>\n",
       "      <td>L4</td>\n",
       "    </tr>\n",
       "    <tr>\n",
       "      <td>42</td>\n",
       "      <td>PBS4_181212_501_A01</td>\n",
       "      <td>H18.06.371.12.17.01.01</td>\n",
       "      <td>TCx_L4</td>\n",
       "      <td>0.741</td>\n",
       "      <td>Pass</td>\n",
       "      <td>20.640435</td>\n",
       "      <td>hIVSCC-MET</td>\n",
       "      <td>1.066516</td>\n",
       "      <td>True</td>\n",
       "      <td>Inh L1-2 PAX6 TNFAIP8L3</td>\n",
       "      <td>0.697530</td>\n",
       "      <td>GABAergic neuron</td>\n",
       "      <td>LAMP5/PAX6/Other</td>\n",
       "      <td>Core</td>\n",
       "      <td>TCx</td>\n",
       "      <td>L4</td>\n",
       "    </tr>\n",
       "    <tr>\n",
       "      <td>139</td>\n",
       "      <td>P8S4_171017_351_A01</td>\n",
       "      <td>H17.06.013.21.10.01</td>\n",
       "      <td>FCx_L4</td>\n",
       "      <td>0.367</td>\n",
       "      <td>Pass</td>\n",
       "      <td>15.216977</td>\n",
       "      <td>hIVSCC-MET</td>\n",
       "      <td>0.940926</td>\n",
       "      <td>True</td>\n",
       "      <td>Inh L1-4 LAMP5 LCP2 (rosehip)</td>\n",
       "      <td>0.999842</td>\n",
       "      <td>GABAergic neuron</td>\n",
       "      <td>LAMP5/PAX6/Other</td>\n",
       "      <td>Core</td>\n",
       "      <td>FCx</td>\n",
       "      <td>L4</td>\n",
       "    </tr>\n",
       "    <tr>\n",
       "      <td>142</td>\n",
       "      <td>P8S4_190618_356_A01</td>\n",
       "      <td>H19.03.314.12.07.01.01</td>\n",
       "      <td>TCx_L4</td>\n",
       "      <td>0.479</td>\n",
       "      <td>Pass</td>\n",
       "      <td>35.471986</td>\n",
       "      <td>hIVSCC-MET</td>\n",
       "      <td>0.988428</td>\n",
       "      <td>True</td>\n",
       "      <td>Inh L1-4 LAMP5 LCP2 (rosehip)</td>\n",
       "      <td>0.984463</td>\n",
       "      <td>GABAergic neuron</td>\n",
       "      <td>LAMP5/PAX6/Other</td>\n",
       "      <td>Core</td>\n",
       "      <td>TCx</td>\n",
       "      <td>L4</td>\n",
       "    </tr>\n",
       "    <tr>\n",
       "      <td>190</td>\n",
       "      <td>P1S4_190813_005_A01</td>\n",
       "      <td>H19.03.319.12.07.01.03</td>\n",
       "      <td>TCx_L4</td>\n",
       "      <td>0.616</td>\n",
       "      <td>Pass</td>\n",
       "      <td>17.497605</td>\n",
       "      <td>hIVSCC-MET</td>\n",
       "      <td>1.372332</td>\n",
       "      <td>True</td>\n",
       "      <td>Inh L2-6 LAMP5 CA1 (Igtp)</td>\n",
       "      <td>1.000000</td>\n",
       "      <td>GABAergic neuron</td>\n",
       "      <td>LAMP5/PAX6/Other</td>\n",
       "      <td>Core</td>\n",
       "      <td>TCx</td>\n",
       "      <td>L4</td>\n",
       "    </tr>\n",
       "    <tr>\n",
       "      <td>...</td>\n",
       "      <td>...</td>\n",
       "      <td>...</td>\n",
       "      <td>...</td>\n",
       "      <td>...</td>\n",
       "      <td>...</td>\n",
       "      <td>...</td>\n",
       "      <td>...</td>\n",
       "      <td>...</td>\n",
       "      <td>...</td>\n",
       "      <td>...</td>\n",
       "      <td>...</td>\n",
       "      <td>...</td>\n",
       "      <td>...</td>\n",
       "      <td>...</td>\n",
       "      <td>...</td>\n",
       "      <td>...</td>\n",
       "    </tr>\n",
       "    <tr>\n",
       "      <td>3328</td>\n",
       "      <td>PHS4_191113_103_A01</td>\n",
       "      <td>H19.29.164.11.11.03</td>\n",
       "      <td>TCx_L4</td>\n",
       "      <td>0.683</td>\n",
       "      <td>Pass</td>\n",
       "      <td>48.357101</td>\n",
       "      <td>hIVSCC-METx</td>\n",
       "      <td>0.991290</td>\n",
       "      <td>True</td>\n",
       "      <td>Exc L2-3 LINC00507 FREM3</td>\n",
       "      <td>0.299389</td>\n",
       "      <td>Glutamatergic neuron</td>\n",
       "      <td>IT (L2-3)</td>\n",
       "      <td>PoorQ</td>\n",
       "      <td>TCx</td>\n",
       "      <td>L4</td>\n",
       "    </tr>\n",
       "    <tr>\n",
       "      <td>3329</td>\n",
       "      <td>PHS4_191113_105_A01</td>\n",
       "      <td>H19.29.164.11.11.06</td>\n",
       "      <td>TCx_L4</td>\n",
       "      <td>0.209</td>\n",
       "      <td>Fail</td>\n",
       "      <td>5.843088</td>\n",
       "      <td>hIVSCC-METx</td>\n",
       "      <td>0.206155</td>\n",
       "      <td>False</td>\n",
       "      <td>Inh L1-3 SST CALB1</td>\n",
       "      <td>0.219432</td>\n",
       "      <td>GABAergic neuron</td>\n",
       "      <td>PVALB</td>\n",
       "      <td>PoorQ</td>\n",
       "      <td>TCx</td>\n",
       "      <td>L4</td>\n",
       "    </tr>\n",
       "    <tr>\n",
       "      <td>3422</td>\n",
       "      <td>PXS4_171206_251_A01</td>\n",
       "      <td>H17.06.015.13.10.01</td>\n",
       "      <td>TCx_L4</td>\n",
       "      <td>0.380</td>\n",
       "      <td>Fail</td>\n",
       "      <td>4.655165</td>\n",
       "      <td>hIVSCC-MET</td>\n",
       "      <td>0.104556</td>\n",
       "      <td>False</td>\n",
       "      <td>Exc L4-5 RORB FOLH1B</td>\n",
       "      <td>0.136398</td>\n",
       "      <td>Glutamatergic neuron</td>\n",
       "      <td>L5/6 CT</td>\n",
       "      <td>PoorQ</td>\n",
       "      <td>TCx</td>\n",
       "      <td>L4</td>\n",
       "    </tr>\n",
       "    <tr>\n",
       "      <td>3435</td>\n",
       "      <td>PXS4_190131_306_A01</td>\n",
       "      <td>h19.03.002.12.01.03.01.06</td>\n",
       "      <td>TCx_L4</td>\n",
       "      <td>0.569</td>\n",
       "      <td>Pass</td>\n",
       "      <td>8.987688</td>\n",
       "      <td>hIVSCC-METc</td>\n",
       "      <td>0.441919</td>\n",
       "      <td>True</td>\n",
       "      <td>Exc L2-3 LINC00507 FREM3</td>\n",
       "      <td>0.351331</td>\n",
       "      <td>Glutamatergic neuron</td>\n",
       "      <td>L5 ET</td>\n",
       "      <td>PoorQ</td>\n",
       "      <td>TCx</td>\n",
       "      <td>L4</td>\n",
       "    </tr>\n",
       "    <tr>\n",
       "      <td>3573</td>\n",
       "      <td>PXS4_190722_651_A01</td>\n",
       "      <td>H19.03.316.2A.03.01</td>\n",
       "      <td>TCx_L4</td>\n",
       "      <td>0.769</td>\n",
       "      <td>Pass</td>\n",
       "      <td>22.470086</td>\n",
       "      <td>hIVSCC-METc</td>\n",
       "      <td>0.318694</td>\n",
       "      <td>False</td>\n",
       "      <td>Inh L2-4 PVALB WFDC2</td>\n",
       "      <td>0.544979</td>\n",
       "      <td>GABAergic neuron</td>\n",
       "      <td>SST</td>\n",
       "      <td>PoorQ</td>\n",
       "      <td>TCx</td>\n",
       "      <td>L4</td>\n",
       "    </tr>\n",
       "  </tbody>\n",
       "</table>\n",
       "<p>473 rows × 16 columns</p>\n",
       "</div>"
      ],
      "text/plain": [
       "                sample_id                  cell_name     roi  \\\n",
       "6     P8S4_180718_354_A01     H18.03.313.11.06.01.05  TCx_L4   \n",
       "42    PBS4_181212_501_A01     H18.06.371.12.17.01.01  TCx_L4   \n",
       "139   P8S4_171017_351_A01        H17.06.013.21.10.01  FCx_L4   \n",
       "142   P8S4_190618_356_A01     H19.03.314.12.07.01.01  TCx_L4   \n",
       "190   P1S4_190813_005_A01     H19.03.319.12.07.01.03  TCx_L4   \n",
       "...                   ...                        ...     ...   \n",
       "3328  PHS4_191113_103_A01        H19.29.164.11.11.03  TCx_L4   \n",
       "3329  PHS4_191113_105_A01        H19.29.164.11.11.06  TCx_L4   \n",
       "3422  PXS4_171206_251_A01        H17.06.015.13.10.01  TCx_L4   \n",
       "3435  PXS4_190131_306_A01  h19.03.002.12.01.03.01.06  TCx_L4   \n",
       "3573  PXS4_190722_651_A01        H19.03.316.2A.03.01  TCx_L4   \n",
       "\n",
       "      cDNA quality (%>400 bp) RNA Amp Pass/Fail  Amplified content (ng)  \\\n",
       "6                       0.689              Pass               12.936141   \n",
       "42                      0.741              Pass               20.640435   \n",
       "139                     0.367              Pass               15.216977   \n",
       "142                     0.479              Pass               35.471986   \n",
       "190                     0.616              Pass               17.497605   \n",
       "...                       ...               ...                     ...   \n",
       "3328                    0.683              Pass               48.357101   \n",
       "3329                    0.209              Fail                5.843088   \n",
       "3422                    0.380              Fail                4.655165   \n",
       "3435                    0.569              Pass                8.987688   \n",
       "3573                    0.769              Pass               22.470086   \n",
       "\n",
       "     cell_specimen_project  NMS score  NMS Pass/Fail  \\\n",
       "6               hIVSCC-MET   1.112490           True   \n",
       "42              hIVSCC-MET   1.066516           True   \n",
       "139             hIVSCC-MET   0.940926           True   \n",
       "142             hIVSCC-MET   0.988428           True   \n",
       "190             hIVSCC-MET   1.372332           True   \n",
       "...                    ...        ...            ...   \n",
       "3328           hIVSCC-METx   0.991290           True   \n",
       "3329           hIVSCC-METx   0.206155          False   \n",
       "3422            hIVSCC-MET   0.104556          False   \n",
       "3435           hIVSCC-METc   0.441919           True   \n",
       "3573           hIVSCC-METc   0.318694          False   \n",
       "\n",
       "               seurat_cluster_label  Seurat prediction score  \\\n",
       "6               Inh L1-2 PAX6 CDH12                 1.000000   \n",
       "42          Inh L1-2 PAX6 TNFAIP8L3                 0.697530   \n",
       "139   Inh L1-4 LAMP5 LCP2 (rosehip)                 0.999842   \n",
       "142   Inh L1-4 LAMP5 LCP2 (rosehip)                 0.984463   \n",
       "190       Inh L2-6 LAMP5 CA1 (Igtp)                 1.000000   \n",
       "...                             ...                      ...   \n",
       "3328       Exc L2-3 LINC00507 FREM3                 0.299389   \n",
       "3329             Inh L1-3 SST CALB1                 0.219432   \n",
       "3422           Exc L4-5 RORB FOLH1B                 0.136398   \n",
       "3435       Exc L2-3 LINC00507 FREM3                 0.351331   \n",
       "3573           Inh L2-4 PVALB WFDC2                 0.544979   \n",
       "\n",
       "         broad_class_label    subclass_label Tree_call region layer  \n",
       "6         GABAergic neuron  LAMP5/PAX6/Other      Core    TCx    L4  \n",
       "42        GABAergic neuron  LAMP5/PAX6/Other      Core    TCx    L4  \n",
       "139       GABAergic neuron  LAMP5/PAX6/Other      Core    FCx    L4  \n",
       "142       GABAergic neuron  LAMP5/PAX6/Other      Core    TCx    L4  \n",
       "190       GABAergic neuron  LAMP5/PAX6/Other      Core    TCx    L4  \n",
       "...                    ...               ...       ...    ...   ...  \n",
       "3328  Glutamatergic neuron         IT (L2-3)     PoorQ    TCx    L4  \n",
       "3329      GABAergic neuron             PVALB     PoorQ    TCx    L4  \n",
       "3422  Glutamatergic neuron           L5/6 CT     PoorQ    TCx    L4  \n",
       "3435  Glutamatergic neuron             L5 ET     PoorQ    TCx    L4  \n",
       "3573      GABAergic neuron               SST     PoorQ    TCx    L4  \n",
       "\n",
       "[473 rows x 16 columns]"
      ]
     },
     "execution_count": 50,
     "metadata": {},
     "output_type": "execute_result"
    }
   ],
   "source": [
    "h_l4"
   ]
  },
  {
   "cell_type": "code",
   "execution_count": 51,
   "metadata": {},
   "outputs": [
    {
     "name": "stderr",
     "output_type": "stream",
     "text": [
      "INFO:temp_funcs:Filtered dataframe based on region == FCx\n",
      "INFO:temp_funcs:Filtered dataframe based on region == OCx\n",
      "INFO:temp_funcs:Filtered dataframe based on region == PCx\n",
      "INFO:temp_funcs:Filtered dataframe based on region == TCx\n"
     ]
    }
   ],
   "source": [
    "region_list = [\"FCx\", \"OCx\", \"PCx\", \"TCx\"]\n",
    "\n",
    "d = dict()\n",
    "for region_name in region_list:\n",
    "    d[region_name] = filter_df(h_l4, \"region\", region_name)\n",
    "    \n",
    "#d[\"FCx\"] #90 rows\n",
    "#d[\"OCx\"] #5 rows\n",
    "#d[\"PCx\"] #3 rows\n",
    "#d[\"TCx\"] #375 rows"
   ]
  },
  {
   "cell_type": "code",
   "execution_count": 52,
   "metadata": {},
   "outputs": [
    {
     "name": "stderr",
     "output_type": "stream",
     "text": [
      "C:\\Users\\kumar\\Anaconda3\\lib\\site-packages\\ipykernel_launcher.py:2: SettingWithCopyWarning: \n",
      "A value is trying to be set on a copy of a slice from a DataFrame.\n",
      "Try using .loc[row_indexer,col_indexer] = value instead\n",
      "\n",
      "See the caveats in the documentation: http://pandas.pydata.org/pandas-docs/stable/user_guide/indexing.html#returning-a-view-versus-a-copy\n",
      "  \n",
      "C:\\Users\\kumar\\Anaconda3\\lib\\site-packages\\ipykernel_launcher.py:3: SettingWithCopyWarning: \n",
      "A value is trying to be set on a copy of a slice from a DataFrame.\n",
      "Try using .loc[row_indexer,col_indexer] = value instead\n",
      "\n",
      "See the caveats in the documentation: http://pandas.pydata.org/pandas-docs/stable/user_guide/indexing.html#returning-a-view-versus-a-copy\n",
      "  This is separate from the ipykernel package so we can avoid doing imports until\n",
      "C:\\Users\\kumar\\Anaconda3\\lib\\site-packages\\ipykernel_launcher.py:4: SettingWithCopyWarning: \n",
      "A value is trying to be set on a copy of a slice from a DataFrame.\n",
      "Try using .loc[row_indexer,col_indexer] = value instead\n",
      "\n",
      "See the caveats in the documentation: http://pandas.pydata.org/pandas-docs/stable/user_guide/indexing.html#returning-a-view-versus-a-copy\n",
      "  after removing the cwd from sys.path.\n"
     ]
    }
   ],
   "source": [
    "piv_df = h_l4[[\"region\", \"Tree_call\"]]\n",
    "piv_df[\"group_count\"] = piv_df.groupby([\"region\", \"Tree_call\"])[\"Tree_call\"].transform(\"count\")\n",
    "piv_df[\"group_total\"] = piv_df.groupby(\"region\")[\"Tree_call\"].transform(\"count\")\n",
    "piv_df[\"proportion\"] = piv_df[\"group_count\"] / piv_df[\"group_total\"]\n",
    "\n",
    "proportion_table = pd.pivot_table(piv_df, values=\"proportion\", index=[\"region\"], columns=\"Tree_call\", fill_value=0)\n",
    "count_table = pd.pivot_table(piv_df, values=\"group_count\", index=[\"region\"], columns=\"Tree_call\", fill_value=0)"
   ]
  },
  {
   "cell_type": "code",
   "execution_count": 53,
   "metadata": {},
   "outputs": [
    {
     "data": {
      "text/html": [
       "<div>\n",
       "<style scoped>\n",
       "    .dataframe tbody tr th:only-of-type {\n",
       "        vertical-align: middle;\n",
       "    }\n",
       "\n",
       "    .dataframe tbody tr th {\n",
       "        vertical-align: top;\n",
       "    }\n",
       "\n",
       "    .dataframe thead th {\n",
       "        text-align: right;\n",
       "    }\n",
       "</style>\n",
       "<table border=\"1\" class=\"dataframe\">\n",
       "  <thead>\n",
       "    <tr style=\"text-align: right;\">\n",
       "      <th></th>\n",
       "      <th>region</th>\n",
       "      <th>Tree_call</th>\n",
       "      <th>group_count</th>\n",
       "      <th>group_total</th>\n",
       "      <th>proportion</th>\n",
       "    </tr>\n",
       "  </thead>\n",
       "  <tbody>\n",
       "    <tr>\n",
       "      <td>6</td>\n",
       "      <td>TCx</td>\n",
       "      <td>Core</td>\n",
       "      <td>189</td>\n",
       "      <td>375</td>\n",
       "      <td>0.504000</td>\n",
       "    </tr>\n",
       "    <tr>\n",
       "      <td>42</td>\n",
       "      <td>TCx</td>\n",
       "      <td>Core</td>\n",
       "      <td>189</td>\n",
       "      <td>375</td>\n",
       "      <td>0.504000</td>\n",
       "    </tr>\n",
       "    <tr>\n",
       "      <td>139</td>\n",
       "      <td>FCx</td>\n",
       "      <td>Core</td>\n",
       "      <td>23</td>\n",
       "      <td>90</td>\n",
       "      <td>0.255556</td>\n",
       "    </tr>\n",
       "    <tr>\n",
       "      <td>142</td>\n",
       "      <td>TCx</td>\n",
       "      <td>Core</td>\n",
       "      <td>189</td>\n",
       "      <td>375</td>\n",
       "      <td>0.504000</td>\n",
       "    </tr>\n",
       "    <tr>\n",
       "      <td>190</td>\n",
       "      <td>TCx</td>\n",
       "      <td>Core</td>\n",
       "      <td>189</td>\n",
       "      <td>375</td>\n",
       "      <td>0.504000</td>\n",
       "    </tr>\n",
       "    <tr>\n",
       "      <td>...</td>\n",
       "      <td>...</td>\n",
       "      <td>...</td>\n",
       "      <td>...</td>\n",
       "      <td>...</td>\n",
       "      <td>...</td>\n",
       "    </tr>\n",
       "    <tr>\n",
       "      <td>3328</td>\n",
       "      <td>TCx</td>\n",
       "      <td>PoorQ</td>\n",
       "      <td>97</td>\n",
       "      <td>375</td>\n",
       "      <td>0.258667</td>\n",
       "    </tr>\n",
       "    <tr>\n",
       "      <td>3329</td>\n",
       "      <td>TCx</td>\n",
       "      <td>PoorQ</td>\n",
       "      <td>97</td>\n",
       "      <td>375</td>\n",
       "      <td>0.258667</td>\n",
       "    </tr>\n",
       "    <tr>\n",
       "      <td>3422</td>\n",
       "      <td>TCx</td>\n",
       "      <td>PoorQ</td>\n",
       "      <td>97</td>\n",
       "      <td>375</td>\n",
       "      <td>0.258667</td>\n",
       "    </tr>\n",
       "    <tr>\n",
       "      <td>3435</td>\n",
       "      <td>TCx</td>\n",
       "      <td>PoorQ</td>\n",
       "      <td>97</td>\n",
       "      <td>375</td>\n",
       "      <td>0.258667</td>\n",
       "    </tr>\n",
       "    <tr>\n",
       "      <td>3573</td>\n",
       "      <td>TCx</td>\n",
       "      <td>PoorQ</td>\n",
       "      <td>97</td>\n",
       "      <td>375</td>\n",
       "      <td>0.258667</td>\n",
       "    </tr>\n",
       "  </tbody>\n",
       "</table>\n",
       "<p>473 rows × 5 columns</p>\n",
       "</div>"
      ],
      "text/plain": [
       "     region Tree_call  group_count  group_total  proportion\n",
       "6       TCx      Core          189          375    0.504000\n",
       "42      TCx      Core          189          375    0.504000\n",
       "139     FCx      Core           23           90    0.255556\n",
       "142     TCx      Core          189          375    0.504000\n",
       "190     TCx      Core          189          375    0.504000\n",
       "...     ...       ...          ...          ...         ...\n",
       "3328    TCx     PoorQ           97          375    0.258667\n",
       "3329    TCx     PoorQ           97          375    0.258667\n",
       "3422    TCx     PoorQ           97          375    0.258667\n",
       "3435    TCx     PoorQ           97          375    0.258667\n",
       "3573    TCx     PoorQ           97          375    0.258667\n",
       "\n",
       "[473 rows x 5 columns]"
      ]
     },
     "execution_count": 53,
     "metadata": {},
     "output_type": "execute_result"
    }
   ],
   "source": [
    "piv_df"
   ]
  },
  {
   "cell_type": "code",
   "execution_count": 54,
   "metadata": {},
   "outputs": [
    {
     "data": {
      "text/html": [
       "<div>\n",
       "<style scoped>\n",
       "    .dataframe tbody tr th:only-of-type {\n",
       "        vertical-align: middle;\n",
       "    }\n",
       "\n",
       "    .dataframe tbody tr th {\n",
       "        vertical-align: top;\n",
       "    }\n",
       "\n",
       "    .dataframe thead th {\n",
       "        text-align: right;\n",
       "    }\n",
       "</style>\n",
       "<table border=\"1\" class=\"dataframe\">\n",
       "  <thead>\n",
       "    <tr style=\"text-align: right;\">\n",
       "      <th>Tree_call</th>\n",
       "      <th>Core</th>\n",
       "      <th>I1</th>\n",
       "      <th>I2</th>\n",
       "      <th>I3</th>\n",
       "      <th>PoorQ</th>\n",
       "    </tr>\n",
       "    <tr>\n",
       "      <th>region</th>\n",
       "      <th></th>\n",
       "      <th></th>\n",
       "      <th></th>\n",
       "      <th></th>\n",
       "      <th></th>\n",
       "    </tr>\n",
       "  </thead>\n",
       "  <tbody>\n",
       "    <tr>\n",
       "      <td>FCx</td>\n",
       "      <td>0.255556</td>\n",
       "      <td>0.166667</td>\n",
       "      <td>0.088889</td>\n",
       "      <td>0.011111</td>\n",
       "      <td>0.477778</td>\n",
       "    </tr>\n",
       "    <tr>\n",
       "      <td>OCx</td>\n",
       "      <td>0.400000</td>\n",
       "      <td>0.000000</td>\n",
       "      <td>0.200000</td>\n",
       "      <td>0.000000</td>\n",
       "      <td>0.400000</td>\n",
       "    </tr>\n",
       "    <tr>\n",
       "      <td>PCx</td>\n",
       "      <td>0.000000</td>\n",
       "      <td>0.333333</td>\n",
       "      <td>0.666667</td>\n",
       "      <td>0.000000</td>\n",
       "      <td>0.000000</td>\n",
       "    </tr>\n",
       "    <tr>\n",
       "      <td>TCx</td>\n",
       "      <td>0.504000</td>\n",
       "      <td>0.168000</td>\n",
       "      <td>0.066667</td>\n",
       "      <td>0.002667</td>\n",
       "      <td>0.258667</td>\n",
       "    </tr>\n",
       "  </tbody>\n",
       "</table>\n",
       "</div>"
      ],
      "text/plain": [
       "Tree_call      Core        I1        I2        I3     PoorQ\n",
       "region                                                     \n",
       "FCx        0.255556  0.166667  0.088889  0.011111  0.477778\n",
       "OCx        0.400000  0.000000  0.200000  0.000000  0.400000\n",
       "PCx        0.000000  0.333333  0.666667  0.000000  0.000000\n",
       "TCx        0.504000  0.168000  0.066667  0.002667  0.258667"
      ]
     },
     "execution_count": 54,
     "metadata": {},
     "output_type": "execute_result"
    }
   ],
   "source": [
    "proportion_table"
   ]
  },
  {
   "cell_type": "code",
   "execution_count": 55,
   "metadata": {},
   "outputs": [
    {
     "data": {
      "text/html": [
       "<div>\n",
       "<style scoped>\n",
       "    .dataframe tbody tr th:only-of-type {\n",
       "        vertical-align: middle;\n",
       "    }\n",
       "\n",
       "    .dataframe tbody tr th {\n",
       "        vertical-align: top;\n",
       "    }\n",
       "\n",
       "    .dataframe thead th {\n",
       "        text-align: right;\n",
       "    }\n",
       "</style>\n",
       "<table border=\"1\" class=\"dataframe\">\n",
       "  <thead>\n",
       "    <tr style=\"text-align: right;\">\n",
       "      <th>Tree_call</th>\n",
       "      <th>Core</th>\n",
       "      <th>I1</th>\n",
       "      <th>I2</th>\n",
       "      <th>I3</th>\n",
       "      <th>PoorQ</th>\n",
       "    </tr>\n",
       "    <tr>\n",
       "      <th>region</th>\n",
       "      <th></th>\n",
       "      <th></th>\n",
       "      <th></th>\n",
       "      <th></th>\n",
       "      <th></th>\n",
       "    </tr>\n",
       "  </thead>\n",
       "  <tbody>\n",
       "    <tr>\n",
       "      <td>FCx</td>\n",
       "      <td>23</td>\n",
       "      <td>15</td>\n",
       "      <td>8</td>\n",
       "      <td>1</td>\n",
       "      <td>43</td>\n",
       "    </tr>\n",
       "    <tr>\n",
       "      <td>OCx</td>\n",
       "      <td>2</td>\n",
       "      <td>0</td>\n",
       "      <td>1</td>\n",
       "      <td>0</td>\n",
       "      <td>2</td>\n",
       "    </tr>\n",
       "    <tr>\n",
       "      <td>PCx</td>\n",
       "      <td>0</td>\n",
       "      <td>1</td>\n",
       "      <td>2</td>\n",
       "      <td>0</td>\n",
       "      <td>0</td>\n",
       "    </tr>\n",
       "    <tr>\n",
       "      <td>TCx</td>\n",
       "      <td>189</td>\n",
       "      <td>63</td>\n",
       "      <td>25</td>\n",
       "      <td>1</td>\n",
       "      <td>97</td>\n",
       "    </tr>\n",
       "  </tbody>\n",
       "</table>\n",
       "</div>"
      ],
      "text/plain": [
       "Tree_call  Core  I1  I2  I3  PoorQ\n",
       "region                            \n",
       "FCx          23  15   8   1     43\n",
       "OCx           2   0   1   0      2\n",
       "PCx           0   1   2   0      0\n",
       "TCx         189  63  25   1     97"
      ]
     },
     "execution_count": 55,
     "metadata": {},
     "output_type": "execute_result"
    }
   ],
   "source": [
    "count_table"
   ]
  },
  {
   "cell_type": "markdown",
   "metadata": {},
   "source": [
    "##### Plot Colors"
   ]
  },
  {
   "cell_type": "code",
   "execution_count": 56,
   "metadata": {},
   "outputs": [],
   "source": [
    "tree_colors={\"Core\": \"#41ab5d\", \"I1\": \"#2171b5\", \"I2\": \"#4292c6\", \"I3\": \"#6baed6\", \"PoorQ\": \"#ef3b2c\"}"
   ]
  },
  {
   "cell_type": "markdown",
   "metadata": {},
   "source": [
    "##### Countplot of Tree calls for each region"
   ]
  },
  {
   "cell_type": "code",
   "execution_count": 57,
   "metadata": {},
   "outputs": [
    {
     "name": "stderr",
     "output_type": "stream",
     "text": [
      "WARNING:matplotlib.text:posx and posy should be finite values\n",
      "WARNING:matplotlib.text:posx and posy should be finite values\n",
      "WARNING:matplotlib.text:posx and posy should be finite values\n",
      "WARNING:matplotlib.text:posx and posy should be finite values\n",
      "WARNING:matplotlib.text:posx and posy should be finite values\n",
      "WARNING:matplotlib.text:posx and posy should be finite values\n",
      "WARNING:matplotlib.text:posx and posy should be finite values\n",
      "WARNING:matplotlib.text:posx and posy should be finite values\n",
      "WARNING:matplotlib.text:posx and posy should be finite values\n",
      "WARNING:matplotlib.text:posx and posy should be finite values\n",
      "WARNING:matplotlib.text:posx and posy should be finite values\n",
      "WARNING:matplotlib.text:posx and posy should be finite values\n",
      "WARNING:matplotlib.text:posx and posy should be finite values\n",
      "WARNING:matplotlib.text:posx and posy should be finite values\n",
      "WARNING:matplotlib.text:posx and posy should be finite values\n"
     ]
    },
    {
     "data": {
      "image/png": "[encoded data removed]",
      "text/plain": [
       "<Figure size 1440x720 with 1 Axes>"
      ]
     },
     "metadata": {
      "needs_background": "light"
     },
     "output_type": "display_data"
    }
   ],
   "source": [
    "fig_dims = (20, 10)\n",
    "f, axes = plt.subplots(figsize=fig_dims)\n",
    "\n",
    "ax = sns.barplot(x=\"region\", y=\"proportion\", data=piv_df, order=[\"FCx\", \"OCx\", \"PCx\", \"TCx\"],\n",
    "                 hue=\"Tree_call\", hue_order=tree_colors, palette=tree_colors)\n",
    "ax.set(xlabel=\"Region\", ylabel=\"Cell proportion\")\n",
    "plt.xticks(rotation=0)\n",
    "plt.ylim(0, 1.0)\n",
    "\n",
    "\n",
    "core = [23, 2, 0, 189]\n",
    "i1 = [15, 0, 1, 63]\n",
    "i2 = [8, 1, 2, 25]\n",
    "i3 = [1, 0, 0, 1]\n",
    "poorq = [43, 2, 0, 97]\n",
    "count_list = core + i1 + i2 + i3 + poorq\n",
    "\n",
    "i=0\n",
    "for p in ax.patches:\n",
    "    top_rect = p.get_height() + 0.01\n",
    "    mid_rect = p.get_x() + p.get_width()/2\n",
    "    label_rect = count_list[i]\n",
    "    ax.text(mid_rect, top_rect, label_rect,\n",
    "            ha=\"center\", size=\"xx-large\", color='black', weight='bold')\n",
    "    i += 1"
   ]
  },
  {
   "cell_type": "code",
   "execution_count": 58,
   "metadata": {},
   "outputs": [
    {
     "data": {
      "text/plain": [
       "Glutamatergic neuron    58\n",
       "GABAergic neuron        32\n",
       "Name: broad_class_label, dtype: int64"
      ]
     },
     "execution_count": 58,
     "metadata": {},
     "output_type": "execute_result"
    }
   ],
   "source": [
    "d[\"FCx\"][\"broad_class_label\"].value_counts()"
   ]
  },
  {
   "cell_type": "code",
   "execution_count": 59,
   "metadata": {},
   "outputs": [
    {
     "data": {
      "text/plain": [
       "<matplotlib.axes._subplots.AxesSubplot at 0x1eafe7ccec8>"
      ]
     },
     "execution_count": 59,
     "metadata": {},
     "output_type": "execute_result"
    },
    {
     "data": {
      "image/png": "[encoded data removed]",
      "text/plain": [
       "<Figure size 432x288 with 1 Axes>"
      ]
     },
     "metadata": {
      "needs_background": "light"
     },
     "output_type": "display_data"
    }
   ],
   "source": [
    "sns.barplot(data=d[\"FCx\"], x=\"Tree_call\", y=\"NMS score\")"
   ]
  },
  {
   "cell_type": "code",
   "execution_count": 60,
   "metadata": {},
   "outputs": [
    {
     "name": "stderr",
     "output_type": "stream",
     "text": [
      "INFO:temp_funcs:Filtered dataframe based on broad_class_label == Glutamatergic neuron\n",
      "INFO:temp_funcs:Filtered dataframe based on broad_class_label == GABAergic neuron\n"
     ]
    }
   ],
   "source": [
    "d[\"FCx_glu\"] = filter_df(d[\"FCx\"], \"broad_class_label\", \"Glutamatergic neuron\")\n",
    "d[\"FCx_gab\"] = filter_df(d[\"FCx\"], \"broad_class_label\", \"GABAergic neuron\")"
   ]
  },
  {
   "cell_type": "code",
   "execution_count": 61,
   "metadata": {},
   "outputs": [
    {
     "data": {
      "text/plain": [
       "(array([ 0,  1,  2,  3,  4,  5,  6,  7,  8,  9, 10, 11]),\n",
       " <a list of 12 Text xticklabel objects>)"
      ]
     },
     "execution_count": 61,
     "metadata": {},
     "output_type": "execute_result"
    },
    {
     "data": {
      "image/png": "[encoded data removed]",
      "text/plain": [
       "<Figure size 1440x720 with 1 Axes>"
      ]
     },
     "metadata": {
      "needs_background": "light"
     },
     "output_type": "display_data"
    }
   ],
   "source": [
    "fig_dims = (20, 10)\n",
    "f, axes = plt.subplots(figsize=fig_dims)\n",
    "\n",
    "sns.countplot(data=d[\"FCx\"], x=\"subclass_label\")\n",
    "plt.xticks(rotation=90)"
   ]
  },
  {
   "cell_type": "code",
   "execution_count": 62,
   "metadata": {},
   "outputs": [
    {
     "data": {
      "text/plain": [
       "(array([ 0,  1,  2,  3,  4,  5,  6,  7,  8,  9, 10, 11]),\n",
       " <a list of 12 Text xticklabel objects>)"
      ]
     },
     "execution_count": 62,
     "metadata": {},
     "output_type": "execute_result"
    },
    {
     "data": {
      "image/png": "[encoded data removed]",
      "text/plain": [
       "<Figure size 1440x720 with 1 Axes>"
      ]
     },
     "metadata": {
      "needs_background": "light"
     },
     "output_type": "display_data"
    }
   ],
   "source": [
    "fig_dims = (20, 10)\n",
    "f, axes = plt.subplots(figsize=fig_dims)\n",
    "\n",
    "sns.countplot(data=d[\"TCx\"], x=\"subclass_label\")\n",
    "plt.xticks(rotation=90)"
   ]
  },
  {
   "cell_type": "code",
   "execution_count": null,
   "metadata": {},
   "outputs": [],
   "source": []
  }
 ],
 "metadata": {
  "kernelspec": {
   "display_name": "Python 3",
   "language": "python",
   "name": "python3"
  },
  "language_info": {
   "codemirror_mode": {
    "name": "ipython",
    "version": 3
   },
   "file_extension": ".py",
   "mimetype": "text/x-python",
   "name": "python",
   "nbconvert_exporter": "python",
   "pygments_lexer": "ipython3",
   "version": "3.7.4"
  }
 },
 "nbformat": 4,
 "nbformat_minor": 2
}
