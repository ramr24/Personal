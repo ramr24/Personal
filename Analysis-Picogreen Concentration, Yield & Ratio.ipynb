{
 "cells": [
  {
   "cell_type": "code",
   "execution_count": 1,
   "metadata": {},
   "outputs": [],
   "source": [
    "import csv\n",
    "import pandas as pd\n",
    "import numpy as np\n",
    "import seaborn as sns\n",
    "import matplotlib.pyplot as plt\n",
    "from datetime import datetime\n",
    "%matplotlib inline\n",
    "\n",
    "from IPython.display import display #Found this to display all columns in a table\n",
    "\n",
    "sns.set_style('whitegrid') #Makes a white backround with gray horizontal gridmarks at y-values\n",
    "sns.set_context('notebook')"
   ]
  },
  {
   "cell_type": "code",
   "execution_count": 2,
   "metadata": {},
   "outputs": [],
   "source": [
    "df = pd.read_csv('patch_seq_log_mouse.csv')"
   ]
  },
  {
   "cell_type": "code",
   "execution_count": 3,
   "metadata": {},
   "outputs": [
    {
     "data": {
      "text/html": [
       "<div>\n",
       "<style scoped>\n",
       "    .dataframe tbody tr th:only-of-type {\n",
       "        vertical-align: middle;\n",
       "    }\n",
       "\n",
       "    .dataframe tbody tr th {\n",
       "        vertical-align: top;\n",
       "    }\n",
       "\n",
       "    .dataframe thead th {\n",
       "        text-align: right;\n",
       "    }\n",
       "</style>\n",
       "<table border=\"1\" class=\"dataframe\">\n",
       "  <thead>\n",
       "    <tr style=\"text-align: right;\">\n",
       "      <th></th>\n",
       "      <th>Lims tube id</th>\n",
       "      <th>User</th>\n",
       "      <th>Rig #</th>\n",
       "      <th>Picogreen conc. (pg/uL)</th>\n",
       "      <th>PCR cycles</th>\n",
       "      <th>SM_QC_PF</th>\n",
       "      <th>Bad dates</th>\n",
       "    </tr>\n",
       "  </thead>\n",
       "  <tbody>\n",
       "    <tr>\n",
       "      <th>0</th>\n",
       "      <td>P1S4_170104_001_A01</td>\n",
       "      <td>P1</td>\n",
       "      <td>5</td>\n",
       "      <td>NaN</td>\n",
       "      <td>18.0</td>\n",
       "      <td>pass</td>\n",
       "      <td>x</td>\n",
       "    </tr>\n",
       "    <tr>\n",
       "      <th>1</th>\n",
       "      <td>P1S4_170104_002_A01</td>\n",
       "      <td>P1</td>\n",
       "      <td>5</td>\n",
       "      <td>NaN</td>\n",
       "      <td>18.0</td>\n",
       "      <td>pass</td>\n",
       "      <td>x</td>\n",
       "    </tr>\n",
       "    <tr>\n",
       "      <th>2</th>\n",
       "      <td>P1S4_170104_003_A01</td>\n",
       "      <td>P1</td>\n",
       "      <td>5</td>\n",
       "      <td>NaN</td>\n",
       "      <td>18.0</td>\n",
       "      <td>pass</td>\n",
       "      <td>x</td>\n",
       "    </tr>\n",
       "    <tr>\n",
       "      <th>3</th>\n",
       "      <td>P1S4_170104_004_A01</td>\n",
       "      <td>P1</td>\n",
       "      <td>5</td>\n",
       "      <td>NaN</td>\n",
       "      <td>18.0</td>\n",
       "      <td>pass</td>\n",
       "      <td>x</td>\n",
       "    </tr>\n",
       "    <tr>\n",
       "      <th>4</th>\n",
       "      <td>P1S4_170104_005_A01</td>\n",
       "      <td>P1</td>\n",
       "      <td>5</td>\n",
       "      <td>NaN</td>\n",
       "      <td>18.0</td>\n",
       "      <td>pass</td>\n",
       "      <td>x</td>\n",
       "    </tr>\n",
       "  </tbody>\n",
       "</table>\n",
       "</div>"
      ],
      "text/plain": [
       "          Lims tube id User Rig # Picogreen conc. (pg/uL)  PCR cycles  \\\n",
       "0  P1S4_170104_001_A01   P1     5                     NaN        18.0   \n",
       "1  P1S4_170104_002_A01   P1     5                     NaN        18.0   \n",
       "2  P1S4_170104_003_A01   P1     5                     NaN        18.0   \n",
       "3  P1S4_170104_004_A01   P1     5                     NaN        18.0   \n",
       "4  P1S4_170104_005_A01   P1     5                     NaN        18.0   \n",
       "\n",
       "  SM_QC_PF Bad dates  \n",
       "0     pass         x  \n",
       "1     pass         x  \n",
       "2     pass         x  \n",
       "3     pass         x  \n",
       "4     pass         x  "
      ]
     },
     "execution_count": 3,
     "metadata": {},
     "output_type": "execute_result"
    }
   ],
   "source": [
    "list_initial = ['Lims tube id', \n",
    "                'User', \n",
    "                'Rig #', \n",
    "                'Picogreen conc. (pg/uL)', \n",
    "                'PCR cycles', \n",
    "                'SM_QC_PF', \n",
    "                'Bad dates']\n",
    "df = df[list_initial]\n",
    "df.head()"
   ]
  },
  {
   "cell_type": "markdown",
   "metadata": {},
   "source": [
    "### Categorizing & Filtering the columns"
   ]
  },
  {
   "cell_type": "code",
   "execution_count": 4,
   "metadata": {},
   "outputs": [],
   "source": [
    "#Changing Date Format\n",
    "#df['Date'] = pd.to_datetime(df['Date'], format = '%y%m%d', errors = 'coerce')\n",
    "\n",
    "#Changing String to Numerical\n",
    "df['Picogreen conc. (pg/uL)'] = pd.to_numeric(df['Picogreen conc. (pg/uL)'].str.replace(' ',''), errors ='coerce')\n",
    "\n",
    "#Categories\n",
    "df['User'] = df['User'].astype('category')\n",
    "df['Rig #'] = df['Rig #'].astype('category')\n",
    "df['PCR cycles'] = df['PCR cycles'].astype('category')\n",
    "df['SM_QC_PF'] = df['SM_QC_PF'].astype('category')\n",
    "\n",
    "#Filtering Columns\n",
    "df = df[df['PCR cycles'] == 21]      #Shows 21 pcr cycles\n",
    "df = df[df['SM_QC_PF'] != 'cnt']     #Shows everything except (cnt = control)"
   ]
  },
  {
   "cell_type": "markdown",
   "metadata": {},
   "source": [
    "##### Creating Date column and starting from production date"
   ]
  },
  {
   "cell_type": "code",
   "execution_count": 5,
   "metadata": {},
   "outputs": [],
   "source": [
    "df['Date'] = df['Lims tube id'].str[5:11]"
   ]
  },
  {
   "cell_type": "code",
   "execution_count": 6,
   "metadata": {},
   "outputs": [],
   "source": [
    "df = df.set_index('Date') \n",
    "df = df.sort_index()"
   ]
  },
  {
   "cell_type": "code",
   "execution_count": 7,
   "metadata": {},
   "outputs": [],
   "source": [
    "df = df['170901':]"
   ]
  },
  {
   "cell_type": "code",
   "execution_count": 8,
   "metadata": {},
   "outputs": [
    {
     "data": {
      "text/html": [
       "<div>\n",
       "<style scoped>\n",
       "    .dataframe tbody tr th:only-of-type {\n",
       "        vertical-align: middle;\n",
       "    }\n",
       "\n",
       "    .dataframe tbody tr th {\n",
       "        vertical-align: top;\n",
       "    }\n",
       "\n",
       "    .dataframe thead th {\n",
       "        text-align: right;\n",
       "    }\n",
       "</style>\n",
       "<table border=\"1\" class=\"dataframe\">\n",
       "  <thead>\n",
       "    <tr style=\"text-align: right;\">\n",
       "      <th></th>\n",
       "      <th>Lims tube id</th>\n",
       "      <th>User</th>\n",
       "      <th>Rig #</th>\n",
       "      <th>Picogreen conc. (pg/uL)</th>\n",
       "      <th>PCR cycles</th>\n",
       "      <th>SM_QC_PF</th>\n",
       "      <th>Bad dates</th>\n",
       "    </tr>\n",
       "    <tr>\n",
       "      <th>Date</th>\n",
       "      <th></th>\n",
       "      <th></th>\n",
       "      <th></th>\n",
       "      <th></th>\n",
       "      <th></th>\n",
       "      <th></th>\n",
       "      <th></th>\n",
       "    </tr>\n",
       "  </thead>\n",
       "  <tbody>\n",
       "    <tr>\n",
       "      <th>170901</th>\n",
       "      <td>P8S4_170901_352_A01</td>\n",
       "      <td>P8</td>\n",
       "      <td>6</td>\n",
       "      <td>859.0</td>\n",
       "      <td>21.0</td>\n",
       "      <td>pass</td>\n",
       "      <td>NaN</td>\n",
       "    </tr>\n",
       "    <tr>\n",
       "      <th>170901</th>\n",
       "      <td>P8S4_170901_355_A01</td>\n",
       "      <td>P8</td>\n",
       "      <td>6</td>\n",
       "      <td>565.0</td>\n",
       "      <td>21.0</td>\n",
       "      <td>pass</td>\n",
       "      <td>NaN</td>\n",
       "    </tr>\n",
       "    <tr>\n",
       "      <th>170901</th>\n",
       "      <td>P8S4_170901_354_A01</td>\n",
       "      <td>P8</td>\n",
       "      <td>6</td>\n",
       "      <td>453.0</td>\n",
       "      <td>21.0</td>\n",
       "      <td>pass</td>\n",
       "      <td>NaN</td>\n",
       "    </tr>\n",
       "    <tr>\n",
       "      <th>170901</th>\n",
       "      <td>P8S4_170901_353_A01</td>\n",
       "      <td>P8</td>\n",
       "      <td>6</td>\n",
       "      <td>471.0</td>\n",
       "      <td>21.0</td>\n",
       "      <td>pass</td>\n",
       "      <td>NaN</td>\n",
       "    </tr>\n",
       "    <tr>\n",
       "      <th>170901</th>\n",
       "      <td>P2S4_170901_053_A01</td>\n",
       "      <td>P2</td>\n",
       "      <td>7</td>\n",
       "      <td>1415.0</td>\n",
       "      <td>21.0</td>\n",
       "      <td>pass</td>\n",
       "      <td>NaN</td>\n",
       "    </tr>\n",
       "  </tbody>\n",
       "</table>\n",
       "</div>"
      ],
      "text/plain": [
       "               Lims tube id User Rig #  Picogreen conc. (pg/uL) PCR cycles  \\\n",
       "Date                                                                         \n",
       "170901  P8S4_170901_352_A01   P8     6                    859.0       21.0   \n",
       "170901  P8S4_170901_355_A01   P8     6                    565.0       21.0   \n",
       "170901  P8S4_170901_354_A01   P8     6                    453.0       21.0   \n",
       "170901  P8S4_170901_353_A01   P8     6                    471.0       21.0   \n",
       "170901  P2S4_170901_053_A01   P2     7                   1415.0       21.0   \n",
       "\n",
       "       SM_QC_PF Bad dates  \n",
       "Date                       \n",
       "170901     pass       NaN  \n",
       "170901     pass       NaN  \n",
       "170901     pass       NaN  \n",
       "170901     pass       NaN  \n",
       "170901     pass       NaN  "
      ]
     },
     "execution_count": 8,
     "metadata": {},
     "output_type": "execute_result"
    }
   ],
   "source": [
    "df.head()"
   ]
  },
  {
   "cell_type": "code",
   "execution_count": 9,
   "metadata": {},
   "outputs": [
    {
     "name": "stdout",
     "output_type": "stream",
     "text": [
      "<class 'pandas.core.frame.DataFrame'>\n",
      "Index: 1947 entries, 170901 to nan\n",
      "Data columns (total 7 columns):\n",
      "Lims tube id               1946 non-null object\n",
      "User                       1947 non-null category\n",
      "Rig #                      1935 non-null category\n",
      "Picogreen conc. (pg/uL)    1691 non-null float64\n",
      "PCR cycles                 1947 non-null category\n",
      "SM_QC_PF                   1691 non-null category\n",
      "Bad dates                  0 non-null object\n",
      "dtypes: category(4), float64(1), object(2)\n",
      "memory usage: 69.5+ KB\n"
     ]
    }
   ],
   "source": [
    "df.info()\n",
    "df."
   ]
  },
  {
   "cell_type": "code",
   "execution_count": 11,
   "metadata": {},
   "outputs": [
    {
     "ename": "AttributeError",
     "evalue": "'NoneType' object has no attribute 'drop'",
     "output_type": "error",
     "traceback": [
      "\u001b[1;31m---------------------------------------------------------------------------\u001b[0m",
      "\u001b[1;31mAttributeError\u001b[0m                            Traceback (most recent call last)",
      "\u001b[1;32m<ipython-input-11-796e35233f21>\u001b[0m in \u001b[0;36m<module>\u001b[1;34m()\u001b[0m\n\u001b[0;32m      1\u001b[0m \u001b[1;31m#Dropping blank columns\u001b[0m\u001b[1;33m\u001b[0m\u001b[1;33m\u001b[0m\u001b[0m\n\u001b[1;32m----> 2\u001b[1;33m \u001b[0mdf\u001b[0m \u001b[1;33m=\u001b[0m \u001b[0mdf\u001b[0m\u001b[1;33m.\u001b[0m\u001b[0mdrop\u001b[0m\u001b[1;33m(\u001b[0m\u001b[1;33m[\u001b[0m\u001b[1;34m'Lims tube id'\u001b[0m\u001b[1;33m,\u001b[0m \u001b[1;34m'PCR cycles'\u001b[0m\u001b[1;33m,\u001b[0m \u001b[1;34m'Bad dates'\u001b[0m\u001b[1;33m]\u001b[0m\u001b[1;33m,\u001b[0m \u001b[0maxis\u001b[0m \u001b[1;33m=\u001b[0m \u001b[1;36m1\u001b[0m\u001b[1;33m,\u001b[0m \u001b[0minplace\u001b[0m \u001b[1;33m=\u001b[0m \u001b[0mTrue\u001b[0m\u001b[1;33m)\u001b[0m\u001b[1;33m\u001b[0m\u001b[0m\n\u001b[0m\u001b[0;32m      3\u001b[0m \u001b[1;31m#df = df.dropna(subset = ['User', 'Picogreen conc. (pg/uL)', 'SM_QC_PF'], inplace = True)\u001b[0m\u001b[1;33m\u001b[0m\u001b[1;33m\u001b[0m\u001b[0m\n",
      "\u001b[1;31mAttributeError\u001b[0m: 'NoneType' object has no attribute 'drop'"
     ]
    }
   ],
   "source": [
    "#Somthing wrong can't use, keep getting NoneType error\n",
    "df = df.drop(['Lims tube id', 'PCR cycles', 'Bad dates'], axis = 1, inplace = True)\n",
    "#df = df.dropna(subset = ['User', 'Picogreen conc. (pg/uL)', 'SM_QC_PF'], inplace = True)"
   ]
  },
  {
   "cell_type": "code",
   "execution_count": null,
   "metadata": {},
   "outputs": [],
   "source": [
    "df.head()"
   ]
  },
  {
   "cell_type": "markdown",
   "metadata": {},
   "source": [
    "##### Split dataframe at start of production date (9/01/2017) "
   ]
  },
  {
   "cell_type": "code",
   "execution_count": null,
   "metadata": {},
   "outputs": [],
   "source": []
  },
  {
   "cell_type": "code",
   "execution_count": null,
   "metadata": {},
   "outputs": [],
   "source": [
    "df1 = df.loc[3792:] "
   ]
  },
  {
   "cell_type": "code",
   "execution_count": null,
   "metadata": {},
   "outputs": [],
   "source": [
    "df1.head()"
   ]
  },
  {
   "cell_type": "code",
   "execution_count": null,
   "metadata": {},
   "outputs": [],
   "source": [
    "df1.tail()"
   ]
  },
  {
   "cell_type": "markdown",
   "metadata": {},
   "source": [
    "## Info"
   ]
  },
  {
   "cell_type": "code",
   "execution_count": null,
   "metadata": {},
   "outputs": [],
   "source": [
    "df1.User.value_counts()"
   ]
  },
  {
   "cell_type": "markdown",
   "metadata": {},
   "source": [
    "### Boxplot of Picogreen Concentration vs User"
   ]
  },
  {
   "cell_type": "code",
   "execution_count": null,
   "metadata": {},
   "outputs": [],
   "source": [
    "#Users = P1(Kristen), P2(Rusty), P8(Lindsay), P9(Lisa), PA(Ram), PB(Dijon)\n",
    "#Restricted yield below 15000 (3 large outliers: 69000 & 16000, 11000)"
   ]
  },
  {
   "cell_type": "code",
   "execution_count": null,
   "metadata": {},
   "outputs": [],
   "source": [
    "sns.boxplot(x = 'User', y = 'Picogreen conc. (pg/uL)',\n",
    "            data = df1[df1['Picogreen conc. (pg/uL)'] < 10000], \n",
    "            order = ['P1', 'P2', 'P8', 'P9', 'PA', 'PB'], \n",
    "            palette = 'Paired').set_title('Picogreen Concentration vs. User')\n",
    "plt.xlabel('PatchSeq Users')\n",
    "plt.ylabel('Picogreen Concentration (pg/uL)')\n",
    "#plt.savefig(\"box_picogreen_conc_vs_user\")"
   ]
  },
  {
   "cell_type": "markdown",
   "metadata": {},
   "source": [
    "### Box Plot with outliers included"
   ]
  },
  {
   "cell_type": "code",
   "execution_count": null,
   "metadata": {},
   "outputs": [],
   "source": [
    "#whis = np.inf includes the outliers\n",
    "sns.boxplot(x = 'User', y = 'Picogreen conc. (pg/uL)',\n",
    "            data = df1[df1['Picogreen conc. (pg/uL)'] < 10000], \n",
    "            order = ['P1', 'P2', 'P8', 'P9', 'PA', 'PB'],\n",
    "            palette = 'Paired', whis = np.inf).set_title(\"Picogreen Concentration vs. User\")\n",
    "plt.xlabel('PatchSeq Users')\n",
    "plt.ylabel('Picogreen Concentration (pg/uL)')"
   ]
  },
  {
   "cell_type": "markdown",
   "metadata": {
    "collapsed": true
   },
   "source": [
    "### Extras"
   ]
  },
  {
   "cell_type": "code",
   "execution_count": null,
   "metadata": {},
   "outputs": [],
   "source": [
    "plt.style.available"
   ]
  },
  {
   "cell_type": "code",
   "execution_count": null,
   "metadata": {},
   "outputs": [],
   "source": [
    "plt.plot_date(df1['Date'], df1['Picogreen conc. (pg/uL)']) "
   ]
  },
  {
   "cell_type": "code",
   "execution_count": null,
   "metadata": {},
   "outputs": [],
   "source": [
    "fil_df1 = df1[df1['User'] == 'P1']\n",
    "fil_df2 = df1[df1['User'] == 'P2']\n",
    "fil_df8 = df1[df1['User'] == 'P8']\n",
    "fil_df9 = df1[df1['User'] == 'P9']\n",
    "fil_dfA = df1[df1['User'] == 'PA']\n",
    "fil_dfB = df1[df1['User'] == 'PB']"
   ]
  },
  {
   "cell_type": "code",
   "execution_count": null,
   "metadata": {},
   "outputs": [],
   "source": [
    "plt.plot_date(fil_df1['Date'], fil_df1['Picogreen conc. (pg/uL)'], color = '#e41a1c') "
   ]
  },
  {
   "cell_type": "code",
   "execution_count": null,
   "metadata": {},
   "outputs": [],
   "source": [
    "plt.plot_date(fil_df2['Date'], fil_df2['Picogreen conc. (pg/uL)'], color = '#377eb8') "
   ]
  },
  {
   "cell_type": "code",
   "execution_count": null,
   "metadata": {},
   "outputs": [],
   "source": [
    "plt.plot_date(fil_df8['Date'], fil_df8['Picogreen conc. (pg/uL)'], color = '#4daf4a') "
   ]
  },
  {
   "cell_type": "code",
   "execution_count": null,
   "metadata": {},
   "outputs": [],
   "source": [
    "plt.plot_date(fil_df9['Date'], fil_df9['Picogreen conc. (pg/uL)'], color = '#984ea3') "
   ]
  },
  {
   "cell_type": "code",
   "execution_count": null,
   "metadata": {},
   "outputs": [],
   "source": [
    "plt.plot_date(fil_dfA['Date'], fil_dfA['Picogreen conc. (pg/uL)'], color = '#ff7f00') "
   ]
  },
  {
   "cell_type": "code",
   "execution_count": null,
   "metadata": {},
   "outputs": [],
   "source": [
    "plt.plot_date(fil_dfB['Date'], fil_dfB['Picogreen conc. (pg/uL)'], color = '#ffff33') "
   ]
  },
  {
   "cell_type": "code",
   "execution_count": null,
   "metadata": {},
   "outputs": [],
   "source": [
    "colors = {'P1' : '#e41a1c',\n",
    "         'P2' : '#377eb8',\n",
    "         'P8' : '#4daf4a',\n",
    "         'P9' : '#984ea3',\n",
    "         'PA' : '#ff7f00',\n",
    "         'PB' : '#ffff33'}\n",
    "\n",
    "for user in df1['User'].unique():\n",
    "    plt.plot_date(df1[df1['User'] == user]['Date'], df1[df1['User'] == user]['Picogreen conc. (pg/uL)'],\n",
    "                  label = user, alpha = .5, color = colors[user])\n",
    "plt.ylabel('Picogreen Conc. (pg/uL)')\n",
    "plt.xticks(rotation = 20)\n",
    "plt.legend()"
   ]
  }
 ],
 "metadata": {
  "kernelspec": {
   "display_name": "Python 2",
   "language": "python",
   "name": "python2"
  },
  "language_info": {
   "codemirror_mode": {
    "name": "ipython",
    "version": 2
   },
   "file_extension": ".py",
   "mimetype": "text/x-python",
   "name": "python",
   "nbconvert_exporter": "python",
   "pygments_lexer": "ipython2",
   "version": "2.7.14"
  }
 },
 "nbformat": 4,
 "nbformat_minor": 2
}
