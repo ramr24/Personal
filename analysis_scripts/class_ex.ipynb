{
 "cells": [
  {
   "cell_type": "code",
   "execution_count": null,
   "metadata": {},
   "outputs": [],
   "source": [
    "import re\n",
    "import csv\n",
    "import pandas as pd\n",
    "import seaborn as sns\n",
    "import matplotlib.pyplot as plt\n",
    "import end_patch as ep #Ram's post patch script\n",
    "from collections import OrderedDict\n",
    "sns.set(context = \"notebook\", style = \"darkgrid\", font=\"verdana\")"
   ]
  },
  {
   "cell_type": "code",
   "execution_count": null,
   "metadata": {},
   "outputs": [],
   "source": []
  },
  {
   "cell_type": "code",
   "execution_count": null,
   "metadata": {},
   "outputs": [],
   "source": [
    "class Dataframe():\n",
    "    \"\"\"Dataframe with initializer and filtering dataframe methods.\"\"\"\n",
    "    \n",
    "    json_col_list = [\"date\", \"name\", \"container\", \"patch_duration\", \"end_patch\", \"recording.pipetteR\", \"extraction.endPipetteR\", 'extraction.postPatch']\n",
    "    shiny_col_list = [\"sample_id\", \"cell_name_label\", \"cluster_label\"]\n",
    "    morph_col_list = [\"patched_cell_container\", \"ims63x_go_no_go\", \"drivers\"]\n",
    "    \n",
    "    def __init__(self, file_name):\n",
    "        \"\"\"Initializer\"\"\"\n",
    "        self.df = pd.read_csv(file_name)\n",
    "        \n",
    "    def filter_df(self, col_list):\n",
    "        \"\"\"Filters dataframe based on which columns users wants to display as a table.\"\"\"\n",
    "        self.df = self.df[col_list]\n",
    "        return self.df\n",
    "    \n",
    "    def sort_date(df):\n",
    "        start_date = \"2018-01-01\"\n",
    "        end_date = \"2018-12-31\"\n",
    "\n",
    "        df = df.set_index(\"date\") #Set date column as index column \n",
    "        df = df[start_date:end_date] #Choosing start & end date\n",
    "\n",
    "        df.sort_index(inplace=True) #Date column as index to sort index column\n",
    "        df.reset_index(inplace=True) #Date column is not index\n",
    "        return df\n",
    "    \n",
    "    def merge_dfs(df1, df2, df3):\n",
    "        \"\"\"Merge three dataframes.\n",
    "\n",
    "        Args:\n",
    "            df1: left dataframe\n",
    "            df2: right dataframe\n",
    "            df3: right dataframe for merged_df\n",
    "        Returns:\n",
    "            merged_df: merged dataframe of df1, df2 and df3\n",
    "\n",
    "        \"\"\"\n",
    "\n",
    "        merged_df = pd.merge(left = df1, right = df2, left_on = \"container\", right_on = \"sample_id\", how = \"left\")\n",
    "        merged_df = pd.merge(left = merged_df, right = df3, left_on = \"container\", right_on = \"patched_cell_container\", how = 'inner')\n",
    "\n",
    "        merged_df.drop([\"sample_id\", \"patched_cell_container\"], axis = 1, inplace = True)\n",
    "        #merged_df.dropna(subset=[\"res_index_label\", \"ims63x_go_no_go\"], inplace=True)\n",
    "        merged_df.dropna(subset=[\"res_index\", \"ims63x_go_no_go\"], inplace=True)\n",
    "        merged_df.sort_values(\"date\", inplace = True) #Sorts by date column ascending\n",
    "        return merged_df\n",
    "    "
   ]
  },
  {
   "cell_type": "code",
   "execution_count": null,
   "metadata": {},
   "outputs": [],
   "source": [
    "class Json(Dataframe):\n",
    "    \n",
    "    def json_pre_filter(self):\n",
    "        \"\"\"Filter specifically json dataframe\"\"\"\n",
    "        \n",
    "        users = \"P1|P2|P8|P9|PA|PB|PE|PF\"\n",
    "        \n",
    "        j.df = j.df[j.df[\"status\"] == \"SUCCESS\"]\n",
    "        j.df.dropna(subset = [\"container\"], inplace = True)\n",
    "        j.df = j.df[j.df[\"container\"].str.match(users)]\n",
    "\n",
    "        #Creates patch_duration column and outputs in minutes\n",
    "        exp_start_time = j.df[\"recording.timeWholeCellStart\"]\n",
    "        exp_end_time = j.df[\"extraction.timeRetractionEnd\"]\n",
    "        j.df[\"patch_duration\"] = pd.to_datetime(exp_end_time) - pd.to_datetime(exp_start_time)\n",
    "        j.df[\"patch_duration\"] = (j.df[\"patch_duration\"].astype(\"timedelta64[s]\"))/60\n",
    "\n",
    "        j.df = ep.create_end_patch(j.df) #Makes post patch column with Ram's edited version\n",
    "\n",
    "        j.df[\"date\"] = pd.to_datetime(j.df[\"date\"]) #Converting to YYYY-MM-DD HH:MM:SS\n",
    "        j.df.sort_values(\"date\", inplace = True) #Sorts date column\n",
    "        return j.df"
   ]
  },
  {
   "cell_type": "code",
   "execution_count": null,
   "metadata": {},
   "outputs": [],
   "source": [
    "j = Json(\"jem_metadata.csv\")\n",
    "s = Dataframe(\"shiny_human.csv\")\n",
    "m = Dataframe(\"63x.csv\")"
   ]
  },
  {
   "cell_type": "code",
   "execution_count": null,
   "metadata": {},
   "outputs": [],
   "source": [
    "json_fill = j.json_pre_filter()\n",
    "json_df = j.filter_df(Json.json_col_list)\n",
    "\n",
    "shiny_df = s.filter_df(Dataframe.shiny_col_list)\n",
    "morph_df = m.filter_df(Dataframe.morph_col_list)"
   ]
  },
  {
   "cell_type": "code",
   "execution_count": null,
   "metadata": {},
   "outputs": [],
   "source": []
  },
  {
   "cell_type": "code",
   "execution_count": null,
   "metadata": {},
   "outputs": [],
   "source": [
    "class Dataframe():\n",
    "    \"\"\"Dataframe with initializer and filtering dataframe methods.\"\"\"\n",
    "    \n",
    "    users = \"P1|P2|P8|P9|PA|PB|PE|PF\"\n",
    "    acute_col_list = [\"container_date\", \"patched_cell_container\", \"name\", \"ri\", \"upstroke_downstroke_ratio_long_square\", \"sag\"]\n",
    "    shiny_col_list = [\"sample_id\", \"cell_name_label\", \"cluster_label\"]\n",
    "    \n",
    "    def __init__(self, file_name):\n",
    "        \"\"\"Initializer\"\"\"\n",
    "        self.df = pd.read_csv(file_name)\n",
    "        \n",
    "    def filter_df(self, col_list):\n",
    "        \"\"\"Filters dataframe based on which columns users wants to display as a table.\"\"\"\n",
    "        self.df = self.df[col_list]\n",
    "        return self.df\n",
    "    \n",
    "    def merge_dfs(self, df1, df2):\n",
    "        \"\"\"Merge two dataframes.\n",
    "        Args:\n",
    "            df1: left dataframe\n",
    "            df2: right dataframe\n",
    "        Returns:\n",
    "            merged_df: merged dataframe of df1 and df1\n",
    "        \"\"\"\n",
    "        \n",
    "        merged_df = pd.merge(left = df1, right = df2, left_on = \"patched_cell_container\", right_on = \"sample_id\", how = \"inner\")\n",
    "\n",
    "        merged_df.drop(columns = [\"sample_id\", \"cell_name_label\"], inplace=True)\n",
    "        merged_df = merged_df[merged_df[\"patched_cell_container\"].str.match(Dataframe.users)]\n",
    "\n",
    "        #Converting to YYYY-MM-DD\n",
    "        merged_df[\"container_date\"] = pd.to_datetime(merged_df[\"container_date\"], format = \"%y%m%d\", errors = \"coerce\")\n",
    "        merged_df.sort_values(\"container_date\", inplace = True) #Sorts by date column ascending\n",
    "        return merged_df"
   ]
  },
  {
   "cell_type": "code",
   "execution_count": null,
   "metadata": {},
   "outputs": [],
   "source": [
    "#Alias for Subclasses\n",
    "a = Dataframe(\"human_acute_ephys_features.csv\")\n",
    "s = Dataframe(\"shiny_human.csv\")\n",
    "\n",
    "#Dataframe based on user choice for columns\n",
    "acute_df = a.filter_df(Dataframe.acute_col_list)\n",
    "shiny_df = s.filter_df(Dataframe.shiny_col_list)\n",
    "\n",
    "#Merged acute and shiny dataframes\n",
    "merged_df = a.merge_dfs(acute_df, shiny_df)"
   ]
  },
  {
   "cell_type": "code",
   "execution_count": null,
   "metadata": {},
   "outputs": [],
   "source": []
  },
  {
   "cell_type": "code",
   "execution_count": null,
   "metadata": {},
   "outputs": [],
   "source": []
  },
  {
   "cell_type": "code",
   "execution_count": null,
   "metadata": {},
   "outputs": [],
   "source": []
  }
 ],
 "metadata": {
  "kernelspec": {
   "display_name": "Python 3",
   "language": "python",
   "name": "python3"
  },
  "language_info": {
   "codemirror_mode": {
    "name": "ipython",
    "version": 3
   },
   "file_extension": ".py",
   "mimetype": "text/x-python",
   "name": "python",
   "nbconvert_exporter": "python",
   "pygments_lexer": "ipython3",
   "version": "3.7.4"
  }
 },
 "nbformat": 4,
 "nbformat_minor": 2
}
