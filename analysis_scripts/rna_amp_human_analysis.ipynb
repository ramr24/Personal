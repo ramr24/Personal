{
 "cells": [
  {
   "cell_type": "markdown",
   "metadata": {},
   "source": [
    "##### Imports"
   ]
  },
  {
   "cell_type": "code",
   "execution_count": null,
   "metadata": {},
   "outputs": [],
   "source": [
    "\"\"\"\n",
    "Focus on human data primarily on hIVSCC-MET for AIBS\n",
    "-Tree call for Mouse\n",
    "-Seurat prediction score for Human\n",
    "\n",
    "*Make a scatter plot NMS score vs Seurat prediction score (Add n values)\n",
    "1) RNA amp pass\n",
    "2) RNA amp fail \n",
    "\n",
    "\n",
    "*Make same plot as Agata with barplot, tree call option with counts\n",
    "Collaborators have hIVSCC-MET and hIVSCC-METx\n",
    "\"\"\""
   ]
  },
  {
   "cell_type": "code",
   "execution_count": 1,
   "metadata": {},
   "outputs": [],
   "source": [
    "import pandas as pd\n",
    "import numpy as np\n",
    "import csv\n",
    "import logging\n",
    "import os\n",
    "\n",
    "from functions.temp_funcs import read_file, merge_dataframes, drop_cols, drop_nans, filter_date_range, \\\n",
    "filter_df, create_container_col, create_cond_df, create_container_df\n",
    "\n",
    "import seaborn as sns\n",
    "import matplotlib.pyplot as plt\n",
    "\n",
    "sns.set(context = \"notebook\", style = \"ticks\", font=\"verdana\") # font_scale = 1.35)\n",
    "pd.set_option(\"display.max_colwidth\",150) #Expands the number of characters shown in the columns\n",
    "pd.set_option('display.max_columns', None)"
   ]
  },
  {
   "cell_type": "markdown",
   "metadata": {},
   "source": [
    "##### Paths"
   ]
  },
  {
   "cell_type": "code",
   "execution_count": 2,
   "metadata": {},
   "outputs": [],
   "source": [
    "path = \"C:/Users/kumar/Documents/Github/analysis_projects/analysis_scripts/\"\n",
    "csv_path = os.path.join(path, \"csv/\")\n",
    "excel_path = os.path.join(path, \"excel/\")\n",
    "plot_path = os.path.join(path, \"plot/\")\n",
    "path_shiny_human = os.path.join(csv_path, \"current_shiny_human.csv\")"
   ]
  },
  {
   "cell_type": "markdown",
   "metadata": {},
   "source": [
    "##### Start Code"
   ]
  },
  {
   "cell_type": "code",
   "execution_count": 3,
   "metadata": {},
   "outputs": [],
   "source": [
    "fields_shiny = [\"cell_name\", \"cell_specimen_project\", \"Norm_Marker_Sum.0.4_label\",\n",
    "                \"marker_sum_norm_label\", \"rna_amplification_pass_fail\",\n",
    "                \"percent_cdna_longer_than_400bp\", \"amplified_quantity_ng\", \"sample_id\", \n",
    "                \"Tree_call\", \"seurat_prediction_score_label\"]\n",
    "\n",
    "shiny_dict = {\"Norm_Marker_Sum.0.4_label\" : \"NMS Pass/Fail\",\n",
    "              \"rna_amplification_pass_fail\" : \"RNA amp Pass/Fail\",\n",
    "              \"marker_sum_norm_label\": \"NMS score\",\n",
    "              \"percent_cdna_longer_than_400bp\" : \"cDNA quality (%>400 bp)\",\n",
    "              \"amplified_quantity_ng\" : \"Amplified content (ng)\"}"
   ]
  },
  {
   "cell_type": "code",
   "execution_count": 4,
   "metadata": {},
   "outputs": [
    {
     "name": "stderr",
     "output_type": "stream",
     "text": [
      "INFO:functions.temp_funcs:Read file in as a pandas dataframe\n"
     ]
    }
   ],
   "source": [
    "shiny_human = read_file(path_shiny_human, fields_shiny) #3592 rows\n",
    "shiny_human.rename(columns=shiny_dict, inplace=True)\n",
    "shiny_human.dropna(subset=[\"cell_specimen_project\"],inplace=True) #3578 rows"
   ]
  },
  {
   "cell_type": "markdown",
   "metadata": {},
   "source": [
    "##### Filter project code"
   ]
  },
  {
   "cell_type": "code",
   "execution_count": 5,
   "metadata": {},
   "outputs": [
    {
     "name": "stderr",
     "output_type": "stream",
     "text": [
      "INFO:functions.temp_funcs:Filtered dataframe based on cell_specimen_project == hIVSCC-MET\n",
      "C:\\Users\\kumar\\Documents\\Github\\analysis_projects\\analysis_scripts\\functions\\temp_funcs.py:150: SettingWithCopyWarning: \n",
      "A value is trying to be set on a copy of a slice from a DataFrame.\n",
      "Try using .loc[row_indexer,col_indexer] = value instead\n",
      "\n",
      "See the caveats in the documentation: http://pandas.pydata.org/pandas-docs/stable/user_guide/indexing.html#returning-a-view-versus-a-copy\n",
      "  df[\"collaborator_label\"] = df[container_col].str[0:2]\n",
      "C:\\Users\\kumar\\Anaconda3\\lib\\site-packages\\ipykernel_launcher.py:3: SettingWithCopyWarning: \n",
      "A value is trying to be set on a copy of a slice from a DataFrame\n",
      "\n",
      "See the caveats in the documentation: http://pandas.pydata.org/pandas-docs/stable/user_guide/indexing.html#returning-a-view-versus-a-copy\n",
      "  This is separate from the ipykernel package so we can avoid doing imports until\n",
      "INFO:functions.temp_funcs:Filtered dataframe based on NMS Pass/Fail == True\n",
      "INFO:functions.temp_funcs:Filtered dataframe based on RNA amp Pass/Fail == Fail\n"
     ]
    }
   ],
   "source": [
    "shinyh = filter_df(shiny_human, \"cell_specimen_project\", \"hIVSCC-MET\")\n",
    "shinyh = create_container_df(shinyh, \"sample_id\")\n",
    "shinyh.dropna(subset=[\"cDNA quality (%>400 bp)\", \"NMS score\", \"Amplified content (ng)\"], inplace=True)\n",
    "shinyh = shinyh[shinyh[\"cDNA quality (%>400 bp)\"] <=1]\n",
    "shinyh = shinyh[shinyh[\"Amplified content (ng)\"] <=50]\n",
    "shinyh = filter_df(shinyh, \"NMS Pass/Fail\", True)\n",
    "shinyh = filter_df(shinyh, \"RNA amp Pass/Fail\", \"Fail\")"
   ]
  },
  {
   "cell_type": "code",
   "execution_count": 6,
   "metadata": {},
   "outputs": [],
   "source": [
    "collaborator_dict = {\"PG\" : \"Gabor\", \"PH\" : \"Mansvelder\"}\n",
    "for collab in [\"P1\", \"P2\", \"P6\", \"P7\", \"P8\", \"P9\", \"PA\", \"PB\", \"PE\", \"PX\"]:\n",
    "    collaborator_dict[collab] = \"AIBS\"\n",
    "\n",
    "shinyh[\"collaborator_label\"] = shinyh[\"collaborator_label\"].replace(collaborator_dict)"
   ]
  },
  {
   "cell_type": "markdown",
   "metadata": {},
   "source": [
    "##### Counts"
   ]
  },
  {
   "cell_type": "code",
   "execution_count": 7,
   "metadata": {},
   "outputs": [
    {
     "name": "stderr",
     "output_type": "stream",
     "text": [
      "INFO:functions.temp_funcs:Filtered dataframe based on collaborator_label == AIBS\n",
      "INFO:functions.temp_funcs:Filtered dataframe based on collaborator_label == Gabor\n",
      "INFO:functions.temp_funcs:Filtered dataframe based on collaborator_label == Mansvelder\n"
     ]
    },
    {
     "name": "stdout",
     "output_type": "stream",
     "text": [
      "Human total count: 80\n",
      "AIBS count: 64\n",
      "Gabor count: 14\n",
      "Mansvelder count: 2\n"
     ]
    }
   ],
   "source": [
    "aibs = filter_df(shinyh, \"collaborator_label\", \"AIBS\")\n",
    "pg = filter_df(shinyh, \"collaborator_label\", \"Gabor\")\n",
    "ph = filter_df(shinyh, \"collaborator_label\", \"Mansvelder\")\n",
    "print(f\"Human total count: {shinyh.sample_id.count()}\")\n",
    "print(f\"AIBS count: {aibs.sample_id.count()}\")\n",
    "print(f\"Gabor count: {pg.sample_id.count()}\")\n",
    "print(f\"Mansvelder count: {ph.sample_id.count()}\")"
   ]
  }
 ],
 "metadata": {
  "kernelspec": {
   "display_name": "Python 3",
   "language": "python",
   "name": "python3"
  },
  "language_info": {
   "codemirror_mode": {
    "name": "ipython",
    "version": 3
   },
   "file_extension": ".py",
   "mimetype": "text/x-python",
   "name": "python",
   "nbconvert_exporter": "python",
   "pygments_lexer": "ipython3",
   "version": "3.7.4"
  }
 },
 "nbformat": 4,
 "nbformat_minor": 2
}
