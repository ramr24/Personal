{
 "cells": [
  {
   "cell_type": "markdown",
   "metadata": {},
   "source": [
    "##### Imports"
   ]
  },
  {
   "cell_type": "code",
   "execution_count": 1,
   "metadata": {},
   "outputs": [
    {
     "data": {
      "text/plain": [
       "'\\nFocus on human data primarily on hIVSCC-MET for AIBS\\n-Tree call for Mouse\\n-Seurat prediction score for Human\\n\\n*Make a scatter plot NMS score vs Seurat prediction score (Add n values)\\n1) RNA amp pass\\n2) RNA amp fail \\n\\n\\n*Make same plot as Agata with barplot, tree call option with counts for RNA_amp, NMS fail and options\\nCollaborators have hIVSCC-MET and hIVSCC-METx\\n'"
      ]
     },
     "execution_count": 1,
     "metadata": {},
     "output_type": "execute_result"
    }
   ],
   "source": [
    "\"\"\"\n",
    "Focus on human data primarily on hIVSCC-MET for AIBS\n",
    "-Tree call for Mouse\n",
    "-Seurat prediction score for Human\n",
    "\n",
    "*Make a scatter plot NMS score vs Seurat prediction score (Add n values)\n",
    "1) RNA amp pass\n",
    "2) RNA amp fail \n",
    "\n",
    "\n",
    "*Make same plot as Agata with barplot, tree call option with counts for RNA_amp, NMS fail and options\n",
    "Collaborators have hIVSCC-MET and hIVSCC-METx\n",
    "\"\"\""
   ]
  },
  {
   "cell_type": "code",
   "execution_count": 2,
   "metadata": {},
   "outputs": [],
   "source": [
    "import pandas as pd\n",
    "import numpy as np\n",
    "import csv\n",
    "import logging\n",
    "import os\n",
    "from scipy.stats import pearsonr\n",
    "\n",
    "from functions.temp_funcs import read_file, merge_dataframes, drop_cols, drop_nans, filter_date_range, \\\n",
    "filter_df, create_container_col, create_cond_df, create_container_df\n",
    "\n",
    "import seaborn as sns\n",
    "import matplotlib.pyplot as plt\n",
    "\n",
    "sns.set(context = \"notebook\", style = \"ticks\", font=\"verdana\") # font_scale = 1.35)\n",
    "pd.set_option(\"display.max_colwidth\",150) #Expands the number of characters shown in the columns\n",
    "pd.set_option('display.max_columns', None)"
   ]
  },
  {
   "cell_type": "markdown",
   "metadata": {},
   "source": [
    "##### Paths"
   ]
  },
  {
   "cell_type": "code",
   "execution_count": 3,
   "metadata": {},
   "outputs": [],
   "source": [
    "path = \"C:/Users/kumar/Documents/Github/analysis_projects/analysis_scripts/\"\n",
    "csv_path = os.path.join(path, \"csv/\")\n",
    "excel_path = os.path.join(path, \"excel/\")\n",
    "plot_path = os.path.join(path, \"plot/\")\n",
    "path_shiny_human = os.path.join(csv_path, \"current_shiny_human.csv\")"
   ]
  },
  {
   "cell_type": "markdown",
   "metadata": {},
   "source": [
    "##### Start Code"
   ]
  },
  {
   "cell_type": "code",
   "execution_count": 4,
   "metadata": {},
   "outputs": [],
   "source": [
    "fields_shiny = [\"cell_name\", \"cell_specimen_project\", \"Norm_Marker_Sum.0.4_label\",\n",
    "                \"marker_sum_norm_label\", \"rna_amplification_pass_fail\",\n",
    "                \"percent_cdna_longer_than_400bp\", \"amplified_quantity_ng\", \"sample_id\", \n",
    "                \"Tree_call\", \"seurat_prediction_score_label\"]\n",
    "\n",
    "shiny_dict = {\"Norm_Marker_Sum.0.4_label\" : \"NMS Pass/Fail\",\n",
    "              \"rna_amplification_pass_fail\" : \"RNA amp Pass/Fail\",\n",
    "              \"marker_sum_norm_label\": \"NMS score\",\n",
    "              \"percent_cdna_longer_than_400bp\" : \"cDNA quality (%>400 bp)\",\n",
    "              \"amplified_quantity_ng\" : \"Amplified content (ng)\"}"
   ]
  },
  {
   "cell_type": "code",
   "execution_count": 5,
   "metadata": {},
   "outputs": [
    {
     "name": "stderr",
     "output_type": "stream",
     "text": [
      "INFO:functions.temp_funcs:Read file in as a pandas dataframe\n"
     ]
    }
   ],
   "source": [
    "shiny_human = read_file(path_shiny_human, fields_shiny) #3592 rows\n",
    "shiny_human.rename(columns=shiny_dict, inplace=True)\n",
    "shiny_human.dropna(subset=[\"cell_specimen_project\"],inplace=True) #3578 rows"
   ]
  },
  {
   "cell_type": "code",
   "execution_count": 6,
   "metadata": {},
   "outputs": [
    {
     "name": "stderr",
     "output_type": "stream",
     "text": [
      "INFO:functions.temp_funcs:Filtered dataframe based on cell_specimen_project == hIVSCC-MET\n",
      "C:\\Users\\kumar\\Documents\\Github\\analysis_projects\\analysis_scripts\\functions\\temp_funcs.py:150: SettingWithCopyWarning: \n",
      "A value is trying to be set on a copy of a slice from a DataFrame.\n",
      "Try using .loc[row_indexer,col_indexer] = value instead\n",
      "\n",
      "See the caveats in the documentation: http://pandas.pydata.org/pandas-docs/stable/user_guide/indexing.html#returning-a-view-versus-a-copy\n",
      "  df[\"collaborator_label\"] = df[container_col].str[0:2]\n",
      "C:\\Users\\kumar\\Anaconda3\\lib\\site-packages\\ipykernel_launcher.py:3: SettingWithCopyWarning: \n",
      "A value is trying to be set on a copy of a slice from a DataFrame\n",
      "\n",
      "See the caveats in the documentation: http://pandas.pydata.org/pandas-docs/stable/user_guide/indexing.html#returning-a-view-versus-a-copy\n",
      "  This is separate from the ipykernel package so we can avoid doing imports until\n",
      "C:\\Users\\kumar\\Anaconda3\\lib\\site-packages\\ipykernel_launcher.py:9: SettingWithCopyWarning: \n",
      "A value is trying to be set on a copy of a slice from a DataFrame.\n",
      "Try using .loc[row_indexer,col_indexer] = value instead\n",
      "\n",
      "See the caveats in the documentation: http://pandas.pydata.org/pandas-docs/stable/user_guide/indexing.html#returning-a-view-versus-a-copy\n",
      "  if __name__ == '__main__':\n",
      "INFO:functions.temp_funcs:Filtered dataframe based on collaborator_label == AIBS\n"
     ]
    }
   ],
   "source": [
    "shinyh = filter_df(shiny_human, \"cell_specimen_project\", \"hIVSCC-MET\") #1566\n",
    "shinyh = create_container_df(shinyh, \"sample_id\")\n",
    "shinyh.dropna(subset=[\"cDNA quality (%>400 bp)\", \"NMS score\", \"Amplified content (ng)\"], inplace=True) #1551\n",
    "\n",
    "collaborator_dict = {\"PG\" : \"Gabor\", \"PH\" : \"Mansvelder\"}\n",
    "for collab in [\"P1\", \"P2\", \"P6\", \"P7\", \"P8\", \"P9\", \"PA\", \"PB\", \"PE\", \"PF\", \"PX\", \"P3\", \"P0\", \"P5\"]:\n",
    "    collaborator_dict[collab] = \"AIBS\"\n",
    "\n",
    "shinyh[\"collaborator_label\"] = shinyh[\"collaborator_label\"].replace(collaborator_dict)\n",
    "shinyh = filter_df(shinyh, \"collaborator_label\", \"AIBS\") #1489\n",
    "shinyh.drop(columns=[\"cell_name\", \"cell_specimen_project\"], inplace=True)"
   ]
  },
  {
   "cell_type": "code",
   "execution_count": 7,
   "metadata": {},
   "outputs": [],
   "source": [
    "#shinyh = shinyh[shinyh[\"cDNA quality (%>400 bp)\"] <=1] #1504\n",
    "#shinyh = shinyh[shinyh[\"Amplified content (ng)\"] <=50] #1469"
   ]
  },
  {
   "cell_type": "code",
   "execution_count": 8,
   "metadata": {},
   "outputs": [
    {
     "data": {
      "text/plain": [
       "array(['AIBS'], dtype=object)"
      ]
     },
     "execution_count": 8,
     "metadata": {},
     "output_type": "execute_result"
    }
   ],
   "source": [
    "shinyh[\"collaborator_label\"].unique()"
   ]
  },
  {
   "cell_type": "code",
   "execution_count": 9,
   "metadata": {},
   "outputs": [
    {
     "name": "stderr",
     "output_type": "stream",
     "text": [
      "INFO:functions.temp_funcs:Filtered dataframe based on RNA amp Pass/Fail == Pass\n",
      "INFO:functions.temp_funcs:Filtered dataframe based on RNA amp Pass/Fail == Fail\n"
     ]
    }
   ],
   "source": [
    "shinyh_rpass = filter_df(shinyh, \"RNA amp Pass/Fail\", \"Pass\") #1246\n",
    "shinyh_rfail = filter_df(shinyh, \"RNA amp Pass/Fail\", \"Fail\") #243"
   ]
  },
  {
   "cell_type": "code",
   "execution_count": 10,
   "metadata": {},
   "outputs": [
    {
     "data": {
      "text/plain": [
       "Text(0.5, 0, 'Seurat Prediction Score')"
      ]
     },
     "execution_count": 10,
     "metadata": {},
     "output_type": "execute_result"
    },
    {
     "data": {
      "image/png": "[encoded data removed]",
      "text/plain": [
       "<Figure size 720x864 with 3 Axes>"
      ]
     },
     "metadata": {
      "needs_background": "light"
     },
     "output_type": "display_data"
    }
   ],
   "source": [
    "colors={\"Pass\": \"#41ab5d\", \"Fail\": \"#ef3b2c\"}\n",
    "fig_dims = (10, 12)\n",
    "f, axes = plt.subplots(nrows=3, ncols=1, figsize=fig_dims)\n",
    "\n",
    "ax = sns.scatterplot(y=\"NMS score\", x=\"seurat_prediction_score_label\", data=shinyh,\n",
    "                     palette=colors, hue=\"RNA amp Pass/Fail\", ax=axes[0])\n",
    "\n",
    "corr = pearsonr(shinyh_rpass[\"seurat_prediction_score_label\"], shinyh_rpass[\"NMS score\"])\n",
    "corr = [np.round(c, 2) for c in corr]\n",
    "text = f\"r={corr[0]}\"\n",
    "\n",
    "ax1 = sns.regplot(y=\"NMS score\", x=\"seurat_prediction_score_label\", data=shinyh_rpass, color=\"#41ab5d\", ax=axes[1])\n",
    "ax.text(0.97, -0.4, text, fontsize=12)\n",
    "\n",
    "\n",
    "corr = pearsonr(shinyh_rfail[\"seurat_prediction_score_label\"], shinyh_rfail[\"NMS score\"])\n",
    "corr = [np.round(c, 2) for c in corr]\n",
    "text = f\"r={corr[0]}\"\n",
    "\n",
    "ax2 = sns.regplot(y=\"NMS score\", x=\"seurat_prediction_score_label\", data=shinyh_rfail, color=\"#ef3b2c\", ax=axes[2])\n",
    "ax.text(0.97, -2.4, text, fontsize=12)\n",
    "\n",
    "\n",
    "ax.set(xticklabels=[])\n",
    "ax1.set(xticklabels=[])\n",
    "ax.set_xlabel(\"\")\n",
    "ax1.set_xlabel(\"\")\n",
    "ax2.set_xlabel(\"Seurat Prediction Score\")"
   ]
  },
  {
   "cell_type": "markdown",
   "metadata": {},
   "source": [
    "##### Countplot"
   ]
  },
  {
   "cell_type": "code",
   "execution_count": 11,
   "metadata": {},
   "outputs": [
    {
     "name": "stderr",
     "output_type": "stream",
     "text": [
      "INFO:functions.temp_funcs:Filtered dataframe based on NMS Pass/Fail == True\n",
      "INFO:functions.temp_funcs:Filtered dataframe based on NMS Pass/Fail == False\n",
      "INFO:functions.temp_funcs:Filtered dataframe based on RNA amp Pass/Fail == Pass\n",
      "INFO:functions.temp_funcs:Filtered dataframe based on RNA amp Pass/Fail == Fail\n",
      "INFO:functions.temp_funcs:Filtered dataframe based on NMS Pass/Fail == False\n",
      "INFO:functions.temp_funcs:Filtered dataframe based on NMS Pass/Fail == True\n",
      "INFO:functions.temp_funcs:Filtered dataframe based on NMS Pass/Fail == False\n",
      "INFO:functions.temp_funcs:Filtered dataframe based on NMS Pass/Fail == True\n",
      "C:\\Users\\kumar\\Anaconda3\\lib\\site-packages\\ipykernel_launcher.py:9: SettingWithCopyWarning: \n",
      "A value is trying to be set on a copy of a slice from a DataFrame.\n",
      "Try using .loc[row_indexer,col_indexer] = value instead\n",
      "\n",
      "See the caveats in the documentation: http://pandas.pydata.org/pandas-docs/stable/user_guide/indexing.html#returning-a-view-versus-a-copy\n",
      "  if __name__ == '__main__':\n",
      "C:\\Users\\kumar\\Anaconda3\\lib\\site-packages\\ipykernel_launcher.py:10: SettingWithCopyWarning: \n",
      "A value is trying to be set on a copy of a slice from a DataFrame.\n",
      "Try using .loc[row_indexer,col_indexer] = value instead\n",
      "\n",
      "See the caveats in the documentation: http://pandas.pydata.org/pandas-docs/stable/user_guide/indexing.html#returning-a-view-versus-a-copy\n",
      "  # Remove the CWD from sys.path while we load stuff.\n",
      "C:\\Users\\kumar\\Anaconda3\\lib\\site-packages\\ipykernel_launcher.py:11: SettingWithCopyWarning: \n",
      "A value is trying to be set on a copy of a slice from a DataFrame.\n",
      "Try using .loc[row_indexer,col_indexer] = value instead\n",
      "\n",
      "See the caveats in the documentation: http://pandas.pydata.org/pandas-docs/stable/user_guide/indexing.html#returning-a-view-versus-a-copy\n",
      "  # This is added back by InteractiveShellApp.init_path()\n",
      "C:\\Users\\kumar\\Anaconda3\\lib\\site-packages\\ipykernel_launcher.py:12: SettingWithCopyWarning: \n",
      "A value is trying to be set on a copy of a slice from a DataFrame.\n",
      "Try using .loc[row_indexer,col_indexer] = value instead\n",
      "\n",
      "See the caveats in the documentation: http://pandas.pydata.org/pandas-docs/stable/user_guide/indexing.html#returning-a-view-versus-a-copy\n",
      "  if sys.path[0] == '':\n"
     ]
    }
   ],
   "source": [
    "shinyh_npass = filter_df(shinyh, \"NMS Pass/Fail\", True)\n",
    "shinyh_nfail = filter_df(shinyh, \"NMS Pass/Fail\", False)\n",
    "shinyh_rpass = filter_df(shinyh, \"RNA amp Pass/Fail\", \"Pass\")\n",
    "shinyh_rfail = filter_df(shinyh, \"RNA amp Pass/Fail\", \"Fail\")\n",
    "rfail_nfail = filter_df(shinyh_rfail, \"NMS Pass/Fail\", False)\n",
    "rfail_npass = filter_df(shinyh_rfail, \"NMS Pass/Fail\", True)\n",
    "rpass_nfail = filter_df(shinyh_rpass, \"NMS Pass/Fail\", False)\n",
    "rpass_npass = filter_df(shinyh_rpass, \"NMS Pass/Fail\", True)\n",
    "rfail_nfail[\"Group\"] = \"RNA Fail/NMS Fail\"\n",
    "rfail_npass[\"Group\"] = \"RNA Fail/NMS Pass\"\n",
    "rpass_nfail[\"Group\"] = \"RNA Pass/NMS Fail\"\n",
    "rpass_npass[\"Group\"] = \"RNA Pass/NMS Pass\""
   ]
  },
  {
   "cell_type": "code",
   "execution_count": 12,
   "metadata": {},
   "outputs": [],
   "source": [
    "count_rn = pd.concat([rfail_nfail, rfail_npass, rpass_nfail, rpass_npass])\n",
    "count_rn[\"Group_count\"] = count_rn.groupby(\"Group\")[\"Tree_call\"].transform(\"count\")"
   ]
  },
  {
   "cell_type": "code",
   "execution_count": 13,
   "metadata": {},
   "outputs": [
    {
     "data": {
      "text/html": [
       "<div>\n",
       "<style scoped>\n",
       "    .dataframe tbody tr th:only-of-type {\n",
       "        vertical-align: middle;\n",
       "    }\n",
       "\n",
       "    .dataframe tbody tr th {\n",
       "        vertical-align: top;\n",
       "    }\n",
       "\n",
       "    .dataframe thead th {\n",
       "        text-align: right;\n",
       "    }\n",
       "</style>\n",
       "<table border=\"1\" class=\"dataframe\">\n",
       "  <thead>\n",
       "    <tr style=\"text-align: right;\">\n",
       "      <th></th>\n",
       "      <th>sample_id</th>\n",
       "      <th>cDNA quality (%&gt;400 bp)</th>\n",
       "      <th>RNA amp Pass/Fail</th>\n",
       "      <th>Amplified content (ng)</th>\n",
       "      <th>NMS score</th>\n",
       "      <th>NMS Pass/Fail</th>\n",
       "      <th>seurat_prediction_score_label</th>\n",
       "      <th>Tree_call</th>\n",
       "      <th>collaborator_label</th>\n",
       "      <th>Group</th>\n",
       "      <th>Group_count</th>\n",
       "    </tr>\n",
       "  </thead>\n",
       "  <tbody>\n",
       "    <tr>\n",
       "      <td>878</td>\n",
       "      <td>PAS4_181218_456_A01</td>\n",
       "      <td>0.289</td>\n",
       "      <td>Fail</td>\n",
       "      <td>7.558301</td>\n",
       "      <td>0.322838</td>\n",
       "      <td>False</td>\n",
       "      <td>0.628648</td>\n",
       "      <td>PoorQ</td>\n",
       "      <td>AIBS</td>\n",
       "      <td>RNA Fail/NMS Fail</td>\n",
       "      <td>174</td>\n",
       "    </tr>\n",
       "    <tr>\n",
       "      <td>1216</td>\n",
       "      <td>P2S4_180508_066_A01</td>\n",
       "      <td>0.562</td>\n",
       "      <td>Fail</td>\n",
       "      <td>3.027420</td>\n",
       "      <td>0.186740</td>\n",
       "      <td>False</td>\n",
       "      <td>0.978289</td>\n",
       "      <td>PoorQ</td>\n",
       "      <td>AIBS</td>\n",
       "      <td>RNA Fail/NMS Fail</td>\n",
       "      <td>174</td>\n",
       "    </tr>\n",
       "    <tr>\n",
       "      <td>1597</td>\n",
       "      <td>P2S4_180621_053_A01</td>\n",
       "      <td>0.299</td>\n",
       "      <td>Fail</td>\n",
       "      <td>6.185288</td>\n",
       "      <td>0.232931</td>\n",
       "      <td>False</td>\n",
       "      <td>0.513516</td>\n",
       "      <td>PoorQ</td>\n",
       "      <td>AIBS</td>\n",
       "      <td>RNA Fail/NMS Fail</td>\n",
       "      <td>174</td>\n",
       "    </tr>\n",
       "    <tr>\n",
       "      <td>2068</td>\n",
       "      <td>PES4_190813_657_A01</td>\n",
       "      <td>0.360</td>\n",
       "      <td>Fail</td>\n",
       "      <td>10.114990</td>\n",
       "      <td>0.396362</td>\n",
       "      <td>False</td>\n",
       "      <td>0.427598</td>\n",
       "      <td>PoorQ</td>\n",
       "      <td>AIBS</td>\n",
       "      <td>RNA Fail/NMS Fail</td>\n",
       "      <td>174</td>\n",
       "    </tr>\n",
       "    <tr>\n",
       "      <td>2175</td>\n",
       "      <td>P1S4_190514_003_A01</td>\n",
       "      <td>0.757</td>\n",
       "      <td>Fail</td>\n",
       "      <td>1.223222</td>\n",
       "      <td>0.381382</td>\n",
       "      <td>False</td>\n",
       "      <td>0.368181</td>\n",
       "      <td>PoorQ</td>\n",
       "      <td>AIBS</td>\n",
       "      <td>RNA Fail/NMS Fail</td>\n",
       "      <td>174</td>\n",
       "    </tr>\n",
       "    <tr>\n",
       "      <td>...</td>\n",
       "      <td>...</td>\n",
       "      <td>...</td>\n",
       "      <td>...</td>\n",
       "      <td>...</td>\n",
       "      <td>...</td>\n",
       "      <td>...</td>\n",
       "      <td>...</td>\n",
       "      <td>...</td>\n",
       "      <td>...</td>\n",
       "      <td>...</td>\n",
       "      <td>...</td>\n",
       "    </tr>\n",
       "    <tr>\n",
       "      <td>2938</td>\n",
       "      <td>P7S4_180920_301_A01</td>\n",
       "      <td>0.484</td>\n",
       "      <td>Pass</td>\n",
       "      <td>9.083311</td>\n",
       "      <td>0.558573</td>\n",
       "      <td>True</td>\n",
       "      <td>0.313538</td>\n",
       "      <td>PoorQ</td>\n",
       "      <td>AIBS</td>\n",
       "      <td>RNA Pass/NMS Pass</td>\n",
       "      <td>1078</td>\n",
       "    </tr>\n",
       "    <tr>\n",
       "      <td>2988</td>\n",
       "      <td>P8S4_190122_357_A01</td>\n",
       "      <td>0.376</td>\n",
       "      <td>Pass</td>\n",
       "      <td>12.163754</td>\n",
       "      <td>0.416997</td>\n",
       "      <td>True</td>\n",
       "      <td>0.235294</td>\n",
       "      <td>PoorQ</td>\n",
       "      <td>AIBS</td>\n",
       "      <td>RNA Pass/NMS Pass</td>\n",
       "      <td>1078</td>\n",
       "    </tr>\n",
       "    <tr>\n",
       "      <td>3020</td>\n",
       "      <td>P9S4_180424_406_A01</td>\n",
       "      <td>0.699</td>\n",
       "      <td>Pass</td>\n",
       "      <td>40.300115</td>\n",
       "      <td>0.564769</td>\n",
       "      <td>True</td>\n",
       "      <td>0.984582</td>\n",
       "      <td>PoorQ</td>\n",
       "      <td>AIBS</td>\n",
       "      <td>RNA Pass/NMS Pass</td>\n",
       "      <td>1078</td>\n",
       "    </tr>\n",
       "    <tr>\n",
       "      <td>3124</td>\n",
       "      <td>PES4_190305_651_A01</td>\n",
       "      <td>0.515</td>\n",
       "      <td>Pass</td>\n",
       "      <td>8.008964</td>\n",
       "      <td>0.426581</td>\n",
       "      <td>True</td>\n",
       "      <td>0.642678</td>\n",
       "      <td>PoorQ</td>\n",
       "      <td>AIBS</td>\n",
       "      <td>RNA Pass/NMS Pass</td>\n",
       "      <td>1078</td>\n",
       "    </tr>\n",
       "    <tr>\n",
       "      <td>3425</td>\n",
       "      <td>PXS4_180518_305_A01</td>\n",
       "      <td>0.397</td>\n",
       "      <td>Pass</td>\n",
       "      <td>24.543470</td>\n",
       "      <td>0.427373</td>\n",
       "      <td>True</td>\n",
       "      <td>0.284612</td>\n",
       "      <td>PoorQ</td>\n",
       "      <td>AIBS</td>\n",
       "      <td>RNA Pass/NMS Pass</td>\n",
       "      <td>1078</td>\n",
       "    </tr>\n",
       "  </tbody>\n",
       "</table>\n",
       "<p>1489 rows × 11 columns</p>\n",
       "</div>"
      ],
      "text/plain": [
       "                sample_id  cDNA quality (%>400 bp) RNA amp Pass/Fail  \\\n",
       "878   PAS4_181218_456_A01                    0.289              Fail   \n",
       "1216  P2S4_180508_066_A01                    0.562              Fail   \n",
       "1597  P2S4_180621_053_A01                    0.299              Fail   \n",
       "2068  PES4_190813_657_A01                    0.360              Fail   \n",
       "2175  P1S4_190514_003_A01                    0.757              Fail   \n",
       "...                   ...                      ...               ...   \n",
       "2938  P7S4_180920_301_A01                    0.484              Pass   \n",
       "2988  P8S4_190122_357_A01                    0.376              Pass   \n",
       "3020  P9S4_180424_406_A01                    0.699              Pass   \n",
       "3124  PES4_190305_651_A01                    0.515              Pass   \n",
       "3425  PXS4_180518_305_A01                    0.397              Pass   \n",
       "\n",
       "      Amplified content (ng)  NMS score  NMS Pass/Fail  \\\n",
       "878                 7.558301   0.322838          False   \n",
       "1216                3.027420   0.186740          False   \n",
       "1597                6.185288   0.232931          False   \n",
       "2068               10.114990   0.396362          False   \n",
       "2175                1.223222   0.381382          False   \n",
       "...                      ...        ...            ...   \n",
       "2938                9.083311   0.558573           True   \n",
       "2988               12.163754   0.416997           True   \n",
       "3020               40.300115   0.564769           True   \n",
       "3124                8.008964   0.426581           True   \n",
       "3425               24.543470   0.427373           True   \n",
       "\n",
       "      seurat_prediction_score_label Tree_call collaborator_label  \\\n",
       "878                        0.628648     PoorQ               AIBS   \n",
       "1216                       0.978289     PoorQ               AIBS   \n",
       "1597                       0.513516     PoorQ               AIBS   \n",
       "2068                       0.427598     PoorQ               AIBS   \n",
       "2175                       0.368181     PoorQ               AIBS   \n",
       "...                             ...       ...                ...   \n",
       "2938                       0.313538     PoorQ               AIBS   \n",
       "2988                       0.235294     PoorQ               AIBS   \n",
       "3020                       0.984582     PoorQ               AIBS   \n",
       "3124                       0.642678     PoorQ               AIBS   \n",
       "3425                       0.284612     PoorQ               AIBS   \n",
       "\n",
       "                  Group  Group_count  \n",
       "878   RNA Fail/NMS Fail          174  \n",
       "1216  RNA Fail/NMS Fail          174  \n",
       "1597  RNA Fail/NMS Fail          174  \n",
       "2068  RNA Fail/NMS Fail          174  \n",
       "2175  RNA Fail/NMS Fail          174  \n",
       "...                 ...          ...  \n",
       "2938  RNA Pass/NMS Pass         1078  \n",
       "2988  RNA Pass/NMS Pass         1078  \n",
       "3020  RNA Pass/NMS Pass         1078  \n",
       "3124  RNA Pass/NMS Pass         1078  \n",
       "3425  RNA Pass/NMS Pass         1078  \n",
       "\n",
       "[1489 rows x 11 columns]"
      ]
     },
     "execution_count": 13,
     "metadata": {},
     "output_type": "execute_result"
    }
   ],
   "source": [
    "count_rn"
   ]
  },
  {
   "cell_type": "code",
   "execution_count": 14,
   "metadata": {
    "scrolled": false
   },
   "outputs": [
    {
     "data": {
      "text/plain": [
       "<matplotlib.axes._subplots.AxesSubplot at 0x2e98e361fc8>"
      ]
     },
     "execution_count": 14,
     "metadata": {},
     "output_type": "execute_result"
    },
    {
     "data": {
      "image/png": "[encoded data removed]",
      "text/plain": [
       "<Figure size 1080x720 with 1 Axes>"
      ]
     },
     "metadata": {
      "needs_background": "light"
     },
     "output_type": "display_data"
    }
   ],
   "source": [
    "fig_dims = (15, 10)\n",
    "f, axes = plt.subplots(figsize=fig_dims)\n",
    "sns.countplot(x=\"Group\", data=count_rn, hue=\"Tree_call\")"
   ]
  },
  {
   "cell_type": "code",
   "execution_count": 15,
   "metadata": {},
   "outputs": [],
   "source": [
    "group_list = [\"RNA Fail/NMS Fail\", \"RNA Fail/NMS Pass\", \"RNA Pass/NMS Fail\", \"RNA Pass/NMS Pass\"]"
   ]
  },
  {
   "cell_type": "code",
   "execution_count": 16,
   "metadata": {},
   "outputs": [
    {
     "name": "stdout",
     "output_type": "stream",
     "text": [
      "RNA Fail/NMS Fail: 174\n",
      "RNA Fail/NMS Pass: 69\n",
      "RNA Pass/NMS Fail: 168\n",
      "RNA Pass/NMS Pass: 1078\n"
     ]
    }
   ],
   "source": [
    "print(f\"RNA Fail/NMS Fail: {rfail_nfail.sample_id.count()}\")\n",
    "print(f\"RNA Fail/NMS Pass: {rfail_npass.sample_id.count()}\")\n",
    "print(f\"RNA Pass/NMS Fail: {rpass_nfail.sample_id.count()}\")\n",
    "print(f\"RNA Pass/NMS Pass: {rpass_npass.sample_id.count()}\")"
   ]
  },
  {
   "cell_type": "code",
   "execution_count": 59,
   "metadata": {},
   "outputs": [
    {
     "data": {
      "text/plain": [
       "PoorQ    1.0\n",
       "Name: Tree_call, dtype: float64"
      ]
     },
     "execution_count": 59,
     "metadata": {},
     "output_type": "execute_result"
    }
   ],
   "source": [
    "rfail_nfail.Tree_call.value_counts(normalize=True)"
   ]
  },
  {
   "cell_type": "code",
   "execution_count": 60,
   "metadata": {},
   "outputs": [
    {
     "data": {
      "text/plain": [
       "PoorQ    0.695652\n",
       "Core     0.144928\n",
       "I2       0.086957\n",
       "I1       0.043478\n",
       "I3       0.028986\n",
       "Name: Tree_call, dtype: float64"
      ]
     },
     "execution_count": 60,
     "metadata": {},
     "output_type": "execute_result"
    }
   ],
   "source": [
    "rfail_npass.Tree_call.value_counts(normalize=True)"
   ]
  },
  {
   "cell_type": "code",
   "execution_count": 61,
   "metadata": {},
   "outputs": [
    {
     "data": {
      "text/plain": [
       "PoorQ    0.988095\n",
       "I2       0.005952\n",
       "Core     0.005952\n",
       "Name: Tree_call, dtype: float64"
      ]
     },
     "execution_count": 61,
     "metadata": {},
     "output_type": "execute_result"
    }
   ],
   "source": [
    "rpass_nfail.Tree_call.value_counts(normalize=True)"
   ]
  },
  {
   "cell_type": "code",
   "execution_count": 62,
   "metadata": {},
   "outputs": [
    {
     "data": {
      "text/plain": [
       "Core     0.498145\n",
       "I1       0.237477\n",
       "I2       0.172542\n",
       "PoorQ    0.084416\n",
       "I3       0.007421\n",
       "Name: Tree_call, dtype: float64"
      ]
     },
     "execution_count": 62,
     "metadata": {},
     "output_type": "execute_result"
    }
   ],
   "source": [
    "rpass_npass.Tree_call.value_counts(normalize=True)"
   ]
  },
  {
   "cell_type": "code",
   "execution_count": null,
   "metadata": {},
   "outputs": [],
   "source": []
  },
  {
   "cell_type": "code",
   "execution_count": 17,
   "metadata": {},
   "outputs": [
    {
     "name": "stdout",
     "output_type": "stream",
     "text": [
      "Rpass total count: 1246\n",
      "Rfail total count: 243\n"
     ]
    }
   ],
   "source": [
    "print(f\"Rpass total count: {shinyh_rpass.sample_id.count()}\")\n",
    "print(f\"Rfail total count: {shinyh_rfail.sample_id.count()}\")"
   ]
  },
  {
   "cell_type": "code",
   "execution_count": 18,
   "metadata": {},
   "outputs": [
    {
     "name": "stderr",
     "output_type": "stream",
     "text": [
      "C:\\Users\\kumar\\Anaconda3\\lib\\site-packages\\pandas\\core\\frame.py:4102: SettingWithCopyWarning: \n",
      "A value is trying to be set on a copy of a slice from a DataFrame\n",
      "\n",
      "See the caveats in the documentation: http://pandas.pydata.org/pandas-docs/stable/user_guide/indexing.html#returning-a-view-versus-a-copy\n",
      "  errors=errors,\n"
     ]
    }
   ],
   "source": [
    "rfail_nfail.drop(columns=[\"sample_id\", \"cDNA quality (%>400 bp)\", \"Amplified content (ng)\",\n",
    "                          \"NMS score\", \"seurat_prediction_score_label\", \"collaborator_label\"], inplace=True)"
   ]
  },
  {
   "cell_type": "code",
   "execution_count": 19,
   "metadata": {},
   "outputs": [],
   "source": [
    "#rfail_nfail.drop(columns=[\"RNA amp Pass/Fail\", \"NMS Pass/Fail\"], inplace=True)"
   ]
  },
  {
   "cell_type": "code",
   "execution_count": null,
   "metadata": {},
   "outputs": [],
   "source": [
    "rfail_nfail_piv = rfail_nfail.pivot_table(rfail_nfail, values='D', index=['Group\", \"Tree_call\"],\n",
    "                    columns=[\"Tree_call\"], aggfunc=np.sum)"
   ]
  },
  {
   "cell_type": "code",
   "execution_count": 39,
   "metadata": {},
   "outputs": [
    {
     "name": "stderr",
     "output_type": "stream",
     "text": [
      "C:\\Users\\kumar\\Anaconda3\\lib\\site-packages\\pandas\\core\\frame.py:4102: SettingWithCopyWarning: \n",
      "A value is trying to be set on a copy of a slice from a DataFrame\n",
      "\n",
      "See the caveats in the documentation: http://pandas.pydata.org/pandas-docs/stable/user_guide/indexing.html#returning-a-view-versus-a-copy\n",
      "  errors=errors,\n"
     ]
    }
   ],
   "source": [
    "rfail_npass.drop(columns=[\"sample_id\", \"cDNA quality (%>400 bp)\", \"Amplified content (ng)\",\n",
    "                          \"NMS score\", \"seurat_prediction_score_label\", \"collaborator_label\"], inplace=True)"
   ]
  },
  {
   "cell_type": "code",
   "execution_count": 45,
   "metadata": {},
   "outputs": [
    {
     "data": {
      "text/html": [
       "<div>\n",
       "<style scoped>\n",
       "    .dataframe tbody tr th:only-of-type {\n",
       "        vertical-align: middle;\n",
       "    }\n",
       "\n",
       "    .dataframe tbody tr th {\n",
       "        vertical-align: top;\n",
       "    }\n",
       "\n",
       "    .dataframe thead th {\n",
       "        text-align: right;\n",
       "    }\n",
       "</style>\n",
       "<table border=\"1\" class=\"dataframe\">\n",
       "  <thead>\n",
       "    <tr style=\"text-align: right;\">\n",
       "      <th></th>\n",
       "      <th>RNA amp Pass/Fail</th>\n",
       "      <th>NMS Pass/Fail</th>\n",
       "      <th>Tree_call</th>\n",
       "      <th>Group</th>\n",
       "    </tr>\n",
       "  </thead>\n",
       "  <tbody>\n",
       "    <tr>\n",
       "      <td>17</td>\n",
       "      <td>Fail</td>\n",
       "      <td>True</td>\n",
       "      <td>Core</td>\n",
       "      <td>RNA Fail/NMS Pass</td>\n",
       "    </tr>\n",
       "    <tr>\n",
       "      <td>74</td>\n",
       "      <td>Fail</td>\n",
       "      <td>True</td>\n",
       "      <td>Core</td>\n",
       "      <td>RNA Fail/NMS Pass</td>\n",
       "    </tr>\n",
       "    <tr>\n",
       "      <td>84</td>\n",
       "      <td>Fail</td>\n",
       "      <td>True</td>\n",
       "      <td>Core</td>\n",
       "      <td>RNA Fail/NMS Pass</td>\n",
       "    </tr>\n",
       "    <tr>\n",
       "      <td>149</td>\n",
       "      <td>Fail</td>\n",
       "      <td>True</td>\n",
       "      <td>PoorQ</td>\n",
       "      <td>RNA Fail/NMS Pass</td>\n",
       "    </tr>\n",
       "    <tr>\n",
       "      <td>264</td>\n",
       "      <td>Fail</td>\n",
       "      <td>True</td>\n",
       "      <td>Core</td>\n",
       "      <td>RNA Fail/NMS Pass</td>\n",
       "    </tr>\n",
       "    <tr>\n",
       "      <td>...</td>\n",
       "      <td>...</td>\n",
       "      <td>...</td>\n",
       "      <td>...</td>\n",
       "      <td>...</td>\n",
       "    </tr>\n",
       "    <tr>\n",
       "      <td>3040</td>\n",
       "      <td>Fail</td>\n",
       "      <td>True</td>\n",
       "      <td>PoorQ</td>\n",
       "      <td>RNA Fail/NMS Pass</td>\n",
       "    </tr>\n",
       "    <tr>\n",
       "      <td>3133</td>\n",
       "      <td>Fail</td>\n",
       "      <td>True</td>\n",
       "      <td>PoorQ</td>\n",
       "      <td>RNA Fail/NMS Pass</td>\n",
       "    </tr>\n",
       "    <tr>\n",
       "      <td>3477</td>\n",
       "      <td>Fail</td>\n",
       "      <td>True</td>\n",
       "      <td>PoorQ</td>\n",
       "      <td>RNA Fail/NMS Pass</td>\n",
       "    </tr>\n",
       "    <tr>\n",
       "      <td>3478</td>\n",
       "      <td>Fail</td>\n",
       "      <td>True</td>\n",
       "      <td>PoorQ</td>\n",
       "      <td>RNA Fail/NMS Pass</td>\n",
       "    </tr>\n",
       "    <tr>\n",
       "      <td>3589</td>\n",
       "      <td>Fail</td>\n",
       "      <td>True</td>\n",
       "      <td>PoorQ</td>\n",
       "      <td>RNA Fail/NMS Pass</td>\n",
       "    </tr>\n",
       "  </tbody>\n",
       "</table>\n",
       "<p>69 rows × 4 columns</p>\n",
       "</div>"
      ],
      "text/plain": [
       "     RNA amp Pass/Fail  NMS Pass/Fail Tree_call              Group\n",
       "17                Fail           True      Core  RNA Fail/NMS Pass\n",
       "74                Fail           True      Core  RNA Fail/NMS Pass\n",
       "84                Fail           True      Core  RNA Fail/NMS Pass\n",
       "149               Fail           True     PoorQ  RNA Fail/NMS Pass\n",
       "264               Fail           True      Core  RNA Fail/NMS Pass\n",
       "...                ...            ...       ...                ...\n",
       "3040              Fail           True     PoorQ  RNA Fail/NMS Pass\n",
       "3133              Fail           True     PoorQ  RNA Fail/NMS Pass\n",
       "3477              Fail           True     PoorQ  RNA Fail/NMS Pass\n",
       "3478              Fail           True     PoorQ  RNA Fail/NMS Pass\n",
       "3589              Fail           True     PoorQ  RNA Fail/NMS Pass\n",
       "\n",
       "[69 rows x 4 columns]"
      ]
     },
     "execution_count": 45,
     "metadata": {},
     "output_type": "execute_result"
    }
   ],
   "source": [
    "rfail_npass"
   ]
  },
  {
   "cell_type": "code",
   "execution_count": 53,
   "metadata": {},
   "outputs": [],
   "source": [
    "new_pass = count_rn.groupby([\"Group\", \"Tree_call\"]).Tree_call.agg('count').to_frame(\"Count\").reset_index()"
   ]
  },
  {
   "cell_type": "code",
   "execution_count": 54,
   "metadata": {},
   "outputs": [],
   "source": [
    "new_piv = pd.pivot_table(new_pass, values='Count', index=[\"Group\"], columns=\"Tree_call\")"
   ]
  },
  {
   "cell_type": "code",
   "execution_count": 63,
   "metadata": {},
   "outputs": [],
   "source": [
    "count_colors={\"Core\": \"#41ab5d\", \"I1\": \"#2171b5\", \"I2\": \"#4292c6\", \"I3\": \"#6baed6\", \"PoorQ\": \"#ef3b2c\"}"
   ]
  },
  {
   "cell_type": "code",
   "execution_count": 75,
   "metadata": {},
   "outputs": [
    {
     "data": {
      "text/plain": [
       "<matplotlib.axes._subplots.AxesSubplot at 0x2e992ceaec8>"
      ]
     },
     "execution_count": 75,
     "metadata": {},
     "output_type": "execute_result"
    },
    {
     "data": {
      "image/png": "[encoded data removed]",
      "text/plain": [
       "<Figure size 1080x720 with 1 Axes>"
      ]
     },
     "metadata": {
      "needs_background": "light"
     },
     "output_type": "display_data"
    }
   ],
   "source": [
    "fig_dims = (15, 10)\n",
    "f, axes = plt.subplots(figsize=fig_dims)\n",
    "sns.barplot(x=\"Group\", y=\"Count\", hue=\"Tree_call\", data=new_pass, palette=count_colors, hue_order=count_colors)"
   ]
  },
  {
   "cell_type": "code",
   "execution_count": 44,
   "metadata": {},
   "outputs": [
    {
     "data": {
      "text/html": [
       "<div>\n",
       "<style scoped>\n",
       "    .dataframe tbody tr th:only-of-type {\n",
       "        vertical-align: middle;\n",
       "    }\n",
       "\n",
       "    .dataframe tbody tr th {\n",
       "        vertical-align: top;\n",
       "    }\n",
       "\n",
       "    .dataframe thead th {\n",
       "        text-align: right;\n",
       "    }\n",
       "</style>\n",
       "<table border=\"1\" class=\"dataframe\">\n",
       "  <thead>\n",
       "    <tr style=\"text-align: right;\">\n",
       "      <th></th>\n",
       "      <th>Group</th>\n",
       "      <th>Tree_call</th>\n",
       "      <th>Count</th>\n",
       "    </tr>\n",
       "  </thead>\n",
       "  <tbody>\n",
       "    <tr>\n",
       "      <td>0</td>\n",
       "      <td>RNA Fail/NMS Fail</td>\n",
       "      <td>PoorQ</td>\n",
       "      <td>174</td>\n",
       "    </tr>\n",
       "    <tr>\n",
       "      <td>1</td>\n",
       "      <td>RNA Fail/NMS Pass</td>\n",
       "      <td>Core</td>\n",
       "      <td>10</td>\n",
       "    </tr>\n",
       "    <tr>\n",
       "      <td>2</td>\n",
       "      <td>RNA Fail/NMS Pass</td>\n",
       "      <td>I1</td>\n",
       "      <td>3</td>\n",
       "    </tr>\n",
       "    <tr>\n",
       "      <td>3</td>\n",
       "      <td>RNA Fail/NMS Pass</td>\n",
       "      <td>I2</td>\n",
       "      <td>6</td>\n",
       "    </tr>\n",
       "    <tr>\n",
       "      <td>4</td>\n",
       "      <td>RNA Fail/NMS Pass</td>\n",
       "      <td>I3</td>\n",
       "      <td>2</td>\n",
       "    </tr>\n",
       "    <tr>\n",
       "      <td>5</td>\n",
       "      <td>RNA Fail/NMS Pass</td>\n",
       "      <td>PoorQ</td>\n",
       "      <td>48</td>\n",
       "    </tr>\n",
       "    <tr>\n",
       "      <td>6</td>\n",
       "      <td>RNA Pass/NMS Fail</td>\n",
       "      <td>Core</td>\n",
       "      <td>1</td>\n",
       "    </tr>\n",
       "    <tr>\n",
       "      <td>7</td>\n",
       "      <td>RNA Pass/NMS Fail</td>\n",
       "      <td>I2</td>\n",
       "      <td>1</td>\n",
       "    </tr>\n",
       "    <tr>\n",
       "      <td>8</td>\n",
       "      <td>RNA Pass/NMS Fail</td>\n",
       "      <td>PoorQ</td>\n",
       "      <td>166</td>\n",
       "    </tr>\n",
       "    <tr>\n",
       "      <td>9</td>\n",
       "      <td>RNA Pass/NMS Pass</td>\n",
       "      <td>Core</td>\n",
       "      <td>537</td>\n",
       "    </tr>\n",
       "    <tr>\n",
       "      <td>10</td>\n",
       "      <td>RNA Pass/NMS Pass</td>\n",
       "      <td>I1</td>\n",
       "      <td>256</td>\n",
       "    </tr>\n",
       "    <tr>\n",
       "      <td>11</td>\n",
       "      <td>RNA Pass/NMS Pass</td>\n",
       "      <td>I2</td>\n",
       "      <td>186</td>\n",
       "    </tr>\n",
       "    <tr>\n",
       "      <td>12</td>\n",
       "      <td>RNA Pass/NMS Pass</td>\n",
       "      <td>I3</td>\n",
       "      <td>8</td>\n",
       "    </tr>\n",
       "    <tr>\n",
       "      <td>13</td>\n",
       "      <td>RNA Pass/NMS Pass</td>\n",
       "      <td>PoorQ</td>\n",
       "      <td>91</td>\n",
       "    </tr>\n",
       "  </tbody>\n",
       "</table>\n",
       "</div>"
      ],
      "text/plain": [
       "                Group Tree_call  Count\n",
       "0   RNA Fail/NMS Fail     PoorQ    174\n",
       "1   RNA Fail/NMS Pass      Core     10\n",
       "2   RNA Fail/NMS Pass        I1      3\n",
       "3   RNA Fail/NMS Pass        I2      6\n",
       "4   RNA Fail/NMS Pass        I3      2\n",
       "5   RNA Fail/NMS Pass     PoorQ     48\n",
       "6   RNA Pass/NMS Fail      Core      1\n",
       "7   RNA Pass/NMS Fail        I2      1\n",
       "8   RNA Pass/NMS Fail     PoorQ    166\n",
       "9   RNA Pass/NMS Pass      Core    537\n",
       "10  RNA Pass/NMS Pass        I1    256\n",
       "11  RNA Pass/NMS Pass        I2    186\n",
       "12  RNA Pass/NMS Pass        I3      8\n",
       "13  RNA Pass/NMS Pass     PoorQ     91"
      ]
     },
     "execution_count": 44,
     "metadata": {},
     "output_type": "execute_result"
    }
   ],
   "source": [
    "new_pass"
   ]
  },
  {
   "cell_type": "code",
   "execution_count": null,
   "metadata": {},
   "outputs": [],
   "source": []
  },
  {
   "cell_type": "code",
   "execution_count": null,
   "metadata": {},
   "outputs": [],
   "source": []
  },
  {
   "cell_type": "code",
   "execution_count": 31,
   "metadata": {},
   "outputs": [],
   "source": [
    "new = count_rn.groupby([\"Group\", \"Tree_call\"]).Tree_call.agg('count').to_frame(\"Count\").reset_index()"
   ]
  },
  {
   "cell_type": "code",
   "execution_count": 33,
   "metadata": {},
   "outputs": [
    {
     "data": {
      "text/html": [
       "<div>\n",
       "<style scoped>\n",
       "    .dataframe tbody tr th:only-of-type {\n",
       "        vertical-align: middle;\n",
       "    }\n",
       "\n",
       "    .dataframe tbody tr th {\n",
       "        vertical-align: top;\n",
       "    }\n",
       "\n",
       "    .dataframe thead th {\n",
       "        text-align: right;\n",
       "    }\n",
       "</style>\n",
       "<table border=\"1\" class=\"dataframe\">\n",
       "  <thead>\n",
       "    <tr style=\"text-align: right;\">\n",
       "      <th>Tree_call</th>\n",
       "      <th>Core</th>\n",
       "      <th>I1</th>\n",
       "      <th>I2</th>\n",
       "      <th>I3</th>\n",
       "      <th>PoorQ</th>\n",
       "    </tr>\n",
       "    <tr>\n",
       "      <th>Group</th>\n",
       "      <th></th>\n",
       "      <th></th>\n",
       "      <th></th>\n",
       "      <th></th>\n",
       "      <th></th>\n",
       "    </tr>\n",
       "  </thead>\n",
       "  <tbody>\n",
       "    <tr>\n",
       "      <td>RNA Fail/NMS Fail</td>\n",
       "      <td>NaN</td>\n",
       "      <td>NaN</td>\n",
       "      <td>NaN</td>\n",
       "      <td>NaN</td>\n",
       "      <td>174.0</td>\n",
       "    </tr>\n",
       "    <tr>\n",
       "      <td>RNA Fail/NMS Pass</td>\n",
       "      <td>10.0</td>\n",
       "      <td>3.0</td>\n",
       "      <td>6.0</td>\n",
       "      <td>2.0</td>\n",
       "      <td>48.0</td>\n",
       "    </tr>\n",
       "    <tr>\n",
       "      <td>RNA Pass/NMS Fail</td>\n",
       "      <td>1.0</td>\n",
       "      <td>NaN</td>\n",
       "      <td>1.0</td>\n",
       "      <td>NaN</td>\n",
       "      <td>166.0</td>\n",
       "    </tr>\n",
       "    <tr>\n",
       "      <td>RNA Pass/NMS Pass</td>\n",
       "      <td>537.0</td>\n",
       "      <td>256.0</td>\n",
       "      <td>186.0</td>\n",
       "      <td>8.0</td>\n",
       "      <td>91.0</td>\n",
       "    </tr>\n",
       "  </tbody>\n",
       "</table>\n",
       "</div>"
      ],
      "text/plain": [
       "Tree_call           Core     I1     I2   I3  PoorQ\n",
       "Group                                             \n",
       "RNA Fail/NMS Fail    NaN    NaN    NaN  NaN  174.0\n",
       "RNA Fail/NMS Pass   10.0    3.0    6.0  2.0   48.0\n",
       "RNA Pass/NMS Fail    1.0    NaN    1.0  NaN  166.0\n",
       "RNA Pass/NMS Pass  537.0  256.0  186.0  8.0   91.0"
      ]
     },
     "execution_count": 33,
     "metadata": {},
     "output_type": "execute_result"
    }
   ],
   "source": [
    "new_piv = pd.pivot_table(new, values='Count', index=[\"Group\"], columns=\"Tree_call\")\n",
    "new_piv"
   ]
  },
  {
   "cell_type": "code",
   "execution_count": 32,
   "metadata": {},
   "outputs": [
    {
     "data": {
      "text/html": [
       "<div>\n",
       "<style scoped>\n",
       "    .dataframe tbody tr th:only-of-type {\n",
       "        vertical-align: middle;\n",
       "    }\n",
       "\n",
       "    .dataframe tbody tr th {\n",
       "        vertical-align: top;\n",
       "    }\n",
       "\n",
       "    .dataframe thead th {\n",
       "        text-align: right;\n",
       "    }\n",
       "</style>\n",
       "<table border=\"1\" class=\"dataframe\">\n",
       "  <thead>\n",
       "    <tr style=\"text-align: right;\">\n",
       "      <th></th>\n",
       "      <th>Group</th>\n",
       "      <th>Tree_call</th>\n",
       "      <th>Count</th>\n",
       "    </tr>\n",
       "  </thead>\n",
       "  <tbody>\n",
       "    <tr>\n",
       "      <td>0</td>\n",
       "      <td>RNA Fail/NMS Fail</td>\n",
       "      <td>PoorQ</td>\n",
       "      <td>174</td>\n",
       "    </tr>\n",
       "    <tr>\n",
       "      <td>1</td>\n",
       "      <td>RNA Fail/NMS Pass</td>\n",
       "      <td>Core</td>\n",
       "      <td>10</td>\n",
       "    </tr>\n",
       "    <tr>\n",
       "      <td>2</td>\n",
       "      <td>RNA Fail/NMS Pass</td>\n",
       "      <td>I1</td>\n",
       "      <td>3</td>\n",
       "    </tr>\n",
       "    <tr>\n",
       "      <td>3</td>\n",
       "      <td>RNA Fail/NMS Pass</td>\n",
       "      <td>I2</td>\n",
       "      <td>6</td>\n",
       "    </tr>\n",
       "    <tr>\n",
       "      <td>4</td>\n",
       "      <td>RNA Fail/NMS Pass</td>\n",
       "      <td>I3</td>\n",
       "      <td>2</td>\n",
       "    </tr>\n",
       "    <tr>\n",
       "      <td>5</td>\n",
       "      <td>RNA Fail/NMS Pass</td>\n",
       "      <td>PoorQ</td>\n",
       "      <td>48</td>\n",
       "    </tr>\n",
       "    <tr>\n",
       "      <td>6</td>\n",
       "      <td>RNA Pass/NMS Fail</td>\n",
       "      <td>Core</td>\n",
       "      <td>1</td>\n",
       "    </tr>\n",
       "    <tr>\n",
       "      <td>7</td>\n",
       "      <td>RNA Pass/NMS Fail</td>\n",
       "      <td>I2</td>\n",
       "      <td>1</td>\n",
       "    </tr>\n",
       "    <tr>\n",
       "      <td>8</td>\n",
       "      <td>RNA Pass/NMS Fail</td>\n",
       "      <td>PoorQ</td>\n",
       "      <td>166</td>\n",
       "    </tr>\n",
       "    <tr>\n",
       "      <td>9</td>\n",
       "      <td>RNA Pass/NMS Pass</td>\n",
       "      <td>Core</td>\n",
       "      <td>537</td>\n",
       "    </tr>\n",
       "    <tr>\n",
       "      <td>10</td>\n",
       "      <td>RNA Pass/NMS Pass</td>\n",
       "      <td>I1</td>\n",
       "      <td>256</td>\n",
       "    </tr>\n",
       "    <tr>\n",
       "      <td>11</td>\n",
       "      <td>RNA Pass/NMS Pass</td>\n",
       "      <td>I2</td>\n",
       "      <td>186</td>\n",
       "    </tr>\n",
       "    <tr>\n",
       "      <td>12</td>\n",
       "      <td>RNA Pass/NMS Pass</td>\n",
       "      <td>I3</td>\n",
       "      <td>8</td>\n",
       "    </tr>\n",
       "    <tr>\n",
       "      <td>13</td>\n",
       "      <td>RNA Pass/NMS Pass</td>\n",
       "      <td>PoorQ</td>\n",
       "      <td>91</td>\n",
       "    </tr>\n",
       "  </tbody>\n",
       "</table>\n",
       "</div>"
      ],
      "text/plain": [
       "                Group Tree_call  Count\n",
       "0   RNA Fail/NMS Fail     PoorQ    174\n",
       "1   RNA Fail/NMS Pass      Core     10\n",
       "2   RNA Fail/NMS Pass        I1      3\n",
       "3   RNA Fail/NMS Pass        I2      6\n",
       "4   RNA Fail/NMS Pass        I3      2\n",
       "5   RNA Fail/NMS Pass     PoorQ     48\n",
       "6   RNA Pass/NMS Fail      Core      1\n",
       "7   RNA Pass/NMS Fail        I2      1\n",
       "8   RNA Pass/NMS Fail     PoorQ    166\n",
       "9   RNA Pass/NMS Pass      Core    537\n",
       "10  RNA Pass/NMS Pass        I1    256\n",
       "11  RNA Pass/NMS Pass        I2    186\n",
       "12  RNA Pass/NMS Pass        I3      8\n",
       "13  RNA Pass/NMS Pass     PoorQ     91"
      ]
     },
     "execution_count": 32,
     "metadata": {},
     "output_type": "execute_result"
    }
   ],
   "source": [
    "new"
   ]
  },
  {
   "cell_type": "code",
   "execution_count": 36,
   "metadata": {},
   "outputs": [
    {
     "data": {
      "text/plain": [
       "RNA Pass/NMS Pass    0.357143\n",
       "RNA Fail/NMS Pass    0.357143\n",
       "RNA Pass/NMS Fail    0.214286\n",
       "RNA Fail/NMS Fail    0.071429\n",
       "Name: Group, dtype: float64"
      ]
     },
     "execution_count": 36,
     "metadata": {},
     "output_type": "execute_result"
    }
   ],
   "source": [
    "new.Group.value_counts(normalize=True)"
   ]
  },
  {
   "cell_type": "code",
   "execution_count": 30,
   "metadata": {},
   "outputs": [
    {
     "ename": "ValueError",
     "evalue": "No group keys passed!",
     "output_type": "error",
     "traceback": [
      "\u001b[1;31m---------------------------------------------------------------------------\u001b[0m",
      "\u001b[1;31mValueError\u001b[0m                                Traceback (most recent call last)",
      "\u001b[1;32m<ipython-input-30-c87097c63887>\u001b[0m in \u001b[0;36m<module>\u001b[1;34m\u001b[0m\n\u001b[1;32m----> 1\u001b[1;33m \u001b[0mnew\u001b[0m \u001b[1;33m=\u001b[0m \u001b[0mcount_rn\u001b[0m\u001b[1;33m.\u001b[0m\u001b[0mpivot_table\u001b[0m\u001b[1;33m(\u001b[0m\u001b[1;33m[\u001b[0m\u001b[1;34m\"Group\"\u001b[0m\u001b[1;33m,\u001b[0m \u001b[1;34m\"Tree_call\"\u001b[0m\u001b[1;33m]\u001b[0m\u001b[1;33m)\u001b[0m\u001b[1;33m.\u001b[0m\u001b[0mTree_call\u001b[0m\u001b[1;33m.\u001b[0m\u001b[0magg\u001b[0m\u001b[1;33m(\u001b[0m\u001b[1;34m'count'\u001b[0m\u001b[1;33m)\u001b[0m\u001b[1;33m\u001b[0m\u001b[1;33m\u001b[0m\u001b[0m\n\u001b[0m",
      "\u001b[1;32m~\\Anaconda3\\lib\\site-packages\\pandas\\core\\frame.py\u001b[0m in \u001b[0;36mpivot_table\u001b[1;34m(self, values, index, columns, aggfunc, fill_value, margins, dropna, margins_name, observed)\u001b[0m\n\u001b[0;32m   6072\u001b[0m             \u001b[0mdropna\u001b[0m\u001b[1;33m=\u001b[0m\u001b[0mdropna\u001b[0m\u001b[1;33m,\u001b[0m\u001b[1;33m\u001b[0m\u001b[1;33m\u001b[0m\u001b[0m\n\u001b[0;32m   6073\u001b[0m             \u001b[0mmargins_name\u001b[0m\u001b[1;33m=\u001b[0m\u001b[0mmargins_name\u001b[0m\u001b[1;33m,\u001b[0m\u001b[1;33m\u001b[0m\u001b[1;33m\u001b[0m\u001b[0m\n\u001b[1;32m-> 6074\u001b[1;33m             \u001b[0mobserved\u001b[0m\u001b[1;33m=\u001b[0m\u001b[0mobserved\u001b[0m\u001b[1;33m,\u001b[0m\u001b[1;33m\u001b[0m\u001b[1;33m\u001b[0m\u001b[0m\n\u001b[0m\u001b[0;32m   6075\u001b[0m         )\n\u001b[0;32m   6076\u001b[0m \u001b[1;33m\u001b[0m\u001b[0m\n",
      "\u001b[1;32m~\\Anaconda3\\lib\\site-packages\\pandas\\core\\reshape\\pivot.py\u001b[0m in \u001b[0;36mpivot_table\u001b[1;34m(data, values, index, columns, aggfunc, fill_value, margins, dropna, margins_name, observed)\u001b[0m\n\u001b[0;32m     93\u001b[0m         \u001b[0mvalues\u001b[0m \u001b[1;33m=\u001b[0m \u001b[0mlist\u001b[0m\u001b[1;33m(\u001b[0m\u001b[0mvalues\u001b[0m\u001b[1;33m)\u001b[0m\u001b[1;33m\u001b[0m\u001b[1;33m\u001b[0m\u001b[0m\n\u001b[0;32m     94\u001b[0m \u001b[1;33m\u001b[0m\u001b[0m\n\u001b[1;32m---> 95\u001b[1;33m     \u001b[0mgrouped\u001b[0m \u001b[1;33m=\u001b[0m \u001b[0mdata\u001b[0m\u001b[1;33m.\u001b[0m\u001b[0mgroupby\u001b[0m\u001b[1;33m(\u001b[0m\u001b[0mkeys\u001b[0m\u001b[1;33m,\u001b[0m \u001b[0mobserved\u001b[0m\u001b[1;33m=\u001b[0m\u001b[0mobserved\u001b[0m\u001b[1;33m)\u001b[0m\u001b[1;33m\u001b[0m\u001b[1;33m\u001b[0m\u001b[0m\n\u001b[0m\u001b[0;32m     96\u001b[0m     \u001b[0magged\u001b[0m \u001b[1;33m=\u001b[0m \u001b[0mgrouped\u001b[0m\u001b[1;33m.\u001b[0m\u001b[0magg\u001b[0m\u001b[1;33m(\u001b[0m\u001b[0maggfunc\u001b[0m\u001b[1;33m)\u001b[0m\u001b[1;33m\u001b[0m\u001b[1;33m\u001b[0m\u001b[0m\n\u001b[0;32m     97\u001b[0m     \u001b[1;32mif\u001b[0m \u001b[0mdropna\u001b[0m \u001b[1;32mand\u001b[0m \u001b[0misinstance\u001b[0m\u001b[1;33m(\u001b[0m\u001b[0magged\u001b[0m\u001b[1;33m,\u001b[0m \u001b[0mABCDataFrame\u001b[0m\u001b[1;33m)\u001b[0m \u001b[1;32mand\u001b[0m \u001b[0mlen\u001b[0m\u001b[1;33m(\u001b[0m\u001b[0magged\u001b[0m\u001b[1;33m.\u001b[0m\u001b[0mcolumns\u001b[0m\u001b[1;33m)\u001b[0m\u001b[1;33m:\u001b[0m\u001b[1;33m\u001b[0m\u001b[1;33m\u001b[0m\u001b[0m\n",
      "\u001b[1;32m~\\Anaconda3\\lib\\site-packages\\pandas\\core\\generic.py\u001b[0m in \u001b[0;36mgroupby\u001b[1;34m(self, by, axis, level, as_index, sort, group_keys, squeeze, observed, **kwargs)\u001b[0m\n\u001b[0;32m   7892\u001b[0m             \u001b[0msqueeze\u001b[0m\u001b[1;33m=\u001b[0m\u001b[0msqueeze\u001b[0m\u001b[1;33m,\u001b[0m\u001b[1;33m\u001b[0m\u001b[1;33m\u001b[0m\u001b[0m\n\u001b[0;32m   7893\u001b[0m             \u001b[0mobserved\u001b[0m\u001b[1;33m=\u001b[0m\u001b[0mobserved\u001b[0m\u001b[1;33m,\u001b[0m\u001b[1;33m\u001b[0m\u001b[1;33m\u001b[0m\u001b[0m\n\u001b[1;32m-> 7894\u001b[1;33m             \u001b[1;33m**\u001b[0m\u001b[0mkwargs\u001b[0m\u001b[1;33m\u001b[0m\u001b[1;33m\u001b[0m\u001b[0m\n\u001b[0m\u001b[0;32m   7895\u001b[0m         )\n\u001b[0;32m   7896\u001b[0m \u001b[1;33m\u001b[0m\u001b[0m\n",
      "\u001b[1;32m~\\Anaconda3\\lib\\site-packages\\pandas\\core\\groupby\\groupby.py\u001b[0m in \u001b[0;36mgroupby\u001b[1;34m(obj, by, **kwds)\u001b[0m\n\u001b[0;32m   2520\u001b[0m         \u001b[1;32mraise\u001b[0m \u001b[0mTypeError\u001b[0m\u001b[1;33m(\u001b[0m\u001b[1;34m\"invalid type: {}\"\u001b[0m\u001b[1;33m.\u001b[0m\u001b[0mformat\u001b[0m\u001b[1;33m(\u001b[0m\u001b[0mobj\u001b[0m\u001b[1;33m)\u001b[0m\u001b[1;33m)\u001b[0m\u001b[1;33m\u001b[0m\u001b[1;33m\u001b[0m\u001b[0m\n\u001b[0;32m   2521\u001b[0m \u001b[1;33m\u001b[0m\u001b[0m\n\u001b[1;32m-> 2522\u001b[1;33m     \u001b[1;32mreturn\u001b[0m \u001b[0mklass\u001b[0m\u001b[1;33m(\u001b[0m\u001b[0mobj\u001b[0m\u001b[1;33m,\u001b[0m \u001b[0mby\u001b[0m\u001b[1;33m,\u001b[0m \u001b[1;33m**\u001b[0m\u001b[0mkwds\u001b[0m\u001b[1;33m)\u001b[0m\u001b[1;33m\u001b[0m\u001b[1;33m\u001b[0m\u001b[0m\n\u001b[0m",
      "\u001b[1;32m~\\Anaconda3\\lib\\site-packages\\pandas\\core\\groupby\\groupby.py\u001b[0m in \u001b[0;36m__init__\u001b[1;34m(self, obj, keys, axis, level, grouper, exclusions, selection, as_index, sort, group_keys, squeeze, observed, **kwargs)\u001b[0m\n\u001b[0;32m    389\u001b[0m                 \u001b[0msort\u001b[0m\u001b[1;33m=\u001b[0m\u001b[0msort\u001b[0m\u001b[1;33m,\u001b[0m\u001b[1;33m\u001b[0m\u001b[1;33m\u001b[0m\u001b[0m\n\u001b[0;32m    390\u001b[0m                 \u001b[0mobserved\u001b[0m\u001b[1;33m=\u001b[0m\u001b[0mobserved\u001b[0m\u001b[1;33m,\u001b[0m\u001b[1;33m\u001b[0m\u001b[1;33m\u001b[0m\u001b[0m\n\u001b[1;32m--> 391\u001b[1;33m                 \u001b[0mmutated\u001b[0m\u001b[1;33m=\u001b[0m\u001b[0mself\u001b[0m\u001b[1;33m.\u001b[0m\u001b[0mmutated\u001b[0m\u001b[1;33m,\u001b[0m\u001b[1;33m\u001b[0m\u001b[1;33m\u001b[0m\u001b[0m\n\u001b[0m\u001b[0;32m    392\u001b[0m             )\n\u001b[0;32m    393\u001b[0m \u001b[1;33m\u001b[0m\u001b[0m\n",
      "\u001b[1;32m~\\Anaconda3\\lib\\site-packages\\pandas\\core\\groupby\\grouper.py\u001b[0m in \u001b[0;36m_get_grouper\u001b[1;34m(obj, key, axis, level, sort, observed, mutated, validate)\u001b[0m\n\u001b[0;32m    657\u001b[0m \u001b[1;33m\u001b[0m\u001b[0m\n\u001b[0;32m    658\u001b[0m     \u001b[1;32mif\u001b[0m \u001b[0mlen\u001b[0m\u001b[1;33m(\u001b[0m\u001b[0mgroupings\u001b[0m\u001b[1;33m)\u001b[0m \u001b[1;33m==\u001b[0m \u001b[1;36m0\u001b[0m \u001b[1;32mand\u001b[0m \u001b[0mlen\u001b[0m\u001b[1;33m(\u001b[0m\u001b[0mobj\u001b[0m\u001b[1;33m)\u001b[0m\u001b[1;33m:\u001b[0m\u001b[1;33m\u001b[0m\u001b[1;33m\u001b[0m\u001b[0m\n\u001b[1;32m--> 659\u001b[1;33m         \u001b[1;32mraise\u001b[0m \u001b[0mValueError\u001b[0m\u001b[1;33m(\u001b[0m\u001b[1;34m\"No group keys passed!\"\u001b[0m\u001b[1;33m)\u001b[0m\u001b[1;33m\u001b[0m\u001b[1;33m\u001b[0m\u001b[0m\n\u001b[0m\u001b[0;32m    660\u001b[0m     \u001b[1;32melif\u001b[0m \u001b[0mlen\u001b[0m\u001b[1;33m(\u001b[0m\u001b[0mgroupings\u001b[0m\u001b[1;33m)\u001b[0m \u001b[1;33m==\u001b[0m \u001b[1;36m0\u001b[0m\u001b[1;33m:\u001b[0m\u001b[1;33m\u001b[0m\u001b[1;33m\u001b[0m\u001b[0m\n\u001b[0;32m    661\u001b[0m         \u001b[0mgroupings\u001b[0m\u001b[1;33m.\u001b[0m\u001b[0mappend\u001b[0m\u001b[1;33m(\u001b[0m\u001b[0mGrouping\u001b[0m\u001b[1;33m(\u001b[0m\u001b[0mIndex\u001b[0m\u001b[1;33m(\u001b[0m\u001b[1;33m[\u001b[0m\u001b[1;33m]\u001b[0m\u001b[1;33m,\u001b[0m \u001b[0mdtype\u001b[0m\u001b[1;33m=\u001b[0m\u001b[1;34m\"int\"\u001b[0m\u001b[1;33m)\u001b[0m\u001b[1;33m,\u001b[0m \u001b[0mnp\u001b[0m\u001b[1;33m.\u001b[0m\u001b[0marray\u001b[0m\u001b[1;33m(\u001b[0m\u001b[1;33m[\u001b[0m\u001b[1;33m]\u001b[0m\u001b[1;33m,\u001b[0m \u001b[0mdtype\u001b[0m\u001b[1;33m=\u001b[0m\u001b[0mnp\u001b[0m\u001b[1;33m.\u001b[0m\u001b[0mintp\u001b[0m\u001b[1;33m)\u001b[0m\u001b[1;33m)\u001b[0m\u001b[1;33m)\u001b[0m\u001b[1;33m\u001b[0m\u001b[1;33m\u001b[0m\u001b[0m\n",
      "\u001b[1;31mValueError\u001b[0m: No group keys passed!"
     ]
    }
   ],
   "source": [
    "new = count_rn.pivot_table([\"Group\", \"Tree_call\"]).Tree_call.agg('count')\n"
   ]
  },
  {
   "cell_type": "code",
   "execution_count": 24,
   "metadata": {},
   "outputs": [
    {
     "data": {
      "text/plain": [
       "Group              Tree_call\n",
       "RNA Fail/NMS Pass  Core         10\n",
       "                   I1            3\n",
       "                   I2            6\n",
       "                   I3            2\n",
       "                   PoorQ        48\n",
       "Name: Tree_call, dtype: int64"
      ]
     },
     "execution_count": 24,
     "metadata": {},
     "output_type": "execute_result"
    }
   ],
   "source": [
    "rfail_npass.groupby([\"Group\", \"Tree_call\"]).Tree_call.agg('count')"
   ]
  },
  {
   "cell_type": "code",
   "execution_count": 23,
   "metadata": {},
   "outputs": [
    {
     "data": {
      "text/plain": [
       "Group              Tree_call\n",
       "RNA Fail/NMS Fail  PoorQ        174\n",
       "Name: Tree_call, dtype: int64"
      ]
     },
     "execution_count": 23,
     "metadata": {},
     "output_type": "execute_result"
    }
   ],
   "source": [
    "rfail_nfail.groupby([\"Group\", \"Tree_call\"]).Tree_call.agg('count')"
   ]
  },
  {
   "cell_type": "code",
   "execution_count": null,
   "metadata": {},
   "outputs": [],
   "source": [
    "rfail_nfail.Tree_call.value_counts(normalize=True)"
   ]
  },
  {
   "cell_type": "code",
   "execution_count": null,
   "metadata": {},
   "outputs": [],
   "source": [
    "count_rn"
   ]
  },
  {
   "cell_type": "code",
   "execution_count": null,
   "metadata": {},
   "outputs": [],
   "source": [
    "count_rn_piv = count_rn.pivot_table()"
   ]
  },
  {
   "cell_type": "code",
   "execution_count": null,
   "metadata": {},
   "outputs": [],
   "source": [
    "count_rn_group = count_rn.[\"Group\", \"Tree_call\"])\n",
    "count_rn_group"
   ]
  },
  {
   "cell_type": "code",
   "execution_count": null,
   "metadata": {},
   "outputs": [],
   "source": [
    "rfail_nfail.Tree_call.value_counts(normalize=True) #rfail_nfail[\"Tree_call\"].value_counts() / rfail_nfail[\"Tree_call\"].count()\n",
    "rfail_npass.Tree_call.value_counts(normalize=True)\n",
    "rpass_nfail.Tree_call.value_counts(normalize=True)\n",
    "rpass_npass.Tree_call.value_counts(normalize=True)"
   ]
  },
  {
   "cell_type": "code",
   "execution_count": null,
   "metadata": {},
   "outputs": [],
   "source": []
  },
  {
   "cell_type": "code",
   "execution_count": null,
   "metadata": {},
   "outputs": [],
   "source": [
    "count_rn[\"Group\"].value_counts() / count_rn[\"Group\"].count()"
   ]
  },
  {
   "cell_type": "code",
   "execution_count": null,
   "metadata": {},
   "outputs": [],
   "source": []
  },
  {
   "cell_type": "code",
   "execution_count": null,
   "metadata": {},
   "outputs": [],
   "source": []
  },
  {
   "cell_type": "markdown",
   "metadata": {},
   "source": [
    "##### Filter project code"
   ]
  },
  {
   "cell_type": "code",
   "execution_count": null,
   "metadata": {},
   "outputs": [],
   "source": [
    "#shinyh = filter_df(shinyh, \"NMS Pass/Fail\", True)\n",
    "#shinyh = filter_df(shinyh, \"RNA amp Pass/Fail\", \"Fail\")"
   ]
  },
  {
   "cell_type": "markdown",
   "metadata": {},
   "source": [
    "##### Counts"
   ]
  },
  {
   "cell_type": "code",
   "execution_count": null,
   "metadata": {},
   "outputs": [],
   "source": [
    "aibs = filter_df(shinyh, \"collaborator_label\", \"AIBS\")\n",
    "pg = filter_df(shinyh, \"collaborator_label\", \"Gabor\")\n",
    "ph = filter_df(shinyh, \"collaborator_label\", \"Mansvelder\")\n",
    "print(f\"Human total count: {shinyh.sample_id.count()}\")\n",
    "print(f\"AIBS count: {aibs.sample_id.count()}\")\n",
    "print(f\"Gabor count: {pg.sample_id.count()}\")\n",
    "print(f\"Mansvelder count: {ph.sample_id.count()}\")"
   ]
  },
  {
   "cell_type": "code",
   "execution_count": null,
   "metadata": {},
   "outputs": [],
   "source": []
  },
  {
   "cell_type": "code",
   "execution_count": null,
   "metadata": {},
   "outputs": [],
   "source": []
  }
 ],
 "metadata": {
  "kernelspec": {
   "display_name": "Python 3",
   "language": "python",
   "name": "python3"
  },
  "language_info": {
   "codemirror_mode": {
    "name": "ipython",
    "version": 3
   },
   "file_extension": ".py",
   "mimetype": "text/x-python",
   "name": "python",
   "nbconvert_exporter": "python",
   "pygments_lexer": "ipython3",
   "version": "3.7.4"
  }
 },
 "nbformat": 4,
 "nbformat_minor": 2
}
