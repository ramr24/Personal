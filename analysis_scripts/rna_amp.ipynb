{
 "cells": [
  {
   "cell_type": "markdown",
   "metadata": {},
   "source": [
    "##### Imports"
   ]
  },
  {
   "cell_type": "code",
   "execution_count": 1,
   "metadata": {},
   "outputs": [],
   "source": [
    "import pandas as pd\n",
    "import numpy as np\n",
    "import csv\n",
    "import logging\n",
    "import os\n",
    "\n",
    "from functions.temp_funcs import read_file, merge_dataframes, drop_cols, drop_nans, filter_date_range, \\\n",
    "filter_df, create_container_col, create_cond_df\n",
    "\n",
    "import seaborn as sns\n",
    "import matplotlib.pyplot as plt\n",
    "sns.set(context = \"notebook\", style = \"white\", font=\"verdana\") # font_scale = 1.35)"
   ]
  },
  {
   "cell_type": "code",
   "execution_count": 2,
   "metadata": {},
   "outputs": [],
   "source": [
    "pd.set_option(\"display.max_colwidth\",150) #Expands the number of characters shown in the columns\n",
    "pd.set_option('display.max_columns', None)"
   ]
  },
  {
   "cell_type": "markdown",
   "metadata": {},
   "source": [
    "##### Paths"
   ]
  },
  {
   "cell_type": "code",
   "execution_count": 3,
   "metadata": {},
   "outputs": [],
   "source": [
    "path = \"C:/Users/kumar/Documents/Github/analysis_projects/analysis_scripts/\"\n",
    "csv_path = os.path.join(path, \"csv/\")\n",
    "excel_path = os.path.join(path, \"excel/\")\n",
    "plot_path = os.path.join(path, \"plot/\")"
   ]
  },
  {
   "cell_type": "code",
   "execution_count": 4,
   "metadata": {},
   "outputs": [],
   "source": [
    "path_shiny_mouse = os.path.join(csv_path, \"current_mouse_shiny.csv\")\n",
    "path_shiny_human = os.path.join(csv_path, \"current_human_shiny.csv\")"
   ]
  },
  {
   "cell_type": "markdown",
   "metadata": {},
   "source": [
    "##### Project Goal/Info"
   ]
  },
  {
   "cell_type": "code",
   "execution_count": 5,
   "metadata": {},
   "outputs": [
    {
     "data": {
      "text/plain": [
       "\"\\nAs of now a cell must have an RNA-Amp Pass and NMS pass to move on for a reconstruction.\\nThere are a percentage of cells that fail at RNA-Amp yet have NMS pass - these need to evaluated to \\ndetermine quality and numbers. \\n\\nItems to sort:\\nProject code (hIVSCC-MET, hIVSCC-METc, hIVSCC-METx, mIVSCC-MET)\\n\\nVariables:\\nNMS pass or fail\\nNMS score\\nRNA_amp pass or fail\\n%>400 bp --- cDNA quality\\nConcentration pg/ul BA  ----Can't find it?\\npg yield BA----amplified content same as cDNA quantity (picogreen yield)\\n\""
      ]
     },
     "execution_count": 5,
     "metadata": {},
     "output_type": "execute_result"
    }
   ],
   "source": [
    "\"\"\"\n",
    "As of now a cell must have an RNA-Amp Pass and NMS pass to move on for a reconstruction.\n",
    "There are a percentage of cells that fail at RNA-Amp yet have NMS pass - these need to evaluated to \n",
    "determine quality and numbers. \n",
    "\n",
    "Items to sort:\n",
    "Project code (hIVSCC-MET, hIVSCC-METc, hIVSCC-METx, mIVSCC-MET)\n",
    "\n",
    "Variables:\n",
    "NMS pass or fail\n",
    "NMS score\n",
    "RNA_amp pass or fail\n",
    "%>400 bp --- cDNA quality\n",
    "Concentration pg/ul BA  ----Can't find it?\n",
    "pg yield BA----amplified content same as cDNA quantity (picogreen yield)\n",
    "\"\"\""
   ]
  },
  {
   "cell_type": "code",
   "execution_count": 6,
   "metadata": {},
   "outputs": [
    {
     "data": {
      "text/plain": [
       "'\\nshiny columns:\\n\\n[\"cell_specimen_project\", \"Norm_Marker_Sum.0.4_label\", \"marker_sum_norm_label\",\\n\"rna_amplification_pass_fail\", \"percent_cdna_longer_than_400bp\", \"NOT SURE\", \"amplified_quantity_ng\"]\\n\\n'"
      ]
     },
     "execution_count": 6,
     "metadata": {},
     "output_type": "execute_result"
    }
   ],
   "source": [
    "\"\"\"\n",
    "shiny columns:\n",
    "\n",
    "[\"cell_specimen_project\", \"Norm_Marker_Sum.0.4_label\", \"marker_sum_norm_label\",\n",
    "\"rna_amplification_pass_fail\", \"percent_cdna_longer_than_400bp\", \"amplified_quantity_ng\"]\n",
    "\n",
    "\"\"\""
   ]
  },
  {
   "cell_type": "markdown",
   "metadata": {},
   "source": [
    "##### Start Code"
   ]
  },
  {
   "cell_type": "code",
   "execution_count": 18,
   "metadata": {},
   "outputs": [
    {
     "name": "stderr",
     "output_type": "stream",
     "text": [
      "INFO:functions.temp_funcs:Read file in as a pandas dataframe\n"
     ]
    }
   ],
   "source": [
    "fields_shiny_mouse = [\"cell_name_label\", \"cell_specimen_project_label\", \"Norm_Marker_Sum.0.4_label\",\n",
    "                      \"marker_sum_norm_label\", \"rna_amp_pass_fail_label\"] \n",
    "                #\"percent_cdna_longer_than_400bp\", \"amplified_quantity_ng\"]\n",
    "shiny_mouse = read_file(path_shiny_mouse, fields_shiny_mouse)"
   ]
  },
  {
   "cell_type": "code",
   "execution_count": 19,
   "metadata": {},
   "outputs": [
    {
     "name": "stderr",
     "output_type": "stream",
     "text": [
      "INFO:functions.temp_funcs:Read file in as a pandas dataframe\n"
     ]
    }
   ],
   "source": [
    "fields_shiny_human = [\"cell_name_label\",\"cell_specimen_project_label\", \"Norm_Marker_Sum.0.4_label\",\n",
    "                      \"marker_sum_norm_label\"] \n",
    "shiny_human = read_file(path_shiny_human, fields_shiny_human)"
   ]
  },
  {
   "cell_type": "code",
   "execution_count": 20,
   "metadata": {},
   "outputs": [
    {
     "data": {
      "text/html": [
       "<div>\n",
       "<style scoped>\n",
       "    .dataframe tbody tr th:only-of-type {\n",
       "        vertical-align: middle;\n",
       "    }\n",
       "\n",
       "    .dataframe tbody tr th {\n",
       "        vertical-align: top;\n",
       "    }\n",
       "\n",
       "    .dataframe thead th {\n",
       "        text-align: right;\n",
       "    }\n",
       "</style>\n",
       "<table border=\"1\" class=\"dataframe\">\n",
       "  <thead>\n",
       "    <tr style=\"text-align: right;\">\n",
       "      <th></th>\n",
       "      <th>cell_name_label</th>\n",
       "      <th>cell_specimen_project_label</th>\n",
       "      <th>rna_amp_pass_fail_label</th>\n",
       "      <th>marker_sum_norm_label</th>\n",
       "      <th>Norm_Marker_Sum.0.4_label</th>\n",
       "    </tr>\n",
       "  </thead>\n",
       "  <tbody>\n",
       "    <tr>\n",
       "      <td>0</td>\n",
       "      <td>Vipr2-IRES2-Cre;Slc32a1-T2A-FlpO;Ai65-338917.03.01.02</td>\n",
       "      <td>T301x</td>\n",
       "      <td>Pass</td>\n",
       "      <td>0.380674</td>\n",
       "      <td>False</td>\n",
       "    </tr>\n",
       "    <tr>\n",
       "      <td>1</td>\n",
       "      <td>Crh-IRES-Cre_ZJH;Sst-IRES-FlpO;Ai65-362357.04.01.02</td>\n",
       "      <td>mIVSCC-MET</td>\n",
       "      <td>Fail</td>\n",
       "      <td>0.717450</td>\n",
       "      <td>True</td>\n",
       "    </tr>\n",
       "    <tr>\n",
       "      <td>2</td>\n",
       "      <td>Slc32a1-IRES-Cre;Ai14-321584.04.01.01</td>\n",
       "      <td>T301x</td>\n",
       "      <td>Pass</td>\n",
       "      <td>0.506820</td>\n",
       "      <td>True</td>\n",
       "    </tr>\n",
       "    <tr>\n",
       "      <td>3</td>\n",
       "      <td>Slc32a1-IRES-Cre;Ai14-326815.04.02.05</td>\n",
       "      <td>T301x</td>\n",
       "      <td>Pass</td>\n",
       "      <td>0.904325</td>\n",
       "      <td>True</td>\n",
       "    </tr>\n",
       "    <tr>\n",
       "      <td>4</td>\n",
       "      <td>Sncg-IRES2-FlpO-neo;Ai65F-487894.09.01.01</td>\n",
       "      <td>mIVSCC-METx</td>\n",
       "      <td>Pass</td>\n",
       "      <td>0.853235</td>\n",
       "      <td>True</td>\n",
       "    </tr>\n",
       "    <tr>\n",
       "      <td>...</td>\n",
       "      <td>...</td>\n",
       "      <td>...</td>\n",
       "      <td>...</td>\n",
       "      <td>...</td>\n",
       "      <td>...</td>\n",
       "    </tr>\n",
       "    <tr>\n",
       "      <td>12284</td>\n",
       "      <td>ZZ_Missing</td>\n",
       "      <td>ZZ_Missing</td>\n",
       "      <td>ZZ_Missing</td>\n",
       "      <td>1.206065</td>\n",
       "      <td>True</td>\n",
       "    </tr>\n",
       "    <tr>\n",
       "      <td>12285</td>\n",
       "      <td>ZZ_Missing</td>\n",
       "      <td>ZZ_Missing</td>\n",
       "      <td>ZZ_Missing</td>\n",
       "      <td>0.895267</td>\n",
       "      <td>True</td>\n",
       "    </tr>\n",
       "    <tr>\n",
       "      <td>12286</td>\n",
       "      <td>ZZ_Missing</td>\n",
       "      <td>ZZ_Missing</td>\n",
       "      <td>ZZ_Missing</td>\n",
       "      <td>1.065042</td>\n",
       "      <td>True</td>\n",
       "    </tr>\n",
       "    <tr>\n",
       "      <td>12287</td>\n",
       "      <td>ZZ_Missing</td>\n",
       "      <td>ZZ_Missing</td>\n",
       "      <td>ZZ_Missing</td>\n",
       "      <td>0.883404</td>\n",
       "      <td>True</td>\n",
       "    </tr>\n",
       "    <tr>\n",
       "      <td>12288</td>\n",
       "      <td>ZZ_Missing</td>\n",
       "      <td>ZZ_Missing</td>\n",
       "      <td>ZZ_Missing</td>\n",
       "      <td>1.001193</td>\n",
       "      <td>True</td>\n",
       "    </tr>\n",
       "  </tbody>\n",
       "</table>\n",
       "<p>12289 rows × 5 columns</p>\n",
       "</div>"
      ],
      "text/plain": [
       "                                             cell_name_label  \\\n",
       "0      Vipr2-IRES2-Cre;Slc32a1-T2A-FlpO;Ai65-338917.03.01.02   \n",
       "1        Crh-IRES-Cre_ZJH;Sst-IRES-FlpO;Ai65-362357.04.01.02   \n",
       "2                      Slc32a1-IRES-Cre;Ai14-321584.04.01.01   \n",
       "3                      Slc32a1-IRES-Cre;Ai14-326815.04.02.05   \n",
       "4                  Sncg-IRES2-FlpO-neo;Ai65F-487894.09.01.01   \n",
       "...                                                      ...   \n",
       "12284                                             ZZ_Missing   \n",
       "12285                                             ZZ_Missing   \n",
       "12286                                             ZZ_Missing   \n",
       "12287                                             ZZ_Missing   \n",
       "12288                                             ZZ_Missing   \n",
       "\n",
       "      cell_specimen_project_label rna_amp_pass_fail_label  \\\n",
       "0                           T301x                    Pass   \n",
       "1                      mIVSCC-MET                    Fail   \n",
       "2                           T301x                    Pass   \n",
       "3                           T301x                    Pass   \n",
       "4                     mIVSCC-METx                    Pass   \n",
       "...                           ...                     ...   \n",
       "12284                  ZZ_Missing              ZZ_Missing   \n",
       "12285                  ZZ_Missing              ZZ_Missing   \n",
       "12286                  ZZ_Missing              ZZ_Missing   \n",
       "12287                  ZZ_Missing              ZZ_Missing   \n",
       "12288                  ZZ_Missing              ZZ_Missing   \n",
       "\n",
       "       marker_sum_norm_label  Norm_Marker_Sum.0.4_label  \n",
       "0                   0.380674                      False  \n",
       "1                   0.717450                       True  \n",
       "2                   0.506820                       True  \n",
       "3                   0.904325                       True  \n",
       "4                   0.853235                       True  \n",
       "...                      ...                        ...  \n",
       "12284               1.206065                       True  \n",
       "12285               0.895267                       True  \n",
       "12286               1.065042                       True  \n",
       "12287               0.883404                       True  \n",
       "12288               1.001193                       True  \n",
       "\n",
       "[12289 rows x 5 columns]"
      ]
     },
     "execution_count": 20,
     "metadata": {},
     "output_type": "execute_result"
    }
   ],
   "source": [
    "shiny_mouse"
   ]
  },
  {
   "cell_type": "code",
   "execution_count": 21,
   "metadata": {},
   "outputs": [
    {
     "data": {
      "text/html": [
       "<div>\n",
       "<style scoped>\n",
       "    .dataframe tbody tr th:only-of-type {\n",
       "        vertical-align: middle;\n",
       "    }\n",
       "\n",
       "    .dataframe tbody tr th {\n",
       "        vertical-align: top;\n",
       "    }\n",
       "\n",
       "    .dataframe thead th {\n",
       "        text-align: right;\n",
       "    }\n",
       "</style>\n",
       "<table border=\"1\" class=\"dataframe\">\n",
       "  <thead>\n",
       "    <tr style=\"text-align: right;\">\n",
       "      <th></th>\n",
       "      <th>cell_name_label</th>\n",
       "      <th>cell_specimen_project_label</th>\n",
       "      <th>marker_sum_norm_label</th>\n",
       "      <th>Norm_Marker_Sum.0.4_label</th>\n",
       "    </tr>\n",
       "  </thead>\n",
       "  <tbody>\n",
       "    <tr>\n",
       "      <td>0</td>\n",
       "      <td>H19.06.351.11.16.01.01</td>\n",
       "      <td>hIVSCC-MET</td>\n",
       "      <td>1.303453</td>\n",
       "      <td>True</td>\n",
       "    </tr>\n",
       "    <tr>\n",
       "      <td>1</td>\n",
       "      <td>H19.06.351.11.16.01.03</td>\n",
       "      <td>hIVSCC-MET</td>\n",
       "      <td>1.182129</td>\n",
       "      <td>True</td>\n",
       "    </tr>\n",
       "    <tr>\n",
       "      <td>2</td>\n",
       "      <td>H17.03.016.11.16.02</td>\n",
       "      <td>hIVSCC-MET</td>\n",
       "      <td>1.047215</td>\n",
       "      <td>True</td>\n",
       "    </tr>\n",
       "    <tr>\n",
       "      <td>3</td>\n",
       "      <td>H19.06.351.11.16.02.06</td>\n",
       "      <td>hIVSCC-MET</td>\n",
       "      <td>0.945765</td>\n",
       "      <td>True</td>\n",
       "    </tr>\n",
       "    <tr>\n",
       "      <td>4</td>\n",
       "      <td>H17.03.016.11.15.07</td>\n",
       "      <td>hIVSCC-MET</td>\n",
       "      <td>0.777364</td>\n",
       "      <td>True</td>\n",
       "    </tr>\n",
       "    <tr>\n",
       "      <td>...</td>\n",
       "      <td>...</td>\n",
       "      <td>...</td>\n",
       "      <td>...</td>\n",
       "      <td>...</td>\n",
       "    </tr>\n",
       "    <tr>\n",
       "      <td>3932</td>\n",
       "      <td>H200.1023.CX.09.013.519</td>\n",
       "      <td>ZZ_Missing</td>\n",
       "      <td>1.121556</td>\n",
       "      <td>True</td>\n",
       "    </tr>\n",
       "    <tr>\n",
       "      <td>3933</td>\n",
       "      <td>H200.1023.CX.09.010.364</td>\n",
       "      <td>ZZ_Missing</td>\n",
       "      <td>0.845011</td>\n",
       "      <td>True</td>\n",
       "    </tr>\n",
       "    <tr>\n",
       "      <td>3934</td>\n",
       "      <td>H200.1030.CX10.03.741</td>\n",
       "      <td>ZZ_Missing</td>\n",
       "      <td>0.721089</td>\n",
       "      <td>True</td>\n",
       "    </tr>\n",
       "    <tr>\n",
       "      <td>3935</td>\n",
       "      <td>H200.1030.CX10.03.761</td>\n",
       "      <td>ZZ_Missing</td>\n",
       "      <td>0.763140</td>\n",
       "      <td>True</td>\n",
       "    </tr>\n",
       "    <tr>\n",
       "      <td>3936</td>\n",
       "      <td>H200.1030.CX10.04.655</td>\n",
       "      <td>ZZ_Missing</td>\n",
       "      <td>0.881369</td>\n",
       "      <td>True</td>\n",
       "    </tr>\n",
       "  </tbody>\n",
       "</table>\n",
       "<p>3937 rows × 4 columns</p>\n",
       "</div>"
      ],
      "text/plain": [
       "              cell_name_label cell_specimen_project_label  \\\n",
       "0      H19.06.351.11.16.01.01                  hIVSCC-MET   \n",
       "1      H19.06.351.11.16.01.03                  hIVSCC-MET   \n",
       "2         H17.03.016.11.16.02                  hIVSCC-MET   \n",
       "3      H19.06.351.11.16.02.06                  hIVSCC-MET   \n",
       "4         H17.03.016.11.15.07                  hIVSCC-MET   \n",
       "...                       ...                         ...   \n",
       "3932  H200.1023.CX.09.013.519                  ZZ_Missing   \n",
       "3933  H200.1023.CX.09.010.364                  ZZ_Missing   \n",
       "3934    H200.1030.CX10.03.741                  ZZ_Missing   \n",
       "3935    H200.1030.CX10.03.761                  ZZ_Missing   \n",
       "3936    H200.1030.CX10.04.655                  ZZ_Missing   \n",
       "\n",
       "      marker_sum_norm_label  Norm_Marker_Sum.0.4_label  \n",
       "0                  1.303453                       True  \n",
       "1                  1.182129                       True  \n",
       "2                  1.047215                       True  \n",
       "3                  0.945765                       True  \n",
       "4                  0.777364                       True  \n",
       "...                     ...                        ...  \n",
       "3932               1.121556                       True  \n",
       "3933               0.845011                       True  \n",
       "3934               0.721089                       True  \n",
       "3935               0.763140                       True  \n",
       "3936               0.881369                       True  \n",
       "\n",
       "[3937 rows x 4 columns]"
      ]
     },
     "execution_count": 21,
     "metadata": {},
     "output_type": "execute_result"
    }
   ],
   "source": [
    "shiny_human"
   ]
  },
  {
   "cell_type": "code",
   "execution_count": null,
   "metadata": {},
   "outputs": [],
   "source": []
  },
  {
   "cell_type": "code",
   "execution_count": null,
   "metadata": {},
   "outputs": [],
   "source": []
  },
  {
   "cell_type": "code",
   "execution_count": null,
   "metadata": {},
   "outputs": [],
   "source": [
    "fields_shiny = [\"cell_specimen_project\", \"Norm_Marker_Sum.0.4_label\", \"marker_sum_norm_label\",\n",
    "                \"rna_amplification_pass_fail\", \"percent_cdna_longer_than_400bp\", \"amplified_quantity_ng\"]\n",
    "shiny = read_file(path_shiny, fields_shiny)"
   ]
  },
  {
   "cell_type": "code",
   "execution_count": null,
   "metadata": {},
   "outputs": [],
   "source": [
    "shiny[\"cell_specimen_project\"].unique() #10674 rows"
   ]
  },
  {
   "cell_type": "code",
   "execution_count": null,
   "metadata": {},
   "outputs": [],
   "source": [
    "shiny.dropna(subset=[\"cell_specimen_project\"],inplace=True) #10669 rows"
   ]
  },
  {
   "cell_type": "markdown",
   "metadata": {},
   "source": [
    "##### Filter project code"
   ]
  },
  {
   "cell_type": "code",
   "execution_count": null,
   "metadata": {},
   "outputs": [],
   "source": [
    "project_list = [\"hIVSCC-MET\", \"hIVSCC-METc\", \"hIVSCC-METx\", \"mIVSCC-MET\"]\n",
    "fill_project_shiny = create_cond_df(shiny, \"cell_specimen_project\", project_list) #8623 rows"
   ]
  },
  {
   "cell_type": "code",
   "execution_count": null,
   "metadata": {},
   "outputs": [],
   "source": [
    "fill_project_shiny[\"cell_specimen_project\"].unique()"
   ]
  },
  {
   "cell_type": "markdown",
   "metadata": {},
   "source": [
    "##### Filter RNA Amp pass_fail"
   ]
  },
  {
   "cell_type": "code",
   "execution_count": null,
   "metadata": {},
   "outputs": [],
   "source": [
    "fill_project_shiny[\"rna_amplification_pass_fail\"].unique()"
   ]
  },
  {
   "cell_type": "code",
   "execution_count": null,
   "metadata": {},
   "outputs": [],
   "source": [
    "fill_project_shiny[\"Norm_Marker_Sum.0.4_label\"].unique()"
   ]
  },
  {
   "cell_type": "code",
   "execution_count": null,
   "metadata": {},
   "outputs": [],
   "source": [
    "fail_rna = filter_df(fill_project_shiny, \"rna_amplification_pass_fail\", \"Fail\") #1401 rows"
   ]
  },
  {
   "cell_type": "markdown",
   "metadata": {},
   "source": [
    "##### Filter NMS True False if greater than 0.4"
   ]
  },
  {
   "cell_type": "code",
   "execution_count": null,
   "metadata": {},
   "outputs": [],
   "source": [
    "true_nms_fail_rna = filter_df(fail_rna, \"Norm_Marker_Sum.0.4_label\", True) #615 rows"
   ]
  },
  {
   "cell_type": "code",
   "execution_count": null,
   "metadata": {},
   "outputs": [],
   "source": []
  },
  {
   "cell_type": "code",
   "execution_count": null,
   "metadata": {},
   "outputs": [],
   "source": []
  },
  {
   "cell_type": "code",
   "execution_count": null,
   "metadata": {},
   "outputs": [],
   "source": []
  },
  {
   "cell_type": "code",
   "execution_count": null,
   "metadata": {},
   "outputs": [],
   "source": []
  },
  {
   "cell_type": "code",
   "execution_count": null,
   "metadata": {},
   "outputs": [],
   "source": []
  },
  {
   "cell_type": "code",
   "execution_count": null,
   "metadata": {},
   "outputs": [],
   "source": []
  },
  {
   "cell_type": "code",
   "execution_count": null,
   "metadata": {},
   "outputs": [],
   "source": []
  },
  {
   "cell_type": "code",
   "execution_count": null,
   "metadata": {},
   "outputs": [],
   "source": []
  },
  {
   "cell_type": "markdown",
   "metadata": {},
   "source": [
    "##### Makes dfs to csvs"
   ]
  },
  {
   "cell_type": "code",
   "execution_count": null,
   "metadata": {},
   "outputs": [],
   "source": [
    "#shiny.to_csv(csv_path + \"set_rna_amp.csv\")\n",
    "#true_nms_fail_rna.to_csv(csv_path + \"rna_amp.csv\")"
   ]
  },
  {
   "cell_type": "code",
   "execution_count": null,
   "metadata": {},
   "outputs": [],
   "source": []
  },
  {
   "cell_type": "code",
   "execution_count": null,
   "metadata": {},
   "outputs": [],
   "source": []
  }
 ],
 "metadata": {
  "kernelspec": {
   "display_name": "Python 3",
   "language": "python",
   "name": "python3"
  },
  "language_info": {
   "codemirror_mode": {
    "name": "ipython",
    "version": 3
   },
   "file_extension": ".py",
   "mimetype": "text/x-python",
   "name": "python",
   "nbconvert_exporter": "python",
   "pygments_lexer": "ipython3",
   "version": "3.7.4"
  }
 },
 "nbformat": 4,
 "nbformat_minor": 2
}
