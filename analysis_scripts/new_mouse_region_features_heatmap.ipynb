{
 "cells": [
  {
   "cell_type": "markdown",
   "metadata": {},
   "source": [
    "##### Imports "
   ]
  },
  {
   "cell_type": "code",
   "execution_count": 1,
   "metadata": {},
   "outputs": [],
   "source": [
    "import pandas as pd\n",
    "import numpy as np\n",
    "import csv\n",
    "import logging\n",
    "import os\n",
    "from functions.temp_funcs import read_file, merge_dataframes, drop_cols, drop_nans, filter_date_range, \\\n",
    "filter_df, create_container_col, create_cond_df\n",
    "\n",
    "import seaborn as sns\n",
    "import matplotlib.pyplot as plt\n",
    "sns.set(context = \"notebook\", style = \"white\", font=\"verdana\") # font_scale = 1.35)"
   ]
  },
  {
   "cell_type": "markdown",
   "metadata": {},
   "source": [
    "##### Logging Set-up"
   ]
  },
  {
   "cell_type": "code",
   "execution_count": 2,
   "metadata": {},
   "outputs": [],
   "source": [
    "logging.basicConfig(level=logging.INFO)\n",
    "LOGGER = logging.getLogger(__name__)"
   ]
  },
  {
   "cell_type": "markdown",
   "metadata": {},
   "source": [
    "##### Pandas Display Settings"
   ]
  },
  {
   "cell_type": "code",
   "execution_count": 3,
   "metadata": {},
   "outputs": [],
   "source": [
    "pd.set_option(\"display.max_colwidth\",150) #Expands the number of characters shown in the columns\n",
    "pd.set_option('display.max_columns', None)"
   ]
  },
  {
   "cell_type": "markdown",
   "metadata": {},
   "source": [
    "##### Lists/Paths"
   ]
  },
  {
   "cell_type": "code",
   "execution_count": 4,
   "metadata": {},
   "outputs": [],
   "source": [
    "path = \"C:/Users/kumar/Documents/Github/analysis_projects/analysis_scripts/\"\n",
    "csv_path = os.path.join(path, \"csv/\")\n",
    "excel_path = os.path.join(path, \"excel/\")\n",
    "plot_path = os.path.join(path, \"plot/\")"
   ]
  },
  {
   "cell_type": "code",
   "execution_count": 5,
   "metadata": {},
   "outputs": [],
   "source": [
    "path_jem = os.path.join(csv_path, \"jem_metadata_wFAILURE.csv\")\n",
    "path_ephys = os.path.join(csv_path, \"ephys_mIVSCC_MET.csv\")\n",
    "path_shiny = os.path.join(csv_path, \"Mouse_VISp_ctx_shiny.csv\")"
   ]
  },
  {
   "cell_type": "code",
   "execution_count": 6,
   "metadata": {},
   "outputs": [],
   "source": [
    "fields_jem = [\"date\", \"organism_name\", \"container\", \"rigOperator\", \"status\", \"roi\"]\n",
    "fields_ephys = [\"name\", \"vrest\", \"ri\", \"sag\", \"tau\",\n",
    "                \"upstroke_downstroke_ratio_long_square\", \"latency\", \"f_i_curve_slope\"]\n",
    "fields_shiny = [\"patch.date\", \"cell_name\", \"sample_id\", \"cell_specimen_project\",\n",
    "                \"subclass_label\", \"broad_class_label\",\n",
    "                \"marker_sum_norm_label\", \"Norm_Marker_Sum.0.4_label\"]"
   ]
  },
  {
   "cell_type": "code",
   "execution_count": 7,
   "metadata": {},
   "outputs": [],
   "source": [
    "drop_nans_list = [\"date\"]\n",
    "drop_cols_list = [\"sample_id\", \"patch.date\", \"status\", \"name\", \"cell_specimen_project\", \"organism_name\"]"
   ]
  },
  {
   "cell_type": "markdown",
   "metadata": {},
   "source": [
    "##### Main"
   ]
  },
  {
   "cell_type": "code",
   "execution_count": 8,
   "metadata": {},
   "outputs": [],
   "source": [
    "def main():\n",
    "    global jem, shiny, ephys, merge_sj, merge_all, merge_all_glu, merge_all_gab, rsp_glu, visp_glu, rsp_visp_glu\n",
    "    jem = read_file(path_jem, fields_jem) #20843 rows\n",
    "    ephys = read_file(path_ephys, fields_ephys) #8541 rows\n",
    "    shiny = read_file(path_shiny, fields_shiny) #10674 rows\n",
    "\n",
    "    jem = filter_df(jem, \"status\", \"SUCCESS\") #13325 rows\n",
    "    jem = filter_date_range(jem, \"date\") #6335 rows\n",
    "    \n",
    "    shiny = filter_df(shiny, \"Norm_Marker_Sum.0.4_label\", True) #9101 rows\n",
    "    shiny = filter_date_range(shiny, \"patch.date\") #2849 rows\n",
    "\n",
    "    merge_sj = merge_dataframes(shiny, jem, \"sample_id\", \"container\", \"inner\") #2850 rows (even if how=left)\n",
    "    merge_all = merge_dataframes(merge_sj, ephys, \"cell_name\", \"name\", \"inner\") #2635 rows\n",
    "\n",
    "    merge_all = drop_nans(merge_all, drop_nans_list)\n",
    "    merge_all = drop_cols(merge_all, drop_cols_list)\n",
    "    merge_all = create_container_col(merge_all, \"rigOperator\")\n",
    "    merge_all.set_index(\"date\", inplace=True)\n",
    "    \n",
    "    merge_all[\"region\"] = pd.np.where(merge_all.roi.str.contains(\"RSP\"), \"RSP\", \n",
    "                                      pd.np.where(merge_all.roi.str.contains(\"VISp\"), \"VISp\", \n",
    "                                      pd.np.where(merge_all.roi.str.contains(\"TEa\"), \"TEa\",\n",
    "                                      pd.np.where(merge_all.roi.str.contains(\"CTXsp\"), \"CLA\",\n",
    "                                      pd.np.where(merge_all.roi.str.contains(\"MO\"), \"MO\",\n",
    "                                      pd.np.where(merge_all.roi.str.contains(\"ORB\"), \"ORB\",\n",
    "                                      pd.np.where(merge_all.roi.str.contains(\"SSp\"), \"SSp\",\n",
    "                                      pd.np.where(merge_all.roi.str.contains(\"HY\"), \"HY\", \"Unknown\"))))))))\n",
    "    \n",
    "    merge_all_glu = create_cond_df(merge_all, \"broad_class_label\", [\"Glutamatergic\"])\n",
    "    merge_all_gab = create_cond_df(merge_all, \"broad_class_label\", [\"GABAergic\"])\n",
    "\n",
    "    rsp_glu = create_cond_df(merge_all_glu, \"region\", [\"RSP\"])\n",
    "    visp_glu = create_cond_df(merge_all_glu, \"region\", [\"VISp\"])\n",
    "    rsp_visp_glu = pd.concat([rsp_glu, visp_glu])"
   ]
  },
  {
   "cell_type": "code",
   "execution_count": 9,
   "metadata": {},
   "outputs": [
    {
     "name": "stderr",
     "output_type": "stream",
     "text": [
      "INFO:functions.temp_funcs:Read file in as a pandas dataframe\n",
      "INFO:functions.temp_funcs:Read file in as a pandas dataframe\n",
      "INFO:functions.temp_funcs:Read file in as a pandas dataframe\n",
      "INFO:functions.temp_funcs:Filtered dataframe based on status == SUCCESS\n",
      "C:\\Users\\kumar\\Documents\\Github\\analysis_projects\\analysis_scripts\\functions\\temp_funcs.py:87: SettingWithCopyWarning: \n",
      "A value is trying to be set on a copy of a slice from a DataFrame\n",
      "\n",
      "See the caveats in the documentation: http://pandas.pydata.org/pandas-docs/stable/user_guide/indexing.html#returning-a-view-versus-a-copy\n",
      "  df.sort_values([date_col], inplace=True)\n",
      "INFO:functions.temp_funcs:Filtered dataframe: 2019-01-01 - 2020-12-31\n",
      "INFO:functions.temp_funcs:Filtered dataframe based on Norm_Marker_Sum.0.4_label == True\n",
      "INFO:functions.temp_funcs:Filtered dataframe: 2019-01-01 - 2020-12-31\n",
      "INFO:functions.temp_funcs:Merged two pandas dataframe into one dataframe\n",
      "INFO:functions.temp_funcs:Merged two pandas dataframe into one dataframe\n",
      "INFO:functions.temp_funcs:Dropped NaNs from these columns: ['date']\n",
      "INFO:functions.temp_funcs:Dropped columns: ['sample_id', 'patch.date', 'status', 'name', 'cell_specimen_project', 'organism_name']\n",
      "INFO:functions.temp_funcs:Created a patch_container_label column to show(ex.'PA')\n",
      "INFO:functions.temp_funcs:Created a conditional dataframe based on broad_class_label containing ['Glutamatergic']\n",
      "INFO:functions.temp_funcs:Created a conditional dataframe based on broad_class_label containing ['GABAergic']\n",
      "INFO:functions.temp_funcs:Created a conditional dataframe based on region containing ['RSP']\n",
      "INFO:functions.temp_funcs:Created a conditional dataframe based on region containing ['VISp']\n"
     ]
    }
   ],
   "source": [
    "if __name__ == \"__main__\":\n",
    "    main()"
   ]
  },
  {
   "cell_type": "markdown",
   "metadata": {},
   "source": [
    "##### HeatMap: Filtering dataframe for outliers"
   ]
  },
  {
   "cell_type": "code",
   "execution_count": null,
   "metadata": {},
   "outputs": [],
   "source": [
    "df['derivedPremium'] = (df.groupby(['policyNo.'])['writtenPremium']\n",
    "                          .diff()\n",
    "                          .fillna(df['writtenPremium']))\n",
    "print (df)"
   ]
  },
  {
   "cell_type": "code",
   "execution_count": 12,
   "metadata": {},
   "outputs": [],
   "source": [
    "rsp_visp_glu.reset_index(inplace=True)\n",
    "rv_df = rsp_visp_glu[[\"subclass_label\", \"region\", \"vrest\"]]"
   ]
  },
  {
   "cell_type": "code",
   "execution_count": 14,
   "metadata": {},
   "outputs": [],
   "source": [
    "rv_df = rv_df.groupby([\"subclass_label\", \"region\"]).mean().reset_index()"
   ]
  },
  {
   "cell_type": "code",
   "execution_count": 18,
   "metadata": {},
   "outputs": [],
   "source": [
    "rv_df[\"vrest_mean\"] = (rv_df.groupby([\"region\"])[\"vrest\"]\n",
    "                          .diff()\n",
    "                          .fillna(rv_df[\"vrest\"]))"
   ]
  },
  {
   "cell_type": "code",
   "execution_count": 19,
   "metadata": {},
   "outputs": [
    {
     "data": {
      "text/html": [
       "<div>\n",
       "<style scoped>\n",
       "    .dataframe tbody tr th:only-of-type {\n",
       "        vertical-align: middle;\n",
       "    }\n",
       "\n",
       "    .dataframe tbody tr th {\n",
       "        vertical-align: top;\n",
       "    }\n",
       "\n",
       "    .dataframe thead th {\n",
       "        text-align: right;\n",
       "    }\n",
       "</style>\n",
       "<table border=\"1\" class=\"dataframe\">\n",
       "  <thead>\n",
       "    <tr style=\"text-align: right;\">\n",
       "      <th></th>\n",
       "      <th>subclass_label</th>\n",
       "      <th>region</th>\n",
       "      <th>vrest</th>\n",
       "      <th>vrest_mean</th>\n",
       "    </tr>\n",
       "  </thead>\n",
       "  <tbody>\n",
       "    <tr>\n",
       "      <td>0</td>\n",
       "      <td>DG</td>\n",
       "      <td>VISp</td>\n",
       "      <td>-71.160976</td>\n",
       "      <td>-71.160976</td>\n",
       "    </tr>\n",
       "    <tr>\n",
       "      <td>1</td>\n",
       "      <td>L2 IT ENTm</td>\n",
       "      <td>VISp</td>\n",
       "      <td>-68.620692</td>\n",
       "      <td>2.540284</td>\n",
       "    </tr>\n",
       "    <tr>\n",
       "      <td>2</td>\n",
       "      <td>L2 IT RSP-ACA</td>\n",
       "      <td>RSP</td>\n",
       "      <td>-76.811338</td>\n",
       "      <td>-76.811338</td>\n",
       "    </tr>\n",
       "    <tr>\n",
       "      <td>3</td>\n",
       "      <td>L2 IT RSP-ACA</td>\n",
       "      <td>VISp</td>\n",
       "      <td>-76.773133</td>\n",
       "      <td>-8.152441</td>\n",
       "    </tr>\n",
       "    <tr>\n",
       "      <td>4</td>\n",
       "      <td>L2/3 IT CTX</td>\n",
       "      <td>RSP</td>\n",
       "      <td>-79.119185</td>\n",
       "      <td>-2.307847</td>\n",
       "    </tr>\n",
       "    <tr>\n",
       "      <td>5</td>\n",
       "      <td>L2/3 IT CTX</td>\n",
       "      <td>VISp</td>\n",
       "      <td>-77.377667</td>\n",
       "      <td>-0.604534</td>\n",
       "    </tr>\n",
       "    <tr>\n",
       "      <td>6</td>\n",
       "      <td>L2/3 IT PPP</td>\n",
       "      <td>VISp</td>\n",
       "      <td>-75.377449</td>\n",
       "      <td>2.000218</td>\n",
       "    </tr>\n",
       "    <tr>\n",
       "      <td>7</td>\n",
       "      <td>L3 RSP-ACA</td>\n",
       "      <td>RSP</td>\n",
       "      <td>-65.180289</td>\n",
       "      <td>13.938895</td>\n",
       "    </tr>\n",
       "    <tr>\n",
       "      <td>8</td>\n",
       "      <td>L3 RSP-ACA</td>\n",
       "      <td>VISp</td>\n",
       "      <td>-66.775607</td>\n",
       "      <td>8.601843</td>\n",
       "    </tr>\n",
       "    <tr>\n",
       "      <td>9</td>\n",
       "      <td>L4/5 IT CTX</td>\n",
       "      <td>RSP</td>\n",
       "      <td>-59.979497</td>\n",
       "      <td>5.200793</td>\n",
       "    </tr>\n",
       "    <tr>\n",
       "      <td>10</td>\n",
       "      <td>L4/5 IT CTX</td>\n",
       "      <td>VISp</td>\n",
       "      <td>-70.795548</td>\n",
       "      <td>-4.019942</td>\n",
       "    </tr>\n",
       "    <tr>\n",
       "      <td>11</td>\n",
       "      <td>L5 ET CTX</td>\n",
       "      <td>RSP</td>\n",
       "      <td>-69.061524</td>\n",
       "      <td>-9.082028</td>\n",
       "    </tr>\n",
       "    <tr>\n",
       "      <td>12</td>\n",
       "      <td>L5 ET CTX</td>\n",
       "      <td>VISp</td>\n",
       "      <td>-67.587740</td>\n",
       "      <td>3.207809</td>\n",
       "    </tr>\n",
       "    <tr>\n",
       "      <td>13</td>\n",
       "      <td>L5 IT CTX</td>\n",
       "      <td>RSP</td>\n",
       "      <td>-67.201502</td>\n",
       "      <td>1.860022</td>\n",
       "    </tr>\n",
       "    <tr>\n",
       "      <td>14</td>\n",
       "      <td>L5 IT CTX</td>\n",
       "      <td>VISp</td>\n",
       "      <td>-71.368605</td>\n",
       "      <td>-3.780865</td>\n",
       "    </tr>\n",
       "    <tr>\n",
       "      <td>15</td>\n",
       "      <td>L5 IT TPE-ENT</td>\n",
       "      <td>VISp</td>\n",
       "      <td>-73.458145</td>\n",
       "      <td>-2.089539</td>\n",
       "    </tr>\n",
       "    <tr>\n",
       "      <td>16</td>\n",
       "      <td>L5 NP CTX</td>\n",
       "      <td>RSP</td>\n",
       "      <td>-73.900963</td>\n",
       "      <td>-6.699461</td>\n",
       "    </tr>\n",
       "    <tr>\n",
       "      <td>17</td>\n",
       "      <td>L5 NP CTX</td>\n",
       "      <td>VISp</td>\n",
       "      <td>-66.517502</td>\n",
       "      <td>6.940643</td>\n",
       "    </tr>\n",
       "    <tr>\n",
       "      <td>18</td>\n",
       "      <td>L5 PPP</td>\n",
       "      <td>VISp</td>\n",
       "      <td>-74.300412</td>\n",
       "      <td>-7.782911</td>\n",
       "    </tr>\n",
       "    <tr>\n",
       "      <td>19</td>\n",
       "      <td>L6 CT CTX</td>\n",
       "      <td>RSP</td>\n",
       "      <td>-72.319739</td>\n",
       "      <td>1.581224</td>\n",
       "    </tr>\n",
       "    <tr>\n",
       "      <td>20</td>\n",
       "      <td>L6 CT CTX</td>\n",
       "      <td>VISp</td>\n",
       "      <td>-70.724212</td>\n",
       "      <td>3.576201</td>\n",
       "    </tr>\n",
       "    <tr>\n",
       "      <td>21</td>\n",
       "      <td>L6 CT SUB</td>\n",
       "      <td>VISp</td>\n",
       "      <td>-73.189046</td>\n",
       "      <td>-2.464835</td>\n",
       "    </tr>\n",
       "    <tr>\n",
       "      <td>22</td>\n",
       "      <td>L6 Car3</td>\n",
       "      <td>VISp</td>\n",
       "      <td>-74.390368</td>\n",
       "      <td>-1.201321</td>\n",
       "    </tr>\n",
       "    <tr>\n",
       "      <td>23</td>\n",
       "      <td>L6 IT CTX</td>\n",
       "      <td>RSP</td>\n",
       "      <td>-66.040516</td>\n",
       "      <td>6.279223</td>\n",
       "    </tr>\n",
       "    <tr>\n",
       "      <td>24</td>\n",
       "      <td>L6 IT CTX</td>\n",
       "      <td>VISp</td>\n",
       "      <td>-73.203375</td>\n",
       "      <td>1.186993</td>\n",
       "    </tr>\n",
       "    <tr>\n",
       "      <td>25</td>\n",
       "      <td>L6b CTX</td>\n",
       "      <td>RSP</td>\n",
       "      <td>-61.183310</td>\n",
       "      <td>4.857206</td>\n",
       "    </tr>\n",
       "    <tr>\n",
       "      <td>26</td>\n",
       "      <td>L6b CTX</td>\n",
       "      <td>VISp</td>\n",
       "      <td>-68.607158</td>\n",
       "      <td>4.596216</td>\n",
       "    </tr>\n",
       "    <tr>\n",
       "      <td>27</td>\n",
       "      <td>SUB</td>\n",
       "      <td>VISp</td>\n",
       "      <td>-71.751733</td>\n",
       "      <td>-3.144574</td>\n",
       "    </tr>\n",
       "  </tbody>\n",
       "</table>\n",
       "</div>"
      ],
      "text/plain": [
       "   subclass_label region      vrest  vrest_mean\n",
       "0              DG   VISp -71.160976  -71.160976\n",
       "1      L2 IT ENTm   VISp -68.620692    2.540284\n",
       "2   L2 IT RSP-ACA    RSP -76.811338  -76.811338\n",
       "3   L2 IT RSP-ACA   VISp -76.773133   -8.152441\n",
       "4     L2/3 IT CTX    RSP -79.119185   -2.307847\n",
       "5     L2/3 IT CTX   VISp -77.377667   -0.604534\n",
       "6     L2/3 IT PPP   VISp -75.377449    2.000218\n",
       "7      L3 RSP-ACA    RSP -65.180289   13.938895\n",
       "8      L3 RSP-ACA   VISp -66.775607    8.601843\n",
       "9     L4/5 IT CTX    RSP -59.979497    5.200793\n",
       "10    L4/5 IT CTX   VISp -70.795548   -4.019942\n",
       "11      L5 ET CTX    RSP -69.061524   -9.082028\n",
       "12      L5 ET CTX   VISp -67.587740    3.207809\n",
       "13      L5 IT CTX    RSP -67.201502    1.860022\n",
       "14      L5 IT CTX   VISp -71.368605   -3.780865\n",
       "15  L5 IT TPE-ENT   VISp -73.458145   -2.089539\n",
       "16      L5 NP CTX    RSP -73.900963   -6.699461\n",
       "17      L5 NP CTX   VISp -66.517502    6.940643\n",
       "18         L5 PPP   VISp -74.300412   -7.782911\n",
       "19      L6 CT CTX    RSP -72.319739    1.581224\n",
       "20      L6 CT CTX   VISp -70.724212    3.576201\n",
       "21      L6 CT SUB   VISp -73.189046   -2.464835\n",
       "22        L6 Car3   VISp -74.390368   -1.201321\n",
       "23      L6 IT CTX    RSP -66.040516    6.279223\n",
       "24      L6 IT CTX   VISp -73.203375    1.186993\n",
       "25        L6b CTX    RSP -61.183310    4.857206\n",
       "26        L6b CTX   VISp -68.607158    4.596216\n",
       "27            SUB   VISp -71.751733   -3.144574"
      ]
     },
     "execution_count": 19,
     "metadata": {},
     "output_type": "execute_result"
    }
   ],
   "source": [
    "rv_df"
   ]
  },
  {
   "cell_type": "code",
   "execution_count": null,
   "metadata": {},
   "outputs": [],
   "source": []
  },
  {
   "cell_type": "code",
   "execution_count": null,
   "metadata": {},
   "outputs": [],
   "source": []
  },
  {
   "cell_type": "code",
   "execution_count": null,
   "metadata": {},
   "outputs": [],
   "source": []
  },
  {
   "cell_type": "code",
   "execution_count": null,
   "metadata": {},
   "outputs": [],
   "source": [
    "rsp_glu = rsp_glu[rsp_glu[\"f_i_curve_slope\"] < 0.7]\n",
    "rsp_glu = rsp_glu[rsp_glu[\"ri\"] < 600]\n",
    "rsp_glu = rsp_glu[rsp_glu[\"upstroke_downstroke_ratio_long_square\"] < 7]\n",
    "rsp_glu = rsp_glu[rsp_glu[\"latency\"] < 0.15]\n",
    "rsp_glu = rsp_glu[rsp_glu[\"sag\"] < 0.40]\n",
    "rsp_glu = rsp_glu[rsp_glu[\"vrest\"] < -50]\n",
    "rsp_glu = rsp_glu[rsp_glu[\"tau\"] < 40]"
   ]
  },
  {
   "cell_type": "code",
   "execution_count": null,
   "metadata": {},
   "outputs": [],
   "source": [
    "visp_glu = visp_glu[visp_glu[\"f_i_curve_slope\"] < 0.7]\n",
    "visp_glu = visp_glu[visp_glu[\"ri\"] < 600]\n",
    "visp_glu = visp_glu[visp_glu[\"upstroke_downstroke_ratio_long_square\"] < 7]\n",
    "visp_glu = visp_glu[visp_glu[\"latency\"] < 0.15]\n",
    "visp_glu = visp_glu[visp_glu[\"sag\"] < 0.40]\n",
    "visp_glu = visp_glu[visp_glu[\"vrest\"] < -50]\n",
    "visp_glu = visp_glu[visp_glu[\"tau\"] < 40]"
   ]
  },
  {
   "cell_type": "code",
   "execution_count": null,
   "metadata": {},
   "outputs": [],
   "source": [
    "rsp_glu.reset_index(inplace=True)\n",
    "visp_glu.reset_index(inplace=True)\n",
    "rsp_visp_glu.reset_index(inplace=True)\n",
    "rsp_glu.sort_values([\"subclass_label\"], inplace=True)\n",
    "visp_glu.sort_values([\"subclass_label\"], inplace=True)\n",
    "rsp_visp_glu.sort_values([\"subclass_label\"], inplace=True)"
   ]
  },
  {
   "cell_type": "code",
   "execution_count": null,
   "metadata": {},
   "outputs": [],
   "source": [
    "sub5_list = [\"L2 IT RSP-ACA\", \"L5 NP CTX\", \"L5 ET CTX\"]"
   ]
  },
  {
   "cell_type": "code",
   "execution_count": null,
   "metadata": {},
   "outputs": [],
   "source": [
    "rv_df = rsp_visp_glu[[\"subclass_label\", \"region\", \"vrest\", \"ri\", \"sag\", \"tau\",\n",
    "                \"upstroke_downstroke_ratio_long_square\", \"latency\", \"f_i_curve_slope\"]]"
   ]
  },
  {
   "cell_type": "code",
   "execution_count": null,
   "metadata": {},
   "outputs": [],
   "source": [
    "rv_df"
   ]
  },
  {
   "cell_type": "code",
   "execution_count": null,
   "metadata": {},
   "outputs": [],
   "source": [
    "rv_heatmap_df = create_cond_df(rv_df, \"subclass_label\", sub5_list)"
   ]
  },
  {
   "cell_type": "code",
   "execution_count": null,
   "metadata": {},
   "outputs": [],
   "source": [
    "rv_heatmap_df"
   ]
  },
  {
   "cell_type": "markdown",
   "metadata": {},
   "source": [
    "##### Heatmap: Mean calculation"
   ]
  },
  {
   "cell_type": "code",
   "execution_count": null,
   "metadata": {},
   "outputs": [],
   "source": [
    "r_df = rsp_glu[[\"subclass_label\", \"region\", \"vrest\", \"ri\", \"sag\", \"tau\",\n",
    "                \"upstroke_downstroke_ratio_long_square\", \"latency\", \"f_i_curve_slope\"]]\n",
    "r_df = r_df.groupby([\"subclass_label\", \"region\"]).mean().reset_index()\n",
    "\n",
    "v_df = visp_glu[[\"subclass_label\", \"region\", \"vrest\", \"ri\", \"sag\", \"tau\",\n",
    "                \"upstroke_downstroke_ratio_long_square\", \"latency\", \"f_i_curve_slope\"]]\n",
    "v_df = v_df.groupby([\"subclass_label\", \"region\"]).mean().reset_index()"
   ]
  },
  {
   "cell_type": "code",
   "execution_count": null,
   "metadata": {},
   "outputs": [],
   "source": [
    "heatmap_df = pd.merge(left=r_df, right=v_df, on=\"subclass_label\")"
   ]
  },
  {
   "cell_type": "code",
   "execution_count": null,
   "metadata": {},
   "outputs": [],
   "source": [
    "heatmap_df = create_cond_df(heatmap_df, \"subclass_label\", sub5_list)"
   ]
  },
  {
   "cell_type": "markdown",
   "metadata": {},
   "source": [
    "##### Heatmap: ((RSP - VISP) / VISP) * 100 to get %change from VISp"
   ]
  },
  {
   "cell_type": "code",
   "execution_count": null,
   "metadata": {},
   "outputs": [],
   "source": [
    "heatmap_df[\"vrest\"] = ((heatmap_df[\"vrest_x\"] - heatmap_df[\"vrest_y\"]) / heatmap_df[\"vrest_y\"].abs()) * 100 #new - old/old  = r - v/v\n",
    "heatmap_df[\"ri\"] = ((heatmap_df[\"ri_x\"] - heatmap_df[\"ri_y\"]) / heatmap_df[\"ri_y\"]) * 100\n",
    "heatmap_df[\"sag\"] = ((heatmap_df[\"sag_x\"] - heatmap_df[\"sag_y\"]) / heatmap_df[\"sag_y\"]) * 100\n",
    "heatmap_df[\"tau\"] = ((heatmap_df[\"tau_x\"] - heatmap_df[\"tau_y\"]) / heatmap_df[\"tau_y\"]) * 100\n",
    "heatmap_df[\"upstroke_downstroke_ratio_long_square\"] = ((heatmap_df[\"upstroke_downstroke_ratio_long_square_x\"] - heatmap_df[\"upstroke_downstroke_ratio_long_square_y\"]) / heatmap_df[\"upstroke_downstroke_ratio_long_square_y\"]) * 100\n",
    "heatmap_df[\"latency\"] = ((heatmap_df[\"latency_x\"] - heatmap_df[\"latency_y\"]) / heatmap_df[\"latency_y\"]) * 100\n",
    "heatmap_df[\"f_i_curve_slope\"] = ((heatmap_df[\"f_i_curve_slope_x\"] - heatmap_df[\"f_i_curve_slope_y\"]) / heatmap_df[\"f_i_curve_slope_y\"]) * 100\n",
    "heatmap_df"
   ]
  },
  {
   "cell_type": "code",
   "execution_count": null,
   "metadata": {},
   "outputs": [],
   "source": [
    "heatmap_df.drop(columns=[\"vrest_x\", \"vrest_y\",\n",
    "                    \"ri_x\", \"ri_y\", \n",
    "                    \"sag_x\", \"sag_y\", \n",
    "                    \"tau_x\", \"tau_y\",\n",
    "                    \"upstroke_downstroke_ratio_long_square_x\", \"upstroke_downstroke_ratio_long_square_y\",\n",
    "                    \"latency_x\", \"latency_y\",\n",
    "                    \"f_i_curve_slope_x\", \"f_i_curve_slope_y\",\n",
    "                    \"region_x\", \"region_y\"], inplace=True)\n",
    "\n",
    "heatmap_df.rename(columns={\"vrest\": \"Vm(mV)\", \n",
    "                      \"ri\": \"Input Resistance(MΩ)\",\n",
    "                      \"sag\" : \"Sag Fraction\",\n",
    "                      \"tau\": \"τ(s)\",\n",
    "                      \"upstroke_downstroke_ratio_long_square\": \"LS AP up/downstoke\",\n",
    "                      \"latency\" : \"Latency\",\n",
    "                      \"f_i_curve_slope\" : \"F-I Curve\"}, inplace=True)\n",
    "\n",
    "heatmap_df = heatmap_df.melt(id_vars=[\"subclass_label\"],\n",
    "                             value_vars=[\"Vm(mV)\", \"Input Resistance(MΩ)\", \"Sag Fraction\", \"τ(s)\",\n",
    "                                         \"LS AP up/downstoke\", \"Latency\", \"F-I Curve\"],\n",
    "                             var_name=\"ephys_features\", value_name=\"%change from VISp\")\n",
    "\n",
    "heatmap_df = pd.pivot_table(heatmap_df, values='%change from VISp', index=[\"ephys_features\"], columns=\"subclass_label\")\n",
    "heatmap_df"
   ]
  },
  {
   "cell_type": "markdown",
   "metadata": {},
   "source": [
    "##### Heatmap: Plot"
   ]
  },
  {
   "cell_type": "code",
   "execution_count": null,
   "metadata": {},
   "outputs": [],
   "source": [
    "fig, ax = plt.subplots(figsize=(12,12))\n",
    "sns.heatmap(data=heatmap_df,\n",
    "            vmin=-55, \n",
    "            vmax=55,\n",
    "            cmap=\"coolwarm\",\n",
    "            center=0,\n",
    "            #robust=True,\n",
    "            #annot=True,\n",
    "            fmt=\"0.2g\",\n",
    "            linewidths=0.5,\n",
    "            square=True,\n",
    "            cbar=True,\n",
    "            cbar_kws={\"shrink\": 1}) #\"label\": \"RSP %change from VISp\", \n",
    "\n",
    "plt.title(\"Heatmap: %shift of RSP with respect to VISp\")\n",
    "plt.xlabel(\"Subclass\")\n",
    "plt.ylabel(\"Electrophysiological Features\")\n",
    "\n",
    "#Seaborn heatmap cutoffs, so to fix it use the code below\n",
    "bottom, top = ax.get_ylim()\n",
    "ax.set_ylim(bottom + 0.5, top - 0.5)\n",
    "\n",
    "cbar = ax.collections[0].colorbar\n",
    "cbar.set_ticks([-55, -40, -20, 0, 20, 40, 55])\n",
    "cbar.set_ticklabels([\"RSP Negative Shift from VISp\",\n",
    "                     \"-40%\",\n",
    "                     \"-20%\", \n",
    "                     \"Neutral Shift\", \n",
    "                     \"20%\", \n",
    "                     \"40%\", \n",
    "                     \"RSP Positive Shift from VISp\"])\n",
    "\n",
    "plt.savefig(plot_path + \"heatmap.jpeg\", bbox_inches=\"tight\")"
   ]
  },
  {
   "cell_type": "code",
   "execution_count": null,
   "metadata": {},
   "outputs": [],
   "source": []
  }
 ],
 "metadata": {
  "kernelspec": {
   "display_name": "Python 3",
   "language": "python",
   "name": "python3"
  },
  "language_info": {
   "codemirror_mode": {
    "name": "ipython",
    "version": 3
   },
   "file_extension": ".py",
   "mimetype": "text/x-python",
   "name": "python",
   "nbconvert_exporter": "python",
   "pygments_lexer": "ipython3",
   "version": "3.7.4"
  }
 },
 "nbformat": 4,
 "nbformat_minor": 2
}
