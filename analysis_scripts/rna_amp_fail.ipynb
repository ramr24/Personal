{
 "cells": [
  {
   "cell_type": "markdown",
   "metadata": {},
   "source": [
    "##### Imports"
   ]
  },
  {
   "cell_type": "code",
   "execution_count": 1,
   "metadata": {},
   "outputs": [],
   "source": [
    "import pandas as pd\n",
    "import numpy as np\n",
    "import csv\n",
    "import logging\n",
    "import os\n",
    "\n",
    "from functions.temp_funcs import read_file, merge_dataframes, drop_cols, drop_nans, filter_date_range, \\\n",
    "filter_df, create_container_col, create_cond_df\n",
    "\n",
    "import seaborn as sns\n",
    "import matplotlib.pyplot as plt\n",
    "sns.set(context = \"notebook\", style = \"ticks\", font=\"verdana\") # font_scale = 1.35)"
   ]
  },
  {
   "cell_type": "code",
   "execution_count": 2,
   "metadata": {},
   "outputs": [],
   "source": [
    "pd.set_option(\"display.max_colwidth\",150) #Expands the number of characters shown in the columns\n",
    "pd.set_option('display.max_columns', None)"
   ]
  },
  {
   "cell_type": "markdown",
   "metadata": {},
   "source": [
    "##### Paths"
   ]
  },
  {
   "cell_type": "code",
   "execution_count": 3,
   "metadata": {},
   "outputs": [],
   "source": [
    "path = \"C:/Users/kumar/Documents/Github/analysis_projects/analysis_scripts/\"\n",
    "csv_path = os.path.join(path, \"csv/\")\n",
    "excel_path = os.path.join(path, \"excel/\")\n",
    "plot_path = os.path.join(path, \"plot/\")"
   ]
  },
  {
   "cell_type": "code",
   "execution_count": 4,
   "metadata": {},
   "outputs": [],
   "source": [
    "path_shiny_mouse = os.path.join(csv_path, \"current_shiny_mouse.csv\")\n",
    "path_shiny_human = os.path.join(csv_path, \"current_shiny_human.csv\")"
   ]
  },
  {
   "cell_type": "markdown",
   "metadata": {},
   "source": [
    "##### Start Code"
   ]
  },
  {
   "cell_type": "code",
   "execution_count": 5,
   "metadata": {},
   "outputs": [
    {
     "name": "stderr",
     "output_type": "stream",
     "text": [
      "INFO:functions.temp_funcs:Read file in as a pandas dataframe\n",
      "INFO:functions.temp_funcs:Read file in as a pandas dataframe\n"
     ]
    }
   ],
   "source": [
    "fields_shiny = [\"cell_name\", \"cell_specimen_project\", \"Norm_Marker_Sum.0.4_label\",\n",
    "                \"marker_sum_norm_label\", \"rna_amplification_pass_fail\",\n",
    "                \"percent_cdna_longer_than_400bp\", \"amplified_quantity_ng\"]\n",
    "shiny_mouse = read_file(path_shiny_mouse, fields_shiny) #10839 rows\n",
    "shiny_human = read_file(path_shiny_human, fields_shiny) #3592 rows"
   ]
  },
  {
   "cell_type": "code",
   "execution_count": 6,
   "metadata": {},
   "outputs": [
    {
     "data": {
      "text/plain": [
       "array(['T301x', 'mIVSCC-MET', 'mIVSCC-METx', 'T301', 'hIVSCC-METx',\n",
       "       'mMPATCHseq', 'mMPATCH', 'T301t', 'mMPATCHx', 'hIVSCC-MET', nan],\n",
       "      dtype=object)"
      ]
     },
     "execution_count": 6,
     "metadata": {},
     "output_type": "execute_result"
    }
   ],
   "source": [
    "shiny_mouse[\"cell_specimen_project\"].unique()"
   ]
  },
  {
   "cell_type": "code",
   "execution_count": 7,
   "metadata": {},
   "outputs": [
    {
     "data": {
      "text/plain": [
       "array(['hIVSCC-MET', 'hIVSCC-METx', 'hIVSCC-METc', 'H301x', 'hMPATCH',\n",
       "       'H301', 'hMPATCHseq', 'hMPATCHseqc', 'APL401Ax', 'mIVSCC-METx',\n",
       "       'qIVSCC-METa', 'qIVSCC-METc', nan], dtype=object)"
      ]
     },
     "execution_count": 7,
     "metadata": {},
     "output_type": "execute_result"
    }
   ],
   "source": [
    "shiny_human[\"cell_specimen_project\"].unique()"
   ]
  },
  {
   "cell_type": "code",
   "execution_count": 8,
   "metadata": {},
   "outputs": [],
   "source": [
    "shiny_mouse.dropna(subset=[\"cell_specimen_project\"],inplace=True) #10834 rows\n",
    "shiny_human.dropna(subset=[\"cell_specimen_project\"],inplace=True) #3578 rows"
   ]
  },
  {
   "cell_type": "markdown",
   "metadata": {},
   "source": [
    "##### Filter project code"
   ]
  },
  {
   "cell_type": "code",
   "execution_count": 9,
   "metadata": {},
   "outputs": [
    {
     "name": "stderr",
     "output_type": "stream",
     "text": [
      "INFO:functions.temp_funcs:Filtered dataframe based on cell_specimen_project == mIVSCC-MET\n",
      "INFO:functions.temp_funcs:Filtered dataframe based on cell_specimen_project == hIVSCC-MET\n"
     ]
    }
   ],
   "source": [
    "shinym = filter_df(shiny_mouse, \"cell_specimen_project\", \"mIVSCC-MET\") #8371 rows\n",
    "shinyh = filter_df(shiny_human, \"cell_specimen_project\", \"hIVSCC-MET\") #1566 rows"
   ]
  },
  {
   "cell_type": "code",
   "execution_count": 10,
   "metadata": {},
   "outputs": [
    {
     "name": "stderr",
     "output_type": "stream",
     "text": [
      "C:\\Users\\kumar\\AppData\\Local\\Continuum\\anaconda3\\lib\\site-packages\\pandas\\core\\frame.py:3778: SettingWithCopyWarning: \n",
      "A value is trying to be set on a copy of a slice from a DataFrame\n",
      "\n",
      "See the caveats in the documentation: http://pandas.pydata.org/pandas-docs/stable/indexing.html#indexing-view-versus-copy\n",
      "  return super(DataFrame, self).rename(**kwargs)\n"
     ]
    }
   ],
   "source": [
    "shinym.rename(columns={\"Norm_Marker_Sum.0.4_label\" : \"NMS Pass/Fail\",\n",
    "                      \"rna_amplification_pass_fail\" : \"RNA amp Pass/Fail\",\n",
    "                      \"marker_sum_norm_label\": \"NMS score\",\n",
    "                      \"percent_cdna_longer_than_400bp\" : \"cDNA quality (%>400 bp)\",\n",
    "                      \"amplified_quantity_ng\" : \"Amplified content (ng)\"}, inplace=True)\n",
    "shinyh.rename(columns={\"Norm_Marker_Sum.0.4_label\" : \"NMS Pass/Fail\",\n",
    "                      \"rna_amplification_pass_fail\" : \"RNA amp Pass/Fail\",\n",
    "                      \"marker_sum_norm_label\": \"NMS score\",\n",
    "                      \"percent_cdna_longer_than_400bp\" : \"cDNA quality (%>400 bp)\",\n",
    "                      \"amplified_quantity_ng\" : \"Amplified content (ng)\"}, inplace=True)"
   ]
  },
  {
   "cell_type": "code",
   "execution_count": 11,
   "metadata": {},
   "outputs": [
    {
     "name": "stderr",
     "output_type": "stream",
     "text": [
      "INFO:functions.temp_funcs:Filtered dataframe based on RNA amp Pass/Fail == Fail\n",
      "INFO:functions.temp_funcs:Filtered dataframe based on RNA amp Pass/Fail == Fail\n"
     ]
    }
   ],
   "source": [
    "shinym = filter_df(shinym, \"RNA amp Pass/Fail\", \"Fail\") \n",
    "shinyh = filter_df(shinyh, \"RNA amp Pass/Fail\", \"Fail\")"
   ]
  },
  {
   "cell_type": "markdown",
   "metadata": {},
   "source": [
    "##### Filter RNA Amp pass_fail"
   ]
  },
  {
   "cell_type": "code",
   "execution_count": 12,
   "metadata": {},
   "outputs": [],
   "source": [
    "shiny = pd.concat([shinym, shinyh], ignore_index=True, sort =False) #8593\n",
    "shiny = shiny[shiny[\"cDNA quality (%>400 bp)\"] <=1] #1577\n",
    "shiny = shiny[shiny[\"Amplified content (ng)\"] <=50] #1550"
   ]
  },
  {
   "cell_type": "code",
   "execution_count": 13,
   "metadata": {},
   "outputs": [
    {
     "name": "stderr",
     "output_type": "stream",
     "text": [
      "INFO:functions.temp_funcs:Filtered dataframe based on NMS Pass/Fail == True\n",
      "INFO:functions.temp_funcs:Filtered dataframe based on NMS Pass/Fail == False\n"
     ]
    }
   ],
   "source": [
    "shiny_nmst = filter_df(shiny, \"NMS Pass/Fail\", True) #646 rows\n",
    "shiny_nmsf = filter_df(shiny, \"NMS Pass/Fail\", False) #904 rows\n",
    "#shiny_nmst.drop(columns=[\"NMS Pass/Fail\"], inplace=True)\n",
    "#shiny_nmsf.drop(columns=[\"NMS Pass/Fail\"], inplace=True)"
   ]
  },
  {
   "cell_type": "markdown",
   "metadata": {},
   "source": [
    "##### Plots"
   ]
  },
  {
   "cell_type": "code",
   "execution_count": 14,
   "metadata": {},
   "outputs": [],
   "source": [
    "colors=[\"#41ab5d\", \"#ef3b2c\"]"
   ]
  },
  {
   "cell_type": "code",
   "execution_count": 15,
   "metadata": {},
   "outputs": [
    {
     "data": {
      "image/png": "[encoded data removed]",
      "text/plain": [
       "<Figure size 216x1080 with 3 Axes>"
      ]
     },
     "metadata": {},
     "output_type": "display_data"
    }
   ],
   "source": [
    "fig_dims = (3, 15)\n",
    "f, axes = plt.subplots(nrows=3, ncols=1, figsize=fig_dims)\n",
    "\n",
    "ax = sns.violinplot(x=\"cell_specimen_project\", y=\"cDNA quality (%>400 bp)\", hue=\"NMS Pass/Fail\",\n",
    "                    data=shiny[shiny[\"cDNA quality (%>400 bp)\"] <=1], \n",
    "                    order=[\"mIVSCC-MET\", \"hIVSCC-MET\"], hue_order=[True, False],\n",
    "                    split=True, inner=\"quartile\", scale=\"count\",\n",
    "                    palette=colors, saturation=1, ax=axes[0])\n",
    "ax1 = sns.violinplot(x=\"cell_specimen_project\", y=\"NMS score\", hue=\"NMS Pass/Fail\",\n",
    "                     data=shiny[shiny[\"NMS score\"] <=1.5],\n",
    "                     order=[\"mIVSCC-MET\", \"hIVSCC-MET\"], hue_order=[True, False], \n",
    "                     split=True, inner=\"quartile\", scale=\"count\",\n",
    "                     palette=colors, saturation=1, ax=axes[1])\n",
    "ax2 = sns.violinplot(x=\"cell_specimen_project\", y=\"Amplified content (ng)\", hue=\"NMS Pass/Fail\",\n",
    "                     data=shiny[shiny[\"Amplified content (ng)\"] <=50],\n",
    "                     order=[\"mIVSCC-MET\", \"hIVSCC-MET\"], hue_order=[True, False], \n",
    "                     split=True, inner=\"quartile\", scale=\"count\",\n",
    "                     palette=colors, saturation=1, ax=axes[2])\n",
    "\n",
    "ax.legend_.remove()\n",
    "ax1.legend_.remove()\n",
    "ax2.legend_.remove()\n",
    "\n",
    "ax.set(xticklabels=[])\n",
    "ax1.set(xticklabels=[])\n",
    "\n",
    "ax.set_xlabel(\"\")\n",
    "ax1.set_xlabel(\"\")\n",
    "ax2.set_xlabel(\"Specimen Project Label\")\n",
    "\n",
    "handles, labels = ax.get_legend_handles_labels()\n",
    "l = plt.legend(handles[0:2], labels[0:2], title=\"NMS Pass/Fail\",\n",
    "               loc='upper center', bbox_to_anchor=(0.5, -0.18),\n",
    "               fancybox=True, shadow=True, ncol=2)\n",
    "plt.savefig(plot_path + \"rna_amp_violinplot.jpeg\", bbox_inches=\"tight\")"
   ]
  },
  {
   "cell_type": "code",
   "execution_count": null,
   "metadata": {},
   "outputs": [],
   "source": []
  },
  {
   "cell_type": "code",
   "execution_count": null,
   "metadata": {},
   "outputs": [],
   "source": []
  },
  {
   "cell_type": "code",
   "execution_count": null,
   "metadata": {},
   "outputs": [],
   "source": []
  },
  {
   "cell_type": "code",
   "execution_count": null,
   "metadata": {},
   "outputs": [],
   "source": []
  },
  {
   "cell_type": "markdown",
   "metadata": {},
   "source": [
    "##### Makes dfs to csvs"
   ]
  },
  {
   "cell_type": "code",
   "execution_count": 17,
   "metadata": {},
   "outputs": [],
   "source": [
    "#shiny.to_csv(csv_path + \"set_rna_amp.csv\")\n",
    "#true_nms_fail_rna.to_csv(csv_path + \"rna_amp.csv\")"
   ]
  },
  {
   "cell_type": "code",
   "execution_count": null,
   "metadata": {},
   "outputs": [],
   "source": []
  },
  {
   "cell_type": "code",
   "execution_count": null,
   "metadata": {},
   "outputs": [],
   "source": []
  }
 ],
 "metadata": {
  "kernelspec": {
   "display_name": "Python 3",
   "language": "python",
   "name": "python3"
  },
  "language_info": {
   "codemirror_mode": {
    "name": "ipython",
    "version": 3
   },
   "file_extension": ".py",
   "mimetype": "text/x-python",
   "name": "python",
   "nbconvert_exporter": "python",
   "pygments_lexer": "ipython3",
   "version": "3.7.4"
  }
 },
 "nbformat": 4,
 "nbformat_minor": 2
}
