{
 "cells": [
  {
   "cell_type": "markdown",
   "metadata": {},
   "source": [
    "##### Imports "
   ]
  },
  {
   "cell_type": "code",
   "execution_count": 1,
   "metadata": {},
   "outputs": [],
   "source": [
    "import pandas as pd\n",
    "import csv\n",
    "import logging\n",
    "from mephys_funcs import read_file, merge_dataframes, filter_date, drop_cols, drop_nans, \\\n",
    "create_cond_df, create_container_df\n",
    "\n",
    "import seaborn as sns\n",
    "import matplotlib.pyplot as plt\n",
    "sns.set(context = \"notebook\", style = \"ticks\", font=\"verdana\", font_scale = 1.35)"
   ]
  },
  {
   "cell_type": "markdown",
   "metadata": {},
   "source": [
    "##### Pandas Display Settings"
   ]
  },
  {
   "cell_type": "code",
   "execution_count": 2,
   "metadata": {},
   "outputs": [],
   "source": [
    "pd.set_option(\"display.max_colwidth\",150) #Expands the number of characters shown in the columns\n",
    "pd.set_option('display.max_columns', None)"
   ]
  },
  {
   "cell_type": "markdown",
   "metadata": {},
   "source": [
    "##### Lists/Paths"
   ]
  },
  {
   "cell_type": "code",
   "execution_count": 3,
   "metadata": {},
   "outputs": [],
   "source": [
    "fields_jem = [\"date\", \"organism_name\", \"name\", \"container\", \"rigOperator\",\n",
    "              \"status\", \"roi_major\", \"roi_minor\",\n",
    "              \"extraction.postPatch\", \"extraction.endPipetteR\"]\n",
    "fields_ephys = [\"b'name'\", \"b'patched_cell_container'\", \"b'vrest'\", \"b'ri'\", \"b'sag'\", \n",
    "                \"b'tau'\", \"b'upstroke_downstroke_ratio_long_square'\", \n",
    "                \"b'latency'\", \"b'f_i_curve_slope'\"]\n",
    "fields_shiny = [\"cell_name\", \"sample_id\", \"cluster_label\", \"broad_class_label\",\n",
    "                \"subclass_label\", \"cell_specimen_project\"]\n",
    "\n",
    "\n",
    "path_jem = \"Z:/Patch-Seq/compiled-jem-data/jem_metadata.csv\"\n",
    "path_ephys = \"C:/Users/ramr/Documents/Github/analysis_projects/csv/mephys_features.csv\"\n",
    "path_shiny = \"//allen/programs/celltypes/workgroups/rnaseqanalysis/shiny/patch_seq/star/mouse_patchseq_VISp_current/mapping.df.with.bp.40.lastmap.csv\"\n",
    "\n",
    "\n",
    "drop_cols_list = [\"b'name'\", \"b'patched_cell_container'\", \"cell_name\", \"sample_id\"]\n",
    "drop_nans_list = [\"date\", \"name\", \"rigOperator\"]\n",
    "\n",
    "r_users = [\"kristenh\", \"lindsayn\", \"ramr\", \"katherineb\", \"jessicat\"]"
   ]
  },
  {
   "cell_type": "markdown",
   "metadata": {},
   "source": [
    "##### Main"
   ]
  },
  {
   "cell_type": "code",
   "execution_count": 9,
   "metadata": {},
   "outputs": [],
   "source": [
    "def main():\n",
    "    global merge_all, merge_all_glu, merge_all_gab\n",
    "    jem = read_file(path_jem, fields_jem)\n",
    "    ephys = read_file(path_ephys, fields_ephys)\n",
    "    shiny = read_file(path_shiny, fields_shiny)\n",
    "    merge_je = merge_dataframes(jem, ephys, \"name\", \"b'name'\")\n",
    "    merge_all = merge_dataframes(merge_je, shiny, \"name\", \"cell_name\")\n",
    "    merge_all = filter_date(merge_all, \"date\")\n",
    "    merge_all = drop_cols(merge_all, drop_cols_list)\n",
    "    merge_all = drop_nans(merge_all, drop_nans_list)\n",
    "    merge_all = create_container_df(merge_all, \"container\")\n",
    "    merge_all = create_cond_df(merge_all, \"rigOperator\", r_users)\n",
    "    merge_all_glu = create_cond_df(merge_all, \"broad_class_label\", [\"Glutamatergic\"])\n",
    "    merge_all_gab = create_cond_df(merge_all, \"broad_class_label\", [\"GABAergic\"])"
   ]
  },
  {
   "cell_type": "code",
   "execution_count": 10,
   "metadata": {},
   "outputs": [
    {
     "name": "stderr",
     "output_type": "stream",
     "text": [
      "INFO:mephys_funcs:Read file in as a pandas dataframe\n",
      "INFO:mephys_funcs:Read file in as a pandas dataframe\n",
      "INFO:mephys_funcs:Read file in as a pandas dataframe\n",
      "INFO:mephys_funcs:Merged two pandas dataframe into one dataframe\n",
      "INFO:mephys_funcs:Merged two pandas dataframe into one dataframe\n",
      "INFO:mephys_funcs:Sorted date to only display 2020 data\n",
      "INFO:mephys_funcs:Dropped columns: [\"b'name'\", \"b'patched_cell_container'\", 'cell_name', 'sample_id']\n",
      "INFO:mephys_funcs:Dropped NaNs from these columns: ['date', 'name', 'rigOperator']\n",
      "INFO:mephys_funcs:Created a container_label column to show(ex.'PA')\n",
      "INFO:mephys_funcs:Created a conditional dataframe based on a list of values\n",
      "INFO:mephys_funcs:Created a conditional dataframe based on a list of values\n",
      "INFO:mephys_funcs:Created a conditional dataframe based on a list of values\n"
     ]
    }
   ],
   "source": [
    "if __name__ == \"__main__\":\n",
    "    main()"
   ]
  },
  {
   "cell_type": "markdown",
   "metadata": {},
   "source": [
    "##### Mouse Region Dataframes"
   ]
  },
  {
   "cell_type": "code",
   "execution_count": 24,
   "metadata": {},
   "outputs": [
    {
     "name": "stderr",
     "output_type": "stream",
     "text": [
      "INFO:mephys_funcs:Created a conditional dataframe based on a list of values\n",
      "INFO:mephys_funcs:Created a conditional dataframe based on a list of values\n",
      "INFO:mephys_funcs:Created a conditional dataframe based on a list of values\n",
      "INFO:mephys_funcs:Created a conditional dataframe based on a list of values\n",
      "INFO:mephys_funcs:Created a conditional dataframe based on a list of values\n",
      "INFO:mephys_funcs:Created a conditional dataframe based on a list of values\n"
     ]
    }
   ],
   "source": [
    "rsp = create_cond_df(merge_all, \"roi_major\", [\"RSPd\", \"RSPv\"])\n",
    "ssp = create_cond_df(merge_all, \"roi_major\", [\"SSp\"])\n",
    "orb = create_cond_df(merge_all, \"roi_major\", [\"ORB\"])\n",
    "ctxsp = create_cond_df(merge_all, \"roi_major\", [\"CTXsp\"])\n",
    "mo = create_cond_df(merge_all, \"roi_major\", [\"MOp\", \"MOs\"])\n",
    "visp = create_cond_df(merge_all, \"roi_major\", [\"VISp\"])"
   ]
  },
  {
   "cell_type": "markdown",
   "metadata": {},
   "source": [
    "##### Gluatamatergic Mouse Region Dataframes"
   ]
  },
  {
   "cell_type": "code",
   "execution_count": 11,
   "metadata": {},
   "outputs": [
    {
     "name": "stderr",
     "output_type": "stream",
     "text": [
      "INFO:mephys_funcs:Created a conditional dataframe based on a list of values\n",
      "INFO:mephys_funcs:Created a conditional dataframe based on a list of values\n",
      "INFO:mephys_funcs:Created a conditional dataframe based on a list of values\n",
      "INFO:mephys_funcs:Created a conditional dataframe based on a list of values\n",
      "INFO:mephys_funcs:Created a conditional dataframe based on a list of values\n",
      "INFO:mephys_funcs:Created a conditional dataframe based on a list of values\n"
     ]
    }
   ],
   "source": [
    "rsp_glu = create_cond_df(merge_all_glu, \"roi_major\", [\"RSPd\", \"RSPv\"])\n",
    "ssp_glu = create_cond_df(merge_all_glu, \"roi_major\", [\"SSp\"])\n",
    "orb_glu = create_cond_df(merge_all_glu, \"roi_major\", [\"ORB\"])\n",
    "ctxsp_glu = create_cond_df(merge_all_glu, \"roi_major\", [\"CTXsp\"])\n",
    "mo_glu = create_cond_df(merge_all_glu, \"roi_major\", [\"MOp\", \"MOs\"])\n",
    "visp_glu = create_cond_df(merge_all_glu, \"roi_major\", [\"VISp\"])"
   ]
  },
  {
   "cell_type": "markdown",
   "metadata": {},
   "source": [
    "##### GABAergic Mouse Region Dataframes"
   ]
  },
  {
   "cell_type": "code",
   "execution_count": 12,
   "metadata": {},
   "outputs": [
    {
     "name": "stderr",
     "output_type": "stream",
     "text": [
      "INFO:mephys_funcs:Created a conditional dataframe based on a list of values\n",
      "INFO:mephys_funcs:Created a conditional dataframe based on a list of values\n",
      "INFO:mephys_funcs:Created a conditional dataframe based on a list of values\n",
      "INFO:mephys_funcs:Created a conditional dataframe based on a list of values\n",
      "INFO:mephys_funcs:Created a conditional dataframe based on a list of values\n",
      "INFO:mephys_funcs:Created a conditional dataframe based on a list of values\n"
     ]
    }
   ],
   "source": [
    "rsp_gab = create_cond_df(merge_all_gab, \"roi_major\", [\"RSPd\", \"RSPv\"])\n",
    "ssp_gab = create_cond_df(merge_all_gab, \"roi_major\", [\"SSp\"])\n",
    "orb_gab = create_cond_df(merge_all_gab, \"roi_major\", [\"ORB\"])\n",
    "ctxsp_gab = create_cond_df(merge_all_gab, \"roi_major\", [\"CTXsp\"])\n",
    "mo_gab = create_cond_df(merge_all_gab, \"roi_major\", [\"MOp\", \"MOs\"])\n",
    "visp_gab = create_cond_df(merge_all_gab, \"roi_major\", [\"VISp\"])"
   ]
  },
  {
   "cell_type": "markdown",
   "metadata": {},
   "source": [
    "##### Count Dictionary"
   ]
  },
  {
   "cell_type": "code",
   "execution_count": 25,
   "metadata": {},
   "outputs": [],
   "source": [
    "region_dict = {\"Overall Mouse Total count\": merge_all.name.count(),\n",
    "               \"RSP Total\": rsp.name.count(),\n",
    "               \"SSP Total\": ssp.name.count(),\n",
    "               \"ORB Total\": orb.name.count(),\n",
    "               \"CTXsp Total\": ctxsp.name.count(),\n",
    "               \"MO Total\": mo.name.count(),\n",
    "               \"VISP Total\": visp.name.count()}\n",
    "\n",
    "glu_dict = {\"Glutamatergic Mouse Total count\": merge_all_glu.name.count(),\n",
    "            \"RSP\": rsp_glu.name.count(),\n",
    "            \"SSP\": ssp_glu.name.count(),\n",
    "            \"ORB\": orb_glu.name.count(),\n",
    "            \"CTXsp\": ctxsp_glu.name.count(),\n",
    "            \"MO\": mo_glu.name.count(),\n",
    "            \"VISP\": visp_glu.name.count()}\n",
    "\n",
    "gab_dict = {\"GABAergic Mouse Total count\": merge_all_gab.name.count(),\n",
    "            \"RSP\": rsp_gab.name.count(),\n",
    "            \"SSP\": ssp_gab.name.count(),\n",
    "            \"ORB\": orb_gab.name.count(),\n",
    "            \"CTXsp\": ctxsp_gab.name.count(),\n",
    "            \"MO\": mo_gab.name.count(),\n",
    "            \"VISP\": visp_gab.name.count()}"
   ]
  },
  {
   "cell_type": "code",
   "execution_count": 26,
   "metadata": {},
   "outputs": [
    {
     "data": {
      "text/plain": [
       "{'Overall Mouse Total count': 159,\n",
       " 'RSP Total': 67,\n",
       " 'SSP Total': 25,\n",
       " 'ORB Total': 16,\n",
       " 'CTXsp Total': 10,\n",
       " 'MO Total': 25,\n",
       " 'VISP Total': 16}"
      ]
     },
     "execution_count": 26,
     "metadata": {},
     "output_type": "execute_result"
    }
   ],
   "source": [
    "region_dict"
   ]
  },
  {
   "cell_type": "code",
   "execution_count": 20,
   "metadata": {},
   "outputs": [
    {
     "data": {
      "text/plain": [
       "{'Glutamatergic Mouse Total count': 128,\n",
       " 'RSP': 53,\n",
       " 'SSP': 18,\n",
       " 'ORB': 11,\n",
       " 'CTXsp': 6,\n",
       " 'MO': 24,\n",
       " 'VISP': 16}"
      ]
     },
     "execution_count": 20,
     "metadata": {},
     "output_type": "execute_result"
    }
   ],
   "source": [
    "glu_dict"
   ]
  },
  {
   "cell_type": "code",
   "execution_count": 21,
   "metadata": {},
   "outputs": [
    {
     "data": {
      "text/plain": [
       "{'GABAergic Mouse Total count': 31,\n",
       " 'RSP': 14,\n",
       " 'SSP': 7,\n",
       " 'ORB': 5,\n",
       " 'CTXsp': 4,\n",
       " 'MO': 1,\n",
       " 'VISP': 0}"
      ]
     },
     "execution_count": 21,
     "metadata": {},
     "output_type": "execute_result"
    }
   ],
   "source": [
    "gab_dict"
   ]
  },
  {
   "cell_type": "markdown",
   "metadata": {},
   "source": [
    "##### Paths"
   ]
  },
  {
   "cell_type": "code",
   "execution_count": null,
   "metadata": {},
   "outputs": [],
   "source": [
    "csv_path = \"C:/Users/ramr/Documents/Github/analysis_projects/csv/\"\n",
    "excel_path = \"C:/Users/ramr/Documents/Github/analysis_projects/excel/\""
   ]
  },
  {
   "cell_type": "markdown",
   "metadata": {},
   "source": [
    "##### Writing to csv_file"
   ]
  },
  {
   "cell_type": "code",
   "execution_count": null,
   "metadata": {},
   "outputs": [],
   "source": [
    "#jem.to_csv(csv_path + \"jem.csv\")\n",
    "#jem_2020.to_csv(csv_path + \"jem_2020.csv\")"
   ]
  },
  {
   "cell_type": "markdown",
   "metadata": {},
   "source": [
    "##### Writing to excel_file"
   ]
  },
  {
   "cell_type": "code",
   "execution_count": null,
   "metadata": {},
   "outputs": [],
   "source": [
    "writer = pd.ExcelWriter(excel_path + \"new_region.xlsx\")\n",
    "merge_all.to_excel(writer, \"All\", freeze_panes=(1,0))\n",
    "rsp.to_excel(writer, \"RSP\", freeze_panes=(1,0))\n",
    "ssp.to_excel(writer, \"SSP\", freeze_panes=(1,0))\n",
    "orb.to_excel(writer, \"ORB\", freeze_panes=(1,0))\n",
    "ctxsp.to_excel(writer, \"CTXsp\", freeze_panes=(1,0))\n",
    "mo.to_excel(writer, \"MO\", freeze_panes=(1,0))\n",
    "visp.to_excel(writer, \"VISp\", freeze_panes=(1,0))\n",
    "writer.save()"
   ]
  },
  {
   "cell_type": "markdown",
   "metadata": {},
   "source": [
    "##### RSP Plots"
   ]
  },
  {
   "cell_type": "code",
   "execution_count": 35,
   "metadata": {},
   "outputs": [
    {
     "name": "stderr",
     "output_type": "stream",
     "text": [
      "C:\\Users\\ramr\\AppData\\Local\\Continuum\\anaconda3\\lib\\site-packages\\pandas\\core\\generic.py:6702: SettingWithCopyWarning: \n",
      "A value is trying to be set on a copy of a slice from a DataFrame.\n",
      "Try using .loc[row_indexer,col_indexer] = value instead\n",
      "\n",
      "See the caveats in the documentation: http://pandas.pydata.org/pandas-docs/stable/user_guide/indexing.html#returning-a-view-versus-a-copy\n",
      "  regex=regex,\n"
     ]
    }
   ],
   "source": [
    "rsp_glu.replace({\"roi_major\": {\"RSPd\": \"RSP\", \"RSPv\": \"RSP\"}}, inplace=True)"
   ]
  },
  {
   "cell_type": "code",
   "execution_count": 36,
   "metadata": {},
   "outputs": [],
   "source": [
    "rsp_visp_glu = pd.concat([rsp_glu, visp_glu])"
   ]
  },
  {
   "cell_type": "code",
   "execution_count": 208,
   "metadata": {},
   "outputs": [
    {
     "data": {
      "text/html": [
       "<div>\n",
       "<style scoped>\n",
       "    .dataframe tbody tr th:only-of-type {\n",
       "        vertical-align: middle;\n",
       "    }\n",
       "\n",
       "    .dataframe tbody tr th {\n",
       "        vertical-align: top;\n",
       "    }\n",
       "\n",
       "    .dataframe thead th {\n",
       "        text-align: right;\n",
       "    }\n",
       "</style>\n",
       "<table border=\"1\" class=\"dataframe\">\n",
       "  <thead>\n",
       "    <tr style=\"text-align: right;\">\n",
       "      <th></th>\n",
       "      <th>date</th>\n",
       "      <th>organism_name</th>\n",
       "      <th>name</th>\n",
       "      <th>extraction.endPipetteR</th>\n",
       "      <th>extraction.postPatch</th>\n",
       "      <th>rigOperator</th>\n",
       "      <th>status</th>\n",
       "      <th>roi_major</th>\n",
       "      <th>roi_minor</th>\n",
       "      <th>container</th>\n",
       "      <th>b'vrest'</th>\n",
       "      <th>b'ri'</th>\n",
       "      <th>b'sag'</th>\n",
       "      <th>b'tau'</th>\n",
       "      <th>b'upstroke_downstroke_ratio_long_square'</th>\n",
       "      <th>b'latency'</th>\n",
       "      <th>b'f_i_curve_slope'</th>\n",
       "      <th>cluster_label</th>\n",
       "      <th>cell_specimen_project</th>\n",
       "      <th>broad_class_label</th>\n",
       "      <th>subclass_label</th>\n",
       "      <th>container_label</th>\n",
       "    </tr>\n",
       "  </thead>\n",
       "  <tbody>\n",
       "    <tr>\n",
       "      <td>0</td>\n",
       "      <td>2020-01-03 10:40:30 -0800</td>\n",
       "      <td>Mouse</td>\n",
       "      <td>Gad2-IRES-Cre;Ai14-504539.10.01.01</td>\n",
       "      <td>1000.0</td>\n",
       "      <td>nucleus_present</td>\n",
       "      <td>jessicat</td>\n",
       "      <td>SUCCESS</td>\n",
       "      <td>RSP</td>\n",
       "      <td>layer 2/3</td>\n",
       "      <td>PFS4_200103_701_A01</td>\n",
       "      <td>-65.282120</td>\n",
       "      <td>59.750024</td>\n",
       "      <td>0.148347</td>\n",
       "      <td>13.020941</td>\n",
       "      <td>3.711103</td>\n",
       "      <td>0.03164</td>\n",
       "      <td>0.149533</td>\n",
       "      <td>L2/3 IT VISp Agmat</td>\n",
       "      <td>mIVSCC-MET</td>\n",
       "      <td>Glutamatergic</td>\n",
       "      <td>L2/3 IT</td>\n",
       "      <td>PF</td>\n",
       "    </tr>\n",
       "    <tr>\n",
       "      <td>1</td>\n",
       "      <td>2020-01-03 13:00:07 -0800</td>\n",
       "      <td>Mouse</td>\n",
       "      <td>Pvalb-IRES-Cre;Ai14-504851.11.01.02</td>\n",
       "      <td>2000.0</td>\n",
       "      <td>nucleus_present</td>\n",
       "      <td>jessicat</td>\n",
       "      <td>SUCCESS</td>\n",
       "      <td>RSP</td>\n",
       "      <td>layer 2/3</td>\n",
       "      <td>PFS4_200103_703_A01</td>\n",
       "      <td>-66.313396</td>\n",
       "      <td>67.375034</td>\n",
       "      <td>0.269889</td>\n",
       "      <td>10.218081</td>\n",
       "      <td>2.976385</td>\n",
       "      <td>0.04538</td>\n",
       "      <td>0.060000</td>\n",
       "      <td>n15</td>\n",
       "      <td>mIVSCC-MET</td>\n",
       "      <td>Glutamatergic</td>\n",
       "      <td>L4</td>\n",
       "      <td>PF</td>\n",
       "    </tr>\n",
       "    <tr>\n",
       "      <td>2</td>\n",
       "      <td>2020-01-03 13:00:07 -0800</td>\n",
       "      <td>Mouse</td>\n",
       "      <td>Pvalb-IRES-Cre;Ai14-504851.11.01.01</td>\n",
       "      <td>1000.0</td>\n",
       "      <td>nucleus_present</td>\n",
       "      <td>jessicat</td>\n",
       "      <td>SUCCESS</td>\n",
       "      <td>RSP</td>\n",
       "      <td>layer 5</td>\n",
       "      <td>PFS4_200103_702_A01</td>\n",
       "      <td>-88.126678</td>\n",
       "      <td>36.550403</td>\n",
       "      <td>0.159878</td>\n",
       "      <td>9.964491</td>\n",
       "      <td>2.951999</td>\n",
       "      <td>0.04614</td>\n",
       "      <td>0.024934</td>\n",
       "      <td>L5 PT VISp Lgr5</td>\n",
       "      <td>mIVSCC-MET</td>\n",
       "      <td>Glutamatergic</td>\n",
       "      <td>L5 PT</td>\n",
       "      <td>PF</td>\n",
       "    </tr>\n",
       "    <tr>\n",
       "      <td>9</td>\n",
       "      <td>2020-01-06 15:54:23 -0800</td>\n",
       "      <td>Mouse</td>\n",
       "      <td>Vip-IRES-Cre;Ai14-504181.07.02.01</td>\n",
       "      <td>1500.0</td>\n",
       "      <td>nucleus_present</td>\n",
       "      <td>katherineb</td>\n",
       "      <td>SUCCESS</td>\n",
       "      <td>RSP</td>\n",
       "      <td>layer 5</td>\n",
       "      <td>PES4_200106_653_A01</td>\n",
       "      <td>-70.609880</td>\n",
       "      <td>96.781231</td>\n",
       "      <td>0.159202</td>\n",
       "      <td>18.911453</td>\n",
       "      <td>3.865665</td>\n",
       "      <td>0.05422</td>\n",
       "      <td>0.100000</td>\n",
       "      <td>L5 PT VISp C1ql2 Cdh13</td>\n",
       "      <td>mIVSCC-MET</td>\n",
       "      <td>Glutamatergic</td>\n",
       "      <td>L5 PT</td>\n",
       "      <td>PE</td>\n",
       "    </tr>\n",
       "    <tr>\n",
       "      <td>10</td>\n",
       "      <td>2020-01-06 15:59:07 -0800</td>\n",
       "      <td>Mouse</td>\n",
       "      <td>Vip-IRES-Cre;Ai14-504181.12.02.01</td>\n",
       "      <td>5.0</td>\n",
       "      <td>nucleus_present</td>\n",
       "      <td>jessicat</td>\n",
       "      <td>SUCCESS</td>\n",
       "      <td>RSP</td>\n",
       "      <td>layer 5</td>\n",
       "      <td>PFS4_200106_703_A01</td>\n",
       "      <td>-68.142401</td>\n",
       "      <td>137.500003</td>\n",
       "      <td>0.084605</td>\n",
       "      <td>12.307478</td>\n",
       "      <td>3.501689</td>\n",
       "      <td>0.04022</td>\n",
       "      <td>0.199398</td>\n",
       "      <td>n9</td>\n",
       "      <td>mIVSCC-MET</td>\n",
       "      <td>Glutamatergic</td>\n",
       "      <td>L5 PT</td>\n",
       "      <td>PF</td>\n",
       "    </tr>\n",
       "    <tr>\n",
       "      <td>...</td>\n",
       "      <td>...</td>\n",
       "      <td>...</td>\n",
       "      <td>...</td>\n",
       "      <td>...</td>\n",
       "      <td>...</td>\n",
       "      <td>...</td>\n",
       "      <td>...</td>\n",
       "      <td>...</td>\n",
       "      <td>...</td>\n",
       "      <td>...</td>\n",
       "      <td>...</td>\n",
       "      <td>...</td>\n",
       "      <td>...</td>\n",
       "      <td>...</td>\n",
       "      <td>...</td>\n",
       "      <td>...</td>\n",
       "      <td>...</td>\n",
       "      <td>...</td>\n",
       "      <td>...</td>\n",
       "      <td>...</td>\n",
       "      <td>...</td>\n",
       "      <td>...</td>\n",
       "    </tr>\n",
       "    <tr>\n",
       "      <td>132</td>\n",
       "      <td>2020-01-16 13:33:41 -0800</td>\n",
       "      <td>Mouse</td>\n",
       "      <td>Esr2-IRES2-Cre;Ai14-506385.03.01.02</td>\n",
       "      <td>1100.0</td>\n",
       "      <td>nucleus_present</td>\n",
       "      <td>kristenh</td>\n",
       "      <td>SUCCESS</td>\n",
       "      <td>VISp</td>\n",
       "      <td>layer 6a</td>\n",
       "      <td>P1S4_200116_002_A01</td>\n",
       "      <td>-59.593008</td>\n",
       "      <td>255.437493</td>\n",
       "      <td>0.027354</td>\n",
       "      <td>34.028713</td>\n",
       "      <td>4.373670</td>\n",
       "      <td>0.04598</td>\n",
       "      <td>0.180203</td>\n",
       "      <td>L6 IT VISp Penk Col27a1</td>\n",
       "      <td>mIVSCC-MET</td>\n",
       "      <td>Glutamatergic</td>\n",
       "      <td>L6 IT</td>\n",
       "      <td>P1</td>\n",
       "    </tr>\n",
       "    <tr>\n",
       "      <td>134</td>\n",
       "      <td>2020-01-16 14:34:44 -0800</td>\n",
       "      <td>Mouse</td>\n",
       "      <td>Esr2-IRES2-Cre;Ai14-506385.03.02.02</td>\n",
       "      <td>1800.0</td>\n",
       "      <td>nucleus_present</td>\n",
       "      <td>katherineb</td>\n",
       "      <td>SUCCESS</td>\n",
       "      <td>VISp</td>\n",
       "      <td>layer 5</td>\n",
       "      <td>PES4_200116_655_A01</td>\n",
       "      <td>-75.442434</td>\n",
       "      <td>157.937467</td>\n",
       "      <td>0.028307</td>\n",
       "      <td>21.828857</td>\n",
       "      <td>3.581690</td>\n",
       "      <td>0.05750</td>\n",
       "      <td>0.087750</td>\n",
       "      <td>L6 IT VISp Car3</td>\n",
       "      <td>mIVSCC-MET</td>\n",
       "      <td>Glutamatergic</td>\n",
       "      <td>L6 IT</td>\n",
       "      <td>PE</td>\n",
       "    </tr>\n",
       "    <tr>\n",
       "      <td>135</td>\n",
       "      <td>2020-01-16 14:34:44 -0800</td>\n",
       "      <td>Mouse</td>\n",
       "      <td>Esr2-IRES2-Cre;Ai14-506385.03.02.01</td>\n",
       "      <td>1000.0</td>\n",
       "      <td>nucleus_present</td>\n",
       "      <td>katherineb</td>\n",
       "      <td>SUCCESS</td>\n",
       "      <td>VISp</td>\n",
       "      <td>layer 5</td>\n",
       "      <td>PES4_200116_654_A01</td>\n",
       "      <td>-83.142639</td>\n",
       "      <td>134.187505</td>\n",
       "      <td>0.079507</td>\n",
       "      <td>22.286570</td>\n",
       "      <td>3.597191</td>\n",
       "      <td>0.05322</td>\n",
       "      <td>0.170000</td>\n",
       "      <td>L6 IT VISp Car3</td>\n",
       "      <td>mIVSCC-MET</td>\n",
       "      <td>Glutamatergic</td>\n",
       "      <td>L6 IT</td>\n",
       "      <td>PE</td>\n",
       "    </tr>\n",
       "    <tr>\n",
       "      <td>138</td>\n",
       "      <td>2020-01-17 10:33:14 -0800</td>\n",
       "      <td>Mouse</td>\n",
       "      <td>Esr2-IRES2-Cre;Ai14-506389.03.01.02</td>\n",
       "      <td>3000.0</td>\n",
       "      <td>nucleus_present</td>\n",
       "      <td>jessicat</td>\n",
       "      <td>SUCCESS</td>\n",
       "      <td>VISp</td>\n",
       "      <td>layer 6a</td>\n",
       "      <td>PFS4_200117_701_A01</td>\n",
       "      <td>-72.435637</td>\n",
       "      <td>88.071622</td>\n",
       "      <td>0.002853</td>\n",
       "      <td>13.815666</td>\n",
       "      <td>3.243047</td>\n",
       "      <td>0.13772</td>\n",
       "      <td>0.170000</td>\n",
       "      <td>L6 IT VISp Car3</td>\n",
       "      <td>mIVSCC-MET</td>\n",
       "      <td>Glutamatergic</td>\n",
       "      <td>L6 IT</td>\n",
       "      <td>PF</td>\n",
       "    </tr>\n",
       "    <tr>\n",
       "      <td>147</td>\n",
       "      <td>2020-01-17 14:02:44 -0800</td>\n",
       "      <td>Mouse</td>\n",
       "      <td>Esr2-IRES2-Cre;Ai14-506388.05.02.01</td>\n",
       "      <td>2700.0</td>\n",
       "      <td>nucleus_present</td>\n",
       "      <td>ramr</td>\n",
       "      <td>SUCCESS</td>\n",
       "      <td>VISp</td>\n",
       "      <td>layer 5</td>\n",
       "      <td>PAS4_200117_454_A01</td>\n",
       "      <td>-64.854726</td>\n",
       "      <td>128.656194</td>\n",
       "      <td>0.177085</td>\n",
       "      <td>20.603852</td>\n",
       "      <td>3.534351</td>\n",
       "      <td>0.04170</td>\n",
       "      <td>0.171028</td>\n",
       "      <td>n9</td>\n",
       "      <td>mIVSCC-MET</td>\n",
       "      <td>Glutamatergic</td>\n",
       "      <td>L5 PT</td>\n",
       "      <td>PA</td>\n",
       "    </tr>\n",
       "  </tbody>\n",
       "</table>\n",
       "<p>69 rows × 22 columns</p>\n",
       "</div>"
      ],
      "text/plain": [
       "                          date organism_name  \\\n",
       "0    2020-01-03 10:40:30 -0800         Mouse   \n",
       "1    2020-01-03 13:00:07 -0800         Mouse   \n",
       "2    2020-01-03 13:00:07 -0800         Mouse   \n",
       "9    2020-01-06 15:54:23 -0800         Mouse   \n",
       "10   2020-01-06 15:59:07 -0800         Mouse   \n",
       "..                         ...           ...   \n",
       "132  2020-01-16 13:33:41 -0800         Mouse   \n",
       "134  2020-01-16 14:34:44 -0800         Mouse   \n",
       "135  2020-01-16 14:34:44 -0800         Mouse   \n",
       "138  2020-01-17 10:33:14 -0800         Mouse   \n",
       "147  2020-01-17 14:02:44 -0800         Mouse   \n",
       "\n",
       "                                    name  extraction.endPipetteR  \\\n",
       "0     Gad2-IRES-Cre;Ai14-504539.10.01.01                  1000.0   \n",
       "1    Pvalb-IRES-Cre;Ai14-504851.11.01.02                  2000.0   \n",
       "2    Pvalb-IRES-Cre;Ai14-504851.11.01.01                  1000.0   \n",
       "9      Vip-IRES-Cre;Ai14-504181.07.02.01                  1500.0   \n",
       "10     Vip-IRES-Cre;Ai14-504181.12.02.01                     5.0   \n",
       "..                                   ...                     ...   \n",
       "132  Esr2-IRES2-Cre;Ai14-506385.03.01.02                  1100.0   \n",
       "134  Esr2-IRES2-Cre;Ai14-506385.03.02.02                  1800.0   \n",
       "135  Esr2-IRES2-Cre;Ai14-506385.03.02.01                  1000.0   \n",
       "138  Esr2-IRES2-Cre;Ai14-506389.03.01.02                  3000.0   \n",
       "147  Esr2-IRES2-Cre;Ai14-506388.05.02.01                  2700.0   \n",
       "\n",
       "    extraction.postPatch rigOperator   status roi_major  roi_minor  \\\n",
       "0        nucleus_present    jessicat  SUCCESS       RSP  layer 2/3   \n",
       "1        nucleus_present    jessicat  SUCCESS       RSP  layer 2/3   \n",
       "2        nucleus_present    jessicat  SUCCESS       RSP    layer 5   \n",
       "9        nucleus_present  katherineb  SUCCESS       RSP    layer 5   \n",
       "10       nucleus_present    jessicat  SUCCESS       RSP    layer 5   \n",
       "..                   ...         ...      ...       ...        ...   \n",
       "132      nucleus_present    kristenh  SUCCESS      VISp   layer 6a   \n",
       "134      nucleus_present  katherineb  SUCCESS      VISp    layer 5   \n",
       "135      nucleus_present  katherineb  SUCCESS      VISp    layer 5   \n",
       "138      nucleus_present    jessicat  SUCCESS      VISp   layer 6a   \n",
       "147      nucleus_present        ramr  SUCCESS      VISp    layer 5   \n",
       "\n",
       "               container   b'vrest'       b'ri'    b'sag'     b'tau'  \\\n",
       "0    PFS4_200103_701_A01 -65.282120   59.750024  0.148347  13.020941   \n",
       "1    PFS4_200103_703_A01 -66.313396   67.375034  0.269889  10.218081   \n",
       "2    PFS4_200103_702_A01 -88.126678   36.550403  0.159878   9.964491   \n",
       "9    PES4_200106_653_A01 -70.609880   96.781231  0.159202  18.911453   \n",
       "10   PFS4_200106_703_A01 -68.142401  137.500003  0.084605  12.307478   \n",
       "..                   ...        ...         ...       ...        ...   \n",
       "132  P1S4_200116_002_A01 -59.593008  255.437493  0.027354  34.028713   \n",
       "134  PES4_200116_655_A01 -75.442434  157.937467  0.028307  21.828857   \n",
       "135  PES4_200116_654_A01 -83.142639  134.187505  0.079507  22.286570   \n",
       "138  PFS4_200117_701_A01 -72.435637   88.071622  0.002853  13.815666   \n",
       "147  PAS4_200117_454_A01 -64.854726  128.656194  0.177085  20.603852   \n",
       "\n",
       "     b'upstroke_downstroke_ratio_long_square'  b'latency'  b'f_i_curve_slope'  \\\n",
       "0                                    3.711103     0.03164            0.149533   \n",
       "1                                    2.976385     0.04538            0.060000   \n",
       "2                                    2.951999     0.04614            0.024934   \n",
       "9                                    3.865665     0.05422            0.100000   \n",
       "10                                   3.501689     0.04022            0.199398   \n",
       "..                                        ...         ...                 ...   \n",
       "132                                  4.373670     0.04598            0.180203   \n",
       "134                                  3.581690     0.05750            0.087750   \n",
       "135                                  3.597191     0.05322            0.170000   \n",
       "138                                  3.243047     0.13772            0.170000   \n",
       "147                                  3.534351     0.04170            0.171028   \n",
       "\n",
       "               cluster_label cell_specimen_project broad_class_label  \\\n",
       "0         L2/3 IT VISp Agmat            mIVSCC-MET     Glutamatergic   \n",
       "1                        n15            mIVSCC-MET     Glutamatergic   \n",
       "2            L5 PT VISp Lgr5            mIVSCC-MET     Glutamatergic   \n",
       "9     L5 PT VISp C1ql2 Cdh13            mIVSCC-MET     Glutamatergic   \n",
       "10                        n9            mIVSCC-MET     Glutamatergic   \n",
       "..                       ...                   ...               ...   \n",
       "132  L6 IT VISp Penk Col27a1            mIVSCC-MET     Glutamatergic   \n",
       "134          L6 IT VISp Car3            mIVSCC-MET     Glutamatergic   \n",
       "135          L6 IT VISp Car3            mIVSCC-MET     Glutamatergic   \n",
       "138          L6 IT VISp Car3            mIVSCC-MET     Glutamatergic   \n",
       "147                       n9            mIVSCC-MET     Glutamatergic   \n",
       "\n",
       "    subclass_label container_label  \n",
       "0          L2/3 IT              PF  \n",
       "1               L4              PF  \n",
       "2            L5 PT              PF  \n",
       "9            L5 PT              PE  \n",
       "10           L5 PT              PF  \n",
       "..             ...             ...  \n",
       "132          L6 IT              P1  \n",
       "134          L6 IT              PE  \n",
       "135          L6 IT              PE  \n",
       "138          L6 IT              PF  \n",
       "147          L5 PT              PA  \n",
       "\n",
       "[69 rows x 22 columns]"
      ]
     },
     "execution_count": 208,
     "metadata": {},
     "output_type": "execute_result"
    }
   ],
   "source": [
    "rsp_visp_glu"
   ]
  },
  {
   "cell_type": "code",
   "execution_count": 190,
   "metadata": {},
   "outputs": [],
   "source": [
    "def box_plt(col_y, df=rsp_visp_glu):\n",
    "    \"\"\"\n",
    "    \"\"\"\n",
    "    colors=[\"#a1d99b\", \"#9ecae1\"]\n",
    "    fig_dims = (12, 8)\n",
    "    f, axes = plt.subplots(figsize=fig_dims)\n",
    "\n",
    "    ax = sns.boxplot(x=\"subclass_label\",\n",
    "                     y=col_y,\n",
    "                     hue=\"roi_major\",\n",
    "                     data=df,\n",
    "                     order = [\"L2/3 IT\", \"L4\", \"L5 IT\", \"L5 PT\", \"L6 IT\", \"L6b\", \"NP\"],\n",
    "                     hue_order = [\"RSP\", \"VISp\"],\n",
    "                     palette=colors,\n",
    "                     saturation=1,\n",
    "                     width=0.8,\n",
    "                     linewidth=1,\n",
    "                     showfliers=False,)\n",
    "\n",
    "    ax = sns.stripplot(x=\"subclass_label\",\n",
    "                       y=col_y,\n",
    "                       hue=\"roi_major\",\n",
    "                       data=df,\n",
    "                       order = [\"L2/3 IT\", \"L4\", \"L5 IT\", \"L5 PT\", \"L6 IT\", \"L6b\", \"NP\"],\n",
    "                       hue_order = [\"RSP\", \"VISp\"],\n",
    "                       jitter=False,\n",
    "                       size=4.5,\n",
    "                       color=\"0.2\",\n",
    "                       split=True)\n",
    "    \n",
    "    sns.despine(trim=True, left=False)\n",
    "    ax.set(xlabel=\"T-types\", ylabel=\"Resting Membrane Potential (mV)\")\n",
    "    #ax.invert_yaxis()\n",
    "    #ax.set(ylim=(-85, -55)) Default is -90, -55\n",
    "    #ax.set_ylabel(\"col_label\", fontsize=16)\n",
    "    #plt.savefig(sample.jpeg\", bbox_inches=\"tight\") "
   ]
  },
  {
   "cell_type": "code",
   "execution_count": 193,
   "metadata": {},
   "outputs": [
    {
     "name": "stderr",
     "output_type": "stream",
     "text": [
      "C:\\Users\\ramr\\AppData\\Local\\Continuum\\anaconda3\\lib\\site-packages\\seaborn\\categorical.py:2775: UserWarning: The `split` parameter has been renamed to `dodge`.\n",
      "  warnings.warn(msg, UserWarning)\n"
     ]
    },
    {
     "data": {
      "text/plain": [
       "[Text(0, 0.5, 'Resting Membrane Potential (mV)'), Text(0.5, 0, 'T-types')]"
      ]
     },
     "execution_count": 193,
     "metadata": {},
     "output_type": "execute_result"
    },
    {
     "data": {
      "image/png": "[encoded data removed]",
      "text/plain": [
       "<Figure size 864x576 with 1 Axes>"
      ]
     },
     "metadata": {
      "needs_background": "light"
     },
     "output_type": "display_data"
    }
   ],
   "source": [
    "colors=[\"#a1d99b\", \"#9ecae1\"]\n",
    "fig_dims = (12, 8)\n",
    "f, axes = plt.subplots(figsize=fig_dims)\n",
    "\n",
    "ax = sns.boxplot(x=\"subclass_label\",\n",
    "                 y=\"b'vrest'\",\n",
    "                 hue=\"roi_major\",\n",
    "                 data=rsp_visp_glu,\n",
    "                 order = [\"L2/3 IT\", \"L4\", \"L5 IT\", \"L5 PT\", \"L6 IT\", \"L6b\", \"NP\"],\n",
    "                 hue_order = [\"RSP\", \"VISp\"],\n",
    "                 palette=colors,\n",
    "                 saturation=1,\n",
    "                 width=0.8,\n",
    "                 linewidth=1,\n",
    "                 showfliers=False,)\n",
    "\n",
    "ax = sns.stripplot(x=\"subclass_label\",\n",
    "                   y=\"b'vrest'\",\n",
    "                   hue=\"roi_major\",\n",
    "                   data=rsp_visp_glu,\n",
    "                   order = [\"L2/3 IT\", \"L4\", \"L5 IT\", \"L5 PT\", \"L6 IT\", \"L6b\", \"NP\"],\n",
    "                   hue_order = [\"RSP\", \"VISp\"],\n",
    "                   jitter=False,\n",
    "                   size=4.5,\n",
    "                   color=\"0.2\",\n",
    "                   split=True)\n",
    "\n",
    "sns.despine(trim=True, left=False)\n",
    "ax.set(xlabel=\"T-types\", ylabel=\"Resting Membrane Potential (mV)\")\n",
    "#ax.invert_yaxis()\n",
    "#ax.set(ylim=(-85, -55)) Default is -90, -55\n",
    "#ax.set_ylabel(\"col_label\", fontsize=16)\n",
    "#plt.savefig(sample.jpeg\", bbox_inches=\"tight\") "
   ]
  },
  {
   "cell_type": "code",
   "execution_count": null,
   "metadata": {},
   "outputs": [],
   "source": []
  },
  {
   "cell_type": "code",
   "execution_count": 197,
   "metadata": {},
   "outputs": [
    {
     "name": "stderr",
     "output_type": "stream",
     "text": [
      "C:\\Users\\ramr\\AppData\\Local\\Continuum\\anaconda3\\lib\\site-packages\\seaborn\\categorical.py:2775: UserWarning: The `split` parameter has been renamed to `dodge`.\n",
      "  warnings.warn(msg, UserWarning)\n"
     ]
    },
    {
     "data": {
      "text/plain": [
       "[Text(0, 0.5, 'Resting Membrane Potential (mV)'), Text(0.5, 0, 'T-types')]"
      ]
     },
     "execution_count": 197,
     "metadata": {},
     "output_type": "execute_result"
    },
    {
     "data": {
      "image/png": "[encoded data removed]",
      "text/plain": [
       "<Figure size 864x576 with 1 Axes>"
      ]
     },
     "metadata": {
      "needs_background": "light"
     },
     "output_type": "display_data"
    }
   ],
   "source": [
    "colors=[\"#a1d99b\", \"#9ecae1\"]\n",
    "\n",
    "fig_dims = (12, 8)\n",
    "f, axes = plt.subplots(figsize=fig_dims)\n",
    "\n",
    "ax = sns.boxplot(x=\"subclass_label\",\n",
    "                 y=\"b'vrest'\",\n",
    "                 hue=\"roi_major\",\n",
    "                 data=rsp_visp_glu,\n",
    "                 order = [\"L2/3 IT\", \"L4\", \"L5 IT\", \"L5 PT\", \"L6 IT\", \"L6b\", \"NP\"],\n",
    "                 hue_order = [\"RSP\", \"VISp\"],\n",
    "                 palette=colors,\n",
    "                 saturation=1,\n",
    "                 width=0.8,\n",
    "                 linewidth=1,\n",
    "                 showfliers=False,)\n",
    "\n",
    "ax = sns.stripplot(x=\"subclass_label\",\n",
    "                   y=\"b'vrest'\",\n",
    "                   hue=\"roi_major\",\n",
    "                   data=rsp_visp_glu,\n",
    "                   order = [\"L2/3 IT\", \"L4\", \"L5 IT\", \"L5 PT\", \"L6 IT\", \"L6b\", \"NP\"],\n",
    "                   hue_order = [\"RSP\", \"VISp\"],\n",
    "                   jitter=False,\n",
    "                   size=4.5,\n",
    "                   color=\"0.2\",\n",
    "                   split=True)\n",
    "\n",
    "sns.despine(trim=True, left=False)\n",
    "ax.set(xlabel=\"T-types\", ylabel=\"Resting Membrane Potential (mV)\")\n",
    "#ax.invert_yaxis()\n",
    "#ax.set(ylim=(-85, -55)) Default is -90, -55"
   ]
  },
  {
   "cell_type": "code",
   "execution_count": 207,
   "metadata": {},
   "outputs": [
    {
     "name": "stderr",
     "output_type": "stream",
     "text": [
      "C:\\Users\\ramr\\AppData\\Local\\Continuum\\anaconda3\\lib\\site-packages\\seaborn\\categorical.py:2775: UserWarning: The `split` parameter has been renamed to `dodge`.\n",
      "  warnings.warn(msg, UserWarning)\n"
     ]
    },
    {
     "data": {
      "text/plain": [
       "[Text(0, 0.5, 'Input Resistance (MOhms)'), Text(0.5, 0, 'T-types')]"
      ]
     },
     "execution_count": 207,
     "metadata": {},
     "output_type": "execute_result"
    },
    {
     "data": {
      "image/png": "[encoded data removed]",
      "text/plain": [
       "<Figure size 864x576 with 1 Axes>"
      ]
     },
     "metadata": {
      "needs_background": "light"
     },
     "output_type": "display_data"
    }
   ],
   "source": [
    "colors=[\"#a1d99b\", \"#9ecae1\"]\n",
    "\n",
    "fig_dims = (12, 8)\n",
    "f, axes = plt.subplots(figsize=fig_dims)\n",
    "\n",
    "ax = sns.boxplot(x=\"subclass_label\",\n",
    "                 y=\"b'ri'\",\n",
    "                 hue=\"roi_major\",\n",
    "                 data=rsp_visp_glu,\n",
    "                 order = [\"L2/3 IT\", \"L4\", \"L5 IT\", \"L5 PT\", \"L6 IT\", \"L6b\", \"NP\"],\n",
    "                 hue_order = [\"RSP\", \"VISp\"],\n",
    "                 palette=colors,\n",
    "                 saturation=1,\n",
    "                 width=0.8,\n",
    "                 linewidth=1,\n",
    "                 showfliers=False,)\n",
    "\n",
    "ax = sns.stripplot(x=\"subclass_label\",\n",
    "                   y=\"b'ri'\",\n",
    "                   hue=\"roi_major\",\n",
    "                   data=rsp_visp_glu,\n",
    "                   order = [\"L2/3 IT\", \"L4\", \"L5 IT\", \"L5 PT\", \"L6 IT\", \"L6b\", \"NP\"],\n",
    "                   hue_order = [\"RSP\", \"VISp\"],\n",
    "                   jitter=False,\n",
    "                   size=4.5,\n",
    "                   color=\"0.2\",\n",
    "                   split=True)\n",
    "\n",
    "sns.despine(trim=True, left=False)\n",
    "ax.set(xlabel=\"T-types\", ylabel=\"Input Resistance (MOhms)\")\n",
    "#ax.invert_yaxis()\n",
    "#ax.set(ylim=(0, 350)) "
   ]
  },
  {
   "cell_type": "code",
   "execution_count": 210,
   "metadata": {},
   "outputs": [
    {
     "name": "stderr",
     "output_type": "stream",
     "text": [
      "C:\\Users\\ramr\\AppData\\Local\\Continuum\\anaconda3\\lib\\site-packages\\seaborn\\categorical.py:2775: UserWarning: The `split` parameter has been renamed to `dodge`.\n",
      "  warnings.warn(msg, UserWarning)\n"
     ]
    },
    {
     "data": {
      "text/plain": [
       "[Text(0, 0.5, 'f i Curve Slope'), Text(0.5, 0, 'T-types')]"
      ]
     },
     "execution_count": 210,
     "metadata": {},
     "output_type": "execute_result"
    },
    {
     "data": {
      "image/png": "[encoded data removed]",
      "text/plain": [
       "<Figure size 864x576 with 1 Axes>"
      ]
     },
     "metadata": {
      "needs_background": "light"
     },
     "output_type": "display_data"
    }
   ],
   "source": [
    "colors=[\"#a1d99b\", \"#9ecae1\"]\n",
    "\n",
    "fig_dims = (12, 8)\n",
    "f, axes = plt.subplots(figsize=fig_dims)\n",
    "\n",
    "ax = sns.boxplot(x=\"subclass_label\",\n",
    "                 y=\"b'f_i_curve_slope'\",\n",
    "                 hue=\"roi_major\",\n",
    "                 data=rsp_visp_glu,\n",
    "                 order = [\"L2/3 IT\", \"L4\", \"L5 IT\", \"L5 PT\", \"L6 IT\", \"L6b\", \"NP\"],\n",
    "                 hue_order = [\"RSP\", \"VISp\"],\n",
    "                 palette=colors,\n",
    "                 saturation=1,\n",
    "                 width=0.8,\n",
    "                 linewidth=1,\n",
    "                 showfliers=False,)\n",
    "\n",
    "ax = sns.stripplot(x=\"subclass_label\",\n",
    "                   y=\"b'f_i_curve_slope'\",\n",
    "                   hue=\"roi_major\",\n",
    "                   data=rsp_visp_glu,\n",
    "                   order = [\"L2/3 IT\", \"L4\", \"L5 IT\", \"L5 PT\", \"L6 IT\", \"L6b\", \"NP\"],\n",
    "                   hue_order = [\"RSP\", \"VISp\"],\n",
    "                   jitter=False,\n",
    "                   size=4.5,\n",
    "                   color=\"0.2\",\n",
    "                   split=True)\n",
    "\n",
    "sns.despine(trim=True, left=False)\n",
    "ax.set(xlabel=\"T-types\", ylabel=\"f i Curve Slope\")\n",
    "#ax.invert_yaxis()\n",
    "#ax.set(ylim=(0, 350)) "
   ]
  },
  {
   "cell_type": "code",
   "execution_count": null,
   "metadata": {},
   "outputs": [],
   "source": []
  },
  {
   "cell_type": "code",
   "execution_count": null,
   "metadata": {},
   "outputs": [],
   "source": []
  },
  {
   "cell_type": "code",
   "execution_count": null,
   "metadata": {},
   "outputs": [],
   "source": []
  },
  {
   "cell_type": "code",
   "execution_count": null,
   "metadata": {},
   "outputs": [],
   "source": []
  },
  {
   "cell_type": "markdown",
   "metadata": {},
   "source": [
    "##### All Plots"
   ]
  },
  {
   "cell_type": "code",
   "execution_count": null,
   "metadata": {},
   "outputs": [],
   "source": [
    "def box_swarm_plt(col_x, col_y, df):\n",
    "    fig_dims = (20, 10)\n",
    "    f, axes = plt.subplots(1, 3, figsize=fig_dims)\n",
    "\n",
    "    sns.boxplot(x=col_x, y=col_y, data=df, palette=\"Paired\", ax=axes[0])\n",
    "    sns.swarmplot(x=col_x, y=col_y, data=df,  color=\"0.2\", ax=axes[0])\n",
    "    \n",
    "    sns.boxplot(x=col_x, y=col_y, data=df, palette=\"Paired\", ax=axes[1])\n",
    "    sns.swarmplot(x=col_x, y=col_y, data=df,  color=\"0.2\", ax=axes[1])\n",
    "    \n",
    "    sns.boxplot(x=col_x, y=col_y, data=df, palette=\"Paired\", ax=axes[2])\n",
    "    sns.swarmplot(x=col_x, y=col_y, data=df,  color=\"0.2\", ax=axes[2])"
   ]
  },
  {
   "cell_type": "code",
   "execution_count": null,
   "metadata": {},
   "outputs": [],
   "source": [
    "fig_dims = (20, 10)\n",
    "f, axes = plt.subplots(1, 3, figsize=fig_dims)\n",
    "\n",
    "sns.boxplot(x=\"subclass_label\",\n",
    "              y=\"b'vrest'\",\n",
    "              data=rsp, palette=\"Paired\", ax=axes[0])\n",
    "sns.swarmplot(x=\"subclass_label\",\n",
    "              y=\"b'vrest'\",\n",
    "              data=rsp, color=\"0.2\", ax=axes[0])\n",
    "\n",
    "sns.boxplot(x=\"subclass_label\",\n",
    "              y=\"b'sag'\",\n",
    "              data=rsp, palette=\"Paired\", ax=axes[1])\n",
    "sns.swarmplot(x=\"subclass_label\",\n",
    "              y=\"b'sag'\",\n",
    "              data=rsp, color=\"0.2\", ax=axes[1])\n",
    "\n",
    "sns.boxplot(x=\"subclass_label\",\n",
    "              y=\"b'tau'\",\n",
    "              data=rsp, palette=\"Paired\", ax=axes[2])\n",
    "sns.swarmplot(x=\"subclass_label\",\n",
    "              y=\"b'tau'\",\n",
    "              data=rsp, color=\"0.2\", ax=axes[2])\n",
    "sns.despine(trim=True, left=False)"
   ]
  },
  {
   "cell_type": "code",
   "execution_count": null,
   "metadata": {},
   "outputs": [],
   "source": [
    "fig_dims = (20, 10)\n",
    "f, axes = plt.subplots(1, 3, figsize=fig_dims)\n",
    "\n",
    "sns.boxplot(x=\"subclass_label\",\n",
    "              y=\"b'vrest'\",\n",
    "              data=mo, palette=\"Paired\", ax=axes[0])\n",
    "sns.swarmplot(x=\"subclass_label\",\n",
    "              y=\"b'vrest'\",\n",
    "              data=mo, color=\"0.2\", ax=axes[0])\n",
    "\n",
    "sns.boxplot(x=\"subclass_label\",\n",
    "              y=\"b'sag'\",\n",
    "              data=mo, palette=\"Paired\", ax=axes[1])\n",
    "sns.swarmplot(x=\"subclass_label\",\n",
    "              y=\"b'sag'\",\n",
    "              data=mo, color=\"0.2\", ax=axes[1])\n",
    "\n",
    "sns.boxplot(x=\"subclass_label\",\n",
    "              y=\"b'tau'\",\n",
    "              data=mo, palette=\"Paired\", ax=axes[2])\n",
    "sns.swarmplot(x=\"subclass_label\",\n",
    "              y=\"b'tau'\",\n",
    "              data=mo, color=\"0.2\", ax=axes[2])\n",
    "sns.despine(trim=True, left=False)"
   ]
  },
  {
   "cell_type": "code",
   "execution_count": null,
   "metadata": {},
   "outputs": [],
   "source": []
  },
  {
   "cell_type": "markdown",
   "metadata": {},
   "source": [
    "###### Misc"
   ]
  },
  {
   "cell_type": "markdown",
   "metadata": {},
   "source": [
    "\n",
    "def date_return(df):\n",
    "    df = df.reset_index()\n",
    "    start_date = df[\"date\"].iloc[0][0:10]\n",
    "    end_date = df[\"date\"].iloc[-1][0:10]\n",
    "    df = df.set_index([\"date\"])\n",
    "    logger.info(\"Created date\")\n",
    "    return df, start_date, end_date\n",
    "\n",
    "\n",
    "\n",
    "def print_counts():\n",
    "    \"\"\"Prints counts of dataframes\"\"\"\n",
    "    #print(f\"Date Range: {start_date} to {end_date}\")\n",
    "    print(f\"Overall Total count: {jem_2020.container.count()}\")\n",
    "    print()\n",
    "    print(f\"Mouse Total count: {mjem_2020.organism_name.count()}\")\n",
    "    print(f\"-RSPd count: {rspd.organism_name.count()}\")\n",
    "    print(f\"-RSPv count: {rspv.organism_name.count()}\")\n",
    "    print(f\"-SSp count: {ssp.organism_name.count()}\")\n",
    "    print(f\"-ORB count: {orb.organism_name.count()}\")\n",
    "    print(f\"-CTXsp count: {ctxsp.organism_name.count()}\")\n",
    "    print(f\"-MOp count: {mop.organism_name.count()}\")\n",
    "    print(f\"-MOs count: {mos.organism_name.count()}\")\n",
    "    print(f\"-HY count: {hy.organism_name.count()}\")\n",
    "    print(f\"-HIP count: {hip.organism_name.count()}\")\n",
    "    print(f\"-VISP count: {visp.organism_name.count()}\")\n",
    "    print()\n",
    "    print(f\"Human Total count: {hjem_2020.organism_name.count()}\")\n",
    "    print(f\"-Human Acute count: {hajem_2020.organism_name.count()}\")\n",
    "    print(f\"-Human Culture count: {hcjem_2020.organism_name.count()}\")\n",
    "\n",
    "def main():\n",
    "    jem_2020 = read_jem()\n",
    "    logger.info(\"Imported jem_metadata.csv as a dataframe\")\n",
    "    jem_2020 = choice()\n",
    "    \n",
    "    jem_2020[\"p_container\"] = jem_2020.container.str[0:4]\n",
    "    logger.info(\"Creating column to check p_container\")\n",
    "    jem_2020.p_container.unique()\n",
    "    \n",
    "    #jem_2020 = date_return(jem_2020)\n",
    "    #print(start_date)\n",
    "\n",
    "    mjem_2020 = create_cond_df(jem_2020, \"organism_name\", \"Mouse\")\n",
    "    hjem_2020 = create_cond_df(jem_2020, \"organism_name\", \"Human\")\n",
    "    hajem_2020 = hjem_2020[hjem_2020[\"p_container\"] != \"PCS4\"]\n",
    "    hcjem_2020 = create_cond_df(hjem_2020, \"p_container\", \"PCS4\")\n",
    "\n",
    "    mjem_2020 = create_region_col(mjem_2020)\n",
    "    rspd = create_cond_df(mjem_2020, \"roi_major\", \"RSPd\")\n",
    "    rspv = create_cond_df(mjem_2020, \"roi_major\", \"RSPv\")\n",
    "    ssp = create_cond_df(mjem_2020, \"roi_major\", \"SSp\")\n",
    "    orb = create_cond_df(mjem_2020, \"roi_major\", \"ORB\")\n",
    "    ctxsp = create_cond_df(mjem_2020, \"roi_major\", \"CTXsp\")\n",
    "    mop = create_cond_df(mjem_2020, \"roi_major\", \"MOp\")\n",
    "    mos = create_cond_df(mjem_2020, \"roi_major\", \"MOs\")\n",
    "    hy = create_cond_df(mjem_2020, \"roi_major\", \"HY\")\n",
    "    hip = create_cond_df(mjem_2020, \"roi_major\", \"HIP\")\n",
    "    visp = create_cond_df(mjem_2020, \"roi_major\", \"VISP\")\n",
    "    logger.info(\"Created region pandas dataframes\")\n",
    "    print_counts()\n",
    "\n",
    "\n",
    "\n",
    "def create_region_col(df):\n",
    "    \"\"\"\"\"\"\n",
    "    df[\"new_region\"] = \"default_value\"\n",
    "    LOGGER.info(\"Created a new column(new_region) with default_value\")\n",
    "    \n",
    "    c_region = [\"RSPd\", \"RSPv\", \"SSp\"] \n",
    "    s_region = [\"MOs\", \"MOp\", \"ORB\", \"CTXsp\"]\n",
    "    o_region = [\"HY\", \"HIP\"]\n",
    "    v_region = [\"VISp\"]\n",
    "    \n",
    "    df[\"new_region\"][df.roi_major.str.contains(\"|\".join(c_region))] = \"coronal_region\"\n",
    "    df[\"new_region\"][df.roi_major.str.contains(\"|\".join(s_region))] = \"sagittal_region\"\n",
    "    df[\"new_region\"][df.roi_major.str.contains(\"|\".join(o_region))] = \"other_region\"\n",
    "    df[\"new_region\"][df.roi_major.str.contains(\"|\".join(v_region))] = \"v1_region\"\n",
    "    LOGGER.info(\"Filled in new_region column with region labels\")\n",
    "    return df\n",
    "\n",
    "\n",
    "def choice():\n",
    "    \"\"\"\"\"\"\n",
    "    r_users = [\"kristenh\", \"lindsayn\", \"ramr\", \"katherineb\", \"jessicat\"]\n",
    "    r_user = [\"ramr\"]\n",
    "    \n",
    "    global entry\n",
    "\n",
    "    print(\"These are all user options: kristenh, lindsayn, ramr, katherineb, jessicat\")\n",
    "    entry = input(\"Enter single user name or all users (a):\")\n",
    "    if entry == \"a\":\n",
    "        jem_2020 = sort_df(jem, r_users)\n",
    "    elif entry == \"kristenh\":\n",
    "        jem_2020 = sort_df(jem, r_users[0])\n",
    "    elif entry == \"lindsayn\":\n",
    "        jem_2020 = sort_df(jem, r_users[1])\n",
    "    elif entry == \"ramr\":\n",
    "        jem_2020 = sort_df(jem, r_users[2])\n",
    "    elif entry == \"katherineb\":\n",
    "        jem_2020 = sort_df(jem, r_users[3])\n",
    "    elif entry == \"jessicat\":\n",
    "        jem_2020 = sort_df(jem, r_users[4])\n",
    "    else: \n",
    "        print(\"Please choose between option 'a' or 'r'.\")\n",
    "    LOGGER.info(\"Sorted jem by date range: 1/03/2020 - present\")\n",
    "    return jem_2020\n",
    "\n",
    "#if __name__ == \"__main__\":\n",
    "    \n",
    "     \"\"\"jem = read_jem()\n",
    "    logger.info(\"Imported jem_metadata.csv as a dataframe\")\n",
    "    jem_2020 = choice()\n",
    "    \n",
    "    jem_2020[\"p_container\"] = jem_2020.container.str[0:4]\n",
    "    logger.info(\"Creating column to check p_container\")\n",
    "    jem_2020.p_container.unique()\n",
    "    \n",
    "    jem_2020 = jem_2020.reset_index()\n",
    "    start_date = jem_2020[\"date\"].iloc[0][0:10]\n",
    "    end_date = jem_2020[\"date\"].iloc[-1][0:10]\n",
    "    jem_2020 = jem_2020.set_index([\"date\"])\n",
    "    \n",
    "    mjem_2020 = create_cond_df(jem_2020, \"organism_name\", \"Mouse\")\n",
    "    hjem_2020 = create_cond_df(jem_2020, \"organism_name\", \"Human\")\n",
    "    hajem_2020 = hjem_2020[hjem_2020[\"p_container\"] != \"PCS4\"]\n",
    "    hcjem_2020 = create_cond_df(hjem_2020, \"p_container\", \"PCS4\")\n",
    "\n",
    "    mjem_2020 = create_region_col(mjem_2020)\n",
    "    rspd = create_cond_df(mjem_2020, \"roi_major\", \"RSPd\")\n",
    "    rspv = create_cond_df(mjem_2020, \"roi_major\", \"RSPv\")\n",
    "    ssp = create_cond_df(mjem_2020, \"roi_major\", \"SSp\")\n",
    "    orb = create_cond_df(mjem_2020, \"roi_major\", \"ORB\")\n",
    "    ctxsp = create_cond_df(mjem_2020, \"roi_major\", \"CTXsp\")\n",
    "    mop = create_cond_df(mjem_2020, \"roi_major\", \"MOp\")\n",
    "    mos = create_cond_df(mjem_2020, \"roi_major\", \"MOs\")\n",
    "    hy = create_cond_df(mjem_2020, \"roi_major\", \"HY\")\n",
    "    hip = create_cond_df(mjem_2020, \"roi_major\", \"HIP\")\n",
    "    visp = create_cond_df(mjem_2020, \"roi_major\", \"VISP\")\n",
    "    logger.info(\"Created region pandas dataframes\")\n",
    "    \n",
    "    print_counts()\"\"\"\n",
    "    "
   ]
  },
  {
   "cell_type": "code",
   "execution_count": null,
   "metadata": {},
   "outputs": [],
   "source": []
  }
 ],
 "metadata": {
  "kernelspec": {
   "display_name": "Python 3",
   "language": "python",
   "name": "python3"
  },
  "language_info": {
   "codemirror_mode": {
    "name": "ipython",
    "version": 3
   },
   "file_extension": ".py",
   "mimetype": "text/x-python",
   "name": "python",
   "nbconvert_exporter": "python",
   "pygments_lexer": "ipython3",
   "version": "3.7.4"
  }
 },
 "nbformat": 4,
 "nbformat_minor": 2
}
