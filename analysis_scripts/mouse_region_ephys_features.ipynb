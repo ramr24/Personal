{
 "cells": [
  {
   "cell_type": "markdown",
   "metadata": {},
   "source": [
    "##### Imports "
   ]
  },
  {
   "cell_type": "code",
   "execution_count": 1,
   "metadata": {},
   "outputs": [],
   "source": [
    "import pandas as pd\n",
    "import csv\n",
    "import logging\n",
    "from functions_py.mephys_funcs import read_file, merge_dataframes, filter_date, drop_cols, drop_nans, \\\n",
    "create_cond_df, create_container_df\n",
    "\n",
    "import seaborn as sns\n",
    "import matplotlib.pyplot as plt\n",
    "sns.set(context = \"notebook\", style = \"ticks\", font=\"verdana\") # font_scale = 1.35)"
   ]
  },
  {
   "cell_type": "markdown",
   "metadata": {},
   "source": [
    "##### Pandas Display Settings"
   ]
  },
  {
   "cell_type": "code",
   "execution_count": 2,
   "metadata": {},
   "outputs": [],
   "source": [
    "pd.set_option(\"display.max_colwidth\",150) #Expands the number of characters shown in the columns\n",
    "pd.set_option('display.max_columns', None)"
   ]
  },
  {
   "cell_type": "markdown",
   "metadata": {},
   "source": [
    "##### Lists/Paths"
   ]
  },
  {
   "cell_type": "code",
   "execution_count": 3,
   "metadata": {},
   "outputs": [],
   "source": [
    "fields_jem = [\"date\", \"organism_name\", \"name\", \"container\", \"rigOperator\",\n",
    "              \"status\", \"roi_major\", \"roi_minor\",\n",
    "              \"extraction.postPatch\", \"extraction.endPipetteR\"]\n",
    "fields_ephys = [\"b'name'\", \"b'patched_cell_container'\", \"b'vrest'\", \"b'ri'\", \"b'sag'\", \n",
    "                \"b'tau'\", \"b'upstroke_downstroke_ratio_long_square'\", \n",
    "                \"b'latency'\", \"b'f_i_curve_slope'\"]\n",
    "fields_shiny = [\"cell_name_label\", \"sample_id\",\n",
    "                \"subclass_label\", \"topLeaf_label\", \"broad_class_label\",\n",
    "                \"Tree_call_label\", \"cell_specimen_project_label\", \n",
    "                \"marker_sum_norm_label\", \"Norm_Marker_Sum.0.4_label\", \"Tree_call_label\"]\n",
    "\n",
    "\n",
    "path_jem = \"Z:/Patch-Seq/compiled-jem-data/jem_metadata.csv\"\n",
    "#path_jem = \"C:/Users/ramr/Documents/Github/analysis_projects/csv/jem_metadata.csv\"\n",
    "path_ephys = \"C:/Users/ramr/Documents/Github/analysis_projects/csv/mephys_features.csv\"\n",
    "#path_shiny = \"//allen/programs/celltypes/workgroups/rnaseqanalysis/shiny/patch_seq/star/mouse_patchseq_VISp_current/mapping.df.with.bp.40.lastmap.csv\"\n",
    "path_shiny = \"C:/Users/ramr/Documents/Github/analysis_projects/csv/shiny.csv\"\n",
    "\n",
    "drop_cols_list = [\"b'name'\", \"b'patched_cell_container'\", \"cell_name_label\", \"sample_id\"]\n",
    "drop_nans_list = [\"date\", \"name\", \"rigOperator\"]\n",
    "\n",
    "r_users = [\"kristenh\", \"lindsayn\", \"ramr\", \"katherineb\", \"jessicat\"]"
   ]
  },
  {
   "cell_type": "code",
   "execution_count": 4,
   "metadata": {},
   "outputs": [
    {
     "ename": "FileNotFoundError",
     "evalue": "File b'C:/Users/ramr/Documents/Github/analysis_projects/csv/shiny.csv' does not exist",
     "output_type": "error",
     "traceback": [
      "\u001b[1;31m---------------------------------------------------------------------------\u001b[0m",
      "\u001b[1;31mFileNotFoundError\u001b[0m                         Traceback (most recent call last)",
      "\u001b[1;32m<ipython-input-4-cad5e4404699>\u001b[0m in \u001b[0;36m<module>\u001b[1;34m()\u001b[0m\n\u001b[1;32m----> 1\u001b[1;33m \u001b[0mshiny\u001b[0m \u001b[1;33m=\u001b[0m \u001b[0mshiny\u001b[0m \u001b[1;33m=\u001b[0m \u001b[0mread_file\u001b[0m\u001b[1;33m(\u001b[0m\u001b[0mpath_shiny\u001b[0m\u001b[1;33m,\u001b[0m \u001b[0mfields_shiny\u001b[0m\u001b[1;33m)\u001b[0m\u001b[1;33m\u001b[0m\u001b[0m\n\u001b[0m",
      "\u001b[1;32m~\\Documents\\GitHub\\analysis_projects\\analysis_scripts\\functions_py\\mephys_funcs.py\u001b[0m in \u001b[0;36mread_file\u001b[1;34m(path, fields)\u001b[0m\n\u001b[0;32m     23\u001b[0m     \"\"\"\n\u001b[0;32m     24\u001b[0m     \u001b[1;32mglobal\u001b[0m \u001b[0mdf\u001b[0m\u001b[1;33m\u001b[0m\u001b[0m\n\u001b[1;32m---> 25\u001b[1;33m     \u001b[0mdf\u001b[0m \u001b[1;33m=\u001b[0m \u001b[0mpd\u001b[0m\u001b[1;33m.\u001b[0m\u001b[0mread_csv\u001b[0m\u001b[1;33m(\u001b[0m\u001b[0mpath\u001b[0m\u001b[1;33m,\u001b[0m \u001b[0musecols\u001b[0m\u001b[1;33m=\u001b[0m\u001b[0mfields\u001b[0m\u001b[1;33m)\u001b[0m\u001b[1;33m\u001b[0m\u001b[0m\n\u001b[0m\u001b[0;32m     26\u001b[0m     \u001b[0mLOGGER\u001b[0m\u001b[1;33m.\u001b[0m\u001b[0minfo\u001b[0m\u001b[1;33m(\u001b[0m\u001b[1;34m\"Read file in as a pandas dataframe\"\u001b[0m\u001b[1;33m)\u001b[0m\u001b[1;33m\u001b[0m\u001b[0m\n\u001b[0;32m     27\u001b[0m     \u001b[1;32mreturn\u001b[0m \u001b[0mdf\u001b[0m\u001b[1;33m\u001b[0m\u001b[0m\n",
      "\u001b[1;32m~\\AppData\\Local\\Continuum\\anaconda3\\lib\\site-packages\\pandas\\io\\parsers.py\u001b[0m in \u001b[0;36mparser_f\u001b[1;34m(filepath_or_buffer, sep, delimiter, header, names, index_col, usecols, squeeze, prefix, mangle_dupe_cols, dtype, engine, converters, true_values, false_values, skipinitialspace, skiprows, nrows, na_values, keep_default_na, na_filter, verbose, skip_blank_lines, parse_dates, infer_datetime_format, keep_date_col, date_parser, dayfirst, iterator, chunksize, compression, thousands, decimal, lineterminator, quotechar, quoting, escapechar, comment, encoding, dialect, tupleize_cols, error_bad_lines, warn_bad_lines, skipfooter, doublequote, delim_whitespace, low_memory, memory_map, float_precision)\u001b[0m\n\u001b[0;32m    676\u001b[0m                     skip_blank_lines=skip_blank_lines)\n\u001b[0;32m    677\u001b[0m \u001b[1;33m\u001b[0m\u001b[0m\n\u001b[1;32m--> 678\u001b[1;33m         \u001b[1;32mreturn\u001b[0m \u001b[0m_read\u001b[0m\u001b[1;33m(\u001b[0m\u001b[0mfilepath_or_buffer\u001b[0m\u001b[1;33m,\u001b[0m \u001b[0mkwds\u001b[0m\u001b[1;33m)\u001b[0m\u001b[1;33m\u001b[0m\u001b[0m\n\u001b[0m\u001b[0;32m    679\u001b[0m \u001b[1;33m\u001b[0m\u001b[0m\n\u001b[0;32m    680\u001b[0m     \u001b[0mparser_f\u001b[0m\u001b[1;33m.\u001b[0m\u001b[0m__name__\u001b[0m \u001b[1;33m=\u001b[0m \u001b[0mname\u001b[0m\u001b[1;33m\u001b[0m\u001b[0m\n",
      "\u001b[1;32m~\\AppData\\Local\\Continuum\\anaconda3\\lib\\site-packages\\pandas\\io\\parsers.py\u001b[0m in \u001b[0;36m_read\u001b[1;34m(filepath_or_buffer, kwds)\u001b[0m\n\u001b[0;32m    438\u001b[0m \u001b[1;33m\u001b[0m\u001b[0m\n\u001b[0;32m    439\u001b[0m     \u001b[1;31m# Create the parser.\u001b[0m\u001b[1;33m\u001b[0m\u001b[1;33m\u001b[0m\u001b[0m\n\u001b[1;32m--> 440\u001b[1;33m     \u001b[0mparser\u001b[0m \u001b[1;33m=\u001b[0m \u001b[0mTextFileReader\u001b[0m\u001b[1;33m(\u001b[0m\u001b[0mfilepath_or_buffer\u001b[0m\u001b[1;33m,\u001b[0m \u001b[1;33m**\u001b[0m\u001b[0mkwds\u001b[0m\u001b[1;33m)\u001b[0m\u001b[1;33m\u001b[0m\u001b[0m\n\u001b[0m\u001b[0;32m    441\u001b[0m \u001b[1;33m\u001b[0m\u001b[0m\n\u001b[0;32m    442\u001b[0m     \u001b[1;32mif\u001b[0m \u001b[0mchunksize\u001b[0m \u001b[1;32mor\u001b[0m \u001b[0miterator\u001b[0m\u001b[1;33m:\u001b[0m\u001b[1;33m\u001b[0m\u001b[0m\n",
      "\u001b[1;32m~\\AppData\\Local\\Continuum\\anaconda3\\lib\\site-packages\\pandas\\io\\parsers.py\u001b[0m in \u001b[0;36m__init__\u001b[1;34m(self, f, engine, **kwds)\u001b[0m\n\u001b[0;32m    785\u001b[0m             \u001b[0mself\u001b[0m\u001b[1;33m.\u001b[0m\u001b[0moptions\u001b[0m\u001b[1;33m[\u001b[0m\u001b[1;34m'has_index_names'\u001b[0m\u001b[1;33m]\u001b[0m \u001b[1;33m=\u001b[0m \u001b[0mkwds\u001b[0m\u001b[1;33m[\u001b[0m\u001b[1;34m'has_index_names'\u001b[0m\u001b[1;33m]\u001b[0m\u001b[1;33m\u001b[0m\u001b[0m\n\u001b[0;32m    786\u001b[0m \u001b[1;33m\u001b[0m\u001b[0m\n\u001b[1;32m--> 787\u001b[1;33m         \u001b[0mself\u001b[0m\u001b[1;33m.\u001b[0m\u001b[0m_make_engine\u001b[0m\u001b[1;33m(\u001b[0m\u001b[0mself\u001b[0m\u001b[1;33m.\u001b[0m\u001b[0mengine\u001b[0m\u001b[1;33m)\u001b[0m\u001b[1;33m\u001b[0m\u001b[0m\n\u001b[0m\u001b[0;32m    788\u001b[0m \u001b[1;33m\u001b[0m\u001b[0m\n\u001b[0;32m    789\u001b[0m     \u001b[1;32mdef\u001b[0m \u001b[0mclose\u001b[0m\u001b[1;33m(\u001b[0m\u001b[0mself\u001b[0m\u001b[1;33m)\u001b[0m\u001b[1;33m:\u001b[0m\u001b[1;33m\u001b[0m\u001b[0m\n",
      "\u001b[1;32m~\\AppData\\Local\\Continuum\\anaconda3\\lib\\site-packages\\pandas\\io\\parsers.py\u001b[0m in \u001b[0;36m_make_engine\u001b[1;34m(self, engine)\u001b[0m\n\u001b[0;32m   1012\u001b[0m     \u001b[1;32mdef\u001b[0m \u001b[0m_make_engine\u001b[0m\u001b[1;33m(\u001b[0m\u001b[0mself\u001b[0m\u001b[1;33m,\u001b[0m \u001b[0mengine\u001b[0m\u001b[1;33m=\u001b[0m\u001b[1;34m'c'\u001b[0m\u001b[1;33m)\u001b[0m\u001b[1;33m:\u001b[0m\u001b[1;33m\u001b[0m\u001b[0m\n\u001b[0;32m   1013\u001b[0m         \u001b[1;32mif\u001b[0m \u001b[0mengine\u001b[0m \u001b[1;33m==\u001b[0m \u001b[1;34m'c'\u001b[0m\u001b[1;33m:\u001b[0m\u001b[1;33m\u001b[0m\u001b[0m\n\u001b[1;32m-> 1014\u001b[1;33m             \u001b[0mself\u001b[0m\u001b[1;33m.\u001b[0m\u001b[0m_engine\u001b[0m \u001b[1;33m=\u001b[0m \u001b[0mCParserWrapper\u001b[0m\u001b[1;33m(\u001b[0m\u001b[0mself\u001b[0m\u001b[1;33m.\u001b[0m\u001b[0mf\u001b[0m\u001b[1;33m,\u001b[0m \u001b[1;33m**\u001b[0m\u001b[0mself\u001b[0m\u001b[1;33m.\u001b[0m\u001b[0moptions\u001b[0m\u001b[1;33m)\u001b[0m\u001b[1;33m\u001b[0m\u001b[0m\n\u001b[0m\u001b[0;32m   1015\u001b[0m         \u001b[1;32melse\u001b[0m\u001b[1;33m:\u001b[0m\u001b[1;33m\u001b[0m\u001b[0m\n\u001b[0;32m   1016\u001b[0m             \u001b[1;32mif\u001b[0m \u001b[0mengine\u001b[0m \u001b[1;33m==\u001b[0m \u001b[1;34m'python'\u001b[0m\u001b[1;33m:\u001b[0m\u001b[1;33m\u001b[0m\u001b[0m\n",
      "\u001b[1;32m~\\AppData\\Local\\Continuum\\anaconda3\\lib\\site-packages\\pandas\\io\\parsers.py\u001b[0m in \u001b[0;36m__init__\u001b[1;34m(self, src, **kwds)\u001b[0m\n\u001b[0;32m   1706\u001b[0m         \u001b[0mkwds\u001b[0m\u001b[1;33m[\u001b[0m\u001b[1;34m'usecols'\u001b[0m\u001b[1;33m]\u001b[0m \u001b[1;33m=\u001b[0m \u001b[0mself\u001b[0m\u001b[1;33m.\u001b[0m\u001b[0musecols\u001b[0m\u001b[1;33m\u001b[0m\u001b[0m\n\u001b[0;32m   1707\u001b[0m \u001b[1;33m\u001b[0m\u001b[0m\n\u001b[1;32m-> 1708\u001b[1;33m         \u001b[0mself\u001b[0m\u001b[1;33m.\u001b[0m\u001b[0m_reader\u001b[0m \u001b[1;33m=\u001b[0m \u001b[0mparsers\u001b[0m\u001b[1;33m.\u001b[0m\u001b[0mTextReader\u001b[0m\u001b[1;33m(\u001b[0m\u001b[0msrc\u001b[0m\u001b[1;33m,\u001b[0m \u001b[1;33m**\u001b[0m\u001b[0mkwds\u001b[0m\u001b[1;33m)\u001b[0m\u001b[1;33m\u001b[0m\u001b[0m\n\u001b[0m\u001b[0;32m   1709\u001b[0m \u001b[1;33m\u001b[0m\u001b[0m\n\u001b[0;32m   1710\u001b[0m         \u001b[0mpassed_names\u001b[0m \u001b[1;33m=\u001b[0m \u001b[0mself\u001b[0m\u001b[1;33m.\u001b[0m\u001b[0mnames\u001b[0m \u001b[1;32mis\u001b[0m \u001b[1;32mNone\u001b[0m\u001b[1;33m\u001b[0m\u001b[0m\n",
      "\u001b[1;32mpandas\\_libs\\parsers.pyx\u001b[0m in \u001b[0;36mpandas._libs.parsers.TextReader.__cinit__\u001b[1;34m()\u001b[0m\n",
      "\u001b[1;32mpandas\\_libs\\parsers.pyx\u001b[0m in \u001b[0;36mpandas._libs.parsers.TextReader._setup_parser_source\u001b[1;34m()\u001b[0m\n",
      "\u001b[1;31mFileNotFoundError\u001b[0m: File b'C:/Users/ramr/Documents/Github/analysis_projects/csv/shiny.csv' does not exist"
     ]
    }
   ],
   "source": [
    "shiny = shiny = read_file(path_shiny, fields_shiny)"
   ]
  },
  {
   "cell_type": "code",
   "execution_count": null,
   "metadata": {},
   "outputs": [],
   "source": [
    "shiny"
   ]
  },
  {
   "cell_type": "code",
   "execution_count": null,
   "metadata": {},
   "outputs": [],
   "source": []
  },
  {
   "cell_type": "code",
   "execution_count": null,
   "metadata": {},
   "outputs": [],
   "source": []
  },
  {
   "cell_type": "code",
   "execution_count": null,
   "metadata": {},
   "outputs": [],
   "source": []
  },
  {
   "cell_type": "markdown",
   "metadata": {},
   "source": [
    "##### Main"
   ]
  },
  {
   "cell_type": "code",
   "execution_count": null,
   "metadata": {},
   "outputs": [],
   "source": [
    "def main():\n",
    "    global merge_all, merge_all_glu, merge_all_gab, jem, shiny\n",
    "    jem = read_file(path_jem, fields_jem)\n",
    "    ephys = read_file(path_ephys, fields_ephys)\n",
    "    shiny = read_file(path_shiny, fields_shiny)\n",
    "    merge_je = merge_dataframes(jem, ephys, \"name\", \"b'name'\")\n",
    "    merge_all = merge_dataframes(merge_je, shiny, \"name\", \"cell_name_label\")\n",
    "    merge_all = filter_date(merge_all, \"date\")\n",
    "    merge_all = drop_cols(merge_all, drop_cols_list)\n",
    "    merge_all = drop_nans(merge_all, drop_nans_list)\n",
    "    merge_all = create_container_df(merge_all, \"container\")\n",
    "    merge_all = create_cond_df(merge_all, \"rigOperator\", r_users)\n",
    "    merge_all_glu = create_cond_df(merge_all, \"broad_class_label\", [\"Glutamatergic\"])\n",
    "    merge_all_gab = create_cond_df(merge_all, \"broad_class_label\", [\"GABAergic\"])"
   ]
  },
  {
   "cell_type": "code",
   "execution_count": null,
   "metadata": {},
   "outputs": [],
   "source": [
    "if __name__ == \"__main__\":\n",
    "    main()"
   ]
  },
  {
   "cell_type": "code",
   "execution_count": null,
   "metadata": {},
   "outputs": [],
   "source": [
    "merge_all"
   ]
  },
  {
   "cell_type": "markdown",
   "metadata": {},
   "source": [
    "##### Mouse Region Dataframes"
   ]
  },
  {
   "cell_type": "code",
   "execution_count": null,
   "metadata": {},
   "outputs": [],
   "source": [
    "rsp = create_cond_df(merge_all, \"roi_major\", [\"RSPd\", \"RSPv\"])\n",
    "ssp = create_cond_df(merge_all, \"roi_major\", [\"SSp\"])\n",
    "orb = create_cond_df(merge_all, \"roi_major\", [\"ORB\"])\n",
    "ctxsp = create_cond_df(merge_all, \"roi_major\", [\"CTXsp\"])\n",
    "mo = create_cond_df(merge_all, \"roi_major\", [\"MOp\", \"MOs\"])\n",
    "visp = create_cond_df(merge_all, \"roi_major\", [\"VISp\"])"
   ]
  },
  {
   "cell_type": "markdown",
   "metadata": {},
   "source": [
    "##### Gluatamatergic Mouse Region Dataframes"
   ]
  },
  {
   "cell_type": "code",
   "execution_count": null,
   "metadata": {},
   "outputs": [],
   "source": [
    "rsp_glu = create_cond_df(merge_all_glu, \"roi_major\", [\"RSPd\", \"RSPv\"])\n",
    "ssp_glu = create_cond_df(merge_all_glu, \"roi_major\", [\"SSp\"])\n",
    "orb_glu = create_cond_df(merge_all_glu, \"roi_major\", [\"ORB\"])\n",
    "ctxsp_glu = create_cond_df(merge_all_glu, \"roi_major\", [\"CTXsp\"])\n",
    "mo_glu = create_cond_df(merge_all_glu, \"roi_major\", [\"MOp\", \"MOs\"])\n",
    "visp_glu = create_cond_df(merge_all_glu, \"roi_major\", [\"VISp\"])\n",
    "\n",
    "rsp_glu.replace({\"roi_major\": {\"RSPd\": \"RSP\", \"RSPv\": \"RSP\"}}, inplace=True)\n",
    "mo_glu.replace({\"roi_major\": {\"MOp\": \"MO\", \"MOs\": \"MO\"}}, inplace=True)"
   ]
  },
  {
   "cell_type": "markdown",
   "metadata": {},
   "source": [
    "##### GABAergic Mouse Region Dataframes"
   ]
  },
  {
   "cell_type": "code",
   "execution_count": null,
   "metadata": {},
   "outputs": [],
   "source": [
    "rsp_gab = create_cond_df(merge_all_gab, \"roi_major\", [\"RSPd\", \"RSPv\"])\n",
    "ssp_gab = create_cond_df(merge_all_gab, \"roi_major\", [\"SSp\"])\n",
    "orb_gab = create_cond_df(merge_all_gab, \"roi_major\", [\"ORB\"])\n",
    "ctxsp_gab = create_cond_df(merge_all_gab, \"roi_major\", [\"CTXsp\"])\n",
    "mo_gab = create_cond_df(merge_all_gab, \"roi_major\", [\"MOp\", \"MOs\"])\n",
    "visp_gab = create_cond_df(merge_all_gab, \"roi_major\", [\"VISp\"])\n",
    "\n",
    "rsp_gab.replace({\"roi_major\": {\"RSPd\": \"RSP\", \"RSPv\": \"RSP\"}}, inplace=True)\n",
    "mo_gab.replace({\"roi_major\": {\"MOp\": \"MO\", \"MOs\": \"MO\"}}, inplace=True)"
   ]
  },
  {
   "cell_type": "markdown",
   "metadata": {},
   "source": [
    "##### Count Dictionary"
   ]
  },
  {
   "cell_type": "code",
   "execution_count": null,
   "metadata": {},
   "outputs": [],
   "source": [
    "region_dict = {\"Overall Mouse Total count\": merge_all.name.count(),\n",
    "               \"RSP Total\": rsp.name.count(),\n",
    "               \"SSp Total\": ssp.name.count(),\n",
    "               \"ORB Total\": orb.name.count(),\n",
    "               \"CTXsp Total\": ctxsp.name.count(),\n",
    "               \"MO Total\": mo.name.count(),\n",
    "               \"VISp Total\": visp.name.count()}\n",
    "\n",
    "glu_dict = {\"Glutamatergic Mouse Total count\": merge_all_glu.name.count(),\n",
    "            \"RSP\": rsp_glu.name.count(),\n",
    "            \"SSp\": ssp_glu.name.count(),\n",
    "            \"ORB\": orb_glu.name.count(),\n",
    "            \"CTXsp\": ctxsp_glu.name.count(),\n",
    "            \"MO\": mo_glu.name.count(),\n",
    "            \"VISp\": visp_glu.name.count()}\n",
    "\n",
    "gab_dict = {\"GABAergic Mouse Total count\": merge_all_gab.name.count(),\n",
    "            \"RSP\": rsp_gab.name.count(),\n",
    "            \"SSp\": ssp_gab.name.count(),\n",
    "            \"ORB\": orb_gab.name.count(),\n",
    "            \"CTXsp\": ctxsp_gab.name.count(),\n",
    "            \"MO\": mo_gab.name.count(),\n",
    "            \"VISp\": visp_gab.name.count()}"
   ]
  },
  {
   "cell_type": "code",
   "execution_count": null,
   "metadata": {},
   "outputs": [],
   "source": [
    "region_dict\n",
    "for k,v in region_dict.items():\n",
    "    print(f\"{k} : {v}\")"
   ]
  },
  {
   "cell_type": "code",
   "execution_count": null,
   "metadata": {},
   "outputs": [],
   "source": [
    "glu_dict\n",
    "for k,v in glu_dict.items():\n",
    "    print(f\"{k} : {v}\")"
   ]
  },
  {
   "cell_type": "code",
   "execution_count": null,
   "metadata": {},
   "outputs": [],
   "source": [
    "gab_dict\n",
    "for k,v in gab_dict.items():\n",
    "    print(f\"{k} : {v}\")"
   ]
  },
  {
   "cell_type": "markdown",
   "metadata": {},
   "source": [
    "##### Paths"
   ]
  },
  {
   "cell_type": "code",
   "execution_count": null,
   "metadata": {},
   "outputs": [],
   "source": [
    "csv_path = \"C:/Users/ramr/Documents/Github/analysis_projects/csv/\"\n",
    "excel_path = \"C:/Users/ramr/Documents/Github/analysis_projects/excel/\"\n",
    "plot_path = \"C:/Users/ramr/Documents/Github/analysis_projects/plot/\""
   ]
  },
  {
   "cell_type": "markdown",
   "metadata": {},
   "source": [
    "##### Writing to csv_file"
   ]
  },
  {
   "cell_type": "code",
   "execution_count": null,
   "metadata": {},
   "outputs": [],
   "source": [
    "#jem.to_csv(csv_path + \"jem.csv\")\n",
    "#jem_2020.to_csv(csv_path + \"jem_2020.csv\")"
   ]
  },
  {
   "cell_type": "markdown",
   "metadata": {},
   "source": [
    "##### Writing to excel_file"
   ]
  },
  {
   "cell_type": "code",
   "execution_count": null,
   "metadata": {},
   "outputs": [],
   "source": [
    "writer = pd.ExcelWriter(excel_path + \"new_region.xlsx\")\n",
    "merge_all.to_excel(writer, \"All\", freeze_panes=(1,0))\n",
    "rsp.to_excel(writer, \"RSP\", freeze_panes=(1,0))\n",
    "ssp.to_excel(writer, \"SSP\", freeze_panes=(1,0))\n",
    "orb.to_excel(writer, \"ORB\", freeze_panes=(1,0))\n",
    "ctxsp.to_excel(writer, \"CTXsp\", freeze_panes=(1,0))\n",
    "mo.to_excel(writer, \"MO\", freeze_panes=(1,0))\n",
    "visp.to_excel(writer, \"VISp\", freeze_panes=(1,0))\n",
    "writer.save()"
   ]
  },
  {
   "cell_type": "markdown",
   "metadata": {},
   "source": [
    "##### RSP Plots"
   ]
  },
  {
   "cell_type": "code",
   "execution_count": null,
   "metadata": {},
   "outputs": [],
   "source": [
    "rsp_visp_glu = pd.concat([rsp_glu, visp_glu])"
   ]
  },
  {
   "cell_type": "code",
   "execution_count": null,
   "metadata": {},
   "outputs": [],
   "source": [
    "ssp_glu.min()"
   ]
  },
  {
   "cell_type": "code",
   "execution_count": null,
   "metadata": {},
   "outputs": [],
   "source": [
    "def box_plt(col_y, jpg_title, plt_title, ylim_min, ylim_max, df):\n",
    "    \"\"\"Creates a box plot using seaborn and compares the ephys features between\n",
    "    two mouse regions while displaying the t-types.\n",
    "    Args:\n",
    "        col_y(string): y-axis column\n",
    "        jpg_title(string): title of the jpeg file\n",
    "        plt_tile(string): title of the plot\n",
    "        df: a pandas dataframe\n",
    "    Returns: None\n",
    "    \"\"\"\n",
    "    b_colors={\"RSP\": \"#a1d99b\", \"VISp\": \"#9ecae1\"}\n",
    "    s_colors={\"RSP\": \"#41ab5d\", \"VISp\": \"#4292c6\"}\n",
    "\n",
    "    fig_dims = (12, 8)\n",
    "    f, axes = plt.subplots(figsize=fig_dims)\n",
    "\n",
    "    ax = sns.boxplot(x=\"subclass_label\",\n",
    "                     y=col_y,\n",
    "                     hue=\"roi_major\",\n",
    "                     data=df,\n",
    "                     #order = [\"L2/3 IT\", \"L4\", \"L5 IT\", \"L5 PT\", \"L6 IT\", \"L6b\", \"NP\"],\n",
    "                     #hue_order = [\"RSP\", \"VISp\"],\n",
    "                     #palette=b_colors,\n",
    "                     saturation=1,\n",
    "                     width=0.8,\n",
    "                     linewidth=1.3,\n",
    "                     showfliers=False)\n",
    "\n",
    "    ax = sns.stripplot(x=\"subclass_label\",\n",
    "                       y=col_y,\n",
    "                       hue=\"roi_major\",\n",
    "                       data=df,\n",
    "                       #order = [\"L2/3 IT\", \"L4\", \"L5 IT\", \"L5 PT\", \"L6 IT\", \"L6b\", \"NP\"],\n",
    "                       #hue_order = [\"RSP\", \"VISp\"],\n",
    "                       jitter=False,\n",
    "                       size=4.5,\n",
    "                       #palette=s_colors, #color=\"0.2\",\n",
    "                       split=True,\n",
    "                       linewidth=0.5)\n",
    "    \n",
    "    #sns.despine(trim=True)\n",
    "    handles, labels = ax.get_legend_handles_labels()\n",
    "    l = plt.legend(handles[0:2], labels[0:2], title=\"Region\")\n",
    "    \n",
    "    plt.xticks(rotation=90)\n",
    "    \n",
    "    #ax.legend_.remove()\n",
    "    ax.set(xlabel=\"Subclass\", ylabel=plt_title)\n",
    "    ax.set(ylim=(ylim_min, ylim_max))\n",
    "    plt.savefig(plot_path + \"box_plt_\" + jpg_title + \".jpeg\", bbox_inches=\"tight\")"
   ]
  },
  {
   "cell_type": "code",
   "execution_count": null,
   "metadata": {
    "scrolled": false
   },
   "outputs": [],
   "source": [
    "box_plt(\"b'vrest'\", \"rmp\", \"Resting Membrane Potential (mV)\", -90, -48, rsp_glu)\n",
    "box_plt(\"b'vrest'\", \"rmp\", \"Resting Membrane Potential (mV)\", -90, -48, ssp_glu)\n",
    "box_plt(\"b'vrest'\", \"rmp\", \"Resting Membrane Potential (mV)\", -90, -48, orb_glu)\n",
    "box_plt(\"b'vrest'\", \"rmp\", \"Resting Membrane Potential (mV)\", -90, -48, ctxsp_glu)\n",
    "box_plt(\"b'vrest'\", \"rmp\", \"Resting Membrane Potential (mV)\", -90, -48, mo_glu)"
   ]
  },
  {
   "cell_type": "code",
   "execution_count": null,
   "metadata": {
    "scrolled": false
   },
   "outputs": [],
   "source": [
    "box_plt(\"b'vrest'\", \"rmp\", \"Resting Membrane Potential (mV)\", -90, -48,\n",
    "       rsp_visp_glu[rsp_visp_glu[\"b'vrest'\"] < -50])\n",
    "box_plt(\"b'ri'\", \"ri\", \"Input Resistance (MOhms)\", 0, 500,\n",
    "        rsp_visp_glu[rsp_visp_glu[\"b'ri'\"] < 450])\n",
    "box_plt(\"b'sag'\", \"sag\", \"Sag\", 0, 0.35,\n",
    "        rsp_visp_glu[rsp_visp_glu[\"b'sag'\"] < 0.35])\n",
    "box_plt(\"b'upstroke_downstroke_ratio_long_square'\", \"upd\", \"Upstroke/Downstroke Ratio\", 0, 6.5,\n",
    "        rsp_visp_glu[rsp_visp_glu[\"b'upstroke_downstroke_ratio_long_square'\"] < 7])\n",
    "box_plt(\"b'f_i_curve_slope'\", \"fi\", \"F-I Curve Slope\", 0, 0.65,\n",
    "       rsp_visp_glu[rsp_visp_glu[\"b'f_i_curve_slope'\"] < 0.6])\n",
    "box_plt(\"b'tau'\", \"tau\", \"Time Constant\", 0, 45,\n",
    "        rsp_visp_glu[rsp_visp_glu[\"b'tau'\"] < 45]) \n",
    "box_plt(\"b'latency'\", \"lat\", \"Latency\", 0, 0.15,\n",
    "        rsp_visp_glu[rsp_visp_glu[\"b'latency'\"] < 0.15]) "
   ]
  },
  {
   "cell_type": "markdown",
   "metadata": {},
   "source": [
    "##### All Plots"
   ]
  },
  {
   "cell_type": "code",
   "execution_count": null,
   "metadata": {},
   "outputs": [],
   "source": [
    "fig_dims = (20, 10)\n",
    "f, axes = plt.subplots(1, 3, figsize=fig_dims)\n",
    "\n",
    "sns.boxplot(x=\"subclass_label\",\n",
    "              y=\"b'vrest'\",\n",
    "              data=merge_all_glu, palette=\"Paired\", ax=axes[0])\n",
    "sns.swarmplot(x=\"subclass_label\",\n",
    "              y=\"b'vrest'\",\n",
    "              data=merge_all_glu, color=\"0.2\", ax=axes[0])\n",
    "\n",
    "sns.boxplot(x=\"subclass_label\",\n",
    "              y=\"b'sag'\",\n",
    "              data=merge_all_glu, palette=\"Paired\", ax=axes[1])\n",
    "sns.swarmplot(x=\"subclass_label\",\n",
    "              y=\"b'sag'\",\n",
    "              data=merge_all_glu, color=\"0.2\", ax=axes[1])\n",
    "\n",
    "sns.boxplot(x=\"subclass_label\",\n",
    "              y=\"b'tau'\",\n",
    "              data=merge_all_glu, palette=\"Paired\", ax=axes[2])\n",
    "sns.swarmplot(x=\"subclass_label\",\n",
    "              y=\"b'tau'\",\n",
    "              data=merge_all_glu, color=\"0.2\", ax=axes[2])\n",
    "sns.despine(trim=True, left=False)"
   ]
  },
  {
   "cell_type": "code",
   "execution_count": null,
   "metadata": {},
   "outputs": [],
   "source": []
  },
  {
   "cell_type": "markdown",
   "metadata": {},
   "source": [
    "###### Misc"
   ]
  },
  {
   "cell_type": "markdown",
   "metadata": {},
   "source": [
    "\n",
    "def date_return(df):\n",
    "    df = df.reset_index()\n",
    "    start_date = df[\"date\"].iloc[0][0:10]\n",
    "    end_date = df[\"date\"].iloc[-1][0:10]\n",
    "    df = df.set_index([\"date\"])\n",
    "    logger.info(\"Created date\")\n",
    "    return df, start_date, end_date\n",
    "\n",
    "\n",
    "\n",
    "def print_counts():\n",
    "    \"\"\"Prints counts of dataframes\"\"\"\n",
    "    #print(f\"Date Range: {start_date} to {end_date}\")\n",
    "    print(f\"Overall Total count: {jem_2020.container.count()}\")\n",
    "    print()\n",
    "    print(f\"Mouse Total count: {mjem_2020.organism_name.count()}\")\n",
    "    print(f\"-RSPd count: {rspd.organism_name.count()}\")\n",
    "    print(f\"-RSPv count: {rspv.organism_name.count()}\")\n",
    "    print(f\"-SSp count: {ssp.organism_name.count()}\")\n",
    "    print(f\"-ORB count: {orb.organism_name.count()}\")\n",
    "    print(f\"-CTXsp count: {ctxsp.organism_name.count()}\")\n",
    "    print(f\"-MOp count: {mop.organism_name.count()}\")\n",
    "    print(f\"-MOs count: {mos.organism_name.count()}\")\n",
    "    print(f\"-HY count: {hy.organism_name.count()}\")\n",
    "    print(f\"-HIP count: {hip.organism_name.count()}\")\n",
    "    print(f\"-VISP count: {visp.organism_name.count()}\")\n",
    "    print()\n",
    "    print(f\"Human Total count: {hjem_2020.organism_name.count()}\")\n",
    "    print(f\"-Human Acute count: {hajem_2020.organism_name.count()}\")\n",
    "    print(f\"-Human Culture count: {hcjem_2020.organism_name.count()}\")\n",
    "\n",
    "def main():\n",
    "    jem_2020 = read_jem()\n",
    "    logger.info(\"Imported jem_metadata.csv as a dataframe\")\n",
    "    jem_2020 = choice()\n",
    "    \n",
    "    jem_2020[\"p_container\"] = jem_2020.container.str[0:4]\n",
    "    logger.info(\"Creating column to check p_container\")\n",
    "    jem_2020.p_container.unique()\n",
    "    \n",
    "    #jem_2020 = date_return(jem_2020)\n",
    "    #print(start_date)\n",
    "\n",
    "    mjem_2020 = create_cond_df(jem_2020, \"organism_name\", \"Mouse\")\n",
    "    hjem_2020 = create_cond_df(jem_2020, \"organism_name\", \"Human\")\n",
    "    hajem_2020 = hjem_2020[hjem_2020[\"p_container\"] != \"PCS4\"]\n",
    "    hcjem_2020 = create_cond_df(hjem_2020, \"p_container\", \"PCS4\")\n",
    "\n",
    "    mjem_2020 = create_region_col(mjem_2020)\n",
    "    rspd = create_cond_df(mjem_2020, \"roi_major\", \"RSPd\")\n",
    "    rspv = create_cond_df(mjem_2020, \"roi_major\", \"RSPv\")\n",
    "    ssp = create_cond_df(mjem_2020, \"roi_major\", \"SSp\")\n",
    "    orb = create_cond_df(mjem_2020, \"roi_major\", \"ORB\")\n",
    "    ctxsp = create_cond_df(mjem_2020, \"roi_major\", \"CTXsp\")\n",
    "    mop = create_cond_df(mjem_2020, \"roi_major\", \"MOp\")\n",
    "    mos = create_cond_df(mjem_2020, \"roi_major\", \"MOs\")\n",
    "    hy = create_cond_df(mjem_2020, \"roi_major\", \"HY\")\n",
    "    hip = create_cond_df(mjem_2020, \"roi_major\", \"HIP\")\n",
    "    visp = create_cond_df(mjem_2020, \"roi_major\", \"VISP\")\n",
    "    logger.info(\"Created region pandas dataframes\")\n",
    "    print_counts()\n",
    "\n",
    "\n",
    "\n",
    "def create_region_col(df):\n",
    "    \"\"\"\"\"\"\n",
    "    df[\"new_region\"] = \"default_value\"\n",
    "    LOGGER.info(\"Created a new column(new_region) with default_value\")\n",
    "    \n",
    "    c_region = [\"RSPd\", \"RSPv\", \"SSp\"] \n",
    "    s_region = [\"MOs\", \"MOp\", \"ORB\", \"CTXsp\"]\n",
    "    o_region = [\"HY\", \"HIP\"]\n",
    "    v_region = [\"VISp\"]\n",
    "    \n",
    "    df[\"new_region\"][df.roi_major.str.contains(\"|\".join(c_region))] = \"coronal_region\"\n",
    "    df[\"new_region\"][df.roi_major.str.contains(\"|\".join(s_region))] = \"sagittal_region\"\n",
    "    df[\"new_region\"][df.roi_major.str.contains(\"|\".join(o_region))] = \"other_region\"\n",
    "    df[\"new_region\"][df.roi_major.str.contains(\"|\".join(v_region))] = \"v1_region\"\n",
    "    LOGGER.info(\"Filled in new_region column with region labels\")\n",
    "    return df\n",
    "\n",
    "\n",
    "def choice():\n",
    "    \"\"\"\"\"\"\n",
    "    r_users = [\"kristenh\", \"lindsayn\", \"ramr\", \"katherineb\", \"jessicat\"]\n",
    "    r_user = [\"ramr\"]\n",
    "    \n",
    "    global entry\n",
    "\n",
    "    print(\"These are all user options: kristenh, lindsayn, ramr, katherineb, jessicat\")\n",
    "    entry = input(\"Enter single user name or all users (a):\")\n",
    "    if entry == \"a\":\n",
    "        jem_2020 = sort_df(jem, r_users)\n",
    "    elif entry == \"kristenh\":\n",
    "        jem_2020 = sort_df(jem, r_users[0])\n",
    "    elif entry == \"lindsayn\":\n",
    "        jem_2020 = sort_df(jem, r_users[1])\n",
    "    elif entry == \"ramr\":\n",
    "        jem_2020 = sort_df(jem, r_users[2])\n",
    "    elif entry == \"katherineb\":\n",
    "        jem_2020 = sort_df(jem, r_users[3])\n",
    "    elif entry == \"jessicat\":\n",
    "        jem_2020 = sort_df(jem, r_users[4])\n",
    "    else: \n",
    "        print(\"Please choose between option 'a' or 'r'.\")\n",
    "    LOGGER.info(\"Sorted jem by date range: 1/03/2020 - present\")\n",
    "    return jem_2020\n",
    "\n",
    "#if __name__ == \"__main__\":\n",
    "    \n",
    "     \"\"\"jem = read_jem()\n",
    "    logger.info(\"Imported jem_metadata.csv as a dataframe\")\n",
    "    jem_2020 = choice()\n",
    "    \n",
    "    jem_2020[\"p_container\"] = jem_2020.container.str[0:4]\n",
    "    logger.info(\"Creating column to check p_container\")\n",
    "    jem_2020.p_container.unique()\n",
    "    \n",
    "    jem_2020 = jem_2020.reset_index()\n",
    "    start_date = jem_2020[\"date\"].iloc[0][0:10]\n",
    "    end_date = jem_2020[\"date\"].iloc[-1][0:10]\n",
    "    jem_2020 = jem_2020.set_index([\"date\"])\n",
    "    \n",
    "    mjem_2020 = create_cond_df(jem_2020, \"organism_name\", \"Mouse\")\n",
    "    hjem_2020 = create_cond_df(jem_2020, \"organism_name\", \"Human\")\n",
    "    hajem_2020 = hjem_2020[hjem_2020[\"p_container\"] != \"PCS4\"]\n",
    "    hcjem_2020 = create_cond_df(hjem_2020, \"p_container\", \"PCS4\")\n",
    "\n",
    "    mjem_2020 = create_region_col(mjem_2020)\n",
    "    rspd = create_cond_df(mjem_2020, \"roi_major\", \"RSPd\")\n",
    "    rspv = create_cond_df(mjem_2020, \"roi_major\", \"RSPv\")\n",
    "    ssp = create_cond_df(mjem_2020, \"roi_major\", \"SSp\")\n",
    "    orb = create_cond_df(mjem_2020, \"roi_major\", \"ORB\")\n",
    "    ctxsp = create_cond_df(mjem_2020, \"roi_major\", \"CTXsp\")\n",
    "    mop = create_cond_df(mjem_2020, \"roi_major\", \"MOp\")\n",
    "    mos = create_cond_df(mjem_2020, \"roi_major\", \"MOs\")\n",
    "    hy = create_cond_df(mjem_2020, \"roi_major\", \"HY\")\n",
    "    hip = create_cond_df(mjem_2020, \"roi_major\", \"HIP\")\n",
    "    visp = create_cond_df(mjem_2020, \"roi_major\", \"VISP\")\n",
    "    logger.info(\"Created region pandas dataframes\")\n",
    "    \n",
    "    print_counts()\"\"\"\n",
    "    "
   ]
  },
  {
   "cell_type": "code",
   "execution_count": null,
   "metadata": {},
   "outputs": [],
   "source": [
    "csv_path = \"C:/Users/ramr/Documents/Github/analysis_projects/csv/\"\n",
    "jem.to_csv(csv_path + \"jem_metadata.csv\", index=False)\n",
    "shiny.to_csv(csv_path + \"shiny.csv\", index=False)"
   ]
  }
 ],
 "metadata": {
  "kernelspec": {
   "display_name": "Python 3",
   "language": "python",
   "name": "python3"
  },
  "language_info": {
   "codemirror_mode": {
    "name": "ipython",
    "version": 3
   },
   "file_extension": ".py",
   "mimetype": "text/x-python",
   "name": "python",
   "nbconvert_exporter": "python",
   "pygments_lexer": "ipython3",
   "version": "3.7.4"
  }
 },
 "nbformat": 4,
 "nbformat_minor": 2
}
