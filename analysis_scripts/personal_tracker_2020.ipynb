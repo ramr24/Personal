{
 "cells": [
  {
   "cell_type": "markdown",
   "metadata": {},
   "source": [
    "##### Imports"
   ]
  },
  {
   "cell_type": "code",
   "execution_count": 1,
   "metadata": {},
   "outputs": [],
   "source": [
    "import pandas as pd\n",
    "import csv\n",
    "import logging\n",
    "from tracker_funcs import read_jem, read_ephys, read_shiny, \\\n",
    "sort_df, create_cond_df, create_region_col, merge_dfs, choice\n",
    "\n",
    "import seaborn as sns"
   ]
  },
  {
   "cell_type": "markdown",
   "metadata": {},
   "source": [
    "##### File Paths"
   ]
  },
  {
   "cell_type": "code",
   "execution_count": 2,
   "metadata": {},
   "outputs": [],
   "source": [
    "csv_path = \"C:/Users/ramr/Documents/Github/analysis_projects/csv/\"\n",
    "excel_path = \"C:/Users/ramr/Documents/Github/analysis_projects/excel/\""
   ]
  },
  {
   "cell_type": "markdown",
   "metadata": {},
   "source": [
    "##### Logging Set-up"
   ]
  },
  {
   "cell_type": "code",
   "execution_count": 3,
   "metadata": {},
   "outputs": [],
   "source": [
    "logging.basicConfig(level=logging.INFO)\n",
    "logger = logging.getLogger(__name__)"
   ]
  },
  {
   "cell_type": "markdown",
   "metadata": {},
   "source": [
    "##### Miscellaneous Settings"
   ]
  },
  {
   "cell_type": "code",
   "execution_count": 4,
   "metadata": {},
   "outputs": [],
   "source": [
    "sns.set(context = \"notebook\", style = \"ticks\", font=\"verdana\", font_scale = 1.35)\n",
    "pd.set_option(\"display.max_colwidth\",150) #Expands the number of characters shown in the columns\n",
    "pd.set_option('display.max_columns', None)"
   ]
  },
  {
   "cell_type": "markdown",
   "metadata": {},
   "source": [
    "##### Logging Comments about this project"
   ]
  },
  {
   "cell_type": "code",
   "execution_count": 5,
   "metadata": {},
   "outputs": [
    {
     "name": "stderr",
     "output_type": "stream",
     "text": [
      "INFO:__main__:Purpose: Personal Tracker for 2020\n",
      "            \n",
      "            Checklist:\n",
      "            1) Counts of RSPd, RSPv, SSp for coronal\n",
      "            2) Track ORB, CLA, MO for sagittal\n",
      "            3) Obtains ephys features for all the mouse regions\n",
      "            4) Plot similarities/differences\n"
     ]
    }
   ],
   "source": [
    "logger.info(\"\"\"Purpose: Personal Tracker for 2020\n",
    "            \n",
    "            Checklist:\n",
    "            1) Counts of RSPd, RSPv, SSp for coronal\n",
    "            2) Track ORB, CLA, MO for sagittal\n",
    "            3) Obtains ephys features for all the mouse regions\n",
    "            4) Plot similarities/differences\"\"\")"
   ]
  },
  {
   "cell_type": "markdown",
   "metadata": {},
   "source": [
    "##### Main"
   ]
  },
  {
   "cell_type": "code",
   "execution_count": 6,
   "metadata": {},
   "outputs": [],
   "source": [
    "def csv_first_line():\n",
    "    \"\"\"\"\"\"\n",
    "    with open(\"counts.csv\", mode=\"w\", newline=\"\") as csv_file: #Automatically closes file\n",
    "        writer = csv.writer(csv_file)\n",
    "        writer.writerow([\"User\", \"Start Date\", \"End Date\", \"Overall Total\",\n",
    "                         \"Mouse Total\", \"RSPd\", \"RSPv\", \"SSp\",\n",
    "                         \"ORB\", \"CTXsp\", \"MOp\", \"MOs\", \"HY\", \"HIP\", \"VISP\",\n",
    "                         \"Human Total\", \"Human Acute\", \"Human Culture\"])"
   ]
  },
  {
   "cell_type": "code",
   "execution_count": 16,
   "metadata": {},
   "outputs": [],
   "source": [
    "def csv_counts():\n",
    "    with open(\"counts.csv\", mode=\"w\", newline=\"\") as csv_file: #Automatically closes file\n",
    "        writer = csv.writer(csv_file)\n",
    "        writer.writerow([\"User\", \"Start Date\", \"End Date\", \"Overall Total\",\n",
    "                         \"Mouse Total\", \"RSPd\", \"RSPv\", \"SSp\",\n",
    "                         \"ORB\", \"CTXsp\", \"MOp\", \"MOs\", \"HY\", \"HIP\", \"VISP\",\n",
    "                         \"Human Total\", \"Human Acute\", \"Human Culture\"])\n",
    "        \n",
    "        with open(\"counts.csv\", mode=\"w\", newline=\"\") as csv_file: #Automatically closes file\n",
    "            writer = csv.writer(csv_file)\n",
    "            user = \"User name\"\n",
    "            start = start_date\n",
    "            end = end_date\n",
    "            overall = jem_2020.container.count()\n",
    "            m_total = mjem_2020.organism_name.count()\n",
    "            rd = rspd.organism_name.count()\n",
    "            rv = rspv.organism_name.count()\n",
    "            sp = ssp.organism_name.count()\n",
    "            ob = orb.organism_name.count()\n",
    "            cp = ctxsp.organism_name.count()\n",
    "            mp = mop.organism_name.count()\n",
    "            ms = mos.organism_name.count()\n",
    "            h = hy.organism_name.count()\n",
    "            hp = hip.organism_name.count()\n",
    "            v = visp.organism_name.count()\n",
    "            h_total = hjem_2020.organism_name.count()\n",
    "            h_acute = hajem_2020.organism_name.count()\n",
    "            h_culture = hcjem_2020.organism_name.count()\n",
    "\n",
    "            writer.writerow([user, start, end, overall,\n",
    "                             m_total, rd, rv, sp,\n",
    "                             ob, cp, mp, ms,\n",
    "                             h, hp, v,\n",
    "                             h_total, h_culture, h_acute])"
   ]
  },
  {
   "cell_type": "code",
   "execution_count": 8,
   "metadata": {},
   "outputs": [],
   "source": [
    "def print_counts():\n",
    "    \"\"\"Prints counts of dataframes\"\"\"\n",
    "    print(f\"Date Range: {start_date} to {end_date}\")\n",
    "    print(f\"Overall Total count: {jem_2020.container.count()}\")\n",
    "    print()\n",
    "    print(f\"Mouse Total count: {mjem_2020.organism_name.count()}\")\n",
    "    print(f\"-RSPd count: {rspd.organism_name.count()}\")\n",
    "    print(f\"-RSPv count: {rspv.organism_name.count()}\")\n",
    "    print(f\"-SSp count: {ssp.organism_name.count()}\")\n",
    "    print(f\"-ORB count: {orb.organism_name.count()}\")\n",
    "    print(f\"-CTXsp count: {ctxsp.organism_name.count()}\")\n",
    "    print(f\"-MOp count: {mop.organism_name.count()}\")\n",
    "    print(f\"-MOs count: {mos.organism_name.count()}\")\n",
    "    print(f\"-HY count: {hy.organism_name.count()}\")\n",
    "    print(f\"-HIP count: {hip.organism_name.count()}\")\n",
    "    print(f\"-VISP count: {visp.organism_name.count()}\")\n",
    "    print()\n",
    "    print(f\"Human Total count: {hjem_2020.organism_name.count()}\")\n",
    "    print(f\"-Human Acute count: {hajem_2020.organism_name.count()}\")\n",
    "    print(f\"-Human Culture count: {hcjem_2020.organism_name.count()}\")"
   ]
  },
  {
   "cell_type": "code",
   "execution_count": 17,
   "metadata": {},
   "outputs": [
    {
     "name": "stderr",
     "output_type": "stream",
     "text": [
      "INFO:tracker_funcs:Read jem metadata csv as a pandas dataframe\n",
      "INFO:__main__:Imported jem_metadata.csv as a dataframe\n"
     ]
    },
    {
     "name": "stdout",
     "output_type": "stream",
     "text": [
      "These are all user options: kristenh, lindsayn, ramr, katherineb, jessicat\n",
      "Enter single user name or all users (a):a\n"
     ]
    },
    {
     "name": "stderr",
     "output_type": "stream",
     "text": [
      "INFO:tracker_funcs:Dropped NaNs from index date, rigOperator and container column\n",
      "INFO:tracker_funcs:Created dataframe with selected users in container column\n",
      "INFO:tracker_funcs:Sorted jem by date range: 1/03/2020 - present\n",
      "INFO:__main__:Creating column to check p_container\n",
      "INFO:tracker_funcs:Created a conditional dataframe\n",
      "INFO:tracker_funcs:Created a conditional dataframe\n",
      "INFO:tracker_funcs:Created a conditional dataframe\n",
      "INFO:tracker_funcs:Created a new column(new_region) with default_value\n",
      "C:\\Users\\ramr\\AppData\\Local\\Continuum\\anaconda3\\lib\\site-packages\\ipykernel_launcher.py:20: SettingWithCopyWarning: \n",
      "A value is trying to be set on a copy of a slice from a DataFrame\n",
      "\n",
      "See the caveats in the documentation: http://pandas.pydata.org/pandas-docs/stable/user_guide/indexing.html#returning-a-view-versus-a-copy\n",
      "INFO:tracker_funcs:Filled in new_region column with region labels\n",
      "INFO:tracker_funcs:Created a conditional dataframe\n",
      "INFO:tracker_funcs:Created a conditional dataframe\n",
      "INFO:tracker_funcs:Created a conditional dataframe\n",
      "INFO:tracker_funcs:Created a conditional dataframe\n",
      "INFO:tracker_funcs:Created a conditional dataframe\n",
      "INFO:tracker_funcs:Created a conditional dataframe\n",
      "INFO:tracker_funcs:Created a conditional dataframe\n",
      "INFO:tracker_funcs:Created a conditional dataframe\n",
      "INFO:tracker_funcs:Created a conditional dataframe\n",
      "INFO:tracker_funcs:Created a conditional dataframe\n",
      "INFO:__main__:Created region pandas dataframes\n"
     ]
    },
    {
     "name": "stdout",
     "output_type": "stream",
     "text": [
      "Date Range: 2020-01-03 to 2020-02-11\n",
      "Overall Total count: 474\n",
      "\n",
      "Mouse Total count: 343\n",
      "-RSPd count: 89\n",
      "-RSPv count: 59\n",
      "-SSp count: 26\n",
      "-ORB count: 69\n",
      "-CTXsp count: 30\n",
      "-MOp count: 12\n",
      "-MOs count: 14\n",
      "-HY count: 3\n",
      "-HIP count: 7\n",
      "-VISP count: 0\n",
      "\n",
      "Human Total count: 128\n",
      "-Human Acute count: 51\n",
      "-Human Culture count: 77\n"
     ]
    }
   ],
   "source": [
    "if __name__ == \"__main__\":\n",
    "    jem = read_jem()\n",
    "    logger.info(\"Imported jem_metadata.csv as a dataframe\")\n",
    "    jem_2020 = choice()\n",
    "    \n",
    "    jem_2020[\"p_container\"] = jem_2020.container.str[0:4]\n",
    "    logger.info(\"Creating column to check p_container\")\n",
    "    jem_2020.p_container.unique()\n",
    "    \n",
    "    jem_2020 = jem_2020.reset_index()\n",
    "    start_date = jem_2020[\"date\"].iloc[0][0:10]\n",
    "    end_date = jem_2020[\"date\"].iloc[-1][0:10]\n",
    "    jem_2020 = jem_2020.set_index([\"date\"])\n",
    "    \n",
    "    mjem_2020 = create_cond_df(jem_2020, \"organism_name\", \"Mouse\")\n",
    "    hjem_2020 = create_cond_df(jem_2020, \"organism_name\", \"Human\")\n",
    "    hajem_2020 = hjem_2020[hjem_2020[\"p_container\"] != \"PCS4\"]\n",
    "    hcjem_2020 = create_cond_df(hjem_2020, \"p_container\", \"PCS4\")\n",
    "\n",
    "    mjem_2020 = create_region_col(mjem_2020)\n",
    "    rspd = create_cond_df(mjem_2020, \"roi_major\", \"RSPd\")\n",
    "    rspv = create_cond_df(mjem_2020, \"roi_major\", \"RSPv\")\n",
    "    ssp = create_cond_df(mjem_2020, \"roi_major\", \"SSp\")\n",
    "    orb = create_cond_df(mjem_2020, \"roi_major\", \"ORB\")\n",
    "    ctxsp = create_cond_df(mjem_2020, \"roi_major\", \"CTXsp\")\n",
    "    mop = create_cond_df(mjem_2020, \"roi_major\", \"MOp\")\n",
    "    mos = create_cond_df(mjem_2020, \"roi_major\", \"MOs\")\n",
    "    hy = create_cond_df(mjem_2020, \"roi_major\", \"HY\")\n",
    "    hip = create_cond_df(mjem_2020, \"roi_major\", \"HIP\")\n",
    "    visp = create_cond_df(mjem_2020, \"roi_major\", \"VISP\")\n",
    "    logger.info(\"Created region pandas dataframes\")\n",
    "    \n",
    "    print_counts()\n",
    "    #csv_first_line()\n",
    "    csv_counts()"
   ]
  },
  {
   "cell_type": "code",
   "execution_count": 10,
   "metadata": {},
   "outputs": [
    {
     "data": {
      "text/html": [
       "<div>\n",
       "<style scoped>\n",
       "    .dataframe tbody tr th:only-of-type {\n",
       "        vertical-align: middle;\n",
       "    }\n",
       "\n",
       "    .dataframe tbody tr th {\n",
       "        vertical-align: top;\n",
       "    }\n",
       "\n",
       "    .dataframe thead th {\n",
       "        text-align: right;\n",
       "    }\n",
       "</style>\n",
       "<table border=\"1\" class=\"dataframe\">\n",
       "  <thead>\n",
       "    <tr style=\"text-align: right;\">\n",
       "      <th></th>\n",
       "      <th>organism_name</th>\n",
       "      <th>name</th>\n",
       "      <th>extraction.endPipetteR</th>\n",
       "      <th>extraction.postPatch</th>\n",
       "      <th>rigOperator</th>\n",
       "      <th>status</th>\n",
       "      <th>roi_major</th>\n",
       "      <th>roi_minor</th>\n",
       "      <th>container</th>\n",
       "      <th>p_container</th>\n",
       "      <th>new_region</th>\n",
       "    </tr>\n",
       "    <tr>\n",
       "      <th>date</th>\n",
       "      <th></th>\n",
       "      <th></th>\n",
       "      <th></th>\n",
       "      <th></th>\n",
       "      <th></th>\n",
       "      <th></th>\n",
       "      <th></th>\n",
       "      <th></th>\n",
       "      <th></th>\n",
       "      <th></th>\n",
       "      <th></th>\n",
       "    </tr>\n",
       "  </thead>\n",
       "  <tbody>\n",
       "    <tr>\n",
       "      <td>2020-01-03 10:40:30 -0800</td>\n",
       "      <td>Mouse</td>\n",
       "      <td>Gad2-IRES-Cre;Ai14-504539.10.01.01</td>\n",
       "      <td>1000.0</td>\n",
       "      <td>nucleus_present</td>\n",
       "      <td>jessicat</td>\n",
       "      <td>SUCCESS</td>\n",
       "      <td>RSPd</td>\n",
       "      <td>layer 2/3</td>\n",
       "      <td>PFS4_200103_701_A01</td>\n",
       "      <td>PFS4</td>\n",
       "      <td>coronal_region</td>\n",
       "    </tr>\n",
       "    <tr>\n",
       "      <td>2020-01-03 13:00:07 -0800</td>\n",
       "      <td>Mouse</td>\n",
       "      <td>Pvalb-IRES-Cre;Ai14-504851.11.01.02</td>\n",
       "      <td>2000.0</td>\n",
       "      <td>nucleus_present</td>\n",
       "      <td>jessicat</td>\n",
       "      <td>SUCCESS</td>\n",
       "      <td>RSPv</td>\n",
       "      <td>layer 2/3</td>\n",
       "      <td>PFS4_200103_703_A01</td>\n",
       "      <td>PFS4</td>\n",
       "      <td>coronal_region</td>\n",
       "    </tr>\n",
       "    <tr>\n",
       "      <td>2020-01-03 13:00:07 -0800</td>\n",
       "      <td>Mouse</td>\n",
       "      <td>Pvalb-IRES-Cre;Ai14-504851.11.01.01</td>\n",
       "      <td>1000.0</td>\n",
       "      <td>nucleus_present</td>\n",
       "      <td>jessicat</td>\n",
       "      <td>SUCCESS</td>\n",
       "      <td>RSPd</td>\n",
       "      <td>layer 5</td>\n",
       "      <td>PFS4_200103_702_A01</td>\n",
       "      <td>PFS4</td>\n",
       "      <td>coronal_region</td>\n",
       "    </tr>\n",
       "    <tr>\n",
       "      <td>2020-01-06 13:12:44 -0800</td>\n",
       "      <td>Mouse</td>\n",
       "      <td>Vip-IRES-Cre;Ai14-504179.11.01.02</td>\n",
       "      <td>3000.0</td>\n",
       "      <td>nucleus_present</td>\n",
       "      <td>jessicat</td>\n",
       "      <td>SUCCESS</td>\n",
       "      <td>SSp</td>\n",
       "      <td>layer 5</td>\n",
       "      <td>PFS4_200106_702_A01</td>\n",
       "      <td>PFS4</td>\n",
       "      <td>coronal_region</td>\n",
       "    </tr>\n",
       "    <tr>\n",
       "      <td>2020-01-06 13:12:44 -0800</td>\n",
       "      <td>Mouse</td>\n",
       "      <td>Vip-IRES-Cre;Ai14-504179.11.01.01</td>\n",
       "      <td>7.0</td>\n",
       "      <td>nucleus_present</td>\n",
       "      <td>jessicat</td>\n",
       "      <td>SUCCESS</td>\n",
       "      <td>RSPd</td>\n",
       "      <td>layer 5</td>\n",
       "      <td>PFS4_200106_701_A01</td>\n",
       "      <td>PFS4</td>\n",
       "      <td>coronal_region</td>\n",
       "    </tr>\n",
       "    <tr>\n",
       "      <td>...</td>\n",
       "      <td>...</td>\n",
       "      <td>...</td>\n",
       "      <td>...</td>\n",
       "      <td>...</td>\n",
       "      <td>...</td>\n",
       "      <td>...</td>\n",
       "      <td>...</td>\n",
       "      <td>...</td>\n",
       "      <td>...</td>\n",
       "      <td>...</td>\n",
       "      <td>...</td>\n",
       "    </tr>\n",
       "    <tr>\n",
       "      <td>2020-02-11 13:46:18 -0800</td>\n",
       "      <td>Mouse</td>\n",
       "      <td>Slc32a1-IRES-Cre;Sncg-IRES2-FlpO;Ai65-509370.03.01.02</td>\n",
       "      <td>4500.0</td>\n",
       "      <td>nucleus_present</td>\n",
       "      <td>kristenh</td>\n",
       "      <td>SUCCESS</td>\n",
       "      <td>HIP</td>\n",
       "      <td>CA1</td>\n",
       "      <td>P1S4_200211_004_A01</td>\n",
       "      <td>P1S4</td>\n",
       "      <td>other_region</td>\n",
       "    </tr>\n",
       "    <tr>\n",
       "      <td>2020-02-11 13:50:40 -0800</td>\n",
       "      <td>Mouse</td>\n",
       "      <td>Slc32a1-IRES-Cre;Sncg-IRES2-FlpO;Ai65-509370.03.02.02</td>\n",
       "      <td>800.0</td>\n",
       "      <td>nucleus_present</td>\n",
       "      <td>lindsayn</td>\n",
       "      <td>SUCCESS</td>\n",
       "      <td>HIP</td>\n",
       "      <td>CA1</td>\n",
       "      <td>P8S4_200211_354_A01</td>\n",
       "      <td>P8S4</td>\n",
       "      <td>other_region</td>\n",
       "    </tr>\n",
       "    <tr>\n",
       "      <td>2020-02-11 13:50:40 -0800</td>\n",
       "      <td>Mouse</td>\n",
       "      <td>Slc32a1-IRES-Cre;Sncg-IRES2-FlpO;Ai65-509370.03.02.01</td>\n",
       "      <td>2000.0</td>\n",
       "      <td>nucleus_present</td>\n",
       "      <td>lindsayn</td>\n",
       "      <td>SUCCESS</td>\n",
       "      <td>HIP</td>\n",
       "      <td>CA1</td>\n",
       "      <td>P8S4_200211_353_A01</td>\n",
       "      <td>P8S4</td>\n",
       "      <td>other_region</td>\n",
       "    </tr>\n",
       "    <tr>\n",
       "      <td>2020-02-11 14:58:24 -0800</td>\n",
       "      <td>Mouse</td>\n",
       "      <td>Oxtr-T2A-Cre;Ai14-510022.10.01.01</td>\n",
       "      <td>70.0</td>\n",
       "      <td>nucleus_present</td>\n",
       "      <td>lindsayn</td>\n",
       "      <td>SUCCESS</td>\n",
       "      <td>RSPv</td>\n",
       "      <td>layer 5</td>\n",
       "      <td>P8S4_200211_355_A01</td>\n",
       "      <td>P8S4</td>\n",
       "      <td>coronal_region</td>\n",
       "    </tr>\n",
       "    <tr>\n",
       "      <td>2020-02-11 14:58:24 -0800</td>\n",
       "      <td>Mouse</td>\n",
       "      <td>Oxtr-T2A-Cre;Ai14-510022.10.01.02</td>\n",
       "      <td>2000.0</td>\n",
       "      <td>nucleus_present</td>\n",
       "      <td>lindsayn</td>\n",
       "      <td>SUCCESS</td>\n",
       "      <td>RSPv</td>\n",
       "      <td>layer 2/3</td>\n",
       "      <td>P8S4_200211_356_A01</td>\n",
       "      <td>P8S4</td>\n",
       "      <td>coronal_region</td>\n",
       "    </tr>\n",
       "  </tbody>\n",
       "</table>\n",
       "<p>343 rows × 11 columns</p>\n",
       "</div>"
      ],
      "text/plain": [
       "                          organism_name  \\\n",
       "date                                      \n",
       "2020-01-03 10:40:30 -0800         Mouse   \n",
       "2020-01-03 13:00:07 -0800         Mouse   \n",
       "2020-01-03 13:00:07 -0800         Mouse   \n",
       "2020-01-06 13:12:44 -0800         Mouse   \n",
       "2020-01-06 13:12:44 -0800         Mouse   \n",
       "...                                 ...   \n",
       "2020-02-11 13:46:18 -0800         Mouse   \n",
       "2020-02-11 13:50:40 -0800         Mouse   \n",
       "2020-02-11 13:50:40 -0800         Mouse   \n",
       "2020-02-11 14:58:24 -0800         Mouse   \n",
       "2020-02-11 14:58:24 -0800         Mouse   \n",
       "\n",
       "                                                                            name  \\\n",
       "date                                                                               \n",
       "2020-01-03 10:40:30 -0800                     Gad2-IRES-Cre;Ai14-504539.10.01.01   \n",
       "2020-01-03 13:00:07 -0800                    Pvalb-IRES-Cre;Ai14-504851.11.01.02   \n",
       "2020-01-03 13:00:07 -0800                    Pvalb-IRES-Cre;Ai14-504851.11.01.01   \n",
       "2020-01-06 13:12:44 -0800                      Vip-IRES-Cre;Ai14-504179.11.01.02   \n",
       "2020-01-06 13:12:44 -0800                      Vip-IRES-Cre;Ai14-504179.11.01.01   \n",
       "...                                                                          ...   \n",
       "2020-02-11 13:46:18 -0800  Slc32a1-IRES-Cre;Sncg-IRES2-FlpO;Ai65-509370.03.01.02   \n",
       "2020-02-11 13:50:40 -0800  Slc32a1-IRES-Cre;Sncg-IRES2-FlpO;Ai65-509370.03.02.02   \n",
       "2020-02-11 13:50:40 -0800  Slc32a1-IRES-Cre;Sncg-IRES2-FlpO;Ai65-509370.03.02.01   \n",
       "2020-02-11 14:58:24 -0800                      Oxtr-T2A-Cre;Ai14-510022.10.01.01   \n",
       "2020-02-11 14:58:24 -0800                      Oxtr-T2A-Cre;Ai14-510022.10.01.02   \n",
       "\n",
       "                           extraction.endPipetteR extraction.postPatch  \\\n",
       "date                                                                     \n",
       "2020-01-03 10:40:30 -0800                  1000.0      nucleus_present   \n",
       "2020-01-03 13:00:07 -0800                  2000.0      nucleus_present   \n",
       "2020-01-03 13:00:07 -0800                  1000.0      nucleus_present   \n",
       "2020-01-06 13:12:44 -0800                  3000.0      nucleus_present   \n",
       "2020-01-06 13:12:44 -0800                     7.0      nucleus_present   \n",
       "...                                           ...                  ...   \n",
       "2020-02-11 13:46:18 -0800                  4500.0      nucleus_present   \n",
       "2020-02-11 13:50:40 -0800                   800.0      nucleus_present   \n",
       "2020-02-11 13:50:40 -0800                  2000.0      nucleus_present   \n",
       "2020-02-11 14:58:24 -0800                    70.0      nucleus_present   \n",
       "2020-02-11 14:58:24 -0800                  2000.0      nucleus_present   \n",
       "\n",
       "                          rigOperator   status roi_major  roi_minor  \\\n",
       "date                                                                  \n",
       "2020-01-03 10:40:30 -0800    jessicat  SUCCESS      RSPd  layer 2/3   \n",
       "2020-01-03 13:00:07 -0800    jessicat  SUCCESS      RSPv  layer 2/3   \n",
       "2020-01-03 13:00:07 -0800    jessicat  SUCCESS      RSPd    layer 5   \n",
       "2020-01-06 13:12:44 -0800    jessicat  SUCCESS       SSp    layer 5   \n",
       "2020-01-06 13:12:44 -0800    jessicat  SUCCESS      RSPd    layer 5   \n",
       "...                               ...      ...       ...        ...   \n",
       "2020-02-11 13:46:18 -0800    kristenh  SUCCESS       HIP        CA1   \n",
       "2020-02-11 13:50:40 -0800    lindsayn  SUCCESS       HIP        CA1   \n",
       "2020-02-11 13:50:40 -0800    lindsayn  SUCCESS       HIP        CA1   \n",
       "2020-02-11 14:58:24 -0800    lindsayn  SUCCESS      RSPv    layer 5   \n",
       "2020-02-11 14:58:24 -0800    lindsayn  SUCCESS      RSPv  layer 2/3   \n",
       "\n",
       "                                     container p_container      new_region  \n",
       "date                                                                        \n",
       "2020-01-03 10:40:30 -0800  PFS4_200103_701_A01        PFS4  coronal_region  \n",
       "2020-01-03 13:00:07 -0800  PFS4_200103_703_A01        PFS4  coronal_region  \n",
       "2020-01-03 13:00:07 -0800  PFS4_200103_702_A01        PFS4  coronal_region  \n",
       "2020-01-06 13:12:44 -0800  PFS4_200106_702_A01        PFS4  coronal_region  \n",
       "2020-01-06 13:12:44 -0800  PFS4_200106_701_A01        PFS4  coronal_region  \n",
       "...                                        ...         ...             ...  \n",
       "2020-02-11 13:46:18 -0800  P1S4_200211_004_A01        P1S4    other_region  \n",
       "2020-02-11 13:50:40 -0800  P8S4_200211_354_A01        P8S4    other_region  \n",
       "2020-02-11 13:50:40 -0800  P8S4_200211_353_A01        P8S4    other_region  \n",
       "2020-02-11 14:58:24 -0800  P8S4_200211_355_A01        P8S4  coronal_region  \n",
       "2020-02-11 14:58:24 -0800  P8S4_200211_356_A01        P8S4  coronal_region  \n",
       "\n",
       "[343 rows x 11 columns]"
      ]
     },
     "execution_count": 10,
     "metadata": {},
     "output_type": "execute_result"
    }
   ],
   "source": [
    "mjem_2020"
   ]
  },
  {
   "cell_type": "code",
   "execution_count": 11,
   "metadata": {},
   "outputs": [
    {
     "data": {
      "text/plain": [
       "array(['RSPd', 'RSPv', 'SSp', 'MOs', 'MOp', 'ORB', 'CTXsp', 'VISp', 'HY',\n",
       "       'HIP'], dtype=object)"
      ]
     },
     "execution_count": 11,
     "metadata": {},
     "output_type": "execute_result"
    }
   ],
   "source": [
    "mjem_2020.roi_major.unique()"
   ]
  },
  {
   "cell_type": "code",
   "execution_count": null,
   "metadata": {},
   "outputs": [],
   "source": []
  },
  {
   "cell_type": "code",
   "execution_count": null,
   "metadata": {},
   "outputs": [],
   "source": []
  },
  {
   "cell_type": "markdown",
   "metadata": {},
   "source": [
    "##### Using read_jem to import jem_metadata"
   ]
  },
  {
   "cell_type": "code",
   "execution_count": 12,
   "metadata": {},
   "outputs": [],
   "source": [
    "#If you want to filter on the columns immediately\n",
    "all_jem_fields=[\"date\", \"organism_name\", \"name\", \"container\", \"rigOperator\",\n",
    "                \"status\", \"roi_major\", \"roi_minor\",\n",
    "                \"extraction.postPatch\", \"extraction.endPipetteR\",\n",
    "                \"extraction.pressureApplied\", \"extraction.retractionPressureApplied\",\n",
    "                \"recording.timeStart\", \"recording.timeWholeCellStart\",\n",
    "                \"extraction.timeExtractionStart\", \"extraction.timeExtractionEnd\", \"extraction.timeRetractionEnd\",\n",
    "                \"cell_depth\",\n",
    "                \"approach.creCell\",\n",
    "                \"approach.sliceHealth\"]\n",
    "\n",
    "#If you want to filter on the columns immediately\n",
    "#jem.tail(1490) # first recording 2020-01-03 10:40:30 -0800 and last recording of 2019: 2019-12-23 15:51:07"
   ]
  },
  {
   "cell_type": "markdown",
   "metadata": {},
   "source": [
    "##### Writing to csv_file"
   ]
  },
  {
   "cell_type": "code",
   "execution_count": 13,
   "metadata": {},
   "outputs": [],
   "source": [
    "#shiny.to_csv(csv_path + \"shiny.csv\")"
   ]
  },
  {
   "cell_type": "markdown",
   "metadata": {},
   "source": [
    "##### Writing to excel_file"
   ]
  },
  {
   "cell_type": "code",
   "execution_count": 14,
   "metadata": {},
   "outputs": [
    {
     "ename": "NameError",
     "evalue": "name 'cor' is not defined",
     "output_type": "error",
     "traceback": [
      "\u001b[1;31m---------------------------------------------------------------------------\u001b[0m",
      "\u001b[1;31mNameError\u001b[0m                                 Traceback (most recent call last)",
      "\u001b[1;32m<ipython-input-14-860bd8bba27d>\u001b[0m in \u001b[0;36m<module>\u001b[1;34m\u001b[0m\n\u001b[0;32m      2\u001b[0m \u001b[0mmjem_2020\u001b[0m\u001b[1;33m.\u001b[0m\u001b[0mto_excel\u001b[0m\u001b[1;33m(\u001b[0m\u001b[0mwriter\u001b[0m\u001b[1;33m,\u001b[0m \u001b[1;34m\"mouse_2020\"\u001b[0m\u001b[1;33m,\u001b[0m \u001b[0mfreeze_panes\u001b[0m\u001b[1;33m=\u001b[0m\u001b[1;33m(\u001b[0m\u001b[1;36m1\u001b[0m\u001b[1;33m,\u001b[0m\u001b[1;36m0\u001b[0m\u001b[1;33m)\u001b[0m\u001b[1;33m)\u001b[0m\u001b[1;33m\u001b[0m\u001b[1;33m\u001b[0m\u001b[0m\n\u001b[0;32m      3\u001b[0m \u001b[0mhjem_2020\u001b[0m\u001b[1;33m.\u001b[0m\u001b[0mto_excel\u001b[0m\u001b[1;33m(\u001b[0m\u001b[0mwriter\u001b[0m\u001b[1;33m,\u001b[0m \u001b[1;34m\"human_2020\"\u001b[0m\u001b[1;33m,\u001b[0m \u001b[0mfreeze_panes\u001b[0m\u001b[1;33m=\u001b[0m\u001b[1;33m(\u001b[0m\u001b[1;36m1\u001b[0m\u001b[1;33m,\u001b[0m\u001b[1;36m0\u001b[0m\u001b[1;33m)\u001b[0m\u001b[1;33m)\u001b[0m\u001b[1;33m\u001b[0m\u001b[1;33m\u001b[0m\u001b[0m\n\u001b[1;32m----> 4\u001b[1;33m \u001b[0mcor\u001b[0m\u001b[1;33m.\u001b[0m\u001b[0mto_excel\u001b[0m\u001b[1;33m(\u001b[0m\u001b[0mwriter\u001b[0m\u001b[1;33m,\u001b[0m \u001b[1;34m\"coronal_region\"\u001b[0m\u001b[1;33m,\u001b[0m \u001b[0mfreeze_panes\u001b[0m\u001b[1;33m=\u001b[0m\u001b[1;33m(\u001b[0m\u001b[1;36m1\u001b[0m\u001b[1;33m,\u001b[0m\u001b[1;36m0\u001b[0m\u001b[1;33m)\u001b[0m\u001b[1;33m)\u001b[0m\u001b[1;33m\u001b[0m\u001b[1;33m\u001b[0m\u001b[0m\n\u001b[0m\u001b[0;32m      5\u001b[0m \u001b[0msag\u001b[0m\u001b[1;33m.\u001b[0m\u001b[0mto_excel\u001b[0m\u001b[1;33m(\u001b[0m\u001b[0mwriter\u001b[0m\u001b[1;33m,\u001b[0m \u001b[1;34m\"sagittal_region\"\u001b[0m\u001b[1;33m,\u001b[0m \u001b[0mfreeze_panes\u001b[0m\u001b[1;33m=\u001b[0m\u001b[1;33m(\u001b[0m\u001b[1;36m1\u001b[0m\u001b[1;33m,\u001b[0m\u001b[1;36m0\u001b[0m\u001b[1;33m)\u001b[0m\u001b[1;33m)\u001b[0m\u001b[1;33m\u001b[0m\u001b[1;33m\u001b[0m\u001b[0m\n\u001b[0;32m      6\u001b[0m \u001b[0mv1\u001b[0m\u001b[1;33m.\u001b[0m\u001b[0mto_excel\u001b[0m\u001b[1;33m(\u001b[0m\u001b[0mwriter\u001b[0m\u001b[1;33m,\u001b[0m \u001b[1;34m\"v1_region\"\u001b[0m\u001b[1;33m,\u001b[0m \u001b[0mfreeze_panes\u001b[0m\u001b[1;33m=\u001b[0m\u001b[1;33m(\u001b[0m\u001b[1;36m1\u001b[0m\u001b[1;33m,\u001b[0m\u001b[1;36m0\u001b[0m\u001b[1;33m)\u001b[0m\u001b[1;33m)\u001b[0m\u001b[1;33m\u001b[0m\u001b[1;33m\u001b[0m\u001b[0m\n",
      "\u001b[1;31mNameError\u001b[0m: name 'cor' is not defined"
     ]
    }
   ],
   "source": [
    "writer = pd.ExcelWriter(excel_path + \"personal_tracker.xlsx\")\n",
    "mjem_2020.to_excel(writer, \"mouse_2020\", freeze_panes=(1,0))\n",
    "hjem_2020.to_excel(writer, \"human_2020\", freeze_panes=(1,0))\n",
    "cor.to_excel(writer, \"coronal_region\", freeze_panes=(1,0))\n",
    "sag.to_excel(writer, \"sagittal_region\", freeze_panes=(1,0))\n",
    "v1.to_excel(writer, \"v1_region\", freeze_panes=(1,0))\n",
    "writer.save()"
   ]
  }
 ],
 "metadata": {
  "kernelspec": {
   "display_name": "Python 3",
   "language": "python",
   "name": "python3"
  },
  "language_info": {
   "codemirror_mode": {
    "name": "ipython",
    "version": 3
   },
   "file_extension": ".py",
   "mimetype": "text/x-python",
   "name": "python",
   "nbconvert_exporter": "python",
   "pygments_lexer": "ipython3",
   "version": "3.7.4"
  }
 },
 "nbformat": 4,
 "nbformat_minor": 2
}
