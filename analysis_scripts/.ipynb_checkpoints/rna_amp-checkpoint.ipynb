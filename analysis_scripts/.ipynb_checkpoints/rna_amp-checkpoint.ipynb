{
 "cells": [
  {
   "cell_type": "markdown",
   "metadata": {},
   "source": [
    "##### Imports"
   ]
  },
  {
   "cell_type": "code",
   "execution_count": 1,
   "metadata": {},
   "outputs": [],
   "source": [
    "import pandas as pd\n",
    "import numpy as np\n",
    "import csv\n",
    "import logging\n",
    "import os\n",
    "\n",
    "from functions.temp_funcs import read_file, merge_dataframes, drop_cols, drop_nans, filter_date_range, \\\n",
    "filter_df, create_container_col, create_cond_df\n",
    "\n",
    "import seaborn as sns\n",
    "import matplotlib.pyplot as plt\n",
    "sns.set(context = \"notebook\", style = \"white\", font=\"verdana\") # font_scale = 1.35)"
   ]
  },
  {
   "cell_type": "code",
   "execution_count": 2,
   "metadata": {},
   "outputs": [],
   "source": [
    "pd.set_option(\"display.max_colwidth\",150) #Expands the number of characters shown in the columns\n",
    "pd.set_option('display.max_columns', None)"
   ]
  },
  {
   "cell_type": "markdown",
   "metadata": {},
   "source": [
    "##### Paths"
   ]
  },
  {
   "cell_type": "code",
   "execution_count": 3,
   "metadata": {},
   "outputs": [],
   "source": [
    "path = \"C:/Users/kumar/Documents/Github/analysis_projects/analysis_scripts/\"\n",
    "csv_path = os.path.join(path, \"csv/\")\n",
    "excel_path = os.path.join(path, \"excel/\")\n",
    "plot_path = os.path.join(path, \"plot/\")"
   ]
  },
  {
   "cell_type": "code",
   "execution_count": 4,
   "metadata": {},
   "outputs": [],
   "source": [
    "path_jem = os.path.join(csv_path, \"jem_metadata_wFAILURE.csv\")\n",
    "path_ephys = os.path.join(csv_path, \"ephys_mIVSCC_MET.csv\")\n",
    "path_shiny = os.path.join(csv_path, \"Mouse_VISp_ctx_shiny.csv\")"
   ]
  },
  {
   "cell_type": "markdown",
   "metadata": {},
   "source": [
    "##### Project Goal/Info"
   ]
  },
  {
   "cell_type": "code",
   "execution_count": 5,
   "metadata": {},
   "outputs": [
    {
     "data": {
      "text/plain": [
       "\"\\nAs of now a cell must have an RNA-Amp Pass and NMS pass to move on for a reconstruction.\\nThere are a percentage of cells that fail at RNA-Amp yet have NMS pass - these need to evaluated to \\ndetermine quality and numbers. \\n\\nItems to sort:\\nProject code (hIVSCC-MET, hIVSCC-METc, hIVSCC-METx, mIVSCC-MET)\\n\\nVariables:\\nNMS pass or fail\\nNMS score\\nRNA_amp pass or fail\\n%>400 bp --- cDNA quality\\nConcentration pg/ul BA  ----Can't find it?\\npg yield BA----amplified content same as cDNA quantity (picogreen yield)\\n\""
      ]
     },
     "execution_count": 5,
     "metadata": {},
     "output_type": "execute_result"
    }
   ],
   "source": [
    "\"\"\"\n",
    "As of now a cell must have an RNA-Amp Pass and NMS pass to move on for a reconstruction.\n",
    "There are a percentage of cells that fail at RNA-Amp yet have NMS pass - these need to evaluated to \n",
    "determine quality and numbers. \n",
    "\n",
    "Items to sort:\n",
    "Project code (hIVSCC-MET, hIVSCC-METc, hIVSCC-METx, mIVSCC-MET)\n",
    "\n",
    "Variables:\n",
    "NMS pass or fail\n",
    "NMS score\n",
    "RNA_amp pass or fail\n",
    "%>400 bp --- cDNA quality\n",
    "Concentration pg/ul BA  ----Can't find it?\n",
    "pg yield BA----amplified content same as cDNA quantity (picogreen yield)\n",
    "\"\"\""
   ]
  },
  {
   "cell_type": "code",
   "execution_count": 6,
   "metadata": {},
   "outputs": [
    {
     "data": {
      "text/plain": [
       "'\\nshiny columns:\\n\\n[\"cell_specimen_project\", \"Norm_Marker_Sum.0.4_label\", \"marker_sum_norm_label\",\\n\"rna_amplification_pass_fail\", \"percent_cdna_longer_than_400bp\", \"NOT SURE\", \"amplified_quantity_ng\"]\\n\\n'"
      ]
     },
     "execution_count": 6,
     "metadata": {},
     "output_type": "execute_result"
    }
   ],
   "source": [
    "\"\"\"\n",
    "shiny columns:\n",
    "\n",
    "[\"cell_specimen_project\", \"Norm_Marker_Sum.0.4_label\", \"marker_sum_norm_label\",\n",
    "\"rna_amplification_pass_fail\", \"percent_cdna_longer_than_400bp\", \"NOT SURE\", \"amplified_quantity_ng\"]\n",
    "\n",
    "\"\"\""
   ]
  },
  {
   "cell_type": "markdown",
   "metadata": {},
   "source": [
    "##### Start Code"
   ]
  },
  {
   "cell_type": "code",
   "execution_count": 7,
   "metadata": {},
   "outputs": [
    {
     "name": "stderr",
     "output_type": "stream",
     "text": [
      "INFO:functions.temp_funcs:Read file in as a pandas dataframe\n"
     ]
    }
   ],
   "source": [
    "fields_shiny = [\"cell_specimen_project\", \"Norm_Marker_Sum.0.4_label\", \"marker_sum_norm_label\",\n",
    "                \"rna_amplification_pass_fail\", \"percent_cdna_longer_than_400bp\", \"amplified_quantity_ng\"]\n",
    "shiny = read_file(path_shiny, fields_shiny)"
   ]
  },
  {
   "cell_type": "code",
   "execution_count": 8,
   "metadata": {},
   "outputs": [
    {
     "data": {
      "text/plain": [
       "array(['T301x', 'mIVSCC-MET', 'mIVSCC-METx', 'T301', 'hIVSCC-METx',\n",
       "       'mMPATCHseq', 'mMPATCH', 'T301t', 'mMPATCHx', 'hIVSCC-MET', nan],\n",
       "      dtype=object)"
      ]
     },
     "execution_count": 8,
     "metadata": {},
     "output_type": "execute_result"
    }
   ],
   "source": [
    "shiny[\"cell_specimen_project\"].unique() #10674 rows"
   ]
  },
  {
   "cell_type": "code",
   "execution_count": 9,
   "metadata": {},
   "outputs": [],
   "source": [
    "shiny.dropna(subset=[\"cell_specimen_project\"],inplace=True) #10669 rows"
   ]
  },
  {
   "cell_type": "markdown",
   "metadata": {},
   "source": [
    "##### Filter project code"
   ]
  },
  {
   "cell_type": "code",
   "execution_count": 10,
   "metadata": {},
   "outputs": [
    {
     "name": "stderr",
     "output_type": "stream",
     "text": [
      "INFO:functions.temp_funcs:Created a conditional dataframe based on cell_specimen_project containing ['hIVSCC-MET', 'hIVSCC-METc', 'hIVSCC-METx', 'mIVSCC-MET']\n"
     ]
    }
   ],
   "source": [
    "project_list = [\"hIVSCC-MET\", \"hIVSCC-METc\", \"hIVSCC-METx\", \"mIVSCC-MET\"]\n",
    "fill_project_shiny = create_cond_df(shiny, \"cell_specimen_project\", project_list) #8623 rows"
   ]
  },
  {
   "cell_type": "code",
   "execution_count": 11,
   "metadata": {},
   "outputs": [
    {
     "data": {
      "text/plain": [
       "array(['mIVSCC-MET', 'mIVSCC-METx', 'hIVSCC-METx', 'hIVSCC-MET'],\n",
       "      dtype=object)"
      ]
     },
     "execution_count": 11,
     "metadata": {},
     "output_type": "execute_result"
    }
   ],
   "source": [
    "fill_project_shiny[\"cell_specimen_project\"].unique()"
   ]
  },
  {
   "cell_type": "markdown",
   "metadata": {},
   "source": [
    "##### Filter RNA Amp pass_fail"
   ]
  },
  {
   "cell_type": "code",
   "execution_count": 12,
   "metadata": {},
   "outputs": [
    {
     "data": {
      "text/plain": [
       "array(['Fail', 'Pass'], dtype=object)"
      ]
     },
     "execution_count": 12,
     "metadata": {},
     "output_type": "execute_result"
    }
   ],
   "source": [
    "fill_project_shiny[\"rna_amplification_pass_fail\"].unique()"
   ]
  },
  {
   "cell_type": "code",
   "execution_count": 13,
   "metadata": {},
   "outputs": [
    {
     "data": {
      "text/plain": [
       "array([ True, False])"
      ]
     },
     "execution_count": 13,
     "metadata": {},
     "output_type": "execute_result"
    }
   ],
   "source": [
    "fill_project_shiny[\"Norm_Marker_Sum.0.4_label\"].unique()"
   ]
  },
  {
   "cell_type": "code",
   "execution_count": 14,
   "metadata": {},
   "outputs": [
    {
     "name": "stderr",
     "output_type": "stream",
     "text": [
      "INFO:functions.temp_funcs:Filtered dataframe based on rna_amplification_pass_fail == Fail\n"
     ]
    }
   ],
   "source": [
    "fail_rna = filter_df(fill_project_shiny, \"rna_amplification_pass_fail\", \"Fail\") #1401 rows"
   ]
  },
  {
   "cell_type": "markdown",
   "metadata": {},
   "source": [
    "##### Filter NMS True False if greater than 0.4"
   ]
  },
  {
   "cell_type": "code",
   "execution_count": 15,
   "metadata": {},
   "outputs": [
    {
     "name": "stderr",
     "output_type": "stream",
     "text": [
      "INFO:functions.temp_funcs:Filtered dataframe based on Norm_Marker_Sum.0.4_label == True\n"
     ]
    }
   ],
   "source": [
    "true_nms_fail_rna = filter_df(fail_rna, \"Norm_Marker_Sum.0.4_label\", True) #615 rows"
   ]
  },
  {
   "cell_type": "code",
   "execution_count": null,
   "metadata": {},
   "outputs": [],
   "source": []
  },
  {
   "cell_type": "code",
   "execution_count": null,
   "metadata": {},
   "outputs": [],
   "source": []
  },
  {
   "cell_type": "code",
   "execution_count": null,
   "metadata": {},
   "outputs": [],
   "source": []
  },
  {
   "cell_type": "code",
   "execution_count": null,
   "metadata": {},
   "outputs": [],
   "source": []
  },
  {
   "cell_type": "code",
   "execution_count": null,
   "metadata": {},
   "outputs": [],
   "source": []
  },
  {
   "cell_type": "code",
   "execution_count": null,
   "metadata": {},
   "outputs": [],
   "source": []
  },
  {
   "cell_type": "code",
   "execution_count": null,
   "metadata": {},
   "outputs": [],
   "source": []
  },
  {
   "cell_type": "code",
   "execution_count": null,
   "metadata": {},
   "outputs": [],
   "source": []
  },
  {
   "cell_type": "markdown",
   "metadata": {},
   "source": [
    "##### Makes dfs to csvs"
   ]
  },
  {
   "cell_type": "code",
   "execution_count": 16,
   "metadata": {},
   "outputs": [],
   "source": [
    "#shiny.to_csv(csv_path + \"set_rna_amp.csv\")\n",
    "#true_nms_fail_rna.to_csv(csv_path + \"rna_amp.csv\")"
   ]
  },
  {
   "cell_type": "code",
   "execution_count": null,
   "metadata": {},
   "outputs": [],
   "source": []
  },
  {
   "cell_type": "code",
   "execution_count": null,
   "metadata": {},
   "outputs": [],
   "source": []
  }
 ],
 "metadata": {
  "kernelspec": {
   "display_name": "Python 3",
   "language": "python",
   "name": "python3"
  },
  "language_info": {
   "codemirror_mode": {
    "name": "ipython",
    "version": 3
   },
   "file_extension": ".py",
   "mimetype": "text/x-python",
   "name": "python",
   "nbconvert_exporter": "python",
   "pygments_lexer": "ipython3",
   "version": "3.6.5"
  }
 },
 "nbformat": 4,
 "nbformat_minor": 2
}
