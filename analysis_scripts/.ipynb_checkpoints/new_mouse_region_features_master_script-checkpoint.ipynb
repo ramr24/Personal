{
 "cells": [
  {
   "cell_type": "code",
   "execution_count": 1,
   "metadata": {},
   "outputs": [
    {
     "name": "stdout",
     "output_type": "stream",
     "text": [
      "Feedback from Brian:\n",
      "1) Heatmap Plot\n",
      "2) Combine to put all ephys features in one plot\n",
      "\n",
      "*Use Tree call column when you have a large dataset\n",
      "*Use NMS for smaller dataset now\n"
     ]
    }
   ],
   "source": [
    "print(\"\"\"Feedback from Brian:\n",
    "1) Heatmap Plot\n",
    "2) Combine to put all ephys features in one plot\n",
    "\n",
    "*Use Tree call column when you have a large dataset\n",
    "*Use NMS for smaller dataset now\"\"\")"
   ]
  },
  {
   "cell_type": "markdown",
   "metadata": {},
   "source": [
    "##### Imports "
   ]
  },
  {
   "cell_type": "code",
   "execution_count": 2,
   "metadata": {},
   "outputs": [],
   "source": [
    "import pandas as pd\n",
    "import numpy as np\n",
    "import csv\n",
    "import logging\n",
    "import os\n",
    "from functions.temp_funcs import read_file, merge_dataframes, drop_cols, drop_nans, filter_date_range, \\\n",
    "filter_df, create_container_col, create_cond_df\n",
    "\n",
    "import seaborn as sns\n",
    "import matplotlib.pyplot as plt\n",
    "sns.set(context = \"notebook\", style = \"white\", font=\"verdana\") # font_scale = 1.35)"
   ]
  },
  {
   "cell_type": "markdown",
   "metadata": {},
   "source": [
    "##### Logging Set-up"
   ]
  },
  {
   "cell_type": "code",
   "execution_count": 3,
   "metadata": {},
   "outputs": [],
   "source": [
    "logging.basicConfig(level=logging.INFO)\n",
    "LOGGER = logging.getLogger(__name__)"
   ]
  },
  {
   "cell_type": "markdown",
   "metadata": {},
   "source": [
    "##### Pandas Display Settings"
   ]
  },
  {
   "cell_type": "code",
   "execution_count": 4,
   "metadata": {},
   "outputs": [],
   "source": [
    "pd.set_option(\"display.max_colwidth\",150) #Expands the number of characters shown in the columns\n",
    "pd.set_option('display.max_columns', None)"
   ]
  },
  {
   "cell_type": "markdown",
   "metadata": {},
   "source": [
    "##### Lists/Paths"
   ]
  },
  {
   "cell_type": "code",
   "execution_count": 5,
   "metadata": {},
   "outputs": [],
   "source": [
    "path = \"C:/Users/kumar/Documents/Github/analysis_projects/analysis_scripts/\"\n",
    "csv_path = os.path.join(path, \"csv/\")\n",
    "excel_path = os.path.join(path, \"excel/\")\n",
    "plot_path = os.path.join(path, \"plot/\")"
   ]
  },
  {
   "cell_type": "code",
   "execution_count": 6,
   "metadata": {},
   "outputs": [],
   "source": [
    "path_jem = os.path.join(csv_path, \"jem_metadata_wFAILURE.csv\")\n",
    "path_ephys = os.path.join(csv_path, \"ephys_mIVSCC_MET.csv\")\n",
    "path_shiny = os.path.join(csv_path, \"Mouse_VISp_ctx_shiny.csv\")"
   ]
  },
  {
   "cell_type": "code",
   "execution_count": 7,
   "metadata": {},
   "outputs": [],
   "source": [
    "fields_jem = [\"date\", \"organism_name\", \"container\", \"rigOperator\", \"status\", \"roi\"]\n",
    "              #\"extraction.postPatch\", \"extraction.endPipetteR\"]\n",
    "fields_ephys = [\"name\", \"vrest\", \"ri\", \"sag\", \"tau\",\n",
    "                \"upstroke_downstroke_ratio_long_square\", \"latency\", \"f_i_curve_slope\"]\n",
    "fields_shiny = [\"patch.date\", \"cell_name\", \"sample_id\", \"cell_specimen_project\",\n",
    "                \"subclass_label\", \"broad_class_label\",\n",
    "                \"marker_sum_norm_label\", \"Norm_Marker_Sum.0.4_label\"] #\"Tree_call\", \"topLeaf_label\""
   ]
  },
  {
   "cell_type": "code",
   "execution_count": 8,
   "metadata": {},
   "outputs": [],
   "source": [
    "drop_nans_list = [\"date\"]\n",
    "drop_cols_list = [\"sample_id\", \"patch.date\", \"status\", \"name\", \"cell_specimen_project\", \"organism_name\"]"
   ]
  },
  {
   "cell_type": "markdown",
   "metadata": {},
   "source": [
    "##### Writing to Excel File"
   ]
  },
  {
   "cell_type": "code",
   "execution_count": 9,
   "metadata": {},
   "outputs": [],
   "source": [
    "def save_to_excel():\n",
    "    \"\"\"\"\"\"\n",
    "    writer = pd.ExcelWriter(excel_path + \"mephys_final_home.xlsx\")\n",
    "    rsp_visp_glu.to_excel(writer, \"RSP_VISP_Glu\", freeze_panes=(1,0))\n",
    "    rsp_glu.to_excel(writer, \"RSP_Glu\", freeze_panes=(1,0))\n",
    "    visp_glu.to_excel(writer, \"VISP_Glu\", freeze_panes=(1,0))\n",
    "    merge_all.to_excel(writer, \"All\", freeze_panes=(1,0))\n",
    "    merge_sj.to_excel(writer, \"Shiny_Jem\", freeze_panes=(1,0))\n",
    "    shiny.to_excel(writer, \"Shiny\", freeze_panes=(1,0))\n",
    "    jem.to_excel(writer, \"Jem\", freeze_panes=(1,0))\n",
    "    ephys.to_excel(writer, \"Ephys\", freeze_panes=(1,0))\n",
    "    writer.save()\n",
    "    LOGGER.info(\"All dataframes have been saved to excel file\")"
   ]
  },
  {
   "cell_type": "markdown",
   "metadata": {},
   "source": [
    "##### Main"
   ]
  },
  {
   "cell_type": "code",
   "execution_count": 10,
   "metadata": {},
   "outputs": [],
   "source": [
    "def main():\n",
    "    global jem, shiny, ephys, merge_sj, merge_all, merge_all_glu, merge_all_gab, rsp_glu, visp_glu, rsp_visp_glu\n",
    "    jem = read_file(path_jem, fields_jem) #20843 rows\n",
    "    ephys = read_file(path_ephys, fields_ephys) #8541 rows\n",
    "    shiny = read_file(path_shiny, fields_shiny) #10674 rows\n",
    "\n",
    "    jem = filter_df(jem, \"status\", \"SUCCESS\") #13325 rows\n",
    "    jem = filter_date_range(jem, \"date\") #6335 rows\n",
    "    \n",
    "    shiny = filter_df(shiny, \"Norm_Marker_Sum.0.4_label\", True) #9101 rows\n",
    "    shiny = filter_date_range(shiny, \"patch.date\") #2849 rows\n",
    "\n",
    "    merge_sj = merge_dataframes(shiny, jem, \"sample_id\", \"container\", \"inner\") #2850 rows (even if how=left)\n",
    "    merge_all = merge_dataframes(merge_sj, ephys, \"cell_name\", \"name\", \"inner\") #2635 rows\n",
    "\n",
    "    merge_all = drop_nans(merge_all, drop_nans_list)\n",
    "    merge_all = drop_cols(merge_all, drop_cols_list)\n",
    "    merge_all = create_container_col(merge_all, \"rigOperator\")\n",
    "    merge_all.set_index(\"date\", inplace=True)\n",
    "    \n",
    "    merge_all[\"region\"] = pd.np.where(merge_all.roi.str.contains(\"RSP\"), \"RSP\", \n",
    "                                      pd.np.where(merge_all.roi.str.contains(\"VISp\"), \"VISp\", \n",
    "                                      pd.np.where(merge_all.roi.str.contains(\"TEa\"), \"TEa\",\n",
    "                                      pd.np.where(merge_all.roi.str.contains(\"CTXsp\"), \"CLA\",\n",
    "                                      pd.np.where(merge_all.roi.str.contains(\"MO\"), \"MO\",\n",
    "                                      pd.np.where(merge_all.roi.str.contains(\"ORB\"), \"ORB\",\n",
    "                                      pd.np.where(merge_all.roi.str.contains(\"SSp\"), \"SSp\",\n",
    "                                      pd.np.where(merge_all.roi.str.contains(\"HY\"), \"HY\", \"Unknown\"))))))))\n",
    "    \n",
    "    merge_all_glu = create_cond_df(merge_all, \"broad_class_label\", [\"Glutamatergic\"])\n",
    "    merge_all_gab = create_cond_df(merge_all, \"broad_class_label\", [\"GABAergic\"])\n",
    "\n",
    "    rsp_glu = create_cond_df(merge_all_glu, \"region\", [\"RSP\"])\n",
    "    visp_glu = create_cond_df(merge_all_glu, \"region\", [\"VISp\"])\n",
    "    rsp_visp_glu = pd.concat([rsp_glu, visp_glu])\n",
    "    "
   ]
  },
  {
   "cell_type": "code",
   "execution_count": 11,
   "metadata": {},
   "outputs": [
    {
     "name": "stderr",
     "output_type": "stream",
     "text": [
      "INFO:functions.temp_funcs:Read file in as a pandas dataframe\n",
      "INFO:functions.temp_funcs:Read file in as a pandas dataframe\n",
      "INFO:functions.temp_funcs:Read file in as a pandas dataframe\n",
      "INFO:functions.temp_funcs:Filtered dataframe based on status == SUCCESS\n",
      "C:\\Users\\kumar\\Documents\\GitHub\\analysis_projects\\analysis_scripts\\functions\\temp_funcs.py:87: SettingWithCopyWarning: \n",
      "A value is trying to be set on a copy of a slice from a DataFrame\n",
      "\n",
      "See the caveats in the documentation: http://pandas.pydata.org/pandas-docs/stable/indexing.html#indexing-view-versus-copy\n",
      "  df.sort_values([date_col], inplace=True)\n",
      "INFO:functions.temp_funcs:Filtered dataframe: 2019-01-01 - 2020-12-31\n",
      "INFO:functions.temp_funcs:Filtered dataframe based on Norm_Marker_Sum.0.4_label == True\n",
      "INFO:functions.temp_funcs:Filtered dataframe: 2019-01-01 - 2020-12-31\n",
      "INFO:functions.temp_funcs:Merged two pandas dataframe into one dataframe\n",
      "INFO:functions.temp_funcs:Merged two pandas dataframe into one dataframe\n",
      "INFO:functions.temp_funcs:Dropped NaNs from these columns: ['date']\n",
      "INFO:functions.temp_funcs:Dropped columns: ['sample_id', 'patch.date', 'status', 'name', 'cell_specimen_project', 'organism_name']\n",
      "INFO:functions.temp_funcs:Created a patch_container_label column to show(ex.'PA')\n",
      "INFO:functions.temp_funcs:Created a conditional dataframe based on broad_class_label containing ['Glutamatergic']\n",
      "INFO:functions.temp_funcs:Created a conditional dataframe based on broad_class_label containing ['GABAergic']\n",
      "INFO:functions.temp_funcs:Created a conditional dataframe based on region containing ['RSP']\n",
      "INFO:functions.temp_funcs:Created a conditional dataframe based on region containing ['VISp']\n"
     ]
    },
    {
     "name": "stdout",
     "output_type": "stream",
     "text": [
      "Type y or n to save dataframes to excel file:y\n"
     ]
    },
    {
     "name": "stderr",
     "output_type": "stream",
     "text": [
      "INFO:__main__:All dataframes have been saved to excel file\n"
     ]
    }
   ],
   "source": [
    "if __name__ == \"__main__\":\n",
    "    main()\n",
    "    entry = input(\"Type y or n to save dataframes to excel file:\")\n",
    "    if entry.lower() == \"y\":\n",
    "        save_to_excel()\n",
    "    elif entry.lower() == \"n\":\n",
    "        LOGGER.info(\"The dataframes did not get saved to excel file.\")\n",
    "    else:\n",
    "        LOGGER.info(\"Please print y or n.\")"
   ]
  },
  {
   "cell_type": "markdown",
   "metadata": {},
   "source": [
    "##### Count Tracker for subclasses"
   ]
  },
  {
   "cell_type": "code",
   "execution_count": 12,
   "metadata": {},
   "outputs": [],
   "source": [
    "merge_all.reset_index(inplace=True)"
   ]
  },
  {
   "cell_type": "code",
   "execution_count": 13,
   "metadata": {},
   "outputs": [
    {
     "name": "stdout",
     "output_type": "stream",
     "text": [
      "Start date: 2019-01-03 & End Date: 2020-02-03\n"
     ]
    }
   ],
   "source": [
    "start_date = merge_all[\"date\"].str[0:10].min()\n",
    "end_date = merge_all[\"date\"].str[0:10].max()\n",
    "print(f\"Start date: {start_date} & End Date: {end_date}\")"
   ]
  },
  {
   "cell_type": "code",
   "execution_count": 14,
   "metadata": {},
   "outputs": [
    {
     "data": {
      "text/plain": [
       "array(['Vip', 'Sst', 'L6 Car3', 'Pvalb', 'Sst Chodl', 'Sncg', 'L6 CT CTX',\n",
       "       'Lamp5', 'L5 ET CTX', 'L5 IT CTX', 'L4/5 IT CTX', 'L6 IT CTX',\n",
       "       'L2/3 IT CTX', 'L5 NP CTX', 'L6b CTX', 'L2 IT RSP-ACA', 'DG',\n",
       "       'L6 CT SUB', 'L5 IT TPE-ENT', 'L2/3 IT PPP', 'L2 IT ENTm',\n",
       "       'L5 PPP', 'L3 RSP-ACA', 'SUB', 'L2/3 IT TPE', 'L6 CT L6b ENT',\n",
       "       'L2/3 IT ENTl'], dtype=object)"
      ]
     },
     "execution_count": 14,
     "metadata": {},
     "output_type": "execute_result"
    }
   ],
   "source": [
    "merge_all.subclass_label.unique()"
   ]
  },
  {
   "cell_type": "code",
   "execution_count": 15,
   "metadata": {},
   "outputs": [],
   "source": [
    "#fig_dims = (20, 10)\n",
    "#f, axes = plt.subplots(figsize=fig_dims)\n",
    "\n",
    "#sns.countplot(x=\"subclass_label\", data=merge_all)"
   ]
  },
  {
   "cell_type": "markdown",
   "metadata": {},
   "source": [
    "##### Misc Info"
   ]
  },
  {
   "cell_type": "code",
   "execution_count": 16,
   "metadata": {},
   "outputs": [],
   "source": [
    "#merge_all #2787 rows\n",
    "#merge_all_glu #1583 rows\n",
    "#merge_all_gab #1204 rows"
   ]
  },
  {
   "cell_type": "code",
   "execution_count": 17,
   "metadata": {},
   "outputs": [
    {
     "name": "stderr",
     "output_type": "stream",
     "text": [
      "C:\\Users\\kumar\\AppData\\Local\\Continuum\\anaconda3\\lib\\site-packages\\ipykernel_launcher.py:3: SettingWithCopyWarning: \n",
      "A value is trying to be set on a copy of a slice from a DataFrame\n",
      "\n",
      "See the caveats in the documentation: http://pandas.pydata.org/pandas-docs/stable/indexing.html#indexing-view-versus-copy\n",
      "  This is separate from the ipykernel package so we can avoid doing imports until\n",
      "C:\\Users\\kumar\\AppData\\Local\\Continuum\\anaconda3\\lib\\site-packages\\ipykernel_launcher.py:4: SettingWithCopyWarning: \n",
      "A value is trying to be set on a copy of a slice from a DataFrame\n",
      "\n",
      "See the caveats in the documentation: http://pandas.pydata.org/pandas-docs/stable/indexing.html#indexing-view-versus-copy\n",
      "  after removing the cwd from sys.path.\n"
     ]
    }
   ],
   "source": [
    "rsp_visp_glu.reset_index(inplace=True)\n",
    "rsp_visp_glu.sort_values([\"subclass_label\"], inplace=True)\n",
    "rsp_glu.sort_values([\"subclass_label\"], inplace=True)\n",
    "visp_glu.sort_values([\"subclass_label\"], inplace=True)"
   ]
  },
  {
   "cell_type": "code",
   "execution_count": 18,
   "metadata": {},
   "outputs": [],
   "source": [
    "#rsp_visp_glu #1424 rows\n",
    "#Start Date: 1.04.2019 \n",
    "#End Date: 1.31.2020\n",
    "#rsp_visp_glu"
   ]
  },
  {
   "cell_type": "code",
   "execution_count": 19,
   "metadata": {},
   "outputs": [],
   "source": [
    "#rsp_glu.replace({\"roi_major\": {\"RSPd\": \"RSP\", \"RSPv\": \"RSP\"}}, inplace=True)\n",
    "#mo_glu.replace({\"roi_major\": {\"MOp\": \"MO\", \"MOs\": \"MO\"}}, inplace=True)"
   ]
  },
  {
   "cell_type": "code",
   "execution_count": 20,
   "metadata": {},
   "outputs": [
    {
     "data": {
      "text/plain": [
       "'\\nregion_dict = {\"Overall Mouse Total count\": merge_all.name.count(),\\n               \"RSP Total\": rsp.name.count(),\\n               \"SSp Total\": ssp.name.count(),\\n               \"ORB Total\": orb.name.count(),\\n               \"CTXsp Total\": ctxsp.name.count(),\\n               \"MO Total\": mo.name.count(),\\n               \"VISp Total\": visp.name.count()}\\n\\nglu_dict = {\"Glutamatergic Mouse Total count\": merge_all_glu.name.count(),\\n            \"RSP\": rsp_glu.name.count(),\\n            \"SSp\": ssp_glu.name.count(),\\n            \"ORB\": orb_glu.name.count(),\\n            \"CTXsp\": ctxsp_glu.name.count(),\\n            \"MO\": mo_glu.name.count(),\\n            \"VISp\": visp_glu.name.count()}\\n\\ngab_dict = {\"GABAergic Mouse Total count\": merge_all_gab.name.count(),\\n            \"RSP\": rsp_gab.name.count(),\\n            \"SSp\": ssp_gab.name.count(),\\n            \"ORB\": orb_gab.name.count(),\\n            \"CTXsp\": ctxsp_gab.name.count(),\\n            \"MO\": mo_gab.name.count(),\\n            \"VISp\": visp_gab.name.count()}\\n\\nfor k,v in region_dict.items():\\n    print(f\"{k} : {v}\")\\n    \\nfor k,v in glu_dict.items():\\n    print(f\"{k} : {v}\")\\n\\nfor k,v in gab_dict.items():\\n    print(f\"{k} : {v}\")\\n'"
      ]
     },
     "execution_count": 20,
     "metadata": {},
     "output_type": "execute_result"
    }
   ],
   "source": [
    "\"\"\"\n",
    "region_dict = {\"Overall Mouse Total count\": merge_all.name.count(),\n",
    "               \"RSP Total\": rsp.name.count(),\n",
    "               \"SSp Total\": ssp.name.count(),\n",
    "               \"ORB Total\": orb.name.count(),\n",
    "               \"CTXsp Total\": ctxsp.name.count(),\n",
    "               \"MO Total\": mo.name.count(),\n",
    "               \"VISp Total\": visp.name.count()}\n",
    "\n",
    "glu_dict = {\"Glutamatergic Mouse Total count\": merge_all_glu.name.count(),\n",
    "            \"RSP\": rsp_glu.name.count(),\n",
    "            \"SSp\": ssp_glu.name.count(),\n",
    "            \"ORB\": orb_glu.name.count(),\n",
    "            \"CTXsp\": ctxsp_glu.name.count(),\n",
    "            \"MO\": mo_glu.name.count(),\n",
    "            \"VISp\": visp_glu.name.count()}\n",
    "\n",
    "gab_dict = {\"GABAergic Mouse Total count\": merge_all_gab.name.count(),\n",
    "            \"RSP\": rsp_gab.name.count(),\n",
    "            \"SSp\": ssp_gab.name.count(),\n",
    "            \"ORB\": orb_gab.name.count(),\n",
    "            \"CTXsp\": ctxsp_gab.name.count(),\n",
    "            \"MO\": mo_gab.name.count(),\n",
    "            \"VISp\": visp_gab.name.count()}\n",
    "\n",
    "for k,v in region_dict.items():\n",
    "    print(f\"{k} : {v}\")\n",
    "    \n",
    "for k,v in glu_dict.items():\n",
    "    print(f\"{k} : {v}\")\n",
    "\n",
    "for k,v in gab_dict.items():\n",
    "    print(f\"{k} : {v}\")\n",
    "\"\"\""
   ]
  },
  {
   "cell_type": "markdown",
   "metadata": {},
   "source": [
    "##### Plot Functions"
   ]
  },
  {
   "cell_type": "code",
   "execution_count": 21,
   "metadata": {},
   "outputs": [],
   "source": [
    "b_colors={\"RSP\": \"#a1d99b\", \"VISp\": \"#9ecae1\"}\n",
    "s_colors={\"RSP\": \"#41ab5d\", \"VISp\": \"#4292c6\"}"
   ]
  },
  {
   "cell_type": "code",
   "execution_count": 22,
   "metadata": {},
   "outputs": [],
   "source": [
    "region_list = [\"RSP\", \"VISp\"]\n",
    "sub_list = [\"L2 IT RSP-ACA\", \"L5 ET CTX\", \"L5 NP CTX\"]"
   ]
  },
  {
   "cell_type": "code",
   "execution_count": 23,
   "metadata": {},
   "outputs": [
    {
     "name": "stdout",
     "output_type": "stream",
     "text": [
      "Combined subclass list(greater than 5 datapoints): ['L2 IT RSP-ACA', 'L5 ET CTX', 'L5 NP CTX']\n"
     ]
    }
   ],
   "source": [
    "rsub_list = list()\n",
    "rless_list = list()\n",
    "for n in rsp_glu.subclass_label.unique():\n",
    "    ex = rsp_glu[rsp_glu[\"subclass_label\"] == n]\n",
    "    value = ex[\"vrest\"].count() > 5\n",
    "    if value == True:\n",
    "        rsub_list.append(n)\n",
    "    else:\n",
    "        rless_list.append(n)\n",
    "\n",
    "vsub_list = list()\n",
    "vless_list = list()\n",
    "for n in visp_glu.subclass_label.unique():\n",
    "    ex = visp_glu[visp_glu[\"subclass_label\"] == n]\n",
    "    value = ex[\"vrest\"].count() > 5\n",
    "    if value == True:\n",
    "        vsub_list.append(n)\n",
    "    else:\n",
    "        vless_list.append(n)\n",
    "        \n",
    "#print(f\"This list has greater than 5 datapoints: {rsub_list}\")\n",
    "#print(f\"This list has less than 5 datapoints: {rless_list}\")\n",
    "#print(f\"This list has greater than 5 datapoints: {vsub_list}\")\n",
    "#print(f\"This list has less than 5 datapoints: {vless_list}\")\n",
    "\n",
    "sub_list = list(set(rsub_list) & set(vsub_list))\n",
    "print(f\"Combined subclass list(greater than 5 datapoints): {sub_list}\")"
   ]
  },
  {
   "cell_type": "markdown",
   "metadata": {},
   "source": [
    "##### Function for Box Plot"
   ]
  },
  {
   "cell_type": "code",
   "execution_count": 24,
   "metadata": {},
   "outputs": [],
   "source": [
    "def box_plt(col_y, jpg_title, plt_title, ylim_min, ylim_max, df=rsp_visp_glu):\n",
    "    \"\"\"Creates a box plot using seaborn and compares the ephys features between\n",
    "    two mouse regions while displaying the t-types.\n",
    "    Args:\n",
    "        col_y(string): y-axis column\n",
    "        jpg_title(string): title of the jpeg file\n",
    "        plt_tile(string): title of the plot\n",
    "        df: a pandas dataframe\n",
    "    Returns: None\n",
    "    \"\"\"\n",
    "    fig_dims = (4, 8)\n",
    "    f, axes = plt.subplots(figsize=fig_dims)\n",
    "\n",
    "    ax = sns.boxplot(x=\"subclass_label\", y=col_y, hue=\"region\", data=df[df[col_y] < ylim_max],\n",
    "                     order = sub_list, hue_order = region_list,\n",
    "                     palette=b_colors, saturation=1, width=0.8, linewidth=1.3, showfliers=False)\n",
    "\n",
    "    ax = sns.stripplot(x=\"subclass_label\", y=col_y, hue=\"region\", data=df[df[col_y] < ylim_max],\n",
    "                       order = sub_list, hue_order = region_list,\n",
    "                       jitter=False, size=4.5, palette=s_colors, dodge=True, linewidth=0.5)\n",
    "    \n",
    "    #sns.despine(trim=True)\n",
    "    handles, labels = ax.get_legend_handles_labels()\n",
    "    l = plt.legend(handles[0:2], labels[0:2], title=\"Region\")\n",
    "    \n",
    "    #ax.legend_.remove()\n",
    "    ax.set(xlabel=\"Subclass\", ylabel=plt_title)\n",
    "    ax.set(ylim=(ylim_min, ylim_max))\n",
    "    plt.savefig(plot_path + \"box_plt_\" + jpg_title + \".jpeg\", bbox_inches=\"tight\")"
   ]
  },
  {
   "cell_type": "code",
   "execution_count": 25,
   "metadata": {
    "scrolled": false
   },
   "outputs": [
    {
     "data": {
      "image/png": "[encoded data removed]",
      "text/plain": [
       "<Figure size 288x576 with 1 Axes>"
      ]
     },
     "metadata": {},
     "output_type": "display_data"
    },
    {
     "data": {
      "image/png": "[encoded data removed]",
      "text/plain": [
       "<Figure size 288x576 with 1 Axes>"
      ]
     },
     "metadata": {},
     "output_type": "display_data"
    }
   ],
   "source": [
    "box_plt(\"vrest\", \"rmp\", \"Resting Membrane Potential (mV)\", -90, -50)\n",
    "#box_plt(\"sag\", \"sag\", \"Sag\", 0, 0.35)\n",
    "#box_plt(\"tau\", \"tau\", \"Time Constant\", 0, 35)\n",
    "#box_plt(\"upstroke_downstroke_ratio_long_square\", \"udr\", \"Upstroke/Downstroke\", 0, 6)\n",
    "box_plt(\"latency\", \"lat\", \"Latency\", 0, 0.10)\n",
    "#box_plt(\"f_i_curve_slope\", \"fis\", \"F-I Curve\", 0, 0.60)"
   ]
  },
  {
   "cell_type": "markdown",
   "metadata": {},
   "source": [
    "##### Creating multiple subplots for boxplots"
   ]
  },
  {
   "cell_type": "code",
   "execution_count": 26,
   "metadata": {},
   "outputs": [
    {
     "data": {
      "image/png": "[encoded data removed]",
      "text/plain": [
       "<Figure size 288x1440 with 3 Axes>"
      ]
     },
     "metadata": {},
     "output_type": "display_data"
    }
   ],
   "source": [
    "fig_dims = (4, 20)\n",
    "f, axes = plt.subplots(nrows=3, ncols=1, figsize=fig_dims)\n",
    "\n",
    "\n",
    "ax = sns.boxplot(x=\"subclass_label\", y=\"vrest\", hue=\"region\", data=rsp_visp_glu[rsp_visp_glu[\"vrest\"] < -50],\n",
    "                 order = sub_list, hue_order = region_list,\n",
    "                 palette=b_colors, saturation=1, width=0.8, linewidth=1.3, showfliers=False, ax=axes[0])\n",
    "\n",
    "\n",
    "ax = sns.stripplot(x=\"subclass_label\", y=\"vrest\", hue=\"region\", data=rsp_visp_glu[rsp_visp_glu[\"vrest\"] < -50],\n",
    "                   order = sub_list, hue_order = region_list,\n",
    "                   jitter=False, size=4.5, palette=s_colors, dodge=True, linewidth=0.5, ax=axes[0])\n",
    "\n",
    "\n",
    "ax1 = sns.boxplot(x=\"subclass_label\", y=\"ri\", hue=\"region\", data=rsp_visp_glu[rsp_visp_glu[\"ri\"] < 500],\n",
    "                  order = sub_list, hue_order = region_list,\n",
    "                  palette=b_colors, saturation=1, width=0.8, linewidth=1.3, showfliers=False, ax=axes[1])\n",
    "\n",
    "ax1 = sns.stripplot(x=\"subclass_label\", y=\"ri\", hue=\"region\", data=rsp_visp_glu[rsp_visp_glu[\"ri\"] < 500],\n",
    "                    order = sub_list, hue_order = region_list,\n",
    "                    jitter=False, size=4.5, palette=s_colors, dodge=True, linewidth=0.5, ax=axes[1])\n",
    "\n",
    "\n",
    "ax2 = sns.boxplot(x=\"subclass_label\", y=\"sag\", hue=\"region\", data=rsp_visp_glu[rsp_visp_glu[\"sag\"] < 0.35],\n",
    "                  order = sub_list, hue_order = region_list,\n",
    "                  palette=b_colors, saturation=1, width=0.8, linewidth=1.3, showfliers=False, ax=axes[2])\n",
    "\n",
    "ax2 = sns.stripplot(x=\"subclass_label\", y=\"sag\", hue=\"region\", data=rsp_visp_glu[rsp_visp_glu[\"sag\"] < 0.35],\n",
    "                    order = sub_list, hue_order = region_list,\n",
    "                    jitter=False, size=4.5, palette=s_colors, dodge=True, linewidth=0.5, ax=axes[2])\n",
    "\n",
    "handles, labels = ax.get_legend_handles_labels()\n",
    "l = plt.legend(handles[0:2], labels[0:2], title=\"Region\")\n",
    "\n",
    "ax.legend_.remove()\n",
    "ax1.legend_.remove()\n",
    "#ax2.legend_.remove()\n",
    "\n",
    "ax.set(ylim=(-90, -50))\n",
    "ax1.set(ylim=(0, 500))\n",
    "ax2.set(ylim=(0, 0.35))\n",
    "ax.set(xlabel=None, ylabel=\"Resting Membrane Potential (mV)\")\n",
    "ax1.set(xlabel=None, ylabel=\"Input Resistance (MOhms)\")\n",
    "ax2.set(xlabel=\"Subclass\", ylabel=\"Sag\")\n",
    "\n",
    "ax.set(xticklabels=[])\n",
    "ax1.set(xticklabels=[])\n",
    "sns.despine(bottom=True)"
   ]
  },
  {
   "cell_type": "markdown",
   "metadata": {},
   "source": [
    "##### HeatMap"
   ]
  },
  {
   "cell_type": "code",
   "execution_count": 27,
   "metadata": {},
   "outputs": [],
   "source": [
    "rsp_glu.reset_index(inplace=True)\n",
    "visp_glu.reset_index(inplace=True)"
   ]
  },
  {
   "cell_type": "code",
   "execution_count": 28,
   "metadata": {},
   "outputs": [],
   "source": [
    "r_df = rsp_glu[[\"subclass_label\", \"region\", \"vrest\", \"ri\", \"sag\", \"tau\",\n",
    "                \"upstroke_downstroke_ratio_long_square\", \"latency\", \"f_i_curve_slope\"]]\n",
    "r_df = r_df.groupby([\"subclass_label\", \"region\"]).mean().reset_index()"
   ]
  },
  {
   "cell_type": "code",
   "execution_count": 29,
   "metadata": {},
   "outputs": [],
   "source": [
    "v_df = visp_glu[[\"subclass_label\", \"region\", \"vrest\", \"ri\", \"sag\", \"tau\",\n",
    "                \"upstroke_downstroke_ratio_long_square\", \"latency\", \"f_i_curve_slope\"]]\n",
    "v_df = v_df.groupby([\"subclass_label\", \"region\"],).mean().reset_index()"
   ]
  },
  {
   "cell_type": "code",
   "execution_count": 30,
   "metadata": {},
   "outputs": [],
   "source": [
    "heatmap_df = pd.merge(left=r_df, right=v_df, on=\"subclass_label\")"
   ]
  },
  {
   "cell_type": "code",
   "execution_count": 31,
   "metadata": {},
   "outputs": [],
   "source": [
    "heatmap_df[\"vrest\"] = ((heatmap_df[\"vrest_x\"] - heatmap_df[\"vrest_y\"]) / heatmap_df[\"vrest_y\"]) * 100 #new - old/old  = r - v/v\n",
    "heatmap_df[\"ri\"] = ((heatmap_df[\"ri_x\"] - heatmap_df[\"ri_y\"]) / heatmap_df[\"ri_y\"]) * 100\n",
    "heatmap_df[\"sag\"] = ((heatmap_df[\"sag_x\"] - heatmap_df[\"sag_y\"]) / heatmap_df[\"sag_y\"]) * 100\n",
    "heatmap_df[\"tau\"] = ((heatmap_df[\"tau_x\"] - heatmap_df[\"tau_y\"]) / heatmap_df[\"tau_y\"]) * 100\n",
    "heatmap_df[\"upstroke_downstroke_ratio_long_square\"] = abs((heatmap_df[\"upstroke_downstroke_ratio_long_square_x\"] - heatmap_df[\"upstroke_downstroke_ratio_long_square_y\"]) / heatmap_df[\"upstroke_downstroke_ratio_long_square_y\"]) * 100\n",
    "heatmap_df[\"latency\"] = ((heatmap_df[\"latency_x\"] - heatmap_df[\"latency_y\"]) / heatmap_df[\"latency_y\"]) * 100\n",
    "heatmap_df[\"f_i_curve_slope\"] = ((heatmap_df[\"f_i_curve_slope_x\"] - heatmap_df[\"f_i_curve_slope_y\"]) / heatmap_df[\"f_i_curve_slope_y\"]) * 100"
   ]
  },
  {
   "cell_type": "code",
   "execution_count": 32,
   "metadata": {},
   "outputs": [
    {
     "data": {
      "text/html": [
       "<div>\n",
       "<style scoped>\n",
       "    .dataframe tbody tr th:only-of-type {\n",
       "        vertical-align: middle;\n",
       "    }\n",
       "\n",
       "    .dataframe tbody tr th {\n",
       "        vertical-align: top;\n",
       "    }\n",
       "\n",
       "    .dataframe thead th {\n",
       "        text-align: right;\n",
       "    }\n",
       "</style>\n",
       "<table border=\"1\" class=\"dataframe\">\n",
       "  <thead>\n",
       "    <tr style=\"text-align: right;\">\n",
       "      <th></th>\n",
       "      <th>subclass_label</th>\n",
       "      <th>region_x</th>\n",
       "      <th>vrest_x</th>\n",
       "      <th>ri_x</th>\n",
       "      <th>sag_x</th>\n",
       "      <th>tau_x</th>\n",
       "      <th>upstroke_downstroke_ratio_long_square_x</th>\n",
       "      <th>latency_x</th>\n",
       "      <th>f_i_curve_slope_x</th>\n",
       "      <th>region_y</th>\n",
       "      <th>vrest_y</th>\n",
       "      <th>ri_y</th>\n",
       "      <th>sag_y</th>\n",
       "      <th>tau_y</th>\n",
       "      <th>upstroke_downstroke_ratio_long_square_y</th>\n",
       "      <th>latency_y</th>\n",
       "      <th>f_i_curve_slope_y</th>\n",
       "      <th>vrest</th>\n",
       "      <th>ri</th>\n",
       "      <th>sag</th>\n",
       "      <th>tau</th>\n",
       "      <th>upstroke_downstroke_ratio_long_square</th>\n",
       "      <th>latency</th>\n",
       "      <th>f_i_curve_slope</th>\n",
       "    </tr>\n",
       "  </thead>\n",
       "  <tbody>\n",
       "    <tr>\n",
       "      <th>0</th>\n",
       "      <td>L2 IT RSP-ACA</td>\n",
       "      <td>RSP</td>\n",
       "      <td>-76.811338</td>\n",
       "      <td>104.348811</td>\n",
       "      <td>0.035903</td>\n",
       "      <td>10.586263</td>\n",
       "      <td>2.925136</td>\n",
       "      <td>0.046587</td>\n",
       "      <td>0.198403</td>\n",
       "      <td>VISp</td>\n",
       "      <td>-76.773133</td>\n",
       "      <td>98.861731</td>\n",
       "      <td>0.024403</td>\n",
       "      <td>12.694613</td>\n",
       "      <td>4.122600</td>\n",
       "      <td>0.064600</td>\n",
       "      <td>0.161421</td>\n",
       "      <td>0.049764</td>\n",
       "      <td>5.550257</td>\n",
       "      <td>47.123079</td>\n",
       "      <td>-16.608223</td>\n",
       "      <td>29.046333</td>\n",
       "      <td>-27.883680</td>\n",
       "      <td>22.910700</td>\n",
       "    </tr>\n",
       "    <tr>\n",
       "      <th>1</th>\n",
       "      <td>L2/3 IT CTX</td>\n",
       "      <td>RSP</td>\n",
       "      <td>-79.119185</td>\n",
       "      <td>57.729140</td>\n",
       "      <td>0.014439</td>\n",
       "      <td>9.543382</td>\n",
       "      <td>4.441768</td>\n",
       "      <td>0.073660</td>\n",
       "      <td>0.120000</td>\n",
       "      <td>VISp</td>\n",
       "      <td>-77.377667</td>\n",
       "      <td>67.836134</td>\n",
       "      <td>0.023004</td>\n",
       "      <td>11.676442</td>\n",
       "      <td>4.314961</td>\n",
       "      <td>0.080301</td>\n",
       "      <td>0.134687</td>\n",
       "      <td>2.250672</td>\n",
       "      <td>-14.899130</td>\n",
       "      <td>-37.229532</td>\n",
       "      <td>-18.268066</td>\n",
       "      <td>2.938771</td>\n",
       "      <td>-8.269713</td>\n",
       "      <td>-10.904747</td>\n",
       "    </tr>\n",
       "    <tr>\n",
       "      <th>2</th>\n",
       "      <td>L3 RSP-ACA</td>\n",
       "      <td>RSP</td>\n",
       "      <td>-65.180289</td>\n",
       "      <td>86.825591</td>\n",
       "      <td>0.289668</td>\n",
       "      <td>13.088296</td>\n",
       "      <td>3.033503</td>\n",
       "      <td>0.041252</td>\n",
       "      <td>0.193444</td>\n",
       "      <td>VISp</td>\n",
       "      <td>-66.775607</td>\n",
       "      <td>75.374946</td>\n",
       "      <td>0.231917</td>\n",
       "      <td>8.989039</td>\n",
       "      <td>2.707995</td>\n",
       "      <td>0.029440</td>\n",
       "      <td>0.300000</td>\n",
       "      <td>-2.389072</td>\n",
       "      <td>15.191579</td>\n",
       "      <td>24.901747</td>\n",
       "      <td>45.602839</td>\n",
       "      <td>12.020258</td>\n",
       "      <td>40.123981</td>\n",
       "      <td>-35.518800</td>\n",
       "    </tr>\n",
       "    <tr>\n",
       "      <th>3</th>\n",
       "      <td>L4/5 IT CTX</td>\n",
       "      <td>RSP</td>\n",
       "      <td>-59.979497</td>\n",
       "      <td>177.957054</td>\n",
       "      <td>0.101669</td>\n",
       "      <td>43.732152</td>\n",
       "      <td>3.563717</td>\n",
       "      <td>0.039470</td>\n",
       "      <td>0.690908</td>\n",
       "      <td>VISp</td>\n",
       "      <td>-70.795548</td>\n",
       "      <td>162.471682</td>\n",
       "      <td>0.064352</td>\n",
       "      <td>19.944293</td>\n",
       "      <td>3.988628</td>\n",
       "      <td>0.062423</td>\n",
       "      <td>0.187472</td>\n",
       "      <td>-15.277870</td>\n",
       "      <td>9.531121</td>\n",
       "      <td>57.988783</td>\n",
       "      <td>119.271509</td>\n",
       "      <td>10.653053</td>\n",
       "      <td>-36.770303</td>\n",
       "      <td>268.539526</td>\n",
       "    </tr>\n",
       "    <tr>\n",
       "      <th>4</th>\n",
       "      <td>L5 ET CTX</td>\n",
       "      <td>RSP</td>\n",
       "      <td>-69.061524</td>\n",
       "      <td>111.394068</td>\n",
       "      <td>0.166532</td>\n",
       "      <td>15.468225</td>\n",
       "      <td>3.597249</td>\n",
       "      <td>0.046611</td>\n",
       "      <td>0.155662</td>\n",
       "      <td>VISp</td>\n",
       "      <td>-67.587740</td>\n",
       "      <td>118.302890</td>\n",
       "      <td>0.172716</td>\n",
       "      <td>17.279266</td>\n",
       "      <td>3.599296</td>\n",
       "      <td>0.048491</td>\n",
       "      <td>0.163207</td>\n",
       "      <td>2.180550</td>\n",
       "      <td>-5.839944</td>\n",
       "      <td>-3.580804</td>\n",
       "      <td>-10.481009</td>\n",
       "      <td>0.056873</td>\n",
       "      <td>-3.877011</td>\n",
       "      <td>-4.622775</td>\n",
       "    </tr>\n",
       "    <tr>\n",
       "      <th>5</th>\n",
       "      <td>L5 IT CTX</td>\n",
       "      <td>RSP</td>\n",
       "      <td>-67.201502</td>\n",
       "      <td>217.835734</td>\n",
       "      <td>0.063916</td>\n",
       "      <td>28.400857</td>\n",
       "      <td>3.220501</td>\n",
       "      <td>0.040333</td>\n",
       "      <td>0.182440</td>\n",
       "      <td>VISp</td>\n",
       "      <td>-71.368605</td>\n",
       "      <td>209.809391</td>\n",
       "      <td>0.095233</td>\n",
       "      <td>24.488164</td>\n",
       "      <td>3.441350</td>\n",
       "      <td>0.046932</td>\n",
       "      <td>0.147395</td>\n",
       "      <td>-5.838847</td>\n",
       "      <td>3.825540</td>\n",
       "      <td>-32.884357</td>\n",
       "      <td>15.977892</td>\n",
       "      <td>6.417504</td>\n",
       "      <td>-14.059553</td>\n",
       "      <td>23.776122</td>\n",
       "    </tr>\n",
       "    <tr>\n",
       "      <th>6</th>\n",
       "      <td>L5 NP CTX</td>\n",
       "      <td>RSP</td>\n",
       "      <td>-73.900963</td>\n",
       "      <td>243.984663</td>\n",
       "      <td>0.069398</td>\n",
       "      <td>18.792059</td>\n",
       "      <td>3.797228</td>\n",
       "      <td>0.038696</td>\n",
       "      <td>0.353778</td>\n",
       "      <td>VISp</td>\n",
       "      <td>-66.517502</td>\n",
       "      <td>270.316173</td>\n",
       "      <td>0.153057</td>\n",
       "      <td>22.180426</td>\n",
       "      <td>4.213208</td>\n",
       "      <td>0.026652</td>\n",
       "      <td>0.273864</td>\n",
       "      <td>11.100027</td>\n",
       "      <td>-9.741004</td>\n",
       "      <td>-54.659084</td>\n",
       "      <td>-15.276384</td>\n",
       "      <td>9.873225</td>\n",
       "      <td>45.190701</td>\n",
       "      <td>29.180182</td>\n",
       "    </tr>\n",
       "    <tr>\n",
       "      <th>7</th>\n",
       "      <td>L6 CT CTX</td>\n",
       "      <td>RSP</td>\n",
       "      <td>-72.319739</td>\n",
       "      <td>102.999970</td>\n",
       "      <td>0.098378</td>\n",
       "      <td>9.024144</td>\n",
       "      <td>2.354674</td>\n",
       "      <td>0.031620</td>\n",
       "      <td>0.084603</td>\n",
       "      <td>VISp</td>\n",
       "      <td>-70.724212</td>\n",
       "      <td>173.522547</td>\n",
       "      <td>0.129680</td>\n",
       "      <td>15.924181</td>\n",
       "      <td>3.101322</td>\n",
       "      <td>0.036160</td>\n",
       "      <td>0.178346</td>\n",
       "      <td>2.255984</td>\n",
       "      <td>-40.641737</td>\n",
       "      <td>-24.137485</td>\n",
       "      <td>-43.330561</td>\n",
       "      <td>24.075162</td>\n",
       "      <td>-12.554953</td>\n",
       "      <td>-52.562494</td>\n",
       "    </tr>\n",
       "    <tr>\n",
       "      <th>8</th>\n",
       "      <td>L6 IT CTX</td>\n",
       "      <td>RSP</td>\n",
       "      <td>-66.040516</td>\n",
       "      <td>135.484431</td>\n",
       "      <td>0.038903</td>\n",
       "      <td>16.311519</td>\n",
       "      <td>4.129084</td>\n",
       "      <td>0.062960</td>\n",
       "      <td>0.167946</td>\n",
       "      <td>VISp</td>\n",
       "      <td>-73.203375</td>\n",
       "      <td>147.771758</td>\n",
       "      <td>0.051016</td>\n",
       "      <td>17.049474</td>\n",
       "      <td>4.229675</td>\n",
       "      <td>0.050674</td>\n",
       "      <td>0.188047</td>\n",
       "      <td>-9.784875</td>\n",
       "      <td>-8.315071</td>\n",
       "      <td>-23.743077</td>\n",
       "      <td>-4.328312</td>\n",
       "      <td>2.378232</td>\n",
       "      <td>24.245528</td>\n",
       "      <td>-10.688966</td>\n",
       "    </tr>\n",
       "    <tr>\n",
       "      <th>9</th>\n",
       "      <td>L6b CTX</td>\n",
       "      <td>RSP</td>\n",
       "      <td>-61.183310</td>\n",
       "      <td>349.539767</td>\n",
       "      <td>0.189573</td>\n",
       "      <td>32.159326</td>\n",
       "      <td>3.942913</td>\n",
       "      <td>0.189047</td>\n",
       "      <td>0.107263</td>\n",
       "      <td>VISp</td>\n",
       "      <td>-68.607158</td>\n",
       "      <td>207.526891</td>\n",
       "      <td>0.056418</td>\n",
       "      <td>19.564715</td>\n",
       "      <td>4.583395</td>\n",
       "      <td>0.045027</td>\n",
       "      <td>0.236287</td>\n",
       "      <td>-10.820807</td>\n",
       "      <td>68.431072</td>\n",
       "      <td>236.015394</td>\n",
       "      <td>64.374108</td>\n",
       "      <td>13.973955</td>\n",
       "      <td>319.853728</td>\n",
       "      <td>-54.604933</td>\n",
       "    </tr>\n",
       "  </tbody>\n",
       "</table>\n",
       "</div>"
      ],
      "text/plain": [
       "  subclass_label region_x    vrest_x        ri_x     sag_x      tau_x  \\\n",
       "0  L2 IT RSP-ACA      RSP -76.811338  104.348811  0.035903  10.586263   \n",
       "1    L2/3 IT CTX      RSP -79.119185   57.729140  0.014439   9.543382   \n",
       "2     L3 RSP-ACA      RSP -65.180289   86.825591  0.289668  13.088296   \n",
       "3    L4/5 IT CTX      RSP -59.979497  177.957054  0.101669  43.732152   \n",
       "4      L5 ET CTX      RSP -69.061524  111.394068  0.166532  15.468225   \n",
       "5      L5 IT CTX      RSP -67.201502  217.835734  0.063916  28.400857   \n",
       "6      L5 NP CTX      RSP -73.900963  243.984663  0.069398  18.792059   \n",
       "7      L6 CT CTX      RSP -72.319739  102.999970  0.098378   9.024144   \n",
       "8      L6 IT CTX      RSP -66.040516  135.484431  0.038903  16.311519   \n",
       "9        L6b CTX      RSP -61.183310  349.539767  0.189573  32.159326   \n",
       "\n",
       "   upstroke_downstroke_ratio_long_square_x  latency_x  f_i_curve_slope_x  \\\n",
       "0                                 2.925136   0.046587           0.198403   \n",
       "1                                 4.441768   0.073660           0.120000   \n",
       "2                                 3.033503   0.041252           0.193444   \n",
       "3                                 3.563717   0.039470           0.690908   \n",
       "4                                 3.597249   0.046611           0.155662   \n",
       "5                                 3.220501   0.040333           0.182440   \n",
       "6                                 3.797228   0.038696           0.353778   \n",
       "7                                 2.354674   0.031620           0.084603   \n",
       "8                                 4.129084   0.062960           0.167946   \n",
       "9                                 3.942913   0.189047           0.107263   \n",
       "\n",
       "  region_y    vrest_y        ri_y     sag_y      tau_y  \\\n",
       "0     VISp -76.773133   98.861731  0.024403  12.694613   \n",
       "1     VISp -77.377667   67.836134  0.023004  11.676442   \n",
       "2     VISp -66.775607   75.374946  0.231917   8.989039   \n",
       "3     VISp -70.795548  162.471682  0.064352  19.944293   \n",
       "4     VISp -67.587740  118.302890  0.172716  17.279266   \n",
       "5     VISp -71.368605  209.809391  0.095233  24.488164   \n",
       "6     VISp -66.517502  270.316173  0.153057  22.180426   \n",
       "7     VISp -70.724212  173.522547  0.129680  15.924181   \n",
       "8     VISp -73.203375  147.771758  0.051016  17.049474   \n",
       "9     VISp -68.607158  207.526891  0.056418  19.564715   \n",
       "\n",
       "   upstroke_downstroke_ratio_long_square_y  latency_y  f_i_curve_slope_y  \\\n",
       "0                                 4.122600   0.064600           0.161421   \n",
       "1                                 4.314961   0.080301           0.134687   \n",
       "2                                 2.707995   0.029440           0.300000   \n",
       "3                                 3.988628   0.062423           0.187472   \n",
       "4                                 3.599296   0.048491           0.163207   \n",
       "5                                 3.441350   0.046932           0.147395   \n",
       "6                                 4.213208   0.026652           0.273864   \n",
       "7                                 3.101322   0.036160           0.178346   \n",
       "8                                 4.229675   0.050674           0.188047   \n",
       "9                                 4.583395   0.045027           0.236287   \n",
       "\n",
       "       vrest         ri         sag         tau  \\\n",
       "0   0.049764   5.550257   47.123079  -16.608223   \n",
       "1   2.250672 -14.899130  -37.229532  -18.268066   \n",
       "2  -2.389072  15.191579   24.901747   45.602839   \n",
       "3 -15.277870   9.531121   57.988783  119.271509   \n",
       "4   2.180550  -5.839944   -3.580804  -10.481009   \n",
       "5  -5.838847   3.825540  -32.884357   15.977892   \n",
       "6  11.100027  -9.741004  -54.659084  -15.276384   \n",
       "7   2.255984 -40.641737  -24.137485  -43.330561   \n",
       "8  -9.784875  -8.315071  -23.743077   -4.328312   \n",
       "9 -10.820807  68.431072  236.015394   64.374108   \n",
       "\n",
       "   upstroke_downstroke_ratio_long_square     latency  f_i_curve_slope  \n",
       "0                              29.046333  -27.883680        22.910700  \n",
       "1                               2.938771   -8.269713       -10.904747  \n",
       "2                              12.020258   40.123981       -35.518800  \n",
       "3                              10.653053  -36.770303       268.539526  \n",
       "4                               0.056873   -3.877011        -4.622775  \n",
       "5                               6.417504  -14.059553        23.776122  \n",
       "6                               9.873225   45.190701        29.180182  \n",
       "7                              24.075162  -12.554953       -52.562494  \n",
       "8                               2.378232   24.245528       -10.688966  \n",
       "9                              13.973955  319.853728       -54.604933  "
      ]
     },
     "execution_count": 32,
     "metadata": {},
     "output_type": "execute_result"
    }
   ],
   "source": [
    "heatmap_df"
   ]
  },
  {
   "cell_type": "code",
   "execution_count": 33,
   "metadata": {},
   "outputs": [],
   "source": [
    "heatmap_df.drop(columns=[\"vrest_x\", \"vrest_y\",\n",
    "                    \"ri_x\", \"ri_y\", \n",
    "                    \"sag_x\", \"sag_y\", \n",
    "                    \"tau_x\", \"tau_y\",\n",
    "                    \"upstroke_downstroke_ratio_long_square_x\", \"upstroke_downstroke_ratio_long_square_y\",\n",
    "                    \"latency_x\", \"latency_y\",\n",
    "                    \"f_i_curve_slope_x\", \"f_i_curve_slope_y\",\n",
    "                    \"region_x\", \"region_y\"], inplace=True)\n",
    "\n",
    "heatmap_df.rename(columns={\"vrest\": \"Vm(mV)\", \n",
    "                      \"ri\": \"Input Resistance(MΩ)\",\n",
    "                      \"sag\" : \"Sag Fraction\",\n",
    "                      \"tau\": \"τ(s)\",\n",
    "                      \"upstroke_downstroke_ratio_long_square\": \"LS AP up/downstoke\",\n",
    "                      \"latency\" : \"Latency\",\n",
    "                      \"f_i_curve_slope\" : \"F-I Curve\"}, inplace=True)\n",
    "\n",
    "heatmap_df = heatmap_df.melt(id_vars=[\"subclass_label\"],\n",
    "                             value_vars=[\"Vm(mV)\", \"Input Resistance(MΩ)\", \"Sag Fraction\", \"τ(s)\",\n",
    "                                         \"LS AP up/downstoke\", \"Latency\", \"F-I Curve\"],\n",
    "                             var_name=\"ephys_features\", value_name=\"%change from VISp\")"
   ]
  },
  {
   "cell_type": "code",
   "execution_count": 34,
   "metadata": {},
   "outputs": [],
   "source": [
    "heatmap_df = pd.pivot_table(heatmap_df, values='%change from VISp', index=[\"ephys_features\"], columns=\"subclass_label\")"
   ]
  },
  {
   "cell_type": "code",
   "execution_count": 35,
   "metadata": {},
   "outputs": [
    {
     "data": {
      "text/html": [
       "<div>\n",
       "<style scoped>\n",
       "    .dataframe tbody tr th:only-of-type {\n",
       "        vertical-align: middle;\n",
       "    }\n",
       "\n",
       "    .dataframe tbody tr th {\n",
       "        vertical-align: top;\n",
       "    }\n",
       "\n",
       "    .dataframe thead th {\n",
       "        text-align: right;\n",
       "    }\n",
       "</style>\n",
       "<table border=\"1\" class=\"dataframe\">\n",
       "  <thead>\n",
       "    <tr style=\"text-align: right;\">\n",
       "      <th>subclass_label</th>\n",
       "      <th>L2 IT RSP-ACA</th>\n",
       "      <th>L2/3 IT CTX</th>\n",
       "      <th>L3 RSP-ACA</th>\n",
       "      <th>L4/5 IT CTX</th>\n",
       "      <th>L5 ET CTX</th>\n",
       "      <th>L5 IT CTX</th>\n",
       "      <th>L5 NP CTX</th>\n",
       "      <th>L6 CT CTX</th>\n",
       "      <th>L6 IT CTX</th>\n",
       "      <th>L6b CTX</th>\n",
       "    </tr>\n",
       "    <tr>\n",
       "      <th>ephys_features</th>\n",
       "      <th></th>\n",
       "      <th></th>\n",
       "      <th></th>\n",
       "      <th></th>\n",
       "      <th></th>\n",
       "      <th></th>\n",
       "      <th></th>\n",
       "      <th></th>\n",
       "      <th></th>\n",
       "      <th></th>\n",
       "    </tr>\n",
       "  </thead>\n",
       "  <tbody>\n",
       "    <tr>\n",
       "      <th>F-I Curve</th>\n",
       "      <td>22.910700</td>\n",
       "      <td>-10.904747</td>\n",
       "      <td>-35.518800</td>\n",
       "      <td>268.539526</td>\n",
       "      <td>-4.622775</td>\n",
       "      <td>23.776122</td>\n",
       "      <td>29.180182</td>\n",
       "      <td>-52.562494</td>\n",
       "      <td>-10.688966</td>\n",
       "      <td>-54.604933</td>\n",
       "    </tr>\n",
       "    <tr>\n",
       "      <th>Input Resistance(MΩ)</th>\n",
       "      <td>5.550257</td>\n",
       "      <td>-14.899130</td>\n",
       "      <td>15.191579</td>\n",
       "      <td>9.531121</td>\n",
       "      <td>-5.839944</td>\n",
       "      <td>3.825540</td>\n",
       "      <td>-9.741004</td>\n",
       "      <td>-40.641737</td>\n",
       "      <td>-8.315071</td>\n",
       "      <td>68.431072</td>\n",
       "    </tr>\n",
       "    <tr>\n",
       "      <th>LS AP up/downstoke</th>\n",
       "      <td>29.046333</td>\n",
       "      <td>2.938771</td>\n",
       "      <td>12.020258</td>\n",
       "      <td>10.653053</td>\n",
       "      <td>0.056873</td>\n",
       "      <td>6.417504</td>\n",
       "      <td>9.873225</td>\n",
       "      <td>24.075162</td>\n",
       "      <td>2.378232</td>\n",
       "      <td>13.973955</td>\n",
       "    </tr>\n",
       "    <tr>\n",
       "      <th>Latency</th>\n",
       "      <td>-27.883680</td>\n",
       "      <td>-8.269713</td>\n",
       "      <td>40.123981</td>\n",
       "      <td>-36.770303</td>\n",
       "      <td>-3.877011</td>\n",
       "      <td>-14.059553</td>\n",
       "      <td>45.190701</td>\n",
       "      <td>-12.554953</td>\n",
       "      <td>24.245528</td>\n",
       "      <td>319.853728</td>\n",
       "    </tr>\n",
       "    <tr>\n",
       "      <th>Sag Fraction</th>\n",
       "      <td>47.123079</td>\n",
       "      <td>-37.229532</td>\n",
       "      <td>24.901747</td>\n",
       "      <td>57.988783</td>\n",
       "      <td>-3.580804</td>\n",
       "      <td>-32.884357</td>\n",
       "      <td>-54.659084</td>\n",
       "      <td>-24.137485</td>\n",
       "      <td>-23.743077</td>\n",
       "      <td>236.015394</td>\n",
       "    </tr>\n",
       "    <tr>\n",
       "      <th>Vm(mV)</th>\n",
       "      <td>0.049764</td>\n",
       "      <td>2.250672</td>\n",
       "      <td>-2.389072</td>\n",
       "      <td>-15.277870</td>\n",
       "      <td>2.180550</td>\n",
       "      <td>-5.838847</td>\n",
       "      <td>11.100027</td>\n",
       "      <td>2.255984</td>\n",
       "      <td>-9.784875</td>\n",
       "      <td>-10.820807</td>\n",
       "    </tr>\n",
       "    <tr>\n",
       "      <th>τ(s)</th>\n",
       "      <td>-16.608223</td>\n",
       "      <td>-18.268066</td>\n",
       "      <td>45.602839</td>\n",
       "      <td>119.271509</td>\n",
       "      <td>-10.481009</td>\n",
       "      <td>15.977892</td>\n",
       "      <td>-15.276384</td>\n",
       "      <td>-43.330561</td>\n",
       "      <td>-4.328312</td>\n",
       "      <td>64.374108</td>\n",
       "    </tr>\n",
       "  </tbody>\n",
       "</table>\n",
       "</div>"
      ],
      "text/plain": [
       "subclass_label        L2 IT RSP-ACA  L2/3 IT CTX  L3 RSP-ACA  L4/5 IT CTX  \\\n",
       "ephys_features                                                              \n",
       "F-I Curve                 22.910700   -10.904747  -35.518800   268.539526   \n",
       "Input Resistance(MΩ)       5.550257   -14.899130   15.191579     9.531121   \n",
       "LS AP up/downstoke        29.046333     2.938771   12.020258    10.653053   \n",
       "Latency                  -27.883680    -8.269713   40.123981   -36.770303   \n",
       "Sag Fraction              47.123079   -37.229532   24.901747    57.988783   \n",
       "Vm(mV)                     0.049764     2.250672   -2.389072   -15.277870   \n",
       "τ(s)                     -16.608223   -18.268066   45.602839   119.271509   \n",
       "\n",
       "subclass_label        L5 ET CTX  L5 IT CTX  L5 NP CTX  L6 CT CTX  L6 IT CTX  \\\n",
       "ephys_features                                                                \n",
       "F-I Curve             -4.622775  23.776122  29.180182 -52.562494 -10.688966   \n",
       "Input Resistance(MΩ)  -5.839944   3.825540  -9.741004 -40.641737  -8.315071   \n",
       "LS AP up/downstoke     0.056873   6.417504   9.873225  24.075162   2.378232   \n",
       "Latency               -3.877011 -14.059553  45.190701 -12.554953  24.245528   \n",
       "Sag Fraction          -3.580804 -32.884357 -54.659084 -24.137485 -23.743077   \n",
       "Vm(mV)                 2.180550  -5.838847  11.100027   2.255984  -9.784875   \n",
       "τ(s)                 -10.481009  15.977892 -15.276384 -43.330561  -4.328312   \n",
       "\n",
       "subclass_label           L6b CTX  \n",
       "ephys_features                    \n",
       "F-I Curve             -54.604933  \n",
       "Input Resistance(MΩ)   68.431072  \n",
       "LS AP up/downstoke     13.973955  \n",
       "Latency               319.853728  \n",
       "Sag Fraction          236.015394  \n",
       "Vm(mV)                -10.820807  \n",
       "τ(s)                   64.374108  "
      ]
     },
     "execution_count": 35,
     "metadata": {},
     "output_type": "execute_result"
    }
   ],
   "source": [
    "heatmap_df"
   ]
  },
  {
   "cell_type": "code",
   "execution_count": 36,
   "metadata": {},
   "outputs": [
    {
     "data": {
      "image/png": "[encoded data removed]",
      "text/plain": [
       "<Figure size 1080x720 with 2 Axes>"
      ]
     },
     "metadata": {},
     "output_type": "display_data"
    }
   ],
   "source": [
    "fig, ax = plt.subplots(figsize=(15,10))\n",
    "sns.heatmap(data=heatmap_df,\n",
    "            vmin=-100, \n",
    "            vmax=100,\n",
    "            cmap=\"coolwarm\",\n",
    "            center=0,\n",
    "            #robust=True,\n",
    "            #annot=True\n",
    "            linewidths=0.5,\n",
    "            square=True,\n",
    "            cbar=True,\n",
    "            cbar_kws={\"label\": \"RSP %change from VISp\", \"shrink\": 0.865})\n",
    "plt.ylabel(\"Electophysiological Features\")\n",
    "plt.xlabel(\"Subclass\")\n",
    "plt.title(\"Heatmap: Differences in electrophysiological features between RSP and VISp\")\n",
    "plt.savefig(plot_path + \"heatmap.jpeg\", bbox_inches=\"tight\")"
   ]
  },
  {
   "cell_type": "code",
   "execution_count": 37,
   "metadata": {},
   "outputs": [
    {
     "ename": "KeyError",
     "evalue": "'%change from VISp'",
     "output_type": "error",
     "traceback": [
      "\u001b[1;31m---------------------------------------------------------------------------\u001b[0m",
      "\u001b[1;31mKeyError\u001b[0m                                  Traceback (most recent call last)",
      "\u001b[1;32m<ipython-input-37-6128af544bde>\u001b[0m in \u001b[0;36m<module>\u001b[1;34m()\u001b[0m\n\u001b[0;32m      4\u001b[0m heatmap1_data = pd.pivot_table(heatmap_df, values='%change from VISp', \n\u001b[0;32m      5\u001b[0m                      \u001b[0mindex\u001b[0m\u001b[1;33m=\u001b[0m\u001b[1;33m[\u001b[0m\u001b[1;34m\"ephys_features\"\u001b[0m\u001b[1;33m]\u001b[0m\u001b[1;33m,\u001b[0m\u001b[1;33m\u001b[0m\u001b[0m\n\u001b[1;32m----> 6\u001b[1;33m                      columns=\"subclass_label\")\n\u001b[0m\u001b[0;32m      7\u001b[0m \u001b[1;31m#sns.heatmap(data=rsp_glu, vmin=0, vmax=1, linewidths=.5)\u001b[0m\u001b[1;33m\u001b[0m\u001b[1;33m\u001b[0m\u001b[0m\n",
      "\u001b[1;32m~\\AppData\\Local\\Continuum\\anaconda3\\lib\\site-packages\\pandas\\core\\reshape\\pivot.py\u001b[0m in \u001b[0;36mpivot_table\u001b[1;34m(data, values, index, columns, aggfunc, fill_value, margins, dropna, margins_name)\u001b[0m\n\u001b[0;32m     57\u001b[0m         \u001b[1;32mfor\u001b[0m \u001b[0mi\u001b[0m \u001b[1;32min\u001b[0m \u001b[0mvalues\u001b[0m\u001b[1;33m:\u001b[0m\u001b[1;33m\u001b[0m\u001b[0m\n\u001b[0;32m     58\u001b[0m             \u001b[1;32mif\u001b[0m \u001b[0mi\u001b[0m \u001b[1;32mnot\u001b[0m \u001b[1;32min\u001b[0m \u001b[0mdata\u001b[0m\u001b[1;33m:\u001b[0m\u001b[1;33m\u001b[0m\u001b[0m\n\u001b[1;32m---> 59\u001b[1;33m                 \u001b[1;32mraise\u001b[0m \u001b[0mKeyError\u001b[0m\u001b[1;33m(\u001b[0m\u001b[0mi\u001b[0m\u001b[1;33m)\u001b[0m\u001b[1;33m\u001b[0m\u001b[0m\n\u001b[0m\u001b[0;32m     60\u001b[0m \u001b[1;33m\u001b[0m\u001b[0m\n\u001b[0;32m     61\u001b[0m         \u001b[0mto_filter\u001b[0m \u001b[1;33m=\u001b[0m \u001b[1;33m[\u001b[0m\u001b[1;33m]\u001b[0m\u001b[1;33m\u001b[0m\u001b[0m\n",
      "\u001b[1;31mKeyError\u001b[0m: '%change from VISp'"
     ]
    }
   ],
   "source": [
    "\"\"\"Or, since you're mostly interested in whether there's a change you might imagine turning it into a heatmap,\n",
    "where columns are t-types, rows are features and color indicates % change from VISp, for example.\n",
    "\"\"\"\n",
    "heatmap1_data = pd.pivot_table(heatmap_df, values='%change from VISp', \n",
    "                     index=[\"ephys_features\"], \n",
    "                     columns=\"subclass_label\")\n",
    "#sns.heatmap(data=rsp_glu, vmin=0, vmax=1, linewidths=.5)"
   ]
  },
  {
   "cell_type": "code",
   "execution_count": null,
   "metadata": {},
   "outputs": [],
   "source": []
  }
 ],
 "metadata": {
  "kernelspec": {
   "display_name": "Python 3",
   "language": "python",
   "name": "python3"
  },
  "language_info": {
   "codemirror_mode": {
    "name": "ipython",
    "version": 3
   },
   "file_extension": ".py",
   "mimetype": "text/x-python",
   "name": "python",
   "nbconvert_exporter": "python",
   "pygments_lexer": "ipython3",
   "version": "3.6.5"
  }
 },
 "nbformat": 4,
 "nbformat_minor": 2
}
