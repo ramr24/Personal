{
 "cells": [
  {
   "cell_type": "markdown",
   "metadata": {},
   "source": [
    "##### Imports"
   ]
  },
  {
   "cell_type": "code",
   "execution_count": 1,
   "metadata": {},
   "outputs": [
    {
     "data": {
      "text/plain": [
       "'\\nFocus on human data primarily on hIVSCC-MET for AIBS\\n-Tree call for Mouse\\n-Seurat prediction score for Human\\n\\n*Make a scatter plot NMS score vs Seurat prediction score (Add n values)\\n1) RNA amp pass\\n2) RNA amp fail \\n\\n\\n*Make same plot as Agata with barplot, tree call option with counts\\nCollaborators have hIVSCC-MET and hIVSCC-METx\\n'"
      ]
     },
     "execution_count": 1,
     "metadata": {},
     "output_type": "execute_result"
    }
   ],
   "source": [
    "\"\"\"\n",
    "Focus on human data primarily on hIVSCC-MET for AIBS\n",
    "-Tree call for Mouse\n",
    "-Seurat prediction score for Human\n",
    "\n",
    "*Make a scatter plot NMS score vs Seurat prediction score (Add n values)\n",
    "1) RNA amp pass\n",
    "2) RNA amp fail \n",
    "\n",
    "\n",
    "*Make same plot as Agata with barplot, tree call option with counts\n",
    "Collaborators have hIVSCC-MET and hIVSCC-METx\n",
    "\"\"\""
   ]
  },
  {
   "cell_type": "code",
   "execution_count": 2,
   "metadata": {},
   "outputs": [],
   "source": [
    "import pandas as pd\n",
    "import numpy as np\n",
    "import csv\n",
    "import logging\n",
    "import os\n",
    "\n",
    "from functions.temp_funcs import read_file, merge_dataframes, drop_cols, drop_nans, filter_date_range, \\\n",
    "filter_df, create_container_col, create_cond_df, create_container_df\n",
    "\n",
    "import seaborn as sns\n",
    "import matplotlib.pyplot as plt\n",
    "\n",
    "sns.set(context = \"notebook\", style = \"ticks\", font=\"verdana\") # font_scale = 1.35)\n",
    "pd.set_option(\"display.max_colwidth\",150) #Expands the number of characters shown in the columns\n",
    "pd.set_option('display.max_columns', None)"
   ]
  },
  {
   "cell_type": "markdown",
   "metadata": {},
   "source": [
    "##### Paths"
   ]
  },
  {
   "cell_type": "code",
   "execution_count": 3,
   "metadata": {},
   "outputs": [],
   "source": [
    "path = \"C:/Users/kumar/Documents/Github/analysis_projects/analysis_scripts/\"\n",
    "csv_path = os.path.join(path, \"csv/\")\n",
    "excel_path = os.path.join(path, \"excel/\")\n",
    "plot_path = os.path.join(path, \"plot/\")\n",
    "path_shiny_human = os.path.join(csv_path, \"current_shiny_human.csv\")"
   ]
  },
  {
   "cell_type": "markdown",
   "metadata": {},
   "source": [
    "##### Start Code"
   ]
  },
  {
   "cell_type": "code",
   "execution_count": 4,
   "metadata": {},
   "outputs": [],
   "source": [
    "fields_shiny = [\"cell_name\", \"cell_specimen_project\", \"Norm_Marker_Sum.0.4_label\",\n",
    "                \"marker_sum_norm_label\", \"rna_amplification_pass_fail\",\n",
    "                \"percent_cdna_longer_than_400bp\", \"amplified_quantity_ng\", \"sample_id\", \n",
    "                \"Tree_call\", \"seurat_prediction_score_label\"]\n",
    "\n",
    "shiny_dict = {\"Norm_Marker_Sum.0.4_label\" : \"NMS Pass/Fail\",\n",
    "              \"rna_amplification_pass_fail\" : \"RNA amp Pass/Fail\",\n",
    "              \"marker_sum_norm_label\": \"NMS score\",\n",
    "              \"percent_cdna_longer_than_400bp\" : \"cDNA quality (%>400 bp)\",\n",
    "              \"amplified_quantity_ng\" : \"Amplified content (ng)\"}"
   ]
  },
  {
   "cell_type": "code",
   "execution_count": 5,
   "metadata": {},
   "outputs": [
    {
     "name": "stderr",
     "output_type": "stream",
     "text": [
      "INFO:functions.temp_funcs:Read file in as a pandas dataframe\n"
     ]
    }
   ],
   "source": [
    "shiny_human = read_file(path_shiny_human, fields_shiny) #3592 rows"
   ]
  },
  {
   "cell_type": "code",
   "execution_count": 6,
   "metadata": {},
   "outputs": [],
   "source": [
    "shiny_human.rename(columns=shiny_dict, inplace=True)"
   ]
  },
  {
   "cell_type": "code",
   "execution_count": 7,
   "metadata": {},
   "outputs": [
    {
     "data": {
      "text/html": [
       "<div>\n",
       "<style scoped>\n",
       "    .dataframe tbody tr th:only-of-type {\n",
       "        vertical-align: middle;\n",
       "    }\n",
       "\n",
       "    .dataframe tbody tr th {\n",
       "        vertical-align: top;\n",
       "    }\n",
       "\n",
       "    .dataframe thead th {\n",
       "        text-align: right;\n",
       "    }\n",
       "</style>\n",
       "<table border=\"1\" class=\"dataframe\">\n",
       "  <thead>\n",
       "    <tr style=\"text-align: right;\">\n",
       "      <th></th>\n",
       "      <th>sample_id</th>\n",
       "      <th>cell_name</th>\n",
       "      <th>cDNA quality (%&gt;400 bp)</th>\n",
       "      <th>RNA amp Pass/Fail</th>\n",
       "      <th>Amplified content (ng)</th>\n",
       "      <th>cell_specimen_project</th>\n",
       "      <th>NMS score</th>\n",
       "      <th>NMS Pass/Fail</th>\n",
       "      <th>seurat_prediction_score_label</th>\n",
       "      <th>Tree_call</th>\n",
       "    </tr>\n",
       "  </thead>\n",
       "  <tbody>\n",
       "    <tr>\n",
       "      <td>0</td>\n",
       "      <td>P1S4_190321_002_A01</td>\n",
       "      <td>H19.06.351.11.16.01.01</td>\n",
       "      <td>0.637</td>\n",
       "      <td>Pass</td>\n",
       "      <td>17.401231</td>\n",
       "      <td>hIVSCC-MET</td>\n",
       "      <td>1.303453</td>\n",
       "      <td>True</td>\n",
       "      <td>1.000000</td>\n",
       "      <td>Core</td>\n",
       "    </tr>\n",
       "    <tr>\n",
       "      <td>1</td>\n",
       "      <td>P1S4_190321_003_A01</td>\n",
       "      <td>H19.06.351.11.16.01.03</td>\n",
       "      <td>0.625</td>\n",
       "      <td>Pass</td>\n",
       "      <td>16.639829</td>\n",
       "      <td>hIVSCC-MET</td>\n",
       "      <td>1.182129</td>\n",
       "      <td>True</td>\n",
       "      <td>1.000000</td>\n",
       "      <td>Core</td>\n",
       "    </tr>\n",
       "    <tr>\n",
       "      <td>2</td>\n",
       "      <td>P2S4_171220_052_A01</td>\n",
       "      <td>H17.03.016.11.16.02</td>\n",
       "      <td>0.815</td>\n",
       "      <td>Pass</td>\n",
       "      <td>14.120809</td>\n",
       "      <td>hIVSCC-MET</td>\n",
       "      <td>1.047215</td>\n",
       "      <td>True</td>\n",
       "      <td>1.000000</td>\n",
       "      <td>Core</td>\n",
       "    </tr>\n",
       "    <tr>\n",
       "      <td>3</td>\n",
       "      <td>P2S4_190321_056_A01</td>\n",
       "      <td>H19.06.351.11.16.02.06</td>\n",
       "      <td>0.715</td>\n",
       "      <td>Pass</td>\n",
       "      <td>14.639516</td>\n",
       "      <td>hIVSCC-MET</td>\n",
       "      <td>0.945765</td>\n",
       "      <td>True</td>\n",
       "      <td>1.000000</td>\n",
       "      <td>Core</td>\n",
       "    </tr>\n",
       "    <tr>\n",
       "      <td>4</td>\n",
       "      <td>P8S4_171219_359_A01</td>\n",
       "      <td>H17.03.016.11.15.07</td>\n",
       "      <td>0.331</td>\n",
       "      <td>Pass</td>\n",
       "      <td>11.808599</td>\n",
       "      <td>hIVSCC-MET</td>\n",
       "      <td>0.777364</td>\n",
       "      <td>True</td>\n",
       "      <td>0.968926</td>\n",
       "      <td>Core</td>\n",
       "    </tr>\n",
       "    <tr>\n",
       "      <td>...</td>\n",
       "      <td>...</td>\n",
       "      <td>...</td>\n",
       "      <td>...</td>\n",
       "      <td>...</td>\n",
       "      <td>...</td>\n",
       "      <td>...</td>\n",
       "      <td>...</td>\n",
       "      <td>...</td>\n",
       "      <td>...</td>\n",
       "      <td>...</td>\n",
       "    </tr>\n",
       "    <tr>\n",
       "      <td>3587</td>\n",
       "      <td>PXS4_190923_752_A01</td>\n",
       "      <td>Q19.26.009.2A.01.02</td>\n",
       "      <td>0.544</td>\n",
       "      <td>Pass</td>\n",
       "      <td>16.629497</td>\n",
       "      <td>qIVSCC-METc</td>\n",
       "      <td>0.159670</td>\n",
       "      <td>False</td>\n",
       "      <td>0.223361</td>\n",
       "      <td>PoorQ</td>\n",
       "    </tr>\n",
       "    <tr>\n",
       "      <td>3588</td>\n",
       "      <td>PXS4_190925_751_A01</td>\n",
       "      <td>Q19.26.009.2A.04.002</td>\n",
       "      <td>0.533</td>\n",
       "      <td>Pass</td>\n",
       "      <td>28.375763</td>\n",
       "      <td>qIVSCC-METc</td>\n",
       "      <td>0.391307</td>\n",
       "      <td>False</td>\n",
       "      <td>0.435619</td>\n",
       "      <td>PoorQ</td>\n",
       "    </tr>\n",
       "    <tr>\n",
       "      <td>3589</td>\n",
       "      <td>PXS4_191203_301_A01</td>\n",
       "      <td>H19.03.323.11.07.01.01</td>\n",
       "      <td>0.365</td>\n",
       "      <td>Fail</td>\n",
       "      <td>11.525531</td>\n",
       "      <td>hIVSCC-MET</td>\n",
       "      <td>0.420722</td>\n",
       "      <td>True</td>\n",
       "      <td>0.184102</td>\n",
       "      <td>PoorQ</td>\n",
       "    </tr>\n",
       "    <tr>\n",
       "      <td>3590</td>\n",
       "      <td>PXS4_200114_751_A01</td>\n",
       "      <td>H20.03.301.11.07.01.01</td>\n",
       "      <td>0.250</td>\n",
       "      <td>Fail</td>\n",
       "      <td>6.620699</td>\n",
       "      <td>hIVSCC-MET</td>\n",
       "      <td>0.214909</td>\n",
       "      <td>False</td>\n",
       "      <td>0.646361</td>\n",
       "      <td>PoorQ</td>\n",
       "    </tr>\n",
       "    <tr>\n",
       "      <td>3591</td>\n",
       "      <td>PXS4_200114_752_A01</td>\n",
       "      <td>H20.03.301.11.07.01.02</td>\n",
       "      <td>0.243</td>\n",
       "      <td>Fail</td>\n",
       "      <td>9.571247</td>\n",
       "      <td>hIVSCC-MET</td>\n",
       "      <td>0.132979</td>\n",
       "      <td>False</td>\n",
       "      <td>0.646146</td>\n",
       "      <td>PoorQ</td>\n",
       "    </tr>\n",
       "  </tbody>\n",
       "</table>\n",
       "<p>3592 rows × 10 columns</p>\n",
       "</div>"
      ],
      "text/plain": [
       "                sample_id               cell_name  cDNA quality (%>400 bp)  \\\n",
       "0     P1S4_190321_002_A01  H19.06.351.11.16.01.01                    0.637   \n",
       "1     P1S4_190321_003_A01  H19.06.351.11.16.01.03                    0.625   \n",
       "2     P2S4_171220_052_A01     H17.03.016.11.16.02                    0.815   \n",
       "3     P2S4_190321_056_A01  H19.06.351.11.16.02.06                    0.715   \n",
       "4     P8S4_171219_359_A01     H17.03.016.11.15.07                    0.331   \n",
       "...                   ...                     ...                      ...   \n",
       "3587  PXS4_190923_752_A01     Q19.26.009.2A.01.02                    0.544   \n",
       "3588  PXS4_190925_751_A01    Q19.26.009.2A.04.002                    0.533   \n",
       "3589  PXS4_191203_301_A01  H19.03.323.11.07.01.01                    0.365   \n",
       "3590  PXS4_200114_751_A01  H20.03.301.11.07.01.01                    0.250   \n",
       "3591  PXS4_200114_752_A01  H20.03.301.11.07.01.02                    0.243   \n",
       "\n",
       "     RNA amp Pass/Fail  Amplified content (ng) cell_specimen_project  \\\n",
       "0                 Pass               17.401231            hIVSCC-MET   \n",
       "1                 Pass               16.639829            hIVSCC-MET   \n",
       "2                 Pass               14.120809            hIVSCC-MET   \n",
       "3                 Pass               14.639516            hIVSCC-MET   \n",
       "4                 Pass               11.808599            hIVSCC-MET   \n",
       "...                ...                     ...                   ...   \n",
       "3587              Pass               16.629497           qIVSCC-METc   \n",
       "3588              Pass               28.375763           qIVSCC-METc   \n",
       "3589              Fail               11.525531            hIVSCC-MET   \n",
       "3590              Fail                6.620699            hIVSCC-MET   \n",
       "3591              Fail                9.571247            hIVSCC-MET   \n",
       "\n",
       "      NMS score  NMS Pass/Fail  seurat_prediction_score_label Tree_call  \n",
       "0      1.303453           True                       1.000000      Core  \n",
       "1      1.182129           True                       1.000000      Core  \n",
       "2      1.047215           True                       1.000000      Core  \n",
       "3      0.945765           True                       1.000000      Core  \n",
       "4      0.777364           True                       0.968926      Core  \n",
       "...         ...            ...                            ...       ...  \n",
       "3587   0.159670          False                       0.223361     PoorQ  \n",
       "3588   0.391307          False                       0.435619     PoorQ  \n",
       "3589   0.420722           True                       0.184102     PoorQ  \n",
       "3590   0.214909          False                       0.646361     PoorQ  \n",
       "3591   0.132979          False                       0.646146     PoorQ  \n",
       "\n",
       "[3592 rows x 10 columns]"
      ]
     },
     "execution_count": 7,
     "metadata": {},
     "output_type": "execute_result"
    }
   ],
   "source": [
    "shiny_human"
   ]
  },
  {
   "cell_type": "code",
   "execution_count": 8,
   "metadata": {},
   "outputs": [],
   "source": [
    "shiny_human.dropna(subset=[\"cell_specimen_project\"],inplace=True) #3578 rows"
   ]
  },
  {
   "cell_type": "code",
   "execution_count": 9,
   "metadata": {},
   "outputs": [
    {
     "data": {
      "text/plain": [
       "array(['hIVSCC-MET', 'hIVSCC-METx', 'hIVSCC-METc', 'H301x', 'hMPATCH',\n",
       "       'H301', 'hMPATCHseq', 'hMPATCHseqc', 'APL401Ax', 'mIVSCC-METx',\n",
       "       'qIVSCC-METa', 'qIVSCC-METc'], dtype=object)"
      ]
     },
     "execution_count": 9,
     "metadata": {},
     "output_type": "execute_result"
    }
   ],
   "source": [
    "shiny_human.cell_specimen_project.unique()"
   ]
  },
  {
   "cell_type": "code",
   "execution_count": 10,
   "metadata": {},
   "outputs": [
    {
     "name": "stderr",
     "output_type": "stream",
     "text": [
      "INFO:functions.temp_funcs:Filtered dataframe based on cell_specimen_project == hIVSCC-MET\n"
     ]
    }
   ],
   "source": [
    "shinyh = filter_df(shiny_human, \"cell_specimen_project\", \"hIVSCC-MET\") #1566"
   ]
  },
  {
   "cell_type": "code",
   "execution_count": 11,
   "metadata": {},
   "outputs": [
    {
     "name": "stderr",
     "output_type": "stream",
     "text": [
      "C:\\Users\\kumar\\Documents\\Github\\analysis_projects\\analysis_scripts\\functions\\temp_funcs.py:150: SettingWithCopyWarning: \n",
      "A value is trying to be set on a copy of a slice from a DataFrame.\n",
      "Try using .loc[row_indexer,col_indexer] = value instead\n",
      "\n",
      "See the caveats in the documentation: http://pandas.pydata.org/pandas-docs/stable/user_guide/indexing.html#returning-a-view-versus-a-copy\n",
      "  df[\"collaborator_label\"] = df[container_col].str[0:2]\n"
     ]
    }
   ],
   "source": [
    "shinyh = create_container_df(shinyh, \"sample_id\")"
   ]
  },
  {
   "cell_type": "code",
   "execution_count": 12,
   "metadata": {},
   "outputs": [
    {
     "name": "stderr",
     "output_type": "stream",
     "text": [
      "C:\\Users\\kumar\\Anaconda3\\lib\\site-packages\\ipykernel_launcher.py:1: SettingWithCopyWarning: \n",
      "A value is trying to be set on a copy of a slice from a DataFrame\n",
      "\n",
      "See the caveats in the documentation: http://pandas.pydata.org/pandas-docs/stable/user_guide/indexing.html#returning-a-view-versus-a-copy\n",
      "  \"\"\"Entry point for launching an IPython kernel.\n"
     ]
    }
   ],
   "source": [
    "shinyh.dropna(subset=[\"cDNA quality (%>400 bp)\", \"NMS score\", \"Amplified content (ng)\"], inplace=True) #1551"
   ]
  },
  {
   "cell_type": "code",
   "execution_count": 13,
   "metadata": {},
   "outputs": [],
   "source": [
    "#shinyh = shinyh[shinyh[\"cDNA quality (%>400 bp)\"] <=1] #1504\n",
    "#shinyh = shinyh[shinyh[\"Amplified content (ng)\"] <=50] #1469"
   ]
  },
  {
   "cell_type": "code",
   "execution_count": 14,
   "metadata": {},
   "outputs": [
    {
     "name": "stderr",
     "output_type": "stream",
     "text": [
      "C:\\Users\\kumar\\Anaconda3\\lib\\site-packages\\ipykernel_launcher.py:5: SettingWithCopyWarning: \n",
      "A value is trying to be set on a copy of a slice from a DataFrame.\n",
      "Try using .loc[row_indexer,col_indexer] = value instead\n",
      "\n",
      "See the caveats in the documentation: http://pandas.pydata.org/pandas-docs/stable/user_guide/indexing.html#returning-a-view-versus-a-copy\n",
      "  \"\"\"\n"
     ]
    }
   ],
   "source": [
    "collaborator_dict = {\"PG\" : \"Gabor\", \"PH\" : \"Mansvelder\"}\n",
    "for collab in [\"P1\", \"P2\", \"P6\", \"P7\", \"P8\", \"P9\", \"PA\", \"PB\", \"PE\", \"PF\", \"PX\", \"P3\", \"P0\", \"P5\"]:\n",
    "    collaborator_dict[collab] = \"AIBS\"\n",
    "\n",
    "shinyh[\"collaborator_label\"] = shinyh[\"collaborator_label\"].replace(collaborator_dict)"
   ]
  },
  {
   "cell_type": "code",
   "execution_count": 15,
   "metadata": {},
   "outputs": [
    {
     "data": {
      "text/plain": [
       "array(['AIBS', 'Gabor', 'Mansvelder'], dtype=object)"
      ]
     },
     "execution_count": 15,
     "metadata": {},
     "output_type": "execute_result"
    }
   ],
   "source": [
    "shinyh[\"collaborator_label\"].unique()"
   ]
  },
  {
   "cell_type": "code",
   "execution_count": 16,
   "metadata": {},
   "outputs": [
    {
     "name": "stderr",
     "output_type": "stream",
     "text": [
      "INFO:functions.temp_funcs:Filtered dataframe based on collaborator_label == AIBS\n"
     ]
    }
   ],
   "source": [
    "shinyh = filter_df(shinyh, \"collaborator_label\", \"AIBS\") #1489"
   ]
  },
  {
   "cell_type": "code",
   "execution_count": 17,
   "metadata": {},
   "outputs": [
    {
     "data": {
      "text/html": [
       "<div>\n",
       "<style scoped>\n",
       "    .dataframe tbody tr th:only-of-type {\n",
       "        vertical-align: middle;\n",
       "    }\n",
       "\n",
       "    .dataframe tbody tr th {\n",
       "        vertical-align: top;\n",
       "    }\n",
       "\n",
       "    .dataframe thead th {\n",
       "        text-align: right;\n",
       "    }\n",
       "</style>\n",
       "<table border=\"1\" class=\"dataframe\">\n",
       "  <thead>\n",
       "    <tr style=\"text-align: right;\">\n",
       "      <th></th>\n",
       "      <th>sample_id</th>\n",
       "      <th>cell_name</th>\n",
       "      <th>cDNA quality (%&gt;400 bp)</th>\n",
       "      <th>RNA amp Pass/Fail</th>\n",
       "      <th>Amplified content (ng)</th>\n",
       "      <th>cell_specimen_project</th>\n",
       "      <th>NMS score</th>\n",
       "      <th>NMS Pass/Fail</th>\n",
       "      <th>seurat_prediction_score_label</th>\n",
       "      <th>Tree_call</th>\n",
       "      <th>collaborator_label</th>\n",
       "    </tr>\n",
       "  </thead>\n",
       "  <tbody>\n",
       "    <tr>\n",
       "      <td>0</td>\n",
       "      <td>P1S4_190321_002_A01</td>\n",
       "      <td>H19.06.351.11.16.01.01</td>\n",
       "      <td>0.637</td>\n",
       "      <td>Pass</td>\n",
       "      <td>17.401231</td>\n",
       "      <td>hIVSCC-MET</td>\n",
       "      <td>1.303453</td>\n",
       "      <td>True</td>\n",
       "      <td>1.000000</td>\n",
       "      <td>Core</td>\n",
       "      <td>AIBS</td>\n",
       "    </tr>\n",
       "    <tr>\n",
       "      <td>1</td>\n",
       "      <td>P1S4_190321_003_A01</td>\n",
       "      <td>H19.06.351.11.16.01.03</td>\n",
       "      <td>0.625</td>\n",
       "      <td>Pass</td>\n",
       "      <td>16.639829</td>\n",
       "      <td>hIVSCC-MET</td>\n",
       "      <td>1.182129</td>\n",
       "      <td>True</td>\n",
       "      <td>1.000000</td>\n",
       "      <td>Core</td>\n",
       "      <td>AIBS</td>\n",
       "    </tr>\n",
       "    <tr>\n",
       "      <td>2</td>\n",
       "      <td>P2S4_171220_052_A01</td>\n",
       "      <td>H17.03.016.11.16.02</td>\n",
       "      <td>0.815</td>\n",
       "      <td>Pass</td>\n",
       "      <td>14.120809</td>\n",
       "      <td>hIVSCC-MET</td>\n",
       "      <td>1.047215</td>\n",
       "      <td>True</td>\n",
       "      <td>1.000000</td>\n",
       "      <td>Core</td>\n",
       "      <td>AIBS</td>\n",
       "    </tr>\n",
       "    <tr>\n",
       "      <td>3</td>\n",
       "      <td>P2S4_190321_056_A01</td>\n",
       "      <td>H19.06.351.11.16.02.06</td>\n",
       "      <td>0.715</td>\n",
       "      <td>Pass</td>\n",
       "      <td>14.639516</td>\n",
       "      <td>hIVSCC-MET</td>\n",
       "      <td>0.945765</td>\n",
       "      <td>True</td>\n",
       "      <td>1.000000</td>\n",
       "      <td>Core</td>\n",
       "      <td>AIBS</td>\n",
       "    </tr>\n",
       "    <tr>\n",
       "      <td>4</td>\n",
       "      <td>P8S4_171219_359_A01</td>\n",
       "      <td>H17.03.016.11.15.07</td>\n",
       "      <td>0.331</td>\n",
       "      <td>Pass</td>\n",
       "      <td>11.808599</td>\n",
       "      <td>hIVSCC-MET</td>\n",
       "      <td>0.777364</td>\n",
       "      <td>True</td>\n",
       "      <td>0.968926</td>\n",
       "      <td>Core</td>\n",
       "      <td>AIBS</td>\n",
       "    </tr>\n",
       "    <tr>\n",
       "      <td>...</td>\n",
       "      <td>...</td>\n",
       "      <td>...</td>\n",
       "      <td>...</td>\n",
       "      <td>...</td>\n",
       "      <td>...</td>\n",
       "      <td>...</td>\n",
       "      <td>...</td>\n",
       "      <td>...</td>\n",
       "      <td>...</td>\n",
       "      <td>...</td>\n",
       "      <td>...</td>\n",
       "    </tr>\n",
       "    <tr>\n",
       "      <td>3477</td>\n",
       "      <td>PXS4_190321_301_A01</td>\n",
       "      <td>H19.06.351.11.03.01.01</td>\n",
       "      <td>0.364</td>\n",
       "      <td>Fail</td>\n",
       "      <td>13.513738</td>\n",
       "      <td>hIVSCC-MET</td>\n",
       "      <td>0.782508</td>\n",
       "      <td>True</td>\n",
       "      <td>0.324784</td>\n",
       "      <td>PoorQ</td>\n",
       "      <td>AIBS</td>\n",
       "    </tr>\n",
       "    <tr>\n",
       "      <td>3478</td>\n",
       "      <td>PXS4_190321_302_A01</td>\n",
       "      <td>H19.06.351.11.03.01.02</td>\n",
       "      <td>0.584</td>\n",
       "      <td>Fail</td>\n",
       "      <td>58.963215</td>\n",
       "      <td>hIVSCC-MET</td>\n",
       "      <td>1.016180</td>\n",
       "      <td>True</td>\n",
       "      <td>0.377658</td>\n",
       "      <td>PoorQ</td>\n",
       "      <td>AIBS</td>\n",
       "    </tr>\n",
       "    <tr>\n",
       "      <td>3589</td>\n",
       "      <td>PXS4_191203_301_A01</td>\n",
       "      <td>H19.03.323.11.07.01.01</td>\n",
       "      <td>0.365</td>\n",
       "      <td>Fail</td>\n",
       "      <td>11.525531</td>\n",
       "      <td>hIVSCC-MET</td>\n",
       "      <td>0.420722</td>\n",
       "      <td>True</td>\n",
       "      <td>0.184102</td>\n",
       "      <td>PoorQ</td>\n",
       "      <td>AIBS</td>\n",
       "    </tr>\n",
       "    <tr>\n",
       "      <td>3590</td>\n",
       "      <td>PXS4_200114_751_A01</td>\n",
       "      <td>H20.03.301.11.07.01.01</td>\n",
       "      <td>0.250</td>\n",
       "      <td>Fail</td>\n",
       "      <td>6.620699</td>\n",
       "      <td>hIVSCC-MET</td>\n",
       "      <td>0.214909</td>\n",
       "      <td>False</td>\n",
       "      <td>0.646361</td>\n",
       "      <td>PoorQ</td>\n",
       "      <td>AIBS</td>\n",
       "    </tr>\n",
       "    <tr>\n",
       "      <td>3591</td>\n",
       "      <td>PXS4_200114_752_A01</td>\n",
       "      <td>H20.03.301.11.07.01.02</td>\n",
       "      <td>0.243</td>\n",
       "      <td>Fail</td>\n",
       "      <td>9.571247</td>\n",
       "      <td>hIVSCC-MET</td>\n",
       "      <td>0.132979</td>\n",
       "      <td>False</td>\n",
       "      <td>0.646146</td>\n",
       "      <td>PoorQ</td>\n",
       "      <td>AIBS</td>\n",
       "    </tr>\n",
       "  </tbody>\n",
       "</table>\n",
       "<p>1489 rows × 11 columns</p>\n",
       "</div>"
      ],
      "text/plain": [
       "                sample_id               cell_name  cDNA quality (%>400 bp)  \\\n",
       "0     P1S4_190321_002_A01  H19.06.351.11.16.01.01                    0.637   \n",
       "1     P1S4_190321_003_A01  H19.06.351.11.16.01.03                    0.625   \n",
       "2     P2S4_171220_052_A01     H17.03.016.11.16.02                    0.815   \n",
       "3     P2S4_190321_056_A01  H19.06.351.11.16.02.06                    0.715   \n",
       "4     P8S4_171219_359_A01     H17.03.016.11.15.07                    0.331   \n",
       "...                   ...                     ...                      ...   \n",
       "3477  PXS4_190321_301_A01  H19.06.351.11.03.01.01                    0.364   \n",
       "3478  PXS4_190321_302_A01  H19.06.351.11.03.01.02                    0.584   \n",
       "3589  PXS4_191203_301_A01  H19.03.323.11.07.01.01                    0.365   \n",
       "3590  PXS4_200114_751_A01  H20.03.301.11.07.01.01                    0.250   \n",
       "3591  PXS4_200114_752_A01  H20.03.301.11.07.01.02                    0.243   \n",
       "\n",
       "     RNA amp Pass/Fail  Amplified content (ng) cell_specimen_project  \\\n",
       "0                 Pass               17.401231            hIVSCC-MET   \n",
       "1                 Pass               16.639829            hIVSCC-MET   \n",
       "2                 Pass               14.120809            hIVSCC-MET   \n",
       "3                 Pass               14.639516            hIVSCC-MET   \n",
       "4                 Pass               11.808599            hIVSCC-MET   \n",
       "...                ...                     ...                   ...   \n",
       "3477              Fail               13.513738            hIVSCC-MET   \n",
       "3478              Fail               58.963215            hIVSCC-MET   \n",
       "3589              Fail               11.525531            hIVSCC-MET   \n",
       "3590              Fail                6.620699            hIVSCC-MET   \n",
       "3591              Fail                9.571247            hIVSCC-MET   \n",
       "\n",
       "      NMS score  NMS Pass/Fail  seurat_prediction_score_label Tree_call  \\\n",
       "0      1.303453           True                       1.000000      Core   \n",
       "1      1.182129           True                       1.000000      Core   \n",
       "2      1.047215           True                       1.000000      Core   \n",
       "3      0.945765           True                       1.000000      Core   \n",
       "4      0.777364           True                       0.968926      Core   \n",
       "...         ...            ...                            ...       ...   \n",
       "3477   0.782508           True                       0.324784     PoorQ   \n",
       "3478   1.016180           True                       0.377658     PoorQ   \n",
       "3589   0.420722           True                       0.184102     PoorQ   \n",
       "3590   0.214909          False                       0.646361     PoorQ   \n",
       "3591   0.132979          False                       0.646146     PoorQ   \n",
       "\n",
       "     collaborator_label  \n",
       "0                  AIBS  \n",
       "1                  AIBS  \n",
       "2                  AIBS  \n",
       "3                  AIBS  \n",
       "4                  AIBS  \n",
       "...                 ...  \n",
       "3477               AIBS  \n",
       "3478               AIBS  \n",
       "3589               AIBS  \n",
       "3590               AIBS  \n",
       "3591               AIBS  \n",
       "\n",
       "[1489 rows x 11 columns]"
      ]
     },
     "execution_count": 17,
     "metadata": {},
     "output_type": "execute_result"
    }
   ],
   "source": [
    "shinyh"
   ]
  },
  {
   "cell_type": "code",
   "execution_count": 18,
   "metadata": {},
   "outputs": [
    {
     "data": {
      "text/plain": [
       "<matplotlib.axes._subplots.AxesSubplot at 0x2590cf130c8>"
      ]
     },
     "execution_count": 18,
     "metadata": {},
     "output_type": "execute_result"
    },
    {
     "data": {
      "image/png": "[encoded data removed]",
      "text/plain": [
       "<Figure size 432x288 with 1 Axes>"
      ]
     },
     "metadata": {
      "needs_background": "light"
     },
     "output_type": "display_data"
    }
   ],
   "source": [
    "sns.scatterplot(y=\"NMS score\", x=\"seurat_prediction_score_label\", data=shinyh)"
   ]
  },
  {
   "cell_type": "code",
   "execution_count": null,
   "metadata": {},
   "outputs": [],
   "source": []
  },
  {
   "cell_type": "code",
   "execution_count": null,
   "metadata": {},
   "outputs": [],
   "source": []
  },
  {
   "cell_type": "code",
   "execution_count": null,
   "metadata": {},
   "outputs": [],
   "source": []
  },
  {
   "cell_type": "code",
   "execution_count": null,
   "metadata": {},
   "outputs": [],
   "source": []
  },
  {
   "cell_type": "markdown",
   "metadata": {},
   "source": [
    "##### Filter project code"
   ]
  },
  {
   "cell_type": "code",
   "execution_count": 19,
   "metadata": {},
   "outputs": [
    {
     "name": "stderr",
     "output_type": "stream",
     "text": [
      "INFO:functions.temp_funcs:Filtered dataframe based on NMS Pass/Fail == True\n",
      "INFO:functions.temp_funcs:Filtered dataframe based on RNA amp Pass/Fail == Fail\n"
     ]
    }
   ],
   "source": [
    "shinyh = filter_df(shinyh, \"NMS Pass/Fail\", True)\n",
    "shinyh = filter_df(shinyh, \"RNA amp Pass/Fail\", \"Fail\")"
   ]
  },
  {
   "cell_type": "markdown",
   "metadata": {},
   "source": [
    "##### Counts"
   ]
  },
  {
   "cell_type": "code",
   "execution_count": 20,
   "metadata": {},
   "outputs": [
    {
     "name": "stderr",
     "output_type": "stream",
     "text": [
      "INFO:functions.temp_funcs:Filtered dataframe based on collaborator_label == AIBS\n",
      "INFO:functions.temp_funcs:Filtered dataframe based on collaborator_label == Gabor\n",
      "INFO:functions.temp_funcs:Filtered dataframe based on collaborator_label == Mansvelder\n"
     ]
    },
    {
     "name": "stdout",
     "output_type": "stream",
     "text": [
      "Human total count: 69\n",
      "AIBS count: 69\n",
      "Gabor count: 0\n",
      "Mansvelder count: 0\n"
     ]
    }
   ],
   "source": [
    "aibs = filter_df(shinyh, \"collaborator_label\", \"AIBS\")\n",
    "pg = filter_df(shinyh, \"collaborator_label\", \"Gabor\")\n",
    "ph = filter_df(shinyh, \"collaborator_label\", \"Mansvelder\")\n",
    "print(f\"Human total count: {shinyh.sample_id.count()}\")\n",
    "print(f\"AIBS count: {aibs.sample_id.count()}\")\n",
    "print(f\"Gabor count: {pg.sample_id.count()}\")\n",
    "print(f\"Mansvelder count: {ph.sample_id.count()}\")"
   ]
  },
  {
   "cell_type": "code",
   "execution_count": null,
   "metadata": {},
   "outputs": [],
   "source": []
  },
  {
   "cell_type": "code",
   "execution_count": null,
   "metadata": {},
   "outputs": [],
   "source": []
  }
 ],
 "metadata": {
  "kernelspec": {
   "display_name": "Python 3",
   "language": "python",
   "name": "python3"
  },
  "language_info": {
   "codemirror_mode": {
    "name": "ipython",
    "version": 3
   },
   "file_extension": ".py",
   "mimetype": "text/x-python",
   "name": "python",
   "nbconvert_exporter": "python",
   "pygments_lexer": "ipython3",
   "version": "3.7.4"
  }
 },
 "nbformat": 4,
 "nbformat_minor": 2
}
