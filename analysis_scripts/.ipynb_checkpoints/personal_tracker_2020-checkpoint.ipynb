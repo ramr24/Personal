{
 "cells": [
  {
   "cell_type": "markdown",
   "metadata": {},
   "source": [
    "##### Imports"
   ]
  },
  {
   "cell_type": "code",
   "execution_count": 1,
   "metadata": {},
   "outputs": [],
   "source": [
    "import pandas as pd\n",
    "import csv\n",
    "import logging\n",
    "from mephys_funcs import read_file, merge_dataframes, filter_date, drop_cols, drop_nans, \\\n",
    "create_cond_df, create_container_df\n",
    "\n",
    "import seaborn as sns"
   ]
  },
  {
   "cell_type": "markdown",
   "metadata": {},
   "source": [
    "##### File Paths"
   ]
  },
  {
   "cell_type": "code",
   "execution_count": 2,
   "metadata": {},
   "outputs": [],
   "source": [
    "csv_path = \"C:/Users/ramr/Documents/Github/analysis_projects/csv/\"\n",
    "excel_path = \"C:/Users/ramr/Documents/Github/analysis_projects/excel/\""
   ]
  },
  {
   "cell_type": "markdown",
   "metadata": {},
   "source": [
    "##### Logging Set-up"
   ]
  },
  {
   "cell_type": "code",
   "execution_count": 3,
   "metadata": {},
   "outputs": [],
   "source": [
    "logging.basicConfig(level=logging.INFO)\n",
    "LOGGER = logging.getLogger(__name__)"
   ]
  },
  {
   "cell_type": "markdown",
   "metadata": {},
   "source": [
    "##### Miscellaneous Settings"
   ]
  },
  {
   "cell_type": "code",
   "execution_count": 4,
   "metadata": {},
   "outputs": [],
   "source": [
    "sns.set(context = \"notebook\", style = \"ticks\", font=\"verdana\", font_scale = 1.35)\n",
    "pd.set_option(\"display.max_colwidth\",150) #Expands the number of characters shown in the columns\n",
    "pd.set_option('display.max_columns', None)"
   ]
  },
  {
   "cell_type": "markdown",
   "metadata": {},
   "source": [
    "##### Logging Comments about this project"
   ]
  },
  {
   "cell_type": "code",
   "execution_count": 5,
   "metadata": {},
   "outputs": [
    {
     "name": "stderr",
     "output_type": "stream",
     "text": [
      "INFO:__main__:Purpose: Personal Tracker for 2020\n"
     ]
    }
   ],
   "source": [
    "LOGGER.info(\"\"\"Purpose: Personal Tracker for 2020\"\"\")"
   ]
  },
  {
   "cell_type": "code",
   "execution_count": 6,
   "metadata": {},
   "outputs": [],
   "source": [
    "fields_jem = [\"date\", \"organism_name\", \"name\", \"container\", \"rigOperator\",\n",
    "              \"status\", \"roi_major\", \"roi_minor\",\n",
    "              \"extraction.postPatch\", \"extraction.endPipetteR\"]\n",
    "fields_ephys = [\"b'name'\", \"b'patched_cell_container'\", \"b'vrest'\", \"b'sag'\", \n",
    "                \"b'tau'\", \"b'upstroke_downstroke_ratio_long_square'\", \n",
    "                \"b'latency'\", \"b'f_i_curve_slope'\"]\n",
    "fields_shiny = [\"cell_name\", \"sample_id\", \"cluster_label\", \"broad_class_label\",\n",
    "                \"subclass_label\", \"cell_specimen_project\"]\n",
    "\n",
    "\n",
    "path_jem = \"Z:/Patch-Seq/compiled-jem-data/jem_metadata.csv\"\n",
    "path_ephys = \"C:/Users/ramr/Documents/Github/analysis_projects/csv/mephys_features.csv\"\n",
    "path_shiny = \"//allen/programs/celltypes/workgroups/rnaseqanalysis/shiny/patch_seq/star/mouse_patchseq_VISp_current/mapping.df.with.bp.40.lastmap.csv\"\n",
    "\n",
    "\n",
    "drop_cols_list = [\"b'name'\", \"b'patched_cell_container'\", \"cell_name\", \"sample_id\"]\n",
    "drop_nans_list = [\"date\", \"name\", \"rigOperator\"]\n",
    "\n",
    "r_users = [\"kristenh\", \"lindsayn\", \"ramr\", \"katherineb\", \"jessicat\"]"
   ]
  },
  {
   "cell_type": "markdown",
   "metadata": {},
   "source": [
    "##### Main"
   ]
  },
  {
   "cell_type": "code",
   "execution_count": null,
   "metadata": {},
   "outputs": [],
   "source": [
    "def csv_first_line():\n",
    "    \"\"\"\"\"\"\n",
    "    with open(\"counts.csv\", mode=\"w\", newline=\"\") as csv_file: #Automatically closes file\n",
    "        writer = csv.writer(csv_file)\n",
    "        writer.writerow([\"User\", \"Start Date\", \"End Date\", \"Overall Total\",\n",
    "                         \"Mouse Total\", \"RSPd\", \"RSPv\", \"SSp\",\n",
    "                         \"ORB\", \"CTXsp\", \"MOp\", \"MOs\", \"HY\", \"HIP\", \"VISP\",\n",
    "                         \"Human Total\", \"Human Acute\", \"Human Culture\"])"
   ]
  },
  {
   "cell_type": "code",
   "execution_count": null,
   "metadata": {},
   "outputs": [],
   "source": [
    "def csv_counts():\n",
    "    with open(\"counts.csv\", mode=\"w\", newline=\"\") as csv_file: #Automatically closes file\n",
    "        writer = csv.writer(csv_file)\n",
    "        writer.writerow([\"User\", \"Start Date\", \"End Date\", \"Overall Total\",\n",
    "                         \"Mouse Total\", \"RSPd\", \"RSPv\", \"SSp\",\n",
    "                         \"ORB\", \"CTXsp\", \"MOp\", \"MOs\", \"HY\", \"HIP\", \"VISP\",\n",
    "                         \"Human Total\", \"Human Acute\", \"Human Culture\"])\n",
    "        \n",
    "        with open(\"counts.csv\", mode=\"w\", newline=\"\") as csv_file: #Automatically closes file\n",
    "            writer = csv.writer(csv_file)\n",
    "            user = \"User name\"\n",
    "            start = start_date\n",
    "            end = end_date\n",
    "            overall = jem_2020.container.count()\n",
    "            m_total = mjem_2020.organism_name.count()\n",
    "            rd = rspd.organism_name.count()\n",
    "            rv = rspv.organism_name.count()\n",
    "            sp = ssp.organism_name.count()\n",
    "            ob = orb.organism_name.count()\n",
    "            cp = ctxsp.organism_name.count()\n",
    "            mp = mop.organism_name.count()\n",
    "            ms = mos.organism_name.count()\n",
    "            h = hy.organism_name.count()\n",
    "            hp = hip.organism_name.count()\n",
    "            v = visp.organism_name.count()\n",
    "            h_total = hjem_2020.organism_name.count()\n",
    "            h_acute = hajem_2020.organism_name.count()\n",
    "            h_culture = hcjem_2020.organism_name.count()\n",
    "\n",
    "            writer.writerow([user, start, end, overall,\n",
    "                             m_total, rd, rv, sp,\n",
    "                             ob, cp, mp, ms,\n",
    "                             h, hp, v,\n",
    "                             h_total, h_culture, h_acute])"
   ]
  },
  {
   "cell_type": "code",
   "execution_count": 37,
   "metadata": {},
   "outputs": [],
   "source": [
    "def print_counts():\n",
    "    \"\"\"Prints counts of dataframes\"\"\"\n",
    "    print(f\"Date Range: {start_date} to {end_date}\")\n",
    "    print(f\"Overall Total count: {jem.container.count()}\")\n",
    "    print()\n",
    "    print(f\"Mouse Total count: {mjem.organism_name.count()}\")\n",
    "    print(f\"-RSPd count: {rspd.organism_name.count()}\")\n",
    "    print(f\"-RSPv count: {rspv.organism_name.count()}\")\n",
    "    print(f\"-SSp count: {ssp.organism_name.count()}\")\n",
    "    print(f\"-ORB count: {orb.organism_name.count()}\")\n",
    "    print(f\"-CTXsp count: {ctxsp.organism_name.count()}\")\n",
    "    print(f\"-MOp count: {mop.organism_name.count()}\")\n",
    "    print(f\"-MOs count: {mos.organism_name.count()}\")\n",
    "    print(f\"-HY count: {hy.organism_name.count()}\")\n",
    "    print(f\"-HIP count: {hip.organism_name.count()}\")\n",
    "    print(f\"-VISP count: {visp.organism_name.count()}\")\n",
    "    print()\n",
    "    print(f\"Human Total count: {hjem.organism_name.count()}\")\n",
    "    print(f\"-Human Acute count: {hajem.organism_name.count()}\")\n",
    "    print(f\"-Human Culture count: {hcjem.organism_name.count()}\")"
   ]
  },
  {
   "cell_type": "code",
   "execution_count": 45,
   "metadata": {},
   "outputs": [
    {
     "name": "stderr",
     "output_type": "stream",
     "text": [
      "INFO:mephys_funcs:Read file in as a pandas dataframe\n",
      "INFO:mephys_funcs:Sorted date to only display 2020 data\n",
      "INFO:mephys_funcs:Dropped NaNs from these columns: ['date', 'name', 'rigOperator']\n",
      "C:\\Users\\ramr\\Documents\\Github\\analysis_projects\\analysis_scripts\\mephys_funcs.py:86: SettingWithCopyWarning: \n",
      "A value is trying to be set on a copy of a slice from a DataFrame\n",
      "\n",
      "See the caveats in the documentation: http://pandas.pydata.org/pandas-docs/stable/user_guide/indexing.html#returning-a-view-versus-a-copy\n",
      "  df.dropna(subset=drop_na_col, inplace=True)\n",
      "INFO:mephys_funcs:Created a conditional dataframe based on a list of values\n",
      "INFO:mephys_funcs:Created a container_label column to show(ex.'PA')\n"
     ]
    }
   ],
   "source": [
    "jem = read_file(path_jem, fields_jem)\n",
    "jem = filter_date(jem, \"date\")\n",
    "jem = drop_nans(jem, drop_nans_list)\n",
    "jem = create_cond_df(jem, \"rigOperator\", r_users)\n",
    "jem = create_container_df(jem, \"container\")"
   ]
  },
  {
   "cell_type": "code",
   "execution_count": 44,
   "metadata": {
    "scrolled": false
   },
   "outputs": [
    {
     "data": {
      "text/html": [
       "<div>\n",
       "<style scoped>\n",
       "    .dataframe tbody tr th:only-of-type {\n",
       "        vertical-align: middle;\n",
       "    }\n",
       "\n",
       "    .dataframe tbody tr th {\n",
       "        vertical-align: top;\n",
       "    }\n",
       "\n",
       "    .dataframe thead th {\n",
       "        text-align: right;\n",
       "    }\n",
       "</style>\n",
       "<table border=\"1\" class=\"dataframe\">\n",
       "  <thead>\n",
       "    <tr style=\"text-align: right;\">\n",
       "      <th></th>\n",
       "      <th>date</th>\n",
       "      <th>organism_name</th>\n",
       "      <th>name</th>\n",
       "      <th>extraction.endPipetteR</th>\n",
       "      <th>extraction.postPatch</th>\n",
       "      <th>rigOperator</th>\n",
       "      <th>status</th>\n",
       "      <th>roi_major</th>\n",
       "      <th>roi_minor</th>\n",
       "      <th>container</th>\n",
       "      <th>container_label</th>\n",
       "    </tr>\n",
       "  </thead>\n",
       "  <tbody>\n",
       "    <tr>\n",
       "      <td>0</td>\n",
       "      <td>2020-01-03 10:40:30 -0800</td>\n",
       "      <td>Mouse</td>\n",
       "      <td>Gad2-IRES-Cre;Ai14-504539.10.01.01</td>\n",
       "      <td>1000.0</td>\n",
       "      <td>nucleus_present</td>\n",
       "      <td>jessicat</td>\n",
       "      <td>SUCCESS</td>\n",
       "      <td>RSPd</td>\n",
       "      <td>layer 2/3</td>\n",
       "      <td>PFS4_200103_701_A01</td>\n",
       "      <td>PF</td>\n",
       "    </tr>\n",
       "    <tr>\n",
       "      <td>1</td>\n",
       "      <td>2020-01-03 13:00:07 -0800</td>\n",
       "      <td>Mouse</td>\n",
       "      <td>Pvalb-IRES-Cre;Ai14-504851.11.01.02</td>\n",
       "      <td>2000.0</td>\n",
       "      <td>nucleus_present</td>\n",
       "      <td>jessicat</td>\n",
       "      <td>SUCCESS</td>\n",
       "      <td>RSPv</td>\n",
       "      <td>layer 2/3</td>\n",
       "      <td>PFS4_200103_703_A01</td>\n",
       "      <td>PF</td>\n",
       "    </tr>\n",
       "    <tr>\n",
       "      <td>2</td>\n",
       "      <td>2020-01-03 13:00:07 -0800</td>\n",
       "      <td>Mouse</td>\n",
       "      <td>Pvalb-IRES-Cre;Ai14-504851.11.01.01</td>\n",
       "      <td>1000.0</td>\n",
       "      <td>nucleus_present</td>\n",
       "      <td>jessicat</td>\n",
       "      <td>SUCCESS</td>\n",
       "      <td>RSPd</td>\n",
       "      <td>layer 5</td>\n",
       "      <td>PFS4_200103_702_A01</td>\n",
       "      <td>PF</td>\n",
       "    </tr>\n",
       "    <tr>\n",
       "      <td>3</td>\n",
       "      <td>2020-01-06 13:12:44 -0800</td>\n",
       "      <td>Mouse</td>\n",
       "      <td>Vip-IRES-Cre;Ai14-504179.11.01.02</td>\n",
       "      <td>3000.0</td>\n",
       "      <td>nucleus_present</td>\n",
       "      <td>jessicat</td>\n",
       "      <td>SUCCESS</td>\n",
       "      <td>SSp</td>\n",
       "      <td>layer 5</td>\n",
       "      <td>PFS4_200106_702_A01</td>\n",
       "      <td>PF</td>\n",
       "    </tr>\n",
       "    <tr>\n",
       "      <td>4</td>\n",
       "      <td>2020-01-06 13:12:44 -0800</td>\n",
       "      <td>Mouse</td>\n",
       "      <td>Vip-IRES-Cre;Ai14-504179.11.01.01</td>\n",
       "      <td>7.0</td>\n",
       "      <td>nucleus_present</td>\n",
       "      <td>jessicat</td>\n",
       "      <td>SUCCESS</td>\n",
       "      <td>RSPd</td>\n",
       "      <td>layer 5</td>\n",
       "      <td>PFS4_200106_701_A01</td>\n",
       "      <td>PF</td>\n",
       "    </tr>\n",
       "    <tr>\n",
       "      <td>...</td>\n",
       "      <td>...</td>\n",
       "      <td>...</td>\n",
       "      <td>...</td>\n",
       "      <td>...</td>\n",
       "      <td>...</td>\n",
       "      <td>...</td>\n",
       "      <td>...</td>\n",
       "      <td>...</td>\n",
       "      <td>...</td>\n",
       "      <td>...</td>\n",
       "      <td>...</td>\n",
       "    </tr>\n",
       "    <tr>\n",
       "      <td>486</td>\n",
       "      <td>2020-02-11 13:46:18 -0800</td>\n",
       "      <td>Mouse</td>\n",
       "      <td>Slc32a1-IRES-Cre;Sncg-IRES2-FlpO;Ai65-509370.03.01.02</td>\n",
       "      <td>4500.0</td>\n",
       "      <td>nucleus_present</td>\n",
       "      <td>kristenh</td>\n",
       "      <td>SUCCESS</td>\n",
       "      <td>HIP</td>\n",
       "      <td>CA1</td>\n",
       "      <td>P1S4_200211_004_A01</td>\n",
       "      <td>P1</td>\n",
       "    </tr>\n",
       "    <tr>\n",
       "      <td>487</td>\n",
       "      <td>2020-02-11 13:50:40 -0800</td>\n",
       "      <td>Mouse</td>\n",
       "      <td>Slc32a1-IRES-Cre;Sncg-IRES2-FlpO;Ai65-509370.03.02.02</td>\n",
       "      <td>800.0</td>\n",
       "      <td>nucleus_present</td>\n",
       "      <td>lindsayn</td>\n",
       "      <td>SUCCESS</td>\n",
       "      <td>HIP</td>\n",
       "      <td>CA1</td>\n",
       "      <td>P8S4_200211_354_A01</td>\n",
       "      <td>P8</td>\n",
       "    </tr>\n",
       "    <tr>\n",
       "      <td>488</td>\n",
       "      <td>2020-02-11 13:50:40 -0800</td>\n",
       "      <td>Mouse</td>\n",
       "      <td>Slc32a1-IRES-Cre;Sncg-IRES2-FlpO;Ai65-509370.03.02.01</td>\n",
       "      <td>2000.0</td>\n",
       "      <td>nucleus_present</td>\n",
       "      <td>lindsayn</td>\n",
       "      <td>SUCCESS</td>\n",
       "      <td>HIP</td>\n",
       "      <td>CA1</td>\n",
       "      <td>P8S4_200211_353_A01</td>\n",
       "      <td>P8</td>\n",
       "    </tr>\n",
       "    <tr>\n",
       "      <td>489</td>\n",
       "      <td>2020-02-11 14:58:24 -0800</td>\n",
       "      <td>Mouse</td>\n",
       "      <td>Oxtr-T2A-Cre;Ai14-510022.10.01.01</td>\n",
       "      <td>70.0</td>\n",
       "      <td>nucleus_present</td>\n",
       "      <td>lindsayn</td>\n",
       "      <td>SUCCESS</td>\n",
       "      <td>RSPv</td>\n",
       "      <td>layer 5</td>\n",
       "      <td>P8S4_200211_355_A01</td>\n",
       "      <td>P8</td>\n",
       "    </tr>\n",
       "    <tr>\n",
       "      <td>490</td>\n",
       "      <td>2020-02-11 14:58:24 -0800</td>\n",
       "      <td>Mouse</td>\n",
       "      <td>Oxtr-T2A-Cre;Ai14-510022.10.01.02</td>\n",
       "      <td>2000.0</td>\n",
       "      <td>nucleus_present</td>\n",
       "      <td>lindsayn</td>\n",
       "      <td>SUCCESS</td>\n",
       "      <td>RSPv</td>\n",
       "      <td>layer 2/3</td>\n",
       "      <td>P8S4_200211_356_A01</td>\n",
       "      <td>P8</td>\n",
       "    </tr>\n",
       "  </tbody>\n",
       "</table>\n",
       "<p>474 rows × 11 columns</p>\n",
       "</div>"
      ],
      "text/plain": [
       "                          date organism_name  \\\n",
       "0    2020-01-03 10:40:30 -0800         Mouse   \n",
       "1    2020-01-03 13:00:07 -0800         Mouse   \n",
       "2    2020-01-03 13:00:07 -0800         Mouse   \n",
       "3    2020-01-06 13:12:44 -0800         Mouse   \n",
       "4    2020-01-06 13:12:44 -0800         Mouse   \n",
       "..                         ...           ...   \n",
       "486  2020-02-11 13:46:18 -0800         Mouse   \n",
       "487  2020-02-11 13:50:40 -0800         Mouse   \n",
       "488  2020-02-11 13:50:40 -0800         Mouse   \n",
       "489  2020-02-11 14:58:24 -0800         Mouse   \n",
       "490  2020-02-11 14:58:24 -0800         Mouse   \n",
       "\n",
       "                                                      name  \\\n",
       "0                       Gad2-IRES-Cre;Ai14-504539.10.01.01   \n",
       "1                      Pvalb-IRES-Cre;Ai14-504851.11.01.02   \n",
       "2                      Pvalb-IRES-Cre;Ai14-504851.11.01.01   \n",
       "3                        Vip-IRES-Cre;Ai14-504179.11.01.02   \n",
       "4                        Vip-IRES-Cre;Ai14-504179.11.01.01   \n",
       "..                                                     ...   \n",
       "486  Slc32a1-IRES-Cre;Sncg-IRES2-FlpO;Ai65-509370.03.01.02   \n",
       "487  Slc32a1-IRES-Cre;Sncg-IRES2-FlpO;Ai65-509370.03.02.02   \n",
       "488  Slc32a1-IRES-Cre;Sncg-IRES2-FlpO;Ai65-509370.03.02.01   \n",
       "489                      Oxtr-T2A-Cre;Ai14-510022.10.01.01   \n",
       "490                      Oxtr-T2A-Cre;Ai14-510022.10.01.02   \n",
       "\n",
       "     extraction.endPipetteR extraction.postPatch rigOperator   status  \\\n",
       "0                    1000.0      nucleus_present    jessicat  SUCCESS   \n",
       "1                    2000.0      nucleus_present    jessicat  SUCCESS   \n",
       "2                    1000.0      nucleus_present    jessicat  SUCCESS   \n",
       "3                    3000.0      nucleus_present    jessicat  SUCCESS   \n",
       "4                       7.0      nucleus_present    jessicat  SUCCESS   \n",
       "..                      ...                  ...         ...      ...   \n",
       "486                  4500.0      nucleus_present    kristenh  SUCCESS   \n",
       "487                   800.0      nucleus_present    lindsayn  SUCCESS   \n",
       "488                  2000.0      nucleus_present    lindsayn  SUCCESS   \n",
       "489                    70.0      nucleus_present    lindsayn  SUCCESS   \n",
       "490                  2000.0      nucleus_present    lindsayn  SUCCESS   \n",
       "\n",
       "    roi_major  roi_minor            container container_label  \n",
       "0        RSPd  layer 2/3  PFS4_200103_701_A01              PF  \n",
       "1        RSPv  layer 2/3  PFS4_200103_703_A01              PF  \n",
       "2        RSPd    layer 5  PFS4_200103_702_A01              PF  \n",
       "3         SSp    layer 5  PFS4_200106_702_A01              PF  \n",
       "4        RSPd    layer 5  PFS4_200106_701_A01              PF  \n",
       "..        ...        ...                  ...             ...  \n",
       "486       HIP        CA1  P1S4_200211_004_A01              P1  \n",
       "487       HIP        CA1  P8S4_200211_354_A01              P8  \n",
       "488       HIP        CA1  P8S4_200211_353_A01              P8  \n",
       "489      RSPv    layer 5  P8S4_200211_355_A01              P8  \n",
       "490      RSPv  layer 2/3  P8S4_200211_356_A01              P8  \n",
       "\n",
       "[474 rows x 11 columns]"
      ]
     },
     "execution_count": 44,
     "metadata": {},
     "output_type": "execute_result"
    }
   ],
   "source": [
    "jem"
   ]
  },
  {
   "cell_type": "code",
   "execution_count": 26,
   "metadata": {},
   "outputs": [
    {
     "name": "stdout",
     "output_type": "stream",
     "text": [
      "2020-01-03\n",
      "2020-02-11\n"
     ]
    }
   ],
   "source": [
    "start_date = jem[\"date\"].iloc[0][0:10]\n",
    "end_date = jem[\"date\"].iloc[-1][0:10]\n",
    "print(start_date)\n",
    "print(end_date)"
   ]
  },
  {
   "cell_type": "code",
   "execution_count": 59,
   "metadata": {},
   "outputs": [
    {
     "name": "stderr",
     "output_type": "stream",
     "text": [
      "INFO:mephys_funcs:Created a conditional dataframe based on a list of values\n",
      "INFO:mephys_funcs:Created a conditional dataframe based on a list of values\n",
      "INFO:mephys_funcs:Created a conditional dataframe based on a list of values\n",
      "INFO:mephys_funcs:Created a conditional dataframe based on a list of values\n",
      "INFO:mephys_funcs:Created a conditional dataframe based on a list of values\n",
      "INFO:mephys_funcs:Created a conditional dataframe based on a list of values\n",
      "INFO:mephys_funcs:Created a conditional dataframe based on a list of values\n",
      "INFO:mephys_funcs:Created a conditional dataframe based on a list of values\n",
      "INFO:mephys_funcs:Created a conditional dataframe based on a list of values\n",
      "INFO:mephys_funcs:Created a conditional dataframe based on a list of values\n",
      "INFO:mephys_funcs:Created a conditional dataframe based on a list of values\n",
      "INFO:mephys_funcs:Created a conditional dataframe based on a list of values\n",
      "INFO:mephys_funcs:Created a conditional dataframe based on a list of values\n"
     ]
    }
   ],
   "source": [
    "mjem = create_cond_df(jem, \"organism_name\", [\"Mouse\"])\n",
    "hjem = create_cond_df(jem, \"organism_name\", [\"Human\"])\n",
    "hajem = hjem[hjem[\"container_label\"] != \"PC\"]\n",
    "hcjem = create_cond_df(hjem, \"container_label\", [\"PC\"])\n",
    "\n",
    "rspd = create_cond_df(mjem, \"roi_major\", [\"RSPd\"])\n",
    "rspv = create_cond_df(mjem, \"roi_major\", [\"RSPv\"])\n",
    "ssp = create_cond_df(mjem, \"roi_major\", [\"SSp\"])\n",
    "orb = create_cond_df(mjem, \"roi_major\", [\"ORB\"])\n",
    "ctxsp = create_cond_df(mjem, \"roi_major\", [\"CTXsp\"])\n",
    "mop = create_cond_df(mjem, \"roi_major\", [\"MOp\"])\n",
    "mos = create_cond_df(mjem, \"roi_major\", [\"MOs\"])\n",
    "hy = create_cond_df(mjem, \"roi_major\", [\"HY\"])\n",
    "hip = create_cond_df(mjem, \"roi_major\", [\"HIP\"])\n",
    "visp = create_cond_df(mjem, \"roi_major\", [\"VISp\"])"
   ]
  },
  {
   "cell_type": "code",
   "execution_count": 61,
   "metadata": {},
   "outputs": [
    {
     "name": "stdout",
     "output_type": "stream",
     "text": [
      "Date Range: 2020-01-03 to 2020-02-11\n",
      "Overall Total count: 474\n",
      "\n",
      "Mouse Total count: 343\n",
      "-RSPd count: 89\n",
      "-RSPv count: 59\n",
      "-SSp count: 26\n",
      "-ORB count: 69\n",
      "-CTXsp count: 30\n",
      "-MOp count: 12\n",
      "-MOs count: 14\n",
      "-HY count: 3\n",
      "-HIP count: 7\n",
      "-VISP count: 34\n",
      "\n",
      "Human Total count: 128\n",
      "-Human Acute count: 51\n",
      "-Human Culture count: 77\n"
     ]
    }
   ],
   "source": [
    "print_counts()"
   ]
  },
  {
   "cell_type": "markdown",
   "metadata": {},
   "source": [
    "##### Using read_jem to import jem_metadata"
   ]
  },
  {
   "cell_type": "code",
   "execution_count": null,
   "metadata": {},
   "outputs": [],
   "source": [
    "#If you want to filter on the columns immediately\n",
    "all_jem_fields=[\"date\", \"organism_name\", \"name\", \"container\", \"rigOperator\",\n",
    "                \"status\", \"roi_major\", \"roi_minor\",\n",
    "                \"extraction.postPatch\", \"extraction.endPipetteR\",\n",
    "                \"extraction.pressureApplied\", \"extraction.retractionPressureApplied\",\n",
    "                \"recording.timeStart\", \"recording.timeWholeCellStart\",\n",
    "                \"extraction.timeExtractionStart\", \"extraction.timeExtractionEnd\", \"extraction.timeRetractionEnd\",\n",
    "                \"cell_depth\",\n",
    "                \"approach.creCell\",\n",
    "                \"approach.sliceHealth\"]\n",
    "\n",
    "#If you want to filter on the columns immediately\n",
    "#jem.tail(1490) # first recording 2020-01-03 10:40:30 -0800 and last recording of 2019: 2019-12-23 15:51:07"
   ]
  },
  {
   "cell_type": "markdown",
   "metadata": {},
   "source": [
    "##### Writing to csv_file"
   ]
  },
  {
   "cell_type": "code",
   "execution_count": null,
   "metadata": {},
   "outputs": [],
   "source": [
    "#shiny.to_csv(csv_path + \"shiny.csv\")"
   ]
  },
  {
   "cell_type": "markdown",
   "metadata": {},
   "source": [
    "##### Writing to excel_file"
   ]
  },
  {
   "cell_type": "code",
   "execution_count": 58,
   "metadata": {},
   "outputs": [],
   "source": [
    "writer = pd.ExcelWriter(excel_path + \"personal_tracker.xlsx\")\n",
    "mjem.to_excel(writer, \"mouse_2020\", freeze_panes=(1,0))\n",
    "hjem.to_excel(writer, \"human_2020\", freeze_panes=(1,0))\n",
    "writer.save()"
   ]
  }
 ],
 "metadata": {
  "kernelspec": {
   "display_name": "Python 3",
   "language": "python",
   "name": "python3"
  },
  "language_info": {
   "codemirror_mode": {
    "name": "ipython",
    "version": 3
   },
   "file_extension": ".py",
   "mimetype": "text/x-python",
   "name": "python",
   "nbconvert_exporter": "python",
   "pygments_lexer": "ipython3",
   "version": "3.7.4"
  }
 },
 "nbformat": 4,
 "nbformat_minor": 2
}
