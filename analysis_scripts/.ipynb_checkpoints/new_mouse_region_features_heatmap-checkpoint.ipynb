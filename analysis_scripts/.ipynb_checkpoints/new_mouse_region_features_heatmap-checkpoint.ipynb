{
 "cells": [
  {
   "cell_type": "markdown",
   "metadata": {},
   "source": [
    "##### Imports "
   ]
  },
  {
   "cell_type": "code",
   "execution_count": 1,
   "metadata": {},
   "outputs": [],
   "source": [
    "import pandas as pd\n",
    "import numpy as np\n",
    "import csv\n",
    "import logging\n",
    "import os\n",
    "from functions.temp_funcs import read_file, merge_dataframes, drop_cols, drop_nans, filter_date_range, \\\n",
    "filter_df, create_container_col, create_cond_df\n",
    "\n",
    "import seaborn as sns\n",
    "import matplotlib.pyplot as plt\n",
    "sns.set(context = \"notebook\", style = \"white\", font=\"verdana\") # font_scale = 1.35)"
   ]
  },
  {
   "cell_type": "markdown",
   "metadata": {},
   "source": [
    "##### Logging Set-up"
   ]
  },
  {
   "cell_type": "code",
   "execution_count": 2,
   "metadata": {},
   "outputs": [],
   "source": [
    "logging.basicConfig(level=logging.INFO)\n",
    "LOGGER = logging.getLogger(__name__)"
   ]
  },
  {
   "cell_type": "markdown",
   "metadata": {},
   "source": [
    "##### Pandas Display Settings"
   ]
  },
  {
   "cell_type": "code",
   "execution_count": 3,
   "metadata": {},
   "outputs": [],
   "source": [
    "pd.set_option(\"display.max_colwidth\",150) #Expands the number of characters shown in the columns\n",
    "pd.set_option('display.max_columns', None)"
   ]
  },
  {
   "cell_type": "markdown",
   "metadata": {},
   "source": [
    "##### Lists/Paths"
   ]
  },
  {
   "cell_type": "code",
   "execution_count": 4,
   "metadata": {},
   "outputs": [],
   "source": [
    "path = \"C:/Users/kumar/Documents/Github/analysis_projects/analysis_scripts/\"\n",
    "csv_path = os.path.join(path, \"csv/\")\n",
    "excel_path = os.path.join(path, \"excel/\")\n",
    "plot_path = os.path.join(path, \"plot/\")"
   ]
  },
  {
   "cell_type": "code",
   "execution_count": 5,
   "metadata": {},
   "outputs": [],
   "source": [
    "path_jem = os.path.join(csv_path, \"jem_metadata_wFAILURE.csv\")\n",
    "path_ephys = os.path.join(csv_path, \"ephys_mIVSCC_MET.csv\")\n",
    "path_shiny = os.path.join(csv_path, \"Mouse_VISp_ctx_shiny.csv\")"
   ]
  },
  {
   "cell_type": "code",
   "execution_count": 6,
   "metadata": {},
   "outputs": [],
   "source": [
    "fields_jem = [\"date\", \"organism_name\", \"container\", \"rigOperator\", \"status\", \"roi\"]\n",
    "fields_ephys = [\"name\", \"vrest\", \"ri\", \"sag\", \"tau\",\n",
    "                \"upstroke_downstroke_ratio_long_square\", \"latency\", \"f_i_curve_slope\"]\n",
    "fields_shiny = [\"patch.date\", \"cell_name\", \"sample_id\", \"cell_specimen_project\",\n",
    "                \"subclass_label\", \"broad_class_label\",\n",
    "                \"marker_sum_norm_label\", \"Norm_Marker_Sum.0.4_label\"]"
   ]
  },
  {
   "cell_type": "code",
   "execution_count": 7,
   "metadata": {},
   "outputs": [],
   "source": [
    "drop_nans_list = [\"date\"]\n",
    "drop_cols_list = [\"sample_id\", \"patch.date\", \"status\", \"name\", \"cell_specimen_project\", \"organism_name\"]"
   ]
  },
  {
   "cell_type": "markdown",
   "metadata": {},
   "source": [
    "##### Main"
   ]
  },
  {
   "cell_type": "code",
   "execution_count": 8,
   "metadata": {},
   "outputs": [],
   "source": [
    "def main():\n",
    "    global jem, shiny, ephys, merge_sj, merge_all, merge_all_glu, merge_all_gab, rsp_glu, visp_glu, rsp_visp_glu\n",
    "    jem = read_file(path_jem, fields_jem) #20843 rows\n",
    "    ephys = read_file(path_ephys, fields_ephys) #8541 rows\n",
    "    shiny = read_file(path_shiny, fields_shiny) #10674 rows\n",
    "\n",
    "    jem = filter_df(jem, \"status\", \"SUCCESS\") #13325 rows\n",
    "    jem = filter_date_range(jem, \"date\") #6335 rows\n",
    "    \n",
    "    shiny = filter_df(shiny, \"Norm_Marker_Sum.0.4_label\", True) #9101 rows\n",
    "    shiny = filter_date_range(shiny, \"patch.date\") #2849 rows\n",
    "\n",
    "    merge_sj = merge_dataframes(shiny, jem, \"sample_id\", \"container\", \"inner\") #2850 rows (even if how=left)\n",
    "    merge_all = merge_dataframes(merge_sj, ephys, \"cell_name\", \"name\", \"inner\") #2635 rows\n",
    "\n",
    "    merge_all = drop_nans(merge_all, drop_nans_list)\n",
    "    merge_all = drop_cols(merge_all, drop_cols_list)\n",
    "    merge_all = create_container_col(merge_all, \"rigOperator\")\n",
    "    merge_all.set_index(\"date\", inplace=True)\n",
    "    \n",
    "    merge_all[\"region\"] = pd.np.where(merge_all.roi.str.contains(\"RSP\"), \"RSP\", \n",
    "                                      pd.np.where(merge_all.roi.str.contains(\"VISp\"), \"VISp\", \n",
    "                                      pd.np.where(merge_all.roi.str.contains(\"TEa\"), \"TEa\",\n",
    "                                      pd.np.where(merge_all.roi.str.contains(\"CTXsp\"), \"CLA\",\n",
    "                                      pd.np.where(merge_all.roi.str.contains(\"MO\"), \"MO\",\n",
    "                                      pd.np.where(merge_all.roi.str.contains(\"ORB\"), \"ORB\",\n",
    "                                      pd.np.where(merge_all.roi.str.contains(\"SSp\"), \"SSp\",\n",
    "                                      pd.np.where(merge_all.roi.str.contains(\"HY\"), \"HY\", \"Unknown\"))))))))\n",
    "    \n",
    "    merge_all_glu = create_cond_df(merge_all, \"broad_class_label\", [\"Glutamatergic\"])\n",
    "    merge_all_gab = create_cond_df(merge_all, \"broad_class_label\", [\"GABAergic\"])\n",
    "\n",
    "    rsp_glu = create_cond_df(merge_all_glu, \"region\", [\"RSP\"])\n",
    "    visp_glu = create_cond_df(merge_all_glu, \"region\", [\"VISp\"])"
   ]
  },
  {
   "cell_type": "code",
   "execution_count": 9,
   "metadata": {},
   "outputs": [
    {
     "name": "stderr",
     "output_type": "stream",
     "text": [
      "INFO:functions.temp_funcs:Read file in as a pandas dataframe\n",
      "INFO:functions.temp_funcs:Read file in as a pandas dataframe\n",
      "INFO:functions.temp_funcs:Read file in as a pandas dataframe\n",
      "INFO:functions.temp_funcs:Filtered dataframe based on status == SUCCESS\n",
      "C:\\Users\\kumar\\Documents\\GitHub\\analysis_projects\\analysis_scripts\\functions\\temp_funcs.py:87: SettingWithCopyWarning: \n",
      "A value is trying to be set on a copy of a slice from a DataFrame\n",
      "\n",
      "See the caveats in the documentation: http://pandas.pydata.org/pandas-docs/stable/indexing.html#indexing-view-versus-copy\n",
      "  df.sort_values([date_col], inplace=True)\n",
      "INFO:functions.temp_funcs:Filtered dataframe: 2019-01-01 - 2020-12-31\n",
      "INFO:functions.temp_funcs:Filtered dataframe based on Norm_Marker_Sum.0.4_label == True\n",
      "INFO:functions.temp_funcs:Filtered dataframe: 2019-01-01 - 2020-12-31\n",
      "INFO:functions.temp_funcs:Merged two pandas dataframe into one dataframe\n",
      "INFO:functions.temp_funcs:Merged two pandas dataframe into one dataframe\n",
      "INFO:functions.temp_funcs:Dropped NaNs from these columns: ['date']\n",
      "INFO:functions.temp_funcs:Dropped columns: ['sample_id', 'patch.date', 'status', 'name', 'cell_specimen_project', 'organism_name']\n",
      "INFO:functions.temp_funcs:Created a patch_container_label column to show(ex.'PA')\n",
      "INFO:functions.temp_funcs:Created a conditional dataframe based on broad_class_label containing ['Glutamatergic']\n",
      "INFO:functions.temp_funcs:Created a conditional dataframe based on broad_class_label containing ['GABAergic']\n",
      "INFO:functions.temp_funcs:Created a conditional dataframe based on region containing ['RSP']\n",
      "INFO:functions.temp_funcs:Created a conditional dataframe based on region containing ['VISp']\n"
     ]
    }
   ],
   "source": [
    "if __name__ == \"__main__\":\n",
    "    main()"
   ]
  },
  {
   "cell_type": "markdown",
   "metadata": {},
   "source": [
    "##### HeatMap"
   ]
  },
  {
   "cell_type": "code",
   "execution_count": 10,
   "metadata": {},
   "outputs": [],
   "source": [
    "rsp_glu = rsp_glu[rsp_glu[\"f_i_curve_slope\"] < 0.7]\n",
    "rsp_glu = rsp_glu[rsp_glu[\"ri\"] < 600]\n",
    "rsp_glu = rsp_glu[rsp_glu[\"upstroke_downstroke_ratio_long_square\"] < 7]\n",
    "rsp_glu = rsp_glu[rsp_glu[\"latency\"] < 0.15]\n",
    "rsp_glu = rsp_glu[rsp_glu[\"sag\"] < 0.40]\n",
    "rsp_glu = rsp_glu[rsp_glu[\"vrest\"] < -50]\n",
    "rsp_glu = rsp_glu[rsp_glu[\"tau\"] < 40]"
   ]
  },
  {
   "cell_type": "code",
   "execution_count": 11,
   "metadata": {},
   "outputs": [],
   "source": [
    "visp_glu = visp_glu[visp_glu[\"f_i_curve_slope\"] < 0.7]\n",
    "visp_glu = visp_glu[visp_glu[\"ri\"] < 600]\n",
    "visp_glu = visp_glu[visp_glu[\"upstroke_downstroke_ratio_long_square\"] < 7]\n",
    "visp_glu = visp_glu[visp_glu[\"latency\"] < 0.15]\n",
    "visp_glu = visp_glu[visp_glu[\"sag\"] < 0.40]\n",
    "visp_glu = visp_glu[visp_glu[\"vrest\"] < -50]\n",
    "visp_glu = visp_glu[visp_glu[\"tau\"] < 40]"
   ]
  },
  {
   "cell_type": "code",
   "execution_count": 12,
   "metadata": {},
   "outputs": [],
   "source": [
    "rsp_glu.reset_index(inplace=True)\n",
    "visp_glu.reset_index(inplace=True)\n",
    "rsp_glu.sort_values([\"subclass_label\"], inplace=True)\n",
    "visp_glu.sort_values([\"subclass_label\"], inplace=True)"
   ]
  },
  {
   "cell_type": "code",
   "execution_count": 13,
   "metadata": {},
   "outputs": [],
   "source": [
    "sub5_list = [\"L2 IT RSP-ACA\", \"L5 NP CTX\", \"L5 ET CTX\"]"
   ]
  },
  {
   "cell_type": "code",
   "execution_count": 14,
   "metadata": {},
   "outputs": [],
   "source": [
    "r_df = rsp_glu[[\"subclass_label\", \"region\", \"vrest\", \"ri\", \"sag\", \"tau\",\n",
    "                \"upstroke_downstroke_ratio_long_square\", \"latency\", \"f_i_curve_slope\"]]\n",
    "r_df = r_df.groupby([\"subclass_label\", \"region\"]).mean().reset_index()\n",
    "\n",
    "v_df = visp_glu[[\"subclass_label\", \"region\", \"vrest\", \"ri\", \"sag\", \"tau\",\n",
    "                \"upstroke_downstroke_ratio_long_square\", \"latency\", \"f_i_curve_slope\"]]\n",
    "v_df = v_df.groupby([\"subclass_label\", \"region\"]).mean().reset_index()"
   ]
  },
  {
   "cell_type": "code",
   "execution_count": 15,
   "metadata": {},
   "outputs": [],
   "source": [
    "heatmap_df = pd.merge(left=r_df, right=v_df, on=\"subclass_label\")"
   ]
  },
  {
   "cell_type": "code",
   "execution_count": 16,
   "metadata": {},
   "outputs": [
    {
     "name": "stderr",
     "output_type": "stream",
     "text": [
      "INFO:functions.temp_funcs:Created a conditional dataframe based on subclass_label containing ['L2 IT RSP-ACA', 'L5 NP CTX', 'L5 ET CTX']\n"
     ]
    }
   ],
   "source": [
    "heatmap_df = create_cond_df(heatmap_df, \"subclass_label\", sub5_list)"
   ]
  },
  {
   "cell_type": "code",
   "execution_count": 17,
   "metadata": {},
   "outputs": [
    {
     "data": {
      "text/html": [
       "<div>\n",
       "<style scoped>\n",
       "    .dataframe tbody tr th:only-of-type {\n",
       "        vertical-align: middle;\n",
       "    }\n",
       "\n",
       "    .dataframe tbody tr th {\n",
       "        vertical-align: top;\n",
       "    }\n",
       "\n",
       "    .dataframe thead th {\n",
       "        text-align: right;\n",
       "    }\n",
       "</style>\n",
       "<table border=\"1\" class=\"dataframe\">\n",
       "  <thead>\n",
       "    <tr style=\"text-align: right;\">\n",
       "      <th></th>\n",
       "      <th>subclass_label</th>\n",
       "      <th>region_x</th>\n",
       "      <th>vrest_x</th>\n",
       "      <th>ri_x</th>\n",
       "      <th>sag_x</th>\n",
       "      <th>tau_x</th>\n",
       "      <th>upstroke_downstroke_ratio_long_square_x</th>\n",
       "      <th>latency_x</th>\n",
       "      <th>f_i_curve_slope_x</th>\n",
       "      <th>region_y</th>\n",
       "      <th>vrest_y</th>\n",
       "      <th>ri_y</th>\n",
       "      <th>sag_y</th>\n",
       "      <th>tau_y</th>\n",
       "      <th>upstroke_downstroke_ratio_long_square_y</th>\n",
       "      <th>latency_y</th>\n",
       "      <th>f_i_curve_slope_y</th>\n",
       "      <th>vrest</th>\n",
       "      <th>ri</th>\n",
       "      <th>sag</th>\n",
       "      <th>tau</th>\n",
       "      <th>upstroke_downstroke_ratio_long_square</th>\n",
       "      <th>latency</th>\n",
       "      <th>f_i_curve_slope</th>\n",
       "    </tr>\n",
       "  </thead>\n",
       "  <tbody>\n",
       "    <tr>\n",
       "      <th>0</th>\n",
       "      <td>L2 IT RSP-ACA</td>\n",
       "      <td>RSP</td>\n",
       "      <td>-76.811338</td>\n",
       "      <td>104.348811</td>\n",
       "      <td>0.035903</td>\n",
       "      <td>10.586263</td>\n",
       "      <td>2.925136</td>\n",
       "      <td>0.046587</td>\n",
       "      <td>0.198403</td>\n",
       "      <td>VISp</td>\n",
       "      <td>-76.773133</td>\n",
       "      <td>98.861731</td>\n",
       "      <td>0.024403</td>\n",
       "      <td>12.694613</td>\n",
       "      <td>4.122600</td>\n",
       "      <td>0.064600</td>\n",
       "      <td>0.161421</td>\n",
       "      <td>0.049764</td>\n",
       "      <td>5.550257</td>\n",
       "      <td>47.123079</td>\n",
       "      <td>16.608223</td>\n",
       "      <td>29.046333</td>\n",
       "      <td>27.883680</td>\n",
       "      <td>22.910700</td>\n",
       "    </tr>\n",
       "    <tr>\n",
       "      <th>4</th>\n",
       "      <td>L5 ET CTX</td>\n",
       "      <td>RSP</td>\n",
       "      <td>-69.061524</td>\n",
       "      <td>111.394068</td>\n",
       "      <td>0.166532</td>\n",
       "      <td>15.468225</td>\n",
       "      <td>3.597249</td>\n",
       "      <td>0.046611</td>\n",
       "      <td>0.155662</td>\n",
       "      <td>VISp</td>\n",
       "      <td>-67.618672</td>\n",
       "      <td>118.445908</td>\n",
       "      <td>0.172814</td>\n",
       "      <td>17.198791</td>\n",
       "      <td>3.597866</td>\n",
       "      <td>0.046581</td>\n",
       "      <td>0.164323</td>\n",
       "      <td>2.133807</td>\n",
       "      <td>5.953638</td>\n",
       "      <td>3.635655</td>\n",
       "      <td>10.062141</td>\n",
       "      <td>0.017139</td>\n",
       "      <td>0.064712</td>\n",
       "      <td>5.270761</td>\n",
       "    </tr>\n",
       "    <tr>\n",
       "      <th>6</th>\n",
       "      <td>L5 NP CTX</td>\n",
       "      <td>RSP</td>\n",
       "      <td>-73.900963</td>\n",
       "      <td>243.984663</td>\n",
       "      <td>0.069398</td>\n",
       "      <td>18.792059</td>\n",
       "      <td>3.797228</td>\n",
       "      <td>0.038696</td>\n",
       "      <td>0.353778</td>\n",
       "      <td>VISp</td>\n",
       "      <td>-66.517502</td>\n",
       "      <td>270.316173</td>\n",
       "      <td>0.153057</td>\n",
       "      <td>22.180426</td>\n",
       "      <td>4.213208</td>\n",
       "      <td>0.026652</td>\n",
       "      <td>0.273864</td>\n",
       "      <td>11.100027</td>\n",
       "      <td>9.741004</td>\n",
       "      <td>54.659084</td>\n",
       "      <td>15.276384</td>\n",
       "      <td>9.873225</td>\n",
       "      <td>45.190701</td>\n",
       "      <td>29.180182</td>\n",
       "    </tr>\n",
       "  </tbody>\n",
       "</table>\n",
       "</div>"
      ],
      "text/plain": [
       "  subclass_label region_x    vrest_x        ri_x     sag_x      tau_x  \\\n",
       "0  L2 IT RSP-ACA      RSP -76.811338  104.348811  0.035903  10.586263   \n",
       "4      L5 ET CTX      RSP -69.061524  111.394068  0.166532  15.468225   \n",
       "6      L5 NP CTX      RSP -73.900963  243.984663  0.069398  18.792059   \n",
       "\n",
       "   upstroke_downstroke_ratio_long_square_x  latency_x  f_i_curve_slope_x  \\\n",
       "0                                 2.925136   0.046587           0.198403   \n",
       "4                                 3.597249   0.046611           0.155662   \n",
       "6                                 3.797228   0.038696           0.353778   \n",
       "\n",
       "  region_y    vrest_y        ri_y     sag_y      tau_y  \\\n",
       "0     VISp -76.773133   98.861731  0.024403  12.694613   \n",
       "4     VISp -67.618672  118.445908  0.172814  17.198791   \n",
       "6     VISp -66.517502  270.316173  0.153057  22.180426   \n",
       "\n",
       "   upstroke_downstroke_ratio_long_square_y  latency_y  f_i_curve_slope_y  \\\n",
       "0                                 4.122600   0.064600           0.161421   \n",
       "4                                 3.597866   0.046581           0.164323   \n",
       "6                                 4.213208   0.026652           0.273864   \n",
       "\n",
       "       vrest        ri        sag        tau  \\\n",
       "0   0.049764  5.550257  47.123079  16.608223   \n",
       "4   2.133807  5.953638   3.635655  10.062141   \n",
       "6  11.100027  9.741004  54.659084  15.276384   \n",
       "\n",
       "   upstroke_downstroke_ratio_long_square    latency  f_i_curve_slope  \n",
       "0                              29.046333  27.883680        22.910700  \n",
       "4                               0.017139   0.064712         5.270761  \n",
       "6                               9.873225  45.190701        29.180182  "
      ]
     },
     "execution_count": 17,
     "metadata": {},
     "output_type": "execute_result"
    }
   ],
   "source": [
    "heatmap_df[\"vrest\"] = abs((heatmap_df[\"vrest_x\"] - heatmap_df[\"vrest_y\"]) / heatmap_df[\"vrest_y\"]) * 100 #new - old/old  = r - v/v\n",
    "heatmap_df[\"ri\"] = abs((heatmap_df[\"ri_x\"] - heatmap_df[\"ri_y\"]) / heatmap_df[\"ri_y\"]) * 100\n",
    "heatmap_df[\"sag\"] = abs((heatmap_df[\"sag_x\"] - heatmap_df[\"sag_y\"]) / heatmap_df[\"sag_y\"]) * 100\n",
    "heatmap_df[\"tau\"] = abs((heatmap_df[\"tau_x\"] - heatmap_df[\"tau_y\"]) / heatmap_df[\"tau_y\"]) * 100\n",
    "heatmap_df[\"upstroke_downstroke_ratio_long_square\"] = abs((heatmap_df[\"upstroke_downstroke_ratio_long_square_x\"] - heatmap_df[\"upstroke_downstroke_ratio_long_square_y\"]) / heatmap_df[\"upstroke_downstroke_ratio_long_square_y\"]) * 100\n",
    "heatmap_df[\"latency\"] = abs((heatmap_df[\"latency_x\"] - heatmap_df[\"latency_y\"]) / heatmap_df[\"latency_y\"]) * 100\n",
    "heatmap_df[\"f_i_curve_slope\"] = abs((heatmap_df[\"f_i_curve_slope_x\"] - heatmap_df[\"f_i_curve_slope_y\"]) / heatmap_df[\"f_i_curve_slope_y\"]) * 100\n",
    "heatmap_df"
   ]
  },
  {
   "cell_type": "code",
   "execution_count": 18,
   "metadata": {},
   "outputs": [
    {
     "data": {
      "text/html": [
       "<div>\n",
       "<style scoped>\n",
       "    .dataframe tbody tr th:only-of-type {\n",
       "        vertical-align: middle;\n",
       "    }\n",
       "\n",
       "    .dataframe tbody tr th {\n",
       "        vertical-align: top;\n",
       "    }\n",
       "\n",
       "    .dataframe thead th {\n",
       "        text-align: right;\n",
       "    }\n",
       "</style>\n",
       "<table border=\"1\" class=\"dataframe\">\n",
       "  <thead>\n",
       "    <tr style=\"text-align: right;\">\n",
       "      <th>subclass_label</th>\n",
       "      <th>L2 IT RSP-ACA</th>\n",
       "      <th>L5 ET CTX</th>\n",
       "      <th>L5 NP CTX</th>\n",
       "    </tr>\n",
       "    <tr>\n",
       "      <th>ephys_features</th>\n",
       "      <th></th>\n",
       "      <th></th>\n",
       "      <th></th>\n",
       "    </tr>\n",
       "  </thead>\n",
       "  <tbody>\n",
       "    <tr>\n",
       "      <th>F-I Curve</th>\n",
       "      <td>22.910700</td>\n",
       "      <td>5.270761</td>\n",
       "      <td>29.180182</td>\n",
       "    </tr>\n",
       "    <tr>\n",
       "      <th>Input Resistance(MΩ)</th>\n",
       "      <td>5.550257</td>\n",
       "      <td>5.953638</td>\n",
       "      <td>9.741004</td>\n",
       "    </tr>\n",
       "    <tr>\n",
       "      <th>LS AP up/downstoke</th>\n",
       "      <td>29.046333</td>\n",
       "      <td>0.017139</td>\n",
       "      <td>9.873225</td>\n",
       "    </tr>\n",
       "    <tr>\n",
       "      <th>Latency</th>\n",
       "      <td>27.883680</td>\n",
       "      <td>0.064712</td>\n",
       "      <td>45.190701</td>\n",
       "    </tr>\n",
       "    <tr>\n",
       "      <th>Sag Fraction</th>\n",
       "      <td>47.123079</td>\n",
       "      <td>3.635655</td>\n",
       "      <td>54.659084</td>\n",
       "    </tr>\n",
       "    <tr>\n",
       "      <th>Vm(mV)</th>\n",
       "      <td>0.049764</td>\n",
       "      <td>2.133807</td>\n",
       "      <td>11.100027</td>\n",
       "    </tr>\n",
       "    <tr>\n",
       "      <th>τ(s)</th>\n",
       "      <td>16.608223</td>\n",
       "      <td>10.062141</td>\n",
       "      <td>15.276384</td>\n",
       "    </tr>\n",
       "  </tbody>\n",
       "</table>\n",
       "</div>"
      ],
      "text/plain": [
       "subclass_label        L2 IT RSP-ACA  L5 ET CTX  L5 NP CTX\n",
       "ephys_features                                           \n",
       "F-I Curve                 22.910700   5.270761  29.180182\n",
       "Input Resistance(MΩ)       5.550257   5.953638   9.741004\n",
       "LS AP up/downstoke        29.046333   0.017139   9.873225\n",
       "Latency                   27.883680   0.064712  45.190701\n",
       "Sag Fraction              47.123079   3.635655  54.659084\n",
       "Vm(mV)                     0.049764   2.133807  11.100027\n",
       "τ(s)                      16.608223  10.062141  15.276384"
      ]
     },
     "execution_count": 18,
     "metadata": {},
     "output_type": "execute_result"
    }
   ],
   "source": [
    "heatmap_df.drop(columns=[\"vrest_x\", \"vrest_y\",\n",
    "                    \"ri_x\", \"ri_y\", \n",
    "                    \"sag_x\", \"sag_y\", \n",
    "                    \"tau_x\", \"tau_y\",\n",
    "                    \"upstroke_downstroke_ratio_long_square_x\", \"upstroke_downstroke_ratio_long_square_y\",\n",
    "                    \"latency_x\", \"latency_y\",\n",
    "                    \"f_i_curve_slope_x\", \"f_i_curve_slope_y\",\n",
    "                    \"region_x\", \"region_y\"], inplace=True)\n",
    "\n",
    "heatmap_df.rename(columns={\"vrest\": \"Vm(mV)\", \n",
    "                      \"ri\": \"Input Resistance(MΩ)\",\n",
    "                      \"sag\" : \"Sag Fraction\",\n",
    "                      \"tau\": \"τ(s)\",\n",
    "                      \"upstroke_downstroke_ratio_long_square\": \"LS AP up/downstoke\",\n",
    "                      \"latency\" : \"Latency\",\n",
    "                      \"f_i_curve_slope\" : \"F-I Curve\"}, inplace=True)\n",
    "\n",
    "heatmap_df = heatmap_df.melt(id_vars=[\"subclass_label\"],\n",
    "                             value_vars=[\"Vm(mV)\", \"Input Resistance(MΩ)\", \"Sag Fraction\", \"τ(s)\",\n",
    "                                         \"LS AP up/downstoke\", \"Latency\", \"F-I Curve\"],\n",
    "                             var_name=\"ephys_features\", value_name=\"%change from VISp\")\n",
    "\n",
    "heatmap_df = pd.pivot_table(heatmap_df, values='%change from VISp', index=[\"ephys_features\"], columns=\"subclass_label\")\n",
    "heatmap_df"
   ]
  },
  {
   "cell_type": "code",
   "execution_count": 28,
   "metadata": {},
   "outputs": [
    {
     "data": {
      "image/png": "[encoded data removed]",
      "text/plain": [
       "<Figure size 864x864 with 2 Axes>"
      ]
     },
     "metadata": {},
     "output_type": "display_data"
    }
   ],
   "source": [
    "fig, ax = plt.subplots(figsize=(12,12))\n",
    "sns.heatmap(data=heatmap_df,\n",
    "            vmin=0, \n",
    "            vmax=55,\n",
    "            cmap=\"coolwarm\",\n",
    "            center=0,\n",
    "            #robust=True,\n",
    "            annot=True,\n",
    "            fmt=\"0.2g\",\n",
    "            linewidths=0.5,\n",
    "            square=True,\n",
    "            cbar=True,\n",
    "            cbar_kws={\"shrink\": 1}) #\"label\": \"RSP %change from VISp\", \n",
    "\n",
    "plt.title(\"Heatmap: %change between RSP and VISp\")\n",
    "plt.xlabel(\"Subclass\")\n",
    "plt.ylabel(\"Electophysiological Features\")\n",
    "\n",
    "#Seaborn heatmap cutoffs, so to fix it use the code below\n",
    "#bottom, top = ax.get_ylim()\n",
    "#ax.set_ylim(bottom + 0.5, top - 0.5)\n",
    "\n",
    "plt.savefig(plot_path + \"heatmap.jpeg\", bbox_inches=\"tight\")"
   ]
  },
  {
   "cell_type": "code",
   "execution_count": null,
   "metadata": {},
   "outputs": [],
   "source": []
  }
 ],
 "metadata": {
  "kernelspec": {
   "display_name": "Python 3",
   "language": "python",
   "name": "python3"
  },
  "language_info": {
   "codemirror_mode": {
    "name": "ipython",
    "version": 3
   },
   "file_extension": ".py",
   "mimetype": "text/x-python",
   "name": "python",
   "nbconvert_exporter": "python",
   "pygments_lexer": "ipython3",
   "version": "3.6.5"
  }
 },
 "nbformat": 4,
 "nbformat_minor": 2
}
