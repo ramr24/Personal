{
 "cells": [
  {
   "cell_type": "markdown",
   "metadata": {},
   "source": [
    "##### Imports"
   ]
  },
  {
   "cell_type": "code",
   "execution_count": 1,
   "metadata": {},
   "outputs": [],
   "source": [
    "import pandas as pd\n",
    "import numpy as np\n",
    "import csv\n",
    "import logging\n",
    "import os\n",
    "from functions.temp_funcs import read_file, merge_dataframes, drop_cols, drop_nans, filter_date_range, \\\n",
    "filter_df, create_container_col, create_cond_df\n",
    "\n",
    "import seaborn as sns\n",
    "import matplotlib.pyplot as plt\n",
    "sns.set(context = \"notebook\", style = \"white\", font=\"verdana\") # font_scale = 1.35)"
   ]
  },
  {
   "cell_type": "markdown",
   "metadata": {},
   "source": [
    "##### Pandas Display Settings"
   ]
  },
  {
   "cell_type": "code",
   "execution_count": 2,
   "metadata": {},
   "outputs": [],
   "source": [
    "pd.set_option(\"display.max_colwidth\",150) #Expands the number of characters shown in the columns\n",
    "pd.set_option('display.max_columns', None)"
   ]
  },
  {
   "cell_type": "markdown",
   "metadata": {},
   "source": [
    "##### Lists/Paths"
   ]
  },
  {
   "cell_type": "code",
   "execution_count": 3,
   "metadata": {},
   "outputs": [],
   "source": [
    "path = \"C:/Users/kumar/Documents/Github/analysis_projects/analysis_scripts/\"\n",
    "csv_path = os.path.join(path, \"csv/\")\n",
    "excel_path = os.path.join(path, \"excel/\")\n",
    "plot_path = os.path.join(path, \"plot/\")"
   ]
  },
  {
   "cell_type": "code",
   "execution_count": 4,
   "metadata": {},
   "outputs": [],
   "source": [
    "path_jem = os.path.join(csv_path, \"jem_metadata_wFAILURE.csv\")\n",
    "path_ephys = os.path.join(csv_path, \"ephys_mIVSCC_MET.csv\")\n",
    "path_shiny = os.path.join(csv_path, \"Mouse_VISp_ctx_shiny.csv\")"
   ]
  },
  {
   "cell_type": "code",
   "execution_count": 5,
   "metadata": {},
   "outputs": [],
   "source": [
    "fields_jem = [\"date\", \"organism_name\", \"container\", \"rigOperator\", \"status\", \"roi\"]\n",
    "fields_ephys = [\"name\", \"vrest\", \"ri\", \"sag\", \"tau\",\n",
    "                \"upstroke_downstroke_ratio_long_square\", \"latency\", \"f_i_curve_slope\"]\n",
    "fields_shiny = [\"patch.date\", \"cell_name\", \"sample_id\", \"cell_specimen_project\",\n",
    "                \"subclass_label\", \"broad_class_label\",\n",
    "                \"marker_sum_norm_label\", \"Norm_Marker_Sum.0.4_label\"]"
   ]
  },
  {
   "cell_type": "code",
   "execution_count": 6,
   "metadata": {},
   "outputs": [],
   "source": [
    "drop_nans_list = [\"date\"]\n",
    "drop_cols_list = [\"sample_id\", \"patch.date\", \"status\", \"name\", \"cell_specimen_project\", \"organism_name\"]"
   ]
  },
  {
   "cell_type": "markdown",
   "metadata": {},
   "source": [
    "##### Main"
   ]
  },
  {
   "cell_type": "code",
   "execution_count": 7,
   "metadata": {},
   "outputs": [
    {
     "name": "stderr",
     "output_type": "stream",
     "text": [
      "INFO:functions.temp_funcs:Read file in as a pandas dataframe\n",
      "INFO:functions.temp_funcs:Read file in as a pandas dataframe\n",
      "INFO:functions.temp_funcs:Read file in as a pandas dataframe\n",
      "INFO:functions.temp_funcs:Filtered dataframe based on status == SUCCESS\n",
      "C:\\Users\\kumar\\Documents\\Github\\analysis_projects\\analysis_scripts\\functions\\temp_funcs.py:87: SettingWithCopyWarning: \n",
      "A value is trying to be set on a copy of a slice from a DataFrame\n",
      "\n",
      "See the caveats in the documentation: http://pandas.pydata.org/pandas-docs/stable/user_guide/indexing.html#returning-a-view-versus-a-copy\n",
      "  df.sort_values([date_col], inplace=True)\n",
      "INFO:functions.temp_funcs:Filtered dataframe: 2019-01-01 - 2020-12-31\n",
      "INFO:functions.temp_funcs:Filtered dataframe based on Norm_Marker_Sum.0.4_label == True\n",
      "INFO:functions.temp_funcs:Filtered dataframe: 2019-01-01 - 2020-12-31\n",
      "INFO:functions.temp_funcs:Merged two pandas dataframe into one dataframe\n",
      "INFO:functions.temp_funcs:Merged two pandas dataframe into one dataframe\n",
      "INFO:functions.temp_funcs:Dropped NaNs from these columns: ['date']\n",
      "INFO:functions.temp_funcs:Dropped columns: ['sample_id', 'patch.date', 'status', 'name', 'cell_specimen_project', 'organism_name']\n",
      "INFO:functions.temp_funcs:Created a patch_container_label column to show(ex.'PA')\n",
      "INFO:functions.temp_funcs:Created a conditional dataframe based on broad_class_label containing ['Glutamatergic']\n",
      "INFO:functions.temp_funcs:Created a conditional dataframe based on broad_class_label containing ['GABAergic']\n"
     ]
    }
   ],
   "source": [
    "jem = read_file(path_jem, fields_jem) #20843 rows\n",
    "ephys = read_file(path_ephys, fields_ephys) #8541 rows\n",
    "shiny = read_file(path_shiny, fields_shiny) #10674 rows\n",
    "\n",
    "jem = filter_df(jem, \"status\", \"SUCCESS\") #13325 rows\n",
    "jem = filter_date_range(jem, \"date\") #6335 rows\n",
    "\n",
    "shiny = filter_df(shiny, \"Norm_Marker_Sum.0.4_label\", True) #9101 rows\n",
    "shiny = filter_date_range(shiny, \"patch.date\") #2849 rows\n",
    "\n",
    "merge_sj = merge_dataframes(shiny, jem, \"sample_id\", \"container\", \"inner\") #2850 rows (even if how=left)\n",
    "merge_all = merge_dataframes(merge_sj, ephys, \"cell_name\", \"name\", \"inner\") #2635 rows\n",
    "\n",
    "merge_all = drop_nans(merge_all, drop_nans_list)\n",
    "merge_all = drop_cols(merge_all, drop_cols_list)\n",
    "merge_all = create_container_col(merge_all, \"rigOperator\")\n",
    "merge_all.set_index(\"date\", inplace=True)\n",
    "\n",
    "merge_all[\"region\"] = pd.np.where(merge_all.roi.str.contains(\"RSP\"), \"RSP\", \n",
    "                                  pd.np.where(merge_all.roi.str.contains(\"VISp\"), \"VISp\", \n",
    "                                  pd.np.where(merge_all.roi.str.contains(\"TEa\"), \"TEa\",\n",
    "                                  pd.np.where(merge_all.roi.str.contains(\"CTXsp\"), \"CLA\",\n",
    "                                  pd.np.where(merge_all.roi.str.contains(\"MO\"), \"MO\",\n",
    "                                  pd.np.where(merge_all.roi.str.contains(\"ORB\"), \"ORB\",\n",
    "                                  pd.np.where(merge_all.roi.str.contains(\"SSp\"), \"SSp\",\n",
    "                                  pd.np.where(merge_all.roi.str.contains(\"HY\"), \"HY\", \"Unknown\"))))))))\n",
    "\n",
    "merge_all_glu = create_cond_df(merge_all, \"broad_class_label\", [\"Glutamatergic\"])\n",
    "merge_all_gab = create_cond_df(merge_all, \"broad_class_label\", [\"GABAergic\"])"
   ]
  },
  {
   "cell_type": "code",
   "execution_count": 8,
   "metadata": {},
   "outputs": [
    {
     "name": "stderr",
     "output_type": "stream",
     "text": [
      "INFO:functions.temp_funcs:Created a conditional dataframe based on region containing ['RSP']\n",
      "INFO:functions.temp_funcs:Created a conditional dataframe based on region containing ['VISp']\n"
     ]
    }
   ],
   "source": [
    "rsp_glu = create_cond_df(merge_all_glu, \"region\", [\"RSP\"])\n",
    "visp_glu = create_cond_df(merge_all_glu, \"region\", [\"VISp\"])"
   ]
  },
  {
   "cell_type": "code",
   "execution_count": 9,
   "metadata": {},
   "outputs": [],
   "source": [
    "ephys_list = [\"subclass_label\", \"region\", \n",
    "              \"vrest\", \"ri\", \"sag\", \"tau\", \"upstroke_downstroke_ratio_long_square\", \"latency\", \"f_i_curve_slope\"]"
   ]
  },
  {
   "cell_type": "code",
   "execution_count": 10,
   "metadata": {},
   "outputs": [],
   "source": [
    "renamed_ephys_list = [\"Vm(mV)\", \"Input Resistance(MΩ)\", \"Sag Fraction\", \"τ(s)\", \"LS AP up/downstoke\", \"Latency\", \"F-I Curve\"]"
   ]
  },
  {
   "cell_type": "code",
   "execution_count": null,
   "metadata": {},
   "outputs": [],
   "source": []
  },
  {
   "cell_type": "code",
   "execution_count": null,
   "metadata": {},
   "outputs": [],
   "source": [
    "def return_sub_list5():\n",
    "    rsub_list = list()\n",
    "    vsub_list = list()\n",
    "    for n in rsp_glu.subclass_label.unique():\n",
    "        ex = rsp_glu[rsp_glu[\"subclass_label\"] == n]\n",
    "        value = ex[\"vrest\"].count() > 5\n",
    "        if value == True:\n",
    "            rsub_list.append(n)\n",
    "        else:\n",
    "            pass\n",
    "\n",
    "    vsub_list = list()\n",
    "    for n in visp_glu.subclass_label.unique():\n",
    "        ex = visp_glu[visp_glu[\"subclass_label\"] == n]\n",
    "        value = ex[\"vrest\"].count() > 5\n",
    "        if value == True:\n",
    "            vsub_list.append(n)\n",
    "        else:\n",
    "            pass\n",
    "    sub_list = list(set(rsub_list) & set(vsub_list))"
   ]
  },
  {
   "cell_type": "code",
   "execution_count": null,
   "metadata": {},
   "outputs": [],
   "source": [
    "rsub_list = list()\n",
    "rless_list = list()\n",
    "for n in rsp_glu.subclass_label.unique():\n",
    "    ex = rsp_glu[rsp_glu[\"subclass_label\"] == n]\n",
    "    value = ex[\"vrest\"].count() > 5\n",
    "    if value == True:\n",
    "        rsub_list.append(n)\n",
    "    else:\n",
    "        rless_list.append(n)\n",
    "\n",
    "vsub_list = list()\n",
    "vless_list = list()\n",
    "for n in visp_glu.subclass_label.unique():\n",
    "    ex = visp_glu[visp_glu[\"subclass_label\"] == n]\n",
    "    value = ex[\"vrest\"].count() > 5\n",
    "    if value == True:\n",
    "        vsub_list.append(n)\n",
    "    else:\n",
    "        vless_list.append(n)"
   ]
  },
  {
   "cell_type": "markdown",
   "metadata": {},
   "source": [
    "##### Heatmap: Set-up"
   ]
  },
  {
   "cell_type": "code",
   "execution_count": null,
   "metadata": {},
   "outputs": [],
   "source": [
    "def pct_change_set_up(df=heatmap_df):\n",
    "    \"\"\"Finds the percent change and adds column information\n",
    "    Paramters: \n",
    "        df: a pandas dataframe\n",
    "    Returns: \n",
    "        df: a pandas dataframe with ephys columns with percentage change\n",
    "    \"\"\"\n",
    "    ephys_list = [\"vrest\", \"ri\", \"sag\", \"tau\", \"upstroke_downstroke_ratio_long_square\", \"latency\", \"f_i_curve_slope\"]\n",
    "    for col_name in ephys_list:\n",
    "        if col_name == \"vrest\":\n",
    "            df[col_name] = ((df[col_name + \"_x\"] - df[col_name + \"_y\"]) / df[col_name + \"_y\"].abs()) * 100\n",
    "        else:\n",
    "            df[col_name] = ((df[col_name + \"_x\"] - df[col_name + \"_y\"]) / df[col_name + \"_y\"]) * 100\n",
    "        df.drop(columns=[col_name + \"_x\", col_name + \"_y\"], inplace=True)\n",
    "    return df"
   ]
  },
  {
   "cell_type": "code",
   "execution_count": 11,
   "metadata": {},
   "outputs": [],
   "source": [
    "sub5_list = [\"L2 IT RSP-ACA\", \"L5 NP CTX\", \"L5 ET CTX\"]"
   ]
  },
  {
   "cell_type": "code",
   "execution_count": 12,
   "metadata": {},
   "outputs": [],
   "source": [
    "r_df = rsp_glu[ephys_list]\n",
    "r_df = r_df.groupby([\"subclass_label\", \"region\"]).mean().reset_index()\n",
    "\n",
    "v_df = visp_glu[ephys_list]\n",
    "v_df = v_df.groupby([\"subclass_label\", \"region\"]).mean().reset_index()"
   ]
  },
  {
   "cell_type": "code",
   "execution_count": 13,
   "metadata": {},
   "outputs": [
    {
     "name": "stderr",
     "output_type": "stream",
     "text": [
      "INFO:functions.temp_funcs:Created a conditional dataframe based on subclass_label containing ['L2 IT RSP-ACA', 'L5 NP CTX', 'L5 ET CTX']\n"
     ]
    }
   ],
   "source": [
    "heat_df = pd.merge(left=r_df, right=v_df, on=\"subclass_label\")\n",
    "heatmap_df = create_cond_df(heat_df, \"subclass_label\", sub5_list)"
   ]
  },
  {
   "cell_type": "code",
   "execution_count": 15,
   "metadata": {},
   "outputs": [
    {
     "name": "stderr",
     "output_type": "stream",
     "text": [
      "INFO:numexpr.utils:NumExpr defaulting to 4 threads.\n",
      "C:\\Users\\kumar\\Anaconda3\\lib\\site-packages\\ipykernel_launcher.py:11: SettingWithCopyWarning: \n",
      "A value is trying to be set on a copy of a slice from a DataFrame.\n",
      "Try using .loc[row_indexer,col_indexer] = value instead\n",
      "\n",
      "See the caveats in the documentation: http://pandas.pydata.org/pandas-docs/stable/user_guide/indexing.html#returning-a-view-versus-a-copy\n",
      "  # This is added back by InteractiveShellApp.init_path()\n",
      "C:\\Users\\kumar\\Anaconda3\\lib\\site-packages\\pandas\\core\\frame.py:4102: SettingWithCopyWarning: \n",
      "A value is trying to be set on a copy of a slice from a DataFrame\n",
      "\n",
      "See the caveats in the documentation: http://pandas.pydata.org/pandas-docs/stable/user_guide/indexing.html#returning-a-view-versus-a-copy\n",
      "  errors=errors,\n",
      "C:\\Users\\kumar\\Anaconda3\\lib\\site-packages\\ipykernel_launcher.py:13: SettingWithCopyWarning: \n",
      "A value is trying to be set on a copy of a slice from a DataFrame.\n",
      "Try using .loc[row_indexer,col_indexer] = value instead\n",
      "\n",
      "See the caveats in the documentation: http://pandas.pydata.org/pandas-docs/stable/user_guide/indexing.html#returning-a-view-versus-a-copy\n",
      "  del sys.path[0]\n"
     ]
    }
   ],
   "source": [
    "heatmap_df = pct_change_set_up()"
   ]
  },
  {
   "cell_type": "code",
   "execution_count": null,
   "metadata": {},
   "outputs": [],
   "source": []
  },
  {
   "cell_type": "code",
   "execution_count": 16,
   "metadata": {},
   "outputs": [
    {
     "name": "stderr",
     "output_type": "stream",
     "text": [
      "C:\\Users\\kumar\\Anaconda3\\lib\\site-packages\\pandas\\core\\frame.py:4223: SettingWithCopyWarning: \n",
      "A value is trying to be set on a copy of a slice from a DataFrame\n",
      "\n",
      "See the caveats in the documentation: http://pandas.pydata.org/pandas-docs/stable/user_guide/indexing.html#returning-a-view-versus-a-copy\n",
      "  return super().rename(**kwargs)\n"
     ]
    },
    {
     "data": {
      "text/html": [
       "<div>\n",
       "<style scoped>\n",
       "    .dataframe tbody tr th:only-of-type {\n",
       "        vertical-align: middle;\n",
       "    }\n",
       "\n",
       "    .dataframe tbody tr th {\n",
       "        vertical-align: top;\n",
       "    }\n",
       "\n",
       "    .dataframe thead th {\n",
       "        text-align: right;\n",
       "    }\n",
       "</style>\n",
       "<table border=\"1\" class=\"dataframe\">\n",
       "  <thead>\n",
       "    <tr style=\"text-align: right;\">\n",
       "      <th>subclass_label</th>\n",
       "      <th>L2 IT RSP-ACA</th>\n",
       "      <th>L5 ET CTX</th>\n",
       "      <th>L5 NP CTX</th>\n",
       "    </tr>\n",
       "    <tr>\n",
       "      <th>ephys_features</th>\n",
       "      <th></th>\n",
       "      <th></th>\n",
       "      <th></th>\n",
       "    </tr>\n",
       "  </thead>\n",
       "  <tbody>\n",
       "    <tr>\n",
       "      <td>F-I Curve</td>\n",
       "      <td>22.910700</td>\n",
       "      <td>-4.622775</td>\n",
       "      <td>29.180182</td>\n",
       "    </tr>\n",
       "    <tr>\n",
       "      <td>Input Resistance(MΩ)</td>\n",
       "      <td>5.550257</td>\n",
       "      <td>-5.839944</td>\n",
       "      <td>-9.741004</td>\n",
       "    </tr>\n",
       "    <tr>\n",
       "      <td>LS AP up/downstoke</td>\n",
       "      <td>-29.046333</td>\n",
       "      <td>-0.056873</td>\n",
       "      <td>-9.873225</td>\n",
       "    </tr>\n",
       "    <tr>\n",
       "      <td>Latency</td>\n",
       "      <td>-27.883680</td>\n",
       "      <td>-3.877011</td>\n",
       "      <td>45.190701</td>\n",
       "    </tr>\n",
       "    <tr>\n",
       "      <td>Sag Fraction</td>\n",
       "      <td>47.123079</td>\n",
       "      <td>-3.580804</td>\n",
       "      <td>-54.659084</td>\n",
       "    </tr>\n",
       "    <tr>\n",
       "      <td>Vm(mV)</td>\n",
       "      <td>-0.049764</td>\n",
       "      <td>-2.180550</td>\n",
       "      <td>-11.100027</td>\n",
       "    </tr>\n",
       "    <tr>\n",
       "      <td>τ(s)</td>\n",
       "      <td>-16.608223</td>\n",
       "      <td>-10.481009</td>\n",
       "      <td>-15.276384</td>\n",
       "    </tr>\n",
       "  </tbody>\n",
       "</table>\n",
       "</div>"
      ],
      "text/plain": [
       "subclass_label        L2 IT RSP-ACA  L5 ET CTX  L5 NP CTX\n",
       "ephys_features                                           \n",
       "F-I Curve                 22.910700  -4.622775  29.180182\n",
       "Input Resistance(MΩ)       5.550257  -5.839944  -9.741004\n",
       "LS AP up/downstoke       -29.046333  -0.056873  -9.873225\n",
       "Latency                  -27.883680  -3.877011  45.190701\n",
       "Sag Fraction              47.123079  -3.580804 -54.659084\n",
       "Vm(mV)                    -0.049764  -2.180550 -11.100027\n",
       "τ(s)                     -16.608223 -10.481009 -15.276384"
      ]
     },
     "execution_count": 16,
     "metadata": {},
     "output_type": "execute_result"
    }
   ],
   "source": [
    "heatmap_df.drop(columns=[\"region_x\", \"region_y\"], inplace=True)\n",
    "\n",
    "heatmap_df.rename(columns={\"vrest\": \"Vm(mV)\", \n",
    "                           \"ri\": \"Input Resistance(MΩ)\",\n",
    "                           \"sag\" : \"Sag Fraction\",\n",
    "                           \"tau\": \"τ(s)\",\n",
    "                           \"upstroke_downstroke_ratio_long_square\": \"LS AP up/downstoke\",\n",
    "                           \"latency\" : \"Latency\",\n",
    "                           \"f_i_curve_slope\" : \"F-I Curve\"}, inplace=True)\n",
    "\n",
    "heatmap_df = heatmap_df.melt(id_vars=[\"subclass_label\"],\n",
    "                             value_vars=renamed_ephys_list,\n",
    "                             var_name=\"ephys_features\", value_name=\"%change from VISp\")\n",
    "\n",
    "heatmap_df = pd.pivot_table(heatmap_df, values='%change from VISp', index=[\"ephys_features\"], columns=\"subclass_label\")\n",
    "heatmap_df"
   ]
  },
  {
   "cell_type": "markdown",
   "metadata": {},
   "source": [
    "##### Heatmap: Plot"
   ]
  },
  {
   "cell_type": "code",
   "execution_count": 17,
   "metadata": {},
   "outputs": [],
   "source": [
    "def ephys_heatmap(df):\n",
    "    fig, ax = plt.subplots(figsize=(12,12))\n",
    "    ax = sns.heatmap(data=df, cmap=\"coolwarm\", center=0, robust=True, linewidths=0.5, square=True,\n",
    "                     cbar=True, cbar_kws={\"shrink\": 1})\n",
    "    plt.xlabel(\"Subclass\")\n",
    "    plt.ylabel(\"Electrophysiological Features\")\n",
    "\n",
    "    #Seaborn heatmap cutoffs, so to fix it use the code below\n",
    "    #bottom, top = ax.get_ylim()\n",
    "    #ax.set_ylim(bottom + 0.5, top - 0.5)\n",
    "#plt.savefig(plot_path + \"heatmap.jpeg\", bbox_inches=\"tight\")"
   ]
  },
  {
   "cell_type": "code",
   "execution_count": 18,
   "metadata": {},
   "outputs": [
    {
     "data": {
      "image/png": "[encoded data removed]",
      "text/plain": [
       "<Figure size 864x864 with 2 Axes>"
      ]
     },
     "metadata": {
      "needs_background": "light"
     },
     "output_type": "display_data"
    }
   ],
   "source": [
    "ephys_heatmap(heatmap_df)"
   ]
  },
  {
   "cell_type": "code",
   "execution_count": 20,
   "metadata": {},
   "outputs": [
    {
     "data": {
      "image/png": "[encoded data removed]",
      "text/plain": [
       "<Figure size 864x864 with 2 Axes>"
      ]
     },
     "metadata": {
      "needs_background": "light"
     },
     "output_type": "display_data"
    }
   ],
   "source": [
    "fig, ax = plt.subplots(figsize=(12,12))\n",
    "sns.heatmap(data=heatmap_df, cmap=\"coolwarm\", center=0, robust=True,\n",
    "            linewidths=0.5, square=True, cbar=True, cbar_kws={\"shrink\": 1})\n",
    "\n",
    "plt.title(\"Heatmap: %shift of RSP with respect to VISp\")\n",
    "plt.xlabel(\"Subclass\")\n",
    "plt.ylabel(\"Electrophysiological Features\")\n",
    "\n",
    "#Seaborn heatmap cutoffs, so to fix it use the code below\n",
    "#bottom, top = ax.get_ylim()\n",
    "#ax.set_ylim(bottom + 0.5, top - 0.5)\n",
    "\n",
    "cbar = ax.collections[0].colorbar\n",
    "cbar.set_ticks([-55, -40, -20, 0, 20, 40, 55])\n",
    "cbar.set_ticklabels([\"RSP Negative Shift from VISp\",\n",
    "                     \"-40%\",\n",
    "                     \"-20%\", \n",
    "                     \"Neutral Shift\", \n",
    "                     \"20%\", \n",
    "                     \"40%\", \n",
    "                     \"RSP Positive Shift from VISp\"])\n",
    "\n",
    "plt.savefig(plot_path + \"heatmap.jpeg\", bbox_inches=\"tight\")"
   ]
  },
  {
   "cell_type": "code",
   "execution_count": null,
   "metadata": {},
   "outputs": [],
   "source": []
  },
  {
   "cell_type": "code",
   "execution_count": null,
   "metadata": {},
   "outputs": [],
   "source": []
  }
 ],
 "metadata": {
  "kernelspec": {
   "display_name": "Python 3",
   "language": "python",
   "name": "python3"
  },
  "language_info": {
   "codemirror_mode": {
    "name": "ipython",
    "version": 3
   },
   "file_extension": ".py",
   "mimetype": "text/x-python",
   "name": "python",
   "nbconvert_exporter": "python",
   "pygments_lexer": "ipython3",
   "version": "3.7.4"
  }
 },
 "nbformat": 4,
 "nbformat_minor": 2
}
