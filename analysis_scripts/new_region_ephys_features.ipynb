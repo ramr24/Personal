{
 "cells": [
  {
   "cell_type": "markdown",
   "metadata": {},
   "source": [
    "##### Imports"
   ]
  },
  {
   "cell_type": "code",
   "execution_count": 1,
   "metadata": {},
   "outputs": [],
   "source": [
    "import pandas as pd\n",
    "import csv\n",
    "import logging\n",
    "from read_jem import read_jem_csv, sort_df, create_cond_df\n",
    "\n",
    "import seaborn as sns"
   ]
  },
  {
   "cell_type": "markdown",
   "metadata": {},
   "source": [
    "##### Logging Set-up"
   ]
  },
  {
   "cell_type": "code",
   "execution_count": 2,
   "metadata": {},
   "outputs": [],
   "source": [
    "logging.basicConfig(level=logging.INFO)\n",
    "logger = logging.getLogger(__name__)"
   ]
  },
  {
   "cell_type": "markdown",
   "metadata": {},
   "source": [
    "##### Miscellaneous Settings"
   ]
  },
  {
   "cell_type": "code",
   "execution_count": 3,
   "metadata": {},
   "outputs": [],
   "source": [
    "sns.set(context = \"notebook\", style = \"ticks\", font=\"verdana\", font_scale = 1.35)\n",
    "pd.set_option(\"display.max_colwidth\",150) #Expands the number of characters shown in the columns\n",
    "pd.set_option('display.max_columns', None)"
   ]
  },
  {
   "cell_type": "markdown",
   "metadata": {},
   "source": [
    "##### Logging Comments about this project"
   ]
  },
  {
   "cell_type": "code",
   "execution_count": 4,
   "metadata": {},
   "outputs": [
    {
     "name": "stderr",
     "output_type": "stream",
     "text": [
      "INFO:__main__:Purpose: Discovering similarities/differences in ephys features among new mouse regions\n",
      "            \n",
      "            Checklist:\n",
      "            1) Track RSPd, RSPv, SSp for coronal\n",
      "            2) Track ORB, CLA, MO for sagittal\n",
      "            3) Obtains ephys features for all the mouse regions\n",
      "            4) Plot similarities/differences\n"
     ]
    }
   ],
   "source": [
    "logger.info(\"\"\"Purpose: Discovering similarities/differences in ephys features among new mouse regions\n",
    "            \n",
    "            Checklist:\n",
    "            1) Track RSPd, RSPv, SSp for coronal\n",
    "            2) Track ORB, CLA, MO for sagittal\n",
    "            3) Obtains ephys features for all the mouse regions\n",
    "            4) Plot similarities/differences\"\"\")"
   ]
  },
  {
   "cell_type": "markdown",
   "metadata": {},
   "source": [
    "##### Using read_jem to import jem_metadata"
   ]
  },
  {
   "cell_type": "code",
   "execution_count": 5,
   "metadata": {},
   "outputs": [
    {
     "name": "stderr",
     "output_type": "stream",
     "text": [
      "INFO:read_jem:Read jem metadata csv (date: 2/04/2020)\n",
      "INFO:__main__:Imported jem_metadata.csv as a dataframe\n"
     ]
    }
   ],
   "source": [
    "#If you want to filter on the columns immediately\n",
    "#jem.tail(1490) # first recording 2020-01-03 10:40:30 -0800 and last recording of 2019: 2019-12-23 15:51:07\n",
    "\n",
    "jem = read_jem_csv()\n",
    "logger.info(\"Imported jem_metadata.csv as a dataframe\")"
   ]
  },
  {
   "cell_type": "markdown",
   "metadata": {},
   "source": [
    "##### Using sort_df to sort jem dataframe"
   ]
  },
  {
   "cell_type": "code",
   "execution_count": 6,
   "metadata": {},
   "outputs": [
    {
     "name": "stderr",
     "output_type": "stream",
     "text": [
      "INFO:read_jem:Date Range: 2020-01-03 to Present 2020\n",
      "INFO:read_jem:Dropped NaNs from index date column\n",
      "INFO:read_jem:Dropped NaNs from rigOperator and container column\n",
      "INFO:read_jem:Created dataframe with selected users in container column\n",
      "INFO:__main__:Sorted jem by date range: 1/03/2020 - present\n"
     ]
    }
   ],
   "source": [
    "jem_2020 = sort_df(jem)\n",
    "logger.info(\"Sorted jem by date range: 1/03/2020 - present\")"
   ]
  },
  {
   "cell_type": "code",
   "execution_count": 7,
   "metadata": {},
   "outputs": [
    {
     "data": {
      "text/html": [
       "<div>\n",
       "<style scoped>\n",
       "    .dataframe tbody tr th:only-of-type {\n",
       "        vertical-align: middle;\n",
       "    }\n",
       "\n",
       "    .dataframe tbody tr th {\n",
       "        vertical-align: top;\n",
       "    }\n",
       "\n",
       "    .dataframe thead th {\n",
       "        text-align: right;\n",
       "    }\n",
       "</style>\n",
       "<table border=\"1\" class=\"dataframe\">\n",
       "  <thead>\n",
       "    <tr style=\"text-align: right;\">\n",
       "      <th></th>\n",
       "      <th>organism_name</th>\n",
       "      <th>name</th>\n",
       "      <th>extraction.endPipetteR</th>\n",
       "      <th>extraction.postPatch</th>\n",
       "      <th>rigOperator</th>\n",
       "      <th>status</th>\n",
       "      <th>roi_major</th>\n",
       "      <th>roi_minor</th>\n",
       "      <th>container</th>\n",
       "    </tr>\n",
       "    <tr>\n",
       "      <th>date</th>\n",
       "      <th></th>\n",
       "      <th></th>\n",
       "      <th></th>\n",
       "      <th></th>\n",
       "      <th></th>\n",
       "      <th></th>\n",
       "      <th></th>\n",
       "      <th></th>\n",
       "      <th></th>\n",
       "    </tr>\n",
       "  </thead>\n",
       "  <tbody>\n",
       "    <tr>\n",
       "      <td>2020-01-03 10:40:30 -0800</td>\n",
       "      <td>Mouse</td>\n",
       "      <td>Gad2-IRES-Cre;Ai14-504539.10.01.01</td>\n",
       "      <td>1000.0</td>\n",
       "      <td>nucleus_present</td>\n",
       "      <td>jessicat</td>\n",
       "      <td>SUCCESS</td>\n",
       "      <td>RSPd</td>\n",
       "      <td>layer 2/3</td>\n",
       "      <td>PFS4_200103_701_A01</td>\n",
       "    </tr>\n",
       "    <tr>\n",
       "      <td>2020-01-03 13:00:07 -0800</td>\n",
       "      <td>Mouse</td>\n",
       "      <td>Pvalb-IRES-Cre;Ai14-504851.11.01.01</td>\n",
       "      <td>1000.0</td>\n",
       "      <td>nucleus_present</td>\n",
       "      <td>jessicat</td>\n",
       "      <td>SUCCESS</td>\n",
       "      <td>RSPd</td>\n",
       "      <td>layer 5</td>\n",
       "      <td>PFS4_200103_702_A01</td>\n",
       "    </tr>\n",
       "    <tr>\n",
       "      <td>2020-01-03 13:00:07 -0800</td>\n",
       "      <td>Mouse</td>\n",
       "      <td>Pvalb-IRES-Cre;Ai14-504851.11.01.02</td>\n",
       "      <td>2000.0</td>\n",
       "      <td>nucleus_present</td>\n",
       "      <td>jessicat</td>\n",
       "      <td>SUCCESS</td>\n",
       "      <td>RSPv</td>\n",
       "      <td>layer 2/3</td>\n",
       "      <td>PFS4_200103_703_A01</td>\n",
       "    </tr>\n",
       "    <tr>\n",
       "      <td>2020-01-06 13:12:44 -0800</td>\n",
       "      <td>Mouse</td>\n",
       "      <td>Vip-IRES-Cre;Ai14-504179.11.01.01</td>\n",
       "      <td>7.0</td>\n",
       "      <td>nucleus_present</td>\n",
       "      <td>jessicat</td>\n",
       "      <td>SUCCESS</td>\n",
       "      <td>RSPd</td>\n",
       "      <td>layer 5</td>\n",
       "      <td>PFS4_200106_701_A01</td>\n",
       "    </tr>\n",
       "    <tr>\n",
       "      <td>2020-01-06 13:12:44 -0800</td>\n",
       "      <td>Mouse</td>\n",
       "      <td>Vip-IRES-Cre;Ai14-504179.11.01.02</td>\n",
       "      <td>3000.0</td>\n",
       "      <td>nucleus_present</td>\n",
       "      <td>jessicat</td>\n",
       "      <td>SUCCESS</td>\n",
       "      <td>SSp</td>\n",
       "      <td>layer 5</td>\n",
       "      <td>PFS4_200106_702_A01</td>\n",
       "    </tr>\n",
       "    <tr>\n",
       "      <td>...</td>\n",
       "      <td>...</td>\n",
       "      <td>...</td>\n",
       "      <td>...</td>\n",
       "      <td>...</td>\n",
       "      <td>...</td>\n",
       "      <td>...</td>\n",
       "      <td>...</td>\n",
       "      <td>...</td>\n",
       "      <td>...</td>\n",
       "    </tr>\n",
       "    <tr>\n",
       "      <td>2020-02-04 14:13:07 -0800</td>\n",
       "      <td>Human</td>\n",
       "      <td>H20.03.303.11.08.01.04</td>\n",
       "      <td>1900.0</td>\n",
       "      <td>nucleus_present</td>\n",
       "      <td>ramr</td>\n",
       "      <td>SUCCESS</td>\n",
       "      <td>TCx</td>\n",
       "      <td>layer 1</td>\n",
       "      <td>PAS4_200204_457_A01</td>\n",
       "    </tr>\n",
       "    <tr>\n",
       "      <td>2020-02-04 14:13:07 -0800</td>\n",
       "      <td>Human</td>\n",
       "      <td>H20.03.303.11.08.01.06</td>\n",
       "      <td>110.0</td>\n",
       "      <td>nucleus_present</td>\n",
       "      <td>ramr</td>\n",
       "      <td>SUCCESS</td>\n",
       "      <td>TCx</td>\n",
       "      <td>layer 4</td>\n",
       "      <td>PAS4_200204_459_A01</td>\n",
       "    </tr>\n",
       "    <tr>\n",
       "      <td>2020-02-04 14:13:07 -0800</td>\n",
       "      <td>Human</td>\n",
       "      <td>H20.03.303.11.08.01.02</td>\n",
       "      <td>2000.0</td>\n",
       "      <td>nucleus_present</td>\n",
       "      <td>ramr</td>\n",
       "      <td>SUCCESS</td>\n",
       "      <td>TCx</td>\n",
       "      <td>layer 1</td>\n",
       "      <td>PAS4_200204_455_A01</td>\n",
       "    </tr>\n",
       "    <tr>\n",
       "      <td>2020-02-04 14:13:07 -0800</td>\n",
       "      <td>Human</td>\n",
       "      <td>H20.03.303.11.08.01.01</td>\n",
       "      <td>1400.0</td>\n",
       "      <td>nucleus_present</td>\n",
       "      <td>ramr</td>\n",
       "      <td>SUCCESS</td>\n",
       "      <td>TCx</td>\n",
       "      <td>layer 1</td>\n",
       "      <td>PAS4_200204_454_A01</td>\n",
       "    </tr>\n",
       "    <tr>\n",
       "      <td>2020-02-04 14:13:07 -0800</td>\n",
       "      <td>Human</td>\n",
       "      <td>H20.03.303.11.08.01.05</td>\n",
       "      <td>1000.0</td>\n",
       "      <td>nucleus_present</td>\n",
       "      <td>ramr</td>\n",
       "      <td>SUCCESS</td>\n",
       "      <td>TCx</td>\n",
       "      <td>layer 1</td>\n",
       "      <td>PAS4_200204_458_A01</td>\n",
       "    </tr>\n",
       "  </tbody>\n",
       "</table>\n",
       "<p>342 rows × 9 columns</p>\n",
       "</div>"
      ],
      "text/plain": [
       "                          organism_name                                 name  \\\n",
       "date                                                                           \n",
       "2020-01-03 10:40:30 -0800         Mouse   Gad2-IRES-Cre;Ai14-504539.10.01.01   \n",
       "2020-01-03 13:00:07 -0800         Mouse  Pvalb-IRES-Cre;Ai14-504851.11.01.01   \n",
       "2020-01-03 13:00:07 -0800         Mouse  Pvalb-IRES-Cre;Ai14-504851.11.01.02   \n",
       "2020-01-06 13:12:44 -0800         Mouse    Vip-IRES-Cre;Ai14-504179.11.01.01   \n",
       "2020-01-06 13:12:44 -0800         Mouse    Vip-IRES-Cre;Ai14-504179.11.01.02   \n",
       "...                                 ...                                  ...   \n",
       "2020-02-04 14:13:07 -0800         Human               H20.03.303.11.08.01.04   \n",
       "2020-02-04 14:13:07 -0800         Human               H20.03.303.11.08.01.06   \n",
       "2020-02-04 14:13:07 -0800         Human               H20.03.303.11.08.01.02   \n",
       "2020-02-04 14:13:07 -0800         Human               H20.03.303.11.08.01.01   \n",
       "2020-02-04 14:13:07 -0800         Human               H20.03.303.11.08.01.05   \n",
       "\n",
       "                           extraction.endPipetteR extraction.postPatch  \\\n",
       "date                                                                     \n",
       "2020-01-03 10:40:30 -0800                  1000.0      nucleus_present   \n",
       "2020-01-03 13:00:07 -0800                  1000.0      nucleus_present   \n",
       "2020-01-03 13:00:07 -0800                  2000.0      nucleus_present   \n",
       "2020-01-06 13:12:44 -0800                     7.0      nucleus_present   \n",
       "2020-01-06 13:12:44 -0800                  3000.0      nucleus_present   \n",
       "...                                           ...                  ...   \n",
       "2020-02-04 14:13:07 -0800                  1900.0      nucleus_present   \n",
       "2020-02-04 14:13:07 -0800                   110.0      nucleus_present   \n",
       "2020-02-04 14:13:07 -0800                  2000.0      nucleus_present   \n",
       "2020-02-04 14:13:07 -0800                  1400.0      nucleus_present   \n",
       "2020-02-04 14:13:07 -0800                  1000.0      nucleus_present   \n",
       "\n",
       "                          rigOperator   status roi_major  roi_minor  \\\n",
       "date                                                                  \n",
       "2020-01-03 10:40:30 -0800    jessicat  SUCCESS      RSPd  layer 2/3   \n",
       "2020-01-03 13:00:07 -0800    jessicat  SUCCESS      RSPd    layer 5   \n",
       "2020-01-03 13:00:07 -0800    jessicat  SUCCESS      RSPv  layer 2/3   \n",
       "2020-01-06 13:12:44 -0800    jessicat  SUCCESS      RSPd    layer 5   \n",
       "2020-01-06 13:12:44 -0800    jessicat  SUCCESS       SSp    layer 5   \n",
       "...                               ...      ...       ...        ...   \n",
       "2020-02-04 14:13:07 -0800        ramr  SUCCESS       TCx    layer 1   \n",
       "2020-02-04 14:13:07 -0800        ramr  SUCCESS       TCx    layer 4   \n",
       "2020-02-04 14:13:07 -0800        ramr  SUCCESS       TCx    layer 1   \n",
       "2020-02-04 14:13:07 -0800        ramr  SUCCESS       TCx    layer 1   \n",
       "2020-02-04 14:13:07 -0800        ramr  SUCCESS       TCx    layer 1   \n",
       "\n",
       "                                     container  \n",
       "date                                            \n",
       "2020-01-03 10:40:30 -0800  PFS4_200103_701_A01  \n",
       "2020-01-03 13:00:07 -0800  PFS4_200103_702_A01  \n",
       "2020-01-03 13:00:07 -0800  PFS4_200103_703_A01  \n",
       "2020-01-06 13:12:44 -0800  PFS4_200106_701_A01  \n",
       "2020-01-06 13:12:44 -0800  PFS4_200106_702_A01  \n",
       "...                                        ...  \n",
       "2020-02-04 14:13:07 -0800  PAS4_200204_457_A01  \n",
       "2020-02-04 14:13:07 -0800  PAS4_200204_459_A01  \n",
       "2020-02-04 14:13:07 -0800  PAS4_200204_455_A01  \n",
       "2020-02-04 14:13:07 -0800  PAS4_200204_454_A01  \n",
       "2020-02-04 14:13:07 -0800  PAS4_200204_458_A01  \n",
       "\n",
       "[342 rows x 9 columns]"
      ]
     },
     "execution_count": 7,
     "metadata": {},
     "output_type": "execute_result"
    }
   ],
   "source": [
    "jem_2020"
   ]
  },
  {
   "cell_type": "markdown",
   "metadata": {},
   "source": [
    "##### Creating new_region: coronal_region, sagittal_region, other_region and v1_region"
   ]
  },
  {
   "cell_type": "code",
   "execution_count": null,
   "metadata": {},
   "outputs": [],
   "source": [
    "create"
   ]
  },
  {
   "cell_type": "code",
   "execution_count": 8,
   "metadata": {},
   "outputs": [
    {
     "name": "stderr",
     "output_type": "stream",
     "text": [
      "INFO:__main__:Mouse count: 292\n",
      "INFO:__main__:Human count: 50\n"
     ]
    }
   ],
   "source": [
    "mjem_2020 = jem_2020[jem_2020.organism_name == \"Mouse\"]\n",
    "logger.info(\"Mouse count: %s\", mjem_2020.organism_name.count())\n",
    "hjem_2020 = jem_2020[jem_2020.organism_name == \"Human\"]\n",
    "logger.info(\"Human count: %s\", hjem_2020.organism_name.count())"
   ]
  },
  {
   "cell_type": "code",
   "execution_count": null,
   "metadata": {},
   "outputs": [],
   "source": [
    "mjem_2020[\"new_region\"] = \"default_value\"\n",
    "logger.info(\"Created a new column(new_region) with default_value\")\n",
    "\n",
    "c_region = [\"RSPd\", \"RSPv\", \"SSp\"] \n",
    "s_region = [\"MOs\", \"MOp\", \"ORB\", \"CTXsp\"]\n",
    "o_region = [\"TCx\", \"HY\"]\n",
    "v_region = [\"VISp\"]\n",
    "\n",
    "mjem_2020[\"new_region\"][mjem_2020.roi_major.str.contains(\"|\".join(c_region))] = \"coronal_region\"\n",
    "mjem_2020[\"new_region\"][mjem_2020.roi_major.str.contains(\"|\".join(s_region))] = \"sagittal_region\"\n",
    "mjem_2020[\"new_region\"][mjem_2020.roi_major.str.contains(\"|\".join(o_region))] = \"other_region\"\n",
    "mjem_2020[\"new_region\"][mjem_2020.roi_major.str.contains(\"|\".join(v_region))] = \"v1_region\"\n",
    "logger.info(\"Filled in new_region with corresponding region\")\n",
    "\n",
    "cor = mjem_2020[mjem_2020[\"new_region\"] == \"coronal_region\"] \n",
    "sag = mjem_2020[mjem_2020[\"new_region\"] == \"sagittal_region\"]\n",
    "other = mjem_2020[mjem_2020[\"new_region\"] == \"other_region\"]\n",
    "v1 = mjem_2020[mjem_2020[\"new_region\"] == \"v1_region\"]\n",
    "logger.info(\"Created region pandas dataframes\")\n",
    "\n",
    "logger.info(\"Coronal Region count: %s\", cor.organism_name.count())\n",
    "logger.info(\"Sagittal Region count: %s\", sag.organism_name.count())\n",
    "logger.info(\"Other Region count: %s\", other.organism_name.count())\n",
    "logger.info(\"V1 Region count: %s\", v1.organism_name.count())"
   ]
  },
  {
   "cell_type": "code",
   "execution_count": null,
   "metadata": {},
   "outputs": [],
   "source": [
    "jem_2020"
   ]
  },
  {
   "cell_type": "markdown",
   "metadata": {},
   "source": [
    "##### Creating Time columns for exp_time, rec_time, ext_time, ret_time "
   ]
  },
  {
   "cell_type": "code",
   "execution_count": null,
   "metadata": {},
   "outputs": [],
   "source": [
    "#jem[\"exp_time\"] = pd.to_datetime(jem[\"extraction.timeRetractionEnd\"]) - pd.to_datetime(jem[\"recording.timeStart\"])\n",
    "#jem[\"rec_time\"] = pd.to_datetime(jem[\"extraction.timeRetractionEnd\"]) - pd.to_datetime(jem[\"recording.timeWholeCellStart\"])\n",
    "#jem[\"ext_time\"] = pd.to_datetime(jem[\"extraction.timeExtractionEnd\"]) - pd.to_datetime(jem[\"extraction.timeExtractionStart\"])\n",
    "#jem[\"ret_time\"] = pd.to_datetime(jem[\"extraction.timeRetractionEnd\"]) - pd.to_datetime(jem[\"extraction.timeExtractionEnd\"])"
   ]
  },
  {
   "cell_type": "markdown",
   "metadata": {},
   "source": [
    "##### Creating post_patch_outcomes based on end seal and post Patch"
   ]
  },
  {
   "cell_type": "code",
   "execution_count": null,
   "metadata": {},
   "outputs": [],
   "source": [
    "jem_2020[\"post_patch_outcome\"] = \"default_value\""
   ]
  },
  {
   "cell_type": "code",
   "execution_count": null,
   "metadata": {},
   "outputs": [],
   "source": [
    "jem_2020"
   ]
  },
  {
   "cell_type": "code",
   "execution_count": null,
   "metadata": {},
   "outputs": [],
   "source": [
    "jem_2020.rigOperator.value_counts()"
   ]
  },
  {
   "cell_type": "code",
   "execution_count": null,
   "metadata": {},
   "outputs": [],
   "source": []
  },
  {
   "cell_type": "code",
   "execution_count": null,
   "metadata": {},
   "outputs": [],
   "source": []
  },
  {
   "cell_type": "markdown",
   "metadata": {},
   "source": [
    "##### EPhys"
   ]
  },
  {
   "cell_type": "code",
   "execution_count": null,
   "metadata": {},
   "outputs": [],
   "source": []
  },
  {
   "cell_type": "code",
   "execution_count": null,
   "metadata": {},
   "outputs": [],
   "source": []
  },
  {
   "cell_type": "code",
   "execution_count": null,
   "metadata": {},
   "outputs": [],
   "source": []
  },
  {
   "cell_type": "code",
   "execution_count": null,
   "metadata": {},
   "outputs": [],
   "source": []
  },
  {
   "cell_type": "code",
   "execution_count": null,
   "metadata": {},
   "outputs": [],
   "source": []
  },
  {
   "cell_type": "markdown",
   "metadata": {},
   "source": [
    "##### File Paths"
   ]
  },
  {
   "cell_type": "code",
   "execution_count": null,
   "metadata": {},
   "outputs": [],
   "source": [
    "csv_path = \"C:/Users/ramr/Documents/Github/analysis_projects/csv/\"\n",
    "excel_path = \"C:/Users/ramr/Documents/Github/analysis_projects/excel/\""
   ]
  },
  {
   "cell_type": "markdown",
   "metadata": {},
   "source": [
    "##### Writing to csv_file"
   ]
  },
  {
   "cell_type": "code",
   "execution_count": null,
   "metadata": {},
   "outputs": [],
   "source": [
    "jem.to_csv(csv_path + \"jem.csv\")\n",
    "jem_2020.to_csv(csv_path + \"jem_2020.csv\")"
   ]
  },
  {
   "cell_type": "markdown",
   "metadata": {},
   "source": [
    "##### Writing to excel_file"
   ]
  },
  {
   "cell_type": "code",
   "execution_count": null,
   "metadata": {},
   "outputs": [],
   "source": [
    "writer = pd.ExcelWriter(excel_path + \"new_region.xlsx\")\n",
    "jem.to_excel(writer, \"jem_metadata\", freeze_panes=(1,0))\n",
    "jem_2020.to_excel(writer, \"jem_2020\", freeze_panes=(1,0))\n",
    "cor.to_excel(writer, \"coronal_region\", freeze_panes=(1,0))\n",
    "sag.to_excel(writer, \"sagittal_region\", freeze_panes=(1,0))\n",
    "other.to_excel(writer, \"other_region\", freeze_panes=(1,0))\n",
    "v1.to_excel(writer, \"v1_region\", freeze_panes=(1,0))\n",
    "writer.save()"
   ]
  },
  {
   "cell_type": "code",
   "execution_count": null,
   "metadata": {},
   "outputs": [],
   "source": []
  },
  {
   "cell_type": "markdown",
   "metadata": {},
   "source": [
    "##### Figure out how to make this into useable function"
   ]
  },
  {
   "cell_type": "code",
   "execution_count": null,
   "metadata": {},
   "outputs": [],
   "source": [
    "def create_new_column(new_col, cond_col, region, region_name):\n",
    "    \"\"\"\n",
    "    Creating new column\n",
    "    \n",
    "    Args:\n",
    "        as\n",
    "    Returns:\n",
    "        None\n",
    "    \"\"\"\n",
    "    jem_2020[new_col] = \"default_value\"\n",
    "    \n",
    "    c_region = [\"RSPd\", \"RSPv\", \"SSp\"] \n",
    "    s_region = [\"MOs\", \"MOp\", \"ORB\", \"CTXsp\"]\n",
    "    o_region = [\"TCx\", \"HY\"]\n",
    "    v_region = [\"VISp\"]\n",
    "    \n",
    "    jem_2020[new_col][jem_2020[cond_col].str.contains(\"|\".join(region))] = region_name\n",
    "    \n",
    "#create_new_column(\"new_region\", \"roi_major\", c_region, \"coronal_region\")\n",
    "#create_new_column(\"new_region\", \"roi_major\", s_region, \"sagittal_region\")\n",
    "#create_new_column(\"new_region\", \"roi_major\", o_region, \"other_region\")\n",
    "#create_new_column(\"new_region\", \"roi_major\", v_region, \"v1_region\")"
   ]
  },
  {
   "cell_type": "code",
   "execution_count": null,
   "metadata": {},
   "outputs": [],
   "source": []
  },
  {
   "cell_type": "code",
   "execution_count": null,
   "metadata": {},
   "outputs": [],
   "source": []
  }
 ],
 "metadata": {
  "kernelspec": {
   "display_name": "Python 3",
   "language": "python",
   "name": "python3"
  },
  "language_info": {
   "codemirror_mode": {
    "name": "ipython",
    "version": 3
   },
   "file_extension": ".py",
   "mimetype": "text/x-python",
   "name": "python",
   "nbconvert_exporter": "python",
   "pygments_lexer": "ipython3",
   "version": "3.7.4"
  }
 },
 "nbformat": 4,
 "nbformat_minor": 2
}
