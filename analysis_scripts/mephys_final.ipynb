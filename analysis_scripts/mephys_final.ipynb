{
 "cells": [
  {
   "cell_type": "markdown",
   "metadata": {},
   "source": [
    "##### Imports "
   ]
  },
  {
   "cell_type": "code",
   "execution_count": null,
   "metadata": {},
   "outputs": [],
   "source": [
    "import pandas as pd\n",
    "import csv\n",
    "import logging\n",
    "from functions_py.mephys_funcs import read_file, merge_dataframes, filter_date, drop_cols, drop_nans, \\\n",
    "create_cond_df, create_container_df\n",
    "\n",
    "import seaborn as sns\n",
    "import matplotlib.pyplot as plt\n",
    "sns.set(context = \"notebook\", style = \"ticks\", font=\"verdana\") # font_scale = 1.35)"
   ]
  },
  {
   "cell_type": "markdown",
   "metadata": {},
   "source": [
    "##### Pandas Display Settings"
   ]
  },
  {
   "cell_type": "code",
   "execution_count": null,
   "metadata": {},
   "outputs": [],
   "source": [
    "pd.set_option(\"display.max_colwidth\",150) #Expands the number of characters shown in the columns\n",
    "pd.set_option('display.max_columns', None)"
   ]
  },
  {
   "cell_type": "markdown",
   "metadata": {},
   "source": [
    "##### Lists/Paths"
   ]
  },
  {
   "cell_type": "code",
   "execution_count": null,
   "metadata": {},
   "outputs": [],
   "source": [
    "fields_jem = [\"date\", \"organism_name\", \"name\", \"container\", \"rigOperator\",\n",
    "              \"status\", \"roi_major\", \"roi_minor\",\n",
    "              \"extraction.postPatch\", \"extraction.endPipetteR\"]\n",
    "fields_ephys = [\"b'name'\", \"b'patched_cell_container'\", \"b'vrest'\", \"b'ri'\", \"b'sag'\", \n",
    "                \"b'tau'\", \"b'upstroke_downstroke_ratio_long_square'\", \n",
    "                \"b'latency'\", \"b'f_i_curve_slope'\"]\n",
    "fields_shiny = [\"cell_name_label\", \"sample_id\",\n",
    "                \"subclass_label\", \"topLeaf_label\", \"broad_class_label\",\n",
    "                \"Tree_call_label\", \"cell_specimen_project_label\", \n",
    "                \"marker_sum_norm_label\", \"Norm_Marker_Sum.0.4_label\", \"Tree_call_label\"]"
   ]
  },
  {
   "cell_type": "code",
   "execution_count": null,
   "metadata": {},
   "outputs": [],
   "source": [
    "#path_jem = \"Z:/Patch-Seq/compiled-jem-data/jem_metadata.csv\"\n",
    "#path_shiny = \"//allen/programs/celltypes/workgroups/rnaseqanalysis/shiny/patch_seq/star/mouse_patchseq_VISp_current/mapping.df.with.bp.40.lastmap.csv\"\n",
    "\n",
    "path_jem = \"C:/Users/ramr/Documents/Github/analysis_projects/csv/jem_metadata.csv\"\n",
    "path_ephys = \"C:/Users/ramr/Documents/Github/analysis_projects/csv/ephys_mIVSCC_MET.csv\"\n",
    "path_shiny = \"C:/Users/ramr/Documents/Github/analysis_projects/csv/Mouse_VISp_ctx_shiny.csv\""
   ]
  },
  {
   "cell_type": "code",
   "execution_count": null,
   "metadata": {},
   "outputs": [],
   "source": [
    "drop_cols_list = [\"b'name'\", \"b'patched_cell_container'\", \"cell_name_label\", \"sample_id\"]\n",
    "drop_nans_list = [\"date\", \"name\", \"rigOperator\"]"
   ]
  },
  {
   "cell_type": "code",
   "execution_count": null,
   "metadata": {},
   "outputs": [],
   "source": [
    "r_users = [\"kristenh\", \"lindsayn\", \"ramr\", \"katherineb\", \"jessicat\"]"
   ]
  },
  {
   "cell_type": "code",
   "execution_count": null,
   "metadata": {},
   "outputs": [],
   "source": [
    "b_colors={\"RSP\": \"#a1d99b\", \"VISp\": \"#9ecae1\"}\n",
    "s_colors={\"RSP\": \"#41ab5d\", \"VISp\": \"#4292c6\"}"
   ]
  },
  {
   "cell_type": "markdown",
   "metadata": {},
   "source": [
    "##### Main"
   ]
  },
  {
   "cell_type": "code",
   "execution_count": null,
   "metadata": {},
   "outputs": [],
   "source": [
    "jem = read_file(path_jem, fields_jem)\n",
    "ephys = read_file(path_ephys, fields_ephys)\n",
    "shiny = read_file(path_shiny, fields_shiny)"
   ]
  },
  {
   "cell_type": "code",
   "execution_count": null,
   "metadata": {},
   "outputs": [],
   "source": []
  },
  {
   "cell_type": "code",
   "execution_count": null,
   "metadata": {},
   "outputs": [],
   "source": []
  },
  {
   "cell_type": "code",
   "execution_count": null,
   "metadata": {},
   "outputs": [],
   "source": []
  },
  {
   "cell_type": "code",
   "execution_count": null,
   "metadata": {},
   "outputs": [],
   "source": []
  },
  {
   "cell_type": "code",
   "execution_count": null,
   "metadata": {},
   "outputs": [],
   "source": []
  },
  {
   "cell_type": "code",
   "execution_count": null,
   "metadata": {},
   "outputs": [],
   "source": []
  },
  {
   "cell_type": "code",
   "execution_count": null,
   "metadata": {},
   "outputs": [],
   "source": []
  }
 ],
 "metadata": {
  "kernelspec": {
   "display_name": "Python 3",
   "language": "python",
   "name": "python3"
  },
  "language_info": {
   "codemirror_mode": {
    "name": "ipython",
    "version": 3
   },
   "file_extension": ".py",
   "mimetype": "text/x-python",
   "name": "python",
   "nbconvert_exporter": "python",
   "pygments_lexer": "ipython3",
   "version": "3.6.5"
  }
 },
 "nbformat": 4,
 "nbformat_minor": 2
}
