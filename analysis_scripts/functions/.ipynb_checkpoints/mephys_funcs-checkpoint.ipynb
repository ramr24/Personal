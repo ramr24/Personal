{
 "cells": [
  {
   "cell_type": "markdown",
   "metadata": {},
   "source": [
    "##### Imports"
   ]
  },
  {
   "cell_type": "code",
   "execution_count": 1,
   "metadata": {},
   "outputs": [],
   "source": [
    "import pandas as pd\n",
    "import logging"
   ]
  },
  {
   "cell_type": "markdown",
   "metadata": {},
   "source": [
    "##### Logging Set-up"
   ]
  },
  {
   "cell_type": "code",
   "execution_count": 2,
   "metadata": {},
   "outputs": [],
   "source": [
    "logging.basicConfig(level=logging.INFO)\n",
    "LOGGER = logging.getLogger(__name__)"
   ]
  },
  {
   "cell_type": "markdown",
   "metadata": {},
   "source": [
    "##### Read Function"
   ]
  },
  {
   "cell_type": "code",
   "execution_count": 3,
   "metadata": {},
   "outputs": [],
   "source": [
    "def read_file(path, fields=None):\n",
    "    \"\"\"Reads file in as pandas dataframe by using pd.read_csv\n",
    "    Args:\n",
    "        path: path of file location\n",
    "    Return:\n",
    "        df: a pandas dataframe\n",
    "    \"\"\"\n",
    "    global df\n",
    "    df = pd.read_csv(path, usecols=fields)\n",
    "    LOGGER.info(\"Read file in as a pandas dataframe\")\n",
    "    return df"
   ]
  },
  {
   "cell_type": "markdown",
   "metadata": {},
   "source": [
    "##### Merge Function"
   ]
  },
  {
   "cell_type": "code",
   "execution_count": 4,
   "metadata": {},
   "outputs": [],
   "source": [
    "def merge_dataframes(left_df, right_df, left_col, right_col, join_how):\n",
    "    \"\"\"Merges two dataframes together into one dataframe\n",
    "    Args:\n",
    "        left_df: a pandas dataframe on the left\n",
    "        right_df: a pandas dataframe on the right\n",
    "        left_col: a column from the left dataframe\n",
    "        right_col: a column from the right dataframe\n",
    "    Return:\n",
    "        merge_df: a merged pandas dataframe\n",
    "    \"\"\"\n",
    "    merge_df = pd.merge(left = left_df,\n",
    "                        right = right_df,\n",
    "                        left_on = left_col,\n",
    "                        right_on = right_col, \n",
    "                        how = join_how)\n",
    "    LOGGER.info(\"Merged two pandas dataframe into one dataframe\")\n",
    "    return merge_df"
   ]
  },
  {
   "cell_type": "markdown",
   "metadata": {},
   "source": [
    "### Drop Functions"
   ]
  },
  {
   "cell_type": "markdown",
   "metadata": {},
   "source": [
    "##### Drop columns Function "
   ]
  },
  {
   "cell_type": "code",
   "execution_count": 5,
   "metadata": {},
   "outputs": [],
   "source": [
    "def drop_cols(df, drop_col):\n",
    "    \"\"\"Drop unnessary columns from dataframe\n",
    "    Args:\n",
    "        df: a pandas dataframe\n",
    "        drop_col(lst): column names to drop from dataframe\n",
    "    Return:\n",
    "        df: a pandas dataframe without certain columns\n",
    "    \"\"\"\n",
    "    LOGGER.info(\"Dropped columns: %s\", drop_col)\n",
    "    df.drop(columns=drop_col, inplace=True)\n",
    "    return df"
   ]
  },
  {
   "cell_type": "markdown",
   "metadata": {},
   "source": [
    "##### Drop NANs Function"
   ]
  },
  {
   "cell_type": "code",
   "execution_count": 6,
   "metadata": {},
   "outputs": [],
   "source": [
    "def drop_nans(df, drop_na_col):\n",
    "    \"\"\"Drop Nans from selected columns\n",
    "    Args:\n",
    "        df: a pandas dataframe\n",
    "        drop_na_col(lst): column names to drop NaNs from \n",
    "    Return:\n",
    "        df: a pandas dataframe without NaNs in certain columns\n",
    "    \"\"\"\n",
    "    LOGGER.info(\"Dropped NaNs from these columns: %s\", drop_na_col)\n",
    "    df.dropna(subset=drop_na_col, inplace=True)\n",
    "    return df"
   ]
  },
  {
   "cell_type": "markdown",
   "metadata": {},
   "source": [
    "### Filter Functions "
   ]
  },
  {
   "cell_type": "markdown",
   "metadata": {},
   "source": [
    "##### Date Range Function"
   ]
  },
  {
   "cell_type": "code",
   "execution_count": 7,
   "metadata": {},
   "outputs": [],
   "source": [
    "def filter_date_range(df, date_col=\"date\"):\n",
    "    \"\"\"Filters and sorts the date column by specific date range in the dataframe.\n",
    "    Args:\n",
    "        df: a pandas dataframe\n",
    "        date_col(string): column name with date information\n",
    "    Returns:\n",
    "        df: a pandas dataframe with a filtered date range\n",
    "    \"\"\"\n",
    "    start_date = \"2019-01-01\"\n",
    "    end_date = \"2020-12-31\"\n",
    "\n",
    "    mask = (merge_all[date_col] > start_date) & (merge_all[date_col] <= end_date)\n",
    "    df = df.loc[mask]\n",
    "    df.sort_values([date_col], inplace=True)\n",
    "    LOGGER.info(\"Filtered dataframe to only display 2019-2020 data\")\n",
    "    return df"
   ]
  },
  {
   "cell_type": "markdown",
   "metadata": {},
   "source": [
    "##### Filter dataframe based on single column Function"
   ]
  },
  {
   "cell_type": "code",
   "execution_count": 8,
   "metadata": {},
   "outputs": [],
   "source": [
    "def filter_df(df, fil_col, fil_val):\n",
    "    \"\"\"Creates a dataframe based on values from a single column\n",
    "     Args:\n",
    "        df: a pandas dataframe\n",
    "        fil_col(string): column name from dataframe\n",
    "        fil_val(string): values to restrict dataframe by\n",
    "    Return:\n",
    "        df: a pandas dataframe created by values from a single column\n",
    "    \"\"\"\n",
    "    df = df[df[fil_col] == fil_val]\n",
    "    return df"
   ]
  },
  {
   "cell_type": "markdown",
   "metadata": {},
   "source": [
    "### Create Functions"
   ]
  },
  {
   "cell_type": "markdown",
   "metadata": {},
   "source": [
    "##### Create \"P#\" container label column Function"
   ]
  },
  {
   "cell_type": "code",
   "execution_count": 9,
   "metadata": {},
   "outputs": [],
   "source": [
    "def create_container_df(df, container_col):\n",
    "    \"\"\"Creates container label based on original container column\n",
    "    Args:\n",
    "        df: a pandas dataframe\n",
    "        container_col: a column name with the container label information\n",
    "    Return:\n",
    "        df: a pandas dataframe with a new column with container labels\n",
    "    \"\"\"\n",
    "    df[\"container_label\"] = df[container_col].str[0:2]\n",
    "    LOGGER.info(\"Created a container_label column to show(ex.'PA')\")\n",
    "    return df"
   ]
  },
  {
   "cell_type": "markdown",
   "metadata": {},
   "source": [
    "##### Create dataframe by a conditional value Function"
   ]
  },
  {
   "cell_type": "code",
   "execution_count": 10,
   "metadata": {},
   "outputs": [],
   "source": [
    "def create_cond_df(df, col, val):\n",
    "    \"\"\"Creates a dataframe based on values from a single column\n",
    "     Args:\n",
    "        df: a pandas dataframe\n",
    "        col(string): column name from dataframe\n",
    "        val(list): values to restrict dataframe by\n",
    "    Return:\n",
    "        df: a pandas dataframe created by values from a single column\n",
    "    \"\"\"\n",
    "    df = df[df[col].str.contains(\"|\".join(val))]\n",
    "    LOGGER.info(\"Created a conditional dataframe based on a list of values\")\n",
    "    return df"
   ]
  },
  {
   "cell_type": "code",
   "execution_count": null,
   "metadata": {},
   "outputs": [],
   "source": []
  }
 ],
 "metadata": {
  "kernelspec": {
   "display_name": "Python 3",
   "language": "python",
   "name": "python3"
  },
  "language_info": {
   "codemirror_mode": {
    "name": "ipython",
    "version": 3
   },
   "file_extension": ".py",
   "mimetype": "text/x-python",
   "name": "python",
   "nbconvert_exporter": "python",
   "pygments_lexer": "ipython3",
   "version": "3.6.5"
  }
 },
 "nbformat": 4,
 "nbformat_minor": 2
}
