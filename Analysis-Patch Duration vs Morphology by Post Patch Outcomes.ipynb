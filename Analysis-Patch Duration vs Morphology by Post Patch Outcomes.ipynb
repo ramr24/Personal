{
 "cells": [
  {
   "cell_type": "markdown",
   "metadata": {},
   "source": [
    "# Patch Duration vs. Morphological Calls(63x) per Post Patch Outcomes"
   ]
  },
  {
   "cell_type": "markdown",
   "metadata": {},
   "source": [
    "##### Date: 4/26/18 Updated 63x.csv, shiny.csv & patch_seq_log_mouse.csv"
   ]
  },
  {
   "cell_type": "code",
   "execution_count": 1,
   "metadata": {},
   "outputs": [],
   "source": [
    "import csv\n",
    "import pandas as pd\n",
    "import numpy as np\n",
    "import seaborn as sns\n",
    "import matplotlib.pyplot as plt\n",
    "from datetime import datetime\n",
    "%matplotlib inline\n",
    "\n",
    "from IPython.display import display #Found this to display all columns in a table\n",
    "\n",
    "sns.set_style('whitegrid') #Makes a white backround with gray horizontal gridmarks at y-values\n",
    "sns.set_context('notebook')"
   ]
  },
  {
   "cell_type": "markdown",
   "metadata": {},
   "source": [
    "##### postpatch_func.py by Rusty from Stash "
   ]
  },
  {
   "cell_type": "code",
   "execution_count": 2,
   "metadata": {},
   "outputs": [],
   "source": [
    "def nucleated(x):\n",
    "    nuc_high_seal = x[(x['anno.postPatch_label'] == 'Nucleated') | \n",
    "                      (((x['anno.postPatch_label'] == 'nucleus_visible') | \n",
    "                      (x['anno.postPatch_label'] == 'nucleus_present')) & \n",
    "                      (x['anno.endPipetteR_label'] >= 500))]\n",
    "    return nuc_high_seal\n",
    "\n",
    "def partial_nucleated(y):\n",
    "    nuc_low_seal = y[(y['anno.postPatch_label'] == 'Partial-Nucleus') | \n",
    "                     (((y['anno.postPatch_label'] == 'nucleus_present') | \n",
    "                     (y['anno.postPatch_label'] == 'nucleus_visible')) & \n",
    "                     (y[\"anno.endPipetteR_label\"] <= 499))]\n",
    "    return nuc_low_seal\n",
    "\n",
    "def outside_out(z):\n",
    "    no_high_seal = z[(z['anno.postPatch_label'] == 'Outside-Out') | \n",
    "                     (((z['anno.postPatch_label'] == 'nucleus_absent') | \n",
    "                     (z['anno.postPatch_label'] == 'no_nucleus_visible')) & \n",
    "                     (z['anno.endPipetteR_label'] >= 500))]\n",
    "    return no_high_seal\n",
    "\n",
    "def no_seal(w): \n",
    "    no_low_seal = w[(w['anno.postPatch_label'] == 'No-Seal') | \n",
    "                    (((w['anno.postPatch_label'] == 'nucleus_absent') | \n",
    "                    (w['anno.postPatch_label'] == 'no_nucleus_visible')) & \n",
    "                    (w['anno.endPipetteR_label'] <= 499))]\n",
    "    return no_low_seal\n",
    "    \n",
    "def entire_cell(v):\n",
    "    entire = v[(v['anno.postPatch_label'] == 'Entire-Cell') | \n",
    "               (v['anno.postPatch_label'] == 'entire_cell')]\n",
    "    return entire\n",
    "\n",
    "#variable['post_patch'] = 'Term'\n",
    "#Term is an output displayed in the Post_Patch column\n",
    "\n",
    "def reclassify(df):\n",
    "    nu = nucleated(df)\n",
    "    nu['post_patch'] = 'Nuc-high seal' \n",
    "    oo = outside_out(df)\n",
    "    oo['post_patch'] = 'No-high seal'\n",
    "    pn = partial_nucleated(df)\n",
    "    pn['post_patch'] = 'Nuc-low seal'\n",
    "    ns = no_seal(df)\n",
    "    ns['post_patch'] = 'No-low seal'\n",
    "    ec = entire_cell(df)\n",
    "    ec['post_patch'] = 'Entire cell'\n",
    "    return  nu, oo, pn, ns, ec\n",
    "\n",
    "def concat_df(a, b, c, d, e):\n",
    "    frames = (a, b, c, d, e)\n",
    "    df = pd.concat(frames)\n",
    "    return df\n",
    "\n",
    "def postpatch_reclass(df):\n",
    "    return concat_df(*reclassify(df))\n",
    "\n",
    "#final_df = postpatch_reclass(final_df)"
   ]
  },
  {
   "cell_type": "markdown",
   "metadata": {},
   "source": [
    "##### Reads 63x.csv, shiny.csv & patch_seq_log_mouse.csv"
   ]
  },
  {
   "cell_type": "code",
   "execution_count": 3,
   "metadata": {},
   "outputs": [],
   "source": [
    "morph_df = pd.read_csv(\"63x.csv\")\n",
    "shiny_df = pd.read_csv(\"shiny.csv\")\n",
    "ps_df = pd.read_csv(\"patch_seq_log_mouse.csv\")"
   ]
  },
  {
   "cell_type": "markdown",
   "metadata": {},
   "source": [
    "##### Creating ps_df from patch_seq_log_mouse.csv"
   ]
  },
  {
   "cell_type": "code",
   "execution_count": 4,
   "metadata": {},
   "outputs": [
    {
     "data": {
      "text/html": [
       "<div>\n",
       "<style scoped>\n",
       "    .dataframe tbody tr th:only-of-type {\n",
       "        vertical-align: middle;\n",
       "    }\n",
       "\n",
       "    .dataframe tbody tr th {\n",
       "        vertical-align: top;\n",
       "    }\n",
       "\n",
       "    .dataframe thead th {\n",
       "        text-align: right;\n",
       "    }\n",
       "</style>\n",
       "<table border=\"1\" class=\"dataframe\">\n",
       "  <thead>\n",
       "    <tr style=\"text-align: right;\">\n",
       "      <th></th>\n",
       "      <th>Lims tube id</th>\n",
       "      <th>patch duration</th>\n",
       "      <th>Time spent extracting cytosol</th>\n",
       "      <th>Time spent retracting pipette</th>\n",
       "    </tr>\n",
       "  </thead>\n",
       "  <tbody>\n",
       "    <tr>\n",
       "      <th>0</th>\n",
       "      <td>P1S4_170104_001_A01</td>\n",
       "      <td>11.78333333</td>\n",
       "      <td>2.3</td>\n",
       "      <td>NaN</td>\n",
       "    </tr>\n",
       "    <tr>\n",
       "      <th>1</th>\n",
       "      <td>P1S4_170104_002_A01</td>\n",
       "      <td>12.21666667</td>\n",
       "      <td>2.316666667</td>\n",
       "      <td>NaN</td>\n",
       "    </tr>\n",
       "    <tr>\n",
       "      <th>2</th>\n",
       "      <td>P1S4_170104_003_A01</td>\n",
       "      <td>11.78333333</td>\n",
       "      <td>2.45</td>\n",
       "      <td>NaN</td>\n",
       "    </tr>\n",
       "    <tr>\n",
       "      <th>3</th>\n",
       "      <td>P1S4_170104_004_A01</td>\n",
       "      <td>12.45</td>\n",
       "      <td>2.316666667</td>\n",
       "      <td>NaN</td>\n",
       "    </tr>\n",
       "    <tr>\n",
       "      <th>4</th>\n",
       "      <td>P1S4_170104_005_A01</td>\n",
       "      <td>12.36666667</td>\n",
       "      <td>2.35</td>\n",
       "      <td>NaN</td>\n",
       "    </tr>\n",
       "  </tbody>\n",
       "</table>\n",
       "</div>"
      ],
      "text/plain": [
       "          Lims tube id patch duration Time spent extracting cytosol  \\\n",
       "0  P1S4_170104_001_A01    11.78333333                           2.3   \n",
       "1  P1S4_170104_002_A01    12.21666667                   2.316666667   \n",
       "2  P1S4_170104_003_A01    11.78333333                          2.45   \n",
       "3  P1S4_170104_004_A01          12.45                   2.316666667   \n",
       "4  P1S4_170104_005_A01    12.36666667                          2.35   \n",
       "\n",
       "  Time spent retracting pipette  \n",
       "0                           NaN  \n",
       "1                           NaN  \n",
       "2                           NaN  \n",
       "3                           NaN  \n",
       "4                           NaN  "
      ]
     },
     "execution_count": 4,
     "metadata": {},
     "output_type": "execute_result"
    }
   ],
   "source": [
    "ps_initial = ['Lims tube id',\n",
    "              'patch duration',\n",
    "              'Time spent extracting cytosol',\n",
    "              'Time spent retracting pipette']\n",
    "ps_df = ps_df[ps_initial]\n",
    "ps_df.head()"
   ]
  },
  {
   "cell_type": "markdown",
   "metadata": {},
   "source": [
    "##### Creating shiny_df from shiny.csv"
   ]
  },
  {
   "cell_type": "code",
   "execution_count": 5,
   "metadata": {},
   "outputs": [
    {
     "data": {
      "text/html": [
       "<div>\n",
       "<style scoped>\n",
       "    .dataframe tbody tr th:only-of-type {\n",
       "        vertical-align: middle;\n",
       "    }\n",
       "\n",
       "    .dataframe tbody tr th {\n",
       "        vertical-align: top;\n",
       "    }\n",
       "\n",
       "    .dataframe thead th {\n",
       "        text-align: right;\n",
       "    }\n",
       "</style>\n",
       "<table border=\"1\" class=\"dataframe\">\n",
       "  <thead>\n",
       "    <tr style=\"text-align: right;\">\n",
       "      <th></th>\n",
       "      <th>anno.sample_id</th>\n",
       "      <th>anno.postPatch_label</th>\n",
       "      <th>anno.endPipetteR_label</th>\n",
       "    </tr>\n",
       "  </thead>\n",
       "  <tbody>\n",
       "    <tr>\n",
       "      <th>0</th>\n",
       "      <td>P1S4_160318_069_A01</td>\n",
       "      <td>O/O</td>\n",
       "      <td>0.0</td>\n",
       "    </tr>\n",
       "    <tr>\n",
       "      <th>1</th>\n",
       "      <td>P1S4_160407_108_A01</td>\n",
       "      <td>nucleated patch</td>\n",
       "      <td>0.0</td>\n",
       "    </tr>\n",
       "    <tr>\n",
       "      <th>2</th>\n",
       "      <td>P1S4_160407_109_A01</td>\n",
       "      <td>partial nucleus</td>\n",
       "      <td>0.0</td>\n",
       "    </tr>\n",
       "    <tr>\n",
       "      <th>3</th>\n",
       "      <td>P1S4_160407_112_A01</td>\n",
       "      <td>o/o</td>\n",
       "      <td>0.0</td>\n",
       "    </tr>\n",
       "    <tr>\n",
       "      <th>4</th>\n",
       "      <td>P1S4_160407_113_A01</td>\n",
       "      <td>0</td>\n",
       "      <td>0.0</td>\n",
       "    </tr>\n",
       "  </tbody>\n",
       "</table>\n",
       "</div>"
      ],
      "text/plain": [
       "        anno.sample_id anno.postPatch_label  anno.endPipetteR_label\n",
       "0  P1S4_160318_069_A01                  O/O                     0.0\n",
       "1  P1S4_160407_108_A01      nucleated patch                     0.0\n",
       "2  P1S4_160407_109_A01      partial nucleus                     0.0\n",
       "3  P1S4_160407_112_A01                  o/o                     0.0\n",
       "4  P1S4_160407_113_A01                    0                     0.0"
      ]
     },
     "execution_count": 5,
     "metadata": {},
     "output_type": "execute_result"
    }
   ],
   "source": [
    "shiny_initial = ['anno.sample_id',\n",
    "                 'anno.postPatch_label',\n",
    "                 'anno.endPipetteR_label']\n",
    "shiny_df = shiny_df[shiny_initial]\n",
    "shiny_df.head()"
   ]
  },
  {
   "cell_type": "markdown",
   "metadata": {},
   "source": [
    "##### Merging shiny_df with ps_df to create shiny_ps_df"
   ]
  },
  {
   "cell_type": "code",
   "execution_count": 6,
   "metadata": {},
   "outputs": [],
   "source": [
    "#Left = shiny \n",
    "#Right = ps\n",
    "#Inner merge = contains matched info between shiny and ps\n",
    "\n",
    "shiny_ps_df = pd.merge(left = shiny_df, \n",
    "                         right = ps_df, \n",
    "                         left_on = 'anno.sample_id', \n",
    "                         right_on = 'Lims tube id', \n",
    "                         how = 'inner')"
   ]
  },
  {
   "cell_type": "code",
   "execution_count": 7,
   "metadata": {},
   "outputs": [
    {
     "data": {
      "text/html": [
       "<div>\n",
       "<style scoped>\n",
       "    .dataframe tbody tr th:only-of-type {\n",
       "        vertical-align: middle;\n",
       "    }\n",
       "\n",
       "    .dataframe tbody tr th {\n",
       "        vertical-align: top;\n",
       "    }\n",
       "\n",
       "    .dataframe thead th {\n",
       "        text-align: right;\n",
       "    }\n",
       "</style>\n",
       "<table border=\"1\" class=\"dataframe\">\n",
       "  <thead>\n",
       "    <tr style=\"text-align: right;\">\n",
       "      <th></th>\n",
       "      <th>anno.sample_id</th>\n",
       "      <th>anno.postPatch_label</th>\n",
       "      <th>anno.endPipetteR_label</th>\n",
       "      <th>Lims tube id</th>\n",
       "      <th>patch duration</th>\n",
       "      <th>Time spent extracting cytosol</th>\n",
       "      <th>Time spent retracting pipette</th>\n",
       "    </tr>\n",
       "  </thead>\n",
       "  <tbody>\n",
       "    <tr>\n",
       "      <th>0</th>\n",
       "      <td>P2S4_170301_056_A01</td>\n",
       "      <td>0</td>\n",
       "      <td>0.0</td>\n",
       "      <td>P2S4_170301_056_A01</td>\n",
       "      <td>2.55</td>\n",
       "      <td>0.86666667</td>\n",
       "      <td>NaN</td>\n",
       "    </tr>\n",
       "    <tr>\n",
       "      <th>1</th>\n",
       "      <td>P2S4_170301_057_A01</td>\n",
       "      <td>0</td>\n",
       "      <td>0.0</td>\n",
       "      <td>P2S4_170301_057_A01</td>\n",
       "      <td>1.93333333</td>\n",
       "      <td>0.23333333</td>\n",
       "      <td>NaN</td>\n",
       "    </tr>\n",
       "    <tr>\n",
       "      <th>2</th>\n",
       "      <td>P2S4_170301_058_A01</td>\n",
       "      <td>0</td>\n",
       "      <td>0.0</td>\n",
       "      <td>P2S4_170301_058_A01</td>\n",
       "      <td>2.48333333</td>\n",
       "      <td>0.41666667</td>\n",
       "      <td>NaN</td>\n",
       "    </tr>\n",
       "    <tr>\n",
       "      <th>3</th>\n",
       "      <td>P1S4_170302_001_A01</td>\n",
       "      <td>0</td>\n",
       "      <td>0.0</td>\n",
       "      <td>P1S4_170302_001_A01</td>\n",
       "      <td>3.616666667</td>\n",
       "      <td>2.05</td>\n",
       "      <td>NaN</td>\n",
       "    </tr>\n",
       "    <tr>\n",
       "      <th>4</th>\n",
       "      <td>P1S4_170302_002_A01</td>\n",
       "      <td>0</td>\n",
       "      <td>0.0</td>\n",
       "      <td>P1S4_170302_002_A01</td>\n",
       "      <td>3.683333333</td>\n",
       "      <td>2.283333333</td>\n",
       "      <td>NaN</td>\n",
       "    </tr>\n",
       "  </tbody>\n",
       "</table>\n",
       "</div>"
      ],
      "text/plain": [
       "        anno.sample_id anno.postPatch_label  anno.endPipetteR_label  \\\n",
       "0  P2S4_170301_056_A01                    0                     0.0   \n",
       "1  P2S4_170301_057_A01                    0                     0.0   \n",
       "2  P2S4_170301_058_A01                    0                     0.0   \n",
       "3  P1S4_170302_001_A01                    0                     0.0   \n",
       "4  P1S4_170302_002_A01                    0                     0.0   \n",
       "\n",
       "          Lims tube id patch duration Time spent extracting cytosol  \\\n",
       "0  P2S4_170301_056_A01           2.55                    0.86666667   \n",
       "1  P2S4_170301_057_A01     1.93333333                    0.23333333   \n",
       "2  P2S4_170301_058_A01     2.48333333                    0.41666667   \n",
       "3  P1S4_170302_001_A01    3.616666667                          2.05   \n",
       "4  P1S4_170302_002_A01    3.683333333                   2.283333333   \n",
       "\n",
       "  Time spent retracting pipette  \n",
       "0                           NaN  \n",
       "1                           NaN  \n",
       "2                           NaN  \n",
       "3                           NaN  \n",
       "4                           NaN  "
      ]
     },
     "execution_count": 7,
     "metadata": {},
     "output_type": "execute_result"
    }
   ],
   "source": [
    "shiny_ps_df.head()"
   ]
  },
  {
   "cell_type": "markdown",
   "metadata": {},
   "source": [
    "##### Creating morph_df from 63x.csv"
   ]
  },
  {
   "cell_type": "code",
   "execution_count": 8,
   "metadata": {},
   "outputs": [
    {
     "data": {
      "text/html": [
       "<div>\n",
       "<style scoped>\n",
       "    .dataframe tbody tr th:only-of-type {\n",
       "        vertical-align: middle;\n",
       "    }\n",
       "\n",
       "    .dataframe tbody tr th {\n",
       "        vertical-align: top;\n",
       "    }\n",
       "\n",
       "    .dataframe thead th {\n",
       "        text-align: right;\n",
       "    }\n",
       "</style>\n",
       "<table border=\"1\" class=\"dataframe\">\n",
       "  <thead>\n",
       "    <tr style=\"text-align: right;\">\n",
       "      <th></th>\n",
       "      <th>patched_cell_container</th>\n",
       "      <th>ims63x_go_no_go</th>\n",
       "      <th>project</th>\n",
       "    </tr>\n",
       "  </thead>\n",
       "  <tbody>\n",
       "    <tr>\n",
       "      <th>6461</th>\n",
       "      <td>P2S4_180109_052_A01</td>\n",
       "      <td>NaN</td>\n",
       "      <td>mIVSCC-MET</td>\n",
       "    </tr>\n",
       "    <tr>\n",
       "      <th>6462</th>\n",
       "      <td>PAS4_180109_452_A01</td>\n",
       "      <td>NaN</td>\n",
       "      <td>mIVSCC-MET</td>\n",
       "    </tr>\n",
       "    <tr>\n",
       "      <th>6463</th>\n",
       "      <td>P8S4_180110_353_A01</td>\n",
       "      <td>NaN</td>\n",
       "      <td>mIVSCC-MET</td>\n",
       "    </tr>\n",
       "    <tr>\n",
       "      <th>6464</th>\n",
       "      <td>P8S4_180110_354_A01</td>\n",
       "      <td>63x no go</td>\n",
       "      <td>mIVSCC-MET</td>\n",
       "    </tr>\n",
       "    <tr>\n",
       "      <th>6465</th>\n",
       "      <td>PAS4_180110_454_A01</td>\n",
       "      <td>NaN</td>\n",
       "      <td>mIVSCC-MET</td>\n",
       "    </tr>\n",
       "  </tbody>\n",
       "</table>\n",
       "</div>"
      ],
      "text/plain": [
       "     patched_cell_container ims63x_go_no_go     project\n",
       "6461    P2S4_180109_052_A01             NaN  mIVSCC-MET\n",
       "6462    PAS4_180109_452_A01             NaN  mIVSCC-MET\n",
       "6463    P8S4_180110_353_A01             NaN  mIVSCC-MET\n",
       "6464    P8S4_180110_354_A01       63x no go  mIVSCC-MET\n",
       "6465    PAS4_180110_454_A01             NaN  mIVSCC-MET"
      ]
     },
     "execution_count": 8,
     "metadata": {},
     "output_type": "execute_result"
    }
   ],
   "source": [
    "morph_initial = ['patched_cell_container',\n",
    "                 'ims63x_go_no_go',\n",
    "                 'project']\n",
    "morph_df = morph_df[morph_initial]\n",
    "morph_df.tail()"
   ]
  },
  {
   "cell_type": "markdown",
   "metadata": {},
   "source": [
    "##### Merging morph_df with shiny_lims_df to create final_df"
   ]
  },
  {
   "cell_type": "code",
   "execution_count": 9,
   "metadata": {},
   "outputs": [],
   "source": [
    "#Inner merge = contains only matching data of both morph_df and shiny_LIMS_df\n",
    "\n",
    "final_df = pd.merge(left = morph_df, \n",
    "                    right = shiny_ps_df, \n",
    "                    left_on = 'patched_cell_container', \n",
    "                    right_on = 'anno.sample_id', \n",
    "                    how = 'inner')"
   ]
  },
  {
   "cell_type": "code",
   "execution_count": 10,
   "metadata": {},
   "outputs": [
    {
     "data": {
      "text/html": [
       "<div>\n",
       "<style scoped>\n",
       "    .dataframe tbody tr th:only-of-type {\n",
       "        vertical-align: middle;\n",
       "    }\n",
       "\n",
       "    .dataframe tbody tr th {\n",
       "        vertical-align: top;\n",
       "    }\n",
       "\n",
       "    .dataframe thead th {\n",
       "        text-align: right;\n",
       "    }\n",
       "</style>\n",
       "<table border=\"1\" class=\"dataframe\">\n",
       "  <thead>\n",
       "    <tr style=\"text-align: right;\">\n",
       "      <th></th>\n",
       "      <th>patched_cell_container</th>\n",
       "      <th>ims63x_go_no_go</th>\n",
       "      <th>project</th>\n",
       "      <th>anno.sample_id</th>\n",
       "      <th>anno.postPatch_label</th>\n",
       "      <th>anno.endPipetteR_label</th>\n",
       "      <th>Lims tube id</th>\n",
       "      <th>patch duration</th>\n",
       "      <th>Time spent extracting cytosol</th>\n",
       "      <th>Time spent retracting pipette</th>\n",
       "    </tr>\n",
       "  </thead>\n",
       "  <tbody>\n",
       "    <tr>\n",
       "      <th>0</th>\n",
       "      <td>P8S4_180103_351_A01</td>\n",
       "      <td>NaN</td>\n",
       "      <td>mIVSCC-MET</td>\n",
       "      <td>P8S4_180103_351_A01</td>\n",
       "      <td>nucleus_absent</td>\n",
       "      <td>35.0</td>\n",
       "      <td>P8S4_180103_351_A01</td>\n",
       "      <td>11.46666667</td>\n",
       "      <td>0.916666667</td>\n",
       "      <td>3.2</td>\n",
       "    </tr>\n",
       "    <tr>\n",
       "      <th>1</th>\n",
       "      <td>P8S4_180103_352_A01</td>\n",
       "      <td>63x no go</td>\n",
       "      <td>mIVSCC-MET</td>\n",
       "      <td>P8S4_180103_352_A01</td>\n",
       "      <td>nucleus_present</td>\n",
       "      <td>8.5</td>\n",
       "      <td>P8S4_180103_352_A01</td>\n",
       "      <td>10.16666667</td>\n",
       "      <td>1.7</td>\n",
       "      <td>2.5</td>\n",
       "    </tr>\n",
       "    <tr>\n",
       "      <th>2</th>\n",
       "      <td>P6S4_170609_253_A01</td>\n",
       "      <td>63x no go</td>\n",
       "      <td>T301x</td>\n",
       "      <td>P6S4_170609_253_A01</td>\n",
       "      <td>Partial-Nucleus</td>\n",
       "      <td>0.0</td>\n",
       "      <td>P6S4_170609_253_A01</td>\n",
       "      <td>5.83333333</td>\n",
       "      <td>2.16666667</td>\n",
       "      <td>NaN</td>\n",
       "    </tr>\n",
       "    <tr>\n",
       "      <th>3</th>\n",
       "      <td>P6S4_170609_254_A01</td>\n",
       "      <td>63x no go</td>\n",
       "      <td>T301x</td>\n",
       "      <td>P6S4_170609_254_A01</td>\n",
       "      <td>No-Seal</td>\n",
       "      <td>0.0</td>\n",
       "      <td>P6S4_170609_254_A01</td>\n",
       "      <td>5.78333333</td>\n",
       "      <td>2.08333333</td>\n",
       "      <td>NaN</td>\n",
       "    </tr>\n",
       "    <tr>\n",
       "      <th>4</th>\n",
       "      <td>P1S4_170609_001_A01</td>\n",
       "      <td>NaN</td>\n",
       "      <td>T301x</td>\n",
       "      <td>P1S4_170609_001_A01</td>\n",
       "      <td>No-Seal</td>\n",
       "      <td>0.0</td>\n",
       "      <td>P1S4_170609_001_A01</td>\n",
       "      <td>4.416666667</td>\n",
       "      <td>2.75</td>\n",
       "      <td>NaN</td>\n",
       "    </tr>\n",
       "  </tbody>\n",
       "</table>\n",
       "</div>"
      ],
      "text/plain": [
       "  patched_cell_container ims63x_go_no_go     project       anno.sample_id  \\\n",
       "0    P8S4_180103_351_A01             NaN  mIVSCC-MET  P8S4_180103_351_A01   \n",
       "1    P8S4_180103_352_A01       63x no go  mIVSCC-MET  P8S4_180103_352_A01   \n",
       "2    P6S4_170609_253_A01       63x no go       T301x  P6S4_170609_253_A01   \n",
       "3    P6S4_170609_254_A01       63x no go       T301x  P6S4_170609_254_A01   \n",
       "4    P1S4_170609_001_A01             NaN       T301x  P1S4_170609_001_A01   \n",
       "\n",
       "  anno.postPatch_label  anno.endPipetteR_label         Lims tube id  \\\n",
       "0       nucleus_absent                    35.0  P8S4_180103_351_A01   \n",
       "1      nucleus_present                     8.5  P8S4_180103_352_A01   \n",
       "2      Partial-Nucleus                     0.0  P6S4_170609_253_A01   \n",
       "3              No-Seal                     0.0  P6S4_170609_254_A01   \n",
       "4              No-Seal                     0.0  P1S4_170609_001_A01   \n",
       "\n",
       "  patch duration Time spent extracting cytosol Time spent retracting pipette  \n",
       "0    11.46666667                   0.916666667                           3.2  \n",
       "1    10.16666667                           1.7                           2.5  \n",
       "2     5.83333333                    2.16666667                           NaN  \n",
       "3     5.78333333                    2.08333333                           NaN  \n",
       "4    4.416666667                          2.75                           NaN  "
      ]
     },
     "execution_count": 10,
     "metadata": {},
     "output_type": "execute_result"
    }
   ],
   "source": [
    "final_df.head()"
   ]
  },
  {
   "cell_type": "markdown",
   "metadata": {},
   "source": [
    "##### Info"
   ]
  },
  {
   "cell_type": "code",
   "execution_count": 11,
   "metadata": {},
   "outputs": [
    {
     "name": "stdout",
     "output_type": "stream",
     "text": [
      "<class 'pandas.core.frame.DataFrame'>\n",
      "Int64Index: 2720 entries, 0 to 2719\n",
      "Data columns (total 10 columns):\n",
      "patched_cell_container           2720 non-null object\n",
      "ims63x_go_no_go                  1624 non-null object\n",
      "project                          2720 non-null object\n",
      "anno.sample_id                   2720 non-null object\n",
      "anno.postPatch_label             2712 non-null object\n",
      "anno.endPipetteR_label           2720 non-null float64\n",
      "Lims tube id                     2720 non-null object\n",
      "patch duration                   2688 non-null object\n",
      "Time spent extracting cytosol    2696 non-null object\n",
      "Time spent retracting pipette    1571 non-null object\n",
      "dtypes: float64(1), object(9)\n",
      "memory usage: 233.8+ KB\n"
     ]
    }
   ],
   "source": [
    "final_df.info()"
   ]
  },
  {
   "cell_type": "markdown",
   "metadata": {},
   "source": [
    "##### Creating Date column using patched_cell_container column"
   ]
  },
  {
   "cell_type": "code",
   "execution_count": 12,
   "metadata": {},
   "outputs": [],
   "source": [
    "final_df['Date'] = final_df['patched_cell_container'].str[5:11]"
   ]
  },
  {
   "cell_type": "markdown",
   "metadata": {},
   "source": [
    "##### Indexing Date column then sorting by date index"
   ]
  },
  {
   "cell_type": "code",
   "execution_count": 13,
   "metadata": {},
   "outputs": [],
   "source": [
    "final_df = final_df.set_index('Date')"
   ]
  },
  {
   "cell_type": "code",
   "execution_count": 14,
   "metadata": {},
   "outputs": [],
   "source": [
    "final_df.sort_index(inplace = True)"
   ]
  },
  {
   "cell_type": "code",
   "execution_count": 15,
   "metadata": {},
   "outputs": [
    {
     "data": {
      "text/html": [
       "<div>\n",
       "<style scoped>\n",
       "    .dataframe tbody tr th:only-of-type {\n",
       "        vertical-align: middle;\n",
       "    }\n",
       "\n",
       "    .dataframe tbody tr th {\n",
       "        vertical-align: top;\n",
       "    }\n",
       "\n",
       "    .dataframe thead th {\n",
       "        text-align: right;\n",
       "    }\n",
       "</style>\n",
       "<table border=\"1\" class=\"dataframe\">\n",
       "  <thead>\n",
       "    <tr style=\"text-align: right;\">\n",
       "      <th></th>\n",
       "      <th>patched_cell_container</th>\n",
       "      <th>ims63x_go_no_go</th>\n",
       "      <th>project</th>\n",
       "      <th>anno.sample_id</th>\n",
       "      <th>anno.postPatch_label</th>\n",
       "      <th>anno.endPipetteR_label</th>\n",
       "      <th>Lims tube id</th>\n",
       "      <th>patch duration</th>\n",
       "      <th>Time spent extracting cytosol</th>\n",
       "      <th>Time spent retracting pipette</th>\n",
       "    </tr>\n",
       "    <tr>\n",
       "      <th>Date</th>\n",
       "      <th></th>\n",
       "      <th></th>\n",
       "      <th></th>\n",
       "      <th></th>\n",
       "      <th></th>\n",
       "      <th></th>\n",
       "      <th></th>\n",
       "      <th></th>\n",
       "      <th></th>\n",
       "      <th></th>\n",
       "    </tr>\n",
       "  </thead>\n",
       "  <tbody>\n",
       "    <tr>\n",
       "      <th>170301</th>\n",
       "      <td>P2S4_170301_058_A01</td>\n",
       "      <td>NaN</td>\n",
       "      <td>T301x</td>\n",
       "      <td>P2S4_170301_058_A01</td>\n",
       "      <td>0</td>\n",
       "      <td>0.0</td>\n",
       "      <td>P2S4_170301_058_A01</td>\n",
       "      <td>2.48333333</td>\n",
       "      <td>0.41666667</td>\n",
       "      <td>NaN</td>\n",
       "    </tr>\n",
       "    <tr>\n",
       "      <th>170301</th>\n",
       "      <td>P2S4_170301_057_A01</td>\n",
       "      <td>NaN</td>\n",
       "      <td>T301x</td>\n",
       "      <td>P2S4_170301_057_A01</td>\n",
       "      <td>0</td>\n",
       "      <td>0.0</td>\n",
       "      <td>P2S4_170301_057_A01</td>\n",
       "      <td>1.93333333</td>\n",
       "      <td>0.23333333</td>\n",
       "      <td>NaN</td>\n",
       "    </tr>\n",
       "    <tr>\n",
       "      <th>170301</th>\n",
       "      <td>P2S4_170301_056_A01</td>\n",
       "      <td>NaN</td>\n",
       "      <td>T301x</td>\n",
       "      <td>P2S4_170301_056_A01</td>\n",
       "      <td>0</td>\n",
       "      <td>0.0</td>\n",
       "      <td>P2S4_170301_056_A01</td>\n",
       "      <td>2.55</td>\n",
       "      <td>0.86666667</td>\n",
       "      <td>NaN</td>\n",
       "    </tr>\n",
       "    <tr>\n",
       "      <th>170302</th>\n",
       "      <td>P2S4_170302_052_A01</td>\n",
       "      <td>NaN</td>\n",
       "      <td>T301x</td>\n",
       "      <td>P2S4_170302_052_A01</td>\n",
       "      <td>0</td>\n",
       "      <td>0.0</td>\n",
       "      <td>P2S4_170302_052_A01</td>\n",
       "      <td>3.11666667</td>\n",
       "      <td>1.83333333</td>\n",
       "      <td>NaN</td>\n",
       "    </tr>\n",
       "    <tr>\n",
       "      <th>170302</th>\n",
       "      <td>P1S4_170302_010_A01</td>\n",
       "      <td>NaN</td>\n",
       "      <td>T301x</td>\n",
       "      <td>P1S4_170302_010_A01</td>\n",
       "      <td>0</td>\n",
       "      <td>0.0</td>\n",
       "      <td>P1S4_170302_010_A01</td>\n",
       "      <td>3.033333333</td>\n",
       "      <td>1.833333333</td>\n",
       "      <td>NaN</td>\n",
       "    </tr>\n",
       "  </tbody>\n",
       "</table>\n",
       "</div>"
      ],
      "text/plain": [
       "       patched_cell_container ims63x_go_no_go project       anno.sample_id  \\\n",
       "Date                                                                         \n",
       "170301    P2S4_170301_058_A01             NaN   T301x  P2S4_170301_058_A01   \n",
       "170301    P2S4_170301_057_A01             NaN   T301x  P2S4_170301_057_A01   \n",
       "170301    P2S4_170301_056_A01             NaN   T301x  P2S4_170301_056_A01   \n",
       "170302    P2S4_170302_052_A01             NaN   T301x  P2S4_170302_052_A01   \n",
       "170302    P1S4_170302_010_A01             NaN   T301x  P1S4_170302_010_A01   \n",
       "\n",
       "       anno.postPatch_label  anno.endPipetteR_label         Lims tube id  \\\n",
       "Date                                                                       \n",
       "170301                    0                     0.0  P2S4_170301_058_A01   \n",
       "170301                    0                     0.0  P2S4_170301_057_A01   \n",
       "170301                    0                     0.0  P2S4_170301_056_A01   \n",
       "170302                    0                     0.0  P2S4_170302_052_A01   \n",
       "170302                    0                     0.0  P1S4_170302_010_A01   \n",
       "\n",
       "       patch duration Time spent extracting cytosol  \\\n",
       "Date                                                  \n",
       "170301     2.48333333                    0.41666667   \n",
       "170301     1.93333333                    0.23333333   \n",
       "170301           2.55                    0.86666667   \n",
       "170302     3.11666667                    1.83333333   \n",
       "170302    3.033333333                   1.833333333   \n",
       "\n",
       "       Time spent retracting pipette  \n",
       "Date                                  \n",
       "170301                           NaN  \n",
       "170301                           NaN  \n",
       "170301                           NaN  \n",
       "170302                           NaN  \n",
       "170302                           NaN  "
      ]
     },
     "execution_count": 15,
     "metadata": {},
     "output_type": "execute_result"
    }
   ],
   "source": [
    "final_df.head()"
   ]
  },
  {
   "cell_type": "code",
   "execution_count": 16,
   "metadata": {},
   "outputs": [
    {
     "data": {
      "text/html": [
       "<div>\n",
       "<style scoped>\n",
       "    .dataframe tbody tr th:only-of-type {\n",
       "        vertical-align: middle;\n",
       "    }\n",
       "\n",
       "    .dataframe tbody tr th {\n",
       "        vertical-align: top;\n",
       "    }\n",
       "\n",
       "    .dataframe thead th {\n",
       "        text-align: right;\n",
       "    }\n",
       "</style>\n",
       "<table border=\"1\" class=\"dataframe\">\n",
       "  <thead>\n",
       "    <tr style=\"text-align: right;\">\n",
       "      <th></th>\n",
       "      <th>patched_cell_container</th>\n",
       "      <th>ims63x_go_no_go</th>\n",
       "      <th>project</th>\n",
       "      <th>anno.sample_id</th>\n",
       "      <th>anno.postPatch_label</th>\n",
       "      <th>anno.endPipetteR_label</th>\n",
       "      <th>Lims tube id</th>\n",
       "      <th>patch duration</th>\n",
       "      <th>Time spent extracting cytosol</th>\n",
       "      <th>Time spent retracting pipette</th>\n",
       "    </tr>\n",
       "    <tr>\n",
       "      <th>Date</th>\n",
       "      <th></th>\n",
       "      <th></th>\n",
       "      <th></th>\n",
       "      <th></th>\n",
       "      <th></th>\n",
       "      <th></th>\n",
       "      <th></th>\n",
       "      <th></th>\n",
       "      <th></th>\n",
       "      <th></th>\n",
       "    </tr>\n",
       "  </thead>\n",
       "  <tbody>\n",
       "    <tr>\n",
       "      <th>180319</th>\n",
       "      <td>P8S4_180319_353_A01</td>\n",
       "      <td>NaN</td>\n",
       "      <td>mIVSCC-MET</td>\n",
       "      <td>P8S4_180319_353_A01</td>\n",
       "      <td>nucleus_present</td>\n",
       "      <td>500.0</td>\n",
       "      <td>P8S4_180319_353_A01</td>\n",
       "      <td>12.45</td>\n",
       "      <td>1.25</td>\n",
       "      <td>1.7</td>\n",
       "    </tr>\n",
       "    <tr>\n",
       "      <th>180319</th>\n",
       "      <td>PAS4_180319_452_A01</td>\n",
       "      <td>NaN</td>\n",
       "      <td>mIVSCC-MET</td>\n",
       "      <td>PAS4_180319_452_A01</td>\n",
       "      <td>nucleus_present</td>\n",
       "      <td>1600.0</td>\n",
       "      <td>PAS4_180319_452_A01</td>\n",
       "      <td>8.616666667</td>\n",
       "      <td>0.75</td>\n",
       "      <td>1.9</td>\n",
       "    </tr>\n",
       "    <tr>\n",
       "      <th>180319</th>\n",
       "      <td>PBS4_180319_504_A01</td>\n",
       "      <td>NaN</td>\n",
       "      <td>mIVSCC-MET</td>\n",
       "      <td>PBS4_180319_504_A01</td>\n",
       "      <td>nucleus_present</td>\n",
       "      <td>2000.0</td>\n",
       "      <td>PBS4_180319_504_A01</td>\n",
       "      <td>17.76666667</td>\n",
       "      <td>1.05</td>\n",
       "      <td>1.016666667</td>\n",
       "    </tr>\n",
       "    <tr>\n",
       "      <th>180319</th>\n",
       "      <td>P1S4_180319_005_A01</td>\n",
       "      <td>NaN</td>\n",
       "      <td>mIVSCC-MET</td>\n",
       "      <td>P1S4_180319_005_A01</td>\n",
       "      <td>nucleus_present</td>\n",
       "      <td>1000.0</td>\n",
       "      <td>P1S4_180319_005_A01</td>\n",
       "      <td>7.016666667</td>\n",
       "      <td>0.583333333</td>\n",
       "      <td>1.4</td>\n",
       "    </tr>\n",
       "    <tr>\n",
       "      <th>180319</th>\n",
       "      <td>P8S4_180319_352_A01</td>\n",
       "      <td>NaN</td>\n",
       "      <td>mIVSCC-MET</td>\n",
       "      <td>P8S4_180319_352_A01</td>\n",
       "      <td>nucleus_present</td>\n",
       "      <td>2000.0</td>\n",
       "      <td>P8S4_180319_352_A01</td>\n",
       "      <td>7.816666667</td>\n",
       "      <td>0.6</td>\n",
       "      <td>1.6</td>\n",
       "    </tr>\n",
       "  </tbody>\n",
       "</table>\n",
       "</div>"
      ],
      "text/plain": [
       "       patched_cell_container ims63x_go_no_go     project  \\\n",
       "Date                                                        \n",
       "180319    P8S4_180319_353_A01             NaN  mIVSCC-MET   \n",
       "180319    PAS4_180319_452_A01             NaN  mIVSCC-MET   \n",
       "180319    PBS4_180319_504_A01             NaN  mIVSCC-MET   \n",
       "180319    P1S4_180319_005_A01             NaN  mIVSCC-MET   \n",
       "180319    P8S4_180319_352_A01             NaN  mIVSCC-MET   \n",
       "\n",
       "             anno.sample_id anno.postPatch_label  anno.endPipetteR_label  \\\n",
       "Date                                                                       \n",
       "180319  P8S4_180319_353_A01      nucleus_present                   500.0   \n",
       "180319  PAS4_180319_452_A01      nucleus_present                  1600.0   \n",
       "180319  PBS4_180319_504_A01      nucleus_present                  2000.0   \n",
       "180319  P1S4_180319_005_A01      nucleus_present                  1000.0   \n",
       "180319  P8S4_180319_352_A01      nucleus_present                  2000.0   \n",
       "\n",
       "               Lims tube id patch duration Time spent extracting cytosol  \\\n",
       "Date                                                                       \n",
       "180319  P8S4_180319_353_A01          12.45                          1.25   \n",
       "180319  PAS4_180319_452_A01    8.616666667                          0.75   \n",
       "180319  PBS4_180319_504_A01    17.76666667                          1.05   \n",
       "180319  P1S4_180319_005_A01    7.016666667                   0.583333333   \n",
       "180319  P8S4_180319_352_A01    7.816666667                           0.6   \n",
       "\n",
       "       Time spent retracting pipette  \n",
       "Date                                  \n",
       "180319                           1.7  \n",
       "180319                           1.9  \n",
       "180319                   1.016666667  \n",
       "180319                           1.4  \n",
       "180319                           1.6  "
      ]
     },
     "execution_count": 16,
     "metadata": {},
     "output_type": "execute_result"
    }
   ],
   "source": [
    "final_df.tail()"
   ]
  },
  {
   "cell_type": "markdown",
   "metadata": {},
   "source": [
    "##### final_df start at production date to present date"
   ]
  },
  {
   "cell_type": "code",
   "execution_count": 17,
   "metadata": {},
   "outputs": [],
   "source": [
    "final_df = final_df['170901':]"
   ]
  },
  {
   "cell_type": "code",
   "execution_count": 18,
   "metadata": {},
   "outputs": [
    {
     "data": {
      "text/html": [
       "<div>\n",
       "<style scoped>\n",
       "    .dataframe tbody tr th:only-of-type {\n",
       "        vertical-align: middle;\n",
       "    }\n",
       "\n",
       "    .dataframe tbody tr th {\n",
       "        vertical-align: top;\n",
       "    }\n",
       "\n",
       "    .dataframe thead th {\n",
       "        text-align: right;\n",
       "    }\n",
       "</style>\n",
       "<table border=\"1\" class=\"dataframe\">\n",
       "  <thead>\n",
       "    <tr style=\"text-align: right;\">\n",
       "      <th></th>\n",
       "      <th>patched_cell_container</th>\n",
       "      <th>ims63x_go_no_go</th>\n",
       "      <th>project</th>\n",
       "      <th>anno.sample_id</th>\n",
       "      <th>anno.postPatch_label</th>\n",
       "      <th>anno.endPipetteR_label</th>\n",
       "      <th>Lims tube id</th>\n",
       "      <th>patch duration</th>\n",
       "      <th>Time spent extracting cytosol</th>\n",
       "      <th>Time spent retracting pipette</th>\n",
       "    </tr>\n",
       "    <tr>\n",
       "      <th>Date</th>\n",
       "      <th></th>\n",
       "      <th></th>\n",
       "      <th></th>\n",
       "      <th></th>\n",
       "      <th></th>\n",
       "      <th></th>\n",
       "      <th></th>\n",
       "      <th></th>\n",
       "      <th></th>\n",
       "      <th></th>\n",
       "    </tr>\n",
       "  </thead>\n",
       "  <tbody>\n",
       "    <tr>\n",
       "      <th>170901</th>\n",
       "      <td>P8S4_170901_354_A01</td>\n",
       "      <td>63x no go</td>\n",
       "      <td>T301x</td>\n",
       "      <td>P8S4_170901_354_A01</td>\n",
       "      <td>No-Seal</td>\n",
       "      <td>0.0</td>\n",
       "      <td>P8S4_170901_354_A01</td>\n",
       "      <td>9.46666667</td>\n",
       "      <td>0.8</td>\n",
       "      <td>NaN</td>\n",
       "    </tr>\n",
       "    <tr>\n",
       "      <th>170901</th>\n",
       "      <td>P8S4_170901_352_A01</td>\n",
       "      <td>63x no go</td>\n",
       "      <td>T301x</td>\n",
       "      <td>P8S4_170901_352_A01</td>\n",
       "      <td>Nucleated</td>\n",
       "      <td>0.0</td>\n",
       "      <td>P8S4_170901_352_A01</td>\n",
       "      <td>11.3166667</td>\n",
       "      <td>1.7</td>\n",
       "      <td>NaN</td>\n",
       "    </tr>\n",
       "    <tr>\n",
       "      <th>170901</th>\n",
       "      <td>P2S4_170901_051_A01</td>\n",
       "      <td>63x go</td>\n",
       "      <td>T301x</td>\n",
       "      <td>P2S4_170901_051_A01</td>\n",
       "      <td>Nucleated</td>\n",
       "      <td>0.0</td>\n",
       "      <td>P2S4_170901_051_A01</td>\n",
       "      <td>9.96666667</td>\n",
       "      <td>0.85</td>\n",
       "      <td>NaN</td>\n",
       "    </tr>\n",
       "    <tr>\n",
       "      <th>170901</th>\n",
       "      <td>P8S4_170901_353_A01</td>\n",
       "      <td>63x no go</td>\n",
       "      <td>T301x</td>\n",
       "      <td>P8S4_170901_353_A01</td>\n",
       "      <td>No-Seal</td>\n",
       "      <td>0.0</td>\n",
       "      <td>P8S4_170901_353_A01</td>\n",
       "      <td>10.1</td>\n",
       "      <td>0.2</td>\n",
       "      <td>NaN</td>\n",
       "    </tr>\n",
       "    <tr>\n",
       "      <th>170901</th>\n",
       "      <td>P2S4_170901_054_A01</td>\n",
       "      <td>63x go</td>\n",
       "      <td>T301x</td>\n",
       "      <td>P2S4_170901_054_A01</td>\n",
       "      <td>Partial-Nucleus</td>\n",
       "      <td>0.0</td>\n",
       "      <td>P2S4_170901_054_A01</td>\n",
       "      <td>12.2</td>\n",
       "      <td>1.03333333</td>\n",
       "      <td>NaN</td>\n",
       "    </tr>\n",
       "  </tbody>\n",
       "</table>\n",
       "</div>"
      ],
      "text/plain": [
       "       patched_cell_container ims63x_go_no_go project       anno.sample_id  \\\n",
       "Date                                                                         \n",
       "170901    P8S4_170901_354_A01       63x no go   T301x  P8S4_170901_354_A01   \n",
       "170901    P8S4_170901_352_A01       63x no go   T301x  P8S4_170901_352_A01   \n",
       "170901    P2S4_170901_051_A01          63x go   T301x  P2S4_170901_051_A01   \n",
       "170901    P8S4_170901_353_A01       63x no go   T301x  P8S4_170901_353_A01   \n",
       "170901    P2S4_170901_054_A01          63x go   T301x  P2S4_170901_054_A01   \n",
       "\n",
       "       anno.postPatch_label  anno.endPipetteR_label         Lims tube id  \\\n",
       "Date                                                                       \n",
       "170901              No-Seal                     0.0  P8S4_170901_354_A01   \n",
       "170901            Nucleated                     0.0  P8S4_170901_352_A01   \n",
       "170901            Nucleated                     0.0  P2S4_170901_051_A01   \n",
       "170901              No-Seal                     0.0  P8S4_170901_353_A01   \n",
       "170901      Partial-Nucleus                     0.0  P2S4_170901_054_A01   \n",
       "\n",
       "       patch duration Time spent extracting cytosol  \\\n",
       "Date                                                  \n",
       "170901     9.46666667                           0.8   \n",
       "170901     11.3166667                           1.7   \n",
       "170901     9.96666667                          0.85   \n",
       "170901           10.1                           0.2   \n",
       "170901           12.2                    1.03333333   \n",
       "\n",
       "       Time spent retracting pipette  \n",
       "Date                                  \n",
       "170901                           NaN  \n",
       "170901                           NaN  \n",
       "170901                           NaN  \n",
       "170901                           NaN  \n",
       "170901                           NaN  "
      ]
     },
     "execution_count": 18,
     "metadata": {},
     "output_type": "execute_result"
    }
   ],
   "source": [
    "final_df.head()"
   ]
  },
  {
   "cell_type": "code",
   "execution_count": 19,
   "metadata": {},
   "outputs": [
    {
     "data": {
      "text/html": [
       "<div>\n",
       "<style scoped>\n",
       "    .dataframe tbody tr th:only-of-type {\n",
       "        vertical-align: middle;\n",
       "    }\n",
       "\n",
       "    .dataframe tbody tr th {\n",
       "        vertical-align: top;\n",
       "    }\n",
       "\n",
       "    .dataframe thead th {\n",
       "        text-align: right;\n",
       "    }\n",
       "</style>\n",
       "<table border=\"1\" class=\"dataframe\">\n",
       "  <thead>\n",
       "    <tr style=\"text-align: right;\">\n",
       "      <th></th>\n",
       "      <th>patched_cell_container</th>\n",
       "      <th>ims63x_go_no_go</th>\n",
       "      <th>project</th>\n",
       "      <th>anno.sample_id</th>\n",
       "      <th>anno.postPatch_label</th>\n",
       "      <th>anno.endPipetteR_label</th>\n",
       "      <th>Lims tube id</th>\n",
       "      <th>patch duration</th>\n",
       "      <th>Time spent extracting cytosol</th>\n",
       "      <th>Time spent retracting pipette</th>\n",
       "    </tr>\n",
       "    <tr>\n",
       "      <th>Date</th>\n",
       "      <th></th>\n",
       "      <th></th>\n",
       "      <th></th>\n",
       "      <th></th>\n",
       "      <th></th>\n",
       "      <th></th>\n",
       "      <th></th>\n",
       "      <th></th>\n",
       "      <th></th>\n",
       "      <th></th>\n",
       "    </tr>\n",
       "  </thead>\n",
       "  <tbody>\n",
       "    <tr>\n",
       "      <th>180319</th>\n",
       "      <td>P8S4_180319_353_A01</td>\n",
       "      <td>NaN</td>\n",
       "      <td>mIVSCC-MET</td>\n",
       "      <td>P8S4_180319_353_A01</td>\n",
       "      <td>nucleus_present</td>\n",
       "      <td>500.0</td>\n",
       "      <td>P8S4_180319_353_A01</td>\n",
       "      <td>12.45</td>\n",
       "      <td>1.25</td>\n",
       "      <td>1.7</td>\n",
       "    </tr>\n",
       "    <tr>\n",
       "      <th>180319</th>\n",
       "      <td>PAS4_180319_452_A01</td>\n",
       "      <td>NaN</td>\n",
       "      <td>mIVSCC-MET</td>\n",
       "      <td>PAS4_180319_452_A01</td>\n",
       "      <td>nucleus_present</td>\n",
       "      <td>1600.0</td>\n",
       "      <td>PAS4_180319_452_A01</td>\n",
       "      <td>8.616666667</td>\n",
       "      <td>0.75</td>\n",
       "      <td>1.9</td>\n",
       "    </tr>\n",
       "    <tr>\n",
       "      <th>180319</th>\n",
       "      <td>PBS4_180319_504_A01</td>\n",
       "      <td>NaN</td>\n",
       "      <td>mIVSCC-MET</td>\n",
       "      <td>PBS4_180319_504_A01</td>\n",
       "      <td>nucleus_present</td>\n",
       "      <td>2000.0</td>\n",
       "      <td>PBS4_180319_504_A01</td>\n",
       "      <td>17.76666667</td>\n",
       "      <td>1.05</td>\n",
       "      <td>1.016666667</td>\n",
       "    </tr>\n",
       "    <tr>\n",
       "      <th>180319</th>\n",
       "      <td>P1S4_180319_005_A01</td>\n",
       "      <td>NaN</td>\n",
       "      <td>mIVSCC-MET</td>\n",
       "      <td>P1S4_180319_005_A01</td>\n",
       "      <td>nucleus_present</td>\n",
       "      <td>1000.0</td>\n",
       "      <td>P1S4_180319_005_A01</td>\n",
       "      <td>7.016666667</td>\n",
       "      <td>0.583333333</td>\n",
       "      <td>1.4</td>\n",
       "    </tr>\n",
       "    <tr>\n",
       "      <th>180319</th>\n",
       "      <td>P8S4_180319_352_A01</td>\n",
       "      <td>NaN</td>\n",
       "      <td>mIVSCC-MET</td>\n",
       "      <td>P8S4_180319_352_A01</td>\n",
       "      <td>nucleus_present</td>\n",
       "      <td>2000.0</td>\n",
       "      <td>P8S4_180319_352_A01</td>\n",
       "      <td>7.816666667</td>\n",
       "      <td>0.6</td>\n",
       "      <td>1.6</td>\n",
       "    </tr>\n",
       "  </tbody>\n",
       "</table>\n",
       "</div>"
      ],
      "text/plain": [
       "       patched_cell_container ims63x_go_no_go     project  \\\n",
       "Date                                                        \n",
       "180319    P8S4_180319_353_A01             NaN  mIVSCC-MET   \n",
       "180319    PAS4_180319_452_A01             NaN  mIVSCC-MET   \n",
       "180319    PBS4_180319_504_A01             NaN  mIVSCC-MET   \n",
       "180319    P1S4_180319_005_A01             NaN  mIVSCC-MET   \n",
       "180319    P8S4_180319_352_A01             NaN  mIVSCC-MET   \n",
       "\n",
       "             anno.sample_id anno.postPatch_label  anno.endPipetteR_label  \\\n",
       "Date                                                                       \n",
       "180319  P8S4_180319_353_A01      nucleus_present                   500.0   \n",
       "180319  PAS4_180319_452_A01      nucleus_present                  1600.0   \n",
       "180319  PBS4_180319_504_A01      nucleus_present                  2000.0   \n",
       "180319  P1S4_180319_005_A01      nucleus_present                  1000.0   \n",
       "180319  P8S4_180319_352_A01      nucleus_present                  2000.0   \n",
       "\n",
       "               Lims tube id patch duration Time spent extracting cytosol  \\\n",
       "Date                                                                       \n",
       "180319  P8S4_180319_353_A01          12.45                          1.25   \n",
       "180319  PAS4_180319_452_A01    8.616666667                          0.75   \n",
       "180319  PBS4_180319_504_A01    17.76666667                          1.05   \n",
       "180319  P1S4_180319_005_A01    7.016666667                   0.583333333   \n",
       "180319  P8S4_180319_352_A01    7.816666667                           0.6   \n",
       "\n",
       "       Time spent retracting pipette  \n",
       "Date                                  \n",
       "180319                           1.7  \n",
       "180319                           1.9  \n",
       "180319                   1.016666667  \n",
       "180319                           1.4  \n",
       "180319                           1.6  "
      ]
     },
     "execution_count": 19,
     "metadata": {},
     "output_type": "execute_result"
    }
   ],
   "source": [
    "final_df.tail()"
   ]
  },
  {
   "cell_type": "markdown",
   "metadata": {},
   "source": [
    "##### Renaming Columns"
   ]
  },
  {
   "cell_type": "code",
   "execution_count": 20,
   "metadata": {},
   "outputs": [],
   "source": [
    "final_df.rename(columns = {'ims63x_go_no_go' : 'morph',\n",
    "                           'patch duration' : 'patch_dur', \n",
    "                           'Time spent extracting cytosol' : 'ext_dur',\n",
    "                           'Time spent retracting pipette' : 'ret_dur'}, inplace = True)"
   ]
  },
  {
   "cell_type": "markdown",
   "metadata": {},
   "source": [
    "##### Adding post_patch column to the end of final_df"
   ]
  },
  {
   "cell_type": "code",
   "execution_count": 21,
   "metadata": {},
   "outputs": [
    {
     "name": "stderr",
     "output_type": "stream",
     "text": [
      "C:\\Users\\ramr\\AppData\\Local\\Continuum\\anaconda2\\lib\\site-packages\\ipykernel_launcher.py:39: SettingWithCopyWarning: \n",
      "A value is trying to be set on a copy of a slice from a DataFrame.\n",
      "Try using .loc[row_indexer,col_indexer] = value instead\n",
      "\n",
      "See the caveats in the documentation: http://pandas.pydata.org/pandas-docs/stable/indexing.html#indexing-view-versus-copy\n",
      "C:\\Users\\ramr\\AppData\\Local\\Continuum\\anaconda2\\lib\\site-packages\\ipykernel_launcher.py:41: SettingWithCopyWarning: \n",
      "A value is trying to be set on a copy of a slice from a DataFrame.\n",
      "Try using .loc[row_indexer,col_indexer] = value instead\n",
      "\n",
      "See the caveats in the documentation: http://pandas.pydata.org/pandas-docs/stable/indexing.html#indexing-view-versus-copy\n",
      "C:\\Users\\ramr\\AppData\\Local\\Continuum\\anaconda2\\lib\\site-packages\\ipykernel_launcher.py:43: SettingWithCopyWarning: \n",
      "A value is trying to be set on a copy of a slice from a DataFrame.\n",
      "Try using .loc[row_indexer,col_indexer] = value instead\n",
      "\n",
      "See the caveats in the documentation: http://pandas.pydata.org/pandas-docs/stable/indexing.html#indexing-view-versus-copy\n",
      "C:\\Users\\ramr\\AppData\\Local\\Continuum\\anaconda2\\lib\\site-packages\\ipykernel_launcher.py:45: SettingWithCopyWarning: \n",
      "A value is trying to be set on a copy of a slice from a DataFrame.\n",
      "Try using .loc[row_indexer,col_indexer] = value instead\n",
      "\n",
      "See the caveats in the documentation: http://pandas.pydata.org/pandas-docs/stable/indexing.html#indexing-view-versus-copy\n",
      "C:\\Users\\ramr\\AppData\\Local\\Continuum\\anaconda2\\lib\\site-packages\\ipykernel_launcher.py:47: SettingWithCopyWarning: \n",
      "A value is trying to be set on a copy of a slice from a DataFrame.\n",
      "Try using .loc[row_indexer,col_indexer] = value instead\n",
      "\n",
      "See the caveats in the documentation: http://pandas.pydata.org/pandas-docs/stable/indexing.html#indexing-view-versus-copy\n"
     ]
    },
    {
     "data": {
      "text/html": [
       "<div>\n",
       "<style scoped>\n",
       "    .dataframe tbody tr th:only-of-type {\n",
       "        vertical-align: middle;\n",
       "    }\n",
       "\n",
       "    .dataframe tbody tr th {\n",
       "        vertical-align: top;\n",
       "    }\n",
       "\n",
       "    .dataframe thead th {\n",
       "        text-align: right;\n",
       "    }\n",
       "</style>\n",
       "<table border=\"1\" class=\"dataframe\">\n",
       "  <thead>\n",
       "    <tr style=\"text-align: right;\">\n",
       "      <th></th>\n",
       "      <th>patched_cell_container</th>\n",
       "      <th>morph</th>\n",
       "      <th>project</th>\n",
       "      <th>anno.sample_id</th>\n",
       "      <th>anno.postPatch_label</th>\n",
       "      <th>anno.endPipetteR_label</th>\n",
       "      <th>Lims tube id</th>\n",
       "      <th>patch_dur</th>\n",
       "      <th>ext_dur</th>\n",
       "      <th>ret_dur</th>\n",
       "      <th>post_patch</th>\n",
       "    </tr>\n",
       "    <tr>\n",
       "      <th>Date</th>\n",
       "      <th></th>\n",
       "      <th></th>\n",
       "      <th></th>\n",
       "      <th></th>\n",
       "      <th></th>\n",
       "      <th></th>\n",
       "      <th></th>\n",
       "      <th></th>\n",
       "      <th></th>\n",
       "      <th></th>\n",
       "      <th></th>\n",
       "    </tr>\n",
       "  </thead>\n",
       "  <tbody>\n",
       "    <tr>\n",
       "      <th>180205</th>\n",
       "      <td>P1S4_180205_003_A01</td>\n",
       "      <td>63x no go</td>\n",
       "      <td>mIVSCC-MET</td>\n",
       "      <td>P1S4_180205_003_A01</td>\n",
       "      <td>entire_cell</td>\n",
       "      <td>5.0</td>\n",
       "      <td>P1S4_180205_003_A01</td>\n",
       "      <td>5.983333333</td>\n",
       "      <td>0.566666667</td>\n",
       "      <td>1.216666667</td>\n",
       "      <td>Entire cell</td>\n",
       "    </tr>\n",
       "    <tr>\n",
       "      <th>180207</th>\n",
       "      <td>P1S4_180207_003_A01</td>\n",
       "      <td>63x no go</td>\n",
       "      <td>mIVSCC-MET</td>\n",
       "      <td>P1S4_180207_003_A01</td>\n",
       "      <td>entire_cell</td>\n",
       "      <td>3.0</td>\n",
       "      <td>P1S4_180207_003_A01</td>\n",
       "      <td>4.816666667</td>\n",
       "      <td>0.433333333</td>\n",
       "      <td>0.933333333</td>\n",
       "      <td>Entire cell</td>\n",
       "    </tr>\n",
       "    <tr>\n",
       "      <th>180220</th>\n",
       "      <td>PAS4_180220_451_A01</td>\n",
       "      <td>63x no go</td>\n",
       "      <td>mIVSCC-MET</td>\n",
       "      <td>PAS4_180220_451_A01</td>\n",
       "      <td>entire_cell</td>\n",
       "      <td>5.7</td>\n",
       "      <td>PAS4_180220_451_A01</td>\n",
       "      <td>8.633333333</td>\n",
       "      <td>1.6</td>\n",
       "      <td>0.533333333</td>\n",
       "      <td>Entire cell</td>\n",
       "    </tr>\n",
       "    <tr>\n",
       "      <th>180226</th>\n",
       "      <td>PAS4_180226_451_A01</td>\n",
       "      <td>NaN</td>\n",
       "      <td>mIVSCC-MET</td>\n",
       "      <td>PAS4_180226_451_A01</td>\n",
       "      <td>entire_cell</td>\n",
       "      <td>7.3</td>\n",
       "      <td>PAS4_180226_451_A01</td>\n",
       "      <td>9.466666667</td>\n",
       "      <td>1.1</td>\n",
       "      <td>3.283333333</td>\n",
       "      <td>Entire cell</td>\n",
       "    </tr>\n",
       "    <tr>\n",
       "      <th>180313</th>\n",
       "      <td>PBS4_180313_503_A01</td>\n",
       "      <td>NaN</td>\n",
       "      <td>mIVSCC-MET</td>\n",
       "      <td>PBS4_180313_503_A01</td>\n",
       "      <td>entire_cell</td>\n",
       "      <td>100.0</td>\n",
       "      <td>PBS4_180313_503_A01</td>\n",
       "      <td>20.16666667</td>\n",
       "      <td>0.016666667</td>\n",
       "      <td>0</td>\n",
       "      <td>Entire cell</td>\n",
       "    </tr>\n",
       "  </tbody>\n",
       "</table>\n",
       "</div>"
      ],
      "text/plain": [
       "       patched_cell_container      morph     project       anno.sample_id  \\\n",
       "Date                                                                        \n",
       "180205    P1S4_180205_003_A01  63x no go  mIVSCC-MET  P1S4_180205_003_A01   \n",
       "180207    P1S4_180207_003_A01  63x no go  mIVSCC-MET  P1S4_180207_003_A01   \n",
       "180220    PAS4_180220_451_A01  63x no go  mIVSCC-MET  PAS4_180220_451_A01   \n",
       "180226    PAS4_180226_451_A01        NaN  mIVSCC-MET  PAS4_180226_451_A01   \n",
       "180313    PBS4_180313_503_A01        NaN  mIVSCC-MET  PBS4_180313_503_A01   \n",
       "\n",
       "       anno.postPatch_label  anno.endPipetteR_label         Lims tube id  \\\n",
       "Date                                                                       \n",
       "180205          entire_cell                     5.0  P1S4_180205_003_A01   \n",
       "180207          entire_cell                     3.0  P1S4_180207_003_A01   \n",
       "180220          entire_cell                     5.7  PAS4_180220_451_A01   \n",
       "180226          entire_cell                     7.3  PAS4_180226_451_A01   \n",
       "180313          entire_cell                   100.0  PBS4_180313_503_A01   \n",
       "\n",
       "          patch_dur      ext_dur      ret_dur   post_patch  \n",
       "Date                                                        \n",
       "180205  5.983333333  0.566666667  1.216666667  Entire cell  \n",
       "180207  4.816666667  0.433333333  0.933333333  Entire cell  \n",
       "180220  8.633333333          1.6  0.533333333  Entire cell  \n",
       "180226  9.466666667          1.1  3.283333333  Entire cell  \n",
       "180313  20.16666667  0.016666667            0  Entire cell  "
      ]
     },
     "execution_count": 21,
     "metadata": {},
     "output_type": "execute_result"
    }
   ],
   "source": [
    "final_df = postpatch_reclass(final_df)\n",
    "final_df.tail()"
   ]
  },
  {
   "cell_type": "markdown",
   "metadata": {},
   "source": [
    "##### Dropping columns "
   ]
  },
  {
   "cell_type": "code",
   "execution_count": 22,
   "metadata": {},
   "outputs": [],
   "source": [
    "final_df.drop(['patched_cell_container', 'project', 'anno.sample_id', 'Lims tube id', 'ext_dur', 'ret_dur'], \n",
    "              axis=1, inplace=True)"
   ]
  },
  {
   "cell_type": "code",
   "execution_count": 23,
   "metadata": {},
   "outputs": [
    {
     "name": "stdout",
     "output_type": "stream",
     "text": [
      "<class 'pandas.core.frame.DataFrame'>\n",
      "Index: 1786 entries, 170901 to 180313\n",
      "Data columns (total 5 columns):\n",
      "morph                     992 non-null object\n",
      "anno.postPatch_label      1786 non-null object\n",
      "anno.endPipetteR_label    1786 non-null float64\n",
      "patch_dur                 1767 non-null object\n",
      "post_patch                1786 non-null object\n",
      "dtypes: float64(1), object(4)\n",
      "memory usage: 83.7+ KB\n"
     ]
    }
   ],
   "source": [
    "final_df.info()"
   ]
  },
  {
   "cell_type": "markdown",
   "metadata": {},
   "source": [
    "##### Filters columns that have NaN"
   ]
  },
  {
   "cell_type": "code",
   "execution_count": 24,
   "metadata": {},
   "outputs": [],
   "source": [
    "final_df.dropna(subset = ['morph'], inplace = True)\n",
    "#'anno.endPipetteR_label', 'patch_dur'"
   ]
  },
  {
   "cell_type": "code",
   "execution_count": 25,
   "metadata": {},
   "outputs": [],
   "source": [
    "#Categorical\n",
    "final_df['morph'] = final_df['morph'].astype('category')\n",
    "final_df['post_patch'] = final_df['post_patch'].astype('category')\n",
    "\n",
    "#Numerical\n",
    "final_df['patch_dur'] = final_df['patch_dur'].astype('float')\n",
    "#final_df['ext_dur'] = final_df['ext_dur'].astype('float')\n",
    "#final_df['ret_dur'] = final_df['ret_dur'].astype('float')\n",
    "#final_df['anno.endPipetteR_label'] = final_df['anno.endPipetteR_label'].astype('float')"
   ]
  },
  {
   "cell_type": "markdown",
   "metadata": {},
   "source": [
    "##### Date Range for final_df"
   ]
  },
  {
   "cell_type": "code",
   "execution_count": 26,
   "metadata": {},
   "outputs": [],
   "source": [
    "final_df.sort_index(inplace = True) "
   ]
  },
  {
   "cell_type": "code",
   "execution_count": 27,
   "metadata": {},
   "outputs": [
    {
     "data": {
      "text/html": [
       "<div>\n",
       "<style scoped>\n",
       "    .dataframe tbody tr th:only-of-type {\n",
       "        vertical-align: middle;\n",
       "    }\n",
       "\n",
       "    .dataframe tbody tr th {\n",
       "        vertical-align: top;\n",
       "    }\n",
       "\n",
       "    .dataframe thead th {\n",
       "        text-align: right;\n",
       "    }\n",
       "</style>\n",
       "<table border=\"1\" class=\"dataframe\">\n",
       "  <thead>\n",
       "    <tr style=\"text-align: right;\">\n",
       "      <th></th>\n",
       "      <th>morph</th>\n",
       "      <th>anno.postPatch_label</th>\n",
       "      <th>anno.endPipetteR_label</th>\n",
       "      <th>patch_dur</th>\n",
       "      <th>post_patch</th>\n",
       "    </tr>\n",
       "    <tr>\n",
       "      <th>Date</th>\n",
       "      <th></th>\n",
       "      <th></th>\n",
       "      <th></th>\n",
       "      <th></th>\n",
       "      <th></th>\n",
       "    </tr>\n",
       "  </thead>\n",
       "  <tbody>\n",
       "    <tr>\n",
       "      <th>170901</th>\n",
       "      <td>63x no go</td>\n",
       "      <td>Nucleated</td>\n",
       "      <td>0.0</td>\n",
       "      <td>11.316667</td>\n",
       "      <td>Nuc-high seal</td>\n",
       "    </tr>\n",
       "    <tr>\n",
       "      <th>170901</th>\n",
       "      <td>63x go</td>\n",
       "      <td>No-Seal</td>\n",
       "      <td>0.0</td>\n",
       "      <td>9.866667</td>\n",
       "      <td>No-low seal</td>\n",
       "    </tr>\n",
       "    <tr>\n",
       "      <th>170901</th>\n",
       "      <td>63x no go</td>\n",
       "      <td>No-Seal</td>\n",
       "      <td>0.0</td>\n",
       "      <td>11.600000</td>\n",
       "      <td>No-low seal</td>\n",
       "    </tr>\n",
       "    <tr>\n",
       "      <th>170901</th>\n",
       "      <td>63x go</td>\n",
       "      <td>Partial-Nucleus</td>\n",
       "      <td>0.0</td>\n",
       "      <td>12.200000</td>\n",
       "      <td>Nuc-low seal</td>\n",
       "    </tr>\n",
       "    <tr>\n",
       "      <th>170901</th>\n",
       "      <td>63x no go</td>\n",
       "      <td>No-Seal</td>\n",
       "      <td>0.0</td>\n",
       "      <td>10.100000</td>\n",
       "      <td>No-low seal</td>\n",
       "    </tr>\n",
       "  </tbody>\n",
       "</table>\n",
       "</div>"
      ],
      "text/plain": [
       "            morph anno.postPatch_label  anno.endPipetteR_label  patch_dur  \\\n",
       "Date                                                                        \n",
       "170901  63x no go            Nucleated                     0.0  11.316667   \n",
       "170901     63x go              No-Seal                     0.0   9.866667   \n",
       "170901  63x no go              No-Seal                     0.0  11.600000   \n",
       "170901     63x go      Partial-Nucleus                     0.0  12.200000   \n",
       "170901  63x no go              No-Seal                     0.0  10.100000   \n",
       "\n",
       "           post_patch  \n",
       "Date                   \n",
       "170901  Nuc-high seal  \n",
       "170901    No-low seal  \n",
       "170901    No-low seal  \n",
       "170901   Nuc-low seal  \n",
       "170901    No-low seal  "
      ]
     },
     "execution_count": 27,
     "metadata": {},
     "output_type": "execute_result"
    }
   ],
   "source": [
    "final_df.head()"
   ]
  },
  {
   "cell_type": "code",
   "execution_count": 28,
   "metadata": {},
   "outputs": [
    {
     "data": {
      "text/html": [
       "<div>\n",
       "<style scoped>\n",
       "    .dataframe tbody tr th:only-of-type {\n",
       "        vertical-align: middle;\n",
       "    }\n",
       "\n",
       "    .dataframe tbody tr th {\n",
       "        vertical-align: top;\n",
       "    }\n",
       "\n",
       "    .dataframe thead th {\n",
       "        text-align: right;\n",
       "    }\n",
       "</style>\n",
       "<table border=\"1\" class=\"dataframe\">\n",
       "  <thead>\n",
       "    <tr style=\"text-align: right;\">\n",
       "      <th></th>\n",
       "      <th>morph</th>\n",
       "      <th>anno.postPatch_label</th>\n",
       "      <th>anno.endPipetteR_label</th>\n",
       "      <th>patch_dur</th>\n",
       "      <th>post_patch</th>\n",
       "    </tr>\n",
       "    <tr>\n",
       "      <th>Date</th>\n",
       "      <th></th>\n",
       "      <th></th>\n",
       "      <th></th>\n",
       "      <th></th>\n",
       "      <th></th>\n",
       "    </tr>\n",
       "  </thead>\n",
       "  <tbody>\n",
       "    <tr>\n",
       "      <th>180305</th>\n",
       "      <td>63x no go</td>\n",
       "      <td>nucleus_present</td>\n",
       "      <td>8.0</td>\n",
       "      <td>18.383333</td>\n",
       "      <td>Nuc-low seal</td>\n",
       "    </tr>\n",
       "    <tr>\n",
       "      <th>180306</th>\n",
       "      <td>63x go</td>\n",
       "      <td>nucleus_present</td>\n",
       "      <td>2500.0</td>\n",
       "      <td>15.550000</td>\n",
       "      <td>Nuc-high seal</td>\n",
       "    </tr>\n",
       "    <tr>\n",
       "      <th>180306</th>\n",
       "      <td>63x go</td>\n",
       "      <td>nucleus_present</td>\n",
       "      <td>2000.0</td>\n",
       "      <td>9.933333</td>\n",
       "      <td>Nuc-high seal</td>\n",
       "    </tr>\n",
       "    <tr>\n",
       "      <th>180306</th>\n",
       "      <td>63x no go</td>\n",
       "      <td>nucleus_present</td>\n",
       "      <td>1500.0</td>\n",
       "      <td>8.850000</td>\n",
       "      <td>Nuc-high seal</td>\n",
       "    </tr>\n",
       "    <tr>\n",
       "      <th>180306</th>\n",
       "      <td>63x no go</td>\n",
       "      <td>nucleus_present</td>\n",
       "      <td>4.0</td>\n",
       "      <td>20.433333</td>\n",
       "      <td>Nuc-low seal</td>\n",
       "    </tr>\n",
       "  </tbody>\n",
       "</table>\n",
       "</div>"
      ],
      "text/plain": [
       "            morph anno.postPatch_label  anno.endPipetteR_label  patch_dur  \\\n",
       "Date                                                                        \n",
       "180305  63x no go      nucleus_present                     8.0  18.383333   \n",
       "180306     63x go      nucleus_present                  2500.0  15.550000   \n",
       "180306     63x go      nucleus_present                  2000.0   9.933333   \n",
       "180306  63x no go      nucleus_present                  1500.0   8.850000   \n",
       "180306  63x no go      nucleus_present                     4.0  20.433333   \n",
       "\n",
       "           post_patch  \n",
       "Date                   \n",
       "180305   Nuc-low seal  \n",
       "180306  Nuc-high seal  \n",
       "180306  Nuc-high seal  \n",
       "180306  Nuc-high seal  \n",
       "180306   Nuc-low seal  "
      ]
     },
     "execution_count": 28,
     "metadata": {},
     "output_type": "execute_result"
    }
   ],
   "source": [
    "final_df.tail()"
   ]
  },
  {
   "cell_type": "markdown",
   "metadata": {},
   "source": [
    "##### Info"
   ]
  },
  {
   "cell_type": "code",
   "execution_count": 29,
   "metadata": {},
   "outputs": [
    {
     "name": "stdout",
     "output_type": "stream",
     "text": [
      "<class 'pandas.core.frame.DataFrame'>\n",
      "Index: 992 entries, 170901 to 180306\n",
      "Data columns (total 5 columns):\n",
      "morph                     992 non-null category\n",
      "anno.postPatch_label      992 non-null object\n",
      "anno.endPipetteR_label    992 non-null float64\n",
      "patch_dur                 976 non-null float64\n",
      "post_patch                992 non-null category\n",
      "dtypes: category(2), float64(2), object(1)\n",
      "memory usage: 33.2+ KB\n"
     ]
    }
   ],
   "source": [
    "final_df.info()"
   ]
  },
  {
   "cell_type": "markdown",
   "metadata": {},
   "source": [
    "##### Box Plot of Patch Duration vs Morphology(63x)"
   ]
  },
  {
   "cell_type": "code",
   "execution_count": 30,
   "metadata": {},
   "outputs": [
    {
     "data": {
      "text/plain": [
       "[Text(0,0.5,u'Patch Duration (min)'), Text(0.5,0,u'Morphological Calls(63x)')]"
      ]
     },
     "execution_count": 30,
     "metadata": {},
     "output_type": "execute_result"
    },
    {
     "data": {
      "image/png": "[encoded data removed]",
      "text/plain": [
       "<matplotlib.figure.Figure at 0x1aeeca20>"
      ]
     },
     "metadata": {},
     "output_type": "display_data"
    }
   ],
   "source": [
    "plt.subplots(figsize=(6,6)) #Has to before the plot to work\n",
    "\n",
    "bp = sns.boxplot(x = 'morph', \n",
    "            y = 'patch_dur', \n",
    "            data = final_df,\n",
    "            order = ['63x no go','63x go'],\n",
    "            palette = ['#de2d26', '#74c476'],\n",
    "            width = 0.65,\n",
    "            saturation = 1,\n",
    "            fliersize = 3)\n",
    "\n",
    "bp.set(ylim=(1, 25))\n",
    "bp.set_title('Patch Duration vs. Morphological Calls(63x)')\n",
    "bp.set(xlabel = 'Morphological Calls(63x)', ylabel = 'Patch Duration (min)')"
   ]
  },
  {
   "cell_type": "markdown",
   "metadata": {},
   "source": [
    "### Box Plot of Patch Duration vs Post Patch Outcomes"
   ]
  },
  {
   "cell_type": "code",
   "execution_count": 31,
   "metadata": {},
   "outputs": [
    {
     "data": {
      "text/plain": [
       "[Text(0,0.5,u'Patch Duration (min)'), Text(0.5,0,u'Post Patch Outcomes')]"
      ]
     },
     "execution_count": 31,
     "metadata": {},
     "output_type": "execute_result"
    },
    {
     "data": {
      "image/png": "[encoded data removed]",
      "text/plain": [
       "<matplotlib.figure.Figure at 0x1aeecac8>"
      ]
     },
     "metadata": {},
     "output_type": "display_data"
    }
   ],
   "source": [
    "plt.subplots(figsize=(10,8)) #Has to before the plot to work\n",
    "\n",
    "bp = sns.boxplot(x = 'post_patch', \n",
    "            y = 'patch_dur', \n",
    "            order = ['Nuc-high seal', 'Nuc-low seal', 'No-high seal', 'No-low seal','Entire cell'],\n",
    "            palette = ['#31a354', '#bae4b3', '#fcae91', '#de2d26', '#6baed6'],\n",
    "            data = final_df,\n",
    "            saturation = 1,\n",
    "            fliersize = 3)\n",
    "\n",
    "bp.set(ylim=(1, 25))\n",
    "\n",
    "bp.set_title('Patch Duration vs. Post Patch Outcomes')\n",
    "bp.set(xlabel = 'Post Patch Outcomes', ylabel = 'Patch Duration (min)')\n",
    "#plt.savefig('Boxplot_PD_vs_PP')"
   ]
  },
  {
   "cell_type": "markdown",
   "metadata": {},
   "source": [
    "### Box Plot of Patch Duration vs Morphological Calls per Post Post Outcomes"
   ]
  },
  {
   "cell_type": "code",
   "execution_count": 32,
   "metadata": {},
   "outputs": [
    {
     "data": {
      "image/png": "[encoded data removed]",
      "text/plain": [
       "<matplotlib.figure.Figure at 0x1eaeca90>"
      ]
     },
     "metadata": {},
     "output_type": "display_data"
    }
   ],
   "source": [
    "plt.subplots(figsize=(12,10)) #Has to be before the plot to work\n",
    "\n",
    "bp = sns.boxplot(x = 'post_patch', \n",
    "            y = 'patch_dur', \n",
    "            hue = 'morph',\n",
    "            order = ['Nuc-high seal', 'Nuc-low seal', 'No-high seal', 'No-low seal','Entire cell'],\n",
    "            hue_order = ['63x no go','63x go'],\n",
    "            data = final_df,\n",
    "            palette = ['#de2d26', '#74c476'],\n",
    "            saturation = 1,\n",
    "            fliersize = 4)\n",
    "\n",
    "bp.legend(loc = 0, \n",
    "          #bbox_to_anchor = (0.95, 1), \n",
    "          frameon = True, \n",
    "          shadow = True,\n",
    "          fontsize = 13)\n",
    "bp.set(ylim=(1, 25))\n",
    "\n",
    "bp.set_title('Patch Duration vs. Morphological Calls by Post Patch Outcomes')\n",
    "bp.set(xlabel = 'Post Patch Outcomes', ylabel = 'Patch Duration (min)')\n",
    "plt.savefig('Boxplot_PD_vs_M_by_PP')"
   ]
  },
  {
   "cell_type": "markdown",
   "metadata": {},
   "source": [
    "##### Info"
   ]
  },
  {
   "cell_type": "code",
   "execution_count": 33,
   "metadata": {},
   "outputs": [
    {
     "name": "stdout",
     "output_type": "stream",
     "text": [
      "<class 'pandas.core.frame.DataFrame'>\n",
      "Index: 992 entries, 170901 to 180306\n",
      "Data columns (total 5 columns):\n",
      "morph                     992 non-null category\n",
      "anno.postPatch_label      992 non-null object\n",
      "anno.endPipetteR_label    992 non-null float64\n",
      "patch_dur                 976 non-null float64\n",
      "post_patch                992 non-null category\n",
      "dtypes: category(2), float64(2), object(1)\n",
      "memory usage: 53.2+ KB\n"
     ]
    }
   ],
   "source": [
    "final_df.info()"
   ]
  },
  {
   "cell_type": "markdown",
   "metadata": {},
   "source": [
    "##### Factor Plot of Patch Duration vs Morphological Calls per Post Post Outcomes"
   ]
  },
  {
   "cell_type": "code",
   "execution_count": 34,
   "metadata": {},
   "outputs": [
    {
     "data": {
      "text/plain": [
       "Text(0.5,1,u'Patch Duration vs. Morphological Calls by Post Patch Outcomes')"
      ]
     },
     "execution_count": 34,
     "metadata": {},
     "output_type": "execute_result"
    },
    {
     "data": {
      "image/png": "[encoded data removed]",
      "text/plain": [
       "<matplotlib.figure.Figure at 0x1eaec390>"
      ]
     },
     "metadata": {},
     "output_type": "display_data"
    }
   ],
   "source": [
    "fp = sns.factorplot(\n",
    "    kind = 'box',\n",
    "    x = 'post_patch', \n",
    "    y = 'patch_dur', \n",
    "    hue = 'morph',\n",
    "    order = ['Nuc-high seal', 'Nuc-low seal', 'No-high seal', 'No-low seal','Entire cell'],\n",
    "    hue_order = ['63x no go','63x go'],\n",
    "    data = final_df,\n",
    "    palette = ['#de2d26', '#74c476'],\n",
    "    saturation = 1,\n",
    "    fliersize = 4,\n",
    "    size = 8,\n",
    "    aspect = 1.2,\n",
    "    legend_out = True,\n",
    "    ci = 'sd')\n",
    "\n",
    "fp.set(ylim=(1, 25))\n",
    "\n",
    "fp.set(xlabel = 'Post Patch Outcomes', ylabel = 'Patch Duration (min)')\n",
    "plt.title('Patch Duration vs. Morphological Calls by Post Patch Outcomes')"
   ]
  },
  {
   "cell_type": "markdown",
   "metadata": {},
   "source": [
    "## Extra Plots"
   ]
  },
  {
   "cell_type": "code",
   "execution_count": 35,
   "metadata": {},
   "outputs": [],
   "source": [
    "final_df = final_df.reset_index()"
   ]
  },
  {
   "cell_type": "code",
   "execution_count": 36,
   "metadata": {},
   "outputs": [
    {
     "data": {
      "text/html": [
       "<div>\n",
       "<style scoped>\n",
       "    .dataframe tbody tr th:only-of-type {\n",
       "        vertical-align: middle;\n",
       "    }\n",
       "\n",
       "    .dataframe tbody tr th {\n",
       "        vertical-align: top;\n",
       "    }\n",
       "\n",
       "    .dataframe thead th {\n",
       "        text-align: right;\n",
       "    }\n",
       "</style>\n",
       "<table border=\"1\" class=\"dataframe\">\n",
       "  <thead>\n",
       "    <tr style=\"text-align: right;\">\n",
       "      <th></th>\n",
       "      <th>Date</th>\n",
       "      <th>morph</th>\n",
       "      <th>anno.postPatch_label</th>\n",
       "      <th>anno.endPipetteR_label</th>\n",
       "      <th>patch_dur</th>\n",
       "      <th>post_patch</th>\n",
       "    </tr>\n",
       "  </thead>\n",
       "  <tbody>\n",
       "    <tr>\n",
       "      <th>0</th>\n",
       "      <td>170901</td>\n",
       "      <td>63x no go</td>\n",
       "      <td>Nucleated</td>\n",
       "      <td>0.0</td>\n",
       "      <td>11.316667</td>\n",
       "      <td>Nuc-high seal</td>\n",
       "    </tr>\n",
       "    <tr>\n",
       "      <th>1</th>\n",
       "      <td>170901</td>\n",
       "      <td>63x go</td>\n",
       "      <td>No-Seal</td>\n",
       "      <td>0.0</td>\n",
       "      <td>9.866667</td>\n",
       "      <td>No-low seal</td>\n",
       "    </tr>\n",
       "    <tr>\n",
       "      <th>2</th>\n",
       "      <td>170901</td>\n",
       "      <td>63x no go</td>\n",
       "      <td>No-Seal</td>\n",
       "      <td>0.0</td>\n",
       "      <td>11.600000</td>\n",
       "      <td>No-low seal</td>\n",
       "    </tr>\n",
       "    <tr>\n",
       "      <th>3</th>\n",
       "      <td>170901</td>\n",
       "      <td>63x go</td>\n",
       "      <td>Partial-Nucleus</td>\n",
       "      <td>0.0</td>\n",
       "      <td>12.200000</td>\n",
       "      <td>Nuc-low seal</td>\n",
       "    </tr>\n",
       "    <tr>\n",
       "      <th>4</th>\n",
       "      <td>170901</td>\n",
       "      <td>63x no go</td>\n",
       "      <td>No-Seal</td>\n",
       "      <td>0.0</td>\n",
       "      <td>10.100000</td>\n",
       "      <td>No-low seal</td>\n",
       "    </tr>\n",
       "  </tbody>\n",
       "</table>\n",
       "</div>"
      ],
      "text/plain": [
       "     Date      morph anno.postPatch_label  anno.endPipetteR_label  patch_dur  \\\n",
       "0  170901  63x no go            Nucleated                     0.0  11.316667   \n",
       "1  170901     63x go              No-Seal                     0.0   9.866667   \n",
       "2  170901  63x no go              No-Seal                     0.0  11.600000   \n",
       "3  170901     63x go      Partial-Nucleus                     0.0  12.200000   \n",
       "4  170901  63x no go              No-Seal                     0.0  10.100000   \n",
       "\n",
       "      post_patch  \n",
       "0  Nuc-high seal  \n",
       "1    No-low seal  \n",
       "2    No-low seal  \n",
       "3   Nuc-low seal  \n",
       "4    No-low seal  "
      ]
     },
     "execution_count": 36,
     "metadata": {},
     "output_type": "execute_result"
    }
   ],
   "source": [
    "final_df.head()"
   ]
  },
  {
   "cell_type": "code",
   "execution_count": 37,
   "metadata": {},
   "outputs": [
    {
     "data": {
      "text/plain": [
       "[<matplotlib.lines.Line2D at 0x1ef84240>]"
      ]
     },
     "execution_count": 37,
     "metadata": {},
     "output_type": "execute_result"
    },
    {
     "data": {
      "image/png": "[encoded data removed]",
      "text/plain": [
       "<matplotlib.figure.Figure at 0x1ae27898>"
      ]
     },
     "metadata": {},
     "output_type": "display_data"
    }
   ],
   "source": [
    "plt.plot_date(final_df['Date'], final_df['patch_dur'])"
   ]
  },
  {
   "cell_type": "code",
   "execution_count": 38,
   "metadata": {},
   "outputs": [],
   "source": [
    "#Changing Date Format\n",
    "final_df['Date'] = pd.to_datetime(final_df['Date'], format = \"%y%m%d\", errors = \"coerce\")"
   ]
  },
  {
   "cell_type": "code",
   "execution_count": 39,
   "metadata": {},
   "outputs": [
    {
     "data": {
      "text/html": [
       "<div>\n",
       "<style scoped>\n",
       "    .dataframe tbody tr th:only-of-type {\n",
       "        vertical-align: middle;\n",
       "    }\n",
       "\n",
       "    .dataframe tbody tr th {\n",
       "        vertical-align: top;\n",
       "    }\n",
       "\n",
       "    .dataframe thead th {\n",
       "        text-align: right;\n",
       "    }\n",
       "</style>\n",
       "<table border=\"1\" class=\"dataframe\">\n",
       "  <thead>\n",
       "    <tr style=\"text-align: right;\">\n",
       "      <th></th>\n",
       "      <th>Date</th>\n",
       "      <th>morph</th>\n",
       "      <th>anno.postPatch_label</th>\n",
       "      <th>anno.endPipetteR_label</th>\n",
       "      <th>patch_dur</th>\n",
       "      <th>post_patch</th>\n",
       "    </tr>\n",
       "  </thead>\n",
       "  <tbody>\n",
       "    <tr>\n",
       "      <th>0</th>\n",
       "      <td>2017-09-01</td>\n",
       "      <td>63x no go</td>\n",
       "      <td>Nucleated</td>\n",
       "      <td>0.0</td>\n",
       "      <td>11.316667</td>\n",
       "      <td>Nuc-high seal</td>\n",
       "    </tr>\n",
       "    <tr>\n",
       "      <th>1</th>\n",
       "      <td>2017-09-01</td>\n",
       "      <td>63x go</td>\n",
       "      <td>No-Seal</td>\n",
       "      <td>0.0</td>\n",
       "      <td>9.866667</td>\n",
       "      <td>No-low seal</td>\n",
       "    </tr>\n",
       "    <tr>\n",
       "      <th>2</th>\n",
       "      <td>2017-09-01</td>\n",
       "      <td>63x no go</td>\n",
       "      <td>No-Seal</td>\n",
       "      <td>0.0</td>\n",
       "      <td>11.600000</td>\n",
       "      <td>No-low seal</td>\n",
       "    </tr>\n",
       "    <tr>\n",
       "      <th>3</th>\n",
       "      <td>2017-09-01</td>\n",
       "      <td>63x go</td>\n",
       "      <td>Partial-Nucleus</td>\n",
       "      <td>0.0</td>\n",
       "      <td>12.200000</td>\n",
       "      <td>Nuc-low seal</td>\n",
       "    </tr>\n",
       "    <tr>\n",
       "      <th>4</th>\n",
       "      <td>2017-09-01</td>\n",
       "      <td>63x no go</td>\n",
       "      <td>No-Seal</td>\n",
       "      <td>0.0</td>\n",
       "      <td>10.100000</td>\n",
       "      <td>No-low seal</td>\n",
       "    </tr>\n",
       "  </tbody>\n",
       "</table>\n",
       "</div>"
      ],
      "text/plain": [
       "        Date      morph anno.postPatch_label  anno.endPipetteR_label  \\\n",
       "0 2017-09-01  63x no go            Nucleated                     0.0   \n",
       "1 2017-09-01     63x go              No-Seal                     0.0   \n",
       "2 2017-09-01  63x no go              No-Seal                     0.0   \n",
       "3 2017-09-01     63x go      Partial-Nucleus                     0.0   \n",
       "4 2017-09-01  63x no go              No-Seal                     0.0   \n",
       "\n",
       "   patch_dur     post_patch  \n",
       "0  11.316667  Nuc-high seal  \n",
       "1   9.866667    No-low seal  \n",
       "2  11.600000    No-low seal  \n",
       "3  12.200000   Nuc-low seal  \n",
       "4  10.100000    No-low seal  "
      ]
     },
     "execution_count": 39,
     "metadata": {},
     "output_type": "execute_result"
    }
   ],
   "source": [
    "final_df.head()"
   ]
  },
  {
   "cell_type": "code",
   "execution_count": 40,
   "metadata": {},
   "outputs": [
    {
     "data": {
      "text/plain": [
       "[<matplotlib.lines.Line2D at 0x1f5d0ef0>]"
      ]
     },
     "execution_count": 40,
     "metadata": {},
     "output_type": "execute_result"
    },
    {
     "data": {
      "image/png": "[encoded data removed]",
      "text/plain": [
       "<matplotlib.figure.Figure at 0x1f345cf8>"
      ]
     },
     "metadata": {},
     "output_type": "display_data"
    }
   ],
   "source": [
    "plt.plot_date(x = final_df['Date'], \n",
    "              y = final_df['patch_dur'])"
   ]
  },
  {
   "cell_type": "code",
   "execution_count": 41,
   "metadata": {},
   "outputs": [
    {
     "data": {
      "text/plain": [
       "[<matplotlib.lines.Line2D at 0x1f615e48>]"
      ]
     },
     "execution_count": 41,
     "metadata": {},
     "output_type": "execute_result"
    },
    {
     "data": {
      "image/png": "[encoded data removed]",
      "text/plain": [
       "<matplotlib.figure.Figure at 0x1f32e2e8>"
      ]
     },
     "metadata": {},
     "output_type": "display_data"
    }
   ],
   "source": [
    "plt.plot_date(x = final_df['Date'], \n",
    "              y = final_df['patch_dur'])"
   ]
  },
  {
   "cell_type": "code",
   "execution_count": 42,
   "metadata": {},
   "outputs": [
    {
     "data": {
      "text/plain": [
       "<matplotlib.axes._subplots.AxesSubplot at 0x1f623208>"
      ]
     },
     "execution_count": 42,
     "metadata": {},
     "output_type": "execute_result"
    },
    {
     "data": {
      "image/png": "[encoded data removed]",
      "text/plain": [
       "<matplotlib.figure.Figure at 0x1f6dc630>"
      ]
     },
     "metadata": {},
     "output_type": "display_data"
    }
   ],
   "source": [
    "sns.stripplot(x = 'Date',\n",
    "              y = 'patch_dur',\n",
    "              data = final_df)"
   ]
  },
  {
   "cell_type": "code",
   "execution_count": null,
   "metadata": {},
   "outputs": [],
   "source": []
  }
 ],
 "metadata": {
  "kernelspec": {
   "display_name": "Python 2",
   "language": "python",
   "name": "python2"
  },
  "language_info": {
   "codemirror_mode": {
    "name": "ipython",
    "version": 2
   },
   "file_extension": ".py",
   "mimetype": "text/x-python",
   "name": "python",
   "nbconvert_exporter": "python",
   "pygments_lexer": "ipython2",
   "version": "2.7.14"
  }
 },
 "nbformat": 4,
 "nbformat_minor": 2
}
